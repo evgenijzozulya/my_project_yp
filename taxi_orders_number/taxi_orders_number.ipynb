{
 "cells": [
  {
   "cell_type": "markdown",
   "metadata": {
    "toc": true
   },
   "source": [
    "<h1>Содержание<span class=\"tocSkip\"></span></h1>\n",
    "<div class=\"toc\"><ul class=\"toc-item\"><li><span><a href=\"#Описание-проекта\" data-toc-modified-id=\"Описание-проекта-1\"><span class=\"toc-item-num\">1&nbsp;&nbsp;</span>Описание проекта</a></span></li><li><span><a href=\"#Подготовка\" data-toc-modified-id=\"Подготовка-2\"><span class=\"toc-item-num\">2&nbsp;&nbsp;</span>Подготовка</a></span></li><li><span><a href=\"#Анализ\" data-toc-modified-id=\"Анализ-3\"><span class=\"toc-item-num\">3&nbsp;&nbsp;</span>Анализ</a></span><ul class=\"toc-item\"><li><span><a href=\"#Вывод\" data-toc-modified-id=\"Вывод-3.1\"><span class=\"toc-item-num\">3.1&nbsp;&nbsp;</span>Вывод</a></span></li></ul></li><li><span><a href=\"#Обучение\" data-toc-modified-id=\"Обучение-4\"><span class=\"toc-item-num\">4&nbsp;&nbsp;</span>Обучение</a></span><ul class=\"toc-item\"><li><span><a href=\"#DecisionTreeRegressor\" data-toc-modified-id=\"DecisionTreeRegressor-4.1\"><span class=\"toc-item-num\">4.1&nbsp;&nbsp;</span>DecisionTreeRegressor</a></span></li><li><span><a href=\"#RandomForestRegressor\" data-toc-modified-id=\"RandomForestRegressor-4.2\"><span class=\"toc-item-num\">4.2&nbsp;&nbsp;</span>RandomForestRegressor</a></span></li><li><span><a href=\"#CatBoostRegressor\" data-toc-modified-id=\"CatBoostRegressor-4.3\"><span class=\"toc-item-num\">4.3&nbsp;&nbsp;</span>CatBoostRegressor</a></span></li><li><span><a href=\"#Вывод\" data-toc-modified-id=\"Вывод-4.4\"><span class=\"toc-item-num\">4.4&nbsp;&nbsp;</span>Вывод</a></span></li></ul></li><li><span><a href=\"#Тестирование\" data-toc-modified-id=\"Тестирование-5\"><span class=\"toc-item-num\">5&nbsp;&nbsp;</span>Тестирование</a></span><ul class=\"toc-item\"><li><span><a href=\"#Вывод\" data-toc-modified-id=\"Вывод-5.1\"><span class=\"toc-item-num\">5.1&nbsp;&nbsp;</span>Вывод</a></span></li></ul></li></ul></div>"
   ]
  },
  {
   "cell_type": "markdown",
   "metadata": {},
   "source": [
    "#  Прогнозирование заказов такси"
   ]
  },
  {
   "cell_type": "markdown",
   "metadata": {},
   "source": [
    "## Описание проекта "
   ]
  },
  {
   "cell_type": "markdown",
   "metadata": {},
   "source": [
    "**Заказчик**\n",
    "\n",
    "Компания «Чётенькое такси».\n",
    "\n",
    "**Задача**\n",
    "\n",
    "Нужно построить модель, которая спрогнозирует количество заказов такси на следующий час.\n",
    "Значение метрики *RMSE* на тестовой выборке должно быть не больше 48.\n",
    "\n",
    "**Данные**\n",
    "\n",
    "Исторические данные о заказах такси в аэропортах."
   ]
  },
  {
   "cell_type": "markdown",
   "metadata": {},
   "source": [
    "## Подготовка"
   ]
  },
  {
   "cell_type": "code",
   "execution_count": 1,
   "metadata": {},
   "outputs": [],
   "source": [
    "# Загружаем бибилотеки.\n",
    "import pandas as pd\n",
    "from sklearn.model_selection import train_test_split\n",
    "from sklearn.tree import DecisionTreeRegressor\n",
    "from sklearn.ensemble import RandomForestRegressor\n",
    "from sklearn.metrics import mean_squared_error\n",
    "from sklearn.model_selection import GridSearchCV\n",
    "from catboost import CatBoostRegressor\n",
    "import matplotlib.pyplot as plt \n",
    "import matplotlib.ticker as ticker\n",
    "import seaborn as sns\n",
    "from statsmodels.tsa.seasonal import seasonal_decompose\n",
    "from sklearn.model_selection import TimeSeriesSplit"
   ]
  },
  {
   "cell_type": "code",
   "execution_count": 2,
   "metadata": {},
   "outputs": [],
   "source": [
    "# Сохраняем путь к файлу на сервере Практикума.\n",
    "server_path = '/datasets/taxi.csv' \n",
    "\n",
    "\n",
    "# Сохраняем путь к файлу на компьютере.\n",
    "local_path = 'datasets/taxi.csv'   \n",
    "\n",
    "try:                                                   # Пробуем найти данные по сетевому адресу,\n",
    "    df = pd.read_csv(server_path) \n",
    "except:                                                # если не находим по сетевому, ищем по локальному.\n",
    "    df = pd.read_csv(local_path) "
   ]
  },
  {
   "cell_type": "code",
   "execution_count": 3,
   "metadata": {},
   "outputs": [
    {
     "name": "stdout",
     "output_type": "stream",
     "text": [
      "<class 'pandas.core.frame.DataFrame'>\n",
      "RangeIndex: 26496 entries, 0 to 26495\n",
      "Data columns (total 2 columns):\n",
      " #   Column      Non-Null Count  Dtype \n",
      "---  ------      --------------  ----- \n",
      " 0   datetime    26496 non-null  object\n",
      " 1   num_orders  26496 non-null  int64 \n",
      "dtypes: int64(1), object(1)\n",
      "memory usage: 414.1+ KB\n"
     ]
    }
   ],
   "source": [
    "df.info()"
   ]
  },
  {
   "cell_type": "code",
   "execution_count": 4,
   "metadata": {},
   "outputs": [
    {
     "data": {
      "text/html": [
       "<div>\n",
       "<style scoped>\n",
       "    .dataframe tbody tr th:only-of-type {\n",
       "        vertical-align: middle;\n",
       "    }\n",
       "\n",
       "    .dataframe tbody tr th {\n",
       "        vertical-align: top;\n",
       "    }\n",
       "\n",
       "    .dataframe thead th {\n",
       "        text-align: right;\n",
       "    }\n",
       "</style>\n",
       "<table border=\"1\" class=\"dataframe\">\n",
       "  <thead>\n",
       "    <tr style=\"text-align: right;\">\n",
       "      <th></th>\n",
       "      <th>datetime</th>\n",
       "      <th>num_orders</th>\n",
       "    </tr>\n",
       "  </thead>\n",
       "  <tbody>\n",
       "    <tr>\n",
       "      <th>0</th>\n",
       "      <td>2018-03-01 00:00:00</td>\n",
       "      <td>9</td>\n",
       "    </tr>\n",
       "    <tr>\n",
       "      <th>1</th>\n",
       "      <td>2018-03-01 00:10:00</td>\n",
       "      <td>14</td>\n",
       "    </tr>\n",
       "    <tr>\n",
       "      <th>2</th>\n",
       "      <td>2018-03-01 00:20:00</td>\n",
       "      <td>28</td>\n",
       "    </tr>\n",
       "    <tr>\n",
       "      <th>3</th>\n",
       "      <td>2018-03-01 00:30:00</td>\n",
       "      <td>20</td>\n",
       "    </tr>\n",
       "    <tr>\n",
       "      <th>4</th>\n",
       "      <td>2018-03-01 00:40:00</td>\n",
       "      <td>32</td>\n",
       "    </tr>\n",
       "  </tbody>\n",
       "</table>\n",
       "</div>"
      ],
      "text/plain": [
       "              datetime  num_orders\n",
       "0  2018-03-01 00:00:00           9\n",
       "1  2018-03-01 00:10:00          14\n",
       "2  2018-03-01 00:20:00          28\n",
       "3  2018-03-01 00:30:00          20\n",
       "4  2018-03-01 00:40:00          32"
      ]
     },
     "execution_count": 4,
     "metadata": {},
     "output_type": "execute_result"
    }
   ],
   "source": [
    "# Проверяем данные.\n",
    "df.head()"
   ]
  },
  {
   "cell_type": "code",
   "execution_count": 5,
   "metadata": {},
   "outputs": [
    {
     "name": "stdout",
     "output_type": "stream",
     "text": [
      "True\n"
     ]
    }
   ],
   "source": [
    "# Изменяем тип данных, переобозначаем индексы. \n",
    "df['datetime'] = pd.to_datetime(df['datetime'], format='%Y-%m-%d %H:%M:%S')\n",
    "df = df.set_index('datetime')\n",
    "df.sort_index(inplace=True)\n",
    "print(df.index.is_monotonic)"
   ]
  },
  {
   "cell_type": "code",
   "execution_count": 6,
   "metadata": {},
   "outputs": [
    {
     "data": {
      "text/html": [
       "<div>\n",
       "<style scoped>\n",
       "    .dataframe tbody tr th:only-of-type {\n",
       "        vertical-align: middle;\n",
       "    }\n",
       "\n",
       "    .dataframe tbody tr th {\n",
       "        vertical-align: top;\n",
       "    }\n",
       "\n",
       "    .dataframe thead th {\n",
       "        text-align: right;\n",
       "    }\n",
       "</style>\n",
       "<table border=\"1\" class=\"dataframe\">\n",
       "  <thead>\n",
       "    <tr style=\"text-align: right;\">\n",
       "      <th></th>\n",
       "      <th>num_orders</th>\n",
       "    </tr>\n",
       "    <tr>\n",
       "      <th>datetime</th>\n",
       "      <th></th>\n",
       "    </tr>\n",
       "  </thead>\n",
       "  <tbody>\n",
       "    <tr>\n",
       "      <th>2018-03-01 00:00:00</th>\n",
       "      <td>124</td>\n",
       "    </tr>\n",
       "    <tr>\n",
       "      <th>2018-03-01 01:00:00</th>\n",
       "      <td>85</td>\n",
       "    </tr>\n",
       "    <tr>\n",
       "      <th>2018-03-01 02:00:00</th>\n",
       "      <td>71</td>\n",
       "    </tr>\n",
       "    <tr>\n",
       "      <th>2018-03-01 03:00:00</th>\n",
       "      <td>66</td>\n",
       "    </tr>\n",
       "    <tr>\n",
       "      <th>2018-03-01 04:00:00</th>\n",
       "      <td>43</td>\n",
       "    </tr>\n",
       "  </tbody>\n",
       "</table>\n",
       "</div>"
      ],
      "text/plain": [
       "                     num_orders\n",
       "datetime                       \n",
       "2018-03-01 00:00:00         124\n",
       "2018-03-01 01:00:00          85\n",
       "2018-03-01 02:00:00          71\n",
       "2018-03-01 03:00:00          66\n",
       "2018-03-01 04:00:00          43"
      ]
     },
     "execution_count": 6,
     "metadata": {},
     "output_type": "execute_result"
    }
   ],
   "source": [
    "# Делаем ресемплирование. \n",
    "df = df.resample('1H').sum()\n",
    "df.head()"
   ]
  },
  {
   "cell_type": "code",
   "execution_count": 7,
   "metadata": {},
   "outputs": [
    {
     "name": "stdout",
     "output_type": "stream",
     "text": [
      "<class 'pandas.core.frame.DataFrame'>\n",
      "DatetimeIndex: 4416 entries, 2018-03-01 00:00:00 to 2018-08-31 23:00:00\n",
      "Freq: H\n",
      "Data columns (total 1 columns):\n",
      " #   Column      Non-Null Count  Dtype\n",
      "---  ------      --------------  -----\n",
      " 0   num_orders  4416 non-null   int64\n",
      "dtypes: int64(1)\n",
      "memory usage: 69.0 KB\n"
     ]
    }
   ],
   "source": [
    "df.info()"
   ]
  },
  {
   "cell_type": "markdown",
   "metadata": {},
   "source": [
    "## Анализ"
   ]
  },
  {
   "cell_type": "code",
   "execution_count": 8,
   "metadata": {},
   "outputs": [
    {
     "data": {
      "text/html": [
       "<div>\n",
       "<style scoped>\n",
       "    .dataframe tbody tr th:only-of-type {\n",
       "        vertical-align: middle;\n",
       "    }\n",
       "\n",
       "    .dataframe tbody tr th {\n",
       "        vertical-align: top;\n",
       "    }\n",
       "\n",
       "    .dataframe thead th {\n",
       "        text-align: right;\n",
       "    }\n",
       "</style>\n",
       "<table border=\"1\" class=\"dataframe\">\n",
       "  <thead>\n",
       "    <tr style=\"text-align: right;\">\n",
       "      <th></th>\n",
       "      <th>num_orders</th>\n",
       "    </tr>\n",
       "  </thead>\n",
       "  <tbody>\n",
       "    <tr>\n",
       "      <th>count</th>\n",
       "      <td>4416.000000</td>\n",
       "    </tr>\n",
       "    <tr>\n",
       "      <th>mean</th>\n",
       "      <td>84.422781</td>\n",
       "    </tr>\n",
       "    <tr>\n",
       "      <th>std</th>\n",
       "      <td>45.023853</td>\n",
       "    </tr>\n",
       "    <tr>\n",
       "      <th>min</th>\n",
       "      <td>0.000000</td>\n",
       "    </tr>\n",
       "    <tr>\n",
       "      <th>25%</th>\n",
       "      <td>54.000000</td>\n",
       "    </tr>\n",
       "    <tr>\n",
       "      <th>50%</th>\n",
       "      <td>78.000000</td>\n",
       "    </tr>\n",
       "    <tr>\n",
       "      <th>75%</th>\n",
       "      <td>107.000000</td>\n",
       "    </tr>\n",
       "    <tr>\n",
       "      <th>max</th>\n",
       "      <td>462.000000</td>\n",
       "    </tr>\n",
       "  </tbody>\n",
       "</table>\n",
       "</div>"
      ],
      "text/plain": [
       "        num_orders\n",
       "count  4416.000000\n",
       "mean     84.422781\n",
       "std      45.023853\n",
       "min       0.000000\n",
       "25%      54.000000\n",
       "50%      78.000000\n",
       "75%     107.000000\n",
       "max     462.000000"
      ]
     },
     "execution_count": 8,
     "metadata": {},
     "output_type": "execute_result"
    }
   ],
   "source": [
    "df.describe()"
   ]
  },
  {
   "cell_type": "code",
   "execution_count": 9,
   "metadata": {},
   "outputs": [
    {
     "data": {
      "image/png": "[encoded data removed]",
      "text/plain": [
       "<Figure size 1440x720 with 1 Axes>"
      ]
     },
     "metadata": {
      "needs_background": "light"
     },
     "output_type": "display_data"
    }
   ],
   "source": [
    "# График для анализа стационарности ряда.\n",
    "plt.figure(figsize=(20, 10))\n",
    "plt.plot(df.index, df['num_orders'], alpha=0.5)\n",
    "plt.plot(df.index, df['num_orders'].rolling(24).mean())\n",
    "plt.plot(df.index, df['num_orders'].rolling(24).std())\n",
    "plt.xlabel('Количество')\n",
    "plt.ylabel('Дата')\n",
    "plt.grid(True)\n",
    "plt.title('Анализ стационарности ряда')\n",
    "plt.legend(['Количество_заказов', 'Скользящее среднее', 'Cкользящее стандартное отклонение'])\n",
    "plt.show() "
   ]
  },
  {
   "cell_type": "code",
   "execution_count": 10,
   "metadata": {},
   "outputs": [],
   "source": [
    "decomposed = seasonal_decompose(df)"
   ]
  },
  {
   "cell_type": "code",
   "execution_count": 11,
   "metadata": {},
   "outputs": [
    {
     "data": {
      "image/png": "[encoded data removed]",
      "text/plain": [
       "<Figure size 1440x720 with 2 Axes>"
      ]
     },
     "metadata": {
      "needs_background": "light"
     },
     "output_type": "display_data"
    }
   ],
   "source": [
    "# График для анализа тренда и сезонности.\n",
    "plt.figure(figsize=(20, 10))\n",
    "plt.subplot(311)\n",
    "decomposed.trend.plot(ax=plt.gca())\n",
    "plt.title('Trend')\n",
    "plt.grid(True)\n",
    "plt.subplot(312)\n",
    "decomposed.seasonal['2018-03-01':'2018-03-2'].plot(ax=plt.gca())\n",
    "plt.title('Seasonality')\n",
    "plt.grid(True)\n",
    "plt.tight_layout()"
   ]
  },
  {
   "cell_type": "markdown",
   "metadata": {},
   "source": [
    "### Вывод"
   ]
  },
  {
   "cell_type": "markdown",
   "metadata": {},
   "source": [
    "- Ряд не стационарный;\n",
    "- В летние месяцы особенно к концу августа, возвращение из отпусков к началу учебного голда, среднее сильно возрастает как и колебание дисперсии;\n",
    "- Также наблюдается сезонность в течении дня пик загрузки в 00.00 и спад в 06.00, второй ощутимый пик в районе 17.00."
   ]
  },
  {
   "cell_type": "markdown",
   "metadata": {},
   "source": [
    "## Обучение"
   ]
  },
  {
   "cell_type": "code",
   "execution_count": 12,
   "metadata": {},
   "outputs": [],
   "source": [
    "# Функция для создания признаков, с параметрами data, max_lag, rolling_mean_size, которая:\n",
    "#- добавляет день;\n",
    "#- добавляет номер дня недели;\n",
    "#- добавляет час;\n",
    "#- добавляет отстающие значения;\n",
    "#- добавляет скользящие среднее без учета текущего дня;\n",
    "#- возвращает новый DF.\n",
    "\n",
    "def make_features(data, max_lag, rolling_mean_size):\n",
    "    data_new = data.copy()\n",
    "    data_new['day'] = data.index.day\n",
    "    data_new['dayofweek'] = data.index.dayofweek\n",
    "    data_new['hour'] = data.index.hour\n",
    "    \n",
    "    for lag in range(1, max_lag + 1):\n",
    "        data_new[f'lag_{lag}'] = data_new['num_orders'].shift(lag)\n",
    "\n",
    "    data_new['rolling_mean'] = data_new['num_orders'].shift().rolling(rolling_mean_size).mean()\n",
    "    return data_new"
   ]
  },
  {
   "cell_type": "code",
   "execution_count": 13,
   "metadata": {},
   "outputs": [],
   "source": [
    "# Применяем функцию\n",
    "df_mf = make_features(df, 24, 24)"
   ]
  },
  {
   "cell_type": "code",
   "execution_count": 14,
   "metadata": {},
   "outputs": [],
   "source": [
    "# Разбиваем на выборки на тестовую и тренировочную.\n",
    "train, test = train_test_split(df_mf, shuffle=False, test_size=0.1)\n",
    "train = train.dropna()"
   ]
  },
  {
   "cell_type": "code",
   "execution_count": 15,
   "metadata": {},
   "outputs": [],
   "source": [
    "# Разбиваем на признаки.\n",
    "features_train = train.drop(['num_orders'] , axis=1)\n",
    "features_test = test.drop(['num_orders'] , axis=1)\n",
    "target_train = train['num_orders']\n",
    "target_test = test['num_orders']"
   ]
  },
  {
   "cell_type": "code",
   "execution_count": 16,
   "metadata": {},
   "outputs": [
    {
     "name": "stdout",
     "output_type": "stream",
     "text": [
      "(3950, 28)\n",
      "(3950,)\n",
      "(442, 28)\n",
      "(442,)\n"
     ]
    }
   ],
   "source": [
    "# Проверяем разбиение.\n",
    "print(features_train.shape)\n",
    "print(target_train.shape)\n",
    "print(features_test.shape)\n",
    "print(target_test.shape)"
   ]
  },
  {
   "cell_type": "code",
   "execution_count": 17,
   "metadata": {},
   "outputs": [],
   "source": [
    "cbr_list = ['CBR']\n",
    "dtr_list = ['DTR']\n",
    "rfr_list = ['RFR']"
   ]
  },
  {
   "cell_type": "markdown",
   "metadata": {},
   "source": [
    "### DecisionTreeRegressor"
   ]
  },
  {
   "cell_type": "code",
   "execution_count": 18,
   "metadata": {},
   "outputs": [],
   "source": [
    "# Список параметров.\n",
    "parameters = {'max_depth': [8, 14],\n",
    "             'max_features':[4, 5]}"
   ]
  },
  {
   "cell_type": "code",
   "execution_count": 19,
   "metadata": {},
   "outputs": [],
   "source": [
    "dtr = DecisionTreeRegressor(random_state=12345)"
   ]
  },
  {
   "cell_type": "code",
   "execution_count": 20,
   "metadata": {},
   "outputs": [],
   "source": [
    "# Для ряда кросвалидация не подходим . \n",
    "tscv = TimeSeriesSplit(n_splits=5)"
   ]
  },
  {
   "cell_type": "code",
   "execution_count": 21,
   "metadata": {},
   "outputs": [],
   "source": [
    "#Задаем параметры модели и поиска.\n",
    "dtr_model = GridSearchCV(dtr, parameters, scoring='neg_root_mean_squared_error', cv=tscv, n_jobs=-1) "
   ]
  },
  {
   "cell_type": "code",
   "execution_count": 22,
   "metadata": {},
   "outputs": [
    {
     "name": "stdout",
     "output_type": "stream",
     "text": [
      "CPU times: total: 15.6 ms\n",
      "Wall time: 5.72 s\n"
     ]
    },
    {
     "data": {
      "text/html": [
       "<style>#sk-container-id-1 {color: black;background-color: white;}#sk-container-id-1 pre{padding: 0;}#sk-container-id-1 div.sk-toggleable {background-color: white;}#sk-container-id-1 label.sk-toggleable__label {cursor: pointer;display: block;width: 100%;margin-bottom: 0;padding: 0.3em;box-sizing: border-box;text-align: center;}#sk-container-id-1 label.sk-toggleable__label-arrow:before {content: \"▸\";float: left;margin-right: 0.25em;color: #696969;}#sk-container-id-1 label.sk-toggleable__label-arrow:hover:before {color: black;}#sk-container-id-1 div.sk-estimator:hover label.sk-toggleable__label-arrow:before {color: black;}#sk-container-id-1 div.sk-toggleable__content {max-height: 0;max-width: 0;overflow: hidden;text-align: left;background-color: #f0f8ff;}#sk-container-id-1 div.sk-toggleable__content pre {margin: 0.2em;color: black;border-radius: 0.25em;background-color: #f0f8ff;}#sk-container-id-1 input.sk-toggleable__control:checked~div.sk-toggleable__content {max-height: 200px;max-width: 100%;overflow: auto;}#sk-container-id-1 input.sk-toggleable__control:checked~label.sk-toggleable__label-arrow:before {content: \"▾\";}#sk-container-id-1 div.sk-estimator input.sk-toggleable__control:checked~label.sk-toggleable__label {background-color: #d4ebff;}#sk-container-id-1 div.sk-label input.sk-toggleable__control:checked~label.sk-toggleable__label {background-color: #d4ebff;}#sk-container-id-1 input.sk-hidden--visually {border: 0;clip: rect(1px 1px 1px 1px);clip: rect(1px, 1px, 1px, 1px);height: 1px;margin: -1px;overflow: hidden;padding: 0;position: absolute;width: 1px;}#sk-container-id-1 div.sk-estimator {font-family: monospace;background-color: #f0f8ff;border: 1px dotted black;border-radius: 0.25em;box-sizing: border-box;margin-bottom: 0.5em;}#sk-container-id-1 div.sk-estimator:hover {background-color: #d4ebff;}#sk-container-id-1 div.sk-parallel-item::after {content: \"\";width: 100%;border-bottom: 1px solid gray;flex-grow: 1;}#sk-container-id-1 div.sk-label:hover label.sk-toggleable__label {background-color: #d4ebff;}#sk-container-id-1 div.sk-serial::before {content: \"\";position: absolute;border-left: 1px solid gray;box-sizing: border-box;top: 0;bottom: 0;left: 50%;z-index: 0;}#sk-container-id-1 div.sk-serial {display: flex;flex-direction: column;align-items: center;background-color: white;padding-right: 0.2em;padding-left: 0.2em;position: relative;}#sk-container-id-1 div.sk-item {position: relative;z-index: 1;}#sk-container-id-1 div.sk-parallel {display: flex;align-items: stretch;justify-content: center;background-color: white;position: relative;}#sk-container-id-1 div.sk-item::before, #sk-container-id-1 div.sk-parallel-item::before {content: \"\";position: absolute;border-left: 1px solid gray;box-sizing: border-box;top: 0;bottom: 0;left: 50%;z-index: -1;}#sk-container-id-1 div.sk-parallel-item {display: flex;flex-direction: column;z-index: 1;position: relative;background-color: white;}#sk-container-id-1 div.sk-parallel-item:first-child::after {align-self: flex-end;width: 50%;}#sk-container-id-1 div.sk-parallel-item:last-child::after {align-self: flex-start;width: 50%;}#sk-container-id-1 div.sk-parallel-item:only-child::after {width: 0;}#sk-container-id-1 div.sk-dashed-wrapped {border: 1px dashed gray;margin: 0 0.4em 0.5em 0.4em;box-sizing: border-box;padding-bottom: 0.4em;background-color: white;}#sk-container-id-1 div.sk-label label {font-family: monospace;font-weight: bold;display: inline-block;line-height: 1.2em;}#sk-container-id-1 div.sk-label-container {text-align: center;}#sk-container-id-1 div.sk-container {/* jupyter's `normalize.less` sets `[hidden] { display: none; }` but bootstrap.min.css set `[hidden] { display: none !important; }` so we also need the `!important` here to be able to override the default hidden behavior on the sphinx rendered scikit-learn.org. See: https://github.com/scikit-learn/scikit-learn/issues/21755 */display: inline-block !important;position: relative;}#sk-container-id-1 div.sk-text-repr-fallback {display: none;}</style><div id=\"sk-container-id-1\" class=\"sk-top-container\"><div class=\"sk-text-repr-fallback\"><pre>GridSearchCV(cv=TimeSeriesSplit(gap=0, max_train_size=None, n_splits=5, test_size=None),\n",
       "             estimator=DecisionTreeRegressor(random_state=12345), n_jobs=-1,\n",
       "             param_grid={&#x27;max_depth&#x27;: [8, 14], &#x27;max_features&#x27;: [4, 5]},\n",
       "             scoring=&#x27;neg_root_mean_squared_error&#x27;)</pre><b>In a Jupyter environment, please rerun this cell to show the HTML representation or trust the notebook. <br />On GitHub, the HTML representation is unable to render, please try loading this page with nbviewer.org.</b></div><div class=\"sk-container\" hidden><div class=\"sk-item sk-dashed-wrapped\"><div class=\"sk-label-container\"><div class=\"sk-label sk-toggleable\"><input class=\"sk-toggleable__control sk-hidden--visually\" id=\"sk-estimator-id-1\" type=\"checkbox\" ><label for=\"sk-estimator-id-1\" class=\"sk-toggleable__label sk-toggleable__label-arrow\">GridSearchCV</label><div class=\"sk-toggleable__content\"><pre>GridSearchCV(cv=TimeSeriesSplit(gap=0, max_train_size=None, n_splits=5, test_size=None),\n",
       "             estimator=DecisionTreeRegressor(random_state=12345), n_jobs=-1,\n",
       "             param_grid={&#x27;max_depth&#x27;: [8, 14], &#x27;max_features&#x27;: [4, 5]},\n",
       "             scoring=&#x27;neg_root_mean_squared_error&#x27;)</pre></div></div></div><div class=\"sk-parallel\"><div class=\"sk-parallel-item\"><div class=\"sk-item\"><div class=\"sk-label-container\"><div class=\"sk-label sk-toggleable\"><input class=\"sk-toggleable__control sk-hidden--visually\" id=\"sk-estimator-id-2\" type=\"checkbox\" ><label for=\"sk-estimator-id-2\" class=\"sk-toggleable__label sk-toggleable__label-arrow\">estimator: DecisionTreeRegressor</label><div class=\"sk-toggleable__content\"><pre>DecisionTreeRegressor(random_state=12345)</pre></div></div></div><div class=\"sk-serial\"><div class=\"sk-item\"><div class=\"sk-estimator sk-toggleable\"><input class=\"sk-toggleable__control sk-hidden--visually\" id=\"sk-estimator-id-3\" type=\"checkbox\" ><label for=\"sk-estimator-id-3\" class=\"sk-toggleable__label sk-toggleable__label-arrow\">DecisionTreeRegressor</label><div class=\"sk-toggleable__content\"><pre>DecisionTreeRegressor(random_state=12345)</pre></div></div></div></div></div></div></div></div></div></div>"
      ],
      "text/plain": [
       "GridSearchCV(cv=TimeSeriesSplit(gap=0, max_train_size=None, n_splits=5, test_size=None),\n",
       "             estimator=DecisionTreeRegressor(random_state=12345), n_jobs=-1,\n",
       "             param_grid={'max_depth': [8, 14], 'max_features': [4, 5]},\n",
       "             scoring='neg_root_mean_squared_error')"
      ]
     },
     "execution_count": 22,
     "metadata": {},
     "output_type": "execute_result"
    }
   ],
   "source": [
    "%%time\n",
    "dtr_model.fit(features_train, target_train)"
   ]
  },
  {
   "cell_type": "code",
   "execution_count": 23,
   "metadata": {},
   "outputs": [
    {
     "data": {
      "text/plain": [
       "{'max_depth': 8, 'max_features': 5}"
      ]
     },
     "execution_count": 23,
     "metadata": {},
     "output_type": "execute_result"
    }
   ],
   "source": [
    "# Параметры лучшей модели.\n",
    "dtr_model.best_params_"
   ]
  },
  {
   "cell_type": "code",
   "execution_count": 24,
   "metadata": {},
   "outputs": [
    {
     "name": "stdout",
     "output_type": "stream",
     "text": [
      "CPU times: total: 0 ns\n",
      "Wall time: 2 ms\n"
     ]
    }
   ],
   "source": [
    "%%time\n",
    "pred_train = dtr_model.best_estimator_.predict(features_train) # Сохраняем RMSE На тренировочной выборке.\n",
    "dtr_list.append(round(mean_squared_error(target_train, pred_train) ** 0.5, 2))"
   ]
  },
  {
   "cell_type": "markdown",
   "metadata": {},
   "source": [
    "### RandomForestRegressor"
   ]
  },
  {
   "cell_type": "code",
   "execution_count": 25,
   "metadata": {},
   "outputs": [],
   "source": [
    "# Список параметров.\n",
    "parameters = {\n",
    "    'n_estimators': [100, 200, 300]\n",
    "}"
   ]
  },
  {
   "cell_type": "code",
   "execution_count": 26,
   "metadata": {},
   "outputs": [],
   "source": [
    "rfr = RandomForestRegressor(max_depth=14, random_state=12345, max_features=5)"
   ]
  },
  {
   "cell_type": "code",
   "execution_count": 27,
   "metadata": {},
   "outputs": [],
   "source": [
    "#Задаем параметры модели и поиска.\n",
    "rfr_model = GridSearchCV(rfr, parameters, scoring='neg_root_mean_squared_error', cv=tscv, n_jobs=-1)"
   ]
  },
  {
   "cell_type": "code",
   "execution_count": 28,
   "metadata": {},
   "outputs": [
    {
     "name": "stdout",
     "output_type": "stream",
     "text": [
      "CPU times: total: 1.27 s\n",
      "Wall time: 5.08 s\n"
     ]
    },
    {
     "data": {
      "text/html": [
       "<style>#sk-container-id-2 {color: black;background-color: white;}#sk-container-id-2 pre{padding: 0;}#sk-container-id-2 div.sk-toggleable {background-color: white;}#sk-container-id-2 label.sk-toggleable__label {cursor: pointer;display: block;width: 100%;margin-bottom: 0;padding: 0.3em;box-sizing: border-box;text-align: center;}#sk-container-id-2 label.sk-toggleable__label-arrow:before {content: \"▸\";float: left;margin-right: 0.25em;color: #696969;}#sk-container-id-2 label.sk-toggleable__label-arrow:hover:before {color: black;}#sk-container-id-2 div.sk-estimator:hover label.sk-toggleable__label-arrow:before {color: black;}#sk-container-id-2 div.sk-toggleable__content {max-height: 0;max-width: 0;overflow: hidden;text-align: left;background-color: #f0f8ff;}#sk-container-id-2 div.sk-toggleable__content pre {margin: 0.2em;color: black;border-radius: 0.25em;background-color: #f0f8ff;}#sk-container-id-2 input.sk-toggleable__control:checked~div.sk-toggleable__content {max-height: 200px;max-width: 100%;overflow: auto;}#sk-container-id-2 input.sk-toggleable__control:checked~label.sk-toggleable__label-arrow:before {content: \"▾\";}#sk-container-id-2 div.sk-estimator input.sk-toggleable__control:checked~label.sk-toggleable__label {background-color: #d4ebff;}#sk-container-id-2 div.sk-label input.sk-toggleable__control:checked~label.sk-toggleable__label {background-color: #d4ebff;}#sk-container-id-2 input.sk-hidden--visually {border: 0;clip: rect(1px 1px 1px 1px);clip: rect(1px, 1px, 1px, 1px);height: 1px;margin: -1px;overflow: hidden;padding: 0;position: absolute;width: 1px;}#sk-container-id-2 div.sk-estimator {font-family: monospace;background-color: #f0f8ff;border: 1px dotted black;border-radius: 0.25em;box-sizing: border-box;margin-bottom: 0.5em;}#sk-container-id-2 div.sk-estimator:hover {background-color: #d4ebff;}#sk-container-id-2 div.sk-parallel-item::after {content: \"\";width: 100%;border-bottom: 1px solid gray;flex-grow: 1;}#sk-container-id-2 div.sk-label:hover label.sk-toggleable__label {background-color: #d4ebff;}#sk-container-id-2 div.sk-serial::before {content: \"\";position: absolute;border-left: 1px solid gray;box-sizing: border-box;top: 0;bottom: 0;left: 50%;z-index: 0;}#sk-container-id-2 div.sk-serial {display: flex;flex-direction: column;align-items: center;background-color: white;padding-right: 0.2em;padding-left: 0.2em;position: relative;}#sk-container-id-2 div.sk-item {position: relative;z-index: 1;}#sk-container-id-2 div.sk-parallel {display: flex;align-items: stretch;justify-content: center;background-color: white;position: relative;}#sk-container-id-2 div.sk-item::before, #sk-container-id-2 div.sk-parallel-item::before {content: \"\";position: absolute;border-left: 1px solid gray;box-sizing: border-box;top: 0;bottom: 0;left: 50%;z-index: -1;}#sk-container-id-2 div.sk-parallel-item {display: flex;flex-direction: column;z-index: 1;position: relative;background-color: white;}#sk-container-id-2 div.sk-parallel-item:first-child::after {align-self: flex-end;width: 50%;}#sk-container-id-2 div.sk-parallel-item:last-child::after {align-self: flex-start;width: 50%;}#sk-container-id-2 div.sk-parallel-item:only-child::after {width: 0;}#sk-container-id-2 div.sk-dashed-wrapped {border: 1px dashed gray;margin: 0 0.4em 0.5em 0.4em;box-sizing: border-box;padding-bottom: 0.4em;background-color: white;}#sk-container-id-2 div.sk-label label {font-family: monospace;font-weight: bold;display: inline-block;line-height: 1.2em;}#sk-container-id-2 div.sk-label-container {text-align: center;}#sk-container-id-2 div.sk-container {/* jupyter's `normalize.less` sets `[hidden] { display: none; }` but bootstrap.min.css set `[hidden] { display: none !important; }` so we also need the `!important` here to be able to override the default hidden behavior on the sphinx rendered scikit-learn.org. See: https://github.com/scikit-learn/scikit-learn/issues/21755 */display: inline-block !important;position: relative;}#sk-container-id-2 div.sk-text-repr-fallback {display: none;}</style><div id=\"sk-container-id-2\" class=\"sk-top-container\"><div class=\"sk-text-repr-fallback\"><pre>GridSearchCV(cv=TimeSeriesSplit(gap=0, max_train_size=None, n_splits=5, test_size=None),\n",
       "             estimator=RandomForestRegressor(max_depth=14, max_features=5,\n",
       "                                             random_state=12345),\n",
       "             n_jobs=-1, param_grid={&#x27;n_estimators&#x27;: [100, 200, 300]},\n",
       "             scoring=&#x27;neg_root_mean_squared_error&#x27;)</pre><b>In a Jupyter environment, please rerun this cell to show the HTML representation or trust the notebook. <br />On GitHub, the HTML representation is unable to render, please try loading this page with nbviewer.org.</b></div><div class=\"sk-container\" hidden><div class=\"sk-item sk-dashed-wrapped\"><div class=\"sk-label-container\"><div class=\"sk-label sk-toggleable\"><input class=\"sk-toggleable__control sk-hidden--visually\" id=\"sk-estimator-id-4\" type=\"checkbox\" ><label for=\"sk-estimator-id-4\" class=\"sk-toggleable__label sk-toggleable__label-arrow\">GridSearchCV</label><div class=\"sk-toggleable__content\"><pre>GridSearchCV(cv=TimeSeriesSplit(gap=0, max_train_size=None, n_splits=5, test_size=None),\n",
       "             estimator=RandomForestRegressor(max_depth=14, max_features=5,\n",
       "                                             random_state=12345),\n",
       "             n_jobs=-1, param_grid={&#x27;n_estimators&#x27;: [100, 200, 300]},\n",
       "             scoring=&#x27;neg_root_mean_squared_error&#x27;)</pre></div></div></div><div class=\"sk-parallel\"><div class=\"sk-parallel-item\"><div class=\"sk-item\"><div class=\"sk-label-container\"><div class=\"sk-label sk-toggleable\"><input class=\"sk-toggleable__control sk-hidden--visually\" id=\"sk-estimator-id-5\" type=\"checkbox\" ><label for=\"sk-estimator-id-5\" class=\"sk-toggleable__label sk-toggleable__label-arrow\">estimator: RandomForestRegressor</label><div class=\"sk-toggleable__content\"><pre>RandomForestRegressor(max_depth=14, max_features=5, random_state=12345)</pre></div></div></div><div class=\"sk-serial\"><div class=\"sk-item\"><div class=\"sk-estimator sk-toggleable\"><input class=\"sk-toggleable__control sk-hidden--visually\" id=\"sk-estimator-id-6\" type=\"checkbox\" ><label for=\"sk-estimator-id-6\" class=\"sk-toggleable__label sk-toggleable__label-arrow\">RandomForestRegressor</label><div class=\"sk-toggleable__content\"><pre>RandomForestRegressor(max_depth=14, max_features=5, random_state=12345)</pre></div></div></div></div></div></div></div></div></div></div>"
      ],
      "text/plain": [
       "GridSearchCV(cv=TimeSeriesSplit(gap=0, max_train_size=None, n_splits=5, test_size=None),\n",
       "             estimator=RandomForestRegressor(max_depth=14, max_features=5,\n",
       "                                             random_state=12345),\n",
       "             n_jobs=-1, param_grid={'n_estimators': [100, 200, 300]},\n",
       "             scoring='neg_root_mean_squared_error')"
      ]
     },
     "execution_count": 28,
     "metadata": {},
     "output_type": "execute_result"
    }
   ],
   "source": [
    "%%time\n",
    "rfr_model.fit(features_train, target_train)"
   ]
  },
  {
   "cell_type": "code",
   "execution_count": 29,
   "metadata": {},
   "outputs": [
    {
     "data": {
      "text/plain": [
       "{'n_estimators': 300}"
      ]
     },
     "execution_count": 29,
     "metadata": {},
     "output_type": "execute_result"
    }
   ],
   "source": [
    "# Параметры лучшей модели.\n",
    "rfr_model.best_params_"
   ]
  },
  {
   "cell_type": "code",
   "execution_count": 30,
   "metadata": {},
   "outputs": [
    {
     "name": "stdout",
     "output_type": "stream",
     "text": [
      "CPU times: total: 15.6 ms\n",
      "Wall time: 132 ms\n"
     ]
    }
   ],
   "source": [
    "%%time\n",
    "pred_train = rfr_model.best_estimator_.predict(features_train) # Сохраняем RMSE На тренировочной выборке.\n",
    "rfr_list.append(round(mean_squared_error(target_train, pred_train) ** 0.5, 2))"
   ]
  },
  {
   "cell_type": "markdown",
   "metadata": {},
   "source": [
    "### CatBoostRegressor"
   ]
  },
  {
   "cell_type": "code",
   "execution_count": 31,
   "metadata": {},
   "outputs": [],
   "source": [
    "# Список параметров.\n",
    "parameters = {'learning_rate': [0.1, 0.2],\n",
    "             'depth':[8, 12]} "
   ]
  },
  {
   "cell_type": "code",
   "execution_count": 32,
   "metadata": {},
   "outputs": [],
   "source": [
    "cbr = CatBoostRegressor(loss_function=\"RMSE\", iterations=150)"
   ]
  },
  {
   "cell_type": "code",
   "execution_count": 33,
   "metadata": {},
   "outputs": [],
   "source": [
    "#Задаем параметры модели и поиска.\n",
    "cbr_model = GridSearchCV(cbr, parameters, scoring='neg_root_mean_squared_error', cv=tscv, n_jobs=-1) "
   ]
  },
  {
   "cell_type": "code",
   "execution_count": 34,
   "metadata": {},
   "outputs": [
    {
     "name": "stdout",
     "output_type": "stream",
     "text": [
      "0:\tlearn: 36.7706843\ttotal: 168ms\tremaining: 25s\n",
      "75:\tlearn: 18.5167777\ttotal: 756ms\tremaining: 737ms\n",
      "149:\tlearn: 14.8166111\ttotal: 1.34s\tremaining: 0us\n",
      "CPU times: total: 906 ms\n",
      "Wall time: 1min 59s\n"
     ]
    },
    {
     "data": {
      "text/html": [
       "<style>#sk-container-id-3 {color: black;background-color: white;}#sk-container-id-3 pre{padding: 0;}#sk-container-id-3 div.sk-toggleable {background-color: white;}#sk-container-id-3 label.sk-toggleable__label {cursor: pointer;display: block;width: 100%;margin-bottom: 0;padding: 0.3em;box-sizing: border-box;text-align: center;}#sk-container-id-3 label.sk-toggleable__label-arrow:before {content: \"▸\";float: left;margin-right: 0.25em;color: #696969;}#sk-container-id-3 label.sk-toggleable__label-arrow:hover:before {color: black;}#sk-container-id-3 div.sk-estimator:hover label.sk-toggleable__label-arrow:before {color: black;}#sk-container-id-3 div.sk-toggleable__content {max-height: 0;max-width: 0;overflow: hidden;text-align: left;background-color: #f0f8ff;}#sk-container-id-3 div.sk-toggleable__content pre {margin: 0.2em;color: black;border-radius: 0.25em;background-color: #f0f8ff;}#sk-container-id-3 input.sk-toggleable__control:checked~div.sk-toggleable__content {max-height: 200px;max-width: 100%;overflow: auto;}#sk-container-id-3 input.sk-toggleable__control:checked~label.sk-toggleable__label-arrow:before {content: \"▾\";}#sk-container-id-3 div.sk-estimator input.sk-toggleable__control:checked~label.sk-toggleable__label {background-color: #d4ebff;}#sk-container-id-3 div.sk-label input.sk-toggleable__control:checked~label.sk-toggleable__label {background-color: #d4ebff;}#sk-container-id-3 input.sk-hidden--visually {border: 0;clip: rect(1px 1px 1px 1px);clip: rect(1px, 1px, 1px, 1px);height: 1px;margin: -1px;overflow: hidden;padding: 0;position: absolute;width: 1px;}#sk-container-id-3 div.sk-estimator {font-family: monospace;background-color: #f0f8ff;border: 1px dotted black;border-radius: 0.25em;box-sizing: border-box;margin-bottom: 0.5em;}#sk-container-id-3 div.sk-estimator:hover {background-color: #d4ebff;}#sk-container-id-3 div.sk-parallel-item::after {content: \"\";width: 100%;border-bottom: 1px solid gray;flex-grow: 1;}#sk-container-id-3 div.sk-label:hover label.sk-toggleable__label {background-color: #d4ebff;}#sk-container-id-3 div.sk-serial::before {content: \"\";position: absolute;border-left: 1px solid gray;box-sizing: border-box;top: 0;bottom: 0;left: 50%;z-index: 0;}#sk-container-id-3 div.sk-serial {display: flex;flex-direction: column;align-items: center;background-color: white;padding-right: 0.2em;padding-left: 0.2em;position: relative;}#sk-container-id-3 div.sk-item {position: relative;z-index: 1;}#sk-container-id-3 div.sk-parallel {display: flex;align-items: stretch;justify-content: center;background-color: white;position: relative;}#sk-container-id-3 div.sk-item::before, #sk-container-id-3 div.sk-parallel-item::before {content: \"\";position: absolute;border-left: 1px solid gray;box-sizing: border-box;top: 0;bottom: 0;left: 50%;z-index: -1;}#sk-container-id-3 div.sk-parallel-item {display: flex;flex-direction: column;z-index: 1;position: relative;background-color: white;}#sk-container-id-3 div.sk-parallel-item:first-child::after {align-self: flex-end;width: 50%;}#sk-container-id-3 div.sk-parallel-item:last-child::after {align-self: flex-start;width: 50%;}#sk-container-id-3 div.sk-parallel-item:only-child::after {width: 0;}#sk-container-id-3 div.sk-dashed-wrapped {border: 1px dashed gray;margin: 0 0.4em 0.5em 0.4em;box-sizing: border-box;padding-bottom: 0.4em;background-color: white;}#sk-container-id-3 div.sk-label label {font-family: monospace;font-weight: bold;display: inline-block;line-height: 1.2em;}#sk-container-id-3 div.sk-label-container {text-align: center;}#sk-container-id-3 div.sk-container {/* jupyter's `normalize.less` sets `[hidden] { display: none; }` but bootstrap.min.css set `[hidden] { display: none !important; }` so we also need the `!important` here to be able to override the default hidden behavior on the sphinx rendered scikit-learn.org. See: https://github.com/scikit-learn/scikit-learn/issues/21755 */display: inline-block !important;position: relative;}#sk-container-id-3 div.sk-text-repr-fallback {display: none;}</style><div id=\"sk-container-id-3\" class=\"sk-top-container\"><div class=\"sk-text-repr-fallback\"><pre>GridSearchCV(cv=TimeSeriesSplit(gap=0, max_train_size=None, n_splits=5, test_size=None),\n",
       "             estimator=&lt;catboost.core.CatBoostRegressor object at 0x00000255115B0220&gt;,\n",
       "             n_jobs=-1,\n",
       "             param_grid={&#x27;depth&#x27;: [8, 12], &#x27;learning_rate&#x27;: [0.1, 0.2]},\n",
       "             scoring=&#x27;neg_root_mean_squared_error&#x27;)</pre><b>In a Jupyter environment, please rerun this cell to show the HTML representation or trust the notebook. <br />On GitHub, the HTML representation is unable to render, please try loading this page with nbviewer.org.</b></div><div class=\"sk-container\" hidden><div class=\"sk-item sk-dashed-wrapped\"><div class=\"sk-label-container\"><div class=\"sk-label sk-toggleable\"><input class=\"sk-toggleable__control sk-hidden--visually\" id=\"sk-estimator-id-7\" type=\"checkbox\" ><label for=\"sk-estimator-id-7\" class=\"sk-toggleable__label sk-toggleable__label-arrow\">GridSearchCV</label><div class=\"sk-toggleable__content\"><pre>GridSearchCV(cv=TimeSeriesSplit(gap=0, max_train_size=None, n_splits=5, test_size=None),\n",
       "             estimator=&lt;catboost.core.CatBoostRegressor object at 0x00000255115B0220&gt;,\n",
       "             n_jobs=-1,\n",
       "             param_grid={&#x27;depth&#x27;: [8, 12], &#x27;learning_rate&#x27;: [0.1, 0.2]},\n",
       "             scoring=&#x27;neg_root_mean_squared_error&#x27;)</pre></div></div></div><div class=\"sk-parallel\"><div class=\"sk-parallel-item\"><div class=\"sk-item\"><div class=\"sk-label-container\"><div class=\"sk-label sk-toggleable\"><input class=\"sk-toggleable__control sk-hidden--visually\" id=\"sk-estimator-id-8\" type=\"checkbox\" ><label for=\"sk-estimator-id-8\" class=\"sk-toggleable__label sk-toggleable__label-arrow\">estimator: CatBoostRegressor</label><div class=\"sk-toggleable__content\"><pre>&lt;catboost.core.CatBoostRegressor object at 0x00000255115B0220&gt;</pre></div></div></div><div class=\"sk-serial\"><div class=\"sk-item\"><div class=\"sk-estimator sk-toggleable\"><input class=\"sk-toggleable__control sk-hidden--visually\" id=\"sk-estimator-id-9\" type=\"checkbox\" ><label for=\"sk-estimator-id-9\" class=\"sk-toggleable__label sk-toggleable__label-arrow\">CatBoostRegressor</label><div class=\"sk-toggleable__content\"><pre>&lt;catboost.core.CatBoostRegressor object at 0x00000255115B0220&gt;</pre></div></div></div></div></div></div></div></div></div></div>"
      ],
      "text/plain": [
       "GridSearchCV(cv=TimeSeriesSplit(gap=0, max_train_size=None, n_splits=5, test_size=None),\n",
       "             estimator=<catboost.core.CatBoostRegressor object at 0x00000255115B0220>,\n",
       "             n_jobs=-1,\n",
       "             param_grid={'depth': [8, 12], 'learning_rate': [0.1, 0.2]},\n",
       "             scoring='neg_root_mean_squared_error')"
      ]
     },
     "execution_count": 34,
     "metadata": {},
     "output_type": "execute_result"
    }
   ],
   "source": [
    "%%time\n",
    "cbr_model.fit(features_train, target_train, verbose=75)"
   ]
  },
  {
   "cell_type": "code",
   "execution_count": 35,
   "metadata": {},
   "outputs": [
    {
     "data": {
      "text/plain": [
       "{'depth': 8, 'learning_rate': 0.1}"
      ]
     },
     "execution_count": 35,
     "metadata": {},
     "output_type": "execute_result"
    }
   ],
   "source": [
    "# Параметры лучшей модели.\n",
    "cbr_model.best_params_"
   ]
  },
  {
   "cell_type": "code",
   "execution_count": 36,
   "metadata": {},
   "outputs": [
    {
     "name": "stdout",
     "output_type": "stream",
     "text": [
      "CPU times: total: 0 ns\n",
      "Wall time: 2.99 ms\n"
     ]
    }
   ],
   "source": [
    "%%time\n",
    "pred_train = cbr_model.best_estimator_.predict(features_train) # Сохраняем RMSE На тренировочной выборке.\n",
    "cbr_list.append(round(mean_squared_error(target_train, pred_train) ** 0.5, 2))"
   ]
  },
  {
   "cell_type": "markdown",
   "metadata": {},
   "source": [
    "### Вывод"
   ]
  },
  {
   "cell_type": "code",
   "execution_count": 37,
   "metadata": {},
   "outputs": [
    {
     "data": {
      "text/html": [
       "<div>\n",
       "<style scoped>\n",
       "    .dataframe tbody tr th:only-of-type {\n",
       "        vertical-align: middle;\n",
       "    }\n",
       "\n",
       "    .dataframe tbody tr th {\n",
       "        vertical-align: top;\n",
       "    }\n",
       "\n",
       "    .dataframe thead th {\n",
       "        text-align: right;\n",
       "    }\n",
       "</style>\n",
       "<table border=\"1\" class=\"dataframe\">\n",
       "  <thead>\n",
       "    <tr style=\"text-align: right;\">\n",
       "      <th></th>\n",
       "      <th>model</th>\n",
       "      <th>rmse_train</th>\n",
       "    </tr>\n",
       "  </thead>\n",
       "  <tbody>\n",
       "    <tr>\n",
       "      <th>0</th>\n",
       "      <td>CBR</td>\n",
       "      <td>14.82</td>\n",
       "    </tr>\n",
       "    <tr>\n",
       "      <th>1</th>\n",
       "      <td>DTR</td>\n",
       "      <td>21.32</td>\n",
       "    </tr>\n",
       "    <tr>\n",
       "      <th>2</th>\n",
       "      <td>RFR</td>\n",
       "      <td>10.27</td>\n",
       "    </tr>\n",
       "  </tbody>\n",
       "</table>\n",
       "</div>"
      ],
      "text/plain": [
       "  model  rmse_train\n",
       "0   CBR       14.82\n",
       "1   DTR       21.32\n",
       "2   RFR       10.27"
      ]
     },
     "execution_count": 37,
     "metadata": {},
     "output_type": "execute_result"
    }
   ],
   "source": [
    "# Вывод по моделированию \n",
    "columns =[\n",
    "    'model',\n",
    "    'rmse_train'\n",
    "]\n",
    "data = []\n",
    "\n",
    "\n",
    "data.append(cbr_list)\n",
    "data.append(dtr_list)\n",
    "data.append(rfr_list)\n",
    "\n",
    "pd.DataFrame(data=data, columns=columns)"
   ]
  },
  {
   "cell_type": "markdown",
   "metadata": {},
   "source": [
    "**Выводы**\n",
    "Лучший результат на тренировочной выборке RandomForestRegressor. В тестовой проверим эту модель."
   ]
  },
  {
   "cell_type": "markdown",
   "metadata": {},
   "source": [
    "## Тестирование"
   ]
  },
  {
   "cell_type": "code",
   "execution_count": 38,
   "metadata": {},
   "outputs": [
    {
     "name": "stdout",
     "output_type": "stream",
     "text": [
      "RMSE на тестовой выборке - 43.67\n"
     ]
    }
   ],
   "source": [
    "# Тестируем модель.\n",
    "pred_test = rfr_model.best_estimator_.predict(features_test)\n",
    "print('RMSE на тестовой выборке -', round(mean_squared_error(target_test, pred_test) ** 0.5, 2))"
   ]
  },
  {
   "cell_type": "code",
   "execution_count": 39,
   "metadata": {},
   "outputs": [
    {
     "data": {
      "image/png": "[encoded data removed]",
      "text/plain": [
       "<Figure size 1440x720 with 1 Axes>"
      ]
     },
     "metadata": {
      "needs_background": "light"
     },
     "output_type": "display_data"
    }
   ],
   "source": [
    "# График факт-предсказание.\n",
    "plt.figure(figsize=(20, 10))\n",
    "plt.plot(target_test.index, target_test, alpha=0.5)\n",
    "plt.plot(target_test.index, pred_test)\n",
    "\n",
    "plt.xlabel('Количество заказов')\n",
    "plt.ylabel('Дата')\n",
    "plt.grid(True)\n",
    "plt.title('Факт-предсказание')\n",
    "plt.legend(['Фактические значения', 'Предсказанные значения'])\n",
    "plt.show() "
   ]
  },
  {
   "cell_type": "markdown",
   "metadata": {},
   "source": [
    "### Вывод"
   ]
  },
  {
   "cell_type": "markdown",
   "metadata": {},
   "source": [
    "- Требуемый результат достигнут;\n",
    "- Модели сильно переобучаються, т.к. обучение проиходит на оносительно стационраном участке, а прогноз делаеться на аномальном;\n",
    "- Месяцы, фактор который, больше мешает чем помогает при обучении, была бы выборака за 2-3 года, это исправило бы ситуацию;\n",
    "- Модель плохо предсказывает выбросы и старается усреднить ряд;\n",
    "- Подбор гиперпараметров сильно не помогает, модели просто переобучаются, основной параеметр - это создание признаков."
   ]
  }
 ],
 "metadata": {
  "ExecuteTimeLog": [
   {
    "duration": 1552,
    "start_time": "2023-02-06T10:23:43.251Z"
   },
   {
    "duration": 132,
    "start_time": "2023-02-06T10:25:27.094Z"
   },
   {
    "duration": 109,
    "start_time": "2023-02-06T10:25:53.758Z"
   },
   {
    "duration": 12,
    "start_time": "2023-02-06T10:26:00.448Z"
   },
   {
    "duration": 48,
    "start_time": "2023-02-06T10:26:28.342Z"
   },
   {
    "duration": 9,
    "start_time": "2023-02-06T10:26:29.196Z"
   },
   {
    "duration": 12,
    "start_time": "2023-02-06T10:26:34.790Z"
   },
   {
    "duration": 6,
    "start_time": "2023-02-06T10:27:34.273Z"
   },
   {
    "duration": 10,
    "start_time": "2023-02-06T10:28:04.807Z"
   },
   {
    "duration": 11,
    "start_time": "2023-02-06T10:28:16.983Z"
   },
   {
    "duration": 14,
    "start_time": "2023-02-06T10:30:01.058Z"
   },
   {
    "duration": 12,
    "start_time": "2023-02-06T10:31:52.140Z"
   },
   {
    "duration": 10,
    "start_time": "2023-02-06T10:32:37.932Z"
   },
   {
    "duration": 26,
    "start_time": "2023-02-06T10:33:47.032Z"
   },
   {
    "duration": 17,
    "start_time": "2023-02-06T10:34:29.897Z"
   },
   {
    "duration": 339,
    "start_time": "2023-02-06T10:37:24.028Z"
   },
   {
    "duration": 267,
    "start_time": "2023-02-06T10:37:35.309Z"
   },
   {
    "duration": 268,
    "start_time": "2023-02-06T10:37:50.140Z"
   },
   {
    "duration": 244,
    "start_time": "2023-02-06T10:44:49.692Z"
   },
   {
    "duration": 287,
    "start_time": "2023-02-06T10:47:51.456Z"
   },
   {
    "duration": 262,
    "start_time": "2023-02-06T10:48:54.330Z"
   },
   {
    "duration": 327,
    "start_time": "2023-02-06T10:55:07.323Z"
   },
   {
    "duration": 8,
    "start_time": "2023-02-06T10:56:11.416Z"
   },
   {
    "duration": 551,
    "start_time": "2023-02-06T10:56:38.953Z"
   },
   {
    "duration": 575,
    "start_time": "2023-02-06T10:57:23.961Z"
   },
   {
    "duration": 630,
    "start_time": "2023-02-06T10:57:46.035Z"
   },
   {
    "duration": 567,
    "start_time": "2023-02-06T10:58:42.018Z"
   },
   {
    "duration": 541,
    "start_time": "2023-02-06T10:58:51.369Z"
   },
   {
    "duration": 553,
    "start_time": "2023-02-06T10:59:28.340Z"
   },
   {
    "duration": 531,
    "start_time": "2023-02-06T10:59:37.081Z"
   },
   {
    "duration": 1635,
    "start_time": "2023-02-06T14:53:01.154Z"
   },
   {
    "duration": 124,
    "start_time": "2023-02-06T14:53:02.791Z"
   },
   {
    "duration": 14,
    "start_time": "2023-02-06T14:53:02.917Z"
   },
   {
    "duration": 26,
    "start_time": "2023-02-06T14:53:02.933Z"
   },
   {
    "duration": 39,
    "start_time": "2023-02-06T14:53:02.960Z"
   },
   {
    "duration": 48,
    "start_time": "2023-02-06T14:53:03.001Z"
   },
   {
    "duration": 12,
    "start_time": "2023-02-06T14:53:03.050Z"
   },
   {
    "duration": 31,
    "start_time": "2023-02-06T14:53:03.063Z"
   },
   {
    "duration": 432,
    "start_time": "2023-02-06T14:53:03.095Z"
   },
   {
    "duration": 7,
    "start_time": "2023-02-06T14:53:03.530Z"
   },
   {
    "duration": 701,
    "start_time": "2023-02-06T14:53:03.539Z"
   },
   {
    "duration": 5,
    "start_time": "2023-02-06T14:54:01.839Z"
   },
   {
    "duration": 363,
    "start_time": "2023-02-06T14:55:17.507Z"
   },
   {
    "duration": 5,
    "start_time": "2023-02-06T14:56:01.652Z"
   },
   {
    "duration": 345,
    "start_time": "2023-02-06T14:56:02.134Z"
   },
   {
    "duration": 334,
    "start_time": "2023-02-06T14:57:31.906Z"
   },
   {
    "duration": 8,
    "start_time": "2023-02-06T14:59:02.497Z"
   },
   {
    "duration": 548,
    "start_time": "2023-02-06T14:59:02.900Z"
   },
   {
    "duration": 6,
    "start_time": "2023-02-06T15:01:10.733Z"
   },
   {
    "duration": 124,
    "start_time": "2023-02-06T15:01:32.471Z"
   },
   {
    "duration": 864,
    "start_time": "2023-02-06T15:01:44.609Z"
   },
   {
    "duration": 4,
    "start_time": "2023-02-06T15:02:20.352Z"
   },
   {
    "duration": 1016,
    "start_time": "2023-02-06T15:02:20.854Z"
   },
   {
    "duration": 4,
    "start_time": "2023-02-06T15:02:38.929Z"
   },
   {
    "duration": 11,
    "start_time": "2023-02-06T15:02:39.373Z"
   },
   {
    "duration": 8,
    "start_time": "2023-02-06T15:03:15.525Z"
   },
   {
    "duration": 6,
    "start_time": "2023-02-06T15:03:59.647Z"
   },
   {
    "duration": 2,
    "start_time": "2023-02-06T15:09:41.991Z"
   },
   {
    "duration": 3,
    "start_time": "2023-02-06T15:09:44.094Z"
   },
   {
    "duration": 3,
    "start_time": "2023-02-06T15:10:14.766Z"
   },
   {
    "duration": 3,
    "start_time": "2023-02-06T15:10:27.838Z"
   },
   {
    "duration": 58,
    "start_time": "2023-02-06T15:10:43.567Z"
   },
   {
    "duration": 156,
    "start_time": "2023-02-06T15:10:51.128Z"
   },
   {
    "duration": 6,
    "start_time": "2023-02-06T15:11:06.505Z"
   },
   {
    "duration": 7,
    "start_time": "2023-02-06T15:11:31.293Z"
   },
   {
    "duration": 5,
    "start_time": "2023-02-06T15:12:07.979Z"
   },
   {
    "duration": 1436,
    "start_time": "2023-02-06T15:12:29.538Z"
   },
   {
    "duration": 43,
    "start_time": "2023-02-06T15:12:30.976Z"
   },
   {
    "duration": 13,
    "start_time": "2023-02-06T15:12:31.021Z"
   },
   {
    "duration": 45,
    "start_time": "2023-02-06T15:12:31.036Z"
   },
   {
    "duration": 43,
    "start_time": "2023-02-06T15:12:31.083Z"
   },
   {
    "duration": 54,
    "start_time": "2023-02-06T15:12:31.128Z"
   },
   {
    "duration": 34,
    "start_time": "2023-02-06T15:12:31.184Z"
   },
   {
    "duration": 77,
    "start_time": "2023-02-06T15:12:31.220Z"
   },
   {
    "duration": 488,
    "start_time": "2023-02-06T15:12:31.299Z"
   },
   {
    "duration": 8,
    "start_time": "2023-02-06T15:12:31.790Z"
   },
   {
    "duration": 697,
    "start_time": "2023-02-06T15:12:31.800Z"
   },
   {
    "duration": 4,
    "start_time": "2023-02-06T15:12:32.499Z"
   },
   {
    "duration": 390,
    "start_time": "2023-02-06T15:12:32.504Z"
   },
   {
    "duration": 8,
    "start_time": "2023-02-06T15:12:32.895Z"
   },
   {
    "duration": 33,
    "start_time": "2023-02-06T15:12:32.905Z"
   },
   {
    "duration": 43,
    "start_time": "2023-02-06T15:12:32.940Z"
   },
   {
    "duration": 34,
    "start_time": "2023-02-06T15:12:32.985Z"
   },
   {
    "duration": 15,
    "start_time": "2023-02-06T15:12:33.021Z"
   },
   {
    "duration": 50,
    "start_time": "2023-02-06T15:12:33.037Z"
   },
   {
    "duration": 47,
    "start_time": "2023-02-06T15:12:33.088Z"
   },
   {
    "duration": 32,
    "start_time": "2023-02-06T15:12:33.137Z"
   },
   {
    "duration": 53,
    "start_time": "2023-02-06T15:12:33.172Z"
   },
   {
    "duration": 289,
    "start_time": "2023-02-06T15:12:33.227Z"
   },
   {
    "duration": 6,
    "start_time": "2023-02-06T15:12:33.517Z"
   },
   {
    "duration": 113,
    "start_time": "2023-02-06T15:12:33.526Z"
   },
   {
    "duration": 10,
    "start_time": "2023-02-06T15:12:33.641Z"
   },
   {
    "duration": 1430,
    "start_time": "2023-02-06T15:12:59.347Z"
   },
   {
    "duration": 46,
    "start_time": "2023-02-06T15:13:00.779Z"
   },
   {
    "duration": 15,
    "start_time": "2023-02-06T15:13:00.826Z"
   },
   {
    "duration": 36,
    "start_time": "2023-02-06T15:13:00.844Z"
   },
   {
    "duration": 30,
    "start_time": "2023-02-06T15:13:00.881Z"
   },
   {
    "duration": 53,
    "start_time": "2023-02-06T15:13:00.912Z"
   },
   {
    "duration": 56,
    "start_time": "2023-02-06T15:13:00.966Z"
   },
   {
    "duration": 33,
    "start_time": "2023-02-06T15:13:01.024Z"
   },
   {
    "duration": 482,
    "start_time": "2023-02-06T15:13:01.058Z"
   },
   {
    "duration": 9,
    "start_time": "2023-02-06T15:13:01.543Z"
   },
   {
    "duration": 813,
    "start_time": "2023-02-06T15:13:01.553Z"
   },
   {
    "duration": 4,
    "start_time": "2023-02-06T15:13:02.368Z"
   },
   {
    "duration": 340,
    "start_time": "2023-02-06T15:13:02.373Z"
   },
   {
    "duration": 7,
    "start_time": "2023-02-06T15:13:02.715Z"
   },
   {
    "duration": 13,
    "start_time": "2023-02-06T15:13:02.724Z"
   },
   {
    "duration": 14,
    "start_time": "2023-02-06T15:13:02.739Z"
   },
   {
    "duration": 7,
    "start_time": "2023-02-06T15:13:02.755Z"
   },
   {
    "duration": 10,
    "start_time": "2023-02-06T15:13:02.763Z"
   },
   {
    "duration": 5,
    "start_time": "2023-02-06T15:13:02.775Z"
   },
   {
    "duration": 12,
    "start_time": "2023-02-06T15:13:02.782Z"
   },
   {
    "duration": 11,
    "start_time": "2023-02-06T15:13:02.796Z"
   },
   {
    "duration": 12,
    "start_time": "2023-02-06T15:13:02.808Z"
   },
   {
    "duration": 164,
    "start_time": "2023-02-06T15:13:02.821Z"
   },
   {
    "duration": 5,
    "start_time": "2023-02-06T15:13:02.986Z"
   },
   {
    "duration": 10,
    "start_time": "2023-02-06T15:13:02.992Z"
   },
   {
    "duration": 16,
    "start_time": "2023-02-06T15:13:03.003Z"
   },
   {
    "duration": 5,
    "start_time": "2023-02-06T15:13:51.953Z"
   },
   {
    "duration": 5,
    "start_time": "2023-02-06T15:14:09.735Z"
   },
   {
    "duration": 1470,
    "start_time": "2023-02-06T15:15:02.481Z"
   },
   {
    "duration": 50,
    "start_time": "2023-02-06T15:15:03.953Z"
   },
   {
    "duration": 13,
    "start_time": "2023-02-06T15:15:04.005Z"
   },
   {
    "duration": 36,
    "start_time": "2023-02-06T15:15:04.020Z"
   },
   {
    "duration": 22,
    "start_time": "2023-02-06T15:15:04.058Z"
   },
   {
    "duration": 39,
    "start_time": "2023-02-06T15:15:04.082Z"
   },
   {
    "duration": 55,
    "start_time": "2023-02-06T15:15:04.123Z"
   },
   {
    "duration": 39,
    "start_time": "2023-02-06T15:15:04.179Z"
   },
   {
    "duration": 484,
    "start_time": "2023-02-06T15:15:04.219Z"
   },
   {
    "duration": 8,
    "start_time": "2023-02-06T15:15:04.706Z"
   },
   {
    "duration": 681,
    "start_time": "2023-02-06T15:15:04.716Z"
   },
   {
    "duration": 4,
    "start_time": "2023-02-06T15:15:05.399Z"
   },
   {
    "duration": 377,
    "start_time": "2023-02-06T15:15:05.405Z"
   },
   {
    "duration": 10,
    "start_time": "2023-02-06T15:15:05.784Z"
   },
   {
    "duration": 26,
    "start_time": "2023-02-06T15:15:05.795Z"
   },
   {
    "duration": 38,
    "start_time": "2023-02-06T15:15:05.823Z"
   },
   {
    "duration": 30,
    "start_time": "2023-02-06T15:15:05.863Z"
   },
   {
    "duration": 17,
    "start_time": "2023-02-06T15:15:05.895Z"
   },
   {
    "duration": 17,
    "start_time": "2023-02-06T15:15:05.913Z"
   },
   {
    "duration": 36,
    "start_time": "2023-02-06T15:15:05.932Z"
   },
   {
    "duration": 23,
    "start_time": "2023-02-06T15:15:05.971Z"
   },
   {
    "duration": 25,
    "start_time": "2023-02-06T15:15:05.996Z"
   },
   {
    "duration": 193,
    "start_time": "2023-02-06T15:15:06.023Z"
   },
   {
    "duration": 4,
    "start_time": "2023-02-06T15:15:06.218Z"
   },
   {
    "duration": 42,
    "start_time": "2023-02-06T15:15:06.223Z"
   },
   {
    "duration": 23,
    "start_time": "2023-02-06T15:15:06.266Z"
   },
   {
    "duration": 37,
    "start_time": "2023-02-06T15:15:06.291Z"
   },
   {
    "duration": 14,
    "start_time": "2023-02-06T15:15:06.331Z"
   },
   {
    "duration": 1492,
    "start_time": "2023-02-06T15:15:43.937Z"
   },
   {
    "duration": 64,
    "start_time": "2023-02-06T15:15:45.432Z"
   },
   {
    "duration": 15,
    "start_time": "2023-02-06T15:15:45.498Z"
   },
   {
    "duration": 33,
    "start_time": "2023-02-06T15:15:45.515Z"
   },
   {
    "duration": 21,
    "start_time": "2023-02-06T15:15:45.550Z"
   },
   {
    "duration": 41,
    "start_time": "2023-02-06T15:15:45.572Z"
   },
   {
    "duration": 40,
    "start_time": "2023-02-06T15:15:45.615Z"
   },
   {
    "duration": 46,
    "start_time": "2023-02-06T15:15:45.656Z"
   },
   {
    "duration": 432,
    "start_time": "2023-02-06T15:15:45.703Z"
   },
   {
    "duration": 9,
    "start_time": "2023-02-06T15:15:46.138Z"
   },
   {
    "duration": 649,
    "start_time": "2023-02-06T15:15:46.148Z"
   },
   {
    "duration": 4,
    "start_time": "2023-02-06T15:15:46.799Z"
   },
   {
    "duration": 385,
    "start_time": "2023-02-06T15:15:46.805Z"
   },
   {
    "duration": 4,
    "start_time": "2023-02-06T15:15:47.192Z"
   },
   {
    "duration": 39,
    "start_time": "2023-02-06T15:15:47.198Z"
   },
   {
    "duration": 25,
    "start_time": "2023-02-06T15:15:47.239Z"
   },
   {
    "duration": 9,
    "start_time": "2023-02-06T15:15:47.266Z"
   },
   {
    "duration": 28,
    "start_time": "2023-02-06T15:15:47.276Z"
   },
   {
    "duration": 30,
    "start_time": "2023-02-06T15:15:47.306Z"
   },
   {
    "duration": 22,
    "start_time": "2023-02-06T15:15:47.338Z"
   },
   {
    "duration": 18,
    "start_time": "2023-02-06T15:15:47.362Z"
   },
   {
    "duration": 223,
    "start_time": "2023-02-06T15:15:47.382Z"
   },
   {
    "duration": 4,
    "start_time": "2023-02-06T15:15:47.607Z"
   },
   {
    "duration": 34,
    "start_time": "2023-02-06T15:15:47.612Z"
   },
   {
    "duration": 42,
    "start_time": "2023-02-06T15:15:47.648Z"
   },
   {
    "duration": 27,
    "start_time": "2023-02-06T15:15:47.691Z"
   },
   {
    "duration": 25,
    "start_time": "2023-02-06T15:15:47.720Z"
   },
   {
    "duration": 1467,
    "start_time": "2023-02-06T15:16:35.280Z"
   },
   {
    "duration": 51,
    "start_time": "2023-02-06T15:16:36.750Z"
   },
   {
    "duration": 28,
    "start_time": "2023-02-06T15:16:36.802Z"
   },
   {
    "duration": 27,
    "start_time": "2023-02-06T15:16:36.832Z"
   },
   {
    "duration": 10,
    "start_time": "2023-02-06T15:16:36.861Z"
   },
   {
    "duration": 13,
    "start_time": "2023-02-06T15:16:36.873Z"
   },
   {
    "duration": 9,
    "start_time": "2023-02-06T15:16:36.888Z"
   },
   {
    "duration": 16,
    "start_time": "2023-02-06T15:16:36.899Z"
   },
   {
    "duration": 467,
    "start_time": "2023-02-06T15:16:36.916Z"
   },
   {
    "duration": 9,
    "start_time": "2023-02-06T15:16:37.386Z"
   },
   {
    "duration": 717,
    "start_time": "2023-02-06T15:16:37.396Z"
   },
   {
    "duration": 4,
    "start_time": "2023-02-06T15:16:38.115Z"
   },
   {
    "duration": 371,
    "start_time": "2023-02-06T15:16:38.121Z"
   },
   {
    "duration": 5,
    "start_time": "2023-02-06T15:16:38.495Z"
   },
   {
    "duration": 18,
    "start_time": "2023-02-06T15:16:38.502Z"
   },
   {
    "duration": 21,
    "start_time": "2023-02-06T15:16:38.522Z"
   },
   {
    "duration": 22,
    "start_time": "2023-02-06T15:16:38.545Z"
   },
   {
    "duration": 16,
    "start_time": "2023-02-06T15:16:38.569Z"
   },
   {
    "duration": 7,
    "start_time": "2023-02-06T15:16:38.587Z"
   },
   {
    "duration": 8,
    "start_time": "2023-02-06T15:16:38.596Z"
   },
   {
    "duration": 12,
    "start_time": "2023-02-06T15:16:38.606Z"
   },
   {
    "duration": 203,
    "start_time": "2023-02-06T15:16:38.620Z"
   },
   {
    "duration": 4,
    "start_time": "2023-02-06T15:16:38.824Z"
   },
   {
    "duration": 9,
    "start_time": "2023-02-06T15:16:38.836Z"
   },
   {
    "duration": 18,
    "start_time": "2023-02-06T15:16:38.847Z"
   },
   {
    "duration": 9,
    "start_time": "2023-02-06T15:16:38.866Z"
   },
   {
    "duration": 8,
    "start_time": "2023-02-06T15:16:38.877Z"
   },
   {
    "duration": 1562,
    "start_time": "2023-02-06T15:16:56.208Z"
   },
   {
    "duration": 46,
    "start_time": "2023-02-06T15:16:57.772Z"
   },
   {
    "duration": 15,
    "start_time": "2023-02-06T15:16:57.820Z"
   },
   {
    "duration": 20,
    "start_time": "2023-02-06T15:16:57.841Z"
   },
   {
    "duration": 11,
    "start_time": "2023-02-06T15:16:57.864Z"
   },
   {
    "duration": 20,
    "start_time": "2023-02-06T15:16:57.877Z"
   },
   {
    "duration": 10,
    "start_time": "2023-02-06T15:16:57.900Z"
   },
   {
    "duration": 30,
    "start_time": "2023-02-06T15:16:57.911Z"
   },
   {
    "duration": 486,
    "start_time": "2023-02-06T15:16:57.942Z"
   },
   {
    "duration": 16,
    "start_time": "2023-02-06T15:16:58.431Z"
   },
   {
    "duration": 742,
    "start_time": "2023-02-06T15:16:58.451Z"
   },
   {
    "duration": 5,
    "start_time": "2023-02-06T15:16:59.195Z"
   },
   {
    "duration": 388,
    "start_time": "2023-02-06T15:16:59.202Z"
   },
   {
    "duration": 4,
    "start_time": "2023-02-06T15:16:59.592Z"
   },
   {
    "duration": 20,
    "start_time": "2023-02-06T15:16:59.597Z"
   },
   {
    "duration": 19,
    "start_time": "2023-02-06T15:16:59.619Z"
   },
   {
    "duration": 7,
    "start_time": "2023-02-06T15:16:59.640Z"
   },
   {
    "duration": 15,
    "start_time": "2023-02-06T15:16:59.649Z"
   },
   {
    "duration": 6,
    "start_time": "2023-02-06T15:16:59.665Z"
   },
   {
    "duration": 4,
    "start_time": "2023-02-06T15:16:59.673Z"
   },
   {
    "duration": 5,
    "start_time": "2023-02-06T15:16:59.679Z"
   },
   {
    "duration": 277,
    "start_time": "2023-02-06T15:16:59.685Z"
   },
   {
    "duration": 5,
    "start_time": "2023-02-06T15:16:59.964Z"
   },
   {
    "duration": 42,
    "start_time": "2023-02-06T15:16:59.971Z"
   },
   {
    "duration": 20,
    "start_time": "2023-02-06T15:17:00.014Z"
   },
   {
    "duration": 38,
    "start_time": "2023-02-06T15:17:00.035Z"
   },
   {
    "duration": 22,
    "start_time": "2023-02-06T15:17:00.075Z"
   },
   {
    "duration": 1514,
    "start_time": "2023-02-06T15:17:24.902Z"
   },
   {
    "duration": 52,
    "start_time": "2023-02-06T15:17:26.418Z"
   },
   {
    "duration": 13,
    "start_time": "2023-02-06T15:17:26.472Z"
   },
   {
    "duration": 10,
    "start_time": "2023-02-06T15:17:26.487Z"
   },
   {
    "duration": 27,
    "start_time": "2023-02-06T15:17:26.498Z"
   },
   {
    "duration": 25,
    "start_time": "2023-02-06T15:17:26.526Z"
   },
   {
    "duration": 18,
    "start_time": "2023-02-06T15:17:26.553Z"
   },
   {
    "duration": 14,
    "start_time": "2023-02-06T15:17:26.573Z"
   },
   {
    "duration": 470,
    "start_time": "2023-02-06T15:17:26.589Z"
   },
   {
    "duration": 9,
    "start_time": "2023-02-06T15:17:27.064Z"
   },
   {
    "duration": 774,
    "start_time": "2023-02-06T15:17:27.075Z"
   },
   {
    "duration": 4,
    "start_time": "2023-02-06T15:17:27.851Z"
   },
   {
    "duration": 409,
    "start_time": "2023-02-06T15:17:27.857Z"
   },
   {
    "duration": 6,
    "start_time": "2023-02-06T15:17:28.268Z"
   },
   {
    "duration": 44,
    "start_time": "2023-02-06T15:17:28.276Z"
   },
   {
    "duration": 49,
    "start_time": "2023-02-06T15:17:28.322Z"
   },
   {
    "duration": 30,
    "start_time": "2023-02-06T15:17:28.374Z"
   },
   {
    "duration": 34,
    "start_time": "2023-02-06T15:17:28.407Z"
   },
   {
    "duration": 52,
    "start_time": "2023-02-06T15:17:28.444Z"
   },
   {
    "duration": 26,
    "start_time": "2023-02-06T15:17:28.498Z"
   },
   {
    "duration": 53,
    "start_time": "2023-02-06T15:17:28.526Z"
   },
   {
    "duration": 150,
    "start_time": "2023-02-06T15:17:28.581Z"
   },
   {
    "duration": 7,
    "start_time": "2023-02-06T15:17:28.736Z"
   },
   {
    "duration": 30,
    "start_time": "2023-02-06T15:17:28.749Z"
   },
   {
    "duration": 19,
    "start_time": "2023-02-06T15:17:28.781Z"
   },
   {
    "duration": 31,
    "start_time": "2023-02-06T15:17:28.802Z"
   },
   {
    "duration": 50,
    "start_time": "2023-02-06T15:17:28.835Z"
   },
   {
    "duration": 3,
    "start_time": "2023-02-06T15:18:59.756Z"
   },
   {
    "duration": 4,
    "start_time": "2023-02-06T15:19:19.552Z"
   },
   {
    "duration": 3,
    "start_time": "2023-02-06T15:19:42.367Z"
   },
   {
    "duration": 180,
    "start_time": "2023-02-06T15:19:53.213Z"
   },
   {
    "duration": 4786,
    "start_time": "2023-02-06T15:20:03.074Z"
   },
   {
    "duration": 6,
    "start_time": "2023-02-06T15:20:35.849Z"
   },
   {
    "duration": 145,
    "start_time": "2023-02-06T15:23:05.582Z"
   },
   {
    "duration": 7,
    "start_time": "2023-02-06T15:23:16.809Z"
   },
   {
    "duration": 40,
    "start_time": "2023-02-06T15:23:40.043Z"
   },
   {
    "duration": 6,
    "start_time": "2023-02-06T15:23:50.794Z"
   },
   {
    "duration": 1482,
    "start_time": "2023-02-06T15:24:13.047Z"
   },
   {
    "duration": 44,
    "start_time": "2023-02-06T15:24:14.531Z"
   },
   {
    "duration": 14,
    "start_time": "2023-02-06T15:24:14.577Z"
   },
   {
    "duration": 13,
    "start_time": "2023-02-06T15:24:14.592Z"
   },
   {
    "duration": 13,
    "start_time": "2023-02-06T15:24:14.607Z"
   },
   {
    "duration": 15,
    "start_time": "2023-02-06T15:24:14.622Z"
   },
   {
    "duration": 10,
    "start_time": "2023-02-06T15:24:14.639Z"
   },
   {
    "duration": 24,
    "start_time": "2023-02-06T15:24:14.651Z"
   },
   {
    "duration": 430,
    "start_time": "2023-02-06T15:24:14.677Z"
   },
   {
    "duration": 8,
    "start_time": "2023-02-06T15:24:15.110Z"
   },
   {
    "duration": 681,
    "start_time": "2023-02-06T15:24:15.120Z"
   },
   {
    "duration": 5,
    "start_time": "2023-02-06T15:24:15.803Z"
   },
   {
    "duration": 355,
    "start_time": "2023-02-06T15:24:15.810Z"
   },
   {
    "duration": 4,
    "start_time": "2023-02-06T15:24:16.168Z"
   },
   {
    "duration": 15,
    "start_time": "2023-02-06T15:24:16.174Z"
   },
   {
    "duration": 8,
    "start_time": "2023-02-06T15:24:16.191Z"
   },
   {
    "duration": 8,
    "start_time": "2023-02-06T15:24:16.200Z"
   },
   {
    "duration": 26,
    "start_time": "2023-02-06T15:24:16.210Z"
   },
   {
    "duration": 5,
    "start_time": "2023-02-06T15:24:16.238Z"
   },
   {
    "duration": 6,
    "start_time": "2023-02-06T15:24:16.244Z"
   },
   {
    "duration": 6,
    "start_time": "2023-02-06T15:24:16.252Z"
   },
   {
    "duration": 133,
    "start_time": "2023-02-06T15:24:16.259Z"
   },
   {
    "duration": 5,
    "start_time": "2023-02-06T15:24:16.393Z"
   },
   {
    "duration": 10,
    "start_time": "2023-02-06T15:24:16.399Z"
   },
   {
    "duration": 8,
    "start_time": "2023-02-06T15:24:16.411Z"
   },
   {
    "duration": 5,
    "start_time": "2023-02-06T15:24:16.437Z"
   },
   {
    "duration": 6,
    "start_time": "2023-02-06T15:24:16.444Z"
   },
   {
    "duration": 8,
    "start_time": "2023-02-06T15:24:16.451Z"
   },
   {
    "duration": 5,
    "start_time": "2023-02-06T15:24:16.461Z"
   },
   {
    "duration": 6,
    "start_time": "2023-02-06T15:24:16.467Z"
   },
   {
    "duration": 10069,
    "start_time": "2023-02-06T15:24:16.474Z"
   },
   {
    "duration": 4,
    "start_time": "2023-02-06T15:24:26.545Z"
   },
   {
    "duration": 247,
    "start_time": "2023-02-06T15:24:26.550Z"
   },
   {
    "duration": 5,
    "start_time": "2023-02-06T15:24:26.799Z"
   },
   {
    "duration": 76,
    "start_time": "2023-02-06T15:24:26.807Z"
   },
   {
    "duration": 5,
    "start_time": "2023-02-06T15:24:26.885Z"
   },
   {
    "duration": 317,
    "start_time": "2023-02-06T15:25:24.782Z"
   },
   {
    "duration": 307,
    "start_time": "2023-02-06T15:25:36.358Z"
   },
   {
    "duration": 3,
    "start_time": "2023-02-06T15:26:09.771Z"
   },
   {
    "duration": 4,
    "start_time": "2023-02-06T15:26:33.729Z"
   },
   {
    "duration": 3,
    "start_time": "2023-02-06T15:26:44.441Z"
   },
   {
    "duration": 3,
    "start_time": "2023-02-06T15:27:00.015Z"
   },
   {
    "duration": 186,
    "start_time": "2023-02-06T15:27:17.268Z"
   },
   {
    "duration": 48763,
    "start_time": "2023-02-06T15:27:26.004Z"
   },
   {
    "duration": 14,
    "start_time": "2023-02-06T15:29:15.444Z"
   },
   {
    "duration": 4,
    "start_time": "2023-02-06T15:30:07.684Z"
   },
   {
    "duration": 1523,
    "start_time": "2023-02-06T15:31:00.542Z"
   },
   {
    "duration": 55,
    "start_time": "2023-02-06T15:31:02.067Z"
   },
   {
    "duration": 14,
    "start_time": "2023-02-06T15:31:02.124Z"
   },
   {
    "duration": 48,
    "start_time": "2023-02-06T15:31:02.140Z"
   },
   {
    "duration": 37,
    "start_time": "2023-02-06T15:31:02.189Z"
   },
   {
    "duration": 44,
    "start_time": "2023-02-06T15:31:02.228Z"
   },
   {
    "duration": 28,
    "start_time": "2023-02-06T15:31:02.274Z"
   },
   {
    "duration": 39,
    "start_time": "2023-02-06T15:31:02.304Z"
   },
   {
    "duration": 462,
    "start_time": "2023-02-06T15:31:02.345Z"
   },
   {
    "duration": 9,
    "start_time": "2023-02-06T15:31:02.811Z"
   },
   {
    "duration": 652,
    "start_time": "2023-02-06T15:31:02.822Z"
   },
   {
    "duration": 4,
    "start_time": "2023-02-06T15:31:03.476Z"
   },
   {
    "duration": 348,
    "start_time": "2023-02-06T15:31:03.481Z"
   },
   {
    "duration": 6,
    "start_time": "2023-02-06T15:31:03.830Z"
   },
   {
    "duration": 47,
    "start_time": "2023-02-06T15:31:03.838Z"
   },
   {
    "duration": 23,
    "start_time": "2023-02-06T15:31:03.887Z"
   },
   {
    "duration": 41,
    "start_time": "2023-02-06T15:31:03.912Z"
   },
   {
    "duration": 27,
    "start_time": "2023-02-06T15:31:03.955Z"
   },
   {
    "duration": 51,
    "start_time": "2023-02-06T15:31:03.984Z"
   },
   {
    "duration": 31,
    "start_time": "2023-02-06T15:31:04.038Z"
   },
   {
    "duration": 21,
    "start_time": "2023-02-06T15:31:04.071Z"
   },
   {
    "duration": 168,
    "start_time": "2023-02-06T15:31:04.094Z"
   },
   {
    "duration": 3,
    "start_time": "2023-02-06T15:31:04.264Z"
   },
   {
    "duration": 36,
    "start_time": "2023-02-06T15:31:04.269Z"
   },
   {
    "duration": 45,
    "start_time": "2023-02-06T15:31:04.307Z"
   },
   {
    "duration": 29,
    "start_time": "2023-02-06T15:31:04.354Z"
   },
   {
    "duration": 53,
    "start_time": "2023-02-06T15:31:04.386Z"
   },
   {
    "duration": 27,
    "start_time": "2023-02-06T15:31:04.443Z"
   },
   {
    "duration": 40,
    "start_time": "2023-02-06T15:31:04.472Z"
   },
   {
    "duration": 33,
    "start_time": "2023-02-06T15:31:04.514Z"
   },
   {
    "duration": 10985,
    "start_time": "2023-02-06T15:31:04.548Z"
   },
   {
    "duration": 4,
    "start_time": "2023-02-06T15:31:15.534Z"
   },
   {
    "duration": 361,
    "start_time": "2023-02-06T15:31:15.539Z"
   },
   {
    "duration": 3,
    "start_time": "2023-02-06T15:31:15.901Z"
   },
   {
    "duration": 15,
    "start_time": "2023-02-06T15:31:15.905Z"
   },
   {
    "duration": 6,
    "start_time": "2023-02-06T15:31:15.922Z"
   },
   {
    "duration": 734177,
    "start_time": "2023-02-06T15:31:15.936Z"
   },
   {
    "duration": 58,
    "start_time": "2023-02-06T15:43:30.115Z"
   },
   {
    "duration": 10,
    "start_time": "2023-02-06T15:43:30.175Z"
   },
   {
    "duration": 1506,
    "start_time": "2023-02-06T15:43:32.692Z"
   },
   {
    "duration": 52,
    "start_time": "2023-02-06T15:43:34.200Z"
   },
   {
    "duration": 18,
    "start_time": "2023-02-06T15:43:34.258Z"
   },
   {
    "duration": 35,
    "start_time": "2023-02-06T15:43:34.277Z"
   },
   {
    "duration": 27,
    "start_time": "2023-02-06T15:43:34.314Z"
   },
   {
    "duration": 32,
    "start_time": "2023-02-06T15:43:34.343Z"
   },
   {
    "duration": 12,
    "start_time": "2023-02-06T15:43:34.376Z"
   },
   {
    "duration": 52,
    "start_time": "2023-02-06T15:43:34.390Z"
   },
   {
    "duration": 510,
    "start_time": "2023-02-06T15:43:34.445Z"
   },
   {
    "duration": 11,
    "start_time": "2023-02-06T15:43:34.958Z"
   },
   {
    "duration": 748,
    "start_time": "2023-02-06T15:43:34.971Z"
   },
   {
    "duration": 7,
    "start_time": "2023-02-06T15:43:35.721Z"
   },
   {
    "duration": 371,
    "start_time": "2023-02-06T15:43:35.737Z"
   },
   {
    "duration": 4,
    "start_time": "2023-02-06T15:43:36.110Z"
   },
   {
    "duration": 65,
    "start_time": "2023-02-06T15:43:36.116Z"
   },
   {
    "duration": 51,
    "start_time": "2023-02-06T15:43:36.183Z"
   },
   {
    "duration": 55,
    "start_time": "2023-02-06T15:43:36.236Z"
   },
   {
    "duration": 21,
    "start_time": "2023-02-06T15:43:36.293Z"
   },
   {
    "duration": 38,
    "start_time": "2023-02-06T15:43:36.317Z"
   },
   {
    "duration": 47,
    "start_time": "2023-02-06T15:43:36.357Z"
   },
   {
    "duration": 45,
    "start_time": "2023-02-06T15:43:36.407Z"
   },
   {
    "duration": 204,
    "start_time": "2023-02-06T15:43:36.455Z"
   },
   {
    "duration": 5,
    "start_time": "2023-02-06T15:43:36.661Z"
   },
   {
    "duration": 73,
    "start_time": "2023-02-06T15:43:36.668Z"
   },
   {
    "duration": 230,
    "start_time": "2023-02-06T15:43:36.743Z"
   },
   {
    "duration": 122,
    "start_time": "2023-02-06T15:43:36.975Z"
   },
   {
    "duration": 240,
    "start_time": "2023-02-06T15:43:37.101Z"
   },
   {
    "duration": 200,
    "start_time": "2023-02-06T15:43:37.343Z"
   },
   {
    "duration": 52,
    "start_time": "2023-02-06T15:43:37.545Z"
   },
   {
    "duration": 30,
    "start_time": "2023-02-06T15:43:37.599Z"
   },
   {
    "duration": 11466,
    "start_time": "2023-02-06T15:43:37.632Z"
   },
   {
    "duration": 5,
    "start_time": "2023-02-06T15:43:49.099Z"
   },
   {
    "duration": 359,
    "start_time": "2023-02-06T15:43:49.105Z"
   },
   {
    "duration": 4,
    "start_time": "2023-02-06T15:43:49.465Z"
   },
   {
    "duration": 27,
    "start_time": "2023-02-06T15:43:49.470Z"
   },
   {
    "duration": 22,
    "start_time": "2023-02-06T15:43:49.500Z"
   },
   {
    "duration": 169404,
    "start_time": "2023-02-06T15:43:49.524Z"
   },
   {
    "duration": 14,
    "start_time": "2023-02-06T15:46:38.930Z"
   },
   {
    "duration": 4,
    "start_time": "2023-02-06T15:46:38.946Z"
   },
   {
    "duration": 1516,
    "start_time": "2023-02-06T15:47:13.724Z"
   },
   {
    "duration": 45,
    "start_time": "2023-02-06T15:47:15.242Z"
   },
   {
    "duration": 13,
    "start_time": "2023-02-06T15:47:15.289Z"
   },
   {
    "duration": 12,
    "start_time": "2023-02-06T15:47:15.304Z"
   },
   {
    "duration": 18,
    "start_time": "2023-02-06T15:47:15.319Z"
   },
   {
    "duration": 16,
    "start_time": "2023-02-06T15:47:15.339Z"
   },
   {
    "duration": 11,
    "start_time": "2023-02-06T15:47:15.357Z"
   },
   {
    "duration": 12,
    "start_time": "2023-02-06T15:47:15.370Z"
   },
   {
    "duration": 488,
    "start_time": "2023-02-06T15:47:15.383Z"
   },
   {
    "duration": 8,
    "start_time": "2023-02-06T15:47:15.874Z"
   },
   {
    "duration": 674,
    "start_time": "2023-02-06T15:47:15.884Z"
   },
   {
    "duration": 5,
    "start_time": "2023-02-06T15:47:16.560Z"
   },
   {
    "duration": 357,
    "start_time": "2023-02-06T15:47:16.566Z"
   },
   {
    "duration": 9,
    "start_time": "2023-02-06T15:47:16.927Z"
   },
   {
    "duration": 27,
    "start_time": "2023-02-06T15:47:16.938Z"
   },
   {
    "duration": 8,
    "start_time": "2023-02-06T15:47:16.967Z"
   },
   {
    "duration": 6,
    "start_time": "2023-02-06T15:47:16.977Z"
   },
   {
    "duration": 7,
    "start_time": "2023-02-06T15:47:16.985Z"
   },
   {
    "duration": 8,
    "start_time": "2023-02-06T15:47:16.994Z"
   },
   {
    "duration": 41,
    "start_time": "2023-02-06T15:47:17.003Z"
   },
   {
    "duration": 8,
    "start_time": "2023-02-06T15:47:17.046Z"
   },
   {
    "duration": 98,
    "start_time": "2023-02-06T15:47:17.056Z"
   },
   {
    "duration": 4,
    "start_time": "2023-02-06T15:47:17.156Z"
   },
   {
    "duration": 16,
    "start_time": "2023-02-06T15:47:17.162Z"
   },
   {
    "duration": 10,
    "start_time": "2023-02-06T15:47:17.180Z"
   },
   {
    "duration": 10,
    "start_time": "2023-02-06T15:47:17.192Z"
   },
   {
    "duration": 11,
    "start_time": "2023-02-06T15:47:17.203Z"
   },
   {
    "duration": 22,
    "start_time": "2023-02-06T15:47:17.216Z"
   },
   {
    "duration": 9,
    "start_time": "2023-02-06T15:47:17.240Z"
   },
   {
    "duration": 5,
    "start_time": "2023-02-06T15:47:17.251Z"
   },
   {
    "duration": 8549,
    "start_time": "2023-02-06T15:47:17.258Z"
   },
   {
    "duration": 4,
    "start_time": "2023-02-06T15:47:25.808Z"
   },
   {
    "duration": 202,
    "start_time": "2023-02-06T15:47:25.814Z"
   },
   {
    "duration": 3,
    "start_time": "2023-02-06T15:47:26.017Z"
   },
   {
    "duration": 15,
    "start_time": "2023-02-06T15:47:26.021Z"
   },
   {
    "duration": 6,
    "start_time": "2023-02-06T15:47:26.038Z"
   },
   {
    "duration": 124673,
    "start_time": "2023-02-06T15:47:26.046Z"
   },
   {
    "duration": 16,
    "start_time": "2023-02-06T15:49:30.720Z"
   },
   {
    "duration": 17,
    "start_time": "2023-02-06T15:49:30.738Z"
   },
   {
    "duration": 1563,
    "start_time": "2023-02-06T15:51:42.609Z"
   },
   {
    "duration": 45,
    "start_time": "2023-02-06T15:51:44.174Z"
   },
   {
    "duration": 14,
    "start_time": "2023-02-06T15:51:44.221Z"
   },
   {
    "duration": 15,
    "start_time": "2023-02-06T15:51:44.237Z"
   },
   {
    "duration": 11,
    "start_time": "2023-02-06T15:51:44.254Z"
   },
   {
    "duration": 15,
    "start_time": "2023-02-06T15:51:44.267Z"
   },
   {
    "duration": 12,
    "start_time": "2023-02-06T15:51:44.284Z"
   },
   {
    "duration": 46,
    "start_time": "2023-02-06T15:51:44.299Z"
   },
   {
    "duration": 470,
    "start_time": "2023-02-06T15:51:44.346Z"
   },
   {
    "duration": 9,
    "start_time": "2023-02-06T15:51:44.820Z"
   },
   {
    "duration": 700,
    "start_time": "2023-02-06T15:51:44.830Z"
   },
   {
    "duration": 5,
    "start_time": "2023-02-06T15:51:45.532Z"
   },
   {
    "duration": 379,
    "start_time": "2023-02-06T15:51:45.539Z"
   },
   {
    "duration": 4,
    "start_time": "2023-02-06T15:51:45.920Z"
   },
   {
    "duration": 30,
    "start_time": "2023-02-06T15:51:45.926Z"
   },
   {
    "duration": 9,
    "start_time": "2023-02-06T15:51:45.958Z"
   },
   {
    "duration": 6,
    "start_time": "2023-02-06T15:51:45.968Z"
   },
   {
    "duration": 11,
    "start_time": "2023-02-06T15:51:45.975Z"
   },
   {
    "duration": 10,
    "start_time": "2023-02-06T15:51:45.987Z"
   },
   {
    "duration": 9,
    "start_time": "2023-02-06T15:51:45.998Z"
   },
   {
    "duration": 5,
    "start_time": "2023-02-06T15:51:46.009Z"
   },
   {
    "duration": 106,
    "start_time": "2023-02-06T15:51:46.016Z"
   },
   {
    "duration": 13,
    "start_time": "2023-02-06T15:51:46.124Z"
   },
   {
    "duration": 10,
    "start_time": "2023-02-06T15:51:46.139Z"
   },
   {
    "duration": 5,
    "start_time": "2023-02-06T15:51:46.151Z"
   },
   {
    "duration": 6,
    "start_time": "2023-02-06T15:51:46.158Z"
   },
   {
    "duration": 7,
    "start_time": "2023-02-06T15:51:46.165Z"
   },
   {
    "duration": 3,
    "start_time": "2023-02-06T15:51:46.176Z"
   },
   {
    "duration": 10,
    "start_time": "2023-02-06T15:51:46.181Z"
   },
   {
    "duration": 7,
    "start_time": "2023-02-06T15:51:46.193Z"
   },
   {
    "duration": 8790,
    "start_time": "2023-02-06T15:51:46.202Z"
   },
   {
    "duration": 4,
    "start_time": "2023-02-06T15:51:54.994Z"
   },
   {
    "duration": 221,
    "start_time": "2023-02-06T15:51:55.000Z"
   },
   {
    "duration": 3,
    "start_time": "2023-02-06T15:51:55.223Z"
   },
   {
    "duration": 13,
    "start_time": "2023-02-06T15:51:55.227Z"
   },
   {
    "duration": 6,
    "start_time": "2023-02-06T15:51:55.241Z"
   },
   {
    "duration": 128073,
    "start_time": "2023-02-06T15:51:55.248Z"
   },
   {
    "duration": 17,
    "start_time": "2023-02-06T15:54:03.323Z"
   },
   {
    "duration": 38,
    "start_time": "2023-02-06T15:54:03.342Z"
   },
   {
    "duration": 1611,
    "start_time": "2023-02-07T06:33:31.895Z"
   },
   {
    "duration": 125,
    "start_time": "2023-02-07T06:33:33.508Z"
   },
   {
    "duration": 13,
    "start_time": "2023-02-07T06:33:33.635Z"
   },
   {
    "duration": 18,
    "start_time": "2023-02-07T06:33:33.650Z"
   },
   {
    "duration": 14,
    "start_time": "2023-02-07T06:33:33.671Z"
   },
   {
    "duration": 22,
    "start_time": "2023-02-07T06:33:33.687Z"
   },
   {
    "duration": 10,
    "start_time": "2023-02-07T06:33:33.711Z"
   },
   {
    "duration": 16,
    "start_time": "2023-02-07T06:33:33.722Z"
   },
   {
    "duration": 440,
    "start_time": "2023-02-07T06:33:33.740Z"
   },
   {
    "duration": 9,
    "start_time": "2023-02-07T06:33:34.182Z"
   },
   {
    "duration": 676,
    "start_time": "2023-02-07T06:33:34.192Z"
   },
   {
    "duration": 5,
    "start_time": "2023-02-07T06:33:34.870Z"
   },
   {
    "duration": 326,
    "start_time": "2023-02-07T06:33:34.877Z"
   },
   {
    "duration": 3,
    "start_time": "2023-02-07T06:33:35.206Z"
   },
   {
    "duration": 21,
    "start_time": "2023-02-07T06:33:35.211Z"
   },
   {
    "duration": 6,
    "start_time": "2023-02-07T06:33:35.234Z"
   },
   {
    "duration": 4,
    "start_time": "2023-02-07T06:33:35.242Z"
   },
   {
    "duration": 3,
    "start_time": "2023-02-07T06:33:35.266Z"
   },
   {
    "duration": 4,
    "start_time": "2023-02-07T06:33:35.270Z"
   },
   {
    "duration": 5,
    "start_time": "2023-02-07T06:33:35.276Z"
   },
   {
    "duration": 11,
    "start_time": "2023-02-07T06:33:35.282Z"
   },
   {
    "duration": 92,
    "start_time": "2023-02-07T06:33:35.294Z"
   },
   {
    "duration": 3,
    "start_time": "2023-02-07T06:33:35.387Z"
   },
   {
    "duration": 7,
    "start_time": "2023-02-07T06:33:35.392Z"
   },
   {
    "duration": 5,
    "start_time": "2023-02-07T06:33:35.401Z"
   },
   {
    "duration": 9,
    "start_time": "2023-02-07T06:33:35.407Z"
   },
   {
    "duration": 7,
    "start_time": "2023-02-07T06:33:35.417Z"
   },
   {
    "duration": 6,
    "start_time": "2023-02-07T06:33:35.425Z"
   },
   {
    "duration": 5,
    "start_time": "2023-02-07T06:33:35.433Z"
   },
   {
    "duration": 6,
    "start_time": "2023-02-07T06:33:35.439Z"
   },
   {
    "duration": 7980,
    "start_time": "2023-02-07T06:33:35.447Z"
   },
   {
    "duration": 4,
    "start_time": "2023-02-07T06:33:43.429Z"
   },
   {
    "duration": 204,
    "start_time": "2023-02-07T06:33:43.435Z"
   },
   {
    "duration": 3,
    "start_time": "2023-02-07T06:33:43.640Z"
   },
   {
    "duration": 6,
    "start_time": "2023-02-07T06:33:43.645Z"
   },
   {
    "duration": 3,
    "start_time": "2023-02-07T06:33:43.666Z"
   },
   {
    "duration": 103533,
    "start_time": "2023-02-07T06:33:43.671Z"
   },
   {
    "duration": 13,
    "start_time": "2023-02-07T06:35:27.206Z"
   },
   {
    "duration": 3,
    "start_time": "2023-02-07T06:35:27.220Z"
   },
   {
    "duration": 2,
    "start_time": "2023-02-07T06:36:07.175Z"
   },
   {
    "duration": 1360,
    "start_time": "2023-02-07T06:41:06.499Z"
   },
   {
    "duration": 43,
    "start_time": "2023-02-07T06:41:07.860Z"
   },
   {
    "duration": 12,
    "start_time": "2023-02-07T06:41:07.905Z"
   },
   {
    "duration": 25,
    "start_time": "2023-02-07T06:41:07.918Z"
   },
   {
    "duration": 33,
    "start_time": "2023-02-07T06:41:07.945Z"
   },
   {
    "duration": 43,
    "start_time": "2023-02-07T06:41:07.979Z"
   },
   {
    "duration": 19,
    "start_time": "2023-02-07T06:41:08.023Z"
   },
   {
    "duration": 22,
    "start_time": "2023-02-07T06:41:08.043Z"
   },
   {
    "duration": 394,
    "start_time": "2023-02-07T06:41:08.066Z"
   },
   {
    "duration": 9,
    "start_time": "2023-02-07T06:41:08.463Z"
   },
   {
    "duration": 636,
    "start_time": "2023-02-07T06:41:08.474Z"
   },
   {
    "duration": 3,
    "start_time": "2023-02-07T06:41:09.112Z"
   },
   {
    "duration": 323,
    "start_time": "2023-02-07T06:41:09.117Z"
   },
   {
    "duration": 4,
    "start_time": "2023-02-07T06:41:09.441Z"
   },
   {
    "duration": 38,
    "start_time": "2023-02-07T06:41:09.446Z"
   },
   {
    "duration": 9,
    "start_time": "2023-02-07T06:41:09.486Z"
   },
   {
    "duration": 13,
    "start_time": "2023-02-07T06:41:09.496Z"
   },
   {
    "duration": 18,
    "start_time": "2023-02-07T06:41:09.510Z"
   },
   {
    "duration": 21,
    "start_time": "2023-02-07T06:41:09.529Z"
   },
   {
    "duration": 22,
    "start_time": "2023-02-07T06:41:09.551Z"
   },
   {
    "duration": 21,
    "start_time": "2023-02-07T06:41:09.575Z"
   },
   {
    "duration": 18,
    "start_time": "2023-02-07T06:41:09.598Z"
   },
   {
    "duration": 103,
    "start_time": "2023-02-07T06:41:09.617Z"
   },
   {
    "duration": 3,
    "start_time": "2023-02-07T06:41:09.722Z"
   },
   {
    "duration": 27,
    "start_time": "2023-02-07T06:41:09.727Z"
   },
   {
    "duration": 26,
    "start_time": "2023-02-07T06:41:09.755Z"
   },
   {
    "duration": 24,
    "start_time": "2023-02-07T06:41:09.782Z"
   },
   {
    "duration": 29,
    "start_time": "2023-02-07T06:41:09.809Z"
   },
   {
    "duration": 7909,
    "start_time": "2023-02-07T06:41:09.839Z"
   },
   {
    "duration": 4,
    "start_time": "2023-02-07T06:41:17.749Z"
   },
   {
    "duration": 153,
    "start_time": "2023-02-07T06:41:17.755Z"
   },
   {
    "duration": 3,
    "start_time": "2023-02-07T06:41:17.910Z"
   },
   {
    "duration": 14,
    "start_time": "2023-02-07T06:41:17.914Z"
   },
   {
    "duration": 17,
    "start_time": "2023-02-07T06:41:17.929Z"
   },
   {
    "duration": 102552,
    "start_time": "2023-02-07T06:41:17.947Z"
   },
   {
    "duration": 4,
    "start_time": "2023-02-07T06:43:00.500Z"
   },
   {
    "duration": 19,
    "start_time": "2023-02-07T06:43:00.505Z"
   },
   {
    "duration": 49,
    "start_time": "2023-02-07T06:43:00.525Z"
   },
   {
    "duration": 23,
    "start_time": "2023-02-07T06:43:00.575Z"
   },
   {
    "duration": 54,
    "start_time": "2023-02-07T06:43:58.184Z"
   },
   {
    "duration": 6,
    "start_time": "2023-02-07T06:44:07.983Z"
   },
   {
    "duration": 6,
    "start_time": "2023-02-07T06:44:17.688Z"
   },
   {
    "duration": 3,
    "start_time": "2023-02-07T06:46:59.882Z"
   },
   {
    "duration": 340,
    "start_time": "2023-02-07T07:08:04.171Z"
   },
   {
    "duration": 5,
    "start_time": "2023-02-07T07:15:38.757Z"
   },
   {
    "duration": 1352,
    "start_time": "2023-02-07T07:20:58.269Z"
   },
   {
    "duration": 44,
    "start_time": "2023-02-07T07:20:59.622Z"
   },
   {
    "duration": 12,
    "start_time": "2023-02-07T07:20:59.667Z"
   },
   {
    "duration": 13,
    "start_time": "2023-02-07T07:20:59.681Z"
   },
   {
    "duration": 11,
    "start_time": "2023-02-07T07:20:59.696Z"
   },
   {
    "duration": 13,
    "start_time": "2023-02-07T07:20:59.708Z"
   },
   {
    "duration": 9,
    "start_time": "2023-02-07T07:20:59.723Z"
   },
   {
    "duration": 36,
    "start_time": "2023-02-07T07:20:59.733Z"
   },
   {
    "duration": 413,
    "start_time": "2023-02-07T07:20:59.771Z"
   },
   {
    "duration": 7,
    "start_time": "2023-02-07T07:21:00.186Z"
   },
   {
    "duration": 628,
    "start_time": "2023-02-07T07:21:00.194Z"
   },
   {
    "duration": 4,
    "start_time": "2023-02-07T07:21:00.824Z"
   },
   {
    "duration": 362,
    "start_time": "2023-02-07T07:21:00.830Z"
   },
   {
    "duration": 5,
    "start_time": "2023-02-07T07:21:01.195Z"
   },
   {
    "duration": 40,
    "start_time": "2023-02-07T07:21:01.201Z"
   },
   {
    "duration": 8,
    "start_time": "2023-02-07T07:21:01.243Z"
   },
   {
    "duration": 22,
    "start_time": "2023-02-07T07:21:01.252Z"
   },
   {
    "duration": 28,
    "start_time": "2023-02-07T07:21:01.275Z"
   },
   {
    "duration": 24,
    "start_time": "2023-02-07T07:21:01.304Z"
   },
   {
    "duration": 31,
    "start_time": "2023-02-07T07:21:01.329Z"
   },
   {
    "duration": 18,
    "start_time": "2023-02-07T07:21:01.362Z"
   },
   {
    "duration": 26,
    "start_time": "2023-02-07T07:21:01.381Z"
   },
   {
    "duration": 20,
    "start_time": "2023-02-07T07:21:01.409Z"
   },
   {
    "duration": 98,
    "start_time": "2023-02-07T07:21:01.430Z"
   },
   {
    "duration": 4,
    "start_time": "2023-02-07T07:21:01.529Z"
   },
   {
    "duration": 27,
    "start_time": "2023-02-07T07:21:01.535Z"
   },
   {
    "duration": 0,
    "start_time": "2023-02-07T07:21:01.564Z"
   },
   {
    "duration": 0,
    "start_time": "2023-02-07T07:21:01.565Z"
   },
   {
    "duration": 0,
    "start_time": "2023-02-07T07:21:01.566Z"
   },
   {
    "duration": 0,
    "start_time": "2023-02-07T07:21:01.567Z"
   },
   {
    "duration": 0,
    "start_time": "2023-02-07T07:21:01.568Z"
   },
   {
    "duration": 0,
    "start_time": "2023-02-07T07:21:01.569Z"
   },
   {
    "duration": 0,
    "start_time": "2023-02-07T07:21:01.570Z"
   },
   {
    "duration": 0,
    "start_time": "2023-02-07T07:21:01.571Z"
   },
   {
    "duration": 0,
    "start_time": "2023-02-07T07:21:01.572Z"
   },
   {
    "duration": 0,
    "start_time": "2023-02-07T07:21:01.573Z"
   },
   {
    "duration": 0,
    "start_time": "2023-02-07T07:21:01.574Z"
   },
   {
    "duration": 0,
    "start_time": "2023-02-07T07:21:01.575Z"
   },
   {
    "duration": 0,
    "start_time": "2023-02-07T07:21:01.576Z"
   },
   {
    "duration": 0,
    "start_time": "2023-02-07T07:21:01.577Z"
   },
   {
    "duration": 6,
    "start_time": "2023-02-07T07:22:05.885Z"
   },
   {
    "duration": 1404,
    "start_time": "2023-02-07T07:22:09.808Z"
   },
   {
    "duration": 45,
    "start_time": "2023-02-07T07:22:11.213Z"
   },
   {
    "duration": 14,
    "start_time": "2023-02-07T07:22:11.260Z"
   },
   {
    "duration": 22,
    "start_time": "2023-02-07T07:22:11.275Z"
   },
   {
    "duration": 39,
    "start_time": "2023-02-07T07:22:11.299Z"
   },
   {
    "duration": 20,
    "start_time": "2023-02-07T07:22:11.339Z"
   },
   {
    "duration": 22,
    "start_time": "2023-02-07T07:22:11.360Z"
   },
   {
    "duration": 25,
    "start_time": "2023-02-07T07:22:11.384Z"
   },
   {
    "duration": 405,
    "start_time": "2023-02-07T07:22:11.411Z"
   },
   {
    "duration": 7,
    "start_time": "2023-02-07T07:22:11.817Z"
   },
   {
    "duration": 623,
    "start_time": "2023-02-07T07:22:11.826Z"
   },
   {
    "duration": 4,
    "start_time": "2023-02-07T07:22:12.450Z"
   },
   {
    "duration": 349,
    "start_time": "2023-02-07T07:22:12.466Z"
   },
   {
    "duration": 5,
    "start_time": "2023-02-07T07:22:12.817Z"
   },
   {
    "duration": 60,
    "start_time": "2023-02-07T07:22:12.823Z"
   },
   {
    "duration": 26,
    "start_time": "2023-02-07T07:22:12.885Z"
   },
   {
    "duration": 59,
    "start_time": "2023-02-07T07:22:12.913Z"
   },
   {
    "duration": 35,
    "start_time": "2023-02-07T07:22:12.973Z"
   },
   {
    "duration": 49,
    "start_time": "2023-02-07T07:22:13.010Z"
   },
   {
    "duration": 40,
    "start_time": "2023-02-07T07:22:13.061Z"
   },
   {
    "duration": 37,
    "start_time": "2023-02-07T07:22:13.103Z"
   },
   {
    "duration": 10,
    "start_time": "2023-02-07T07:22:13.142Z"
   },
   {
    "duration": 9,
    "start_time": "2023-02-07T07:22:13.153Z"
   },
   {
    "duration": 98,
    "start_time": "2023-02-07T07:22:13.163Z"
   },
   {
    "duration": 4,
    "start_time": "2023-02-07T07:22:13.267Z"
   },
   {
    "duration": 14,
    "start_time": "2023-02-07T07:22:13.273Z"
   },
   {
    "duration": 3,
    "start_time": "2023-02-07T07:22:13.288Z"
   },
   {
    "duration": 5,
    "start_time": "2023-02-07T07:22:13.293Z"
   },
   {
    "duration": 5,
    "start_time": "2023-02-07T07:22:13.299Z"
   },
   {
    "duration": 8342,
    "start_time": "2023-02-07T07:22:13.305Z"
   },
   {
    "duration": 3,
    "start_time": "2023-02-07T07:22:21.649Z"
   },
   {
    "duration": 143,
    "start_time": "2023-02-07T07:22:21.654Z"
   },
   {
    "duration": 3,
    "start_time": "2023-02-07T07:22:21.799Z"
   },
   {
    "duration": 6,
    "start_time": "2023-02-07T07:22:21.803Z"
   },
   {
    "duration": 4,
    "start_time": "2023-02-07T07:22:21.810Z"
   },
   {
    "duration": 101589,
    "start_time": "2023-02-07T07:22:21.815Z"
   },
   {
    "duration": 4,
    "start_time": "2023-02-07T07:24:03.406Z"
   },
   {
    "duration": 12,
    "start_time": "2023-02-07T07:24:03.411Z"
   },
   {
    "duration": 8,
    "start_time": "2023-02-07T07:24:03.425Z"
   },
   {
    "duration": 9,
    "start_time": "2023-02-07T07:24:03.434Z"
   },
   {
    "duration": 71,
    "start_time": "2023-02-07T20:23:32.296Z"
   },
   {
    "duration": 1707,
    "start_time": "2023-02-07T20:23:37.462Z"
   },
   {
    "duration": 134,
    "start_time": "2023-02-07T20:23:39.171Z"
   },
   {
    "duration": 18,
    "start_time": "2023-02-07T20:23:39.307Z"
   },
   {
    "duration": 16,
    "start_time": "2023-02-07T20:23:39.326Z"
   },
   {
    "duration": 12,
    "start_time": "2023-02-07T20:23:39.344Z"
   },
   {
    "duration": 14,
    "start_time": "2023-02-07T20:23:39.358Z"
   },
   {
    "duration": 18,
    "start_time": "2023-02-07T20:23:39.374Z"
   },
   {
    "duration": 53,
    "start_time": "2023-02-07T20:23:39.393Z"
   },
   {
    "duration": 477,
    "start_time": "2023-02-07T20:23:39.448Z"
   },
   {
    "duration": 12,
    "start_time": "2023-02-07T20:23:39.928Z"
   },
   {
    "duration": 702,
    "start_time": "2023-02-07T20:23:39.942Z"
   },
   {
    "duration": 4,
    "start_time": "2023-02-07T20:23:40.645Z"
   },
   {
    "duration": 352,
    "start_time": "2023-02-07T20:23:40.651Z"
   },
   {
    "duration": 4,
    "start_time": "2023-02-07T20:23:41.007Z"
   },
   {
    "duration": 39,
    "start_time": "2023-02-07T20:23:41.021Z"
   },
   {
    "duration": 7,
    "start_time": "2023-02-07T20:23:41.062Z"
   },
   {
    "duration": 16,
    "start_time": "2023-02-07T20:23:41.071Z"
   },
   {
    "duration": 8,
    "start_time": "2023-02-07T20:23:41.088Z"
   },
   {
    "duration": 4,
    "start_time": "2023-02-07T20:23:41.098Z"
   },
   {
    "duration": 6,
    "start_time": "2023-02-07T20:23:41.104Z"
   },
   {
    "duration": 5,
    "start_time": "2023-02-07T20:23:41.124Z"
   },
   {
    "duration": 18,
    "start_time": "2023-02-07T20:23:41.131Z"
   },
   {
    "duration": 8,
    "start_time": "2023-02-07T20:23:41.151Z"
   },
   {
    "duration": 400,
    "start_time": "2023-02-07T20:23:41.161Z"
   },
   {
    "duration": 4,
    "start_time": "2023-02-07T20:23:41.563Z"
   },
   {
    "duration": 68,
    "start_time": "2023-02-07T20:23:41.568Z"
   },
   {
    "duration": 3,
    "start_time": "2023-02-07T20:23:41.638Z"
   },
   {
    "duration": 5,
    "start_time": "2023-02-07T20:23:41.642Z"
   },
   {
    "duration": 5,
    "start_time": "2023-02-07T20:23:41.649Z"
   },
   {
    "duration": 144,
    "start_time": "2023-02-07T20:23:41.655Z"
   },
   {
    "duration": 5,
    "start_time": "2023-02-07T20:23:41.801Z"
   },
   {
    "duration": 73,
    "start_time": "2023-02-07T20:23:41.808Z"
   },
   {
    "duration": 3,
    "start_time": "2023-02-07T20:23:41.883Z"
   },
   {
    "duration": 6,
    "start_time": "2023-02-07T20:23:41.888Z"
   },
   {
    "duration": 7,
    "start_time": "2023-02-07T20:23:41.896Z"
   },
   {
    "duration": 87,
    "start_time": "2023-02-07T20:23:41.905Z"
   },
   {
    "duration": 5,
    "start_time": "2023-02-07T20:23:41.993Z"
   },
   {
    "duration": 61,
    "start_time": "2023-02-07T20:23:41.999Z"
   },
   {
    "duration": 18,
    "start_time": "2023-02-07T20:23:42.061Z"
   },
   {
    "duration": 0,
    "start_time": "2023-02-07T20:23:42.080Z"
   },
   {
    "duration": 1525,
    "start_time": "2023-02-07T20:24:07.866Z"
   },
   {
    "duration": 58,
    "start_time": "2023-02-07T20:24:09.394Z"
   },
   {
    "duration": 13,
    "start_time": "2023-02-07T20:24:09.454Z"
   },
   {
    "duration": 10,
    "start_time": "2023-02-07T20:24:09.470Z"
   },
   {
    "duration": 15,
    "start_time": "2023-02-07T20:24:09.482Z"
   },
   {
    "duration": 34,
    "start_time": "2023-02-07T20:24:09.499Z"
   },
   {
    "duration": 11,
    "start_time": "2023-02-07T20:24:09.537Z"
   },
   {
    "duration": 15,
    "start_time": "2023-02-07T20:24:09.550Z"
   },
   {
    "duration": 473,
    "start_time": "2023-02-07T20:24:09.567Z"
   },
   {
    "duration": 8,
    "start_time": "2023-02-07T20:24:10.044Z"
   },
   {
    "duration": 680,
    "start_time": "2023-02-07T20:24:10.054Z"
   },
   {
    "duration": 4,
    "start_time": "2023-02-07T20:24:10.737Z"
   },
   {
    "duration": 372,
    "start_time": "2023-02-07T20:24:10.743Z"
   },
   {
    "duration": 17,
    "start_time": "2023-02-07T20:24:11.116Z"
   },
   {
    "duration": 28,
    "start_time": "2023-02-07T20:24:11.134Z"
   },
   {
    "duration": 7,
    "start_time": "2023-02-07T20:24:11.164Z"
   },
   {
    "duration": 5,
    "start_time": "2023-02-07T20:24:11.173Z"
   },
   {
    "duration": 10,
    "start_time": "2023-02-07T20:24:11.179Z"
   },
   {
    "duration": 8,
    "start_time": "2023-02-07T20:24:11.191Z"
   },
   {
    "duration": 10,
    "start_time": "2023-02-07T20:24:11.200Z"
   },
   {
    "duration": 22,
    "start_time": "2023-02-07T20:24:11.211Z"
   },
   {
    "duration": 7,
    "start_time": "2023-02-07T20:24:11.235Z"
   },
   {
    "duration": 5,
    "start_time": "2023-02-07T20:24:11.244Z"
   },
   {
    "duration": 94,
    "start_time": "2023-02-07T20:24:11.250Z"
   },
   {
    "duration": 4,
    "start_time": "2023-02-07T20:24:11.346Z"
   },
   {
    "duration": 12,
    "start_time": "2023-02-07T20:24:11.351Z"
   },
   {
    "duration": 3,
    "start_time": "2023-02-07T20:24:11.365Z"
   },
   {
    "duration": 7,
    "start_time": "2023-02-07T20:24:11.371Z"
   },
   {
    "duration": 7,
    "start_time": "2023-02-07T20:24:11.380Z"
   },
   {
    "duration": 10427,
    "start_time": "2023-02-07T20:24:11.388Z"
   },
   {
    "duration": 18,
    "start_time": "2023-02-07T20:24:21.824Z"
   },
   {
    "duration": 239,
    "start_time": "2023-02-07T20:24:21.845Z"
   },
   {
    "duration": 3,
    "start_time": "2023-02-07T20:24:22.086Z"
   },
   {
    "duration": 5,
    "start_time": "2023-02-07T20:24:22.091Z"
   },
   {
    "duration": 7,
    "start_time": "2023-02-07T20:24:22.098Z"
   },
   {
    "duration": 117522,
    "start_time": "2023-02-07T20:24:22.106Z"
   },
   {
    "duration": 10,
    "start_time": "2023-02-07T20:26:19.629Z"
   },
   {
    "duration": 12,
    "start_time": "2023-02-07T20:26:19.641Z"
   },
   {
    "duration": 9,
    "start_time": "2023-02-07T20:26:19.655Z"
   },
   {
    "duration": 13,
    "start_time": "2023-02-07T20:26:19.666Z"
   },
   {
    "duration": 4,
    "start_time": "2023-02-07T20:27:50.669Z"
   },
   {
    "duration": 4,
    "start_time": "2023-02-07T20:28:24.913Z"
   },
   {
    "duration": 3,
    "start_time": "2023-02-07T20:28:25.337Z"
   },
   {
    "duration": 194,
    "start_time": "2023-02-07T20:28:26.481Z"
   },
   {
    "duration": 3,
    "start_time": "2023-02-07T20:29:10.805Z"
   },
   {
    "duration": 66,
    "start_time": "2023-02-07T20:29:12.888Z"
   },
   {
    "duration": 3,
    "start_time": "2023-02-07T20:29:19.720Z"
   },
   {
    "duration": 3,
    "start_time": "2023-02-07T20:29:20.133Z"
   },
   {
    "duration": 3,
    "start_time": "2023-02-07T20:29:21.014Z"
   },
   {
    "duration": 3,
    "start_time": "2023-02-07T20:29:22.574Z"
   },
   {
    "duration": 232,
    "start_time": "2023-02-07T20:29:23.066Z"
   },
   {
    "duration": 4,
    "start_time": "2023-02-07T20:29:26.238Z"
   },
   {
    "duration": 7,
    "start_time": "2023-02-07T20:29:27.596Z"
   },
   {
    "duration": 1455,
    "start_time": "2023-02-07T20:31:41.837Z"
   },
   {
    "duration": 46,
    "start_time": "2023-02-07T20:31:43.294Z"
   },
   {
    "duration": 14,
    "start_time": "2023-02-07T20:31:43.342Z"
   },
   {
    "duration": 19,
    "start_time": "2023-02-07T20:31:43.359Z"
   },
   {
    "duration": 14,
    "start_time": "2023-02-07T20:31:43.379Z"
   },
   {
    "duration": 33,
    "start_time": "2023-02-07T20:31:43.395Z"
   },
   {
    "duration": 29,
    "start_time": "2023-02-07T20:31:43.429Z"
   },
   {
    "duration": 25,
    "start_time": "2023-02-07T20:31:43.461Z"
   },
   {
    "duration": 488,
    "start_time": "2023-02-07T20:31:43.488Z"
   },
   {
    "duration": 8,
    "start_time": "2023-02-07T20:31:43.979Z"
   },
   {
    "duration": 723,
    "start_time": "2023-02-07T20:31:43.988Z"
   },
   {
    "duration": 9,
    "start_time": "2023-02-07T20:31:44.713Z"
   },
   {
    "duration": 391,
    "start_time": "2023-02-07T20:31:44.724Z"
   },
   {
    "duration": 7,
    "start_time": "2023-02-07T20:31:45.116Z"
   },
   {
    "duration": 43,
    "start_time": "2023-02-07T20:31:45.126Z"
   },
   {
    "duration": 8,
    "start_time": "2023-02-07T20:31:45.171Z"
   },
   {
    "duration": 20,
    "start_time": "2023-02-07T20:31:45.181Z"
   },
   {
    "duration": 23,
    "start_time": "2023-02-07T20:31:45.203Z"
   },
   {
    "duration": 27,
    "start_time": "2023-02-07T20:31:45.227Z"
   },
   {
    "duration": 19,
    "start_time": "2023-02-07T20:31:45.256Z"
   },
   {
    "duration": 22,
    "start_time": "2023-02-07T20:31:45.277Z"
   },
   {
    "duration": 11,
    "start_time": "2023-02-07T20:31:45.301Z"
   },
   {
    "duration": 29,
    "start_time": "2023-02-07T20:31:45.314Z"
   },
   {
    "duration": 261,
    "start_time": "2023-02-07T20:31:45.345Z"
   },
   {
    "duration": 4,
    "start_time": "2023-02-07T20:31:45.608Z"
   },
   {
    "duration": 11,
    "start_time": "2023-02-07T20:31:45.621Z"
   },
   {
    "duration": 22,
    "start_time": "2023-02-07T20:31:45.634Z"
   },
   {
    "duration": 12,
    "start_time": "2023-02-07T20:31:45.660Z"
   },
   {
    "duration": 28,
    "start_time": "2023-02-07T20:31:45.674Z"
   },
   {
    "duration": 20843,
    "start_time": "2023-02-07T20:31:45.703Z"
   },
   {
    "duration": 5,
    "start_time": "2023-02-07T20:32:06.547Z"
   },
   {
    "duration": 237,
    "start_time": "2023-02-07T20:32:06.553Z"
   },
   {
    "duration": 3,
    "start_time": "2023-02-07T20:32:06.792Z"
   },
   {
    "duration": 7,
    "start_time": "2023-02-07T20:32:06.797Z"
   },
   {
    "duration": 10,
    "start_time": "2023-02-07T20:32:06.806Z"
   },
   {
    "duration": 316356,
    "start_time": "2023-02-07T20:32:06.821Z"
   },
   {
    "duration": 5,
    "start_time": "2023-02-07T20:37:23.178Z"
   },
   {
    "duration": 15,
    "start_time": "2023-02-07T20:37:23.186Z"
   },
   {
    "duration": 12,
    "start_time": "2023-02-07T20:37:23.203Z"
   },
   {
    "duration": 11,
    "start_time": "2023-02-07T20:37:23.217Z"
   },
   {
    "duration": 53,
    "start_time": "2023-02-07T20:37:58.804Z"
   },
   {
    "duration": 6,
    "start_time": "2023-02-07T20:38:18.154Z"
   },
   {
    "duration": 289,
    "start_time": "2023-02-07T20:40:37.746Z"
   },
   {
    "duration": 332,
    "start_time": "2023-02-07T20:41:15.271Z"
   },
   {
    "duration": 1464,
    "start_time": "2023-02-07T20:47:28.218Z"
   },
   {
    "duration": 52,
    "start_time": "2023-02-07T20:47:29.684Z"
   },
   {
    "duration": 14,
    "start_time": "2023-02-07T20:47:29.738Z"
   },
   {
    "duration": 13,
    "start_time": "2023-02-07T20:47:29.754Z"
   },
   {
    "duration": 19,
    "start_time": "2023-02-07T20:47:29.770Z"
   },
   {
    "duration": 32,
    "start_time": "2023-02-07T20:47:29.791Z"
   },
   {
    "duration": 13,
    "start_time": "2023-02-07T20:47:29.825Z"
   },
   {
    "duration": 23,
    "start_time": "2023-02-07T20:47:29.840Z"
   },
   {
    "duration": 504,
    "start_time": "2023-02-07T20:47:29.865Z"
   },
   {
    "duration": 12,
    "start_time": "2023-02-07T20:47:30.371Z"
   },
   {
    "duration": 732,
    "start_time": "2023-02-07T20:47:30.385Z"
   },
   {
    "duration": 4,
    "start_time": "2023-02-07T20:47:31.119Z"
   },
   {
    "duration": 61,
    "start_time": "2023-02-07T20:47:31.125Z"
   },
   {
    "duration": 9,
    "start_time": "2023-02-07T20:47:31.189Z"
   },
   {
    "duration": 14,
    "start_time": "2023-02-07T20:47:31.201Z"
   },
   {
    "duration": 35,
    "start_time": "2023-02-07T20:47:31.217Z"
   },
   {
    "duration": 18,
    "start_time": "2023-02-07T20:47:31.254Z"
   },
   {
    "duration": 22,
    "start_time": "2023-02-07T20:47:31.274Z"
   },
   {
    "duration": 36,
    "start_time": "2023-02-07T20:47:31.298Z"
   },
   {
    "duration": 34,
    "start_time": "2023-02-07T20:47:31.336Z"
   },
   {
    "duration": 8,
    "start_time": "2023-02-07T20:47:31.372Z"
   },
   {
    "duration": 276,
    "start_time": "2023-02-07T20:47:31.382Z"
   },
   {
    "duration": 4,
    "start_time": "2023-02-07T20:47:31.661Z"
   },
   {
    "duration": 11,
    "start_time": "2023-02-07T20:47:31.667Z"
   },
   {
    "duration": 14,
    "start_time": "2023-02-07T20:47:31.680Z"
   },
   {
    "duration": 25,
    "start_time": "2023-02-07T20:47:31.696Z"
   },
   {
    "duration": 14,
    "start_time": "2023-02-07T20:47:31.723Z"
   },
   {
    "duration": 21075,
    "start_time": "2023-02-07T20:47:31.739Z"
   },
   {
    "duration": 5,
    "start_time": "2023-02-07T20:47:52.820Z"
   },
   {
    "duration": 228,
    "start_time": "2023-02-07T20:47:52.827Z"
   },
   {
    "duration": 3,
    "start_time": "2023-02-07T20:47:53.057Z"
   },
   {
    "duration": 6,
    "start_time": "2023-02-07T20:47:53.062Z"
   },
   {
    "duration": 4,
    "start_time": "2023-02-07T20:47:53.070Z"
   },
   {
    "duration": 301769,
    "start_time": "2023-02-07T20:47:53.076Z"
   },
   {
    "duration": 4,
    "start_time": "2023-02-07T20:52:54.847Z"
   },
   {
    "duration": 10,
    "start_time": "2023-02-07T20:52:54.853Z"
   },
   {
    "duration": 14,
    "start_time": "2023-02-07T20:52:54.865Z"
   },
   {
    "duration": 62,
    "start_time": "2023-02-07T20:52:54.881Z"
   },
   {
    "duration": 371,
    "start_time": "2023-02-07T20:52:54.945Z"
   },
   {
    "duration": 50,
    "start_time": "2023-02-07T20:52:55.320Z"
   },
   {
    "duration": 1596,
    "start_time": "2023-02-08T06:01:27.878Z"
   },
   {
    "duration": 195,
    "start_time": "2023-02-08T06:01:29.476Z"
   },
   {
    "duration": 12,
    "start_time": "2023-02-08T06:01:29.673Z"
   },
   {
    "duration": 16,
    "start_time": "2023-02-08T06:01:29.687Z"
   },
   {
    "duration": 10,
    "start_time": "2023-02-08T06:01:29.705Z"
   },
   {
    "duration": 15,
    "start_time": "2023-02-08T06:01:29.716Z"
   },
   {
    "duration": 10,
    "start_time": "2023-02-08T06:01:29.732Z"
   },
   {
    "duration": 15,
    "start_time": "2023-02-08T06:01:29.744Z"
   },
   {
    "duration": 452,
    "start_time": "2023-02-08T06:01:29.761Z"
   },
   {
    "duration": 12,
    "start_time": "2023-02-08T06:01:30.214Z"
   },
   {
    "duration": 723,
    "start_time": "2023-02-08T06:01:30.228Z"
   },
   {
    "duration": 4,
    "start_time": "2023-02-08T06:01:30.953Z"
   },
   {
    "duration": 81,
    "start_time": "2023-02-08T06:01:30.959Z"
   },
   {
    "duration": 15,
    "start_time": "2023-02-08T06:01:31.043Z"
   },
   {
    "duration": 42,
    "start_time": "2023-02-08T06:01:31.060Z"
   },
   {
    "duration": 34,
    "start_time": "2023-02-08T06:01:31.103Z"
   },
   {
    "duration": 27,
    "start_time": "2023-02-08T06:01:31.139Z"
   },
   {
    "duration": 22,
    "start_time": "2023-02-08T06:01:31.168Z"
   },
   {
    "duration": 36,
    "start_time": "2023-02-08T06:01:31.192Z"
   },
   {
    "duration": 12,
    "start_time": "2023-02-08T06:01:31.230Z"
   },
   {
    "duration": 23,
    "start_time": "2023-02-08T06:01:31.244Z"
   },
   {
    "duration": 220,
    "start_time": "2023-02-08T06:01:31.268Z"
   },
   {
    "duration": 3,
    "start_time": "2023-02-08T06:01:31.492Z"
   },
   {
    "duration": 12,
    "start_time": "2023-02-08T06:01:31.497Z"
   },
   {
    "duration": 9,
    "start_time": "2023-02-08T06:01:31.510Z"
   },
   {
    "duration": 9,
    "start_time": "2023-02-08T06:01:31.520Z"
   },
   {
    "duration": 7,
    "start_time": "2023-02-08T06:01:31.531Z"
   },
   {
    "duration": 18877,
    "start_time": "2023-02-08T06:01:31.539Z"
   },
   {
    "duration": 4,
    "start_time": "2023-02-08T06:01:50.418Z"
   },
   {
    "duration": 235,
    "start_time": "2023-02-08T06:01:50.424Z"
   },
   {
    "duration": 2,
    "start_time": "2023-02-08T06:01:50.661Z"
   },
   {
    "duration": 8,
    "start_time": "2023-02-08T06:01:50.665Z"
   },
   {
    "duration": 7,
    "start_time": "2023-02-08T06:01:50.674Z"
   },
   {
    "duration": 278353,
    "start_time": "2023-02-08T06:01:50.682Z"
   },
   {
    "duration": 6,
    "start_time": "2023-02-08T06:06:29.037Z"
   },
   {
    "duration": 34,
    "start_time": "2023-02-08T06:06:29.045Z"
   },
   {
    "duration": 68,
    "start_time": "2023-02-08T06:06:29.081Z"
   },
   {
    "duration": 102,
    "start_time": "2023-02-08T06:06:29.151Z"
   },
   {
    "duration": 404,
    "start_time": "2023-02-08T06:06:29.255Z"
   },
   {
    "duration": 1456,
    "start_time": "2023-02-08T06:30:20.052Z"
   },
   {
    "duration": 44,
    "start_time": "2023-02-08T06:30:21.509Z"
   },
   {
    "duration": 16,
    "start_time": "2023-02-08T06:30:21.554Z"
   },
   {
    "duration": 12,
    "start_time": "2023-02-08T06:30:21.573Z"
   },
   {
    "duration": 13,
    "start_time": "2023-02-08T06:30:21.587Z"
   },
   {
    "duration": 13,
    "start_time": "2023-02-08T06:30:21.602Z"
   },
   {
    "duration": 9,
    "start_time": "2023-02-08T06:30:21.617Z"
   },
   {
    "duration": 17,
    "start_time": "2023-02-08T06:30:21.629Z"
   },
   {
    "duration": 434,
    "start_time": "2023-02-08T06:30:21.647Z"
   },
   {
    "duration": 7,
    "start_time": "2023-02-08T06:30:22.083Z"
   },
   {
    "duration": 639,
    "start_time": "2023-02-08T06:30:22.092Z"
   },
   {
    "duration": 4,
    "start_time": "2023-02-08T06:30:22.732Z"
   },
   {
    "duration": 23,
    "start_time": "2023-02-08T06:30:22.738Z"
   },
   {
    "duration": 8,
    "start_time": "2023-02-08T06:30:22.763Z"
   },
   {
    "duration": 20,
    "start_time": "2023-02-08T06:30:22.772Z"
   },
   {
    "duration": 13,
    "start_time": "2023-02-08T06:30:22.793Z"
   },
   {
    "duration": 9,
    "start_time": "2023-02-08T06:30:22.808Z"
   },
   {
    "duration": 20,
    "start_time": "2023-02-08T06:30:22.819Z"
   },
   {
    "duration": 5,
    "start_time": "2023-02-08T06:30:22.841Z"
   },
   {
    "duration": 5,
    "start_time": "2023-02-08T06:30:22.848Z"
   },
   {
    "duration": 6,
    "start_time": "2023-02-08T06:30:22.855Z"
   },
   {
    "duration": 216,
    "start_time": "2023-02-08T06:30:22.862Z"
   },
   {
    "duration": 3,
    "start_time": "2023-02-08T06:30:23.080Z"
   },
   {
    "duration": 7,
    "start_time": "2023-02-08T06:30:23.092Z"
   },
   {
    "duration": 3,
    "start_time": "2023-02-08T06:30:23.100Z"
   },
   {
    "duration": 8,
    "start_time": "2023-02-08T06:30:23.105Z"
   },
   {
    "duration": 5,
    "start_time": "2023-02-08T06:30:23.115Z"
   },
   {
    "duration": 18515,
    "start_time": "2023-02-08T06:30:23.124Z"
   },
   {
    "duration": 4,
    "start_time": "2023-02-08T06:30:41.641Z"
   },
   {
    "duration": 220,
    "start_time": "2023-02-08T06:30:41.647Z"
   },
   {
    "duration": 3,
    "start_time": "2023-02-08T06:30:41.869Z"
   },
   {
    "duration": 6,
    "start_time": "2023-02-08T06:30:41.873Z"
   },
   {
    "duration": 5,
    "start_time": "2023-02-08T06:30:41.880Z"
   },
   {
    "duration": 283514,
    "start_time": "2023-02-08T06:30:41.892Z"
   },
   {
    "duration": 4,
    "start_time": "2023-02-08T06:35:25.407Z"
   },
   {
    "duration": 17,
    "start_time": "2023-02-08T06:35:25.412Z"
   },
   {
    "duration": 17,
    "start_time": "2023-02-08T06:35:25.430Z"
   },
   {
    "duration": 57,
    "start_time": "2023-02-08T06:35:25.449Z"
   },
   {
    "duration": 298,
    "start_time": "2023-02-08T06:35:25.508Z"
   }
  ],
  "kernelspec": {
   "display_name": "Python 3 (ipykernel)",
   "language": "python",
   "name": "python3"
  },
  "language_info": {
   "codemirror_mode": {
    "name": "ipython",
    "version": 3
   },
   "file_extension": ".py",
   "mimetype": "text/x-python",
   "name": "python",
   "nbconvert_exporter": "python",
   "pygments_lexer": "ipython3",
   "version": "3.9.12"
  },
  "toc": {
   "base_numbering": 1,
   "nav_menu": {},
   "number_sections": true,
   "sideBar": true,
   "skip_h1_title": true,
   "title_cell": "Содержание",
   "title_sidebar": "Contents",
   "toc_cell": true,
   "toc_position": {},
   "toc_section_display": true,
   "toc_window_display": true
  }
 },
 "nbformat": 4,
 "nbformat_minor": 2
}
