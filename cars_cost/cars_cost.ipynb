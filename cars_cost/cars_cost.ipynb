{
 "cells": [
  {
   "cell_type": "markdown",
   "metadata": {
    "toc": true
   },
   "source": [
    "<h1>Содержание<span class=\"tocSkip\"></span></h1>\n",
    "<div class=\"toc\"><ul class=\"toc-item\"><li><span><a href=\"#Описание-проекта\" data-toc-modified-id=\"Описание-проекта-1\"><span class=\"toc-item-num\">1&nbsp;&nbsp;</span>Описание проекта</a></span></li><li><span><a href=\"#Подготовка-данных\" data-toc-modified-id=\"Подготовка-данных-2\"><span class=\"toc-item-num\">2&nbsp;&nbsp;</span>Подготовка данных</a></span></li><li><span><a href=\"#Обучение-моделей\" data-toc-modified-id=\"Обучение-моделей-3\"><span class=\"toc-item-num\">3&nbsp;&nbsp;</span>Обучение моделей</a></span><ul class=\"toc-item\"><li><span><a href=\"#CatBoostRegressor\" data-toc-modified-id=\"CatBoostRegressor-3.1\"><span class=\"toc-item-num\">3.1&nbsp;&nbsp;</span>CatBoostRegressor</a></span></li><li><span><a href=\"#LGBMRegressor\" data-toc-modified-id=\"LGBMRegressor-3.2\"><span class=\"toc-item-num\">3.2&nbsp;&nbsp;</span>LGBMRegressor</a></span></li><li><span><a href=\"#DecisionTreeRegressor\" data-toc-modified-id=\"DecisionTreeRegressor-3.3\"><span class=\"toc-item-num\">3.3&nbsp;&nbsp;</span>DecisionTreeRegressor</a></span></li><li><span><a href=\"#RandomForestRegressor\" data-toc-modified-id=\"RandomForestRegressor-3.4\"><span class=\"toc-item-num\">3.4&nbsp;&nbsp;</span>RandomForestRegressor</a></span></li></ul></li><li><span><a href=\"#Анализ-моделей\" data-toc-modified-id=\"Анализ-моделей-4\"><span class=\"toc-item-num\">4&nbsp;&nbsp;</span>Анализ моделей</a></span></li></ul></div>"
   ]
  },
  {
   "cell_type": "markdown",
   "metadata": {},
   "source": [
    "# Определение стоимости автомобилей"
   ]
  },
  {
   "cell_type": "markdown",
   "metadata": {},
   "source": [
    "## Описание проекта"
   ]
  },
  {
   "cell_type": "markdown",
   "metadata": {},
   "source": [
    "**Заказчик**\n",
    "\n",
    "Сервис по продаже автомобилей с пробегом «Не бит, не крашен».\n",
    "\n",
    "**Задача**\n",
    "\n",
    "Построить модель для определения рыночной стоимости своего автомобиля. \n",
    "Заказчику важны:\n",
    "\n",
    "- качество предсказания;\n",
    "- скорость предсказания;\n",
    "- время обучения.\n",
    "\n",
    "**Данные**\n",
    "\n",
    "Исторические данные: технические характеристики, комплектации и цены автомобилей. "
   ]
  },
  {
   "cell_type": "markdown",
   "metadata": {},
   "source": [
    "## Подготовка данных"
   ]
  },
  {
   "cell_type": "code",
   "execution_count": 1,
   "metadata": {},
   "outputs": [],
   "source": [
    "# Загружаем бибилотеки.  \n",
    "import pandas as pd\n",
    "import numpy as np\n",
    "import sklearn\n",
    "from sklearn.model_selection import train_test_split\n",
    "from sklearn.tree import DecisionTreeRegressor\n",
    "from sklearn.preprocessing import StandardScaler\n",
    "from sklearn.ensemble import RandomForestRegressor\n",
    "from sklearn.metrics import mean_squared_error\n",
    "from sklearn.model_selection import GridSearchCV\n",
    "from sklearn import set_config\n",
    "from catboost import CatBoostRegressor\n",
    "from lightgbm import LGBMRegressor\n",
    "import matplotlib.pyplot as plt \n",
    "import matplotlib.ticker as ticker\n",
    "from sklearn.preprocessing import OrdinalEncoder \n",
    "import seaborn as sns"
   ]
  },
  {
   "cell_type": "code",
   "execution_count": 2,
   "metadata": {},
   "outputs": [],
   "source": [
    "set_config(display=\"text\")"
   ]
  },
  {
   "cell_type": "code",
   "execution_count": 3,
   "metadata": {},
   "outputs": [],
   "source": [
    "# Сохраняем путь к файлу на сервере Практикума.\n",
    "server_path = '/datasets/autos.csv' \n",
    "\n",
    "\n",
    "# Сохраняем путь к файлу на компьютере.\n",
    "local_path = 'datasets/autos.csv'   \n",
    "\n",
    "try:                                                   # Пробуем найти данные по сетевому адресу,\n",
    "    df = pd.read_csv(server_path) \n",
    "except:                                                # если не находим по сетевому, ищем по локальному.\n",
    "    df = pd.read_csv(local_path) "
   ]
  },
  {
   "cell_type": "code",
   "execution_count": 4,
   "metadata": {},
   "outputs": [
    {
     "data": {
      "text/html": [
       "<div>\n",
       "<style scoped>\n",
       "    .dataframe tbody tr th:only-of-type {\n",
       "        vertical-align: middle;\n",
       "    }\n",
       "\n",
       "    .dataframe tbody tr th {\n",
       "        vertical-align: top;\n",
       "    }\n",
       "\n",
       "    .dataframe thead th {\n",
       "        text-align: right;\n",
       "    }\n",
       "</style>\n",
       "<table border=\"1\" class=\"dataframe\">\n",
       "  <thead>\n",
       "    <tr style=\"text-align: right;\">\n",
       "      <th></th>\n",
       "      <th>DateCrawled</th>\n",
       "      <th>Price</th>\n",
       "      <th>VehicleType</th>\n",
       "      <th>RegistrationYear</th>\n",
       "      <th>Gearbox</th>\n",
       "      <th>Power</th>\n",
       "      <th>Model</th>\n",
       "      <th>Kilometer</th>\n",
       "      <th>RegistrationMonth</th>\n",
       "      <th>FuelType</th>\n",
       "      <th>Brand</th>\n",
       "      <th>NotRepaired</th>\n",
       "      <th>DateCreated</th>\n",
       "      <th>NumberOfPictures</th>\n",
       "      <th>PostalCode</th>\n",
       "      <th>LastSeen</th>\n",
       "    </tr>\n",
       "  </thead>\n",
       "  <tbody>\n",
       "    <tr>\n",
       "      <th>0</th>\n",
       "      <td>2016-03-24 11:52:17</td>\n",
       "      <td>480</td>\n",
       "      <td>NaN</td>\n",
       "      <td>1993</td>\n",
       "      <td>manual</td>\n",
       "      <td>0</td>\n",
       "      <td>golf</td>\n",
       "      <td>150000</td>\n",
       "      <td>0</td>\n",
       "      <td>petrol</td>\n",
       "      <td>volkswagen</td>\n",
       "      <td>NaN</td>\n",
       "      <td>2016-03-24 00:00:00</td>\n",
       "      <td>0</td>\n",
       "      <td>70435</td>\n",
       "      <td>2016-04-07 03:16:57</td>\n",
       "    </tr>\n",
       "    <tr>\n",
       "      <th>1</th>\n",
       "      <td>2016-03-24 10:58:45</td>\n",
       "      <td>18300</td>\n",
       "      <td>coupe</td>\n",
       "      <td>2011</td>\n",
       "      <td>manual</td>\n",
       "      <td>190</td>\n",
       "      <td>NaN</td>\n",
       "      <td>125000</td>\n",
       "      <td>5</td>\n",
       "      <td>gasoline</td>\n",
       "      <td>audi</td>\n",
       "      <td>yes</td>\n",
       "      <td>2016-03-24 00:00:00</td>\n",
       "      <td>0</td>\n",
       "      <td>66954</td>\n",
       "      <td>2016-04-07 01:46:50</td>\n",
       "    </tr>\n",
       "    <tr>\n",
       "      <th>2</th>\n",
       "      <td>2016-03-14 12:52:21</td>\n",
       "      <td>9800</td>\n",
       "      <td>suv</td>\n",
       "      <td>2004</td>\n",
       "      <td>auto</td>\n",
       "      <td>163</td>\n",
       "      <td>grand</td>\n",
       "      <td>125000</td>\n",
       "      <td>8</td>\n",
       "      <td>gasoline</td>\n",
       "      <td>jeep</td>\n",
       "      <td>NaN</td>\n",
       "      <td>2016-03-14 00:00:00</td>\n",
       "      <td>0</td>\n",
       "      <td>90480</td>\n",
       "      <td>2016-04-05 12:47:46</td>\n",
       "    </tr>\n",
       "    <tr>\n",
       "      <th>3</th>\n",
       "      <td>2016-03-17 16:54:04</td>\n",
       "      <td>1500</td>\n",
       "      <td>small</td>\n",
       "      <td>2001</td>\n",
       "      <td>manual</td>\n",
       "      <td>75</td>\n",
       "      <td>golf</td>\n",
       "      <td>150000</td>\n",
       "      <td>6</td>\n",
       "      <td>petrol</td>\n",
       "      <td>volkswagen</td>\n",
       "      <td>no</td>\n",
       "      <td>2016-03-17 00:00:00</td>\n",
       "      <td>0</td>\n",
       "      <td>91074</td>\n",
       "      <td>2016-03-17 17:40:17</td>\n",
       "    </tr>\n",
       "    <tr>\n",
       "      <th>4</th>\n",
       "      <td>2016-03-31 17:25:20</td>\n",
       "      <td>3600</td>\n",
       "      <td>small</td>\n",
       "      <td>2008</td>\n",
       "      <td>manual</td>\n",
       "      <td>69</td>\n",
       "      <td>fabia</td>\n",
       "      <td>90000</td>\n",
       "      <td>7</td>\n",
       "      <td>gasoline</td>\n",
       "      <td>skoda</td>\n",
       "      <td>no</td>\n",
       "      <td>2016-03-31 00:00:00</td>\n",
       "      <td>0</td>\n",
       "      <td>60437</td>\n",
       "      <td>2016-04-06 10:17:21</td>\n",
       "    </tr>\n",
       "    <tr>\n",
       "      <th>5</th>\n",
       "      <td>2016-04-04 17:36:23</td>\n",
       "      <td>650</td>\n",
       "      <td>sedan</td>\n",
       "      <td>1995</td>\n",
       "      <td>manual</td>\n",
       "      <td>102</td>\n",
       "      <td>3er</td>\n",
       "      <td>150000</td>\n",
       "      <td>10</td>\n",
       "      <td>petrol</td>\n",
       "      <td>bmw</td>\n",
       "      <td>yes</td>\n",
       "      <td>2016-04-04 00:00:00</td>\n",
       "      <td>0</td>\n",
       "      <td>33775</td>\n",
       "      <td>2016-04-06 19:17:07</td>\n",
       "    </tr>\n",
       "    <tr>\n",
       "      <th>6</th>\n",
       "      <td>2016-04-01 20:48:51</td>\n",
       "      <td>2200</td>\n",
       "      <td>convertible</td>\n",
       "      <td>2004</td>\n",
       "      <td>manual</td>\n",
       "      <td>109</td>\n",
       "      <td>2_reihe</td>\n",
       "      <td>150000</td>\n",
       "      <td>8</td>\n",
       "      <td>petrol</td>\n",
       "      <td>peugeot</td>\n",
       "      <td>no</td>\n",
       "      <td>2016-04-01 00:00:00</td>\n",
       "      <td>0</td>\n",
       "      <td>67112</td>\n",
       "      <td>2016-04-05 18:18:39</td>\n",
       "    </tr>\n",
       "    <tr>\n",
       "      <th>7</th>\n",
       "      <td>2016-03-21 18:54:38</td>\n",
       "      <td>0</td>\n",
       "      <td>sedan</td>\n",
       "      <td>1980</td>\n",
       "      <td>manual</td>\n",
       "      <td>50</td>\n",
       "      <td>other</td>\n",
       "      <td>40000</td>\n",
       "      <td>7</td>\n",
       "      <td>petrol</td>\n",
       "      <td>volkswagen</td>\n",
       "      <td>no</td>\n",
       "      <td>2016-03-21 00:00:00</td>\n",
       "      <td>0</td>\n",
       "      <td>19348</td>\n",
       "      <td>2016-03-25 16:47:58</td>\n",
       "    </tr>\n",
       "    <tr>\n",
       "      <th>8</th>\n",
       "      <td>2016-04-04 23:42:13</td>\n",
       "      <td>14500</td>\n",
       "      <td>bus</td>\n",
       "      <td>2014</td>\n",
       "      <td>manual</td>\n",
       "      <td>125</td>\n",
       "      <td>c_max</td>\n",
       "      <td>30000</td>\n",
       "      <td>8</td>\n",
       "      <td>petrol</td>\n",
       "      <td>ford</td>\n",
       "      <td>NaN</td>\n",
       "      <td>2016-04-04 00:00:00</td>\n",
       "      <td>0</td>\n",
       "      <td>94505</td>\n",
       "      <td>2016-04-04 23:42:13</td>\n",
       "    </tr>\n",
       "    <tr>\n",
       "      <th>9</th>\n",
       "      <td>2016-03-17 10:53:50</td>\n",
       "      <td>999</td>\n",
       "      <td>small</td>\n",
       "      <td>1998</td>\n",
       "      <td>manual</td>\n",
       "      <td>101</td>\n",
       "      <td>golf</td>\n",
       "      <td>150000</td>\n",
       "      <td>0</td>\n",
       "      <td>NaN</td>\n",
       "      <td>volkswagen</td>\n",
       "      <td>NaN</td>\n",
       "      <td>2016-03-17 00:00:00</td>\n",
       "      <td>0</td>\n",
       "      <td>27472</td>\n",
       "      <td>2016-03-31 17:17:06</td>\n",
       "    </tr>\n",
       "  </tbody>\n",
       "</table>\n",
       "</div>"
      ],
      "text/plain": [
       "           DateCrawled  Price  VehicleType  RegistrationYear Gearbox  Power  \\\n",
       "0  2016-03-24 11:52:17    480          NaN              1993  manual      0   \n",
       "1  2016-03-24 10:58:45  18300        coupe              2011  manual    190   \n",
       "2  2016-03-14 12:52:21   9800          suv              2004    auto    163   \n",
       "3  2016-03-17 16:54:04   1500        small              2001  manual     75   \n",
       "4  2016-03-31 17:25:20   3600        small              2008  manual     69   \n",
       "5  2016-04-04 17:36:23    650        sedan              1995  manual    102   \n",
       "6  2016-04-01 20:48:51   2200  convertible              2004  manual    109   \n",
       "7  2016-03-21 18:54:38      0        sedan              1980  manual     50   \n",
       "8  2016-04-04 23:42:13  14500          bus              2014  manual    125   \n",
       "9  2016-03-17 10:53:50    999        small              1998  manual    101   \n",
       "\n",
       "     Model  Kilometer  RegistrationMonth  FuelType       Brand NotRepaired  \\\n",
       "0     golf     150000                  0    petrol  volkswagen         NaN   \n",
       "1      NaN     125000                  5  gasoline        audi         yes   \n",
       "2    grand     125000                  8  gasoline        jeep         NaN   \n",
       "3     golf     150000                  6    petrol  volkswagen          no   \n",
       "4    fabia      90000                  7  gasoline       skoda          no   \n",
       "5      3er     150000                 10    petrol         bmw         yes   \n",
       "6  2_reihe     150000                  8    petrol     peugeot          no   \n",
       "7    other      40000                  7    petrol  volkswagen          no   \n",
       "8    c_max      30000                  8    petrol        ford         NaN   \n",
       "9     golf     150000                  0       NaN  volkswagen         NaN   \n",
       "\n",
       "           DateCreated  NumberOfPictures  PostalCode             LastSeen  \n",
       "0  2016-03-24 00:00:00                 0       70435  2016-04-07 03:16:57  \n",
       "1  2016-03-24 00:00:00                 0       66954  2016-04-07 01:46:50  \n",
       "2  2016-03-14 00:00:00                 0       90480  2016-04-05 12:47:46  \n",
       "3  2016-03-17 00:00:00                 0       91074  2016-03-17 17:40:17  \n",
       "4  2016-03-31 00:00:00                 0       60437  2016-04-06 10:17:21  \n",
       "5  2016-04-04 00:00:00                 0       33775  2016-04-06 19:17:07  \n",
       "6  2016-04-01 00:00:00                 0       67112  2016-04-05 18:18:39  \n",
       "7  2016-03-21 00:00:00                 0       19348  2016-03-25 16:47:58  \n",
       "8  2016-04-04 00:00:00                 0       94505  2016-04-04 23:42:13  \n",
       "9  2016-03-17 00:00:00                 0       27472  2016-03-31 17:17:06  "
      ]
     },
     "execution_count": 4,
     "metadata": {},
     "output_type": "execute_result"
    }
   ],
   "source": [
    "df.head(10) # Проверяем загрузку данных."
   ]
  },
  {
   "cell_type": "code",
   "execution_count": 5,
   "metadata": {},
   "outputs": [
    {
     "name": "stdout",
     "output_type": "stream",
     "text": [
      "<class 'pandas.core.frame.DataFrame'>\n",
      "RangeIndex: 354369 entries, 0 to 354368\n",
      "Data columns (total 16 columns):\n",
      " #   Column             Non-Null Count   Dtype \n",
      "---  ------             --------------   ----- \n",
      " 0   DateCrawled        354369 non-null  object\n",
      " 1   Price              354369 non-null  int64 \n",
      " 2   VehicleType        316879 non-null  object\n",
      " 3   RegistrationYear   354369 non-null  int64 \n",
      " 4   Gearbox            334536 non-null  object\n",
      " 5   Power              354369 non-null  int64 \n",
      " 6   Model              334664 non-null  object\n",
      " 7   Kilometer          354369 non-null  int64 \n",
      " 8   RegistrationMonth  354369 non-null  int64 \n",
      " 9   FuelType           321474 non-null  object\n",
      " 10  Brand              354369 non-null  object\n",
      " 11  NotRepaired        283215 non-null  object\n",
      " 12  DateCreated        354369 non-null  object\n",
      " 13  NumberOfPictures   354369 non-null  int64 \n",
      " 14  PostalCode         354369 non-null  int64 \n",
      " 15  LastSeen           354369 non-null  object\n",
      "dtypes: int64(7), object(9)\n",
      "memory usage: 43.3+ MB\n"
     ]
    }
   ],
   "source": [
    "df.info() # Смотрим пропуски и тип данных. "
   ]
  },
  {
   "cell_type": "code",
   "execution_count": 6,
   "metadata": {},
   "outputs": [
    {
     "data": {
      "text/plain": [
       "0    354369\n",
       "Name: NumberOfPictures, dtype: int64"
      ]
     },
     "execution_count": 6,
     "metadata": {},
     "output_type": "execute_result"
    }
   ],
   "source": [
    "df['NumberOfPictures'].value_counts() # Проверили занчения."
   ]
  },
  {
   "cell_type": "code",
   "execution_count": 7,
   "metadata": {},
   "outputs": [],
   "source": [
    "# Закидали списки переменных для удобства анализа и работы. \n",
    "number_columns = [\n",
    "    'Price',\n",
    "    'RegistrationYear',\n",
    "    'Power', \n",
    "    'Kilometer'\n",
    "]\n",
    "\n",
    "category_columns = [\n",
    "    'VehicleType',\n",
    "    'Gearbox',\n",
    "    'Model',\n",
    "    'RegistrationMonth',\n",
    "    'FuelType',\n",
    "    'Brand',\n",
    "    'NotRepaired',\n",
    "    'PostalCode'\n",
    "]"
   ]
  },
  {
   "cell_type": "code",
   "execution_count": 8,
   "metadata": {},
   "outputs": [],
   "source": [
    "# Убрали лишние колонки\n",
    "df_needful = df.drop(['DateCrawled', 'DateCreated', 'LastSeen', 'NumberOfPictures'], axis=1)"
   ]
  },
  {
   "cell_type": "code",
   "execution_count": 9,
   "metadata": {},
   "outputs": [
    {
     "data": {
      "text/plain": [
       "21333"
      ]
     },
     "execution_count": 9,
     "metadata": {},
     "output_type": "execute_result"
    }
   ],
   "source": [
    "df_needful.duplicated().sum() # Проверили на дубликаты."
   ]
  },
  {
   "cell_type": "markdown",
   "metadata": {},
   "source": [
    "Примечание - Похоже одни и те же автомобили выставляли несколько раз."
   ]
  },
  {
   "cell_type": "code",
   "execution_count": 10,
   "metadata": {},
   "outputs": [],
   "source": [
    "df_needful = df_needful.drop_duplicates().reset_index(drop=True) # Удаляем дубликаты. "
   ]
  },
  {
   "cell_type": "code",
   "execution_count": 11,
   "metadata": {},
   "outputs": [
    {
     "data": {
      "text/html": [
       "<div>\n",
       "<style scoped>\n",
       "    .dataframe tbody tr th:only-of-type {\n",
       "        vertical-align: middle;\n",
       "    }\n",
       "\n",
       "    .dataframe tbody tr th {\n",
       "        vertical-align: top;\n",
       "    }\n",
       "\n",
       "    .dataframe thead th {\n",
       "        text-align: right;\n",
       "    }\n",
       "</style>\n",
       "<table border=\"1\" class=\"dataframe\">\n",
       "  <thead>\n",
       "    <tr style=\"text-align: right;\">\n",
       "      <th></th>\n",
       "      <th>Price</th>\n",
       "      <th>RegistrationYear</th>\n",
       "      <th>Power</th>\n",
       "      <th>Kilometer</th>\n",
       "    </tr>\n",
       "  </thead>\n",
       "  <tbody>\n",
       "    <tr>\n",
       "      <th>count</th>\n",
       "      <td>333036.000000</td>\n",
       "      <td>333036.000000</td>\n",
       "      <td>333036.000000</td>\n",
       "      <td>333036.000000</td>\n",
       "    </tr>\n",
       "    <tr>\n",
       "      <th>mean</th>\n",
       "      <td>4378.277586</td>\n",
       "      <td>2004.192268</td>\n",
       "      <td>109.753225</td>\n",
       "      <td>128305.678665</td>\n",
       "    </tr>\n",
       "    <tr>\n",
       "      <th>std</th>\n",
       "      <td>4502.534823</td>\n",
       "      <td>90.288761</td>\n",
       "      <td>194.288179</td>\n",
       "      <td>37900.007564</td>\n",
       "    </tr>\n",
       "    <tr>\n",
       "      <th>min</th>\n",
       "      <td>0.000000</td>\n",
       "      <td>1000.000000</td>\n",
       "      <td>0.000000</td>\n",
       "      <td>5000.000000</td>\n",
       "    </tr>\n",
       "    <tr>\n",
       "      <th>25%</th>\n",
       "      <td>1000.000000</td>\n",
       "      <td>1999.000000</td>\n",
       "      <td>68.000000</td>\n",
       "      <td>125000.000000</td>\n",
       "    </tr>\n",
       "    <tr>\n",
       "      <th>50%</th>\n",
       "      <td>2699.000000</td>\n",
       "      <td>2003.000000</td>\n",
       "      <td>103.000000</td>\n",
       "      <td>150000.000000</td>\n",
       "    </tr>\n",
       "    <tr>\n",
       "      <th>75%</th>\n",
       "      <td>6299.250000</td>\n",
       "      <td>2008.000000</td>\n",
       "      <td>140.000000</td>\n",
       "      <td>150000.000000</td>\n",
       "    </tr>\n",
       "    <tr>\n",
       "      <th>max</th>\n",
       "      <td>20000.000000</td>\n",
       "      <td>9999.000000</td>\n",
       "      <td>20000.000000</td>\n",
       "      <td>150000.000000</td>\n",
       "    </tr>\n",
       "  </tbody>\n",
       "</table>\n",
       "</div>"
      ],
      "text/plain": [
       "               Price  RegistrationYear          Power      Kilometer\n",
       "count  333036.000000     333036.000000  333036.000000  333036.000000\n",
       "mean     4378.277586       2004.192268     109.753225  128305.678665\n",
       "std      4502.534823         90.288761     194.288179   37900.007564\n",
       "min         0.000000       1000.000000       0.000000    5000.000000\n",
       "25%      1000.000000       1999.000000      68.000000  125000.000000\n",
       "50%      2699.000000       2003.000000     103.000000  150000.000000\n",
       "75%      6299.250000       2008.000000     140.000000  150000.000000\n",
       "max     20000.000000       9999.000000   20000.000000  150000.000000"
      ]
     },
     "execution_count": 11,
     "metadata": {},
     "output_type": "execute_result"
    }
   ],
   "source": [
    "df_needful[number_columns].describe() # Проверяем количественные переменные. "
   ]
  },
  {
   "cell_type": "code",
   "execution_count": 12,
   "metadata": {
    "scrolled": false
   },
   "outputs": [
    {
     "data": {
      "image/png": "[encoded data removed]",
      "text/plain": [
       "<Figure size 648x648 with 1 Axes>"
      ]
     },
     "metadata": {
      "needs_background": "light"
     },
     "output_type": "display_data"
    }
   ],
   "source": [
    "# Постороим гистограмму плотности для Целевого признака.\n",
    "plt.subplots(figsize=(9, 9))\n",
    "plt.title('Price', fontsize=16)\n",
    "sns.histplot(      # гистограммы плотности\n",
    "        df_needful['Price'], \n",
    "        kde=True,\n",
    "        stat=\"density\", \n",
    "        linewidth=1)\n",
    "plt.grid(True)\n",
    "plt.show()"
   ]
  },
  {
   "cell_type": "code",
   "execution_count": 13,
   "metadata": {},
   "outputs": [
    {
     "data": {
      "text/plain": [
       "1971.0"
      ]
     },
     "execution_count": 13,
     "metadata": {},
     "output_type": "execute_result"
    }
   ],
   "source": [
    "df_needful['RegistrationYear'].quantile(0.005) # Проверяем левый квантиль."
   ]
  },
  {
   "cell_type": "code",
   "execution_count": 14,
   "metadata": {},
   "outputs": [
    {
     "data": {
      "text/plain": [
       "2018.0"
      ]
     },
     "execution_count": 14,
     "metadata": {},
     "output_type": "execute_result"
    }
   ],
   "source": [
    "df_needful['RegistrationYear'].quantile(0.999) # Проверяем правого квантиль."
   ]
  },
  {
   "cell_type": "code",
   "execution_count": 15,
   "metadata": {},
   "outputs": [
    {
     "data": {
      "text/plain": [
       "300.0"
      ]
     },
     "execution_count": 15,
     "metadata": {},
     "output_type": "execute_result"
    }
   ],
   "source": [
    "df_needful['Power'].quantile(0.99) # Проверяем левый квантиль."
   ]
  },
  {
   "cell_type": "code",
   "execution_count": 16,
   "metadata": {},
   "outputs": [
    {
     "data": {
      "text/plain": [
       "0.0"
      ]
     },
     "execution_count": 16,
     "metadata": {},
     "output_type": "execute_result"
    }
   ],
   "source": [
    "df_needful['Power'].quantile(0.1) # Проверяем правого квантиль."
   ]
  },
  {
   "cell_type": "code",
   "execution_count": 17,
   "metadata": {},
   "outputs": [],
   "source": [
    "df_needful = df_needful.query('RegistrationYear >=1970 and RegistrationYear <=2016 and Power <=300') # Фильтруем аномалии. "
   ]
  },
  {
   "cell_type": "code",
   "execution_count": 18,
   "metadata": {},
   "outputs": [],
   "source": [
    "df_needful.loc[df_needful['Power'] == 0, 'Power'] = df_needful['Power'].median() # Заполняем нулевые значения. "
   ]
  },
  {
   "cell_type": "code",
   "execution_count": 19,
   "metadata": {},
   "outputs": [],
   "source": [
    "df_needful.loc[df_needful['Price'] == 0, 'Price'] = df_needful['Price'].median() # Заполняем нулевые значения. "
   ]
  },
  {
   "cell_type": "code",
   "execution_count": 20,
   "metadata": {},
   "outputs": [
    {
     "data": {
      "text/html": [
       "<div>\n",
       "<style scoped>\n",
       "    .dataframe tbody tr th:only-of-type {\n",
       "        vertical-align: middle;\n",
       "    }\n",
       "\n",
       "    .dataframe tbody tr th {\n",
       "        vertical-align: top;\n",
       "    }\n",
       "\n",
       "    .dataframe thead th {\n",
       "        text-align: right;\n",
       "    }\n",
       "</style>\n",
       "<table border=\"1\" class=\"dataframe\">\n",
       "  <thead>\n",
       "    <tr style=\"text-align: right;\">\n",
       "      <th></th>\n",
       "      <th>Price</th>\n",
       "      <th>RegistrationYear</th>\n",
       "      <th>Power</th>\n",
       "      <th>Kilometer</th>\n",
       "    </tr>\n",
       "  </thead>\n",
       "  <tbody>\n",
       "    <tr>\n",
       "      <th>count</th>\n",
       "      <td>314683.000000</td>\n",
       "      <td>314683.000000</td>\n",
       "      <td>314683.000000</td>\n",
       "      <td>314683.000000</td>\n",
       "    </tr>\n",
       "    <tr>\n",
       "      <th>mean</th>\n",
       "      <td>4438.409876</td>\n",
       "      <td>2002.601361</td>\n",
       "      <td>116.622852</td>\n",
       "      <td>128333.688188</td>\n",
       "    </tr>\n",
       "    <tr>\n",
       "      <th>std</th>\n",
       "      <td>4413.387564</td>\n",
       "      <td>6.505707</td>\n",
       "      <td>46.168149</td>\n",
       "      <td>37699.853456</td>\n",
       "    </tr>\n",
       "    <tr>\n",
       "      <th>min</th>\n",
       "      <td>1.000000</td>\n",
       "      <td>1970.000000</td>\n",
       "      <td>1.000000</td>\n",
       "      <td>5000.000000</td>\n",
       "    </tr>\n",
       "    <tr>\n",
       "      <th>25%</th>\n",
       "      <td>1200.000000</td>\n",
       "      <td>1999.000000</td>\n",
       "      <td>83.000000</td>\n",
       "      <td>125000.000000</td>\n",
       "    </tr>\n",
       "    <tr>\n",
       "      <th>50%</th>\n",
       "      <td>2700.000000</td>\n",
       "      <td>2003.000000</td>\n",
       "      <td>105.000000</td>\n",
       "      <td>150000.000000</td>\n",
       "    </tr>\n",
       "    <tr>\n",
       "      <th>75%</th>\n",
       "      <td>6250.000000</td>\n",
       "      <td>2007.000000</td>\n",
       "      <td>140.000000</td>\n",
       "      <td>150000.000000</td>\n",
       "    </tr>\n",
       "    <tr>\n",
       "      <th>max</th>\n",
       "      <td>20000.000000</td>\n",
       "      <td>2016.000000</td>\n",
       "      <td>300.000000</td>\n",
       "      <td>150000.000000</td>\n",
       "    </tr>\n",
       "  </tbody>\n",
       "</table>\n",
       "</div>"
      ],
      "text/plain": [
       "               Price  RegistrationYear          Power      Kilometer\n",
       "count  314683.000000     314683.000000  314683.000000  314683.000000\n",
       "mean     4438.409876       2002.601361     116.622852  128333.688188\n",
       "std      4413.387564          6.505707      46.168149   37699.853456\n",
       "min         1.000000       1970.000000       1.000000    5000.000000\n",
       "25%      1200.000000       1999.000000      83.000000  125000.000000\n",
       "50%      2700.000000       2003.000000     105.000000  150000.000000\n",
       "75%      6250.000000       2007.000000     140.000000  150000.000000\n",
       "max     20000.000000       2016.000000     300.000000  150000.000000"
      ]
     },
     "execution_count": 20,
     "metadata": {},
     "output_type": "execute_result"
    }
   ],
   "source": [
    "df_needful[number_columns].describe() # Проверяем работу с количественными переменными."
   ]
  },
  {
   "cell_type": "code",
   "execution_count": 21,
   "metadata": {},
   "outputs": [
    {
     "name": "stdout",
     "output_type": "stream",
     "text": [
      "VehicleType\n",
      "[nan 'coupe' 'suv' 'small' 'sedan' 'convertible' 'bus' 'wagon' 'other']\n",
      "Gearbox\n",
      "['manual' 'auto' nan]\n",
      "Model\n",
      "['golf' nan 'grand' 'fabia' '3er' '2_reihe' 'other' 'c_max' '3_reihe'\n",
      " 'passat' 'navara' 'polo' 'twingo' 'a_klasse' 'scirocco' '5er' 'arosa'\n",
      " 'civic' 'transporter' 'punto' 'e_klasse' 'clio' 'kadett' 'kangoo' 'corsa'\n",
      " 'one' 'fortwo' '1er' 'b_klasse' 'signum' 'astra' 'a8' 'jetta' 'fiesta'\n",
      " 'c_klasse' 'micra' 'vito' 'sprinter' '156' 'escort' 'forester' 'xc_reihe'\n",
      " 'scenic' 'a4' 'ka' 'a1' 'insignia' 'combo' 'focus' 'tt' 'a6' 'jazz'\n",
      " 'omega' 'slk' '7er' '80' '147' '100' 'meriva' 'z_reihe' 'sorento' 'v40'\n",
      " 'ibiza' 'eos' 'touran' 'getz' 'a3' 'almera' 'megane' 'lupo' 'r19' 'caddy'\n",
      " 'mondeo' 'cordoba' 'colt' 'impreza' 'vectra' 'berlingo' 'tiguan'\n",
      " 'mustang' 'sharan' '6_reihe' 'c4' 'panda' 'up' 'i_reihe' 'ceed' '5_reihe'\n",
      " 'yeti' 'octavia' 'zafira' 'mii' 'rx_reihe' '6er' 'modus' 'fox' 'matiz'\n",
      " 'beetle' 'c1' 'rio' 'touareg' 'logan' 'spider' 'cuore' 's_max' 'a2'\n",
      " 'galaxy' 'c3' 'viano' '1_reihe' 'avensis' 'roomster' 'sl' 'kaefer'\n",
      " 'santa' 'cooper' 'leon' '4_reihe' 'a5' 'sportage' 'laguna' 'ptcruiser'\n",
      " 'clk' 'primera' 'espace' 'x_reihe' 'exeo' '159' 'transit' 'juke'\n",
      " 'qashqai' 'carisma' 's_klasse' 'accord' 'corolla' 'lanos' 'phaeton'\n",
      " 'verso' 'swift' 'rav' 'picanto' 'boxster' 'kalos' 'superb' 'stilo'\n",
      " 'alhambra' 'mx_reihe' 'roadster' 'ypsilon' 'cayenne' 'galant' 'justy'\n",
      " '90' 'sirion' 'crossfire' 'agila' 'duster' 'v50' '500' 'c_reihe'\n",
      " 'v_klasse' 'm_klasse' 'yaris' 'c5' 'aygo' 'seicento' 'cc' 'carnival'\n",
      " 'fusion' 'bora' 'forfour' 'm_reihe' 'cl' 'tigra' '300c' 'cr_reihe'\n",
      " 'spark' 'v70' 'kuga' 'x_type' 'ducato' 's_type' 'x_trail' 'toledo'\n",
      " 'altea' 'voyager' 'calibra' 'bravo' 'antara' 'tucson' 'citigo' 'jimny'\n",
      " 'wrangler' 'lybra' 'q7' 'lancer' 'captiva' 'discovery' 'freelander'\n",
      " 'sandero' 'note' '900' 'cherokee' 'clubman' 'samara' 'defender'\n",
      " 'cx_reihe' 'legacy' '601' 'pajero' 'auris' 'c2' 'niva' 's60' 'nubira'\n",
      " 'vivaro' 'g_klasse' 'lodgy' '850' 'range_rover' 'q3' 'serie_2' 'glk'\n",
      " 'charade' 'croma' '911' 'outlander' 'doblo' 'musa' 'move' '9000' 'v60'\n",
      " '145' '200' 'b_max' 'range_rover_sport' 'aveo' 'terios' 'rangerover' 'q5'\n",
      " 'range_rover_evoque' 'materia' 'delta' 'gl' 'kalina' 'elefantino' 'i3'\n",
      " 'amarok' 'kappa' 'serie_3' 'serie_1']\n",
      "RegistrationMonth\n",
      "[ 0  5  8  6  7 10 12 11  2  3  1  4  9]\n",
      "FuelType\n",
      "['petrol' 'gasoline' nan 'lpg' 'other' 'hybrid' 'cng' 'electric']\n",
      "Brand\n",
      "['volkswagen' 'audi' 'jeep' 'skoda' 'bmw' 'peugeot' 'ford' 'mazda'\n",
      " 'nissan' 'renault' 'mercedes_benz' 'seat' 'honda' 'fiat' 'opel' 'mini'\n",
      " 'smart' 'hyundai' 'sonstige_autos' 'alfa_romeo' 'subaru' 'volvo'\n",
      " 'mitsubishi' 'kia' 'suzuki' 'lancia' 'citroen' 'toyota' 'chevrolet'\n",
      " 'dacia' 'daihatsu' 'trabant' 'saab' 'chrysler' 'jaguar' 'daewoo'\n",
      " 'porsche' 'rover' 'land_rover' 'lada']\n",
      "NotRepaired\n",
      "[nan 'yes' 'no']\n",
      "PostalCode\n",
      "[70435 66954 90480 ... 38528 14053 38325]\n"
     ]
    }
   ],
   "source": [
    "# Выводим уникальные значения категориальных переменных.\n",
    "for column in category_columns:\n",
    "    print(column)\n",
    "    print(df_needful[column].unique())"
   ]
  },
  {
   "cell_type": "code",
   "execution_count": 22,
   "metadata": {},
   "outputs": [],
   "source": [
    "# Заполняем NaN значения.\n",
    "for column in ['VehicleType', 'Gearbox', 'Model', 'FuelType']:\n",
    "    df_needful[column] = df_needful[column].fillna('other')"
   ]
  },
  {
   "cell_type": "code",
   "execution_count": 23,
   "metadata": {},
   "outputs": [
    {
     "data": {
      "text/plain": [
       "no     220539\n",
       "yes     33129\n",
       "Name: NotRepaired, dtype: int64"
      ]
     },
     "execution_count": 23,
     "metadata": {},
     "output_type": "execute_result"
    }
   ],
   "source": [
    "df_needful['NotRepaired'].value_counts()"
   ]
  },
  {
   "cell_type": "code",
   "execution_count": 24,
   "metadata": {},
   "outputs": [],
   "source": [
    "# Заполняем NaN значения.\n",
    "df_needful['NotRepaired'] = df_needful['NotRepaired'].fillna('no')"
   ]
  },
  {
   "cell_type": "code",
   "execution_count": 25,
   "metadata": {},
   "outputs": [],
   "source": [
    "# Меняем тип данных.\n",
    "for column in number_columns:\n",
    "    df_needful[column] = df_needful[column].astype('int64')"
   ]
  },
  {
   "cell_type": "markdown",
   "metadata": {},
   "source": [
    "Примечание - LGBMRegressor не захотела работать с float, а после присвоения медиан тип поменялся."
   ]
  },
  {
   "cell_type": "code",
   "execution_count": 26,
   "metadata": {},
   "outputs": [
    {
     "name": "stdout",
     "output_type": "stream",
     "text": [
      "<class 'pandas.core.frame.DataFrame'>\n",
      "Int64Index: 314683 entries, 0 to 333035\n",
      "Data columns (total 12 columns):\n",
      " #   Column             Non-Null Count   Dtype \n",
      "---  ------             --------------   ----- \n",
      " 0   Price              314683 non-null  int64 \n",
      " 1   VehicleType        314683 non-null  object\n",
      " 2   RegistrationYear   314683 non-null  int64 \n",
      " 3   Gearbox            314683 non-null  object\n",
      " 4   Power              314683 non-null  int64 \n",
      " 5   Model              314683 non-null  object\n",
      " 6   Kilometer          314683 non-null  int64 \n",
      " 7   RegistrationMonth  314683 non-null  int64 \n",
      " 8   FuelType           314683 non-null  object\n",
      " 9   Brand              314683 non-null  object\n",
      " 10  NotRepaired        314683 non-null  object\n",
      " 11  PostalCode         314683 non-null  int64 \n",
      "dtypes: int64(6), object(6)\n",
      "memory usage: 31.2+ MB\n"
     ]
    }
   ],
   "source": [
    "# Проверяем тип и пропуски.\n",
    "df_needful.info()"
   ]
  },
  {
   "cell_type": "code",
   "execution_count": 27,
   "metadata": {},
   "outputs": [],
   "source": [
    "# Убираем лишнее.\n",
    "df_needful = df_needful.drop(['PostalCode', 'Model', 'RegistrationMonth'], axis=1)"
   ]
  },
  {
   "cell_type": "code",
   "execution_count": 28,
   "metadata": {},
   "outputs": [],
   "source": [
    "# Вводим новый список категориальных переменных. \n",
    "category_columns = [\n",
    "    'VehicleType',\n",
    "    'Gearbox',\n",
    "    'FuelType',\n",
    "    'Brand',\n",
    "    'NotRepaired'\n",
    "]"
   ]
  },
  {
   "cell_type": "markdown",
   "metadata": {},
   "source": [
    "###### **Анализ данных:**\n",
    "- DateCrawled, DateCreated, LastSeen – поля с датами, заполняемые автоматически системой, в соответствии с задание эти данные будут генерироваться, когда пользователь будет заполнять анкету на оценку, и даты в базе всегда будут более поздние даты, предлагаю не использовать для моделирования.    \n",
    "- VehicleType – категориальная переменная, содержит пропуски, заменим на значение 'other', которое также присутствует.\n",
    "- RegistrationYear – есть аномалии как слева так и справа, ограничил выборку 1970 и 2016 годом, с 2016 все понятно, а вот с нижней границей, в базе встречаются и более старые авто чем 1970, но их очень мало и оценка старых(раритетных автомобилей) – это все же задача другой плоскости.\n",
    "- Gearbox – категориальная переменная, содержит пропуски, заменим на значение 'other'.\n",
    "- Power – содержала как аномально высокие значения, так и большое количество 0 значения, 0 заполнил медианным значением, верхний порог 300.\n",
    "- Model – категориальная переменная, с большим числом значений, пропуски заменил на значение 'other', которое также присутствует. Попробовал на использовать при моделировании большого прироста не дает, решил от нее отказаться, но целесообразно, для различных марок автомобилей (Brand) особенно с широким модельным рядом, создавать свои модели в рамках одной марки, это даст более точный результаты.\n",
    "- Kilometer – аномалий нет\n",
    "- RegistrationMonth – оказалось 13 месяцев, есть 0, не стал использовать при моделировании, модели машин привязаны к году. \n",
    "- FuelType – категориальная переменная, содержит пропуски, заменим на значение 'other', которое также присутствует.\n",
    "- Brand – категориальная переменная, нет пропусков, все хорошо.\n",
    "- NotRepaired – категориальная переменная, пропуски заполнил на no.\n",
    "- NumberOfPictures – для всех записей 0, предлагаю не использовать для моделирования.\n",
    "- PostalCode – категориальная переменная, с большим числом значений, предлагаю не использовать для моделирования, возможно сгруппировать пользователей по регионам и уже использовать эту характеристику. \n",
    "- Price – есть 0 значения заполнил их медианным значением. \n"
   ]
  },
  {
   "cell_type": "markdown",
   "metadata": {},
   "source": [
    "## Обучение моделей"
   ]
  },
  {
   "cell_type": "code",
   "execution_count": 29,
   "metadata": {},
   "outputs": [],
   "source": [
    "# Списки для сохранения результатов.\n",
    "cbr_list = ['CBR']\n",
    "lgbmr_list = ['LGBMR']\n",
    "dtr_list = ['DTR']\n",
    "rfr_list = ['RFR']"
   ]
  },
  {
   "cell_type": "markdown",
   "metadata": {},
   "source": [
    "### CatBoostRegressor"
   ]
  },
  {
   "cell_type": "code",
   "execution_count": 30,
   "metadata": {},
   "outputs": [],
   "source": [
    "# Переменные для признаков и целевого признака. \n",
    "target = df_needful['Price']\n",
    "features = df_needful.drop(['Price'] , axis=1)"
   ]
  },
  {
   "cell_type": "code",
   "execution_count": 31,
   "metadata": {},
   "outputs": [],
   "source": [
    "features_train, features_temp, target_train, target_temp = train_test_split(\n",
    "    features,\n",
    "    target, \n",
    "    test_size=0.4, \n",
    "    random_state=12345,\n",
    "    shuffle=True\n",
    ")"
   ]
  },
  {
   "cell_type": "code",
   "execution_count": 32,
   "metadata": {},
   "outputs": [],
   "source": [
    "# Разбиение на данные для валидацию и тестирование по .5 (.2 по изначальной).\n",
    "features_valid, features_test, target_valid, target_test = train_test_split(\n",
    "    features_temp,\n",
    "    target_temp, \n",
    "    test_size=0.5, \n",
    "    random_state=12345,\n",
    "    shuffle=True\n",
    ")"
   ]
  },
  {
   "cell_type": "code",
   "execution_count": 33,
   "metadata": {},
   "outputs": [
    {
     "name": "stdout",
     "output_type": "stream",
     "text": [
      "(188809, 8)\n",
      "(188809,)\n",
      "(62937, 8)\n",
      "(62937,)\n",
      "(62937, 8)\n",
      "(62937,)\n"
     ]
    }
   ],
   "source": [
    "# Проверяем разбиение.\n",
    "print(features_train.shape)\n",
    "print(target_train.shape)\n",
    "print(features_valid.shape)\n",
    "print(target_valid.shape)\n",
    "print(features_test.shape)\n",
    "print(target_test.shape)"
   ]
  },
  {
   "cell_type": "code",
   "execution_count": 34,
   "metadata": {},
   "outputs": [],
   "source": [
    "# Список параметров.\n",
    "parameters = {'learning_rate': [0.1, 0.2],\n",
    "             'depth':[8, 12]} "
   ]
  },
  {
   "cell_type": "code",
   "execution_count": 35,
   "metadata": {},
   "outputs": [],
   "source": [
    "cbr = CatBoostRegressor(loss_function=\"RMSE\", iterations=150, random_seed=12345)"
   ]
  },
  {
   "cell_type": "code",
   "execution_count": 36,
   "metadata": {},
   "outputs": [],
   "source": [
    "#Задаем параметры модели и поиска.\n",
    "cbr_model = GridSearchCV(cbr, parameters, scoring='neg_root_mean_squared_error', cv=5, n_jobs=-1) "
   ]
  },
  {
   "cell_type": "code",
   "execution_count": 37,
   "metadata": {
    "scrolled": false
   },
   "outputs": [
    {
     "name": "stdout",
     "output_type": "stream",
     "text": [
      "0:\tlearn: 3810.4390333\ttotal: 255ms\tremaining: 38s\n",
      "75:\tlearn: 1589.7567214\ttotal: 8.51s\tremaining: 8.29s\n",
      "149:\tlearn: 1507.0879322\ttotal: 16.5s\tremaining: 0us\n",
      "CPU times: total: 7.52 s\n",
      "Wall time: 2min 12s\n"
     ]
    },
    {
     "data": {
      "text/plain": [
       "GridSearchCV(cv=5,\n",
       "             estimator=<catboost.core.CatBoostRegressor object at 0x000001954A0F5C10>,\n",
       "             n_jobs=-1,\n",
       "             param_grid={'depth': [8, 12], 'learning_rate': [0.1, 0.2]},\n",
       "             scoring='neg_root_mean_squared_error')"
      ]
     },
     "execution_count": 37,
     "metadata": {},
     "output_type": "execute_result"
    }
   ],
   "source": [
    "%%time\n",
    "cbr_model.fit(features_train, target_train, cat_features=category_columns, verbose=75) # Обучаем модель."
   ]
  },
  {
   "cell_type": "code",
   "execution_count": 38,
   "metadata": {},
   "outputs": [
    {
     "data": {
      "text/plain": [
       "array([10.19434723, 32.45117944,  3.10463363, 25.42021571,  9.4128879 ,\n",
       "        3.50474551, 12.90933941,  3.00265117])"
      ]
     },
     "execution_count": 38,
     "metadata": {},
     "output_type": "execute_result"
    }
   ],
   "source": [
    "cbr_model.best_estimator_.feature_importances_"
   ]
  },
  {
   "cell_type": "code",
   "execution_count": 39,
   "metadata": {},
   "outputs": [
    {
     "data": {
      "text/plain": [
       "['VehicleType',\n",
       " 'RegistrationYear',\n",
       " 'Gearbox',\n",
       " 'Power',\n",
       " 'Kilometer',\n",
       " 'FuelType',\n",
       " 'Brand',\n",
       " 'NotRepaired']"
      ]
     },
     "execution_count": 39,
     "metadata": {},
     "output_type": "execute_result"
    }
   ],
   "source": [
    "cbr_model.best_estimator_.feature_names_"
   ]
  },
  {
   "cell_type": "code",
   "execution_count": 40,
   "metadata": {},
   "outputs": [
    {
     "data": {
      "text/html": [
       "<div>\n",
       "<style scoped>\n",
       "    .dataframe tbody tr th:only-of-type {\n",
       "        vertical-align: middle;\n",
       "    }\n",
       "\n",
       "    .dataframe tbody tr th {\n",
       "        vertical-align: top;\n",
       "    }\n",
       "\n",
       "    .dataframe thead th {\n",
       "        text-align: right;\n",
       "    }\n",
       "</style>\n",
       "<table border=\"1\" class=\"dataframe\">\n",
       "  <thead>\n",
       "    <tr style=\"text-align: right;\">\n",
       "      <th></th>\n",
       "      <th>0</th>\n",
       "      <th>1</th>\n",
       "    </tr>\n",
       "  </thead>\n",
       "  <tbody>\n",
       "    <tr>\n",
       "      <th>1</th>\n",
       "      <td>RegistrationYear</td>\n",
       "      <td>32.451179</td>\n",
       "    </tr>\n",
       "    <tr>\n",
       "      <th>3</th>\n",
       "      <td>Power</td>\n",
       "      <td>25.420216</td>\n",
       "    </tr>\n",
       "    <tr>\n",
       "      <th>6</th>\n",
       "      <td>Brand</td>\n",
       "      <td>12.909339</td>\n",
       "    </tr>\n",
       "    <tr>\n",
       "      <th>0</th>\n",
       "      <td>VehicleType</td>\n",
       "      <td>10.194347</td>\n",
       "    </tr>\n",
       "    <tr>\n",
       "      <th>4</th>\n",
       "      <td>Kilometer</td>\n",
       "      <td>9.412888</td>\n",
       "    </tr>\n",
       "    <tr>\n",
       "      <th>5</th>\n",
       "      <td>FuelType</td>\n",
       "      <td>3.504746</td>\n",
       "    </tr>\n",
       "    <tr>\n",
       "      <th>2</th>\n",
       "      <td>Gearbox</td>\n",
       "      <td>3.104634</td>\n",
       "    </tr>\n",
       "    <tr>\n",
       "      <th>7</th>\n",
       "      <td>NotRepaired</td>\n",
       "      <td>3.002651</td>\n",
       "    </tr>\n",
       "  </tbody>\n",
       "</table>\n",
       "</div>"
      ],
      "text/plain": [
       "                  0          1\n",
       "1  RegistrationYear  32.451179\n",
       "3             Power  25.420216\n",
       "6             Brand  12.909339\n",
       "0       VehicleType  10.194347\n",
       "4         Kilometer   9.412888\n",
       "5          FuelType   3.504746\n",
       "2           Gearbox   3.104634\n",
       "7       NotRepaired   3.002651"
      ]
     },
     "execution_count": 40,
     "metadata": {},
     "output_type": "execute_result"
    }
   ],
   "source": [
    "data = []\n",
    "data.append(cbr_model.best_estimator_.feature_names_)\n",
    "data.append(cbr_model.best_estimator_.feature_importances_)\n",
    "pd.DataFrame(data=data).transpose().sort_values(by=1, ascending=False)"
   ]
  },
  {
   "cell_type": "code",
   "execution_count": 41,
   "metadata": {},
   "outputs": [
    {
     "data": {
      "text/plain": [
       "{'depth': 12, 'learning_rate': 0.2}"
      ]
     },
     "execution_count": 41,
     "metadata": {},
     "output_type": "execute_result"
    }
   ],
   "source": [
    "# Параметры лучшей модели.\n",
    "cbr_model.best_params_"
   ]
  },
  {
   "cell_type": "code",
   "execution_count": 42,
   "metadata": {},
   "outputs": [
    {
     "name": "stdout",
     "output_type": "stream",
     "text": [
      "CPU times: total: 562 ms\n",
      "Wall time: 290 ms\n"
     ]
    }
   ],
   "source": [
    "%%time\n",
    "pred_train = cbr_model.best_estimator_.predict(features_train) # Делаем предсказание на тренеровочной выборки."
   ]
  },
  {
   "cell_type": "code",
   "execution_count": 43,
   "metadata": {},
   "outputs": [
    {
     "name": "stdout",
     "output_type": "stream",
     "text": [
      "CPU times: total: 46.9 ms\n",
      "Wall time: 94.5 ms\n"
     ]
    }
   ],
   "source": [
    "%%time\n",
    "pred_valid = cbr_model.best_estimator_.predict(features_valid) # Делаем предсказание на валидационной  выборки."
   ]
  },
  {
   "cell_type": "code",
   "execution_count": 44,
   "metadata": {},
   "outputs": [],
   "source": [
    "# Расчитываем RMSE\n",
    "cbr_list.append(round(mean_squared_error(target_train, pred_train) ** 0.5, 2))\n",
    "cbr_list.append(round(mean_squared_error(target_valid, pred_valid) ** 0.5, 2))"
   ]
  },
  {
   "cell_type": "code",
   "execution_count": 45,
   "metadata": {},
   "outputs": [],
   "source": [
    "cbr_list = cbr_list + [4 * 60 + 40, 0.3 , 0.10]"
   ]
  },
  {
   "cell_type": "markdown",
   "metadata": {},
   "source": [
    "### LGBMRegressor"
   ]
  },
  {
   "cell_type": "code",
   "execution_count": 46,
   "metadata": {},
   "outputs": [],
   "source": [
    "# Список параметров.\n",
    "parameters = {'learning_rate': [0.1, 0.2],\n",
    "             'max_depth':[8, 12]} "
   ]
  },
  {
   "cell_type": "code",
   "execution_count": 47,
   "metadata": {},
   "outputs": [],
   "source": [
    "# Для LGBMRegressor меняем тип категориальных переменных.\n",
    "for column in category_columns:\n",
    "    features_train[column] = pd.Series(features_train[column], dtype=\"category\")   "
   ]
  },
  {
   "cell_type": "code",
   "execution_count": 48,
   "metadata": {},
   "outputs": [],
   "source": [
    "lgbmr = LGBMRegressor(n_estimators=150)"
   ]
  },
  {
   "cell_type": "code",
   "execution_count": 49,
   "metadata": {},
   "outputs": [],
   "source": [
    "#Задаем параметры модели и поиска.\n",
    "lgbmr_model = GridSearchCV(lgbmr, parameters, scoring='neg_root_mean_squared_error', cv=5, n_jobs=-1) "
   ]
  },
  {
   "cell_type": "code",
   "execution_count": 50,
   "metadata": {},
   "outputs": [
    {
     "name": "stderr",
     "output_type": "stream",
     "text": [
      "C:\\Users\\moryk\\anaconda3\\lib\\site-packages\\lightgbm\\basic.py:2065: UserWarning: Using categorical_feature in Dataset.\n",
      "  _log_warning('Using categorical_feature in Dataset.')\n"
     ]
    },
    {
     "name": "stdout",
     "output_type": "stream",
     "text": [
      "CPU times: total: 3.91 s\n",
      "Wall time: 6.98 s\n"
     ]
    },
    {
     "data": {
      "text/plain": [
       "GridSearchCV(cv=5, estimator=LGBMRegressor(n_estimators=150), n_jobs=-1,\n",
       "             param_grid={'learning_rate': [0.1, 0.2], 'max_depth': [8, 12]},\n",
       "             scoring='neg_root_mean_squared_error')"
      ]
     },
     "execution_count": 50,
     "metadata": {},
     "output_type": "execute_result"
    }
   ],
   "source": [
    "%%time\n",
    "lgbmr_model.fit(features_train, target_train, categorical_feature=category_columns) # Обучаем модель."
   ]
  },
  {
   "cell_type": "code",
   "execution_count": 51,
   "metadata": {},
   "outputs": [
    {
     "data": {
      "text/plain": [
       "{'learning_rate': 0.2, 'max_depth': 12}"
      ]
     },
     "execution_count": 51,
     "metadata": {},
     "output_type": "execute_result"
    }
   ],
   "source": [
    "# Параметры лучшей модели\n",
    "lgbmr_model.best_params_"
   ]
  },
  {
   "cell_type": "code",
   "execution_count": 52,
   "metadata": {},
   "outputs": [
    {
     "name": "stdout",
     "output_type": "stream",
     "text": [
      "CPU times: total: 1.88 s\n",
      "Wall time: 179 ms\n"
     ]
    }
   ],
   "source": [
    "%%time\n",
    "pred_train = lgbmr_model.best_estimator_.predict(features_train) # Делаем предсказание на тренеровочной выборки."
   ]
  },
  {
   "cell_type": "code",
   "execution_count": 53,
   "metadata": {},
   "outputs": [],
   "source": [
    "# Расчитываем RMSE.\n",
    "lgbmr_list.append(round(mean_squared_error(target_train, pred_train) ** 0.5, 2))"
   ]
  },
  {
   "cell_type": "code",
   "execution_count": 54,
   "metadata": {},
   "outputs": [],
   "source": [
    "# Для LGBMRegressor меняем тип категориальных переменных.\n",
    "for column in category_columns:\n",
    "    features_valid[column] = pd.Series(features_valid[column], dtype=\"category\")"
   ]
  },
  {
   "cell_type": "code",
   "execution_count": 55,
   "metadata": {},
   "outputs": [
    {
     "name": "stdout",
     "output_type": "stream",
     "text": [
      "CPU times: total: 812 ms\n",
      "Wall time: 83 ms\n"
     ]
    }
   ],
   "source": [
    "%%time\n",
    "pred_valid = lgbmr_model.best_estimator_.predict(features_valid) # Делаем предсказание на валидационной  выборки."
   ]
  },
  {
   "cell_type": "code",
   "execution_count": 56,
   "metadata": {},
   "outputs": [],
   "source": [
    "# Расчитываем RMSE.\n",
    "lgbmr_list.append(round(mean_squared_error(target_valid, pred_valid) ** 0.5, 2))"
   ]
  },
  {
   "cell_type": "code",
   "execution_count": 57,
   "metadata": {},
   "outputs": [],
   "source": [
    "lgbmr_list = lgbmr_list + [2 * 60, 2 , 0.72]"
   ]
  },
  {
   "cell_type": "markdown",
   "metadata": {},
   "source": [
    "### DecisionTreeRegressor"
   ]
  },
  {
   "cell_type": "code",
   "execution_count": 58,
   "metadata": {},
   "outputs": [],
   "source": [
    "encoder = OrdinalEncoder()"
   ]
  },
  {
   "cell_type": "code",
   "execution_count": 59,
   "metadata": {},
   "outputs": [],
   "source": [
    "df_oe = pd.DataFrame(encoder.fit_transform(df_needful), \n",
    "                                                      columns=df_needful.columns) "
   ]
  },
  {
   "cell_type": "code",
   "execution_count": 60,
   "metadata": {},
   "outputs": [],
   "source": [
    "features_oe = df_oe.drop(['Price'] , axis=1)"
   ]
  },
  {
   "cell_type": "code",
   "execution_count": 61,
   "metadata": {},
   "outputs": [],
   "source": [
    "features_oe_train, features_oe_temp, target_oe_train, target_oe_temp = train_test_split(\n",
    "    features_oe,\n",
    "    target, \n",
    "    test_size=0.4, \n",
    "    random_state=12345,\n",
    "    shuffle=True\n",
    ")"
   ]
  },
  {
   "cell_type": "code",
   "execution_count": 62,
   "metadata": {},
   "outputs": [],
   "source": [
    "features_oe_valid, features_oe_test, target_oe_valid, target_oe_test = train_test_split(\n",
    "    features_oe_temp,\n",
    "    target_oe_temp, \n",
    "    test_size=0.5, \n",
    "    random_state=12345,\n",
    "    shuffle=True\n",
    ")"
   ]
  },
  {
   "cell_type": "code",
   "execution_count": 63,
   "metadata": {},
   "outputs": [],
   "source": [
    "# Список параметров.\n",
    "parameters = {'max_depth': [8, 14, 20],\n",
    "             'max_features':[3, 4, 5]} "
   ]
  },
  {
   "cell_type": "code",
   "execution_count": 64,
   "metadata": {},
   "outputs": [],
   "source": [
    "dtr = DecisionTreeRegressor(random_state=12345)"
   ]
  },
  {
   "cell_type": "code",
   "execution_count": 65,
   "metadata": {},
   "outputs": [],
   "source": [
    "#Задаем параметры модели и поиска.\n",
    "dtr_model = GridSearchCV(dtr, parameters, scoring='neg_root_mean_squared_error', cv=5, n_jobs=-1) "
   ]
  },
  {
   "cell_type": "code",
   "execution_count": 66,
   "metadata": {},
   "outputs": [
    {
     "name": "stdout",
     "output_type": "stream",
     "text": [
      "CPU times: total: 359 ms\n",
      "Wall time: 2.45 s\n"
     ]
    },
    {
     "data": {
      "text/plain": [
       "GridSearchCV(cv=5, estimator=DecisionTreeRegressor(random_state=12345),\n",
       "             n_jobs=-1,\n",
       "             param_grid={'max_depth': [8, 14, 20], 'max_features': [3, 4, 5]},\n",
       "             scoring='neg_root_mean_squared_error')"
      ]
     },
     "execution_count": 66,
     "metadata": {},
     "output_type": "execute_result"
    }
   ],
   "source": [
    "%%time\n",
    "dtr_model.fit(features_oe_train, target_oe_train) # Обучаем модель."
   ]
  },
  {
   "cell_type": "code",
   "execution_count": 67,
   "metadata": {},
   "outputs": [
    {
     "data": {
      "text/plain": [
       "{'max_depth': 14, 'max_features': 5}"
      ]
     },
     "execution_count": 67,
     "metadata": {},
     "output_type": "execute_result"
    }
   ],
   "source": [
    "dtr_model.best_params_"
   ]
  },
  {
   "cell_type": "code",
   "execution_count": 68,
   "metadata": {},
   "outputs": [
    {
     "name": "stdout",
     "output_type": "stream",
     "text": [
      "CPU times: total: 15.6 ms\n",
      "Wall time: 23.4 ms\n"
     ]
    }
   ],
   "source": [
    "%%time\n",
    "pred_train = dtr_model.best_estimator_.predict(features_oe_train) # Делаем предсказание на тренеровочной выборки."
   ]
  },
  {
   "cell_type": "code",
   "execution_count": 69,
   "metadata": {},
   "outputs": [
    {
     "name": "stdout",
     "output_type": "stream",
     "text": [
      "CPU times: total: 0 ns\n",
      "Wall time: 9.49 ms\n"
     ]
    }
   ],
   "source": [
    "%%time\n",
    "pred_valid = dtr_model.best_estimator_.predict(features_oe_valid) # Делаем предсказание на валидационной  выборки."
   ]
  },
  {
   "cell_type": "code",
   "execution_count": 70,
   "metadata": {},
   "outputs": [],
   "source": [
    "# Расчитываем RMSE.\n",
    "dtr_list.append(round(mean_squared_error(target_oe_train, pred_train) ** 0.5, 2))\n",
    "dtr_list.append(round(mean_squared_error(target_oe_valid, pred_valid) ** 0.5, 2))"
   ]
  },
  {
   "cell_type": "code",
   "execution_count": 71,
   "metadata": {},
   "outputs": [],
   "source": [
    "dtr_list = dtr_list + [7, 0.03, 0.03]"
   ]
  },
  {
   "cell_type": "markdown",
   "metadata": {},
   "source": [
    "### RandomForestRegressor"
   ]
  },
  {
   "cell_type": "code",
   "execution_count": 72,
   "metadata": {},
   "outputs": [],
   "source": [
    "parameters = { # Список параметров.\n",
    "    'n_estimators': [100, 200]\n",
    "}"
   ]
  },
  {
   "cell_type": "code",
   "execution_count": 73,
   "metadata": {},
   "outputs": [],
   "source": [
    "rfr = RandomForestRegressor(max_depth=14, random_state=12345, max_features=5) #Задаем параметры модели и поиска."
   ]
  },
  {
   "cell_type": "code",
   "execution_count": 74,
   "metadata": {},
   "outputs": [],
   "source": [
    "rfr_model = GridSearchCV(rfr, parameters, scoring='neg_root_mean_squared_error', cv=5, n_jobs=-1) # Обучаем модель."
   ]
  },
  {
   "cell_type": "code",
   "execution_count": 75,
   "metadata": {},
   "outputs": [
    {
     "name": "stdout",
     "output_type": "stream",
     "text": [
      "CPU times: total: 12.9 s\n",
      "Wall time: 1min 12s\n"
     ]
    },
    {
     "data": {
      "text/plain": [
       "GridSearchCV(cv=5,\n",
       "             estimator=RandomForestRegressor(max_depth=14, max_features=5,\n",
       "                                             random_state=12345),\n",
       "             n_jobs=-1, param_grid={'n_estimators': [100, 200]},\n",
       "             scoring='neg_root_mean_squared_error')"
      ]
     },
     "execution_count": 75,
     "metadata": {},
     "output_type": "execute_result"
    }
   ],
   "source": [
    "%%time\n",
    "rfr_model.fit(features_oe_train, target_oe_train)"
   ]
  },
  {
   "cell_type": "code",
   "execution_count": 76,
   "metadata": {},
   "outputs": [
    {
     "data": {
      "text/plain": [
       "{'n_estimators': 200}"
      ]
     },
     "execution_count": 76,
     "metadata": {},
     "output_type": "execute_result"
    }
   ],
   "source": [
    "rfr_model.best_params_"
   ]
  },
  {
   "cell_type": "code",
   "execution_count": 77,
   "metadata": {},
   "outputs": [
    {
     "name": "stdout",
     "output_type": "stream",
     "text": [
      "CPU times: total: 2.38 s\n",
      "Wall time: 3.78 s\n"
     ]
    }
   ],
   "source": [
    "%%time\n",
    "pred_train = rfr_model.best_estimator_.predict(features_oe_train) # Делаем предсказание на тренеровочной выборки."
   ]
  },
  {
   "cell_type": "code",
   "execution_count": 78,
   "metadata": {},
   "outputs": [
    {
     "name": "stdout",
     "output_type": "stream",
     "text": [
      "CPU times: total: 672 ms\n",
      "Wall time: 1.31 s\n"
     ]
    }
   ],
   "source": [
    "%%time\n",
    "pred_valid = rfr_model.predict(features_oe_valid) # Делаем предсказание на валидационной  выборки."
   ]
  },
  {
   "cell_type": "code",
   "execution_count": 79,
   "metadata": {},
   "outputs": [],
   "source": [
    "# Расчитываем RMSE.\n",
    "rfr_list.append(round(mean_squared_error(target_oe_train, pred_train) ** 0.5, 2))\n",
    "rfr_list.append(round(mean_squared_error(target_oe_valid, pred_valid) ** 0.5, 2))"
   ]
  },
  {
   "cell_type": "code",
   "execution_count": 80,
   "metadata": {},
   "outputs": [],
   "source": [
    "rfr_list = rfr_list + [4 * 60, 4, 2]"
   ]
  },
  {
   "cell_type": "markdown",
   "metadata": {},
   "source": [
    "## Анализ моделей"
   ]
  },
  {
   "cell_type": "code",
   "execution_count": 81,
   "metadata": {},
   "outputs": [
    {
     "data": {
      "text/html": [
       "<div>\n",
       "<style scoped>\n",
       "    .dataframe tbody tr th:only-of-type {\n",
       "        vertical-align: middle;\n",
       "    }\n",
       "\n",
       "    .dataframe tbody tr th {\n",
       "        vertical-align: top;\n",
       "    }\n",
       "\n",
       "    .dataframe thead th {\n",
       "        text-align: right;\n",
       "    }\n",
       "</style>\n",
       "<table border=\"1\" class=\"dataframe\">\n",
       "  <thead>\n",
       "    <tr style=\"text-align: right;\">\n",
       "      <th></th>\n",
       "      <th>model</th>\n",
       "      <th>rmse_train</th>\n",
       "      <th>rmse_valid</th>\n",
       "      <th>wall_time_fit_s</th>\n",
       "      <th>wall_time_pred_tr_s</th>\n",
       "      <th>wall_time_pred_val_s</th>\n",
       "    </tr>\n",
       "  </thead>\n",
       "  <tbody>\n",
       "    <tr>\n",
       "      <th>0</th>\n",
       "      <td>CBR</td>\n",
       "      <td>1514.15</td>\n",
       "      <td>1664.39</td>\n",
       "      <td>280</td>\n",
       "      <td>0.30</td>\n",
       "      <td>0.10</td>\n",
       "    </tr>\n",
       "    <tr>\n",
       "      <th>1</th>\n",
       "      <td>LGBMR</td>\n",
       "      <td>1596.43</td>\n",
       "      <td>1662.26</td>\n",
       "      <td>120</td>\n",
       "      <td>2.00</td>\n",
       "      <td>0.72</td>\n",
       "    </tr>\n",
       "    <tr>\n",
       "      <th>2</th>\n",
       "      <td>DTR</td>\n",
       "      <td>1614.09</td>\n",
       "      <td>1953.20</td>\n",
       "      <td>7</td>\n",
       "      <td>0.03</td>\n",
       "      <td>0.03</td>\n",
       "    </tr>\n",
       "    <tr>\n",
       "      <th>3</th>\n",
       "      <td>RFR</td>\n",
       "      <td>1479.04</td>\n",
       "      <td>1722.98</td>\n",
       "      <td>240</td>\n",
       "      <td>4.00</td>\n",
       "      <td>2.00</td>\n",
       "    </tr>\n",
       "  </tbody>\n",
       "</table>\n",
       "</div>"
      ],
      "text/plain": [
       "   model  rmse_train  rmse_valid  wall_time_fit_s  wall_time_pred_tr_s  \\\n",
       "0    CBR     1514.15     1664.39              280                 0.30   \n",
       "1  LGBMR     1596.43     1662.26              120                 2.00   \n",
       "2    DTR     1614.09     1953.20                7                 0.03   \n",
       "3    RFR     1479.04     1722.98              240                 4.00   \n",
       "\n",
       "   wall_time_pred_val_s  \n",
       "0                  0.10  \n",
       "1                  0.72  \n",
       "2                  0.03  \n",
       "3                  2.00  "
      ]
     },
     "execution_count": 81,
     "metadata": {},
     "output_type": "execute_result"
    }
   ],
   "source": [
    "# Вывод по моделированию \n",
    "columns =[\n",
    "    'model',\n",
    "    'rmse_train',\n",
    "    'rmse_valid',\n",
    "    'wall_time_fit_s',\n",
    "    'wall_time_pred_tr_s',\n",
    "    'wall_time_pred_val_s',\n",
    "]\n",
    "data = []\n",
    "\n",
    "\n",
    "data.append(cbr_list)\n",
    "data.append(lgbmr_list)\n",
    "data.append(dtr_list)\n",
    "data.append(rfr_list)\n",
    "\n",
    "pd.DataFrame(data=data, columns=columns)"
   ]
  },
  {
   "cell_type": "markdown",
   "metadata": {},
   "source": [
    "**Анализ данных:**\n",
    "- Все 4 модели прошли по параметру качества 2500.\n",
    "- Самая быстрая модель (как по обучению так и по предсказанию),ожидаемо, - это DecisionTreeRegressor, хотя видно что модель  переобучается;\n",
    "- Самая медленная модель по предсказанию это RandomForestRegressor, очень сильно зависима от количества деревьев в ансамбле при обучении, тоже заметно переобучение, но слабее;\n",
    "- CatBoostRegressor и  LGBMRegressor дают очень близкие результаты, CatBoostRegressor - делает быстрее предсказания, LGBMRegressor - быстрее обучается (хотя обучение LGBMRegressor проходило не очень стабильно был разброс), CatBoostRegressor примерно одни показатель. Но мне очень понравилась работа CatBoostRegressor с переменными, как категориальными так и числовыми, не требуется лишних вычислений и преобразований, а это тоже занимает время и ресурсы.\n",
    "- В качестве модели я бы выбрал CatBoostRegressor как золотую середину."
   ]
  },
  {
   "cell_type": "code",
   "execution_count": 82,
   "metadata": {},
   "outputs": [
    {
     "name": "stdout",
     "output_type": "stream",
     "text": [
      "CPU times: total: 78.1 ms\n",
      "Wall time: 106 ms\n"
     ]
    }
   ],
   "source": [
    "%%time\n",
    "pred_test = cbr_model.best_estimator_.predict(features_test)"
   ]
  },
  {
   "cell_type": "code",
   "execution_count": 83,
   "metadata": {},
   "outputs": [
    {
     "data": {
      "text/plain": [
       "1674.6525889387367"
      ]
     },
     "execution_count": 83,
     "metadata": {},
     "output_type": "execute_result"
    }
   ],
   "source": [
    "mean_squared_error(target_test, pred_test) ** 0.5 # Расчитываем RMSE для CatBoostRegressor на тест данных. "
   ]
  }
 ],
 "metadata": {
  "ExecuteTimeLog": [
   {
    "duration": 1287,
    "start_time": "2022-10-24T15:54:03.437Z"
   },
   {
    "duration": 3066,
    "start_time": "2022-10-24T15:55:07.792Z"
   },
   {
    "duration": 33,
    "start_time": "2022-10-24T15:55:27.681Z"
   },
   {
    "duration": 23,
    "start_time": "2022-10-24T15:55:35.665Z"
   },
   {
    "duration": 14,
    "start_time": "2022-10-24T15:56:23.281Z"
   },
   {
    "duration": 147,
    "start_time": "2022-10-24T15:56:32.411Z"
   },
   {
    "duration": 511,
    "start_time": "2022-10-24T15:59:21.493Z"
   },
   {
    "duration": 558,
    "start_time": "2022-10-24T16:00:16.433Z"
   },
   {
    "duration": 535,
    "start_time": "2022-10-24T16:00:49.656Z"
   },
   {
    "duration": 4,
    "start_time": "2022-10-24T16:09:41.856Z"
   },
   {
    "duration": 280,
    "start_time": "2022-10-24T16:12:12.389Z"
   },
   {
    "duration": 83,
    "start_time": "2022-10-24T16:17:49.213Z"
   },
   {
    "duration": 17,
    "start_time": "2022-10-24T16:17:57.865Z"
   },
   {
    "duration": 245,
    "start_time": "2022-10-24T16:18:14.242Z"
   },
   {
    "duration": 308,
    "start_time": "2022-10-24T16:18:30.625Z"
   },
   {
    "duration": 70,
    "start_time": "2022-10-24T16:19:48.241Z"
   },
   {
    "duration": 343,
    "start_time": "2022-10-24T16:24:43.988Z"
   },
   {
    "duration": 291,
    "start_time": "2022-10-24T16:28:02.752Z"
   },
   {
    "duration": 4,
    "start_time": "2022-10-24T16:28:11.593Z"
   },
   {
    "duration": 83348,
    "start_time": "2022-10-24T16:28:14.976Z"
   },
   {
    "duration": 1706,
    "start_time": "2022-10-24T16:33:01.146Z"
   },
   {
    "duration": 905,
    "start_time": "2022-10-24T16:33:02.855Z"
   },
   {
    "duration": 18,
    "start_time": "2022-10-24T16:33:03.762Z"
   },
   {
    "duration": 170,
    "start_time": "2022-10-24T16:33:03.782Z"
   },
   {
    "duration": 501,
    "start_time": "2022-10-24T16:33:03.953Z"
   },
   {
    "duration": 628,
    "start_time": "2022-10-24T16:33:04.456Z"
   },
   {
    "duration": 4,
    "start_time": "2022-10-24T16:33:05.086Z"
   },
   {
    "duration": 41,
    "start_time": "2022-10-24T16:33:05.092Z"
   },
   {
    "duration": 294,
    "start_time": "2022-10-24T16:33:05.134Z"
   },
   {
    "duration": 325,
    "start_time": "2022-10-24T16:33:05.431Z"
   },
   {
    "duration": 83,
    "start_time": "2022-10-24T16:33:05.757Z"
   },
   {
    "duration": 16157,
    "start_time": "2022-10-24T16:33:05.842Z"
   },
   {
    "duration": 57524,
    "start_time": "2022-10-24T16:33:56.230Z"
   },
   {
    "duration": 1835,
    "start_time": "2022-10-24T16:35:17.159Z"
   },
   {
    "duration": 1850,
    "start_time": "2022-10-24T16:36:04.470Z"
   },
   {
    "duration": 122,
    "start_time": "2022-10-24T16:36:52.099Z"
   },
   {
    "duration": 8,
    "start_time": "2022-10-24T16:37:10.935Z"
   },
   {
    "duration": 9,
    "start_time": "2022-10-24T16:40:03.669Z"
   },
   {
    "duration": 9,
    "start_time": "2022-10-24T16:40:10.310Z"
   },
   {
    "duration": 8,
    "start_time": "2022-10-24T16:40:18.674Z"
   },
   {
    "duration": 9,
    "start_time": "2022-10-24T16:40:24.270Z"
   },
   {
    "duration": 10,
    "start_time": "2022-10-24T16:40:44.473Z"
   },
   {
    "duration": 12,
    "start_time": "2022-10-24T16:40:48.789Z"
   },
   {
    "duration": 9,
    "start_time": "2022-10-24T16:41:07.756Z"
   },
   {
    "duration": 9,
    "start_time": "2022-10-24T16:41:27.502Z"
   },
   {
    "duration": 10,
    "start_time": "2022-10-24T16:42:33.320Z"
   },
   {
    "duration": 7,
    "start_time": "2022-10-24T16:43:02.435Z"
   },
   {
    "duration": 8,
    "start_time": "2022-10-24T16:43:06.674Z"
   },
   {
    "duration": 10,
    "start_time": "2022-10-24T16:43:12.020Z"
   },
   {
    "duration": 8,
    "start_time": "2022-10-24T16:43:18.683Z"
   },
   {
    "duration": 10,
    "start_time": "2022-10-24T16:44:03.832Z"
   },
   {
    "duration": 11,
    "start_time": "2022-10-24T16:44:09.064Z"
   },
   {
    "duration": 10,
    "start_time": "2022-10-24T16:44:28.711Z"
   },
   {
    "duration": 10,
    "start_time": "2022-10-24T16:44:52.524Z"
   },
   {
    "duration": 9,
    "start_time": "2022-10-24T16:49:41.694Z"
   },
   {
    "duration": 27,
    "start_time": "2022-10-24T16:49:59.003Z"
   },
   {
    "duration": 256,
    "start_time": "2022-10-24T16:49:59.763Z"
   },
   {
    "duration": 324,
    "start_time": "2022-10-24T16:50:00.115Z"
   },
   {
    "duration": 15,
    "start_time": "2022-10-24T16:50:00.629Z"
   },
   {
    "duration": 1582,
    "start_time": "2022-10-24T16:50:32.506Z"
   },
   {
    "duration": 905,
    "start_time": "2022-10-24T16:50:34.090Z"
   },
   {
    "duration": 20,
    "start_time": "2022-10-24T16:50:34.997Z"
   },
   {
    "duration": 151,
    "start_time": "2022-10-24T16:50:35.025Z"
   },
   {
    "duration": 526,
    "start_time": "2022-10-24T16:50:35.178Z"
   },
   {
    "duration": 580,
    "start_time": "2022-10-24T16:50:35.706Z"
   },
   {
    "duration": 3,
    "start_time": "2022-10-24T16:50:36.288Z"
   },
   {
    "duration": 16,
    "start_time": "2022-10-24T16:50:36.293Z"
   },
   {
    "duration": 33,
    "start_time": "2022-10-24T16:50:36.311Z"
   },
   {
    "duration": 245,
    "start_time": "2022-10-24T16:50:36.346Z"
   },
   {
    "duration": 270,
    "start_time": "2022-10-24T16:50:36.592Z"
   },
   {
    "duration": 70,
    "start_time": "2022-10-24T16:50:36.863Z"
   },
   {
    "duration": 1959,
    "start_time": "2022-10-24T16:50:36.935Z"
   },
   {
    "duration": 9,
    "start_time": "2022-10-24T16:50:38.896Z"
   },
   {
    "duration": 24,
    "start_time": "2022-10-24T16:50:38.907Z"
   },
   {
    "duration": 11,
    "start_time": "2022-10-24T16:50:38.933Z"
   },
   {
    "duration": 8,
    "start_time": "2022-10-24T16:50:38.946Z"
   },
   {
    "duration": 9,
    "start_time": "2022-10-24T16:52:48.241Z"
   },
   {
    "duration": 9,
    "start_time": "2022-10-24T16:52:57.276Z"
   },
   {
    "duration": 34,
    "start_time": "2022-10-24T16:54:41.724Z"
   },
   {
    "duration": 39,
    "start_time": "2022-10-24T16:55:42.003Z"
   },
   {
    "duration": 69,
    "start_time": "2022-10-24T16:57:16.073Z"
   },
   {
    "duration": 22,
    "start_time": "2022-10-24T16:58:01.869Z"
   },
   {
    "duration": 18,
    "start_time": "2022-10-24T16:58:25.850Z"
   },
   {
    "duration": 1594,
    "start_time": "2022-10-24T16:58:31.298Z"
   },
   {
    "duration": 897,
    "start_time": "2022-10-24T16:58:32.894Z"
   },
   {
    "duration": 20,
    "start_time": "2022-10-24T16:58:33.793Z"
   },
   {
    "duration": 154,
    "start_time": "2022-10-24T16:58:33.815Z"
   },
   {
    "duration": 11,
    "start_time": "2022-10-24T16:58:33.972Z"
   },
   {
    "duration": 3,
    "start_time": "2022-10-24T16:58:33.985Z"
   },
   {
    "duration": 48,
    "start_time": "2022-10-24T16:58:33.990Z"
   },
   {
    "duration": 313,
    "start_time": "2022-10-24T16:58:34.041Z"
   },
   {
    "duration": 358,
    "start_time": "2022-10-24T16:58:34.357Z"
   },
   {
    "duration": 78,
    "start_time": "2022-10-24T16:58:34.718Z"
   },
   {
    "duration": 2221,
    "start_time": "2022-10-24T16:58:34.798Z"
   },
   {
    "duration": 11,
    "start_time": "2022-10-24T16:58:37.021Z"
   },
   {
    "duration": 12,
    "start_time": "2022-10-24T16:58:37.035Z"
   },
   {
    "duration": 13,
    "start_time": "2022-10-24T16:58:37.049Z"
   },
   {
    "duration": 9,
    "start_time": "2022-10-24T16:58:37.064Z"
   },
   {
    "duration": 179,
    "start_time": "2022-10-24T16:58:37.076Z"
   },
   {
    "duration": 22,
    "start_time": "2022-10-24T16:58:37.257Z"
   },
   {
    "duration": 65,
    "start_time": "2022-10-24T16:58:50.342Z"
   },
   {
    "duration": 77,
    "start_time": "2022-10-24T17:00:22.586Z"
   },
   {
    "duration": 189,
    "start_time": "2022-10-24T17:00:33.537Z"
   },
   {
    "duration": 199,
    "start_time": "2022-10-24T17:00:44.644Z"
   },
   {
    "duration": 118,
    "start_time": "2022-10-24T17:02:26.141Z"
   },
   {
    "duration": 14,
    "start_time": "2022-10-24T17:02:31.171Z"
   },
   {
    "duration": 12,
    "start_time": "2022-10-24T17:02:35.236Z"
   },
   {
    "duration": 5,
    "start_time": "2022-10-24T17:02:41.143Z"
   },
   {
    "duration": 139,
    "start_time": "2022-10-24T17:03:47.092Z"
   },
   {
    "duration": 18,
    "start_time": "2022-10-24T17:14:57.965Z"
   },
   {
    "duration": 82,
    "start_time": "2022-10-24T17:22:14.348Z"
   },
   {
    "duration": 163,
    "start_time": "2022-10-24T17:22:28.809Z"
   },
   {
    "duration": 119,
    "start_time": "2022-10-24T17:22:44.941Z"
   },
   {
    "duration": 13,
    "start_time": "2022-10-24T17:24:00.607Z"
   },
   {
    "duration": 47,
    "start_time": "2022-10-24T17:24:07.475Z"
   },
   {
    "duration": 23,
    "start_time": "2022-10-24T17:24:45.996Z"
   },
   {
    "duration": 125,
    "start_time": "2022-10-24T17:24:50.174Z"
   },
   {
    "duration": 207,
    "start_time": "2022-10-24T17:25:20.956Z"
   },
   {
    "duration": 29,
    "start_time": "2022-10-24T17:26:58.105Z"
   },
   {
    "duration": 164,
    "start_time": "2022-10-24T17:27:16.572Z"
   },
   {
    "duration": 7,
    "start_time": "2022-10-25T05:36:04.783Z"
   },
   {
    "duration": 1762,
    "start_time": "2022-10-25T05:36:08.559Z"
   },
   {
    "duration": 3044,
    "start_time": "2022-10-25T05:36:10.324Z"
   },
   {
    "duration": 19,
    "start_time": "2022-10-25T05:36:13.370Z"
   },
   {
    "duration": 150,
    "start_time": "2022-10-25T05:36:13.392Z"
   },
   {
    "duration": 7,
    "start_time": "2022-10-25T05:36:13.544Z"
   },
   {
    "duration": 4,
    "start_time": "2022-10-25T05:36:13.552Z"
   },
   {
    "duration": 30,
    "start_time": "2022-10-25T05:36:13.557Z"
   },
   {
    "duration": 250,
    "start_time": "2022-10-25T05:36:13.589Z"
   },
   {
    "duration": 297,
    "start_time": "2022-10-25T05:36:13.841Z"
   },
   {
    "duration": 64,
    "start_time": "2022-10-25T05:36:14.141Z"
   },
   {
    "duration": 1854,
    "start_time": "2022-10-25T05:36:14.206Z"
   },
   {
    "duration": 9,
    "start_time": "2022-10-25T05:36:16.062Z"
   },
   {
    "duration": 10,
    "start_time": "2022-10-25T05:36:16.074Z"
   },
   {
    "duration": 10,
    "start_time": "2022-10-25T05:36:16.086Z"
   },
   {
    "duration": 8,
    "start_time": "2022-10-25T05:36:16.125Z"
   },
   {
    "duration": 37,
    "start_time": "2022-10-25T05:36:16.135Z"
   },
   {
    "duration": 50,
    "start_time": "2022-10-25T05:36:16.174Z"
   },
   {
    "duration": 15,
    "start_time": "2022-10-25T05:36:16.226Z"
   },
   {
    "duration": 88,
    "start_time": "2022-10-25T05:36:16.243Z"
   },
   {
    "duration": 119,
    "start_time": "2022-10-25T05:36:16.333Z"
   },
   {
    "duration": 80,
    "start_time": "2022-10-25T05:36:16.456Z"
   },
   {
    "duration": 32,
    "start_time": "2022-10-25T05:36:16.537Z"
   },
   {
    "duration": 21,
    "start_time": "2022-10-25T05:36:16.571Z"
   },
   {
    "duration": 105,
    "start_time": "2022-10-25T05:36:16.594Z"
   },
   {
    "duration": 28,
    "start_time": "2022-10-25T05:36:16.701Z"
   },
   {
    "duration": 3,
    "start_time": "2022-10-25T05:36:16.731Z"
   },
   {
    "duration": 125,
    "start_time": "2022-10-25T05:36:16.735Z"
   },
   {
    "duration": 12,
    "start_time": "2022-10-25T05:36:51.877Z"
   },
   {
    "duration": 15,
    "start_time": "2022-10-25T05:37:17.339Z"
   },
   {
    "duration": 48,
    "start_time": "2022-10-25T05:37:47.051Z"
   },
   {
    "duration": 1490,
    "start_time": "2022-10-25T05:39:19.376Z"
   },
   {
    "duration": 881,
    "start_time": "2022-10-25T05:39:20.868Z"
   },
   {
    "duration": 20,
    "start_time": "2022-10-25T05:39:21.751Z"
   },
   {
    "duration": 196,
    "start_time": "2022-10-25T05:39:21.773Z"
   },
   {
    "duration": 9,
    "start_time": "2022-10-25T05:39:21.972Z"
   },
   {
    "duration": 4,
    "start_time": "2022-10-25T05:39:21.983Z"
   },
   {
    "duration": 50,
    "start_time": "2022-10-25T05:39:21.989Z"
   },
   {
    "duration": 268,
    "start_time": "2022-10-25T05:39:22.042Z"
   },
   {
    "duration": 306,
    "start_time": "2022-10-25T05:39:22.311Z"
   },
   {
    "duration": 70,
    "start_time": "2022-10-25T05:39:22.618Z"
   },
   {
    "duration": 1761,
    "start_time": "2022-10-25T05:39:22.689Z"
   },
   {
    "duration": 9,
    "start_time": "2022-10-25T05:39:24.451Z"
   },
   {
    "duration": 9,
    "start_time": "2022-10-25T05:39:24.462Z"
   },
   {
    "duration": 10,
    "start_time": "2022-10-25T05:39:24.474Z"
   },
   {
    "duration": 40,
    "start_time": "2022-10-25T05:39:24.486Z"
   },
   {
    "duration": 116,
    "start_time": "2022-10-25T05:39:24.528Z"
   },
   {
    "duration": 21,
    "start_time": "2022-10-25T05:39:24.645Z"
   },
   {
    "duration": 15,
    "start_time": "2022-10-25T05:39:24.667Z"
   },
   {
    "duration": 93,
    "start_time": "2022-10-25T05:39:24.684Z"
   },
   {
    "duration": 115,
    "start_time": "2022-10-25T05:39:24.779Z"
   },
   {
    "duration": 77,
    "start_time": "2022-10-25T05:39:24.896Z"
   },
   {
    "duration": 32,
    "start_time": "2022-10-25T05:39:24.975Z"
   },
   {
    "duration": 36,
    "start_time": "2022-10-25T05:39:25.009Z"
   },
   {
    "duration": 99,
    "start_time": "2022-10-25T05:39:25.047Z"
   },
   {
    "duration": 18,
    "start_time": "2022-10-25T05:39:25.148Z"
   },
   {
    "duration": 3,
    "start_time": "2022-10-25T05:39:25.168Z"
   },
   {
    "duration": 16,
    "start_time": "2022-10-25T05:39:25.173Z"
   },
   {
    "duration": 173,
    "start_time": "2022-10-25T05:39:25.191Z"
   },
   {
    "duration": 73,
    "start_time": "2022-10-25T05:40:13.133Z"
   },
   {
    "duration": 1453,
    "start_time": "2022-10-25T05:40:28.464Z"
   },
   {
    "duration": 866,
    "start_time": "2022-10-25T05:40:29.919Z"
   },
   {
    "duration": 21,
    "start_time": "2022-10-25T05:40:30.787Z"
   },
   {
    "duration": 159,
    "start_time": "2022-10-25T05:40:30.810Z"
   },
   {
    "duration": 7,
    "start_time": "2022-10-25T05:40:30.972Z"
   },
   {
    "duration": 10,
    "start_time": "2022-10-25T05:40:30.981Z"
   },
   {
    "duration": 43,
    "start_time": "2022-10-25T05:40:30.993Z"
   },
   {
    "duration": 249,
    "start_time": "2022-10-25T05:40:31.038Z"
   },
   {
    "duration": 298,
    "start_time": "2022-10-25T05:40:31.289Z"
   },
   {
    "duration": 71,
    "start_time": "2022-10-25T05:40:31.589Z"
   },
   {
    "duration": 1990,
    "start_time": "2022-10-25T05:40:31.662Z"
   },
   {
    "duration": 12,
    "start_time": "2022-10-25T05:40:33.654Z"
   },
   {
    "duration": 13,
    "start_time": "2022-10-25T05:40:33.668Z"
   },
   {
    "duration": 39,
    "start_time": "2022-10-25T05:40:33.686Z"
   },
   {
    "duration": 9,
    "start_time": "2022-10-25T05:40:33.727Z"
   },
   {
    "duration": 132,
    "start_time": "2022-10-25T05:40:33.738Z"
   },
   {
    "duration": 20,
    "start_time": "2022-10-25T05:40:33.872Z"
   },
   {
    "duration": 15,
    "start_time": "2022-10-25T05:40:33.893Z"
   },
   {
    "duration": 74,
    "start_time": "2022-10-25T05:40:33.924Z"
   },
   {
    "duration": 138,
    "start_time": "2022-10-25T05:40:33.999Z"
   },
   {
    "duration": 67,
    "start_time": "2022-10-25T05:40:34.139Z"
   },
   {
    "duration": 45,
    "start_time": "2022-10-25T05:40:34.207Z"
   },
   {
    "duration": 21,
    "start_time": "2022-10-25T05:40:34.254Z"
   },
   {
    "duration": 99,
    "start_time": "2022-10-25T05:40:34.276Z"
   },
   {
    "duration": 19,
    "start_time": "2022-10-25T05:40:34.377Z"
   },
   {
    "duration": 3,
    "start_time": "2022-10-25T05:40:34.397Z"
   },
   {
    "duration": 35,
    "start_time": "2022-10-25T05:40:34.402Z"
   },
   {
    "duration": 100,
    "start_time": "2022-10-25T05:40:34.439Z"
   },
   {
    "duration": 40,
    "start_time": "2022-10-25T05:41:09.797Z"
   },
   {
    "duration": 5,
    "start_time": "2022-10-25T05:41:22.222Z"
   },
   {
    "duration": 116,
    "start_time": "2022-10-25T05:44:18.805Z"
   },
   {
    "duration": 3,
    "start_time": "2022-10-25T05:46:23.196Z"
   },
   {
    "duration": 49117,
    "start_time": "2022-10-25T05:46:56.753Z"
   },
   {
    "duration": 521,
    "start_time": "2022-10-25T05:48:06.103Z"
   },
   {
    "duration": 7,
    "start_time": "2022-10-25T05:49:02.375Z"
   },
   {
    "duration": 3,
    "start_time": "2022-10-25T05:49:23.570Z"
   },
   {
    "duration": 48550,
    "start_time": "2022-10-25T05:49:30.191Z"
   },
   {
    "duration": 543,
    "start_time": "2022-10-25T05:50:36.762Z"
   },
   {
    "duration": 235,
    "start_time": "2022-10-25T05:51:21.064Z"
   },
   {
    "duration": 6,
    "start_time": "2022-10-25T05:51:48.768Z"
   },
   {
    "duration": 19,
    "start_time": "2022-10-25T05:52:23.849Z"
   },
   {
    "duration": 1485,
    "start_time": "2022-10-25T05:52:32.459Z"
   },
   {
    "duration": 861,
    "start_time": "2022-10-25T05:52:33.947Z"
   },
   {
    "duration": 26,
    "start_time": "2022-10-25T05:52:34.810Z"
   },
   {
    "duration": 155,
    "start_time": "2022-10-25T05:52:34.837Z"
   },
   {
    "duration": 7,
    "start_time": "2022-10-25T05:52:34.995Z"
   },
   {
    "duration": 4,
    "start_time": "2022-10-25T05:52:35.003Z"
   },
   {
    "duration": 48,
    "start_time": "2022-10-25T05:52:35.008Z"
   },
   {
    "duration": 270,
    "start_time": "2022-10-25T05:52:35.059Z"
   },
   {
    "duration": 296,
    "start_time": "2022-10-25T05:52:35.331Z"
   },
   {
    "duration": 60,
    "start_time": "2022-10-25T05:52:35.629Z"
   },
   {
    "duration": 1797,
    "start_time": "2022-10-25T05:52:35.691Z"
   },
   {
    "duration": 9,
    "start_time": "2022-10-25T05:52:37.491Z"
   },
   {
    "duration": 23,
    "start_time": "2022-10-25T05:52:37.502Z"
   },
   {
    "duration": 11,
    "start_time": "2022-10-25T05:52:37.528Z"
   },
   {
    "duration": 8,
    "start_time": "2022-10-25T05:52:37.541Z"
   },
   {
    "duration": 138,
    "start_time": "2022-10-25T05:52:37.550Z"
   },
   {
    "duration": 20,
    "start_time": "2022-10-25T05:52:37.690Z"
   },
   {
    "duration": 24,
    "start_time": "2022-10-25T05:52:37.712Z"
   },
   {
    "duration": 72,
    "start_time": "2022-10-25T05:52:37.737Z"
   },
   {
    "duration": 127,
    "start_time": "2022-10-25T05:52:37.811Z"
   },
   {
    "duration": 85,
    "start_time": "2022-10-25T05:52:37.939Z"
   },
   {
    "duration": 32,
    "start_time": "2022-10-25T05:52:38.026Z"
   },
   {
    "duration": 26,
    "start_time": "2022-10-25T05:52:38.059Z"
   },
   {
    "duration": 95,
    "start_time": "2022-10-25T05:52:38.087Z"
   },
   {
    "duration": 17,
    "start_time": "2022-10-25T05:52:38.184Z"
   },
   {
    "duration": 2,
    "start_time": "2022-10-25T05:52:38.203Z"
   },
   {
    "duration": 14,
    "start_time": "2022-10-25T05:52:38.224Z"
   },
   {
    "duration": 65,
    "start_time": "2022-10-25T05:52:38.239Z"
   },
   {
    "duration": 31,
    "start_time": "2022-10-25T05:52:38.323Z"
   },
   {
    "duration": 5,
    "start_time": "2022-10-25T05:52:38.356Z"
   },
   {
    "duration": 3,
    "start_time": "2022-10-25T05:52:38.363Z"
   },
   {
    "duration": 40506,
    "start_time": "2022-10-25T05:52:38.367Z"
   },
   {
    "duration": 393,
    "start_time": "2022-10-25T05:53:18.875Z"
   },
   {
    "duration": 7,
    "start_time": "2022-10-25T05:53:19.269Z"
   },
   {
    "duration": 163,
    "start_time": "2022-10-25T05:53:19.277Z"
   },
   {
    "duration": 7,
    "start_time": "2022-10-25T05:53:19.442Z"
   },
   {
    "duration": 136,
    "start_time": "2022-10-25T06:00:21.852Z"
   },
   {
    "duration": 2,
    "start_time": "2022-10-25T06:00:30.741Z"
   },
   {
    "duration": 13,
    "start_time": "2022-10-25T06:00:55.132Z"
   },
   {
    "duration": 41,
    "start_time": "2022-10-25T06:01:23.000Z"
   },
   {
    "duration": 33,
    "start_time": "2022-10-25T06:01:34.138Z"
   },
   {
    "duration": 80,
    "start_time": "2022-10-25T06:08:40.411Z"
   },
   {
    "duration": 4,
    "start_time": "2022-10-25T06:10:15.938Z"
   },
   {
    "duration": 352409,
    "start_time": "2022-10-25T06:10:15.944Z"
   },
   {
    "duration": 3369,
    "start_time": "2022-10-25T06:17:28.060Z"
   },
   {
    "duration": 6,
    "start_time": "2022-10-25T06:17:47.271Z"
   },
   {
    "duration": 9,
    "start_time": "2022-10-25T06:18:42.296Z"
   },
   {
    "duration": 549,
    "start_time": "2022-10-25T06:18:54.944Z"
   },
   {
    "duration": 80,
    "start_time": "2022-10-25T06:19:08.427Z"
   },
   {
    "duration": 111,
    "start_time": "2022-10-25T06:20:55.806Z"
   },
   {
    "duration": 1099,
    "start_time": "2022-10-25T06:20:59.352Z"
   },
   {
    "duration": 62,
    "start_time": "2022-10-25T06:22:18.500Z"
   },
   {
    "duration": 1552,
    "start_time": "2022-10-25T06:22:28.451Z"
   },
   {
    "duration": 961,
    "start_time": "2022-10-25T06:22:30.005Z"
   },
   {
    "duration": 26,
    "start_time": "2022-10-25T06:22:30.968Z"
   },
   {
    "duration": 191,
    "start_time": "2022-10-25T06:22:30.997Z"
   },
   {
    "duration": 7,
    "start_time": "2022-10-25T06:22:31.190Z"
   },
   {
    "duration": 4,
    "start_time": "2022-10-25T06:22:31.199Z"
   },
   {
    "duration": 51,
    "start_time": "2022-10-25T06:22:31.204Z"
   },
   {
    "duration": 303,
    "start_time": "2022-10-25T06:22:31.257Z"
   },
   {
    "duration": 333,
    "start_time": "2022-10-25T06:22:31.562Z"
   },
   {
    "duration": 81,
    "start_time": "2022-10-25T06:22:31.899Z"
   },
   {
    "duration": 1995,
    "start_time": "2022-10-25T06:22:31.981Z"
   },
   {
    "duration": 8,
    "start_time": "2022-10-25T06:22:33.977Z"
   },
   {
    "duration": 18,
    "start_time": "2022-10-25T06:22:33.986Z"
   },
   {
    "duration": 31,
    "start_time": "2022-10-25T06:22:34.005Z"
   },
   {
    "duration": 8,
    "start_time": "2022-10-25T06:22:34.048Z"
   },
   {
    "duration": 126,
    "start_time": "2022-10-25T06:22:34.058Z"
   },
   {
    "duration": 20,
    "start_time": "2022-10-25T06:22:34.186Z"
   },
   {
    "duration": 25,
    "start_time": "2022-10-25T06:22:34.208Z"
   },
   {
    "duration": 72,
    "start_time": "2022-10-25T06:22:34.235Z"
   },
   {
    "duration": 151,
    "start_time": "2022-10-25T06:22:34.309Z"
   },
   {
    "duration": 93,
    "start_time": "2022-10-25T06:22:34.461Z"
   },
   {
    "duration": 32,
    "start_time": "2022-10-25T06:22:34.556Z"
   },
   {
    "duration": 25,
    "start_time": "2022-10-25T06:22:34.590Z"
   },
   {
    "duration": 101,
    "start_time": "2022-10-25T06:22:34.623Z"
   },
   {
    "duration": 24,
    "start_time": "2022-10-25T06:22:34.731Z"
   },
   {
    "duration": 2,
    "start_time": "2022-10-25T06:22:34.757Z"
   },
   {
    "duration": 29,
    "start_time": "2022-10-25T06:22:34.761Z"
   },
   {
    "duration": 91,
    "start_time": "2022-10-25T06:22:34.793Z"
   },
   {
    "duration": 30,
    "start_time": "2022-10-25T06:22:34.885Z"
   },
   {
    "duration": 9,
    "start_time": "2022-10-25T06:22:34.917Z"
   },
   {
    "duration": 24,
    "start_time": "2022-10-25T06:22:34.927Z"
   },
   {
    "duration": 44299,
    "start_time": "2022-10-25T06:22:34.952Z"
   },
   {
    "duration": 442,
    "start_time": "2022-10-25T06:23:19.254Z"
   },
   {
    "duration": 6,
    "start_time": "2022-10-25T06:23:19.698Z"
   },
   {
    "duration": 162,
    "start_time": "2022-10-25T06:23:19.705Z"
   },
   {
    "duration": 6,
    "start_time": "2022-10-25T06:23:19.869Z"
   },
   {
    "duration": 5,
    "start_time": "2022-10-25T06:23:19.876Z"
   },
   {
    "duration": 1125,
    "start_time": "2022-10-25T06:23:19.883Z"
   },
   {
    "duration": 0,
    "start_time": "2022-10-25T06:23:21.009Z"
   },
   {
    "duration": 0,
    "start_time": "2022-10-25T06:23:21.011Z"
   },
   {
    "duration": 0,
    "start_time": "2022-10-25T06:23:21.012Z"
   },
   {
    "duration": 0,
    "start_time": "2022-10-25T06:23:21.013Z"
   },
   {
    "duration": 78,
    "start_time": "2022-10-25T06:39:05.740Z"
   },
   {
    "duration": 953,
    "start_time": "2022-10-25T06:39:21.846Z"
   },
   {
    "duration": 640,
    "start_time": "2022-10-25T06:39:36.220Z"
   },
   {
    "duration": 130,
    "start_time": "2022-10-25T06:39:39.606Z"
   },
   {
    "duration": 113,
    "start_time": "2022-10-25T06:39:59.940Z"
   },
   {
    "duration": 268,
    "start_time": "2022-10-25T06:40:03.383Z"
   },
   {
    "duration": 13,
    "start_time": "2022-10-25T06:45:17.841Z"
   },
   {
    "duration": 10,
    "start_time": "2022-10-25T06:45:25.037Z"
   },
   {
    "duration": 75,
    "start_time": "2022-10-25T06:45:27.143Z"
   },
   {
    "duration": 148,
    "start_time": "2022-10-25T06:45:31.809Z"
   },
   {
    "duration": 1466,
    "start_time": "2022-10-25T06:45:58.178Z"
   },
   {
    "duration": 907,
    "start_time": "2022-10-25T06:45:59.646Z"
   },
   {
    "duration": 19,
    "start_time": "2022-10-25T06:46:00.554Z"
   },
   {
    "duration": 165,
    "start_time": "2022-10-25T06:46:00.575Z"
   },
   {
    "duration": 11,
    "start_time": "2022-10-25T06:46:00.743Z"
   },
   {
    "duration": 36,
    "start_time": "2022-10-25T06:46:00.756Z"
   },
   {
    "duration": 61,
    "start_time": "2022-10-25T06:46:00.794Z"
   },
   {
    "duration": 282,
    "start_time": "2022-10-25T06:46:00.857Z"
   },
   {
    "duration": 368,
    "start_time": "2022-10-25T06:46:01.141Z"
   },
   {
    "duration": 75,
    "start_time": "2022-10-25T06:46:01.511Z"
   },
   {
    "duration": 1907,
    "start_time": "2022-10-25T06:46:01.588Z"
   },
   {
    "duration": 8,
    "start_time": "2022-10-25T06:46:03.497Z"
   },
   {
    "duration": 27,
    "start_time": "2022-10-25T06:46:03.506Z"
   },
   {
    "duration": 10,
    "start_time": "2022-10-25T06:46:03.540Z"
   },
   {
    "duration": 7,
    "start_time": "2022-10-25T06:46:03.552Z"
   },
   {
    "duration": 141,
    "start_time": "2022-10-25T06:46:03.561Z"
   },
   {
    "duration": 30,
    "start_time": "2022-10-25T06:46:03.704Z"
   },
   {
    "duration": 16,
    "start_time": "2022-10-25T06:46:03.735Z"
   },
   {
    "duration": 90,
    "start_time": "2022-10-25T06:46:03.753Z"
   },
   {
    "duration": 131,
    "start_time": "2022-10-25T06:46:03.845Z"
   },
   {
    "duration": 79,
    "start_time": "2022-10-25T06:46:03.978Z"
   },
   {
    "duration": 31,
    "start_time": "2022-10-25T06:46:04.059Z"
   },
   {
    "duration": 48,
    "start_time": "2022-10-25T06:46:04.092Z"
   },
   {
    "duration": 13,
    "start_time": "2022-10-25T06:46:04.142Z"
   },
   {
    "duration": 98,
    "start_time": "2022-10-25T06:46:04.157Z"
   },
   {
    "duration": 25,
    "start_time": "2022-10-25T06:46:04.257Z"
   },
   {
    "duration": 3,
    "start_time": "2022-10-25T06:46:04.284Z"
   },
   {
    "duration": 54,
    "start_time": "2022-10-25T06:46:04.289Z"
   },
   {
    "duration": 60,
    "start_time": "2022-10-25T06:46:04.345Z"
   },
   {
    "duration": 44,
    "start_time": "2022-10-25T06:46:04.407Z"
   },
   {
    "duration": 5,
    "start_time": "2022-10-25T06:46:04.453Z"
   },
   {
    "duration": 5,
    "start_time": "2022-10-25T06:46:04.459Z"
   },
   {
    "duration": 42623,
    "start_time": "2022-10-25T06:46:04.465Z"
   },
   {
    "duration": 464,
    "start_time": "2022-10-25T06:46:47.089Z"
   },
   {
    "duration": 7,
    "start_time": "2022-10-25T06:46:47.556Z"
   },
   {
    "duration": 176,
    "start_time": "2022-10-25T06:46:47.565Z"
   },
   {
    "duration": 6,
    "start_time": "2022-10-25T06:46:47.743Z"
   },
   {
    "duration": 3,
    "start_time": "2022-10-25T06:46:47.752Z"
   },
   {
    "duration": 104,
    "start_time": "2022-10-25T06:46:47.757Z"
   },
   {
    "duration": 684079,
    "start_time": "2022-10-25T06:46:47.863Z"
   },
   {
    "duration": 3380,
    "start_time": "2022-10-25T06:58:11.949Z"
   },
   {
    "duration": 82,
    "start_time": "2022-10-25T06:58:15.334Z"
   },
   {
    "duration": 0,
    "start_time": "2022-10-25T06:58:15.418Z"
   },
   {
    "duration": 5,
    "start_time": "2022-10-25T06:58:25.274Z"
   },
   {
    "duration": 35,
    "start_time": "2022-10-25T06:58:28.441Z"
   },
   {
    "duration": 1119,
    "start_time": "2022-10-25T06:58:30.845Z"
   },
   {
    "duration": 11,
    "start_time": "2022-10-25T06:58:42.833Z"
   },
   {
    "duration": 5,
    "start_time": "2022-10-25T06:59:06.691Z"
   },
   {
    "duration": 172,
    "start_time": "2022-10-25T06:59:22.213Z"
   },
   {
    "duration": 114,
    "start_time": "2022-10-25T06:59:23.074Z"
   },
   {
    "duration": 36,
    "start_time": "2022-10-25T06:59:34.859Z"
   },
   {
    "duration": 85,
    "start_time": "2022-10-25T06:59:36.069Z"
   },
   {
    "duration": 33,
    "start_time": "2022-10-25T06:59:36.748Z"
   },
   {
    "duration": 3,
    "start_time": "2022-10-25T07:00:40.027Z"
   },
   {
    "duration": 2344,
    "start_time": "2022-10-25T07:01:31.085Z"
   },
   {
    "duration": 136,
    "start_time": "2022-10-25T07:02:36.998Z"
   },
   {
    "duration": 12,
    "start_time": "2022-10-25T07:03:27.683Z"
   },
   {
    "duration": 6,
    "start_time": "2022-10-25T07:03:50.537Z"
   },
   {
    "duration": 4,
    "start_time": "2022-10-25T07:06:51.182Z"
   },
   {
    "duration": 36,
    "start_time": "2022-10-25T07:08:18.826Z"
   },
   {
    "duration": 12,
    "start_time": "2022-10-25T07:08:19.925Z"
   },
   {
    "duration": 3,
    "start_time": "2022-10-25T07:09:02.589Z"
   },
   {
    "duration": 428486,
    "start_time": "2022-10-25T07:09:03.469Z"
   },
   {
    "duration": 188,
    "start_time": "2022-10-25T07:16:35.043Z"
   },
   {
    "duration": 5,
    "start_time": "2022-10-25T07:16:36.041Z"
   },
   {
    "duration": 32,
    "start_time": "2022-10-25T07:16:36.839Z"
   },
   {
    "duration": 7,
    "start_time": "2022-10-25T07:16:37.625Z"
   },
   {
    "duration": 3,
    "start_time": "2022-10-25T07:17:11.655Z"
   },
   {
    "duration": 2844,
    "start_time": "2022-10-25T07:17:12.292Z"
   },
   {
    "duration": 287,
    "start_time": "2022-10-25T07:17:15.140Z"
   },
   {
    "duration": 9,
    "start_time": "2022-10-25T07:17:15.429Z"
   },
   {
    "duration": 120,
    "start_time": "2022-10-25T07:17:15.440Z"
   },
   {
    "duration": 71,
    "start_time": "2022-10-25T07:17:15.563Z"
   },
   {
    "duration": 3,
    "start_time": "2022-10-25T07:20:17.737Z"
   },
   {
    "duration": 63202,
    "start_time": "2022-10-25T07:20:52.102Z"
   },
   {
    "duration": 1339,
    "start_time": "2022-10-25T07:22:50.240Z"
   },
   {
    "duration": 5,
    "start_time": "2022-10-25T07:23:01.540Z"
   },
   {
    "duration": 454,
    "start_time": "2022-10-25T07:23:28.005Z"
   },
   {
    "duration": 6,
    "start_time": "2022-10-25T07:23:59.490Z"
   },
   {
    "duration": 1741,
    "start_time": "2022-10-25T07:27:00.774Z"
   },
   {
    "duration": 990,
    "start_time": "2022-10-25T07:27:02.517Z"
   },
   {
    "duration": 34,
    "start_time": "2022-10-25T07:27:03.509Z"
   },
   {
    "duration": 150,
    "start_time": "2022-10-25T07:27:03.545Z"
   },
   {
    "duration": 8,
    "start_time": "2022-10-25T07:27:03.698Z"
   },
   {
    "duration": 25,
    "start_time": "2022-10-25T07:27:03.708Z"
   },
   {
    "duration": 30,
    "start_time": "2022-10-25T07:27:03.739Z"
   },
   {
    "duration": 270,
    "start_time": "2022-10-25T07:27:03.771Z"
   },
   {
    "duration": 300,
    "start_time": "2022-10-25T07:27:04.043Z"
   },
   {
    "duration": 62,
    "start_time": "2022-10-25T07:27:04.345Z"
   },
   {
    "duration": 1867,
    "start_time": "2022-10-25T07:27:04.409Z"
   },
   {
    "duration": 9,
    "start_time": "2022-10-25T07:27:06.277Z"
   },
   {
    "duration": 10,
    "start_time": "2022-10-25T07:27:06.288Z"
   },
   {
    "duration": 37,
    "start_time": "2022-10-25T07:27:06.302Z"
   },
   {
    "duration": 9,
    "start_time": "2022-10-25T07:27:06.341Z"
   },
   {
    "duration": 129,
    "start_time": "2022-10-25T07:27:06.352Z"
   },
   {
    "duration": 21,
    "start_time": "2022-10-25T07:27:06.483Z"
   },
   {
    "duration": 33,
    "start_time": "2022-10-25T07:27:06.506Z"
   },
   {
    "duration": 73,
    "start_time": "2022-10-25T07:27:06.541Z"
   },
   {
    "duration": 129,
    "start_time": "2022-10-25T07:27:06.626Z"
   },
   {
    "duration": 81,
    "start_time": "2022-10-25T07:27:06.758Z"
   },
   {
    "duration": 31,
    "start_time": "2022-10-25T07:27:06.840Z"
   },
   {
    "duration": 24,
    "start_time": "2022-10-25T07:27:06.873Z"
   },
   {
    "duration": 27,
    "start_time": "2022-10-25T07:27:06.899Z"
   },
   {
    "duration": 103,
    "start_time": "2022-10-25T07:27:06.936Z"
   },
   {
    "duration": 26,
    "start_time": "2022-10-25T07:27:07.041Z"
   },
   {
    "duration": 3,
    "start_time": "2022-10-25T07:27:07.069Z"
   },
   {
    "duration": 17,
    "start_time": "2022-10-25T07:27:07.074Z"
   },
   {
    "duration": 96,
    "start_time": "2022-10-25T07:27:07.093Z"
   },
   {
    "duration": 47,
    "start_time": "2022-10-25T07:27:07.191Z"
   },
   {
    "duration": 6,
    "start_time": "2022-10-25T07:27:07.240Z"
   },
   {
    "duration": 6,
    "start_time": "2022-10-25T07:27:07.248Z"
   },
   {
    "duration": 43942,
    "start_time": "2022-10-25T07:27:07.257Z"
   },
   {
    "duration": 440,
    "start_time": "2022-10-25T07:27:51.201Z"
   },
   {
    "duration": 6,
    "start_time": "2022-10-25T07:27:51.643Z"
   },
   {
    "duration": 192,
    "start_time": "2022-10-25T07:27:51.651Z"
   },
   {
    "duration": 6,
    "start_time": "2022-10-25T07:27:51.845Z"
   },
   {
    "duration": 11,
    "start_time": "2022-10-25T07:27:51.853Z"
   },
   {
    "duration": 134,
    "start_time": "2022-10-25T07:27:51.866Z"
   },
   {
    "duration": 166638,
    "start_time": "2022-10-25T07:27:52.003Z"
   },
   {
    "duration": 3329,
    "start_time": "2022-10-25T07:30:38.645Z"
   },
   {
    "duration": 48,
    "start_time": "2022-10-25T07:30:41.976Z"
   },
   {
    "duration": 37,
    "start_time": "2022-10-25T07:30:42.027Z"
   },
   {
    "duration": 1169,
    "start_time": "2022-10-25T07:30:42.066Z"
   },
   {
    "duration": 5,
    "start_time": "2022-10-25T07:30:43.237Z"
   },
   {
    "duration": 187,
    "start_time": "2022-10-25T07:30:43.243Z"
   },
   {
    "duration": 31,
    "start_time": "2022-10-25T07:30:43.432Z"
   },
   {
    "duration": 94,
    "start_time": "2022-10-25T07:30:43.465Z"
   },
   {
    "duration": 32,
    "start_time": "2022-10-25T07:30:43.561Z"
   },
   {
    "duration": 10,
    "start_time": "2022-10-25T07:30:43.595Z"
   },
   {
    "duration": 2927,
    "start_time": "2022-10-25T07:30:43.607Z"
   },
   {
    "duration": 196,
    "start_time": "2022-10-25T07:30:46.541Z"
   },
   {
    "duration": 89,
    "start_time": "2022-10-25T07:30:46.746Z"
   },
   {
    "duration": 110,
    "start_time": "2022-10-25T07:30:46.843Z"
   },
   {
    "duration": 78,
    "start_time": "2022-10-25T07:30:46.955Z"
   },
   {
    "duration": 4,
    "start_time": "2022-10-25T07:30:47.035Z"
   },
   {
    "duration": 59929,
    "start_time": "2022-10-25T07:30:47.129Z"
   },
   {
    "duration": 1343,
    "start_time": "2022-10-25T07:31:47.060Z"
   },
   {
    "duration": 6,
    "start_time": "2022-10-25T07:31:48.405Z"
   },
   {
    "duration": 451,
    "start_time": "2022-10-25T07:31:48.412Z"
   },
   {
    "duration": 5,
    "start_time": "2022-10-25T07:31:48.865Z"
   },
   {
    "duration": 169,
    "start_time": "2022-10-25T07:31:48.871Z"
   },
   {
    "duration": 5,
    "start_time": "2022-10-25T07:31:57.496Z"
   },
   {
    "duration": 3,
    "start_time": "2022-10-25T07:38:30.060Z"
   },
   {
    "duration": 152,
    "start_time": "2022-10-25T07:43:07.594Z"
   },
   {
    "duration": 4,
    "start_time": "2022-10-25T07:43:15.651Z"
   },
   {
    "duration": 3,
    "start_time": "2022-10-25T07:43:16.241Z"
   },
   {
    "duration": 17,
    "start_time": "2022-10-25T07:43:26.143Z"
   },
   {
    "duration": 63,
    "start_time": "2022-10-25T07:43:26.648Z"
   },
   {
    "duration": 29,
    "start_time": "2022-10-25T07:43:27.138Z"
   },
   {
    "duration": 8,
    "start_time": "2022-10-25T07:43:27.701Z"
   },
   {
    "duration": 100,
    "start_time": "2022-10-25T07:43:46.321Z"
   },
   {
    "duration": 4,
    "start_time": "2022-10-25T07:47:05.822Z"
   },
   {
    "duration": 4,
    "start_time": "2022-10-25T07:47:33.899Z"
   },
   {
    "duration": 86,
    "start_time": "2022-10-25T07:47:34.727Z"
   },
   {
    "duration": 14,
    "start_time": "2022-10-25T07:47:43.194Z"
   },
   {
    "duration": 10,
    "start_time": "2022-10-25T07:47:51.230Z"
   },
   {
    "duration": 4,
    "start_time": "2022-10-25T07:48:24.691Z"
   },
   {
    "duration": 5,
    "start_time": "2022-10-25T07:48:32.974Z"
   },
   {
    "duration": 5,
    "start_time": "2022-10-25T07:49:12.795Z"
   },
   {
    "duration": 1879838,
    "start_time": "2022-10-25T07:49:15.010Z"
   },
   {
    "duration": 3,
    "start_time": "2022-10-25T08:20:58.990Z"
   },
   {
    "duration": 3,
    "start_time": "2022-10-25T08:21:00.650Z"
   },
   {
    "duration": 3,
    "start_time": "2022-10-25T08:21:01.208Z"
   },
   {
    "duration": 5,
    "start_time": "2022-10-25T08:21:01.975Z"
   },
   {
    "duration": 22861,
    "start_time": "2022-10-25T08:21:02.855Z"
   },
   {
    "duration": 1655,
    "start_time": "2022-10-25T08:21:49.661Z"
   },
   {
    "duration": 1174,
    "start_time": "2022-10-25T08:21:51.318Z"
   },
   {
    "duration": 50,
    "start_time": "2022-10-25T08:21:52.494Z"
   },
   {
    "duration": 163,
    "start_time": "2022-10-25T08:21:52.546Z"
   },
   {
    "duration": 25,
    "start_time": "2022-10-25T08:21:52.712Z"
   },
   {
    "duration": 4,
    "start_time": "2022-10-25T08:21:52.739Z"
   },
   {
    "duration": 35,
    "start_time": "2022-10-25T08:21:52.744Z"
   },
   {
    "duration": 296,
    "start_time": "2022-10-25T08:21:52.781Z"
   },
   {
    "duration": 357,
    "start_time": "2022-10-25T08:21:53.079Z"
   },
   {
    "duration": 76,
    "start_time": "2022-10-25T08:21:53.439Z"
   },
   {
    "duration": 1945,
    "start_time": "2022-10-25T08:21:53.523Z"
   },
   {
    "duration": 11,
    "start_time": "2022-10-25T08:21:55.472Z"
   },
   {
    "duration": 17,
    "start_time": "2022-10-25T08:21:55.485Z"
   },
   {
    "duration": 38,
    "start_time": "2022-10-25T08:21:55.505Z"
   },
   {
    "duration": 37,
    "start_time": "2022-10-25T08:21:55.545Z"
   },
   {
    "duration": 172,
    "start_time": "2022-10-25T08:21:55.584Z"
   },
   {
    "duration": 21,
    "start_time": "2022-10-25T08:21:55.758Z"
   },
   {
    "duration": 37,
    "start_time": "2022-10-25T08:21:55.780Z"
   },
   {
    "duration": 126,
    "start_time": "2022-10-25T08:21:55.818Z"
   },
   {
    "duration": 125,
    "start_time": "2022-10-25T08:21:55.946Z"
   },
   {
    "duration": 86,
    "start_time": "2022-10-25T08:21:56.072Z"
   },
   {
    "duration": 31,
    "start_time": "2022-10-25T08:21:56.160Z"
   },
   {
    "duration": 65,
    "start_time": "2022-10-25T08:21:56.194Z"
   },
   {
    "duration": 28,
    "start_time": "2022-10-25T08:21:56.261Z"
   },
   {
    "duration": 119,
    "start_time": "2022-10-25T08:21:56.291Z"
   },
   {
    "duration": 36,
    "start_time": "2022-10-25T08:21:56.412Z"
   },
   {
    "duration": 5,
    "start_time": "2022-10-25T08:21:56.451Z"
   },
   {
    "duration": 26,
    "start_time": "2022-10-25T08:21:56.458Z"
   },
   {
    "duration": 92,
    "start_time": "2022-10-25T08:21:56.486Z"
   },
   {
    "duration": 33,
    "start_time": "2022-10-25T08:21:56.580Z"
   },
   {
    "duration": 5,
    "start_time": "2022-10-25T08:21:56.615Z"
   },
   {
    "duration": 36,
    "start_time": "2022-10-25T08:21:56.631Z"
   },
   {
    "duration": 19,
    "start_time": "2022-10-25T08:21:56.669Z"
   },
   {
    "duration": 31,
    "start_time": "2022-10-25T08:21:56.689Z"
   },
   {
    "duration": 25,
    "start_time": "2022-10-25T08:21:56.722Z"
   },
   {
    "duration": 359336,
    "start_time": "2022-10-25T08:21:56.749Z"
   },
   {
    "duration": 356,
    "start_time": "2022-10-25T08:27:56.087Z"
   },
   {
    "duration": 5,
    "start_time": "2022-10-25T08:27:56.446Z"
   },
   {
    "duration": 138,
    "start_time": "2022-10-25T08:27:56.453Z"
   },
   {
    "duration": 5,
    "start_time": "2022-10-25T08:27:56.593Z"
   },
   {
    "duration": 6,
    "start_time": "2022-10-25T08:27:56.602Z"
   },
   {
    "duration": 90,
    "start_time": "2022-10-25T08:27:56.610Z"
   },
   {
    "duration": 36531,
    "start_time": "2022-10-25T08:27:56.701Z"
   },
   {
    "duration": 3392,
    "start_time": "2022-10-25T08:28:33.233Z"
   },
   {
    "duration": 6,
    "start_time": "2022-10-25T08:28:36.627Z"
   },
   {
    "duration": 34,
    "start_time": "2022-10-25T08:28:36.635Z"
   },
   {
    "duration": 1159,
    "start_time": "2022-10-25T08:28:36.671Z"
   },
   {
    "duration": 6,
    "start_time": "2022-10-25T08:28:37.832Z"
   },
   {
    "duration": 205,
    "start_time": "2022-10-25T08:28:37.839Z"
   },
   {
    "duration": 34,
    "start_time": "2022-10-25T08:28:38.046Z"
   },
   {
    "duration": 88,
    "start_time": "2022-10-25T08:28:38.081Z"
   },
   {
    "duration": 31,
    "start_time": "2022-10-25T08:28:38.171Z"
   },
   {
    "duration": 3,
    "start_time": "2022-10-25T08:28:38.203Z"
   },
   {
    "duration": 149,
    "start_time": "2022-10-25T08:28:38.208Z"
   },
   {
    "duration": 93,
    "start_time": "2022-10-25T08:28:38.359Z"
   },
   {
    "duration": 7,
    "start_time": "2022-10-25T08:28:38.454Z"
   },
   {
    "duration": 35,
    "start_time": "2022-10-25T08:28:38.463Z"
   },
   {
    "duration": 27,
    "start_time": "2022-10-25T08:28:38.500Z"
   },
   {
    "duration": 6,
    "start_time": "2022-10-25T08:28:38.529Z"
   },
   {
    "duration": 60496,
    "start_time": "2022-10-25T08:28:38.537Z"
   },
   {
    "duration": 1336,
    "start_time": "2022-10-25T08:29:39.038Z"
   },
   {
    "duration": 5,
    "start_time": "2022-10-25T08:29:40.376Z"
   },
   {
    "duration": 466,
    "start_time": "2022-10-25T08:29:40.383Z"
   },
   {
    "duration": 5,
    "start_time": "2022-10-25T08:29:40.851Z"
   },
   {
    "duration": 125,
    "start_time": "2022-10-25T08:29:40.858Z"
   },
   {
    "duration": 5,
    "start_time": "2022-10-25T08:29:40.985Z"
   },
   {
    "duration": 4,
    "start_time": "2022-10-25T08:31:57.952Z"
   },
   {
    "duration": 252,
    "start_time": "2022-10-25T08:32:10.200Z"
   },
   {
    "duration": 6,
    "start_time": "2022-10-25T08:32:13.715Z"
   },
   {
    "duration": 115,
    "start_time": "2022-10-25T08:32:51.956Z"
   },
   {
    "duration": 5,
    "start_time": "2022-10-25T08:32:53.163Z"
   },
   {
    "duration": 86,
    "start_time": "2022-10-25T08:33:04.880Z"
   },
   {
    "duration": 5,
    "start_time": "2022-10-25T08:33:05.836Z"
   },
   {
    "duration": 117,
    "start_time": "2022-10-25T08:33:46.652Z"
   },
   {
    "duration": 6,
    "start_time": "2022-10-25T08:33:47.743Z"
   },
   {
    "duration": 3,
    "start_time": "2022-10-25T08:34:49.349Z"
   },
   {
    "duration": 371,
    "start_time": "2022-10-25T08:34:50.169Z"
   },
   {
    "duration": 101,
    "start_time": "2022-10-25T08:34:56.388Z"
   },
   {
    "duration": 6,
    "start_time": "2022-10-25T08:34:57.349Z"
   },
   {
    "duration": 27,
    "start_time": "2022-10-25T08:34:59.186Z"
   },
   {
    "duration": 7,
    "start_time": "2022-10-25T08:35:01.844Z"
   },
   {
    "duration": 3,
    "start_time": "2022-10-25T08:35:37.277Z"
   },
   {
    "duration": 577,
    "start_time": "2022-10-25T08:35:37.885Z"
   },
   {
    "duration": 111,
    "start_time": "2022-10-25T08:35:39.653Z"
   },
   {
    "duration": 8,
    "start_time": "2022-10-25T08:35:40.586Z"
   },
   {
    "duration": 35,
    "start_time": "2022-10-25T08:35:41.466Z"
   },
   {
    "duration": 6,
    "start_time": "2022-10-25T08:35:42.013Z"
   },
   {
    "duration": 3,
    "start_time": "2022-10-25T08:38:33.934Z"
   },
   {
    "duration": 2,
    "start_time": "2022-10-25T08:40:02.991Z"
   },
   {
    "duration": 3,
    "start_time": "2022-10-25T08:40:03.715Z"
   },
   {
    "duration": 13321,
    "start_time": "2022-10-25T08:40:15.040Z"
   },
   {
    "duration": 5,
    "start_time": "2022-10-25T08:41:05.307Z"
   },
   {
    "duration": 116,
    "start_time": "2022-10-25T08:41:12.685Z"
   },
   {
    "duration": 6,
    "start_time": "2022-10-25T08:41:13.631Z"
   },
   {
    "duration": 35,
    "start_time": "2022-10-25T08:41:14.660Z"
   },
   {
    "duration": 5,
    "start_time": "2022-10-25T08:41:15.388Z"
   },
   {
    "duration": 119,
    "start_time": "2022-10-25T08:42:49.232Z"
   },
   {
    "duration": 5,
    "start_time": "2022-10-25T08:42:50.669Z"
   },
   {
    "duration": 40,
    "start_time": "2022-10-25T08:42:59.488Z"
   },
   {
    "duration": 5,
    "start_time": "2022-10-25T08:43:00.053Z"
   },
   {
    "duration": 37,
    "start_time": "2022-10-25T08:43:30.668Z"
   },
   {
    "duration": 5,
    "start_time": "2022-10-25T08:43:48.557Z"
   },
   {
    "duration": 3,
    "start_time": "2022-10-25T09:42:29.628Z"
   },
   {
    "duration": 3,
    "start_time": "2022-10-25T09:42:30.272Z"
   },
   {
    "duration": 3,
    "start_time": "2022-10-25T09:42:39.380Z"
   },
   {
    "duration": 1979160,
    "start_time": "2022-10-25T09:42:46.584Z"
   },
   {
    "duration": 4,
    "start_time": "2022-10-25T10:15:51.580Z"
   },
   {
    "duration": 999,
    "start_time": "2022-10-25T10:15:51.586Z"
   },
   {
    "duration": 16,
    "start_time": "2022-10-25T10:15:52.587Z"
   },
   {
    "duration": 146,
    "start_time": "2022-10-25T10:15:52.605Z"
   },
   {
    "duration": 12,
    "start_time": "2022-10-25T10:15:52.754Z"
   },
   {
    "duration": 19,
    "start_time": "2022-10-25T10:15:52.769Z"
   },
   {
    "duration": 49,
    "start_time": "2022-10-25T10:15:52.790Z"
   },
   {
    "duration": 227,
    "start_time": "2022-10-25T10:15:52.841Z"
   },
   {
    "duration": 235,
    "start_time": "2022-10-25T10:15:53.069Z"
   },
   {
    "duration": 65,
    "start_time": "2022-10-25T10:15:53.306Z"
   },
   {
    "duration": 1782,
    "start_time": "2022-10-25T10:15:53.374Z"
   },
   {
    "duration": 9,
    "start_time": "2022-10-25T10:15:55.158Z"
   },
   {
    "duration": 33,
    "start_time": "2022-10-25T10:15:55.169Z"
   },
   {
    "duration": 22,
    "start_time": "2022-10-25T10:15:55.204Z"
   },
   {
    "duration": 21,
    "start_time": "2022-10-25T10:15:55.228Z"
   },
   {
    "duration": 48,
    "start_time": "2022-10-25T10:15:55.251Z"
   },
   {
    "duration": 18,
    "start_time": "2022-10-25T10:15:55.301Z"
   },
   {
    "duration": 19,
    "start_time": "2022-10-25T10:15:55.321Z"
   },
   {
    "duration": 93,
    "start_time": "2022-10-25T10:15:55.342Z"
   },
   {
    "duration": 119,
    "start_time": "2022-10-25T10:15:55.436Z"
   },
   {
    "duration": 78,
    "start_time": "2022-10-25T10:15:55.557Z"
   },
   {
    "duration": 32,
    "start_time": "2022-10-25T10:15:55.637Z"
   },
   {
    "duration": 35,
    "start_time": "2022-10-25T10:15:55.671Z"
   },
   {
    "duration": 21,
    "start_time": "2022-10-25T10:15:55.708Z"
   },
   {
    "duration": 89,
    "start_time": "2022-10-25T10:15:55.731Z"
   },
   {
    "duration": 39,
    "start_time": "2022-10-25T10:15:55.822Z"
   },
   {
    "duration": 8,
    "start_time": "2022-10-25T10:15:55.863Z"
   },
   {
    "duration": 33,
    "start_time": "2022-10-25T10:15:55.873Z"
   },
   {
    "duration": 77,
    "start_time": "2022-10-25T10:15:55.910Z"
   },
   {
    "duration": 26,
    "start_time": "2022-10-25T10:15:55.989Z"
   },
   {
    "duration": 31,
    "start_time": "2022-10-25T10:15:56.017Z"
   },
   {
    "duration": 34,
    "start_time": "2022-10-25T10:15:56.050Z"
   },
   {
    "duration": 36,
    "start_time": "2022-10-25T10:15:56.086Z"
   },
   {
    "duration": 24,
    "start_time": "2022-10-25T10:15:56.124Z"
   },
   {
    "duration": 1611,
    "start_time": "2022-10-25T10:16:43.659Z"
   },
   {
    "duration": 925,
    "start_time": "2022-10-25T10:16:45.272Z"
   },
   {
    "duration": 26,
    "start_time": "2022-10-25T10:16:46.199Z"
   },
   {
    "duration": 162,
    "start_time": "2022-10-25T10:16:46.228Z"
   },
   {
    "duration": 8,
    "start_time": "2022-10-25T10:16:46.392Z"
   },
   {
    "duration": 29,
    "start_time": "2022-10-25T10:16:46.402Z"
   },
   {
    "duration": 35,
    "start_time": "2022-10-25T10:16:46.433Z"
   },
   {
    "duration": 273,
    "start_time": "2022-10-25T10:16:46.471Z"
   },
   {
    "duration": 334,
    "start_time": "2022-10-25T10:16:46.746Z"
   },
   {
    "duration": 82,
    "start_time": "2022-10-25T10:16:47.083Z"
   },
   {
    "duration": 1806,
    "start_time": "2022-10-25T10:16:47.167Z"
   },
   {
    "duration": 8,
    "start_time": "2022-10-25T10:16:48.975Z"
   },
   {
    "duration": 10,
    "start_time": "2022-10-25T10:16:48.985Z"
   },
   {
    "duration": 31,
    "start_time": "2022-10-25T10:16:48.997Z"
   },
   {
    "duration": 8,
    "start_time": "2022-10-25T10:16:49.030Z"
   },
   {
    "duration": 137,
    "start_time": "2022-10-25T10:16:49.039Z"
   },
   {
    "duration": 21,
    "start_time": "2022-10-25T10:16:49.178Z"
   },
   {
    "duration": 33,
    "start_time": "2022-10-25T10:16:49.201Z"
   },
   {
    "duration": 74,
    "start_time": "2022-10-25T10:16:49.236Z"
   },
   {
    "duration": 134,
    "start_time": "2022-10-25T10:16:49.311Z"
   },
   {
    "duration": 88,
    "start_time": "2022-10-25T10:16:49.446Z"
   },
   {
    "duration": 32,
    "start_time": "2022-10-25T10:16:49.536Z"
   },
   {
    "duration": 21,
    "start_time": "2022-10-25T10:16:49.570Z"
   },
   {
    "duration": 37,
    "start_time": "2022-10-25T10:16:49.592Z"
   },
   {
    "duration": 103,
    "start_time": "2022-10-25T10:16:49.632Z"
   },
   {
    "duration": 26,
    "start_time": "2022-10-25T10:16:49.736Z"
   },
   {
    "duration": 3,
    "start_time": "2022-10-25T10:16:49.764Z"
   },
   {
    "duration": 15,
    "start_time": "2022-10-25T10:16:49.771Z"
   },
   {
    "duration": 90,
    "start_time": "2022-10-25T10:16:49.788Z"
   },
   {
    "duration": 30,
    "start_time": "2022-10-25T10:16:49.880Z"
   },
   {
    "duration": 15,
    "start_time": "2022-10-25T10:16:49.912Z"
   },
   {
    "duration": 3,
    "start_time": "2022-10-25T10:16:49.930Z"
   },
   {
    "duration": 6,
    "start_time": "2022-10-25T10:16:49.935Z"
   },
   {
    "duration": 5,
    "start_time": "2022-10-25T10:16:49.943Z"
   },
   {
    "duration": 336287,
    "start_time": "2022-10-25T10:16:49.950Z"
   },
   {
    "duration": 4,
    "start_time": "2022-10-25T10:22:26.239Z"
   },
   {
    "duration": 365,
    "start_time": "2022-10-25T10:22:26.244Z"
   },
   {
    "duration": 13,
    "start_time": "2022-10-25T10:22:26.611Z"
   },
   {
    "duration": 130,
    "start_time": "2022-10-25T10:22:26.626Z"
   },
   {
    "duration": 6,
    "start_time": "2022-10-25T10:22:26.758Z"
   },
   {
    "duration": 4,
    "start_time": "2022-10-25T10:22:26.766Z"
   },
   {
    "duration": 104,
    "start_time": "2022-10-25T10:22:26.771Z"
   },
   {
    "duration": 12,
    "start_time": "2022-10-25T10:22:26.877Z"
   },
   {
    "duration": 6737,
    "start_time": "2022-10-25T10:22:26.891Z"
   },
   {
    "duration": 2694,
    "start_time": "2022-10-25T10:22:33.630Z"
   },
   {
    "duration": 5,
    "start_time": "2022-10-25T10:22:36.326Z"
   },
   {
    "duration": 99,
    "start_time": "2022-10-25T10:22:36.333Z"
   },
   {
    "duration": 891,
    "start_time": "2022-10-25T10:22:36.434Z"
   },
   {
    "duration": 4,
    "start_time": "2022-10-25T10:22:37.327Z"
   },
   {
    "duration": 188,
    "start_time": "2022-10-25T10:22:37.333Z"
   },
   {
    "duration": 38,
    "start_time": "2022-10-25T10:22:37.524Z"
   },
   {
    "duration": 84,
    "start_time": "2022-10-25T10:22:37.564Z"
   },
   {
    "duration": 31,
    "start_time": "2022-10-25T10:22:37.650Z"
   },
   {
    "duration": 3,
    "start_time": "2022-10-25T10:22:37.683Z"
   },
   {
    "duration": 9,
    "start_time": "2022-10-25T10:22:37.687Z"
   },
   {
    "duration": 11,
    "start_time": "2022-10-25T10:22:37.698Z"
   },
   {
    "duration": 14490,
    "start_time": "2022-10-25T10:22:37.711Z"
   },
   {
    "duration": 5,
    "start_time": "2022-10-25T10:22:52.203Z"
   },
   {
    "duration": 126,
    "start_time": "2022-10-25T10:22:52.223Z"
   },
   {
    "duration": 6,
    "start_time": "2022-10-25T10:22:52.351Z"
   },
   {
    "duration": 101,
    "start_time": "2022-10-25T10:22:52.359Z"
   },
   {
    "duration": 6,
    "start_time": "2022-10-25T10:22:52.462Z"
   },
   {
    "duration": 39,
    "start_time": "2022-10-25T10:22:52.470Z"
   },
   {
    "duration": 22,
    "start_time": "2022-10-25T10:22:52.511Z"
   },
   {
    "duration": 26,
    "start_time": "2022-10-25T10:22:52.535Z"
   },
   {
    "duration": 552566,
    "start_time": "2022-10-25T10:22:52.562Z"
   },
   {
    "duration": 4,
    "start_time": "2022-10-25T10:32:05.130Z"
   },
   {
    "duration": 10577,
    "start_time": "2022-10-25T10:32:05.135Z"
   },
   {
    "duration": 11,
    "start_time": "2022-10-25T10:32:15.714Z"
   },
   {
    "duration": 3585,
    "start_time": "2022-10-25T10:32:15.726Z"
   },
   {
    "duration": 11,
    "start_time": "2022-10-25T10:32:19.313Z"
   },
   {
    "duration": 134,
    "start_time": "2022-10-25T10:32:19.326Z"
   },
   {
    "duration": 6,
    "start_time": "2022-10-25T10:32:19.462Z"
   },
   {
    "duration": 62,
    "start_time": "2022-10-25T10:32:19.469Z"
   },
   {
    "duration": 7,
    "start_time": "2022-10-25T10:32:19.533Z"
   },
   {
    "duration": 10519,
    "start_time": "2022-10-25T10:32:29.925Z"
   },
   {
    "duration": 3,
    "start_time": "2022-10-25T10:36:44.559Z"
   },
   {
    "duration": 3,
    "start_time": "2022-10-25T10:36:47.677Z"
   },
   {
    "duration": 3,
    "start_time": "2022-10-25T10:36:48.433Z"
   },
   {
    "duration": 7,
    "start_time": "2022-10-25T10:36:51.597Z"
   },
   {
    "duration": 356,
    "start_time": "2022-10-25T10:36:53.064Z"
   },
   {
    "duration": 4,
    "start_time": "2022-10-25T10:37:23.432Z"
   },
   {
    "duration": 4903,
    "start_time": "2022-10-25T10:37:37.308Z"
   },
   {
    "duration": 4,
    "start_time": "2022-10-25T10:38:22.438Z"
   },
   {
    "duration": 3,
    "start_time": "2022-10-25T10:38:36.837Z"
   },
   {
    "duration": 3,
    "start_time": "2022-10-25T10:38:37.720Z"
   },
   {
    "duration": 1103,
    "start_time": "2022-10-25T10:38:38.223Z"
   },
   {
    "duration": 1510,
    "start_time": "2022-10-25T10:39:03.317Z"
   },
   {
    "duration": 889,
    "start_time": "2022-10-25T10:39:04.829Z"
   },
   {
    "duration": 20,
    "start_time": "2022-10-25T10:39:05.719Z"
   },
   {
    "duration": 168,
    "start_time": "2022-10-25T10:39:05.741Z"
   },
   {
    "duration": 13,
    "start_time": "2022-10-25T10:39:05.912Z"
   },
   {
    "duration": 7,
    "start_time": "2022-10-25T10:39:05.927Z"
   },
   {
    "duration": 35,
    "start_time": "2022-10-25T10:39:05.935Z"
   },
   {
    "duration": 258,
    "start_time": "2022-10-25T10:39:05.972Z"
   },
   {
    "duration": 327,
    "start_time": "2022-10-25T10:39:06.231Z"
   },
   {
    "duration": 72,
    "start_time": "2022-10-25T10:39:06.560Z"
   },
   {
    "duration": 1727,
    "start_time": "2022-10-25T10:39:06.633Z"
   },
   {
    "duration": 8,
    "start_time": "2022-10-25T10:39:08.362Z"
   },
   {
    "duration": 31,
    "start_time": "2022-10-25T10:39:08.371Z"
   },
   {
    "duration": 32,
    "start_time": "2022-10-25T10:39:08.406Z"
   },
   {
    "duration": 7,
    "start_time": "2022-10-25T10:39:08.440Z"
   },
   {
    "duration": 130,
    "start_time": "2022-10-25T10:39:08.449Z"
   },
   {
    "duration": 21,
    "start_time": "2022-10-25T10:39:08.580Z"
   },
   {
    "duration": 20,
    "start_time": "2022-10-25T10:39:08.603Z"
   },
   {
    "duration": 79,
    "start_time": "2022-10-25T10:39:08.625Z"
   },
   {
    "duration": 144,
    "start_time": "2022-10-25T10:39:08.706Z"
   },
   {
    "duration": 73,
    "start_time": "2022-10-25T10:39:08.852Z"
   },
   {
    "duration": 32,
    "start_time": "2022-10-25T10:39:08.927Z"
   },
   {
    "duration": 34,
    "start_time": "2022-10-25T10:39:08.961Z"
   },
   {
    "duration": 11,
    "start_time": "2022-10-25T10:39:08.997Z"
   },
   {
    "duration": 96,
    "start_time": "2022-10-25T10:39:09.010Z"
   },
   {
    "duration": 39,
    "start_time": "2022-10-25T10:39:09.108Z"
   },
   {
    "duration": 3,
    "start_time": "2022-10-25T10:39:09.148Z"
   },
   {
    "duration": 33,
    "start_time": "2022-10-25T10:39:09.153Z"
   },
   {
    "duration": 68,
    "start_time": "2022-10-25T10:39:09.188Z"
   },
   {
    "duration": 31,
    "start_time": "2022-10-25T10:39:09.258Z"
   },
   {
    "duration": 5,
    "start_time": "2022-10-25T10:39:09.291Z"
   },
   {
    "duration": 7,
    "start_time": "2022-10-25T10:39:09.298Z"
   },
   {
    "duration": 21,
    "start_time": "2022-10-25T10:39:09.307Z"
   },
   {
    "duration": 14,
    "start_time": "2022-10-25T10:39:09.330Z"
   },
   {
    "duration": 336890,
    "start_time": "2022-10-25T10:39:09.346Z"
   },
   {
    "duration": 5,
    "start_time": "2022-10-25T10:44:46.237Z"
   },
   {
    "duration": 360,
    "start_time": "2022-10-25T10:44:46.243Z"
   },
   {
    "duration": 6,
    "start_time": "2022-10-25T10:44:46.605Z"
   },
   {
    "duration": 129,
    "start_time": "2022-10-25T10:44:46.623Z"
   },
   {
    "duration": 5,
    "start_time": "2022-10-25T10:44:46.754Z"
   },
   {
    "duration": 3,
    "start_time": "2022-10-25T10:44:46.764Z"
   },
   {
    "duration": 5,
    "start_time": "2022-10-25T10:44:46.769Z"
   },
   {
    "duration": 8,
    "start_time": "2022-10-25T10:44:46.775Z"
   },
   {
    "duration": 100,
    "start_time": "2022-10-25T10:44:46.785Z"
   },
   {
    "duration": 193,
    "start_time": "2022-10-25T10:44:46.887Z"
   },
   {
    "duration": 84,
    "start_time": "2022-10-25T10:44:47.082Z"
   },
   {
    "duration": 6,
    "start_time": "2022-10-25T10:44:47.168Z"
   },
   {
    "duration": 47,
    "start_time": "2022-10-25T10:44:47.176Z"
   },
   {
    "duration": 78,
    "start_time": "2022-10-25T10:44:47.224Z"
   },
   {
    "duration": 5,
    "start_time": "2022-10-25T10:44:47.304Z"
   },
   {
    "duration": 196,
    "start_time": "2022-10-25T10:44:47.311Z"
   },
   {
    "duration": 43,
    "start_time": "2022-10-25T10:44:47.508Z"
   },
   {
    "duration": 81,
    "start_time": "2022-10-25T10:44:47.553Z"
   },
   {
    "duration": 30,
    "start_time": "2022-10-25T10:44:47.636Z"
   },
   {
    "duration": 3,
    "start_time": "2022-10-25T10:44:47.668Z"
   },
   {
    "duration": 6,
    "start_time": "2022-10-25T10:44:47.672Z"
   },
   {
    "duration": 4,
    "start_time": "2022-10-25T10:44:47.680Z"
   },
   {
    "duration": 14815,
    "start_time": "2022-10-25T10:44:47.686Z"
   },
   {
    "duration": 5,
    "start_time": "2022-10-25T10:45:02.503Z"
   },
   {
    "duration": 147,
    "start_time": "2022-10-25T10:45:02.510Z"
   },
   {
    "duration": 8,
    "start_time": "2022-10-25T10:45:02.659Z"
   },
   {
    "duration": 71,
    "start_time": "2022-10-25T10:45:02.669Z"
   },
   {
    "duration": 6,
    "start_time": "2022-10-25T10:45:02.742Z"
   },
   {
    "duration": 10,
    "start_time": "2022-10-25T10:45:02.749Z"
   },
   {
    "duration": 6,
    "start_time": "2022-10-25T10:45:02.761Z"
   },
   {
    "duration": 9,
    "start_time": "2022-10-25T10:45:02.770Z"
   },
   {
    "duration": 141092,
    "start_time": "2022-10-25T10:45:02.781Z"
   },
   {
    "duration": 11,
    "start_time": "2022-10-25T10:47:23.875Z"
   },
   {
    "duration": 0,
    "start_time": "2022-10-25T10:47:23.887Z"
   },
   {
    "duration": 0,
    "start_time": "2022-10-25T10:47:23.889Z"
   },
   {
    "duration": 0,
    "start_time": "2022-10-25T10:47:23.890Z"
   },
   {
    "duration": 0,
    "start_time": "2022-10-25T10:47:23.892Z"
   },
   {
    "duration": 0,
    "start_time": "2022-10-25T10:47:23.893Z"
   },
   {
    "duration": 0,
    "start_time": "2022-10-25T10:47:23.894Z"
   },
   {
    "duration": 0,
    "start_time": "2022-10-25T10:47:23.895Z"
   },
   {
    "duration": 0,
    "start_time": "2022-10-25T10:47:23.896Z"
   },
   {
    "duration": 0,
    "start_time": "2022-10-25T10:47:23.898Z"
   },
   {
    "duration": 0,
    "start_time": "2022-10-25T10:47:23.901Z"
   },
   {
    "duration": 3,
    "start_time": "2022-10-25T10:47:25.791Z"
   },
   {
    "duration": 95,
    "start_time": "2022-10-25T10:47:27.680Z"
   },
   {
    "duration": 3,
    "start_time": "2022-10-25T10:48:40.481Z"
   },
   {
    "duration": 5,
    "start_time": "2022-10-25T10:48:41.261Z"
   },
   {
    "duration": 3,
    "start_time": "2022-10-25T10:48:42.248Z"
   },
   {
    "duration": 3,
    "start_time": "2022-10-25T10:48:42.973Z"
   },
   {
    "duration": 2670,
    "start_time": "2022-10-25T10:48:45.305Z"
   },
   {
    "duration": 12,
    "start_time": "2022-10-25T10:49:43.807Z"
   },
   {
    "duration": 3,
    "start_time": "2022-10-25T10:50:54.382Z"
   },
   {
    "duration": 94661,
    "start_time": "2022-10-25T10:50:55.180Z"
   },
   {
    "duration": 137,
    "start_time": "2022-10-25T10:52:52.294Z"
   },
   {
    "duration": 5,
    "start_time": "2022-10-25T10:52:55.647Z"
   },
   {
    "duration": 6,
    "start_time": "2022-10-25T10:52:58.971Z"
   },
   {
    "duration": 6,
    "start_time": "2022-10-25T10:53:04.417Z"
   },
   {
    "duration": 50,
    "start_time": "2022-10-25T10:53:05.171Z"
   },
   {
    "duration": 6,
    "start_time": "2022-10-25T10:53:06.845Z"
   },
   {
    "duration": 93853,
    "start_time": "2022-10-25T10:53:33.703Z"
   },
   {
    "duration": 4,
    "start_time": "2022-10-25T10:55:30.379Z"
   },
   {
    "duration": 8,
    "start_time": "2022-10-25T10:55:30.982Z"
   },
   {
    "duration": 4,
    "start_time": "2022-10-25T10:55:32.810Z"
   },
   {
    "duration": 4,
    "start_time": "2022-10-25T10:55:33.518Z"
   },
   {
    "duration": 197912,
    "start_time": "2022-10-25T10:55:44.737Z"
   },
   {
    "duration": 2,
    "start_time": "2022-10-25T11:00:42.966Z"
   },
   {
    "duration": 3,
    "start_time": "2022-10-25T11:00:44.791Z"
   },
   {
    "duration": 3,
    "start_time": "2022-10-25T11:00:45.390Z"
   },
   {
    "duration": 15191,
    "start_time": "2022-10-25T11:00:47.358Z"
   },
   {
    "duration": 3,
    "start_time": "2022-10-25T11:01:02.551Z"
   },
   {
    "duration": 4,
    "start_time": "2022-10-25T11:01:04.317Z"
   },
   {
    "duration": 6,
    "start_time": "2022-10-25T11:01:05.061Z"
   },
   {
    "duration": 3,
    "start_time": "2022-10-25T11:01:05.745Z"
   },
   {
    "duration": 4,
    "start_time": "2022-10-25T11:01:06.343Z"
   },
   {
    "duration": 316997,
    "start_time": "2022-10-25T11:01:08.575Z"
   },
   {
    "duration": 336479,
    "start_time": "2022-10-25T11:06:27.889Z"
   },
   {
    "duration": 3,
    "start_time": "2022-10-25T11:12:08.205Z"
   },
   {
    "duration": 7,
    "start_time": "2022-10-25T11:12:08.927Z"
   },
   {
    "duration": 3,
    "start_time": "2022-10-25T11:12:09.716Z"
   },
   {
    "duration": 4,
    "start_time": "2022-10-25T11:12:10.288Z"
   },
   {
    "duration": 2158172,
    "start_time": "2022-10-25T11:12:11.166Z"
   },
   {
    "duration": 2059,
    "start_time": "2022-10-25T11:48:14.376Z"
   },
   {
    "duration": 6,
    "start_time": "2022-10-25T11:48:18.544Z"
   },
   {
    "duration": 5,
    "start_time": "2022-10-25T11:48:20.876Z"
   },
   {
    "duration": 724,
    "start_time": "2022-10-25T11:48:23.007Z"
   },
   {
    "duration": 5,
    "start_time": "2022-10-25T11:48:24.645Z"
   },
   {
    "duration": 149,
    "start_time": "2022-10-25T11:48:37.053Z"
   },
   {
    "duration": 25,
    "start_time": "2022-10-25T11:48:37.756Z"
   },
   {
    "duration": 73,
    "start_time": "2022-10-25T11:48:38.128Z"
   },
   {
    "duration": 29,
    "start_time": "2022-10-25T11:48:38.544Z"
   },
   {
    "duration": 2,
    "start_time": "2022-10-25T11:48:39.056Z"
   },
   {
    "duration": 3,
    "start_time": "2022-10-25T11:48:39.524Z"
   },
   {
    "duration": 3,
    "start_time": "2022-10-25T11:48:39.924Z"
   },
   {
    "duration": 12827,
    "start_time": "2022-10-25T11:48:40.303Z"
   },
   {
    "duration": 4,
    "start_time": "2022-10-25T11:48:53.132Z"
   },
   {
    "duration": 114,
    "start_time": "2022-10-25T11:48:53.137Z"
   },
   {
    "duration": 6,
    "start_time": "2022-10-25T11:48:53.252Z"
   },
   {
    "duration": 54,
    "start_time": "2022-10-25T11:48:53.260Z"
   },
   {
    "duration": 4,
    "start_time": "2022-10-25T11:48:53.316Z"
   },
   {
    "duration": 25,
    "start_time": "2022-10-25T11:48:53.324Z"
   },
   {
    "duration": 28,
    "start_time": "2022-10-25T11:48:53.351Z"
   },
   {
    "duration": 14,
    "start_time": "2022-10-25T11:48:53.381Z"
   },
   {
    "duration": 537080,
    "start_time": "2022-10-25T11:48:53.398Z"
   },
   {
    "duration": 4,
    "start_time": "2022-10-25T11:57:50.480Z"
   },
   {
    "duration": 10929,
    "start_time": "2022-10-25T11:57:50.486Z"
   },
   {
    "duration": 12,
    "start_time": "2022-10-25T11:58:01.417Z"
   },
   {
    "duration": 3854,
    "start_time": "2022-10-25T11:58:01.431Z"
   },
   {
    "duration": 5,
    "start_time": "2022-10-25T11:58:05.287Z"
   },
   {
    "duration": 151,
    "start_time": "2022-10-25T11:58:05.294Z"
   },
   {
    "duration": 6,
    "start_time": "2022-10-25T11:58:05.447Z"
   },
   {
    "duration": 43,
    "start_time": "2022-10-25T11:58:05.454Z"
   },
   {
    "duration": 6,
    "start_time": "2022-10-25T11:58:05.499Z"
   },
   {
    "duration": 3,
    "start_time": "2022-10-25T12:02:22.715Z"
   },
   {
    "duration": 11,
    "start_time": "2022-10-25T12:09:50.566Z"
   },
   {
    "duration": 3,
    "start_time": "2022-10-25T12:10:18.551Z"
   },
   {
    "duration": 5,
    "start_time": "2022-10-25T12:10:25.417Z"
   },
   {
    "duration": 4,
    "start_time": "2022-10-25T12:10:28.790Z"
   },
   {
    "duration": 5,
    "start_time": "2022-10-25T12:10:36.935Z"
   },
   {
    "duration": 3,
    "start_time": "2022-10-25T12:19:35.765Z"
   },
   {
    "duration": 4,
    "start_time": "2022-10-25T12:19:52.818Z"
   },
   {
    "duration": 1500,
    "start_time": "2022-10-25T12:27:20.765Z"
   },
   {
    "duration": 1689,
    "start_time": "2022-10-25T12:27:22.267Z"
   },
   {
    "duration": 67,
    "start_time": "2022-10-25T12:27:23.958Z"
   },
   {
    "duration": 247,
    "start_time": "2022-10-25T12:27:24.027Z"
   },
   {
    "duration": 8,
    "start_time": "2022-10-25T12:27:24.323Z"
   },
   {
    "duration": 3,
    "start_time": "2022-10-25T12:27:24.333Z"
   },
   {
    "duration": 34,
    "start_time": "2022-10-25T12:27:24.337Z"
   },
   {
    "duration": 287,
    "start_time": "2022-10-25T12:27:24.373Z"
   },
   {
    "duration": 341,
    "start_time": "2022-10-25T12:27:24.662Z"
   },
   {
    "duration": 71,
    "start_time": "2022-10-25T12:27:25.005Z"
   },
   {
    "duration": 1781,
    "start_time": "2022-10-25T12:27:25.077Z"
   },
   {
    "duration": 8,
    "start_time": "2022-10-25T12:27:26.860Z"
   },
   {
    "duration": 10,
    "start_time": "2022-10-25T12:27:26.869Z"
   },
   {
    "duration": 9,
    "start_time": "2022-10-25T12:27:26.882Z"
   },
   {
    "duration": 34,
    "start_time": "2022-10-25T12:27:26.893Z"
   },
   {
    "duration": 127,
    "start_time": "2022-10-25T12:27:26.929Z"
   },
   {
    "duration": 21,
    "start_time": "2022-10-25T12:27:27.058Z"
   },
   {
    "duration": 16,
    "start_time": "2022-10-25T12:27:27.080Z"
   },
   {
    "duration": 95,
    "start_time": "2022-10-25T12:27:27.097Z"
   },
   {
    "duration": 121,
    "start_time": "2022-10-25T12:27:27.194Z"
   },
   {
    "duration": 72,
    "start_time": "2022-10-25T12:27:27.317Z"
   },
   {
    "duration": 45,
    "start_time": "2022-10-25T12:27:27.390Z"
   },
   {
    "duration": 21,
    "start_time": "2022-10-25T12:27:27.437Z"
   },
   {
    "duration": 12,
    "start_time": "2022-10-25T12:27:27.460Z"
   },
   {
    "duration": 99,
    "start_time": "2022-10-25T12:27:27.474Z"
   },
   {
    "duration": 27,
    "start_time": "2022-10-25T12:27:27.574Z"
   },
   {
    "duration": 2,
    "start_time": "2022-10-25T12:27:27.603Z"
   },
   {
    "duration": 18,
    "start_time": "2022-10-25T12:27:27.607Z"
   },
   {
    "duration": 16,
    "start_time": "2022-10-25T12:27:27.627Z"
   },
   {
    "duration": 80,
    "start_time": "2022-10-25T12:27:27.645Z"
   },
   {
    "duration": 30,
    "start_time": "2022-10-25T12:27:27.727Z"
   },
   {
    "duration": 4,
    "start_time": "2022-10-25T12:27:27.759Z"
   },
   {
    "duration": 7,
    "start_time": "2022-10-25T12:27:27.764Z"
   },
   {
    "duration": 5,
    "start_time": "2022-10-25T12:27:27.773Z"
   },
   {
    "duration": 4,
    "start_time": "2022-10-25T12:27:27.780Z"
   },
   {
    "duration": 325670,
    "start_time": "2022-10-25T12:27:27.786Z"
   },
   {
    "duration": 5,
    "start_time": "2022-10-25T12:32:53.458Z"
   },
   {
    "duration": 324,
    "start_time": "2022-10-25T12:32:53.465Z"
   },
   {
    "duration": 115,
    "start_time": "2022-10-25T12:32:53.791Z"
   },
   {
    "duration": 19,
    "start_time": "2022-10-25T12:32:53.908Z"
   },
   {
    "duration": 7,
    "start_time": "2022-10-25T12:32:53.932Z"
   },
   {
    "duration": 7,
    "start_time": "2022-10-25T12:32:53.941Z"
   },
   {
    "duration": 84,
    "start_time": "2022-10-25T12:32:53.950Z"
   },
   {
    "duration": 3,
    "start_time": "2022-10-25T12:32:54.036Z"
   },
   {
    "duration": 6,
    "start_time": "2022-10-25T12:32:54.041Z"
   },
   {
    "duration": 320187,
    "start_time": "2022-10-25T12:32:54.048Z"
   },
   {
    "duration": 2287,
    "start_time": "2022-10-25T12:38:14.237Z"
   },
   {
    "duration": 6,
    "start_time": "2022-10-25T12:38:16.526Z"
   },
   {
    "duration": 10,
    "start_time": "2022-10-25T12:38:16.533Z"
   },
   {
    "duration": 31,
    "start_time": "2022-10-25T12:38:16.545Z"
   },
   {
    "duration": 763,
    "start_time": "2022-10-25T12:38:16.577Z"
   },
   {
    "duration": 72,
    "start_time": "2022-10-25T12:38:17.342Z"
   },
   {
    "duration": 0,
    "start_time": "2022-10-25T12:38:17.416Z"
   },
   {
    "duration": 0,
    "start_time": "2022-10-25T12:38:17.417Z"
   },
   {
    "duration": 1,
    "start_time": "2022-10-25T12:38:17.418Z"
   },
   {
    "duration": 0,
    "start_time": "2022-10-25T12:38:17.420Z"
   },
   {
    "duration": 0,
    "start_time": "2022-10-25T12:38:17.421Z"
   },
   {
    "duration": 0,
    "start_time": "2022-10-25T12:38:17.422Z"
   },
   {
    "duration": 0,
    "start_time": "2022-10-25T12:38:17.423Z"
   },
   {
    "duration": 0,
    "start_time": "2022-10-25T12:38:17.424Z"
   },
   {
    "duration": 0,
    "start_time": "2022-10-25T12:38:17.425Z"
   },
   {
    "duration": 0,
    "start_time": "2022-10-25T12:38:17.426Z"
   },
   {
    "duration": 0,
    "start_time": "2022-10-25T12:38:17.427Z"
   },
   {
    "duration": 0,
    "start_time": "2022-10-25T12:38:17.428Z"
   },
   {
    "duration": 0,
    "start_time": "2022-10-25T12:38:17.430Z"
   },
   {
    "duration": 0,
    "start_time": "2022-10-25T12:38:17.431Z"
   },
   {
    "duration": 0,
    "start_time": "2022-10-25T12:38:17.432Z"
   },
   {
    "duration": 0,
    "start_time": "2022-10-25T12:38:17.433Z"
   },
   {
    "duration": 0,
    "start_time": "2022-10-25T12:38:17.434Z"
   },
   {
    "duration": 0,
    "start_time": "2022-10-25T12:38:17.435Z"
   },
   {
    "duration": 0,
    "start_time": "2022-10-25T12:38:17.436Z"
   },
   {
    "duration": 0,
    "start_time": "2022-10-25T12:38:17.437Z"
   },
   {
    "duration": 0,
    "start_time": "2022-10-25T12:38:17.439Z"
   },
   {
    "duration": 0,
    "start_time": "2022-10-25T12:38:17.440Z"
   },
   {
    "duration": 0,
    "start_time": "2022-10-25T12:38:17.441Z"
   },
   {
    "duration": 0,
    "start_time": "2022-10-25T12:38:17.442Z"
   },
   {
    "duration": 0,
    "start_time": "2022-10-25T12:38:17.443Z"
   },
   {
    "duration": 0,
    "start_time": "2022-10-25T12:38:17.444Z"
   },
   {
    "duration": 0,
    "start_time": "2022-10-25T12:38:17.445Z"
   },
   {
    "duration": 0,
    "start_time": "2022-10-25T12:38:17.446Z"
   },
   {
    "duration": 0,
    "start_time": "2022-10-25T12:38:17.447Z"
   },
   {
    "duration": 4,
    "start_time": "2022-10-25T12:38:54.845Z"
   },
   {
    "duration": 3,
    "start_time": "2022-10-25T12:38:55.617Z"
   },
   {
    "duration": 202,
    "start_time": "2022-10-25T12:39:00.810Z"
   },
   {
    "duration": 40,
    "start_time": "2022-10-25T12:39:01.257Z"
   },
   {
    "duration": 83,
    "start_time": "2022-10-25T12:39:01.685Z"
   },
   {
    "duration": 34,
    "start_time": "2022-10-25T12:39:02.413Z"
   },
   {
    "duration": 3,
    "start_time": "2022-10-25T12:39:03.016Z"
   },
   {
    "duration": 3,
    "start_time": "2022-10-25T12:39:03.717Z"
   },
   {
    "duration": 4,
    "start_time": "2022-10-25T12:39:04.197Z"
   },
   {
    "duration": 14929,
    "start_time": "2022-10-25T12:39:04.627Z"
   },
   {
    "duration": 4,
    "start_time": "2022-10-25T12:39:19.558Z"
   },
   {
    "duration": 141,
    "start_time": "2022-10-25T12:39:19.564Z"
   },
   {
    "duration": 57,
    "start_time": "2022-10-25T12:39:19.708Z"
   },
   {
    "duration": 6,
    "start_time": "2022-10-25T12:39:19.767Z"
   },
   {
    "duration": 3,
    "start_time": "2022-10-25T12:39:19.776Z"
   },
   {
    "duration": 8,
    "start_time": "2022-10-25T12:39:19.781Z"
   },
   {
    "duration": 9,
    "start_time": "2022-10-25T12:39:19.792Z"
   },
   {
    "duration": 22,
    "start_time": "2022-10-25T12:39:19.803Z"
   },
   {
    "duration": 529610,
    "start_time": "2022-10-25T12:39:19.829Z"
   },
   {
    "duration": 3,
    "start_time": "2022-10-25T12:48:09.441Z"
   },
   {
    "duration": 10286,
    "start_time": "2022-10-25T12:48:09.446Z"
   },
   {
    "duration": 3616,
    "start_time": "2022-10-25T12:48:19.733Z"
   },
   {
    "duration": 5,
    "start_time": "2022-10-25T12:48:23.351Z"
   },
   {
    "duration": 10,
    "start_time": "2022-10-25T12:48:23.357Z"
   },
   {
    "duration": 8,
    "start_time": "2022-10-25T12:48:23.369Z"
   },
   {
    "duration": 138,
    "start_time": "2022-10-25T12:48:23.378Z"
   },
   {
    "duration": 23,
    "start_time": "2022-10-25T12:52:11.591Z"
   },
   {
    "duration": 115,
    "start_time": "2022-10-25T12:52:13.742Z"
   },
   {
    "duration": 5,
    "start_time": "2022-10-25T12:52:39.419Z"
   },
   {
    "duration": 1496,
    "start_time": "2022-10-25T12:53:08.151Z"
   },
   {
    "duration": 976,
    "start_time": "2022-10-25T12:53:09.649Z"
   },
   {
    "duration": 19,
    "start_time": "2022-10-25T12:53:10.628Z"
   },
   {
    "duration": 159,
    "start_time": "2022-10-25T12:53:10.649Z"
   },
   {
    "duration": 15,
    "start_time": "2022-10-25T12:53:10.811Z"
   },
   {
    "duration": 3,
    "start_time": "2022-10-25T12:53:10.829Z"
   },
   {
    "duration": 36,
    "start_time": "2022-10-25T12:53:10.834Z"
   },
   {
    "duration": 307,
    "start_time": "2022-10-25T12:53:10.872Z"
   },
   {
    "duration": 347,
    "start_time": "2022-10-25T12:53:11.181Z"
   },
   {
    "duration": 64,
    "start_time": "2022-10-25T12:53:11.532Z"
   },
   {
    "duration": 1850,
    "start_time": "2022-10-25T12:53:11.597Z"
   },
   {
    "duration": 9,
    "start_time": "2022-10-25T12:53:13.448Z"
   },
   {
    "duration": 15,
    "start_time": "2022-10-25T12:53:13.458Z"
   },
   {
    "duration": 9,
    "start_time": "2022-10-25T12:53:13.475Z"
   },
   {
    "duration": 7,
    "start_time": "2022-10-25T12:53:13.486Z"
   },
   {
    "duration": 145,
    "start_time": "2022-10-25T12:53:13.495Z"
   },
   {
    "duration": 20,
    "start_time": "2022-10-25T12:53:13.641Z"
   },
   {
    "duration": 15,
    "start_time": "2022-10-25T12:53:13.662Z"
   },
   {
    "duration": 91,
    "start_time": "2022-10-25T12:53:13.679Z"
   },
   {
    "duration": 117,
    "start_time": "2022-10-25T12:53:13.771Z"
   },
   {
    "duration": 80,
    "start_time": "2022-10-25T12:53:13.889Z"
   },
   {
    "duration": 31,
    "start_time": "2022-10-25T12:53:13.971Z"
   },
   {
    "duration": 43,
    "start_time": "2022-10-25T12:53:14.004Z"
   },
   {
    "duration": 25,
    "start_time": "2022-10-25T12:53:14.049Z"
   },
   {
    "duration": 84,
    "start_time": "2022-10-25T12:53:14.076Z"
   },
   {
    "duration": 31,
    "start_time": "2022-10-25T12:53:14.161Z"
   },
   {
    "duration": 3,
    "start_time": "2022-10-25T12:53:14.194Z"
   },
   {
    "duration": 31,
    "start_time": "2022-10-25T12:53:14.201Z"
   },
   {
    "duration": 33,
    "start_time": "2022-10-25T12:53:14.233Z"
   },
   {
    "duration": 71,
    "start_time": "2022-10-25T12:53:14.268Z"
   },
   {
    "duration": 29,
    "start_time": "2022-10-25T12:53:14.341Z"
   },
   {
    "duration": 5,
    "start_time": "2022-10-25T12:53:14.371Z"
   },
   {
    "duration": 16,
    "start_time": "2022-10-25T12:53:14.377Z"
   },
   {
    "duration": 14,
    "start_time": "2022-10-25T12:53:14.395Z"
   },
   {
    "duration": 15,
    "start_time": "2022-10-25T12:53:14.410Z"
   },
   {
    "duration": 324825,
    "start_time": "2022-10-25T12:53:14.427Z"
   },
   {
    "duration": 3,
    "start_time": "2022-10-25T12:58:39.254Z"
   },
   {
    "duration": 366,
    "start_time": "2022-10-25T12:58:39.259Z"
   },
   {
    "duration": 127,
    "start_time": "2022-10-25T12:58:39.626Z"
   },
   {
    "duration": 4,
    "start_time": "2022-10-25T12:58:39.756Z"
   },
   {
    "duration": 15,
    "start_time": "2022-10-25T12:58:39.762Z"
   },
   {
    "duration": 8,
    "start_time": "2022-10-25T12:58:39.779Z"
   },
   {
    "duration": 96,
    "start_time": "2022-10-25T12:58:39.789Z"
   },
   {
    "duration": 3,
    "start_time": "2022-10-25T12:58:39.887Z"
   },
   {
    "duration": 28,
    "start_time": "2022-10-25T12:58:39.891Z"
   },
   {
    "duration": 219610,
    "start_time": "2022-10-25T12:58:39.920Z"
   },
   {
    "duration": 2193,
    "start_time": "2022-10-25T13:02:19.531Z"
   },
   {
    "duration": 6,
    "start_time": "2022-10-25T13:02:21.726Z"
   },
   {
    "duration": 7,
    "start_time": "2022-10-25T13:02:21.734Z"
   },
   {
    "duration": 33,
    "start_time": "2022-10-25T13:02:21.743Z"
   },
   {
    "duration": 766,
    "start_time": "2022-10-25T13:02:21.779Z"
   },
   {
    "duration": 5,
    "start_time": "2022-10-25T13:02:22.547Z"
   },
   {
    "duration": 8,
    "start_time": "2022-10-25T13:02:22.554Z"
   },
   {
    "duration": 237,
    "start_time": "2022-10-25T13:02:22.564Z"
   },
   {
    "duration": 41,
    "start_time": "2022-10-25T13:02:22.803Z"
   },
   {
    "duration": 93,
    "start_time": "2022-10-25T13:02:22.845Z"
   },
   {
    "duration": 28,
    "start_time": "2022-10-25T13:02:22.940Z"
   },
   {
    "duration": 3,
    "start_time": "2022-10-25T13:02:22.970Z"
   },
   {
    "duration": 11,
    "start_time": "2022-10-25T13:02:22.975Z"
   },
   {
    "duration": 5,
    "start_time": "2022-10-25T13:02:22.988Z"
   },
   {
    "duration": 14027,
    "start_time": "2022-10-25T13:02:22.995Z"
   },
   {
    "duration": 4,
    "start_time": "2022-10-25T13:02:37.024Z"
   },
   {
    "duration": 135,
    "start_time": "2022-10-25T13:02:37.029Z"
   },
   {
    "duration": 59,
    "start_time": "2022-10-25T13:02:37.166Z"
   },
   {
    "duration": 5,
    "start_time": "2022-10-25T13:02:37.227Z"
   },
   {
    "duration": 3,
    "start_time": "2022-10-25T13:02:37.234Z"
   },
   {
    "duration": 4,
    "start_time": "2022-10-25T13:02:37.238Z"
   },
   {
    "duration": 3,
    "start_time": "2022-10-25T13:02:37.244Z"
   },
   {
    "duration": 4,
    "start_time": "2022-10-25T13:02:37.249Z"
   },
   {
    "duration": 541466,
    "start_time": "2022-10-25T13:02:37.255Z"
   },
   {
    "duration": 3,
    "start_time": "2022-10-25T13:11:38.724Z"
   },
   {
    "duration": 10092,
    "start_time": "2022-10-25T13:11:38.729Z"
   },
   {
    "duration": 3542,
    "start_time": "2022-10-25T13:11:48.823Z"
   },
   {
    "duration": 6,
    "start_time": "2022-10-25T13:11:52.366Z"
   },
   {
    "duration": 3,
    "start_time": "2022-10-25T13:11:52.373Z"
   },
   {
    "duration": 6,
    "start_time": "2022-10-25T13:11:52.378Z"
   },
   {
    "duration": 13,
    "start_time": "2022-10-25T13:11:52.385Z"
   },
   {
    "duration": 119,
    "start_time": "2022-10-25T13:11:52.399Z"
   },
   {
    "duration": 6,
    "start_time": "2022-10-25T13:11:52.520Z"
   },
   {
    "duration": 38,
    "start_time": "2022-10-25T13:11:52.528Z"
   },
   {
    "duration": 6,
    "start_time": "2022-10-25T13:11:52.568Z"
   },
   {
    "duration": 1552,
    "start_time": "2022-10-25T15:05:00.346Z"
   },
   {
    "duration": 1040,
    "start_time": "2022-10-25T15:05:01.900Z"
   },
   {
    "duration": 19,
    "start_time": "2022-10-25T15:05:02.941Z"
   },
   {
    "duration": 127,
    "start_time": "2022-10-25T15:05:02.963Z"
   },
   {
    "duration": 8,
    "start_time": "2022-10-25T15:05:03.092Z"
   },
   {
    "duration": 21,
    "start_time": "2022-10-25T15:05:03.101Z"
   },
   {
    "duration": 21,
    "start_time": "2022-10-25T15:05:03.124Z"
   },
   {
    "duration": 225,
    "start_time": "2022-10-25T15:05:03.146Z"
   },
   {
    "duration": 269,
    "start_time": "2022-10-25T15:05:03.373Z"
   },
   {
    "duration": 54,
    "start_time": "2022-10-25T15:05:03.644Z"
   },
   {
    "duration": 1642,
    "start_time": "2022-10-25T15:05:03.700Z"
   },
   {
    "duration": 7,
    "start_time": "2022-10-25T15:05:05.344Z"
   },
   {
    "duration": 27,
    "start_time": "2022-10-25T15:05:05.352Z"
   },
   {
    "duration": 32,
    "start_time": "2022-10-25T15:05:05.380Z"
   },
   {
    "duration": 31,
    "start_time": "2022-10-25T15:05:05.414Z"
   },
   {
    "duration": 143,
    "start_time": "2022-10-25T15:05:05.447Z"
   },
   {
    "duration": 17,
    "start_time": "2022-10-25T15:05:05.592Z"
   },
   {
    "duration": 25,
    "start_time": "2022-10-25T15:05:05.611Z"
   },
   {
    "duration": 88,
    "start_time": "2022-10-25T15:05:05.637Z"
   },
   {
    "duration": 110,
    "start_time": "2022-10-25T15:05:05.727Z"
   },
   {
    "duration": 58,
    "start_time": "2022-10-25T15:05:05.838Z"
   },
   {
    "duration": 33,
    "start_time": "2022-10-25T15:05:05.898Z"
   },
   {
    "duration": 38,
    "start_time": "2022-10-25T15:05:05.933Z"
   },
   {
    "duration": 30,
    "start_time": "2022-10-25T15:05:05.973Z"
   },
   {
    "duration": 94,
    "start_time": "2022-10-25T15:05:06.004Z"
   },
   {
    "duration": 49,
    "start_time": "2022-10-25T15:05:06.100Z"
   },
   {
    "duration": 3,
    "start_time": "2022-10-25T15:05:06.151Z"
   },
   {
    "duration": 34,
    "start_time": "2022-10-25T15:05:06.158Z"
   },
   {
    "duration": 37,
    "start_time": "2022-10-25T15:05:06.194Z"
   },
   {
    "duration": 99,
    "start_time": "2022-10-25T15:05:06.233Z"
   },
   {
    "duration": 25,
    "start_time": "2022-10-25T15:05:06.334Z"
   },
   {
    "duration": 13,
    "start_time": "2022-10-25T15:05:06.361Z"
   },
   {
    "duration": 27,
    "start_time": "2022-10-25T15:05:06.375Z"
   },
   {
    "duration": 26,
    "start_time": "2022-10-25T15:05:06.404Z"
   },
   {
    "duration": 30,
    "start_time": "2022-10-25T15:05:06.431Z"
   },
   {
    "duration": 276033,
    "start_time": "2022-10-25T15:05:06.462Z"
   },
   {
    "duration": 3,
    "start_time": "2022-10-25T15:09:42.497Z"
   },
   {
    "duration": 289,
    "start_time": "2022-10-25T15:09:42.501Z"
   },
   {
    "duration": 102,
    "start_time": "2022-10-25T15:09:42.792Z"
   },
   {
    "duration": 5,
    "start_time": "2022-10-25T15:09:42.895Z"
   },
   {
    "duration": 6,
    "start_time": "2022-10-25T15:09:42.902Z"
   },
   {
    "duration": 3,
    "start_time": "2022-10-25T15:09:42.921Z"
   },
   {
    "duration": 66,
    "start_time": "2022-10-25T15:09:42.925Z"
   },
   {
    "duration": 3,
    "start_time": "2022-10-25T15:09:42.992Z"
   },
   {
    "duration": 8,
    "start_time": "2022-10-25T15:09:42.996Z"
   },
   {
    "duration": 111124,
    "start_time": "2022-10-25T15:09:43.005Z"
   },
   {
    "duration": 2014,
    "start_time": "2022-10-25T15:11:34.131Z"
   },
   {
    "duration": 6,
    "start_time": "2022-10-25T15:11:36.146Z"
   },
   {
    "duration": 5,
    "start_time": "2022-10-25T15:11:36.153Z"
   },
   {
    "duration": 77,
    "start_time": "2022-10-25T15:11:36.159Z"
   },
   {
    "duration": 606,
    "start_time": "2022-10-25T15:11:36.238Z"
   },
   {
    "duration": 3,
    "start_time": "2022-10-25T15:11:36.923Z"
   },
   {
    "duration": 9,
    "start_time": "2022-10-25T15:11:36.928Z"
   },
   {
    "duration": 160,
    "start_time": "2022-10-25T15:11:36.938Z"
   },
   {
    "duration": 39,
    "start_time": "2022-10-25T15:11:37.100Z"
   },
   {
    "duration": 71,
    "start_time": "2022-10-25T15:11:37.140Z"
   },
   {
    "duration": 39,
    "start_time": "2022-10-25T15:11:37.212Z"
   },
   {
    "duration": 3,
    "start_time": "2022-10-25T15:11:37.252Z"
   },
   {
    "duration": 7,
    "start_time": "2022-10-25T15:11:37.256Z"
   },
   {
    "duration": 12,
    "start_time": "2022-10-25T15:11:37.265Z"
   },
   {
    "duration": 12157,
    "start_time": "2022-10-25T15:11:37.278Z"
   },
   {
    "duration": 3,
    "start_time": "2022-10-25T15:11:49.437Z"
   },
   {
    "duration": 125,
    "start_time": "2022-10-25T15:11:49.442Z"
   },
   {
    "duration": 41,
    "start_time": "2022-10-25T15:11:49.568Z"
   },
   {
    "duration": 5,
    "start_time": "2022-10-25T15:11:49.621Z"
   },
   {
    "duration": 5,
    "start_time": "2022-10-25T15:11:49.628Z"
   },
   {
    "duration": 7,
    "start_time": "2022-10-25T15:11:49.634Z"
   },
   {
    "duration": 5,
    "start_time": "2022-10-25T15:11:49.643Z"
   },
   {
    "duration": 5,
    "start_time": "2022-10-25T15:11:49.649Z"
   },
   {
    "duration": 432674,
    "start_time": "2022-10-25T15:11:49.655Z"
   },
   {
    "duration": 3,
    "start_time": "2022-10-25T15:19:02.331Z"
   },
   {
    "duration": 9175,
    "start_time": "2022-10-25T15:19:02.336Z"
   },
   {
    "duration": 3023,
    "start_time": "2022-10-25T15:19:11.513Z"
   },
   {
    "duration": 4,
    "start_time": "2022-10-25T15:19:14.538Z"
   },
   {
    "duration": 11,
    "start_time": "2022-10-25T15:19:14.544Z"
   },
   {
    "duration": 18,
    "start_time": "2022-10-25T15:19:14.556Z"
   },
   {
    "duration": 20,
    "start_time": "2022-10-25T15:19:14.575Z"
   },
   {
    "duration": 114,
    "start_time": "2022-10-25T15:19:14.597Z"
   },
   {
    "duration": 11,
    "start_time": "2022-10-25T15:19:14.712Z"
   },
   {
    "duration": 36,
    "start_time": "2022-10-25T15:19:14.724Z"
   },
   {
    "duration": 5,
    "start_time": "2022-10-25T15:19:14.761Z"
   },
   {
    "duration": 1374,
    "start_time": "2022-10-25T15:41:41.397Z"
   },
   {
    "duration": 753,
    "start_time": "2022-10-25T15:41:42.773Z"
   },
   {
    "duration": 17,
    "start_time": "2022-10-25T15:41:43.528Z"
   },
   {
    "duration": 137,
    "start_time": "2022-10-25T15:41:43.546Z"
   },
   {
    "duration": 8,
    "start_time": "2022-10-25T15:41:43.684Z"
   },
   {
    "duration": 3,
    "start_time": "2022-10-25T15:41:43.694Z"
   },
   {
    "duration": 43,
    "start_time": "2022-10-25T15:41:43.699Z"
   },
   {
    "duration": 229,
    "start_time": "2022-10-25T15:41:43.743Z"
   },
   {
    "duration": 284,
    "start_time": "2022-10-25T15:41:43.974Z"
   },
   {
    "duration": 65,
    "start_time": "2022-10-25T15:41:44.260Z"
   },
   {
    "duration": 1633,
    "start_time": "2022-10-25T15:41:44.327Z"
   },
   {
    "duration": 8,
    "start_time": "2022-10-25T15:41:45.962Z"
   },
   {
    "duration": 8,
    "start_time": "2022-10-25T15:41:45.972Z"
   },
   {
    "duration": 11,
    "start_time": "2022-10-25T15:41:45.981Z"
   },
   {
    "duration": 6,
    "start_time": "2022-10-25T15:41:45.994Z"
   },
   {
    "duration": 123,
    "start_time": "2022-10-25T15:41:46.001Z"
   },
   {
    "duration": 18,
    "start_time": "2022-10-25T15:41:46.126Z"
   },
   {
    "duration": 11,
    "start_time": "2022-10-25T15:41:46.146Z"
   },
   {
    "duration": 80,
    "start_time": "2022-10-25T15:41:46.159Z"
   },
   {
    "duration": 99,
    "start_time": "2022-10-25T15:41:46.241Z"
   },
   {
    "duration": 59,
    "start_time": "2022-10-25T15:41:46.342Z"
   },
   {
    "duration": 43,
    "start_time": "2022-10-25T15:41:46.404Z"
   },
   {
    "duration": 24,
    "start_time": "2022-10-25T15:41:46.448Z"
   },
   {
    "duration": 9,
    "start_time": "2022-10-25T15:41:46.473Z"
   },
   {
    "duration": 84,
    "start_time": "2022-10-25T15:41:46.484Z"
   },
   {
    "duration": 25,
    "start_time": "2022-10-25T15:41:46.569Z"
   },
   {
    "duration": 3,
    "start_time": "2022-10-25T15:41:46.595Z"
   },
   {
    "duration": 20,
    "start_time": "2022-10-25T15:41:46.602Z"
   },
   {
    "duration": 13,
    "start_time": "2022-10-25T15:41:46.624Z"
   },
   {
    "duration": 55,
    "start_time": "2022-10-25T15:41:46.639Z"
   },
   {
    "duration": 42,
    "start_time": "2022-10-25T15:41:46.695Z"
   },
   {
    "duration": 4,
    "start_time": "2022-10-25T15:41:46.739Z"
   },
   {
    "duration": 14,
    "start_time": "2022-10-25T15:41:46.744Z"
   },
   {
    "duration": 16,
    "start_time": "2022-10-25T15:41:46.759Z"
   },
   {
    "duration": 7,
    "start_time": "2022-10-25T15:41:46.777Z"
   },
   {
    "duration": 279012,
    "start_time": "2022-10-25T15:41:46.786Z"
   },
   {
    "duration": 3,
    "start_time": "2022-10-25T15:46:25.800Z"
   },
   {
    "duration": 286,
    "start_time": "2022-10-25T15:46:25.805Z"
   },
   {
    "duration": 103,
    "start_time": "2022-10-25T15:46:26.093Z"
   },
   {
    "duration": 5,
    "start_time": "2022-10-25T15:46:26.198Z"
   },
   {
    "duration": 17,
    "start_time": "2022-10-25T15:46:26.205Z"
   },
   {
    "duration": 6,
    "start_time": "2022-10-25T15:46:26.224Z"
   },
   {
    "duration": 67,
    "start_time": "2022-10-25T15:46:26.231Z"
   },
   {
    "duration": 3,
    "start_time": "2022-10-25T15:46:26.300Z"
   },
   {
    "duration": 17,
    "start_time": "2022-10-25T15:46:26.305Z"
   },
   {
    "duration": 119807,
    "start_time": "2022-10-25T15:46:26.324Z"
   },
   {
    "duration": 2002,
    "start_time": "2022-10-25T15:48:26.132Z"
   },
   {
    "duration": 5,
    "start_time": "2022-10-25T15:48:28.136Z"
   },
   {
    "duration": 7,
    "start_time": "2022-10-25T15:48:28.142Z"
   },
   {
    "duration": 76,
    "start_time": "2022-10-25T15:48:28.150Z"
   },
   {
    "duration": 712,
    "start_time": "2022-10-25T15:48:28.228Z"
   },
   {
    "duration": 4,
    "start_time": "2022-10-25T15:48:28.942Z"
   },
   {
    "duration": 12,
    "start_time": "2022-10-25T15:48:28.948Z"
   },
   {
    "duration": 193,
    "start_time": "2022-10-25T15:48:28.962Z"
   },
   {
    "duration": 33,
    "start_time": "2022-10-25T15:48:29.157Z"
   },
   {
    "duration": 86,
    "start_time": "2022-10-25T15:48:29.192Z"
   },
   {
    "duration": 29,
    "start_time": "2022-10-25T15:48:29.280Z"
   },
   {
    "duration": 3,
    "start_time": "2022-10-25T15:48:29.310Z"
   },
   {
    "duration": 12,
    "start_time": "2022-10-25T15:48:29.314Z"
   },
   {
    "duration": 22,
    "start_time": "2022-10-25T15:48:29.328Z"
   },
   {
    "duration": 12574,
    "start_time": "2022-10-25T15:48:29.351Z"
   },
   {
    "duration": 3,
    "start_time": "2022-10-25T15:48:41.927Z"
   },
   {
    "duration": 130,
    "start_time": "2022-10-25T15:48:41.931Z"
   },
   {
    "duration": 42,
    "start_time": "2022-10-25T15:48:42.062Z"
   },
   {
    "duration": 16,
    "start_time": "2022-10-25T15:48:42.106Z"
   },
   {
    "duration": 3,
    "start_time": "2022-10-25T15:48:42.123Z"
   },
   {
    "duration": 5,
    "start_time": "2022-10-25T15:48:42.127Z"
   },
   {
    "duration": 5,
    "start_time": "2022-10-25T15:48:42.133Z"
   },
   {
    "duration": 6,
    "start_time": "2022-10-25T15:48:42.139Z"
   },
   {
    "duration": 462246,
    "start_time": "2022-10-25T15:48:42.146Z"
   },
   {
    "duration": 4,
    "start_time": "2022-10-25T15:56:24.394Z"
   },
   {
    "duration": 9481,
    "start_time": "2022-10-25T15:56:24.399Z"
   },
   {
    "duration": 3046,
    "start_time": "2022-10-25T15:56:33.882Z"
   },
   {
    "duration": 5,
    "start_time": "2022-10-25T15:56:36.930Z"
   },
   {
    "duration": 9,
    "start_time": "2022-10-25T15:56:36.937Z"
   },
   {
    "duration": 6,
    "start_time": "2022-10-25T15:56:36.947Z"
   },
   {
    "duration": 15,
    "start_time": "2022-10-25T15:56:36.954Z"
   },
   {
    "duration": 115,
    "start_time": "2022-10-25T15:56:36.970Z"
   },
   {
    "duration": 10,
    "start_time": "2022-10-25T15:56:37.086Z"
   },
   {
    "duration": 43,
    "start_time": "2022-10-25T15:56:37.097Z"
   },
   {
    "duration": 4,
    "start_time": "2022-10-25T15:56:37.142Z"
   },
   {
    "duration": 3,
    "start_time": "2022-10-25T16:04:07.204Z"
   },
   {
    "duration": 1472,
    "start_time": "2022-10-25T16:09:27.516Z"
   },
   {
    "duration": 793,
    "start_time": "2022-10-25T16:09:28.990Z"
   },
   {
    "duration": 17,
    "start_time": "2022-10-25T16:09:29.784Z"
   },
   {
    "duration": 141,
    "start_time": "2022-10-25T16:09:29.803Z"
   },
   {
    "duration": 7,
    "start_time": "2022-10-25T16:09:29.946Z"
   },
   {
    "duration": 5,
    "start_time": "2022-10-25T16:09:29.955Z"
   },
   {
    "duration": 37,
    "start_time": "2022-10-25T16:09:29.962Z"
   },
   {
    "duration": 253,
    "start_time": "2022-10-25T16:09:30.001Z"
   },
   {
    "duration": 302,
    "start_time": "2022-10-25T16:09:30.255Z"
   },
   {
    "duration": 66,
    "start_time": "2022-10-25T16:09:30.559Z"
   },
   {
    "duration": 1745,
    "start_time": "2022-10-25T16:09:30.627Z"
   },
   {
    "duration": 8,
    "start_time": "2022-10-25T16:09:32.374Z"
   },
   {
    "duration": 14,
    "start_time": "2022-10-25T16:09:32.383Z"
   },
   {
    "duration": 24,
    "start_time": "2022-10-25T16:09:32.399Z"
   },
   {
    "duration": 7,
    "start_time": "2022-10-25T16:09:32.424Z"
   },
   {
    "duration": 118,
    "start_time": "2022-10-25T16:09:32.433Z"
   },
   {
    "duration": 19,
    "start_time": "2022-10-25T16:09:32.553Z"
   },
   {
    "duration": 13,
    "start_time": "2022-10-25T16:09:32.573Z"
   },
   {
    "duration": 79,
    "start_time": "2022-10-25T16:09:32.588Z"
   },
   {
    "duration": 109,
    "start_time": "2022-10-25T16:09:32.668Z"
   },
   {
    "duration": 71,
    "start_time": "2022-10-25T16:09:32.778Z"
   },
   {
    "duration": 29,
    "start_time": "2022-10-25T16:09:32.850Z"
   },
   {
    "duration": 37,
    "start_time": "2022-10-25T16:09:32.881Z"
   },
   {
    "duration": 25,
    "start_time": "2022-10-25T16:09:32.920Z"
   },
   {
    "duration": 76,
    "start_time": "2022-10-25T16:09:32.946Z"
   },
   {
    "duration": 24,
    "start_time": "2022-10-25T16:09:33.024Z"
   },
   {
    "duration": 3,
    "start_time": "2022-10-25T16:09:33.049Z"
   },
   {
    "duration": 24,
    "start_time": "2022-10-25T16:09:33.056Z"
   },
   {
    "duration": 42,
    "start_time": "2022-10-25T16:09:33.082Z"
   },
   {
    "duration": 61,
    "start_time": "2022-10-25T16:09:33.126Z"
   },
   {
    "duration": 38,
    "start_time": "2022-10-25T16:09:33.188Z"
   },
   {
    "duration": 4,
    "start_time": "2022-10-25T16:09:33.227Z"
   },
   {
    "duration": 14,
    "start_time": "2022-10-25T16:09:33.233Z"
   },
   {
    "duration": 23,
    "start_time": "2022-10-25T16:09:33.248Z"
   },
   {
    "duration": 10,
    "start_time": "2022-10-25T16:09:33.272Z"
   },
   {
    "duration": 33,
    "start_time": "2022-10-25T16:09:33.283Z"
   },
   {
    "duration": 0,
    "start_time": "2022-10-25T16:09:33.317Z"
   },
   {
    "duration": 0,
    "start_time": "2022-10-25T16:09:33.318Z"
   },
   {
    "duration": 0,
    "start_time": "2022-10-25T16:09:33.319Z"
   },
   {
    "duration": 0,
    "start_time": "2022-10-25T16:09:33.320Z"
   },
   {
    "duration": 0,
    "start_time": "2022-10-25T16:09:33.321Z"
   },
   {
    "duration": 0,
    "start_time": "2022-10-25T16:09:33.322Z"
   },
   {
    "duration": 0,
    "start_time": "2022-10-25T16:09:33.322Z"
   },
   {
    "duration": 0,
    "start_time": "2022-10-25T16:09:33.323Z"
   },
   {
    "duration": 0,
    "start_time": "2022-10-25T16:09:33.325Z"
   },
   {
    "duration": 0,
    "start_time": "2022-10-25T16:09:33.326Z"
   },
   {
    "duration": 0,
    "start_time": "2022-10-25T16:09:33.327Z"
   },
   {
    "duration": 0,
    "start_time": "2022-10-25T16:09:33.329Z"
   },
   {
    "duration": 0,
    "start_time": "2022-10-25T16:09:33.330Z"
   },
   {
    "duration": 0,
    "start_time": "2022-10-25T16:09:33.332Z"
   },
   {
    "duration": 0,
    "start_time": "2022-10-25T16:09:33.333Z"
   },
   {
    "duration": 0,
    "start_time": "2022-10-25T16:09:33.334Z"
   },
   {
    "duration": 0,
    "start_time": "2022-10-25T16:09:33.336Z"
   },
   {
    "duration": 0,
    "start_time": "2022-10-25T16:09:33.337Z"
   },
   {
    "duration": 0,
    "start_time": "2022-10-25T16:09:33.339Z"
   },
   {
    "duration": 0,
    "start_time": "2022-10-25T16:09:33.341Z"
   },
   {
    "duration": 0,
    "start_time": "2022-10-25T16:09:33.342Z"
   },
   {
    "duration": 0,
    "start_time": "2022-10-25T16:09:33.343Z"
   },
   {
    "duration": 0,
    "start_time": "2022-10-25T16:09:33.344Z"
   },
   {
    "duration": 0,
    "start_time": "2022-10-25T16:09:33.346Z"
   },
   {
    "duration": 0,
    "start_time": "2022-10-25T16:09:33.347Z"
   },
   {
    "duration": 0,
    "start_time": "2022-10-25T16:09:33.349Z"
   },
   {
    "duration": 0,
    "start_time": "2022-10-25T16:09:33.351Z"
   },
   {
    "duration": 0,
    "start_time": "2022-10-25T16:09:33.353Z"
   },
   {
    "duration": 0,
    "start_time": "2022-10-25T16:09:33.354Z"
   },
   {
    "duration": 0,
    "start_time": "2022-10-25T16:09:33.356Z"
   },
   {
    "duration": 0,
    "start_time": "2022-10-25T16:09:33.357Z"
   },
   {
    "duration": 0,
    "start_time": "2022-10-25T16:09:33.358Z"
   },
   {
    "duration": 0,
    "start_time": "2022-10-25T16:09:33.360Z"
   },
   {
    "duration": 0,
    "start_time": "2022-10-25T16:09:33.422Z"
   },
   {
    "duration": 0,
    "start_time": "2022-10-25T16:09:33.424Z"
   },
   {
    "duration": 0,
    "start_time": "2022-10-25T16:09:33.425Z"
   },
   {
    "duration": 0,
    "start_time": "2022-10-25T16:09:33.427Z"
   },
   {
    "duration": 0,
    "start_time": "2022-10-25T16:09:33.428Z"
   },
   {
    "duration": 0,
    "start_time": "2022-10-25T16:09:33.430Z"
   },
   {
    "duration": 0,
    "start_time": "2022-10-25T16:09:33.432Z"
   },
   {
    "duration": 0,
    "start_time": "2022-10-25T16:09:33.433Z"
   },
   {
    "duration": 0,
    "start_time": "2022-10-25T16:09:33.434Z"
   },
   {
    "duration": 0,
    "start_time": "2022-10-25T16:09:33.436Z"
   },
   {
    "duration": 0,
    "start_time": "2022-10-25T16:09:33.437Z"
   },
   {
    "duration": 0,
    "start_time": "2022-10-25T16:09:33.439Z"
   },
   {
    "duration": 4,
    "start_time": "2022-10-25T16:10:34.715Z"
   },
   {
    "duration": 3,
    "start_time": "2022-10-25T16:10:55.205Z"
   },
   {
    "duration": 283348,
    "start_time": "2022-10-25T16:11:01.097Z"
   },
   {
    "duration": 4,
    "start_time": "2022-10-25T16:21:02.389Z"
   },
   {
    "duration": 304,
    "start_time": "2022-10-25T16:21:02.878Z"
   },
   {
    "duration": 99,
    "start_time": "2022-10-25T16:21:03.435Z"
   },
   {
    "duration": 5,
    "start_time": "2022-10-25T16:21:04.240Z"
   },
   {
    "duration": 2,
    "start_time": "2022-10-25T16:21:05.242Z"
   },
   {
    "duration": 2,
    "start_time": "2022-10-25T16:21:06.341Z"
   },
   {
    "duration": 65,
    "start_time": "2022-10-25T16:21:06.710Z"
   },
   {
    "duration": 3,
    "start_time": "2022-10-25T16:21:07.115Z"
   },
   {
    "duration": 3,
    "start_time": "2022-10-25T16:21:07.617Z"
   },
   {
    "duration": 110174,
    "start_time": "2022-10-25T16:21:08.253Z"
   },
   {
    "duration": 3,
    "start_time": "2022-10-25T16:22:58.429Z"
   },
   {
    "duration": 1988,
    "start_time": "2022-10-25T16:22:58.434Z"
   },
   {
    "duration": 5,
    "start_time": "2022-10-25T16:23:00.425Z"
   },
   {
    "duration": 42,
    "start_time": "2022-10-25T16:23:00.432Z"
   },
   {
    "duration": 664,
    "start_time": "2022-10-25T16:23:00.476Z"
   },
   {
    "duration": 4,
    "start_time": "2022-10-25T16:23:01.142Z"
   },
   {
    "duration": 36,
    "start_time": "2022-10-25T16:23:01.147Z"
   },
   {
    "duration": 156,
    "start_time": "2022-10-25T16:23:01.185Z"
   },
   {
    "duration": 33,
    "start_time": "2022-10-25T16:23:01.344Z"
   },
   {
    "duration": 83,
    "start_time": "2022-10-25T16:23:01.379Z"
   },
   {
    "duration": 30,
    "start_time": "2022-10-25T16:23:01.464Z"
   },
   {
    "duration": 3,
    "start_time": "2022-10-25T16:23:01.495Z"
   },
   {
    "duration": 12,
    "start_time": "2022-10-25T16:23:01.499Z"
   },
   {
    "duration": 12,
    "start_time": "2022-10-25T16:23:01.522Z"
   },
   {
    "duration": 189,
    "start_time": "2022-10-25T16:23:01.536Z"
   },
   {
    "duration": 10,
    "start_time": "2022-10-25T16:23:01.726Z"
   },
   {
    "duration": 0,
    "start_time": "2022-10-25T16:23:01.738Z"
   },
   {
    "duration": 0,
    "start_time": "2022-10-25T16:23:01.739Z"
   },
   {
    "duration": 0,
    "start_time": "2022-10-25T16:23:01.740Z"
   },
   {
    "duration": 0,
    "start_time": "2022-10-25T16:23:01.741Z"
   },
   {
    "duration": 0,
    "start_time": "2022-10-25T16:23:01.742Z"
   },
   {
    "duration": 0,
    "start_time": "2022-10-25T16:23:01.743Z"
   },
   {
    "duration": 0,
    "start_time": "2022-10-25T16:23:01.744Z"
   },
   {
    "duration": 0,
    "start_time": "2022-10-25T16:23:01.745Z"
   },
   {
    "duration": 0,
    "start_time": "2022-10-25T16:23:01.746Z"
   },
   {
    "duration": 0,
    "start_time": "2022-10-25T16:23:01.747Z"
   },
   {
    "duration": 0,
    "start_time": "2022-10-25T16:23:01.748Z"
   },
   {
    "duration": 1,
    "start_time": "2022-10-25T16:23:01.748Z"
   },
   {
    "duration": 0,
    "start_time": "2022-10-25T16:23:01.749Z"
   },
   {
    "duration": 0,
    "start_time": "2022-10-25T16:23:01.750Z"
   },
   {
    "duration": 0,
    "start_time": "2022-10-25T16:23:01.751Z"
   },
   {
    "duration": 0,
    "start_time": "2022-10-25T16:23:01.752Z"
   },
   {
    "duration": 11941,
    "start_time": "2022-10-25T16:26:30.760Z"
   },
   {
    "duration": 4,
    "start_time": "2022-10-25T16:26:42.703Z"
   },
   {
    "duration": 120,
    "start_time": "2022-10-25T16:26:42.721Z"
   },
   {
    "duration": 42,
    "start_time": "2022-10-25T16:26:42.843Z"
   },
   {
    "duration": 5,
    "start_time": "2022-10-25T16:26:42.886Z"
   },
   {
    "duration": 7,
    "start_time": "2022-10-25T16:26:42.893Z"
   },
   {
    "duration": 15,
    "start_time": "2022-10-25T16:26:42.902Z"
   },
   {
    "duration": 9,
    "start_time": "2022-10-25T16:26:42.922Z"
   },
   {
    "duration": 10,
    "start_time": "2022-10-25T16:26:42.932Z"
   },
   {
    "duration": 437571,
    "start_time": "2022-10-25T16:26:43.524Z"
   },
   {
    "duration": 4,
    "start_time": "2022-10-25T16:34:01.097Z"
   },
   {
    "duration": 9360,
    "start_time": "2022-10-25T16:34:01.102Z"
   },
   {
    "duration": 3216,
    "start_time": "2022-10-25T16:34:10.465Z"
   },
   {
    "duration": 5,
    "start_time": "2022-10-25T16:34:13.682Z"
   },
   {
    "duration": 21,
    "start_time": "2022-10-25T16:34:13.689Z"
   },
   {
    "duration": 22,
    "start_time": "2022-10-25T16:34:13.711Z"
   },
   {
    "duration": 146,
    "start_time": "2022-10-25T16:34:13.734Z"
   },
   {
    "duration": 5,
    "start_time": "2022-10-25T16:34:13.882Z"
   },
   {
    "duration": 1342,
    "start_time": "2022-10-25T16:35:26.660Z"
   },
   {
    "duration": 814,
    "start_time": "2022-10-25T16:35:28.004Z"
   },
   {
    "duration": 18,
    "start_time": "2022-10-25T16:35:28.820Z"
   },
   {
    "duration": 189,
    "start_time": "2022-10-25T16:35:28.840Z"
   },
   {
    "duration": 10,
    "start_time": "2022-10-25T16:35:29.030Z"
   },
   {
    "duration": 12,
    "start_time": "2022-10-25T16:35:29.042Z"
   },
   {
    "duration": 48,
    "start_time": "2022-10-25T16:35:29.056Z"
   },
   {
    "duration": 276,
    "start_time": "2022-10-25T16:35:29.106Z"
   },
   {
    "duration": 346,
    "start_time": "2022-10-25T16:35:29.384Z"
   },
   {
    "duration": 57,
    "start_time": "2022-10-25T16:35:29.733Z"
   },
   {
    "duration": 1655,
    "start_time": "2022-10-25T16:35:29.792Z"
   },
   {
    "duration": 9,
    "start_time": "2022-10-25T16:35:31.449Z"
   },
   {
    "duration": 24,
    "start_time": "2022-10-25T16:35:31.460Z"
   },
   {
    "duration": 25,
    "start_time": "2022-10-25T16:35:31.486Z"
   },
   {
    "duration": 66,
    "start_time": "2022-10-25T16:35:31.513Z"
   },
   {
    "duration": 137,
    "start_time": "2022-10-25T16:35:31.581Z"
   },
   {
    "duration": 18,
    "start_time": "2022-10-25T16:35:31.720Z"
   },
   {
    "duration": 13,
    "start_time": "2022-10-25T16:35:31.739Z"
   },
   {
    "duration": 86,
    "start_time": "2022-10-25T16:35:31.754Z"
   },
   {
    "duration": 109,
    "start_time": "2022-10-25T16:35:31.842Z"
   },
   {
    "duration": 71,
    "start_time": "2022-10-25T16:35:31.953Z"
   },
   {
    "duration": 37,
    "start_time": "2022-10-25T16:35:32.025Z"
   },
   {
    "duration": 22,
    "start_time": "2022-10-25T16:35:32.063Z"
   },
   {
    "duration": 10,
    "start_time": "2022-10-25T16:35:32.087Z"
   },
   {
    "duration": 81,
    "start_time": "2022-10-25T16:35:32.121Z"
   },
   {
    "duration": 38,
    "start_time": "2022-10-25T16:35:32.203Z"
   },
   {
    "duration": 3,
    "start_time": "2022-10-25T16:35:32.243Z"
   },
   {
    "duration": 4,
    "start_time": "2022-10-25T16:35:32.250Z"
   },
   {
    "duration": 18,
    "start_time": "2022-10-25T16:35:32.256Z"
   },
   {
    "duration": 88,
    "start_time": "2022-10-25T16:35:32.275Z"
   },
   {
    "duration": 32,
    "start_time": "2022-10-25T16:35:32.365Z"
   },
   {
    "duration": 4,
    "start_time": "2022-10-25T16:35:32.399Z"
   },
   {
    "duration": 25,
    "start_time": "2022-10-25T16:35:32.405Z"
   },
   {
    "duration": 6,
    "start_time": "2022-10-25T16:35:32.432Z"
   },
   {
    "duration": 9,
    "start_time": "2022-10-25T16:35:32.440Z"
   },
   {
    "duration": 281396,
    "start_time": "2022-10-25T16:35:32.450Z"
   },
   {
    "duration": 3,
    "start_time": "2022-10-25T16:40:13.848Z"
   },
   {
    "duration": 300,
    "start_time": "2022-10-25T16:40:13.853Z"
   },
   {
    "duration": 117,
    "start_time": "2022-10-25T16:40:14.154Z"
   },
   {
    "duration": 6,
    "start_time": "2022-10-25T16:40:14.272Z"
   },
   {
    "duration": 4,
    "start_time": "2022-10-25T16:40:14.279Z"
   },
   {
    "duration": 6,
    "start_time": "2022-10-25T16:40:14.284Z"
   },
   {
    "duration": 79,
    "start_time": "2022-10-25T16:40:14.291Z"
   },
   {
    "duration": 3,
    "start_time": "2022-10-25T16:40:14.372Z"
   },
   {
    "duration": 9,
    "start_time": "2022-10-25T16:40:14.376Z"
   },
   {
    "duration": 115941,
    "start_time": "2022-10-25T16:40:14.386Z"
   },
   {
    "duration": 3,
    "start_time": "2022-10-25T16:42:10.328Z"
   },
   {
    "duration": 1990,
    "start_time": "2022-10-25T16:42:10.333Z"
   },
   {
    "duration": 4,
    "start_time": "2022-10-25T16:42:12.325Z"
   },
   {
    "duration": 31,
    "start_time": "2022-10-25T16:42:12.330Z"
   },
   {
    "duration": 669,
    "start_time": "2022-10-25T16:42:12.362Z"
   },
   {
    "duration": 4,
    "start_time": "2022-10-25T16:42:13.033Z"
   },
   {
    "duration": 8,
    "start_time": "2022-10-25T16:42:13.038Z"
   },
   {
    "duration": 200,
    "start_time": "2022-10-25T16:42:13.047Z"
   },
   {
    "duration": 31,
    "start_time": "2022-10-25T16:42:13.249Z"
   },
   {
    "duration": 79,
    "start_time": "2022-10-25T16:42:13.282Z"
   },
   {
    "duration": 24,
    "start_time": "2022-10-25T16:42:13.362Z"
   },
   {
    "duration": 3,
    "start_time": "2022-10-25T16:42:13.388Z"
   },
   {
    "duration": 7,
    "start_time": "2022-10-25T16:42:13.392Z"
   },
   {
    "duration": 6,
    "start_time": "2022-10-25T16:42:13.400Z"
   },
   {
    "duration": 12316,
    "start_time": "2022-10-25T16:42:13.407Z"
   },
   {
    "duration": 5,
    "start_time": "2022-10-25T16:42:25.725Z"
   },
   {
    "duration": 131,
    "start_time": "2022-10-25T16:42:25.735Z"
   },
   {
    "duration": 54,
    "start_time": "2022-10-25T16:42:25.869Z"
   },
   {
    "duration": 6,
    "start_time": "2022-10-25T16:42:25.925Z"
   },
   {
    "duration": 17,
    "start_time": "2022-10-25T16:42:25.933Z"
   },
   {
    "duration": 16,
    "start_time": "2022-10-25T16:42:25.951Z"
   },
   {
    "duration": 23,
    "start_time": "2022-10-25T16:42:25.968Z"
   },
   {
    "duration": 34,
    "start_time": "2022-10-25T16:42:25.993Z"
   },
   {
    "duration": 461697,
    "start_time": "2022-10-25T16:42:26.028Z"
   },
   {
    "duration": 5,
    "start_time": "2022-10-25T16:50:07.727Z"
   },
   {
    "duration": 9255,
    "start_time": "2022-10-25T16:50:07.734Z"
   },
   {
    "duration": 3166,
    "start_time": "2022-10-25T16:50:16.991Z"
   },
   {
    "duration": 5,
    "start_time": "2022-10-25T16:50:20.159Z"
   },
   {
    "duration": 8,
    "start_time": "2022-10-25T16:50:20.165Z"
   },
   {
    "duration": 20,
    "start_time": "2022-10-25T16:50:20.174Z"
   },
   {
    "duration": 127,
    "start_time": "2022-10-25T16:50:20.196Z"
   },
   {
    "duration": 5,
    "start_time": "2022-10-25T16:50:20.325Z"
   },
   {
    "duration": 1537,
    "start_time": "2022-10-25T18:50:29.271Z"
   },
   {
    "duration": 102,
    "start_time": "2022-10-25T18:52:51.583Z"
   },
   {
    "duration": 2,
    "start_time": "2022-10-25T18:53:08.252Z"
   },
   {
    "duration": 8,
    "start_time": "2022-10-25T18:53:08.659Z"
   },
   {
    "duration": 1341,
    "start_time": "2022-10-25T18:53:19.307Z"
   },
   {
    "duration": 2859,
    "start_time": "2022-10-25T18:53:20.650Z"
   },
   {
    "duration": 19,
    "start_time": "2022-10-25T18:53:23.511Z"
   },
   {
    "duration": 113,
    "start_time": "2022-10-25T18:53:23.532Z"
   },
   {
    "duration": 8,
    "start_time": "2022-10-25T18:53:23.647Z"
   },
   {
    "duration": 4,
    "start_time": "2022-10-25T18:53:23.657Z"
   },
   {
    "duration": 27,
    "start_time": "2022-10-25T18:53:23.676Z"
   },
   {
    "duration": 208,
    "start_time": "2022-10-25T18:53:23.705Z"
   },
   {
    "duration": 250,
    "start_time": "2022-10-25T18:53:23.915Z"
   },
   {
    "duration": 62,
    "start_time": "2022-10-25T18:53:24.167Z"
   },
   {
    "duration": 1669,
    "start_time": "2022-10-25T18:53:24.231Z"
   },
   {
    "duration": 9,
    "start_time": "2022-10-25T18:53:25.902Z"
   },
   {
    "duration": 9,
    "start_time": "2022-10-25T18:53:25.912Z"
   },
   {
    "duration": 9,
    "start_time": "2022-10-25T18:53:25.922Z"
   },
   {
    "duration": 8,
    "start_time": "2022-10-25T18:53:25.932Z"
   },
   {
    "duration": 127,
    "start_time": "2022-10-25T18:53:25.942Z"
   },
   {
    "duration": 21,
    "start_time": "2022-10-25T18:53:26.070Z"
   },
   {
    "duration": 12,
    "start_time": "2022-10-25T18:53:26.093Z"
   },
   {
    "duration": 73,
    "start_time": "2022-10-25T18:53:26.107Z"
   },
   {
    "duration": 96,
    "start_time": "2022-10-25T18:53:26.181Z"
   },
   {
    "duration": 47,
    "start_time": "2022-10-25T18:53:26.278Z"
   },
   {
    "duration": 23,
    "start_time": "2022-10-25T18:53:26.327Z"
   },
   {
    "duration": 32,
    "start_time": "2022-10-25T18:53:26.352Z"
   },
   {
    "duration": 9,
    "start_time": "2022-10-25T18:53:26.385Z"
   },
   {
    "duration": 59,
    "start_time": "2022-10-25T18:53:26.395Z"
   },
   {
    "duration": 36,
    "start_time": "2022-10-25T18:53:26.456Z"
   },
   {
    "duration": 3,
    "start_time": "2022-10-25T18:53:26.494Z"
   },
   {
    "duration": 3,
    "start_time": "2022-10-25T18:53:26.501Z"
   },
   {
    "duration": 16,
    "start_time": "2022-10-25T18:53:26.506Z"
   },
   {
    "duration": 70,
    "start_time": "2022-10-25T18:53:26.524Z"
   },
   {
    "duration": 24,
    "start_time": "2022-10-25T18:53:26.595Z"
   },
   {
    "duration": 4,
    "start_time": "2022-10-25T18:53:26.620Z"
   },
   {
    "duration": 7,
    "start_time": "2022-10-25T18:53:26.625Z"
   },
   {
    "duration": 9,
    "start_time": "2022-10-25T18:53:26.633Z"
   },
   {
    "duration": 9,
    "start_time": "2022-10-25T18:53:26.643Z"
   },
   {
    "duration": 268925,
    "start_time": "2022-10-25T18:53:26.653Z"
   },
   {
    "duration": 3,
    "start_time": "2022-10-25T18:57:55.580Z"
   },
   {
    "duration": 288,
    "start_time": "2022-10-25T18:57:55.585Z"
   },
   {
    "duration": 107,
    "start_time": "2022-10-25T18:57:55.877Z"
   },
   {
    "duration": 5,
    "start_time": "2022-10-25T18:57:55.986Z"
   },
   {
    "duration": 7,
    "start_time": "2022-10-25T18:57:55.992Z"
   },
   {
    "duration": 5,
    "start_time": "2022-10-25T18:57:56.000Z"
   },
   {
    "duration": 60,
    "start_time": "2022-10-25T18:57:56.006Z"
   },
   {
    "duration": 3,
    "start_time": "2022-10-25T18:57:56.077Z"
   },
   {
    "duration": 6,
    "start_time": "2022-10-25T18:57:56.081Z"
   },
   {
    "duration": 619284,
    "start_time": "2022-10-25T18:57:56.089Z"
   },
   {
    "duration": 9,
    "start_time": "2022-10-25T19:08:15.375Z"
   },
   {
    "duration": 0,
    "start_time": "2022-10-25T19:08:15.385Z"
   },
   {
    "duration": 0,
    "start_time": "2022-10-25T19:08:15.387Z"
   },
   {
    "duration": 0,
    "start_time": "2022-10-25T19:08:15.387Z"
   },
   {
    "duration": 0,
    "start_time": "2022-10-25T19:08:15.388Z"
   },
   {
    "duration": 0,
    "start_time": "2022-10-25T19:08:15.389Z"
   },
   {
    "duration": 0,
    "start_time": "2022-10-25T19:08:15.390Z"
   },
   {
    "duration": 0,
    "start_time": "2022-10-25T19:08:15.391Z"
   },
   {
    "duration": 0,
    "start_time": "2022-10-25T19:08:15.392Z"
   },
   {
    "duration": 0,
    "start_time": "2022-10-25T19:08:15.393Z"
   },
   {
    "duration": 0,
    "start_time": "2022-10-25T19:08:15.394Z"
   },
   {
    "duration": 0,
    "start_time": "2022-10-25T19:08:15.396Z"
   },
   {
    "duration": 0,
    "start_time": "2022-10-25T19:08:15.398Z"
   },
   {
    "duration": 0,
    "start_time": "2022-10-25T19:08:15.399Z"
   },
   {
    "duration": 0,
    "start_time": "2022-10-25T19:08:15.400Z"
   },
   {
    "duration": 0,
    "start_time": "2022-10-25T19:08:15.401Z"
   },
   {
    "duration": 0,
    "start_time": "2022-10-25T19:08:15.403Z"
   },
   {
    "duration": 0,
    "start_time": "2022-10-25T19:08:15.404Z"
   },
   {
    "duration": 0,
    "start_time": "2022-10-25T19:08:15.405Z"
   },
   {
    "duration": 0,
    "start_time": "2022-10-25T19:08:15.407Z"
   },
   {
    "duration": 0,
    "start_time": "2022-10-25T19:08:15.408Z"
   },
   {
    "duration": 0,
    "start_time": "2022-10-25T19:08:15.409Z"
   },
   {
    "duration": 0,
    "start_time": "2022-10-25T19:08:15.410Z"
   },
   {
    "duration": 0,
    "start_time": "2022-10-25T19:08:15.412Z"
   },
   {
    "duration": 0,
    "start_time": "2022-10-25T19:08:15.413Z"
   },
   {
    "duration": 0,
    "start_time": "2022-10-25T19:08:15.414Z"
   },
   {
    "duration": 0,
    "start_time": "2022-10-25T19:08:15.415Z"
   },
   {
    "duration": 0,
    "start_time": "2022-10-25T19:08:15.416Z"
   },
   {
    "duration": 0,
    "start_time": "2022-10-25T19:08:15.416Z"
   },
   {
    "duration": 0,
    "start_time": "2022-10-25T19:08:15.418Z"
   },
   {
    "duration": 0,
    "start_time": "2022-10-25T19:08:15.477Z"
   },
   {
    "duration": 0,
    "start_time": "2022-10-25T19:08:15.479Z"
   },
   {
    "duration": 0,
    "start_time": "2022-10-25T19:08:15.479Z"
   },
   {
    "duration": 0,
    "start_time": "2022-10-25T19:08:15.481Z"
   },
   {
    "duration": 1404,
    "start_time": "2022-10-25T19:08:20.075Z"
   },
   {
    "duration": 789,
    "start_time": "2022-10-25T19:08:21.481Z"
   },
   {
    "duration": 20,
    "start_time": "2022-10-25T19:08:22.271Z"
   },
   {
    "duration": 118,
    "start_time": "2022-10-25T19:08:22.293Z"
   },
   {
    "duration": 7,
    "start_time": "2022-10-25T19:08:22.412Z"
   },
   {
    "duration": 6,
    "start_time": "2022-10-25T19:08:22.421Z"
   },
   {
    "duration": 30,
    "start_time": "2022-10-25T19:08:22.428Z"
   },
   {
    "duration": 233,
    "start_time": "2022-10-25T19:08:22.460Z"
   },
   {
    "duration": 310,
    "start_time": "2022-10-25T19:08:22.695Z"
   },
   {
    "duration": 69,
    "start_time": "2022-10-25T19:08:23.007Z"
   },
   {
    "duration": 1688,
    "start_time": "2022-10-25T19:08:23.078Z"
   },
   {
    "duration": 14,
    "start_time": "2022-10-25T19:08:24.768Z"
   },
   {
    "duration": 10,
    "start_time": "2022-10-25T19:08:24.784Z"
   },
   {
    "duration": 8,
    "start_time": "2022-10-25T19:08:24.795Z"
   },
   {
    "duration": 7,
    "start_time": "2022-10-25T19:08:24.805Z"
   },
   {
    "duration": 139,
    "start_time": "2022-10-25T19:08:24.813Z"
   },
   {
    "duration": 24,
    "start_time": "2022-10-25T19:08:24.954Z"
   },
   {
    "duration": 13,
    "start_time": "2022-10-25T19:08:24.980Z"
   },
   {
    "duration": 65,
    "start_time": "2022-10-25T19:08:24.995Z"
   },
   {
    "duration": 101,
    "start_time": "2022-10-25T19:08:25.076Z"
   },
   {
    "duration": 52,
    "start_time": "2022-10-25T19:08:25.179Z"
   },
   {
    "duration": 24,
    "start_time": "2022-10-25T19:08:25.232Z"
   },
   {
    "duration": 35,
    "start_time": "2022-10-25T19:08:25.258Z"
   },
   {
    "duration": 11,
    "start_time": "2022-10-25T19:08:25.297Z"
   },
   {
    "duration": 77,
    "start_time": "2022-10-25T19:08:25.310Z"
   },
   {
    "duration": 25,
    "start_time": "2022-10-25T19:08:25.388Z"
   },
   {
    "duration": 2,
    "start_time": "2022-10-25T19:08:25.415Z"
   },
   {
    "duration": 4,
    "start_time": "2022-10-25T19:08:25.422Z"
   },
   {
    "duration": 18,
    "start_time": "2022-10-25T19:08:25.427Z"
   },
   {
    "duration": 79,
    "start_time": "2022-10-25T19:08:25.447Z"
   },
   {
    "duration": 28,
    "start_time": "2022-10-25T19:08:25.528Z"
   },
   {
    "duration": 20,
    "start_time": "2022-10-25T19:08:25.558Z"
   },
   {
    "duration": 4,
    "start_time": "2022-10-25T19:08:25.580Z"
   },
   {
    "duration": 6,
    "start_time": "2022-10-25T19:08:25.586Z"
   },
   {
    "duration": 5,
    "start_time": "2022-10-25T19:08:25.594Z"
   },
   {
    "duration": 277636,
    "start_time": "2022-10-25T19:08:25.600Z"
   },
   {
    "duration": 4,
    "start_time": "2022-10-25T19:13:03.238Z"
   },
   {
    "duration": 287,
    "start_time": "2022-10-25T19:13:03.243Z"
   },
   {
    "duration": 102,
    "start_time": "2022-10-25T19:13:03.531Z"
   },
   {
    "duration": 5,
    "start_time": "2022-10-25T19:13:03.635Z"
   },
   {
    "duration": 7,
    "start_time": "2022-10-25T19:13:03.641Z"
   },
   {
    "duration": 4,
    "start_time": "2022-10-25T19:13:03.650Z"
   },
   {
    "duration": 75,
    "start_time": "2022-10-25T19:13:03.656Z"
   },
   {
    "duration": 3,
    "start_time": "2022-10-25T19:13:03.732Z"
   },
   {
    "duration": 5,
    "start_time": "2022-10-25T19:13:03.736Z"
   },
   {
    "duration": 104439,
    "start_time": "2022-10-25T19:13:03.743Z"
   },
   {
    "duration": 3,
    "start_time": "2022-10-25T19:14:48.184Z"
   },
   {
    "duration": 1816,
    "start_time": "2022-10-25T19:14:48.189Z"
   },
   {
    "duration": 4,
    "start_time": "2022-10-25T19:14:50.007Z"
   },
   {
    "duration": 89,
    "start_time": "2022-10-25T19:14:50.013Z"
   },
   {
    "duration": 591,
    "start_time": "2022-10-25T19:14:50.104Z"
   },
   {
    "duration": 4,
    "start_time": "2022-10-25T19:14:50.697Z"
   },
   {
    "duration": 8,
    "start_time": "2022-10-25T19:14:50.702Z"
   },
   {
    "duration": 12,
    "start_time": "2022-10-25T19:14:50.711Z"
   },
   {
    "duration": 513,
    "start_time": "2022-10-25T19:14:50.724Z"
   },
   {
    "duration": 8,
    "start_time": "2022-10-25T19:14:51.239Z"
   },
   {
    "duration": 42,
    "start_time": "2022-10-25T19:14:51.248Z"
   },
   {
    "duration": 17,
    "start_time": "2022-10-25T19:14:51.291Z"
   },
   {
    "duration": 2,
    "start_time": "2022-10-25T19:14:51.310Z"
   },
   {
    "duration": 9,
    "start_time": "2022-10-25T19:14:51.314Z"
   },
   {
    "duration": 5,
    "start_time": "2022-10-25T19:14:51.324Z"
   },
   {
    "duration": 3252,
    "start_time": "2022-10-25T19:14:51.330Z"
   },
   {
    "duration": 4,
    "start_time": "2022-10-25T19:14:54.583Z"
   },
   {
    "duration": 41,
    "start_time": "2022-10-25T19:14:54.589Z"
   },
   {
    "duration": 13,
    "start_time": "2022-10-25T19:14:54.632Z"
   },
   {
    "duration": 5,
    "start_time": "2022-10-25T19:14:54.647Z"
   },
   {
    "duration": 24,
    "start_time": "2022-10-25T19:14:54.653Z"
   },
   {
    "duration": 9,
    "start_time": "2022-10-25T19:14:54.679Z"
   },
   {
    "duration": 14,
    "start_time": "2022-10-25T19:14:54.689Z"
   },
   {
    "duration": 8,
    "start_time": "2022-10-25T19:14:54.704Z"
   },
   {
    "duration": 719,
    "start_time": "2022-10-25T19:14:54.713Z"
   },
   {
    "duration": 3,
    "start_time": "2022-10-25T19:14:55.434Z"
   },
   {
    "duration": 82,
    "start_time": "2022-10-25T19:14:55.439Z"
   },
   {
    "duration": 80,
    "start_time": "2022-10-25T19:14:55.523Z"
   },
   {
    "duration": 5,
    "start_time": "2022-10-25T19:14:55.605Z"
   },
   {
    "duration": 4,
    "start_time": "2022-10-25T19:14:55.611Z"
   },
   {
    "duration": 15,
    "start_time": "2022-10-25T19:14:55.616Z"
   },
   {
    "duration": 120,
    "start_time": "2022-10-25T19:14:55.632Z"
   },
   {
    "duration": 5,
    "start_time": "2022-10-25T19:14:55.753Z"
   },
   {
    "duration": 4,
    "start_time": "2022-10-25T19:19:52.614Z"
   },
   {
    "duration": 86,
    "start_time": "2022-10-25T19:20:50.078Z"
   },
   {
    "duration": 19,
    "start_time": "2022-10-25T19:27:21.184Z"
   },
   {
    "duration": 11,
    "start_time": "2022-10-25T19:28:56.973Z"
   },
   {
    "duration": 447,
    "start_time": "2022-10-25T19:29:01.153Z"
   },
   {
    "duration": 18,
    "start_time": "2022-10-25T19:29:02.932Z"
   },
   {
    "duration": 8,
    "start_time": "2022-10-25T19:29:05.035Z"
   },
   {
    "duration": 3,
    "start_time": "2022-10-25T19:31:08.514Z"
   },
   {
    "duration": 467,
    "start_time": "2022-10-25T19:31:08.933Z"
   },
   {
    "duration": 20,
    "start_time": "2022-10-25T19:31:09.788Z"
   },
   {
    "duration": 8,
    "start_time": "2022-10-25T19:31:14.195Z"
   },
   {
    "duration": 35,
    "start_time": "2022-10-25T19:31:14.653Z"
   },
   {
    "duration": 17,
    "start_time": "2022-10-25T19:31:15.194Z"
   },
   {
    "duration": 3,
    "start_time": "2022-10-25T19:31:15.809Z"
   },
   {
    "duration": 22,
    "start_time": "2022-10-25T19:31:53.616Z"
   },
   {
    "duration": 2,
    "start_time": "2022-10-25T19:32:10.732Z"
   },
   {
    "duration": 3,
    "start_time": "2022-10-25T19:32:11.256Z"
   },
   {
    "duration": 3158,
    "start_time": "2022-10-25T19:32:12.116Z"
   },
   {
    "duration": 4,
    "start_time": "2022-10-25T19:32:19.609Z"
   },
   {
    "duration": 31,
    "start_time": "2022-10-25T19:32:20.464Z"
   },
   {
    "duration": 15,
    "start_time": "2022-10-25T19:32:21.313Z"
   },
   {
    "duration": 5,
    "start_time": "2022-10-25T19:32:24.083Z"
   },
   {
    "duration": 3,
    "start_time": "2022-10-25T19:32:24.518Z"
   },
   {
    "duration": 4,
    "start_time": "2022-10-25T19:32:24.975Z"
   },
   {
    "duration": 3,
    "start_time": "2022-10-25T19:32:34.142Z"
   },
   {
    "duration": 3,
    "start_time": "2022-10-25T19:32:35.136Z"
   },
   {
    "duration": 3,
    "start_time": "2022-10-25T19:32:35.639Z"
   },
   {
    "duration": 612,
    "start_time": "2022-10-25T19:32:36.307Z"
   },
   {
    "duration": 606,
    "start_time": "2022-10-25T19:32:51.047Z"
   },
   {
    "duration": 4,
    "start_time": "2022-10-25T19:32:53.544Z"
   },
   {
    "duration": 81,
    "start_time": "2022-10-25T19:32:54.486Z"
   },
   {
    "duration": 82,
    "start_time": "2022-10-25T19:33:00.316Z"
   },
   {
    "duration": 79,
    "start_time": "2022-10-25T19:33:59.875Z"
   },
   {
    "duration": 154,
    "start_time": "2022-10-25T19:34:24.343Z"
   },
   {
    "duration": 138,
    "start_time": "2022-10-25T19:35:04.534Z"
   },
   {
    "duration": 1005,
    "start_time": "2022-10-25T19:35:09.312Z"
   },
   {
    "duration": 3,
    "start_time": "2022-10-25T19:35:39.391Z"
   },
   {
    "duration": 2,
    "start_time": "2022-10-25T19:35:40.270Z"
   },
   {
    "duration": 700,
    "start_time": "2022-10-25T19:35:41.077Z"
   },
   {
    "duration": 2,
    "start_time": "2022-10-25T19:36:13.791Z"
   },
   {
    "duration": 2,
    "start_time": "2022-10-25T19:36:14.372Z"
   },
   {
    "duration": 45314,
    "start_time": "2022-10-25T19:36:14.972Z"
   },
   {
    "duration": 2,
    "start_time": "2022-10-25T19:37:04.220Z"
   },
   {
    "duration": 440,
    "start_time": "2022-10-25T19:37:05.056Z"
   },
   {
    "duration": 19,
    "start_time": "2022-10-25T19:37:06.065Z"
   },
   {
    "duration": 8,
    "start_time": "2022-10-25T19:37:09.615Z"
   },
   {
    "duration": 35,
    "start_time": "2022-10-25T19:37:10.374Z"
   },
   {
    "duration": 14,
    "start_time": "2022-10-25T19:37:11.954Z"
   },
   {
    "duration": 3,
    "start_time": "2022-10-25T19:37:17.843Z"
   },
   {
    "duration": 2,
    "start_time": "2022-10-25T19:37:18.459Z"
   },
   {
    "duration": 3,
    "start_time": "2022-10-25T19:37:22.145Z"
   },
   {
    "duration": 7221,
    "start_time": "2022-10-25T19:37:22.983Z"
   },
   {
    "duration": 3,
    "start_time": "2022-10-25T19:37:34.337Z"
   },
   {
    "duration": 3,
    "start_time": "2022-10-25T19:37:46.262Z"
   },
   {
    "duration": 3,
    "start_time": "2022-10-25T19:37:47.198Z"
   },
   {
    "duration": 347916,
    "start_time": "2022-10-25T19:37:48.207Z"
   },
   {
    "duration": 1449,
    "start_time": "2022-10-25T19:43:40.547Z"
   },
   {
    "duration": 816,
    "start_time": "2022-10-25T19:43:41.999Z"
   },
   {
    "duration": 19,
    "start_time": "2022-10-25T19:43:42.817Z"
   },
   {
    "duration": 125,
    "start_time": "2022-10-25T19:43:42.837Z"
   },
   {
    "duration": 14,
    "start_time": "2022-10-25T19:43:42.965Z"
   },
   {
    "duration": 17,
    "start_time": "2022-10-25T19:43:42.981Z"
   },
   {
    "duration": 31,
    "start_time": "2022-10-25T19:43:43.000Z"
   },
   {
    "duration": 233,
    "start_time": "2022-10-25T19:43:43.033Z"
   },
   {
    "duration": 270,
    "start_time": "2022-10-25T19:43:43.267Z"
   },
   {
    "duration": 70,
    "start_time": "2022-10-25T19:43:43.539Z"
   },
   {
    "duration": 1648,
    "start_time": "2022-10-25T19:43:43.611Z"
   },
   {
    "duration": 7,
    "start_time": "2022-10-25T19:43:45.261Z"
   },
   {
    "duration": 11,
    "start_time": "2022-10-25T19:43:45.277Z"
   },
   {
    "duration": 10,
    "start_time": "2022-10-25T19:43:45.290Z"
   },
   {
    "duration": 9,
    "start_time": "2022-10-25T19:43:45.302Z"
   },
   {
    "duration": 134,
    "start_time": "2022-10-25T19:43:45.312Z"
   },
   {
    "duration": 18,
    "start_time": "2022-10-25T19:43:45.447Z"
   },
   {
    "duration": 21,
    "start_time": "2022-10-25T19:43:45.467Z"
   },
   {
    "duration": 61,
    "start_time": "2022-10-25T19:43:45.490Z"
   },
   {
    "duration": 101,
    "start_time": "2022-10-25T19:43:45.552Z"
   },
   {
    "duration": 60,
    "start_time": "2022-10-25T19:43:45.655Z"
   },
   {
    "duration": 23,
    "start_time": "2022-10-25T19:43:45.717Z"
   },
   {
    "duration": 20,
    "start_time": "2022-10-25T19:43:45.742Z"
   },
   {
    "duration": 20,
    "start_time": "2022-10-25T19:43:45.763Z"
   },
   {
    "duration": 63,
    "start_time": "2022-10-25T19:43:45.784Z"
   },
   {
    "duration": 41,
    "start_time": "2022-10-25T19:43:45.849Z"
   },
   {
    "duration": 3,
    "start_time": "2022-10-25T19:43:45.892Z"
   },
   {
    "duration": 4,
    "start_time": "2022-10-25T19:43:45.898Z"
   },
   {
    "duration": 16,
    "start_time": "2022-10-25T19:43:45.903Z"
   },
   {
    "duration": 66,
    "start_time": "2022-10-25T19:43:45.920Z"
   },
   {
    "duration": 24,
    "start_time": "2022-10-25T19:43:45.987Z"
   },
   {
    "duration": 3,
    "start_time": "2022-10-25T19:43:46.013Z"
   },
   {
    "duration": 4,
    "start_time": "2022-10-25T19:43:46.018Z"
   },
   {
    "duration": 6,
    "start_time": "2022-10-25T19:43:46.024Z"
   },
   {
    "duration": 5,
    "start_time": "2022-10-25T19:43:46.031Z"
   },
   {
    "duration": 273759,
    "start_time": "2022-10-25T19:43:46.037Z"
   },
   {
    "duration": 4,
    "start_time": "2022-10-25T19:48:19.797Z"
   },
   {
    "duration": 287,
    "start_time": "2022-10-25T19:48:19.802Z"
   },
   {
    "duration": 106,
    "start_time": "2022-10-25T19:48:20.091Z"
   },
   {
    "duration": 5,
    "start_time": "2022-10-25T19:48:20.199Z"
   },
   {
    "duration": 9,
    "start_time": "2022-10-25T19:48:20.205Z"
   },
   {
    "duration": 7,
    "start_time": "2022-10-25T19:48:20.216Z"
   },
   {
    "duration": 73,
    "start_time": "2022-10-25T19:48:20.224Z"
   },
   {
    "duration": 3,
    "start_time": "2022-10-25T19:48:20.298Z"
   },
   {
    "duration": 6,
    "start_time": "2022-10-25T19:48:20.303Z"
   },
   {
    "duration": 99876,
    "start_time": "2022-10-25T19:48:20.311Z"
   },
   {
    "duration": 3,
    "start_time": "2022-10-25T19:50:00.189Z"
   },
   {
    "duration": 1801,
    "start_time": "2022-10-25T19:50:00.193Z"
   },
   {
    "duration": 4,
    "start_time": "2022-10-25T19:50:01.996Z"
   },
   {
    "duration": 96,
    "start_time": "2022-10-25T19:50:02.002Z"
   },
   {
    "duration": 592,
    "start_time": "2022-10-25T19:50:02.100Z"
   },
   {
    "duration": 4,
    "start_time": "2022-10-25T19:50:02.694Z"
   },
   {
    "duration": 21,
    "start_time": "2022-10-25T19:50:02.700Z"
   },
   {
    "duration": 5,
    "start_time": "2022-10-25T19:50:02.723Z"
   },
   {
    "duration": 477,
    "start_time": "2022-10-25T19:50:02.730Z"
   },
   {
    "duration": 18,
    "start_time": "2022-10-25T19:50:03.209Z"
   },
   {
    "duration": 6,
    "start_time": "2022-10-25T19:50:03.229Z"
   },
   {
    "duration": 56,
    "start_time": "2022-10-25T19:50:03.237Z"
   },
   {
    "duration": 18,
    "start_time": "2022-10-25T19:50:03.294Z"
   },
   {
    "duration": 3,
    "start_time": "2022-10-25T19:50:03.313Z"
   },
   {
    "duration": 6,
    "start_time": "2022-10-25T19:50:03.317Z"
   },
   {
    "duration": 6,
    "start_time": "2022-10-25T19:50:03.324Z"
   },
   {
    "duration": 6886,
    "start_time": "2022-10-25T19:50:03.331Z"
   },
   {
    "duration": 4,
    "start_time": "2022-10-25T19:50:10.218Z"
   },
   {
    "duration": 36,
    "start_time": "2022-10-25T19:50:10.223Z"
   },
   {
    "duration": 27,
    "start_time": "2022-10-25T19:50:10.260Z"
   },
   {
    "duration": 5,
    "start_time": "2022-10-25T19:50:10.289Z"
   },
   {
    "duration": 3,
    "start_time": "2022-10-25T19:50:10.295Z"
   },
   {
    "duration": 7,
    "start_time": "2022-10-25T19:50:10.300Z"
   },
   {
    "duration": 4,
    "start_time": "2022-10-25T19:50:10.308Z"
   },
   {
    "duration": 6,
    "start_time": "2022-10-25T19:50:10.313Z"
   },
   {
    "duration": 4,
    "start_time": "2022-10-25T19:50:10.320Z"
   },
   {
    "duration": 202406,
    "start_time": "2022-10-25T19:50:10.326Z"
   },
   {
    "duration": 4,
    "start_time": "2022-10-25T19:53:32.734Z"
   },
   {
    "duration": 4636,
    "start_time": "2022-10-25T19:53:32.739Z"
   },
   {
    "duration": 1675,
    "start_time": "2022-10-25T19:53:37.376Z"
   },
   {
    "duration": 5,
    "start_time": "2022-10-25T19:53:39.053Z"
   },
   {
    "duration": 5,
    "start_time": "2022-10-25T19:53:39.060Z"
   },
   {
    "duration": 20,
    "start_time": "2022-10-25T19:53:39.067Z"
   },
   {
    "duration": 105,
    "start_time": "2022-10-25T19:53:39.089Z"
   },
   {
    "duration": 5,
    "start_time": "2022-10-25T19:53:39.195Z"
   },
   {
    "duration": 3,
    "start_time": "2022-10-25T19:59:30.482Z"
   },
   {
    "duration": 448,
    "start_time": "2022-10-25T19:59:30.891Z"
   },
   {
    "duration": 11,
    "start_time": "2022-10-25T19:59:34.299Z"
   },
   {
    "duration": 30,
    "start_time": "2022-10-25T19:59:34.792Z"
   },
   {
    "duration": 13,
    "start_time": "2022-10-25T19:59:35.319Z"
   },
   {
    "duration": 2,
    "start_time": "2022-10-25T19:59:35.816Z"
   },
   {
    "duration": 3,
    "start_time": "2022-10-25T19:59:36.441Z"
   },
   {
    "duration": 3,
    "start_time": "2022-10-25T19:59:36.940Z"
   },
   {
    "duration": 7139,
    "start_time": "2022-10-25T19:59:38.587Z"
   },
   {
    "duration": 4,
    "start_time": "2022-10-25T20:00:09.021Z"
   },
   {
    "duration": 30,
    "start_time": "2022-10-25T20:00:10.121Z"
   },
   {
    "duration": 14,
    "start_time": "2022-10-25T20:00:11.144Z"
   },
   {
    "duration": 5,
    "start_time": "2022-10-25T20:00:14.030Z"
   },
   {
    "duration": 2,
    "start_time": "2022-10-25T20:00:15.413Z"
   },
   {
    "duration": 4,
    "start_time": "2022-10-25T20:00:15.933Z"
   },
   {
    "duration": 6,
    "start_time": "2022-10-25T20:00:47.796Z"
   },
   {
    "duration": 4805,
    "start_time": "2022-10-25T20:00:50.890Z"
   },
   {
    "duration": 1733,
    "start_time": "2022-10-25T20:00:56.497Z"
   },
   {
    "duration": 6,
    "start_time": "2022-10-25T20:00:58.906Z"
   },
   {
    "duration": 3,
    "start_time": "2022-10-25T20:01:01.532Z"
   },
   {
    "duration": 109,
    "start_time": "2022-10-25T20:01:04.352Z"
   },
   {
    "duration": 1369,
    "start_time": "2022-10-25T20:01:08.588Z"
   },
   {
    "duration": 765,
    "start_time": "2022-10-25T20:01:09.959Z"
   },
   {
    "duration": 17,
    "start_time": "2022-10-25T20:01:10.726Z"
   },
   {
    "duration": 118,
    "start_time": "2022-10-25T20:01:10.745Z"
   },
   {
    "duration": 14,
    "start_time": "2022-10-25T20:01:10.864Z"
   },
   {
    "duration": 4,
    "start_time": "2022-10-25T20:01:10.880Z"
   },
   {
    "duration": 44,
    "start_time": "2022-10-25T20:01:10.885Z"
   },
   {
    "duration": 215,
    "start_time": "2022-10-25T20:01:10.933Z"
   },
   {
    "duration": 281,
    "start_time": "2022-10-25T20:01:11.150Z"
   },
   {
    "duration": 66,
    "start_time": "2022-10-25T20:01:11.434Z"
   },
   {
    "duration": 1655,
    "start_time": "2022-10-25T20:01:11.501Z"
   },
   {
    "duration": 8,
    "start_time": "2022-10-25T20:01:13.157Z"
   },
   {
    "duration": 18,
    "start_time": "2022-10-25T20:01:13.167Z"
   },
   {
    "duration": 16,
    "start_time": "2022-10-25T20:01:13.188Z"
   },
   {
    "duration": 8,
    "start_time": "2022-10-25T20:01:13.206Z"
   },
   {
    "duration": 130,
    "start_time": "2022-10-25T20:01:13.215Z"
   },
   {
    "duration": 19,
    "start_time": "2022-10-25T20:01:13.347Z"
   },
   {
    "duration": 15,
    "start_time": "2022-10-25T20:01:13.376Z"
   },
   {
    "duration": 63,
    "start_time": "2022-10-25T20:01:13.393Z"
   },
   {
    "duration": 102,
    "start_time": "2022-10-25T20:01:13.458Z"
   },
   {
    "duration": 61,
    "start_time": "2022-10-25T20:01:13.562Z"
   },
   {
    "duration": 25,
    "start_time": "2022-10-25T20:01:13.625Z"
   },
   {
    "duration": 34,
    "start_time": "2022-10-25T20:01:13.652Z"
   },
   {
    "duration": 9,
    "start_time": "2022-10-25T20:01:13.688Z"
   },
   {
    "duration": 80,
    "start_time": "2022-10-25T20:01:13.699Z"
   },
   {
    "duration": 26,
    "start_time": "2022-10-25T20:01:13.780Z"
   },
   {
    "duration": 3,
    "start_time": "2022-10-25T20:01:13.808Z"
   },
   {
    "duration": 3,
    "start_time": "2022-10-25T20:01:13.815Z"
   },
   {
    "duration": 17,
    "start_time": "2022-10-25T20:01:13.819Z"
   },
   {
    "duration": 85,
    "start_time": "2022-10-25T20:01:13.838Z"
   },
   {
    "duration": 25,
    "start_time": "2022-10-25T20:01:13.925Z"
   },
   {
    "duration": 3,
    "start_time": "2022-10-25T20:01:13.952Z"
   },
   {
    "duration": 8,
    "start_time": "2022-10-25T20:01:13.976Z"
   },
   {
    "duration": 8,
    "start_time": "2022-10-25T20:01:13.986Z"
   },
   {
    "duration": 15,
    "start_time": "2022-10-25T20:01:13.996Z"
   },
   {
    "duration": 271659,
    "start_time": "2022-10-25T20:01:14.012Z"
   },
   {
    "duration": 4,
    "start_time": "2022-10-25T20:05:45.672Z"
   },
   {
    "duration": 295,
    "start_time": "2022-10-25T20:05:45.677Z"
   },
   {
    "duration": 103,
    "start_time": "2022-10-25T20:05:45.976Z"
   },
   {
    "duration": 5,
    "start_time": "2022-10-25T20:05:46.081Z"
   },
   {
    "duration": 10,
    "start_time": "2022-10-25T20:05:46.087Z"
   },
   {
    "duration": 21,
    "start_time": "2022-10-25T20:05:46.098Z"
   },
   {
    "duration": 70,
    "start_time": "2022-10-25T20:05:46.120Z"
   },
   {
    "duration": 3,
    "start_time": "2022-10-25T20:05:46.191Z"
   },
   {
    "duration": 18,
    "start_time": "2022-10-25T20:05:46.195Z"
   },
   {
    "duration": 110674,
    "start_time": "2022-10-25T20:05:46.214Z"
   },
   {
    "duration": 4,
    "start_time": "2022-10-25T20:07:36.977Z"
   },
   {
    "duration": 165,
    "start_time": "2022-10-25T20:07:36.983Z"
   },
   {
    "duration": 5,
    "start_time": "2022-10-25T20:07:37.150Z"
   },
   {
    "duration": 29,
    "start_time": "2022-10-25T20:07:37.156Z"
   },
   {
    "duration": 71,
    "start_time": "2022-10-25T20:07:37.187Z"
   },
   {
    "duration": 4,
    "start_time": "2022-10-25T20:07:37.259Z"
   },
   {
    "duration": 8,
    "start_time": "2022-10-25T20:07:37.264Z"
   },
   {
    "duration": 6,
    "start_time": "2022-10-25T20:07:37.273Z"
   },
   {
    "duration": 455,
    "start_time": "2022-10-25T20:07:37.280Z"
   },
   {
    "duration": 9,
    "start_time": "2022-10-25T20:07:37.737Z"
   },
   {
    "duration": 50,
    "start_time": "2022-10-25T20:07:37.748Z"
   },
   {
    "duration": 23,
    "start_time": "2022-10-25T20:07:37.800Z"
   },
   {
    "duration": 3,
    "start_time": "2022-10-25T20:07:37.825Z"
   },
   {
    "duration": 51,
    "start_time": "2022-10-25T20:07:37.830Z"
   },
   {
    "duration": 18,
    "start_time": "2022-10-25T20:07:37.883Z"
   },
   {
    "duration": 7176,
    "start_time": "2022-10-25T20:07:37.903Z"
   },
   {
    "duration": 4,
    "start_time": "2022-10-25T20:07:45.080Z"
   },
   {
    "duration": 38,
    "start_time": "2022-10-25T20:07:45.086Z"
   },
   {
    "duration": 13,
    "start_time": "2022-10-25T20:07:45.126Z"
   },
   {
    "duration": 4,
    "start_time": "2022-10-25T20:07:45.141Z"
   },
   {
    "duration": 8,
    "start_time": "2022-10-25T20:07:45.147Z"
   },
   {
    "duration": 22,
    "start_time": "2022-10-25T20:07:45.157Z"
   },
   {
    "duration": 10,
    "start_time": "2022-10-25T20:07:45.180Z"
   },
   {
    "duration": 6,
    "start_time": "2022-10-25T20:07:45.191Z"
   },
   {
    "duration": 5,
    "start_time": "2022-10-25T20:07:45.199Z"
   },
   {
    "duration": 48871,
    "start_time": "2022-10-25T20:07:45.206Z"
   },
   {
    "duration": 9,
    "start_time": "2022-10-25T20:08:34.078Z"
   },
   {
    "duration": 0,
    "start_time": "2022-10-25T20:08:34.089Z"
   },
   {
    "duration": 0,
    "start_time": "2022-10-25T20:08:34.090Z"
   },
   {
    "duration": 0,
    "start_time": "2022-10-25T20:08:34.091Z"
   },
   {
    "duration": 0,
    "start_time": "2022-10-25T20:08:34.092Z"
   },
   {
    "duration": 0,
    "start_time": "2022-10-25T20:08:34.093Z"
   },
   {
    "duration": 0,
    "start_time": "2022-10-25T20:08:34.094Z"
   },
   {
    "duration": 0,
    "start_time": "2022-10-25T20:08:34.095Z"
   },
   {
    "duration": 0,
    "start_time": "2022-10-25T20:08:34.096Z"
   },
   {
    "duration": 1655,
    "start_time": "2022-10-25T20:08:35.248Z"
   },
   {
    "duration": 4,
    "start_time": "2022-10-25T20:08:38.242Z"
   },
   {
    "duration": 6,
    "start_time": "2022-10-25T20:08:39.042Z"
   },
   {
    "duration": 594,
    "start_time": "2022-10-25T20:08:39.795Z"
   },
   {
    "duration": 4,
    "start_time": "2022-10-25T20:08:43.955Z"
   },
   {
    "duration": 2,
    "start_time": "2022-10-25T20:08:44.835Z"
   },
   {
    "duration": 2,
    "start_time": "2022-10-25T20:08:48.247Z"
   },
   {
    "duration": 438,
    "start_time": "2022-10-25T20:08:48.729Z"
   },
   {
    "duration": 8,
    "start_time": "2022-10-25T20:08:51.607Z"
   },
   {
    "duration": 28,
    "start_time": "2022-10-25T20:08:52.032Z"
   },
   {
    "duration": 14,
    "start_time": "2022-10-25T20:08:52.496Z"
   },
   {
    "duration": 3,
    "start_time": "2022-10-25T20:08:54.144Z"
   },
   {
    "duration": 2,
    "start_time": "2022-10-25T20:08:54.641Z"
   },
   {
    "duration": 3,
    "start_time": "2022-10-25T20:08:55.188Z"
   },
   {
    "duration": 7073,
    "start_time": "2022-10-25T20:08:55.997Z"
   },
   {
    "duration": 3,
    "start_time": "2022-10-25T20:09:05.502Z"
   },
   {
    "duration": 30,
    "start_time": "2022-10-25T20:09:07.323Z"
   },
   {
    "duration": 14,
    "start_time": "2022-10-25T20:09:07.944Z"
   },
   {
    "duration": 5,
    "start_time": "2022-10-25T20:09:08.546Z"
   },
   {
    "duration": 2,
    "start_time": "2022-10-25T20:09:10.111Z"
   },
   {
    "duration": 4,
    "start_time": "2022-10-25T20:09:10.664Z"
   },
   {
    "duration": 2,
    "start_time": "2022-10-25T20:09:24.983Z"
   },
   {
    "duration": 3,
    "start_time": "2022-10-25T20:09:25.457Z"
   },
   {
    "duration": 3,
    "start_time": "2022-10-25T20:09:26.017Z"
   },
   {
    "duration": 12094,
    "start_time": "2022-10-25T20:09:26.584Z"
   },
   {
    "duration": 1407,
    "start_time": "2022-10-25T20:09:42.461Z"
   },
   {
    "duration": 745,
    "start_time": "2022-10-25T20:09:43.871Z"
   },
   {
    "duration": 18,
    "start_time": "2022-10-25T20:09:44.618Z"
   },
   {
    "duration": 120,
    "start_time": "2022-10-25T20:09:44.637Z"
   },
   {
    "duration": 6,
    "start_time": "2022-10-25T20:09:44.758Z"
   },
   {
    "duration": 11,
    "start_time": "2022-10-25T20:09:44.766Z"
   },
   {
    "duration": 31,
    "start_time": "2022-10-25T20:09:44.779Z"
   },
   {
    "duration": 222,
    "start_time": "2022-10-25T20:09:44.812Z"
   },
   {
    "duration": 251,
    "start_time": "2022-10-25T20:09:45.035Z"
   },
   {
    "duration": 54,
    "start_time": "2022-10-25T20:09:45.290Z"
   },
   {
    "duration": 1549,
    "start_time": "2022-10-25T20:09:45.346Z"
   },
   {
    "duration": 8,
    "start_time": "2022-10-25T20:09:46.897Z"
   },
   {
    "duration": 9,
    "start_time": "2022-10-25T20:09:46.906Z"
   },
   {
    "duration": 11,
    "start_time": "2022-10-25T20:09:46.917Z"
   },
   {
    "duration": 6,
    "start_time": "2022-10-25T20:09:46.930Z"
   },
   {
    "duration": 128,
    "start_time": "2022-10-25T20:09:46.938Z"
   },
   {
    "duration": 23,
    "start_time": "2022-10-25T20:09:47.068Z"
   },
   {
    "duration": 14,
    "start_time": "2022-10-25T20:09:47.093Z"
   },
   {
    "duration": 70,
    "start_time": "2022-10-25T20:09:47.109Z"
   },
   {
    "duration": 106,
    "start_time": "2022-10-25T20:09:47.181Z"
   },
   {
    "duration": 49,
    "start_time": "2022-10-25T20:09:47.288Z"
   },
   {
    "duration": 25,
    "start_time": "2022-10-25T20:09:47.339Z"
   },
   {
    "duration": 16,
    "start_time": "2022-10-25T20:09:47.378Z"
   },
   {
    "duration": 11,
    "start_time": "2022-10-25T20:09:47.395Z"
   },
   {
    "duration": 79,
    "start_time": "2022-10-25T20:09:47.407Z"
   },
   {
    "duration": 23,
    "start_time": "2022-10-25T20:09:47.488Z"
   },
   {
    "duration": 3,
    "start_time": "2022-10-25T20:09:47.513Z"
   },
   {
    "duration": 6,
    "start_time": "2022-10-25T20:09:47.520Z"
   },
   {
    "duration": 14,
    "start_time": "2022-10-25T20:09:47.527Z"
   },
   {
    "duration": 76,
    "start_time": "2022-10-25T20:09:47.543Z"
   },
   {
    "duration": 33,
    "start_time": "2022-10-25T20:09:47.620Z"
   },
   {
    "duration": 5,
    "start_time": "2022-10-25T20:09:47.656Z"
   },
   {
    "duration": 15,
    "start_time": "2022-10-25T20:09:47.676Z"
   },
   {
    "duration": 17,
    "start_time": "2022-10-25T20:09:47.693Z"
   },
   {
    "duration": 18,
    "start_time": "2022-10-25T20:09:47.712Z"
   },
   {
    "duration": 271073,
    "start_time": "2022-10-25T20:09:47.733Z"
   },
   {
    "duration": 3,
    "start_time": "2022-10-25T20:14:18.808Z"
   },
   {
    "duration": 293,
    "start_time": "2022-10-25T20:14:18.812Z"
   },
   {
    "duration": 105,
    "start_time": "2022-10-25T20:14:19.107Z"
   },
   {
    "duration": 5,
    "start_time": "2022-10-25T20:14:19.213Z"
   },
   {
    "duration": 13,
    "start_time": "2022-10-25T20:14:19.219Z"
   },
   {
    "duration": 9,
    "start_time": "2022-10-25T20:14:19.234Z"
   },
   {
    "duration": 67,
    "start_time": "2022-10-25T20:14:19.245Z"
   },
   {
    "duration": 3,
    "start_time": "2022-10-25T20:14:19.313Z"
   },
   {
    "duration": 14,
    "start_time": "2022-10-25T20:14:19.317Z"
   },
   {
    "duration": 106150,
    "start_time": "2022-10-25T20:14:19.333Z"
   },
   {
    "duration": 4,
    "start_time": "2022-10-25T20:16:05.484Z"
   },
   {
    "duration": 1813,
    "start_time": "2022-10-25T20:16:05.489Z"
   },
   {
    "duration": 74,
    "start_time": "2022-10-25T20:16:07.304Z"
   },
   {
    "duration": 25,
    "start_time": "2022-10-25T20:16:07.380Z"
   },
   {
    "duration": 588,
    "start_time": "2022-10-25T20:16:07.406Z"
   },
   {
    "duration": 3,
    "start_time": "2022-10-25T20:16:07.996Z"
   },
   {
    "duration": 8,
    "start_time": "2022-10-25T20:16:08.001Z"
   },
   {
    "duration": 68,
    "start_time": "2022-10-25T20:16:08.010Z"
   },
   {
    "duration": 449,
    "start_time": "2022-10-25T20:16:08.079Z"
   },
   {
    "duration": 11,
    "start_time": "2022-10-25T20:16:08.530Z"
   },
   {
    "duration": 42,
    "start_time": "2022-10-25T20:16:08.543Z"
   },
   {
    "duration": 15,
    "start_time": "2022-10-25T20:16:08.587Z"
   },
   {
    "duration": 9,
    "start_time": "2022-10-25T20:16:08.604Z"
   },
   {
    "duration": 5,
    "start_time": "2022-10-25T20:16:08.614Z"
   },
   {
    "duration": 9,
    "start_time": "2022-10-25T20:16:08.621Z"
   },
   {
    "duration": 7008,
    "start_time": "2022-10-25T20:16:08.631Z"
   },
   {
    "duration": 4,
    "start_time": "2022-10-25T20:16:15.640Z"
   },
   {
    "duration": 44,
    "start_time": "2022-10-25T20:16:15.645Z"
   },
   {
    "duration": 14,
    "start_time": "2022-10-25T20:16:15.691Z"
   },
   {
    "duration": 5,
    "start_time": "2022-10-25T20:16:15.706Z"
   },
   {
    "duration": 4,
    "start_time": "2022-10-25T20:16:15.713Z"
   },
   {
    "duration": 6,
    "start_time": "2022-10-25T20:16:15.719Z"
   },
   {
    "duration": 5,
    "start_time": "2022-10-25T20:16:15.726Z"
   },
   {
    "duration": 7,
    "start_time": "2022-10-25T20:16:15.733Z"
   },
   {
    "duration": 12,
    "start_time": "2022-10-25T20:16:15.742Z"
   },
   {
    "duration": 213816,
    "start_time": "2022-10-25T20:16:15.756Z"
   },
   {
    "duration": 4,
    "start_time": "2022-10-25T20:19:49.576Z"
   },
   {
    "duration": 4727,
    "start_time": "2022-10-25T20:19:49.583Z"
   },
   {
    "duration": 1604,
    "start_time": "2022-10-25T20:19:54.312Z"
   },
   {
    "duration": 6,
    "start_time": "2022-10-25T20:19:55.919Z"
   },
   {
    "duration": 8,
    "start_time": "2022-10-25T20:19:55.926Z"
   },
   {
    "duration": 18,
    "start_time": "2022-10-25T20:19:55.935Z"
   },
   {
    "duration": 110,
    "start_time": "2022-10-25T20:19:55.954Z"
   },
   {
    "duration": 15,
    "start_time": "2022-10-25T20:19:56.065Z"
   },
   {
    "duration": 1553,
    "start_time": "2023-01-16T09:37:14.759Z"
   },
   {
    "duration": 3228,
    "start_time": "2023-01-16T09:37:16.314Z"
   },
   {
    "duration": 20,
    "start_time": "2023-01-16T09:37:19.544Z"
   },
   {
    "duration": 131,
    "start_time": "2023-01-16T09:37:19.566Z"
   },
   {
    "duration": 7,
    "start_time": "2023-01-16T09:37:19.699Z"
   },
   {
    "duration": 3,
    "start_time": "2023-01-16T09:37:19.708Z"
   },
   {
    "duration": 42,
    "start_time": "2023-01-16T09:37:19.722Z"
   },
   {
    "duration": 250,
    "start_time": "2023-01-16T09:37:19.766Z"
   },
   {
    "duration": 274,
    "start_time": "2023-01-16T09:37:20.023Z"
   },
   {
    "duration": 68,
    "start_time": "2023-01-16T09:37:20.301Z"
   },
   {
    "duration": 1846,
    "start_time": "2023-01-16T09:37:20.371Z"
   },
   {
    "duration": 17,
    "start_time": "2023-01-16T09:37:22.223Z"
   },
   {
    "duration": 13,
    "start_time": "2023-01-16T09:37:22.241Z"
   },
   {
    "duration": 10,
    "start_time": "2023-01-16T09:37:22.256Z"
   },
   {
    "duration": 7,
    "start_time": "2023-01-16T09:37:22.268Z"
   },
   {
    "duration": 131,
    "start_time": "2023-01-16T09:37:22.277Z"
   },
   {
    "duration": 28,
    "start_time": "2023-01-16T09:37:22.410Z"
   },
   {
    "duration": 23,
    "start_time": "2023-01-16T09:37:22.440Z"
   },
   {
    "duration": 73,
    "start_time": "2023-01-16T09:37:22.464Z"
   },
   {
    "duration": 1441,
    "start_time": "2023-01-16T09:37:22.539Z"
   },
   {
    "duration": 0,
    "start_time": "2023-01-16T09:37:23.985Z"
   },
   {
    "duration": 0,
    "start_time": "2023-01-16T09:37:23.986Z"
   },
   {
    "duration": 1,
    "start_time": "2023-01-16T09:37:23.987Z"
   },
   {
    "duration": 0,
    "start_time": "2023-01-16T09:37:23.988Z"
   },
   {
    "duration": 0,
    "start_time": "2023-01-16T09:37:23.990Z"
   },
   {
    "duration": 0,
    "start_time": "2023-01-16T09:37:23.991Z"
   },
   {
    "duration": 0,
    "start_time": "2023-01-16T09:37:23.992Z"
   },
   {
    "duration": 0,
    "start_time": "2023-01-16T09:37:23.993Z"
   },
   {
    "duration": 0,
    "start_time": "2023-01-16T09:37:23.994Z"
   },
   {
    "duration": 0,
    "start_time": "2023-01-16T09:37:23.995Z"
   },
   {
    "duration": 0,
    "start_time": "2023-01-16T09:37:23.996Z"
   },
   {
    "duration": 0,
    "start_time": "2023-01-16T09:37:23.997Z"
   },
   {
    "duration": 0,
    "start_time": "2023-01-16T09:37:23.998Z"
   },
   {
    "duration": 0,
    "start_time": "2023-01-16T09:37:23.999Z"
   },
   {
    "duration": 0,
    "start_time": "2023-01-16T09:37:24.000Z"
   },
   {
    "duration": 0,
    "start_time": "2023-01-16T09:37:24.001Z"
   },
   {
    "duration": 0,
    "start_time": "2023-01-16T09:37:24.002Z"
   },
   {
    "duration": 0,
    "start_time": "2023-01-16T09:37:24.003Z"
   },
   {
    "duration": 0,
    "start_time": "2023-01-16T09:37:24.005Z"
   },
   {
    "duration": 0,
    "start_time": "2023-01-16T09:37:24.006Z"
   },
   {
    "duration": 0,
    "start_time": "2023-01-16T09:37:24.008Z"
   },
   {
    "duration": 0,
    "start_time": "2023-01-16T09:37:24.009Z"
   },
   {
    "duration": 0,
    "start_time": "2023-01-16T09:37:24.011Z"
   },
   {
    "duration": 0,
    "start_time": "2023-01-16T09:37:24.012Z"
   },
   {
    "duration": 0,
    "start_time": "2023-01-16T09:37:24.013Z"
   },
   {
    "duration": 0,
    "start_time": "2023-01-16T09:37:24.015Z"
   },
   {
    "duration": 0,
    "start_time": "2023-01-16T09:37:24.016Z"
   },
   {
    "duration": 0,
    "start_time": "2023-01-16T09:37:24.018Z"
   },
   {
    "duration": 0,
    "start_time": "2023-01-16T09:37:24.020Z"
   },
   {
    "duration": 0,
    "start_time": "2023-01-16T09:37:24.021Z"
   },
   {
    "duration": 0,
    "start_time": "2023-01-16T09:37:24.031Z"
   },
   {
    "duration": 0,
    "start_time": "2023-01-16T09:37:24.032Z"
   },
   {
    "duration": 0,
    "start_time": "2023-01-16T09:37:24.033Z"
   },
   {
    "duration": 0,
    "start_time": "2023-01-16T09:37:24.034Z"
   },
   {
    "duration": 0,
    "start_time": "2023-01-16T09:37:24.034Z"
   },
   {
    "duration": 0,
    "start_time": "2023-01-16T09:37:24.035Z"
   },
   {
    "duration": 0,
    "start_time": "2023-01-16T09:37:24.036Z"
   },
   {
    "duration": 0,
    "start_time": "2023-01-16T09:37:24.037Z"
   },
   {
    "duration": 0,
    "start_time": "2023-01-16T09:37:24.037Z"
   },
   {
    "duration": 0,
    "start_time": "2023-01-16T09:37:24.040Z"
   },
   {
    "duration": 0,
    "start_time": "2023-01-16T09:37:24.041Z"
   },
   {
    "duration": 0,
    "start_time": "2023-01-16T09:37:24.043Z"
   },
   {
    "duration": 0,
    "start_time": "2023-01-16T09:37:24.045Z"
   },
   {
    "duration": 1,
    "start_time": "2023-01-16T09:37:24.046Z"
   },
   {
    "duration": 0,
    "start_time": "2023-01-16T09:37:24.050Z"
   },
   {
    "duration": 0,
    "start_time": "2023-01-16T09:37:24.051Z"
   },
   {
    "duration": 0,
    "start_time": "2023-01-16T09:37:24.055Z"
   },
   {
    "duration": 0,
    "start_time": "2023-01-16T09:37:24.056Z"
   },
   {
    "duration": 0,
    "start_time": "2023-01-16T09:37:24.058Z"
   },
   {
    "duration": 0,
    "start_time": "2023-01-16T09:37:24.060Z"
   },
   {
    "duration": 0,
    "start_time": "2023-01-16T09:37:24.061Z"
   },
   {
    "duration": 0,
    "start_time": "2023-01-16T09:37:24.062Z"
   },
   {
    "duration": 0,
    "start_time": "2023-01-16T09:37:24.064Z"
   },
   {
    "duration": 0,
    "start_time": "2023-01-16T09:37:24.065Z"
   },
   {
    "duration": 0,
    "start_time": "2023-01-16T09:37:24.067Z"
   },
   {
    "duration": 0,
    "start_time": "2023-01-16T09:37:24.068Z"
   },
   {
    "duration": 0,
    "start_time": "2023-01-16T09:37:24.070Z"
   },
   {
    "duration": 0,
    "start_time": "2023-01-16T09:37:24.125Z"
   },
   {
    "duration": 0,
    "start_time": "2023-01-16T09:37:24.126Z"
   },
   {
    "duration": 1602,
    "start_time": "2023-01-16T09:39:39.633Z"
   },
   {
    "duration": 861,
    "start_time": "2023-01-16T09:39:41.238Z"
   },
   {
    "duration": 27,
    "start_time": "2023-01-16T09:39:42.101Z"
   },
   {
    "duration": 128,
    "start_time": "2023-01-16T09:39:42.131Z"
   },
   {
    "duration": 7,
    "start_time": "2023-01-16T09:39:42.261Z"
   },
   {
    "duration": 3,
    "start_time": "2023-01-16T09:39:42.270Z"
   },
   {
    "duration": 48,
    "start_time": "2023-01-16T09:39:42.275Z"
   },
   {
    "duration": 244,
    "start_time": "2023-01-16T09:39:42.326Z"
   },
   {
    "duration": 298,
    "start_time": "2023-01-16T09:39:42.572Z"
   },
   {
    "duration": 73,
    "start_time": "2023-01-16T09:39:42.873Z"
   },
   {
    "duration": 1859,
    "start_time": "2023-01-16T09:39:42.948Z"
   },
   {
    "duration": 17,
    "start_time": "2023-01-16T09:39:44.809Z"
   },
   {
    "duration": 10,
    "start_time": "2023-01-16T09:39:44.830Z"
   },
   {
    "duration": 12,
    "start_time": "2023-01-16T09:39:44.841Z"
   },
   {
    "duration": 7,
    "start_time": "2023-01-16T09:39:44.854Z"
   },
   {
    "duration": 144,
    "start_time": "2023-01-16T09:39:44.863Z"
   },
   {
    "duration": 28,
    "start_time": "2023-01-16T09:39:45.009Z"
   },
   {
    "duration": 15,
    "start_time": "2023-01-16T09:39:45.038Z"
   },
   {
    "duration": 80,
    "start_time": "2023-01-16T09:39:45.055Z"
   },
   {
    "duration": 115,
    "start_time": "2023-01-16T09:39:45.138Z"
   },
   {
    "duration": 67,
    "start_time": "2023-01-16T09:39:45.255Z"
   },
   {
    "duration": 1345,
    "start_time": "2023-01-16T09:39:45.324Z"
   },
   {
    "duration": 0,
    "start_time": "2023-01-16T09:39:46.672Z"
   },
   {
    "duration": 0,
    "start_time": "2023-01-16T09:39:46.673Z"
   },
   {
    "duration": 0,
    "start_time": "2023-01-16T09:39:46.674Z"
   },
   {
    "duration": 0,
    "start_time": "2023-01-16T09:39:46.676Z"
   },
   {
    "duration": 0,
    "start_time": "2023-01-16T09:39:46.677Z"
   },
   {
    "duration": 0,
    "start_time": "2023-01-16T09:39:46.678Z"
   },
   {
    "duration": 0,
    "start_time": "2023-01-16T09:39:46.679Z"
   },
   {
    "duration": 0,
    "start_time": "2023-01-16T09:39:46.680Z"
   },
   {
    "duration": 0,
    "start_time": "2023-01-16T09:39:46.681Z"
   },
   {
    "duration": 0,
    "start_time": "2023-01-16T09:39:46.682Z"
   },
   {
    "duration": 0,
    "start_time": "2023-01-16T09:39:46.683Z"
   },
   {
    "duration": 0,
    "start_time": "2023-01-16T09:39:46.684Z"
   },
   {
    "duration": 0,
    "start_time": "2023-01-16T09:39:46.685Z"
   },
   {
    "duration": 0,
    "start_time": "2023-01-16T09:39:46.686Z"
   },
   {
    "duration": 0,
    "start_time": "2023-01-16T09:39:46.687Z"
   },
   {
    "duration": 0,
    "start_time": "2023-01-16T09:39:46.688Z"
   },
   {
    "duration": 0,
    "start_time": "2023-01-16T09:39:46.689Z"
   },
   {
    "duration": 0,
    "start_time": "2023-01-16T09:39:46.690Z"
   },
   {
    "duration": 0,
    "start_time": "2023-01-16T09:39:46.691Z"
   },
   {
    "duration": 0,
    "start_time": "2023-01-16T09:39:46.692Z"
   },
   {
    "duration": 0,
    "start_time": "2023-01-16T09:39:46.693Z"
   },
   {
    "duration": 0,
    "start_time": "2023-01-16T09:39:46.694Z"
   },
   {
    "duration": 0,
    "start_time": "2023-01-16T09:39:46.695Z"
   },
   {
    "duration": 0,
    "start_time": "2023-01-16T09:39:46.695Z"
   },
   {
    "duration": 0,
    "start_time": "2023-01-16T09:39:46.697Z"
   },
   {
    "duration": 0,
    "start_time": "2023-01-16T09:39:46.698Z"
   },
   {
    "duration": 0,
    "start_time": "2023-01-16T09:39:46.699Z"
   },
   {
    "duration": 0,
    "start_time": "2023-01-16T09:39:46.700Z"
   },
   {
    "duration": 0,
    "start_time": "2023-01-16T09:39:46.701Z"
   },
   {
    "duration": 0,
    "start_time": "2023-01-16T09:39:46.702Z"
   },
   {
    "duration": 0,
    "start_time": "2023-01-16T09:39:46.703Z"
   },
   {
    "duration": 0,
    "start_time": "2023-01-16T09:39:46.703Z"
   },
   {
    "duration": 0,
    "start_time": "2023-01-16T09:39:46.705Z"
   },
   {
    "duration": 0,
    "start_time": "2023-01-16T09:39:46.706Z"
   },
   {
    "duration": 0,
    "start_time": "2023-01-16T09:39:46.706Z"
   },
   {
    "duration": 0,
    "start_time": "2023-01-16T09:39:46.707Z"
   },
   {
    "duration": 0,
    "start_time": "2023-01-16T09:39:46.722Z"
   },
   {
    "duration": 0,
    "start_time": "2023-01-16T09:39:46.723Z"
   },
   {
    "duration": 0,
    "start_time": "2023-01-16T09:39:46.723Z"
   },
   {
    "duration": 0,
    "start_time": "2023-01-16T09:39:46.724Z"
   },
   {
    "duration": 0,
    "start_time": "2023-01-16T09:39:46.725Z"
   },
   {
    "duration": 0,
    "start_time": "2023-01-16T09:39:46.725Z"
   },
   {
    "duration": 0,
    "start_time": "2023-01-16T09:39:46.729Z"
   },
   {
    "duration": 0,
    "start_time": "2023-01-16T09:39:46.730Z"
   },
   {
    "duration": 0,
    "start_time": "2023-01-16T09:39:46.731Z"
   },
   {
    "duration": 0,
    "start_time": "2023-01-16T09:39:46.732Z"
   },
   {
    "duration": 0,
    "start_time": "2023-01-16T09:39:46.733Z"
   },
   {
    "duration": 0,
    "start_time": "2023-01-16T09:39:46.734Z"
   },
   {
    "duration": 0,
    "start_time": "2023-01-16T09:39:46.735Z"
   },
   {
    "duration": 0,
    "start_time": "2023-01-16T09:39:46.736Z"
   },
   {
    "duration": 0,
    "start_time": "2023-01-16T09:39:46.737Z"
   },
   {
    "duration": 0,
    "start_time": "2023-01-16T09:39:46.738Z"
   },
   {
    "duration": 0,
    "start_time": "2023-01-16T09:39:46.739Z"
   },
   {
    "duration": 0,
    "start_time": "2023-01-16T09:39:46.740Z"
   },
   {
    "duration": 0,
    "start_time": "2023-01-16T09:39:46.742Z"
   },
   {
    "duration": 0,
    "start_time": "2023-01-16T09:39:46.743Z"
   },
   {
    "duration": 0,
    "start_time": "2023-01-16T09:39:46.744Z"
   },
   {
    "duration": 28,
    "start_time": "2023-01-16T09:39:55.057Z"
   },
   {
    "duration": 2418,
    "start_time": "2023-01-16T09:40:01.708Z"
   },
   {
    "duration": 0,
    "start_time": "2023-01-16T09:40:04.128Z"
   },
   {
    "duration": 19,
    "start_time": "2023-01-16T09:40:11.345Z"
   },
   {
    "duration": 10,
    "start_time": "2023-01-16T09:40:14.637Z"
   },
   {
    "duration": 72,
    "start_time": "2023-01-16T09:40:20.984Z"
   },
   {
    "duration": 24,
    "start_time": "2023-01-16T09:40:22.129Z"
   },
   {
    "duration": 3,
    "start_time": "2023-01-16T09:40:23.496Z"
   },
   {
    "duration": 2,
    "start_time": "2023-01-16T09:40:32.412Z"
   },
   {
    "duration": 2,
    "start_time": "2023-01-16T09:40:39.285Z"
   },
   {
    "duration": 15,
    "start_time": "2023-01-16T09:40:42.608Z"
   },
   {
    "duration": 66,
    "start_time": "2023-01-16T09:40:43.577Z"
   },
   {
    "duration": 40,
    "start_time": "2023-01-16T09:40:46.420Z"
   },
   {
    "duration": 4,
    "start_time": "2023-01-16T09:40:46.988Z"
   },
   {
    "duration": 3,
    "start_time": "2023-01-16T09:40:49.172Z"
   },
   {
    "duration": 3,
    "start_time": "2023-01-16T09:40:51.524Z"
   },
   {
    "duration": 3,
    "start_time": "2023-01-16T09:40:52.057Z"
   },
   {
    "duration": 587944,
    "start_time": "2023-01-16T09:40:52.712Z"
   },
   {
    "duration": 5,
    "start_time": "2023-01-16T09:51:28.221Z"
   },
   {
    "duration": 14,
    "start_time": "2023-01-16T09:51:44.053Z"
   },
   {
    "duration": 5,
    "start_time": "2023-01-16T09:51:52.025Z"
   },
   {
    "duration": 16,
    "start_time": "2023-01-16T09:52:07.814Z"
   },
   {
    "duration": 4,
    "start_time": "2023-01-16T09:52:37.573Z"
   },
   {
    "duration": 11,
    "start_time": "2023-01-16T09:55:29.966Z"
   },
   {
    "duration": 20,
    "start_time": "2023-01-16T09:55:36.327Z"
   },
   {
    "duration": 15,
    "start_time": "2023-01-16T09:58:44.741Z"
   },
   {
    "duration": 11,
    "start_time": "2023-01-16T09:59:13.057Z"
   },
   {
    "duration": 9,
    "start_time": "2023-01-16T10:04:12.285Z"
   },
   {
    "duration": 9,
    "start_time": "2023-01-16T10:04:42.502Z"
   },
   {
    "duration": 17,
    "start_time": "2023-01-16T10:05:15.840Z"
   },
   {
    "duration": 1577,
    "start_time": "2023-01-23T10:09:53.812Z"
   },
   {
    "duration": 1068,
    "start_time": "2023-01-23T10:09:55.391Z"
   },
   {
    "duration": 20,
    "start_time": "2023-01-23T10:09:56.460Z"
   },
   {
    "duration": 153,
    "start_time": "2023-01-23T10:09:56.483Z"
   },
   {
    "duration": 8,
    "start_time": "2023-01-23T10:09:56.637Z"
   },
   {
    "duration": 37,
    "start_time": "2023-01-23T10:09:56.658Z"
   },
   {
    "duration": 74,
    "start_time": "2023-01-23T10:09:56.697Z"
   },
   {
    "duration": 246,
    "start_time": "2023-01-23T10:09:56.773Z"
   },
   {
    "duration": 314,
    "start_time": "2023-01-23T10:09:57.021Z"
   },
   {
    "duration": 60,
    "start_time": "2023-01-23T10:09:57.338Z"
   },
   {
    "duration": 1809,
    "start_time": "2023-01-23T10:09:57.400Z"
   },
   {
    "duration": 17,
    "start_time": "2023-01-23T10:09:59.211Z"
   },
   {
    "duration": 16,
    "start_time": "2023-01-23T10:09:59.230Z"
   },
   {
    "duration": 20,
    "start_time": "2023-01-23T10:09:59.248Z"
   },
   {
    "duration": 14,
    "start_time": "2023-01-23T10:09:59.270Z"
   },
   {
    "duration": 126,
    "start_time": "2023-01-23T10:09:59.287Z"
   },
   {
    "duration": 18,
    "start_time": "2023-01-23T10:09:59.415Z"
   },
   {
    "duration": 23,
    "start_time": "2023-01-23T10:09:59.435Z"
   },
   {
    "duration": 76,
    "start_time": "2023-01-23T10:09:59.459Z"
   },
   {
    "duration": 115,
    "start_time": "2023-01-23T10:09:59.537Z"
   },
   {
    "duration": 77,
    "start_time": "2023-01-23T10:09:59.654Z"
   },
   {
    "duration": 28,
    "start_time": "2023-01-23T10:09:59.733Z"
   },
   {
    "duration": 21,
    "start_time": "2023-01-23T10:09:59.763Z"
   },
   {
    "duration": 10,
    "start_time": "2023-01-23T10:09:59.786Z"
   },
   {
    "duration": 93,
    "start_time": "2023-01-23T10:09:59.798Z"
   },
   {
    "duration": 34,
    "start_time": "2023-01-23T10:09:59.893Z"
   },
   {
    "duration": 3,
    "start_time": "2023-01-23T10:09:59.930Z"
   },
   {
    "duration": 19,
    "start_time": "2023-01-23T10:09:59.937Z"
   },
   {
    "duration": 20,
    "start_time": "2023-01-23T10:09:59.959Z"
   },
   {
    "duration": 59,
    "start_time": "2023-01-23T10:09:59.981Z"
   },
   {
    "duration": 28,
    "start_time": "2023-01-23T10:10:00.042Z"
   },
   {
    "duration": 23,
    "start_time": "2023-01-23T10:10:00.072Z"
   },
   {
    "duration": 18,
    "start_time": "2023-01-23T10:10:00.097Z"
   },
   {
    "duration": 17,
    "start_time": "2023-01-23T10:10:00.116Z"
   },
   {
    "duration": 25,
    "start_time": "2023-01-23T10:10:00.135Z"
   },
   {
    "duration": 322401,
    "start_time": "2023-01-23T10:10:00.162Z"
   },
   {
    "duration": 5,
    "start_time": "2023-01-23T10:15:22.565Z"
   },
   {
    "duration": 11,
    "start_time": "2023-01-23T10:15:22.572Z"
   },
   {
    "duration": 17,
    "start_time": "2023-01-23T10:15:22.585Z"
   },
   {
    "duration": 24,
    "start_time": "2023-01-23T10:15:22.604Z"
   },
   {
    "duration": 340,
    "start_time": "2023-01-23T10:15:22.631Z"
   },
   {
    "duration": 115,
    "start_time": "2023-01-23T10:15:22.972Z"
   },
   {
    "duration": 6,
    "start_time": "2023-01-23T10:15:23.088Z"
   },
   {
    "duration": 4,
    "start_time": "2023-01-23T10:15:23.096Z"
   },
   {
    "duration": 9,
    "start_time": "2023-01-23T10:15:23.102Z"
   },
   {
    "duration": 95,
    "start_time": "2023-01-23T10:15:23.113Z"
   },
   {
    "duration": 3,
    "start_time": "2023-01-23T10:15:23.210Z"
   },
   {
    "duration": 3,
    "start_time": "2023-01-23T10:15:23.227Z"
   },
   {
    "duration": 1501,
    "start_time": "2023-01-23T10:32:56.925Z"
   },
   {
    "duration": 782,
    "start_time": "2023-01-23T10:32:58.428Z"
   },
   {
    "duration": 23,
    "start_time": "2023-01-23T10:32:59.212Z"
   },
   {
    "duration": 147,
    "start_time": "2023-01-23T10:32:59.236Z"
   },
   {
    "duration": 7,
    "start_time": "2023-01-23T10:32:59.385Z"
   },
   {
    "duration": 20,
    "start_time": "2023-01-23T10:32:59.394Z"
   },
   {
    "duration": 48,
    "start_time": "2023-01-23T10:32:59.416Z"
   },
   {
    "duration": 241,
    "start_time": "2023-01-23T10:32:59.465Z"
   },
   {
    "duration": 263,
    "start_time": "2023-01-23T10:32:59.708Z"
   },
   {
    "duration": 69,
    "start_time": "2023-01-23T10:32:59.973Z"
   },
   {
    "duration": 1880,
    "start_time": "2023-01-23T10:33:00.043Z"
   },
   {
    "duration": 10,
    "start_time": "2023-01-23T10:33:01.925Z"
   },
   {
    "duration": 76,
    "start_time": "2023-01-23T10:33:01.936Z"
   },
   {
    "duration": 34,
    "start_time": "2023-01-23T10:33:02.016Z"
   },
   {
    "duration": 53,
    "start_time": "2023-01-23T10:33:02.052Z"
   },
   {
    "duration": 134,
    "start_time": "2023-01-23T10:33:02.108Z"
   },
   {
    "duration": 19,
    "start_time": "2023-01-23T10:33:02.244Z"
   },
   {
    "duration": 58,
    "start_time": "2023-01-23T10:33:02.265Z"
   },
   {
    "duration": 86,
    "start_time": "2023-01-23T10:33:02.325Z"
   },
   {
    "duration": 96,
    "start_time": "2023-01-23T10:33:02.414Z"
   },
   {
    "duration": 58,
    "start_time": "2023-01-23T10:33:02.512Z"
   },
   {
    "duration": 29,
    "start_time": "2023-01-23T10:33:02.572Z"
   },
   {
    "duration": 42,
    "start_time": "2023-01-23T10:33:02.603Z"
   },
   {
    "duration": 36,
    "start_time": "2023-01-23T10:33:02.648Z"
   },
   {
    "duration": 112,
    "start_time": "2023-01-23T10:33:02.686Z"
   },
   {
    "duration": 36,
    "start_time": "2023-01-23T10:33:02.800Z"
   },
   {
    "duration": 3,
    "start_time": "2023-01-23T10:33:02.839Z"
   },
   {
    "duration": 55,
    "start_time": "2023-01-23T10:33:02.845Z"
   },
   {
    "duration": 30,
    "start_time": "2023-01-23T10:33:02.903Z"
   },
   {
    "duration": 72,
    "start_time": "2023-01-23T10:33:02.935Z"
   },
   {
    "duration": 28,
    "start_time": "2023-01-23T10:33:03.009Z"
   },
   {
    "duration": 30,
    "start_time": "2023-01-23T10:33:03.038Z"
   },
   {
    "duration": 38,
    "start_time": "2023-01-23T10:33:03.069Z"
   },
   {
    "duration": 30,
    "start_time": "2023-01-23T10:33:03.109Z"
   },
   {
    "duration": 28,
    "start_time": "2023-01-23T10:33:03.140Z"
   },
   {
    "duration": 301802,
    "start_time": "2023-01-23T10:33:03.170Z"
   },
   {
    "duration": 4,
    "start_time": "2023-01-23T10:38:04.974Z"
   },
   {
    "duration": 11,
    "start_time": "2023-01-23T10:38:04.980Z"
   },
   {
    "duration": 37,
    "start_time": "2023-01-23T10:38:04.992Z"
   },
   {
    "duration": 11,
    "start_time": "2023-01-23T10:38:05.031Z"
   },
   {
    "duration": 356,
    "start_time": "2023-01-23T10:38:05.048Z"
   },
   {
    "duration": 121,
    "start_time": "2023-01-23T10:38:05.407Z"
   },
   {
    "duration": 7,
    "start_time": "2023-01-23T10:38:05.530Z"
   },
   {
    "duration": 27,
    "start_time": "2023-01-23T10:38:05.538Z"
   },
   {
    "duration": 13,
    "start_time": "2023-01-23T10:38:05.567Z"
   },
   {
    "duration": 89,
    "start_time": "2023-01-23T10:38:05.582Z"
   },
   {
    "duration": 3,
    "start_time": "2023-01-23T10:38:05.673Z"
   },
   {
    "duration": 10,
    "start_time": "2023-01-23T10:38:05.678Z"
   },
   {
    "duration": 602048,
    "start_time": "2023-01-23T10:38:05.690Z"
   },
   {
    "duration": 3,
    "start_time": "2023-01-23T10:48:07.740Z"
   },
   {
    "duration": 2082,
    "start_time": "2023-01-23T10:48:07.745Z"
   },
   {
    "duration": 6,
    "start_time": "2023-01-23T10:48:09.830Z"
   },
   {
    "duration": 53,
    "start_time": "2023-01-23T10:48:09.838Z"
   },
   {
    "duration": 734,
    "start_time": "2023-01-23T10:48:09.893Z"
   },
   {
    "duration": 4,
    "start_time": "2023-01-23T10:48:10.629Z"
   },
   {
    "duration": 37,
    "start_time": "2023-01-23T10:48:10.634Z"
   },
   {
    "duration": 34,
    "start_time": "2023-01-23T10:48:10.673Z"
   },
   {
    "duration": 478,
    "start_time": "2023-01-23T10:48:10.708Z"
   },
   {
    "duration": 8,
    "start_time": "2023-01-23T10:48:11.187Z"
   },
   {
    "duration": 63,
    "start_time": "2023-01-23T10:48:11.197Z"
   },
   {
    "duration": 49,
    "start_time": "2023-01-23T10:48:11.261Z"
   },
   {
    "duration": 3,
    "start_time": "2023-01-23T10:48:11.312Z"
   },
   {
    "duration": 12,
    "start_time": "2023-01-23T10:48:11.316Z"
   },
   {
    "duration": 6,
    "start_time": "2023-01-23T10:48:11.330Z"
   },
   {
    "duration": 7581,
    "start_time": "2023-01-23T10:48:11.338Z"
   },
   {
    "duration": 8,
    "start_time": "2023-01-23T10:48:18.920Z"
   },
   {
    "duration": 35,
    "start_time": "2023-01-23T10:48:18.930Z"
   },
   {
    "duration": 15,
    "start_time": "2023-01-23T10:48:18.966Z"
   },
   {
    "duration": 5,
    "start_time": "2023-01-23T10:48:18.983Z"
   },
   {
    "duration": 4,
    "start_time": "2023-01-23T10:48:18.990Z"
   },
   {
    "duration": 7,
    "start_time": "2023-01-23T10:48:18.995Z"
   },
   {
    "duration": 24,
    "start_time": "2023-01-23T10:48:19.004Z"
   },
   {
    "duration": 11,
    "start_time": "2023-01-23T10:48:19.030Z"
   },
   {
    "duration": 233657,
    "start_time": "2023-01-23T10:48:19.043Z"
   },
   {
    "duration": 4,
    "start_time": "2023-01-23T10:52:12.702Z"
   },
   {
    "duration": 5056,
    "start_time": "2023-01-23T10:52:12.707Z"
   },
   {
    "duration": 1792,
    "start_time": "2023-01-23T10:52:17.765Z"
   },
   {
    "duration": 6,
    "start_time": "2023-01-23T10:52:19.558Z"
   },
   {
    "duration": 26,
    "start_time": "2023-01-23T10:52:19.566Z"
   },
   {
    "duration": 42,
    "start_time": "2023-01-23T10:52:19.594Z"
   },
   {
    "duration": 158,
    "start_time": "2023-01-23T10:52:19.637Z"
   },
   {
    "duration": 5,
    "start_time": "2023-01-23T10:52:19.797Z"
   }
  ],
  "kernelspec": {
   "display_name": "Python 3 (ipykernel)",
   "language": "python",
   "name": "python3"
  },
  "language_info": {
   "codemirror_mode": {
    "name": "ipython",
    "version": 3
   },
   "file_extension": ".py",
   "mimetype": "text/x-python",
   "name": "python",
   "nbconvert_exporter": "python",
   "pygments_lexer": "ipython3",
   "version": "3.9.12"
  },
  "toc": {
   "base_numbering": 1,
   "nav_menu": {},
   "number_sections": true,
   "sideBar": true,
   "skip_h1_title": true,
   "title_cell": "Содержание",
   "title_sidebar": "Contents",
   "toc_cell": true,
   "toc_position": {
    "height": "calc(100% - 180px)",
    "left": "10px",
    "top": "150px",
    "width": "453.452px"
   },
   "toc_section_display": true,
   "toc_window_display": true
  }
 },
 "nbformat": 4,
 "nbformat_minor": 2
}
