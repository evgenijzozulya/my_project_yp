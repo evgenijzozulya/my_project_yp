{
 "cells": [
  {
   "cell_type": "markdown",
   "metadata": {
    "toc": true
   },
   "source": [
    "<h1>Содержание<span class=\"tocSkip\"></span></h1>\n",
    "<div class=\"toc\"><ul class=\"toc-item\"><li><span><a href=\"#Описание-проекта\" data-toc-modified-id=\"Описание-проекта-1\"><span class=\"toc-item-num\">1&nbsp;&nbsp;</span>Описание проекта</a></span></li><li><span><a href=\"#Изучение-данных-из-файла\" data-toc-modified-id=\"Изучение-данных-из-файла-2\"><span class=\"toc-item-num\">2&nbsp;&nbsp;</span>Изучение данных из файла</a></span><ul class=\"toc-item\"><li><span><a href=\"#Вывод\" data-toc-modified-id=\"Вывод-2.1\"><span class=\"toc-item-num\">2.1&nbsp;&nbsp;</span>Вывод</a></span></li></ul></li><li><span><a href=\"#Предобработка-данных\" data-toc-modified-id=\"Предобработка-данных-3\"><span class=\"toc-item-num\">3&nbsp;&nbsp;</span>Предобработка данных</a></span><ul class=\"toc-item\"><li><span><a href=\"#Пропущенные-значения\" data-toc-modified-id=\"Пропущенные-значения-3.1\"><span class=\"toc-item-num\">3.1&nbsp;&nbsp;</span>Пропущенные значения</a></span><ul class=\"toc-item\"><li><span><a href=\"#Колонка-ceiling_height\" data-toc-modified-id=\"Колонка-ceiling_height-3.1.1\"><span class=\"toc-item-num\">3.1.1&nbsp;&nbsp;</span>Колонка <code>ceiling_height</code></a></span><ul class=\"toc-item\"><li><span><a href=\"#Вывод\" data-toc-modified-id=\"Вывод-3.1.1.1\"><span class=\"toc-item-num\">3.1.1.1&nbsp;&nbsp;</span>Вывод</a></span></li></ul></li><li><span><a href=\"#Колонка-floors_total\" data-toc-modified-id=\"Колонка-floors_total-3.1.2\"><span class=\"toc-item-num\">3.1.2&nbsp;&nbsp;</span>Колонка <code>floors_total</code></a></span><ul class=\"toc-item\"><li><span><a href=\"#Вывод\" data-toc-modified-id=\"Вывод-3.1.2.1\"><span class=\"toc-item-num\">3.1.2.1&nbsp;&nbsp;</span>Вывод</a></span></li></ul></li><li><span><a href=\"#Колонки-living_area-и-kitchen_area\" data-toc-modified-id=\"Колонки-living_area-и-kitchen_area-3.1.3\"><span class=\"toc-item-num\">3.1.3&nbsp;&nbsp;</span>Колонки <code>living_area</code> и <code>kitchen_area</code></a></span><ul class=\"toc-item\"><li><span><a href=\"#Вывод\" data-toc-modified-id=\"Вывод-3.1.3.1\"><span class=\"toc-item-num\">3.1.3.1&nbsp;&nbsp;</span>Вывод</a></span></li></ul></li><li><span><a href=\"#Колонка-is_apartment-и-balcony\" data-toc-modified-id=\"Колонка-is_apartment-и-balcony-3.1.4\"><span class=\"toc-item-num\">3.1.4&nbsp;&nbsp;</span>Колонка <code>is_apartment</code> и <code>balcony</code></a></span><ul class=\"toc-item\"><li><span><a href=\"#Вывод\" data-toc-modified-id=\"Вывод-3.1.4.1\"><span class=\"toc-item-num\">3.1.4.1&nbsp;&nbsp;</span>Вывод</a></span></li></ul></li><li><span><a href=\"#Колонка-locality_name\" data-toc-modified-id=\"Колонка-locality_name-3.1.5\"><span class=\"toc-item-num\">3.1.5&nbsp;&nbsp;</span>Колонка <code>locality_name</code></a></span><ul class=\"toc-item\"><li><span><a href=\"#Вывод\" data-toc-modified-id=\"Вывод-3.1.5.1\"><span class=\"toc-item-num\">3.1.5.1&nbsp;&nbsp;</span>Вывод</a></span></li></ul></li><li><span><a href=\"#Колонки-airports_nearest,-city_centers_nearest,-parks_nearest,-ponds_nearest\" data-toc-modified-id=\"Колонки-airports_nearest,-city_centers_nearest,-parks_nearest,-ponds_nearest-3.1.6\"><span class=\"toc-item-num\">3.1.6&nbsp;&nbsp;</span>Колонки <code>airports_nearest</code>, <code>city_centers_nearest</code>, <code>parks_nearest</code>, <code>ponds_nearest</code></a></span><ul class=\"toc-item\"><li><span><a href=\"#Вывод\" data-toc-modified-id=\"Вывод-3.1.6.1\"><span class=\"toc-item-num\">3.1.6.1&nbsp;&nbsp;</span>Вывод</a></span></li></ul></li><li><span><a href=\"#Колонки-parks_around_3000,-ponds_around_3000\" data-toc-modified-id=\"Колонки-parks_around_3000,-ponds_around_3000-3.1.7\"><span class=\"toc-item-num\">3.1.7&nbsp;&nbsp;</span>Колонки <code>parks_around_3000</code>, <code>ponds_around_3000</code></a></span><ul class=\"toc-item\"><li><span><a href=\"#Вывод\" data-toc-modified-id=\"Вывод-3.1.7.1\"><span class=\"toc-item-num\">3.1.7.1&nbsp;&nbsp;</span>Вывод</a></span></li></ul></li><li><span><a href=\"#Колонка-days_exposition\" data-toc-modified-id=\"Колонка-days_exposition-3.1.8\"><span class=\"toc-item-num\">3.1.8&nbsp;&nbsp;</span>Колонка <code>days_exposition</code></a></span></li></ul></li><li><span><a href=\"#Приведение-данных-к-нужному-типу\" data-toc-modified-id=\"Приведение-данных-к-нужному-типу-3.2\"><span class=\"toc-item-num\">3.2&nbsp;&nbsp;</span>Приведение данных к нужному типу</a></span></li></ul></li><li><span><a href=\"#Расчёты-и-добавление-результатов-в-таблицу\" data-toc-modified-id=\"Расчёты-и-добавление-результатов-в-таблицу-4\"><span class=\"toc-item-num\">4&nbsp;&nbsp;</span>Расчёты и добавление результатов в таблицу</a></span></li><li><span><a href=\"#Исследовательский-анализ-данных\" data-toc-modified-id=\"Исследовательский-анализ-данных-5\"><span class=\"toc-item-num\">5&nbsp;&nbsp;</span>Исследовательский анализ данных</a></span><ul class=\"toc-item\"><li><span><a href=\"#Параметры:-площадь,-цена,-число-комнат,-высота-потолков\" data-toc-modified-id=\"Параметры:-площадь,-цена,-число-комнат,-высота-потолков-5.1\"><span class=\"toc-item-num\">5.1&nbsp;&nbsp;</span>Параметры: площадь, цена, число комнат, высота потолков</a></span><ul class=\"toc-item\"><li><span><a href=\"#Вывод\" data-toc-modified-id=\"Вывод-5.1.1\"><span class=\"toc-item-num\">5.1.1&nbsp;&nbsp;</span>Вывод</a></span></li></ul></li><li><span><a href=\"#Время-продажи-квартиры\" data-toc-modified-id=\"Время-продажи-квартиры-5.2\"><span class=\"toc-item-num\">5.2&nbsp;&nbsp;</span>Время продажи квартиры</a></span><ul class=\"toc-item\"><li><span><a href=\"#Вывод\" data-toc-modified-id=\"Вывод-5.2.1\"><span class=\"toc-item-num\">5.2.1&nbsp;&nbsp;</span>Вывод</a></span></li></ul></li><li><span><a href=\"#Факторы-стоимости-квартиры\" data-toc-modified-id=\"Факторы-стоимости-квартиры-5.3\"><span class=\"toc-item-num\">5.3&nbsp;&nbsp;</span>Факторы стоимости квартиры</a></span><ul class=\"toc-item\"><li><span><a href=\"#Вывод\" data-toc-modified-id=\"Вывод-5.3.1\"><span class=\"toc-item-num\">5.3.1&nbsp;&nbsp;</span>Вывод</a></span></li></ul></li><li><span><a href=\"#Топ-10\" data-toc-modified-id=\"Топ-10-5.4\"><span class=\"toc-item-num\">5.4&nbsp;&nbsp;</span>Топ 10</a></span><ul class=\"toc-item\"><li><span><a href=\"#Вывод\" data-toc-modified-id=\"Вывод-5.4.1\"><span class=\"toc-item-num\">5.4.1&nbsp;&nbsp;</span>Вывод</a></span></li></ul></li><li><span><a href=\"#Санкт-Петербург\" data-toc-modified-id=\"Санкт-Петербург-5.5\"><span class=\"toc-item-num\">5.5&nbsp;&nbsp;</span>Санкт-Петербург</a></span><ul class=\"toc-item\"><li><span><a href=\"#Вывод\" data-toc-modified-id=\"Вывод-5.5.1\"><span class=\"toc-item-num\">5.5.1&nbsp;&nbsp;</span>Вывод</a></span></li></ul></li><li><span><a href=\"#Центр\" data-toc-modified-id=\"Центр-5.6\"><span class=\"toc-item-num\">5.6&nbsp;&nbsp;</span>Центр</a></span><ul class=\"toc-item\"><li><span><a href=\"#Вывод\" data-toc-modified-id=\"Вывод-5.6.1\"><span class=\"toc-item-num\">5.6.1&nbsp;&nbsp;</span>Вывод</a></span></li></ul></li></ul></li><li><span><a href=\"#Общий-вывод\" data-toc-modified-id=\"Общий-вывод-6\"><span class=\"toc-item-num\">6&nbsp;&nbsp;</span>Общий вывод</a></span></li></ul></div>"
   ]
  },
  {
   "cell_type": "markdown",
   "metadata": {},
   "source": [
    "# Исследование объявлений о продаже квартир"
   ]
  },
  {
   "cell_type": "markdown",
   "metadata": {},
   "source": [
    "## Описание проекта"
   ]
  },
  {
   "cell_type": "markdown",
   "metadata": {},
   "source": [
    "**Задача:**\n",
    "Выявить ключевые параметры влияющие на стоимость квартиры. \n",
    "\n",
    "**Данные:**\n",
    "\n",
    "Архив объявлений о продаже квартир в Санкт-Петербурге и соседних населённых пунктах за несколько лет.\n",
    "По каждой квартире на продажу доступны два вида данных. Первые вписаны пользователем, вторые получены автоматически на основе картографических данных. Например, расстояние до центра, аэропорта, ближайшего парка и водоёма. "
   ]
  },
  {
   "cell_type": "markdown",
   "metadata": {},
   "source": [
    "## Изучение данных из файла"
   ]
  },
  {
   "cell_type": "code",
   "execution_count": 1,
   "metadata": {},
   "outputs": [],
   "source": [
    "import pandas as pd # импорт библиотеки pandas\n",
    "import matplotlib.pyplot as plt \n",
    "import seaborn as sns"
   ]
  },
  {
   "cell_type": "code",
   "execution_count": 2,
   "metadata": {},
   "outputs": [],
   "source": [
    "data = pd.read_csv('/datasets/real_estate_data.csv', sep='\\t') # чтение файла с данными и сохранение в data"
   ]
  },
  {
   "cell_type": "code",
   "execution_count": 3,
   "metadata": {},
   "outputs": [
    {
     "data": {
      "text/html": [
       "<div>\n",
       "<style scoped>\n",
       "    .dataframe tbody tr th:only-of-type {\n",
       "        vertical-align: middle;\n",
       "    }\n",
       "\n",
       "    .dataframe tbody tr th {\n",
       "        vertical-align: top;\n",
       "    }\n",
       "\n",
       "    .dataframe thead th {\n",
       "        text-align: right;\n",
       "    }\n",
       "</style>\n",
       "<table border=\"1\" class=\"dataframe\">\n",
       "  <thead>\n",
       "    <tr style=\"text-align: right;\">\n",
       "      <th></th>\n",
       "      <th>total_images</th>\n",
       "      <th>last_price</th>\n",
       "      <th>total_area</th>\n",
       "      <th>first_day_exposition</th>\n",
       "      <th>rooms</th>\n",
       "      <th>ceiling_height</th>\n",
       "      <th>floors_total</th>\n",
       "      <th>living_area</th>\n",
       "      <th>floor</th>\n",
       "      <th>is_apartment</th>\n",
       "      <th>...</th>\n",
       "      <th>kitchen_area</th>\n",
       "      <th>balcony</th>\n",
       "      <th>locality_name</th>\n",
       "      <th>airports_nearest</th>\n",
       "      <th>cityCenters_nearest</th>\n",
       "      <th>parks_around3000</th>\n",
       "      <th>parks_nearest</th>\n",
       "      <th>ponds_around3000</th>\n",
       "      <th>ponds_nearest</th>\n",
       "      <th>days_exposition</th>\n",
       "    </tr>\n",
       "  </thead>\n",
       "  <tbody>\n",
       "    <tr>\n",
       "      <th>0</th>\n",
       "      <td>20</td>\n",
       "      <td>13000000.0</td>\n",
       "      <td>108.0</td>\n",
       "      <td>2019-03-07T00:00:00</td>\n",
       "      <td>3</td>\n",
       "      <td>2.70</td>\n",
       "      <td>16.0</td>\n",
       "      <td>51.0</td>\n",
       "      <td>8</td>\n",
       "      <td>NaN</td>\n",
       "      <td>...</td>\n",
       "      <td>25.0</td>\n",
       "      <td>NaN</td>\n",
       "      <td>Санкт-Петербург</td>\n",
       "      <td>18863.0</td>\n",
       "      <td>16028.0</td>\n",
       "      <td>1.0</td>\n",
       "      <td>482.0</td>\n",
       "      <td>2.0</td>\n",
       "      <td>755.0</td>\n",
       "      <td>NaN</td>\n",
       "    </tr>\n",
       "    <tr>\n",
       "      <th>1</th>\n",
       "      <td>7</td>\n",
       "      <td>3350000.0</td>\n",
       "      <td>40.4</td>\n",
       "      <td>2018-12-04T00:00:00</td>\n",
       "      <td>1</td>\n",
       "      <td>NaN</td>\n",
       "      <td>11.0</td>\n",
       "      <td>18.6</td>\n",
       "      <td>1</td>\n",
       "      <td>NaN</td>\n",
       "      <td>...</td>\n",
       "      <td>11.0</td>\n",
       "      <td>2.0</td>\n",
       "      <td>посёлок Шушары</td>\n",
       "      <td>12817.0</td>\n",
       "      <td>18603.0</td>\n",
       "      <td>0.0</td>\n",
       "      <td>NaN</td>\n",
       "      <td>0.0</td>\n",
       "      <td>NaN</td>\n",
       "      <td>81.0</td>\n",
       "    </tr>\n",
       "    <tr>\n",
       "      <th>2</th>\n",
       "      <td>10</td>\n",
       "      <td>5196000.0</td>\n",
       "      <td>56.0</td>\n",
       "      <td>2015-08-20T00:00:00</td>\n",
       "      <td>2</td>\n",
       "      <td>NaN</td>\n",
       "      <td>5.0</td>\n",
       "      <td>34.3</td>\n",
       "      <td>4</td>\n",
       "      <td>NaN</td>\n",
       "      <td>...</td>\n",
       "      <td>8.3</td>\n",
       "      <td>0.0</td>\n",
       "      <td>Санкт-Петербург</td>\n",
       "      <td>21741.0</td>\n",
       "      <td>13933.0</td>\n",
       "      <td>1.0</td>\n",
       "      <td>90.0</td>\n",
       "      <td>2.0</td>\n",
       "      <td>574.0</td>\n",
       "      <td>558.0</td>\n",
       "    </tr>\n",
       "    <tr>\n",
       "      <th>3</th>\n",
       "      <td>0</td>\n",
       "      <td>64900000.0</td>\n",
       "      <td>159.0</td>\n",
       "      <td>2015-07-24T00:00:00</td>\n",
       "      <td>3</td>\n",
       "      <td>NaN</td>\n",
       "      <td>14.0</td>\n",
       "      <td>NaN</td>\n",
       "      <td>9</td>\n",
       "      <td>NaN</td>\n",
       "      <td>...</td>\n",
       "      <td>NaN</td>\n",
       "      <td>0.0</td>\n",
       "      <td>Санкт-Петербург</td>\n",
       "      <td>28098.0</td>\n",
       "      <td>6800.0</td>\n",
       "      <td>2.0</td>\n",
       "      <td>84.0</td>\n",
       "      <td>3.0</td>\n",
       "      <td>234.0</td>\n",
       "      <td>424.0</td>\n",
       "    </tr>\n",
       "    <tr>\n",
       "      <th>4</th>\n",
       "      <td>2</td>\n",
       "      <td>10000000.0</td>\n",
       "      <td>100.0</td>\n",
       "      <td>2018-06-19T00:00:00</td>\n",
       "      <td>2</td>\n",
       "      <td>3.03</td>\n",
       "      <td>14.0</td>\n",
       "      <td>32.0</td>\n",
       "      <td>13</td>\n",
       "      <td>NaN</td>\n",
       "      <td>...</td>\n",
       "      <td>41.0</td>\n",
       "      <td>NaN</td>\n",
       "      <td>Санкт-Петербург</td>\n",
       "      <td>31856.0</td>\n",
       "      <td>8098.0</td>\n",
       "      <td>2.0</td>\n",
       "      <td>112.0</td>\n",
       "      <td>1.0</td>\n",
       "      <td>48.0</td>\n",
       "      <td>121.0</td>\n",
       "    </tr>\n",
       "  </tbody>\n",
       "</table>\n",
       "<p>5 rows × 22 columns</p>\n",
       "</div>"
      ],
      "text/plain": [
       "   total_images  last_price  total_area first_day_exposition  rooms  \\\n",
       "0            20  13000000.0       108.0  2019-03-07T00:00:00      3   \n",
       "1             7   3350000.0        40.4  2018-12-04T00:00:00      1   \n",
       "2            10   5196000.0        56.0  2015-08-20T00:00:00      2   \n",
       "3             0  64900000.0       159.0  2015-07-24T00:00:00      3   \n",
       "4             2  10000000.0       100.0  2018-06-19T00:00:00      2   \n",
       "\n",
       "   ceiling_height  floors_total  living_area  floor is_apartment  ...  \\\n",
       "0            2.70          16.0         51.0      8          NaN  ...   \n",
       "1             NaN          11.0         18.6      1          NaN  ...   \n",
       "2             NaN           5.0         34.3      4          NaN  ...   \n",
       "3             NaN          14.0          NaN      9          NaN  ...   \n",
       "4            3.03          14.0         32.0     13          NaN  ...   \n",
       "\n",
       "   kitchen_area  balcony    locality_name  airports_nearest  \\\n",
       "0          25.0      NaN  Санкт-Петербург           18863.0   \n",
       "1          11.0      2.0   посёлок Шушары           12817.0   \n",
       "2           8.3      0.0  Санкт-Петербург           21741.0   \n",
       "3           NaN      0.0  Санкт-Петербург           28098.0   \n",
       "4          41.0      NaN  Санкт-Петербург           31856.0   \n",
       "\n",
       "  cityCenters_nearest  parks_around3000  parks_nearest  ponds_around3000  \\\n",
       "0             16028.0               1.0          482.0               2.0   \n",
       "1             18603.0               0.0            NaN               0.0   \n",
       "2             13933.0               1.0           90.0               2.0   \n",
       "3              6800.0               2.0           84.0               3.0   \n",
       "4              8098.0               2.0          112.0               1.0   \n",
       "\n",
       "   ponds_nearest  days_exposition  \n",
       "0          755.0              NaN  \n",
       "1            NaN             81.0  \n",
       "2          574.0            558.0  \n",
       "3          234.0            424.0  \n",
       "4           48.0            121.0  \n",
       "\n",
       "[5 rows x 22 columns]"
      ]
     },
     "execution_count": 3,
     "metadata": {},
     "output_type": "execute_result"
    }
   ],
   "source": [
    "data.head() # получение первых 5 строк таблицы data"
   ]
  },
  {
   "cell_type": "code",
   "execution_count": 4,
   "metadata": {
    "scrolled": false
   },
   "outputs": [
    {
     "name": "stdout",
     "output_type": "stream",
     "text": [
      "<class 'pandas.core.frame.DataFrame'>\n",
      "RangeIndex: 23699 entries, 0 to 23698\n",
      "Data columns (total 22 columns):\n",
      " #   Column                Non-Null Count  Dtype  \n",
      "---  ------                --------------  -----  \n",
      " 0   total_images          23699 non-null  int64  \n",
      " 1   last_price            23699 non-null  float64\n",
      " 2   total_area            23699 non-null  float64\n",
      " 3   first_day_exposition  23699 non-null  object \n",
      " 4   rooms                 23699 non-null  int64  \n",
      " 5   ceiling_height        14504 non-null  float64\n",
      " 6   floors_total          23613 non-null  float64\n",
      " 7   living_area           21796 non-null  float64\n",
      " 8   floor                 23699 non-null  int64  \n",
      " 9   is_apartment          2775 non-null   object \n",
      " 10  studio                23699 non-null  bool   \n",
      " 11  open_plan             23699 non-null  bool   \n",
      " 12  kitchen_area          21421 non-null  float64\n",
      " 13  balcony               12180 non-null  float64\n",
      " 14  locality_name         23650 non-null  object \n",
      " 15  airports_nearest      18157 non-null  float64\n",
      " 16  cityCenters_nearest   18180 non-null  float64\n",
      " 17  parks_around3000      18181 non-null  float64\n",
      " 18  parks_nearest         8079 non-null   float64\n",
      " 19  ponds_around3000      18181 non-null  float64\n",
      " 20  ponds_nearest         9110 non-null   float64\n",
      " 21  days_exposition       20518 non-null  float64\n",
      "dtypes: bool(2), float64(14), int64(3), object(3)\n",
      "memory usage: 3.7+ MB\n"
     ]
    }
   ],
   "source": [
    "data.info() # получение общей информации о данных в таблице data"
   ]
  },
  {
   "cell_type": "code",
   "execution_count": 5,
   "metadata": {},
   "outputs": [],
   "source": [
    "data = data.rename(columns={  # переименование колонок\n",
    "     'cityCenters_nearest': 'city_centers_nearest',\n",
    "     'parks_around3000':'parks_around_3000',\n",
    "     'ponds_around3000': 'ponds_around_3000'})"
   ]
  },
  {
   "cell_type": "markdown",
   "metadata": {},
   "source": [
    "### Вывод"
   ]
  },
  {
   "cell_type": "markdown",
   "metadata": {},
   "source": [
    "- Исходный датасет имел разделение не запятыми, а знаком табуляции. \n",
    "- Датасет содержит 22 колонки и 23699 строк. \n",
    "- Колонки с именами cityCenters_nearest, parks_around3000 и ponds_around3000 не соответствовали единому стилю.\n",
    "- В ряде колонок наблюдаются существенные количество пропусков, необходима предобработка."
   ]
  },
  {
   "cell_type": "markdown",
   "metadata": {},
   "source": [
    "## Предобработка данных"
   ]
  },
  {
   "cell_type": "markdown",
   "metadata": {},
   "source": [
    "### Пропущенные значения"
   ]
  },
  {
   "cell_type": "code",
   "execution_count": 6,
   "metadata": {},
   "outputs": [
    {
     "data": {
      "text/plain": [
       "total_images                0\n",
       "last_price                  0\n",
       "total_area                  0\n",
       "first_day_exposition        0\n",
       "rooms                       0\n",
       "ceiling_height           9195\n",
       "floors_total               86\n",
       "living_area              1903\n",
       "floor                       0\n",
       "is_apartment            20924\n",
       "studio                      0\n",
       "open_plan                   0\n",
       "kitchen_area             2278\n",
       "balcony                 11519\n",
       "locality_name              49\n",
       "airports_nearest         5542\n",
       "city_centers_nearest     5519\n",
       "parks_around_3000        5518\n",
       "parks_nearest           15620\n",
       "ponds_around_3000        5518\n",
       "ponds_nearest           14589\n",
       "days_exposition          3181\n",
       "dtype: int64"
      ]
     },
     "execution_count": 6,
     "metadata": {},
     "output_type": "execute_result"
    }
   ],
   "source": [
    "data.isna().sum() # подсчёт пропусков"
   ]
  },
  {
   "cell_type": "code",
   "execution_count": 7,
   "metadata": {},
   "outputs": [
    {
     "data": {
      "text/html": [
       "<div>\n",
       "<style scoped>\n",
       "    .dataframe tbody tr th:only-of-type {\n",
       "        vertical-align: middle;\n",
       "    }\n",
       "\n",
       "    .dataframe tbody tr th {\n",
       "        vertical-align: top;\n",
       "    }\n",
       "\n",
       "    .dataframe thead th {\n",
       "        text-align: right;\n",
       "    }\n",
       "</style>\n",
       "<table border=\"1\" class=\"dataframe\">\n",
       "  <thead>\n",
       "    <tr style=\"text-align: right;\">\n",
       "      <th></th>\n",
       "      <th>total_images</th>\n",
       "      <th>last_price</th>\n",
       "      <th>total_area</th>\n",
       "      <th>rooms</th>\n",
       "      <th>ceiling_height</th>\n",
       "      <th>floors_total</th>\n",
       "      <th>living_area</th>\n",
       "      <th>floor</th>\n",
       "      <th>kitchen_area</th>\n",
       "      <th>balcony</th>\n",
       "      <th>airports_nearest</th>\n",
       "      <th>city_centers_nearest</th>\n",
       "      <th>parks_around_3000</th>\n",
       "      <th>parks_nearest</th>\n",
       "      <th>ponds_around_3000</th>\n",
       "      <th>ponds_nearest</th>\n",
       "      <th>days_exposition</th>\n",
       "    </tr>\n",
       "  </thead>\n",
       "  <tbody>\n",
       "    <tr>\n",
       "      <th>count</th>\n",
       "      <td>23699.000000</td>\n",
       "      <td>2.369900e+04</td>\n",
       "      <td>23699.000000</td>\n",
       "      <td>23699.000000</td>\n",
       "      <td>14504.000000</td>\n",
       "      <td>23613.000000</td>\n",
       "      <td>21796.000000</td>\n",
       "      <td>23699.000000</td>\n",
       "      <td>21421.000000</td>\n",
       "      <td>12180.000000</td>\n",
       "      <td>18157.000000</td>\n",
       "      <td>18180.000000</td>\n",
       "      <td>18181.000000</td>\n",
       "      <td>8079.000000</td>\n",
       "      <td>18181.000000</td>\n",
       "      <td>9110.000000</td>\n",
       "      <td>20518.000000</td>\n",
       "    </tr>\n",
       "    <tr>\n",
       "      <th>mean</th>\n",
       "      <td>9.858475</td>\n",
       "      <td>6.541549e+06</td>\n",
       "      <td>60.348651</td>\n",
       "      <td>2.070636</td>\n",
       "      <td>2.771499</td>\n",
       "      <td>10.673824</td>\n",
       "      <td>34.457852</td>\n",
       "      <td>5.892358</td>\n",
       "      <td>10.569807</td>\n",
       "      <td>1.150082</td>\n",
       "      <td>28793.672193</td>\n",
       "      <td>14191.277833</td>\n",
       "      <td>0.611408</td>\n",
       "      <td>490.804555</td>\n",
       "      <td>0.770255</td>\n",
       "      <td>517.980900</td>\n",
       "      <td>180.888634</td>\n",
       "    </tr>\n",
       "    <tr>\n",
       "      <th>std</th>\n",
       "      <td>5.682529</td>\n",
       "      <td>1.088701e+07</td>\n",
       "      <td>35.654083</td>\n",
       "      <td>1.078405</td>\n",
       "      <td>1.261056</td>\n",
       "      <td>6.597173</td>\n",
       "      <td>22.030445</td>\n",
       "      <td>4.885249</td>\n",
       "      <td>5.905438</td>\n",
       "      <td>1.071300</td>\n",
       "      <td>12630.880622</td>\n",
       "      <td>8608.386210</td>\n",
       "      <td>0.802074</td>\n",
       "      <td>342.317995</td>\n",
       "      <td>0.938346</td>\n",
       "      <td>277.720643</td>\n",
       "      <td>219.727988</td>\n",
       "    </tr>\n",
       "    <tr>\n",
       "      <th>min</th>\n",
       "      <td>0.000000</td>\n",
       "      <td>1.219000e+04</td>\n",
       "      <td>12.000000</td>\n",
       "      <td>0.000000</td>\n",
       "      <td>1.000000</td>\n",
       "      <td>1.000000</td>\n",
       "      <td>2.000000</td>\n",
       "      <td>1.000000</td>\n",
       "      <td>1.300000</td>\n",
       "      <td>0.000000</td>\n",
       "      <td>0.000000</td>\n",
       "      <td>181.000000</td>\n",
       "      <td>0.000000</td>\n",
       "      <td>1.000000</td>\n",
       "      <td>0.000000</td>\n",
       "      <td>13.000000</td>\n",
       "      <td>1.000000</td>\n",
       "    </tr>\n",
       "    <tr>\n",
       "      <th>25%</th>\n",
       "      <td>6.000000</td>\n",
       "      <td>3.400000e+06</td>\n",
       "      <td>40.000000</td>\n",
       "      <td>1.000000</td>\n",
       "      <td>2.520000</td>\n",
       "      <td>5.000000</td>\n",
       "      <td>18.600000</td>\n",
       "      <td>2.000000</td>\n",
       "      <td>7.000000</td>\n",
       "      <td>0.000000</td>\n",
       "      <td>18585.000000</td>\n",
       "      <td>9238.000000</td>\n",
       "      <td>0.000000</td>\n",
       "      <td>288.000000</td>\n",
       "      <td>0.000000</td>\n",
       "      <td>294.000000</td>\n",
       "      <td>45.000000</td>\n",
       "    </tr>\n",
       "    <tr>\n",
       "      <th>50%</th>\n",
       "      <td>9.000000</td>\n",
       "      <td>4.650000e+06</td>\n",
       "      <td>52.000000</td>\n",
       "      <td>2.000000</td>\n",
       "      <td>2.650000</td>\n",
       "      <td>9.000000</td>\n",
       "      <td>30.000000</td>\n",
       "      <td>4.000000</td>\n",
       "      <td>9.100000</td>\n",
       "      <td>1.000000</td>\n",
       "      <td>26726.000000</td>\n",
       "      <td>13098.500000</td>\n",
       "      <td>0.000000</td>\n",
       "      <td>455.000000</td>\n",
       "      <td>1.000000</td>\n",
       "      <td>502.000000</td>\n",
       "      <td>95.000000</td>\n",
       "    </tr>\n",
       "    <tr>\n",
       "      <th>75%</th>\n",
       "      <td>14.000000</td>\n",
       "      <td>6.800000e+06</td>\n",
       "      <td>69.900000</td>\n",
       "      <td>3.000000</td>\n",
       "      <td>2.800000</td>\n",
       "      <td>16.000000</td>\n",
       "      <td>42.300000</td>\n",
       "      <td>8.000000</td>\n",
       "      <td>12.000000</td>\n",
       "      <td>2.000000</td>\n",
       "      <td>37273.000000</td>\n",
       "      <td>16293.000000</td>\n",
       "      <td>1.000000</td>\n",
       "      <td>612.000000</td>\n",
       "      <td>1.000000</td>\n",
       "      <td>729.000000</td>\n",
       "      <td>232.000000</td>\n",
       "    </tr>\n",
       "    <tr>\n",
       "      <th>max</th>\n",
       "      <td>50.000000</td>\n",
       "      <td>7.630000e+08</td>\n",
       "      <td>900.000000</td>\n",
       "      <td>19.000000</td>\n",
       "      <td>100.000000</td>\n",
       "      <td>60.000000</td>\n",
       "      <td>409.700000</td>\n",
       "      <td>33.000000</td>\n",
       "      <td>112.000000</td>\n",
       "      <td>5.000000</td>\n",
       "      <td>84869.000000</td>\n",
       "      <td>65968.000000</td>\n",
       "      <td>3.000000</td>\n",
       "      <td>3190.000000</td>\n",
       "      <td>3.000000</td>\n",
       "      <td>1344.000000</td>\n",
       "      <td>1580.000000</td>\n",
       "    </tr>\n",
       "  </tbody>\n",
       "</table>\n",
       "</div>"
      ],
      "text/plain": [
       "       total_images    last_price    total_area         rooms  ceiling_height  \\\n",
       "count  23699.000000  2.369900e+04  23699.000000  23699.000000    14504.000000   \n",
       "mean       9.858475  6.541549e+06     60.348651      2.070636        2.771499   \n",
       "std        5.682529  1.088701e+07     35.654083      1.078405        1.261056   \n",
       "min        0.000000  1.219000e+04     12.000000      0.000000        1.000000   \n",
       "25%        6.000000  3.400000e+06     40.000000      1.000000        2.520000   \n",
       "50%        9.000000  4.650000e+06     52.000000      2.000000        2.650000   \n",
       "75%       14.000000  6.800000e+06     69.900000      3.000000        2.800000   \n",
       "max       50.000000  7.630000e+08    900.000000     19.000000      100.000000   \n",
       "\n",
       "       floors_total   living_area         floor  kitchen_area       balcony  \\\n",
       "count  23613.000000  21796.000000  23699.000000  21421.000000  12180.000000   \n",
       "mean      10.673824     34.457852      5.892358     10.569807      1.150082   \n",
       "std        6.597173     22.030445      4.885249      5.905438      1.071300   \n",
       "min        1.000000      2.000000      1.000000      1.300000      0.000000   \n",
       "25%        5.000000     18.600000      2.000000      7.000000      0.000000   \n",
       "50%        9.000000     30.000000      4.000000      9.100000      1.000000   \n",
       "75%       16.000000     42.300000      8.000000     12.000000      2.000000   \n",
       "max       60.000000    409.700000     33.000000    112.000000      5.000000   \n",
       "\n",
       "       airports_nearest  city_centers_nearest  parks_around_3000  \\\n",
       "count      18157.000000          18180.000000       18181.000000   \n",
       "mean       28793.672193          14191.277833           0.611408   \n",
       "std        12630.880622           8608.386210           0.802074   \n",
       "min            0.000000            181.000000           0.000000   \n",
       "25%        18585.000000           9238.000000           0.000000   \n",
       "50%        26726.000000          13098.500000           0.000000   \n",
       "75%        37273.000000          16293.000000           1.000000   \n",
       "max        84869.000000          65968.000000           3.000000   \n",
       "\n",
       "       parks_nearest  ponds_around_3000  ponds_nearest  days_exposition  \n",
       "count    8079.000000       18181.000000    9110.000000     20518.000000  \n",
       "mean      490.804555           0.770255     517.980900       180.888634  \n",
       "std       342.317995           0.938346     277.720643       219.727988  \n",
       "min         1.000000           0.000000      13.000000         1.000000  \n",
       "25%       288.000000           0.000000     294.000000        45.000000  \n",
       "50%       455.000000           1.000000     502.000000        95.000000  \n",
       "75%       612.000000           1.000000     729.000000       232.000000  \n",
       "max      3190.000000           3.000000    1344.000000      1580.000000  "
      ]
     },
     "execution_count": 7,
     "metadata": {},
     "output_type": "execute_result"
    }
   ],
   "source": [
    "data.describe()"
   ]
  },
  {
   "cell_type": "markdown",
   "metadata": {},
   "source": [
    "#### Колонка `ceiling_height` "
   ]
  },
  {
   "cell_type": "code",
   "execution_count": 8,
   "metadata": {},
   "outputs": [
    {
     "data": {
      "text/plain": [
       "0.388"
      ]
     },
     "execution_count": 8,
     "metadata": {},
     "output_type": "execute_result"
    }
   ],
   "source": [
    "round(data['ceiling_height'].isna().sum() / data.shape[0], 3) # доля пропусков для колонки ceiling_heigh"
   ]
  },
  {
   "cell_type": "code",
   "execution_count": 9,
   "metadata": {},
   "outputs": [
    {
     "data": {
      "text/plain": [
       "2.50    3515\n",
       "2.60    1646\n",
       "2.70    1574\n",
       "3.00    1112\n",
       "2.80     993\n",
       "2.55     980\n",
       "2.75     910\n",
       "2.65     676\n",
       "3.20     277\n",
       "3.10     203\n",
       "Name: ceiling_height, dtype: int64"
      ]
     },
     "execution_count": 9,
     "metadata": {},
     "output_type": "execute_result"
    }
   ],
   "source": [
    "data.ceiling_height.value_counts().head(10)"
   ]
  },
  {
   "cell_type": "markdown",
   "metadata": {},
   "source": [
    "##### Вывод"
   ]
  },
  {
   "cell_type": "markdown",
   "metadata": {},
   "source": [
    "Колонка `ceiling_height` имеет довольно высокий процент пропусков пости 39%\n",
    "Причина может быть следующей: ручной ввод пользователем этих данных, поля при вводе скорее всего необязательное, не все знают точную высоту потолков или считают эту информацию неважной для продажи квартиры.\n",
    "Пропуске в колонку можно заполнить медийными значениями, среднее и медиана очень близки, но среднее в данном случае сильнее (среднее больше медианы) влияют аномально большие значения такие как например 100 м максимальное значения. Но близость этих значений, говорит нам, что данные этих аномалий не так уж и много. Но ведение такого числа медиан сильно исказить данные. изменений вносить не будем."
   ]
  },
  {
   "cell_type": "markdown",
   "metadata": {},
   "source": [
    "#### Колонка `floors_total` "
   ]
  },
  {
   "cell_type": "code",
   "execution_count": 10,
   "metadata": {},
   "outputs": [
    {
     "data": {
      "text/plain": [
       "0.004"
      ]
     },
     "execution_count": 10,
     "metadata": {},
     "output_type": "execute_result"
    }
   ],
   "source": [
    "round(data['floors_total'].isna().sum() / data.shape[0], 3) # доля пропусков для колонки floors_total"
   ]
  },
  {
   "cell_type": "code",
   "execution_count": 11,
   "metadata": {},
   "outputs": [],
   "source": [
    "data.loc[data['floors_total'].isna(), 'floors_total'] = data['floor'] + 1  # заполнения пропусков"
   ]
  },
  {
   "cell_type": "markdown",
   "metadata": {},
   "source": [
    "##### Вывод"
   ]
  },
  {
   "cell_type": "markdown",
   "metadata": {},
   "source": [
    "Колонка `floors_total` низкий процент пропусков мене 0.5 %\n",
    "Причина может быть следующей: ручной ввод пользователем этих данных, поля при вводе скорее всего необязательное. Может число этаже различно для разных секций дома, хотя в таком случае обычно указывают максимальное значение.\n",
    "Есть 2 варианта заполнения:\n",
    "присвоить `floors_total` значение `floor`, тем самым сделав квартиру на последнем этаже.\n",
    "присвоить `floors_total` значение `floor`+1, тем самым сделав квартиру на не на последнем этаж.\n",
    "\n",
    "Т.к. процент пропусков незначителен, и для избежания дальнейших коллизий с одноэтажными домами, был выбран 2 вариант."
   ]
  },
  {
   "cell_type": "markdown",
   "metadata": {},
   "source": [
    "#### Колонки `living_area` и `kitchen_area` "
   ]
  },
  {
   "cell_type": "code",
   "execution_count": 12,
   "metadata": {},
   "outputs": [
    {
     "data": {
      "text/plain": [
       "0.11464618760285245"
      ]
     },
     "execution_count": 12,
     "metadata": {},
     "output_type": "execute_result"
    }
   ],
   "source": [
    "len(data[(data['kitchen_area'].isna()) | (data['living_area'].isna())]) / len(data) # доля пропусков обединение по площади кухни или жилой площади"
   ]
  },
  {
   "cell_type": "markdown",
   "metadata": {},
   "source": [
    "##### Вывод"
   ]
  },
  {
   "cell_type": "markdown",
   "metadata": {},
   "source": [
    "Для колонок `living_area` и `kitchen_area`по первой или второй общий показатель пропусков  11 % процент.\n",
    "Причина может быть следующей: ручной ввод пользователем этих данных, поля при вводе скорее всего необязательное. Пользователи могут не иметь точных данных.\n",
    "К сожалению заполнить эти пропуски не получится, т.к. они хоть и зависят от данных в колонке `total_area`,  исследование этой зависимость отдельная задача. Также есть квартиры-студии и квартиры со свободной планировкой. "
   ]
  },
  {
   "cell_type": "markdown",
   "metadata": {},
   "source": [
    "#### Колонка `is_apartment` и `balcony`"
   ]
  },
  {
   "cell_type": "code",
   "execution_count": 13,
   "metadata": {},
   "outputs": [
    {
     "data": {
      "text/plain": [
       "False    2725\n",
       "True       50\n",
       "Name: is_apartment, dtype: int64"
      ]
     },
     "execution_count": 13,
     "metadata": {},
     "output_type": "execute_result"
    }
   ],
   "source": [
    "data['is_apartment'].value_counts() # количество значений колонки is_apartment"
   ]
  },
  {
   "cell_type": "code",
   "execution_count": 14,
   "metadata": {},
   "outputs": [],
   "source": [
    "data['is_apartment'] = data['is_apartment'].fillna(False) # замена пропущенных значений для is_apartment на False"
   ]
  },
  {
   "cell_type": "code",
   "execution_count": 15,
   "metadata": {},
   "outputs": [],
   "source": [
    "data['balcony'] = data['balcony'].fillna(0) # замена пропущенных значений для balcony на 0"
   ]
  },
  {
   "cell_type": "markdown",
   "metadata": {},
   "source": [
    "##### Вывод"
   ]
  },
  {
   "cell_type": "markdown",
   "metadata": {},
   "source": [
    "Для колони is_apartment наблюдается большое количество пропусков. Это может быть связано с агрегацией данных из разных источников, а т.к апартаменты довольно редко явление , скорее всего не все агрегаторы данных поддерживают эту сущность. \n",
    "Все пропуски заполнить значением False.\n",
    "Для колони balcony причина может быть следующей: ручной ввод пользователем этих данных, поля при вводе скорее всего необязательное. При отсутствии балкона просто не вписывался 0. Все пропуски заполнить значением 0."
   ]
  },
  {
   "cell_type": "markdown",
   "metadata": {},
   "source": [
    "#### Колонка `locality_name` "
   ]
  },
  {
   "cell_type": "code",
   "execution_count": 16,
   "metadata": {},
   "outputs": [
    {
     "data": {
      "text/plain": [
       "0.002"
      ]
     },
     "execution_count": 16,
     "metadata": {},
     "output_type": "execute_result"
    }
   ],
   "source": [
    "round(len(data[data['locality_name'].isna()]) / len(data), 3)  # доля пропусков для locality_name"
   ]
  },
  {
   "cell_type": "code",
   "execution_count": 17,
   "metadata": {},
   "outputs": [
    {
     "data": {
      "text/plain": [
       "Санкт-Петербург                                      15721\n",
       "посёлок Мурино                                         522\n",
       "посёлок Шушары                                         440\n",
       "Всеволожск                                             398\n",
       "Пушкин                                                 369\n",
       "                                                     ...  \n",
       "посёлок городского типа Рябово                           1\n",
       "деревня Зимитицы                                         1\n",
       "село Никольское                                          1\n",
       "посёлок при железнодорожной станции Приветнинское        1\n",
       "посёлок Алексеевка                                       1\n",
       "Name: locality_name, Length: 364, dtype: int64"
      ]
     },
     "execution_count": 17,
     "metadata": {},
     "output_type": "execute_result"
    }
   ],
   "source": [
    "data['locality_name'].value_counts() # количество значений колонки locality_name"
   ]
  },
  {
   "cell_type": "markdown",
   "metadata": {},
   "source": [
    "##### Вывод"
   ]
  },
  {
   "cell_type": "markdown",
   "metadata": {},
   "source": [
    "Колонка `locality_namel` низкий процент пропусков мене 0.2 %\n",
    "Причина может быть следующей пользователь не нашел свой населенный пункт в имеющемся списке, что мало вероятно, скорее всего для Санкт-Петербург, характерна необходимость выбора сначала региона Санкт-Петербурга, а потом населенного пункта Санкт-Петербург, второе выбор мог не производиться. Пропущенные значения могут быть именно для Санкт-Петербурга, как населенного пункта.\n",
    "\n",
    "Т.к. процент пропусков незначителен предлагаю не менять это поле, можно конечно присвоить Санкт-Петербург, но важно все же сообщить об этой проблеме. "
   ]
  },
  {
   "cell_type": "markdown",
   "metadata": {},
   "source": [
    "#### Колонки `airports_nearest`, `city_centers_nearest`, `parks_nearest`, `ponds_nearest`"
   ]
  },
  {
   "cell_type": "code",
   "execution_count": 18,
   "metadata": {},
   "outputs": [
    {
     "data": {
      "text/plain": [
       "airports_nearest          85\n",
       "city_centers_nearest      61\n",
       "parks_nearest           8437\n",
       "ponds_nearest           7738\n",
       "dtype: int64"
      ]
     },
     "execution_count": 18,
     "metadata": {},
     "output_type": "execute_result"
    }
   ],
   "source": [
    "data.query('locality_name == \"Санкт-Петербург\"')[['airports_nearest', 'city_centers_nearest', 'parks_nearest', 'ponds_nearest']].isna().sum()"
   ]
  },
  {
   "cell_type": "markdown",
   "metadata": {},
   "source": [
    "##### Вывод"
   ]
  },
  {
   "cell_type": "markdown",
   "metadata": {},
   "source": [
    "Колонки `airports_nearest`, `city_centers_nearest`, `parks_nearest`, `ponds_nearest` заполнялись автоматически, может быть несколько проблем:\n",
    "- адрес объекта недвижимости не смог сопоставить с реальными картографическими данными;\n",
    "- объекта недвижимости сильно удален от того или иного объекта и система посчитала что рядом с ним просто ничего нет или он не попадает в заданные ограничения. Это наглядно видно для Санкт-Петербурга где на 15721 записей приходится всего по 85 и 61 запись с пропусками для расстояния до аэропорта и центра соответственно, а для всех остальных населенных пунктов это не определено совсем.\n",
    "Пропуски  заполнять нецелесообразно."
   ]
  },
  {
   "cell_type": "markdown",
   "metadata": {},
   "source": [
    "#### Колонки `parks_around_3000`, `ponds_around_3000`"
   ]
  },
  {
   "cell_type": "code",
   "execution_count": 19,
   "metadata": {},
   "outputs": [],
   "source": [
    "data['parks_around_3000'] = data['parks_around_3000'].fillna(0) # замена пропущенных значений для parks_around_3000 на 0"
   ]
  },
  {
   "cell_type": "code",
   "execution_count": 20,
   "metadata": {},
   "outputs": [],
   "source": [
    "data['ponds_around_3000'] = data['ponds_around_3000'].fillna(0) # замена пропущенных значений для ponds_around_3000 на 0"
   ]
  },
  {
   "cell_type": "markdown",
   "metadata": {},
   "source": [
    "##### Вывод"
   ]
  },
  {
   "cell_type": "markdown",
   "metadata": {},
   "source": [
    "Колонки `parks_around_3000` и `ponds_around_3000` также связаны с проблемой выше, скорее всего пропуски связаны с 0 значениями или отсутствием данных. Пропуски заполнены значение 0."
   ]
  },
  {
   "cell_type": "markdown",
   "metadata": {},
   "source": [
    "#### Колонка `days_exposition`"
   ]
  },
  {
   "cell_type": "markdown",
   "metadata": {},
   "source": [
    "Колонка `days_exposition` скорее всего пропуски связаны с не снятием объявления или отсутствием такой информации. Можно заполнить медианами значениями, но разница между средним и медианным значением почти в два раза, что говорит о серьезных выбросах, необходим дальнейший анализ. Медиана может сильно исказить результаты."
   ]
  },
  {
   "cell_type": "code",
   "execution_count": 21,
   "metadata": {},
   "outputs": [
    {
     "data": {
      "text/plain": [
       "total_images                0\n",
       "last_price                  0\n",
       "total_area                  0\n",
       "first_day_exposition        0\n",
       "rooms                       0\n",
       "ceiling_height           9195\n",
       "floors_total                0\n",
       "living_area              1903\n",
       "floor                       0\n",
       "is_apartment                0\n",
       "studio                      0\n",
       "open_plan                   0\n",
       "kitchen_area             2278\n",
       "balcony                     0\n",
       "locality_name              49\n",
       "airports_nearest         5542\n",
       "city_centers_nearest     5519\n",
       "parks_around_3000           0\n",
       "parks_nearest           15620\n",
       "ponds_around_3000           0\n",
       "ponds_nearest           14589\n",
       "days_exposition          3181\n",
       "dtype: int64"
      ]
     },
     "execution_count": 21,
     "metadata": {},
     "output_type": "execute_result"
    }
   ],
   "source": [
    "data.isna().sum() # подсчёт пропусков после предобработке"
   ]
  },
  {
   "cell_type": "markdown",
   "metadata": {},
   "source": [
    "### Приведение данных к нужному типу"
   ]
  },
  {
   "cell_type": "markdown",
   "metadata": {},
   "source": [
    "- `first_day_exposition` (object) - приведём к типу datetime для возможности применения специальных методов, и избавимся от  ненужной информации о часах, минутах и секундах, для всех записей 00:00:00. \n",
    "- `floors_total` (float64) – приведём к типу int для сокращения выделяемой памяти.\n",
    "- `is_apartment`object - приведём к типу bool для сокращения выделяемой памяти и для возможности применения специальных методов.\n",
    "- `balcony` (float64) – приведём к типу int для сокращения выделяемой памяти.\n",
    "\n",
    "- `parks_around_3000`(float64) - приведём к типу int для сокращения выделяемой памяти.\n",
    "\n",
    "- `ponds_around_3000`(float64) - приведём к типу int для сокращения выделяемой памяти.\n"
   ]
  },
  {
   "cell_type": "code",
   "execution_count": 22,
   "metadata": {},
   "outputs": [],
   "source": [
    "columns_type = {              #словарь колонка тип данных, для автоматизации замены\n",
    "    'floors_total': 'int',\n",
    "    'is_apartment': 'bool',\n",
    "    'balcony': 'int',\n",
    "    'parks_around_3000': 'int',\n",
    "    'ponds_around_3000': 'int',\n",
    "    'first_day_exposition': 'datetime'\n",
    "}\n",
    "\n",
    "\n",
    "for key, val in columns_type.items():# изменение типа данных в колонке \n",
    "    \n",
    "    try:                     # метод не орабатывает ошибки \n",
    "        if val == 'datetime': # смена типа данных для типа datetime\n",
    "            data[key] = pd.to_datetime(data[key], format='%Y-%m-%dT%H:%M:%S')\n",
    "        else:\n",
    "            data[key] = data[key].astype(val) # смена типа данных для остальных типов данных\n",
    "    except:\n",
    "        print(f'В{key} тип данных не изменен на {val}')"
   ]
  },
  {
   "cell_type": "code",
   "execution_count": 23,
   "metadata": {},
   "outputs": [
    {
     "name": "stdout",
     "output_type": "stream",
     "text": [
      "<class 'pandas.core.frame.DataFrame'>\n",
      "RangeIndex: 23699 entries, 0 to 23698\n",
      "Data columns (total 6 columns):\n",
      " #   Column                Non-Null Count  Dtype         \n",
      "---  ------                --------------  -----         \n",
      " 0   floors_total          23699 non-null  int64         \n",
      " 1   is_apartment          23699 non-null  bool          \n",
      " 2   balcony               23699 non-null  int64         \n",
      " 3   parks_around_3000     23699 non-null  int64         \n",
      " 4   ponds_around_3000     23699 non-null  int64         \n",
      " 5   first_day_exposition  23699 non-null  datetime64[ns]\n",
      "dtypes: bool(1), datetime64[ns](1), int64(4)\n",
      "memory usage: 949.0 KB\n"
     ]
    }
   ],
   "source": [
    "data[columns_type].info() # проверка что колонки сменили тип"
   ]
  },
  {
   "cell_type": "code",
   "execution_count": 24,
   "metadata": {},
   "outputs": [
    {
     "data": {
      "text/html": [
       "<div>\n",
       "<style scoped>\n",
       "    .dataframe tbody tr th:only-of-type {\n",
       "        vertical-align: middle;\n",
       "    }\n",
       "\n",
       "    .dataframe tbody tr th {\n",
       "        vertical-align: top;\n",
       "    }\n",
       "\n",
       "    .dataframe thead th {\n",
       "        text-align: right;\n",
       "    }\n",
       "</style>\n",
       "<table border=\"1\" class=\"dataframe\">\n",
       "  <thead>\n",
       "    <tr style=\"text-align: right;\">\n",
       "      <th></th>\n",
       "      <th>floors_total</th>\n",
       "      <th>is_apartment</th>\n",
       "      <th>balcony</th>\n",
       "      <th>parks_around_3000</th>\n",
       "      <th>ponds_around_3000</th>\n",
       "      <th>first_day_exposition</th>\n",
       "    </tr>\n",
       "  </thead>\n",
       "  <tbody>\n",
       "    <tr>\n",
       "      <th>0</th>\n",
       "      <td>16</td>\n",
       "      <td>False</td>\n",
       "      <td>0</td>\n",
       "      <td>1</td>\n",
       "      <td>2</td>\n",
       "      <td>2019-03-07</td>\n",
       "    </tr>\n",
       "    <tr>\n",
       "      <th>1</th>\n",
       "      <td>11</td>\n",
       "      <td>False</td>\n",
       "      <td>2</td>\n",
       "      <td>0</td>\n",
       "      <td>0</td>\n",
       "      <td>2018-12-04</td>\n",
       "    </tr>\n",
       "    <tr>\n",
       "      <th>2</th>\n",
       "      <td>5</td>\n",
       "      <td>False</td>\n",
       "      <td>0</td>\n",
       "      <td>1</td>\n",
       "      <td>2</td>\n",
       "      <td>2015-08-20</td>\n",
       "    </tr>\n",
       "    <tr>\n",
       "      <th>3</th>\n",
       "      <td>14</td>\n",
       "      <td>False</td>\n",
       "      <td>0</td>\n",
       "      <td>2</td>\n",
       "      <td>3</td>\n",
       "      <td>2015-07-24</td>\n",
       "    </tr>\n",
       "    <tr>\n",
       "      <th>4</th>\n",
       "      <td>14</td>\n",
       "      <td>False</td>\n",
       "      <td>0</td>\n",
       "      <td>2</td>\n",
       "      <td>1</td>\n",
       "      <td>2018-06-19</td>\n",
       "    </tr>\n",
       "  </tbody>\n",
       "</table>\n",
       "</div>"
      ],
      "text/plain": [
       "   floors_total  is_apartment  balcony  parks_around_3000  ponds_around_3000  \\\n",
       "0            16         False        0                  1                  2   \n",
       "1            11         False        2                  0                  0   \n",
       "2             5         False        0                  1                  2   \n",
       "3            14         False        0                  2                  3   \n",
       "4            14         False        0                  2                  1   \n",
       "\n",
       "  first_day_exposition  \n",
       "0           2019-03-07  \n",
       "1           2018-12-04  \n",
       "2           2015-08-20  \n",
       "3           2015-07-24  \n",
       "4           2018-06-19  "
      ]
     },
     "execution_count": 24,
     "metadata": {},
     "output_type": "execute_result"
    }
   ],
   "source": [
    "data[columns_type].head() # проверка что данные не исказились"
   ]
  },
  {
   "cell_type": "markdown",
   "metadata": {},
   "source": [
    "## Расчёты и добавление результатов в таблицу"
   ]
  },
  {
   "cell_type": "code",
   "execution_count": 25,
   "metadata": {},
   "outputs": [],
   "source": [
    "data['square_meter_price'] = data['last_price'] / data['total_area'] # цена квадратного метра "
   ]
  },
  {
   "cell_type": "code",
   "execution_count": 26,
   "metadata": {},
   "outputs": [],
   "source": [
    "data['weekday'] = data['first_day_exposition'].dt.weekday # день недели \n",
    "data['month'] = data['first_day_exposition'].dt.month # месяц\n",
    "data['year'] = data['first_day_exposition'].dt.year # год"
   ]
  },
  {
   "cell_type": "code",
   "execution_count": 27,
   "metadata": {},
   "outputs": [],
   "source": [
    "data['floor_category'] = 'другой' # категория этажа \n",
    "data['floor_category'] = data['floor_category'].where(data['floor'] != 1, 'первый')\n",
    "data['floor_category'] = data['floor_category'].where(data['floor'] != data['floors_total'], 'последний')"
   ]
  },
  {
   "cell_type": "code",
   "execution_count": 28,
   "metadata": {},
   "outputs": [],
   "source": [
    "data['living_to_total_area'] = data['living_area'] / data['total_area'] # отношение жилой площади к общей"
   ]
  },
  {
   "cell_type": "code",
   "execution_count": 29,
   "metadata": {},
   "outputs": [],
   "source": [
    "data['kitchen_to_total_area'] = data['kitchen_area'] / data['total_area'] # отношение площади кухни к общей"
   ]
  },
  {
   "cell_type": "code",
   "execution_count": 30,
   "metadata": {},
   "outputs": [
    {
     "data": {
      "text/html": [
       "<div>\n",
       "<style scoped>\n",
       "    .dataframe tbody tr th:only-of-type {\n",
       "        vertical-align: middle;\n",
       "    }\n",
       "\n",
       "    .dataframe tbody tr th {\n",
       "        vertical-align: top;\n",
       "    }\n",
       "\n",
       "    .dataframe thead th {\n",
       "        text-align: right;\n",
       "    }\n",
       "</style>\n",
       "<table border=\"1\" class=\"dataframe\">\n",
       "  <thead>\n",
       "    <tr style=\"text-align: right;\">\n",
       "      <th></th>\n",
       "      <th>total_images</th>\n",
       "      <th>last_price</th>\n",
       "      <th>total_area</th>\n",
       "      <th>first_day_exposition</th>\n",
       "      <th>rooms</th>\n",
       "      <th>ceiling_height</th>\n",
       "      <th>floors_total</th>\n",
       "      <th>living_area</th>\n",
       "      <th>floor</th>\n",
       "      <th>is_apartment</th>\n",
       "      <th>...</th>\n",
       "      <th>ponds_around_3000</th>\n",
       "      <th>ponds_nearest</th>\n",
       "      <th>days_exposition</th>\n",
       "      <th>square_meter_price</th>\n",
       "      <th>weekday</th>\n",
       "      <th>month</th>\n",
       "      <th>year</th>\n",
       "      <th>floor_category</th>\n",
       "      <th>living_to_total_area</th>\n",
       "      <th>kitchen_to_total_area</th>\n",
       "    </tr>\n",
       "  </thead>\n",
       "  <tbody>\n",
       "    <tr>\n",
       "      <th>0</th>\n",
       "      <td>20</td>\n",
       "      <td>13000000.0</td>\n",
       "      <td>108.0</td>\n",
       "      <td>2019-03-07</td>\n",
       "      <td>3</td>\n",
       "      <td>2.70</td>\n",
       "      <td>16</td>\n",
       "      <td>51.0</td>\n",
       "      <td>8</td>\n",
       "      <td>False</td>\n",
       "      <td>...</td>\n",
       "      <td>2</td>\n",
       "      <td>755.0</td>\n",
       "      <td>NaN</td>\n",
       "      <td>120370.370370</td>\n",
       "      <td>3</td>\n",
       "      <td>3</td>\n",
       "      <td>2019</td>\n",
       "      <td>другой</td>\n",
       "      <td>0.472222</td>\n",
       "      <td>0.231481</td>\n",
       "    </tr>\n",
       "    <tr>\n",
       "      <th>1</th>\n",
       "      <td>7</td>\n",
       "      <td>3350000.0</td>\n",
       "      <td>40.4</td>\n",
       "      <td>2018-12-04</td>\n",
       "      <td>1</td>\n",
       "      <td>NaN</td>\n",
       "      <td>11</td>\n",
       "      <td>18.6</td>\n",
       "      <td>1</td>\n",
       "      <td>False</td>\n",
       "      <td>...</td>\n",
       "      <td>0</td>\n",
       "      <td>NaN</td>\n",
       "      <td>81.0</td>\n",
       "      <td>82920.792079</td>\n",
       "      <td>1</td>\n",
       "      <td>12</td>\n",
       "      <td>2018</td>\n",
       "      <td>первый</td>\n",
       "      <td>0.460396</td>\n",
       "      <td>0.272277</td>\n",
       "    </tr>\n",
       "    <tr>\n",
       "      <th>2</th>\n",
       "      <td>10</td>\n",
       "      <td>5196000.0</td>\n",
       "      <td>56.0</td>\n",
       "      <td>2015-08-20</td>\n",
       "      <td>2</td>\n",
       "      <td>NaN</td>\n",
       "      <td>5</td>\n",
       "      <td>34.3</td>\n",
       "      <td>4</td>\n",
       "      <td>False</td>\n",
       "      <td>...</td>\n",
       "      <td>2</td>\n",
       "      <td>574.0</td>\n",
       "      <td>558.0</td>\n",
       "      <td>92785.714286</td>\n",
       "      <td>3</td>\n",
       "      <td>8</td>\n",
       "      <td>2015</td>\n",
       "      <td>другой</td>\n",
       "      <td>0.612500</td>\n",
       "      <td>0.148214</td>\n",
       "    </tr>\n",
       "    <tr>\n",
       "      <th>3</th>\n",
       "      <td>0</td>\n",
       "      <td>64900000.0</td>\n",
       "      <td>159.0</td>\n",
       "      <td>2015-07-24</td>\n",
       "      <td>3</td>\n",
       "      <td>NaN</td>\n",
       "      <td>14</td>\n",
       "      <td>NaN</td>\n",
       "      <td>9</td>\n",
       "      <td>False</td>\n",
       "      <td>...</td>\n",
       "      <td>3</td>\n",
       "      <td>234.0</td>\n",
       "      <td>424.0</td>\n",
       "      <td>408176.100629</td>\n",
       "      <td>4</td>\n",
       "      <td>7</td>\n",
       "      <td>2015</td>\n",
       "      <td>другой</td>\n",
       "      <td>NaN</td>\n",
       "      <td>NaN</td>\n",
       "    </tr>\n",
       "    <tr>\n",
       "      <th>4</th>\n",
       "      <td>2</td>\n",
       "      <td>10000000.0</td>\n",
       "      <td>100.0</td>\n",
       "      <td>2018-06-19</td>\n",
       "      <td>2</td>\n",
       "      <td>3.03</td>\n",
       "      <td>14</td>\n",
       "      <td>32.0</td>\n",
       "      <td>13</td>\n",
       "      <td>False</td>\n",
       "      <td>...</td>\n",
       "      <td>1</td>\n",
       "      <td>48.0</td>\n",
       "      <td>121.0</td>\n",
       "      <td>100000.000000</td>\n",
       "      <td>1</td>\n",
       "      <td>6</td>\n",
       "      <td>2018</td>\n",
       "      <td>другой</td>\n",
       "      <td>0.320000</td>\n",
       "      <td>0.410000</td>\n",
       "    </tr>\n",
       "  </tbody>\n",
       "</table>\n",
       "<p>5 rows × 29 columns</p>\n",
       "</div>"
      ],
      "text/plain": [
       "   total_images  last_price  total_area first_day_exposition  rooms  \\\n",
       "0            20  13000000.0       108.0           2019-03-07      3   \n",
       "1             7   3350000.0        40.4           2018-12-04      1   \n",
       "2            10   5196000.0        56.0           2015-08-20      2   \n",
       "3             0  64900000.0       159.0           2015-07-24      3   \n",
       "4             2  10000000.0       100.0           2018-06-19      2   \n",
       "\n",
       "   ceiling_height  floors_total  living_area  floor  is_apartment  ...  \\\n",
       "0            2.70            16         51.0      8         False  ...   \n",
       "1             NaN            11         18.6      1         False  ...   \n",
       "2             NaN             5         34.3      4         False  ...   \n",
       "3             NaN            14          NaN      9         False  ...   \n",
       "4            3.03            14         32.0     13         False  ...   \n",
       "\n",
       "   ponds_around_3000  ponds_nearest  days_exposition  square_meter_price  \\\n",
       "0                  2          755.0              NaN       120370.370370   \n",
       "1                  0            NaN             81.0        82920.792079   \n",
       "2                  2          574.0            558.0        92785.714286   \n",
       "3                  3          234.0            424.0       408176.100629   \n",
       "4                  1           48.0            121.0       100000.000000   \n",
       "\n",
       "  weekday  month  year  floor_category  living_to_total_area  \\\n",
       "0       3      3  2019          другой              0.472222   \n",
       "1       1     12  2018          первый              0.460396   \n",
       "2       3      8  2015          другой              0.612500   \n",
       "3       4      7  2015          другой                   NaN   \n",
       "4       1      6  2018          другой              0.320000   \n",
       "\n",
       "   kitchen_to_total_area  \n",
       "0               0.231481  \n",
       "1               0.272277  \n",
       "2               0.148214  \n",
       "3                    NaN  \n",
       "4               0.410000  \n",
       "\n",
       "[5 rows x 29 columns]"
      ]
     },
     "execution_count": 30,
     "metadata": {},
     "output_type": "execute_result"
    }
   ],
   "source": [
    "data.head()"
   ]
  },
  {
   "cell_type": "markdown",
   "metadata": {},
   "source": [
    "## Исследовательский анализ данных"
   ]
  },
  {
   "cell_type": "markdown",
   "metadata": {},
   "source": [
    "### Параметры: площадь, цена, число комнат, высота потолков"
   ]
  },
  {
   "cell_type": "code",
   "execution_count": 31,
   "metadata": {},
   "outputs": [],
   "source": [
    "columns = {              #словарь колонка с параметрами для построения гистограмм \n",
    "    'total_area': [35, 12, 200], # ключ название колонки значение [количество корзин, левая граница, правая граница]\n",
    "    'last_price': [50, 1e4, 3e7],\n",
    "    'rooms': [11, 0, 10],\n",
    "    'ceiling_height': [20, 2.5, 4]\n",
    "}"
   ]
  },
  {
   "cell_type": "code",
   "execution_count": 32,
   "metadata": {},
   "outputs": [
    {
     "data": {
      "text/html": [
       "<div>\n",
       "<style scoped>\n",
       "    .dataframe tbody tr th:only-of-type {\n",
       "        vertical-align: middle;\n",
       "    }\n",
       "\n",
       "    .dataframe tbody tr th {\n",
       "        vertical-align: top;\n",
       "    }\n",
       "\n",
       "    .dataframe thead th {\n",
       "        text-align: right;\n",
       "    }\n",
       "</style>\n",
       "<table border=\"1\" class=\"dataframe\">\n",
       "  <thead>\n",
       "    <tr style=\"text-align: right;\">\n",
       "      <th></th>\n",
       "      <th>total_area</th>\n",
       "      <th>last_price</th>\n",
       "      <th>rooms</th>\n",
       "      <th>ceiling_height</th>\n",
       "    </tr>\n",
       "  </thead>\n",
       "  <tbody>\n",
       "    <tr>\n",
       "      <th>count</th>\n",
       "      <td>23699.000000</td>\n",
       "      <td>2.369900e+04</td>\n",
       "      <td>23699.000000</td>\n",
       "      <td>14504.000000</td>\n",
       "    </tr>\n",
       "    <tr>\n",
       "      <th>mean</th>\n",
       "      <td>60.348651</td>\n",
       "      <td>6.541549e+06</td>\n",
       "      <td>2.070636</td>\n",
       "      <td>2.771499</td>\n",
       "    </tr>\n",
       "    <tr>\n",
       "      <th>std</th>\n",
       "      <td>35.654083</td>\n",
       "      <td>1.088701e+07</td>\n",
       "      <td>1.078405</td>\n",
       "      <td>1.261056</td>\n",
       "    </tr>\n",
       "    <tr>\n",
       "      <th>min</th>\n",
       "      <td>12.000000</td>\n",
       "      <td>1.219000e+04</td>\n",
       "      <td>0.000000</td>\n",
       "      <td>1.000000</td>\n",
       "    </tr>\n",
       "    <tr>\n",
       "      <th>25%</th>\n",
       "      <td>40.000000</td>\n",
       "      <td>3.400000e+06</td>\n",
       "      <td>1.000000</td>\n",
       "      <td>2.520000</td>\n",
       "    </tr>\n",
       "    <tr>\n",
       "      <th>50%</th>\n",
       "      <td>52.000000</td>\n",
       "      <td>4.650000e+06</td>\n",
       "      <td>2.000000</td>\n",
       "      <td>2.650000</td>\n",
       "    </tr>\n",
       "    <tr>\n",
       "      <th>75%</th>\n",
       "      <td>69.900000</td>\n",
       "      <td>6.800000e+06</td>\n",
       "      <td>3.000000</td>\n",
       "      <td>2.800000</td>\n",
       "    </tr>\n",
       "    <tr>\n",
       "      <th>max</th>\n",
       "      <td>900.000000</td>\n",
       "      <td>7.630000e+08</td>\n",
       "      <td>19.000000</td>\n",
       "      <td>100.000000</td>\n",
       "    </tr>\n",
       "  </tbody>\n",
       "</table>\n",
       "</div>"
      ],
      "text/plain": [
       "         total_area    last_price         rooms  ceiling_height\n",
       "count  23699.000000  2.369900e+04  23699.000000    14504.000000\n",
       "mean      60.348651  6.541549e+06      2.070636        2.771499\n",
       "std       35.654083  1.088701e+07      1.078405        1.261056\n",
       "min       12.000000  1.219000e+04      0.000000        1.000000\n",
       "25%       40.000000  3.400000e+06      1.000000        2.520000\n",
       "50%       52.000000  4.650000e+06      2.000000        2.650000\n",
       "75%       69.900000  6.800000e+06      3.000000        2.800000\n",
       "max      900.000000  7.630000e+08     19.000000      100.000000"
      ]
     },
     "execution_count": 32,
     "metadata": {},
     "output_type": "execute_result"
    }
   ],
   "source": [
    "data[columns].describe() #основные параметры колонок "
   ]
  },
  {
   "cell_type": "code",
   "execution_count": 33,
   "metadata": {},
   "outputs": [],
   "source": [
    "# Объявление функции hist_columns с параметром data и columns,\n",
    "# которая строит гистограммы по заданным колонкам датасета и параметрам \n",
    "\n",
    "def hist_columns(data, columns):\n",
    "    for key, val in columns.items(): #цыкл для построения гистограмм по колонкам\n",
    "        data.plot(\n",
    "            y=key, \n",
    "            bins=val[0], \n",
    "            title=key, \n",
    "            kind='hist', \n",
    "            range=(val[1], val[2]),\n",
    "            figsize=(7, 7),\n",
    "            grid=True\n",
    "        )\n",
    "        plt.show()"
   ]
  },
  {
   "cell_type": "code",
   "execution_count": 34,
   "metadata": {
    "scrolled": false
   },
   "outputs": [
    {
     "data": {
      "image/png": "[encoded data removed]",
      "text/plain": [
       "<Figure size 504x504 with 1 Axes>"
      ]
     },
     "metadata": {
      "needs_background": "light"
     },
     "output_type": "display_data"
    },
    {
     "data": {
      "image/png": "[encoded data removed]",
      "text/plain": [
       "<Figure size 504x504 with 1 Axes>"
      ]
     },
     "metadata": {
      "needs_background": "light"
     },
     "output_type": "display_data"
    },
    {
     "data": {
      "image/png": "[encoded data removed]",
      "text/plain": [
       "<Figure size 504x504 with 1 Axes>"
      ]
     },
     "metadata": {
      "needs_background": "light"
     },
     "output_type": "display_data"
    },
    {
     "data": {
      "image/png": "[encoded data removed]",
      "text/plain": [
       "<Figure size 504x504 with 1 Axes>"
      ]
     },
     "metadata": {
      "needs_background": "light"
     },
     "output_type": "display_data"
    }
   ],
   "source": [
    "hist_columns(data, columns) # вызов функции для построения гистограмм "
   ]
  },
  {
   "cell_type": "markdown",
   "metadata": {},
   "source": [
    "#### Вывод"
   ]
  },
  {
   "cell_type": "markdown",
   "metadata": {},
   "source": [
    "По гистограммам можно сделать следующий вывод:\n",
    "- по параметру общая площадь наблюдается распределение Пуассона, можно сказать что самыми частыми предложениями являются квартиры общей площадью около 40 и 60 м.кв, что хорошо соотносится с числом комнат 1 и 2 соответственно. Квартиры площадью более 175 уже довольно редкие.\n",
    "- по параметру общая цена наблюдается распределение Пуассона, можно сказать в основном преобладают значения около 3.5 и 4 миллионов.\n",
    "- по параметру количество комнат это типичные 1 и 2 немного отстают трех-комнатные.\n",
    "- из 13000 имеющихся записей 5000 это 2.5, скорее всего это типовые панельные дома, которые и составляют большую часть вторичного рынка."
   ]
  },
  {
   "cell_type": "markdown",
   "metadata": {},
   "source": [
    "### Время продажи квартиры"
   ]
  },
  {
   "cell_type": "code",
   "execution_count": 35,
   "metadata": {
    "scrolled": false
   },
   "outputs": [
    {
     "data": {
      "image/png": "[encoded data removed]",
      "text/plain": [
       "<Figure size 864x864 with 1 Axes>"
      ]
     },
     "metadata": {
      "needs_background": "light"
     },
     "output_type": "display_data"
    }
   ],
   "source": [
    "data.plot(                # гистограмма времени продажи квартиры\n",
    "        y='days_exposition', \n",
    "        bins=50, \n",
    "        title='days_exposition', \n",
    "        kind='hist', \n",
    "        range=(1, 250),\n",
    "        figsize=(12, 12),\n",
    "        grid=True\n",
    ")\n",
    "plt.show()"
   ]
  },
  {
   "cell_type": "code",
   "execution_count": 36,
   "metadata": {
    "scrolled": false
   },
   "outputs": [
    {
     "data": {
      "image/png": "[encoded data removed]",
      "text/plain": [
       "<Figure size 864x864 with 1 Axes>"
      ]
     },
     "metadata": {
      "needs_background": "light"
     },
     "output_type": "display_data"
    }
   ],
   "source": [
    "data.plot(               # box-plot времени продажи квартиры\n",
    "        y='days_exposition', \n",
    "        title='days_exposition', \n",
    "        kind='box', \n",
    "        figsize=(12, 12),\n",
    "        grid=True\n",
    ")\n",
    "plt.show()"
   ]
  },
  {
   "cell_type": "code",
   "execution_count": 37,
   "metadata": {},
   "outputs": [
    {
     "data": {
      "text/plain": [
       "180.88863436982163"
      ]
     },
     "execution_count": 37,
     "metadata": {},
     "output_type": "execute_result"
    }
   ],
   "source": [
    "data['days_exposition'].mean() # среднее значение дней размещения"
   ]
  },
  {
   "cell_type": "code",
   "execution_count": 38,
   "metadata": {},
   "outputs": [
    {
     "data": {
      "text/plain": [
       "95.0"
      ]
     },
     "execution_count": 38,
     "metadata": {},
     "output_type": "execute_result"
    }
   ],
   "source": [
    "data['days_exposition'].median() # медиана дней размещения"
   ]
  },
  {
   "cell_type": "code",
   "execution_count": 39,
   "metadata": {},
   "outputs": [],
   "source": [
    "anomalies_days_exposition = data['days_exposition'].value_counts().head(5).index # филтрация анамльных и редких значений\n",
    "good_data = data.query('8 <= days_exposition < 500').query('days_exposition not in @anomalies_days_exposition')"
   ]
  },
  {
   "cell_type": "code",
   "execution_count": 40,
   "metadata": {},
   "outputs": [
    {
     "data": {
      "image/png": "[encoded data removed]",
      "text/plain": [
       "<Figure size 864x864 with 1 Axes>"
      ]
     },
     "metadata": {
      "needs_background": "light"
     },
     "output_type": "display_data"
    }
   ],
   "source": [
    "ax = data.plot(  # сравнение сырых и отфилтрованных даннах\n",
    "    kind='hist',\n",
    "    y='days_exposition',\n",
    "    histtype='step',\n",
    "    range=(0, 250),\n",
    "    bins=50,\n",
    "    linewidth=5,\n",
    "    alpha=0.7,\n",
    "    label='raw',\n",
    ")\n",
    "good_data.plot(\n",
    "    kind='hist',\n",
    "    y='days_exposition',\n",
    "    histtype='step',\n",
    "    range=(0, 250),\n",
    "    bins=50,\n",
    "    linewidth=5,\n",
    "    alpha=0.7,\n",
    "    label='filtered',\n",
    "    ax=ax,\n",
    "    grid=True,\n",
    "    legend=True,\n",
    "    figsize=(12, 12),\n",
    ")\n",
    "plt.title('Cравнение сырых и отфилтрованных даннах')\n",
    "plt.show()"
   ]
  },
  {
   "cell_type": "markdown",
   "metadata": {},
   "source": [
    "#### Вывод"
   ]
  },
  {
   "cell_type": "markdown",
   "metadata": {},
   "source": [
    "45, 60, 7, 30, 90 дней с момента публикации являются пиковыми значениями скорее  которые сильно отличаются от рядом стоящих особенно это характерно для 45 и 60 дней, похоже, что объявление снималось автоматически  в эти дни,  сервис предоставлял возможность выставить объявление на неделю, месяц, полтора месяца, два месяца и три месяца. Медианное значение находится на уровне 95 дней а среднее 181.\n",
    "Долгими можно считать сделки более 500 дней, очень короткими менее 7. \n",
    "После фильтрации график распределения стало видно, что основные продажи совершаются от 8 до 50 дней, далее идет планомерное снижение."
   ]
  },
  {
   "cell_type": "markdown",
   "metadata": {},
   "source": [
    "### Факторы стоимости квартиры"
   ]
  },
  {
   "cell_type": "code",
   "execution_count": 41,
   "metadata": {},
   "outputs": [],
   "source": [
    "data = data.query('last_price < 2e8 and rooms <= 11') # фильрация данных"
   ]
  },
  {
   "cell_type": "code",
   "execution_count": 42,
   "metadata": {},
   "outputs": [
    {
     "data": {
      "text/plain": [
       "23685"
      ]
     },
     "execution_count": 42,
     "metadata": {},
     "output_type": "execute_result"
    }
   ],
   "source": [
    "len(data)"
   ]
  },
  {
   "cell_type": "code",
   "execution_count": 43,
   "metadata": {},
   "outputs": [],
   "source": [
    "columns_price = { # словарь проверяемых факторов {фактор: тип графика}\n",
    "    'total_area': 'scatter', #для количественных непрерывных нагляднее использовать диаграммы-разброса\n",
    "    'city_centers_nearest': 'scatter', \n",
    "    'rooms': 'bar',          # для количественных дискретных нагляднее использовать среднее значение цены и столбчатые диаграммы \n",
    "    'floor_category': 'bar', # для категорированных переменных нагляднее использовать среднее значение цены и столбчатые диаграммы \n",
    "    'weekday': 'bar',\n",
    "    'month': 'bar',\n",
    "    'year': 'bar'\n",
    "}"
   ]
  },
  {
   "cell_type": "code",
   "execution_count": 44,
   "metadata": {},
   "outputs": [],
   "source": [
    "# Объявление функции columns_price_plot с параметром data и columns_price,\n",
    "# которая строит диаграммы по заданным колонкам датасета и параметрам \n",
    "\n",
    "def columns_price_plot(data, columns_price):\n",
    "    for key, val in columns_price.items(): # вывод диаграмм\n",
    "        if val == 'bar':      # вывод столбчатых диаграмм \n",
    "            data.pivot_table( # расчет средних значений по цене по категориям\n",
    "                index=key,\n",
    "                values='last_price'\n",
    "            ).plot(\n",
    "                y='last_price',\n",
    "                kind=val,\n",
    "                figsize=(6, 6),\n",
    "                title=key + '/last_price',\n",
    "                grid=True\n",
    "            )\n",
    "        else:    \n",
    "            data.plot(     # вывод диаграммы-разброса\n",
    "                x=key,\n",
    "                y='last_price',\n",
    "                kind=val,\n",
    "                figsize=(6, 6),\n",
    "                alpha=0.2,\n",
    "                title=key + '/last_price'\n",
    "            )"
   ]
  },
  {
   "cell_type": "code",
   "execution_count": 45,
   "metadata": {
    "scrolled": false
   },
   "outputs": [
    {
     "data": {
      "image/png": "[encoded data removed]",
      "text/plain": [
       "<Figure size 432x432 with 1 Axes>"
      ]
     },
     "metadata": {
      "needs_background": "light"
     },
     "output_type": "display_data"
    },
    {
     "data": {
      "image/png": "[encoded data removed]",
      "text/plain": [
       "<Figure size 432x432 with 1 Axes>"
      ]
     },
     "metadata": {
      "needs_background": "light"
     },
     "output_type": "display_data"
    },
    {
     "data": {
      "image/png": "[encoded data removed]",
      "text/plain": [
       "<Figure size 432x432 with 1 Axes>"
      ]
     },
     "metadata": {
      "needs_background": "light"
     },
     "output_type": "display_data"
    },
    {
     "data": {
      "image/png": "[encoded data removed]",
      "text/plain": [
       "<Figure size 432x432 with 1 Axes>"
      ]
     },
     "metadata": {
      "needs_background": "light"
     },
     "output_type": "display_data"
    },
    {
     "data": {
      "image/png": "[encoded data removed]",
      "text/plain": [
       "<Figure size 432x432 with 1 Axes>"
      ]
     },
     "metadata": {
      "needs_background": "light"
     },
     "output_type": "display_data"
    },
    {
     "data": {
      "image/png": "[encoded data removed]",
      "text/plain": [
       "<Figure size 432x432 with 1 Axes>"
      ]
     },
     "metadata": {
      "needs_background": "light"
     },
     "output_type": "display_data"
    },
    {
     "data": {
      "image/png": "[encoded data removed]",
      "text/plain": [
       "<Figure size 432x432 with 1 Axes>"
      ]
     },
     "metadata": {
      "needs_background": "light"
     },
     "output_type": "display_data"
    }
   ],
   "source": [
    "columns_price_plot(data, columns_price) # построение диаграмм зависимости цены от факторов"
   ]
  },
  {
   "cell_type": "code",
   "execution_count": 46,
   "metadata": {},
   "outputs": [
    {
     "data": {
      "text/html": [
       "<div>\n",
       "<style scoped>\n",
       "    .dataframe tbody tr th:only-of-type {\n",
       "        vertical-align: middle;\n",
       "    }\n",
       "\n",
       "    .dataframe tbody tr th {\n",
       "        vertical-align: top;\n",
       "    }\n",
       "\n",
       "    .dataframe thead tr th {\n",
       "        text-align: left;\n",
       "    }\n",
       "\n",
       "    .dataframe thead tr:last-of-type th {\n",
       "        text-align: right;\n",
       "    }\n",
       "</style>\n",
       "<table border=\"1\" class=\"dataframe\">\n",
       "  <thead>\n",
       "    <tr>\n",
       "      <th></th>\n",
       "      <th>mean</th>\n",
       "      <th>median</th>\n",
       "      <th>count</th>\n",
       "    </tr>\n",
       "    <tr>\n",
       "      <th></th>\n",
       "      <th>last_price</th>\n",
       "      <th>last_price</th>\n",
       "      <th>last_price</th>\n",
       "    </tr>\n",
       "    <tr>\n",
       "      <th>year</th>\n",
       "      <th></th>\n",
       "      <th></th>\n",
       "      <th></th>\n",
       "    </tr>\n",
       "  </thead>\n",
       "  <tbody>\n",
       "    <tr>\n",
       "      <th>2014</th>\n",
       "      <td>1.208714e+07</td>\n",
       "      <td>7700000.0</td>\n",
       "      <td>137</td>\n",
       "    </tr>\n",
       "    <tr>\n",
       "      <th>2015</th>\n",
       "      <td>8.556088e+06</td>\n",
       "      <td>5350000.0</td>\n",
       "      <td>1190</td>\n",
       "    </tr>\n",
       "    <tr>\n",
       "      <th>2016</th>\n",
       "      <td>6.678217e+06</td>\n",
       "      <td>4550000.0</td>\n",
       "      <td>2781</td>\n",
       "    </tr>\n",
       "    <tr>\n",
       "      <th>2017</th>\n",
       "      <td>6.319702e+06</td>\n",
       "      <td>4500000.0</td>\n",
       "      <td>8183</td>\n",
       "    </tr>\n",
       "    <tr>\n",
       "      <th>2018</th>\n",
       "      <td>5.909831e+06</td>\n",
       "      <td>4550000.0</td>\n",
       "      <td>8517</td>\n",
       "    </tr>\n",
       "    <tr>\n",
       "      <th>2019</th>\n",
       "      <td>6.663976e+06</td>\n",
       "      <td>5050000.0</td>\n",
       "      <td>2877</td>\n",
       "    </tr>\n",
       "  </tbody>\n",
       "</table>\n",
       "</div>"
      ],
      "text/plain": [
       "              mean     median      count\n",
       "        last_price last_price last_price\n",
       "year                                    \n",
       "2014  1.208714e+07  7700000.0        137\n",
       "2015  8.556088e+06  5350000.0       1190\n",
       "2016  6.678217e+06  4550000.0       2781\n",
       "2017  6.319702e+06  4500000.0       8183\n",
       "2018  5.909831e+06  4550000.0       8517\n",
       "2019  6.663976e+06  5050000.0       2877"
      ]
     },
     "execution_count": 46,
     "metadata": {},
     "output_type": "execute_result"
    }
   ],
   "source": [
    "data.pivot_table(            # проверка аномалии 2014 года \n",
    "            index='year',\n",
    "            values='last_price',\n",
    "            aggfunc=['mean', 'median', 'count']\n",
    ")"
   ]
  },
  {
   "cell_type": "code",
   "execution_count": 47,
   "metadata": {},
   "outputs": [
    {
     "name": "stdout",
     "output_type": "stream",
     "text": [
      "Коэффициент корреляции  для total_area и last_price:  0.74\n",
      "Коэффициент корреляции  для city_centers_nearest и last_price: -0.27\n",
      "Коэффициент корреляции  для rooms и last_price:  0.43\n"
     ]
    }
   ],
   "source": [
    "for value in ['total_area', 'city_centers_nearest', 'rooms']: #Коэффициенты корреляции для количественных переменных \n",
    "    correlation_coefficient = data[value].corr(data['last_price'])\n",
    "    print(f'Коэффициент корреляции  для {value} и last_price: {correlation_coefficient: .2}')   "
   ]
  },
  {
   "cell_type": "markdown",
   "metadata": {},
   "source": [
    "#### Вывод"
   ]
  },
  {
   "cell_type": "code",
   "execution_count": 48,
   "metadata": {},
   "outputs": [
    {
     "data": {
      "image/png": "[encoded data removed]",
      "text/plain": [
       "<Figure size 432x288 with 2 Axes>"
      ]
     },
     "metadata": {
      "needs_background": "light"
     },
     "output_type": "display_data"
    }
   ],
   "source": [
    "sns.heatmap(\n",
    "    data[['last_price', 'total_area', 'city_centers_nearest', 'rooms']].corr(), \n",
    "    vmin=-1, \n",
    "    vmax=1, \n",
    "    annot=True\n",
    ")\n",
    "plt.title('Корреляции междупеременными')\n",
    "plt.show()"
   ]
  },
  {
   "cell_type": "markdown",
   "metadata": {},
   "source": [
    "Количественные факторы:\n",
    "- общая площадь имеет высокую корреляционную связь с ценой. Площадь квартиры является основным определяющим фактором ее цены, с увеличение площади растет и цена. Также наглядно это демонстрирует диаграмма.\n",
    "- количество комнат имеет заметную корреляционную связь с ценой, так чем больше комнат зачастую тем больше площадь, но в общей площади также присутствует площадь кухни и нежилая площадь, по этому коэффициент корреляции ниже. Диаграмма также это подтверждает. После 7 комнат закономерность теряется т.к обычно это уже очень уникальные и редкие квартиры и выборка нерепрезентативна. \n",
    "- удалённость от центра имеет умеренную обратную связь с ценой. Да и диаграммы закономерность тоже прослеживается но она скорее связна с неким скачком, чем с сплавным линейным изменением.\n",
    "\n",
    "Категориальные факторы:\n",
    "- Этаж - самые недорогие квартиры находятся на первом этаже, далее следует последний и категории другие. Обычно чем выше этаж тем дороже квартира, но это характерно для конкретного объекта, а так как объективно предложение в категории другие значительно больше, для последнего этаже выборка могла быть не достаточно репрезентативна.\n",
    "- День недели зависимость прослеживается в с понедельника по четверг цена выше(примерно на одном уровне) чем с пятницы по воскресенье.\n",
    "- Месяц имеет волнообразную форму, В март и июнь лучше покупать, а вот январь июль и декабрь лучше продавать. буквально несколько значений могут полностью изменить картину. А также зависит от выбора среднего и медианы    \n",
    "- Год, 2014 год очень высокая средняя цена, но выборка всего 0.6%, что не позволяет говорить о достоверности полученных результатов за этот год после чего с 2015 по 2018 идет плавное снижение цены и небольшой рост в 2019 году.\n",
    "\n",
    "Данные очень не однородны с большим количество выросов, медианы и срения разнятся."
   ]
  },
  {
   "cell_type": "markdown",
   "metadata": {},
   "source": [
    "### Топ 10"
   ]
  },
  {
   "cell_type": "code",
   "execution_count": 49,
   "metadata": {},
   "outputs": [
    {
     "data": {
      "text/html": [
       "<div>\n",
       "<style scoped>\n",
       "    .dataframe tbody tr th:only-of-type {\n",
       "        vertical-align: middle;\n",
       "    }\n",
       "\n",
       "    .dataframe tbody tr th {\n",
       "        vertical-align: top;\n",
       "    }\n",
       "\n",
       "    .dataframe thead tr th {\n",
       "        text-align: left;\n",
       "    }\n",
       "\n",
       "    .dataframe thead tr:last-of-type th {\n",
       "        text-align: right;\n",
       "    }\n",
       "</style>\n",
       "<table border=\"1\" class=\"dataframe\">\n",
       "  <thead>\n",
       "    <tr>\n",
       "      <th></th>\n",
       "      <th>mean</th>\n",
       "      <th>count</th>\n",
       "    </tr>\n",
       "    <tr>\n",
       "      <th></th>\n",
       "      <th>square_meter_price</th>\n",
       "      <th>square_meter_price</th>\n",
       "    </tr>\n",
       "    <tr>\n",
       "      <th>locality_name</th>\n",
       "      <th></th>\n",
       "      <th></th>\n",
       "    </tr>\n",
       "  </thead>\n",
       "  <tbody>\n",
       "    <tr>\n",
       "      <th>Санкт-Петербург</th>\n",
       "      <td>114344.628999</td>\n",
       "      <td>15707</td>\n",
       "    </tr>\n",
       "    <tr>\n",
       "      <th>Пушкин</th>\n",
       "      <td>103125.819291</td>\n",
       "      <td>369</td>\n",
       "    </tr>\n",
       "    <tr>\n",
       "      <th>деревня Кудрово</th>\n",
       "      <td>92473.547576</td>\n",
       "      <td>299</td>\n",
       "    </tr>\n",
       "    <tr>\n",
       "      <th>посёлок Парголово</th>\n",
       "      <td>90175.913458</td>\n",
       "      <td>327</td>\n",
       "    </tr>\n",
       "    <tr>\n",
       "      <th>посёлок Мурино</th>\n",
       "      <td>85752.189195</td>\n",
       "      <td>522</td>\n",
       "    </tr>\n",
       "    <tr>\n",
       "      <th>посёлок Шушары</th>\n",
       "      <td>78677.364217</td>\n",
       "      <td>440</td>\n",
       "    </tr>\n",
       "    <tr>\n",
       "      <th>Колпино</th>\n",
       "      <td>75424.579098</td>\n",
       "      <td>338</td>\n",
       "    </tr>\n",
       "    <tr>\n",
       "      <th>Гатчина</th>\n",
       "      <td>68746.146763</td>\n",
       "      <td>307</td>\n",
       "    </tr>\n",
       "    <tr>\n",
       "      <th>Всеволожск</th>\n",
       "      <td>68654.473986</td>\n",
       "      <td>398</td>\n",
       "    </tr>\n",
       "    <tr>\n",
       "      <th>Выборг</th>\n",
       "      <td>58141.909153</td>\n",
       "      <td>237</td>\n",
       "    </tr>\n",
       "  </tbody>\n",
       "</table>\n",
       "</div>"
      ],
      "text/plain": [
       "                                mean              count\n",
       "                  square_meter_price square_meter_price\n",
       "locality_name                                          \n",
       "Санкт-Петербург        114344.628999              15707\n",
       "Пушкин                 103125.819291                369\n",
       "деревня Кудрово         92473.547576                299\n",
       "посёлок Парголово       90175.913458                327\n",
       "посёлок Мурино          85752.189195                522\n",
       "посёлок Шушары          78677.364217                440\n",
       "Колпино                 75424.579098                338\n",
       "Гатчина                 68746.146763                307\n",
       "Всеволожск              68654.473986                398\n",
       "Выборг                  58141.909153                237"
      ]
     },
     "execution_count": 49,
     "metadata": {},
     "output_type": "execute_result"
    }
   ],
   "source": [
    "data.pivot_table(           # Выбор топ 10 c подсчётом среднего по цене за кв.м\n",
    "    index='locality_name',\n",
    "    values='square_meter_price',\n",
    "    aggfunc=['mean', 'count']\n",
    ").sort_values(\n",
    "    by=('count', 'square_meter_price'),\n",
    "    ascending=False\n",
    ").head(10).sort_values(\n",
    "    by=('mean', 'square_meter_price'),\n",
    "    ascending=False\n",
    ") "
   ]
  },
  {
   "cell_type": "markdown",
   "metadata": {},
   "source": [
    "#### Вывод"
   ]
  },
  {
   "cell_type": "markdown",
   "metadata": {},
   "source": [
    "Санкт-Петербург\tожидаемо лидер.\n",
    "Выборг, как самый удаленный о Санкт-Петербурга, на последнем месте десятки."
   ]
  },
  {
   "cell_type": "markdown",
   "metadata": {},
   "source": [
    "### Санкт-Петербург"
   ]
  },
  {
   "cell_type": "code",
   "execution_count": 50,
   "metadata": {},
   "outputs": [],
   "source": [
    "spb = data.query('locality_name == \"Санкт-Петербург\" and 0 < city_centers_nearest') # фильтрация данных и выбор Санкт-Петербурга"
   ]
  },
  {
   "cell_type": "code",
   "execution_count": 51,
   "metadata": {},
   "outputs": [],
   "source": [
    "spb = spb.assign(               # добавление столбец с группировкой по километрам\n",
    "    center_distance_km=lambda x: round(x.city_centers_nearest / 1000))\n",
    "spb['center_distance_km'] = spb['center_distance_km'].astype('int')"
   ]
  },
  {
   "cell_type": "code",
   "execution_count": 52,
   "metadata": {},
   "outputs": [
    {
     "data": {
      "text/html": [
       "<div>\n",
       "<style scoped>\n",
       "    .dataframe tbody tr th:only-of-type {\n",
       "        vertical-align: middle;\n",
       "    }\n",
       "\n",
       "    .dataframe tbody tr th {\n",
       "        vertical-align: top;\n",
       "    }\n",
       "\n",
       "    .dataframe thead th {\n",
       "        text-align: right;\n",
       "    }\n",
       "</style>\n",
       "<table border=\"1\" class=\"dataframe\">\n",
       "  <thead>\n",
       "    <tr style=\"text-align: right;\">\n",
       "      <th></th>\n",
       "      <th>total_images</th>\n",
       "      <th>last_price</th>\n",
       "      <th>total_area</th>\n",
       "      <th>first_day_exposition</th>\n",
       "      <th>rooms</th>\n",
       "      <th>ceiling_height</th>\n",
       "      <th>floors_total</th>\n",
       "      <th>living_area</th>\n",
       "      <th>floor</th>\n",
       "      <th>is_apartment</th>\n",
       "      <th>...</th>\n",
       "      <th>ponds_nearest</th>\n",
       "      <th>days_exposition</th>\n",
       "      <th>square_meter_price</th>\n",
       "      <th>weekday</th>\n",
       "      <th>month</th>\n",
       "      <th>year</th>\n",
       "      <th>floor_category</th>\n",
       "      <th>living_to_total_area</th>\n",
       "      <th>kitchen_to_total_area</th>\n",
       "      <th>center_distance_km</th>\n",
       "    </tr>\n",
       "  </thead>\n",
       "  <tbody>\n",
       "    <tr>\n",
       "      <th>0</th>\n",
       "      <td>20</td>\n",
       "      <td>13000000.0</td>\n",
       "      <td>108.0</td>\n",
       "      <td>2019-03-07</td>\n",
       "      <td>3</td>\n",
       "      <td>2.70</td>\n",
       "      <td>16</td>\n",
       "      <td>51.0</td>\n",
       "      <td>8</td>\n",
       "      <td>False</td>\n",
       "      <td>...</td>\n",
       "      <td>755.0</td>\n",
       "      <td>NaN</td>\n",
       "      <td>120370.370370</td>\n",
       "      <td>3</td>\n",
       "      <td>3</td>\n",
       "      <td>2019</td>\n",
       "      <td>другой</td>\n",
       "      <td>0.472222</td>\n",
       "      <td>0.231481</td>\n",
       "      <td>16</td>\n",
       "    </tr>\n",
       "    <tr>\n",
       "      <th>2</th>\n",
       "      <td>10</td>\n",
       "      <td>5196000.0</td>\n",
       "      <td>56.0</td>\n",
       "      <td>2015-08-20</td>\n",
       "      <td>2</td>\n",
       "      <td>NaN</td>\n",
       "      <td>5</td>\n",
       "      <td>34.3</td>\n",
       "      <td>4</td>\n",
       "      <td>False</td>\n",
       "      <td>...</td>\n",
       "      <td>574.0</td>\n",
       "      <td>558.0</td>\n",
       "      <td>92785.714286</td>\n",
       "      <td>3</td>\n",
       "      <td>8</td>\n",
       "      <td>2015</td>\n",
       "      <td>другой</td>\n",
       "      <td>0.612500</td>\n",
       "      <td>0.148214</td>\n",
       "      <td>14</td>\n",
       "    </tr>\n",
       "    <tr>\n",
       "      <th>3</th>\n",
       "      <td>0</td>\n",
       "      <td>64900000.0</td>\n",
       "      <td>159.0</td>\n",
       "      <td>2015-07-24</td>\n",
       "      <td>3</td>\n",
       "      <td>NaN</td>\n",
       "      <td>14</td>\n",
       "      <td>NaN</td>\n",
       "      <td>9</td>\n",
       "      <td>False</td>\n",
       "      <td>...</td>\n",
       "      <td>234.0</td>\n",
       "      <td>424.0</td>\n",
       "      <td>408176.100629</td>\n",
       "      <td>4</td>\n",
       "      <td>7</td>\n",
       "      <td>2015</td>\n",
       "      <td>другой</td>\n",
       "      <td>NaN</td>\n",
       "      <td>NaN</td>\n",
       "      <td>7</td>\n",
       "    </tr>\n",
       "    <tr>\n",
       "      <th>4</th>\n",
       "      <td>2</td>\n",
       "      <td>10000000.0</td>\n",
       "      <td>100.0</td>\n",
       "      <td>2018-06-19</td>\n",
       "      <td>2</td>\n",
       "      <td>3.03</td>\n",
       "      <td>14</td>\n",
       "      <td>32.0</td>\n",
       "      <td>13</td>\n",
       "      <td>False</td>\n",
       "      <td>...</td>\n",
       "      <td>48.0</td>\n",
       "      <td>121.0</td>\n",
       "      <td>100000.000000</td>\n",
       "      <td>1</td>\n",
       "      <td>6</td>\n",
       "      <td>2018</td>\n",
       "      <td>другой</td>\n",
       "      <td>0.320000</td>\n",
       "      <td>0.410000</td>\n",
       "      <td>8</td>\n",
       "    </tr>\n",
       "    <tr>\n",
       "      <th>7</th>\n",
       "      <td>5</td>\n",
       "      <td>7915000.0</td>\n",
       "      <td>71.6</td>\n",
       "      <td>2019-04-18</td>\n",
       "      <td>2</td>\n",
       "      <td>NaN</td>\n",
       "      <td>24</td>\n",
       "      <td>NaN</td>\n",
       "      <td>22</td>\n",
       "      <td>False</td>\n",
       "      <td>...</td>\n",
       "      <td>NaN</td>\n",
       "      <td>NaN</td>\n",
       "      <td>110544.692737</td>\n",
       "      <td>3</td>\n",
       "      <td>4</td>\n",
       "      <td>2019</td>\n",
       "      <td>другой</td>\n",
       "      <td>NaN</td>\n",
       "      <td>0.263966</td>\n",
       "      <td>12</td>\n",
       "    </tr>\n",
       "  </tbody>\n",
       "</table>\n",
       "<p>5 rows × 30 columns</p>\n",
       "</div>"
      ],
      "text/plain": [
       "   total_images  last_price  total_area first_day_exposition  rooms  \\\n",
       "0            20  13000000.0       108.0           2019-03-07      3   \n",
       "2            10   5196000.0        56.0           2015-08-20      2   \n",
       "3             0  64900000.0       159.0           2015-07-24      3   \n",
       "4             2  10000000.0       100.0           2018-06-19      2   \n",
       "7             5   7915000.0        71.6           2019-04-18      2   \n",
       "\n",
       "   ceiling_height  floors_total  living_area  floor  is_apartment  ...  \\\n",
       "0            2.70            16         51.0      8         False  ...   \n",
       "2             NaN             5         34.3      4         False  ...   \n",
       "3             NaN            14          NaN      9         False  ...   \n",
       "4            3.03            14         32.0     13         False  ...   \n",
       "7             NaN            24          NaN     22         False  ...   \n",
       "\n",
       "   ponds_nearest  days_exposition  square_meter_price  weekday month  year  \\\n",
       "0          755.0              NaN       120370.370370        3     3  2019   \n",
       "2          574.0            558.0        92785.714286        3     8  2015   \n",
       "3          234.0            424.0       408176.100629        4     7  2015   \n",
       "4           48.0            121.0       100000.000000        1     6  2018   \n",
       "7            NaN              NaN       110544.692737        3     4  2019   \n",
       "\n",
       "   floor_category  living_to_total_area  kitchen_to_total_area  \\\n",
       "0          другой              0.472222               0.231481   \n",
       "2          другой              0.612500               0.148214   \n",
       "3          другой                   NaN                    NaN   \n",
       "4          другой              0.320000               0.410000   \n",
       "7          другой                   NaN               0.263966   \n",
       "\n",
       "   center_distance_km  \n",
       "0                  16  \n",
       "2                  14  \n",
       "3                   7  \n",
       "4                   8  \n",
       "7                  12  \n",
       "\n",
       "[5 rows x 30 columns]"
      ]
     },
     "execution_count": 52,
     "metadata": {},
     "output_type": "execute_result"
    }
   ],
   "source": [
    "spb.head(5) # проверка "
   ]
  },
  {
   "cell_type": "code",
   "execution_count": 53,
   "metadata": {},
   "outputs": [
    {
     "data": {
      "text/plain": [
       "<AxesSubplot:xlabel='center_distance_km'>"
      ]
     },
     "execution_count": 53,
     "metadata": {},
     "output_type": "execute_result"
    },
    {
     "data": {
      "image/png": "[encoded data removed]",
      "text/plain": [
       "<Figure size 648x648 with 1 Axes>"
      ]
     },
     "metadata": {
      "needs_background": "light"
     },
     "output_type": "display_data"
    }
   ],
   "source": [
    "spb.pivot_table(            # столбчатая диаграмма распределения цены по километром от центра\n",
    "    index='center_distance_km',\n",
    "    values='last_price'\n",
    ").plot(\n",
    "    y='last_price',\n",
    "    kind='bar',\n",
    "    figsize=(9, 9)\n",
    ")"
   ]
  },
  {
   "cell_type": "markdown",
   "metadata": {},
   "source": [
    "#### Вывод"
   ]
  },
  {
   "cell_type": "markdown",
   "metadata": {},
   "source": [
    "7 км граница центральной зоны."
   ]
  },
  {
   "cell_type": "markdown",
   "metadata": {},
   "source": [
    "### Центр"
   ]
  },
  {
   "cell_type": "code",
   "execution_count": 54,
   "metadata": {},
   "outputs": [],
   "source": [
    "center = spb.query('center_distance_km <= 7') # выбор данных относящихся к центру Санкт-Петербурга"
   ]
  },
  {
   "cell_type": "code",
   "execution_count": 55,
   "metadata": {},
   "outputs": [
    {
     "data": {
      "image/png": "[encoded data removed]",
      "text/plain": [
       "<Figure size 504x504 with 1 Axes>"
      ]
     },
     "metadata": {
      "needs_background": "light"
     },
     "output_type": "display_data"
    },
    {
     "data": {
      "image/png": "[encoded data removed]",
      "text/plain": [
       "<Figure size 504x504 with 1 Axes>"
      ]
     },
     "metadata": {
      "needs_background": "light"
     },
     "output_type": "display_data"
    },
    {
     "data": {
      "image/png": "[encoded data removed]",
      "text/plain": [
       "<Figure size 504x504 with 1 Axes>"
      ]
     },
     "metadata": {
      "needs_background": "light"
     },
     "output_type": "display_data"
    },
    {
     "data": {
      "image/png": "[encoded data removed]",
      "text/plain": [
       "<Figure size 504x504 with 1 Axes>"
      ]
     },
     "metadata": {
      "needs_background": "light"
     },
     "output_type": "display_data"
    }
   ],
   "source": [
    "hist_columns(center, columns) # вызов функции для построения гистограмм по центру Санкт-Петербурга"
   ]
  },
  {
   "cell_type": "code",
   "execution_count": 56,
   "metadata": {
    "scrolled": false
   },
   "outputs": [
    {
     "data": {
      "image/png": "[encoded data removed]",
      "text/plain": [
       "<Figure size 432x432 with 1 Axes>"
      ]
     },
     "metadata": {
      "needs_background": "light"
     },
     "output_type": "display_data"
    },
    {
     "data": {
      "image/png": "[encoded data removed]",
      "text/plain": [
       "<Figure size 432x432 with 1 Axes>"
      ]
     },
     "metadata": {
      "needs_background": "light"
     },
     "output_type": "display_data"
    },
    {
     "data": {
      "image/png": "[encoded data removed]",
      "text/plain": [
       "<Figure size 432x432 with 1 Axes>"
      ]
     },
     "metadata": {
      "needs_background": "light"
     },
     "output_type": "display_data"
    },
    {
     "data": {
      "image/png": "[encoded data removed]",
      "text/plain": [
       "<Figure size 432x432 with 1 Axes>"
      ]
     },
     "metadata": {
      "needs_background": "light"
     },
     "output_type": "display_data"
    },
    {
     "data": {
      "image/png": "[encoded data removed]",
      "text/plain": [
       "<Figure size 432x432 with 1 Axes>"
      ]
     },
     "metadata": {
      "needs_background": "light"
     },
     "output_type": "display_data"
    },
    {
     "data": {
      "image/png": "[encoded data removed]",
      "text/plain": [
       "<Figure size 432x432 with 1 Axes>"
      ]
     },
     "metadata": {
      "needs_background": "light"
     },
     "output_type": "display_data"
    },
    {
     "data": {
      "image/png": "[encoded data removed]",
      "text/plain": [
       "<Figure size 432x432 with 1 Axes>"
      ]
     },
     "metadata": {
      "needs_background": "light"
     },
     "output_type": "display_data"
    }
   ],
   "source": [
    "columns_price_plot(center, columns_price) # построение диаграмм зависимости цены от факторов по центру города "
   ]
  },
  {
   "cell_type": "code",
   "execution_count": 57,
   "metadata": {},
   "outputs": [
    {
     "name": "stdout",
     "output_type": "stream",
     "text": [
      "Коэффициент корреляции  для total_area и last_price:  0.71\n",
      "Коэффициент корреляции  для city_centers_nearest и last_price: -0.038\n",
      "Коэффициент корреляции  для rooms и last_price:  0.38\n"
     ]
    }
   ],
   "source": [
    "for value in ['total_area', 'city_centers_nearest', 'rooms']: #Коэффициенты корреляции для количественных переменных по центру \n",
    "    correlation_coefficient = center[value].corr(data['last_price'])\n",
    "    print(f'Коэффициент корреляции  для {value} и last_price: {correlation_coefficient: .2}') "
   ]
  },
  {
   "cell_type": "markdown",
   "metadata": {},
   "source": [
    "#### Вывод"
   ]
  },
  {
   "cell_type": "code",
   "execution_count": 58,
   "metadata": {},
   "outputs": [
    {
     "data": {
      "text/html": [
       "<div>\n",
       "<style scoped>\n",
       "    .dataframe tbody tr th:only-of-type {\n",
       "        vertical-align: middle;\n",
       "    }\n",
       "\n",
       "    .dataframe tbody tr th {\n",
       "        vertical-align: top;\n",
       "    }\n",
       "\n",
       "    .dataframe thead th {\n",
       "        text-align: right;\n",
       "    }\n",
       "</style>\n",
       "<table border=\"1\" class=\"dataframe\">\n",
       "  <thead>\n",
       "    <tr style=\"text-align: right;\">\n",
       "      <th></th>\n",
       "      <th>segment</th>\n",
       "      <th>total_area (sq.m)</th>\n",
       "      <th>last_price(mln)</th>\n",
       "      <th>rooms</th>\n",
       "      <th>ceiling_height(m)</th>\n",
       "    </tr>\n",
       "  </thead>\n",
       "  <tbody>\n",
       "    <tr>\n",
       "      <th>0</th>\n",
       "      <td>all</td>\n",
       "      <td>40 - 60</td>\n",
       "      <td>3.5 - 4</td>\n",
       "      <td>1, 2</td>\n",
       "      <td>2.5</td>\n",
       "    </tr>\n",
       "    <tr>\n",
       "      <th>1</th>\n",
       "      <td>center</td>\n",
       "      <td>55 - 80</td>\n",
       "      <td>6 - 9</td>\n",
       "      <td>2, 3</td>\n",
       "      <td>3.0</td>\n",
       "    </tr>\n",
       "  </tbody>\n",
       "</table>\n",
       "</div>"
      ],
      "text/plain": [
       "  segment total_area (sq.m) last_price(mln) rooms  ceiling_height(m)\n",
       "0     all           40 - 60         3.5 - 4  1, 2                2.5\n",
       "1  center           55 - 80           6 - 9  2, 3                3.0"
      ]
     },
     "execution_count": 58,
     "metadata": {},
     "output_type": "execute_result"
    }
   ],
   "source": [
    "all_center = [\n",
    "    ['all', '40 - 60', '3.5 - 4', '1, 2', 2.5], \n",
    "    ['center', '55 - 80', '6 - 9', '2, 3', 3]] # Данные по колонкам\n",
    "\n",
    "col = ['segment', 'total_area (sq.m)', 'last_price(mln)', 'rooms', 'ceiling_height(m)'] # Названия колонок\n",
    "\n",
    "pd.DataFrame(data=all_center, columns=col) # Таблица с результатами сравнения всего датасета и сегмента центр"
   ]
  },
  {
   "cell_type": "markdown",
   "metadata": {},
   "source": [
    "И таблицы видно, что все показатели сдвигаются в право, цена при этом вырастает почти в два раза."
   ]
  },
  {
   "cell_type": "markdown",
   "metadata": {},
   "source": [
    "Количественные факторы:\n",
    "\n",
    "- Общая площадь имеет высокую корреляционную связь с ценой. Что для всего датасета, что для центра поведение почти не отличается.  \n",
    "- Количество комнат имеет заметную корреляционную связь с ценой, как и для всего датасета в целом. Но есть одно отличие характерное для центра Санкт-Петербурга это стоимость в значении 0 комнат, и скорее всего это доли в коммунальных квартирах в дореволюционном фонде, и их цена высока.\n",
    "- удалённость от центра перестает вообще как-то влиять на цену.\n",
    "\n",
    "Категориальные факторы:\n",
    "\n",
    "- Этаж - самые недорогие квартиры находятся на первом этаже, далее следует категории другие и замыкает последний. Ситуация меняется в том, что разница между первым и последним/другими этажами становится намного существеннее.\n",
    "- День недели - зависимость меняется теперь воскресенье лучший день для продажи.\n",
    "- Месяц имеет волнообразную форму более выраженный. В март, май, сентябрь октябрь лучше покупать, а вот январь июль и декабрь лучше продавать. буквально несколько значений могут полностью изменить картину.\n",
    "- Год - повторяет закономерность для всего датасета 2014 год очень высокая средняя цена, после чего с 2015 по 2018 идет плавное  снижение цены и небольшой рост в 2019 году."
   ]
  },
  {
   "cell_type": "markdown",
   "metadata": {},
   "source": [
    "## Общий вывод"
   ]
  },
  {
   "cell_type": "markdown",
   "metadata": {},
   "source": [
    "1. Ключевым фактором ценообразование квартиры является ее площадь, чем больше квартира, тем она дороже, это характерно как для всего датасета так и для объектов расположенных в центре Санкт-Петербурга.\n",
    "2. Характеристика «средней» квартиры в центре отличается от характеристики для всего датасета, в Центре квартиры более комфортные выше потолки, больше площадь, больше комнат, выше ценятся последние этажи, по причине вида и престижа на исторический центр, а вот первые наоборот сильно падают в цене. Цена отличается значительно. А вот удалённость от центра для центрального района почти не имеет значения.\n",
    "3. По датасетй наблюдается резкий рост цены в 2014 2015 году из-за обострения политической обстановки, и увеличения вложения в недвижимость, что подстегнуло цены, после чего рынок стал выравниваться.\n",
    "- Дата сет очень неоднородный, многие поля содержали большое количество пропусков, что могло сильно повлиять на качество исследования. Например высота потолков, если рассматривать датасет, как он есть без изменений то ожидаемым значением является 2.5 м., если все пропуски заполнить медианами, оно смесится в значение 2.65 м, если средними то 2.75 м. А это серьезно искажает данные т.к 2.5 - это высота потолков это стандартные «хрущевки», а вот 2.75 уже характерно для новостроек. \n",
    "4. Причины, на мой взгляд следующие:\n",
    "- ручной вводом информации и не обязательностью полей ввода,\n",
    "- проблемы с геолокацией и определением параметров, например параметр city_centers_nearest вычисляется только для объектов в Санкт-Петербурге.\n",
    "- датасет неоднороден в нем есть информация как по 15000 квартир в Санкт-Петербурге, так и по 1 записи для незначительных населенных пунктов. Многие значение сильно влияют друг на друга, например эксклюзивные предложения центра, с высокой стоимостью и количеством комнат и т.д."
   ]
  }
 ],
 "metadata": {
  "ExecuteTimeLog": [
   {
    "duration": 171,
    "start_time": "2022-03-13T10:49:08.212Z"
   },
   {
    "duration": 685,
    "start_time": "2022-03-13T10:49:27.938Z"
   },
   {
    "duration": 1018,
    "start_time": "2022-03-13T10:49:28.625Z"
   },
   {
    "duration": -1419,
    "start_time": "2022-03-13T10:49:31.067Z"
   },
   {
    "duration": -1419,
    "start_time": "2022-03-13T10:49:31.069Z"
   },
   {
    "duration": -1419,
    "start_time": "2022-03-13T10:49:31.071Z"
   },
   {
    "duration": -1421,
    "start_time": "2022-03-13T10:49:31.074Z"
   },
   {
    "duration": -1421,
    "start_time": "2022-03-13T10:49:31.076Z"
   },
   {
    "duration": -1422,
    "start_time": "2022-03-13T10:49:31.078Z"
   },
   {
    "duration": -1422,
    "start_time": "2022-03-13T10:49:31.080Z"
   },
   {
    "duration": -1423,
    "start_time": "2022-03-13T10:49:31.082Z"
   },
   {
    "duration": -1424,
    "start_time": "2022-03-13T10:49:31.085Z"
   },
   {
    "duration": -1425,
    "start_time": "2022-03-13T10:49:31.087Z"
   },
   {
    "duration": -1425,
    "start_time": "2022-03-13T10:49:31.089Z"
   },
   {
    "duration": -1425,
    "start_time": "2022-03-13T10:49:31.090Z"
   },
   {
    "duration": -1425,
    "start_time": "2022-03-13T10:49:31.092Z"
   },
   {
    "duration": -1430,
    "start_time": "2022-03-13T10:49:31.098Z"
   },
   {
    "duration": -1431,
    "start_time": "2022-03-13T10:49:31.101Z"
   },
   {
    "duration": -1433,
    "start_time": "2022-03-13T10:49:31.104Z"
   },
   {
    "duration": -1433,
    "start_time": "2022-03-13T10:49:31.106Z"
   },
   {
    "duration": -1433,
    "start_time": "2022-03-13T10:49:31.107Z"
   },
   {
    "duration": -1433,
    "start_time": "2022-03-13T10:49:31.109Z"
   },
   {
    "duration": -1434,
    "start_time": "2022-03-13T10:49:31.111Z"
   },
   {
    "duration": -1435,
    "start_time": "2022-03-13T10:49:31.113Z"
   },
   {
    "duration": -1447,
    "start_time": "2022-03-13T10:49:31.126Z"
   },
   {
    "duration": -1449,
    "start_time": "2022-03-13T10:49:31.129Z"
   },
   {
    "duration": -1450,
    "start_time": "2022-03-13T10:49:31.131Z"
   },
   {
    "duration": -1456,
    "start_time": "2022-03-13T10:49:31.137Z"
   },
   {
    "duration": -1457,
    "start_time": "2022-03-13T10:49:31.139Z"
   },
   {
    "duration": -1462,
    "start_time": "2022-03-13T10:49:31.145Z"
   },
   {
    "duration": -1463,
    "start_time": "2022-03-13T10:49:31.147Z"
   },
   {
    "duration": -1411,
    "start_time": "2022-03-13T10:49:31.149Z"
   },
   {
    "duration": -1411,
    "start_time": "2022-03-13T10:49:31.151Z"
   },
   {
    "duration": -1415,
    "start_time": "2022-03-13T10:49:31.157Z"
   },
   {
    "duration": -1415,
    "start_time": "2022-03-13T10:49:31.159Z"
   },
   {
    "duration": -1417,
    "start_time": "2022-03-13T10:49:31.162Z"
   },
   {
    "duration": -1417,
    "start_time": "2022-03-13T10:49:31.164Z"
   },
   {
    "duration": -1416,
    "start_time": "2022-03-13T10:49:31.165Z"
   },
   {
    "duration": -1417,
    "start_time": "2022-03-13T10:49:31.167Z"
   },
   {
    "duration": -1417,
    "start_time": "2022-03-13T10:49:31.169Z"
   },
   {
    "duration": -1421,
    "start_time": "2022-03-13T10:49:31.174Z"
   },
   {
    "duration": -1423,
    "start_time": "2022-03-13T10:49:31.177Z"
   },
   {
    "duration": -1424,
    "start_time": "2022-03-13T10:49:31.179Z"
   },
   {
    "duration": -1424,
    "start_time": "2022-03-13T10:49:31.181Z"
   },
   {
    "duration": -1423,
    "start_time": "2022-03-13T10:49:31.182Z"
   },
   {
    "duration": -1569,
    "start_time": "2022-03-13T10:49:31.329Z"
   },
   {
    "duration": -1592,
    "start_time": "2022-03-13T10:49:31.354Z"
   },
   {
    "duration": -1618,
    "start_time": "2022-03-13T10:49:31.381Z"
   },
   {
    "duration": -1635,
    "start_time": "2022-03-13T10:49:31.399Z"
   },
   {
    "duration": -1635,
    "start_time": "2022-03-13T10:49:31.401Z"
   },
   {
    "duration": -1636,
    "start_time": "2022-03-13T10:49:31.403Z"
   },
   {
    "duration": -1636,
    "start_time": "2022-03-13T10:49:31.405Z"
   },
   {
    "duration": -1636,
    "start_time": "2022-03-13T10:49:31.406Z"
   },
   {
    "duration": -1637,
    "start_time": "2022-03-13T10:49:31.409Z"
   },
   {
    "duration": -1636,
    "start_time": "2022-03-13T10:49:31.410Z"
   },
   {
    "duration": -1637,
    "start_time": "2022-03-13T10:49:31.412Z"
   },
   {
    "duration": -1637,
    "start_time": "2022-03-13T10:49:31.414Z"
   },
   {
    "duration": -1642,
    "start_time": "2022-03-13T10:49:31.420Z"
   },
   {
    "duration": -1642,
    "start_time": "2022-03-13T10:49:31.422Z"
   },
   {
    "duration": 728,
    "start_time": "2022-03-13T10:49:44.340Z"
   },
   {
    "duration": 3829,
    "start_time": "2022-03-13T10:49:45.070Z"
   },
   {
    "duration": -1451,
    "start_time": "2022-03-13T10:49:50.354Z"
   },
   {
    "duration": -1454,
    "start_time": "2022-03-13T10:49:50.359Z"
   },
   {
    "duration": -1456,
    "start_time": "2022-03-13T10:49:50.362Z"
   },
   {
    "duration": -1460,
    "start_time": "2022-03-13T10:49:50.367Z"
   },
   {
    "duration": -1461,
    "start_time": "2022-03-13T10:49:50.369Z"
   },
   {
    "duration": -1464,
    "start_time": "2022-03-13T10:49:50.373Z"
   },
   {
    "duration": -1467,
    "start_time": "2022-03-13T10:49:50.376Z"
   },
   {
    "duration": -1471,
    "start_time": "2022-03-13T10:49:50.381Z"
   },
   {
    "duration": -1475,
    "start_time": "2022-03-13T10:49:50.386Z"
   },
   {
    "duration": -1476,
    "start_time": "2022-03-13T10:49:50.388Z"
   },
   {
    "duration": -1481,
    "start_time": "2022-03-13T10:49:50.393Z"
   },
   {
    "duration": -1482,
    "start_time": "2022-03-13T10:49:50.395Z"
   },
   {
    "duration": -1486,
    "start_time": "2022-03-13T10:49:50.400Z"
   },
   {
    "duration": -1487,
    "start_time": "2022-03-13T10:49:50.402Z"
   },
   {
    "duration": -1491,
    "start_time": "2022-03-13T10:49:50.407Z"
   },
   {
    "duration": -1492,
    "start_time": "2022-03-13T10:49:50.409Z"
   },
   {
    "duration": -1496,
    "start_time": "2022-03-13T10:49:50.414Z"
   },
   {
    "duration": -1498,
    "start_time": "2022-03-13T10:49:50.416Z"
   },
   {
    "duration": -1502,
    "start_time": "2022-03-13T10:49:50.421Z"
   },
   {
    "duration": -1503,
    "start_time": "2022-03-13T10:49:50.423Z"
   },
   {
    "duration": -1507,
    "start_time": "2022-03-13T10:49:50.428Z"
   },
   {
    "duration": -1508,
    "start_time": "2022-03-13T10:49:50.430Z"
   },
   {
    "duration": -1513,
    "start_time": "2022-03-13T10:49:50.435Z"
   },
   {
    "duration": -1514,
    "start_time": "2022-03-13T10:49:50.437Z"
   },
   {
    "duration": -1518,
    "start_time": "2022-03-13T10:49:50.442Z"
   },
   {
    "duration": -1519,
    "start_time": "2022-03-13T10:49:50.444Z"
   },
   {
    "duration": -1523,
    "start_time": "2022-03-13T10:49:50.449Z"
   },
   {
    "duration": -1524,
    "start_time": "2022-03-13T10:49:50.451Z"
   },
   {
    "duration": -1528,
    "start_time": "2022-03-13T10:49:50.455Z"
   },
   {
    "duration": -1529,
    "start_time": "2022-03-13T10:49:50.457Z"
   },
   {
    "duration": -1533,
    "start_time": "2022-03-13T10:49:50.462Z"
   },
   {
    "duration": -1535,
    "start_time": "2022-03-13T10:49:50.465Z"
   },
   {
    "duration": -1539,
    "start_time": "2022-03-13T10:49:50.470Z"
   },
   {
    "duration": -1540,
    "start_time": "2022-03-13T10:49:50.472Z"
   },
   {
    "duration": -1545,
    "start_time": "2022-03-13T10:49:50.477Z"
   },
   {
    "duration": -1546,
    "start_time": "2022-03-13T10:49:50.479Z"
   },
   {
    "duration": -1550,
    "start_time": "2022-03-13T10:49:50.484Z"
   },
   {
    "duration": -1551,
    "start_time": "2022-03-13T10:49:50.486Z"
   },
   {
    "duration": -1555,
    "start_time": "2022-03-13T10:49:50.491Z"
   },
   {
    "duration": -1556,
    "start_time": "2022-03-13T10:49:50.493Z"
   },
   {
    "duration": -1560,
    "start_time": "2022-03-13T10:49:50.498Z"
   },
   {
    "duration": -1561,
    "start_time": "2022-03-13T10:49:50.500Z"
   },
   {
    "duration": -1565,
    "start_time": "2022-03-13T10:49:50.505Z"
   },
   {
    "duration": -1564,
    "start_time": "2022-03-13T10:49:50.506Z"
   },
   {
    "duration": -1568,
    "start_time": "2022-03-13T10:49:50.512Z"
   },
   {
    "duration": -1567,
    "start_time": "2022-03-13T10:49:50.514Z"
   },
   {
    "duration": -1567,
    "start_time": "2022-03-13T10:49:50.519Z"
   },
   {
    "duration": -1568,
    "start_time": "2022-03-13T10:49:50.521Z"
   },
   {
    "duration": -1572,
    "start_time": "2022-03-13T10:49:50.526Z"
   },
   {
    "duration": -1573,
    "start_time": "2022-03-13T10:49:50.528Z"
   },
   {
    "duration": -1577,
    "start_time": "2022-03-13T10:49:50.532Z"
   },
   {
    "duration": -1578,
    "start_time": "2022-03-13T10:49:50.534Z"
   },
   {
    "duration": -1581,
    "start_time": "2022-03-13T10:49:50.539Z"
   },
   {
    "duration": -1582,
    "start_time": "2022-03-13T10:49:50.541Z"
   },
   {
    "duration": -1586,
    "start_time": "2022-03-13T10:49:50.546Z"
   },
   {
    "duration": -1586,
    "start_time": "2022-03-13T10:49:50.547Z"
   },
   {
    "duration": 625,
    "start_time": "2022-03-13T10:50:30.348Z"
   },
   {
    "duration": 70,
    "start_time": "2022-03-13T10:50:30.975Z"
   },
   {
    "duration": 26,
    "start_time": "2022-03-13T10:50:31.047Z"
   },
   {
    "duration": 10,
    "start_time": "2022-03-13T10:50:31.076Z"
   },
   {
    "duration": 9,
    "start_time": "2022-03-13T10:50:31.088Z"
   },
   {
    "duration": 13,
    "start_time": "2022-03-13T10:50:31.099Z"
   },
   {
    "duration": 94,
    "start_time": "2022-03-13T10:50:31.114Z"
   },
   {
    "duration": 5,
    "start_time": "2022-03-13T10:50:31.210Z"
   },
   {
    "duration": 28,
    "start_time": "2022-03-13T10:50:31.217Z"
   },
   {
    "duration": 5,
    "start_time": "2022-03-13T10:50:31.246Z"
   },
   {
    "duration": 9,
    "start_time": "2022-03-13T10:50:31.253Z"
   },
   {
    "duration": 14,
    "start_time": "2022-03-13T10:50:31.263Z"
   },
   {
    "duration": 11,
    "start_time": "2022-03-13T10:50:31.278Z"
   },
   {
    "duration": 9,
    "start_time": "2022-03-13T10:50:31.291Z"
   },
   {
    "duration": 12,
    "start_time": "2022-03-13T10:50:31.301Z"
   },
   {
    "duration": 29,
    "start_time": "2022-03-13T10:50:31.315Z"
   },
   {
    "duration": 10,
    "start_time": "2022-03-13T10:50:31.346Z"
   },
   {
    "duration": 23,
    "start_time": "2022-03-13T10:50:31.358Z"
   },
   {
    "duration": 10,
    "start_time": "2022-03-13T10:50:31.383Z"
   },
   {
    "duration": 21,
    "start_time": "2022-03-13T10:50:31.394Z"
   },
   {
    "duration": 15,
    "start_time": "2022-03-13T10:50:31.417Z"
   },
   {
    "duration": 25,
    "start_time": "2022-03-13T10:50:31.434Z"
   },
   {
    "duration": 10,
    "start_time": "2022-03-13T10:50:31.462Z"
   },
   {
    "duration": 15,
    "start_time": "2022-03-13T10:50:31.475Z"
   },
   {
    "duration": 16,
    "start_time": "2022-03-13T10:50:31.492Z"
   },
   {
    "duration": 19,
    "start_time": "2022-03-13T10:50:31.510Z"
   },
   {
    "duration": 8,
    "start_time": "2022-03-13T10:50:31.531Z"
   },
   {
    "duration": 17,
    "start_time": "2022-03-13T10:50:31.540Z"
   },
   {
    "duration": 6,
    "start_time": "2022-03-13T10:50:31.559Z"
   },
   {
    "duration": 47,
    "start_time": "2022-03-13T10:50:31.567Z"
   },
   {
    "duration": 3,
    "start_time": "2022-03-13T10:50:31.616Z"
   },
   {
    "duration": 48,
    "start_time": "2022-03-13T10:50:31.620Z"
   },
   {
    "duration": 3,
    "start_time": "2022-03-13T10:50:31.670Z"
   },
   {
    "duration": 1159,
    "start_time": "2022-03-13T10:50:31.675Z"
   },
   {
    "duration": 427,
    "start_time": "2022-03-13T10:50:32.837Z"
   },
   {
    "duration": 283,
    "start_time": "2022-03-13T10:50:33.266Z"
   },
   {
    "duration": 5,
    "start_time": "2022-03-13T10:50:33.550Z"
   },
   {
    "duration": 7,
    "start_time": "2022-03-13T10:50:33.557Z"
   },
   {
    "duration": 17,
    "start_time": "2022-03-13T10:50:33.565Z"
   },
   {
    "duration": 356,
    "start_time": "2022-03-13T10:50:33.584Z"
   },
   {
    "duration": 9,
    "start_time": "2022-03-13T10:50:33.942Z"
   },
   {
    "duration": 9,
    "start_time": "2022-03-13T10:50:33.953Z"
   },
   {
    "duration": 4,
    "start_time": "2022-03-13T10:50:33.964Z"
   },
   {
    "duration": 7,
    "start_time": "2022-03-13T10:50:33.969Z"
   },
   {
    "duration": 2113,
    "start_time": "2022-03-13T10:50:33.978Z"
   },
   {
    "duration": 25,
    "start_time": "2022-03-13T10:50:36.093Z"
   },
   {
    "duration": 20,
    "start_time": "2022-03-13T10:50:36.120Z"
   },
   {
    "duration": 128,
    "start_time": "2022-03-13T10:50:36.142Z"
   },
   {
    "duration": 26,
    "start_time": "2022-03-13T10:50:36.272Z"
   },
   {
    "duration": 10,
    "start_time": "2022-03-13T10:50:36.299Z"
   },
   {
    "duration": 30,
    "start_time": "2022-03-13T10:50:36.310Z"
   },
   {
    "duration": 23,
    "start_time": "2022-03-13T10:50:36.342Z"
   },
   {
    "duration": 372,
    "start_time": "2022-03-13T10:50:36.367Z"
   },
   {
    "duration": 7,
    "start_time": "2022-03-13T10:50:36.741Z"
   },
   {
    "duration": 1185,
    "start_time": "2022-03-13T10:50:36.749Z"
   },
   {
    "duration": 1695,
    "start_time": "2022-03-13T10:50:37.937Z"
   },
   {
    "duration": 9,
    "start_time": "2022-03-13T10:50:39.634Z"
   },
   {
    "duration": 10,
    "start_time": "2022-03-13T10:50:39.644Z"
   },
   {
    "duration": 12,
    "start_time": "2022-03-13T10:53:27.719Z"
   },
   {
    "duration": 513,
    "start_time": "2022-03-13T10:56:13.269Z"
   },
   {
    "duration": 7,
    "start_time": "2022-03-13T10:56:57.526Z"
   },
   {
    "duration": 12,
    "start_time": "2022-03-13T10:57:07.035Z"
   },
   {
    "duration": 272,
    "start_time": "2022-03-13T10:57:41.072Z"
   },
   {
    "duration": 352,
    "start_time": "2022-03-13T10:59:47.006Z"
   },
   {
    "duration": 314,
    "start_time": "2022-03-13T11:01:29.770Z"
   },
   {
    "duration": 941,
    "start_time": "2022-03-13T11:07:19.501Z"
   },
   {
    "duration": 1140,
    "start_time": "2022-03-13T11:12:14.578Z"
   },
   {
    "duration": 69,
    "start_time": "2022-03-13T11:12:15.720Z"
   },
   {
    "duration": 28,
    "start_time": "2022-03-13T11:12:15.792Z"
   },
   {
    "duration": 24,
    "start_time": "2022-03-13T11:12:15.822Z"
   },
   {
    "duration": 10,
    "start_time": "2022-03-13T11:12:15.847Z"
   },
   {
    "duration": 9,
    "start_time": "2022-03-13T11:12:15.858Z"
   },
   {
    "duration": 94,
    "start_time": "2022-03-13T11:12:15.869Z"
   },
   {
    "duration": 5,
    "start_time": "2022-03-13T11:12:15.965Z"
   },
   {
    "duration": 12,
    "start_time": "2022-03-13T11:12:15.972Z"
   },
   {
    "duration": 7,
    "start_time": "2022-03-13T11:12:15.986Z"
   },
   {
    "duration": 13,
    "start_time": "2022-03-13T11:12:15.994Z"
   },
   {
    "duration": 19,
    "start_time": "2022-03-13T11:12:16.009Z"
   },
   {
    "duration": 20,
    "start_time": "2022-03-13T11:12:16.030Z"
   },
   {
    "duration": 13,
    "start_time": "2022-03-13T11:12:16.052Z"
   },
   {
    "duration": 16,
    "start_time": "2022-03-13T11:12:16.067Z"
   },
   {
    "duration": 15,
    "start_time": "2022-03-13T11:12:16.085Z"
   },
   {
    "duration": 12,
    "start_time": "2022-03-13T11:12:16.102Z"
   },
   {
    "duration": 35,
    "start_time": "2022-03-13T11:12:16.116Z"
   },
   {
    "duration": 3,
    "start_time": "2022-03-13T11:12:16.154Z"
   },
   {
    "duration": 9,
    "start_time": "2022-03-13T11:12:16.159Z"
   },
   {
    "duration": 19,
    "start_time": "2022-03-13T11:12:16.170Z"
   },
   {
    "duration": 22,
    "start_time": "2022-03-13T11:12:16.191Z"
   },
   {
    "duration": 24,
    "start_time": "2022-03-13T11:12:16.218Z"
   },
   {
    "duration": 13,
    "start_time": "2022-03-13T11:12:16.245Z"
   },
   {
    "duration": 6,
    "start_time": "2022-03-13T11:12:16.260Z"
   },
   {
    "duration": 16,
    "start_time": "2022-03-13T11:12:16.267Z"
   },
   {
    "duration": 10,
    "start_time": "2022-03-13T11:12:16.285Z"
   },
   {
    "duration": 5,
    "start_time": "2022-03-13T11:12:16.296Z"
   },
   {
    "duration": 36,
    "start_time": "2022-03-13T11:12:16.302Z"
   },
   {
    "duration": 24,
    "start_time": "2022-03-13T11:12:16.340Z"
   },
   {
    "duration": 2,
    "start_time": "2022-03-13T11:12:16.366Z"
   },
   {
    "duration": 34,
    "start_time": "2022-03-13T11:12:16.370Z"
   },
   {
    "duration": 4,
    "start_time": "2022-03-13T11:12:16.406Z"
   },
   {
    "duration": 1188,
    "start_time": "2022-03-13T11:12:16.437Z"
   },
   {
    "duration": 440,
    "start_time": "2022-03-13T11:12:17.627Z"
   },
   {
    "duration": 296,
    "start_time": "2022-03-13T11:12:18.069Z"
   },
   {
    "duration": 5,
    "start_time": "2022-03-13T11:12:18.367Z"
   },
   {
    "duration": 12,
    "start_time": "2022-03-13T11:12:18.373Z"
   },
   {
    "duration": 113,
    "start_time": "2022-03-13T11:12:18.387Z"
   },
   {
    "duration": 373,
    "start_time": "2022-03-13T11:12:18.503Z"
   },
   {
    "duration": 9,
    "start_time": "2022-03-13T11:12:18.877Z"
   },
   {
    "duration": 5,
    "start_time": "2022-03-13T11:12:18.888Z"
   },
   {
    "duration": 5,
    "start_time": "2022-03-13T11:12:18.895Z"
   },
   {
    "duration": 8,
    "start_time": "2022-03-13T11:12:18.901Z"
   },
   {
    "duration": 2060,
    "start_time": "2022-03-13T11:12:18.911Z"
   },
   {
    "duration": 26,
    "start_time": "2022-03-13T11:12:20.972Z"
   },
   {
    "duration": 6,
    "start_time": "2022-03-13T11:12:20.999Z"
   },
   {
    "duration": 360,
    "start_time": "2022-03-13T11:12:21.007Z"
   },
   {
    "duration": 25,
    "start_time": "2022-03-13T11:12:21.368Z"
   },
   {
    "duration": 23,
    "start_time": "2022-03-13T11:12:21.395Z"
   },
   {
    "duration": 7,
    "start_time": "2022-03-13T11:12:21.420Z"
   },
   {
    "duration": 22,
    "start_time": "2022-03-13T11:12:21.438Z"
   },
   {
    "duration": 375,
    "start_time": "2022-03-13T11:12:21.462Z"
   },
   {
    "duration": 7,
    "start_time": "2022-03-13T11:12:21.839Z"
   },
   {
    "duration": 1204,
    "start_time": "2022-03-13T11:12:21.847Z"
   },
   {
    "duration": 1662,
    "start_time": "2022-03-13T11:12:23.052Z"
   },
   {
    "duration": 8,
    "start_time": "2022-03-13T11:12:24.716Z"
   },
   {
    "duration": 10,
    "start_time": "2022-03-13T11:12:24.737Z"
   },
   {
    "duration": 1325,
    "start_time": "2023-01-23T07:31:31.215Z"
   },
   {
    "duration": 138,
    "start_time": "2023-01-23T07:31:32.542Z"
   },
   {
    "duration": 29,
    "start_time": "2023-01-23T07:31:32.682Z"
   },
   {
    "duration": 15,
    "start_time": "2023-01-23T07:31:32.712Z"
   },
   {
    "duration": 5,
    "start_time": "2023-01-23T07:31:32.729Z"
   },
   {
    "duration": 15,
    "start_time": "2023-01-23T07:31:32.735Z"
   },
   {
    "duration": 87,
    "start_time": "2023-01-23T07:31:32.752Z"
   },
   {
    "duration": 5,
    "start_time": "2023-01-23T07:31:32.841Z"
   },
   {
    "duration": 24,
    "start_time": "2023-01-23T07:31:32.848Z"
   },
   {
    "duration": 7,
    "start_time": "2023-01-23T07:31:32.874Z"
   },
   {
    "duration": 9,
    "start_time": "2023-01-23T07:31:32.883Z"
   },
   {
    "duration": 19,
    "start_time": "2023-01-23T07:31:32.893Z"
   },
   {
    "duration": 28,
    "start_time": "2023-01-23T07:31:32.914Z"
   },
   {
    "duration": 27,
    "start_time": "2023-01-23T07:31:32.944Z"
   },
   {
    "duration": 16,
    "start_time": "2023-01-23T07:31:32.973Z"
   },
   {
    "duration": 11,
    "start_time": "2023-01-23T07:31:32.991Z"
   },
   {
    "duration": 25,
    "start_time": "2023-01-23T07:31:33.004Z"
   },
   {
    "duration": 34,
    "start_time": "2023-01-23T07:31:33.030Z"
   },
   {
    "duration": 29,
    "start_time": "2023-01-23T07:31:33.066Z"
   },
   {
    "duration": 28,
    "start_time": "2023-01-23T07:31:33.097Z"
   },
   {
    "duration": 13,
    "start_time": "2023-01-23T07:31:33.126Z"
   },
   {
    "duration": 13,
    "start_time": "2023-01-23T07:31:33.141Z"
   },
   {
    "duration": 12,
    "start_time": "2023-01-23T07:31:33.156Z"
   },
   {
    "duration": 15,
    "start_time": "2023-01-23T07:31:33.169Z"
   },
   {
    "duration": 18,
    "start_time": "2023-01-23T07:31:33.186Z"
   },
   {
    "duration": 22,
    "start_time": "2023-01-23T07:31:33.206Z"
   },
   {
    "duration": 7,
    "start_time": "2023-01-23T07:31:33.229Z"
   },
   {
    "duration": 24,
    "start_time": "2023-01-23T07:31:33.238Z"
   },
   {
    "duration": 12,
    "start_time": "2023-01-23T07:31:33.264Z"
   },
   {
    "duration": 27,
    "start_time": "2023-01-23T07:31:33.278Z"
   },
   {
    "duration": 3,
    "start_time": "2023-01-23T07:31:33.306Z"
   },
   {
    "duration": 34,
    "start_time": "2023-01-23T07:31:33.311Z"
   },
   {
    "duration": 3,
    "start_time": "2023-01-23T07:31:33.347Z"
   },
   {
    "duration": 784,
    "start_time": "2023-01-23T07:31:33.352Z"
   },
   {
    "duration": 82,
    "start_time": "2023-01-23T07:31:34.137Z"
   },
   {
    "duration": 0,
    "start_time": "2023-01-23T07:31:34.221Z"
   },
   {
    "duration": 0,
    "start_time": "2023-01-23T07:31:34.223Z"
   },
   {
    "duration": 0,
    "start_time": "2023-01-23T07:31:34.224Z"
   },
   {
    "duration": 0,
    "start_time": "2023-01-23T07:31:34.225Z"
   },
   {
    "duration": 0,
    "start_time": "2023-01-23T07:31:34.226Z"
   },
   {
    "duration": 0,
    "start_time": "2023-01-23T07:31:34.228Z"
   },
   {
    "duration": 0,
    "start_time": "2023-01-23T07:31:34.229Z"
   },
   {
    "duration": 0,
    "start_time": "2023-01-23T07:31:34.231Z"
   },
   {
    "duration": 0,
    "start_time": "2023-01-23T07:31:34.232Z"
   },
   {
    "duration": 0,
    "start_time": "2023-01-23T07:31:34.233Z"
   },
   {
    "duration": 0,
    "start_time": "2023-01-23T07:31:34.234Z"
   },
   {
    "duration": 0,
    "start_time": "2023-01-23T07:31:34.235Z"
   },
   {
    "duration": 0,
    "start_time": "2023-01-23T07:31:34.236Z"
   },
   {
    "duration": 0,
    "start_time": "2023-01-23T07:31:34.237Z"
   },
   {
    "duration": 0,
    "start_time": "2023-01-23T07:31:34.238Z"
   },
   {
    "duration": 0,
    "start_time": "2023-01-23T07:31:34.239Z"
   },
   {
    "duration": 0,
    "start_time": "2023-01-23T07:31:34.240Z"
   },
   {
    "duration": 0,
    "start_time": "2023-01-23T07:31:34.241Z"
   },
   {
    "duration": 0,
    "start_time": "2023-01-23T07:31:34.242Z"
   },
   {
    "duration": 0,
    "start_time": "2023-01-23T07:31:34.243Z"
   },
   {
    "duration": 0,
    "start_time": "2023-01-23T07:31:34.244Z"
   },
   {
    "duration": 0,
    "start_time": "2023-01-23T07:31:34.245Z"
   },
   {
    "duration": 0,
    "start_time": "2023-01-23T07:31:34.246Z"
   },
   {
    "duration": 256,
    "start_time": "2023-01-23T07:31:57.278Z"
   },
   {
    "duration": 222,
    "start_time": "2023-01-23T07:32:10.416Z"
   },
   {
    "duration": 1104,
    "start_time": "2023-01-23T07:32:18.242Z"
   },
   {
    "duration": 82,
    "start_time": "2023-01-23T07:32:19.348Z"
   },
   {
    "duration": 28,
    "start_time": "2023-01-23T07:32:19.432Z"
   },
   {
    "duration": 13,
    "start_time": "2023-01-23T07:32:19.462Z"
   },
   {
    "duration": 3,
    "start_time": "2023-01-23T07:32:19.477Z"
   },
   {
    "duration": 13,
    "start_time": "2023-01-23T07:32:19.482Z"
   },
   {
    "duration": 93,
    "start_time": "2023-01-23T07:32:19.496Z"
   },
   {
    "duration": 5,
    "start_time": "2023-01-23T07:32:19.591Z"
   },
   {
    "duration": 15,
    "start_time": "2023-01-23T07:32:19.598Z"
   },
   {
    "duration": 13,
    "start_time": "2023-01-23T07:32:19.616Z"
   },
   {
    "duration": 5,
    "start_time": "2023-01-23T07:32:19.631Z"
   },
   {
    "duration": 5,
    "start_time": "2023-01-23T07:32:19.638Z"
   },
   {
    "duration": 11,
    "start_time": "2023-01-23T07:32:19.645Z"
   },
   {
    "duration": 12,
    "start_time": "2023-01-23T07:32:19.658Z"
   },
   {
    "duration": 5,
    "start_time": "2023-01-23T07:32:19.672Z"
   },
   {
    "duration": 8,
    "start_time": "2023-01-23T07:32:19.679Z"
   },
   {
    "duration": 14,
    "start_time": "2023-01-23T07:32:19.689Z"
   },
   {
    "duration": 28,
    "start_time": "2023-01-23T07:32:19.705Z"
   },
   {
    "duration": 3,
    "start_time": "2023-01-23T07:32:19.735Z"
   },
   {
    "duration": 7,
    "start_time": "2023-01-23T07:32:19.739Z"
   },
   {
    "duration": 12,
    "start_time": "2023-01-23T07:32:19.747Z"
   },
   {
    "duration": 12,
    "start_time": "2023-01-23T07:32:19.760Z"
   },
   {
    "duration": 21,
    "start_time": "2023-01-23T07:32:19.774Z"
   },
   {
    "duration": 31,
    "start_time": "2023-01-23T07:32:19.797Z"
   },
   {
    "duration": 7,
    "start_time": "2023-01-23T07:32:19.830Z"
   },
   {
    "duration": 17,
    "start_time": "2023-01-23T07:32:19.839Z"
   },
   {
    "duration": 7,
    "start_time": "2023-01-23T07:32:19.858Z"
   },
   {
    "duration": 15,
    "start_time": "2023-01-23T07:32:19.868Z"
   },
   {
    "duration": 24,
    "start_time": "2023-01-23T07:32:19.884Z"
   },
   {
    "duration": 33,
    "start_time": "2023-01-23T07:32:19.910Z"
   },
   {
    "duration": 3,
    "start_time": "2023-01-23T07:32:19.945Z"
   },
   {
    "duration": 34,
    "start_time": "2023-01-23T07:32:19.949Z"
   },
   {
    "duration": 4,
    "start_time": "2023-01-23T07:32:19.984Z"
   },
   {
    "duration": 905,
    "start_time": "2023-01-23T07:32:19.989Z"
   },
   {
    "duration": 279,
    "start_time": "2023-01-23T07:32:20.895Z"
   },
   {
    "duration": 232,
    "start_time": "2023-01-23T07:32:21.176Z"
   },
   {
    "duration": 5,
    "start_time": "2023-01-23T07:32:21.409Z"
   },
   {
    "duration": 14,
    "start_time": "2023-01-23T07:32:21.416Z"
   },
   {
    "duration": 28,
    "start_time": "2023-01-23T07:32:21.432Z"
   },
   {
    "duration": 194,
    "start_time": "2023-01-23T07:32:21.462Z"
   },
   {
    "duration": 8,
    "start_time": "2023-01-23T07:32:21.658Z"
   },
   {
    "duration": 22,
    "start_time": "2023-01-23T07:32:21.668Z"
   },
   {
    "duration": 11,
    "start_time": "2023-01-23T07:32:21.692Z"
   },
   {
    "duration": 16,
    "start_time": "2023-01-23T07:32:21.705Z"
   },
   {
    "duration": 1199,
    "start_time": "2023-01-23T07:32:21.723Z"
   },
   {
    "duration": 24,
    "start_time": "2023-01-23T07:32:22.927Z"
   },
   {
    "duration": 6,
    "start_time": "2023-01-23T07:32:22.953Z"
   },
   {
    "duration": 355,
    "start_time": "2023-01-23T07:32:22.960Z"
   },
   {
    "duration": 26,
    "start_time": "2023-01-23T07:32:23.317Z"
   },
   {
    "duration": 25,
    "start_time": "2023-01-23T07:32:23.345Z"
   },
   {
    "duration": 19,
    "start_time": "2023-01-23T07:32:23.372Z"
   },
   {
    "duration": 34,
    "start_time": "2023-01-23T07:32:23.392Z"
   },
   {
    "duration": 288,
    "start_time": "2023-01-23T07:32:23.428Z"
   },
   {
    "duration": 12,
    "start_time": "2023-01-23T07:32:23.717Z"
   },
   {
    "duration": 802,
    "start_time": "2023-01-23T07:32:23.731Z"
   },
   {
    "duration": 1120,
    "start_time": "2023-01-23T07:32:24.535Z"
   },
   {
    "duration": 8,
    "start_time": "2023-01-23T07:32:25.657Z"
   },
   {
    "duration": 16,
    "start_time": "2023-01-23T07:32:25.666Z"
   },
   {
    "duration": 1135,
    "start_time": "2023-01-23T07:34:21.394Z"
   },
   {
    "duration": 85,
    "start_time": "2023-01-23T07:34:22.531Z"
   },
   {
    "duration": 36,
    "start_time": "2023-01-23T07:34:22.618Z"
   },
   {
    "duration": 16,
    "start_time": "2023-01-23T07:34:22.656Z"
   },
   {
    "duration": 6,
    "start_time": "2023-01-23T07:34:22.674Z"
   },
   {
    "duration": 11,
    "start_time": "2023-01-23T07:34:22.681Z"
   },
   {
    "duration": 101,
    "start_time": "2023-01-23T07:34:22.694Z"
   },
   {
    "duration": 5,
    "start_time": "2023-01-23T07:34:22.797Z"
   },
   {
    "duration": 13,
    "start_time": "2023-01-23T07:34:22.803Z"
   },
   {
    "duration": 5,
    "start_time": "2023-01-23T07:34:22.827Z"
   },
   {
    "duration": 15,
    "start_time": "2023-01-23T07:34:22.833Z"
   },
   {
    "duration": 7,
    "start_time": "2023-01-23T07:34:22.850Z"
   },
   {
    "duration": 9,
    "start_time": "2023-01-23T07:34:22.859Z"
   },
   {
    "duration": 12,
    "start_time": "2023-01-23T07:34:22.869Z"
   },
   {
    "duration": 7,
    "start_time": "2023-01-23T07:34:22.883Z"
   },
   {
    "duration": 11,
    "start_time": "2023-01-23T07:34:22.892Z"
   },
   {
    "duration": 10,
    "start_time": "2023-01-23T07:34:22.904Z"
   },
   {
    "duration": 23,
    "start_time": "2023-01-23T07:34:22.915Z"
   },
   {
    "duration": 4,
    "start_time": "2023-01-23T07:34:22.939Z"
   },
   {
    "duration": 7,
    "start_time": "2023-01-23T07:34:22.944Z"
   },
   {
    "duration": 11,
    "start_time": "2023-01-23T07:34:22.952Z"
   },
   {
    "duration": 16,
    "start_time": "2023-01-23T07:34:22.964Z"
   },
   {
    "duration": 24,
    "start_time": "2023-01-23T07:34:22.982Z"
   },
   {
    "duration": 51,
    "start_time": "2023-01-23T07:34:23.008Z"
   },
   {
    "duration": 18,
    "start_time": "2023-01-23T07:34:23.061Z"
   },
   {
    "duration": 55,
    "start_time": "2023-01-23T07:34:23.081Z"
   },
   {
    "duration": 13,
    "start_time": "2023-01-23T07:34:23.137Z"
   },
   {
    "duration": 30,
    "start_time": "2023-01-23T07:34:23.154Z"
   },
   {
    "duration": 42,
    "start_time": "2023-01-23T07:34:23.186Z"
   },
   {
    "duration": 44,
    "start_time": "2023-01-23T07:34:23.230Z"
   },
   {
    "duration": 30,
    "start_time": "2023-01-23T07:34:23.276Z"
   },
   {
    "duration": 50,
    "start_time": "2023-01-23T07:34:23.307Z"
   },
   {
    "duration": 5,
    "start_time": "2023-01-23T07:34:23.359Z"
   },
   {
    "duration": 837,
    "start_time": "2023-01-23T07:34:23.365Z"
   },
   {
    "duration": 257,
    "start_time": "2023-01-23T07:34:24.203Z"
   },
   {
    "duration": 247,
    "start_time": "2023-01-23T07:34:24.461Z"
   },
   {
    "duration": 5,
    "start_time": "2023-01-23T07:34:24.709Z"
   },
   {
    "duration": 19,
    "start_time": "2023-01-23T07:34:24.716Z"
   },
   {
    "duration": 32,
    "start_time": "2023-01-23T07:34:24.736Z"
   },
   {
    "duration": 204,
    "start_time": "2023-01-23T07:34:24.770Z"
   },
   {
    "duration": 10,
    "start_time": "2023-01-23T07:34:24.976Z"
   },
   {
    "duration": 8,
    "start_time": "2023-01-23T07:34:24.988Z"
   },
   {
    "duration": 31,
    "start_time": "2023-01-23T07:34:24.999Z"
   },
   {
    "duration": 25,
    "start_time": "2023-01-23T07:34:25.032Z"
   },
   {
    "duration": 1171,
    "start_time": "2023-01-23T07:34:25.059Z"
   },
   {
    "duration": 24,
    "start_time": "2023-01-23T07:34:26.232Z"
   },
   {
    "duration": 6,
    "start_time": "2023-01-23T07:34:26.258Z"
   },
   {
    "duration": 345,
    "start_time": "2023-01-23T07:34:26.266Z"
   },
   {
    "duration": 36,
    "start_time": "2023-01-23T07:34:26.612Z"
   },
   {
    "duration": 10,
    "start_time": "2023-01-23T07:34:26.650Z"
   },
   {
    "duration": 15,
    "start_time": "2023-01-23T07:34:26.661Z"
   },
   {
    "duration": 27,
    "start_time": "2023-01-23T07:34:26.677Z"
   },
   {
    "duration": 308,
    "start_time": "2023-01-23T07:34:26.706Z"
   },
   {
    "duration": 12,
    "start_time": "2023-01-23T07:34:27.016Z"
   },
   {
    "duration": 830,
    "start_time": "2023-01-23T07:34:27.030Z"
   },
   {
    "duration": 1150,
    "start_time": "2023-01-23T07:34:27.862Z"
   },
   {
    "duration": 17,
    "start_time": "2023-01-23T07:34:29.014Z"
   },
   {
    "duration": 10,
    "start_time": "2023-01-23T07:34:29.033Z"
   }
  ],
  "kernelspec": {
   "display_name": "Python 3 (ipykernel)",
   "language": "python",
   "name": "python3"
  },
  "language_info": {
   "codemirror_mode": {
    "name": "ipython",
    "version": 3
   },
   "file_extension": ".py",
   "mimetype": "text/x-python",
   "name": "python",
   "nbconvert_exporter": "python",
   "pygments_lexer": "ipython3",
   "version": "3.9.5"
  },
  "toc": {
   "base_numbering": 1,
   "nav_menu": {},
   "number_sections": true,
   "sideBar": true,
   "skip_h1_title": true,
   "title_cell": "Содержание",
   "title_sidebar": "Contents",
   "toc_cell": true,
   "toc_position": {
    "height": "calc(100% - 180px)",
    "left": "10px",
    "top": "150px",
    "width": "165px"
   },
   "toc_section_display": true,
   "toc_window_display": true
  }
 },
 "nbformat": 4,
 "nbformat_minor": 4
}
