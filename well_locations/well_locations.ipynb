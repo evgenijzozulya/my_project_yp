{
 "cells": [
  {
   "cell_type": "markdown",
   "metadata": {
    "toc": true
   },
   "source": [
    "<h1>Содержание<span class=\"tocSkip\"></span></h1>\n",
    "<div class=\"toc\"><ul class=\"toc-item\"><li><span><a href=\"#Загрузка-и-подготовка-данных\" data-toc-modified-id=\"Загрузка-и-подготовка-данных-1\"><span class=\"toc-item-num\">1&nbsp;&nbsp;</span>Загрузка и подготовка данных</a></span></li><li><span><a href=\"#Обучение-и-проверка-модели\" data-toc-modified-id=\"Обучение-и-проверка-модели-2\"><span class=\"toc-item-num\">2&nbsp;&nbsp;</span>Обучение и проверка модели</a></span></li><li><span><a href=\"#Подготовка-к-расчёту-прибыли\" data-toc-modified-id=\"Подготовка-к-расчёту-прибыли-3\"><span class=\"toc-item-num\">3&nbsp;&nbsp;</span>Подготовка к расчёту прибыли</a></span></li><li><span><a href=\"#Расчёта-прибыли-по-выбранным-скважинам\" data-toc-modified-id=\"Расчёта-прибыли-по-выбранным-скважинам-4\"><span class=\"toc-item-num\">4&nbsp;&nbsp;</span>Расчёта прибыли по выбранным скважинам</a></span></li><li><span><a href=\"#Расчёт-прибыли-и-рисков\" data-toc-modified-id=\"Расчёт-прибыли-и-рисков-5\"><span class=\"toc-item-num\">5&nbsp;&nbsp;</span>Расчёт прибыли и рисков</a></span></li></ul></div>"
   ]
  },
  {
   "cell_type": "markdown",
   "metadata": {},
   "source": [
    "# Выбор локации для скважины"
   ]
  },
  {
   "cell_type": "markdown",
   "metadata": {},
   "source": [
    "**Заказчик**\n",
    "\n",
    "Добывающей компании «ГлавРосГосНефть».\n",
    "\n",
    "**Задача**\n",
    "\n",
    "Построить модель машинного обучения, которая поможет определить регион, где добыча принесёт наибольшую прибыль. Проанализировать возможную прибыль и риски.\n",
    "\n",
    "**Данные**\n",
    "\n",
    "Пробы нефти в трёх регионах: в каждом 100000 месторождений, где измерили качество нефти и объём её запасов. "
   ]
  },
  {
   "cell_type": "markdown",
   "metadata": {},
   "source": [
    "## Загрузка и подготовка данных"
   ]
  },
  {
   "cell_type": "code",
   "execution_count": 1,
   "metadata": {},
   "outputs": [],
   "source": [
    "# загрузка библиотек  \n",
    "import pandas as pd\n",
    "import numpy as np\n",
    "from sklearn.model_selection import train_test_split\n",
    "from sklearn.linear_model import LinearRegression\n",
    "from sklearn.preprocessing import StandardScaler\n",
    "from sklearn.metrics import mean_squared_error\n",
    "from scipy import stats as st"
   ]
  },
  {
   "cell_type": "code",
   "execution_count": 2,
   "metadata": {},
   "outputs": [],
   "source": [
    "#сохраняем путь к файлу на сервере Практикума\n",
    "server_path_geo_0 = '/datasets/geo_data_0.csv' \n",
    "server_path_geo_1 = '/datasets/geo_data_1.csv'\n",
    "server_path_geo_2 = '/datasets/geo_data_2.csv'\n",
    "\n",
    "#сохраняем путь к файлу на компьютере\n",
    "local_path_geo_0 = 'datasets/geo_data_0.csv'  \n",
    "local_path_geo_1 = 'datasets/geo_data_1.csv' \n",
    "local_path_geo_2 = 'datasets/geo_data_2.csv'\n",
    "\n",
    "\n",
    "try:                                                   #пробуем найти данные по сетевому адресу\n",
    "    geo_0 = pd.read_csv(server_path_geo_0) \n",
    "    geo_1 = pd.read_csv(server_path_geo_1)\n",
    "    geo_2 = pd.read_csv(server_path_geo_2)\n",
    "except:                                                #если не находим по сетевому, ищем по локальному\n",
    "    geo_0 = pd.read_csv(local_path_geo_0) \n",
    "    geo_1 = pd.read_csv(local_path_geo_1)\n",
    "    geo_2 = pd.read_csv(local_path_geo_2)"
   ]
  },
  {
   "cell_type": "code",
   "execution_count": 3,
   "metadata": {},
   "outputs": [],
   "source": [
    "datesets = {              #словарь датасетов\n",
    "    'Регион_1': geo_0,\n",
    "    'Регион_2': geo_1,\n",
    "    'Регион_3': geo_2\n",
    "}"
   ]
  },
  {
   "cell_type": "code",
   "execution_count": 4,
   "metadata": {
    "scrolled": false
   },
   "outputs": [
    {
     "name": "stdout",
     "output_type": "stream",
     "text": [
      "Датасет: Регион_1\n"
     ]
    },
    {
     "data": {
      "text/html": [
       "<div>\n",
       "<style scoped>\n",
       "    .dataframe tbody tr th:only-of-type {\n",
       "        vertical-align: middle;\n",
       "    }\n",
       "\n",
       "    .dataframe tbody tr th {\n",
       "        vertical-align: top;\n",
       "    }\n",
       "\n",
       "    .dataframe thead th {\n",
       "        text-align: right;\n",
       "    }\n",
       "</style>\n",
       "<table border=\"1\" class=\"dataframe\">\n",
       "  <thead>\n",
       "    <tr style=\"text-align: right;\">\n",
       "      <th></th>\n",
       "      <th>id</th>\n",
       "      <th>f0</th>\n",
       "      <th>f1</th>\n",
       "      <th>f2</th>\n",
       "      <th>product</th>\n",
       "    </tr>\n",
       "  </thead>\n",
       "  <tbody>\n",
       "    <tr>\n",
       "      <th>0</th>\n",
       "      <td>txEyH</td>\n",
       "      <td>0.705745</td>\n",
       "      <td>-0.497823</td>\n",
       "      <td>1.221170</td>\n",
       "      <td>105.280062</td>\n",
       "    </tr>\n",
       "    <tr>\n",
       "      <th>1</th>\n",
       "      <td>2acmU</td>\n",
       "      <td>1.334711</td>\n",
       "      <td>-0.340164</td>\n",
       "      <td>4.365080</td>\n",
       "      <td>73.037750</td>\n",
       "    </tr>\n",
       "    <tr>\n",
       "      <th>2</th>\n",
       "      <td>409Wp</td>\n",
       "      <td>1.022732</td>\n",
       "      <td>0.151990</td>\n",
       "      <td>1.419926</td>\n",
       "      <td>85.265647</td>\n",
       "    </tr>\n",
       "    <tr>\n",
       "      <th>3</th>\n",
       "      <td>iJLyR</td>\n",
       "      <td>-0.032172</td>\n",
       "      <td>0.139033</td>\n",
       "      <td>2.978566</td>\n",
       "      <td>168.620776</td>\n",
       "    </tr>\n",
       "    <tr>\n",
       "      <th>4</th>\n",
       "      <td>Xdl7t</td>\n",
       "      <td>1.988431</td>\n",
       "      <td>0.155413</td>\n",
       "      <td>4.751769</td>\n",
       "      <td>154.036647</td>\n",
       "    </tr>\n",
       "  </tbody>\n",
       "</table>\n",
       "</div>"
      ],
      "text/plain": [
       "      id        f0        f1        f2     product\n",
       "0  txEyH  0.705745 -0.497823  1.221170  105.280062\n",
       "1  2acmU  1.334711 -0.340164  4.365080   73.037750\n",
       "2  409Wp  1.022732  0.151990  1.419926   85.265647\n",
       "3  iJLyR -0.032172  0.139033  2.978566  168.620776\n",
       "4  Xdl7t  1.988431  0.155413  4.751769  154.036647"
      ]
     },
     "metadata": {},
     "output_type": "display_data"
    },
    {
     "name": "stdout",
     "output_type": "stream",
     "text": [
      "<class 'pandas.core.frame.DataFrame'>\n",
      "RangeIndex: 100000 entries, 0 to 99999\n",
      "Data columns (total 5 columns):\n",
      " #   Column   Non-Null Count   Dtype  \n",
      "---  ------   --------------   -----  \n",
      " 0   id       100000 non-null  object \n",
      " 1   f0       100000 non-null  float64\n",
      " 2   f1       100000 non-null  float64\n",
      " 3   f2       100000 non-null  float64\n",
      " 4   product  100000 non-null  float64\n",
      "dtypes: float64(4), object(1)\n",
      "memory usage: 3.8+ MB\n"
     ]
    },
    {
     "data": {
      "text/html": [
       "<div>\n",
       "<style scoped>\n",
       "    .dataframe tbody tr th:only-of-type {\n",
       "        vertical-align: middle;\n",
       "    }\n",
       "\n",
       "    .dataframe tbody tr th {\n",
       "        vertical-align: top;\n",
       "    }\n",
       "\n",
       "    .dataframe thead th {\n",
       "        text-align: right;\n",
       "    }\n",
       "</style>\n",
       "<table border=\"1\" class=\"dataframe\">\n",
       "  <thead>\n",
       "    <tr style=\"text-align: right;\">\n",
       "      <th></th>\n",
       "      <th>f0</th>\n",
       "      <th>f1</th>\n",
       "      <th>f2</th>\n",
       "      <th>product</th>\n",
       "    </tr>\n",
       "  </thead>\n",
       "  <tbody>\n",
       "    <tr>\n",
       "      <th>count</th>\n",
       "      <td>100000.000000</td>\n",
       "      <td>100000.000000</td>\n",
       "      <td>100000.000000</td>\n",
       "      <td>100000.000000</td>\n",
       "    </tr>\n",
       "    <tr>\n",
       "      <th>mean</th>\n",
       "      <td>0.500419</td>\n",
       "      <td>0.250143</td>\n",
       "      <td>2.502647</td>\n",
       "      <td>92.500000</td>\n",
       "    </tr>\n",
       "    <tr>\n",
       "      <th>std</th>\n",
       "      <td>0.871832</td>\n",
       "      <td>0.504433</td>\n",
       "      <td>3.248248</td>\n",
       "      <td>44.288691</td>\n",
       "    </tr>\n",
       "    <tr>\n",
       "      <th>min</th>\n",
       "      <td>-1.408605</td>\n",
       "      <td>-0.848218</td>\n",
       "      <td>-12.088328</td>\n",
       "      <td>0.000000</td>\n",
       "    </tr>\n",
       "    <tr>\n",
       "      <th>25%</th>\n",
       "      <td>-0.072580</td>\n",
       "      <td>-0.200881</td>\n",
       "      <td>0.287748</td>\n",
       "      <td>56.497507</td>\n",
       "    </tr>\n",
       "    <tr>\n",
       "      <th>50%</th>\n",
       "      <td>0.502360</td>\n",
       "      <td>0.250252</td>\n",
       "      <td>2.515969</td>\n",
       "      <td>91.849972</td>\n",
       "    </tr>\n",
       "    <tr>\n",
       "      <th>75%</th>\n",
       "      <td>1.073581</td>\n",
       "      <td>0.700646</td>\n",
       "      <td>4.715088</td>\n",
       "      <td>128.564089</td>\n",
       "    </tr>\n",
       "    <tr>\n",
       "      <th>max</th>\n",
       "      <td>2.362331</td>\n",
       "      <td>1.343769</td>\n",
       "      <td>16.003790</td>\n",
       "      <td>185.364347</td>\n",
       "    </tr>\n",
       "  </tbody>\n",
       "</table>\n",
       "</div>"
      ],
      "text/plain": [
       "                  f0             f1             f2        product\n",
       "count  100000.000000  100000.000000  100000.000000  100000.000000\n",
       "mean        0.500419       0.250143       2.502647      92.500000\n",
       "std         0.871832       0.504433       3.248248      44.288691\n",
       "min        -1.408605      -0.848218     -12.088328       0.000000\n",
       "25%        -0.072580      -0.200881       0.287748      56.497507\n",
       "50%         0.502360       0.250252       2.515969      91.849972\n",
       "75%         1.073581       0.700646       4.715088     128.564089\n",
       "max         2.362331       1.343769      16.003790     185.364347"
      ]
     },
     "metadata": {},
     "output_type": "display_data"
    },
    {
     "name": "stdout",
     "output_type": "stream",
     "text": [
      "\n",
      "Датасет: Регион_2\n"
     ]
    },
    {
     "data": {
      "text/html": [
       "<div>\n",
       "<style scoped>\n",
       "    .dataframe tbody tr th:only-of-type {\n",
       "        vertical-align: middle;\n",
       "    }\n",
       "\n",
       "    .dataframe tbody tr th {\n",
       "        vertical-align: top;\n",
       "    }\n",
       "\n",
       "    .dataframe thead th {\n",
       "        text-align: right;\n",
       "    }\n",
       "</style>\n",
       "<table border=\"1\" class=\"dataframe\">\n",
       "  <thead>\n",
       "    <tr style=\"text-align: right;\">\n",
       "      <th></th>\n",
       "      <th>id</th>\n",
       "      <th>f0</th>\n",
       "      <th>f1</th>\n",
       "      <th>f2</th>\n",
       "      <th>product</th>\n",
       "    </tr>\n",
       "  </thead>\n",
       "  <tbody>\n",
       "    <tr>\n",
       "      <th>0</th>\n",
       "      <td>kBEdx</td>\n",
       "      <td>-15.001348</td>\n",
       "      <td>-8.276000</td>\n",
       "      <td>-0.005876</td>\n",
       "      <td>3.179103</td>\n",
       "    </tr>\n",
       "    <tr>\n",
       "      <th>1</th>\n",
       "      <td>62mP7</td>\n",
       "      <td>14.272088</td>\n",
       "      <td>-3.475083</td>\n",
       "      <td>0.999183</td>\n",
       "      <td>26.953261</td>\n",
       "    </tr>\n",
       "    <tr>\n",
       "      <th>2</th>\n",
       "      <td>vyE1P</td>\n",
       "      <td>6.263187</td>\n",
       "      <td>-5.948386</td>\n",
       "      <td>5.001160</td>\n",
       "      <td>134.766305</td>\n",
       "    </tr>\n",
       "    <tr>\n",
       "      <th>3</th>\n",
       "      <td>KcrkZ</td>\n",
       "      <td>-13.081196</td>\n",
       "      <td>-11.506057</td>\n",
       "      <td>4.999415</td>\n",
       "      <td>137.945408</td>\n",
       "    </tr>\n",
       "    <tr>\n",
       "      <th>4</th>\n",
       "      <td>AHL4O</td>\n",
       "      <td>12.702195</td>\n",
       "      <td>-8.147433</td>\n",
       "      <td>5.004363</td>\n",
       "      <td>134.766305</td>\n",
       "    </tr>\n",
       "  </tbody>\n",
       "</table>\n",
       "</div>"
      ],
      "text/plain": [
       "      id         f0         f1        f2     product\n",
       "0  kBEdx -15.001348  -8.276000 -0.005876    3.179103\n",
       "1  62mP7  14.272088  -3.475083  0.999183   26.953261\n",
       "2  vyE1P   6.263187  -5.948386  5.001160  134.766305\n",
       "3  KcrkZ -13.081196 -11.506057  4.999415  137.945408\n",
       "4  AHL4O  12.702195  -8.147433  5.004363  134.766305"
      ]
     },
     "metadata": {},
     "output_type": "display_data"
    },
    {
     "name": "stdout",
     "output_type": "stream",
     "text": [
      "<class 'pandas.core.frame.DataFrame'>\n",
      "RangeIndex: 100000 entries, 0 to 99999\n",
      "Data columns (total 5 columns):\n",
      " #   Column   Non-Null Count   Dtype  \n",
      "---  ------   --------------   -----  \n",
      " 0   id       100000 non-null  object \n",
      " 1   f0       100000 non-null  float64\n",
      " 2   f1       100000 non-null  float64\n",
      " 3   f2       100000 non-null  float64\n",
      " 4   product  100000 non-null  float64\n",
      "dtypes: float64(4), object(1)\n",
      "memory usage: 3.8+ MB\n"
     ]
    },
    {
     "data": {
      "text/html": [
       "<div>\n",
       "<style scoped>\n",
       "    .dataframe tbody tr th:only-of-type {\n",
       "        vertical-align: middle;\n",
       "    }\n",
       "\n",
       "    .dataframe tbody tr th {\n",
       "        vertical-align: top;\n",
       "    }\n",
       "\n",
       "    .dataframe thead th {\n",
       "        text-align: right;\n",
       "    }\n",
       "</style>\n",
       "<table border=\"1\" class=\"dataframe\">\n",
       "  <thead>\n",
       "    <tr style=\"text-align: right;\">\n",
       "      <th></th>\n",
       "      <th>f0</th>\n",
       "      <th>f1</th>\n",
       "      <th>f2</th>\n",
       "      <th>product</th>\n",
       "    </tr>\n",
       "  </thead>\n",
       "  <tbody>\n",
       "    <tr>\n",
       "      <th>count</th>\n",
       "      <td>100000.000000</td>\n",
       "      <td>100000.000000</td>\n",
       "      <td>100000.000000</td>\n",
       "      <td>100000.000000</td>\n",
       "    </tr>\n",
       "    <tr>\n",
       "      <th>mean</th>\n",
       "      <td>1.141296</td>\n",
       "      <td>-4.796579</td>\n",
       "      <td>2.494541</td>\n",
       "      <td>68.825000</td>\n",
       "    </tr>\n",
       "    <tr>\n",
       "      <th>std</th>\n",
       "      <td>8.965932</td>\n",
       "      <td>5.119872</td>\n",
       "      <td>1.703572</td>\n",
       "      <td>45.944423</td>\n",
       "    </tr>\n",
       "    <tr>\n",
       "      <th>min</th>\n",
       "      <td>-31.609576</td>\n",
       "      <td>-26.358598</td>\n",
       "      <td>-0.018144</td>\n",
       "      <td>0.000000</td>\n",
       "    </tr>\n",
       "    <tr>\n",
       "      <th>25%</th>\n",
       "      <td>-6.298551</td>\n",
       "      <td>-8.267985</td>\n",
       "      <td>1.000021</td>\n",
       "      <td>26.953261</td>\n",
       "    </tr>\n",
       "    <tr>\n",
       "      <th>50%</th>\n",
       "      <td>1.153055</td>\n",
       "      <td>-4.813172</td>\n",
       "      <td>2.011479</td>\n",
       "      <td>57.085625</td>\n",
       "    </tr>\n",
       "    <tr>\n",
       "      <th>75%</th>\n",
       "      <td>8.621015</td>\n",
       "      <td>-1.332816</td>\n",
       "      <td>3.999904</td>\n",
       "      <td>107.813044</td>\n",
       "    </tr>\n",
       "    <tr>\n",
       "      <th>max</th>\n",
       "      <td>29.421755</td>\n",
       "      <td>18.734063</td>\n",
       "      <td>5.019721</td>\n",
       "      <td>137.945408</td>\n",
       "    </tr>\n",
       "  </tbody>\n",
       "</table>\n",
       "</div>"
      ],
      "text/plain": [
       "                  f0             f1             f2        product\n",
       "count  100000.000000  100000.000000  100000.000000  100000.000000\n",
       "mean        1.141296      -4.796579       2.494541      68.825000\n",
       "std         8.965932       5.119872       1.703572      45.944423\n",
       "min       -31.609576     -26.358598      -0.018144       0.000000\n",
       "25%        -6.298551      -8.267985       1.000021      26.953261\n",
       "50%         1.153055      -4.813172       2.011479      57.085625\n",
       "75%         8.621015      -1.332816       3.999904     107.813044\n",
       "max        29.421755      18.734063       5.019721     137.945408"
      ]
     },
     "metadata": {},
     "output_type": "display_data"
    },
    {
     "name": "stdout",
     "output_type": "stream",
     "text": [
      "\n",
      "Датасет: Регион_3\n"
     ]
    },
    {
     "data": {
      "text/html": [
       "<div>\n",
       "<style scoped>\n",
       "    .dataframe tbody tr th:only-of-type {\n",
       "        vertical-align: middle;\n",
       "    }\n",
       "\n",
       "    .dataframe tbody tr th {\n",
       "        vertical-align: top;\n",
       "    }\n",
       "\n",
       "    .dataframe thead th {\n",
       "        text-align: right;\n",
       "    }\n",
       "</style>\n",
       "<table border=\"1\" class=\"dataframe\">\n",
       "  <thead>\n",
       "    <tr style=\"text-align: right;\">\n",
       "      <th></th>\n",
       "      <th>id</th>\n",
       "      <th>f0</th>\n",
       "      <th>f1</th>\n",
       "      <th>f2</th>\n",
       "      <th>product</th>\n",
       "    </tr>\n",
       "  </thead>\n",
       "  <tbody>\n",
       "    <tr>\n",
       "      <th>0</th>\n",
       "      <td>fwXo0</td>\n",
       "      <td>-1.146987</td>\n",
       "      <td>0.963328</td>\n",
       "      <td>-0.828965</td>\n",
       "      <td>27.758673</td>\n",
       "    </tr>\n",
       "    <tr>\n",
       "      <th>1</th>\n",
       "      <td>WJtFt</td>\n",
       "      <td>0.262778</td>\n",
       "      <td>0.269839</td>\n",
       "      <td>-2.530187</td>\n",
       "      <td>56.069697</td>\n",
       "    </tr>\n",
       "    <tr>\n",
       "      <th>2</th>\n",
       "      <td>ovLUW</td>\n",
       "      <td>0.194587</td>\n",
       "      <td>0.289035</td>\n",
       "      <td>-5.586433</td>\n",
       "      <td>62.871910</td>\n",
       "    </tr>\n",
       "    <tr>\n",
       "      <th>3</th>\n",
       "      <td>q6cA6</td>\n",
       "      <td>2.236060</td>\n",
       "      <td>-0.553760</td>\n",
       "      <td>0.930038</td>\n",
       "      <td>114.572842</td>\n",
       "    </tr>\n",
       "    <tr>\n",
       "      <th>4</th>\n",
       "      <td>WPMUX</td>\n",
       "      <td>-0.515993</td>\n",
       "      <td>1.716266</td>\n",
       "      <td>5.899011</td>\n",
       "      <td>149.600746</td>\n",
       "    </tr>\n",
       "  </tbody>\n",
       "</table>\n",
       "</div>"
      ],
      "text/plain": [
       "      id        f0        f1        f2     product\n",
       "0  fwXo0 -1.146987  0.963328 -0.828965   27.758673\n",
       "1  WJtFt  0.262778  0.269839 -2.530187   56.069697\n",
       "2  ovLUW  0.194587  0.289035 -5.586433   62.871910\n",
       "3  q6cA6  2.236060 -0.553760  0.930038  114.572842\n",
       "4  WPMUX -0.515993  1.716266  5.899011  149.600746"
      ]
     },
     "metadata": {},
     "output_type": "display_data"
    },
    {
     "name": "stdout",
     "output_type": "stream",
     "text": [
      "<class 'pandas.core.frame.DataFrame'>\n",
      "RangeIndex: 100000 entries, 0 to 99999\n",
      "Data columns (total 5 columns):\n",
      " #   Column   Non-Null Count   Dtype  \n",
      "---  ------   --------------   -----  \n",
      " 0   id       100000 non-null  object \n",
      " 1   f0       100000 non-null  float64\n",
      " 2   f1       100000 non-null  float64\n",
      " 3   f2       100000 non-null  float64\n",
      " 4   product  100000 non-null  float64\n",
      "dtypes: float64(4), object(1)\n",
      "memory usage: 3.8+ MB\n"
     ]
    },
    {
     "data": {
      "text/html": [
       "<div>\n",
       "<style scoped>\n",
       "    .dataframe tbody tr th:only-of-type {\n",
       "        vertical-align: middle;\n",
       "    }\n",
       "\n",
       "    .dataframe tbody tr th {\n",
       "        vertical-align: top;\n",
       "    }\n",
       "\n",
       "    .dataframe thead th {\n",
       "        text-align: right;\n",
       "    }\n",
       "</style>\n",
       "<table border=\"1\" class=\"dataframe\">\n",
       "  <thead>\n",
       "    <tr style=\"text-align: right;\">\n",
       "      <th></th>\n",
       "      <th>f0</th>\n",
       "      <th>f1</th>\n",
       "      <th>f2</th>\n",
       "      <th>product</th>\n",
       "    </tr>\n",
       "  </thead>\n",
       "  <tbody>\n",
       "    <tr>\n",
       "      <th>count</th>\n",
       "      <td>100000.000000</td>\n",
       "      <td>100000.000000</td>\n",
       "      <td>100000.000000</td>\n",
       "      <td>100000.000000</td>\n",
       "    </tr>\n",
       "    <tr>\n",
       "      <th>mean</th>\n",
       "      <td>0.002023</td>\n",
       "      <td>-0.002081</td>\n",
       "      <td>2.495128</td>\n",
       "      <td>95.000000</td>\n",
       "    </tr>\n",
       "    <tr>\n",
       "      <th>std</th>\n",
       "      <td>1.732045</td>\n",
       "      <td>1.730417</td>\n",
       "      <td>3.473445</td>\n",
       "      <td>44.749921</td>\n",
       "    </tr>\n",
       "    <tr>\n",
       "      <th>min</th>\n",
       "      <td>-8.760004</td>\n",
       "      <td>-7.084020</td>\n",
       "      <td>-11.970335</td>\n",
       "      <td>0.000000</td>\n",
       "    </tr>\n",
       "    <tr>\n",
       "      <th>25%</th>\n",
       "      <td>-1.162288</td>\n",
       "      <td>-1.174820</td>\n",
       "      <td>0.130359</td>\n",
       "      <td>59.450441</td>\n",
       "    </tr>\n",
       "    <tr>\n",
       "      <th>50%</th>\n",
       "      <td>0.009424</td>\n",
       "      <td>-0.009482</td>\n",
       "      <td>2.484236</td>\n",
       "      <td>94.925613</td>\n",
       "    </tr>\n",
       "    <tr>\n",
       "      <th>75%</th>\n",
       "      <td>1.158535</td>\n",
       "      <td>1.163678</td>\n",
       "      <td>4.858794</td>\n",
       "      <td>130.595027</td>\n",
       "    </tr>\n",
       "    <tr>\n",
       "      <th>max</th>\n",
       "      <td>7.238262</td>\n",
       "      <td>7.844801</td>\n",
       "      <td>16.739402</td>\n",
       "      <td>190.029838</td>\n",
       "    </tr>\n",
       "  </tbody>\n",
       "</table>\n",
       "</div>"
      ],
      "text/plain": [
       "                  f0             f1             f2        product\n",
       "count  100000.000000  100000.000000  100000.000000  100000.000000\n",
       "mean        0.002023      -0.002081       2.495128      95.000000\n",
       "std         1.732045       1.730417       3.473445      44.749921\n",
       "min        -8.760004      -7.084020     -11.970335       0.000000\n",
       "25%        -1.162288      -1.174820       0.130359      59.450441\n",
       "50%         0.009424      -0.009482       2.484236      94.925613\n",
       "75%         1.158535       1.163678       4.858794     130.595027\n",
       "max         7.238262       7.844801      16.739402     190.029838"
      ]
     },
     "metadata": {},
     "output_type": "display_data"
    },
    {
     "name": "stdout",
     "output_type": "stream",
     "text": [
      "\n"
     ]
    }
   ],
   "source": [
    "for key, val in datesets.items(): #отображение всех датасетов\n",
    "    print(f'Датасет: {key}')\n",
    "    display(val.head())\n",
    "    val.info()\n",
    "    display(val.describe())\n",
    "    print()  "
   ]
  },
  {
   "cell_type": "code",
   "execution_count": 5,
   "metadata": {},
   "outputs": [
    {
     "name": "stdout",
     "output_type": "stream",
     "text": [
      "Датасет: Регион_1\n",
      "Число скважин с объемом 0: 1\n",
      "Число дубликатов по колонке ID: 10\n",
      "Число дубликатов полных дубликатов: 0\n",
      "Датасет: Регион_2\n",
      "Число скважин с объемом 0: 8235\n",
      "Число дубликатов по колонке ID: 4\n",
      "Число дубликатов полных дубликатов: 0\n",
      "Датасет: Регион_3\n",
      "Число скважин с объемом 0: 1\n",
      "Число дубликатов по колонке ID: 4\n",
      "Число дубликатов полных дубликатов: 0\n"
     ]
    }
   ],
   "source": [
    "#проверим на дубликаты посчитаем нулевые значения \n",
    "for key, val in datesets.items(): #отображение всех датасетов\n",
    "    print(f'Датасет: {key}')\n",
    "    print('Число скважин с объемом 0:', val[val['product'] == 0]['product'].count())\n",
    "    print('Число дубликатов по колонке ID:', val['id'].duplicated().sum())\n",
    "    print('Число дубликатов полных дубликатов:', val.duplicated().sum())"
   ]
  },
  {
   "cell_type": "code",
   "execution_count": 6,
   "metadata": {},
   "outputs": [],
   "source": [
    "# Объявление функции scaler с параметром: \n",
    "# - data - датасет по региону,\n",
    "# - numeric - перечень колонок, по которым необходимо провести стандартизацию данных,\n",
    "#которая: \n",
    "# - разделяет исходный датасет на параметры и целевой параметр,\n",
    "# - разделяет на две выборки обучающую и вариационную,\n",
    "# - проводит стандартизацию данных,\n",
    "# - выводит на экран проверку разделения.\n",
    "# И возвращает список 4 датасетов: features_train, features_valid, target_train, target_valid.\n",
    "\n",
    "def scaler (data, numeric):\n",
    "    \n",
    "    data = data.drop(['id'], axis=1) # для дальнейшей работы не нужен \n",
    "    \n",
    "    #выделяем признаки и целевой признак \n",
    "    target = data['product']\n",
    "    features = data.drop(['product'] , axis=1)\n",
    "    \n",
    "    # разделение на две выборки \n",
    "    features_train, features_valid, target_train, target_valid = train_test_split( # разделение на две выборки \n",
    "    features,\n",
    "    target, \n",
    "    test_size=0.25, \n",
    "    random_state=12345,\n",
    "    shuffle=True\n",
    "    )\n",
    "    \n",
    "    # стандартизация данных\n",
    "    scaler = StandardScaler()\n",
    "    scaler.fit(features_train[numeric])\n",
    "    features_train[numeric] = scaler.transform(features_train[numeric])\n",
    "    features_valid[numeric] = scaler.transform(features_valid[numeric])\n",
    "    \n",
    "    # проверка разбиения\n",
    "    print(features_train.shape)\n",
    "    print(features_valid.shape)\n",
    "    print(target_train.shape)\n",
    "    print(target_valid.shape)\n",
    "    \n",
    "    return [features_train, features_valid, target_train, target_valid]"
   ]
  },
  {
   "cell_type": "code",
   "execution_count": 7,
   "metadata": {},
   "outputs": [
    {
     "name": "stdout",
     "output_type": "stream",
     "text": [
      "Датасет: Регион_1\n",
      "(75000, 3)\n",
      "(25000, 3)\n",
      "(75000,)\n",
      "(25000,)\n",
      "Датасет: Регион_2\n",
      "(75000, 3)\n",
      "(25000, 3)\n",
      "(75000,)\n",
      "(25000,)\n",
      "Датасет: Регион_3\n",
      "(75000, 3)\n",
      "(25000, 3)\n",
      "(75000,)\n",
      "(25000,)\n"
     ]
    }
   ],
   "source": [
    "pd.options.mode.chained_assignment = None\n",
    "numeric = ['f0', 'f1', 'f2']\n",
    "\n",
    "#выполняем функцию scaler для трех регионов \n",
    "geo = []\n",
    "for key, val in datesets.items(): \n",
    "    print(f'Датасет: {key}')\n",
    "    geo.append(scaler(val, numeric))"
   ]
  },
  {
   "cell_type": "markdown",
   "metadata": {},
   "source": [
    "1. Провели превечный осмотр данных\n",
    "\n",
    "- параметр product для всех трех регионов имеет 0 значения, получается есть точки где нет нефти совсем, если для 1 и 3 региона это всего 1 точка на выборку 100000 то вот для 2 региона это 8.2% от общего числа,\n",
    "- проверили на дубликаты по ID они есть, но незначительны по полному кортежу дубликатов нет.\n",
    "\n",
    "2. Провели обработку данных\n",
    "- разбили на параметры и целевой параметр,\n",
    "- разбили выборки на обучающие и вариационные,\n",
    "- провели стандартизацию по параметрам, она ничего не дала, (проверял)  параметры f0 f1 f2 и так были в близких диапазонах. Но датасет может изменится."
   ]
  },
  {
   "cell_type": "markdown",
   "metadata": {},
   "source": [
    "## Обучение и проверка модели"
   ]
  },
  {
   "cell_type": "code",
   "execution_count": 8,
   "metadata": {},
   "outputs": [],
   "source": [
    "# Объявление функции modeling с параметром: features_train, features_valid, target_train, target_valid  \n",
    "#которая: \n",
    "# - обучает модель LinearRegression,\n",
    "# - вычисляет предсказания,\n",
    "# - проводит стандартизацию данных,\n",
    "# - выводит на экран RMSE и среднее.\n",
    "# И возвращает вычисленные предсказания.\n",
    "\n",
    "def modeling(features_train, features_valid, target_train, target_valid):\n",
    "    \n",
    "    model = LinearRegression()\n",
    "    model.fit(features_train, target_train)\n",
    "    predicted_valid = model.predict(features_valid)\n",
    "    rmse = mean_squared_error(target_valid, predicted_valid) ** 0.5\n",
    "    predicted_valid = pd.Series(predicted_valid, index=target_valid.index)\n",
    "    \n",
    "    print(\"RMSE =\", rmse)\n",
    "    print('Средний запас предсказанного сырья =', predicted_valid.mean())\n",
    "    \n",
    "    return predicted_valid"
   ]
  },
  {
   "cell_type": "code",
   "execution_count": 9,
   "metadata": {},
   "outputs": [
    {
     "name": "stdout",
     "output_type": "stream",
     "text": [
      "Регион 1\n",
      "RMSE = 37.5794217150813\n",
      "Средний запас предсказанного сырья = 92.59256778438035\n",
      "Регион 2\n",
      "RMSE = 0.893099286775617\n",
      "Средний запас предсказанного сырья = 68.728546895446\n",
      "Регион 3\n",
      "RMSE = 40.02970873393434\n",
      "Средний запас предсказанного сырья = 94.96504596800489\n"
     ]
    }
   ],
   "source": [
    "# выполняем функцию modeling для трех регионов \n",
    "\n",
    "for i in range(len(geo)): \n",
    "    print(\"Регион\", i+1)\n",
    "    geo[i].append(modeling(geo[i][0],\n",
    "                        geo[i][1],\n",
    "                        geo[i][2],\n",
    "                        geo[i][3]))"
   ]
  },
  {
   "cell_type": "markdown",
   "metadata": {},
   "source": [
    "**Выводы:**\n",
    "- 1 и 3 регион имею выше значения среднее запаса предсказанного сырья чем у региона 2, что советует показателям самих дата сетов.\n",
    "- Показатель RMSE для региона 2 на много лучше чем у 1 и 3 региона, предсказания на этом регионе получилось очень точные, в отличии от 1 и 3, где этот показатель 37 и 40 единиц соотвественно, и это может сказать о высоком риске при выборе этих регионов."
   ]
  },
  {
   "cell_type": "markdown",
   "metadata": {},
   "source": [
    "## Подготовка к расчёту прибыли"
   ]
  },
  {
   "cell_type": "code",
   "execution_count": 10,
   "metadata": {},
   "outputs": [],
   "source": [
    "# ключевые переменные\n",
    "\n",
    "development_budget = 1e10 # бюджет на разработку скважин в регионе\n",
    "revenue_per_thousand_barrel = 4.5e5 # доход с каждой единицы продукта, за тысячу баррелей \n",
    "develop_point_number = 200 # количество точек для разработки\n",
    "research_point_number = 500 # количество исследуемых точек\n",
    "beta = .95 # доверительный интервал"
   ]
  },
  {
   "cell_type": "code",
   "execution_count": 11,
   "metadata": {},
   "outputs": [
    {
     "name": "stdout",
     "output_type": "stream",
     "text": [
      "Минималньное среднее количевто продукта:  111.111\n"
     ]
    }
   ],
   "source": [
    "min_mean = development_budget / (develop_point_number * revenue_per_thousand_barrel)\n",
    "print(f'Минималньное среднее количевто продукта: {min_mean: .3f}')"
   ]
  },
  {
   "cell_type": "markdown",
   "metadata": {},
   "source": [
    "**Выводы:**\n",
    "\n",
    "- Минимальное среднее 111 тыс. баррелей.\n",
    "- Ни один из регионов не имеет такого среднего показателя.\n",
    "- К прогнозированию 200 лучших скважин нужно подходить очень тщательно."
   ]
  },
  {
   "cell_type": "markdown",
   "metadata": {},
   "source": [
    "## Расчёта прибыли по выбранным скважинам"
   ]
  },
  {
   "cell_type": "code",
   "execution_count": 12,
   "metadata": {},
   "outputs": [],
   "source": [
    "# Объявление функции modeling с параметром:\n",
    "# - target_valid \n",
    "# - predicted - предсказания\n",
    "# - development_budget - бюджет на разработку скважин в регионе \n",
    "# - revenue_per_thousand_barrel - доход с каждой единицы продукта, за тысячу баррелей \n",
    "# - develop_point_number - количество точек для разработки\n",
    "# И возвращает прибыль по региону исходя из предсказаний и реальных данных.\n",
    "\n",
    "def profit_calculation(target, \n",
    "                       predicted, \n",
    "                       development_budget, \n",
    "                       revenue_per_thousand_barrel, \n",
    "                       develop_point_number):\n",
    "    \n",
    "    probs_sorted = predicted.sort_values(ascending=False)\n",
    "    selected = target[probs_sorted.index][:develop_point_number]\n",
    "    \n",
    "    return revenue_per_thousand_barrel * selected.sum() - development_budget"
   ]
  },
  {
   "cell_type": "code",
   "execution_count": 13,
   "metadata": {},
   "outputs": [
    {
     "name": "stdout",
     "output_type": "stream",
     "text": [
      "Прибыль региона 1: 3320826043.14\n",
      "Прибыль региона 2: 2415086696.68\n",
      "Прибыль региона 3: 2710349963.60\n"
     ]
    }
   ],
   "source": [
    "# выполняем функцию profit_calculation для трех регионов \n",
    "\n",
    "for i in range(len(geo)):\n",
    "    pf = profit_calculation(geo[i][3],\n",
    "                           geo[i][4],\n",
    "                           development_budget,\n",
    "                           revenue_per_thousand_barrel, \n",
    "                           develop_point_number)\n",
    "    print(f'Прибыль региона {i+1}: {pf:.2f}')"
   ]
  },
  {
   "cell_type": "markdown",
   "metadata": {},
   "source": [
    "**Выводы:**\n",
    "\n",
    "- Все 3 региона дали положительный результат с высокой рентабельностью от 24 до 33%.\n",
    "- Но это 200 лучших из 25000 точек, на практике столько не разведывается.\n",
    "- 1 и 3 регион все еще в лидерах, но 1 регион несмотря на более низкое среднее за счет более точных предсказаний вырвался в лидеры. "
   ]
  },
  {
   "cell_type": "markdown",
   "metadata": {},
   "source": [
    "## Расчёт прибыли и рисков "
   ]
  },
  {
   "cell_type": "code",
   "execution_count": 14,
   "metadata": {},
   "outputs": [],
   "source": [
    "# Объявление функции modeling с параметром:\n",
    "# - target_valid \n",
    "# - predicted - предсказания\n",
    "# - development_budget - бюджет на разработку скважин в регионе \n",
    "# - revenue_per_thousand_barrel - доход с каждой единицы продукта, за тысячу баррелей \n",
    "# - develop_point_number - количество точек для разработки\n",
    "# - beta\n",
    "# - research_point_number - количество исследуемых точек\n",
    "#\n",
    "# И среднее значение, левую и правую границу доверительного интервала и вероятность риска.\n",
    "\n",
    "\n",
    "def  bootstrap_confidence_interval(target, \n",
    "                                   predicted,\n",
    "                                   development_budget,\n",
    "                                   develop_point_number,\n",
    "                                   research_point_number,\n",
    "                                   beta,\n",
    "                                   revenue_per_thousand_barrel):\n",
    "    \n",
    "    state = np.random.RandomState(12345)\n",
    "    values = []\n",
    "    \n",
    "    for i in range(1000): # запускаем bootstrap\n",
    "        subsample = predicted.sample(\n",
    "            500, \n",
    "            replace=True, \n",
    "            random_state=state\n",
    "        )\n",
    "        values.append(profit_calculation(target,     # считаем прибыль \n",
    "                                         subsample,\n",
    "                                         development_budget, \n",
    "                                         revenue_per_thousand_barrel, \n",
    "                                         develop_point_number))\n",
    "        \n",
    "    values = pd.Series(values)\n",
    "    confidence_interval = st.t.interval( # доверительный интервал\n",
    "    alpha=beta,\n",
    "    df=len(values) - 1,\n",
    "    loc=values.mean(),\n",
    "    scale=values.sem()\n",
    "    )\n",
    "    \n",
    "    risk_probability = values[values < 0].count()/len(values) # доля рисков\n",
    "    \n",
    "    return ['', values.mean(), confidence_interval[0], confidence_interval[1], risk_probability]  "
   ]
  },
  {
   "cell_type": "code",
   "execution_count": 15,
   "metadata": {},
   "outputs": [],
   "source": [
    "data = []\n",
    "\n",
    "# выполняем функцию bootstrap_confidence_interva для трех регионов \n",
    "for i in range(len(geo)): #отображение всех датасетов\n",
    "\n",
    "    region = bootstrap_confidence_interval(geo[i][3],\n",
    "                                 geo[i][4],\n",
    "                                 development_budget,\n",
    "                                 develop_point_number,research_point_number,\n",
    "                                 beta,\n",
    "                                 revenue_per_thousand_barrel)\n",
    "    region[0] = 'Регион ' + str(i+1)\n",
    "    data.append(region)"
   ]
  },
  {
   "cell_type": "code",
   "execution_count": 16,
   "metadata": {},
   "outputs": [],
   "source": [
    "pd.options.display.float_format = '{:.3f}'.format"
   ]
  },
  {
   "cell_type": "code",
   "execution_count": 17,
   "metadata": {},
   "outputs": [
    {
     "data": {
      "text/html": [
       "<div>\n",
       "<style scoped>\n",
       "    .dataframe tbody tr th:only-of-type {\n",
       "        vertical-align: middle;\n",
       "    }\n",
       "\n",
       "    .dataframe tbody tr th {\n",
       "        vertical-align: top;\n",
       "    }\n",
       "\n",
       "    .dataframe thead th {\n",
       "        text-align: right;\n",
       "    }\n",
       "</style>\n",
       "<table border=\"1\" class=\"dataframe\">\n",
       "  <thead>\n",
       "    <tr style=\"text-align: right;\">\n",
       "      <th></th>\n",
       "      <th>регион</th>\n",
       "      <th>среднее</th>\n",
       "      <th>левая_граница</th>\n",
       "      <th>правая_граница</th>\n",
       "      <th>вероятность_убытка</th>\n",
       "    </tr>\n",
       "  </thead>\n",
       "  <tbody>\n",
       "    <tr>\n",
       "      <th>0</th>\n",
       "      <td>Регион 1</td>\n",
       "      <td>396164984.802</td>\n",
       "      <td>379620315.148</td>\n",
       "      <td>412709654.457</td>\n",
       "      <td>0.069</td>\n",
       "    </tr>\n",
       "    <tr>\n",
       "      <th>1</th>\n",
       "      <td>Регион 2</td>\n",
       "      <td>456045105.787</td>\n",
       "      <td>443147248.664</td>\n",
       "      <td>468942962.909</td>\n",
       "      <td>0.015</td>\n",
       "    </tr>\n",
       "    <tr>\n",
       "      <th>2</th>\n",
       "      <td>Регион 3</td>\n",
       "      <td>404403866.568</td>\n",
       "      <td>387445797.471</td>\n",
       "      <td>421361935.665</td>\n",
       "      <td>0.076</td>\n",
       "    </tr>\n",
       "  </tbody>\n",
       "</table>\n",
       "</div>"
      ],
      "text/plain": [
       "     регион       среднее  левая_граница  правая_граница  вероятность_убытка\n",
       "0  Регион 1 396164984.802  379620315.148   412709654.457               0.069\n",
       "1  Регион 2 456045105.787  443147248.664   468942962.909               0.015\n",
       "2  Регион 3 404403866.568  387445797.471   421361935.665               0.076"
      ]
     },
     "execution_count": 17,
     "metadata": {},
     "output_type": "execute_result"
    }
   ],
   "source": [
    "columns = ['регион', 'среднее', 'левая_граница', 'правая_граница', 'вероятность_убытка'] # Названия колонок\n",
    "\n",
    "pd.DataFrame(data=data, columns=columns) # Таблица с результатами"
   ]
  },
  {
   "cell_type": "markdown",
   "metadata": {},
   "source": [
    "**Выводы:**\n",
    "\n",
    "- Bootstrap все поставил на свои места, взяли 500 случайных скважин, вобрали из них 200 лучших по предсказаниям, и проверили по реальным данным. Регион 2 имеет самую высокую среднее среднее прибыли, а также единственный удовлетворяет условии порога риска всего 1.5%.\n",
    "- Как и отмечалось ранее 1 и 3 регионы оказались очень рискованными."
   ]
  },
  {
   "cell_type": "markdown",
   "metadata": {},
   "source": [
    "**Регион для разработки – Регион 2** "
   ]
  }
 ],
 "metadata": {
  "ExecuteTimeLog": [
   {
    "duration": 1013,
    "start_time": "2022-06-13T12:54:04.761Z"
   },
   {
    "duration": 1738,
    "start_time": "2022-06-13T13:01:28.119Z"
   },
   {
    "duration": 2,
    "start_time": "2022-06-13T13:04:30.854Z"
   },
   {
    "duration": 142,
    "start_time": "2022-06-13T13:05:57.569Z"
   },
   {
    "duration": 139,
    "start_time": "2022-06-13T13:06:47.215Z"
   },
   {
    "duration": 3,
    "start_time": "2022-06-13T13:19:15.706Z"
   },
   {
    "duration": 2,
    "start_time": "2022-06-13T13:21:16.685Z"
   },
   {
    "duration": 3,
    "start_time": "2022-06-13T13:22:26.290Z"
   },
   {
    "duration": 7,
    "start_time": "2022-06-13T13:32:48.262Z"
   },
   {
    "duration": 6,
    "start_time": "2022-06-13T13:32:59.712Z"
   },
   {
    "duration": 8,
    "start_time": "2022-06-13T13:33:05.206Z"
   },
   {
    "duration": 7,
    "start_time": "2022-06-13T13:33:13.846Z"
   },
   {
    "duration": 11,
    "start_time": "2022-06-13T13:33:19.794Z"
   },
   {
    "duration": 7,
    "start_time": "2022-06-13T13:33:25.883Z"
   },
   {
    "duration": 5,
    "start_time": "2022-06-13T13:33:32.762Z"
   },
   {
    "duration": 12,
    "start_time": "2022-06-13T13:33:38.027Z"
   },
   {
    "duration": 4,
    "start_time": "2022-06-13T13:33:47.805Z"
   },
   {
    "duration": 32,
    "start_time": "2022-06-13T13:34:06.022Z"
   },
   {
    "duration": 16,
    "start_time": "2022-06-13T13:34:13.218Z"
   },
   {
    "duration": 10,
    "start_time": "2022-06-13T13:34:30.947Z"
   },
   {
    "duration": 16,
    "start_time": "2022-06-13T13:34:38.553Z"
   },
   {
    "duration": 11,
    "start_time": "2022-06-13T13:34:45.550Z"
   },
   {
    "duration": 7,
    "start_time": "2022-06-13T13:36:58.212Z"
   },
   {
    "duration": 6,
    "start_time": "2022-06-13T13:37:03.456Z"
   },
   {
    "duration": 5,
    "start_time": "2022-06-13T13:37:11.162Z"
   },
   {
    "duration": 5,
    "start_time": "2022-06-13T13:37:15.673Z"
   },
   {
    "duration": 45,
    "start_time": "2022-06-13T13:39:53.858Z"
   },
   {
    "duration": 7,
    "start_time": "2022-06-13T13:40:08.360Z"
   },
   {
    "duration": 50,
    "start_time": "2022-06-13T13:44:10.797Z"
   },
   {
    "duration": 51,
    "start_time": "2022-06-13T13:44:17.970Z"
   },
   {
    "duration": 86,
    "start_time": "2022-06-13T13:44:21.517Z"
   },
   {
    "duration": 51,
    "start_time": "2022-06-13T13:44:25.579Z"
   },
   {
    "duration": 24,
    "start_time": "2022-06-13T13:45:27.077Z"
   },
   {
    "duration": 21,
    "start_time": "2022-06-13T13:45:37.327Z"
   },
   {
    "duration": 18,
    "start_time": "2022-06-13T13:45:45.116Z"
   },
   {
    "duration": 147,
    "start_time": "2022-06-13T13:50:46.667Z"
   },
   {
    "duration": 3,
    "start_time": "2022-06-13T13:58:24.572Z"
   },
   {
    "duration": 5,
    "start_time": "2022-06-13T13:59:55.420Z"
   },
   {
    "duration": 4,
    "start_time": "2022-06-13T14:03:10.335Z"
   },
   {
    "duration": 33,
    "start_time": "2022-06-13T14:05:22.861Z"
   },
   {
    "duration": 4,
    "start_time": "2022-06-13T14:06:32.168Z"
   },
   {
    "duration": 29,
    "start_time": "2022-06-13T14:06:36.772Z"
   },
   {
    "duration": 1007,
    "start_time": "2022-06-13T14:06:52.479Z"
   },
   {
    "duration": 393,
    "start_time": "2022-06-13T14:06:53.488Z"
   },
   {
    "duration": 3,
    "start_time": "2022-06-13T14:06:53.883Z"
   },
   {
    "duration": 187,
    "start_time": "2022-06-13T14:06:53.888Z"
   },
   {
    "duration": 205,
    "start_time": "2022-06-13T14:06:54.077Z"
   },
   {
    "duration": 12,
    "start_time": "2022-06-13T14:06:54.283Z"
   },
   {
    "duration": 42,
    "start_time": "2022-06-13T14:06:54.297Z"
   },
   {
    "duration": 32,
    "start_time": "2022-06-13T14:07:29.392Z"
   },
   {
    "duration": 28,
    "start_time": "2022-06-13T14:07:42.012Z"
   },
   {
    "duration": 112,
    "start_time": "2022-06-13T14:10:59.397Z"
   },
   {
    "duration": 40,
    "start_time": "2022-06-13T14:11:07.281Z"
   },
   {
    "duration": 12,
    "start_time": "2022-06-13T14:12:02.733Z"
   },
   {
    "duration": 19,
    "start_time": "2022-06-13T14:13:01.763Z"
   },
   {
    "duration": 24,
    "start_time": "2022-06-13T14:13:19.078Z"
   },
   {
    "duration": 23,
    "start_time": "2022-06-13T14:13:25.517Z"
   },
   {
    "duration": 6,
    "start_time": "2022-06-13T14:25:29.309Z"
   },
   {
    "duration": 154,
    "start_time": "2022-06-13T14:26:01.244Z"
   },
   {
    "duration": 5,
    "start_time": "2022-06-13T14:27:17.421Z"
   },
   {
    "duration": 4,
    "start_time": "2022-06-13T14:27:19.906Z"
   },
   {
    "duration": 17,
    "start_time": "2022-06-13T14:27:21.198Z"
   },
   {
    "duration": 4,
    "start_time": "2022-06-13T14:29:11.505Z"
   },
   {
    "duration": 24,
    "start_time": "2022-06-13T14:29:13.288Z"
   },
   {
    "duration": 33,
    "start_time": "2022-06-13T14:29:53.130Z"
   },
   {
    "duration": 17,
    "start_time": "2022-06-13T14:30:01.459Z"
   },
   {
    "duration": 19,
    "start_time": "2022-06-13T14:30:21.646Z"
   },
   {
    "duration": 18,
    "start_time": "2022-06-13T14:31:14.337Z"
   },
   {
    "duration": 998,
    "start_time": "2022-06-13T14:34:21.145Z"
   },
   {
    "duration": 392,
    "start_time": "2022-06-13T14:34:22.145Z"
   },
   {
    "duration": 3,
    "start_time": "2022-06-13T14:34:22.539Z"
   },
   {
    "duration": 204,
    "start_time": "2022-06-13T14:34:22.545Z"
   },
   {
    "duration": 190,
    "start_time": "2022-06-13T14:34:22.750Z"
   },
   {
    "duration": 3,
    "start_time": "2022-06-13T14:34:22.942Z"
   },
   {
    "duration": 35,
    "start_time": "2022-06-13T14:34:22.947Z"
   },
   {
    "duration": 19,
    "start_time": "2022-06-13T14:34:22.984Z"
   },
   {
    "duration": 32,
    "start_time": "2022-06-13T14:34:23.005Z"
   },
   {
    "duration": 20,
    "start_time": "2022-06-13T14:34:23.039Z"
   },
   {
    "duration": 28,
    "start_time": "2022-06-13T14:34:23.061Z"
   },
   {
    "duration": 131,
    "start_time": "2022-06-13T14:34:23.103Z"
   },
   {
    "duration": 202,
    "start_time": "2022-06-13T14:34:23.236Z"
   },
   {
    "duration": 4,
    "start_time": "2022-06-13T14:35:03.450Z"
   },
   {
    "duration": 1037,
    "start_time": "2022-06-13T14:35:07.491Z"
   },
   {
    "duration": 354,
    "start_time": "2022-06-13T14:35:08.530Z"
   },
   {
    "duration": 2,
    "start_time": "2022-06-13T14:35:08.886Z"
   },
   {
    "duration": 160,
    "start_time": "2022-06-13T14:35:08.905Z"
   },
   {
    "duration": 197,
    "start_time": "2022-06-13T14:35:09.067Z"
   },
   {
    "duration": 4,
    "start_time": "2022-06-13T14:35:09.266Z"
   },
   {
    "duration": 47,
    "start_time": "2022-06-13T14:35:09.272Z"
   },
   {
    "duration": 26,
    "start_time": "2022-06-13T14:35:09.324Z"
   },
   {
    "duration": 23,
    "start_time": "2022-06-13T14:35:09.351Z"
   },
   {
    "duration": 3,
    "start_time": "2022-06-13T14:35:09.376Z"
   },
   {
    "duration": 39,
    "start_time": "2022-06-13T14:35:09.381Z"
   },
   {
    "duration": 91,
    "start_time": "2022-06-13T14:35:09.421Z"
   },
   {
    "duration": 183,
    "start_time": "2022-06-13T14:35:09.518Z"
   },
   {
    "duration": 1031,
    "start_time": "2022-06-13T14:36:23.609Z"
   },
   {
    "duration": 371,
    "start_time": "2022-06-13T14:36:24.642Z"
   },
   {
    "duration": 3,
    "start_time": "2022-06-13T14:36:25.020Z"
   },
   {
    "duration": 159,
    "start_time": "2022-06-13T14:36:25.024Z"
   },
   {
    "duration": 189,
    "start_time": "2022-06-13T14:36:25.184Z"
   },
   {
    "duration": 4,
    "start_time": "2022-06-13T14:36:25.374Z"
   },
   {
    "duration": 49,
    "start_time": "2022-06-13T14:36:25.379Z"
   },
   {
    "duration": 14,
    "start_time": "2022-06-13T14:36:25.429Z"
   },
   {
    "duration": 13,
    "start_time": "2022-06-13T14:36:25.444Z"
   },
   {
    "duration": 4,
    "start_time": "2022-06-13T14:36:25.458Z"
   },
   {
    "duration": 54,
    "start_time": "2022-06-13T14:36:25.464Z"
   },
   {
    "duration": 92,
    "start_time": "2022-06-13T14:36:25.521Z"
   },
   {
    "duration": 185,
    "start_time": "2022-06-13T14:36:25.614Z"
   },
   {
    "duration": 993,
    "start_time": "2022-06-13T14:37:19.378Z"
   },
   {
    "duration": 366,
    "start_time": "2022-06-13T14:37:20.373Z"
   },
   {
    "duration": 3,
    "start_time": "2022-06-13T14:37:20.741Z"
   },
   {
    "duration": 182,
    "start_time": "2022-06-13T14:37:20.746Z"
   },
   {
    "duration": 201,
    "start_time": "2022-06-13T14:37:20.931Z"
   },
   {
    "duration": 5,
    "start_time": "2022-06-13T14:37:21.133Z"
   },
   {
    "duration": 34,
    "start_time": "2022-06-13T14:37:21.139Z"
   },
   {
    "duration": 51,
    "start_time": "2022-06-13T14:37:21.175Z"
   },
   {
    "duration": 25,
    "start_time": "2022-06-13T14:37:21.227Z"
   },
   {
    "duration": 4,
    "start_time": "2022-06-13T14:37:21.255Z"
   },
   {
    "duration": 48,
    "start_time": "2022-06-13T14:37:21.260Z"
   },
   {
    "duration": 115,
    "start_time": "2022-06-13T14:37:21.309Z"
   },
   {
    "duration": 94,
    "start_time": "2022-06-13T14:37:21.425Z"
   },
   {
    "duration": 2,
    "start_time": "2022-06-13T14:41:41.204Z"
   },
   {
    "duration": 3,
    "start_time": "2022-06-13T14:41:55.731Z"
   },
   {
    "duration": 3,
    "start_time": "2022-06-13T14:42:16.824Z"
   },
   {
    "duration": 2,
    "start_time": "2022-06-13T14:53:45.177Z"
   },
   {
    "duration": 106,
    "start_time": "2022-06-13T14:55:33.773Z"
   },
   {
    "duration": 2,
    "start_time": "2022-06-13T14:55:43.219Z"
   },
   {
    "duration": 3,
    "start_time": "2022-06-13T14:55:43.581Z"
   },
   {
    "duration": 3,
    "start_time": "2022-06-13T15:03:00.439Z"
   },
   {
    "duration": 8,
    "start_time": "2022-06-13T15:03:06.310Z"
   },
   {
    "duration": 4,
    "start_time": "2022-06-13T15:03:13.105Z"
   },
   {
    "duration": 21,
    "start_time": "2022-06-13T15:03:19.288Z"
   },
   {
    "duration": 4,
    "start_time": "2022-06-13T15:03:23.352Z"
   },
   {
    "duration": 9,
    "start_time": "2022-06-13T15:07:08.190Z"
   },
   {
    "duration": 6,
    "start_time": "2022-06-13T15:07:22.538Z"
   },
   {
    "duration": 4,
    "start_time": "2022-06-13T15:09:16.651Z"
   },
   {
    "duration": 13,
    "start_time": "2022-06-13T15:09:18.233Z"
   },
   {
    "duration": 5,
    "start_time": "2022-06-13T15:09:21.753Z"
   },
   {
    "duration": 3,
    "start_time": "2022-06-13T15:09:35.687Z"
   },
   {
    "duration": 12,
    "start_time": "2022-06-13T15:09:36.281Z"
   },
   {
    "duration": 5,
    "start_time": "2022-06-13T15:09:36.734Z"
   },
   {
    "duration": 6,
    "start_time": "2022-06-13T15:10:14.034Z"
   },
   {
    "duration": 6,
    "start_time": "2022-06-13T15:10:23.783Z"
   },
   {
    "duration": 14,
    "start_time": "2022-06-13T15:10:35.479Z"
   },
   {
    "duration": 1013,
    "start_time": "2022-06-13T15:10:42.930Z"
   },
   {
    "duration": 365,
    "start_time": "2022-06-13T15:10:43.945Z"
   },
   {
    "duration": 2,
    "start_time": "2022-06-13T15:10:44.312Z"
   },
   {
    "duration": 157,
    "start_time": "2022-06-13T15:10:44.316Z"
   },
   {
    "duration": 196,
    "start_time": "2022-06-13T15:10:44.474Z"
   },
   {
    "duration": 5,
    "start_time": "2022-06-13T15:10:44.672Z"
   },
   {
    "duration": 46,
    "start_time": "2022-06-13T15:10:44.679Z"
   },
   {
    "duration": 30,
    "start_time": "2022-06-13T15:10:44.726Z"
   },
   {
    "duration": 49,
    "start_time": "2022-06-13T15:10:44.758Z"
   },
   {
    "duration": 4,
    "start_time": "2022-06-13T15:10:44.809Z"
   },
   {
    "duration": 26,
    "start_time": "2022-06-13T15:10:44.814Z"
   },
   {
    "duration": 67,
    "start_time": "2022-06-13T15:10:44.841Z"
   },
   {
    "duration": 16,
    "start_time": "2022-06-13T15:10:44.995Z"
   },
   {
    "duration": 203,
    "start_time": "2022-06-13T15:10:45.012Z"
   },
   {
    "duration": 80,
    "start_time": "2022-06-13T15:10:45.216Z"
   },
   {
    "duration": 104,
    "start_time": "2022-06-13T15:10:45.298Z"
   },
   {
    "duration": 5,
    "start_time": "2022-06-13T15:10:45.404Z"
   },
   {
    "duration": 5,
    "start_time": "2022-06-13T15:11:15.950Z"
   },
   {
    "duration": 5,
    "start_time": "2022-06-13T15:11:55.142Z"
   },
   {
    "duration": 7,
    "start_time": "2022-06-13T15:12:50.188Z"
   },
   {
    "duration": 6,
    "start_time": "2022-06-13T15:13:20.527Z"
   },
   {
    "duration": 4,
    "start_time": "2022-06-13T15:13:24.966Z"
   },
   {
    "duration": 970,
    "start_time": "2022-06-13T15:15:39.672Z"
   },
   {
    "duration": 344,
    "start_time": "2022-06-13T15:15:40.644Z"
   },
   {
    "duration": 3,
    "start_time": "2022-06-13T15:15:40.990Z"
   },
   {
    "duration": 161,
    "start_time": "2022-06-13T15:15:40.995Z"
   },
   {
    "duration": 191,
    "start_time": "2022-06-13T15:15:41.158Z"
   },
   {
    "duration": 4,
    "start_time": "2022-06-13T15:15:41.351Z"
   },
   {
    "duration": 48,
    "start_time": "2022-06-13T15:15:41.356Z"
   },
   {
    "duration": 29,
    "start_time": "2022-06-13T15:15:41.406Z"
   },
   {
    "duration": 25,
    "start_time": "2022-06-13T15:15:41.436Z"
   },
   {
    "duration": 3,
    "start_time": "2022-06-13T15:15:41.464Z"
   },
   {
    "duration": 32,
    "start_time": "2022-06-13T15:15:41.469Z"
   },
   {
    "duration": 100,
    "start_time": "2022-06-13T15:15:41.503Z"
   },
   {
    "duration": 115,
    "start_time": "2022-06-13T15:15:41.695Z"
   },
   {
    "duration": 79,
    "start_time": "2022-06-13T15:15:41.816Z"
   },
   {
    "duration": 97,
    "start_time": "2022-06-13T15:15:41.897Z"
   },
   {
    "duration": 5,
    "start_time": "2022-06-13T15:15:41.996Z"
   },
   {
    "duration": 6,
    "start_time": "2022-06-13T15:16:04.376Z"
   },
   {
    "duration": 6,
    "start_time": "2022-06-13T15:16:18.743Z"
   },
   {
    "duration": 5,
    "start_time": "2022-06-13T15:16:36.096Z"
   },
   {
    "duration": 6,
    "start_time": "2022-06-13T15:17:01.605Z"
   },
   {
    "duration": 5,
    "start_time": "2022-06-13T15:17:10.679Z"
   },
   {
    "duration": 6,
    "start_time": "2022-06-13T15:17:17.517Z"
   },
   {
    "duration": 885,
    "start_time": "2022-06-13T15:17:48.020Z"
   },
   {
    "duration": 347,
    "start_time": "2022-06-13T15:17:48.906Z"
   },
   {
    "duration": 2,
    "start_time": "2022-06-13T15:17:49.255Z"
   },
   {
    "duration": 168,
    "start_time": "2022-06-13T15:17:49.259Z"
   },
   {
    "duration": 195,
    "start_time": "2022-06-13T15:17:49.428Z"
   },
   {
    "duration": 5,
    "start_time": "2022-06-13T15:17:49.625Z"
   },
   {
    "duration": 34,
    "start_time": "2022-06-13T15:17:49.632Z"
   },
   {
    "duration": 46,
    "start_time": "2022-06-13T15:17:49.667Z"
   },
   {
    "duration": 26,
    "start_time": "2022-06-13T15:17:49.715Z"
   },
   {
    "duration": 4,
    "start_time": "2022-06-13T15:17:49.743Z"
   },
   {
    "duration": 48,
    "start_time": "2022-06-13T15:17:49.749Z"
   },
   {
    "duration": 103,
    "start_time": "2022-06-13T15:17:49.798Z"
   },
   {
    "duration": 105,
    "start_time": "2022-06-13T15:17:49.903Z"
   },
   {
    "duration": 3,
    "start_time": "2022-06-13T15:17:50.010Z"
   },
   {
    "duration": 82,
    "start_time": "2022-06-13T15:17:50.014Z"
   },
   {
    "duration": 101,
    "start_time": "2022-06-13T15:17:50.098Z"
   },
   {
    "duration": 3,
    "start_time": "2022-06-13T15:27:04.935Z"
   },
   {
    "duration": 8,
    "start_time": "2022-06-13T15:28:52.667Z"
   },
   {
    "duration": 8,
    "start_time": "2022-06-13T15:29:32.093Z"
   },
   {
    "duration": 8,
    "start_time": "2022-06-13T15:30:18.998Z"
   },
   {
    "duration": 3,
    "start_time": "2022-06-13T15:32:05.858Z"
   },
   {
    "duration": 13,
    "start_time": "2022-06-13T15:32:06.721Z"
   },
   {
    "duration": 3,
    "start_time": "2022-06-13T15:33:20.776Z"
   },
   {
    "duration": 13,
    "start_time": "2022-06-13T15:33:22.382Z"
   },
   {
    "duration": 3,
    "start_time": "2022-06-13T15:37:12.430Z"
   },
   {
    "duration": 11,
    "start_time": "2022-06-13T15:37:13.133Z"
   },
   {
    "duration": 3,
    "start_time": "2022-06-13T15:37:23.964Z"
   },
   {
    "duration": 9,
    "start_time": "2022-06-13T15:37:24.369Z"
   },
   {
    "duration": 9,
    "start_time": "2022-06-13T15:37:25.055Z"
   },
   {
    "duration": 9,
    "start_time": "2022-06-13T15:37:25.544Z"
   },
   {
    "duration": 4,
    "start_time": "2022-06-13T15:38:07.354Z"
   },
   {
    "duration": 7,
    "start_time": "2022-06-13T15:38:07.868Z"
   },
   {
    "duration": 8,
    "start_time": "2022-06-13T15:38:08.610Z"
   },
   {
    "duration": 8,
    "start_time": "2022-06-13T15:38:09.255Z"
   },
   {
    "duration": 882,
    "start_time": "2022-06-13T15:40:59.340Z"
   },
   {
    "duration": 371,
    "start_time": "2022-06-13T15:41:00.225Z"
   },
   {
    "duration": 2,
    "start_time": "2022-06-13T15:41:00.598Z"
   },
   {
    "duration": 177,
    "start_time": "2022-06-13T15:41:00.602Z"
   },
   {
    "duration": 170,
    "start_time": "2022-06-13T15:41:00.795Z"
   },
   {
    "duration": 4,
    "start_time": "2022-06-13T15:41:00.968Z"
   },
   {
    "duration": 48,
    "start_time": "2022-06-13T15:41:00.974Z"
   },
   {
    "duration": 32,
    "start_time": "2022-06-13T15:41:01.024Z"
   },
   {
    "duration": 48,
    "start_time": "2022-06-13T15:41:01.058Z"
   },
   {
    "duration": 4,
    "start_time": "2022-06-13T15:41:01.108Z"
   },
   {
    "duration": 19,
    "start_time": "2022-06-13T15:41:01.114Z"
   },
   {
    "duration": 103,
    "start_time": "2022-06-13T15:41:01.196Z"
   },
   {
    "duration": 213,
    "start_time": "2022-06-13T15:41:01.300Z"
   },
   {
    "duration": 81,
    "start_time": "2022-06-13T15:41:01.515Z"
   },
   {
    "duration": 110,
    "start_time": "2022-06-13T15:41:01.597Z"
   },
   {
    "duration": 16,
    "start_time": "2022-06-13T15:41:01.708Z"
   },
   {
    "duration": 96,
    "start_time": "2022-06-13T15:41:01.726Z"
   },
   {
    "duration": 0,
    "start_time": "2022-06-13T15:41:01.823Z"
   },
   {
    "duration": 0,
    "start_time": "2022-06-13T15:41:01.824Z"
   },
   {
    "duration": 8,
    "start_time": "2022-06-13T15:41:37.583Z"
   },
   {
    "duration": 17,
    "start_time": "2022-06-13T15:41:38.488Z"
   },
   {
    "duration": 13,
    "start_time": "2022-06-13T15:41:39.194Z"
   },
   {
    "duration": 3,
    "start_time": "2022-06-13T16:07:46.145Z"
   },
   {
    "duration": 27,
    "start_time": "2022-06-13T16:09:23.715Z"
   },
   {
    "duration": 6,
    "start_time": "2022-06-13T16:10:07.539Z"
   },
   {
    "duration": 626,
    "start_time": "2022-06-13T16:11:58.291Z"
   },
   {
    "duration": 676,
    "start_time": "2022-06-13T16:12:50.318Z"
   },
   {
    "duration": 614,
    "start_time": "2022-06-13T16:13:14.923Z"
   },
   {
    "duration": 595,
    "start_time": "2022-06-13T16:16:12.374Z"
   },
   {
    "duration": 599,
    "start_time": "2022-06-13T16:16:14.627Z"
   },
   {
    "duration": 584,
    "start_time": "2022-06-13T16:16:32.068Z"
   },
   {
    "duration": 5,
    "start_time": "2022-06-13T16:17:45.743Z"
   },
   {
    "duration": 601,
    "start_time": "2022-06-13T16:17:46.678Z"
   },
   {
    "duration": 590,
    "start_time": "2022-06-13T16:17:49.924Z"
   },
   {
    "duration": 596,
    "start_time": "2022-06-13T16:17:51.742Z"
   },
   {
    "duration": 4,
    "start_time": "2022-06-13T16:18:30.306Z"
   },
   {
    "duration": 664,
    "start_time": "2022-06-13T16:18:33.518Z"
   },
   {
    "duration": 5,
    "start_time": "2022-06-13T16:19:24.430Z"
   },
   {
    "duration": 597,
    "start_time": "2022-06-13T16:19:28.938Z"
   },
   {
    "duration": 7,
    "start_time": "2022-06-13T16:20:29.808Z"
   },
   {
    "duration": 651,
    "start_time": "2022-06-13T16:20:31.248Z"
   },
   {
    "duration": 696,
    "start_time": "2022-06-13T16:20:41.434Z"
   },
   {
    "duration": 631,
    "start_time": "2022-06-13T16:20:45.883Z"
   },
   {
    "duration": 6,
    "start_time": "2022-06-13T16:40:32.053Z"
   },
   {
    "duration": 632,
    "start_time": "2022-06-13T16:40:32.619Z"
   },
   {
    "duration": 580,
    "start_time": "2022-06-13T16:40:55.718Z"
   },
   {
    "duration": 4,
    "start_time": "2022-06-13T16:41:24.849Z"
   },
   {
    "duration": 721,
    "start_time": "2022-06-13T16:41:25.262Z"
   },
   {
    "duration": 615,
    "start_time": "2022-06-13T16:41:30.474Z"
   },
   {
    "duration": 591,
    "start_time": "2022-06-13T16:41:33.142Z"
   },
   {
    "duration": 39,
    "start_time": "2022-06-13T16:43:51.881Z"
   },
   {
    "duration": 28,
    "start_time": "2022-06-13T16:43:58.509Z"
   },
   {
    "duration": 8,
    "start_time": "2022-06-13T16:44:09.594Z"
   },
   {
    "duration": 609,
    "start_time": "2022-06-13T16:44:12.617Z"
   },
   {
    "duration": 5,
    "start_time": "2022-06-13T16:44:35.108Z"
   },
   {
    "duration": 686,
    "start_time": "2022-06-13T16:44:37.069Z"
   },
   {
    "duration": 11,
    "start_time": "2022-06-13T16:44:47.393Z"
   },
   {
    "duration": 12,
    "start_time": "2022-06-13T16:45:35.091Z"
   },
   {
    "duration": 627,
    "start_time": "2022-06-13T16:45:35.805Z"
   },
   {
    "duration": 45,
    "start_time": "2022-06-13T16:45:55.146Z"
   },
   {
    "duration": 5,
    "start_time": "2022-06-13T16:46:03.486Z"
   },
   {
    "duration": 644,
    "start_time": "2022-06-13T16:46:04.811Z"
   },
   {
    "duration": 32,
    "start_time": "2022-06-13T16:47:50.847Z"
   },
   {
    "duration": 5,
    "start_time": "2022-06-13T16:48:00.439Z"
   },
   {
    "duration": 584,
    "start_time": "2022-06-13T16:48:01.067Z"
   },
   {
    "duration": 642,
    "start_time": "2022-06-13T16:48:14.196Z"
   },
   {
    "duration": 732,
    "start_time": "2022-06-13T16:48:17.029Z"
   },
   {
    "duration": 979,
    "start_time": "2022-06-13T16:48:31.270Z"
   },
   {
    "duration": 357,
    "start_time": "2022-06-13T16:48:32.251Z"
   },
   {
    "duration": 2,
    "start_time": "2022-06-13T16:48:32.610Z"
   },
   {
    "duration": 161,
    "start_time": "2022-06-13T16:48:32.615Z"
   },
   {
    "duration": 174,
    "start_time": "2022-06-13T16:48:32.778Z"
   },
   {
    "duration": 4,
    "start_time": "2022-06-13T16:48:32.954Z"
   },
   {
    "duration": 46,
    "start_time": "2022-06-13T16:48:32.960Z"
   },
   {
    "duration": 32,
    "start_time": "2022-06-13T16:48:33.007Z"
   },
   {
    "duration": 23,
    "start_time": "2022-06-13T16:48:33.040Z"
   },
   {
    "duration": 3,
    "start_time": "2022-06-13T16:48:33.066Z"
   },
   {
    "duration": 49,
    "start_time": "2022-06-13T16:48:33.070Z"
   },
   {
    "duration": 110,
    "start_time": "2022-06-13T16:48:33.195Z"
   },
   {
    "duration": 109,
    "start_time": "2022-06-13T16:48:33.307Z"
   },
   {
    "duration": 98,
    "start_time": "2022-06-13T16:48:33.497Z"
   },
   {
    "duration": 13,
    "start_time": "2022-06-13T16:48:33.601Z"
   },
   {
    "duration": 4,
    "start_time": "2022-06-13T16:48:33.616Z"
   },
   {
    "duration": 12,
    "start_time": "2022-06-13T16:48:33.621Z"
   },
   {
    "duration": 8,
    "start_time": "2022-06-13T16:48:33.634Z"
   },
   {
    "duration": 8,
    "start_time": "2022-06-13T16:48:33.643Z"
   },
   {
    "duration": 5,
    "start_time": "2022-06-13T16:48:33.652Z"
   },
   {
    "duration": 692,
    "start_time": "2022-06-13T16:48:33.658Z"
   },
   {
    "duration": 671,
    "start_time": "2022-06-13T16:48:34.352Z"
   },
   {
    "duration": 610,
    "start_time": "2022-06-13T16:48:35.025Z"
   },
   {
    "duration": 1123,
    "start_time": "2022-06-14T15:17:05.980Z"
   },
   {
    "duration": 865,
    "start_time": "2022-06-14T15:17:07.105Z"
   },
   {
    "duration": 3,
    "start_time": "2022-06-14T15:17:07.972Z"
   },
   {
    "duration": 201,
    "start_time": "2022-06-14T15:17:07.977Z"
   },
   {
    "duration": 246,
    "start_time": "2022-06-14T15:17:08.179Z"
   },
   {
    "duration": 8,
    "start_time": "2022-06-14T15:17:08.427Z"
   },
   {
    "duration": 43,
    "start_time": "2022-06-14T15:17:08.436Z"
   },
   {
    "duration": 54,
    "start_time": "2022-06-14T15:17:08.481Z"
   },
   {
    "duration": 38,
    "start_time": "2022-06-14T15:17:08.536Z"
   },
   {
    "duration": 4,
    "start_time": "2022-06-14T15:17:08.576Z"
   },
   {
    "duration": 57,
    "start_time": "2022-06-14T15:17:08.581Z"
   },
   {
    "duration": 18,
    "start_time": "2022-06-14T15:17:08.727Z"
   },
   {
    "duration": 190,
    "start_time": "2022-06-14T15:17:08.747Z"
   },
   {
    "duration": 87,
    "start_time": "2022-06-14T15:17:08.939Z"
   },
   {
    "duration": 103,
    "start_time": "2022-06-14T15:17:09.029Z"
   },
   {
    "duration": 13,
    "start_time": "2022-06-14T15:17:09.134Z"
   },
   {
    "duration": 16,
    "start_time": "2022-06-14T15:17:09.149Z"
   },
   {
    "duration": 23,
    "start_time": "2022-06-14T15:17:09.167Z"
   },
   {
    "duration": 12,
    "start_time": "2022-06-14T15:17:09.192Z"
   },
   {
    "duration": 17,
    "start_time": "2022-06-14T15:17:09.206Z"
   },
   {
    "duration": 805,
    "start_time": "2022-06-14T15:17:09.225Z"
   },
   {
    "duration": 724,
    "start_time": "2022-06-14T15:17:10.031Z"
   },
   {
    "duration": 792,
    "start_time": "2022-06-14T15:17:10.756Z"
   },
   {
    "duration": 86,
    "start_time": "2022-06-14T15:21:08.148Z"
   },
   {
    "duration": 89,
    "start_time": "2022-06-14T15:21:21.881Z"
   },
   {
    "duration": 4,
    "start_time": "2022-06-14T15:24:31.957Z"
   },
   {
    "duration": 194,
    "start_time": "2022-06-14T15:26:55.240Z"
   },
   {
    "duration": 103,
    "start_time": "2022-06-14T15:29:23.354Z"
   },
   {
    "duration": 15,
    "start_time": "2022-06-14T15:30:27.638Z"
   },
   {
    "duration": 4,
    "start_time": "2022-06-14T15:31:26.148Z"
   },
   {
    "duration": 447,
    "start_time": "2022-06-14T15:31:28.607Z"
   },
   {
    "duration": 8,
    "start_time": "2022-06-14T15:31:29.750Z"
   },
   {
    "duration": 167,
    "start_time": "2022-06-14T15:31:30.341Z"
   },
   {
    "duration": 178,
    "start_time": "2022-06-14T15:31:30.884Z"
   },
   {
    "duration": 1021,
    "start_time": "2022-06-14T15:31:34.340Z"
   },
   {
    "duration": 411,
    "start_time": "2022-06-14T15:31:35.363Z"
   },
   {
    "duration": 4,
    "start_time": "2022-06-14T15:31:35.775Z"
   },
   {
    "duration": 210,
    "start_time": "2022-06-14T15:31:35.782Z"
   },
   {
    "duration": 247,
    "start_time": "2022-06-14T15:31:35.994Z"
   },
   {
    "duration": 7,
    "start_time": "2022-06-14T15:31:36.243Z"
   },
   {
    "duration": 154,
    "start_time": "2022-06-14T15:31:36.252Z"
   },
   {
    "duration": 45,
    "start_time": "2022-06-14T15:31:36.409Z"
   },
   {
    "duration": 31,
    "start_time": "2022-06-14T15:31:36.456Z"
   },
   {
    "duration": 53,
    "start_time": "2022-06-14T15:31:36.491Z"
   },
   {
    "duration": 5,
    "start_time": "2022-06-14T15:31:36.546Z"
   },
   {
    "duration": 24,
    "start_time": "2022-06-14T15:31:36.553Z"
   },
   {
    "duration": 261,
    "start_time": "2022-06-14T15:31:36.578Z"
   },
   {
    "duration": 187,
    "start_time": "2022-06-14T15:31:36.841Z"
   },
   {
    "duration": 131,
    "start_time": "2022-06-14T15:31:37.031Z"
   },
   {
    "duration": 263,
    "start_time": "2022-06-14T15:31:37.164Z"
   },
   {
    "duration": 111,
    "start_time": "2022-06-14T15:31:37.429Z"
   },
   {
    "duration": 42,
    "start_time": "2022-06-14T15:31:37.542Z"
   },
   {
    "duration": 28,
    "start_time": "2022-06-14T15:31:37.586Z"
   },
   {
    "duration": 42,
    "start_time": "2022-06-14T15:31:37.615Z"
   },
   {
    "duration": 31,
    "start_time": "2022-06-14T15:31:37.659Z"
   },
   {
    "duration": 29,
    "start_time": "2022-06-14T15:31:37.692Z"
   },
   {
    "duration": 30,
    "start_time": "2022-06-14T15:31:37.724Z"
   },
   {
    "duration": 30,
    "start_time": "2022-06-14T15:31:37.756Z"
   },
   {
    "duration": 801,
    "start_time": "2022-06-14T15:31:37.788Z"
   },
   {
    "duration": 784,
    "start_time": "2022-06-14T15:31:38.591Z"
   },
   {
    "duration": 708,
    "start_time": "2022-06-14T15:31:39.377Z"
   },
   {
    "duration": 24,
    "start_time": "2022-06-14T15:34:46.748Z"
   },
   {
    "duration": 19,
    "start_time": "2022-06-14T15:34:54.550Z"
   },
   {
    "duration": 18,
    "start_time": "2022-06-14T15:35:23.166Z"
   },
   {
    "duration": 23,
    "start_time": "2022-06-14T15:35:50.729Z"
   },
   {
    "duration": 3,
    "start_time": "2022-06-14T15:41:33.674Z"
   },
   {
    "duration": 109,
    "start_time": "2022-06-14T15:53:54.305Z"
   },
   {
    "duration": 6,
    "start_time": "2022-06-14T15:54:05.937Z"
   },
   {
    "duration": 11,
    "start_time": "2022-06-14T15:55:23.153Z"
   },
   {
    "duration": 28,
    "start_time": "2022-06-14T15:55:30.355Z"
   },
   {
    "duration": 8,
    "start_time": "2022-06-14T15:55:42.376Z"
   },
   {
    "duration": 11,
    "start_time": "2022-06-14T15:55:43.546Z"
   },
   {
    "duration": 776,
    "start_time": "2022-06-14T15:55:55.316Z"
   },
   {
    "duration": 8,
    "start_time": "2022-06-14T15:56:19.339Z"
   },
   {
    "duration": 829,
    "start_time": "2022-06-14T15:56:19.921Z"
   },
   {
    "duration": 2339,
    "start_time": "2022-06-14T15:56:33.120Z"
   },
   {
    "duration": 2127,
    "start_time": "2022-06-14T15:56:51.150Z"
   },
   {
    "duration": 10,
    "start_time": "2022-06-14T15:58:54.144Z"
   },
   {
    "duration": 1154,
    "start_time": "2022-06-14T15:59:41.659Z"
   },
   {
    "duration": 420,
    "start_time": "2022-06-14T15:59:42.815Z"
   },
   {
    "duration": 4,
    "start_time": "2022-06-14T15:59:43.237Z"
   },
   {
    "duration": 210,
    "start_time": "2022-06-14T15:59:43.243Z"
   },
   {
    "duration": 219,
    "start_time": "2022-06-14T15:59:43.455Z"
   },
   {
    "duration": 5,
    "start_time": "2022-06-14T15:59:43.676Z"
   },
   {
    "duration": 110,
    "start_time": "2022-06-14T15:59:43.683Z"
   },
   {
    "duration": 50,
    "start_time": "2022-06-14T15:59:43.795Z"
   },
   {
    "duration": 29,
    "start_time": "2022-06-14T15:59:43.847Z"
   },
   {
    "duration": 54,
    "start_time": "2022-06-14T15:59:43.879Z"
   },
   {
    "duration": 5,
    "start_time": "2022-06-14T15:59:43.936Z"
   },
   {
    "duration": 381,
    "start_time": "2022-06-14T15:59:43.943Z"
   },
   {
    "duration": 4,
    "start_time": "2022-06-14T15:59:44.327Z"
   },
   {
    "duration": 94,
    "start_time": "2022-06-14T15:59:44.333Z"
   },
   {
    "duration": 16,
    "start_time": "2022-06-14T15:59:44.429Z"
   },
   {
    "duration": 38,
    "start_time": "2022-06-14T15:59:44.447Z"
   },
   {
    "duration": 6,
    "start_time": "2022-06-14T15:59:44.488Z"
   },
   {
    "duration": 2098,
    "start_time": "2022-06-14T15:59:44.496Z"
   },
   {
    "duration": 3,
    "start_time": "2022-06-14T15:59:46.596Z"
   },
   {
    "duration": 33,
    "start_time": "2022-06-14T15:59:46.600Z"
   },
   {
    "duration": 1071,
    "start_time": "2022-06-14T16:01:22.814Z"
   },
   {
    "duration": 432,
    "start_time": "2022-06-14T16:01:23.887Z"
   },
   {
    "duration": 3,
    "start_time": "2022-06-14T16:01:24.321Z"
   },
   {
    "duration": 199,
    "start_time": "2022-06-14T16:01:24.327Z"
   },
   {
    "duration": 225,
    "start_time": "2022-06-14T16:01:24.528Z"
   },
   {
    "duration": 6,
    "start_time": "2022-06-14T16:01:24.755Z"
   },
   {
    "duration": 113,
    "start_time": "2022-06-14T16:01:24.763Z"
   },
   {
    "duration": 4,
    "start_time": "2022-06-14T16:01:24.878Z"
   },
   {
    "duration": 244,
    "start_time": "2022-06-14T16:01:24.884Z"
   },
   {
    "duration": 4,
    "start_time": "2022-06-14T16:01:25.130Z"
   },
   {
    "duration": 188,
    "start_time": "2022-06-14T16:01:25.137Z"
   },
   {
    "duration": 12,
    "start_time": "2022-06-14T16:01:25.327Z"
   },
   {
    "duration": 22,
    "start_time": "2022-06-14T16:01:25.341Z"
   },
   {
    "duration": 5,
    "start_time": "2022-06-14T16:01:25.365Z"
   },
   {
    "duration": 2185,
    "start_time": "2022-06-14T16:01:25.372Z"
   },
   {
    "duration": 2,
    "start_time": "2022-06-14T16:01:27.560Z"
   },
   {
    "duration": 28,
    "start_time": "2022-06-14T16:01:27.565Z"
   },
   {
    "duration": 1079,
    "start_time": "2022-06-14T16:24:41.913Z"
   },
   {
    "duration": 371,
    "start_time": "2022-06-14T16:24:42.995Z"
   },
   {
    "duration": 3,
    "start_time": "2022-06-14T16:24:43.367Z"
   },
   {
    "duration": 173,
    "start_time": "2022-06-14T16:24:43.372Z"
   },
   {
    "duration": 186,
    "start_time": "2022-06-14T16:24:43.547Z"
   },
   {
    "duration": 5,
    "start_time": "2022-06-14T16:24:43.735Z"
   },
   {
    "duration": 93,
    "start_time": "2022-06-14T16:24:43.742Z"
   },
   {
    "duration": 4,
    "start_time": "2022-06-14T16:24:43.837Z"
   },
   {
    "duration": 286,
    "start_time": "2022-06-14T16:24:43.842Z"
   },
   {
    "duration": 92,
    "start_time": "2022-06-14T16:24:44.131Z"
   },
   {
    "duration": 4,
    "start_time": "2022-06-14T16:24:44.226Z"
   },
   {
    "duration": 8,
    "start_time": "2022-06-14T16:24:44.232Z"
   },
   {
    "duration": 95,
    "start_time": "2022-06-14T16:24:44.242Z"
   },
   {
    "duration": 5,
    "start_time": "2022-06-14T16:24:44.339Z"
   },
   {
    "duration": 1930,
    "start_time": "2022-06-14T16:24:44.345Z"
   },
   {
    "duration": 2,
    "start_time": "2022-06-14T16:24:46.277Z"
   },
   {
    "duration": 12,
    "start_time": "2022-06-14T16:24:46.281Z"
   },
   {
    "duration": 6,
    "start_time": "2022-06-14T16:27:57.380Z"
   },
   {
    "duration": 1910,
    "start_time": "2022-06-14T16:27:58.242Z"
   },
   {
    "duration": 9,
    "start_time": "2022-06-14T16:28:00.788Z"
   },
   {
    "duration": 1103,
    "start_time": "2022-06-14T16:48:24.386Z"
   },
   {
    "duration": 426,
    "start_time": "2022-06-14T16:48:25.491Z"
   },
   {
    "duration": 5,
    "start_time": "2022-06-14T16:48:25.919Z"
   },
   {
    "duration": 216,
    "start_time": "2022-06-14T16:48:25.926Z"
   },
   {
    "duration": 223,
    "start_time": "2022-06-14T16:48:26.145Z"
   },
   {
    "duration": 9,
    "start_time": "2022-06-14T16:48:26.370Z"
   },
   {
    "duration": 116,
    "start_time": "2022-06-14T16:48:26.380Z"
   },
   {
    "duration": 5,
    "start_time": "2022-06-14T16:48:26.498Z"
   },
   {
    "duration": 133,
    "start_time": "2022-06-14T16:48:26.505Z"
   },
   {
    "duration": 184,
    "start_time": "2022-06-14T16:48:26.640Z"
   },
   {
    "duration": 25,
    "start_time": "2022-06-14T16:48:26.826Z"
   },
   {
    "duration": 7,
    "start_time": "2022-06-14T16:48:26.853Z"
   },
   {
    "duration": 22,
    "start_time": "2022-06-14T16:48:26.861Z"
   },
   {
    "duration": 8,
    "start_time": "2022-06-14T16:48:26.887Z"
   },
   {
    "duration": 2236,
    "start_time": "2022-06-14T16:48:26.897Z"
   },
   {
    "duration": 2,
    "start_time": "2022-06-14T16:48:29.135Z"
   },
   {
    "duration": 24,
    "start_time": "2022-06-14T16:48:29.139Z"
   },
   {
    "duration": 11,
    "start_time": "2022-06-14T17:22:03.328Z"
   },
   {
    "duration": 1071,
    "start_time": "2022-06-14T17:40:06.620Z"
   },
   {
    "duration": 430,
    "start_time": "2022-06-14T17:40:07.693Z"
   },
   {
    "duration": 3,
    "start_time": "2022-06-14T17:40:08.125Z"
   },
   {
    "duration": 207,
    "start_time": "2022-06-14T17:40:08.130Z"
   },
   {
    "duration": 227,
    "start_time": "2022-06-14T17:40:08.340Z"
   },
   {
    "duration": 5,
    "start_time": "2022-06-14T17:40:08.569Z"
   },
   {
    "duration": 108,
    "start_time": "2022-06-14T17:40:08.576Z"
   },
   {
    "duration": 4,
    "start_time": "2022-06-14T17:40:08.686Z"
   },
   {
    "duration": 244,
    "start_time": "2022-06-14T17:40:08.692Z"
   },
   {
    "duration": 3,
    "start_time": "2022-06-14T17:40:09.026Z"
   },
   {
    "duration": 105,
    "start_time": "2022-06-14T17:40:09.032Z"
   },
   {
    "duration": 5,
    "start_time": "2022-06-14T17:40:09.143Z"
   },
   {
    "duration": 30,
    "start_time": "2022-06-14T17:40:09.150Z"
   },
   {
    "duration": 5,
    "start_time": "2022-06-14T17:40:09.182Z"
   },
   {
    "duration": 2188,
    "start_time": "2022-06-14T17:40:09.189Z"
   },
   {
    "duration": 3,
    "start_time": "2022-06-14T17:40:11.380Z"
   },
   {
    "duration": 16,
    "start_time": "2022-06-14T17:40:11.386Z"
   },
   {
    "duration": 1075,
    "start_time": "2022-06-14T17:41:43.815Z"
   },
   {
    "duration": 436,
    "start_time": "2022-06-14T17:41:44.892Z"
   },
   {
    "duration": 3,
    "start_time": "2022-06-14T17:41:45.331Z"
   },
   {
    "duration": 236,
    "start_time": "2022-06-14T17:41:45.337Z"
   },
   {
    "duration": 232,
    "start_time": "2022-06-14T17:41:45.576Z"
   },
   {
    "duration": 14,
    "start_time": "2022-06-14T17:41:45.810Z"
   },
   {
    "duration": 101,
    "start_time": "2022-06-14T17:41:45.826Z"
   },
   {
    "duration": 4,
    "start_time": "2022-06-14T17:41:45.929Z"
   },
   {
    "duration": 293,
    "start_time": "2022-06-14T17:41:45.935Z"
   },
   {
    "duration": 4,
    "start_time": "2022-06-14T17:41:46.231Z"
   },
   {
    "duration": 198,
    "start_time": "2022-06-14T17:41:46.237Z"
   },
   {
    "duration": 10,
    "start_time": "2022-06-14T17:41:46.437Z"
   },
   {
    "duration": 24,
    "start_time": "2022-06-14T17:41:46.449Z"
   },
   {
    "duration": 6,
    "start_time": "2022-06-14T17:41:46.475Z"
   },
   {
    "duration": 2142,
    "start_time": "2022-06-14T17:41:46.482Z"
   },
   {
    "duration": 4,
    "start_time": "2022-06-14T17:41:48.626Z"
   },
   {
    "duration": 25,
    "start_time": "2022-06-14T17:41:48.632Z"
   },
   {
    "duration": 58,
    "start_time": "2022-06-14T20:56:26.494Z"
   }
  ],
  "kernelspec": {
   "display_name": "Python 3 (ipykernel)",
   "language": "python",
   "name": "python3"
  },
  "language_info": {
   "codemirror_mode": {
    "name": "ipython",
    "version": 3
   },
   "file_extension": ".py",
   "mimetype": "text/x-python",
   "name": "python",
   "nbconvert_exporter": "python",
   "pygments_lexer": "ipython3",
   "version": "3.9.5"
  },
  "toc": {
   "base_numbering": 1,
   "nav_menu": {},
   "number_sections": true,
   "sideBar": true,
   "skip_h1_title": true,
   "title_cell": "Содержание",
   "title_sidebar": "Contents",
   "toc_cell": true,
   "toc_position": {},
   "toc_section_display": true,
   "toc_window_display": true
  }
 },
 "nbformat": 4,
 "nbformat_minor": 2
}
