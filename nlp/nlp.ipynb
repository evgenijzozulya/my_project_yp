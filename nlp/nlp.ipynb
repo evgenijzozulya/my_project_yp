{
 "cells": [
  {
   "cell_type": "markdown",
   "metadata": {
    "id": "2V5PsWmtaeDL",
    "toc": true
   },
   "source": [
    "<h1>Содержание<span class=\"tocSkip\"></span></h1>\n",
    "<div class=\"toc\"><ul class=\"toc-item\"><li><span><a href=\"#Описание-проекта\" data-toc-modified-id=\"Описание-проекта-1\"><span class=\"toc-item-num\">1&nbsp;&nbsp;</span>Описание проекта</a></span></li><li><span><a href=\"#Подготовка\" data-toc-modified-id=\"Подготовка-2\"><span class=\"toc-item-num\">2&nbsp;&nbsp;</span>Подготовка</a></span></li><li><span><a href=\"#Обучение\" data-toc-modified-id=\"Обучение-3\"><span class=\"toc-item-num\">3&nbsp;&nbsp;</span>Обучение</a></span><ul class=\"toc-item\"><li><span><a href=\"#LogisticRegression\" data-toc-modified-id=\"LogisticRegression-3.1\"><span class=\"toc-item-num\">3.1&nbsp;&nbsp;</span>LogisticRegression</a></span></li><li><span><a href=\"#DecisionTree\" data-toc-modified-id=\"DecisionTree-3.2\"><span class=\"toc-item-num\">3.2&nbsp;&nbsp;</span>DecisionTree</a></span></li><li><span><a href=\"#RandomForest\" data-toc-modified-id=\"RandomForest-3.3\"><span class=\"toc-item-num\">3.3&nbsp;&nbsp;</span>RandomForest</a></span></li><li><span><a href=\"#Вывод\" data-toc-modified-id=\"Вывод-3.4\"><span class=\"toc-item-num\">3.4&nbsp;&nbsp;</span>Вывод</a></span></li></ul></li><li><span><a href=\"#Выводы\" data-toc-modified-id=\"Выводы-4\"><span class=\"toc-item-num\">4&nbsp;&nbsp;</span>Выводы</a></span></li></ul></div>"
   ]
  },
  {
   "cell_type": "markdown",
   "metadata": {
    "id": "vBYsr5PgaeDN"
   },
   "source": [
    "# Kлассификации комментариев"
   ]
  },
  {
   "cell_type": "markdown",
   "metadata": {
    "id": "8o0WAnXxaeDN"
   },
   "source": [
    "## Описание проекта"
   ]
  },
  {
   "cell_type": "markdown",
   "metadata": {
    "id": "scnHV2KWaeDN"
   },
   "source": [
    "**Заказчик**\n",
    "Интернет-магазин «Викишоп». \n",
    "\n",
    "**Задача**\n",
    "\n",
    "Обучите модель классифицировать комментарии на позитивные и негативные. Метрики качества *F1* не меньше 0.75.\n",
    "\n",
    "**Данные**\n",
    "\n",
    "Набор данных с разметкой о токсичности правок."
   ]
  },
  {
   "cell_type": "markdown",
   "metadata": {
    "id": "c9UD6PA2aeDO"
   },
   "source": [
    "## Подготовка"
   ]
  },
  {
   "cell_type": "code",
   "execution_count": 1,
   "metadata": {
    "id": "_uRwrdvlaeDO"
   },
   "outputs": [],
   "source": [
    "# Загружаем бибилотеки.\n",
    "import pandas as pd\n",
    "import numpy as np\n",
    "import re\n",
    "\n",
    "from sklearn.metrics import f1_score, precision_score, recall_score, roc_auc_score\n",
    "from sklearn.ensemble import RandomForestClassifier\n",
    "from sklearn.model_selection import GridSearchCV\n",
    "from sklearn.model_selection import train_test_split\n",
    "from sklearn.tree import DecisionTreeClassifier\n",
    "from sklearn import set_config\n",
    "from sklearn.pipeline import Pipeline\n",
    "from sklearn.feature_extraction.text import TfidfVectorizer \n",
    "from sklearn.linear_model import LogisticRegression\n",
    "from sklearn.pipeline import Pipeline\n",
    "from tqdm import tqdm\n",
    "\n",
    "import nltk\n",
    "from nltk.corpus import stopwords \n",
    "\n",
    "import spacy\n",
    "\n",
    "tqdm.pandas()\n",
    "\n",
    "#nltk.download('stopwords') # Надо установить первый раз\n",
    "#nltk.download('wordnet') # Надо установить первый раз\n",
    "#nltk.download('punkt') # Надо установить первый раз\n",
    "#nltk.download('omw-1.4') # Надо установить первый раз\n",
    "#nltk.download('averaged_perceptron_tagger') # Надо установить первый раз"
   ]
  },
  {
   "cell_type": "code",
   "execution_count": 2,
   "metadata": {
    "id": "quSf5_SSaeDP"
   },
   "outputs": [],
   "source": [
    "set_config(display=\"text\")"
   ]
  },
  {
   "cell_type": "code",
   "execution_count": 3,
   "metadata": {
    "id": "oGI4vCqxaeDP"
   },
   "outputs": [],
   "source": [
    "#Сохраняем путь к файлу на сервере Практикума.\n",
    "server_path = '/datasets/toxic_comments.csv' \n",
    "\n",
    "\n",
    "# Сохраняем путь к файлу на компьютере.\n",
    "local_path = 'datasets/toxic_comments.csv'   \n",
    "\n",
    "try:                                                   # Пробуем найти данные по сетевому адресу,\n",
    "    df = pd.read_csv(server_path, index_col=0) \n",
    "except:                                                # если не находим по сетевому, ищем по локальному.\n",
    "    df = pd.read_csv(local_path, index_col=0) "
   ]
  },
  {
   "cell_type": "code",
   "execution_count": 4,
   "metadata": {
    "colab": {
     "base_uri": "https://localhost:8080/",
     "height": 363
    },
    "id": "uZnuQea6aeDQ",
    "outputId": "0e66ad17-ebd3-4086-a11c-d30c39ee5f35"
   },
   "outputs": [
    {
     "data": {
      "text/html": [
       "<div>\n",
       "<style scoped>\n",
       "    .dataframe tbody tr th:only-of-type {\n",
       "        vertical-align: middle;\n",
       "    }\n",
       "\n",
       "    .dataframe tbody tr th {\n",
       "        vertical-align: top;\n",
       "    }\n",
       "\n",
       "    .dataframe thead th {\n",
       "        text-align: right;\n",
       "    }\n",
       "</style>\n",
       "<table border=\"1\" class=\"dataframe\">\n",
       "  <thead>\n",
       "    <tr style=\"text-align: right;\">\n",
       "      <th></th>\n",
       "      <th>text</th>\n",
       "      <th>toxic</th>\n",
       "    </tr>\n",
       "  </thead>\n",
       "  <tbody>\n",
       "    <tr>\n",
       "      <th>97681</th>\n",
       "      <td>La-Ahad vs. Al-Ahad \\n\\nThis article lists the...</td>\n",
       "      <td>0</td>\n",
       "    </tr>\n",
       "    <tr>\n",
       "      <th>78552</th>\n",
       "      <td>\"\\n\\nPlease do not remove content from Wikiped...</td>\n",
       "      <td>0</td>\n",
       "    </tr>\n",
       "    <tr>\n",
       "      <th>159273</th>\n",
       "      <td>Helicia DYK Issue \\n\\nDYK nomination of Helici...</td>\n",
       "      <td>0</td>\n",
       "    </tr>\n",
       "    <tr>\n",
       "      <th>80638</th>\n",
       "      <td>Yeah, and see WP:DICK while you're at it.</td>\n",
       "      <td>1</td>\n",
       "    </tr>\n",
       "    <tr>\n",
       "      <th>87273</th>\n",
       "      <td>your momma is nott hott !</td>\n",
       "      <td>1</td>\n",
       "    </tr>\n",
       "    <tr>\n",
       "      <th>83563</th>\n",
       "      <td>Note: the edit you are referring to was not in...</td>\n",
       "      <td>0</td>\n",
       "    </tr>\n",
       "    <tr>\n",
       "      <th>71176</th>\n",
       "      <td>\"\\nThanks. )  You rang?/My mistakes; I mean, e...</td>\n",
       "      <td>0</td>\n",
       "    </tr>\n",
       "    <tr>\n",
       "      <th>149435</th>\n",
       "      <td>I reorganized this article based on other simi...</td>\n",
       "      <td>0</td>\n",
       "    </tr>\n",
       "    <tr>\n",
       "      <th>135290</th>\n",
       "      <td>what's the problem with you \\n\\nmind your own ...</td>\n",
       "      <td>1</td>\n",
       "    </tr>\n",
       "    <tr>\n",
       "      <th>62136</th>\n",
       "      <td>\"\\nBan one side of an argument by a bullshit n...</td>\n",
       "      <td>1</td>\n",
       "    </tr>\n",
       "  </tbody>\n",
       "</table>\n",
       "</div>"
      ],
      "text/plain": [
       "                                                     text  toxic\n",
       "97681   La-Ahad vs. Al-Ahad \\n\\nThis article lists the...      0\n",
       "78552   \"\\n\\nPlease do not remove content from Wikiped...      0\n",
       "159273  Helicia DYK Issue \\n\\nDYK nomination of Helici...      0\n",
       "80638           Yeah, and see WP:DICK while you're at it.      1\n",
       "87273                           your momma is nott hott !      1\n",
       "83563   Note: the edit you are referring to was not in...      0\n",
       "71176   \"\\nThanks. )  You rang?/My mistakes; I mean, e...      0\n",
       "149435  I reorganized this article based on other simi...      0\n",
       "135290  what's the problem with you \\n\\nmind your own ...      1\n",
       "62136   \"\\nBan one side of an argument by a bullshit n...      1"
      ]
     },
     "execution_count": 4,
     "metadata": {},
     "output_type": "execute_result"
    }
   ],
   "source": [
    "df.sample(10)"
   ]
  },
  {
   "cell_type": "code",
   "execution_count": 5,
   "metadata": {
    "colab": {
     "base_uri": "https://localhost:8080/"
    },
    "id": "gMzEsATBaeDQ",
    "outputId": "a3da2b71-81bb-4bd1-cce6-c199e17fe777"
   },
   "outputs": [
    {
     "data": {
      "text/plain": [
       "0.102"
      ]
     },
     "execution_count": 5,
     "metadata": {},
     "output_type": "execute_result"
    }
   ],
   "source": [
    "# Проверка баланса классов\n",
    "round(df['toxic'].mean(), 3)"
   ]
  },
  {
   "cell_type": "code",
   "execution_count": 6,
   "metadata": {
    "id": "fW872XEqRItS"
   },
   "outputs": [],
   "source": [
    "# Словарь стоп-слов\n",
    "stop_words = set(stopwords.words('english'))\n",
    "stop_words.remove('not')"
   ]
  },
  {
   "cell_type": "code",
   "execution_count": 7,
   "metadata": {
    "id": "h9676q7UTTaz"
   },
   "outputs": [],
   "source": [
    "# Загрузка spacy\n",
    "nlp = spacy.load(\"en_core_web_sm\")"
   ]
  },
  {
   "cell_type": "code",
   "execution_count": 8,
   "metadata": {
    "id": "EI-hIpSh1Nc1"
   },
   "outputs": [],
   "source": [
    "# Lemmatize with Spacy\n",
    "def text_preprocessing_spacy(text):\n",
    "  text = re.sub(re.compile('<.*?>'), '', text)\n",
    "  text = re.sub('[^A-Za-z ]', ' ', text).lower()\n",
    "  doc = nlp(text)\n",
    "  return ' '.join([token.lemma_ for token in doc])"
   ]
  },
  {
   "cell_type": "code",
   "execution_count": 9,
   "metadata": {
    "colab": {
     "base_uri": "https://localhost:8080/"
    },
    "id": "uE6RfSNO0mhQ",
    "outputId": "0273c994-b5e6-489a-8caa-882163199f1a"
   },
   "outputs": [
    {
     "name": "stderr",
     "output_type": "stream",
     "text": [
      "100%|██████████| 159292/159292 [23:49<00:00, 111.44it/s]\n"
     ]
    }
   ],
   "source": [
    "df['lemm_text'] = df['text'].progress_apply(lambda text: text_preprocessing_spacy(text))"
   ]
  },
  {
   "cell_type": "code",
   "execution_count": 10,
   "metadata": {
    "colab": {
     "base_uri": "https://localhost:8080/",
     "height": 363
    },
    "id": "O8dtYNke6cm9",
    "outputId": "008496f3-a544-4443-f02d-2b50f64d0a9c"
   },
   "outputs": [
    {
     "data": {
      "text/html": [
       "<div>\n",
       "<style scoped>\n",
       "    .dataframe tbody tr th:only-of-type {\n",
       "        vertical-align: middle;\n",
       "    }\n",
       "\n",
       "    .dataframe tbody tr th {\n",
       "        vertical-align: top;\n",
       "    }\n",
       "\n",
       "    .dataframe thead th {\n",
       "        text-align: right;\n",
       "    }\n",
       "</style>\n",
       "<table border=\"1\" class=\"dataframe\">\n",
       "  <thead>\n",
       "    <tr style=\"text-align: right;\">\n",
       "      <th></th>\n",
       "      <th>text</th>\n",
       "      <th>toxic</th>\n",
       "      <th>lemm_text</th>\n",
       "    </tr>\n",
       "  </thead>\n",
       "  <tbody>\n",
       "    <tr>\n",
       "      <th>158741</th>\n",
       "      <td>Political endorsements \\n\\nI was asked by anot...</td>\n",
       "      <td>0</td>\n",
       "      <td>political endorsement    I be ask by another e...</td>\n",
       "    </tr>\n",
       "    <tr>\n",
       "      <th>59956</th>\n",
       "      <td>a far-right wing wanker</td>\n",
       "      <td>0</td>\n",
       "      <td>a far right wing wanker</td>\n",
       "    </tr>\n",
       "    <tr>\n",
       "      <th>45168</th>\n",
       "      <td>Good, now remove the Richie Sexton and WWE inf...</td>\n",
       "      <td>0</td>\n",
       "      <td>good   now remove the richie sexton and wwe in...</td>\n",
       "    </tr>\n",
       "    <tr>\n",
       "      <th>90641</th>\n",
       "      <td>Changing Images \\n\\nHi, why are you changing m...</td>\n",
       "      <td>0</td>\n",
       "      <td>change image    hi   why be you change my imag...</td>\n",
       "    </tr>\n",
       "    <tr>\n",
       "      <th>81729</th>\n",
       "      <td>\"\\n\\nSpeedy deletion of Www.wikipedia.com\\n A ...</td>\n",
       "      <td>0</td>\n",
       "      <td>speedy deletion of www wikipedia com   a t...</td>\n",
       "    </tr>\n",
       "    <tr>\n",
       "      <th>157900</th>\n",
       "      <td>\"==Celtic Language?==\\n\\nIt says in the articl...</td>\n",
       "      <td>0</td>\n",
       "      <td>celtic language      it say in the article...</td>\n",
       "    </tr>\n",
       "    <tr>\n",
       "      <th>150039</th>\n",
       "      <td>Leave this out until it's actually happened, p...</td>\n",
       "      <td>0</td>\n",
       "      <td>leave this out until it s actually happen   pl...</td>\n",
       "    </tr>\n",
       "    <tr>\n",
       "      <th>142763</th>\n",
       "      <td>Template: English, Scottish and British monarc...</td>\n",
       "      <td>0</td>\n",
       "      <td>template   english   scottish and british mona...</td>\n",
       "    </tr>\n",
       "    <tr>\n",
       "      <th>123105</th>\n",
       "      <td>Requested move\\nGrand Master Dashi (Xiaolin Sh...</td>\n",
       "      <td>0</td>\n",
       "      <td>request move grand master dashi   xiaolin show...</td>\n",
       "    </tr>\n",
       "    <tr>\n",
       "      <th>134476</th>\n",
       "      <td>What nonsense Gibnews! Really, you surprise me...</td>\n",
       "      <td>0</td>\n",
       "      <td>what nonsense gibnew   really   you surprise I...</td>\n",
       "    </tr>\n",
       "  </tbody>\n",
       "</table>\n",
       "</div>"
      ],
      "text/plain": [
       "                                                     text  toxic  \\\n",
       "158741  Political endorsements \\n\\nI was asked by anot...      0   \n",
       "59956                             a far-right wing wanker      0   \n",
       "45168   Good, now remove the Richie Sexton and WWE inf...      0   \n",
       "90641   Changing Images \\n\\nHi, why are you changing m...      0   \n",
       "81729   \"\\n\\nSpeedy deletion of Www.wikipedia.com\\n A ...      0   \n",
       "157900  \"==Celtic Language?==\\n\\nIt says in the articl...      0   \n",
       "150039  Leave this out until it's actually happened, p...      0   \n",
       "142763  Template: English, Scottish and British monarc...      0   \n",
       "123105  Requested move\\nGrand Master Dashi (Xiaolin Sh...      0   \n",
       "134476  What nonsense Gibnews! Really, you surprise me...      0   \n",
       "\n",
       "                                                lemm_text  \n",
       "158741  political endorsement    I be ask by another e...  \n",
       "59956                             a far right wing wanker  \n",
       "45168   good   now remove the richie sexton and wwe in...  \n",
       "90641   change image    hi   why be you change my imag...  \n",
       "81729       speedy deletion of www wikipedia com   a t...  \n",
       "157900      celtic language      it say in the article...  \n",
       "150039  leave this out until it s actually happen   pl...  \n",
       "142763  template   english   scottish and british mona...  \n",
       "123105  request move grand master dashi   xiaolin show...  \n",
       "134476  what nonsense gibnew   really   you surprise I...  "
      ]
     },
     "execution_count": 10,
     "metadata": {},
     "output_type": "execute_result"
    }
   ],
   "source": [
    "df.sample(10)"
   ]
  },
  {
   "cell_type": "code",
   "execution_count": 11,
   "metadata": {
    "id": "Ap4rMPL6aeDS"
   },
   "outputs": [],
   "source": [
    "# Разделяем признаки.\n",
    "features = df['lemm_text']\n",
    "target = df['toxic']"
   ]
  },
  {
   "cell_type": "code",
   "execution_count": 12,
   "metadata": {
    "id": "sDnOLcxtaeDS"
   },
   "outputs": [],
   "source": [
    "# Готовим тренировочную и тестовую выборки.\n",
    "features_train, features_test, target_train, target_test = train_test_split(\n",
    "    features,\n",
    "    target, \n",
    "    test_size=0.3, \n",
    "    random_state=12345,\n",
    "    shuffle=True,\n",
    "    stratify=target\n",
    ")"
   ]
  },
  {
   "cell_type": "markdown",
   "metadata": {
    "id": "MsWTWz8iaeDU"
   },
   "source": [
    "## Обучение"
   ]
  },
  {
   "cell_type": "code",
   "execution_count": 13,
   "metadata": {
    "id": "JGGWCcwnaeDU"
   },
   "outputs": [],
   "source": [
    "# Функция для вывода значений Precision, Recall, F1-мера, AUC-ROC по обученной модели\n",
    "# со следующими параметрами:\n",
    "#    - значения признаков;\n",
    "#    - значения целевого признака;\n",
    "#    - обученная модель. \n",
    "\n",
    "def print_metrics(features, target, model): \n",
    "    \n",
    "    predicted = model.predict(features)\n",
    "    probabilities_one = model.predict_proba(features)[:, 1] \n",
    "\n",
    "    print(f'Precision: {precision_score(target, predicted):.3f}')\n",
    "    print(f'Recall: {recall_score(target, predicted):.3f}')\n",
    "    print(f'F1-мера: {f1_score(target, predicted):.3f}')\n",
    "    print(f'AUC-ROC: {roc_auc_score(target, probabilities_one): .3f}')"
   ]
  },
  {
   "cell_type": "code",
   "execution_count": 14,
   "metadata": {
    "id": "Y0MtINjDaeDU"
   },
   "outputs": [],
   "source": [
    "# Функция threshold_predict для подбора порога, для тренировочных данных и вывода значений Precision, Recall, F1-мера,  \n",
    "# вывода значений Precision, Recall, F1-мера, для со следующими параметрами:\n",
    "#    - обученная модель\n",
    "#    - значения признаков тренировочных данных;\n",
    "#    - значения целевого признака тренировочных данных;. \n",
    "\n",
    "def threshold_predict(model, features_train, target_train):\n",
    "    probabilities_one_train = model.predict_proba(features_train)[:, 1] \n",
    "\n",
    "    f1_best = 0\n",
    "    threshold_best = -1\n",
    "\n",
    "    for threshold in np.arange(0, 1.01, 0.01): # цикл со смещением порога\n",
    "        predicted_train = probabilities_one_train >= threshold  # \n",
    "        f1 = f1_score(target_train, predicted_train)\n",
    "        if f1 > f1_best:\n",
    "            f1_best = f1\n",
    "            threshold_best = threshold\n",
    "            \n",
    "    probabilities_one_train = model.predict_proba(features_train)[:, 1] \n",
    "    precision = precision_score(target_train, probabilities_one_train > threshold_best) \n",
    "    recall = recall_score(target_train, probabilities_one_train > threshold_best)\n",
    "    f1 = f1_score(target_train, probabilities_one_train > threshold_best)  \n",
    "    \n",
    "\n",
    "    print('С подбором порога')   \n",
    "    print(f'Precision на тренировочных: {precision:.3f}')\n",
    "    print(f'Recall на тренировочных: {recall:.3f}')\n",
    "    print(f'F1-мера на тренировочных: {f1:.3f}')\n",
    "    print(f'Порог: {threshold_best}')\n",
    "    return [precision, recall, f1, threshold_best]"
   ]
  },
  {
   "cell_type": "markdown",
   "metadata": {
    "id": "Ag3VIlJqaeDU"
   },
   "source": [
    "### LogisticRegression"
   ]
  },
  {
   "cell_type": "code",
   "execution_count": 15,
   "metadata": {
    "id": "Qma6KJ-G4jPF"
   },
   "outputs": [],
   "source": [
    "params={'model__max_iter':[1000]}"
   ]
  },
  {
   "cell_type": "code",
   "execution_count": 16,
   "metadata": {
    "id": "UWFI9ZpI4yRj"
   },
   "outputs": [],
   "source": [
    "pipeline_lf = Pipeline([\n",
    "    ('tfidf', TfidfVectorizer(stop_words=stop_words, min_df=20)),\n",
    "    ('model', LogisticRegression(random_state=12345, solver='liblinear'))])"
   ]
  },
  {
   "cell_type": "code",
   "execution_count": 17,
   "metadata": {
    "id": "739s7XqoaeDV"
   },
   "outputs": [],
   "source": [
    "lr_model = GridSearchCV(pipeline_lf, cv=5, n_jobs=-1, param_grid=params ,scoring='roc_auc') #Задаем параметры модели и поиска."
   ]
  },
  {
   "cell_type": "code",
   "execution_count": 18,
   "metadata": {
    "colab": {
     "base_uri": "https://localhost:8080/",
     "height": 495
    },
    "id": "gEE0lW6XaeDV",
    "outputId": "78b55fc5-5fe3-4455-d196-876ce38cc45d"
   },
   "outputs": [
    {
     "name": "stdout",
     "output_type": "stream",
     "text": [
      "CPU times: total: 4.41 s\n",
      "Wall time: 20.8 s\n"
     ]
    },
    {
     "data": {
      "text/plain": [
       "GridSearchCV(cv=5,\n",
       "             estimator=Pipeline(steps=[('tfidf',\n",
       "                                        TfidfVectorizer(min_df=20,\n",
       "                                                        stop_words={'a',\n",
       "                                                                    'about',\n",
       "                                                                    'above',\n",
       "                                                                    'after',\n",
       "                                                                    'again',\n",
       "                                                                    'against',\n",
       "                                                                    'ain',\n",
       "                                                                    'all', 'am',\n",
       "                                                                    'an', 'and',\n",
       "                                                                    'any',\n",
       "                                                                    'are',\n",
       "                                                                    'aren',\n",
       "                                                                    \"aren't\",\n",
       "                                                                    'as', 'at',\n",
       "                                                                    'be',\n",
       "                                                                    'because',\n",
       "                                                                    'been',\n",
       "                                                                    'before',\n",
       "                                                                    'being',\n",
       "                                                                    'below',\n",
       "                                                                    'between',\n",
       "                                                                    'both',\n",
       "                                                                    'but', 'by',\n",
       "                                                                    'can',\n",
       "                                                                    'couldn',\n",
       "                                                                    \"couldn't\", ...})),\n",
       "                                       ('model',\n",
       "                                        LogisticRegression(random_state=12345,\n",
       "                                                           solver='liblinear'))]),\n",
       "             n_jobs=-1, param_grid={'model__max_iter': [1000]},\n",
       "             scoring='roc_auc')"
      ]
     },
     "execution_count": 18,
     "metadata": {},
     "output_type": "execute_result"
    }
   ],
   "source": [
    "%%time\n",
    "lr_model.fit(features_train, target_train) # Обучение регресcии."
   ]
  },
  {
   "cell_type": "code",
   "execution_count": 19,
   "metadata": {
    "colab": {
     "base_uri": "https://localhost:8080/"
    },
    "id": "9J16DmhFaeDV",
    "outputId": "8a849657-fcdf-44e4-b1eb-3b03a55c7173"
   },
   "outputs": [
    {
     "name": "stdout",
     "output_type": "stream",
     "text": [
      "Precision: 0.941\n",
      "Recall: 0.658\n",
      "F1-мера: 0.774\n",
      "AUC-ROC:  0.981\n"
     ]
    }
   ],
   "source": [
    "print_metrics(features_train, target_train, lr_model.best_estimator_) # Метрики на train."
   ]
  },
  {
   "cell_type": "code",
   "execution_count": 20,
   "metadata": {
    "colab": {
     "base_uri": "https://localhost:8080/"
    },
    "id": "5xYpP9cxaeDV",
    "outputId": "b29550d1-6d25-4e2d-ca79-f3921ac08720"
   },
   "outputs": [
    {
     "name": "stdout",
     "output_type": "stream",
     "text": [
      "С подбором порога\n",
      "Precision на тренировочных: 0.842\n",
      "Recall на тренировочных: 0.800\n",
      "F1-мера на тренировочных: 0.820\n",
      "Порог: 0.27\n"
     ]
    }
   ],
   "source": [
    "# Подберем порог улучшим F1.\n",
    "lr_list = ['LogisticRegression']\n",
    "lr_list.extend(threshold_predict(lr_model.best_estimator_, features_train, target_train))"
   ]
  },
  {
   "cell_type": "markdown",
   "metadata": {
    "id": "ATKirPUwaeDV"
   },
   "source": [
    "###  DecisionTree"
   ]
  },
  {
   "cell_type": "code",
   "execution_count": 21,
   "metadata": {
    "id": "6lKNwITF9lCF"
   },
   "outputs": [],
   "source": [
    "params={'model__max_depth': [25],\n",
    "    'model__max_features': [200, 400]}"
   ]
  },
  {
   "cell_type": "code",
   "execution_count": 22,
   "metadata": {
    "id": "A3fRwY9xaeDW"
   },
   "outputs": [],
   "source": [
    "pipeline_dt = Pipeline([\n",
    "    ('tfidf', TfidfVectorizer(stop_words=stop_words, min_df=20)),\n",
    "    ('model', DecisionTreeClassifier(random_state=12345))])"
   ]
  },
  {
   "cell_type": "code",
   "execution_count": 23,
   "metadata": {
    "id": "Eqy2lE5YaeDW"
   },
   "outputs": [],
   "source": [
    "dtc_model = GridSearchCV(pipeline_dt, cv=5, n_jobs=-1, param_grid=params ,scoring='roc_auc') #Задаем параметры модели и поиска."
   ]
  },
  {
   "cell_type": "code",
   "execution_count": 24,
   "metadata": {
    "colab": {
     "base_uri": "https://localhost:8080/",
     "height": 162
    },
    "id": "suTY5iQNaeDW",
    "outputId": "b01773b9-33d2-463f-f403-5428c25a081f"
   },
   "outputs": [
    {
     "name": "stdout",
     "output_type": "stream",
     "text": [
      "CPU times: total: 4.08 s\n",
      "Wall time: 11.7 s\n"
     ]
    },
    {
     "data": {
      "text/plain": [
       "GridSearchCV(cv=5,\n",
       "             estimator=Pipeline(steps=[('tfidf',\n",
       "                                        TfidfVectorizer(min_df=20,\n",
       "                                                        stop_words={'a',\n",
       "                                                                    'about',\n",
       "                                                                    'above',\n",
       "                                                                    'after',\n",
       "                                                                    'again',\n",
       "                                                                    'against',\n",
       "                                                                    'ain',\n",
       "                                                                    'all', 'am',\n",
       "                                                                    'an', 'and',\n",
       "                                                                    'any',\n",
       "                                                                    'are',\n",
       "                                                                    'aren',\n",
       "                                                                    \"aren't\",\n",
       "                                                                    'as', 'at',\n",
       "                                                                    'be',\n",
       "                                                                    'because',\n",
       "                                                                    'been',\n",
       "                                                                    'before',\n",
       "                                                                    'being',\n",
       "                                                                    'below',\n",
       "                                                                    'between',\n",
       "                                                                    'both',\n",
       "                                                                    'but', 'by',\n",
       "                                                                    'can',\n",
       "                                                                    'couldn',\n",
       "                                                                    \"couldn't\", ...})),\n",
       "                                       ('model',\n",
       "                                        DecisionTreeClassifier(random_state=12345))]),\n",
       "             n_jobs=-1,\n",
       "             param_grid={'model__max_depth': [25],\n",
       "                         'model__max_features': [200, 400]},\n",
       "             scoring='roc_auc')"
      ]
     },
     "execution_count": 24,
     "metadata": {},
     "output_type": "execute_result"
    }
   ],
   "source": [
    "%%time\n",
    "dtc_model.fit(features_train, target_train) # Обучение дерева решений"
   ]
  },
  {
   "cell_type": "code",
   "execution_count": 25,
   "metadata": {
    "colab": {
     "base_uri": "https://localhost:8080/"
    },
    "id": "gOxcoOvMaeDW",
    "outputId": "bce4470c-9b1a-44cd-bc59-0eed5f8aa0f5"
   },
   "outputs": [
    {
     "data": {
      "text/plain": [
       "{'model__max_depth': 25, 'model__max_features': 400}"
      ]
     },
     "execution_count": 25,
     "metadata": {},
     "output_type": "execute_result"
    }
   ],
   "source": [
    "dtc_model.best_params_ # Лучшие гиперпараметры."
   ]
  },
  {
   "cell_type": "code",
   "execution_count": 26,
   "metadata": {
    "colab": {
     "base_uri": "https://localhost:8080/"
    },
    "id": "EEPiTVmmaeDW",
    "outputId": "5a1670ce-6f06-4f70-8744-eb2f29809ac9"
   },
   "outputs": [
    {
     "name": "stdout",
     "output_type": "stream",
     "text": [
      "Precision: 0.950\n",
      "Recall: 0.505\n",
      "F1-мера: 0.659\n",
      "AUC-ROC:  0.810\n",
      "CPU times: total: 5.94 s\n",
      "Wall time: 6.27 s\n"
     ]
    }
   ],
   "source": [
    "%%time\n",
    "print_metrics(features_train, target_train, dtc_model.best_estimator_) # Метрики на train."
   ]
  },
  {
   "cell_type": "code",
   "execution_count": 27,
   "metadata": {
    "colab": {
     "base_uri": "https://localhost:8080/"
    },
    "id": "eKZ_WJjCaeDW",
    "outputId": "a08b1c10-4875-40b3-cce7-8f90ee32949c"
   },
   "outputs": [
    {
     "name": "stdout",
     "output_type": "stream",
     "text": [
      "С подбором порога\n",
      "Precision на тренировочных: 0.937\n",
      "Recall на тренировочных: 0.511\n",
      "F1-мера на тренировочных: 0.661\n",
      "Порог: 0.15\n"
     ]
    }
   ],
   "source": [
    "# Подберем порог улучшим F1.\n",
    "dtc_list = ['DecisionTree']\n",
    "dtc_list.extend(threshold_predict(dtc_model.best_estimator_, features_train, target_train,))"
   ]
  },
  {
   "cell_type": "markdown",
   "metadata": {
    "id": "bcHxjfbhsiEo"
   },
   "source": [
    "### RandomForest"
   ]
  },
  {
   "cell_type": "code",
   "execution_count": 28,
   "metadata": {
    "id": "F3ZrjZLPaeDX"
   },
   "outputs": [],
   "source": [
    "params = { # Список параметров.\n",
    "    'model__n_estimators': [100, 200],\n",
    "    'model__max_depth': [25],\n",
    "    'model__max_features': [400]\n",
    "} "
   ]
  },
  {
   "cell_type": "code",
   "execution_count": 29,
   "metadata": {
    "id": "zi-w2lgsAAJB"
   },
   "outputs": [],
   "source": [
    "pipeline_rf = Pipeline([\n",
    "    ('tfidf', TfidfVectorizer(stop_words=stop_words, min_df=40)),\n",
    "    ('model', RandomForestClassifier(random_state=12345,))])"
   ]
  },
  {
   "cell_type": "code",
   "execution_count": 30,
   "metadata": {
    "id": "Uy09VbbuaeDX"
   },
   "outputs": [],
   "source": [
    "rfc_model = GridSearchCV(pipeline_rf, cv=5, n_jobs=-1, param_grid=params ,scoring='roc_auc') #Задаем параметры модели и поиска."
   ]
  },
  {
   "cell_type": "code",
   "execution_count": 31,
   "metadata": {
    "colab": {
     "base_uri": "https://localhost:8080/",
     "height": 272
    },
    "id": "_yOkyzz-aeDX",
    "outputId": "89b41158-a7c1-407c-bc82-5e876d4e7f96"
   },
   "outputs": [
    {
     "name": "stdout",
     "output_type": "stream",
     "text": [
      "CPU times: total: 1min 10s\n",
      "Wall time: 3min 3s\n"
     ]
    },
    {
     "data": {
      "text/plain": [
       "GridSearchCV(cv=5,\n",
       "             estimator=Pipeline(steps=[('tfidf',\n",
       "                                        TfidfVectorizer(min_df=40,\n",
       "                                                        stop_words={'a',\n",
       "                                                                    'about',\n",
       "                                                                    'above',\n",
       "                                                                    'after',\n",
       "                                                                    'again',\n",
       "                                                                    'against',\n",
       "                                                                    'ain',\n",
       "                                                                    'all', 'am',\n",
       "                                                                    'an', 'and',\n",
       "                                                                    'any',\n",
       "                                                                    'are',\n",
       "                                                                    'aren',\n",
       "                                                                    \"aren't\",\n",
       "                                                                    'as', 'at',\n",
       "                                                                    'be',\n",
       "                                                                    'because',\n",
       "                                                                    'been',\n",
       "                                                                    'before',\n",
       "                                                                    'being',\n",
       "                                                                    'below',\n",
       "                                                                    'between',\n",
       "                                                                    'both',\n",
       "                                                                    'but', 'by',\n",
       "                                                                    'can',\n",
       "                                                                    'couldn',\n",
       "                                                                    \"couldn't\", ...})),\n",
       "                                       ('model',\n",
       "                                        RandomForestClassifier(random_state=12345))]),\n",
       "             n_jobs=-1,\n",
       "             param_grid={'model__max_depth': [25], 'model__max_features': [400],\n",
       "                         'model__n_estimators': [100, 200]},\n",
       "             scoring='roc_auc')"
      ]
     },
     "execution_count": 31,
     "metadata": {},
     "output_type": "execute_result"
    }
   ],
   "source": [
    "%%time\n",
    "rfc_model.fit(features_train, target_train) # Обучение случайного леса."
   ]
  },
  {
   "cell_type": "code",
   "execution_count": 32,
   "metadata": {
    "colab": {
     "base_uri": "https://localhost:8080/"
    },
    "id": "Py8xM_FCaeDX",
    "outputId": "2f67844a-b427-4fef-fa97-8fdf68ab1898"
   },
   "outputs": [
    {
     "data": {
      "text/plain": [
       "{'model__max_depth': 25,\n",
       " 'model__max_features': 400,\n",
       " 'model__n_estimators': 200}"
      ]
     },
     "execution_count": 32,
     "metadata": {},
     "output_type": "execute_result"
    }
   ],
   "source": [
    "rfc_model.best_params_ # Лучшие гиперпараметры."
   ]
  },
  {
   "cell_type": "code",
   "execution_count": 33,
   "metadata": {
    "colab": {
     "base_uri": "https://localhost:8080/"
    },
    "id": "3j2gucJAaeDX",
    "outputId": "20d17830-5e09-4faa-9239-aff6ad0c1165"
   },
   "outputs": [
    {
     "name": "stdout",
     "output_type": "stream",
     "text": [
      "Precision: 0.996\n",
      "Recall: 0.569\n",
      "F1-мера: 0.724\n",
      "AUC-ROC:  0.954\n",
      "CPU times: total: 9.66 s\n",
      "Wall time: 11.4 s\n"
     ]
    }
   ],
   "source": [
    "%%time\n",
    "print_metrics(features_train, target_train, rfc_model.best_estimator_) # Метрики на train."
   ]
  },
  {
   "cell_type": "code",
   "execution_count": 34,
   "metadata": {
    "colab": {
     "base_uri": "https://localhost:8080/"
    },
    "id": "QiBmEEBxaeDX",
    "outputId": "26398edd-0923-4e56-94f4-c7b961628d1f"
   },
   "outputs": [
    {
     "name": "stdout",
     "output_type": "stream",
     "text": [
      "С подбором порога\n",
      "Precision на тренировочных: 0.792\n",
      "Recall на тренировочных: 0.756\n",
      "F1-мера на тренировочных: 0.774\n",
      "Порог: 0.11\n"
     ]
    }
   ],
   "source": [
    "# Подберем порог улучшим F1.\n",
    "rfc_list = ['RandomForest']\n",
    "rfc_list.extend(threshold_predict(rfc_model.best_estimator_, features_train, target_train))"
   ]
  },
  {
   "cell_type": "markdown",
   "metadata": {
    "id": "qSpDUyelaeDX"
   },
   "source": [
    "### Вывод"
   ]
  },
  {
   "cell_type": "code",
   "execution_count": 35,
   "metadata": {
    "colab": {
     "base_uri": "https://localhost:8080/",
     "height": 143
    },
    "id": "iGs91VX-aeDY",
    "outputId": "08b98076-ad73-4881-cf66-489175287f3d"
   },
   "outputs": [
    {
     "data": {
      "text/html": [
       "<div>\n",
       "<style scoped>\n",
       "    .dataframe tbody tr th:only-of-type {\n",
       "        vertical-align: middle;\n",
       "    }\n",
       "\n",
       "    .dataframe tbody tr th {\n",
       "        vertical-align: top;\n",
       "    }\n",
       "\n",
       "    .dataframe thead th {\n",
       "        text-align: right;\n",
       "    }\n",
       "</style>\n",
       "<table border=\"1\" class=\"dataframe\">\n",
       "  <thead>\n",
       "    <tr style=\"text-align: right;\">\n",
       "      <th></th>\n",
       "      <th>model</th>\n",
       "      <th>Precision</th>\n",
       "      <th>Recall</th>\n",
       "      <th>F1-мера</th>\n",
       "      <th>Порог</th>\n",
       "    </tr>\n",
       "  </thead>\n",
       "  <tbody>\n",
       "    <tr>\n",
       "      <th>0</th>\n",
       "      <td>LogisticRegression</td>\n",
       "      <td>0.842</td>\n",
       "      <td>0.800</td>\n",
       "      <td>0.820</td>\n",
       "      <td>0.270</td>\n",
       "    </tr>\n",
       "    <tr>\n",
       "      <th>1</th>\n",
       "      <td>DecisionTree</td>\n",
       "      <td>0.937</td>\n",
       "      <td>0.511</td>\n",
       "      <td>0.661</td>\n",
       "      <td>0.150</td>\n",
       "    </tr>\n",
       "    <tr>\n",
       "      <th>2</th>\n",
       "      <td>RandomForest</td>\n",
       "      <td>0.792</td>\n",
       "      <td>0.756</td>\n",
       "      <td>0.774</td>\n",
       "      <td>0.110</td>\n",
       "    </tr>\n",
       "  </tbody>\n",
       "</table>\n",
       "</div>"
      ],
      "text/plain": [
       "                model  Precision  Recall  F1-мера  Порог\n",
       "0  LogisticRegression      0.842   0.800    0.820  0.270\n",
       "1        DecisionTree      0.937   0.511    0.661  0.150\n",
       "2        RandomForest      0.792   0.756    0.774  0.110"
      ]
     },
     "execution_count": 35,
     "metadata": {},
     "output_type": "execute_result"
    }
   ],
   "source": [
    "pd.options.display.float_format = '{:.3f}'.format\n",
    "columns = [\n",
    "    'model',\n",
    "    'Precision',\n",
    "    'Recall',\n",
    "    'F1-мера',\n",
    "    'Порог'\n",
    "]\n",
    "data = []\n",
    "\n",
    "\n",
    "data.append(lr_list)\n",
    "data.append(dtc_list)\n",
    "data.append(rfc_list)\n",
    "pd.DataFrame(data=data, columns=columns)"
   ]
  },
  {
   "cell_type": "code",
   "execution_count": 36,
   "metadata": {
    "colab": {
     "base_uri": "https://localhost:8080/"
    },
    "id": "U_1lXfwwBL38",
    "outputId": "7fde1d58-378a-4a9f-945f-9bbc222c42a4"
   },
   "outputs": [
    {
     "name": "stdout",
     "output_type": "stream",
     "text": [
      "F1 модели на тестовой выборке: 0.786\n"
     ]
    }
   ],
   "source": [
    "probabilities = lr_model.predict_proba(features_test)[:, 1] \n",
    "f1 = f1_score(target_test, probabilities > lr_list[4])\n",
    "print(f'F1 модели на тестовой выборке: {f1:.3f}')"
   ]
  },
  {
   "cell_type": "markdown",
   "metadata": {
    "id": "sLB9ey6do-Cf"
   },
   "source": [
    "Логистическая регрессия единственная удовлетворяет условию F1-мера на тестовой выборке больше 0.75."
   ]
  },
  {
   "cell_type": "markdown",
   "metadata": {
    "id": "_sb-quXcaeDY"
   },
   "source": [
    "## Выводы"
   ]
  },
  {
   "cell_type": "markdown",
   "metadata": {
    "id": "U3ORh9nGmLyu"
   },
   "source": [
    "- \"Деревянные\" модели сильно переобучатся. Изменения гиперпараметров ситуацию не улучшают. Подбор порога результат не сильно меняет.\n",
    "- Логистическая регрессия показала себя лучше \"деревянных\" моделей, это самая быстрая модель. Подбор порога улучшает результат.\n",
    "- При расчете tf-idf использовался параметр min_df. Позволяет убрать редкие слова и ускорить обучение, но не снизить результат.\n",
    "- Логистическая регрессия удовлетворяет условию - F1-мера на тестовой выборке больше 0.75."
   ]
  }
 ],
 "metadata": {
  "ExecuteTimeLog": [
   {
    "duration": 1414,
    "start_time": "2023-02-27T12:39:21.531Z"
   },
   {
    "duration": 3604,
    "start_time": "2023-02-27T12:45:55.023Z"
   },
   {
    "duration": 15,
    "start_time": "2023-02-27T12:46:08.253Z"
   },
   {
    "duration": 33,
    "start_time": "2023-02-27T12:48:02.347Z"
   },
   {
    "duration": 2357,
    "start_time": "2023-02-27T12:53:13.472Z"
   },
   {
    "duration": 5,
    "start_time": "2023-02-27T12:53:21.830Z"
   },
   {
    "duration": 3,
    "start_time": "2023-02-27T12:58:26.145Z"
   },
   {
    "duration": 473,
    "start_time": "2023-02-27T12:59:15.407Z"
   },
   {
    "duration": 30,
    "start_time": "2023-02-27T12:59:39.224Z"
   },
   {
    "duration": 3,
    "start_time": "2023-02-27T12:59:42.272Z"
   },
   {
    "duration": 1293,
    "start_time": "2023-02-27T12:59:44.561Z"
   },
   {
    "duration": 51,
    "start_time": "2023-02-27T13:00:54.171Z"
   },
   {
    "duration": 1471,
    "start_time": "2023-02-27T13:00:58.862Z"
   },
   {
    "duration": 3597,
    "start_time": "2023-02-27T13:01:00.335Z"
   },
   {
    "duration": 17,
    "start_time": "2023-02-27T13:01:03.934Z"
   },
   {
    "duration": 36,
    "start_time": "2023-02-27T13:01:03.953Z"
   },
   {
    "duration": 6,
    "start_time": "2023-02-27T13:01:03.990Z"
   },
   {
    "duration": 298509,
    "start_time": "2023-02-27T13:01:03.997Z"
   },
   {
    "duration": 3,
    "start_time": "2023-02-27T13:07:14.718Z"
   },
   {
    "duration": 11,
    "start_time": "2023-02-27T13:07:27.979Z"
   },
   {
    "duration": 2059,
    "start_time": "2023-02-27T13:07:33.570Z"
   },
   {
    "duration": 932,
    "start_time": "2023-02-27T13:08:00.614Z"
   },
   {
    "duration": 4,
    "start_time": "2023-02-27T13:09:06.524Z"
   },
   {
    "duration": 3,
    "start_time": "2023-02-27T13:09:20.606Z"
   },
   {
    "duration": 1856,
    "start_time": "2023-02-27T13:14:49.295Z"
   },
   {
    "duration": 1863,
    "start_time": "2023-02-27T13:15:36.539Z"
   },
   {
    "duration": 1781,
    "start_time": "2023-02-27T13:15:44.094Z"
   },
   {
    "duration": 1461,
    "start_time": "2023-02-27T13:16:38.282Z"
   },
   {
    "duration": 3545,
    "start_time": "2023-02-27T13:16:39.746Z"
   },
   {
    "duration": 14,
    "start_time": "2023-02-27T13:16:43.293Z"
   },
   {
    "duration": 43,
    "start_time": "2023-02-27T13:16:43.309Z"
   },
   {
    "duration": 3,
    "start_time": "2023-02-27T13:16:43.354Z"
   },
   {
    "duration": 5,
    "start_time": "2023-02-27T13:16:43.359Z"
   },
   {
    "duration": 2003,
    "start_time": "2023-02-27T13:16:43.365Z"
   },
   {
    "duration": 2959,
    "start_time": "2023-02-27T13:16:45.370Z"
   },
   {
    "duration": 0,
    "start_time": "2023-02-27T13:16:48.330Z"
   },
   {
    "duration": 2520,
    "start_time": "2023-02-27T13:16:56.074Z"
   },
   {
    "duration": 5,
    "start_time": "2023-02-27T13:17:37.820Z"
   },
   {
    "duration": 2590,
    "start_time": "2023-02-27T13:17:41.993Z"
   },
   {
    "duration": 5,
    "start_time": "2023-02-27T13:17:46.185Z"
   },
   {
    "duration": 4,
    "start_time": "2023-02-27T13:17:55.928Z"
   },
   {
    "duration": 1527,
    "start_time": "2023-02-27T13:18:57.650Z"
   },
   {
    "duration": 2071,
    "start_time": "2023-02-27T13:18:59.180Z"
   },
   {
    "duration": 16,
    "start_time": "2023-02-27T13:19:01.253Z"
   },
   {
    "duration": 52,
    "start_time": "2023-02-27T13:19:01.271Z"
   },
   {
    "duration": 20,
    "start_time": "2023-02-27T13:19:01.325Z"
   },
   {
    "duration": 47,
    "start_time": "2023-02-27T13:19:01.347Z"
   },
   {
    "duration": 2131,
    "start_time": "2023-02-27T13:19:01.396Z"
   },
   {
    "duration": 1534,
    "start_time": "2023-02-27T13:19:45.831Z"
   },
   {
    "duration": 3622,
    "start_time": "2023-02-27T13:19:47.367Z"
   },
   {
    "duration": 13,
    "start_time": "2023-02-27T13:19:50.991Z"
   },
   {
    "duration": 34,
    "start_time": "2023-02-27T13:19:51.006Z"
   },
   {
    "duration": 3,
    "start_time": "2023-02-27T13:19:51.042Z"
   },
   {
    "duration": 7,
    "start_time": "2023-02-27T13:19:51.047Z"
   },
   {
    "duration": 1992,
    "start_time": "2023-02-27T13:19:51.056Z"
   },
   {
    "duration": 51,
    "start_time": "2023-02-27T13:21:22.372Z"
   },
   {
    "duration": 1512,
    "start_time": "2023-02-27T13:21:31.816Z"
   },
   {
    "duration": 3514,
    "start_time": "2023-02-27T13:21:33.330Z"
   },
   {
    "duration": 15,
    "start_time": "2023-02-27T13:21:36.845Z"
   },
   {
    "duration": 32,
    "start_time": "2023-02-27T13:21:36.862Z"
   },
   {
    "duration": 4,
    "start_time": "2023-02-27T13:21:36.896Z"
   },
   {
    "duration": 5,
    "start_time": "2023-02-27T13:21:36.901Z"
   },
   {
    "duration": 2139,
    "start_time": "2023-02-27T13:21:36.908Z"
   },
   {
    "duration": 9,
    "start_time": "2023-02-27T13:23:15.818Z"
   },
   {
    "duration": 1443,
    "start_time": "2023-02-27T13:23:24.360Z"
   },
   {
    "duration": 3597,
    "start_time": "2023-02-27T13:23:25.805Z"
   },
   {
    "duration": 15,
    "start_time": "2023-02-27T13:23:29.405Z"
   },
   {
    "duration": 37,
    "start_time": "2023-02-27T13:23:29.422Z"
   },
   {
    "duration": 4,
    "start_time": "2023-02-27T13:23:29.461Z"
   },
   {
    "duration": 23,
    "start_time": "2023-02-27T13:23:29.466Z"
   },
   {
    "duration": 2004,
    "start_time": "2023-02-27T13:23:29.491Z"
   },
   {
    "duration": 1108,
    "start_time": "2023-02-27T13:23:31.497Z"
   },
   {
    "duration": 0,
    "start_time": "2023-02-27T13:23:32.608Z"
   },
   {
    "duration": 0,
    "start_time": "2023-02-27T13:23:32.609Z"
   },
   {
    "duration": 3,
    "start_time": "2023-02-27T13:23:53.785Z"
   },
   {
    "duration": 1871,
    "start_time": "2023-02-27T13:24:21.451Z"
   },
   {
    "duration": 3656,
    "start_time": "2023-02-27T13:24:23.324Z"
   },
   {
    "duration": 15,
    "start_time": "2023-02-27T13:24:26.982Z"
   },
   {
    "duration": 983,
    "start_time": "2023-02-27T13:24:26.999Z"
   },
   {
    "duration": 385,
    "start_time": "2023-02-27T13:24:27.985Z"
   },
   {
    "duration": 6,
    "start_time": "2023-02-27T13:24:28.372Z"
   },
   {
    "duration": 2070,
    "start_time": "2023-02-27T13:24:28.380Z"
   },
   {
    "duration": 221079,
    "start_time": "2023-02-27T13:24:30.451Z"
   },
   {
    "duration": 0,
    "start_time": "2023-02-27T13:28:11.532Z"
   },
   {
    "duration": 0,
    "start_time": "2023-02-27T13:28:11.534Z"
   },
   {
    "duration": 3,
    "start_time": "2023-02-27T13:28:55.848Z"
   },
   {
    "duration": 4,
    "start_time": "2023-02-27T13:29:30.692Z"
   },
   {
    "duration": 1472,
    "start_time": "2023-02-27T13:30:34.534Z"
   },
   {
    "duration": 3545,
    "start_time": "2023-02-27T13:30:36.008Z"
   },
   {
    "duration": 15,
    "start_time": "2023-02-27T13:30:39.555Z"
   },
   {
    "duration": 55,
    "start_time": "2023-02-27T13:30:39.572Z"
   },
   {
    "duration": 2,
    "start_time": "2023-02-27T13:30:39.629Z"
   },
   {
    "duration": 20,
    "start_time": "2023-02-27T13:30:39.633Z"
   },
   {
    "duration": 11,
    "start_time": "2023-02-27T13:30:39.655Z"
   },
   {
    "duration": 35708,
    "start_time": "2023-02-27T13:30:39.668Z"
   },
   {
    "duration": 131,
    "start_time": "2023-02-27T13:31:15.378Z"
   },
   {
    "duration": 0,
    "start_time": "2023-02-27T13:31:15.523Z"
   },
   {
    "duration": 8,
    "start_time": "2023-02-27T13:31:29.756Z"
   },
   {
    "duration": 1411,
    "start_time": "2023-02-27T13:35:00.864Z"
   },
   {
    "duration": 6,
    "start_time": "2023-02-27T13:35:09.213Z"
   },
   {
    "duration": 10,
    "start_time": "2023-02-27T13:35:22.885Z"
   },
   {
    "duration": 6,
    "start_time": "2023-02-27T13:35:37.054Z"
   },
   {
    "duration": 111,
    "start_time": "2023-02-27T13:35:57.877Z"
   },
   {
    "duration": 4,
    "start_time": "2023-02-27T13:36:32.249Z"
   },
   {
    "duration": 5,
    "start_time": "2023-02-27T13:36:33.353Z"
   },
   {
    "duration": 3,
    "start_time": "2023-02-27T13:36:52.368Z"
   },
   {
    "duration": 5,
    "start_time": "2023-02-27T13:36:54.205Z"
   },
   {
    "duration": 2372,
    "start_time": "2023-02-27T13:37:44.334Z"
   },
   {
    "duration": 6,
    "start_time": "2023-02-27T13:37:55.736Z"
   },
   {
    "duration": 11,
    "start_time": "2023-02-27T13:40:27.854Z"
   },
   {
    "duration": 1212,
    "start_time": "2023-02-27T13:40:38.872Z"
   },
   {
    "duration": 1512,
    "start_time": "2023-02-27T13:41:10.574Z"
   },
   {
    "duration": 3568,
    "start_time": "2023-02-27T13:41:12.088Z"
   },
   {
    "duration": 14,
    "start_time": "2023-02-27T13:41:15.657Z"
   },
   {
    "duration": 32,
    "start_time": "2023-02-27T13:41:15.673Z"
   },
   {
    "duration": 12,
    "start_time": "2023-02-27T13:41:15.707Z"
   },
   {
    "duration": 9,
    "start_time": "2023-02-27T13:41:15.721Z"
   },
   {
    "duration": 36302,
    "start_time": "2023-02-27T13:41:15.731Z"
   },
   {
    "duration": 32,
    "start_time": "2023-02-27T13:41:52.034Z"
   },
   {
    "duration": 23,
    "start_time": "2023-02-27T13:41:52.068Z"
   },
   {
    "duration": 2327,
    "start_time": "2023-02-27T13:41:52.093Z"
   },
   {
    "duration": 5,
    "start_time": "2023-02-27T13:41:54.422Z"
   },
   {
    "duration": 1548,
    "start_time": "2023-02-27T13:42:30.498Z"
   },
   {
    "duration": 3771,
    "start_time": "2023-02-27T13:42:32.049Z"
   },
   {
    "duration": 15,
    "start_time": "2023-02-27T13:42:35.822Z"
   },
   {
    "duration": 34,
    "start_time": "2023-02-27T13:42:35.838Z"
   },
   {
    "duration": 3,
    "start_time": "2023-02-27T13:42:35.874Z"
   },
   {
    "duration": 6,
    "start_time": "2023-02-27T13:42:35.878Z"
   },
   {
    "duration": 38510,
    "start_time": "2023-02-27T13:42:35.886Z"
   },
   {
    "duration": 20,
    "start_time": "2023-02-27T13:43:14.397Z"
   },
   {
    "duration": 4,
    "start_time": "2023-02-27T13:43:14.419Z"
   },
   {
    "duration": 2424,
    "start_time": "2023-02-27T13:43:14.440Z"
   },
   {
    "duration": 6,
    "start_time": "2023-02-27T13:43:16.866Z"
   },
   {
    "duration": 1523,
    "start_time": "2023-02-27T13:44:31.206Z"
   },
   {
    "duration": 3506,
    "start_time": "2023-02-27T13:44:32.731Z"
   },
   {
    "duration": 14,
    "start_time": "2023-02-27T13:44:36.238Z"
   },
   {
    "duration": 2059,
    "start_time": "2023-02-27T13:44:36.255Z"
   },
   {
    "duration": 6,
    "start_time": "2023-02-27T13:44:38.316Z"
   },
   {
    "duration": 5,
    "start_time": "2023-02-27T13:44:38.324Z"
   },
   {
    "duration": 1448,
    "start_time": "2023-02-27T13:46:13.993Z"
   },
   {
    "duration": 3542,
    "start_time": "2023-02-27T13:46:15.443Z"
   },
   {
    "duration": 14,
    "start_time": "2023-02-27T13:46:18.987Z"
   },
   {
    "duration": 4,
    "start_time": "2023-02-27T13:46:19.003Z"
   },
   {
    "duration": 5,
    "start_time": "2023-02-27T13:46:19.009Z"
   },
   {
    "duration": 36350,
    "start_time": "2023-02-27T13:46:19.015Z"
   },
   {
    "duration": 4,
    "start_time": "2023-02-27T13:46:55.367Z"
   },
   {
    "duration": 2632,
    "start_time": "2023-02-27T13:46:55.372Z"
   },
   {
    "duration": 2104,
    "start_time": "2023-02-27T13:46:58.006Z"
   },
   {
    "duration": 1460,
    "start_time": "2023-02-27T13:47:32.071Z"
   },
   {
    "duration": 935,
    "start_time": "2023-02-27T13:47:33.533Z"
   },
   {
    "duration": 15,
    "start_time": "2023-02-27T13:47:34.470Z"
   },
   {
    "duration": 3,
    "start_time": "2023-02-27T13:47:34.486Z"
   },
   {
    "duration": 8,
    "start_time": "2023-02-27T13:47:34.491Z"
   },
   {
    "duration": 37153,
    "start_time": "2023-02-27T13:47:34.501Z"
   },
   {
    "duration": 4,
    "start_time": "2023-02-27T13:48:11.656Z"
   },
   {
    "duration": 2671,
    "start_time": "2023-02-27T13:48:11.662Z"
   },
   {
    "duration": 2090,
    "start_time": "2023-02-27T13:48:14.335Z"
   },
   {
    "duration": 168,
    "start_time": "2023-02-27T13:49:20.500Z"
   },
   {
    "duration": 1645,
    "start_time": "2023-02-27T14:54:25.621Z"
   },
   {
    "duration": 1169,
    "start_time": "2023-02-27T14:54:27.269Z"
   },
   {
    "duration": 22,
    "start_time": "2023-02-27T14:54:28.440Z"
   },
   {
    "duration": 4,
    "start_time": "2023-02-27T14:54:28.464Z"
   },
   {
    "duration": 9,
    "start_time": "2023-02-27T14:54:28.470Z"
   },
   {
    "duration": 40272,
    "start_time": "2023-02-27T14:54:28.481Z"
   },
   {
    "duration": 4,
    "start_time": "2023-02-27T14:55:08.755Z"
   },
   {
    "duration": 2725,
    "start_time": "2023-02-27T14:55:08.761Z"
   },
   {
    "duration": 2127,
    "start_time": "2023-02-27T14:55:11.488Z"
   },
   {
    "duration": 237,
    "start_time": "2023-02-27T14:55:13.617Z"
   },
   {
    "duration": 3,
    "start_time": "2023-02-27T14:59:29.728Z"
   },
   {
    "duration": 5,
    "start_time": "2023-02-27T14:59:58.044Z"
   },
   {
    "duration": 31,
    "start_time": "2023-02-27T15:00:16.461Z"
   },
   {
    "duration": 987,
    "start_time": "2023-02-27T15:01:23.830Z"
   },
   {
    "duration": 1438,
    "start_time": "2023-02-27T15:01:52.950Z"
   },
   {
    "duration": 3566,
    "start_time": "2023-02-27T15:01:54.391Z"
   },
   {
    "duration": 17,
    "start_time": "2023-02-27T15:01:57.962Z"
   },
   {
    "duration": 26,
    "start_time": "2023-02-27T15:01:57.982Z"
   },
   {
    "duration": 34,
    "start_time": "2023-02-27T15:01:58.010Z"
   },
   {
    "duration": 52,
    "start_time": "2023-02-27T15:01:58.046Z"
   },
   {
    "duration": 37652,
    "start_time": "2023-02-27T15:01:58.100Z"
   },
   {
    "duration": 4,
    "start_time": "2023-02-27T15:02:35.754Z"
   },
   {
    "duration": 2649,
    "start_time": "2023-02-27T15:02:35.760Z"
   },
   {
    "duration": 3,
    "start_time": "2023-02-27T15:02:38.411Z"
   },
   {
    "duration": 43,
    "start_time": "2023-02-27T15:02:38.416Z"
   },
   {
    "duration": 1556,
    "start_time": "2023-02-27T15:02:38.461Z"
   },
   {
    "duration": 170,
    "start_time": "2023-02-27T15:02:40.020Z"
   },
   {
    "duration": 1427,
    "start_time": "2023-02-27T15:04:07.372Z"
   },
   {
    "duration": 987,
    "start_time": "2023-02-27T15:04:08.801Z"
   },
   {
    "duration": 14,
    "start_time": "2023-02-27T15:04:09.790Z"
   },
   {
    "duration": 5,
    "start_time": "2023-02-27T15:04:09.806Z"
   },
   {
    "duration": 3,
    "start_time": "2023-02-27T15:04:09.813Z"
   },
   {
    "duration": 3,
    "start_time": "2023-02-27T15:04:09.839Z"
   },
   {
    "duration": 36269,
    "start_time": "2023-02-27T15:04:09.844Z"
   },
   {
    "duration": 3,
    "start_time": "2023-02-27T15:04:46.115Z"
   },
   {
    "duration": 2695,
    "start_time": "2023-02-27T15:04:46.119Z"
   },
   {
    "duration": 3,
    "start_time": "2023-02-27T15:04:48.817Z"
   },
   {
    "duration": 43,
    "start_time": "2023-02-27T15:04:48.822Z"
   },
   {
    "duration": 1773,
    "start_time": "2023-02-27T15:04:48.867Z"
   },
   {
    "duration": 439,
    "start_time": "2023-02-27T15:04:50.642Z"
   },
   {
    "duration": 249,
    "start_time": "2023-02-27T15:04:51.083Z"
   },
   {
    "duration": 17532,
    "start_time": "2023-02-27T15:04:51.334Z"
   },
   {
    "duration": 5,
    "start_time": "2023-02-27T15:06:24.815Z"
   },
   {
    "duration": 4,
    "start_time": "2023-02-27T15:06:41.916Z"
   },
   {
    "duration": 1510,
    "start_time": "2023-02-27T15:09:48.420Z"
   },
   {
    "duration": 3534,
    "start_time": "2023-02-27T15:09:49.932Z"
   },
   {
    "duration": 15,
    "start_time": "2023-02-27T15:09:53.468Z"
   },
   {
    "duration": 6,
    "start_time": "2023-02-27T15:09:53.486Z"
   },
   {
    "duration": 11,
    "start_time": "2023-02-27T15:09:53.493Z"
   },
   {
    "duration": 36,
    "start_time": "2023-02-27T15:09:53.506Z"
   },
   {
    "duration": 35965,
    "start_time": "2023-02-27T15:09:53.544Z"
   },
   {
    "duration": 4,
    "start_time": "2023-02-27T15:10:29.512Z"
   },
   {
    "duration": 2622,
    "start_time": "2023-02-27T15:10:29.518Z"
   },
   {
    "duration": 5,
    "start_time": "2023-02-27T15:10:32.143Z"
   },
   {
    "duration": 46,
    "start_time": "2023-02-27T15:10:32.150Z"
   },
   {
    "duration": 1714,
    "start_time": "2023-02-27T15:10:32.198Z"
   },
   {
    "duration": 423,
    "start_time": "2023-02-27T15:10:33.914Z"
   },
   {
    "duration": 206,
    "start_time": "2023-02-27T15:10:34.339Z"
   },
   {
    "duration": 17340,
    "start_time": "2023-02-27T15:10:34.547Z"
   },
   {
    "duration": 3,
    "start_time": "2023-02-27T15:10:51.889Z"
   },
   {
    "duration": 19,
    "start_time": "2023-02-27T15:10:51.895Z"
   }
  ],
  "colab": {
   "provenance": []
  },
  "kernelspec": {
   "display_name": "Python 3 (ipykernel)",
   "language": "python",
   "name": "python3"
  },
  "language_info": {
   "codemirror_mode": {
    "name": "ipython",
    "version": 3
   },
   "file_extension": ".py",
   "mimetype": "text/x-python",
   "name": "python",
   "nbconvert_exporter": "python",
   "pygments_lexer": "ipython3",
   "version": "3.9.12"
  },
  "toc": {
   "base_numbering": 1,
   "nav_menu": {},
   "number_sections": true,
   "sideBar": true,
   "skip_h1_title": true,
   "title_cell": "Содержание",
   "title_sidebar": "Contents",
   "toc_cell": true,
   "toc_position": {
    "height": "calc(100% - 180px)",
    "left": "10px",
    "top": "150px",
    "width": "302.391px"
   },
   "toc_section_display": true,
   "toc_window_display": true
  }
 },
 "nbformat": 4,
 "nbformat_minor": 1
}
