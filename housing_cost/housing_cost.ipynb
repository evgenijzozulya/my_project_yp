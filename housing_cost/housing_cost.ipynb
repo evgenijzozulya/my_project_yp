{
 "cells": [
  {
   "cell_type": "markdown",
   "id": "16290a19",
   "metadata": {
    "toc": true
   },
   "source": [
    "<h1>Содержание<span class=\"tocSkip\"></span></h1>\n",
    "<div class=\"toc\"><ul class=\"toc-item\"><li><span><a href=\"#Подготовка-данных\" data-toc-modified-id=\"Подготовка-данных-1\"><span class=\"toc-item-num\">1&nbsp;&nbsp;</span>Подготовка данных</a></span><ul class=\"toc-item\"><li><span><a href=\"#Обработка-пропусков\" data-toc-modified-id=\"Обработка-пропусков-1.1\"><span class=\"toc-item-num\">1.1&nbsp;&nbsp;</span>Обработка пропусков</a></span></li><li><span><a href=\"#Трансформация-категорийных-признаков\" data-toc-modified-id=\"Трансформация-категорийных-признаков-1.2\"><span class=\"toc-item-num\">1.2&nbsp;&nbsp;</span>Трансформация категорийных признаков</a></span></li><li><span><a href=\"#Трансформация-количественных-признаков\" data-toc-modified-id=\"Трансформация-количественных-признаков-1.3\"><span class=\"toc-item-num\">1.3&nbsp;&nbsp;</span>Трансформация количественных признаков</a></span></li><li><span><a href=\"#Обединение-признаков-в-вектор\" data-toc-modified-id=\"Обединение-признаков-в-вектор-1.4\"><span class=\"toc-item-num\">1.4&nbsp;&nbsp;</span>Обединение признаков в вектор</a></span></li></ul></li><li><span><a href=\"#Обучение-моделей\" data-toc-modified-id=\"Обучение-моделей-2\"><span class=\"toc-item-num\">2&nbsp;&nbsp;</span>Обучение моделей</a></span><ul class=\"toc-item\"><li><span><a href=\"#Обучение-модели-на-полной-выборке\" data-toc-modified-id=\"Обучение-модели-на-полной-выборке-2.1\"><span class=\"toc-item-num\">2.1&nbsp;&nbsp;</span>Обучение модели на полной выборке</a></span></li><li><span><a href=\"#Обучение-модели-на-числовых-пременных\" data-toc-modified-id=\"Обучение-модели-на-числовых-пременных-2.2\"><span class=\"toc-item-num\">2.2&nbsp;&nbsp;</span>Обучение модели на числовых пременных</a></span></li></ul></li><li><span><a href=\"#Анализ-результатов\" data-toc-modified-id=\"Анализ-результатов-3\"><span class=\"toc-item-num\">3&nbsp;&nbsp;</span>Анализ результатов</a></span><ul class=\"toc-item\"><li><span><a href=\"#Выводы\" data-toc-modified-id=\"Выводы-3.1\"><span class=\"toc-item-num\">3.1&nbsp;&nbsp;</span>Выводы</a></span></li></ul></li></ul></div>"
   ]
  },
  {
   "cell_type": "markdown",
   "id": "GEqQaHzsZ_bA",
   "metadata": {
    "id": "GEqQaHzsZ_bA"
   },
   "source": [
    "# Предсказание стоимости жилья\n",
    "\n",
    "**Задача** \n",
    "\n",
    "Обучить модель линейной регрессии. На основе данных нужно предсказать медианную стоимость дома в жилом массиве. Для оценки качества модели используйте метрики RMSE, MAE и R2.\n",
    "\n",
    "**Данные**\n",
    "\n",
    "Данные о жилье в Калифорнии в 1990 году."
   ]
  },
  {
   "cell_type": "markdown",
   "id": "53871372",
   "metadata": {
    "id": "53871372"
   },
   "source": [
    "## Подготовка данных"
   ]
  },
  {
   "cell_type": "code",
   "execution_count": 1,
   "id": "df92e3ec",
   "metadata": {
    "id": "df92e3ec"
   },
   "outputs": [],
   "source": [
    "# # Загружаем библиотеки.\n",
    "import pandas as pd \n",
    "import numpy as np\n",
    "\n",
    "import pyspark\n",
    "from pyspark.sql import SparkSession\n",
    "from pyspark.sql.types import *\n",
    "import pyspark.sql.functions as F\n",
    "\n",
    "from pyspark.ml.feature import StringIndexer, VectorAssembler, StandardScaler\n",
    "from pyspark.ml.regression import LinearRegression\n",
    "from pyspark.ml.evaluation import RegressionEvaluator\n",
    "\n",
    "pyspark_version = pyspark.__version__\n",
    "if int(pyspark_version[:1]) == 3:\n",
    "    from pyspark.ml.feature import OneHotEncoder    \n",
    "elif int(pyspark_version[:1]) == 2:\n",
    "    from pyspark.ml.feature import OneHotEncodeEstimator"
   ]
  },
  {
   "cell_type": "code",
   "execution_count": 2,
   "id": "64773079",
   "metadata": {},
   "outputs": [],
   "source": [
    "RANDOM_SEED = 12345"
   ]
  },
  {
   "cell_type": "code",
   "execution_count": 2,
   "id": "bbaa726b",
   "metadata": {},
   "outputs": [],
   "source": [
    "pd.read_csv('/datasets/housing.csv').to_csv('housing.csv', index=False)"
   ]
  },
  {
   "cell_type": "code",
   "execution_count": 3,
   "id": "36655fd8",
   "metadata": {},
   "outputs": [],
   "source": [
    "# Создаем локальную Spark-сессию.\n",
    "spark = SparkSession.builder \\\n",
    "                    .master(\"local\") \\\n",
    "                    .appName(\"California - Linear Regression\") \\\n",
    "                    .getOrCreate()"
   ]
  },
  {
   "cell_type": "code",
   "execution_count": 4,
   "id": "60655e69",
   "metadata": {},
   "outputs": [
    {
     "name": "stderr",
     "output_type": "stream",
     "text": [
      "                                                                                \r"
     ]
    }
   ],
   "source": [
    "df = spark.read.option('header', 'true').csv('/datasets/housing.csv', inferSchema = True) # Загружаем данные."
   ]
  },
  {
   "cell_type": "code",
   "execution_count": 5,
   "id": "1ab08f09",
   "metadata": {},
   "outputs": [
    {
     "name": "stdout",
     "output_type": "stream",
     "text": [
      "root\n",
      " |-- longitude: double (nullable = true)\n",
      " |-- latitude: double (nullable = true)\n",
      " |-- housing_median_age: double (nullable = true)\n",
      " |-- total_rooms: double (nullable = true)\n",
      " |-- total_bedrooms: double (nullable = true)\n",
      " |-- population: double (nullable = true)\n",
      " |-- households: double (nullable = true)\n",
      " |-- median_income: double (nullable = true)\n",
      " |-- median_house_value: double (nullable = true)\n",
      " |-- ocean_proximity: string (nullable = true)\n",
      "\n"
     ]
    }
   ],
   "source": [
    "df.printSchema() # Выводим типы данных."
   ]
  },
  {
   "cell_type": "markdown",
   "id": "bd9f3ff0",
   "metadata": {},
   "source": [
    "### Обработка пропусков"
   ]
  },
  {
   "cell_type": "code",
   "execution_count": 6,
   "id": "fb82f4be",
   "metadata": {
    "scrolled": true
   },
   "outputs": [
    {
     "name": "stdout",
     "output_type": "stream",
     "text": [
      "longitude 0\n",
      "latitude 0\n",
      "housing_median_age 0\n",
      "total_rooms 0\n",
      "total_bedrooms 207\n",
      "population 0\n",
      "households 0\n",
      "median_income 0\n",
      "median_house_value 0\n",
      "ocean_proximity 0\n"
     ]
    }
   ],
   "source": [
    "columns = df.columns # Считаем пропуски.\n",
    "\n",
    "for column in columns:\n",
    "    print(column, df.filter(F.col(column).isNull()).count())"
   ]
  },
  {
   "cell_type": "code",
   "execution_count": 7,
   "id": "41cd33f1",
   "metadata": {},
   "outputs": [
    {
     "name": "stderr",
     "output_type": "stream",
     "text": [
      "                                                                                \r"
     ]
    },
    {
     "data": {
      "text/plain": [
       "[Row(ocean_proximity='ISLAND'),\n",
       " Row(ocean_proximity='NEAR OCEAN'),\n",
       " Row(ocean_proximity='NEAR BAY'),\n",
       " Row(ocean_proximity='<1H OCEAN'),\n",
       " Row(ocean_proximity='INLAND')]"
      ]
     },
     "execution_count": 7,
     "metadata": {},
     "output_type": "execute_result"
    }
   ],
   "source": [
    "df.select('ocean_proximity').distinct().collect()"
   ]
  },
  {
   "cell_type": "code",
   "execution_count": 8,
   "id": "0bef277a",
   "metadata": {},
   "outputs": [],
   "source": [
    "df = df.na.fill(0) # Заполняем пропуски 0. "
   ]
  },
  {
   "cell_type": "code",
   "execution_count": 9,
   "id": "df474f46",
   "metadata": {},
   "outputs": [
    {
     "name": "stdout",
     "output_type": "stream",
     "text": [
      "0\n"
     ]
    }
   ],
   "source": [
    "print(df.filter(F.col('total_bedrooms').isNull()).count()) # Проверяем заполнение. "
   ]
  },
  {
   "cell_type": "markdown",
   "id": "1e3198e1",
   "metadata": {},
   "source": [
    "### Трансформация категорийных признаков"
   ]
  },
  {
   "cell_type": "code",
   "execution_count": 10,
   "id": "349ea4e4",
   "metadata": {},
   "outputs": [],
   "source": [
    "# Списки с переменными.\n",
    "\n",
    "categorical_cols = ['ocean_proximity']\n",
    "numerical_cols  = [\n",
    "    'longitude',\n",
    "    'latitude',\n",
    "    'housing_median_age',\n",
    "    'total_rooms', \n",
    "    'total_bedrooms',\n",
    "    'population',\n",
    "    'households',\n",
    "    'median_income'\n",
    "]\n",
    "target = 'median_house_value'"
   ]
  },
  {
   "cell_type": "code",
   "execution_count": 11,
   "id": "07dd9a74",
   "metadata": {},
   "outputs": [
    {
     "name": "stdout",
     "output_type": "stream",
     "text": [
      "16431 4209\n"
     ]
    }
   ],
   "source": [
    "train_data, test_data = df.randomSplit([.8,.2], seed=RANDOM_SEED)\n",
    "print(train_data.count(), test_data.count())"
   ]
  },
  {
   "cell_type": "code",
   "execution_count": 12,
   "id": "5d5a252e",
   "metadata": {},
   "outputs": [
    {
     "name": "stderr",
     "output_type": "stream",
     "text": [
      "                                                                                \r"
     ]
    }
   ],
   "source": [
    "# Трансформируем категориальные переменные в числовые значения. \n",
    "indexer = StringIndexer(inputCols=categorical_cols, \n",
    "                        outputCols=[c+'_idx' for c in categorical_cols]) \n",
    "fit_indexer = indexer.fit(train_data)\n",
    "train_data = fit_indexer.transform(train_data)\n",
    "test_data = fit_indexer.transform(test_data)"
   ]
  },
  {
   "cell_type": "code",
   "execution_count": 13,
   "id": "03985bbe",
   "metadata": {},
   "outputs": [],
   "source": [
    "# Проводим OHE-кодирование. \n",
    "encoder = OneHotEncoder(inputCols=[c+'_idx' for c in categorical_cols],\n",
    "                        outputCols=[c+'_ohe' for c in categorical_cols])\n",
    "\n",
    "fit_encoder = encoder.fit(train_data)\n",
    "\n",
    "train_data = fit_encoder.transform(train_data)\n",
    "test_data = fit_encoder.transform(test_data)"
   ]
  },
  {
   "cell_type": "markdown",
   "id": "a13eccd7",
   "metadata": {},
   "source": [
    "### Трансформация количественных признаков"
   ]
  },
  {
   "cell_type": "code",
   "execution_count": 14,
   "id": "2bfbdee0",
   "metadata": {},
   "outputs": [],
   "source": [
    "# Объединяем количественные переменные.\n",
    "numerical_assembler = VectorAssembler(inputCols=numerical_cols, outputCol=\"numerical_features\")\n",
    "\n",
    "train_data = numerical_assembler.transform(train_data) \n",
    "test_data = numerical_assembler.transform(test_data) "
   ]
  },
  {
   "cell_type": "code",
   "execution_count": 15,
   "id": "025dba96",
   "metadata": {},
   "outputs": [
    {
     "name": "stderr",
     "output_type": "stream",
     "text": [
      "                                                                                \r"
     ]
    }
   ],
   "source": [
    "standardScaler = StandardScaler(inputCol='numerical_features', outputCol=\"numerical_features_scaled\")\n",
    "\n",
    "fit_standard = standardScaler.fit(train_data)\n",
    "\n",
    "train_data = fit_standard.transform(train_data)\n",
    "test_data = fit_standard.transform(test_data)"
   ]
  },
  {
   "cell_type": "markdown",
   "id": "704684dd",
   "metadata": {},
   "source": [
    "### Обединение признаков в вектор"
   ]
  },
  {
   "cell_type": "code",
   "execution_count": 16,
   "id": "fde0bd6a",
   "metadata": {},
   "outputs": [],
   "source": [
    "# Объединяем категориальные переменные.\n",
    "categorical_assembler = VectorAssembler(inputCols=[c+'_ohe' for c in categorical_cols], outputCol=\"categorical_features\")\n",
    "train_data = categorical_assembler.transform(train_data) "
   ]
  },
  {
   "cell_type": "code",
   "execution_count": 17,
   "id": "e39f8c71",
   "metadata": {},
   "outputs": [],
   "source": [
    "# Объединяем категориальные переменные.\n",
    "test_data = categorical_assembler.transform(test_data) "
   ]
  },
  {
   "cell_type": "code",
   "execution_count": 18,
   "id": "ca89976d",
   "metadata": {},
   "outputs": [
    {
     "name": "stdout",
     "output_type": "stream",
     "text": [
      "+--------------------+-------------------------+\n",
      "|categorical_features|numerical_features_scaled|\n",
      "+--------------------+-------------------------+\n",
      "|       (4,[2],[1.0])|     [-62.004132451563...|\n",
      "|       (4,[2],[1.0])|     [-61.979201155845...|\n",
      "|       (4,[2],[1.0])|     [-61.979201155845...|\n",
      "+--------------------+-------------------------+\n",
      "only showing top 3 rows\n",
      "\n",
      "+--------------------+-------------------------+\n",
      "|categorical_features|numerical_features_scaled|\n",
      "+--------------------+-------------------------+\n",
      "|       (4,[2],[1.0])|     [-61.944297341839...|\n",
      "|       (4,[2],[1.0])|     [-61.914379786977...|\n",
      "|       (4,[2],[1.0])|     [-61.914379786977...|\n",
      "+--------------------+-------------------------+\n",
      "only showing top 3 rows\n",
      "\n"
     ]
    }
   ],
   "source": [
    "# Объединяем все переменные.\n",
    "all_features = ['categorical_features','numerical_features_scaled']\n",
    "\n",
    "final_assembler = VectorAssembler(inputCols=all_features, \n",
    "                                  outputCol=\"features\") \n",
    "train_data = final_assembler.transform(train_data)\n",
    "test_data = final_assembler.transform(test_data)\n",
    "\n",
    "train_data.select(all_features).show(3)\n",
    "test_data.select(all_features).show(3)"
   ]
  },
  {
   "cell_type": "markdown",
   "id": "9f0a82f3",
   "metadata": {
    "id": "9f0a82f3"
   },
   "source": [
    "## Обучение моделей"
   ]
  },
  {
   "cell_type": "markdown",
   "id": "598dc89e",
   "metadata": {},
   "source": [
    "### Обучение модели на полной выборке"
   ]
  },
  {
   "cell_type": "code",
   "execution_count": 19,
   "id": "57b668c7",
   "metadata": {},
   "outputs": [
    {
     "name": "stderr",
     "output_type": "stream",
     "text": [
      "22/09/19 08:55:14 WARN BLAS: Failed to load implementation from: com.github.fommil.netlib.NativeSystemBLAS\n",
      "22/09/19 08:55:14 WARN BLAS: Failed to load implementation from: com.github.fommil.netlib.NativeRefBLAS\n",
      "22/09/19 08:55:14 WARN LAPACK: Failed to load implementation from: com.github.fommil.netlib.NativeSystemLAPACK\n",
      "22/09/19 08:55:14 WARN LAPACK: Failed to load implementation from: com.github.fommil.netlib.NativeRefLAPACK\n"
     ]
    }
   ],
   "source": [
    "lr = LinearRegression(labelCol=target, featuresCol='features', regParam=0.3)\n",
    "\n",
    "model_all = lr.fit(train_data)"
   ]
  },
  {
   "cell_type": "markdown",
   "id": "25b22cfb",
   "metadata": {},
   "source": [
    "### Обучение модели на числовых пременных"
   ]
  },
  {
   "cell_type": "code",
   "execution_count": 20,
   "id": "4906a846",
   "metadata": {},
   "outputs": [],
   "source": [
    "lr = LinearRegression(labelCol=target, featuresCol='numerical_features_scaled', regParam=0.3)\n",
    "\n",
    "model_number = lr.fit(train_data)"
   ]
  },
  {
   "cell_type": "markdown",
   "id": "757fd103",
   "metadata": {
    "id": "757fd103"
   },
   "source": [
    "## Анализ результатов"
   ]
  },
  {
   "cell_type": "code",
   "execution_count": 21,
   "id": "4824bfa0",
   "metadata": {},
   "outputs": [],
   "source": [
    "predictions_all = model_all.transform(test_data) # Делаем предсказание на модели по всем параметрам."
   ]
  },
  {
   "cell_type": "code",
   "execution_count": 22,
   "id": "b3d09431",
   "metadata": {},
   "outputs": [],
   "source": [
    "#  Считаем метрики для модели по всем параметрам.\n",
    "rmse_all = RegressionEvaluator(labelCol='median_house_value', metricName='rmse').evaluate(predictions_all)\n",
    "r2_all = RegressionEvaluator(labelCol='median_house_value', metricName='r2').evaluate(predictions_all)\n",
    "mae_all = RegressionEvaluator(labelCol='median_house_value', metricName='mae').evaluate(predictions_all)"
   ]
  },
  {
   "cell_type": "code",
   "execution_count": 23,
   "id": "32027dde",
   "metadata": {},
   "outputs": [],
   "source": [
    "predictions_number = model_number.transform(test_data) # Делаем предсказание на модели на количественных параметрах."
   ]
  },
  {
   "cell_type": "code",
   "execution_count": 24,
   "id": "7f4a3691",
   "metadata": {},
   "outputs": [],
   "source": [
    "# Делаем предсказание на модели на количественных параметрах.\n",
    "rmse_number = RegressionEvaluator(labelCol='median_house_value', metricName='rmse').evaluate(predictions_number)\n",
    "r2_number = RegressionEvaluator(labelCol='median_house_value', metricName='r2').evaluate(predictions_number)\n",
    "mae_number = RegressionEvaluator(labelCol='median_house_value', metricName='mae').evaluate(predictions_number)"
   ]
  },
  {
   "cell_type": "code",
   "execution_count": 25,
   "id": "b3982bf9",
   "metadata": {},
   "outputs": [
    {
     "data": {
      "text/html": [
       "<div>\n",
       "<style scoped>\n",
       "    .dataframe tbody tr th:only-of-type {\n",
       "        vertical-align: middle;\n",
       "    }\n",
       "\n",
       "    .dataframe tbody tr th {\n",
       "        vertical-align: top;\n",
       "    }\n",
       "\n",
       "    .dataframe thead th {\n",
       "        text-align: right;\n",
       "    }\n",
       "</style>\n",
       "<table border=\"1\" class=\"dataframe\">\n",
       "  <thead>\n",
       "    <tr style=\"text-align: right;\">\n",
       "      <th></th>\n",
       "      <th>model</th>\n",
       "      <th>RMSE</th>\n",
       "      <th>R2</th>\n",
       "      <th>MAE</th>\n",
       "    </tr>\n",
       "  </thead>\n",
       "  <tbody>\n",
       "    <tr>\n",
       "      <th>0</th>\n",
       "      <td>ALL</td>\n",
       "      <td>67738.163611</td>\n",
       "      <td>0.658559</td>\n",
       "      <td>49173.354949</td>\n",
       "    </tr>\n",
       "    <tr>\n",
       "      <th>1</th>\n",
       "      <td>Number</td>\n",
       "      <td>68866.435291</td>\n",
       "      <td>0.647090</td>\n",
       "      <td>50418.942807</td>\n",
       "    </tr>\n",
       "  </tbody>\n",
       "</table>\n",
       "</div>"
      ],
      "text/plain": [
       "    model          RMSE        R2           MAE\n",
       "0     ALL  67738.163611  0.658559  49173.354949\n",
       "1  Number  68866.435291  0.647090  50418.942807"
      ]
     },
     "execution_count": 25,
     "metadata": {},
     "output_type": "execute_result"
    }
   ],
   "source": [
    "columns = ['model', 'RMSE','R2','MAE']\n",
    "\n",
    "data = [\n",
    "    ['ALL',  rmse_all, r2_all, mae_all],\n",
    "    ['Number', rmse_number, r2_number, mae_number]]\n",
    "\n",
    "pd.DataFrame(data=data, columns=columns)"
   ]
  },
  {
   "cell_type": "markdown",
   "id": "6a90c48e",
   "metadata": {},
   "source": [
    "### Выводы"
   ]
  },
  {
   "cell_type": "markdown",
   "id": "f43efc38",
   "metadata": {},
   "source": [
    "- Показатели обучения модели только на числовых данных оказались хуже, хоть и не значительно.\n",
    "- Параметр удалённости от океана влияет на стоимость жилья и игнорировать этот параметр нельзя.\n",
    "- Частично он компенсируется наличием широты и долготы, но впрямую использовать эти параметры то же не очень практично."
   ]
  }
 ],
 "metadata": {
  "ExecuteTimeLog": [
   {
    "duration": 793,
    "start_time": "2022-09-18T11:14:52.976Z"
   },
   {
    "duration": 3,
    "start_time": "2022-09-18T11:15:23.096Z"
   },
   {
    "duration": 18694,
    "start_time": "2022-09-18T11:16:26.005Z"
   },
   {
    "duration": 10202,
    "start_time": "2022-09-18T11:18:24.375Z"
   },
   {
    "duration": 18,
    "start_time": "2022-09-18T11:20:00.166Z"
   },
   {
    "duration": 96,
    "start_time": "2022-09-18T11:33:37.202Z"
   },
   {
    "duration": 1694,
    "start_time": "2022-09-18T11:33:43.545Z"
   },
   {
    "duration": 1472,
    "start_time": "2022-09-18T11:36:37.099Z"
   },
   {
    "duration": 4679,
    "start_time": "2022-09-18T11:38:12.997Z"
   },
   {
    "duration": 5520,
    "start_time": "2022-09-18T11:40:47.266Z"
   },
   {
    "duration": 62,
    "start_time": "2022-09-18T11:43:38.871Z"
   },
   {
    "duration": 111,
    "start_time": "2022-09-18T11:44:13.174Z"
   },
   {
    "duration": 9,
    "start_time": "2022-09-18T11:54:43.503Z"
   },
   {
    "duration": 3,
    "start_time": "2022-09-18T11:54:51.811Z"
   },
   {
    "duration": 222,
    "start_time": "2022-09-18T11:54:52.476Z"
   },
   {
    "duration": 20,
    "start_time": "2022-09-18T11:55:35.599Z"
   },
   {
    "duration": 20,
    "start_time": "2022-09-18T11:57:18.562Z"
   },
   {
    "duration": 18,
    "start_time": "2022-09-18T12:00:16.873Z"
   },
   {
    "duration": 34,
    "start_time": "2022-09-18T12:03:11.575Z"
   },
   {
    "duration": 24,
    "start_time": "2022-09-18T12:03:40.758Z"
   },
   {
    "duration": 24,
    "start_time": "2022-09-18T12:04:40.412Z"
   },
   {
    "duration": 2119,
    "start_time": "2022-09-18T12:08:17.198Z"
   },
   {
    "duration": 483,
    "start_time": "2022-09-18T12:08:35.172Z"
   },
   {
    "duration": 418,
    "start_time": "2022-09-18T12:08:46.675Z"
   },
   {
    "duration": 120,
    "start_time": "2022-09-18T12:09:04.074Z"
   },
   {
    "duration": 317,
    "start_time": "2022-09-18T12:09:22.578Z"
   },
   {
    "duration": 8,
    "start_time": "2022-09-18T12:09:33.010Z"
   },
   {
    "duration": 9,
    "start_time": "2022-09-18T12:09:43.102Z"
   },
   {
    "duration": 310,
    "start_time": "2022-09-18T12:10:27.615Z"
   },
   {
    "duration": 795,
    "start_time": "2022-09-18T12:10:41.565Z"
   },
   {
    "duration": 12,
    "start_time": "2022-09-18T12:10:42.368Z"
   },
   {
    "duration": 17856,
    "start_time": "2022-09-18T12:10:42.381Z"
   },
   {
    "duration": 10542,
    "start_time": "2022-09-18T12:11:00.248Z"
   },
   {
    "duration": 51,
    "start_time": "2022-09-18T12:11:10.792Z"
   },
   {
    "duration": 1901,
    "start_time": "2022-09-18T12:11:10.847Z"
   },
   {
    "duration": 6990,
    "start_time": "2022-09-18T12:11:12.755Z"
   },
   {
    "duration": 5346,
    "start_time": "2022-09-18T12:11:19.747Z"
   },
   {
    "duration": 114,
    "start_time": "2022-09-18T12:11:25.127Z"
   },
   {
    "duration": 246,
    "start_time": "2022-09-18T12:11:25.243Z"
   },
   {
    "duration": 630,
    "start_time": "2022-09-18T12:11:25.491Z"
   },
   {
    "duration": 307,
    "start_time": "2022-09-18T12:11:26.128Z"
   },
   {
    "duration": 11,
    "start_time": "2022-09-18T12:11:26.437Z"
   },
   {
    "duration": 727,
    "start_time": "2022-09-18T12:11:56.054Z"
   },
   {
    "duration": 4,
    "start_time": "2022-09-18T12:11:56.787Z"
   },
   {
    "duration": 17846,
    "start_time": "2022-09-18T12:11:56.793Z"
   },
   {
    "duration": 10504,
    "start_time": "2022-09-18T12:12:14.641Z"
   },
   {
    "duration": 42,
    "start_time": "2022-09-18T12:12:25.149Z"
   },
   {
    "duration": 1877,
    "start_time": "2022-09-18T12:12:25.194Z"
   },
   {
    "duration": 7507,
    "start_time": "2022-09-18T12:12:27.082Z"
   },
   {
    "duration": 5432,
    "start_time": "2022-09-18T12:12:34.591Z"
   },
   {
    "duration": 301,
    "start_time": "2022-09-18T12:12:40.025Z"
   },
   {
    "duration": 341,
    "start_time": "2022-09-18T12:12:40.328Z"
   },
   {
    "duration": 1222,
    "start_time": "2022-09-18T12:12:40.671Z"
   },
   {
    "duration": 1044,
    "start_time": "2022-09-18T12:12:41.899Z"
   },
   {
    "duration": 7,
    "start_time": "2022-09-18T12:12:42.948Z"
   },
   {
    "duration": 345,
    "start_time": "2022-09-18T12:13:17.602Z"
   },
   {
    "duration": 217,
    "start_time": "2022-09-18T12:13:30.681Z"
   },
   {
    "duration": 2022,
    "start_time": "2022-09-18T12:13:45.902Z"
   },
   {
    "duration": 424,
    "start_time": "2022-09-18T12:13:58.801Z"
   },
   {
    "duration": 7,
    "start_time": "2022-09-18T12:14:21.498Z"
   },
   {
    "duration": 120,
    "start_time": "2022-09-18T12:16:45.798Z"
   },
   {
    "duration": 76,
    "start_time": "2022-09-18T12:17:48.001Z"
   },
   {
    "duration": 149,
    "start_time": "2022-09-18T12:18:35.560Z"
   },
   {
    "duration": 858,
    "start_time": "2022-09-18T12:19:05.610Z"
   },
   {
    "duration": 4870,
    "start_time": "2022-09-18T12:22:32.849Z"
   },
   {
    "duration": 7020,
    "start_time": "2022-09-18T12:23:46.071Z"
   },
   {
    "duration": 3428,
    "start_time": "2022-09-18T12:24:08.979Z"
   },
   {
    "duration": 3481,
    "start_time": "2022-09-18T12:26:21.362Z"
   },
   {
    "duration": 728,
    "start_time": "2022-09-18T12:27:32.566Z"
   },
   {
    "duration": 4,
    "start_time": "2022-09-18T12:27:33.296Z"
   },
   {
    "duration": 18226,
    "start_time": "2022-09-18T12:27:33.302Z"
   },
   {
    "duration": 11707,
    "start_time": "2022-09-18T12:27:51.530Z"
   },
   {
    "duration": 87,
    "start_time": "2022-09-18T12:28:03.239Z"
   },
   {
    "duration": 1602,
    "start_time": "2022-09-18T12:28:03.327Z"
   },
   {
    "duration": 6644,
    "start_time": "2022-09-18T12:28:04.943Z"
   },
   {
    "duration": 5468,
    "start_time": "2022-09-18T12:28:11.623Z"
   },
   {
    "duration": 231,
    "start_time": "2022-09-18T12:28:17.093Z"
   },
   {
    "duration": 261,
    "start_time": "2022-09-18T12:28:17.327Z"
   },
   {
    "duration": 41,
    "start_time": "2022-09-18T12:28:17.590Z"
   },
   {
    "duration": 2043,
    "start_time": "2022-09-18T12:28:17.632Z"
   },
   {
    "duration": 426,
    "start_time": "2022-09-18T12:28:19.676Z"
   },
   {
    "duration": 117,
    "start_time": "2022-09-18T12:28:20.105Z"
   },
   {
    "duration": 143,
    "start_time": "2022-09-18T12:28:20.224Z"
   },
   {
    "duration": 879,
    "start_time": "2022-09-18T12:28:20.370Z"
   },
   {
    "duration": 3890,
    "start_time": "2022-09-18T12:28:21.251Z"
   },
   {
    "duration": 4783,
    "start_time": "2022-09-18T12:28:25.142Z"
   },
   {
    "duration": 3575,
    "start_time": "2022-09-18T12:28:29.927Z"
   },
   {
    "duration": 808,
    "start_time": "2022-09-18T12:28:47.793Z"
   },
   {
    "duration": 3,
    "start_time": "2022-09-18T12:28:48.603Z"
   },
   {
    "duration": 17742,
    "start_time": "2022-09-18T12:28:48.607Z"
   },
   {
    "duration": 10870,
    "start_time": "2022-09-18T12:29:06.360Z"
   },
   {
    "duration": 56,
    "start_time": "2022-09-18T12:29:17.231Z"
   },
   {
    "duration": 2004,
    "start_time": "2022-09-18T12:29:17.288Z"
   },
   {
    "duration": 6908,
    "start_time": "2022-09-18T12:29:19.294Z"
   },
   {
    "duration": 5360,
    "start_time": "2022-09-18T12:29:26.204Z"
   },
   {
    "duration": 373,
    "start_time": "2022-09-18T12:29:31.574Z"
   },
   {
    "duration": 227,
    "start_time": "2022-09-18T12:29:31.950Z"
   },
   {
    "duration": 7,
    "start_time": "2022-09-18T12:29:32.180Z"
   },
   {
    "duration": 2049,
    "start_time": "2022-09-18T12:29:32.188Z"
   },
   {
    "duration": 305,
    "start_time": "2022-09-18T12:29:34.242Z"
   },
   {
    "duration": 125,
    "start_time": "2022-09-18T12:29:34.563Z"
   },
   {
    "duration": 169,
    "start_time": "2022-09-18T12:29:34.689Z"
   },
   {
    "duration": 946,
    "start_time": "2022-09-18T12:29:34.860Z"
   },
   {
    "duration": 4050,
    "start_time": "2022-09-18T12:29:35.827Z"
   },
   {
    "duration": 8373,
    "start_time": "2022-09-18T12:29:39.879Z"
   },
   {
    "duration": 3874,
    "start_time": "2022-09-18T12:29:48.265Z"
   },
   {
    "duration": 832,
    "start_time": "2022-09-18T12:30:41.174Z"
   },
   {
    "duration": 3,
    "start_time": "2022-09-18T12:30:42.009Z"
   },
   {
    "duration": 17983,
    "start_time": "2022-09-18T12:30:42.014Z"
   },
   {
    "duration": 11154,
    "start_time": "2022-09-18T12:30:59.999Z"
   },
   {
    "duration": 74,
    "start_time": "2022-09-18T12:31:11.155Z"
   },
   {
    "duration": 1624,
    "start_time": "2022-09-18T12:31:11.231Z"
   },
   {
    "duration": 6399,
    "start_time": "2022-09-18T12:31:12.865Z"
   },
   {
    "duration": 5754,
    "start_time": "2022-09-18T12:31:19.271Z"
   },
   {
    "duration": 264,
    "start_time": "2022-09-18T12:31:25.027Z"
   },
   {
    "duration": 291,
    "start_time": "2022-09-18T12:31:25.293Z"
   },
   {
    "duration": 39,
    "start_time": "2022-09-18T12:31:25.588Z"
   },
   {
    "duration": 1867,
    "start_time": "2022-09-18T12:31:25.629Z"
   },
   {
    "duration": 343,
    "start_time": "2022-09-18T12:31:27.525Z"
   },
   {
    "duration": 117,
    "start_time": "2022-09-18T12:31:27.871Z"
   },
   {
    "duration": 175,
    "start_time": "2022-09-18T12:31:27.990Z"
   },
   {
    "duration": 947,
    "start_time": "2022-09-18T12:31:28.167Z"
   },
   {
    "duration": 4331,
    "start_time": "2022-09-18T12:31:29.115Z"
   },
   {
    "duration": 5594,
    "start_time": "2022-09-18T12:31:33.447Z"
   },
   {
    "duration": 3637,
    "start_time": "2022-09-18T12:31:39.048Z"
   },
   {
    "duration": 5,
    "start_time": "2022-09-18T12:33:53.894Z"
   },
   {
    "duration": 6,
    "start_time": "2022-09-18T12:34:29.501Z"
   },
   {
    "duration": 4,
    "start_time": "2022-09-18T12:35:14.903Z"
   },
   {
    "duration": 8,
    "start_time": "2022-09-18T12:41:09.551Z"
   },
   {
    "duration": 4,
    "start_time": "2022-09-18T12:41:46.771Z"
   },
   {
    "duration": 5,
    "start_time": "2022-09-18T12:41:59.195Z"
   },
   {
    "duration": 4,
    "start_time": "2022-09-18T12:42:08.210Z"
   },
   {
    "duration": 6,
    "start_time": "2022-09-18T12:42:17.366Z"
   },
   {
    "duration": 110,
    "start_time": "2022-09-18T12:46:54.701Z"
   },
   {
    "duration": 144,
    "start_time": "2022-09-18T12:47:07.301Z"
   },
   {
    "duration": 6,
    "start_time": "2022-09-18T12:47:21.216Z"
   },
   {
    "duration": 124,
    "start_time": "2022-09-18T12:47:31.839Z"
   },
   {
    "duration": 9,
    "start_time": "2022-09-18T12:47:58.102Z"
   },
   {
    "duration": 5,
    "start_time": "2022-09-18T12:48:52.108Z"
   },
   {
    "duration": 4,
    "start_time": "2022-09-18T12:49:56.375Z"
   },
   {
    "duration": 6,
    "start_time": "2022-09-18T12:50:04.005Z"
   },
   {
    "duration": 723,
    "start_time": "2022-09-18T12:50:33.879Z"
   },
   {
    "duration": 3,
    "start_time": "2022-09-18T12:50:34.603Z"
   },
   {
    "duration": 17581,
    "start_time": "2022-09-18T12:50:34.608Z"
   },
   {
    "duration": 11832,
    "start_time": "2022-09-18T12:50:52.191Z"
   },
   {
    "duration": 94,
    "start_time": "2022-09-18T12:51:04.028Z"
   },
   {
    "duration": 1864,
    "start_time": "2022-09-18T12:51:04.125Z"
   },
   {
    "duration": 6490,
    "start_time": "2022-09-18T12:51:05.993Z"
   },
   {
    "duration": 5756,
    "start_time": "2022-09-18T12:51:12.485Z"
   },
   {
    "duration": 302,
    "start_time": "2022-09-18T12:51:18.247Z"
   },
   {
    "duration": 310,
    "start_time": "2022-09-18T12:51:18.551Z"
   },
   {
    "duration": 24,
    "start_time": "2022-09-18T12:51:18.871Z"
   },
   {
    "duration": 1987,
    "start_time": "2022-09-18T12:51:18.897Z"
   },
   {
    "duration": 354,
    "start_time": "2022-09-18T12:51:20.888Z"
   },
   {
    "duration": 94,
    "start_time": "2022-09-18T12:51:21.254Z"
   },
   {
    "duration": 111,
    "start_time": "2022-09-18T12:51:21.349Z"
   },
   {
    "duration": 960,
    "start_time": "2022-09-18T12:51:21.461Z"
   },
   {
    "duration": 4097,
    "start_time": "2022-09-18T12:51:22.423Z"
   },
   {
    "duration": 5567,
    "start_time": "2022-09-18T12:51:26.522Z"
   },
   {
    "duration": 3907,
    "start_time": "2022-09-18T12:51:32.092Z"
   },
   {
    "duration": 8,
    "start_time": "2022-09-18T12:51:36.002Z"
   },
   {
    "duration": 68,
    "start_time": "2022-09-18T12:51:36.013Z"
   },
   {
    "duration": 129,
    "start_time": "2022-09-18T12:51:36.083Z"
   },
   {
    "duration": 100,
    "start_time": "2022-09-18T12:51:36.214Z"
   },
   {
    "duration": 22,
    "start_time": "2022-09-18T12:54:22.974Z"
   },
   {
    "duration": 117,
    "start_time": "2022-09-18T12:54:55.977Z"
   },
   {
    "duration": 366,
    "start_time": "2022-09-18T12:55:06.001Z"
   },
   {
    "duration": 22,
    "start_time": "2022-09-18T13:08:10.314Z"
   },
   {
    "duration": 179,
    "start_time": "2022-09-18T13:10:36.166Z"
   },
   {
    "duration": 143,
    "start_time": "2022-09-18T13:10:54.162Z"
   },
   {
    "duration": 1482,
    "start_time": "2022-09-18T13:11:54.562Z"
   },
   {
    "duration": 4,
    "start_time": "2022-09-18T13:12:05.587Z"
   },
   {
    "duration": 1764,
    "start_time": "2022-09-18T13:12:57.561Z"
   },
   {
    "duration": 2193,
    "start_time": "2022-09-18T13:13:25.675Z"
   },
   {
    "duration": 6,
    "start_time": "2022-09-18T13:13:54.177Z"
   },
   {
    "duration": 5,
    "start_time": "2022-09-18T13:14:00.889Z"
   },
   {
    "duration": 5,
    "start_time": "2022-09-18T13:14:11.559Z"
   },
   {
    "duration": 28,
    "start_time": "2022-09-18T13:15:56.367Z"
   },
   {
    "duration": 2774,
    "start_time": "2022-09-18T13:16:32.572Z"
   },
   {
    "duration": 5,
    "start_time": "2022-09-18T13:17:11.296Z"
   },
   {
    "duration": 826,
    "start_time": "2022-09-18T13:17:41.399Z"
   },
   {
    "duration": 5,
    "start_time": "2022-09-18T13:17:42.242Z"
   },
   {
    "duration": 17629,
    "start_time": "2022-09-18T13:17:42.249Z"
   },
   {
    "duration": 11756,
    "start_time": "2022-09-18T13:17:59.880Z"
   },
   {
    "duration": 48,
    "start_time": "2022-09-18T13:18:11.638Z"
   },
   {
    "duration": 1708,
    "start_time": "2022-09-18T13:18:11.688Z"
   },
   {
    "duration": 6330,
    "start_time": "2022-09-18T13:18:13.424Z"
   },
   {
    "duration": 5709,
    "start_time": "2022-09-18T13:18:19.756Z"
   },
   {
    "duration": 263,
    "start_time": "2022-09-18T13:18:25.473Z"
   },
   {
    "duration": 307,
    "start_time": "2022-09-18T13:18:25.738Z"
   },
   {
    "duration": 8,
    "start_time": "2022-09-18T13:18:26.047Z"
   },
   {
    "duration": 2020,
    "start_time": "2022-09-18T13:18:26.057Z"
   },
   {
    "duration": 597,
    "start_time": "2022-09-18T13:18:28.079Z"
   },
   {
    "duration": 138,
    "start_time": "2022-09-18T13:18:28.686Z"
   },
   {
    "duration": 171,
    "start_time": "2022-09-18T13:18:28.826Z"
   },
   {
    "duration": 1200,
    "start_time": "2022-09-18T13:18:28.999Z"
   },
   {
    "duration": 4421,
    "start_time": "2022-09-18T13:18:30.231Z"
   },
   {
    "duration": 5316,
    "start_time": "2022-09-18T13:18:34.655Z"
   },
   {
    "duration": 3788,
    "start_time": "2022-09-18T13:18:39.974Z"
   },
   {
    "duration": 79,
    "start_time": "2022-09-18T13:18:43.766Z"
   },
   {
    "duration": 3260,
    "start_time": "2022-09-18T13:18:43.847Z"
   },
   {
    "duration": 12,
    "start_time": "2022-09-18T13:18:47.110Z"
   },
   {
    "duration": 104,
    "start_time": "2022-09-18T13:18:47.123Z"
   },
   {
    "duration": 2800,
    "start_time": "2022-09-18T13:18:47.229Z"
   },
   {
    "duration": 6,
    "start_time": "2022-09-18T13:18:50.030Z"
   },
   {
    "duration": 689,
    "start_time": "2022-09-19T06:29:54.873Z"
   },
   {
    "duration": 2,
    "start_time": "2022-09-19T06:29:55.564Z"
   },
   {
    "duration": 17377,
    "start_time": "2022-09-19T06:29:55.567Z"
   },
   {
    "duration": 9467,
    "start_time": "2022-09-19T06:30:12.946Z"
   },
   {
    "duration": 37,
    "start_time": "2022-09-19T06:30:22.417Z"
   },
   {
    "duration": 1492,
    "start_time": "2022-09-19T06:30:22.456Z"
   },
   {
    "duration": 5498,
    "start_time": "2022-09-19T06:30:23.950Z"
   },
   {
    "duration": 4598,
    "start_time": "2022-09-19T06:30:29.450Z"
   },
   {
    "duration": 268,
    "start_time": "2022-09-19T06:30:34.051Z"
   },
   {
    "duration": 235,
    "start_time": "2022-09-19T06:30:34.322Z"
   },
   {
    "duration": 4,
    "start_time": "2022-09-19T06:30:34.559Z"
   },
   {
    "duration": 1915,
    "start_time": "2022-09-19T06:30:34.565Z"
   },
   {
    "duration": 272,
    "start_time": "2022-09-19T06:30:36.482Z"
   },
   {
    "duration": 85,
    "start_time": "2022-09-19T06:30:36.756Z"
   },
   {
    "duration": 82,
    "start_time": "2022-09-19T06:30:36.844Z"
   },
   {
    "duration": 880,
    "start_time": "2022-09-19T06:30:36.932Z"
   },
   {
    "duration": 3420,
    "start_time": "2022-09-19T06:30:37.814Z"
   },
   {
    "duration": 4296,
    "start_time": "2022-09-19T06:30:41.239Z"
   },
   {
    "duration": 3202,
    "start_time": "2022-09-19T06:30:45.537Z"
   },
   {
    "duration": 21,
    "start_time": "2022-09-19T06:30:48.744Z"
   },
   {
    "duration": 2265,
    "start_time": "2022-09-19T06:30:48.766Z"
   },
   {
    "duration": 8,
    "start_time": "2022-09-19T06:30:51.033Z"
   },
   {
    "duration": 43,
    "start_time": "2022-09-19T06:30:51.045Z"
   },
   {
    "duration": 2024,
    "start_time": "2022-09-19T06:30:51.089Z"
   },
   {
    "duration": 13,
    "start_time": "2022-09-19T06:30:53.114Z"
   },
   {
    "duration": 18,
    "start_time": "2022-09-19T07:20:26.407Z"
   },
   {
    "duration": 2372,
    "start_time": "2022-09-19T07:20:33.957Z"
   },
   {
    "duration": 88,
    "start_time": "2022-09-19T07:27:31.860Z"
   },
   {
    "duration": 164,
    "start_time": "2022-09-19T07:31:53.258Z"
   },
   {
    "duration": 8,
    "start_time": "2022-09-19T07:31:58.339Z"
   },
   {
    "duration": 8,
    "start_time": "2022-09-19T07:31:58.349Z"
   },
   {
    "duration": 6,
    "start_time": "2022-09-19T07:31:58.358Z"
   },
   {
    "duration": 462,
    "start_time": "2022-09-19T07:31:58.365Z"
   },
   {
    "duration": 3,
    "start_time": "2022-09-19T07:31:58.829Z"
   },
   {
    "duration": 441,
    "start_time": "2022-09-19T07:31:58.834Z"
   },
   {
    "duration": 1558,
    "start_time": "2022-09-19T07:31:59.277Z"
   },
   {
    "duration": 1684,
    "start_time": "2022-09-19T07:32:00.836Z"
   },
   {
    "duration": 96,
    "start_time": "2022-09-19T07:32:02.522Z"
   },
   {
    "duration": 101,
    "start_time": "2022-09-19T07:32:02.620Z"
   },
   {
    "duration": 2,
    "start_time": "2022-09-19T07:32:02.723Z"
   },
   {
    "duration": 404,
    "start_time": "2022-09-19T07:32:02.727Z"
   },
   {
    "duration": 31,
    "start_time": "2022-09-19T07:32:03.132Z"
   },
   {
    "duration": 16,
    "start_time": "2022-09-19T07:32:03.210Z"
   },
   {
    "duration": 18,
    "start_time": "2022-09-19T07:32:03.228Z"
   },
   {
    "duration": 265,
    "start_time": "2022-09-19T07:32:03.248Z"
   },
   {
    "duration": 661,
    "start_time": "2022-09-19T08:08:10.629Z"
   },
   {
    "duration": 2,
    "start_time": "2022-09-19T08:08:11.292Z"
   },
   {
    "duration": 17889,
    "start_time": "2022-09-19T08:08:11.295Z"
   },
   {
    "duration": 8370,
    "start_time": "2022-09-19T08:08:29.186Z"
   },
   {
    "duration": 68,
    "start_time": "2022-09-19T08:08:37.557Z"
   },
   {
    "duration": 1209,
    "start_time": "2022-09-19T08:08:37.627Z"
   },
   {
    "duration": 84,
    "start_time": "2022-09-19T08:08:38.837Z"
   },
   {
    "duration": 0,
    "start_time": "2022-09-19T08:08:38.923Z"
   },
   {
    "duration": 0,
    "start_time": "2022-09-19T08:08:38.925Z"
   },
   {
    "duration": 0,
    "start_time": "2022-09-19T08:08:38.926Z"
   },
   {
    "duration": 0,
    "start_time": "2022-09-19T08:08:38.927Z"
   },
   {
    "duration": 0,
    "start_time": "2022-09-19T08:08:38.929Z"
   },
   {
    "duration": 0,
    "start_time": "2022-09-19T08:08:38.930Z"
   },
   {
    "duration": 0,
    "start_time": "2022-09-19T08:08:38.931Z"
   },
   {
    "duration": 0,
    "start_time": "2022-09-19T08:08:38.932Z"
   },
   {
    "duration": 0,
    "start_time": "2022-09-19T08:08:38.933Z"
   },
   {
    "duration": 0,
    "start_time": "2022-09-19T08:08:38.934Z"
   },
   {
    "duration": 0,
    "start_time": "2022-09-19T08:08:38.935Z"
   },
   {
    "duration": 0,
    "start_time": "2022-09-19T08:08:38.935Z"
   },
   {
    "duration": 0,
    "start_time": "2022-09-19T08:08:38.936Z"
   },
   {
    "duration": 0,
    "start_time": "2022-09-19T08:08:38.937Z"
   },
   {
    "duration": 0,
    "start_time": "2022-09-19T08:08:38.938Z"
   },
   {
    "duration": 0,
    "start_time": "2022-09-19T08:08:38.939Z"
   },
   {
    "duration": 0,
    "start_time": "2022-09-19T08:08:38.940Z"
   },
   {
    "duration": 0,
    "start_time": "2022-09-19T08:08:38.941Z"
   },
   {
    "duration": 0,
    "start_time": "2022-09-19T08:08:38.942Z"
   },
   {
    "duration": 0,
    "start_time": "2022-09-19T08:08:38.942Z"
   },
   {
    "duration": 0,
    "start_time": "2022-09-19T08:08:38.943Z"
   },
   {
    "duration": 0,
    "start_time": "2022-09-19T08:08:38.944Z"
   },
   {
    "duration": 0,
    "start_time": "2022-09-19T08:08:38.945Z"
   },
   {
    "duration": 0,
    "start_time": "2022-09-19T08:08:38.946Z"
   },
   {
    "duration": 705,
    "start_time": "2022-09-19T08:09:05.619Z"
   },
   {
    "duration": 3999,
    "start_time": "2022-09-19T08:09:06.326Z"
   },
   {
    "duration": 3811,
    "start_time": "2022-09-19T08:09:10.326Z"
   },
   {
    "duration": 201,
    "start_time": "2022-09-19T08:09:14.139Z"
   },
   {
    "duration": 194,
    "start_time": "2022-09-19T08:09:14.342Z"
   },
   {
    "duration": 4,
    "start_time": "2022-09-19T08:09:14.537Z"
   },
   {
    "duration": 1337,
    "start_time": "2022-09-19T08:09:14.542Z"
   },
   {
    "duration": 1570,
    "start_time": "2022-09-19T08:09:15.881Z"
   },
   {
    "duration": 302,
    "start_time": "2022-09-19T08:09:17.455Z"
   },
   {
    "duration": 698,
    "start_time": "2022-09-19T08:09:17.760Z"
   },
   {
    "duration": 32,
    "start_time": "2022-09-19T08:09:18.522Z"
   },
   {
    "duration": 168,
    "start_time": "2022-09-19T08:09:18.557Z"
   },
   {
    "duration": 1521,
    "start_time": "2022-09-19T08:09:18.728Z"
   },
   {
    "duration": 87,
    "start_time": "2022-09-19T08:09:20.250Z"
   },
   {
    "duration": 795,
    "start_time": "2022-09-19T08:09:20.338Z"
   },
   {
    "duration": 92,
    "start_time": "2022-09-19T08:09:21.134Z"
   },
   {
    "duration": 17,
    "start_time": "2022-09-19T08:09:21.228Z"
   },
   {
    "duration": 1512,
    "start_time": "2022-09-19T08:09:21.247Z"
   },
   {
    "duration": 3072,
    "start_time": "2022-09-19T08:09:22.762Z"
   },
   {
    "duration": 1602,
    "start_time": "2022-09-19T08:09:25.836Z"
   },
   {
    "duration": 18,
    "start_time": "2022-09-19T08:09:27.440Z"
   },
   {
    "duration": 1608,
    "start_time": "2022-09-19T08:09:27.460Z"
   },
   {
    "duration": 17,
    "start_time": "2022-09-19T08:09:29.123Z"
   },
   {
    "duration": 1080,
    "start_time": "2022-09-19T08:09:29.142Z"
   },
   {
    "duration": 85,
    "start_time": "2022-09-19T08:09:30.223Z"
   },
   {
    "duration": 167,
    "start_time": "2022-09-19T08:09:41.467Z"
   },
   {
    "duration": 87,
    "start_time": "2022-09-19T08:10:23.256Z"
   },
   {
    "duration": 13,
    "start_time": "2022-09-19T08:11:00.898Z"
   },
   {
    "duration": 13,
    "start_time": "2022-09-19T08:12:22.002Z"
   },
   {
    "duration": 83,
    "start_time": "2022-09-19T08:18:46.271Z"
   },
   {
    "duration": 624,
    "start_time": "2022-09-19T08:19:14.645Z"
   },
   {
    "duration": 3,
    "start_time": "2022-09-19T08:19:15.271Z"
   },
   {
    "duration": 15085,
    "start_time": "2022-09-19T08:19:15.275Z"
   },
   {
    "duration": 8461,
    "start_time": "2022-09-19T08:19:30.363Z"
   },
   {
    "duration": 22,
    "start_time": "2022-09-19T08:19:38.826Z"
   },
   {
    "duration": 5087,
    "start_time": "2022-09-19T08:19:38.850Z"
   },
   {
    "duration": 4217,
    "start_time": "2022-09-19T08:19:43.939Z"
   },
   {
    "duration": 193,
    "start_time": "2022-09-19T08:19:48.158Z"
   },
   {
    "duration": 193,
    "start_time": "2022-09-19T08:19:48.352Z"
   },
   {
    "duration": 3,
    "start_time": "2022-09-19T08:19:48.549Z"
   },
   {
    "duration": 1783,
    "start_time": "2022-09-19T08:19:48.553Z"
   },
   {
    "duration": 1812,
    "start_time": "2022-09-19T08:19:50.340Z"
   },
   {
    "duration": 288,
    "start_time": "2022-09-19T08:19:52.153Z"
   },
   {
    "duration": 713,
    "start_time": "2022-09-19T08:19:52.442Z"
   },
   {
    "duration": 94,
    "start_time": "2022-09-19T08:19:53.157Z"
   },
   {
    "duration": 89,
    "start_time": "2022-09-19T08:19:53.253Z"
   },
   {
    "duration": 1381,
    "start_time": "2022-09-19T08:19:53.343Z"
   },
   {
    "duration": 23,
    "start_time": "2022-09-19T08:19:54.725Z"
   },
   {
    "duration": 886,
    "start_time": "2022-09-19T08:19:54.749Z"
   },
   {
    "duration": 101,
    "start_time": "2022-09-19T08:19:55.639Z"
   },
   {
    "duration": 15,
    "start_time": "2022-09-19T08:19:55.741Z"
   },
   {
    "duration": 1412,
    "start_time": "2022-09-19T08:19:55.757Z"
   },
   {
    "duration": 3483,
    "start_time": "2022-09-19T08:19:57.171Z"
   },
   {
    "duration": 1986,
    "start_time": "2022-09-19T08:20:00.655Z"
   },
   {
    "duration": 84,
    "start_time": "2022-09-19T08:20:02.642Z"
   },
   {
    "duration": 1639,
    "start_time": "2022-09-19T08:20:02.728Z"
   },
   {
    "duration": 30,
    "start_time": "2022-09-19T08:20:04.421Z"
   },
   {
    "duration": 1379,
    "start_time": "2022-09-19T08:20:04.453Z"
   },
   {
    "duration": 27,
    "start_time": "2022-09-19T08:20:05.838Z"
   },
   {
    "duration": 944,
    "start_time": "2022-09-19T08:23:40.214Z"
   },
   {
    "duration": 3,
    "start_time": "2022-09-19T08:23:41.160Z"
   },
   {
    "duration": 24975,
    "start_time": "2022-09-19T08:23:41.164Z"
   },
   {
    "duration": 11377,
    "start_time": "2022-09-19T08:24:06.141Z"
   },
   {
    "duration": 67,
    "start_time": "2022-09-19T08:24:17.522Z"
   },
   {
    "duration": 6289,
    "start_time": "2022-09-19T08:24:17.591Z"
   },
   {
    "duration": 5346,
    "start_time": "2022-09-19T08:24:23.883Z"
   },
   {
    "duration": 269,
    "start_time": "2022-09-19T08:24:29.230Z"
   },
   {
    "duration": 200,
    "start_time": "2022-09-19T08:24:29.500Z"
   },
   {
    "duration": 13,
    "start_time": "2022-09-19T08:24:29.701Z"
   },
   {
    "duration": 2000,
    "start_time": "2022-09-19T08:24:29.715Z"
   },
   {
    "duration": 2210,
    "start_time": "2022-09-19T08:24:31.717Z"
   },
   {
    "duration": 295,
    "start_time": "2022-09-19T08:24:33.929Z"
   },
   {
    "duration": 89,
    "start_time": "2022-09-19T08:24:44.612Z"
   },
   {
    "duration": 646,
    "start_time": "2022-09-19T08:25:00.570Z"
   },
   {
    "duration": 22,
    "start_time": "2022-09-19T08:25:17.182Z"
   },
   {
    "duration": 7,
    "start_time": "2022-09-19T08:26:01.818Z"
   },
   {
    "duration": 7,
    "start_time": "2022-09-19T08:26:09.088Z"
   },
   {
    "duration": 208,
    "start_time": "2022-09-19T08:26:34.657Z"
   },
   {
    "duration": 122,
    "start_time": "2022-09-19T08:26:42.266Z"
   },
   {
    "duration": 5,
    "start_time": "2022-09-19T08:26:46.512Z"
   },
   {
    "duration": 14,
    "start_time": "2022-09-19T08:26:46.520Z"
   },
   {
    "duration": 23,
    "start_time": "2022-09-19T08:26:46.536Z"
   },
   {
    "duration": 755,
    "start_time": "2022-09-19T08:26:46.561Z"
   },
   {
    "duration": 4,
    "start_time": "2022-09-19T08:26:47.318Z"
   },
   {
    "duration": 2667,
    "start_time": "2022-09-19T08:26:47.323Z"
   },
   {
    "duration": 2525,
    "start_time": "2022-09-19T08:26:49.991Z"
   },
   {
    "duration": 101,
    "start_time": "2022-09-19T08:26:52.517Z"
   },
   {
    "duration": 93,
    "start_time": "2022-09-19T08:26:52.620Z"
   },
   {
    "duration": 4,
    "start_time": "2022-09-19T08:26:52.715Z"
   },
   {
    "duration": 865,
    "start_time": "2022-09-19T08:26:52.721Z"
   },
   {
    "duration": 492,
    "start_time": "2022-09-19T08:26:53.590Z"
   },
   {
    "duration": 24,
    "start_time": "2022-09-19T08:27:01.146Z"
   },
   {
    "duration": 645,
    "start_time": "2022-09-19T08:27:05.673Z"
   },
   {
    "duration": 481,
    "start_time": "2022-09-19T08:27:12.904Z"
   },
   {
    "duration": 37,
    "start_time": "2022-09-19T08:27:13.466Z"
   },
   {
    "duration": 139,
    "start_time": "2022-09-19T08:31:24.330Z"
   },
   {
    "duration": 55,
    "start_time": "2022-09-19T08:31:26.313Z"
   },
   {
    "duration": 1302,
    "start_time": "2022-09-19T08:31:26.907Z"
   },
   {
    "duration": 181,
    "start_time": "2022-09-19T08:31:35.234Z"
   },
   {
    "duration": 7,
    "start_time": "2022-09-19T08:31:53.242Z"
   },
   {
    "duration": 635,
    "start_time": "2022-09-19T08:45:57.822Z"
   },
   {
    "duration": 3,
    "start_time": "2022-09-19T08:45:58.459Z"
   },
   {
    "duration": 14562,
    "start_time": "2022-09-19T08:45:58.463Z"
   },
   {
    "duration": 8397,
    "start_time": "2022-09-19T08:46:13.027Z"
   },
   {
    "duration": 16,
    "start_time": "2022-09-19T08:46:21.427Z"
   },
   {
    "duration": 4688,
    "start_time": "2022-09-19T08:46:21.445Z"
   },
   {
    "duration": 3896,
    "start_time": "2022-09-19T08:46:26.135Z"
   },
   {
    "duration": 208,
    "start_time": "2022-09-19T08:46:30.032Z"
   },
   {
    "duration": 287,
    "start_time": "2022-09-19T08:46:30.242Z"
   },
   {
    "duration": 4,
    "start_time": "2022-09-19T08:46:30.531Z"
   },
   {
    "duration": 1588,
    "start_time": "2022-09-19T08:46:30.536Z"
   },
   {
    "duration": 1615,
    "start_time": "2022-09-19T08:46:32.126Z"
   },
   {
    "duration": 1,
    "start_time": "2022-09-19T08:46:33.742Z"
   },
   {
    "duration": 0,
    "start_time": "2022-09-19T08:46:33.744Z"
   },
   {
    "duration": 0,
    "start_time": "2022-09-19T08:46:33.745Z"
   },
   {
    "duration": 0,
    "start_time": "2022-09-19T08:46:33.746Z"
   },
   {
    "duration": 0,
    "start_time": "2022-09-19T08:46:33.747Z"
   },
   {
    "duration": 0,
    "start_time": "2022-09-19T08:46:33.748Z"
   },
   {
    "duration": 0,
    "start_time": "2022-09-19T08:46:33.749Z"
   },
   {
    "duration": 0,
    "start_time": "2022-09-19T08:46:33.750Z"
   },
   {
    "duration": 0,
    "start_time": "2022-09-19T08:46:33.751Z"
   },
   {
    "duration": 0,
    "start_time": "2022-09-19T08:46:33.752Z"
   },
   {
    "duration": 0,
    "start_time": "2022-09-19T08:46:33.754Z"
   },
   {
    "duration": 0,
    "start_time": "2022-09-19T08:46:33.755Z"
   },
   {
    "duration": 0,
    "start_time": "2022-09-19T08:46:33.756Z"
   },
   {
    "duration": 0,
    "start_time": "2022-09-19T08:46:33.757Z"
   },
   {
    "duration": 0,
    "start_time": "2022-09-19T08:46:33.758Z"
   },
   {
    "duration": 0,
    "start_time": "2022-09-19T08:46:33.759Z"
   },
   {
    "duration": 0,
    "start_time": "2022-09-19T08:46:33.761Z"
   },
   {
    "duration": 579,
    "start_time": "2022-09-19T08:47:14.656Z"
   },
   {
    "duration": 212,
    "start_time": "2022-09-19T08:49:23.695Z"
   },
   {
    "duration": 316,
    "start_time": "2022-09-19T08:50:20.610Z"
   },
   {
    "duration": 1175,
    "start_time": "2022-09-19T08:50:21.568Z"
   },
   {
    "duration": 610,
    "start_time": "2022-09-19T08:52:17.852Z"
   },
   {
    "duration": 3,
    "start_time": "2022-09-19T08:52:18.463Z"
   },
   {
    "duration": 14560,
    "start_time": "2022-09-19T08:52:18.467Z"
   },
   {
    "duration": 8002,
    "start_time": "2022-09-19T08:52:33.029Z"
   },
   {
    "duration": 16,
    "start_time": "2022-09-19T08:52:41.034Z"
   },
   {
    "duration": 4515,
    "start_time": "2022-09-19T08:52:41.052Z"
   },
   {
    "duration": 3733,
    "start_time": "2022-09-19T08:52:45.623Z"
   },
   {
    "duration": 134,
    "start_time": "2022-09-19T08:52:49.422Z"
   },
   {
    "duration": 193,
    "start_time": "2022-09-19T08:52:49.558Z"
   },
   {
    "duration": 3,
    "start_time": "2022-09-19T08:52:49.822Z"
   },
   {
    "duration": 1516,
    "start_time": "2022-09-19T08:52:49.827Z"
   },
   {
    "duration": 1687,
    "start_time": "2022-09-19T08:52:51.344Z"
   },
   {
    "duration": 408,
    "start_time": "2022-09-19T08:52:53.032Z"
   },
   {
    "duration": 300,
    "start_time": "2022-09-19T08:52:53.447Z"
   },
   {
    "duration": 0,
    "start_time": "2022-09-19T08:52:53.748Z"
   },
   {
    "duration": 0,
    "start_time": "2022-09-19T08:52:53.749Z"
   },
   {
    "duration": 0,
    "start_time": "2022-09-19T08:52:53.750Z"
   },
   {
    "duration": 0,
    "start_time": "2022-09-19T08:52:53.751Z"
   },
   {
    "duration": 0,
    "start_time": "2022-09-19T08:52:53.752Z"
   },
   {
    "duration": 0,
    "start_time": "2022-09-19T08:52:53.753Z"
   },
   {
    "duration": 0,
    "start_time": "2022-09-19T08:52:53.753Z"
   },
   {
    "duration": 0,
    "start_time": "2022-09-19T08:52:53.755Z"
   },
   {
    "duration": 0,
    "start_time": "2022-09-19T08:52:53.755Z"
   },
   {
    "duration": 0,
    "start_time": "2022-09-19T08:52:53.756Z"
   },
   {
    "duration": 0,
    "start_time": "2022-09-19T08:52:53.757Z"
   },
   {
    "duration": 0,
    "start_time": "2022-09-19T08:52:53.758Z"
   },
   {
    "duration": 0,
    "start_time": "2022-09-19T08:52:53.759Z"
   },
   {
    "duration": 0,
    "start_time": "2022-09-19T08:52:53.760Z"
   },
   {
    "duration": 0,
    "start_time": "2022-09-19T08:52:53.761Z"
   },
   {
    "duration": 81,
    "start_time": "2022-09-19T08:53:44.346Z"
   },
   {
    "duration": 1045,
    "start_time": "2022-09-19T08:53:47.087Z"
   },
   {
    "duration": 676,
    "start_time": "2022-09-19T08:54:02.147Z"
   },
   {
    "duration": 19,
    "start_time": "2022-09-19T08:54:07.215Z"
   },
   {
    "duration": 17,
    "start_time": "2022-09-19T08:54:07.695Z"
   },
   {
    "duration": 1133,
    "start_time": "2022-09-19T08:54:08.299Z"
   },
   {
    "duration": 2670,
    "start_time": "2022-09-19T08:54:12.511Z"
   },
   {
    "duration": 1631,
    "start_time": "2022-09-19T08:54:16.731Z"
   },
   {
    "duration": 20,
    "start_time": "2022-09-19T08:54:20.745Z"
   },
   {
    "duration": 1522,
    "start_time": "2022-09-19T08:54:21.330Z"
   },
   {
    "duration": 71,
    "start_time": "2022-09-19T08:54:22.853Z"
   },
   {
    "duration": 1111,
    "start_time": "2022-09-19T08:54:22.926Z"
   },
   {
    "duration": 13,
    "start_time": "2022-09-19T08:54:24.039Z"
   },
   {
    "duration": 733,
    "start_time": "2022-09-19T08:54:34.916Z"
   },
   {
    "duration": 2,
    "start_time": "2022-09-19T08:54:35.651Z"
   },
   {
    "duration": 14220,
    "start_time": "2022-09-19T08:54:35.655Z"
   },
   {
    "duration": 7562,
    "start_time": "2022-09-19T08:54:49.878Z"
   },
   {
    "duration": 80,
    "start_time": "2022-09-19T08:54:57.442Z"
   },
   {
    "duration": 4736,
    "start_time": "2022-09-19T08:54:57.523Z"
   },
   {
    "duration": 3986,
    "start_time": "2022-09-19T08:55:02.261Z"
   },
   {
    "duration": 273,
    "start_time": "2022-09-19T08:55:06.249Z"
   },
   {
    "duration": 132,
    "start_time": "2022-09-19T08:55:06.524Z"
   },
   {
    "duration": 66,
    "start_time": "2022-09-19T08:55:06.658Z"
   },
   {
    "duration": 1598,
    "start_time": "2022-09-19T08:55:06.725Z"
   },
   {
    "duration": 1638,
    "start_time": "2022-09-19T08:55:08.325Z"
   },
   {
    "duration": 299,
    "start_time": "2022-09-19T08:55:10.023Z"
   },
   {
    "duration": 135,
    "start_time": "2022-09-19T08:55:10.324Z"
   },
   {
    "duration": 1374,
    "start_time": "2022-09-19T08:55:10.461Z"
   },
   {
    "duration": 21,
    "start_time": "2022-09-19T08:55:11.837Z"
   },
   {
    "duration": 22,
    "start_time": "2022-09-19T08:55:11.922Z"
   },
   {
    "duration": 1407,
    "start_time": "2022-09-19T08:55:11.946Z"
   },
   {
    "duration": 3167,
    "start_time": "2022-09-19T08:55:13.355Z"
   },
   {
    "duration": 1620,
    "start_time": "2022-09-19T08:55:16.523Z"
   },
   {
    "duration": 17,
    "start_time": "2022-09-19T08:55:18.144Z"
   },
   {
    "duration": 1610,
    "start_time": "2022-09-19T08:55:18.221Z"
   },
   {
    "duration": 21,
    "start_time": "2022-09-19T08:55:19.833Z"
   },
   {
    "duration": 1427,
    "start_time": "2022-09-19T08:55:19.856Z"
   },
   {
    "duration": 52,
    "start_time": "2022-09-19T08:55:21.285Z"
   },
   {
    "duration": 122,
    "start_time": "2022-09-19T11:01:12.505Z"
   },
   {
    "duration": 107,
    "start_time": "2022-09-19T11:01:51.633Z"
   },
   {
    "duration": 892,
    "start_time": "2022-09-19T16:20:09.346Z"
   },
   {
    "duration": 487,
    "start_time": "2022-09-19T16:22:43.018Z"
   }
  ],
  "colab": {
   "name": "PySparkSprint.ipynb",
   "provenance": []
  },
  "kernelspec": {
   "display_name": "Python 3 (ipykernel)",
   "language": "python",
   "name": "python3"
  },
  "language_info": {
   "codemirror_mode": {
    "name": "ipython",
    "version": 3
   },
   "file_extension": ".py",
   "mimetype": "text/x-python",
   "name": "python",
   "nbconvert_exporter": "python",
   "pygments_lexer": "ipython3",
   "version": "3.9.5"
  },
  "toc": {
   "base_numbering": 1,
   "nav_menu": {},
   "number_sections": true,
   "sideBar": true,
   "skip_h1_title": true,
   "title_cell": "Содержание",
   "title_sidebar": "Contents",
   "toc_cell": true,
   "toc_position": {},
   "toc_section_display": true,
   "toc_window_display": true
  }
 },
 "nbformat": 4,
 "nbformat_minor": 5
}
