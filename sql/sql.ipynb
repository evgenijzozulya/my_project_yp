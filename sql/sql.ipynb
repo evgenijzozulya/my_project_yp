{
  "cells": [
    {
      "cell_type": "code",
      "execution_count": 1,
      "metadata": {
        "id": "nlZBlglMDWKe"
      },
      "outputs": [],
      "source": [
        "import pandas as pd\n",
        "import matplotlib.pyplot as plt\n",
        "from sqlalchemy import create_engine, text \n",
        "import seaborn as sns"
      ]
    },
    {
      "cell_type": "markdown",
      "metadata": {
        "id": "XnOE3n28DWKg"
      },
      "source": [
        "### Конфигурация для подключения к базе данных `data-analyst-advanced-sql`\n",
        "Эта база данных содержит схему `stackoverflow`, с которой вы будете работать в проекте"
      ]
    },
    {
      "cell_type": "code",
      "execution_count": 2,
      "metadata": {
        "id": "6p-yGp7qDWKg"
      },
      "outputs": [],
      "source": [
        "db_config = {\n",
        "    'user': 'praktikum_student', # имя пользователя\n",
        "    'pwd': 'Sdf4$2;d-d30pp', # пароль\n",
        "    'host': 'rc1b-wcoijxj3yxfsf3fs.mdb.yandexcloud.net',\n",
        "    'port': 6432, # порт подключения\n",
        "    'db': 'data-analyst-advanced-sql' # название базы данных\n",
        "}  \n",
        "\n",
        "connection_string = 'postgresql://{}:{}@{}:{}/{}'.format(\n",
        "    db_config['user'],\n",
        "    db_config['pwd'],\n",
        "    db_config['host'],\n",
        "    db_config['port'],\n",
        "    db_config['db'],\n",
        ")"
      ]
    },
    {
      "cell_type": "markdown",
      "metadata": {
        "id": "2Rg8ZpS0DWKh"
      },
      "source": [
        "Создание подключения"
      ]
    },
    {
      "cell_type": "code",
      "execution_count": 3,
      "metadata": {
        "id": "DamCUTR6DWKi"
      },
      "outputs": [],
      "source": [
        "engine = create_engine(connection_string) \n",
        "conn = engine.connect()"
      ]
    },
    {
      "cell_type": "markdown",
      "metadata": {
        "id": "bel8XeSlDWKj"
      },
      "source": [
        "Пример запроса к базе данных\n",
        "\n",
        "`sample_df` является pandas-датафреймом."
      ]
    },
    {
      "cell_type": "code",
      "execution_count": 4,
      "metadata": {
        "id": "6Z_fw0yLDWKk"
      },
      "outputs": [],
      "source": [
        "query = '''\n",
        "SELECT *\n",
        "FROM stackoverflow.users\n",
        "LIMIT 10;\n",
        "'''\n",
        "\n",
        "sample_df = pd.read_sql_query(text(query), con=conn) "
      ]
    },
    {
      "cell_type": "code",
      "execution_count": 5,
      "metadata": {
        "id": "ZpuZ290oDWKk",
        "outputId": "f1315a63-9891-475a-8d80-80543590dfa3",
        "colab": {
          "base_uri": "https://localhost:8080/",
          "height": 363
        }
      },
      "outputs": [
        {
          "output_type": "execute_result",
          "data": {
            "text/plain": [
              "   id       creation_date        display_name    last_access_date  \\\n",
              "0   1 2008-07-31 14:22:31         Jeff Atwood 2018-08-29 02:34:23   \n",
              "1   2 2008-07-31 14:22:31        Geoff Dalgas 2018-08-23 17:31:56   \n",
              "2   3 2008-07-31 14:22:31        Jarrod Dixon 2018-08-30 20:56:24   \n",
              "3   4 2008-07-31 14:22:31        Joel Spolsky 2018-08-14 22:18:15   \n",
              "4   5 2008-07-31 14:22:31        Jon Galloway 2018-08-29 16:48:36   \n",
              "5   8 2008-07-31 21:33:24        Eggs McLaren 2018-04-09 02:04:56   \n",
              "6   9 2008-07-31 21:35:27         Kevin Dente 2018-08-30 18:18:03   \n",
              "7  11 2008-08-01 00:59:11      Anonymous User 2008-08-01 00:59:11   \n",
              "8  13 2008-08-01 04:18:05  Chris Jester-Young 2018-08-30 02:47:23   \n",
              "9  17 2008-08-01 12:02:22        Nick Berardi 2018-01-22 01:35:38   \n",
              "\n",
              "                     location  reputation   views  \n",
              "0              El Cerrito, CA       44300  408587  \n",
              "1               Corvallis, OR        3491   23966  \n",
              "2  Raleigh, NC, United States       13418   24396  \n",
              "3                New York, NY       28768   73755  \n",
              "4               San Diego, CA       39172   11700  \n",
              "5                        None         942    6372  \n",
              "6                 Oakland, CA       14337    4949  \n",
              "7                        None        1890    2123  \n",
              "8  Raleigh, NC, United States      177138   35414  \n",
              "9                Issaquah, WA       44443    4786  "
            ],
            "text/html": [
              "\n",
              "  <div id=\"df-e98f697f-cb56-4563-97ac-1ea6ae636138\">\n",
              "    <div class=\"colab-df-container\">\n",
              "      <div>\n",
              "<style scoped>\n",
              "    .dataframe tbody tr th:only-of-type {\n",
              "        vertical-align: middle;\n",
              "    }\n",
              "\n",
              "    .dataframe tbody tr th {\n",
              "        vertical-align: top;\n",
              "    }\n",
              "\n",
              "    .dataframe thead th {\n",
              "        text-align: right;\n",
              "    }\n",
              "</style>\n",
              "<table border=\"1\" class=\"dataframe\">\n",
              "  <thead>\n",
              "    <tr style=\"text-align: right;\">\n",
              "      <th></th>\n",
              "      <th>id</th>\n",
              "      <th>creation_date</th>\n",
              "      <th>display_name</th>\n",
              "      <th>last_access_date</th>\n",
              "      <th>location</th>\n",
              "      <th>reputation</th>\n",
              "      <th>views</th>\n",
              "    </tr>\n",
              "  </thead>\n",
              "  <tbody>\n",
              "    <tr>\n",
              "      <th>0</th>\n",
              "      <td>1</td>\n",
              "      <td>2008-07-31 14:22:31</td>\n",
              "      <td>Jeff Atwood</td>\n",
              "      <td>2018-08-29 02:34:23</td>\n",
              "      <td>El Cerrito, CA</td>\n",
              "      <td>44300</td>\n",
              "      <td>408587</td>\n",
              "    </tr>\n",
              "    <tr>\n",
              "      <th>1</th>\n",
              "      <td>2</td>\n",
              "      <td>2008-07-31 14:22:31</td>\n",
              "      <td>Geoff Dalgas</td>\n",
              "      <td>2018-08-23 17:31:56</td>\n",
              "      <td>Corvallis, OR</td>\n",
              "      <td>3491</td>\n",
              "      <td>23966</td>\n",
              "    </tr>\n",
              "    <tr>\n",
              "      <th>2</th>\n",
              "      <td>3</td>\n",
              "      <td>2008-07-31 14:22:31</td>\n",
              "      <td>Jarrod Dixon</td>\n",
              "      <td>2018-08-30 20:56:24</td>\n",
              "      <td>Raleigh, NC, United States</td>\n",
              "      <td>13418</td>\n",
              "      <td>24396</td>\n",
              "    </tr>\n",
              "    <tr>\n",
              "      <th>3</th>\n",
              "      <td>4</td>\n",
              "      <td>2008-07-31 14:22:31</td>\n",
              "      <td>Joel Spolsky</td>\n",
              "      <td>2018-08-14 22:18:15</td>\n",
              "      <td>New York, NY</td>\n",
              "      <td>28768</td>\n",
              "      <td>73755</td>\n",
              "    </tr>\n",
              "    <tr>\n",
              "      <th>4</th>\n",
              "      <td>5</td>\n",
              "      <td>2008-07-31 14:22:31</td>\n",
              "      <td>Jon Galloway</td>\n",
              "      <td>2018-08-29 16:48:36</td>\n",
              "      <td>San Diego, CA</td>\n",
              "      <td>39172</td>\n",
              "      <td>11700</td>\n",
              "    </tr>\n",
              "    <tr>\n",
              "      <th>5</th>\n",
              "      <td>8</td>\n",
              "      <td>2008-07-31 21:33:24</td>\n",
              "      <td>Eggs McLaren</td>\n",
              "      <td>2018-04-09 02:04:56</td>\n",
              "      <td>None</td>\n",
              "      <td>942</td>\n",
              "      <td>6372</td>\n",
              "    </tr>\n",
              "    <tr>\n",
              "      <th>6</th>\n",
              "      <td>9</td>\n",
              "      <td>2008-07-31 21:35:27</td>\n",
              "      <td>Kevin Dente</td>\n",
              "      <td>2018-08-30 18:18:03</td>\n",
              "      <td>Oakland, CA</td>\n",
              "      <td>14337</td>\n",
              "      <td>4949</td>\n",
              "    </tr>\n",
              "    <tr>\n",
              "      <th>7</th>\n",
              "      <td>11</td>\n",
              "      <td>2008-08-01 00:59:11</td>\n",
              "      <td>Anonymous User</td>\n",
              "      <td>2008-08-01 00:59:11</td>\n",
              "      <td>None</td>\n",
              "      <td>1890</td>\n",
              "      <td>2123</td>\n",
              "    </tr>\n",
              "    <tr>\n",
              "      <th>8</th>\n",
              "      <td>13</td>\n",
              "      <td>2008-08-01 04:18:05</td>\n",
              "      <td>Chris Jester-Young</td>\n",
              "      <td>2018-08-30 02:47:23</td>\n",
              "      <td>Raleigh, NC, United States</td>\n",
              "      <td>177138</td>\n",
              "      <td>35414</td>\n",
              "    </tr>\n",
              "    <tr>\n",
              "      <th>9</th>\n",
              "      <td>17</td>\n",
              "      <td>2008-08-01 12:02:22</td>\n",
              "      <td>Nick Berardi</td>\n",
              "      <td>2018-01-22 01:35:38</td>\n",
              "      <td>Issaquah, WA</td>\n",
              "      <td>44443</td>\n",
              "      <td>4786</td>\n",
              "    </tr>\n",
              "  </tbody>\n",
              "</table>\n",
              "</div>\n",
              "      <button class=\"colab-df-convert\" onclick=\"convertToInteractive('df-e98f697f-cb56-4563-97ac-1ea6ae636138')\"\n",
              "              title=\"Convert this dataframe to an interactive table.\"\n",
              "              style=\"display:none;\">\n",
              "        \n",
              "  <svg xmlns=\"http://www.w3.org/2000/svg\" height=\"24px\"viewBox=\"0 0 24 24\"\n",
              "       width=\"24px\">\n",
              "    <path d=\"M0 0h24v24H0V0z\" fill=\"none\"/>\n",
              "    <path d=\"M18.56 5.44l.94 2.06.94-2.06 2.06-.94-2.06-.94-.94-2.06-.94 2.06-2.06.94zm-11 1L8.5 8.5l.94-2.06 2.06-.94-2.06-.94L8.5 2.5l-.94 2.06-2.06.94zm10 10l.94 2.06.94-2.06 2.06-.94-2.06-.94-.94-2.06-.94 2.06-2.06.94z\"/><path d=\"M17.41 7.96l-1.37-1.37c-.4-.4-.92-.59-1.43-.59-.52 0-1.04.2-1.43.59L10.3 9.45l-7.72 7.72c-.78.78-.78 2.05 0 2.83L4 21.41c.39.39.9.59 1.41.59.51 0 1.02-.2 1.41-.59l7.78-7.78 2.81-2.81c.8-.78.8-2.07 0-2.86zM5.41 20L4 18.59l7.72-7.72 1.47 1.35L5.41 20z\"/>\n",
              "  </svg>\n",
              "      </button>\n",
              "      \n",
              "  <style>\n",
              "    .colab-df-container {\n",
              "      display:flex;\n",
              "      flex-wrap:wrap;\n",
              "      gap: 12px;\n",
              "    }\n",
              "\n",
              "    .colab-df-convert {\n",
              "      background-color: #E8F0FE;\n",
              "      border: none;\n",
              "      border-radius: 50%;\n",
              "      cursor: pointer;\n",
              "      display: none;\n",
              "      fill: #1967D2;\n",
              "      height: 32px;\n",
              "      padding: 0 0 0 0;\n",
              "      width: 32px;\n",
              "    }\n",
              "\n",
              "    .colab-df-convert:hover {\n",
              "      background-color: #E2EBFA;\n",
              "      box-shadow: 0px 1px 2px rgba(60, 64, 67, 0.3), 0px 1px 3px 1px rgba(60, 64, 67, 0.15);\n",
              "      fill: #174EA6;\n",
              "    }\n",
              "\n",
              "    [theme=dark] .colab-df-convert {\n",
              "      background-color: #3B4455;\n",
              "      fill: #D2E3FC;\n",
              "    }\n",
              "\n",
              "    [theme=dark] .colab-df-convert:hover {\n",
              "      background-color: #434B5C;\n",
              "      box-shadow: 0px 1px 3px 1px rgba(0, 0, 0, 0.15);\n",
              "      filter: drop-shadow(0px 1px 2px rgba(0, 0, 0, 0.3));\n",
              "      fill: #FFFFFF;\n",
              "    }\n",
              "  </style>\n",
              "\n",
              "      <script>\n",
              "        const buttonEl =\n",
              "          document.querySelector('#df-e98f697f-cb56-4563-97ac-1ea6ae636138 button.colab-df-convert');\n",
              "        buttonEl.style.display =\n",
              "          google.colab.kernel.accessAllowed ? 'block' : 'none';\n",
              "\n",
              "        async function convertToInteractive(key) {\n",
              "          const element = document.querySelector('#df-e98f697f-cb56-4563-97ac-1ea6ae636138');\n",
              "          const dataTable =\n",
              "            await google.colab.kernel.invokeFunction('convertToInteractive',\n",
              "                                                     [key], {});\n",
              "          if (!dataTable) return;\n",
              "\n",
              "          const docLinkHtml = 'Like what you see? Visit the ' +\n",
              "            '<a target=\"_blank\" href=https://colab.research.google.com/notebooks/data_table.ipynb>data table notebook</a>'\n",
              "            + ' to learn more about interactive tables.';\n",
              "          element.innerHTML = '';\n",
              "          dataTable['output_type'] = 'display_data';\n",
              "          await google.colab.output.renderOutput(dataTable, element);\n",
              "          const docLink = document.createElement('div');\n",
              "          docLink.innerHTML = docLinkHtml;\n",
              "          element.appendChild(docLink);\n",
              "        }\n",
              "      </script>\n",
              "    </div>\n",
              "  </div>\n",
              "  "
            ]
          },
          "metadata": {},
          "execution_count": 5
        }
      ],
      "source": [
        "sample_df"
      ]
    },
    {
      "cell_type": "markdown",
      "metadata": {
        "id": "gnBMXkDBDWKm"
      },
      "source": [
        "# Задание 1"
      ]
    },
    {
      "cell_type": "markdown",
      "metadata": {
        "id": "vHsfOrrNDWKn"
      },
      "source": [
        "Выведите общую сумму просмотров постов за каждый месяц 2008 года. Если данных за какой-либо месяц в базе нет, такой месяц можно пропустить. Результат отсортируйте по убыванию общего количества просмотров."
      ]
    },
    {
      "cell_type": "markdown",
      "metadata": {
        "id": "N5rTgGNmDWKn"
      },
      "source": [
        "| month_date  | total_views |\n",
        "| ------------- | ------------- |\n",
        "| 2008-09-01  | 452928568  |\n",
        "| 2008-10-01  | 365400138  |\n",
        "| ...         | ... |"
      ]
    },
    {
      "cell_type": "code",
      "execution_count": 6,
      "metadata": {
        "id": "eWvykcXTDWKo",
        "colab": {
          "base_uri": "https://localhost:8080/",
          "height": 238
        },
        "outputId": "a251d31c-b6da-49e5-cfd1-020292f87815"
      },
      "outputs": [
        {
          "output_type": "execute_result",
          "data": {
            "text/plain": [
              "   month_date  total_views\n",
              "0  2008-09-01    452928568\n",
              "1  2008-10-01    365400138\n",
              "2  2008-11-01    221759651\n",
              "3  2008-12-01    197792841\n",
              "4  2008-08-01    131367083\n",
              "5  2008-07-01       669895"
            ],
            "text/html": [
              "\n",
              "  <div id=\"df-9c87943e-c897-41d2-92e9-6e33c2e1f917\">\n",
              "    <div class=\"colab-df-container\">\n",
              "      <div>\n",
              "<style scoped>\n",
              "    .dataframe tbody tr th:only-of-type {\n",
              "        vertical-align: middle;\n",
              "    }\n",
              "\n",
              "    .dataframe tbody tr th {\n",
              "        vertical-align: top;\n",
              "    }\n",
              "\n",
              "    .dataframe thead th {\n",
              "        text-align: right;\n",
              "    }\n",
              "</style>\n",
              "<table border=\"1\" class=\"dataframe\">\n",
              "  <thead>\n",
              "    <tr style=\"text-align: right;\">\n",
              "      <th></th>\n",
              "      <th>month_date</th>\n",
              "      <th>total_views</th>\n",
              "    </tr>\n",
              "  </thead>\n",
              "  <tbody>\n",
              "    <tr>\n",
              "      <th>0</th>\n",
              "      <td>2008-09-01</td>\n",
              "      <td>452928568</td>\n",
              "    </tr>\n",
              "    <tr>\n",
              "      <th>1</th>\n",
              "      <td>2008-10-01</td>\n",
              "      <td>365400138</td>\n",
              "    </tr>\n",
              "    <tr>\n",
              "      <th>2</th>\n",
              "      <td>2008-11-01</td>\n",
              "      <td>221759651</td>\n",
              "    </tr>\n",
              "    <tr>\n",
              "      <th>3</th>\n",
              "      <td>2008-12-01</td>\n",
              "      <td>197792841</td>\n",
              "    </tr>\n",
              "    <tr>\n",
              "      <th>4</th>\n",
              "      <td>2008-08-01</td>\n",
              "      <td>131367083</td>\n",
              "    </tr>\n",
              "    <tr>\n",
              "      <th>5</th>\n",
              "      <td>2008-07-01</td>\n",
              "      <td>669895</td>\n",
              "    </tr>\n",
              "  </tbody>\n",
              "</table>\n",
              "</div>\n",
              "      <button class=\"colab-df-convert\" onclick=\"convertToInteractive('df-9c87943e-c897-41d2-92e9-6e33c2e1f917')\"\n",
              "              title=\"Convert this dataframe to an interactive table.\"\n",
              "              style=\"display:none;\">\n",
              "        \n",
              "  <svg xmlns=\"http://www.w3.org/2000/svg\" height=\"24px\"viewBox=\"0 0 24 24\"\n",
              "       width=\"24px\">\n",
              "    <path d=\"M0 0h24v24H0V0z\" fill=\"none\"/>\n",
              "    <path d=\"M18.56 5.44l.94 2.06.94-2.06 2.06-.94-2.06-.94-.94-2.06-.94 2.06-2.06.94zm-11 1L8.5 8.5l.94-2.06 2.06-.94-2.06-.94L8.5 2.5l-.94 2.06-2.06.94zm10 10l.94 2.06.94-2.06 2.06-.94-2.06-.94-.94-2.06-.94 2.06-2.06.94z\"/><path d=\"M17.41 7.96l-1.37-1.37c-.4-.4-.92-.59-1.43-.59-.52 0-1.04.2-1.43.59L10.3 9.45l-7.72 7.72c-.78.78-.78 2.05 0 2.83L4 21.41c.39.39.9.59 1.41.59.51 0 1.02-.2 1.41-.59l7.78-7.78 2.81-2.81c.8-.78.8-2.07 0-2.86zM5.41 20L4 18.59l7.72-7.72 1.47 1.35L5.41 20z\"/>\n",
              "  </svg>\n",
              "      </button>\n",
              "      \n",
              "  <style>\n",
              "    .colab-df-container {\n",
              "      display:flex;\n",
              "      flex-wrap:wrap;\n",
              "      gap: 12px;\n",
              "    }\n",
              "\n",
              "    .colab-df-convert {\n",
              "      background-color: #E8F0FE;\n",
              "      border: none;\n",
              "      border-radius: 50%;\n",
              "      cursor: pointer;\n",
              "      display: none;\n",
              "      fill: #1967D2;\n",
              "      height: 32px;\n",
              "      padding: 0 0 0 0;\n",
              "      width: 32px;\n",
              "    }\n",
              "\n",
              "    .colab-df-convert:hover {\n",
              "      background-color: #E2EBFA;\n",
              "      box-shadow: 0px 1px 2px rgba(60, 64, 67, 0.3), 0px 1px 3px 1px rgba(60, 64, 67, 0.15);\n",
              "      fill: #174EA6;\n",
              "    }\n",
              "\n",
              "    [theme=dark] .colab-df-convert {\n",
              "      background-color: #3B4455;\n",
              "      fill: #D2E3FC;\n",
              "    }\n",
              "\n",
              "    [theme=dark] .colab-df-convert:hover {\n",
              "      background-color: #434B5C;\n",
              "      box-shadow: 0px 1px 3px 1px rgba(0, 0, 0, 0.15);\n",
              "      filter: drop-shadow(0px 1px 2px rgba(0, 0, 0, 0.3));\n",
              "      fill: #FFFFFF;\n",
              "    }\n",
              "  </style>\n",
              "\n",
              "      <script>\n",
              "        const buttonEl =\n",
              "          document.querySelector('#df-9c87943e-c897-41d2-92e9-6e33c2e1f917 button.colab-df-convert');\n",
              "        buttonEl.style.display =\n",
              "          google.colab.kernel.accessAllowed ? 'block' : 'none';\n",
              "\n",
              "        async function convertToInteractive(key) {\n",
              "          const element = document.querySelector('#df-9c87943e-c897-41d2-92e9-6e33c2e1f917');\n",
              "          const dataTable =\n",
              "            await google.colab.kernel.invokeFunction('convertToInteractive',\n",
              "                                                     [key], {});\n",
              "          if (!dataTable) return;\n",
              "\n",
              "          const docLinkHtml = 'Like what you see? Visit the ' +\n",
              "            '<a target=\"_blank\" href=https://colab.research.google.com/notebooks/data_table.ipynb>data table notebook</a>'\n",
              "            + ' to learn more about interactive tables.';\n",
              "          element.innerHTML = '';\n",
              "          dataTable['output_type'] = 'display_data';\n",
              "          await google.colab.output.renderOutput(dataTable, element);\n",
              "          const docLink = document.createElement('div');\n",
              "          docLink.innerHTML = docLinkHtml;\n",
              "          element.appendChild(docLink);\n",
              "        }\n",
              "      </script>\n",
              "    </div>\n",
              "  </div>\n",
              "  "
            ]
          },
          "metadata": {},
          "execution_count": 6
        }
      ],
      "source": [
        "# напишите запрос\n",
        "query = '''\n",
        "SELECT DATE_TRUNC('MONTH', creation_date)::date AS month_date,\n",
        "    SUM(views_count) AS total_views\n",
        "FROM stackoverflow.posts\n",
        "GROUP BY DATE_TRUNC('MONTH', creation_date)::date\n",
        "HAVING SUM(views_count) > 0\n",
        "ORDER BY total_views DESC\n",
        "'''\n",
        "pd.read_sql_query(text(query), con=conn)\n",
        "# выполните запрос"
      ]
    },
    {
      "cell_type": "markdown",
      "metadata": {
        "id": "XMr_UeU6DWKo"
      },
      "source": [
        "<details>\n",
        "\n",
        "<summary>Подсказка</summary>\n",
        "Используйте функцию для усечения даты, а затем сгруппируйте и отсортируйте данные.\n",
        "</details>"
      ]
    },
    {
      "cell_type": "markdown",
      "metadata": {
        "id": "I_ZvhOxkDWKp"
      },
      "source": [
        "Проанализируйте итоговую таблицу. Отличаются ли данные за разные месяцы? С чем могут быть связаны отличия?"
      ]
    },
    {
      "cell_type": "markdown",
      "metadata": {
        "id": "luxSj17oDWKq"
      },
      "source": [
        "Данные отличаются, по следующим причинам:\n",
        "- Июль, август - летние месяцы период отпусков и каникул, меньше вопросов по учебе и работе,\n",
        "- В сентябре и октябре резко повышается активность, люди выходят с отпусков и каникул и освежают знания,\n",
        "- К ноябрю активность спадает все входят в обычный ритм, а в декабре начинаются предпраздничная суета и праздники."
      ]
    },
    {
      "cell_type": "markdown",
      "metadata": {
        "id": "FziIXkn5DWKr"
      },
      "source": [
        "# Задание 2"
      ]
    },
    {
      "cell_type": "markdown",
      "metadata": {
        "id": "fTGESZvYDWKr"
      },
      "source": [
        "Выведите имена самых активных пользователей, которые в первый месяц после регистрации (включая день регистрации) дали больше 100 ответов. Вопросы, которые задавали пользователи, не учитывайте. Для каждого имени пользователя выведите количество уникальных значений `user_id`. Отсортируйте результат по полю с именами в лексикографическом порядке."
      ]
    },
    {
      "cell_type": "markdown",
      "metadata": {
        "id": "W5-tv6Y3DWKs"
      },
      "source": [
        "| display_name | count |\n",
        "| ------------ | ----- |\n",
        "| 1800 INFORMATION | 1 |\n",
        "| Adam Bellaire | 1 |\n",
        "| Adam Davis | 1 |\n",
        "| ... | ... |"
      ]
    },
    {
      "cell_type": "code",
      "execution_count": 7,
      "metadata": {
        "id": "fIO-y-YjDWKt"
      },
      "outputs": [],
      "source": [
        "# напишите запрос\n",
        "query = '''\n",
        "WiTH t1 AS (\n",
        "SELECT u.display_name AS display_name\n",
        "FROM stackoverflow.users AS u \n",
        "INNER JOIN stackoverflow.posts AS p ON u.id = p.user_id\n",
        "WHERE u.creation_date :: date + 30 >= p.creation_date :: date \n",
        "    AND post_type_id = (\n",
        "    SELECT id\n",
        "    FROM stackoverflow.post_types\n",
        "    WHERE type = 'Answer')\n",
        "GROUP BY u.display_name\n",
        "HAVING count(u.display_name) > 100 \n",
        "ORDER BY display_name)\n",
        "\n",
        "SELECT t1.display_name AS display_name, count(u.id)\n",
        "FROM stackoverflow.users AS u \n",
        "INNER JOIN t1 ON t1.display_name = u.display_name\n",
        "GROUP BY t1.display_name\n",
        "ORDER BY display_name\n",
        "'''\n",
        "\n",
        "# выполните запрос\n",
        "sample_df=pd.read_sql_query(text(query), con=conn)"
      ]
    },
    {
      "cell_type": "code",
      "execution_count": 8,
      "metadata": {
        "colab": {
          "base_uri": "https://localhost:8080/",
          "height": 424
        },
        "id": "skYw3skpfjuE",
        "outputId": "9c6a1034-9307-4a30-93a8-b252947367e2"
      },
      "outputs": [
        {
          "output_type": "execute_result",
          "data": {
            "text/plain": [
              "        display_name  count\n",
              "0   1800 INFORMATION      1\n",
              "1      Adam Bellaire      1\n",
              "2         Adam Davis      1\n",
              "3          Adam Liss      1\n",
              "4               Alan     11\n",
              "..               ...    ...\n",
              "74            lomaxx      1\n",
              "75          mattlant      1\n",
              "76         paxdiablo      1\n",
              "77        tvanfosson      1\n",
              "78              tzot      1\n",
              "\n",
              "[79 rows x 2 columns]"
            ],
            "text/html": [
              "\n",
              "  <div id=\"df-876f1b6a-ee56-44d7-ac33-6cf06eeb72c1\">\n",
              "    <div class=\"colab-df-container\">\n",
              "      <div>\n",
              "<style scoped>\n",
              "    .dataframe tbody tr th:only-of-type {\n",
              "        vertical-align: middle;\n",
              "    }\n",
              "\n",
              "    .dataframe tbody tr th {\n",
              "        vertical-align: top;\n",
              "    }\n",
              "\n",
              "    .dataframe thead th {\n",
              "        text-align: right;\n",
              "    }\n",
              "</style>\n",
              "<table border=\"1\" class=\"dataframe\">\n",
              "  <thead>\n",
              "    <tr style=\"text-align: right;\">\n",
              "      <th></th>\n",
              "      <th>display_name</th>\n",
              "      <th>count</th>\n",
              "    </tr>\n",
              "  </thead>\n",
              "  <tbody>\n",
              "    <tr>\n",
              "      <th>0</th>\n",
              "      <td>1800 INFORMATION</td>\n",
              "      <td>1</td>\n",
              "    </tr>\n",
              "    <tr>\n",
              "      <th>1</th>\n",
              "      <td>Adam Bellaire</td>\n",
              "      <td>1</td>\n",
              "    </tr>\n",
              "    <tr>\n",
              "      <th>2</th>\n",
              "      <td>Adam Davis</td>\n",
              "      <td>1</td>\n",
              "    </tr>\n",
              "    <tr>\n",
              "      <th>3</th>\n",
              "      <td>Adam Liss</td>\n",
              "      <td>1</td>\n",
              "    </tr>\n",
              "    <tr>\n",
              "      <th>4</th>\n",
              "      <td>Alan</td>\n",
              "      <td>11</td>\n",
              "    </tr>\n",
              "    <tr>\n",
              "      <th>...</th>\n",
              "      <td>...</td>\n",
              "      <td>...</td>\n",
              "    </tr>\n",
              "    <tr>\n",
              "      <th>74</th>\n",
              "      <td>lomaxx</td>\n",
              "      <td>1</td>\n",
              "    </tr>\n",
              "    <tr>\n",
              "      <th>75</th>\n",
              "      <td>mattlant</td>\n",
              "      <td>1</td>\n",
              "    </tr>\n",
              "    <tr>\n",
              "      <th>76</th>\n",
              "      <td>paxdiablo</td>\n",
              "      <td>1</td>\n",
              "    </tr>\n",
              "    <tr>\n",
              "      <th>77</th>\n",
              "      <td>tvanfosson</td>\n",
              "      <td>1</td>\n",
              "    </tr>\n",
              "    <tr>\n",
              "      <th>78</th>\n",
              "      <td>tzot</td>\n",
              "      <td>1</td>\n",
              "    </tr>\n",
              "  </tbody>\n",
              "</table>\n",
              "<p>79 rows × 2 columns</p>\n",
              "</div>\n",
              "      <button class=\"colab-df-convert\" onclick=\"convertToInteractive('df-876f1b6a-ee56-44d7-ac33-6cf06eeb72c1')\"\n",
              "              title=\"Convert this dataframe to an interactive table.\"\n",
              "              style=\"display:none;\">\n",
              "        \n",
              "  <svg xmlns=\"http://www.w3.org/2000/svg\" height=\"24px\"viewBox=\"0 0 24 24\"\n",
              "       width=\"24px\">\n",
              "    <path d=\"M0 0h24v24H0V0z\" fill=\"none\"/>\n",
              "    <path d=\"M18.56 5.44l.94 2.06.94-2.06 2.06-.94-2.06-.94-.94-2.06-.94 2.06-2.06.94zm-11 1L8.5 8.5l.94-2.06 2.06-.94-2.06-.94L8.5 2.5l-.94 2.06-2.06.94zm10 10l.94 2.06.94-2.06 2.06-.94-2.06-.94-.94-2.06-.94 2.06-2.06.94z\"/><path d=\"M17.41 7.96l-1.37-1.37c-.4-.4-.92-.59-1.43-.59-.52 0-1.04.2-1.43.59L10.3 9.45l-7.72 7.72c-.78.78-.78 2.05 0 2.83L4 21.41c.39.39.9.59 1.41.59.51 0 1.02-.2 1.41-.59l7.78-7.78 2.81-2.81c.8-.78.8-2.07 0-2.86zM5.41 20L4 18.59l7.72-7.72 1.47 1.35L5.41 20z\"/>\n",
              "  </svg>\n",
              "      </button>\n",
              "      \n",
              "  <style>\n",
              "    .colab-df-container {\n",
              "      display:flex;\n",
              "      flex-wrap:wrap;\n",
              "      gap: 12px;\n",
              "    }\n",
              "\n",
              "    .colab-df-convert {\n",
              "      background-color: #E8F0FE;\n",
              "      border: none;\n",
              "      border-radius: 50%;\n",
              "      cursor: pointer;\n",
              "      display: none;\n",
              "      fill: #1967D2;\n",
              "      height: 32px;\n",
              "      padding: 0 0 0 0;\n",
              "      width: 32px;\n",
              "    }\n",
              "\n",
              "    .colab-df-convert:hover {\n",
              "      background-color: #E2EBFA;\n",
              "      box-shadow: 0px 1px 2px rgba(60, 64, 67, 0.3), 0px 1px 3px 1px rgba(60, 64, 67, 0.15);\n",
              "      fill: #174EA6;\n",
              "    }\n",
              "\n",
              "    [theme=dark] .colab-df-convert {\n",
              "      background-color: #3B4455;\n",
              "      fill: #D2E3FC;\n",
              "    }\n",
              "\n",
              "    [theme=dark] .colab-df-convert:hover {\n",
              "      background-color: #434B5C;\n",
              "      box-shadow: 0px 1px 3px 1px rgba(0, 0, 0, 0.15);\n",
              "      filter: drop-shadow(0px 1px 2px rgba(0, 0, 0, 0.3));\n",
              "      fill: #FFFFFF;\n",
              "    }\n",
              "  </style>\n",
              "\n",
              "      <script>\n",
              "        const buttonEl =\n",
              "          document.querySelector('#df-876f1b6a-ee56-44d7-ac33-6cf06eeb72c1 button.colab-df-convert');\n",
              "        buttonEl.style.display =\n",
              "          google.colab.kernel.accessAllowed ? 'block' : 'none';\n",
              "\n",
              "        async function convertToInteractive(key) {\n",
              "          const element = document.querySelector('#df-876f1b6a-ee56-44d7-ac33-6cf06eeb72c1');\n",
              "          const dataTable =\n",
              "            await google.colab.kernel.invokeFunction('convertToInteractive',\n",
              "                                                     [key], {});\n",
              "          if (!dataTable) return;\n",
              "\n",
              "          const docLinkHtml = 'Like what you see? Visit the ' +\n",
              "            '<a target=\"_blank\" href=https://colab.research.google.com/notebooks/data_table.ipynb>data table notebook</a>'\n",
              "            + ' to learn more about interactive tables.';\n",
              "          element.innerHTML = '';\n",
              "          dataTable['output_type'] = 'display_data';\n",
              "          await google.colab.output.renderOutput(dataTable, element);\n",
              "          const docLink = document.createElement('div');\n",
              "          docLink.innerHTML = docLinkHtml;\n",
              "          element.appendChild(docLink);\n",
              "        }\n",
              "      </script>\n",
              "    </div>\n",
              "  </div>\n",
              "  "
            ]
          },
          "metadata": {},
          "execution_count": 8
        }
      ],
      "source": [
        "sample_df"
      ]
    },
    {
      "cell_type": "code",
      "execution_count": 9,
      "metadata": {
        "colab": {
          "base_uri": "https://localhost:8080/",
          "height": 645
        },
        "id": "vQo6DytefjuF",
        "outputId": "0f242d93-f1f2-4f4b-b636-46ad37fd7c6e"
      },
      "outputs": [
        {
          "output_type": "execute_result",
          "data": {
            "text/plain": [
              "   display_name  count\n",
              "4          Alan     11\n",
              "7         Brian     27\n",
              "10        Chris     52\n",
              "12        Craig     14\n",
              "14          Dan     33\n",
              "21         Greg     19\n",
              "25          Jim     16\n",
              "26          Joe     20\n",
              "33         Josh     18\n",
              "34        Keith      8\n",
              "35        Kevin     23\n",
              "41         Mark     32\n",
              "45         Matt     47\n",
              "50         Nick     28\n",
              "52          Oli      3\n",
              "56          Rob     27\n",
              "59         Ryan     22\n",
              "64          Tom     32\n",
              "72          jfs      3"
            ],
            "text/html": [
              "\n",
              "  <div id=\"df-c5b8a36a-db09-4fa2-9bf0-b503cc7d279f\">\n",
              "    <div class=\"colab-df-container\">\n",
              "      <div>\n",
              "<style scoped>\n",
              "    .dataframe tbody tr th:only-of-type {\n",
              "        vertical-align: middle;\n",
              "    }\n",
              "\n",
              "    .dataframe tbody tr th {\n",
              "        vertical-align: top;\n",
              "    }\n",
              "\n",
              "    .dataframe thead th {\n",
              "        text-align: right;\n",
              "    }\n",
              "</style>\n",
              "<table border=\"1\" class=\"dataframe\">\n",
              "  <thead>\n",
              "    <tr style=\"text-align: right;\">\n",
              "      <th></th>\n",
              "      <th>display_name</th>\n",
              "      <th>count</th>\n",
              "    </tr>\n",
              "  </thead>\n",
              "  <tbody>\n",
              "    <tr>\n",
              "      <th>4</th>\n",
              "      <td>Alan</td>\n",
              "      <td>11</td>\n",
              "    </tr>\n",
              "    <tr>\n",
              "      <th>7</th>\n",
              "      <td>Brian</td>\n",
              "      <td>27</td>\n",
              "    </tr>\n",
              "    <tr>\n",
              "      <th>10</th>\n",
              "      <td>Chris</td>\n",
              "      <td>52</td>\n",
              "    </tr>\n",
              "    <tr>\n",
              "      <th>12</th>\n",
              "      <td>Craig</td>\n",
              "      <td>14</td>\n",
              "    </tr>\n",
              "    <tr>\n",
              "      <th>14</th>\n",
              "      <td>Dan</td>\n",
              "      <td>33</td>\n",
              "    </tr>\n",
              "    <tr>\n",
              "      <th>21</th>\n",
              "      <td>Greg</td>\n",
              "      <td>19</td>\n",
              "    </tr>\n",
              "    <tr>\n",
              "      <th>25</th>\n",
              "      <td>Jim</td>\n",
              "      <td>16</td>\n",
              "    </tr>\n",
              "    <tr>\n",
              "      <th>26</th>\n",
              "      <td>Joe</td>\n",
              "      <td>20</td>\n",
              "    </tr>\n",
              "    <tr>\n",
              "      <th>33</th>\n",
              "      <td>Josh</td>\n",
              "      <td>18</td>\n",
              "    </tr>\n",
              "    <tr>\n",
              "      <th>34</th>\n",
              "      <td>Keith</td>\n",
              "      <td>8</td>\n",
              "    </tr>\n",
              "    <tr>\n",
              "      <th>35</th>\n",
              "      <td>Kevin</td>\n",
              "      <td>23</td>\n",
              "    </tr>\n",
              "    <tr>\n",
              "      <th>41</th>\n",
              "      <td>Mark</td>\n",
              "      <td>32</td>\n",
              "    </tr>\n",
              "    <tr>\n",
              "      <th>45</th>\n",
              "      <td>Matt</td>\n",
              "      <td>47</td>\n",
              "    </tr>\n",
              "    <tr>\n",
              "      <th>50</th>\n",
              "      <td>Nick</td>\n",
              "      <td>28</td>\n",
              "    </tr>\n",
              "    <tr>\n",
              "      <th>52</th>\n",
              "      <td>Oli</td>\n",
              "      <td>3</td>\n",
              "    </tr>\n",
              "    <tr>\n",
              "      <th>56</th>\n",
              "      <td>Rob</td>\n",
              "      <td>27</td>\n",
              "    </tr>\n",
              "    <tr>\n",
              "      <th>59</th>\n",
              "      <td>Ryan</td>\n",
              "      <td>22</td>\n",
              "    </tr>\n",
              "    <tr>\n",
              "      <th>64</th>\n",
              "      <td>Tom</td>\n",
              "      <td>32</td>\n",
              "    </tr>\n",
              "    <tr>\n",
              "      <th>72</th>\n",
              "      <td>jfs</td>\n",
              "      <td>3</td>\n",
              "    </tr>\n",
              "  </tbody>\n",
              "</table>\n",
              "</div>\n",
              "      <button class=\"colab-df-convert\" onclick=\"convertToInteractive('df-c5b8a36a-db09-4fa2-9bf0-b503cc7d279f')\"\n",
              "              title=\"Convert this dataframe to an interactive table.\"\n",
              "              style=\"display:none;\">\n",
              "        \n",
              "  <svg xmlns=\"http://www.w3.org/2000/svg\" height=\"24px\"viewBox=\"0 0 24 24\"\n",
              "       width=\"24px\">\n",
              "    <path d=\"M0 0h24v24H0V0z\" fill=\"none\"/>\n",
              "    <path d=\"M18.56 5.44l.94 2.06.94-2.06 2.06-.94-2.06-.94-.94-2.06-.94 2.06-2.06.94zm-11 1L8.5 8.5l.94-2.06 2.06-.94-2.06-.94L8.5 2.5l-.94 2.06-2.06.94zm10 10l.94 2.06.94-2.06 2.06-.94-2.06-.94-.94-2.06-.94 2.06-2.06.94z\"/><path d=\"M17.41 7.96l-1.37-1.37c-.4-.4-.92-.59-1.43-.59-.52 0-1.04.2-1.43.59L10.3 9.45l-7.72 7.72c-.78.78-.78 2.05 0 2.83L4 21.41c.39.39.9.59 1.41.59.51 0 1.02-.2 1.41-.59l7.78-7.78 2.81-2.81c.8-.78.8-2.07 0-2.86zM5.41 20L4 18.59l7.72-7.72 1.47 1.35L5.41 20z\"/>\n",
              "  </svg>\n",
              "      </button>\n",
              "      \n",
              "  <style>\n",
              "    .colab-df-container {\n",
              "      display:flex;\n",
              "      flex-wrap:wrap;\n",
              "      gap: 12px;\n",
              "    }\n",
              "\n",
              "    .colab-df-convert {\n",
              "      background-color: #E8F0FE;\n",
              "      border: none;\n",
              "      border-radius: 50%;\n",
              "      cursor: pointer;\n",
              "      display: none;\n",
              "      fill: #1967D2;\n",
              "      height: 32px;\n",
              "      padding: 0 0 0 0;\n",
              "      width: 32px;\n",
              "    }\n",
              "\n",
              "    .colab-df-convert:hover {\n",
              "      background-color: #E2EBFA;\n",
              "      box-shadow: 0px 1px 2px rgba(60, 64, 67, 0.3), 0px 1px 3px 1px rgba(60, 64, 67, 0.15);\n",
              "      fill: #174EA6;\n",
              "    }\n",
              "\n",
              "    [theme=dark] .colab-df-convert {\n",
              "      background-color: #3B4455;\n",
              "      fill: #D2E3FC;\n",
              "    }\n",
              "\n",
              "    [theme=dark] .colab-df-convert:hover {\n",
              "      background-color: #434B5C;\n",
              "      box-shadow: 0px 1px 3px 1px rgba(0, 0, 0, 0.15);\n",
              "      filter: drop-shadow(0px 1px 2px rgba(0, 0, 0, 0.3));\n",
              "      fill: #FFFFFF;\n",
              "    }\n",
              "  </style>\n",
              "\n",
              "      <script>\n",
              "        const buttonEl =\n",
              "          document.querySelector('#df-c5b8a36a-db09-4fa2-9bf0-b503cc7d279f button.colab-df-convert');\n",
              "        buttonEl.style.display =\n",
              "          google.colab.kernel.accessAllowed ? 'block' : 'none';\n",
              "\n",
              "        async function convertToInteractive(key) {\n",
              "          const element = document.querySelector('#df-c5b8a36a-db09-4fa2-9bf0-b503cc7d279f');\n",
              "          const dataTable =\n",
              "            await google.colab.kernel.invokeFunction('convertToInteractive',\n",
              "                                                     [key], {});\n",
              "          if (!dataTable) return;\n",
              "\n",
              "          const docLinkHtml = 'Like what you see? Visit the ' +\n",
              "            '<a target=\"_blank\" href=https://colab.research.google.com/notebooks/data_table.ipynb>data table notebook</a>'\n",
              "            + ' to learn more about interactive tables.';\n",
              "          element.innerHTML = '';\n",
              "          dataTable['output_type'] = 'display_data';\n",
              "          await google.colab.output.renderOutput(dataTable, element);\n",
              "          const docLink = document.createElement('div');\n",
              "          docLink.innerHTML = docLinkHtml;\n",
              "          element.appendChild(docLink);\n",
              "        }\n",
              "      </script>\n",
              "    </div>\n",
              "  </div>\n",
              "  "
            ]
          },
          "metadata": {},
          "execution_count": 9
        }
      ],
      "source": [
        "sample_df.loc[sample_df['count'] > 1]"
      ]
    },
    {
      "cell_type": "markdown",
      "metadata": {
        "id": "YIqqc-7HDWKt"
      },
      "source": [
        "<details>\n",
        "\n",
        "<summary>Подсказка</summary>\n",
        "Вам нужно присоединить несколько таблиц — изучите внимательнее описание базы. Чтобы добавить промежуток времени к дате, используйте ключевое слово INTERVAL, например, так: <дата> + INTERVAL '1 year 2 months 3 days'\n",
        ".</details>"
      ]
    },
    {
      "cell_type": "markdown",
      "metadata": {
        "id": "I3Wr82TplKpI"
      },
      "source": [
        "Какие аномалии наблюдаются в данных? О чём они говорят?"
      ]
    },
    {
      "cell_type": "markdown",
      "metadata": {
        "id": "CEIGGQ6ODWKy"
      },
      "source": [
        "Поля count больше одного, это значит что для ряда записей display_name совпадает и display_name не уникальное поле. И поиск через имя не совсем коректен, необходимо искать через user_id."
      ]
    },
    {
      "cell_type": "markdown",
      "metadata": {
        "id": "JhM2xXj5DWKu"
      },
      "source": [
        "# Задание 3"
      ]
    },
    {
      "cell_type": "markdown",
      "metadata": {
        "id": "IS6xPqyyDWKu"
      },
      "source": [
        "Выведите количество постов за 2008 год по месяцам. Отберите посты от пользователей, которые зарегистрировались в сентябре 2008 года и сделали хотя бы один пост в декабре того же года. Отсортируйте таблицу по значению месяца по убыванию."
      ]
    },
    {
      "cell_type": "markdown",
      "metadata": {
        "id": "WmjhjV2xDWKv"
      },
      "source": [
        "| month | count |\n",
        "| ------|------ |\n",
        "| 2008-12-01 | 17641 |\n",
        "| 2008-11-01 | 18294 |\n",
        "| ... | ... |"
      ]
    },
    {
      "cell_type": "code",
      "execution_count": 10,
      "metadata": {
        "id": "kVu0FB8WDWKv",
        "colab": {
          "base_uri": "https://localhost:8080/",
          "height": 206
        },
        "outputId": "ffcfcc1b-50cc-4eff-d39b-8911bd897eeb"
      },
      "outputs": [
        {
          "output_type": "execute_result",
          "data": {
            "text/plain": [
              "   month_date  total_views\n",
              "0  2008-12-01        17641\n",
              "1  2008-11-01        18294\n",
              "2  2008-10-01        27171\n",
              "3  2008-09-01        24870\n",
              "4  2008-08-01           32"
            ],
            "text/html": [
              "\n",
              "  <div id=\"df-c7aaa3f0-e1e4-467e-8d44-af125e8bb4fb\">\n",
              "    <div class=\"colab-df-container\">\n",
              "      <div>\n",
              "<style scoped>\n",
              "    .dataframe tbody tr th:only-of-type {\n",
              "        vertical-align: middle;\n",
              "    }\n",
              "\n",
              "    .dataframe tbody tr th {\n",
              "        vertical-align: top;\n",
              "    }\n",
              "\n",
              "    .dataframe thead th {\n",
              "        text-align: right;\n",
              "    }\n",
              "</style>\n",
              "<table border=\"1\" class=\"dataframe\">\n",
              "  <thead>\n",
              "    <tr style=\"text-align: right;\">\n",
              "      <th></th>\n",
              "      <th>month_date</th>\n",
              "      <th>total_views</th>\n",
              "    </tr>\n",
              "  </thead>\n",
              "  <tbody>\n",
              "    <tr>\n",
              "      <th>0</th>\n",
              "      <td>2008-12-01</td>\n",
              "      <td>17641</td>\n",
              "    </tr>\n",
              "    <tr>\n",
              "      <th>1</th>\n",
              "      <td>2008-11-01</td>\n",
              "      <td>18294</td>\n",
              "    </tr>\n",
              "    <tr>\n",
              "      <th>2</th>\n",
              "      <td>2008-10-01</td>\n",
              "      <td>27171</td>\n",
              "    </tr>\n",
              "    <tr>\n",
              "      <th>3</th>\n",
              "      <td>2008-09-01</td>\n",
              "      <td>24870</td>\n",
              "    </tr>\n",
              "    <tr>\n",
              "      <th>4</th>\n",
              "      <td>2008-08-01</td>\n",
              "      <td>32</td>\n",
              "    </tr>\n",
              "  </tbody>\n",
              "</table>\n",
              "</div>\n",
              "      <button class=\"colab-df-convert\" onclick=\"convertToInteractive('df-c7aaa3f0-e1e4-467e-8d44-af125e8bb4fb')\"\n",
              "              title=\"Convert this dataframe to an interactive table.\"\n",
              "              style=\"display:none;\">\n",
              "        \n",
              "  <svg xmlns=\"http://www.w3.org/2000/svg\" height=\"24px\"viewBox=\"0 0 24 24\"\n",
              "       width=\"24px\">\n",
              "    <path d=\"M0 0h24v24H0V0z\" fill=\"none\"/>\n",
              "    <path d=\"M18.56 5.44l.94 2.06.94-2.06 2.06-.94-2.06-.94-.94-2.06-.94 2.06-2.06.94zm-11 1L8.5 8.5l.94-2.06 2.06-.94-2.06-.94L8.5 2.5l-.94 2.06-2.06.94zm10 10l.94 2.06.94-2.06 2.06-.94-2.06-.94-.94-2.06-.94 2.06-2.06.94z\"/><path d=\"M17.41 7.96l-1.37-1.37c-.4-.4-.92-.59-1.43-.59-.52 0-1.04.2-1.43.59L10.3 9.45l-7.72 7.72c-.78.78-.78 2.05 0 2.83L4 21.41c.39.39.9.59 1.41.59.51 0 1.02-.2 1.41-.59l7.78-7.78 2.81-2.81c.8-.78.8-2.07 0-2.86zM5.41 20L4 18.59l7.72-7.72 1.47 1.35L5.41 20z\"/>\n",
              "  </svg>\n",
              "      </button>\n",
              "      \n",
              "  <style>\n",
              "    .colab-df-container {\n",
              "      display:flex;\n",
              "      flex-wrap:wrap;\n",
              "      gap: 12px;\n",
              "    }\n",
              "\n",
              "    .colab-df-convert {\n",
              "      background-color: #E8F0FE;\n",
              "      border: none;\n",
              "      border-radius: 50%;\n",
              "      cursor: pointer;\n",
              "      display: none;\n",
              "      fill: #1967D2;\n",
              "      height: 32px;\n",
              "      padding: 0 0 0 0;\n",
              "      width: 32px;\n",
              "    }\n",
              "\n",
              "    .colab-df-convert:hover {\n",
              "      background-color: #E2EBFA;\n",
              "      box-shadow: 0px 1px 2px rgba(60, 64, 67, 0.3), 0px 1px 3px 1px rgba(60, 64, 67, 0.15);\n",
              "      fill: #174EA6;\n",
              "    }\n",
              "\n",
              "    [theme=dark] .colab-df-convert {\n",
              "      background-color: #3B4455;\n",
              "      fill: #D2E3FC;\n",
              "    }\n",
              "\n",
              "    [theme=dark] .colab-df-convert:hover {\n",
              "      background-color: #434B5C;\n",
              "      box-shadow: 0px 1px 3px 1px rgba(0, 0, 0, 0.15);\n",
              "      filter: drop-shadow(0px 1px 2px rgba(0, 0, 0, 0.3));\n",
              "      fill: #FFFFFF;\n",
              "    }\n",
              "  </style>\n",
              "\n",
              "      <script>\n",
              "        const buttonEl =\n",
              "          document.querySelector('#df-c7aaa3f0-e1e4-467e-8d44-af125e8bb4fb button.colab-df-convert');\n",
              "        buttonEl.style.display =\n",
              "          google.colab.kernel.accessAllowed ? 'block' : 'none';\n",
              "\n",
              "        async function convertToInteractive(key) {\n",
              "          const element = document.querySelector('#df-c7aaa3f0-e1e4-467e-8d44-af125e8bb4fb');\n",
              "          const dataTable =\n",
              "            await google.colab.kernel.invokeFunction('convertToInteractive',\n",
              "                                                     [key], {});\n",
              "          if (!dataTable) return;\n",
              "\n",
              "          const docLinkHtml = 'Like what you see? Visit the ' +\n",
              "            '<a target=\"_blank\" href=https://colab.research.google.com/notebooks/data_table.ipynb>data table notebook</a>'\n",
              "            + ' to learn more about interactive tables.';\n",
              "          element.innerHTML = '';\n",
              "          dataTable['output_type'] = 'display_data';\n",
              "          await google.colab.output.renderOutput(dataTable, element);\n",
              "          const docLink = document.createElement('div');\n",
              "          docLink.innerHTML = docLinkHtml;\n",
              "          element.appendChild(docLink);\n",
              "        }\n",
              "      </script>\n",
              "    </div>\n",
              "  </div>\n",
              "  "
            ]
          },
          "metadata": {},
          "execution_count": 10
        }
      ],
      "source": [
        "# напишите запрос\n",
        "query = '''\n",
        "SELECT DATE_TRUNC('MONTH', p.creation_date)::date AS month_date,\n",
        "    count(p.id) AS total_views\n",
        "FROM stackoverflow.posts AS p\n",
        "WHERE user_id in (\n",
        "    SELECT distinct u.id\n",
        "    FROM stackoverflow.posts AS p\n",
        "    INNER JOIN stackoverflow.users AS u ON u.id = p.user_id\n",
        "    WHERE DATE_TRUNC('MONTH', u.creation_date)::date = '2008-09-01' \n",
        "        AND DATE_TRUNC('MONTH', p.creation_date)::date = '2008-12-01'\n",
        ")\n",
        "GROUP BY DATE_TRUNC('MONTH', p.creation_date)::date\n",
        "ORDER BY month_date DESC\n",
        "'''\n",
        "pd.read_sql_query(text(query), con=conn)\n",
        "# выполните запрос"
      ]
    },
    {
      "cell_type": "markdown",
      "metadata": {
        "id": "nWf0JsTMDWKx"
      },
      "source": [
        "<details>\n",
        "\n",
        "<summary>Подсказка</summary>\n",
        "Сначала найдите идентификаторы пользователей, которые зарегистрировались в сентябре 2008 года и оставили хотя бы один пост в декабре. Затем используйте результат для среза и посчитайте посты по месяцам.</details>"
      ]
    },
    {
      "cell_type": "markdown",
      "metadata": {
        "id": "Vnxn9DVHDWKx"
      },
      "source": [
        "Изучите данные: есть ли в них аномалии? Предположите, почему могли появиться аномальные значения."
      ]
    },
    {
      "cell_type": "markdown",
      "metadata": {
        "id": "MMVIz4yMlKpN"
      },
      "source": [
        "Есть 32 записи в августе, хотя пользователи не были зарегистрированы в это время. Есть возможных причины.\n",
        "- Время регистрации пользователя и время создание поста происходить по разным часовым поясам, регистрация может быть местному времени, а регистрация поста по серверному, например человек из Европы регистрируется у него уже сентябрь, и сразу публикует пост, и пост регистрируется по времени США и оно еще в августе.\n",
        "- Эта причина маловероятно но, id_users были присвоены из старого пула, и посты других пользователей записались на новых."
      ]
    },
    {
      "cell_type": "markdown",
      "metadata": {
        "id": "5Pcizm0DDWKz"
      },
      "source": [
        "# Задание 4"
      ]
    },
    {
      "cell_type": "markdown",
      "metadata": {
        "id": "KUZPF6vHDWKz"
      },
      "source": [
        "Используя данные о постах, выведите несколько полей:\n",
        "\n",
        "- идентификатор пользователя, который написал пост;\n",
        "- дата создания поста;\n",
        "- количество просмотров у текущего поста;\n",
        "- сумму просмотров постов автора с накоплением.\n",
        "\n",
        "Данные в таблице должны быть отсортированы по возрастанию идентификаторов пользователей, а данные об одном и том же пользователе — по возрастанию даты создания поста."
      ]
    },
    {
      "cell_type": "markdown",
      "metadata": {
        "id": "ZpsTUVDYDWK0"
      },
      "source": [
        "| user_id | creation_date | views_count | cumulative_count |\n",
        "| ------ | -------------- | ----------- | ---------------- |\n",
        "| 1 | 2008-07-31 23:41:00  | 480476   | 480476  |\n",
        "| 1 | 2008-07-31 23:55:38  | 136033 | 616509  | \n",
        "| 1 | 2008-07-31 23:56:41  | 0 |  616509  |\n",
        "| ... | ... | ... | ... |\n",
        "| 2 | 2008-07-31 23:56:41 | 79087  | 79087 |\n",
        "| 2 | 2008-08-01 05:09:56 | 65443 | 144530 |\n",
        "| ... | ...  | ...  | ...  |"
      ]
    },
    {
      "cell_type": "code",
      "execution_count": 11,
      "metadata": {
        "id": "hDoJhMzfDWK0",
        "colab": {
          "base_uri": "https://localhost:8080/",
          "height": 424
        },
        "outputId": "e2fdc717-b5a4-4937-84ec-8dadabebddcd"
      },
      "outputs": [
        {
          "output_type": "execute_result",
          "data": {
            "text/plain": [
              "        user_id       creation_date  views_count  cumulative_count\n",
              "0             1 2008-07-31 23:41:00       480476            480476\n",
              "1             1 2008-07-31 23:55:38       136033            616509\n",
              "2             1 2008-07-31 23:56:41            0            616509\n",
              "3             1 2008-08-04 02:45:08            0            616509\n",
              "4             1 2008-08-04 04:31:03            0            616509\n",
              "...         ...                 ...          ...               ...\n",
              "243791  5696608 2008-12-23 16:00:37            0              2804\n",
              "243792  5696608 2008-12-23 17:35:09            0              2804\n",
              "243793  5696608 2008-12-24 01:02:48            0              2804\n",
              "243794  5696608 2008-12-30 14:34:45            0              2804\n",
              "243795  5696608 2008-12-30 16:32:12            0              2804\n",
              "\n",
              "[243796 rows x 4 columns]"
            ],
            "text/html": [
              "\n",
              "  <div id=\"df-8fbfcd46-7775-47a3-8bc1-ea20207c4639\">\n",
              "    <div class=\"colab-df-container\">\n",
              "      <div>\n",
              "<style scoped>\n",
              "    .dataframe tbody tr th:only-of-type {\n",
              "        vertical-align: middle;\n",
              "    }\n",
              "\n",
              "    .dataframe tbody tr th {\n",
              "        vertical-align: top;\n",
              "    }\n",
              "\n",
              "    .dataframe thead th {\n",
              "        text-align: right;\n",
              "    }\n",
              "</style>\n",
              "<table border=\"1\" class=\"dataframe\">\n",
              "  <thead>\n",
              "    <tr style=\"text-align: right;\">\n",
              "      <th></th>\n",
              "      <th>user_id</th>\n",
              "      <th>creation_date</th>\n",
              "      <th>views_count</th>\n",
              "      <th>cumulative_count</th>\n",
              "    </tr>\n",
              "  </thead>\n",
              "  <tbody>\n",
              "    <tr>\n",
              "      <th>0</th>\n",
              "      <td>1</td>\n",
              "      <td>2008-07-31 23:41:00</td>\n",
              "      <td>480476</td>\n",
              "      <td>480476</td>\n",
              "    </tr>\n",
              "    <tr>\n",
              "      <th>1</th>\n",
              "      <td>1</td>\n",
              "      <td>2008-07-31 23:55:38</td>\n",
              "      <td>136033</td>\n",
              "      <td>616509</td>\n",
              "    </tr>\n",
              "    <tr>\n",
              "      <th>2</th>\n",
              "      <td>1</td>\n",
              "      <td>2008-07-31 23:56:41</td>\n",
              "      <td>0</td>\n",
              "      <td>616509</td>\n",
              "    </tr>\n",
              "    <tr>\n",
              "      <th>3</th>\n",
              "      <td>1</td>\n",
              "      <td>2008-08-04 02:45:08</td>\n",
              "      <td>0</td>\n",
              "      <td>616509</td>\n",
              "    </tr>\n",
              "    <tr>\n",
              "      <th>4</th>\n",
              "      <td>1</td>\n",
              "      <td>2008-08-04 04:31:03</td>\n",
              "      <td>0</td>\n",
              "      <td>616509</td>\n",
              "    </tr>\n",
              "    <tr>\n",
              "      <th>...</th>\n",
              "      <td>...</td>\n",
              "      <td>...</td>\n",
              "      <td>...</td>\n",
              "      <td>...</td>\n",
              "    </tr>\n",
              "    <tr>\n",
              "      <th>243791</th>\n",
              "      <td>5696608</td>\n",
              "      <td>2008-12-23 16:00:37</td>\n",
              "      <td>0</td>\n",
              "      <td>2804</td>\n",
              "    </tr>\n",
              "    <tr>\n",
              "      <th>243792</th>\n",
              "      <td>5696608</td>\n",
              "      <td>2008-12-23 17:35:09</td>\n",
              "      <td>0</td>\n",
              "      <td>2804</td>\n",
              "    </tr>\n",
              "    <tr>\n",
              "      <th>243793</th>\n",
              "      <td>5696608</td>\n",
              "      <td>2008-12-24 01:02:48</td>\n",
              "      <td>0</td>\n",
              "      <td>2804</td>\n",
              "    </tr>\n",
              "    <tr>\n",
              "      <th>243794</th>\n",
              "      <td>5696608</td>\n",
              "      <td>2008-12-30 14:34:45</td>\n",
              "      <td>0</td>\n",
              "      <td>2804</td>\n",
              "    </tr>\n",
              "    <tr>\n",
              "      <th>243795</th>\n",
              "      <td>5696608</td>\n",
              "      <td>2008-12-30 16:32:12</td>\n",
              "      <td>0</td>\n",
              "      <td>2804</td>\n",
              "    </tr>\n",
              "  </tbody>\n",
              "</table>\n",
              "<p>243796 rows × 4 columns</p>\n",
              "</div>\n",
              "      <button class=\"colab-df-convert\" onclick=\"convertToInteractive('df-8fbfcd46-7775-47a3-8bc1-ea20207c4639')\"\n",
              "              title=\"Convert this dataframe to an interactive table.\"\n",
              "              style=\"display:none;\">\n",
              "        \n",
              "  <svg xmlns=\"http://www.w3.org/2000/svg\" height=\"24px\"viewBox=\"0 0 24 24\"\n",
              "       width=\"24px\">\n",
              "    <path d=\"M0 0h24v24H0V0z\" fill=\"none\"/>\n",
              "    <path d=\"M18.56 5.44l.94 2.06.94-2.06 2.06-.94-2.06-.94-.94-2.06-.94 2.06-2.06.94zm-11 1L8.5 8.5l.94-2.06 2.06-.94-2.06-.94L8.5 2.5l-.94 2.06-2.06.94zm10 10l.94 2.06.94-2.06 2.06-.94-2.06-.94-.94-2.06-.94 2.06-2.06.94z\"/><path d=\"M17.41 7.96l-1.37-1.37c-.4-.4-.92-.59-1.43-.59-.52 0-1.04.2-1.43.59L10.3 9.45l-7.72 7.72c-.78.78-.78 2.05 0 2.83L4 21.41c.39.39.9.59 1.41.59.51 0 1.02-.2 1.41-.59l7.78-7.78 2.81-2.81c.8-.78.8-2.07 0-2.86zM5.41 20L4 18.59l7.72-7.72 1.47 1.35L5.41 20z\"/>\n",
              "  </svg>\n",
              "      </button>\n",
              "      \n",
              "  <style>\n",
              "    .colab-df-container {\n",
              "      display:flex;\n",
              "      flex-wrap:wrap;\n",
              "      gap: 12px;\n",
              "    }\n",
              "\n",
              "    .colab-df-convert {\n",
              "      background-color: #E8F0FE;\n",
              "      border: none;\n",
              "      border-radius: 50%;\n",
              "      cursor: pointer;\n",
              "      display: none;\n",
              "      fill: #1967D2;\n",
              "      height: 32px;\n",
              "      padding: 0 0 0 0;\n",
              "      width: 32px;\n",
              "    }\n",
              "\n",
              "    .colab-df-convert:hover {\n",
              "      background-color: #E2EBFA;\n",
              "      box-shadow: 0px 1px 2px rgba(60, 64, 67, 0.3), 0px 1px 3px 1px rgba(60, 64, 67, 0.15);\n",
              "      fill: #174EA6;\n",
              "    }\n",
              "\n",
              "    [theme=dark] .colab-df-convert {\n",
              "      background-color: #3B4455;\n",
              "      fill: #D2E3FC;\n",
              "    }\n",
              "\n",
              "    [theme=dark] .colab-df-convert:hover {\n",
              "      background-color: #434B5C;\n",
              "      box-shadow: 0px 1px 3px 1px rgba(0, 0, 0, 0.15);\n",
              "      filter: drop-shadow(0px 1px 2px rgba(0, 0, 0, 0.3));\n",
              "      fill: #FFFFFF;\n",
              "    }\n",
              "  </style>\n",
              "\n",
              "      <script>\n",
              "        const buttonEl =\n",
              "          document.querySelector('#df-8fbfcd46-7775-47a3-8bc1-ea20207c4639 button.colab-df-convert');\n",
              "        buttonEl.style.display =\n",
              "          google.colab.kernel.accessAllowed ? 'block' : 'none';\n",
              "\n",
              "        async function convertToInteractive(key) {\n",
              "          const element = document.querySelector('#df-8fbfcd46-7775-47a3-8bc1-ea20207c4639');\n",
              "          const dataTable =\n",
              "            await google.colab.kernel.invokeFunction('convertToInteractive',\n",
              "                                                     [key], {});\n",
              "          if (!dataTable) return;\n",
              "\n",
              "          const docLinkHtml = 'Like what you see? Visit the ' +\n",
              "            '<a target=\"_blank\" href=https://colab.research.google.com/notebooks/data_table.ipynb>data table notebook</a>'\n",
              "            + ' to learn more about interactive tables.';\n",
              "          element.innerHTML = '';\n",
              "          dataTable['output_type'] = 'display_data';\n",
              "          await google.colab.output.renderOutput(dataTable, element);\n",
              "          const docLink = document.createElement('div');\n",
              "          docLink.innerHTML = docLinkHtml;\n",
              "          element.appendChild(docLink);\n",
              "        }\n",
              "      </script>\n",
              "    </div>\n",
              "  </div>\n",
              "  "
            ]
          },
          "metadata": {},
          "execution_count": 11
        }
      ],
      "source": [
        "# напишите запрос\n",
        "query = '''\n",
        "SELECT user_id,\n",
        "    creation_date,\n",
        "    views_count,\n",
        "    SUM(views_count) OVER (PARTITION BY user_id ORDER BY user_id, creation_date) AS cumulative_count\n",
        "FROM stackoverflow.posts\n",
        "'''\n",
        "\n",
        "# выполните запрос\n",
        "pd.read_sql_query(text(query), con=conn)"
      ]
    },
    {
      "cell_type": "markdown",
      "metadata": {
        "id": "toidOivXDWK1"
      },
      "source": [
        "<details>\n",
        "\n",
        "<summary>Подсказка</summary>\n",
        "Для подсчёта суммы с накоплением используйте оконную функцию.\n",
        "</details>"
      ]
    },
    {
      "cell_type": "markdown",
      "metadata": {
        "id": "N0kHRHvIDWK2"
      },
      "source": [
        "# Задание 5"
      ]
    },
    {
      "cell_type": "markdown",
      "metadata": {
        "id": "gBgvmPtODWK2"
      },
      "source": [
        "Найдите среднее количество постов пользователей в день за август 2008 года. Отберите данные о пользователях, которые опубликовали больше 120 постов за август. Дни без публикаций не учитывайте. \n",
        "\n",
        "Отсортируйте результат по возрастанию среднего количества постов. Значения можно не округлять."
      ]
    },
    {
      "cell_type": "markdown",
      "metadata": {
        "id": "nfzR08BODWK3"
      },
      "source": [
        "| user_id | avg_daily |\n",
        "| ------- | --------- |\n",
        "| 116     | 4.777778  |\n",
        "| 234     | 5.208333  |\n",
        "| ...     | ... |"
      ]
    },
    {
      "cell_type": "code",
      "execution_count": 12,
      "metadata": {
        "id": "YFyPNz5GDWK3",
        "colab": {
          "base_uri": "https://localhost:8080/",
          "height": 206
        },
        "outputId": "74fb472a-dc5e-4ffd-a591-702464f3c664"
      },
      "outputs": [
        {
          "output_type": "execute_result",
          "data": {
            "text/plain": [
              "   user_id  avg_daily\n",
              "0      116   4.777778\n",
              "1      234   5.208333\n",
              "2       91   5.681818\n",
              "3      905   7.000000\n",
              "4      383   7.277778"
            ],
            "text/html": [
              "\n",
              "  <div id=\"df-c8042825-c68d-4db0-a9d7-1c6a90acab78\">\n",
              "    <div class=\"colab-df-container\">\n",
              "      <div>\n",
              "<style scoped>\n",
              "    .dataframe tbody tr th:only-of-type {\n",
              "        vertical-align: middle;\n",
              "    }\n",
              "\n",
              "    .dataframe tbody tr th {\n",
              "        vertical-align: top;\n",
              "    }\n",
              "\n",
              "    .dataframe thead th {\n",
              "        text-align: right;\n",
              "    }\n",
              "</style>\n",
              "<table border=\"1\" class=\"dataframe\">\n",
              "  <thead>\n",
              "    <tr style=\"text-align: right;\">\n",
              "      <th></th>\n",
              "      <th>user_id</th>\n",
              "      <th>avg_daily</th>\n",
              "    </tr>\n",
              "  </thead>\n",
              "  <tbody>\n",
              "    <tr>\n",
              "      <th>0</th>\n",
              "      <td>116</td>\n",
              "      <td>4.777778</td>\n",
              "    </tr>\n",
              "    <tr>\n",
              "      <th>1</th>\n",
              "      <td>234</td>\n",
              "      <td>5.208333</td>\n",
              "    </tr>\n",
              "    <tr>\n",
              "      <th>2</th>\n",
              "      <td>91</td>\n",
              "      <td>5.681818</td>\n",
              "    </tr>\n",
              "    <tr>\n",
              "      <th>3</th>\n",
              "      <td>905</td>\n",
              "      <td>7.000000</td>\n",
              "    </tr>\n",
              "    <tr>\n",
              "      <th>4</th>\n",
              "      <td>383</td>\n",
              "      <td>7.277778</td>\n",
              "    </tr>\n",
              "  </tbody>\n",
              "</table>\n",
              "</div>\n",
              "      <button class=\"colab-df-convert\" onclick=\"convertToInteractive('df-c8042825-c68d-4db0-a9d7-1c6a90acab78')\"\n",
              "              title=\"Convert this dataframe to an interactive table.\"\n",
              "              style=\"display:none;\">\n",
              "        \n",
              "  <svg xmlns=\"http://www.w3.org/2000/svg\" height=\"24px\"viewBox=\"0 0 24 24\"\n",
              "       width=\"24px\">\n",
              "    <path d=\"M0 0h24v24H0V0z\" fill=\"none\"/>\n",
              "    <path d=\"M18.56 5.44l.94 2.06.94-2.06 2.06-.94-2.06-.94-.94-2.06-.94 2.06-2.06.94zm-11 1L8.5 8.5l.94-2.06 2.06-.94-2.06-.94L8.5 2.5l-.94 2.06-2.06.94zm10 10l.94 2.06.94-2.06 2.06-.94-2.06-.94-.94-2.06-.94 2.06-2.06.94z\"/><path d=\"M17.41 7.96l-1.37-1.37c-.4-.4-.92-.59-1.43-.59-.52 0-1.04.2-1.43.59L10.3 9.45l-7.72 7.72c-.78.78-.78 2.05 0 2.83L4 21.41c.39.39.9.59 1.41.59.51 0 1.02-.2 1.41-.59l7.78-7.78 2.81-2.81c.8-.78.8-2.07 0-2.86zM5.41 20L4 18.59l7.72-7.72 1.47 1.35L5.41 20z\"/>\n",
              "  </svg>\n",
              "      </button>\n",
              "      \n",
              "  <style>\n",
              "    .colab-df-container {\n",
              "      display:flex;\n",
              "      flex-wrap:wrap;\n",
              "      gap: 12px;\n",
              "    }\n",
              "\n",
              "    .colab-df-convert {\n",
              "      background-color: #E8F0FE;\n",
              "      border: none;\n",
              "      border-radius: 50%;\n",
              "      cursor: pointer;\n",
              "      display: none;\n",
              "      fill: #1967D2;\n",
              "      height: 32px;\n",
              "      padding: 0 0 0 0;\n",
              "      width: 32px;\n",
              "    }\n",
              "\n",
              "    .colab-df-convert:hover {\n",
              "      background-color: #E2EBFA;\n",
              "      box-shadow: 0px 1px 2px rgba(60, 64, 67, 0.3), 0px 1px 3px 1px rgba(60, 64, 67, 0.15);\n",
              "      fill: #174EA6;\n",
              "    }\n",
              "\n",
              "    [theme=dark] .colab-df-convert {\n",
              "      background-color: #3B4455;\n",
              "      fill: #D2E3FC;\n",
              "    }\n",
              "\n",
              "    [theme=dark] .colab-df-convert:hover {\n",
              "      background-color: #434B5C;\n",
              "      box-shadow: 0px 1px 3px 1px rgba(0, 0, 0, 0.15);\n",
              "      filter: drop-shadow(0px 1px 2px rgba(0, 0, 0, 0.3));\n",
              "      fill: #FFFFFF;\n",
              "    }\n",
              "  </style>\n",
              "\n",
              "      <script>\n",
              "        const buttonEl =\n",
              "          document.querySelector('#df-c8042825-c68d-4db0-a9d7-1c6a90acab78 button.colab-df-convert');\n",
              "        buttonEl.style.display =\n",
              "          google.colab.kernel.accessAllowed ? 'block' : 'none';\n",
              "\n",
              "        async function convertToInteractive(key) {\n",
              "          const element = document.querySelector('#df-c8042825-c68d-4db0-a9d7-1c6a90acab78');\n",
              "          const dataTable =\n",
              "            await google.colab.kernel.invokeFunction('convertToInteractive',\n",
              "                                                     [key], {});\n",
              "          if (!dataTable) return;\n",
              "\n",
              "          const docLinkHtml = 'Like what you see? Visit the ' +\n",
              "            '<a target=\"_blank\" href=https://colab.research.google.com/notebooks/data_table.ipynb>data table notebook</a>'\n",
              "            + ' to learn more about interactive tables.';\n",
              "          element.innerHTML = '';\n",
              "          dataTable['output_type'] = 'display_data';\n",
              "          await google.colab.output.renderOutput(dataTable, element);\n",
              "          const docLink = document.createElement('div');\n",
              "          docLink.innerHTML = docLinkHtml;\n",
              "          element.appendChild(docLink);\n",
              "        }\n",
              "      </script>\n",
              "    </div>\n",
              "  </div>\n",
              "  "
            ]
          },
          "metadata": {},
          "execution_count": 12
        }
      ],
      "source": [
        "# напишите запрос\n",
        "query = '''\n",
        "WITH t1 AS (\n",
        "SELECT user_id,\n",
        "       creation_date::date AS day,\n",
        "       count(id) AS day_count\n",
        "FROM stackoverflow.posts\n",
        "WHERE creation_date::date >= '2008-08-01' AND  creation_date::date <= '2008-08-31'\n",
        "GROUP BY user_id, creation_date::date)\n",
        "\n",
        "SELECT user_id, \n",
        "    AVG(day_count) AS avg_daily\n",
        "FROM t1\n",
        "GROUP BY user_id\n",
        "HAVING SUM(day_count) >120\n",
        "ORDER BY avg_daily\n",
        "'''\n",
        "\n",
        "# выполните запрос\n",
        "pd.read_sql_query(text(query), con=conn)"
      ]
    },
    {
      "cell_type": "markdown",
      "metadata": {
        "id": "5Gs8kiJvDWK4"
      },
      "source": [
        "<details>\n",
        "\n",
        "<summary>Подсказка</summary>\n",
        "Сначала найдите идентификаторы пользователей, которые написали более 120 постов за август. Используя этот запрос в качестве подзапроса для среза, найдите и сохраните во временную таблицу идентификаторы нужных пользователей, дни августа и количество постов в день. В основном запросе сгруппируйте данные по пользователям и найдите для каждого из них среднее количество постов.\n",
        "</details>"
      ]
    },
    {
      "cell_type": "markdown",
      "metadata": {
        "id": "EQ0dcFH4DWK5"
      },
      "source": [
        "# Задание 6"
      ]
    },
    {
      "cell_type": "markdown",
      "metadata": {
        "id": "c7flfg_hDWK5"
      },
      "source": [
        "Сколько в среднем дней в период с 1 по 7 декабря 2008 года пользователи взаимодействовали с платформой? Для каждого пользователя отберите дни, в которые он или она опубликовали хотя бы один пост. Нужно получить одно целое число — не забудьте округлить результат. "
      ]
    },
    {
      "cell_type": "markdown",
      "metadata": {
        "id": "RC1Ibzm9DWK6"
      },
      "source": [
        "| result |\n",
        "| -----  |\n",
        "| <целое число> |"
      ]
    },
    {
      "cell_type": "code",
      "execution_count": 13,
      "metadata": {
        "id": "kZ7LXTr6DWK6",
        "colab": {
          "base_uri": "https://localhost:8080/",
          "height": 81
        },
        "outputId": "5a89cd3e-7908-4e03-adb1-c6a94ce2f9ea"
      },
      "outputs": [
        {
          "output_type": "execute_result",
          "data": {
            "text/plain": [
              "   result\n",
              "0     2.0"
            ],
            "text/html": [
              "\n",
              "  <div id=\"df-cf0ecc95-b78d-4621-9395-19b40c200fb7\">\n",
              "    <div class=\"colab-df-container\">\n",
              "      <div>\n",
              "<style scoped>\n",
              "    .dataframe tbody tr th:only-of-type {\n",
              "        vertical-align: middle;\n",
              "    }\n",
              "\n",
              "    .dataframe tbody tr th {\n",
              "        vertical-align: top;\n",
              "    }\n",
              "\n",
              "    .dataframe thead th {\n",
              "        text-align: right;\n",
              "    }\n",
              "</style>\n",
              "<table border=\"1\" class=\"dataframe\">\n",
              "  <thead>\n",
              "    <tr style=\"text-align: right;\">\n",
              "      <th></th>\n",
              "      <th>result</th>\n",
              "    </tr>\n",
              "  </thead>\n",
              "  <tbody>\n",
              "    <tr>\n",
              "      <th>0</th>\n",
              "      <td>2.0</td>\n",
              "    </tr>\n",
              "  </tbody>\n",
              "</table>\n",
              "</div>\n",
              "      <button class=\"colab-df-convert\" onclick=\"convertToInteractive('df-cf0ecc95-b78d-4621-9395-19b40c200fb7')\"\n",
              "              title=\"Convert this dataframe to an interactive table.\"\n",
              "              style=\"display:none;\">\n",
              "        \n",
              "  <svg xmlns=\"http://www.w3.org/2000/svg\" height=\"24px\"viewBox=\"0 0 24 24\"\n",
              "       width=\"24px\">\n",
              "    <path d=\"M0 0h24v24H0V0z\" fill=\"none\"/>\n",
              "    <path d=\"M18.56 5.44l.94 2.06.94-2.06 2.06-.94-2.06-.94-.94-2.06-.94 2.06-2.06.94zm-11 1L8.5 8.5l.94-2.06 2.06-.94-2.06-.94L8.5 2.5l-.94 2.06-2.06.94zm10 10l.94 2.06.94-2.06 2.06-.94-2.06-.94-.94-2.06-.94 2.06-2.06.94z\"/><path d=\"M17.41 7.96l-1.37-1.37c-.4-.4-.92-.59-1.43-.59-.52 0-1.04.2-1.43.59L10.3 9.45l-7.72 7.72c-.78.78-.78 2.05 0 2.83L4 21.41c.39.39.9.59 1.41.59.51 0 1.02-.2 1.41-.59l7.78-7.78 2.81-2.81c.8-.78.8-2.07 0-2.86zM5.41 20L4 18.59l7.72-7.72 1.47 1.35L5.41 20z\"/>\n",
              "  </svg>\n",
              "      </button>\n",
              "      \n",
              "  <style>\n",
              "    .colab-df-container {\n",
              "      display:flex;\n",
              "      flex-wrap:wrap;\n",
              "      gap: 12px;\n",
              "    }\n",
              "\n",
              "    .colab-df-convert {\n",
              "      background-color: #E8F0FE;\n",
              "      border: none;\n",
              "      border-radius: 50%;\n",
              "      cursor: pointer;\n",
              "      display: none;\n",
              "      fill: #1967D2;\n",
              "      height: 32px;\n",
              "      padding: 0 0 0 0;\n",
              "      width: 32px;\n",
              "    }\n",
              "\n",
              "    .colab-df-convert:hover {\n",
              "      background-color: #E2EBFA;\n",
              "      box-shadow: 0px 1px 2px rgba(60, 64, 67, 0.3), 0px 1px 3px 1px rgba(60, 64, 67, 0.15);\n",
              "      fill: #174EA6;\n",
              "    }\n",
              "\n",
              "    [theme=dark] .colab-df-convert {\n",
              "      background-color: #3B4455;\n",
              "      fill: #D2E3FC;\n",
              "    }\n",
              "\n",
              "    [theme=dark] .colab-df-convert:hover {\n",
              "      background-color: #434B5C;\n",
              "      box-shadow: 0px 1px 3px 1px rgba(0, 0, 0, 0.15);\n",
              "      filter: drop-shadow(0px 1px 2px rgba(0, 0, 0, 0.3));\n",
              "      fill: #FFFFFF;\n",
              "    }\n",
              "  </style>\n",
              "\n",
              "      <script>\n",
              "        const buttonEl =\n",
              "          document.querySelector('#df-cf0ecc95-b78d-4621-9395-19b40c200fb7 button.colab-df-convert');\n",
              "        buttonEl.style.display =\n",
              "          google.colab.kernel.accessAllowed ? 'block' : 'none';\n",
              "\n",
              "        async function convertToInteractive(key) {\n",
              "          const element = document.querySelector('#df-cf0ecc95-b78d-4621-9395-19b40c200fb7');\n",
              "          const dataTable =\n",
              "            await google.colab.kernel.invokeFunction('convertToInteractive',\n",
              "                                                     [key], {});\n",
              "          if (!dataTable) return;\n",
              "\n",
              "          const docLinkHtml = 'Like what you see? Visit the ' +\n",
              "            '<a target=\"_blank\" href=https://colab.research.google.com/notebooks/data_table.ipynb>data table notebook</a>'\n",
              "            + ' to learn more about interactive tables.';\n",
              "          element.innerHTML = '';\n",
              "          dataTable['output_type'] = 'display_data';\n",
              "          await google.colab.output.renderOutput(dataTable, element);\n",
              "          const docLink = document.createElement('div');\n",
              "          docLink.innerHTML = docLinkHtml;\n",
              "          element.appendChild(docLink);\n",
              "        }\n",
              "      </script>\n",
              "    </div>\n",
              "  </div>\n",
              "  "
            ]
          },
          "metadata": {},
          "execution_count": 13
        }
      ],
      "source": [
        "# напишите запрос\n",
        "query = '''\n",
        "WITH T1 AS (\n",
        "\n",
        "SELECT user_id,\n",
        "    creation_date::date AS date,\n",
        "    DENSE_RANK() OVER (PARTITION BY user_id ORDER BY creation_date::date) as day_number\n",
        "FROM stackoverflow.posts\n",
        "WHERE creation_date::date >= '2008-12-01' AND  creation_date::date <= '2008-12-07'\n",
        "),\n",
        "\n",
        "T2 AS (\n",
        "SELECT DISTINCT user_id,\n",
        "    LAST_VALUE(day_number) OVER \n",
        "        (PARTITION BY user_id ORDER BY day_number ROWS BETWEEN UNBOUNDED PRECEDING AND UNBOUNDED FOLLOWING) AS day_number\n",
        "FROM T1)    \n",
        "\n",
        "SELECT ROUND(AVG(day_number), 0) AS result\n",
        "FROM T2\n",
        "'''\n",
        "\n",
        "# выполните запрос\n",
        "pd.read_sql_query(text(query), con=conn)"
      ]
    },
    {
      "cell_type": "markdown",
      "metadata": {
        "id": "2K5G3xuBDWK7"
      },
      "source": [
        "<details>\n",
        "\n",
        "<summary>Подсказка</summary>\n",
        "Посчитайте, сколько активных дней было у каждого пользователя. Добавьте данные во временную таблицу и используйте в основном запросе.\n",
        "</details>"
      ]
    },
    {
      "cell_type": "markdown",
      "metadata": {
        "id": "UJFtNNggDWK7"
      },
      "source": [
        "Проанализируйте итоговую таблицу — какие выводы можно сделать?"
      ]
    },
    {
      "cell_type": "markdown",
      "metadata": {
        "id": "LfUuYz-1DWK8"
      },
      "source": [
        "Пользовали в среднем заходя два дня из 7 (недели), не так уж часто для соц. сети."
      ]
    },
    {
      "cell_type": "markdown",
      "metadata": {
        "id": "wfOmqmfLDWK8"
      },
      "source": [
        "# Задание 7"
      ]
    },
    {
      "cell_type": "markdown",
      "metadata": {
        "id": "X4ARQimADWK9"
      },
      "source": [
        "Выведите историю активности каждого пользователя в таком виде: идентификатор пользователя, дата публикации поста. Отсортируйте вывод по возрастанию идентификаторов пользователей, а для каждого пользователя — по возрастанию даты публикации.\n",
        "\n",
        "Добавьте в таблицу новое поле: для каждого поста в нём будет указано название месяца предпоследней публикации пользователя относительно текущей. Если такой публикации нет, укажите `NULL`.  Python автоматически поменяет `NULL` на `None`, но дополнительно преобразовывать значения `None` вам не нужно.\n",
        "\n",
        "Посмотрите внимательно на образец таблицы: для первых двух постов предпоследней публикации нет, но, начиная с третьего поста, в новое поле входит нужный месяц. Для следующего пользователя в первые две записи поля `second_last_month` тоже войдёт `NULL`."
      ]
    },
    {
      "cell_type": "markdown",
      "metadata": {
        "id": "IGPjRP01DWK9"
      },
      "source": [
        "| user_id | creation_date | second_last_month |\n",
        "| ------- | ------------- | ----------------- |\n",
        "| 1       | 2008-07-31 23:41:00 | None |\n",
        "| 1       | 2008-07-31 23:55:38 | None |\n",
        "| 1       | 2008-07-31 23:56:41 | July |\n",
        "| 1       | 2008-08-04 02:45:08 | July |\n",
        "| 1       | 2008-08-04 04:31:03 | July |\n",
        "| 1       | 2008-08-04 08:04:42 | August |\n",
        "| ... | ... | ... |"
      ]
    },
    {
      "cell_type": "code",
      "execution_count": 14,
      "metadata": {
        "id": "HzI1vhaMDWK-",
        "colab": {
          "base_uri": "https://localhost:8080/",
          "height": 424
        },
        "outputId": "91dccaeb-d3d7-4ea4-ba98-e7b30b6b867f"
      },
      "outputs": [
        {
          "output_type": "execute_result",
          "data": {
            "text/plain": [
              "        user_id       creation_date second_last_month\n",
              "0             1 2008-07-31 23:41:00              None\n",
              "1             1 2008-07-31 23:55:38              None\n",
              "2             1 2008-07-31 23:56:41         July     \n",
              "3             1 2008-08-04 02:45:08         July     \n",
              "4             1 2008-08-04 04:31:03         July     \n",
              "...         ...                 ...               ...\n",
              "243791  5696608 2008-12-23 16:00:37         December \n",
              "243792  5696608 2008-12-23 17:35:09         December \n",
              "243793  5696608 2008-12-24 01:02:48         December \n",
              "243794  5696608 2008-12-30 14:34:45         December \n",
              "243795  5696608 2008-12-30 16:32:12         December \n",
              "\n",
              "[243796 rows x 3 columns]"
            ],
            "text/html": [
              "\n",
              "  <div id=\"df-c713e0ba-4b7b-4b1f-ab78-5dad326212f9\">\n",
              "    <div class=\"colab-df-container\">\n",
              "      <div>\n",
              "<style scoped>\n",
              "    .dataframe tbody tr th:only-of-type {\n",
              "        vertical-align: middle;\n",
              "    }\n",
              "\n",
              "    .dataframe tbody tr th {\n",
              "        vertical-align: top;\n",
              "    }\n",
              "\n",
              "    .dataframe thead th {\n",
              "        text-align: right;\n",
              "    }\n",
              "</style>\n",
              "<table border=\"1\" class=\"dataframe\">\n",
              "  <thead>\n",
              "    <tr style=\"text-align: right;\">\n",
              "      <th></th>\n",
              "      <th>user_id</th>\n",
              "      <th>creation_date</th>\n",
              "      <th>second_last_month</th>\n",
              "    </tr>\n",
              "  </thead>\n",
              "  <tbody>\n",
              "    <tr>\n",
              "      <th>0</th>\n",
              "      <td>1</td>\n",
              "      <td>2008-07-31 23:41:00</td>\n",
              "      <td>None</td>\n",
              "    </tr>\n",
              "    <tr>\n",
              "      <th>1</th>\n",
              "      <td>1</td>\n",
              "      <td>2008-07-31 23:55:38</td>\n",
              "      <td>None</td>\n",
              "    </tr>\n",
              "    <tr>\n",
              "      <th>2</th>\n",
              "      <td>1</td>\n",
              "      <td>2008-07-31 23:56:41</td>\n",
              "      <td>July</td>\n",
              "    </tr>\n",
              "    <tr>\n",
              "      <th>3</th>\n",
              "      <td>1</td>\n",
              "      <td>2008-08-04 02:45:08</td>\n",
              "      <td>July</td>\n",
              "    </tr>\n",
              "    <tr>\n",
              "      <th>4</th>\n",
              "      <td>1</td>\n",
              "      <td>2008-08-04 04:31:03</td>\n",
              "      <td>July</td>\n",
              "    </tr>\n",
              "    <tr>\n",
              "      <th>...</th>\n",
              "      <td>...</td>\n",
              "      <td>...</td>\n",
              "      <td>...</td>\n",
              "    </tr>\n",
              "    <tr>\n",
              "      <th>243791</th>\n",
              "      <td>5696608</td>\n",
              "      <td>2008-12-23 16:00:37</td>\n",
              "      <td>December</td>\n",
              "    </tr>\n",
              "    <tr>\n",
              "      <th>243792</th>\n",
              "      <td>5696608</td>\n",
              "      <td>2008-12-23 17:35:09</td>\n",
              "      <td>December</td>\n",
              "    </tr>\n",
              "    <tr>\n",
              "      <th>243793</th>\n",
              "      <td>5696608</td>\n",
              "      <td>2008-12-24 01:02:48</td>\n",
              "      <td>December</td>\n",
              "    </tr>\n",
              "    <tr>\n",
              "      <th>243794</th>\n",
              "      <td>5696608</td>\n",
              "      <td>2008-12-30 14:34:45</td>\n",
              "      <td>December</td>\n",
              "    </tr>\n",
              "    <tr>\n",
              "      <th>243795</th>\n",
              "      <td>5696608</td>\n",
              "      <td>2008-12-30 16:32:12</td>\n",
              "      <td>December</td>\n",
              "    </tr>\n",
              "  </tbody>\n",
              "</table>\n",
              "<p>243796 rows × 3 columns</p>\n",
              "</div>\n",
              "      <button class=\"colab-df-convert\" onclick=\"convertToInteractive('df-c713e0ba-4b7b-4b1f-ab78-5dad326212f9')\"\n",
              "              title=\"Convert this dataframe to an interactive table.\"\n",
              "              style=\"display:none;\">\n",
              "        \n",
              "  <svg xmlns=\"http://www.w3.org/2000/svg\" height=\"24px\"viewBox=\"0 0 24 24\"\n",
              "       width=\"24px\">\n",
              "    <path d=\"M0 0h24v24H0V0z\" fill=\"none\"/>\n",
              "    <path d=\"M18.56 5.44l.94 2.06.94-2.06 2.06-.94-2.06-.94-.94-2.06-.94 2.06-2.06.94zm-11 1L8.5 8.5l.94-2.06 2.06-.94-2.06-.94L8.5 2.5l-.94 2.06-2.06.94zm10 10l.94 2.06.94-2.06 2.06-.94-2.06-.94-.94-2.06-.94 2.06-2.06.94z\"/><path d=\"M17.41 7.96l-1.37-1.37c-.4-.4-.92-.59-1.43-.59-.52 0-1.04.2-1.43.59L10.3 9.45l-7.72 7.72c-.78.78-.78 2.05 0 2.83L4 21.41c.39.39.9.59 1.41.59.51 0 1.02-.2 1.41-.59l7.78-7.78 2.81-2.81c.8-.78.8-2.07 0-2.86zM5.41 20L4 18.59l7.72-7.72 1.47 1.35L5.41 20z\"/>\n",
              "  </svg>\n",
              "      </button>\n",
              "      \n",
              "  <style>\n",
              "    .colab-df-container {\n",
              "      display:flex;\n",
              "      flex-wrap:wrap;\n",
              "      gap: 12px;\n",
              "    }\n",
              "\n",
              "    .colab-df-convert {\n",
              "      background-color: #E8F0FE;\n",
              "      border: none;\n",
              "      border-radius: 50%;\n",
              "      cursor: pointer;\n",
              "      display: none;\n",
              "      fill: #1967D2;\n",
              "      height: 32px;\n",
              "      padding: 0 0 0 0;\n",
              "      width: 32px;\n",
              "    }\n",
              "\n",
              "    .colab-df-convert:hover {\n",
              "      background-color: #E2EBFA;\n",
              "      box-shadow: 0px 1px 2px rgba(60, 64, 67, 0.3), 0px 1px 3px 1px rgba(60, 64, 67, 0.15);\n",
              "      fill: #174EA6;\n",
              "    }\n",
              "\n",
              "    [theme=dark] .colab-df-convert {\n",
              "      background-color: #3B4455;\n",
              "      fill: #D2E3FC;\n",
              "    }\n",
              "\n",
              "    [theme=dark] .colab-df-convert:hover {\n",
              "      background-color: #434B5C;\n",
              "      box-shadow: 0px 1px 3px 1px rgba(0, 0, 0, 0.15);\n",
              "      filter: drop-shadow(0px 1px 2px rgba(0, 0, 0, 0.3));\n",
              "      fill: #FFFFFF;\n",
              "    }\n",
              "  </style>\n",
              "\n",
              "      <script>\n",
              "        const buttonEl =\n",
              "          document.querySelector('#df-c713e0ba-4b7b-4b1f-ab78-5dad326212f9 button.colab-df-convert');\n",
              "        buttonEl.style.display =\n",
              "          google.colab.kernel.accessAllowed ? 'block' : 'none';\n",
              "\n",
              "        async function convertToInteractive(key) {\n",
              "          const element = document.querySelector('#df-c713e0ba-4b7b-4b1f-ab78-5dad326212f9');\n",
              "          const dataTable =\n",
              "            await google.colab.kernel.invokeFunction('convertToInteractive',\n",
              "                                                     [key], {});\n",
              "          if (!dataTable) return;\n",
              "\n",
              "          const docLinkHtml = 'Like what you see? Visit the ' +\n",
              "            '<a target=\"_blank\" href=https://colab.research.google.com/notebooks/data_table.ipynb>data table notebook</a>'\n",
              "            + ' to learn more about interactive tables.';\n",
              "          element.innerHTML = '';\n",
              "          dataTable['output_type'] = 'display_data';\n",
              "          await google.colab.output.renderOutput(dataTable, element);\n",
              "          const docLink = document.createElement('div');\n",
              "          docLink.innerHTML = docLinkHtml;\n",
              "          element.appendChild(docLink);\n",
              "        }\n",
              "      </script>\n",
              "    </div>\n",
              "  </div>\n",
              "  "
            ]
          },
          "metadata": {},
          "execution_count": 14
        }
      ],
      "source": [
        "# напишите запрос\n",
        "query = '''\n",
        "SELECT user_id,\n",
        "    creation_date,\n",
        "    to_char(\n",
        "        LAG(creation_date, 2) OVER (PARTITION BY user_id ORDER BY user_id, creation_date), 'Month') AS second_last_month\n",
        "FROM stackoverflow.posts\n",
        "'''\n",
        "\n",
        "# выполните запрос\n",
        "pd.read_sql_query(text(query), con=conn)"
      ]
    },
    {
      "cell_type": "markdown",
      "metadata": {
        "id": "7dqoKkncDWK_"
      },
      "source": [
        "<details>\n",
        "\n",
        "<summary>Подсказка</summary>\n",
        "Преобразовать результат оконной функции в нужное значение вам поможет аналог условного оператора в SQL: CASE <поле> WHEN <старое значение> THEN <новое значение> END.\n",
        "</details>"
      ]
    },
    {
      "cell_type": "markdown",
      "metadata": {
        "id": "tf9qq2yzDWK_"
      },
      "source": [
        "# Задание 8"
      ]
    },
    {
      "cell_type": "markdown",
      "metadata": {
        "id": "gfwLVXBYDWLA"
      },
      "source": [
        "Рассчитайте аналог Retention Rate по месяцам для пользователей StackOverflow. Объедините пользователей в когорты по месяцу их первого поста. Возвращение определяйте по наличию поста в текущем месяце. "
      ]
    },
    {
      "cell_type": "markdown",
      "metadata": {
        "id": "kN2ic39WlKpl"
      },
      "source": [
        "| cohort_dt | session_date | users_cnt | cohort_users_cnt | retention_rate |\n",
        "| --- | --- | --- | --- | --- |\n",
        "| 2008-07-01 00:00:00 | 2008-07-01 00:00:00 | 3 | 3 | 100 |\n",
        "| 2008-07-01 00:00:00 | 2008-08-01 00:00:00 | 2 | 3 | 66,67 |\n",
        "| 2008-07-01 00:00:00 | 2008-09-01 00:00:00 | 1 | 3 | 33,33 |\n",
        "| 2008-07-01 00:00:00 | 2008-10-01 00:00:00 | 2 | 3 | 66,67 |\n",
        "| 2008-07-01 00:00:00 | 2008-11-01 00:00:00 | 1 | 3 | 33,33 |\n",
        "| 2008-07-01 00:00:00 | 2008-12-01 00:00:00 | 2 | 3 | 66,67 |\n",
        "| 2008-08-01 00:00:00 | 2008-08-01 00:00:00 | 2151 | 2151 | 100 |\n",
        "| ... | ... | ... | ... | ... |"
      ]
    },
    {
      "cell_type": "code",
      "execution_count": 15,
      "metadata": {
        "id": "LUgFmwmTDWLB"
      },
      "outputs": [],
      "source": [
        "# напишите запрос\n",
        "query = '''\n",
        "WITH t1 AS (\n",
        "SELECT user_id,\n",
        "    DATE_TRUNC('MONTH', MIN(creation_date))::date AS cohort_dt\n",
        "FROM stackoverflow.posts\n",
        "GROUP BY user_id),\n",
        "\n",
        "t2 AS (\n",
        "SELECT cohort_dt,\n",
        "    DATE_TRUNC('month', creation_date)::date AS session_date,\n",
        "    COUNT(DISTINCT p.user_id) AS users_cnt\n",
        "FROM t1 \n",
        "JOIN stackoverflow.posts  AS p ON t1.user_id = p.user_id\n",
        "GROUP BY 1, 2)\n",
        "\n",
        "SELECT cohort_dt,\n",
        "       session_date,\n",
        "       users_cnt,\n",
        "       FIRST_VALUE(users_cnt) OVER (PARTITION BY cohort_dt ORDER BY session_date) AS cohort_users_cnt,\n",
        "       ROUND((users_cnt::numeric /FIRST_VALUE(users_cnt) OVER (PARTITION BY cohort_dt ORDER BY session_date)) * 100, 2) AS retention_rate\n",
        "FROM t2\n",
        "\n",
        "'''\n",
        "\n",
        "# выполните запрос\n",
        "sample_df = pd.read_sql_query(text(query), con=conn)"
      ]
    },
    {
      "cell_type": "code",
      "execution_count": 16,
      "metadata": {
        "colab": {
          "base_uri": "https://localhost:8080/",
          "height": 708
        },
        "id": "kd0Q8zYNfjua",
        "outputId": "d0287293-701a-45c0-934b-b5dfbedd8aa9"
      },
      "outputs": [
        {
          "output_type": "execute_result",
          "data": {
            "text/plain": [
              "     cohort_dt session_date  users_cnt  cohort_users_cnt  retention_rate\n",
              "0   2008-07-01   2008-07-01          3                 3          100.00\n",
              "1   2008-07-01   2008-08-01          2                 3           66.67\n",
              "2   2008-07-01   2008-09-01          1                 3           33.33\n",
              "3   2008-07-01   2008-10-01          2                 3           66.67\n",
              "4   2008-07-01   2008-11-01          1                 3           33.33\n",
              "5   2008-07-01   2008-12-01          2                 3           66.67\n",
              "6   2008-08-01   2008-08-01       2151              2151          100.00\n",
              "7   2008-08-01   2008-09-01       1571              2151           73.04\n",
              "8   2008-08-01   2008-10-01       1275              2151           59.27\n",
              "9   2008-08-01   2008-11-01       1050              2151           48.81\n",
              "10  2008-08-01   2008-12-01        894              2151           41.56\n",
              "11  2008-09-01   2008-09-01       7678              7678          100.00\n",
              "12  2008-09-01   2008-10-01       4132              7678           53.82\n",
              "13  2008-09-01   2008-11-01       2966              7678           38.63\n",
              "14  2008-09-01   2008-12-01       2500              7678           32.56\n",
              "15  2008-10-01   2008-10-01       3629              3629          100.00\n",
              "16  2008-10-01   2008-11-01       1640              3629           45.19\n",
              "17  2008-10-01   2008-12-01       1221              3629           33.65\n",
              "18  2008-11-01   2008-11-01       2852              2852          100.00\n",
              "19  2008-11-01   2008-12-01       1151              2852           40.36\n",
              "20  2008-12-01   2008-12-01       2536              2536          100.00"
            ],
            "text/html": [
              "\n",
              "  <div id=\"df-8a504f21-066d-48d8-8e49-3301d95d7c48\">\n",
              "    <div class=\"colab-df-container\">\n",
              "      <div>\n",
              "<style scoped>\n",
              "    .dataframe tbody tr th:only-of-type {\n",
              "        vertical-align: middle;\n",
              "    }\n",
              "\n",
              "    .dataframe tbody tr th {\n",
              "        vertical-align: top;\n",
              "    }\n",
              "\n",
              "    .dataframe thead th {\n",
              "        text-align: right;\n",
              "    }\n",
              "</style>\n",
              "<table border=\"1\" class=\"dataframe\">\n",
              "  <thead>\n",
              "    <tr style=\"text-align: right;\">\n",
              "      <th></th>\n",
              "      <th>cohort_dt</th>\n",
              "      <th>session_date</th>\n",
              "      <th>users_cnt</th>\n",
              "      <th>cohort_users_cnt</th>\n",
              "      <th>retention_rate</th>\n",
              "    </tr>\n",
              "  </thead>\n",
              "  <tbody>\n",
              "    <tr>\n",
              "      <th>0</th>\n",
              "      <td>2008-07-01</td>\n",
              "      <td>2008-07-01</td>\n",
              "      <td>3</td>\n",
              "      <td>3</td>\n",
              "      <td>100.00</td>\n",
              "    </tr>\n",
              "    <tr>\n",
              "      <th>1</th>\n",
              "      <td>2008-07-01</td>\n",
              "      <td>2008-08-01</td>\n",
              "      <td>2</td>\n",
              "      <td>3</td>\n",
              "      <td>66.67</td>\n",
              "    </tr>\n",
              "    <tr>\n",
              "      <th>2</th>\n",
              "      <td>2008-07-01</td>\n",
              "      <td>2008-09-01</td>\n",
              "      <td>1</td>\n",
              "      <td>3</td>\n",
              "      <td>33.33</td>\n",
              "    </tr>\n",
              "    <tr>\n",
              "      <th>3</th>\n",
              "      <td>2008-07-01</td>\n",
              "      <td>2008-10-01</td>\n",
              "      <td>2</td>\n",
              "      <td>3</td>\n",
              "      <td>66.67</td>\n",
              "    </tr>\n",
              "    <tr>\n",
              "      <th>4</th>\n",
              "      <td>2008-07-01</td>\n",
              "      <td>2008-11-01</td>\n",
              "      <td>1</td>\n",
              "      <td>3</td>\n",
              "      <td>33.33</td>\n",
              "    </tr>\n",
              "    <tr>\n",
              "      <th>5</th>\n",
              "      <td>2008-07-01</td>\n",
              "      <td>2008-12-01</td>\n",
              "      <td>2</td>\n",
              "      <td>3</td>\n",
              "      <td>66.67</td>\n",
              "    </tr>\n",
              "    <tr>\n",
              "      <th>6</th>\n",
              "      <td>2008-08-01</td>\n",
              "      <td>2008-08-01</td>\n",
              "      <td>2151</td>\n",
              "      <td>2151</td>\n",
              "      <td>100.00</td>\n",
              "    </tr>\n",
              "    <tr>\n",
              "      <th>7</th>\n",
              "      <td>2008-08-01</td>\n",
              "      <td>2008-09-01</td>\n",
              "      <td>1571</td>\n",
              "      <td>2151</td>\n",
              "      <td>73.04</td>\n",
              "    </tr>\n",
              "    <tr>\n",
              "      <th>8</th>\n",
              "      <td>2008-08-01</td>\n",
              "      <td>2008-10-01</td>\n",
              "      <td>1275</td>\n",
              "      <td>2151</td>\n",
              "      <td>59.27</td>\n",
              "    </tr>\n",
              "    <tr>\n",
              "      <th>9</th>\n",
              "      <td>2008-08-01</td>\n",
              "      <td>2008-11-01</td>\n",
              "      <td>1050</td>\n",
              "      <td>2151</td>\n",
              "      <td>48.81</td>\n",
              "    </tr>\n",
              "    <tr>\n",
              "      <th>10</th>\n",
              "      <td>2008-08-01</td>\n",
              "      <td>2008-12-01</td>\n",
              "      <td>894</td>\n",
              "      <td>2151</td>\n",
              "      <td>41.56</td>\n",
              "    </tr>\n",
              "    <tr>\n",
              "      <th>11</th>\n",
              "      <td>2008-09-01</td>\n",
              "      <td>2008-09-01</td>\n",
              "      <td>7678</td>\n",
              "      <td>7678</td>\n",
              "      <td>100.00</td>\n",
              "    </tr>\n",
              "    <tr>\n",
              "      <th>12</th>\n",
              "      <td>2008-09-01</td>\n",
              "      <td>2008-10-01</td>\n",
              "      <td>4132</td>\n",
              "      <td>7678</td>\n",
              "      <td>53.82</td>\n",
              "    </tr>\n",
              "    <tr>\n",
              "      <th>13</th>\n",
              "      <td>2008-09-01</td>\n",
              "      <td>2008-11-01</td>\n",
              "      <td>2966</td>\n",
              "      <td>7678</td>\n",
              "      <td>38.63</td>\n",
              "    </tr>\n",
              "    <tr>\n",
              "      <th>14</th>\n",
              "      <td>2008-09-01</td>\n",
              "      <td>2008-12-01</td>\n",
              "      <td>2500</td>\n",
              "      <td>7678</td>\n",
              "      <td>32.56</td>\n",
              "    </tr>\n",
              "    <tr>\n",
              "      <th>15</th>\n",
              "      <td>2008-10-01</td>\n",
              "      <td>2008-10-01</td>\n",
              "      <td>3629</td>\n",
              "      <td>3629</td>\n",
              "      <td>100.00</td>\n",
              "    </tr>\n",
              "    <tr>\n",
              "      <th>16</th>\n",
              "      <td>2008-10-01</td>\n",
              "      <td>2008-11-01</td>\n",
              "      <td>1640</td>\n",
              "      <td>3629</td>\n",
              "      <td>45.19</td>\n",
              "    </tr>\n",
              "    <tr>\n",
              "      <th>17</th>\n",
              "      <td>2008-10-01</td>\n",
              "      <td>2008-12-01</td>\n",
              "      <td>1221</td>\n",
              "      <td>3629</td>\n",
              "      <td>33.65</td>\n",
              "    </tr>\n",
              "    <tr>\n",
              "      <th>18</th>\n",
              "      <td>2008-11-01</td>\n",
              "      <td>2008-11-01</td>\n",
              "      <td>2852</td>\n",
              "      <td>2852</td>\n",
              "      <td>100.00</td>\n",
              "    </tr>\n",
              "    <tr>\n",
              "      <th>19</th>\n",
              "      <td>2008-11-01</td>\n",
              "      <td>2008-12-01</td>\n",
              "      <td>1151</td>\n",
              "      <td>2852</td>\n",
              "      <td>40.36</td>\n",
              "    </tr>\n",
              "    <tr>\n",
              "      <th>20</th>\n",
              "      <td>2008-12-01</td>\n",
              "      <td>2008-12-01</td>\n",
              "      <td>2536</td>\n",
              "      <td>2536</td>\n",
              "      <td>100.00</td>\n",
              "    </tr>\n",
              "  </tbody>\n",
              "</table>\n",
              "</div>\n",
              "      <button class=\"colab-df-convert\" onclick=\"convertToInteractive('df-8a504f21-066d-48d8-8e49-3301d95d7c48')\"\n",
              "              title=\"Convert this dataframe to an interactive table.\"\n",
              "              style=\"display:none;\">\n",
              "        \n",
              "  <svg xmlns=\"http://www.w3.org/2000/svg\" height=\"24px\"viewBox=\"0 0 24 24\"\n",
              "       width=\"24px\">\n",
              "    <path d=\"M0 0h24v24H0V0z\" fill=\"none\"/>\n",
              "    <path d=\"M18.56 5.44l.94 2.06.94-2.06 2.06-.94-2.06-.94-.94-2.06-.94 2.06-2.06.94zm-11 1L8.5 8.5l.94-2.06 2.06-.94-2.06-.94L8.5 2.5l-.94 2.06-2.06.94zm10 10l.94 2.06.94-2.06 2.06-.94-2.06-.94-.94-2.06-.94 2.06-2.06.94z\"/><path d=\"M17.41 7.96l-1.37-1.37c-.4-.4-.92-.59-1.43-.59-.52 0-1.04.2-1.43.59L10.3 9.45l-7.72 7.72c-.78.78-.78 2.05 0 2.83L4 21.41c.39.39.9.59 1.41.59.51 0 1.02-.2 1.41-.59l7.78-7.78 2.81-2.81c.8-.78.8-2.07 0-2.86zM5.41 20L4 18.59l7.72-7.72 1.47 1.35L5.41 20z\"/>\n",
              "  </svg>\n",
              "      </button>\n",
              "      \n",
              "  <style>\n",
              "    .colab-df-container {\n",
              "      display:flex;\n",
              "      flex-wrap:wrap;\n",
              "      gap: 12px;\n",
              "    }\n",
              "\n",
              "    .colab-df-convert {\n",
              "      background-color: #E8F0FE;\n",
              "      border: none;\n",
              "      border-radius: 50%;\n",
              "      cursor: pointer;\n",
              "      display: none;\n",
              "      fill: #1967D2;\n",
              "      height: 32px;\n",
              "      padding: 0 0 0 0;\n",
              "      width: 32px;\n",
              "    }\n",
              "\n",
              "    .colab-df-convert:hover {\n",
              "      background-color: #E2EBFA;\n",
              "      box-shadow: 0px 1px 2px rgba(60, 64, 67, 0.3), 0px 1px 3px 1px rgba(60, 64, 67, 0.15);\n",
              "      fill: #174EA6;\n",
              "    }\n",
              "\n",
              "    [theme=dark] .colab-df-convert {\n",
              "      background-color: #3B4455;\n",
              "      fill: #D2E3FC;\n",
              "    }\n",
              "\n",
              "    [theme=dark] .colab-df-convert:hover {\n",
              "      background-color: #434B5C;\n",
              "      box-shadow: 0px 1px 3px 1px rgba(0, 0, 0, 0.15);\n",
              "      filter: drop-shadow(0px 1px 2px rgba(0, 0, 0, 0.3));\n",
              "      fill: #FFFFFF;\n",
              "    }\n",
              "  </style>\n",
              "\n",
              "      <script>\n",
              "        const buttonEl =\n",
              "          document.querySelector('#df-8a504f21-066d-48d8-8e49-3301d95d7c48 button.colab-df-convert');\n",
              "        buttonEl.style.display =\n",
              "          google.colab.kernel.accessAllowed ? 'block' : 'none';\n",
              "\n",
              "        async function convertToInteractive(key) {\n",
              "          const element = document.querySelector('#df-8a504f21-066d-48d8-8e49-3301d95d7c48');\n",
              "          const dataTable =\n",
              "            await google.colab.kernel.invokeFunction('convertToInteractive',\n",
              "                                                     [key], {});\n",
              "          if (!dataTable) return;\n",
              "\n",
              "          const docLinkHtml = 'Like what you see? Visit the ' +\n",
              "            '<a target=\"_blank\" href=https://colab.research.google.com/notebooks/data_table.ipynb>data table notebook</a>'\n",
              "            + ' to learn more about interactive tables.';\n",
              "          element.innerHTML = '';\n",
              "          dataTable['output_type'] = 'display_data';\n",
              "          await google.colab.output.renderOutput(dataTable, element);\n",
              "          const docLink = document.createElement('div');\n",
              "          docLink.innerHTML = docLinkHtml;\n",
              "          element.appendChild(docLink);\n",
              "        }\n",
              "      </script>\n",
              "    </div>\n",
              "  </div>\n",
              "  "
            ]
          },
          "metadata": {},
          "execution_count": 16
        }
      ],
      "source": [
        "sample_df"
      ]
    },
    {
      "cell_type": "markdown",
      "metadata": {
        "id": "Yavb5o9JDWLB"
      },
      "source": [
        "<details>\n",
        "\n",
        "<summary>Подсказка</summary>\n",
        "Вспомните, как выглядел запрос для расчёта Retention Rate в теории. Создайте две временные таблицы: `profile` и `sessions` (в ней будет информация о публикациях), а затем используйте их в основном запросе.\n",
        "\n",
        "Во временной таблице `profile` вам понадобятся три поля:\n",
        "\n",
        "- идентификатор пользователя;\n",
        "- дата первого поста пользователя, усечённая до месяца (признак начала когорты);\n",
        "- количество пользователей этой когорты.\n",
        "</details>"
      ]
    },
    {
      "cell_type": "markdown",
      "metadata": {
        "id": "_msBtnb2DWLC"
      },
      "source": [
        "Постройте тепловую карту Retention Rate. Какие аномалии или другие необычные явления удалось выявить? Сформулируйте гипотезы о возможных причинах."
      ]
    },
    {
      "cell_type": "code",
      "execution_count": 17,
      "metadata": {
        "id": "qAEJc8H1DWLC"
      },
      "outputs": [],
      "source": [
        "# постройте тепловую карту Retention Rate"
      ]
    },
    {
      "cell_type": "code",
      "execution_count": 18,
      "metadata": {
        "colab": {
          "base_uri": "https://localhost:8080/",
          "height": 1000
        },
        "id": "5tEUKHHMfjub",
        "outputId": "dec44292-df09-4d7c-9532-e8ba273a2e59"
      },
      "outputs": [
        {
          "output_type": "stream",
          "name": "stderr",
          "text": [
            "<ipython-input-18-72cea4c31eba>:2: FutureWarning: In a future version of pandas all arguments of DataFrame.pivot will be keyword-only.\n",
            "  retention = sample_df.pivot('cohort_dt', 'session_date', 'retention_rate')\n"
          ]
        },
        {
          "output_type": "display_data",
          "data": {
            "text/plain": [
              "<Figure size 1600x1600 with 2 Axes>"
            ],
            "image/png": "[encoded data removed]"
          },
          "metadata": {}
        }
      ],
      "source": [
        "# создаём сводную таблицу с результатами\n",
        "retention = sample_df.pivot('cohort_dt', 'session_date', 'retention_rate')\n",
        "retention.index = [str(x)[0:10] for x in retention.index]\n",
        "retention.columns = [str(x)[0:10] for x in retention.columns]\n",
        "\n",
        "# строим хитмэп\n",
        "plt.figure(figsize=(16, 16)) # задаём размер графика\n",
        "sns.heatmap(retention, # датафрейм с данными\n",
        "            annot=True, # добавляем подписи\n",
        "            fmt='') # задаём исходный формат\n",
        "plt.title('Тепловая карта') # название графика\n",
        "plt.show()"
      ]
    },
    {
      "cell_type": "markdown",
      "metadata": {
        "id": "EgOfIsI4DWLC"
      },
      "source": [
        "- Мало пользователей в июле всего 3, которые публикуют то, по 2 то по 1 пользователю из когорты поочерёдно, очень странно, похожи на тестовых пользователей;\n",
        "- Если не брать во внимание июнь то видно, что с каждой когортой интерес падает на второй месяц использования все сильнее;\n",
        "- Августовская когорта самая преданная;\n",
        "- Сентябрь и октябрь, это люди которые пришли освежить знания в начале работы и учебы после каникул отпусков, решили все проблемы и ушли с платформы. "
      ]
    },
    {
      "cell_type": "markdown",
      "metadata": {
        "id": "1k7oPWt5DWLK"
      },
      "source": [
        "# Задание 9\n"
      ]
    },
    {
      "cell_type": "markdown",
      "metadata": {
        "id": "ALsYVSyRDWLM"
      },
      "source": [
        "На сколько процентов менялось количество постов ежемесячно с 1 сентября по 31 декабря 2008 года? Отобразите таблицу со следующими полями:\n",
        "\n",
        "- номер месяца;\n",
        "- количество постов за месяц;\n",
        "- процент, который показывает, насколько изменилось количество постов в текущем месяце по сравнению с предыдущим.\n",
        "\n",
        "Если постов стало меньше, значение процента должно быть отрицательным, если больше — положительным. Округлите значение процента до двух знаков после запятой.\n",
        "\n",
        "Напомним, что при делении одного целого числа на другое в PostgreSQL в результате получится целое число, округлённое до ближайшего целого вниз. Чтобы этого избежать, переведите делимое в тип `numeric`."
      ]
    },
    {
      "cell_type": "markdown",
      "metadata": {
        "id": "u4E2zF8DDWLM"
      },
      "source": [
        "| creation_month | posts_count | percentage |\n",
        "| -------------- | ----------- | ---------- |\n",
        "| 9 | 70731 | Nan |\n",
        "| 10 | 63102 | -10.33 |\n",
        "| ... | ... | ... |"
      ]
    },
    {
      "cell_type": "code",
      "execution_count": 19,
      "metadata": {
        "id": "Mb5pShStDWLN"
      },
      "outputs": [],
      "source": [
        "# напишите запрос\n",
        "query = '''\n",
        "WITH t1 AS (\n",
        "SELECT DISTINCT\n",
        "    EXTRACT(MONTH FROM(creation_date))::int AS creation_month,\n",
        "    COUNT(id) OVER (PARTITION BY EXTRACT(MONTH FROM(creation_date))) AS posts_count \n",
        "FROM stackoverflow.posts\n",
        "WHERE creation_date::date >= '2008-09-01' AND  creation_date::date <= '2008-12-31')\n",
        "\n",
        "SELECT creation_month,\n",
        "    posts_count,\n",
        "    ROUND(\n",
        "    ((posts_count::numeric / LAG(posts_count) OVER (ORDER BY creation_month)) - 1) *100, 2\n",
        "    ) AS percentage\n",
        "FROM t1\n",
        "'''\n",
        "\n",
        "# выполните запрос\n",
        "sample_df = pd.read_sql_query(text(query), con=conn)"
      ]
    },
    {
      "cell_type": "code",
      "execution_count": 20,
      "metadata": {
        "colab": {
          "base_uri": "https://localhost:8080/",
          "height": 175
        },
        "id": "GYzClec4fjud",
        "outputId": "7f5508f8-f4eb-4c98-f5f5-cf0139d2d7fb"
      },
      "outputs": [
        {
          "output_type": "execute_result",
          "data": {
            "text/plain": [
              "   creation_month  posts_count  percentage\n",
              "0               9        70371         NaN\n",
              "1              10        63102      -10.33\n",
              "2              11        46975      -25.56\n",
              "3              12        44592       -5.07"
            ],
            "text/html": [
              "\n",
              "  <div id=\"df-74995be6-82e6-4234-a165-705152b078f5\">\n",
              "    <div class=\"colab-df-container\">\n",
              "      <div>\n",
              "<style scoped>\n",
              "    .dataframe tbody tr th:only-of-type {\n",
              "        vertical-align: middle;\n",
              "    }\n",
              "\n",
              "    .dataframe tbody tr th {\n",
              "        vertical-align: top;\n",
              "    }\n",
              "\n",
              "    .dataframe thead th {\n",
              "        text-align: right;\n",
              "    }\n",
              "</style>\n",
              "<table border=\"1\" class=\"dataframe\">\n",
              "  <thead>\n",
              "    <tr style=\"text-align: right;\">\n",
              "      <th></th>\n",
              "      <th>creation_month</th>\n",
              "      <th>posts_count</th>\n",
              "      <th>percentage</th>\n",
              "    </tr>\n",
              "  </thead>\n",
              "  <tbody>\n",
              "    <tr>\n",
              "      <th>0</th>\n",
              "      <td>9</td>\n",
              "      <td>70371</td>\n",
              "      <td>NaN</td>\n",
              "    </tr>\n",
              "    <tr>\n",
              "      <th>1</th>\n",
              "      <td>10</td>\n",
              "      <td>63102</td>\n",
              "      <td>-10.33</td>\n",
              "    </tr>\n",
              "    <tr>\n",
              "      <th>2</th>\n",
              "      <td>11</td>\n",
              "      <td>46975</td>\n",
              "      <td>-25.56</td>\n",
              "    </tr>\n",
              "    <tr>\n",
              "      <th>3</th>\n",
              "      <td>12</td>\n",
              "      <td>44592</td>\n",
              "      <td>-5.07</td>\n",
              "    </tr>\n",
              "  </tbody>\n",
              "</table>\n",
              "</div>\n",
              "      <button class=\"colab-df-convert\" onclick=\"convertToInteractive('df-74995be6-82e6-4234-a165-705152b078f5')\"\n",
              "              title=\"Convert this dataframe to an interactive table.\"\n",
              "              style=\"display:none;\">\n",
              "        \n",
              "  <svg xmlns=\"http://www.w3.org/2000/svg\" height=\"24px\"viewBox=\"0 0 24 24\"\n",
              "       width=\"24px\">\n",
              "    <path d=\"M0 0h24v24H0V0z\" fill=\"none\"/>\n",
              "    <path d=\"M18.56 5.44l.94 2.06.94-2.06 2.06-.94-2.06-.94-.94-2.06-.94 2.06-2.06.94zm-11 1L8.5 8.5l.94-2.06 2.06-.94-2.06-.94L8.5 2.5l-.94 2.06-2.06.94zm10 10l.94 2.06.94-2.06 2.06-.94-2.06-.94-.94-2.06-.94 2.06-2.06.94z\"/><path d=\"M17.41 7.96l-1.37-1.37c-.4-.4-.92-.59-1.43-.59-.52 0-1.04.2-1.43.59L10.3 9.45l-7.72 7.72c-.78.78-.78 2.05 0 2.83L4 21.41c.39.39.9.59 1.41.59.51 0 1.02-.2 1.41-.59l7.78-7.78 2.81-2.81c.8-.78.8-2.07 0-2.86zM5.41 20L4 18.59l7.72-7.72 1.47 1.35L5.41 20z\"/>\n",
              "  </svg>\n",
              "      </button>\n",
              "      \n",
              "  <style>\n",
              "    .colab-df-container {\n",
              "      display:flex;\n",
              "      flex-wrap:wrap;\n",
              "      gap: 12px;\n",
              "    }\n",
              "\n",
              "    .colab-df-convert {\n",
              "      background-color: #E8F0FE;\n",
              "      border: none;\n",
              "      border-radius: 50%;\n",
              "      cursor: pointer;\n",
              "      display: none;\n",
              "      fill: #1967D2;\n",
              "      height: 32px;\n",
              "      padding: 0 0 0 0;\n",
              "      width: 32px;\n",
              "    }\n",
              "\n",
              "    .colab-df-convert:hover {\n",
              "      background-color: #E2EBFA;\n",
              "      box-shadow: 0px 1px 2px rgba(60, 64, 67, 0.3), 0px 1px 3px 1px rgba(60, 64, 67, 0.15);\n",
              "      fill: #174EA6;\n",
              "    }\n",
              "\n",
              "    [theme=dark] .colab-df-convert {\n",
              "      background-color: #3B4455;\n",
              "      fill: #D2E3FC;\n",
              "    }\n",
              "\n",
              "    [theme=dark] .colab-df-convert:hover {\n",
              "      background-color: #434B5C;\n",
              "      box-shadow: 0px 1px 3px 1px rgba(0, 0, 0, 0.15);\n",
              "      filter: drop-shadow(0px 1px 2px rgba(0, 0, 0, 0.3));\n",
              "      fill: #FFFFFF;\n",
              "    }\n",
              "  </style>\n",
              "\n",
              "      <script>\n",
              "        const buttonEl =\n",
              "          document.querySelector('#df-74995be6-82e6-4234-a165-705152b078f5 button.colab-df-convert');\n",
              "        buttonEl.style.display =\n",
              "          google.colab.kernel.accessAllowed ? 'block' : 'none';\n",
              "\n",
              "        async function convertToInteractive(key) {\n",
              "          const element = document.querySelector('#df-74995be6-82e6-4234-a165-705152b078f5');\n",
              "          const dataTable =\n",
              "            await google.colab.kernel.invokeFunction('convertToInteractive',\n",
              "                                                     [key], {});\n",
              "          if (!dataTable) return;\n",
              "\n",
              "          const docLinkHtml = 'Like what you see? Visit the ' +\n",
              "            '<a target=\"_blank\" href=https://colab.research.google.com/notebooks/data_table.ipynb>data table notebook</a>'\n",
              "            + ' to learn more about interactive tables.';\n",
              "          element.innerHTML = '';\n",
              "          dataTable['output_type'] = 'display_data';\n",
              "          await google.colab.output.renderOutput(dataTable, element);\n",
              "          const docLink = document.createElement('div');\n",
              "          docLink.innerHTML = docLinkHtml;\n",
              "          element.appendChild(docLink);\n",
              "        }\n",
              "      </script>\n",
              "    </div>\n",
              "  </div>\n",
              "  "
            ]
          },
          "metadata": {},
          "execution_count": 20
        }
      ],
      "source": [
        "sample_df"
      ]
    },
    {
      "cell_type": "markdown",
      "metadata": {
        "id": "NInZnrFJfjue"
      },
      "source": [
        "<div class=\"alert alert-block alert-info\">\n",
        "\n",
        "### Комментарий студента: \n",
        "Поправил.\n",
        "\n",
        "</div>"
      ]
    },
    {
      "cell_type": "markdown",
      "metadata": {
        "id": "G0VSDL4HDWLO"
      },
      "source": [
        "<details>\n",
        "\n",
        "<summary>Подсказка</summary>\n",
        "Эту задачу стоит декомпозировать. Сформируйте запрос, который отобразит номер месяца и количество постов. Затем можно использовать оконную функцию, которая вернёт значение за предыдущий месяц, и посчитать процент.\n",
        "</details>"
      ]
    },
    {
      "cell_type": "markdown",
      "metadata": {
        "id": "9NQE2y_MDWLP"
      },
      "source": [
        "Постройте круговую диаграмму с количеством постов по месяцам."
      ]
    },
    {
      "cell_type": "code",
      "execution_count": 21,
      "metadata": {
        "id": "377ABjiVDWLP",
        "colab": {
          "base_uri": "https://localhost:8080/",
          "height": 829
        },
        "outputId": "b9a7d9ea-5a14-4a3c-8f08-add6ebf7f771"
      },
      "outputs": [
        {
          "output_type": "display_data",
          "data": {
            "text/plain": [
              "<Figure size 1000x1000 with 1 Axes>"
            ],
            "image/png": "[encoded data removed]"
          },
          "metadata": {}
        }
      ],
      "source": [
        "# постройте круговую диаграмму с количеством постов по месяцам\n",
        "colors = sns.color_palette('pastel')[ 0:5 ] # цветовая схема\n",
        "\n",
        "plt.figure(figsize=(10, 10)) # задаём размер графика\n",
        "plt.pie(sample_df['posts_count'], labels = sample_df['creation_month'], colors = colors, autopct='%.0f%%')\n",
        "plt.title('Круговая диаграмма')\n",
        "plt.show()"
      ]
    },
    {
      "cell_type": "markdown",
      "metadata": {
        "id": "uw7qMtafDWLP"
      },
      "source": [
        "# Задание 10"
      ]
    },
    {
      "cell_type": "markdown",
      "metadata": {
        "id": "oRBpWKx3DWLQ"
      },
      "source": [
        "Выгрузите данные активности пользователя, который опубликовал больше всего постов за всё время. Выведите данные за октябрь 2008 года в таком виде:\n",
        "\n",
        "- номер недели;\n",
        "- дата и время последнего поста, опубликованного на этой неделе."
      ]
    },
    {
      "cell_type": "markdown",
      "metadata": {
        "id": "XjAWSn_3DWLQ"
      },
      "source": [
        "| week_creation | creation_date |\n",
        "| ------------- | ------------- |\n",
        "| 40 | 2008-10-05 09:00:58 |\n",
        "| 41 | 2008-10-12 21:22:23 |\n",
        "| ... | ... |"
      ]
    },
    {
      "cell_type": "code",
      "execution_count": 22,
      "metadata": {
        "id": "r5F5fSkwDWLQ",
        "colab": {
          "base_uri": "https://localhost:8080/",
          "height": 206
        },
        "outputId": "37ffc21c-746f-4ffb-a3e8-a128592dc733"
      },
      "outputs": [
        {
          "output_type": "execute_result",
          "data": {
            "text/plain": [
              "   week_creation       creation_date\n",
              "0             40 2008-10-05 09:00:58\n",
              "1             41 2008-10-12 21:22:23\n",
              "2             42 2008-10-19 06:49:30\n",
              "3             43 2008-10-26 21:44:36\n",
              "4             44 2008-10-31 22:16:01"
            ],
            "text/html": [
              "\n",
              "  <div id=\"df-c268cc4f-33b3-486e-ad99-158b8c7b91cd\">\n",
              "    <div class=\"colab-df-container\">\n",
              "      <div>\n",
              "<style scoped>\n",
              "    .dataframe tbody tr th:only-of-type {\n",
              "        vertical-align: middle;\n",
              "    }\n",
              "\n",
              "    .dataframe tbody tr th {\n",
              "        vertical-align: top;\n",
              "    }\n",
              "\n",
              "    .dataframe thead th {\n",
              "        text-align: right;\n",
              "    }\n",
              "</style>\n",
              "<table border=\"1\" class=\"dataframe\">\n",
              "  <thead>\n",
              "    <tr style=\"text-align: right;\">\n",
              "      <th></th>\n",
              "      <th>week_creation</th>\n",
              "      <th>creation_date</th>\n",
              "    </tr>\n",
              "  </thead>\n",
              "  <tbody>\n",
              "    <tr>\n",
              "      <th>0</th>\n",
              "      <td>40</td>\n",
              "      <td>2008-10-05 09:00:58</td>\n",
              "    </tr>\n",
              "    <tr>\n",
              "      <th>1</th>\n",
              "      <td>41</td>\n",
              "      <td>2008-10-12 21:22:23</td>\n",
              "    </tr>\n",
              "    <tr>\n",
              "      <th>2</th>\n",
              "      <td>42</td>\n",
              "      <td>2008-10-19 06:49:30</td>\n",
              "    </tr>\n",
              "    <tr>\n",
              "      <th>3</th>\n",
              "      <td>43</td>\n",
              "      <td>2008-10-26 21:44:36</td>\n",
              "    </tr>\n",
              "    <tr>\n",
              "      <th>4</th>\n",
              "      <td>44</td>\n",
              "      <td>2008-10-31 22:16:01</td>\n",
              "    </tr>\n",
              "  </tbody>\n",
              "</table>\n",
              "</div>\n",
              "      <button class=\"colab-df-convert\" onclick=\"convertToInteractive('df-c268cc4f-33b3-486e-ad99-158b8c7b91cd')\"\n",
              "              title=\"Convert this dataframe to an interactive table.\"\n",
              "              style=\"display:none;\">\n",
              "        \n",
              "  <svg xmlns=\"http://www.w3.org/2000/svg\" height=\"24px\"viewBox=\"0 0 24 24\"\n",
              "       width=\"24px\">\n",
              "    <path d=\"M0 0h24v24H0V0z\" fill=\"none\"/>\n",
              "    <path d=\"M18.56 5.44l.94 2.06.94-2.06 2.06-.94-2.06-.94-.94-2.06-.94 2.06-2.06.94zm-11 1L8.5 8.5l.94-2.06 2.06-.94-2.06-.94L8.5 2.5l-.94 2.06-2.06.94zm10 10l.94 2.06.94-2.06 2.06-.94-2.06-.94-.94-2.06-.94 2.06-2.06.94z\"/><path d=\"M17.41 7.96l-1.37-1.37c-.4-.4-.92-.59-1.43-.59-.52 0-1.04.2-1.43.59L10.3 9.45l-7.72 7.72c-.78.78-.78 2.05 0 2.83L4 21.41c.39.39.9.59 1.41.59.51 0 1.02-.2 1.41-.59l7.78-7.78 2.81-2.81c.8-.78.8-2.07 0-2.86zM5.41 20L4 18.59l7.72-7.72 1.47 1.35L5.41 20z\"/>\n",
              "  </svg>\n",
              "      </button>\n",
              "      \n",
              "  <style>\n",
              "    .colab-df-container {\n",
              "      display:flex;\n",
              "      flex-wrap:wrap;\n",
              "      gap: 12px;\n",
              "    }\n",
              "\n",
              "    .colab-df-convert {\n",
              "      background-color: #E8F0FE;\n",
              "      border: none;\n",
              "      border-radius: 50%;\n",
              "      cursor: pointer;\n",
              "      display: none;\n",
              "      fill: #1967D2;\n",
              "      height: 32px;\n",
              "      padding: 0 0 0 0;\n",
              "      width: 32px;\n",
              "    }\n",
              "\n",
              "    .colab-df-convert:hover {\n",
              "      background-color: #E2EBFA;\n",
              "      box-shadow: 0px 1px 2px rgba(60, 64, 67, 0.3), 0px 1px 3px 1px rgba(60, 64, 67, 0.15);\n",
              "      fill: #174EA6;\n",
              "    }\n",
              "\n",
              "    [theme=dark] .colab-df-convert {\n",
              "      background-color: #3B4455;\n",
              "      fill: #D2E3FC;\n",
              "    }\n",
              "\n",
              "    [theme=dark] .colab-df-convert:hover {\n",
              "      background-color: #434B5C;\n",
              "      box-shadow: 0px 1px 3px 1px rgba(0, 0, 0, 0.15);\n",
              "      filter: drop-shadow(0px 1px 2px rgba(0, 0, 0, 0.3));\n",
              "      fill: #FFFFFF;\n",
              "    }\n",
              "  </style>\n",
              "\n",
              "      <script>\n",
              "        const buttonEl =\n",
              "          document.querySelector('#df-c268cc4f-33b3-486e-ad99-158b8c7b91cd button.colab-df-convert');\n",
              "        buttonEl.style.display =\n",
              "          google.colab.kernel.accessAllowed ? 'block' : 'none';\n",
              "\n",
              "        async function convertToInteractive(key) {\n",
              "          const element = document.querySelector('#df-c268cc4f-33b3-486e-ad99-158b8c7b91cd');\n",
              "          const dataTable =\n",
              "            await google.colab.kernel.invokeFunction('convertToInteractive',\n",
              "                                                     [key], {});\n",
              "          if (!dataTable) return;\n",
              "\n",
              "          const docLinkHtml = 'Like what you see? Visit the ' +\n",
              "            '<a target=\"_blank\" href=https://colab.research.google.com/notebooks/data_table.ipynb>data table notebook</a>'\n",
              "            + ' to learn more about interactive tables.';\n",
              "          element.innerHTML = '';\n",
              "          dataTable['output_type'] = 'display_data';\n",
              "          await google.colab.output.renderOutput(dataTable, element);\n",
              "          const docLink = document.createElement('div');\n",
              "          docLink.innerHTML = docLinkHtml;\n",
              "          element.appendChild(docLink);\n",
              "        }\n",
              "      </script>\n",
              "    </div>\n",
              "  </div>\n",
              "  "
            ]
          },
          "metadata": {},
          "execution_count": 22
        }
      ],
      "source": [
        "# напишите запрос\n",
        "query = '''\n",
        "SELECT DISTINCT EXTRACT(WEEK FROM creation_date)::int as week_creation,\n",
        "    LAST_VALUE(creation_date) OVER (PARTITION BY EXTRACT(WEEK FROM creation_date)::int ORDER BY creation_date \n",
        "        ROWS BETWEEN UNBOUNDED PRECEDING AND UNBOUNDED FOLLOWING) AS creation_date\n",
        "FROM stackoverflow.posts\n",
        "WHERE creation_date::date >= '2008-10-01' \n",
        "    AND  creation_date::date <= '2008-10-31' \n",
        "    AND user_id = (SELECT user_id\n",
        "                FROM stackoverflow.posts \n",
        "                GROUP BY user_id\n",
        "                ORDER BY COUNT(id) DESC\n",
        "                LIMIT 1)\n",
        "'''\n",
        "\n",
        "# выполните запрос\n",
        "pd.read_sql_query(text(query), con=conn)"
      ]
    },
    {
      "cell_type": "markdown",
      "metadata": {
        "id": "KAcmxvLgDWLR"
      },
      "source": [
        "<details>\n",
        "\n",
        "<summary>Подсказка</summary>\n",
        "Декомпозируйте задачу:\n",
        "1) Найдите пользователя, который опубликовал больше всего постов. 2) Найдите дату и время создания каждого поста этого пользователя и номер недели. \n",
        "3) Отобразите данные только о последних постах пользователя. Для этого можно использовать оконную функцию.\n",
        "</details>"
      ]
    }
  ],
  "metadata": {
    "ExecuteTimeLog": [
      {
        "duration": 920,
        "start_time": "2022-11-29T12:08:24.514Z"
      },
      {
        "duration": 4,
        "start_time": "2022-11-29T12:08:27.207Z"
      },
      {
        "duration": 9213,
        "start_time": "2022-11-29T12:08:30.134Z"
      },
      {
        "duration": 57,
        "start_time": "2022-11-29T12:08:42.700Z"
      },
      {
        "duration": 18,
        "start_time": "2022-11-29T12:08:45.953Z"
      },
      {
        "duration": 178,
        "start_time": "2022-11-29T12:18:49.403Z"
      },
      {
        "duration": 88,
        "start_time": "2022-11-29T12:19:44.713Z"
      },
      {
        "duration": 137,
        "start_time": "2022-11-29T12:20:37.933Z"
      },
      {
        "duration": 127,
        "start_time": "2022-11-29T12:20:52.527Z"
      },
      {
        "duration": 111,
        "start_time": "2022-11-29T12:38:55.333Z"
      },
      {
        "duration": 120,
        "start_time": "2022-11-29T12:39:10.031Z"
      },
      {
        "duration": 617,
        "start_time": "2022-11-29T12:42:14.550Z"
      },
      {
        "duration": 628,
        "start_time": "2022-11-29T12:42:43.448Z"
      },
      {
        "duration": 500,
        "start_time": "2022-11-29T12:44:41.701Z"
      },
      {
        "duration": 152,
        "start_time": "2022-11-29T12:46:09.113Z"
      },
      {
        "duration": 107,
        "start_time": "2022-11-29T12:46:51.512Z"
      },
      {
        "duration": 111,
        "start_time": "2022-11-29T12:47:39.390Z"
      },
      {
        "duration": 96,
        "start_time": "2022-11-29T12:48:16.674Z"
      },
      {
        "duration": 169,
        "start_time": "2022-11-29T12:48:35.587Z"
      },
      {
        "duration": 90,
        "start_time": "2022-11-29T12:48:44.348Z"
      },
      {
        "duration": 109,
        "start_time": "2022-11-29T12:49:07.331Z"
      },
      {
        "duration": 124,
        "start_time": "2022-11-29T12:49:35.619Z"
      },
      {
        "duration": 118,
        "start_time": "2022-11-29T12:53:10.248Z"
      },
      {
        "duration": 110,
        "start_time": "2022-11-29T12:53:56.785Z"
      },
      {
        "duration": 9,
        "start_time": "2022-11-29T12:53:57.470Z"
      },
      {
        "duration": 27,
        "start_time": "2022-11-29T12:54:50.865Z"
      },
      {
        "duration": 2,
        "start_time": "2022-11-29T13:04:35.941Z"
      },
      {
        "duration": 99,
        "start_time": "2022-11-29T13:04:51.121Z"
      },
      {
        "duration": 112,
        "start_time": "2022-11-29T13:05:07.214Z"
      },
      {
        "duration": 95,
        "start_time": "2022-11-29T13:09:35.193Z"
      },
      {
        "duration": 107,
        "start_time": "2022-11-29T13:09:50.016Z"
      },
      {
        "duration": 83,
        "start_time": "2022-11-29T13:09:59.543Z"
      },
      {
        "duration": 64,
        "start_time": "2022-11-29T13:11:00.634Z"
      },
      {
        "duration": 83,
        "start_time": "2022-11-29T13:11:42.147Z"
      },
      {
        "duration": 88,
        "start_time": "2022-11-29T13:12:46.796Z"
      },
      {
        "duration": 79,
        "start_time": "2022-11-29T13:13:55.317Z"
      },
      {
        "duration": 112,
        "start_time": "2022-11-29T13:14:01.516Z"
      },
      {
        "duration": 103,
        "start_time": "2022-11-29T13:15:17.884Z"
      },
      {
        "duration": 120,
        "start_time": "2022-11-29T13:16:02.471Z"
      },
      {
        "duration": 90,
        "start_time": "2022-11-29T13:16:14.090Z"
      },
      {
        "duration": 77,
        "start_time": "2022-11-29T13:17:17.429Z"
      },
      {
        "duration": 59,
        "start_time": "2022-11-29T13:17:24.709Z"
      },
      {
        "duration": 165,
        "start_time": "2022-11-29T13:19:42.264Z"
      },
      {
        "duration": 114,
        "start_time": "2022-11-29T13:19:52.709Z"
      },
      {
        "duration": 71,
        "start_time": "2022-11-29T13:20:11.170Z"
      },
      {
        "duration": 45,
        "start_time": "2022-11-29T13:20:56.209Z"
      },
      {
        "duration": 46,
        "start_time": "2022-11-29T13:21:00.433Z"
      },
      {
        "duration": 110,
        "start_time": "2022-11-29T13:21:59.352Z"
      },
      {
        "duration": 97,
        "start_time": "2022-11-29T13:24:43.724Z"
      },
      {
        "duration": 112,
        "start_time": "2022-11-29T13:24:56.150Z"
      },
      {
        "duration": 55,
        "start_time": "2022-11-29T13:26:49.544Z"
      },
      {
        "duration": 45,
        "start_time": "2022-11-29T13:28:02.721Z"
      },
      {
        "duration": 44,
        "start_time": "2022-11-29T13:29:04.261Z"
      },
      {
        "duration": 53,
        "start_time": "2022-11-29T13:29:53.074Z"
      },
      {
        "duration": 147,
        "start_time": "2022-11-29T13:31:18.306Z"
      },
      {
        "duration": 130,
        "start_time": "2022-11-29T13:31:30.138Z"
      },
      {
        "duration": 117,
        "start_time": "2022-11-29T13:32:28.377Z"
      },
      {
        "duration": 742,
        "start_time": "2022-11-29T13:40:13.503Z"
      },
      {
        "duration": 4,
        "start_time": "2022-11-29T13:40:14.247Z"
      },
      {
        "duration": 9093,
        "start_time": "2022-11-29T13:40:14.254Z"
      },
      {
        "duration": 61,
        "start_time": "2022-11-29T13:40:23.349Z"
      },
      {
        "duration": 18,
        "start_time": "2022-11-29T13:40:23.412Z"
      },
      {
        "duration": 139,
        "start_time": "2022-11-29T13:40:23.431Z"
      },
      {
        "duration": 116,
        "start_time": "2022-11-29T13:40:23.572Z"
      },
      {
        "duration": 10,
        "start_time": "2022-11-29T13:40:23.689Z"
      },
      {
        "duration": 14,
        "start_time": "2022-11-29T13:40:23.701Z"
      },
      {
        "duration": 120,
        "start_time": "2022-11-29T13:40:23.718Z"
      },
      {
        "duration": 2,
        "start_time": "2022-11-29T13:40:23.840Z"
      },
      {
        "duration": 22,
        "start_time": "2022-11-29T13:40:23.844Z"
      },
      {
        "duration": 12,
        "start_time": "2022-11-29T13:40:23.868Z"
      },
      {
        "duration": 5,
        "start_time": "2022-11-29T13:40:23.882Z"
      },
      {
        "duration": 6,
        "start_time": "2022-11-29T13:40:23.888Z"
      },
      {
        "duration": 7,
        "start_time": "2022-11-29T13:40:23.895Z"
      },
      {
        "duration": 5,
        "start_time": "2022-11-29T13:40:23.903Z"
      },
      {
        "duration": 5,
        "start_time": "2022-11-29T13:40:23.910Z"
      },
      {
        "duration": 6,
        "start_time": "2022-11-29T13:40:23.917Z"
      },
      {
        "duration": 13,
        "start_time": "2022-11-29T13:40:23.925Z"
      },
      {
        "duration": 24,
        "start_time": "2022-11-29T13:40:23.940Z"
      },
      {
        "duration": 848,
        "start_time": "2022-11-30T07:27:28.471Z"
      },
      {
        "duration": 4,
        "start_time": "2022-11-30T07:27:29.321Z"
      },
      {
        "duration": 7242,
        "start_time": "2022-11-30T07:27:29.326Z"
      },
      {
        "duration": 245,
        "start_time": "2022-11-30T07:27:36.570Z"
      },
      {
        "duration": 15,
        "start_time": "2022-11-30T07:27:36.817Z"
      },
      {
        "duration": 172,
        "start_time": "2022-11-30T07:27:36.833Z"
      },
      {
        "duration": 149,
        "start_time": "2022-11-30T07:27:37.006Z"
      },
      {
        "duration": 9,
        "start_time": "2022-11-30T07:27:37.156Z"
      },
      {
        "duration": 17,
        "start_time": "2022-11-30T07:27:37.166Z"
      },
      {
        "duration": 160,
        "start_time": "2022-11-30T07:27:37.184Z"
      },
      {
        "duration": 3,
        "start_time": "2022-11-30T07:27:37.346Z"
      },
      {
        "duration": 6,
        "start_time": "2022-11-30T07:27:37.350Z"
      },
      {
        "duration": 6,
        "start_time": "2022-11-30T07:27:37.359Z"
      },
      {
        "duration": 7,
        "start_time": "2022-11-30T07:27:37.368Z"
      },
      {
        "duration": 18,
        "start_time": "2022-11-30T07:27:37.376Z"
      },
      {
        "duration": 8,
        "start_time": "2022-11-30T07:27:37.395Z"
      },
      {
        "duration": 8,
        "start_time": "2022-11-30T07:27:37.404Z"
      },
      {
        "duration": 7,
        "start_time": "2022-11-30T07:27:37.413Z"
      },
      {
        "duration": 10,
        "start_time": "2022-11-30T07:27:37.422Z"
      },
      {
        "duration": 6,
        "start_time": "2022-11-30T07:27:37.433Z"
      },
      {
        "duration": 5,
        "start_time": "2022-11-30T07:27:37.441Z"
      },
      {
        "duration": 3,
        "start_time": "2022-11-30T07:32:41.066Z"
      },
      {
        "duration": 170,
        "start_time": "2022-11-30T07:32:51.205Z"
      },
      {
        "duration": 113,
        "start_time": "2022-11-30T07:33:03.846Z"
      },
      {
        "duration": 1143,
        "start_time": "2022-11-30T07:33:16.891Z"
      },
      {
        "duration": 129,
        "start_time": "2022-11-30T07:42:04.697Z"
      },
      {
        "duration": 112,
        "start_time": "2022-11-30T07:42:40.717Z"
      },
      {
        "duration": 121,
        "start_time": "2022-11-30T07:42:50.778Z"
      },
      {
        "duration": 101,
        "start_time": "2022-11-30T07:45:31.800Z"
      },
      {
        "duration": 71,
        "start_time": "2022-11-30T07:45:43.343Z"
      },
      {
        "duration": 70,
        "start_time": "2022-11-30T07:46:28.034Z"
      },
      {
        "duration": 131,
        "start_time": "2022-11-30T07:57:56.931Z"
      },
      {
        "duration": 129,
        "start_time": "2022-11-30T07:58:08.325Z"
      },
      {
        "duration": 123,
        "start_time": "2022-11-30T07:58:19.084Z"
      },
      {
        "duration": 195,
        "start_time": "2022-11-30T08:01:24.524Z"
      },
      {
        "duration": 105,
        "start_time": "2022-11-30T08:01:40.293Z"
      },
      {
        "duration": 122,
        "start_time": "2022-11-30T08:01:57.964Z"
      },
      {
        "duration": 128,
        "start_time": "2022-11-30T08:05:47.458Z"
      },
      {
        "duration": 103,
        "start_time": "2022-11-30T08:06:02.294Z"
      },
      {
        "duration": 184,
        "start_time": "2022-11-30T08:06:23.150Z"
      },
      {
        "duration": 102,
        "start_time": "2022-11-30T08:06:53.378Z"
      },
      {
        "duration": 75,
        "start_time": "2022-11-30T08:08:54.347Z"
      },
      {
        "duration": 3,
        "start_time": "2022-11-30T08:24:54.874Z"
      },
      {
        "duration": 513,
        "start_time": "2022-11-30T08:25:02.864Z"
      },
      {
        "duration": 110,
        "start_time": "2022-11-30T08:25:09.754Z"
      },
      {
        "duration": 1144,
        "start_time": "2022-11-30T08:25:20.533Z"
      },
      {
        "duration": 1061,
        "start_time": "2022-11-30T08:27:27.104Z"
      },
      {
        "duration": 134,
        "start_time": "2022-11-30T08:29:14.592Z"
      },
      {
        "duration": 111,
        "start_time": "2022-11-30T08:31:23.572Z"
      },
      {
        "duration": 125,
        "start_time": "2022-11-30T08:32:04.617Z"
      },
      {
        "duration": 113,
        "start_time": "2022-11-30T08:33:46.728Z"
      },
      {
        "duration": 104,
        "start_time": "2022-11-30T08:33:58.253Z"
      },
      {
        "duration": 102,
        "start_time": "2022-11-30T08:34:22.104Z"
      },
      {
        "duration": 100,
        "start_time": "2022-11-30T08:34:30.962Z"
      },
      {
        "duration": 108,
        "start_time": "2022-11-30T08:34:37.052Z"
      },
      {
        "duration": 149,
        "start_time": "2022-11-30T08:34:57.124Z"
      },
      {
        "duration": 110,
        "start_time": "2022-11-30T08:35:38.297Z"
      },
      {
        "duration": 1130,
        "start_time": "2022-11-30T08:46:10.305Z"
      },
      {
        "duration": 1081,
        "start_time": "2022-11-30T08:48:04.561Z"
      },
      {
        "duration": 1071,
        "start_time": "2022-11-30T08:48:44.422Z"
      },
      {
        "duration": 1163,
        "start_time": "2022-11-30T08:48:59.609Z"
      },
      {
        "duration": 1144,
        "start_time": "2022-11-30T08:49:24.294Z"
      },
      {
        "duration": 1142,
        "start_time": "2022-11-30T08:49:46.990Z"
      },
      {
        "duration": 3,
        "start_time": "2022-11-30T10:44:00.505Z"
      },
      {
        "duration": 865,
        "start_time": "2022-11-30T10:44:37.933Z"
      },
      {
        "duration": 466,
        "start_time": "2022-11-30T10:45:22.334Z"
      },
      {
        "duration": 938,
        "start_time": "2022-11-30T10:46:06.824Z"
      },
      {
        "duration": 130,
        "start_time": "2022-11-30T10:47:59.077Z"
      },
      {
        "duration": 108,
        "start_time": "2022-11-30T10:48:35.330Z"
      },
      {
        "duration": 185,
        "start_time": "2022-11-30T10:48:41.919Z"
      },
      {
        "duration": 246,
        "start_time": "2022-11-30T10:49:20.098Z"
      },
      {
        "duration": 117,
        "start_time": "2022-11-30T10:51:30.439Z"
      },
      {
        "duration": 112,
        "start_time": "2022-11-30T10:55:37.164Z"
      },
      {
        "duration": 102,
        "start_time": "2022-11-30T10:55:50.580Z"
      },
      {
        "duration": 199,
        "start_time": "2022-11-30T10:56:08.861Z"
      },
      {
        "duration": 114,
        "start_time": "2022-11-30T10:56:19.932Z"
      },
      {
        "duration": 96,
        "start_time": "2022-11-30T10:58:41.582Z"
      },
      {
        "duration": 344,
        "start_time": "2022-11-30T10:58:55.736Z"
      },
      {
        "duration": 351,
        "start_time": "2022-11-30T11:00:33.267Z"
      },
      {
        "duration": 105,
        "start_time": "2022-11-30T11:02:58.964Z"
      },
      {
        "duration": 366,
        "start_time": "2022-11-30T11:03:54.878Z"
      },
      {
        "duration": 103,
        "start_time": "2022-11-30T11:06:11.073Z"
      },
      {
        "duration": 369,
        "start_time": "2022-11-30T11:07:13.826Z"
      },
      {
        "duration": 349,
        "start_time": "2022-11-30T11:07:40.533Z"
      },
      {
        "duration": 115,
        "start_time": "2022-11-30T11:09:51.115Z"
      },
      {
        "duration": 358,
        "start_time": "2022-11-30T11:10:24.947Z"
      },
      {
        "duration": 361,
        "start_time": "2022-11-30T11:11:09.764Z"
      },
      {
        "duration": 348,
        "start_time": "2022-11-30T11:11:25.028Z"
      },
      {
        "duration": 361,
        "start_time": "2022-11-30T11:12:07.954Z"
      },
      {
        "duration": 348,
        "start_time": "2022-11-30T11:12:26.273Z"
      },
      {
        "duration": 343,
        "start_time": "2022-11-30T11:12:55.050Z"
      },
      {
        "duration": 10,
        "start_time": "2022-11-30T11:13:03.535Z"
      },
      {
        "duration": 15,
        "start_time": "2022-11-30T11:16:47.829Z"
      },
      {
        "duration": 508,
        "start_time": "2022-11-30T11:17:22.804Z"
      },
      {
        "duration": 468,
        "start_time": "2022-11-30T11:17:32.388Z"
      },
      {
        "duration": 52,
        "start_time": "2022-11-30T11:33:53.212Z"
      },
      {
        "duration": 49,
        "start_time": "2022-11-30T11:33:57.594Z"
      },
      {
        "duration": 1186,
        "start_time": "2022-11-30T11:34:12.883Z"
      },
      {
        "duration": 5,
        "start_time": "2022-11-30T11:34:14.071Z"
      },
      {
        "duration": 6316,
        "start_time": "2022-11-30T11:34:14.077Z"
      },
      {
        "duration": 213,
        "start_time": "2022-11-30T11:34:20.395Z"
      },
      {
        "duration": 14,
        "start_time": "2022-11-30T11:34:20.610Z"
      },
      {
        "duration": 156,
        "start_time": "2022-11-30T11:34:20.626Z"
      },
      {
        "duration": 142,
        "start_time": "2022-11-30T11:34:20.784Z"
      },
      {
        "duration": 10,
        "start_time": "2022-11-30T11:34:20.928Z"
      },
      {
        "duration": 42,
        "start_time": "2022-11-30T11:34:20.939Z"
      },
      {
        "duration": 49,
        "start_time": "2022-11-30T11:34:20.983Z"
      },
      {
        "duration": 1196,
        "start_time": "2022-11-30T11:34:21.034Z"
      },
      {
        "duration": 73,
        "start_time": "2022-11-30T11:34:22.231Z"
      },
      {
        "duration": 72,
        "start_time": "2022-11-30T11:34:22.305Z"
      },
      {
        "duration": 1092,
        "start_time": "2022-11-30T11:34:22.379Z"
      },
      {
        "duration": 348,
        "start_time": "2022-11-30T11:34:23.475Z"
      },
      {
        "duration": 10,
        "start_time": "2022-11-30T11:34:23.824Z"
      },
      {
        "duration": 7,
        "start_time": "2022-11-30T11:34:23.835Z"
      },
      {
        "duration": 450,
        "start_time": "2022-11-30T11:34:23.843Z"
      },
      {
        "duration": 2,
        "start_time": "2022-11-30T11:34:24.295Z"
      },
      {
        "duration": 14,
        "start_time": "2022-11-30T11:34:24.298Z"
      },
      {
        "duration": 11,
        "start_time": "2022-11-30T11:34:24.313Z"
      },
      {
        "duration": 143,
        "start_time": "2022-11-30T11:34:51.231Z"
      },
      {
        "duration": 395,
        "start_time": "2022-11-30T11:36:04.114Z"
      },
      {
        "duration": 765,
        "start_time": "2022-11-30T11:36:10.532Z"
      },
      {
        "duration": 756,
        "start_time": "2022-11-30T11:36:31.947Z"
      },
      {
        "duration": 234,
        "start_time": "2022-11-30T11:36:48.375Z"
      },
      {
        "duration": 100,
        "start_time": "2022-11-30T11:55:11.143Z"
      },
      {
        "duration": 228,
        "start_time": "2022-11-30T11:56:15.754Z"
      },
      {
        "duration": 238,
        "start_time": "2022-11-30T11:59:02.840Z"
      },
      {
        "duration": 230,
        "start_time": "2022-11-30T11:59:37.483Z"
      },
      {
        "duration": 6,
        "start_time": "2022-11-30T11:59:45.048Z"
      },
      {
        "duration": 100,
        "start_time": "2022-11-30T12:02:13.333Z"
      },
      {
        "duration": 155,
        "start_time": "2022-11-30T12:03:25.723Z"
      },
      {
        "duration": 94,
        "start_time": "2022-11-30T12:03:39.058Z"
      },
      {
        "duration": 117,
        "start_time": "2022-11-30T12:04:53.078Z"
      },
      {
        "duration": 2,
        "start_time": "2022-11-30T12:10:09.837Z"
      },
      {
        "duration": 233,
        "start_time": "2022-11-30T12:10:20.231Z"
      },
      {
        "duration": 97,
        "start_time": "2022-11-30T12:10:39.110Z"
      },
      {
        "duration": 102,
        "start_time": "2022-11-30T12:10:46.357Z"
      },
      {
        "duration": 694,
        "start_time": "2022-11-30T12:15:46.076Z"
      },
      {
        "duration": 571,
        "start_time": "2022-11-30T12:16:04.403Z"
      },
      {
        "duration": 1867,
        "start_time": "2022-11-30T12:18:22.329Z"
      },
      {
        "duration": 918,
        "start_time": "2022-11-30T12:19:20.678Z"
      },
      {
        "duration": 123,
        "start_time": "2022-11-30T12:22:17.201Z"
      },
      {
        "duration": 130,
        "start_time": "2022-11-30T12:22:42.058Z"
      },
      {
        "duration": 117,
        "start_time": "2022-11-30T12:23:10.841Z"
      },
      {
        "duration": 1233,
        "start_time": "2022-11-30T12:23:43.994Z"
      },
      {
        "duration": 4,
        "start_time": "2022-11-30T12:23:45.228Z"
      },
      {
        "duration": 6403,
        "start_time": "2022-11-30T12:23:45.234Z"
      },
      {
        "duration": 216,
        "start_time": "2022-11-30T12:23:51.638Z"
      },
      {
        "duration": 15,
        "start_time": "2022-11-30T12:23:51.857Z"
      },
      {
        "duration": 151,
        "start_time": "2022-11-30T12:23:51.873Z"
      },
      {
        "duration": 138,
        "start_time": "2022-11-30T12:23:52.026Z"
      },
      {
        "duration": 8,
        "start_time": "2022-11-30T12:23:52.166Z"
      },
      {
        "duration": 20,
        "start_time": "2022-11-30T12:23:52.176Z"
      },
      {
        "duration": 145,
        "start_time": "2022-11-30T12:23:52.197Z"
      },
      {
        "duration": 1153,
        "start_time": "2022-11-30T12:23:52.344Z"
      },
      {
        "duration": 71,
        "start_time": "2022-11-30T12:23:53.498Z"
      },
      {
        "duration": 73,
        "start_time": "2022-11-30T12:23:53.570Z"
      },
      {
        "duration": 1133,
        "start_time": "2022-11-30T12:23:53.646Z"
      },
      {
        "duration": 363,
        "start_time": "2022-11-30T12:23:54.782Z"
      },
      {
        "duration": 9,
        "start_time": "2022-11-30T12:23:55.147Z"
      },
      {
        "duration": 6,
        "start_time": "2022-11-30T12:23:55.158Z"
      },
      {
        "duration": 439,
        "start_time": "2022-11-30T12:23:55.165Z"
      },
      {
        "duration": 240,
        "start_time": "2022-11-30T12:23:55.606Z"
      },
      {
        "duration": 6,
        "start_time": "2022-11-30T12:23:55.848Z"
      },
      {
        "duration": 104,
        "start_time": "2022-11-30T12:23:55.856Z"
      },
      {
        "duration": 114,
        "start_time": "2022-11-30T12:23:55.962Z"
      },
      {
        "duration": 1326,
        "start_time": "2022-11-30T15:18:41.706Z"
      },
      {
        "duration": 3,
        "start_time": "2022-11-30T15:18:43.034Z"
      },
      {
        "duration": 8223,
        "start_time": "2022-11-30T15:18:43.039Z"
      },
      {
        "duration": 230,
        "start_time": "2022-11-30T15:18:51.263Z"
      },
      {
        "duration": 13,
        "start_time": "2022-11-30T15:18:51.496Z"
      },
      {
        "duration": 183,
        "start_time": "2022-11-30T15:18:51.511Z"
      },
      {
        "duration": 138,
        "start_time": "2022-11-30T15:18:51.696Z"
      },
      {
        "duration": 9,
        "start_time": "2022-11-30T15:18:51.835Z"
      },
      {
        "duration": 21,
        "start_time": "2022-11-30T15:18:51.845Z"
      },
      {
        "duration": 144,
        "start_time": "2022-11-30T15:18:51.867Z"
      },
      {
        "duration": 1300,
        "start_time": "2022-11-30T15:18:52.012Z"
      },
      {
        "duration": 72,
        "start_time": "2022-11-30T15:18:53.313Z"
      },
      {
        "duration": 69,
        "start_time": "2022-11-30T15:18:53.387Z"
      },
      {
        "duration": 1126,
        "start_time": "2022-11-30T15:18:53.459Z"
      },
      {
        "duration": 351,
        "start_time": "2022-11-30T15:18:54.587Z"
      },
      {
        "duration": 8,
        "start_time": "2022-11-30T15:18:54.940Z"
      },
      {
        "duration": 6,
        "start_time": "2022-11-30T15:18:54.950Z"
      },
      {
        "duration": 489,
        "start_time": "2022-11-30T15:18:54.957Z"
      },
      {
        "duration": 241,
        "start_time": "2022-11-30T15:18:55.447Z"
      },
      {
        "duration": 7,
        "start_time": "2022-11-30T15:18:55.690Z"
      },
      {
        "duration": 105,
        "start_time": "2022-11-30T15:18:55.698Z"
      },
      {
        "duration": 115,
        "start_time": "2022-11-30T15:18:55.805Z"
      },
      {
        "duration": 68,
        "start_time": "2022-11-30T15:31:36.263Z"
      },
      {
        "duration": 73,
        "start_time": "2022-11-30T15:31:39.950Z"
      },
      {
        "duration": 120,
        "start_time": "2022-11-30T15:33:02.914Z"
      },
      {
        "duration": 118,
        "start_time": "2022-11-30T15:33:07.180Z"
      },
      {
        "duration": 1425,
        "start_time": "2022-11-30T21:18:08.580Z"
      },
      {
        "duration": 4,
        "start_time": "2022-11-30T21:18:10.007Z"
      },
      {
        "duration": 6414,
        "start_time": "2022-11-30T21:18:10.012Z"
      },
      {
        "duration": 235,
        "start_time": "2022-11-30T21:18:16.429Z"
      },
      {
        "duration": 18,
        "start_time": "2022-11-30T21:18:16.666Z"
      },
      {
        "duration": 153,
        "start_time": "2022-11-30T21:18:16.686Z"
      },
      {
        "duration": 137,
        "start_time": "2022-11-30T21:18:16.848Z"
      },
      {
        "duration": 9,
        "start_time": "2022-11-30T21:18:16.987Z"
      },
      {
        "duration": 15,
        "start_time": "2022-11-30T21:18:16.997Z"
      },
      {
        "duration": 147,
        "start_time": "2022-11-30T21:18:17.015Z"
      },
      {
        "duration": 1245,
        "start_time": "2022-11-30T21:18:17.164Z"
      },
      {
        "duration": 66,
        "start_time": "2022-11-30T21:18:18.410Z"
      },
      {
        "duration": 71,
        "start_time": "2022-11-30T21:18:18.478Z"
      },
      {
        "duration": 1110,
        "start_time": "2022-11-30T21:18:18.551Z"
      },
      {
        "duration": 336,
        "start_time": "2022-11-30T21:18:19.663Z"
      },
      {
        "duration": 10,
        "start_time": "2022-11-30T21:18:20.001Z"
      },
      {
        "duration": 10,
        "start_time": "2022-11-30T21:18:20.013Z"
      },
      {
        "duration": 485,
        "start_time": "2022-11-30T21:18:20.025Z"
      },
      {
        "duration": 235,
        "start_time": "2022-11-30T21:18:20.512Z"
      },
      {
        "duration": 7,
        "start_time": "2022-11-30T21:18:20.751Z"
      },
      {
        "duration": 116,
        "start_time": "2022-11-30T21:18:20.760Z"
      },
      {
        "duration": 113,
        "start_time": "2022-11-30T21:18:20.877Z"
      },
      {
        "duration": 55,
        "start_time": "2022-11-30T21:23:59.922Z"
      },
      {
        "duration": 1235,
        "start_time": "2022-11-30T21:26:27.816Z"
      },
      {
        "duration": 4,
        "start_time": "2022-11-30T21:26:29.054Z"
      },
      {
        "duration": 6731,
        "start_time": "2022-11-30T21:26:29.059Z"
      },
      {
        "duration": 228,
        "start_time": "2022-11-30T21:26:35.793Z"
      },
      {
        "duration": 23,
        "start_time": "2022-11-30T21:26:36.023Z"
      },
      {
        "duration": 152,
        "start_time": "2022-11-30T21:26:36.047Z"
      },
      {
        "duration": 133,
        "start_time": "2022-11-30T21:26:36.200Z"
      },
      {
        "duration": 10,
        "start_time": "2022-11-30T21:26:36.337Z"
      },
      {
        "duration": 14,
        "start_time": "2022-11-30T21:26:36.349Z"
      },
      {
        "duration": 141,
        "start_time": "2022-11-30T21:26:36.367Z"
      },
      {
        "duration": 1271,
        "start_time": "2022-11-30T21:26:36.510Z"
      },
      {
        "duration": 73,
        "start_time": "2022-11-30T21:26:37.783Z"
      },
      {
        "duration": 70,
        "start_time": "2022-11-30T21:26:37.858Z"
      },
      {
        "duration": 1167,
        "start_time": "2022-11-30T21:26:37.930Z"
      },
      {
        "duration": 352,
        "start_time": "2022-11-30T21:26:39.099Z"
      },
      {
        "duration": 11,
        "start_time": "2022-11-30T21:26:39.453Z"
      },
      {
        "duration": 14,
        "start_time": "2022-11-30T21:26:39.466Z"
      },
      {
        "duration": 509,
        "start_time": "2022-11-30T21:26:39.482Z"
      },
      {
        "duration": 234,
        "start_time": "2022-11-30T21:26:39.993Z"
      },
      {
        "duration": 16,
        "start_time": "2022-11-30T21:26:40.229Z"
      },
      {
        "duration": 126,
        "start_time": "2022-11-30T21:26:40.247Z"
      },
      {
        "duration": 115,
        "start_time": "2022-11-30T21:26:40.375Z"
      }
    ],
    "colab": {
      "provenance": []
    },
    "kernelspec": {
      "display_name": "Python 3 (ipykernel)",
      "language": "python",
      "name": "python3"
    },
    "language_info": {
      "codemirror_mode": {
        "name": "ipython",
        "version": 3
      },
      "file_extension": ".py",
      "mimetype": "text/x-python",
      "name": "python",
      "nbconvert_exporter": "python",
      "pygments_lexer": "ipython3",
      "version": "3.9.5"
    },
    "toc": {
      "base_numbering": 1,
      "nav_menu": {},
      "number_sections": false,
      "sideBar": true,
      "skip_h1_title": false,
      "title_cell": "Table of Contents",
      "title_sidebar": "Contents",
      "toc_cell": false,
      "toc_position": {
        "height": "calc(100% - 180px)",
        "left": "10px",
        "top": "150px",
        "width": "234.361px"
      },
      "toc_section_display": true,
      "toc_window_display": true
    }
  },
  "nbformat": 4,
  "nbformat_minor": 0
}