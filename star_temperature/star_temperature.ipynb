{
 "cells": [
  {
   "cell_type": "markdown",
   "id": "cb7ce00a",
   "metadata": {
    "toc": true
   },
   "source": [
    "<h1>Содержание<span class=\"tocSkip\"></span></h1>\n",
    "<div class=\"toc\"><ul class=\"toc-item\"><li><span><a href=\"#Описание-проекта\" data-toc-modified-id=\"Описание-проекта-1\"><span class=\"toc-item-num\">1&nbsp;&nbsp;</span>Описание проекта</a></span></li><li><span><a href=\"#Загрузка-данных\" data-toc-modified-id=\"Загрузка-данных-2\"><span class=\"toc-item-num\">2&nbsp;&nbsp;</span>Загрузка данных</a></span></li><li><span><a href=\"#Предобработка-и-анализ-данных\" data-toc-modified-id=\"Предобработка-и-анализ-данных-3\"><span class=\"toc-item-num\">3&nbsp;&nbsp;</span>Предобработка и анализ данных</a></span><ul class=\"toc-item\"><li><span><a href=\"#Анализ-количественных-данных\" data-toc-modified-id=\"Анализ-количественных-данных-3.1\"><span class=\"toc-item-num\">3.1&nbsp;&nbsp;</span>Анализ количественных данных</a></span></li><li><span><a href=\"#Анализ-категориальных-данных\" data-toc-modified-id=\"Анализ-категориальных-данных-3.2\"><span class=\"toc-item-num\">3.2&nbsp;&nbsp;</span>Анализ категориальных данных</a></span></li><li><span><a href=\"#Выводы-по-анализу-данных\" data-toc-modified-id=\"Выводы-по-анализу-данных-3.3\"><span class=\"toc-item-num\">3.3&nbsp;&nbsp;</span>Выводы по анализу данных</a></span></li><li><span><a href=\"#Подготовка-данных-к-моделированию\" data-toc-modified-id=\"Подготовка-данных-к-моделированию-3.4\"><span class=\"toc-item-num\">3.4&nbsp;&nbsp;</span>Подготовка данных к моделированию</a></span></li></ul></li><li><span><a href=\"#Построение-базовой-нейронной-сети\" data-toc-modified-id=\"Построение-базовой-нейронной-сети-4\"><span class=\"toc-item-num\">4&nbsp;&nbsp;</span>Построение базовой нейронной сети</a></span><ul class=\"toc-item\"><li><span><a href=\"#Создание-и-обучение-НС\" data-toc-modified-id=\"Создание-и-обучение-НС-4.1\"><span class=\"toc-item-num\">4.1&nbsp;&nbsp;</span>Создание и обучение НС</a></span></li><li><span><a href=\"#График-«Факт-—-Прогноз»\" data-toc-modified-id=\"График-«Факт-—-Прогноз»-4.2\"><span class=\"toc-item-num\">4.2&nbsp;&nbsp;</span>График «Факт — Прогноз»</a></span></li><li><span><a href=\"#Выводы\" data-toc-modified-id=\"Выводы-4.3\"><span class=\"toc-item-num\">4.3&nbsp;&nbsp;</span>Выводы</a></span></li></ul></li><li><span><a href=\"#Улучшение-нейронной-сети\" data-toc-modified-id=\"Улучшение-нейронной-сети-5\"><span class=\"toc-item-num\">5&nbsp;&nbsp;</span>Улучшение нейронной сети</a></span><ul class=\"toc-item\"><li><span><a href=\"#Улучшение-модели\" data-toc-modified-id=\"Улучшение-модели-5.1\"><span class=\"toc-item-num\">5.1&nbsp;&nbsp;</span>Улучшение модели</a></span></li><li><span><a href=\"#Результаты-работы\" data-toc-modified-id=\"Результаты-работы-5.2\"><span class=\"toc-item-num\">5.2&nbsp;&nbsp;</span>Результаты работы</a></span></li><li><span><a href=\"#Выводы\" data-toc-modified-id=\"Выводы-5.3\"><span class=\"toc-item-num\">5.3&nbsp;&nbsp;</span>Выводы</a></span></li></ul></li><li><span><a href=\"#Выводы\" data-toc-modified-id=\"Выводы-6\"><span class=\"toc-item-num\">6&nbsp;&nbsp;</span>Выводы</a></span></li></ul></div>"
   ]
  },
  {
   "cell_type": "markdown",
   "id": "e350c8ca",
   "metadata": {},
   "source": [
    "# Прогнозирование темпаратуры звезды"
   ]
  },
  {
   "cell_type": "markdown",
   "id": "888539e5",
   "metadata": {},
   "source": [
    "## Описание проекта"
   ]
  },
  {
   "cell_type": "markdown",
   "id": "0b110763",
   "metadata": {},
   "source": [
    "**Заказчик**\n",
    "\n",
    "Обсерватории «Небо на ладони»\n",
    "\n",
    "**Задача:** \n",
    "C помощью нейросети определять температуру на поверхности обнаруженных звёзд.\n",
    "\n",
    "**Данные:**\n",
    "- Относительная светимость L/Lo — светимость звезды относительно Солнца;\n",
    "- Относительный радиус R/Ro — радиус звезды относительно радиуса Солнца;\n",
    "- Абсолютная звёздная величина Mv — физическая величина, характеризующая блеск звезды;\n",
    "- Звёздный цвет (white, red, blue, yellow, yellow-orange и др.) — цвет звезды, который определяют на основе спектрального анализа;\n",
    "- Тип звезды;\n",
    "- Абсолютная температура T(K) — температура на поверхности звезды в Кельвинах - целевой параметр.\n",
    "\n",
    "В базе обсерватории есть характеристики уже изученных 240 звёзд."
   ]
  },
  {
   "cell_type": "markdown",
   "id": "corresponding-armstrong",
   "metadata": {
    "ExecuteTime": {
     "end_time": "2022-05-05T04:58:05.692448Z",
     "start_time": "2022-05-05T04:58:05.688565Z"
    }
   },
   "source": [
    "## Загрузка данных"
   ]
  },
  {
   "cell_type": "code",
   "execution_count": 1,
   "id": "spectacular-folder",
   "metadata": {},
   "outputs": [],
   "source": [
    "# Загружаем библиотеки.\n",
    "import torch\n",
    "import torch.nn as nn\n",
    "import pandas as pd\n",
    "import numpy as np\n",
    "import seaborn as sns\n",
    "import matplotlib.pyplot as plt\n",
    "import matplotlib.ticker as ticker\n",
    "from sklearn.model_selection import train_test_split\n",
    "from sklearn.metrics import mean_squared_error\n",
    "from sklearn.preprocessing import StandardScaler\n",
    "from math import sqrt, ceil"
   ]
  },
  {
   "cell_type": "code",
   "execution_count": 2,
   "id": "84893717",
   "metadata": {},
   "outputs": [],
   "source": [
    "#Сохраняем путь к файлу на сервере Практикума.\n",
    "server_path = '/datasets/6_class.csv' \n",
    "\n",
    "#Сохраняем путь к файлу на компьютере. \n",
    "local_path = 'datasets/6_class.csv' \n",
    "\n",
    "try:                                                   #Пробуем найти данные по сетевому адресу,\n",
    "    df = pd.read_csv(server_path) \n",
    "except:                                                #если не находим по сетевому, ищем по локальному.\n",
    "    df = pd.read_csv(local_path) "
   ]
  },
  {
   "cell_type": "code",
   "execution_count": 3,
   "id": "e5eaff25",
   "metadata": {
    "scrolled": true
   },
   "outputs": [
    {
     "data": {
      "text/html": [
       "<div>\n",
       "<style scoped>\n",
       "    .dataframe tbody tr th:only-of-type {\n",
       "        vertical-align: middle;\n",
       "    }\n",
       "\n",
       "    .dataframe tbody tr th {\n",
       "        vertical-align: top;\n",
       "    }\n",
       "\n",
       "    .dataframe thead th {\n",
       "        text-align: right;\n",
       "    }\n",
       "</style>\n",
       "<table border=\"1\" class=\"dataframe\">\n",
       "  <thead>\n",
       "    <tr style=\"text-align: right;\">\n",
       "      <th></th>\n",
       "      <th>Unnamed: 0</th>\n",
       "      <th>Temperature (K)</th>\n",
       "      <th>Luminosity(L/Lo)</th>\n",
       "      <th>Radius(R/Ro)</th>\n",
       "      <th>Absolute magnitude(Mv)</th>\n",
       "      <th>Star type</th>\n",
       "      <th>Star color</th>\n",
       "    </tr>\n",
       "  </thead>\n",
       "  <tbody>\n",
       "    <tr>\n",
       "      <th>0</th>\n",
       "      <td>0</td>\n",
       "      <td>3068</td>\n",
       "      <td>0.002400</td>\n",
       "      <td>0.1700</td>\n",
       "      <td>16.12</td>\n",
       "      <td>0</td>\n",
       "      <td>Red</td>\n",
       "    </tr>\n",
       "    <tr>\n",
       "      <th>1</th>\n",
       "      <td>1</td>\n",
       "      <td>3042</td>\n",
       "      <td>0.000500</td>\n",
       "      <td>0.1542</td>\n",
       "      <td>16.60</td>\n",
       "      <td>0</td>\n",
       "      <td>Red</td>\n",
       "    </tr>\n",
       "    <tr>\n",
       "      <th>2</th>\n",
       "      <td>2</td>\n",
       "      <td>2600</td>\n",
       "      <td>0.000300</td>\n",
       "      <td>0.1020</td>\n",
       "      <td>18.70</td>\n",
       "      <td>0</td>\n",
       "      <td>Red</td>\n",
       "    </tr>\n",
       "    <tr>\n",
       "      <th>3</th>\n",
       "      <td>3</td>\n",
       "      <td>2800</td>\n",
       "      <td>0.000200</td>\n",
       "      <td>0.1600</td>\n",
       "      <td>16.65</td>\n",
       "      <td>0</td>\n",
       "      <td>Red</td>\n",
       "    </tr>\n",
       "    <tr>\n",
       "      <th>4</th>\n",
       "      <td>4</td>\n",
       "      <td>1939</td>\n",
       "      <td>0.000138</td>\n",
       "      <td>0.1030</td>\n",
       "      <td>20.06</td>\n",
       "      <td>0</td>\n",
       "      <td>Red</td>\n",
       "    </tr>\n",
       "  </tbody>\n",
       "</table>\n",
       "</div>"
      ],
      "text/plain": [
       "   Unnamed: 0  Temperature (K)  Luminosity(L/Lo)  Radius(R/Ro)  \\\n",
       "0           0             3068          0.002400        0.1700   \n",
       "1           1             3042          0.000500        0.1542   \n",
       "2           2             2600          0.000300        0.1020   \n",
       "3           3             2800          0.000200        0.1600   \n",
       "4           4             1939          0.000138        0.1030   \n",
       "\n",
       "   Absolute magnitude(Mv)  Star type Star color  \n",
       "0                   16.12          0        Red  \n",
       "1                   16.60          0        Red  \n",
       "2                   18.70          0        Red  \n",
       "3                   16.65          0        Red  \n",
       "4                   20.06          0        Red  "
      ]
     },
     "execution_count": 3,
     "metadata": {},
     "output_type": "execute_result"
    }
   ],
   "source": [
    "# Проверяем заргузку данных.\n",
    "df.head()"
   ]
  },
  {
   "cell_type": "code",
   "execution_count": 4,
   "id": "7fe62639",
   "metadata": {},
   "outputs": [
    {
     "name": "stdout",
     "output_type": "stream",
     "text": [
      "<class 'pandas.core.frame.DataFrame'>\n",
      "RangeIndex: 240 entries, 0 to 239\n",
      "Data columns (total 7 columns):\n",
      " #   Column                  Non-Null Count  Dtype  \n",
      "---  ------                  --------------  -----  \n",
      " 0   Unnamed: 0              240 non-null    int64  \n",
      " 1   Temperature (K)         240 non-null    int64  \n",
      " 2   Luminosity(L/Lo)        240 non-null    float64\n",
      " 3   Radius(R/Ro)            240 non-null    float64\n",
      " 4   Absolute magnitude(Mv)  240 non-null    float64\n",
      " 5   Star type               240 non-null    int64  \n",
      " 6   Star color              240 non-null    object \n",
      "dtypes: float64(3), int64(3), object(1)\n",
      "memory usage: 13.2+ KB\n"
     ]
    }
   ],
   "source": [
    "# Проверяем типы и нуливые значения.\n",
    "df.info()"
   ]
  },
  {
   "cell_type": "code",
   "execution_count": 5,
   "id": "d6524ebb",
   "metadata": {},
   "outputs": [],
   "source": [
    "# Убираем лишнее, можно всегда воспользоваться индексами. \n",
    "df = df.drop(['Unnamed: 0'], axis=1)"
   ]
  },
  {
   "cell_type": "code",
   "execution_count": 6,
   "id": "08fc3ef3",
   "metadata": {},
   "outputs": [],
   "source": [
    "# Переименовываем для удобства.\n",
    "df.columns = ['temperature', 'luminosity', 'radius', 'absolute_magnitude', 'star_type', 'star_color']"
   ]
  },
  {
   "cell_type": "code",
   "execution_count": 7,
   "id": "7031f8ee",
   "metadata": {},
   "outputs": [
    {
     "data": {
      "text/plain": [
       "Index(['temperature', 'luminosity', 'radius', 'absolute_magnitude',\n",
       "       'star_type', 'star_color'],\n",
       "      dtype='object')"
      ]
     },
     "execution_count": 7,
     "metadata": {},
     "output_type": "execute_result"
    }
   ],
   "source": [
    "# Проверяем результат.\n",
    "df.columns"
   ]
  },
  {
   "cell_type": "markdown",
   "id": "simple-subdivision",
   "metadata": {},
   "source": [
    "## Предобработка и анализ данных"
   ]
  },
  {
   "cell_type": "code",
   "execution_count": 8,
   "id": "flush-dream",
   "metadata": {},
   "outputs": [],
   "source": [
    "categorical = ['star_type', 'star_color']\n",
    "numeric = ['temperature', 'luminosity', 'radius', 'absolute_magnitude']"
   ]
  },
  {
   "cell_type": "markdown",
   "id": "3262bb5a",
   "metadata": {},
   "source": [
    "### Анализ количественных данных"
   ]
  },
  {
   "cell_type": "code",
   "execution_count": 9,
   "id": "fc26867e",
   "metadata": {},
   "outputs": [
    {
     "data": {
      "text/html": [
       "<div>\n",
       "<style scoped>\n",
       "    .dataframe tbody tr th:only-of-type {\n",
       "        vertical-align: middle;\n",
       "    }\n",
       "\n",
       "    .dataframe tbody tr th {\n",
       "        vertical-align: top;\n",
       "    }\n",
       "\n",
       "    .dataframe thead th {\n",
       "        text-align: right;\n",
       "    }\n",
       "</style>\n",
       "<table border=\"1\" class=\"dataframe\">\n",
       "  <thead>\n",
       "    <tr style=\"text-align: right;\">\n",
       "      <th></th>\n",
       "      <th>temperature</th>\n",
       "      <th>luminosity</th>\n",
       "      <th>radius</th>\n",
       "      <th>absolute_magnitude</th>\n",
       "    </tr>\n",
       "  </thead>\n",
       "  <tbody>\n",
       "    <tr>\n",
       "      <th>count</th>\n",
       "      <td>240.000000</td>\n",
       "      <td>240.000000</td>\n",
       "      <td>240.000000</td>\n",
       "      <td>240.000000</td>\n",
       "    </tr>\n",
       "    <tr>\n",
       "      <th>mean</th>\n",
       "      <td>10497.462500</td>\n",
       "      <td>107188.361635</td>\n",
       "      <td>237.157781</td>\n",
       "      <td>4.382396</td>\n",
       "    </tr>\n",
       "    <tr>\n",
       "      <th>std</th>\n",
       "      <td>9552.425037</td>\n",
       "      <td>179432.244940</td>\n",
       "      <td>517.155763</td>\n",
       "      <td>10.532512</td>\n",
       "    </tr>\n",
       "    <tr>\n",
       "      <th>min</th>\n",
       "      <td>1939.000000</td>\n",
       "      <td>0.000080</td>\n",
       "      <td>0.008400</td>\n",
       "      <td>-11.920000</td>\n",
       "    </tr>\n",
       "    <tr>\n",
       "      <th>25%</th>\n",
       "      <td>3344.250000</td>\n",
       "      <td>0.000865</td>\n",
       "      <td>0.102750</td>\n",
       "      <td>-6.232500</td>\n",
       "    </tr>\n",
       "    <tr>\n",
       "      <th>50%</th>\n",
       "      <td>5776.000000</td>\n",
       "      <td>0.070500</td>\n",
       "      <td>0.762500</td>\n",
       "      <td>8.313000</td>\n",
       "    </tr>\n",
       "    <tr>\n",
       "      <th>75%</th>\n",
       "      <td>15055.500000</td>\n",
       "      <td>198050.000000</td>\n",
       "      <td>42.750000</td>\n",
       "      <td>13.697500</td>\n",
       "    </tr>\n",
       "    <tr>\n",
       "      <th>max</th>\n",
       "      <td>40000.000000</td>\n",
       "      <td>849420.000000</td>\n",
       "      <td>1948.500000</td>\n",
       "      <td>20.060000</td>\n",
       "    </tr>\n",
       "  </tbody>\n",
       "</table>\n",
       "</div>"
      ],
      "text/plain": [
       "        temperature     luminosity       radius  absolute_magnitude\n",
       "count    240.000000     240.000000   240.000000          240.000000\n",
       "mean   10497.462500  107188.361635   237.157781            4.382396\n",
       "std     9552.425037  179432.244940   517.155763           10.532512\n",
       "min     1939.000000       0.000080     0.008400          -11.920000\n",
       "25%     3344.250000       0.000865     0.102750           -6.232500\n",
       "50%     5776.000000       0.070500     0.762500            8.313000\n",
       "75%    15055.500000  198050.000000    42.750000           13.697500\n",
       "max    40000.000000  849420.000000  1948.500000           20.060000"
      ]
     },
     "execution_count": 9,
     "metadata": {},
     "output_type": "execute_result"
    }
   ],
   "source": [
    "# Характеристики количественных данных.\n",
    "df[numeric].describe()"
   ]
  },
  {
   "cell_type": "code",
   "execution_count": 10,
   "id": "edaf7f6c",
   "metadata": {
    "scrolled": false
   },
   "outputs": [
    {
     "data": {
      "image/png": "[encoded data removed]",
      "text/plain": [
       "<Figure size 648x648 with 1 Axes>"
      ]
     },
     "metadata": {
      "needs_background": "light"
     },
     "output_type": "display_data"
    },
    {
     "data": {
      "image/png": "[encoded data removed]",
      "text/plain": [
       "<Figure size 648x648 with 1 Axes>"
      ]
     },
     "metadata": {
      "needs_background": "light"
     },
     "output_type": "display_data"
    },
    {
     "data": {
      "image/png": "[encoded data removed]",
      "text/plain": [
       "<Figure size 648x648 with 1 Axes>"
      ]
     },
     "metadata": {
      "needs_background": "light"
     },
     "output_type": "display_data"
    },
    {
     "data": {
      "image/png": "[encoded data removed]",
      "text/plain": [
       "<Figure size 648x648 with 1 Axes>"
      ]
     },
     "metadata": {
      "needs_background": "light"
     },
     "output_type": "display_data"
    }
   ],
   "source": [
    "# Строим гистограммы плотности по количественным данным. \n",
    "for column in numeric:\n",
    "    plt.subplots(figsize=(9, 9))\n",
    "    plt.title(column, fontsize=16)\n",
    "    sns.histplot(      # гистограммы плотности\n",
    "            df[column], \n",
    "            kde=True,\n",
    "            stat=\"density\", \n",
    "            linewidth=1)       \n",
    "    plt.grid(True)\n",
    "    plt.show()"
   ]
  },
  {
   "cell_type": "markdown",
   "id": "f340ce28",
   "metadata": {},
   "source": [
    "### Анализ категориальных данных  "
   ]
  },
  {
   "cell_type": "code",
   "execution_count": 11,
   "id": "6cbfc92a",
   "metadata": {},
   "outputs": [
    {
     "data": {
      "text/plain": [
       "0    0.166667\n",
       "1    0.166667\n",
       "2    0.166667\n",
       "3    0.166667\n",
       "4    0.166667\n",
       "5    0.166667\n",
       "Name: star_type, dtype: float64"
      ]
     },
     "execution_count": 11,
     "metadata": {},
     "output_type": "execute_result"
    }
   ],
   "source": [
    "# Смотрим распределение по типу звезд. \n",
    "df['star_type'].value_counts(normalize=True)"
   ]
  },
  {
   "cell_type": "code",
   "execution_count": 12,
   "id": "643b6be8",
   "metadata": {},
   "outputs": [
    {
     "data": {
      "text/plain": [
       "array(['Red', 'Blue White', 'White', 'Yellowish White', 'Blue white',\n",
       "       'Pale yellow orange', 'Blue', 'Blue-white', 'Whitish',\n",
       "       'yellow-white', 'Orange', 'White-Yellow', 'white', 'Blue ',\n",
       "       'yellowish', 'Yellowish', 'Orange-Red', 'Blue white ',\n",
       "       'Blue-White'], dtype=object)"
      ]
     },
     "execution_count": 12,
     "metadata": {},
     "output_type": "execute_result"
    }
   ],
   "source": [
    "# Смотрим значения цвета. \n",
    "df['star_color'].unique()"
   ]
  },
  {
   "cell_type": "code",
   "execution_count": 13,
   "id": "98aa65d5",
   "metadata": {},
   "outputs": [],
   "source": [
    "# Приводим к одному регистру\n",
    "df['star_color'] = df['star_color'].str.lower()"
   ]
  },
  {
   "cell_type": "code",
   "execution_count": 14,
   "id": "33ad4fb8",
   "metadata": {},
   "outputs": [],
   "source": [
    "# Заменяем дубликаты.\n",
    "colors = {\n",
    "    'blue_white': ['blue white', 'blue-white', 'blue white '],\n",
    "    'blue': ['blue '],\n",
    "    'white': ['whitish'],\n",
    "    'white_yellow': ['white-yellow', 'yellow-white', 'yellowish white'],\n",
    "    'yellow': ['yellowish'],\n",
    "    'yellow_orange': ['pale yellow orange'],\n",
    "    'orange_red': ['orange-red']                  \n",
    "}\n",
    "\n",
    "for key, val in colors.items():\n",
    "    for i in val:\n",
    "        df.loc[df['star_color'] == i, 'star_color'] = key    "
   ]
  },
  {
   "cell_type": "code",
   "execution_count": 15,
   "id": "31dabb2e",
   "metadata": {},
   "outputs": [
    {
     "data": {
      "text/plain": [
       "array(['red', 'blue_white', 'white', 'white_yellow', 'yellow_orange',\n",
       "       'blue', 'orange', 'yellow', 'orange_red'], dtype=object)"
      ]
     },
     "execution_count": 15,
     "metadata": {},
     "output_type": "execute_result"
    }
   ],
   "source": [
    "# Проверяем результат\n",
    "df['star_color'].unique()"
   ]
  },
  {
   "cell_type": "code",
   "execution_count": 16,
   "id": "b926c550",
   "metadata": {},
   "outputs": [
    {
     "data": {
      "text/plain": [
       "red              0.466667\n",
       "blue             0.233333\n",
       "blue_white       0.170833\n",
       "white            0.050000\n",
       "white_yellow     0.050000\n",
       "yellow           0.012500\n",
       "orange           0.008333\n",
       "orange_red       0.004167\n",
       "yellow_orange    0.004167\n",
       "Name: star_color, dtype: float64"
      ]
     },
     "execution_count": 16,
     "metadata": {},
     "output_type": "execute_result"
    }
   ],
   "source": [
    "# # Смотрим распределение по цвету. \n",
    "df['star_color'].value_counts(normalize=True)"
   ]
  },
  {
   "cell_type": "code",
   "execution_count": 17,
   "id": "4ae7ad0b",
   "metadata": {},
   "outputs": [],
   "source": [
    "# Укрупняем классы.\n",
    "df.loc[df['star_color'].isin(['yellow_orange', 'orange_red']), 'star_color'] = 'orange'"
   ]
  },
  {
   "cell_type": "code",
   "execution_count": 18,
   "id": "a15640d3",
   "metadata": {},
   "outputs": [
    {
     "data": {
      "image/png": "[encoded data removed]",
      "text/plain": [
       "<Figure size 648x648 with 1 Axes>"
      ]
     },
     "metadata": {
      "needs_background": "light"
     },
     "output_type": "display_data"
    }
   ],
   "source": [
    "# Выводим столбчатую диаграмму\n",
    "col = df['star_color'].value_counts(normalize=True)\n",
    "plt.subplots(figsize=(9, 9))\n",
    "plt.title('star_color', fontsize=16)\n",
    "sns.barplot(\n",
    "    x=col.index,\n",
    "    y=col)\n",
    "plt.grid(True)\n",
    "plt.ylabel('shape')\n",
    "plt.xticks(rotation=45)\n",
    "plt.show()"
   ]
  },
  {
   "cell_type": "code",
   "execution_count": 19,
   "id": "7a7cef77",
   "metadata": {},
   "outputs": [],
   "source": [
    "# Убираем радиус.--\n",
    "df = df.drop(['radius'], axis=1)"
   ]
  },
  {
   "cell_type": "markdown",
   "id": "2801eb32",
   "metadata": {},
   "source": [
    "### Выводы по анализу данных"
   ]
  },
  {
   "cell_type": "markdown",
   "id": "92a020f0",
   "metadata": {},
   "source": [
    "- Абсолютная температура T(K) – пуассоновское распределение с тяжелым правым хвостом, половина звёзд до 5700 К. \n",
    "- Относительная светимость (luminosity) – очень сильная разница между минимальным и максимальным значением 10 в 10 раза, но есть группа объектов со светимостью 200000;\n",
    "- Относительный радиус (radius) – довольно тяжелые данные для анализа сильный разброс сильные выбросы, если попробовать категорировать скорее всего получим шкалу очень похожую на тип звезды, решил оказаться от этого параметра; \n",
    "- Абсолютная звёздная величина (absolute_magnitude)  – интересное распределение с 2 явными группами, шкала довольно компактная выбросов аномалий нет;\n",
    "- Звёздный цвет (star_color) – много неявных дубликатов, исправил, плюс есть маленькие группы yellow_orange', 'orange_red' их объединил с 'orange', привел шкалу цветов к принятой классификации;\n",
    "- Тип звезды (star_type) – всех типов по 40 штук, очень любопытно;"
   ]
  },
  {
   "cell_type": "markdown",
   "id": "67401c90",
   "metadata": {},
   "source": [
    "### Подготовка данных к моделированию"
   ]
  },
  {
   "cell_type": "code",
   "execution_count": 20,
   "id": "deff7e28",
   "metadata": {},
   "outputs": [],
   "source": [
    "df_ohe = pd.get_dummies( # OHE двух признаков\n",
    "    df,\n",
    "    drop_first=True,\n",
    "    columns=categorical\n",
    ")"
   ]
  },
  {
   "cell_type": "code",
   "execution_count": 21,
   "id": "a42b3aa1",
   "metadata": {},
   "outputs": [],
   "source": [
    "# Разбиваем на признаки и целевой признак.\n",
    "target = df_ohe['temperature']\n",
    "features = df_ohe.drop(['temperature'] , axis=1)"
   ]
  },
  {
   "cell_type": "code",
   "execution_count": 22,
   "id": "ef88e6b5",
   "metadata": {},
   "outputs": [],
   "source": [
    "# Разбиваем на тренеровочную и валидационную выборки\n",
    "features_train, features_test, target_train, target_test = train_test_split(\n",
    "    features,\n",
    "    target, \n",
    "    test_size=0.3, \n",
    "    random_state=12345,\n",
    "    shuffle=True,\n",
    ")"
   ]
  },
  {
   "cell_type": "code",
   "execution_count": 23,
   "id": "291ad449",
   "metadata": {},
   "outputs": [
    {
     "name": "stdout",
     "output_type": "stream",
     "text": [
      "(168, 13)\n",
      "(168,)\n",
      "(72, 13)\n",
      "(72,)\n"
     ]
    }
   ],
   "source": [
    "# Проверяем разбиение\n",
    "print(features_train.shape)\n",
    "print(target_train.shape)\n",
    "print(features_test.shape)\n",
    "print(target_test.shape)"
   ]
  },
  {
   "cell_type": "code",
   "execution_count": 24,
   "id": "78592da1",
   "metadata": {},
   "outputs": [],
   "source": [
    "# Скалируем метрики.\n",
    "pd.options.mode.chained_assignment = None\n",
    "\n",
    "numeric = ['luminosity',\n",
    "           'absolute_magnitude']\n",
    "\n",
    "scaler = StandardScaler()\n",
    "scaler.fit(features_train[numeric])\n",
    "features_train[numeric] = scaler.transform(features_train[numeric])\n",
    "features_test[numeric] = scaler.transform(features_test[numeric])"
   ]
  },
  {
   "cell_type": "code",
   "execution_count": 25,
   "id": "5bf3eb01",
   "metadata": {},
   "outputs": [],
   "source": [
    "# Создаем тензоры\n",
    "X_train = torch.FloatTensor(features_train.values)\n",
    "X_test = torch.FloatTensor(features_test.values)\n",
    "y_train = torch.FloatTensor(target_train.values)\n",
    "y_test = torch.FloatTensor(target_test.values)"
   ]
  },
  {
   "cell_type": "markdown",
   "id": "funded-electric",
   "metadata": {},
   "source": [
    "## Построение базовой нейронной сети"
   ]
  },
  {
   "cell_type": "markdown",
   "id": "0e017dae",
   "metadata": {},
   "source": [
    "### Создание и обучение НС"
   ]
  },
  {
   "cell_type": "code",
   "execution_count": 26,
   "id": "4bd5b14c",
   "metadata": {},
   "outputs": [],
   "source": [
    "# Параметры НС.\n",
    "n_in_neurons = features_train.shape[1]\n",
    "n_hidden_neurons_1 = 10\n",
    "n_hidden_neurons_2 = 4\n",
    "n_out_neurons = 1\n",
    "learning_rate = 0.01\n",
    "num_epochs = 10000"
   ]
  },
  {
   "cell_type": "code",
   "execution_count": 27,
   "id": "forced-concentrate",
   "metadata": {},
   "outputs": [],
   "source": [
    "# Создаем класс НС, определяем два метода.\n",
    "class Baseline(nn.Module):\n",
    "    def __init__(self, n_in_neurons, n_hidden_neurons_1, # Инициализация\n",
    "                 n_hidden_neurons_2, n_out_neurons):\n",
    "        super(Baseline, self).__init__()\n",
    "\n",
    "        self.fc1 = nn.Linear(n_in_neurons, n_hidden_neurons_1)\n",
    "        self.act1 = nn.Tanh()\n",
    "               \n",
    "        self.fc2 = nn.Linear(n_hidden_neurons_1, n_hidden_neurons_2)\n",
    "        self.act2 = nn.ReLU()\n",
    "                \n",
    "        self.fc3 = nn.Linear(n_hidden_neurons_2, n_out_neurons)\n",
    "       \n",
    "        \n",
    "    def forward(self, x): # Вычисление\n",
    "        x = self.fc1(x)\n",
    "        x = self.act1(x)\n",
    "        x = self.fc2(x)\n",
    "        x = self.act2(x)\n",
    "        x = self.fc3(x)\n",
    "       \n",
    "        return x"
   ]
  },
  {
   "cell_type": "code",
   "execution_count": 28,
   "id": "16c0d5ed",
   "metadata": {},
   "outputs": [],
   "source": [
    "net = Baseline(n_in_neurons, n_hidden_neurons_1, n_hidden_neurons_2, n_out_neurons) # Создаем сеть.\n",
    "\n",
    "optimizer = torch.optim.Adam(net.parameters(), lr=learning_rate) # Определяем оптимизатор.\n",
    "\n",
    "loss = nn.MSELoss() #Задаем функцию потерь"
   ]
  },
  {
   "cell_type": "code",
   "execution_count": 29,
   "id": "06104f72",
   "metadata": {
    "scrolled": false
   },
   "outputs": [],
   "source": [
    "# Обучение НС\n",
    "\n",
    "rmse_train = []\n",
    "rmse_test = []\n",
    "epoch_100 = []\n",
    "\n",
    "for epoch in range(num_epochs):\n",
    "    optimizer.zero_grad()\n",
    "\n",
    "    preds = net.forward(X_train).flatten()\n",
    "\n",
    "    loss_value = loss(preds, y_train)\n",
    "    loss_value.backward()\n",
    "\n",
    "    optimizer.step()\n",
    "\n",
    "    if epoch % 100 == 0 or epoch == num_epochs - 1:\n",
    "        net.eval()\n",
    "        train_preds = net.forward(X_train)\n",
    "        test_preds = net.forward(X_test)\n",
    "        rmse_train.append(sqrt(mean_squared_error(y_train.detach().numpy(), train_preds.detach().numpy())))\n",
    "        rmse_test.append(sqrt(mean_squared_error(y_test.detach().numpy(), test_preds.detach().numpy())))\n",
    "        epoch_100.append(epoch)\n",
    "        "
   ]
  },
  {
   "cell_type": "code",
   "execution_count": 30,
   "id": "97f6daf3",
   "metadata": {},
   "outputs": [
    {
     "data": {
      "image/png": "[encoded data removed]",
      "text/plain": [
       "<Figure size 720x720 with 1 Axes>"
      ]
     },
     "metadata": {
      "needs_background": "light"
     },
     "output_type": "display_data"
    }
   ],
   "source": [
    "# Строим график изменения RMSE от количества эпох.\n",
    "plt.figure(figsize=(10, 10))\n",
    "plt.step(epoch_100, rmse_train, where='post')\n",
    "plt.step(epoch_100, rmse_test, where='post')\n",
    "plt.xlabel('epoch')\n",
    "plt.ylabel('RMSE')\n",
    "plt.grid(True)\n",
    "plt.title('Кривая Epoch-RMSE')\n",
    "plt.legend(['Тренировочная', 'Тестовая'])\n",
    "plt.show() "
   ]
  },
  {
   "cell_type": "markdown",
   "id": "70864585",
   "metadata": {},
   "source": [
    "### График «Факт — Прогноз»"
   ]
  },
  {
   "cell_type": "code",
   "execution_count": 31,
   "id": "5f296cff",
   "metadata": {},
   "outputs": [],
   "source": [
    "# Вычисляем прогноз на тренировозных данных\n",
    "net.eval()\n",
    "pred_train = list(net.forward(X_train).detach().numpy())\n",
    "pred_train = pd.Series(pred_train, index=target_train.index).astype('int64').sort_index()"
   ]
  },
  {
   "cell_type": "code",
   "execution_count": 32,
   "id": "f007e507",
   "metadata": {},
   "outputs": [
    {
     "data": {
      "text/plain": [
       "2702.33"
      ]
     },
     "execution_count": 32,
     "metadata": {},
     "output_type": "execute_result"
    }
   ],
   "source": [
    "rmse_baseline_train = round(sqrt(mean_squared_error(target_train.sort_index(), pred_train)), 2)\n",
    "rmse_baseline_train"
   ]
  },
  {
   "cell_type": "code",
   "execution_count": 33,
   "id": "07f00240",
   "metadata": {},
   "outputs": [
    {
     "data": {
      "image/png": "[encoded data removed]",
      "text/plain": [
       "<Figure size 2160x1080 with 1 Axes>"
      ]
     },
     "metadata": {
      "needs_background": "light"
     },
     "output_type": "display_data"
    }
   ],
   "source": [
    "# Строим график\n",
    "plt.figure(figsize=(30, 15))\n",
    "plt.title('График «Факт — Прогноз» на тренировочных данных' )\n",
    "plt.xlabel('Номер звезды')\n",
    "plt.ylabel('Температура')\n",
    "plt.bar(x=pred_train.index, height = pred_train, width= 0.8)\n",
    "plt.bar(x=pred_train.index, height = target_train.sort_index(), width= 0.5, alpha=0.8)\n",
    "plt.legend(['Прогнозная', 'Фактическая'])\n",
    "plt.show() "
   ]
  },
  {
   "cell_type": "code",
   "execution_count": 34,
   "id": "6947da78",
   "metadata": {},
   "outputs": [],
   "source": [
    "# Вычисляем прогноз на валидационных данных\n",
    "net.eval()\n",
    "pred_test = list(net.forward(X_test).detach().numpy())\n",
    "pred_test = pd.Series(pred_test, index=target_test.index).astype('int64').sort_index()"
   ]
  },
  {
   "cell_type": "code",
   "execution_count": 35,
   "id": "f0fcb1e1",
   "metadata": {},
   "outputs": [
    {
     "data": {
      "text/plain": [
       "4260.16"
      ]
     },
     "execution_count": 35,
     "metadata": {},
     "output_type": "execute_result"
    }
   ],
   "source": [
    "rmse_baseline_test = round(sqrt(mean_squared_error(target_test.sort_index(), pred_test)), 2)\n",
    "rmse_baseline_test"
   ]
  },
  {
   "cell_type": "code",
   "execution_count": 36,
   "id": "ec9cd830",
   "metadata": {
    "scrolled": false
   },
   "outputs": [
    {
     "data": {
      "image/png": "[encoded data removed]",
      "text/plain": [
       "<Figure size 2160x1080 with 1 Axes>"
      ]
     },
     "metadata": {
      "needs_background": "light"
     },
     "output_type": "display_data"
    }
   ],
   "source": [
    "# Строим график\n",
    "plt.figure(figsize=(30, 15))\n",
    "plt.title('График «Факт — Прогноз» на тестовых данных' )\n",
    "plt.xlabel('Номер звезды')\n",
    "plt.ylabel('Температура')\n",
    "plt.bar(x=pred_test.index, height = pred_test, width= 0.8 )\n",
    "plt.bar(x=pred_test.index, height = target_test.sort_index(), width= 0.5 )\n",
    "plt.legend(['Прогнозная', 'Фактическая'])\n",
    "plt.show() "
   ]
  },
  {
   "cell_type": "markdown",
   "id": "5b380ad6",
   "metadata": {},
   "source": [
    "### Выводы"
   ]
  },
  {
   "cell_type": "markdown",
   "id": "3bfb3b86",
   "metadata": {},
   "source": [
    "- Модель плохо справляется с самыми горячими звездами, она занижает их температуру,\n",
    "- Где-то в районе 7500 8000 эпохи (иногда раньше) модель перестает улучшаться, и дальше начинает переобучатся. \n",
    "- Иногда модель нехотела сходится.\n",
    "- Пробовал разные способы генераци весов и смещения, решил использовать дефолтные.\n",
    "- Попробовал менять количество узлов и функции активации, остановился на этой. "
   ]
  },
  {
   "cell_type": "markdown",
   "id": "growing-supply",
   "metadata": {},
   "source": [
    "## Улучшение нейронной сети"
   ]
  },
  {
   "cell_type": "markdown",
   "id": "2555c31a",
   "metadata": {},
   "source": [
    "### Улучшение модели"
   ]
  },
  {
   "cell_type": "code",
   "execution_count": 37,
   "id": "62c708b9",
   "metadata": {},
   "outputs": [],
   "source": [
    "# Создаем класс новой НС, определяем два метода.\n",
    "class Baseline_new(nn.Module):\n",
    "    def __init__(self, n_in_neurons, n_hidden_neurons_1,\n",
    "                 n_hidden_neurons_2, n_out_neurons, p1, p2):\n",
    "        super(Baseline_new, self).__init__()\n",
    "\n",
    "        self.fc1 = nn.Linear(n_in_neurons, n_hidden_neurons_1)\n",
    "        self.act1 = nn.Tanh()\n",
    "        self.dp1 = nn.Dropout(p=p1)\n",
    "       \n",
    "        self.fc2 = nn.Linear(n_hidden_neurons_1, n_hidden_neurons_2)\n",
    "        self.act2 = nn.ReLU()\n",
    "        self.dp2 = nn.Dropout(p=p2)\n",
    "        \n",
    "        self.fc3 = nn.Linear(n_hidden_neurons_2, n_out_neurons)\n",
    "       \n",
    "       \n",
    "    def forward(self, x):\n",
    "        x = self.fc1(x)\n",
    "        x = self.act1(x)\n",
    "        x = self.dp1(x)\n",
    "        x = self.fc2(x)\n",
    "        x = self.act2(x)\n",
    "        x = self.dp2(x)\n",
    "        x = self.fc3(x)\n",
    "       \n",
    "        return x"
   ]
  },
  {
   "cell_type": "code",
   "execution_count": 38,
   "id": "b02ce7f8",
   "metadata": {},
   "outputs": [],
   "source": [
    "# Параметры для перебора, что бы уменьшить количество вложеных циклов объединил 3 парметра.\n",
    "# [размер батча, доля убираемых узлов после первого скрытого слоя, доля после второго]\n",
    "net_parametrs = {\n",
    "    'set_1': [84, 0, 0],\n",
    "    'set_2': [21, 0, 0],\n",
    "    'set_3': [84, 0.5, 0.25],\n",
    "    'set_4': [21, 0.5, 0.25],\n",
    "    'set_5': [84, 0.8, 0.25],\n",
    "    'set_6': [21, 0.8, 0.25],\n",
    "}"
   ]
  },
  {
   "cell_type": "code",
   "execution_count": 39,
   "id": "eba6f1cf",
   "metadata": {},
   "outputs": [],
   "source": [
    "# Для выбора лучшего и фиксации работы.\n",
    "rmse_train_set = ['rmse_train', rmse_baseline_train]\n",
    "rmse_test_set = ['rmse_test', rmse_baseline_test]\n",
    "best_rmse = rmse_baseline_test\n",
    "best_set = 'set_0'\n",
    "best_model = net"
   ]
  },
  {
   "cell_type": "code",
   "execution_count": 40,
   "id": "6cdd791e",
   "metadata": {},
   "outputs": [],
   "source": [
    "# Запускаем обучение.\n",
    "for sets, params in net_parametrs.items():\n",
    "    \n",
    "    net = Baseline_new(n_in_neurons, n_hidden_neurons_1, n_hidden_neurons_2, n_out_neurons, params[1], params[2])\n",
    "    optimizer = torch.optim.Adam(net.parameters(), lr=learning_rate)\n",
    "    loss = nn.MSELoss()\n",
    "    batch_size = params[0]\n",
    "    num_batches = ceil(len(X_train)/batch_size)\n",
    "    \n",
    "    num_epochs = 10000\n",
    "    for epoch in range(num_epochs):\n",
    "        order = np.random.permutation(len(X_train))# создайте случайную перестановку индексов объектов\n",
    "        for batch_idx in range(num_batches):\n",
    "            start_index = batch_idx * batch_size # посчитайте номер стартового объекта батча\n",
    "            optimizer.zero_grad()\n",
    "            batch_indexes = order[start_index:start_index+batch_size] # извлеките индексы объектов текущего обатча\n",
    "            X_batch = X_train[batch_indexes]\n",
    "            y_batch = y_train[batch_indexes]\n",
    "            preds = net.forward(X_batch).flatten()\n",
    "            loss_value = loss(preds, y_batch)\n",
    "            loss_value.backward()\n",
    "            optimizer.step()\n",
    "    \n",
    "    net.eval()\n",
    "    \n",
    "    pred_train = net.forward(X_train).detach().numpy()\n",
    "    pred_test = net.forward(X_test).detach().numpy()\n",
    "    rmse_train = sqrt(mean_squared_error(target_train, pred_train))\n",
    "    rmse_test = sqrt(mean_squared_error(target_test, pred_test))\n",
    "    rmse_train_set.append(round(rmse_train, 2))\n",
    "    rmse_test_set.append(round(rmse_test,2))\n",
    "    \n",
    "    \n",
    "    if rmse_train < best_rmse:\n",
    "        best_rmse = rmse_train\n",
    "        best_set = sets\n",
    "        best_model = net"
   ]
  },
  {
   "cell_type": "markdown",
   "id": "32d88277",
   "metadata": {},
   "source": [
    "### Результаты работы"
   ]
  },
  {
   "cell_type": "code",
   "execution_count": 41,
   "id": "48ae5157",
   "metadata": {},
   "outputs": [
    {
     "data": {
      "text/html": [
       "<div>\n",
       "<style scoped>\n",
       "    .dataframe tbody tr th:only-of-type {\n",
       "        vertical-align: middle;\n",
       "    }\n",
       "\n",
       "    .dataframe tbody tr th {\n",
       "        vertical-align: top;\n",
       "    }\n",
       "\n",
       "    .dataframe thead th {\n",
       "        text-align: right;\n",
       "    }\n",
       "</style>\n",
       "<table border=\"1\" class=\"dataframe\">\n",
       "  <thead>\n",
       "    <tr style=\"text-align: right;\">\n",
       "      <th></th>\n",
       "      <th>data</th>\n",
       "      <th>set_0</th>\n",
       "      <th>set_1</th>\n",
       "      <th>set_2</th>\n",
       "      <th>set_3</th>\n",
       "      <th>set_4</th>\n",
       "      <th>set_5</th>\n",
       "      <th>set_6</th>\n",
       "    </tr>\n",
       "  </thead>\n",
       "  <tbody>\n",
       "    <tr>\n",
       "      <th>0</th>\n",
       "      <td>rmse_train</td>\n",
       "      <td>2702.33</td>\n",
       "      <td>2751.26</td>\n",
       "      <td>2692.06</td>\n",
       "      <td>4011.60</td>\n",
       "      <td>3868.09</td>\n",
       "      <td>4771.44</td>\n",
       "      <td>4890.90</td>\n",
       "    </tr>\n",
       "    <tr>\n",
       "      <th>1</th>\n",
       "      <td>rmse_test</td>\n",
       "      <td>4260.16</td>\n",
       "      <td>4318.84</td>\n",
       "      <td>4313.12</td>\n",
       "      <td>4713.06</td>\n",
       "      <td>4594.09</td>\n",
       "      <td>5824.48</td>\n",
       "      <td>5930.64</td>\n",
       "    </tr>\n",
       "  </tbody>\n",
       "</table>\n",
       "</div>"
      ],
      "text/plain": [
       "         data    set_0    set_1    set_2    set_3    set_4    set_5    set_6\n",
       "0  rmse_train  2702.33  2751.26  2692.06  4011.60  3868.09  4771.44  4890.90\n",
       "1   rmse_test  4260.16  4318.84  4313.12  4713.06  4594.09  5824.48  5930.64"
      ]
     },
     "execution_count": 41,
     "metadata": {},
     "output_type": "execute_result"
    }
   ],
   "source": [
    "columns = [\n",
    "           'data', \n",
    "           'set_0',\n",
    "           'set_1',\n",
    "           'set_2',\n",
    "           'set_3',\n",
    "           'set_4',\n",
    "           'set_5',\n",
    "           'set_6']\n",
    "\n",
    "data = []\n",
    "data.append(rmse_train_set)\n",
    "data.append(rmse_test_set)\n",
    "pd.DataFrame(data=data, columns=columns)"
   ]
  },
  {
   "cell_type": "code",
   "execution_count": 42,
   "id": "c94f5ba8",
   "metadata": {},
   "outputs": [
    {
     "data": {
      "text/plain": [
       "{'set_1': [84, 0, 0],\n",
       " 'set_2': [21, 0, 0],\n",
       " 'set_3': [84, 0.5, 0.25],\n",
       " 'set_4': [21, 0.5, 0.25],\n",
       " 'set_5': [84, 0.8, 0.25],\n",
       " 'set_6': [21, 0.8, 0.25]}"
      ]
     },
     "execution_count": 42,
     "metadata": {},
     "output_type": "execute_result"
    }
   ],
   "source": [
    "net_parametrs"
   ]
  },
  {
   "cell_type": "code",
   "execution_count": 43,
   "id": "94619bbb",
   "metadata": {},
   "outputs": [
    {
     "name": "stdout",
     "output_type": "stream",
     "text": [
      "Параметры лучшей модели: [21, 0, 0]\n"
     ]
    }
   ],
   "source": [
    "if best_set != 'set_0':\n",
    "    print('Параметры лучшей модели:', net_parametrs[best_set])\n",
    "else:\n",
    "    print('Лучшая модель - исходная')"
   ]
  },
  {
   "cell_type": "code",
   "execution_count": 44,
   "id": "dc893ebf",
   "metadata": {},
   "outputs": [],
   "source": [
    "best_model.eval()\n",
    "pred_test = list(best_model.forward(X_test).detach().numpy())\n",
    "pred_test = pd.Series(pred_test, index=target_test.index).astype('int64').sort_index()"
   ]
  },
  {
   "cell_type": "code",
   "execution_count": 45,
   "id": "f3e0d7ef",
   "metadata": {
    "scrolled": false
   },
   "outputs": [
    {
     "data": {
      "image/png": "[encoded data removed]",
      "text/plain": [
       "<Figure size 2160x1080 with 1 Axes>"
      ]
     },
     "metadata": {
      "needs_background": "light"
     },
     "output_type": "display_data"
    }
   ],
   "source": [
    "# Строим график\n",
    "plt.figure(figsize=(30, 15))\n",
    "plt.title('График «Факт — Прогноз» на тестовых данных' )\n",
    "plt.xlabel('Номер звезды')\n",
    "plt.ylabel('Температура')\n",
    "plt.bar(x=pred_test.index, height = pred_test, width= 0.8 )\n",
    "plt.bar(x=pred_test.index, height = target_test.sort_index(), width= 0.5 )\n",
    "plt.legend(['Прогнозная', 'Фактическая'])\n",
    "plt.show() "
   ]
  },
  {
   "cell_type": "code",
   "execution_count": 46,
   "id": "b4bfa676",
   "metadata": {},
   "outputs": [
    {
     "data": {
      "text/plain": [
       "4313.24"
      ]
     },
     "execution_count": 46,
     "metadata": {},
     "output_type": "execute_result"
    }
   ],
   "source": [
    "round(sqrt(mean_squared_error(target_test.sort_index(), pred_test)), 2)"
   ]
  },
  {
   "cell_type": "markdown",
   "id": "b7af37e1",
   "metadata": {},
   "source": [
    "### Выводы"
   ]
  },
  {
   "cell_type": "markdown",
   "id": "81049849",
   "metadata": {},
   "source": [
    "- Применение батчей улучшило модель, и сократило переобучение;\n",
    "- «dropout» кажется не дает результата, модеть с сним не так сильно переобучается и кажется нужно еще немного эпох. Чем больше оключаемых слоев тем потребуется больше времени;\n",
    "- Результаты очень близкие явного преимущества нет, на качество скорее влияет начальная архитектура и качество исходных данных. "
   ]
  },
  {
   "cell_type": "markdown",
   "id": "accurate-infrastructure",
   "metadata": {},
   "source": [
    "## Выводы"
   ]
  },
  {
   "cell_type": "markdown",
   "id": "f222a871",
   "metadata": {},
   "source": [
    "- Исходная модель в сравнении с моделью с батчеме чуть хуже справляется с самыми горячими звездами, но ненамного. \n",
    "- Новая модель с батчами более устойчива к переобучению, но выполняется дольше, использование всего 2 и 8 подвыборки разница не сильно ощутима.  \n",
    "- Много зависит от начальной генерации, обе модели хорошшо справляются с холодными звездами до 5000 , в сегменте от 5000 до 20000 наблюдается завышении температуры, а в сегменте  выше 20000 ее занижение."
   ]
  },
  {
   "cell_type": "code",
   "execution_count": null,
   "id": "fc8c891b",
   "metadata": {},
   "outputs": [],
   "source": []
  }
 ],
 "metadata": {
  "ExecuteTimeLog": [
   {
    "duration": 1876,
    "start_time": "2022-12-21T07:03:27.792Z"
   },
   {
    "duration": 4,
    "start_time": "2022-12-21T07:09:04.080Z"
   },
   {
    "duration": 66,
    "start_time": "2022-12-21T07:14:21.914Z"
   },
   {
    "duration": 14,
    "start_time": "2022-12-21T07:14:33.833Z"
   },
   {
    "duration": 11,
    "start_time": "2022-12-21T07:16:15.354Z"
   },
   {
    "duration": 4,
    "start_time": "2022-12-21T07:18:45.476Z"
   },
   {
    "duration": 4,
    "start_time": "2022-12-21T07:19:05.467Z"
   },
   {
    "duration": 4,
    "start_time": "2022-12-21T07:22:19.219Z"
   },
   {
    "duration": 12,
    "start_time": "2022-12-21T07:22:29.735Z"
   },
   {
    "duration": 3,
    "start_time": "2022-12-21T07:26:17.811Z"
   },
   {
    "duration": 20,
    "start_time": "2022-12-21T07:29:16.696Z"
   },
   {
    "duration": 363,
    "start_time": "2022-12-21T07:34:54.497Z"
   },
   {
    "duration": 688,
    "start_time": "2022-12-21T07:35:13.341Z"
   },
   {
    "duration": 1050,
    "start_time": "2022-12-21T07:37:29.361Z"
   },
   {
    "duration": 886,
    "start_time": "2022-12-21T07:38:03.932Z"
   },
   {
    "duration": 132,
    "start_time": "2022-12-21T08:00:33.547Z"
   },
   {
    "duration": 139,
    "start_time": "2022-12-21T08:01:05.960Z"
   },
   {
    "duration": 251,
    "start_time": "2022-12-21T08:01:22.944Z"
   },
   {
    "duration": 191,
    "start_time": "2022-12-21T08:02:44.046Z"
   },
   {
    "duration": 227,
    "start_time": "2022-12-21T08:02:58.641Z"
   },
   {
    "duration": 79,
    "start_time": "2022-12-21T08:09:06.212Z"
   },
   {
    "duration": 5,
    "start_time": "2022-12-21T08:09:15.996Z"
   },
   {
    "duration": 7,
    "start_time": "2022-12-21T08:10:19.316Z"
   },
   {
    "duration": 4,
    "start_time": "2022-12-21T08:15:25.053Z"
   },
   {
    "duration": 3,
    "start_time": "2022-12-21T08:18:48.401Z"
   },
   {
    "duration": 4,
    "start_time": "2022-12-21T08:21:55.770Z"
   },
   {
    "duration": 75,
    "start_time": "2022-12-21T08:26:07.794Z"
   },
   {
    "duration": 5,
    "start_time": "2022-12-21T08:26:16.774Z"
   },
   {
    "duration": 4,
    "start_time": "2022-12-21T08:26:26.611Z"
   },
   {
    "duration": 72,
    "start_time": "2022-12-21T08:39:40.584Z"
   },
   {
    "duration": 10,
    "start_time": "2022-12-21T08:39:48.510Z"
   },
   {
    "duration": 10,
    "start_time": "2022-12-21T08:40:01.043Z"
   },
   {
    "duration": 4,
    "start_time": "2022-12-21T08:40:03.898Z"
   },
   {
    "duration": 5,
    "start_time": "2022-12-21T08:40:54.993Z"
   },
   {
    "duration": 98,
    "start_time": "2022-12-21T08:42:50.730Z"
   },
   {
    "duration": 140,
    "start_time": "2022-12-21T08:42:57.625Z"
   },
   {
    "duration": 165,
    "start_time": "2022-12-21T08:44:35.824Z"
   },
   {
    "duration": 1803,
    "start_time": "2022-12-21T08:45:54.049Z"
   },
   {
    "duration": 35,
    "start_time": "2022-12-21T08:45:55.854Z"
   },
   {
    "duration": 17,
    "start_time": "2022-12-21T08:45:55.891Z"
   },
   {
    "duration": 25,
    "start_time": "2022-12-21T08:45:55.909Z"
   },
   {
    "duration": 5,
    "start_time": "2022-12-21T08:45:55.937Z"
   },
   {
    "duration": 5,
    "start_time": "2022-12-21T08:45:55.943Z"
   },
   {
    "duration": 14,
    "start_time": "2022-12-21T08:45:55.950Z"
   },
   {
    "duration": 5,
    "start_time": "2022-12-21T08:45:55.966Z"
   },
   {
    "duration": 33,
    "start_time": "2022-12-21T08:45:55.973Z"
   },
   {
    "duration": 943,
    "start_time": "2022-12-21T08:45:56.008Z"
   },
   {
    "duration": 7,
    "start_time": "2022-12-21T08:45:56.953Z"
   },
   {
    "duration": 8,
    "start_time": "2022-12-21T08:45:56.962Z"
   },
   {
    "duration": 8,
    "start_time": "2022-12-21T08:45:56.972Z"
   },
   {
    "duration": 21,
    "start_time": "2022-12-21T08:45:56.988Z"
   },
   {
    "duration": 13,
    "start_time": "2022-12-21T08:45:57.011Z"
   },
   {
    "duration": 9,
    "start_time": "2022-12-21T08:45:57.026Z"
   },
   {
    "duration": 6,
    "start_time": "2022-12-21T08:45:57.037Z"
   },
   {
    "duration": 173,
    "start_time": "2022-12-21T08:45:57.044Z"
   },
   {
    "duration": 182,
    "start_time": "2022-12-21T08:46:41.290Z"
   },
   {
    "duration": 170,
    "start_time": "2022-12-21T08:48:40.375Z"
   },
   {
    "duration": 159,
    "start_time": "2022-12-21T08:48:49.310Z"
   },
   {
    "duration": 259,
    "start_time": "2022-12-21T08:49:54.291Z"
   },
   {
    "duration": 171,
    "start_time": "2022-12-21T08:50:00.618Z"
   },
   {
    "duration": 74,
    "start_time": "2022-12-21T08:58:02.616Z"
   },
   {
    "duration": 5,
    "start_time": "2022-12-21T08:59:18.413Z"
   },
   {
    "duration": 169,
    "start_time": "2022-12-21T08:59:33.084Z"
   },
   {
    "duration": 3,
    "start_time": "2022-12-21T09:00:45.651Z"
   },
   {
    "duration": 4,
    "start_time": "2022-12-21T09:00:57.960Z"
   },
   {
    "duration": 5,
    "start_time": "2022-12-21T09:01:07.109Z"
   },
   {
    "duration": 177,
    "start_time": "2022-12-21T09:01:08.992Z"
   },
   {
    "duration": 134,
    "start_time": "2022-12-21T09:01:23.823Z"
   },
   {
    "duration": 166,
    "start_time": "2022-12-21T09:01:54.109Z"
   },
   {
    "duration": 1762,
    "start_time": "2022-12-21T09:02:11.384Z"
   },
   {
    "duration": 28,
    "start_time": "2022-12-21T09:02:13.148Z"
   },
   {
    "duration": 15,
    "start_time": "2022-12-21T09:02:13.178Z"
   },
   {
    "duration": 12,
    "start_time": "2022-12-21T09:02:13.195Z"
   },
   {
    "duration": 10,
    "start_time": "2022-12-21T09:02:13.209Z"
   },
   {
    "duration": 8,
    "start_time": "2022-12-21T09:02:13.221Z"
   },
   {
    "duration": 17,
    "start_time": "2022-12-21T09:02:13.231Z"
   },
   {
    "duration": 6,
    "start_time": "2022-12-21T09:02:13.250Z"
   },
   {
    "duration": 48,
    "start_time": "2022-12-21T09:02:13.258Z"
   },
   {
    "duration": 915,
    "start_time": "2022-12-21T09:02:13.308Z"
   },
   {
    "duration": 7,
    "start_time": "2022-12-21T09:02:14.224Z"
   },
   {
    "duration": 9,
    "start_time": "2022-12-21T09:02:14.232Z"
   },
   {
    "duration": 8,
    "start_time": "2022-12-21T09:02:14.242Z"
   },
   {
    "duration": 10,
    "start_time": "2022-12-21T09:02:14.252Z"
   },
   {
    "duration": 7,
    "start_time": "2022-12-21T09:02:14.264Z"
   },
   {
    "duration": 5,
    "start_time": "2022-12-21T09:02:14.273Z"
   },
   {
    "duration": 187,
    "start_time": "2022-12-21T09:02:14.279Z"
   },
   {
    "duration": 4,
    "start_time": "2022-12-21T09:02:14.468Z"
   },
   {
    "duration": 169,
    "start_time": "2022-12-21T09:02:14.473Z"
   },
   {
    "duration": 1942,
    "start_time": "2022-12-21T09:15:35.777Z"
   },
   {
    "duration": 29,
    "start_time": "2022-12-21T09:15:37.722Z"
   },
   {
    "duration": 13,
    "start_time": "2022-12-21T09:15:37.753Z"
   },
   {
    "duration": 12,
    "start_time": "2022-12-21T09:15:37.768Z"
   },
   {
    "duration": 7,
    "start_time": "2022-12-21T09:15:37.782Z"
   },
   {
    "duration": 8,
    "start_time": "2022-12-21T09:15:37.790Z"
   },
   {
    "duration": 14,
    "start_time": "2022-12-21T09:15:37.800Z"
   },
   {
    "duration": 10,
    "start_time": "2022-12-21T09:15:37.816Z"
   },
   {
    "duration": 30,
    "start_time": "2022-12-21T09:15:37.828Z"
   },
   {
    "duration": 950,
    "start_time": "2022-12-21T09:15:37.860Z"
   },
   {
    "duration": 6,
    "start_time": "2022-12-21T09:15:38.812Z"
   },
   {
    "duration": 11,
    "start_time": "2022-12-21T09:15:38.819Z"
   },
   {
    "duration": 8,
    "start_time": "2022-12-21T09:15:38.832Z"
   },
   {
    "duration": 13,
    "start_time": "2022-12-21T09:15:38.842Z"
   },
   {
    "duration": 9,
    "start_time": "2022-12-21T09:15:38.856Z"
   },
   {
    "duration": 5,
    "start_time": "2022-12-21T09:15:38.866Z"
   },
   {
    "duration": 177,
    "start_time": "2022-12-21T09:15:38.872Z"
   },
   {
    "duration": 4,
    "start_time": "2022-12-21T09:15:39.050Z"
   },
   {
    "duration": 163,
    "start_time": "2022-12-21T09:15:39.055Z"
   },
   {
    "duration": 6,
    "start_time": "2022-12-21T09:16:04.195Z"
   },
   {
    "duration": 1802,
    "start_time": "2022-12-21T09:18:36.854Z"
   },
   {
    "duration": 29,
    "start_time": "2022-12-21T09:18:38.658Z"
   },
   {
    "duration": 14,
    "start_time": "2022-12-21T09:18:38.688Z"
   },
   {
    "duration": 12,
    "start_time": "2022-12-21T09:18:38.703Z"
   },
   {
    "duration": 5,
    "start_time": "2022-12-21T09:18:38.717Z"
   },
   {
    "duration": 5,
    "start_time": "2022-12-21T09:18:38.723Z"
   },
   {
    "duration": 14,
    "start_time": "2022-12-21T09:18:38.730Z"
   },
   {
    "duration": 5,
    "start_time": "2022-12-21T09:18:38.745Z"
   },
   {
    "duration": 22,
    "start_time": "2022-12-21T09:18:38.752Z"
   },
   {
    "duration": 880,
    "start_time": "2022-12-21T09:18:38.775Z"
   },
   {
    "duration": 5,
    "start_time": "2022-12-21T09:18:39.657Z"
   },
   {
    "duration": 7,
    "start_time": "2022-12-21T09:18:39.664Z"
   },
   {
    "duration": 7,
    "start_time": "2022-12-21T09:18:39.672Z"
   },
   {
    "duration": 23,
    "start_time": "2022-12-21T09:18:39.682Z"
   },
   {
    "duration": 9,
    "start_time": "2022-12-21T09:18:39.706Z"
   },
   {
    "duration": 11,
    "start_time": "2022-12-21T09:18:39.716Z"
   },
   {
    "duration": 7,
    "start_time": "2022-12-21T09:18:39.728Z"
   },
   {
    "duration": 176,
    "start_time": "2022-12-21T09:18:39.737Z"
   },
   {
    "duration": 3,
    "start_time": "2022-12-21T10:00:57.746Z"
   },
   {
    "duration": 6,
    "start_time": "2022-12-21T10:06:18.272Z"
   },
   {
    "duration": 4,
    "start_time": "2022-12-21T10:06:58.085Z"
   },
   {
    "duration": 134,
    "start_time": "2022-12-21T10:08:04.019Z"
   },
   {
    "duration": 8,
    "start_time": "2022-12-21T10:08:36.981Z"
   },
   {
    "duration": 5,
    "start_time": "2022-12-21T10:08:44.314Z"
   },
   {
    "duration": 4,
    "start_time": "2022-12-21T10:09:28.259Z"
   },
   {
    "duration": 14,
    "start_time": "2022-12-21T10:10:27.574Z"
   },
   {
    "duration": 5,
    "start_time": "2022-12-21T10:10:50.602Z"
   },
   {
    "duration": 13,
    "start_time": "2022-12-21T10:10:57.004Z"
   },
   {
    "duration": 4,
    "start_time": "2022-12-21T10:13:42.393Z"
   },
   {
    "duration": 6,
    "start_time": "2022-12-21T10:31:13.149Z"
   },
   {
    "duration": 4,
    "start_time": "2022-12-21T10:32:15.099Z"
   },
   {
    "duration": 6,
    "start_time": "2022-12-21T10:39:58.311Z"
   },
   {
    "duration": 10,
    "start_time": "2022-12-21T10:41:30.954Z"
   },
   {
    "duration": 3,
    "start_time": "2022-12-21T10:41:41.548Z"
   },
   {
    "duration": 14,
    "start_time": "2022-12-21T10:41:44.318Z"
   },
   {
    "duration": 6,
    "start_time": "2022-12-21T10:41:52.444Z"
   },
   {
    "duration": 14,
    "start_time": "2022-12-21T10:41:53.052Z"
   },
   {
    "duration": 6,
    "start_time": "2022-12-21T10:42:08.132Z"
   },
   {
    "duration": 4,
    "start_time": "2022-12-21T10:42:08.744Z"
   },
   {
    "duration": 18,
    "start_time": "2022-12-21T10:50:19.378Z"
   },
   {
    "duration": 15,
    "start_time": "2022-12-21T10:50:28.370Z"
   },
   {
    "duration": 7,
    "start_time": "2022-12-21T10:50:51.420Z"
   },
   {
    "duration": 4,
    "start_time": "2022-12-21T10:50:53.345Z"
   },
   {
    "duration": 21,
    "start_time": "2022-12-21T10:50:53.956Z"
   },
   {
    "duration": 4,
    "start_time": "2022-12-21T10:51:31.994Z"
   },
   {
    "duration": 246,
    "start_time": "2022-12-21T10:51:38.578Z"
   },
   {
    "duration": 4,
    "start_time": "2022-12-21T10:53:52.611Z"
   },
   {
    "duration": 347,
    "start_time": "2022-12-21T10:53:54.683Z"
   },
   {
    "duration": 6,
    "start_time": "2022-12-21T10:56:00.112Z"
   },
   {
    "duration": 5,
    "start_time": "2022-12-21T10:56:00.988Z"
   },
   {
    "duration": 278,
    "start_time": "2022-12-21T10:56:01.849Z"
   },
   {
    "duration": 6,
    "start_time": "2022-12-21T10:56:27.907Z"
   },
   {
    "duration": 332,
    "start_time": "2022-12-21T10:56:30.292Z"
   },
   {
    "duration": 2,
    "start_time": "2022-12-21T10:56:45.381Z"
   },
   {
    "duration": 5,
    "start_time": "2022-12-21T10:56:45.903Z"
   },
   {
    "duration": 4,
    "start_time": "2022-12-21T10:56:46.683Z"
   },
   {
    "duration": 383,
    "start_time": "2022-12-21T10:56:47.439Z"
   },
   {
    "duration": 5,
    "start_time": "2022-12-21T10:57:17.238Z"
   },
   {
    "duration": 4,
    "start_time": "2022-12-21T10:57:19.275Z"
   },
   {
    "duration": 4012,
    "start_time": "2022-12-21T10:57:19.902Z"
   },
   {
    "duration": 4,
    "start_time": "2022-12-21T10:58:34.157Z"
   },
   {
    "duration": 5,
    "start_time": "2022-12-21T10:58:36.238Z"
   },
   {
    "duration": 4,
    "start_time": "2022-12-21T10:58:36.676Z"
   },
   {
    "duration": 4069,
    "start_time": "2022-12-21T10:58:37.253Z"
   },
   {
    "duration": 3273,
    "start_time": "2022-12-21T10:58:54.134Z"
   },
   {
    "duration": 1788,
    "start_time": "2022-12-21T11:05:19.459Z"
   },
   {
    "duration": 29,
    "start_time": "2022-12-21T11:05:21.249Z"
   },
   {
    "duration": 13,
    "start_time": "2022-12-21T11:05:21.280Z"
   },
   {
    "duration": 11,
    "start_time": "2022-12-21T11:05:21.294Z"
   },
   {
    "duration": 8,
    "start_time": "2022-12-21T11:05:21.307Z"
   },
   {
    "duration": 8,
    "start_time": "2022-12-21T11:05:21.316Z"
   },
   {
    "duration": 13,
    "start_time": "2022-12-21T11:05:21.325Z"
   },
   {
    "duration": 8,
    "start_time": "2022-12-21T11:05:21.340Z"
   },
   {
    "duration": 36,
    "start_time": "2022-12-21T11:05:21.350Z"
   },
   {
    "duration": 959,
    "start_time": "2022-12-21T11:05:21.388Z"
   },
   {
    "duration": 6,
    "start_time": "2022-12-21T11:05:22.349Z"
   },
   {
    "duration": 8,
    "start_time": "2022-12-21T11:05:22.356Z"
   },
   {
    "duration": 9,
    "start_time": "2022-12-21T11:05:22.365Z"
   },
   {
    "duration": 31,
    "start_time": "2022-12-21T11:05:22.377Z"
   },
   {
    "duration": 9,
    "start_time": "2022-12-21T11:05:22.409Z"
   },
   {
    "duration": 8,
    "start_time": "2022-12-21T11:05:22.419Z"
   },
   {
    "duration": 19,
    "start_time": "2022-12-21T11:05:22.429Z"
   },
   {
    "duration": 169,
    "start_time": "2022-12-21T11:05:22.449Z"
   },
   {
    "duration": 7,
    "start_time": "2022-12-21T11:05:22.620Z"
   },
   {
    "duration": 6,
    "start_time": "2022-12-21T11:05:22.629Z"
   },
   {
    "duration": 10,
    "start_time": "2022-12-21T11:05:22.637Z"
   },
   {
    "duration": 6,
    "start_time": "2022-12-21T11:05:22.649Z"
   },
   {
    "duration": 4,
    "start_time": "2022-12-21T11:05:22.657Z"
   },
   {
    "duration": 9,
    "start_time": "2022-12-21T11:05:22.663Z"
   },
   {
    "duration": 6,
    "start_time": "2022-12-21T11:05:22.673Z"
   },
   {
    "duration": 26,
    "start_time": "2022-12-21T11:05:22.680Z"
   },
   {
    "duration": 7,
    "start_time": "2022-12-21T11:05:22.708Z"
   },
   {
    "duration": 4405,
    "start_time": "2022-12-21T11:05:22.717Z"
   },
   {
    "duration": 139,
    "start_time": "2022-12-21T11:08:18.506Z"
   },
   {
    "duration": 3,
    "start_time": "2022-12-21T11:09:05.520Z"
   },
   {
    "duration": 28,
    "start_time": "2022-12-21T11:09:11.008Z"
   },
   {
    "duration": 3271,
    "start_time": "2022-12-21T11:09:24.550Z"
   },
   {
    "duration": 5,
    "start_time": "2022-12-21T11:13:08.001Z"
   },
   {
    "duration": 5,
    "start_time": "2022-12-21T11:13:35.594Z"
   },
   {
    "duration": 15,
    "start_time": "2022-12-21T11:13:39.350Z"
   },
   {
    "duration": 15,
    "start_time": "2022-12-21T11:13:48.652Z"
   },
   {
    "duration": 4,
    "start_time": "2022-12-21T11:13:54.586Z"
   },
   {
    "duration": 4,
    "start_time": "2022-12-21T11:13:55.194Z"
   },
   {
    "duration": 17,
    "start_time": "2022-12-21T11:14:00.847Z"
   },
   {
    "duration": 5,
    "start_time": "2022-12-21T11:14:08.452Z"
   },
   {
    "duration": 18,
    "start_time": "2022-12-21T11:14:10.558Z"
   },
   {
    "duration": 4,
    "start_time": "2022-12-21T11:14:22.010Z"
   },
   {
    "duration": 3,
    "start_time": "2022-12-21T11:14:23.890Z"
   },
   {
    "duration": 3266,
    "start_time": "2022-12-21T11:14:24.848Z"
   },
   {
    "duration": 32054,
    "start_time": "2022-12-21T11:14:47.557Z"
   },
   {
    "duration": 2,
    "start_time": "2022-12-21T11:15:57.722Z"
   },
   {
    "duration": 4,
    "start_time": "2022-12-21T11:15:58.173Z"
   },
   {
    "duration": 1772,
    "start_time": "2022-12-21T11:16:02.504Z"
   },
   {
    "duration": 29,
    "start_time": "2022-12-21T11:16:04.278Z"
   },
   {
    "duration": 14,
    "start_time": "2022-12-21T11:16:04.308Z"
   },
   {
    "duration": 11,
    "start_time": "2022-12-21T11:16:04.323Z"
   },
   {
    "duration": 5,
    "start_time": "2022-12-21T11:16:04.337Z"
   },
   {
    "duration": 7,
    "start_time": "2022-12-21T11:16:04.343Z"
   },
   {
    "duration": 14,
    "start_time": "2022-12-21T11:16:04.351Z"
   },
   {
    "duration": 3,
    "start_time": "2022-12-21T11:16:04.367Z"
   },
   {
    "duration": 46,
    "start_time": "2022-12-21T11:16:04.371Z"
   },
   {
    "duration": 854,
    "start_time": "2022-12-21T11:16:04.419Z"
   },
   {
    "duration": 6,
    "start_time": "2022-12-21T11:16:05.275Z"
   },
   {
    "duration": 10,
    "start_time": "2022-12-21T11:16:05.282Z"
   },
   {
    "duration": 15,
    "start_time": "2022-12-21T11:16:05.293Z"
   },
   {
    "duration": 22,
    "start_time": "2022-12-21T11:16:05.310Z"
   },
   {
    "duration": 16,
    "start_time": "2022-12-21T11:16:05.333Z"
   },
   {
    "duration": 20,
    "start_time": "2022-12-21T11:16:05.350Z"
   },
   {
    "duration": 11,
    "start_time": "2022-12-21T11:16:05.371Z"
   },
   {
    "duration": 161,
    "start_time": "2022-12-21T11:16:05.383Z"
   },
   {
    "duration": 7,
    "start_time": "2022-12-21T11:16:05.545Z"
   },
   {
    "duration": 9,
    "start_time": "2022-12-21T11:16:05.553Z"
   },
   {
    "duration": 16,
    "start_time": "2022-12-21T11:16:05.564Z"
   },
   {
    "duration": 17,
    "start_time": "2022-12-21T11:16:05.581Z"
   },
   {
    "duration": 21,
    "start_time": "2022-12-21T11:16:05.600Z"
   },
   {
    "duration": 22,
    "start_time": "2022-12-21T11:16:05.623Z"
   },
   {
    "duration": 20,
    "start_time": "2022-12-21T11:16:05.646Z"
   },
   {
    "duration": 15,
    "start_time": "2022-12-21T11:16:05.668Z"
   },
   {
    "duration": 25,
    "start_time": "2022-12-21T11:16:05.684Z"
   },
   {
    "duration": 32995,
    "start_time": "2022-12-21T11:16:05.711Z"
   },
   {
    "duration": 30285,
    "start_time": "2022-12-21T11:16:38.708Z"
   },
   {
    "duration": 3413,
    "start_time": "2022-12-21T11:17:08.997Z"
   },
   {
    "duration": 1795,
    "start_time": "2022-12-21T11:17:47.720Z"
   },
   {
    "duration": 34,
    "start_time": "2022-12-21T11:17:49.517Z"
   },
   {
    "duration": 13,
    "start_time": "2022-12-21T11:17:49.553Z"
   },
   {
    "duration": 11,
    "start_time": "2022-12-21T11:17:49.568Z"
   },
   {
    "duration": 4,
    "start_time": "2022-12-21T11:17:49.582Z"
   },
   {
    "duration": 5,
    "start_time": "2022-12-21T11:17:49.587Z"
   },
   {
    "duration": 16,
    "start_time": "2022-12-21T11:17:49.593Z"
   },
   {
    "duration": 3,
    "start_time": "2022-12-21T11:17:49.611Z"
   },
   {
    "duration": 27,
    "start_time": "2022-12-21T11:17:49.615Z"
   },
   {
    "duration": 877,
    "start_time": "2022-12-21T11:17:49.644Z"
   },
   {
    "duration": 7,
    "start_time": "2022-12-21T11:17:50.522Z"
   },
   {
    "duration": 9,
    "start_time": "2022-12-21T11:17:50.531Z"
   },
   {
    "duration": 9,
    "start_time": "2022-12-21T11:17:50.541Z"
   },
   {
    "duration": 11,
    "start_time": "2022-12-21T11:17:50.554Z"
   },
   {
    "duration": 12,
    "start_time": "2022-12-21T11:17:50.566Z"
   },
   {
    "duration": 24,
    "start_time": "2022-12-21T11:17:50.580Z"
   },
   {
    "duration": 4,
    "start_time": "2022-12-21T11:17:50.606Z"
   },
   {
    "duration": 159,
    "start_time": "2022-12-21T11:17:50.611Z"
   },
   {
    "duration": 6,
    "start_time": "2022-12-21T11:17:50.772Z"
   },
   {
    "duration": 8,
    "start_time": "2022-12-21T11:17:50.780Z"
   },
   {
    "duration": 6,
    "start_time": "2022-12-21T11:17:50.789Z"
   },
   {
    "duration": 4,
    "start_time": "2022-12-21T11:17:50.804Z"
   },
   {
    "duration": 14,
    "start_time": "2022-12-21T11:17:50.810Z"
   },
   {
    "duration": 5,
    "start_time": "2022-12-21T11:17:50.826Z"
   },
   {
    "duration": 5,
    "start_time": "2022-12-21T11:17:50.833Z"
   },
   {
    "duration": 6,
    "start_time": "2022-12-21T11:17:50.839Z"
   },
   {
    "duration": 7,
    "start_time": "2022-12-21T11:17:50.846Z"
   },
   {
    "duration": 2872,
    "start_time": "2022-12-21T11:17:50.854Z"
   },
   {
    "duration": 2927,
    "start_time": "2022-12-21T11:17:53.804Z"
   },
   {
    "duration": 6,
    "start_time": "2022-12-21T11:18:43.013Z"
   },
   {
    "duration": 4,
    "start_time": "2022-12-21T11:18:46.581Z"
   },
   {
    "duration": 3317,
    "start_time": "2022-12-21T11:18:47.689Z"
   },
   {
    "duration": 7,
    "start_time": "2022-12-21T11:19:02.618Z"
   },
   {
    "duration": 4,
    "start_time": "2022-12-21T11:19:04.663Z"
   },
   {
    "duration": 3394,
    "start_time": "2022-12-21T11:19:05.312Z"
   },
   {
    "duration": 4,
    "start_time": "2022-12-21T11:19:15.214Z"
   },
   {
    "duration": 3,
    "start_time": "2022-12-21T11:19:15.629Z"
   },
   {
    "duration": 3405,
    "start_time": "2022-12-21T11:19:16.215Z"
   },
   {
    "duration": 15863,
    "start_time": "2022-12-21T11:19:31.450Z"
   },
   {
    "duration": 15082,
    "start_time": "2022-12-21T11:20:06.680Z"
   },
   {
    "duration": 13345,
    "start_time": "2022-12-21T11:20:50.281Z"
   },
   {
    "duration": 4,
    "start_time": "2022-12-21T11:21:56.718Z"
   },
   {
    "duration": 1825,
    "start_time": "2022-12-21T11:22:12.000Z"
   },
   {
    "duration": 29,
    "start_time": "2022-12-21T11:22:13.827Z"
   },
   {
    "duration": 14,
    "start_time": "2022-12-21T11:22:13.858Z"
   },
   {
    "duration": 11,
    "start_time": "2022-12-21T11:22:13.874Z"
   },
   {
    "duration": 6,
    "start_time": "2022-12-21T11:22:13.887Z"
   },
   {
    "duration": 10,
    "start_time": "2022-12-21T11:22:13.895Z"
   },
   {
    "duration": 14,
    "start_time": "2022-12-21T11:22:13.906Z"
   },
   {
    "duration": 3,
    "start_time": "2022-12-21T11:22:13.922Z"
   },
   {
    "duration": 25,
    "start_time": "2022-12-21T11:22:13.927Z"
   },
   {
    "duration": 905,
    "start_time": "2022-12-21T11:22:13.953Z"
   },
   {
    "duration": 5,
    "start_time": "2022-12-21T11:22:14.860Z"
   },
   {
    "duration": 14,
    "start_time": "2022-12-21T11:22:14.867Z"
   },
   {
    "duration": 8,
    "start_time": "2022-12-21T11:22:14.883Z"
   },
   {
    "duration": 16,
    "start_time": "2022-12-21T11:22:14.894Z"
   },
   {
    "duration": 14,
    "start_time": "2022-12-21T11:22:14.911Z"
   },
   {
    "duration": 25,
    "start_time": "2022-12-21T11:22:14.927Z"
   },
   {
    "duration": 10,
    "start_time": "2022-12-21T11:22:14.954Z"
   },
   {
    "duration": 161,
    "start_time": "2022-12-21T11:22:14.965Z"
   },
   {
    "duration": 6,
    "start_time": "2022-12-21T11:22:15.128Z"
   },
   {
    "duration": 7,
    "start_time": "2022-12-21T11:22:15.136Z"
   },
   {
    "duration": 10,
    "start_time": "2022-12-21T11:22:15.144Z"
   },
   {
    "duration": 6,
    "start_time": "2022-12-21T11:22:15.156Z"
   },
   {
    "duration": 20,
    "start_time": "2022-12-21T11:22:15.163Z"
   },
   {
    "duration": 20,
    "start_time": "2022-12-21T11:22:15.184Z"
   },
   {
    "duration": 3,
    "start_time": "2022-12-21T11:22:15.206Z"
   },
   {
    "duration": 24,
    "start_time": "2022-12-21T11:22:15.211Z"
   },
   {
    "duration": 12,
    "start_time": "2022-12-21T11:22:15.237Z"
   },
   {
    "duration": 136,
    "start_time": "2022-12-21T11:22:15.251Z"
   },
   {
    "duration": 0,
    "start_time": "2022-12-21T11:22:15.389Z"
   },
   {
    "duration": 4,
    "start_time": "2022-12-21T11:22:42.877Z"
   },
   {
    "duration": 4,
    "start_time": "2022-12-21T11:22:43.335Z"
   },
   {
    "duration": 12533,
    "start_time": "2022-12-21T11:22:44.072Z"
   },
   {
    "duration": 4,
    "start_time": "2022-12-21T11:26:45.407Z"
   },
   {
    "duration": 5025,
    "start_time": "2022-12-21T11:26:51.598Z"
   },
   {
    "duration": 1828,
    "start_time": "2022-12-21T11:27:02.415Z"
   },
   {
    "duration": 30,
    "start_time": "2022-12-21T11:27:04.244Z"
   },
   {
    "duration": 34,
    "start_time": "2022-12-21T11:27:04.276Z"
   },
   {
    "duration": 41,
    "start_time": "2022-12-21T11:27:04.312Z"
   },
   {
    "duration": 18,
    "start_time": "2022-12-21T11:27:04.355Z"
   },
   {
    "duration": 34,
    "start_time": "2022-12-21T11:27:04.374Z"
   },
   {
    "duration": 24,
    "start_time": "2022-12-21T11:27:04.410Z"
   },
   {
    "duration": 29,
    "start_time": "2022-12-21T11:27:04.435Z"
   },
   {
    "duration": 37,
    "start_time": "2022-12-21T11:27:04.465Z"
   },
   {
    "duration": 877,
    "start_time": "2022-12-21T11:27:04.504Z"
   },
   {
    "duration": 6,
    "start_time": "2022-12-21T11:27:05.382Z"
   },
   {
    "duration": 18,
    "start_time": "2022-12-21T11:27:05.390Z"
   },
   {
    "duration": 18,
    "start_time": "2022-12-21T11:27:05.409Z"
   },
   {
    "duration": 30,
    "start_time": "2022-12-21T11:27:05.428Z"
   },
   {
    "duration": 12,
    "start_time": "2022-12-21T11:27:05.460Z"
   },
   {
    "duration": 9,
    "start_time": "2022-12-21T11:27:05.474Z"
   },
   {
    "duration": 15,
    "start_time": "2022-12-21T11:27:05.485Z"
   },
   {
    "duration": 154,
    "start_time": "2022-12-21T11:27:05.502Z"
   },
   {
    "duration": 6,
    "start_time": "2022-12-21T11:27:05.658Z"
   },
   {
    "duration": 10,
    "start_time": "2022-12-21T11:27:05.666Z"
   },
   {
    "duration": 8,
    "start_time": "2022-12-21T11:27:05.677Z"
   },
   {
    "duration": 6,
    "start_time": "2022-12-21T11:27:05.687Z"
   },
   {
    "duration": 16,
    "start_time": "2022-12-21T11:27:05.695Z"
   },
   {
    "duration": 6,
    "start_time": "2022-12-21T11:27:05.713Z"
   },
   {
    "duration": 10,
    "start_time": "2022-12-21T11:27:05.721Z"
   },
   {
    "duration": 9,
    "start_time": "2022-12-21T11:27:05.732Z"
   },
   {
    "duration": 9,
    "start_time": "2022-12-21T11:27:05.743Z"
   },
   {
    "duration": 6474,
    "start_time": "2022-12-21T11:27:05.754Z"
   },
   {
    "duration": 6149,
    "start_time": "2022-12-21T11:27:12.305Z"
   },
   {
    "duration": 1793,
    "start_time": "2022-12-21T11:27:27.762Z"
   },
   {
    "duration": 29,
    "start_time": "2022-12-21T11:27:29.557Z"
   },
   {
    "duration": 14,
    "start_time": "2022-12-21T11:27:29.587Z"
   },
   {
    "duration": 18,
    "start_time": "2022-12-21T11:27:29.603Z"
   },
   {
    "duration": 9,
    "start_time": "2022-12-21T11:27:29.622Z"
   },
   {
    "duration": 12,
    "start_time": "2022-12-21T11:27:29.632Z"
   },
   {
    "duration": 12,
    "start_time": "2022-12-21T11:27:29.646Z"
   },
   {
    "duration": 7,
    "start_time": "2022-12-21T11:27:29.660Z"
   },
   {
    "duration": 24,
    "start_time": "2022-12-21T11:27:29.669Z"
   },
   {
    "duration": 885,
    "start_time": "2022-12-21T11:27:29.695Z"
   },
   {
    "duration": 6,
    "start_time": "2022-12-21T11:27:30.582Z"
   },
   {
    "duration": 25,
    "start_time": "2022-12-21T11:27:30.589Z"
   },
   {
    "duration": 58,
    "start_time": "2022-12-21T11:27:30.615Z"
   },
   {
    "duration": 46,
    "start_time": "2022-12-21T11:27:30.675Z"
   },
   {
    "duration": 39,
    "start_time": "2022-12-21T11:27:30.722Z"
   },
   {
    "duration": 66,
    "start_time": "2022-12-21T11:27:30.762Z"
   },
   {
    "duration": 39,
    "start_time": "2022-12-21T11:27:30.830Z"
   },
   {
    "duration": 186,
    "start_time": "2022-12-21T11:27:30.871Z"
   },
   {
    "duration": 7,
    "start_time": "2022-12-21T11:27:31.059Z"
   },
   {
    "duration": 43,
    "start_time": "2022-12-21T11:27:31.067Z"
   },
   {
    "duration": 45,
    "start_time": "2022-12-21T11:27:31.112Z"
   },
   {
    "duration": 42,
    "start_time": "2022-12-21T11:27:31.159Z"
   },
   {
    "duration": 38,
    "start_time": "2022-12-21T11:27:31.203Z"
   },
   {
    "duration": 21,
    "start_time": "2022-12-21T11:27:31.243Z"
   },
   {
    "duration": 28,
    "start_time": "2022-12-21T11:27:31.266Z"
   },
   {
    "duration": 16,
    "start_time": "2022-12-21T11:27:31.296Z"
   },
   {
    "duration": 16,
    "start_time": "2022-12-21T11:27:31.314Z"
   },
   {
    "duration": 9473,
    "start_time": "2022-12-21T11:27:31.333Z"
   },
   {
    "duration": 1807,
    "start_time": "2022-12-21T11:27:51.223Z"
   },
   {
    "duration": 29,
    "start_time": "2022-12-21T11:27:53.032Z"
   },
   {
    "duration": 13,
    "start_time": "2022-12-21T11:27:53.062Z"
   },
   {
    "duration": 20,
    "start_time": "2022-12-21T11:27:53.077Z"
   },
   {
    "duration": 15,
    "start_time": "2022-12-21T11:27:53.099Z"
   },
   {
    "duration": 10,
    "start_time": "2022-12-21T11:27:53.115Z"
   },
   {
    "duration": 19,
    "start_time": "2022-12-21T11:27:53.127Z"
   },
   {
    "duration": 9,
    "start_time": "2022-12-21T11:27:53.147Z"
   },
   {
    "duration": 38,
    "start_time": "2022-12-21T11:27:53.157Z"
   },
   {
    "duration": 882,
    "start_time": "2022-12-21T11:27:53.197Z"
   },
   {
    "duration": 6,
    "start_time": "2022-12-21T11:27:54.081Z"
   },
   {
    "duration": 22,
    "start_time": "2022-12-21T11:27:54.089Z"
   },
   {
    "duration": 13,
    "start_time": "2022-12-21T11:27:54.113Z"
   },
   {
    "duration": 17,
    "start_time": "2022-12-21T11:27:54.130Z"
   },
   {
    "duration": 29,
    "start_time": "2022-12-21T11:27:54.149Z"
   },
   {
    "duration": 12,
    "start_time": "2022-12-21T11:27:54.180Z"
   },
   {
    "duration": 16,
    "start_time": "2022-12-21T11:27:54.194Z"
   },
   {
    "duration": 177,
    "start_time": "2022-12-21T11:27:54.212Z"
   },
   {
    "duration": 13,
    "start_time": "2022-12-21T11:27:54.392Z"
   },
   {
    "duration": 19,
    "start_time": "2022-12-21T11:27:54.406Z"
   },
   {
    "duration": 19,
    "start_time": "2022-12-21T11:27:54.426Z"
   },
   {
    "duration": 7,
    "start_time": "2022-12-21T11:27:54.447Z"
   },
   {
    "duration": 32,
    "start_time": "2022-12-21T11:27:54.455Z"
   },
   {
    "duration": 11,
    "start_time": "2022-12-21T11:27:54.489Z"
   },
   {
    "duration": 3,
    "start_time": "2022-12-21T11:27:54.502Z"
   },
   {
    "duration": 9,
    "start_time": "2022-12-21T11:27:54.507Z"
   },
   {
    "duration": 8,
    "start_time": "2022-12-21T11:27:54.518Z"
   },
   {
    "duration": 12880,
    "start_time": "2022-12-21T11:27:54.527Z"
   },
   {
    "duration": 12070,
    "start_time": "2022-12-21T11:28:07.410Z"
   },
   {
    "duration": 1831,
    "start_time": "2022-12-21T11:31:02.210Z"
   },
   {
    "duration": 50,
    "start_time": "2022-12-21T11:31:04.043Z"
   },
   {
    "duration": 13,
    "start_time": "2022-12-21T11:31:04.095Z"
   },
   {
    "duration": 13,
    "start_time": "2022-12-21T11:31:04.110Z"
   },
   {
    "duration": 15,
    "start_time": "2022-12-21T11:31:04.124Z"
   },
   {
    "duration": 14,
    "start_time": "2022-12-21T11:31:04.141Z"
   },
   {
    "duration": 13,
    "start_time": "2022-12-21T11:31:04.157Z"
   },
   {
    "duration": 4,
    "start_time": "2022-12-21T11:31:04.171Z"
   },
   {
    "duration": 31,
    "start_time": "2022-12-21T11:31:04.177Z"
   },
   {
    "duration": 897,
    "start_time": "2022-12-21T11:31:04.210Z"
   },
   {
    "duration": 6,
    "start_time": "2022-12-21T11:31:05.109Z"
   },
   {
    "duration": 12,
    "start_time": "2022-12-21T11:31:05.117Z"
   },
   {
    "duration": 26,
    "start_time": "2022-12-21T11:31:05.131Z"
   },
   {
    "duration": 13,
    "start_time": "2022-12-21T11:31:05.159Z"
   },
   {
    "duration": 10,
    "start_time": "2022-12-21T11:31:05.174Z"
   },
   {
    "duration": 13,
    "start_time": "2022-12-21T11:31:05.186Z"
   },
   {
    "duration": 6,
    "start_time": "2022-12-21T11:31:05.201Z"
   },
   {
    "duration": 167,
    "start_time": "2022-12-21T11:31:05.208Z"
   },
   {
    "duration": 8,
    "start_time": "2022-12-21T11:31:05.376Z"
   },
   {
    "duration": 23,
    "start_time": "2022-12-21T11:31:05.387Z"
   },
   {
    "duration": 11,
    "start_time": "2022-12-21T11:31:05.412Z"
   },
   {
    "duration": 12,
    "start_time": "2022-12-21T11:31:05.424Z"
   },
   {
    "duration": 13,
    "start_time": "2022-12-21T11:31:05.438Z"
   },
   {
    "duration": 19,
    "start_time": "2022-12-21T11:31:05.452Z"
   },
   {
    "duration": 8,
    "start_time": "2022-12-21T11:31:05.472Z"
   },
   {
    "duration": 10,
    "start_time": "2022-12-21T11:31:05.482Z"
   },
   {
    "duration": 7,
    "start_time": "2022-12-21T11:31:05.493Z"
   },
   {
    "duration": 16015,
    "start_time": "2022-12-21T11:31:05.502Z"
   },
   {
    "duration": 15132,
    "start_time": "2022-12-21T11:31:21.518Z"
   },
   {
    "duration": 1796,
    "start_time": "2022-12-21T11:32:11.622Z"
   },
   {
    "duration": 29,
    "start_time": "2022-12-21T11:32:13.420Z"
   },
   {
    "duration": 13,
    "start_time": "2022-12-21T11:32:13.451Z"
   },
   {
    "duration": 11,
    "start_time": "2022-12-21T11:32:13.466Z"
   },
   {
    "duration": 6,
    "start_time": "2022-12-21T11:32:13.478Z"
   },
   {
    "duration": 7,
    "start_time": "2022-12-21T11:32:13.485Z"
   },
   {
    "duration": 14,
    "start_time": "2022-12-21T11:32:13.493Z"
   },
   {
    "duration": 5,
    "start_time": "2022-12-21T11:32:13.509Z"
   },
   {
    "duration": 23,
    "start_time": "2022-12-21T11:32:13.515Z"
   },
   {
    "duration": 874,
    "start_time": "2022-12-21T11:32:13.540Z"
   },
   {
    "duration": 6,
    "start_time": "2022-12-21T11:32:14.415Z"
   },
   {
    "duration": 7,
    "start_time": "2022-12-21T11:32:14.423Z"
   },
   {
    "duration": 5,
    "start_time": "2022-12-21T11:32:14.431Z"
   },
   {
    "duration": 14,
    "start_time": "2022-12-21T11:32:14.437Z"
   },
   {
    "duration": 10,
    "start_time": "2022-12-21T11:32:14.453Z"
   },
   {
    "duration": 8,
    "start_time": "2022-12-21T11:32:14.465Z"
   },
   {
    "duration": 12,
    "start_time": "2022-12-21T11:32:14.474Z"
   },
   {
    "duration": 164,
    "start_time": "2022-12-21T11:32:14.488Z"
   },
   {
    "duration": 6,
    "start_time": "2022-12-21T11:32:14.654Z"
   },
   {
    "duration": 6,
    "start_time": "2022-12-21T11:32:14.662Z"
   },
   {
    "duration": 5,
    "start_time": "2022-12-21T11:32:14.670Z"
   },
   {
    "duration": 9,
    "start_time": "2022-12-21T11:32:14.676Z"
   },
   {
    "duration": 24,
    "start_time": "2022-12-21T11:32:14.686Z"
   },
   {
    "duration": 5,
    "start_time": "2022-12-21T11:32:14.712Z"
   },
   {
    "duration": 6,
    "start_time": "2022-12-21T11:32:14.718Z"
   },
   {
    "duration": 7,
    "start_time": "2022-12-21T11:32:14.725Z"
   },
   {
    "duration": 9,
    "start_time": "2022-12-21T11:32:14.734Z"
   },
   {
    "duration": 73,
    "start_time": "2022-12-21T11:32:14.745Z"
   },
   {
    "duration": 0,
    "start_time": "2022-12-21T11:32:14.820Z"
   },
   {
    "duration": 79,
    "start_time": "2022-12-21T11:32:36.521Z"
   },
   {
    "duration": 70,
    "start_time": "2022-12-21T11:33:08.928Z"
   },
   {
    "duration": 138,
    "start_time": "2022-12-21T11:34:11.173Z"
   },
   {
    "duration": 2,
    "start_time": "2022-12-21T11:34:27.833Z"
   },
   {
    "duration": 21,
    "start_time": "2022-12-21T11:34:30.457Z"
   },
   {
    "duration": 13894,
    "start_time": "2022-12-21T11:34:48.145Z"
   },
   {
    "duration": 16193,
    "start_time": "2022-12-21T11:35:21.525Z"
   },
   {
    "duration": 1818,
    "start_time": "2022-12-21T11:36:04.635Z"
   },
   {
    "duration": 29,
    "start_time": "2022-12-21T11:36:06.455Z"
   },
   {
    "duration": 12,
    "start_time": "2022-12-21T11:36:06.485Z"
   },
   {
    "duration": 11,
    "start_time": "2022-12-21T11:36:06.499Z"
   },
   {
    "duration": 6,
    "start_time": "2022-12-21T11:36:06.511Z"
   },
   {
    "duration": 5,
    "start_time": "2022-12-21T11:36:06.519Z"
   },
   {
    "duration": 12,
    "start_time": "2022-12-21T11:36:06.525Z"
   },
   {
    "duration": 6,
    "start_time": "2022-12-21T11:36:06.538Z"
   },
   {
    "duration": 23,
    "start_time": "2022-12-21T11:36:06.545Z"
   },
   {
    "duration": 901,
    "start_time": "2022-12-21T11:36:06.571Z"
   },
   {
    "duration": 6,
    "start_time": "2022-12-21T11:36:07.475Z"
   },
   {
    "duration": 13,
    "start_time": "2022-12-21T11:36:07.483Z"
   },
   {
    "duration": 10,
    "start_time": "2022-12-21T11:36:07.497Z"
   },
   {
    "duration": 19,
    "start_time": "2022-12-21T11:36:07.509Z"
   },
   {
    "duration": 17,
    "start_time": "2022-12-21T11:36:07.530Z"
   },
   {
    "duration": 12,
    "start_time": "2022-12-21T11:36:07.549Z"
   },
   {
    "duration": 4,
    "start_time": "2022-12-21T11:36:07.562Z"
   },
   {
    "duration": 142,
    "start_time": "2022-12-21T11:36:07.568Z"
   },
   {
    "duration": 6,
    "start_time": "2022-12-21T11:36:07.712Z"
   },
   {
    "duration": 6,
    "start_time": "2022-12-21T11:36:07.720Z"
   },
   {
    "duration": 6,
    "start_time": "2022-12-21T11:36:07.727Z"
   },
   {
    "duration": 9,
    "start_time": "2022-12-21T11:36:07.734Z"
   },
   {
    "duration": 16,
    "start_time": "2022-12-21T11:36:07.744Z"
   },
   {
    "duration": 8,
    "start_time": "2022-12-21T11:36:07.761Z"
   },
   {
    "duration": 5,
    "start_time": "2022-12-21T11:36:07.770Z"
   },
   {
    "duration": 8,
    "start_time": "2022-12-21T11:36:07.777Z"
   },
   {
    "duration": 23,
    "start_time": "2022-12-21T11:36:07.786Z"
   },
   {
    "duration": 16299,
    "start_time": "2022-12-21T11:36:07.811Z"
   },
   {
    "duration": 14078,
    "start_time": "2022-12-21T11:36:24.112Z"
   },
   {
    "duration": 4,
    "start_time": "2022-12-21T11:40:23.692Z"
   },
   {
    "duration": 1778,
    "start_time": "2022-12-21T11:40:28.569Z"
   },
   {
    "duration": 29,
    "start_time": "2022-12-21T11:40:30.349Z"
   },
   {
    "duration": 34,
    "start_time": "2022-12-21T11:40:30.380Z"
   },
   {
    "duration": 44,
    "start_time": "2022-12-21T11:40:30.415Z"
   },
   {
    "duration": 24,
    "start_time": "2022-12-21T11:40:30.460Z"
   },
   {
    "duration": 53,
    "start_time": "2022-12-21T11:40:30.486Z"
   },
   {
    "duration": 25,
    "start_time": "2022-12-21T11:40:30.541Z"
   },
   {
    "duration": 81,
    "start_time": "2022-12-21T11:40:30.568Z"
   },
   {
    "duration": 73,
    "start_time": "2022-12-21T11:40:30.650Z"
   },
   {
    "duration": 929,
    "start_time": "2022-12-21T11:40:30.726Z"
   },
   {
    "duration": 7,
    "start_time": "2022-12-21T11:40:31.657Z"
   },
   {
    "duration": 21,
    "start_time": "2022-12-21T11:40:31.666Z"
   },
   {
    "duration": 24,
    "start_time": "2022-12-21T11:40:31.688Z"
   },
   {
    "duration": 20,
    "start_time": "2022-12-21T11:40:31.714Z"
   },
   {
    "duration": 9,
    "start_time": "2022-12-21T11:40:31.736Z"
   },
   {
    "duration": 10,
    "start_time": "2022-12-21T11:40:31.747Z"
   },
   {
    "duration": 13,
    "start_time": "2022-12-21T11:40:31.758Z"
   },
   {
    "duration": 157,
    "start_time": "2022-12-21T11:40:31.773Z"
   },
   {
    "duration": 7,
    "start_time": "2022-12-21T11:40:31.932Z"
   },
   {
    "duration": 8,
    "start_time": "2022-12-21T11:40:31.941Z"
   },
   {
    "duration": 9,
    "start_time": "2022-12-21T11:40:31.950Z"
   },
   {
    "duration": 5,
    "start_time": "2022-12-21T11:40:31.961Z"
   },
   {
    "duration": 17,
    "start_time": "2022-12-21T11:40:31.967Z"
   },
   {
    "duration": 20,
    "start_time": "2022-12-21T11:40:31.985Z"
   },
   {
    "duration": 3,
    "start_time": "2022-12-21T11:40:32.006Z"
   },
   {
    "duration": 9,
    "start_time": "2022-12-21T11:40:32.010Z"
   },
   {
    "duration": 11,
    "start_time": "2022-12-21T11:40:32.021Z"
   },
   {
    "duration": 14489,
    "start_time": "2022-12-21T11:40:32.035Z"
   },
   {
    "duration": 13051,
    "start_time": "2022-12-21T11:40:46.526Z"
   },
   {
    "duration": 3,
    "start_time": "2022-12-21T11:40:59.580Z"
   },
   {
    "duration": 5,
    "start_time": "2022-12-21T11:41:02.468Z"
   },
   {
    "duration": 16868,
    "start_time": "2022-12-21T11:41:04.947Z"
   },
   {
    "duration": 1740,
    "start_time": "2022-12-21T11:41:33.285Z"
   },
   {
    "duration": 29,
    "start_time": "2022-12-21T11:41:35.027Z"
   },
   {
    "duration": 14,
    "start_time": "2022-12-21T11:41:35.058Z"
   },
   {
    "duration": 11,
    "start_time": "2022-12-21T11:41:35.074Z"
   },
   {
    "duration": 7,
    "start_time": "2022-12-21T11:41:35.087Z"
   },
   {
    "duration": 6,
    "start_time": "2022-12-21T11:41:35.096Z"
   },
   {
    "duration": 22,
    "start_time": "2022-12-21T11:41:35.104Z"
   },
   {
    "duration": 10,
    "start_time": "2022-12-21T11:41:35.127Z"
   },
   {
    "duration": 29,
    "start_time": "2022-12-21T11:41:35.139Z"
   },
   {
    "duration": 863,
    "start_time": "2022-12-21T11:41:35.170Z"
   },
   {
    "duration": 6,
    "start_time": "2022-12-21T11:41:36.035Z"
   },
   {
    "duration": 11,
    "start_time": "2022-12-21T11:41:36.043Z"
   },
   {
    "duration": 6,
    "start_time": "2022-12-21T11:41:36.056Z"
   },
   {
    "duration": 19,
    "start_time": "2022-12-21T11:41:36.064Z"
   },
   {
    "duration": 9,
    "start_time": "2022-12-21T11:41:36.085Z"
   },
   {
    "duration": 13,
    "start_time": "2022-12-21T11:41:36.095Z"
   },
   {
    "duration": 10,
    "start_time": "2022-12-21T11:41:36.110Z"
   },
   {
    "duration": 166,
    "start_time": "2022-12-21T11:41:36.122Z"
   },
   {
    "duration": 14,
    "start_time": "2022-12-21T11:41:36.290Z"
   },
   {
    "duration": 15,
    "start_time": "2022-12-21T11:41:36.306Z"
   },
   {
    "duration": 11,
    "start_time": "2022-12-21T11:41:36.323Z"
   },
   {
    "duration": 7,
    "start_time": "2022-12-21T11:41:36.337Z"
   },
   {
    "duration": 16,
    "start_time": "2022-12-21T11:41:36.346Z"
   },
   {
    "duration": 11,
    "start_time": "2022-12-21T11:41:36.364Z"
   },
   {
    "duration": 7,
    "start_time": "2022-12-21T11:41:36.377Z"
   },
   {
    "duration": 7,
    "start_time": "2022-12-21T11:41:36.386Z"
   },
   {
    "duration": 22,
    "start_time": "2022-12-21T11:41:36.395Z"
   },
   {
    "duration": 16490,
    "start_time": "2022-12-21T11:41:36.419Z"
   },
   {
    "duration": 14050,
    "start_time": "2022-12-21T11:41:52.911Z"
   },
   {
    "duration": 1811,
    "start_time": "2022-12-21T11:42:25.869Z"
   },
   {
    "duration": 30,
    "start_time": "2022-12-21T11:42:27.683Z"
   },
   {
    "duration": 24,
    "start_time": "2022-12-21T11:42:27.715Z"
   },
   {
    "duration": 30,
    "start_time": "2022-12-21T11:42:27.741Z"
   },
   {
    "duration": 33,
    "start_time": "2022-12-21T11:42:27.774Z"
   },
   {
    "duration": 27,
    "start_time": "2022-12-21T11:42:27.809Z"
   },
   {
    "duration": 30,
    "start_time": "2022-12-21T11:42:27.838Z"
   },
   {
    "duration": 31,
    "start_time": "2022-12-21T11:42:27.869Z"
   },
   {
    "duration": 45,
    "start_time": "2022-12-21T11:42:27.901Z"
   },
   {
    "duration": 1048,
    "start_time": "2022-12-21T11:42:27.948Z"
   },
   {
    "duration": 9,
    "start_time": "2022-12-21T11:42:28.998Z"
   },
   {
    "duration": 28,
    "start_time": "2022-12-21T11:42:29.009Z"
   },
   {
    "duration": 29,
    "start_time": "2022-12-21T11:42:29.038Z"
   },
   {
    "duration": 30,
    "start_time": "2022-12-21T11:42:29.070Z"
   },
   {
    "duration": 41,
    "start_time": "2022-12-21T11:42:29.102Z"
   },
   {
    "duration": 16,
    "start_time": "2022-12-21T11:42:29.145Z"
   },
   {
    "duration": 31,
    "start_time": "2022-12-21T11:42:29.163Z"
   },
   {
    "duration": 206,
    "start_time": "2022-12-21T11:42:29.196Z"
   },
   {
    "duration": 8,
    "start_time": "2022-12-21T11:42:29.403Z"
   },
   {
    "duration": 36,
    "start_time": "2022-12-21T11:42:29.413Z"
   },
   {
    "duration": 37,
    "start_time": "2022-12-21T11:42:29.450Z"
   },
   {
    "duration": 21,
    "start_time": "2022-12-21T11:42:29.489Z"
   },
   {
    "duration": 31,
    "start_time": "2022-12-21T11:42:29.512Z"
   },
   {
    "duration": 25,
    "start_time": "2022-12-21T11:42:29.545Z"
   },
   {
    "duration": 31,
    "start_time": "2022-12-21T11:42:29.572Z"
   },
   {
    "duration": 39,
    "start_time": "2022-12-21T11:42:29.606Z"
   },
   {
    "duration": 34,
    "start_time": "2022-12-21T11:42:29.648Z"
   },
   {
    "duration": 16423,
    "start_time": "2022-12-21T11:42:29.683Z"
   },
   {
    "duration": 14476,
    "start_time": "2022-12-21T11:42:46.108Z"
   },
   {
    "duration": 1841,
    "start_time": "2022-12-21T11:46:00.695Z"
   },
   {
    "duration": 43,
    "start_time": "2022-12-21T11:46:02.538Z"
   },
   {
    "duration": 15,
    "start_time": "2022-12-21T11:46:02.583Z"
   },
   {
    "duration": 46,
    "start_time": "2022-12-21T11:46:02.599Z"
   },
   {
    "duration": 23,
    "start_time": "2022-12-21T11:46:02.647Z"
   },
   {
    "duration": 33,
    "start_time": "2022-12-21T11:46:02.671Z"
   },
   {
    "duration": 14,
    "start_time": "2022-12-21T11:46:02.706Z"
   },
   {
    "duration": 28,
    "start_time": "2022-12-21T11:46:02.722Z"
   },
   {
    "duration": 47,
    "start_time": "2022-12-21T11:46:02.752Z"
   },
   {
    "duration": 881,
    "start_time": "2022-12-21T11:46:02.800Z"
   },
   {
    "duration": 6,
    "start_time": "2022-12-21T11:46:03.683Z"
   },
   {
    "duration": 23,
    "start_time": "2022-12-21T11:46:03.691Z"
   },
   {
    "duration": 34,
    "start_time": "2022-12-21T11:46:03.716Z"
   },
   {
    "duration": 21,
    "start_time": "2022-12-21T11:46:03.752Z"
   },
   {
    "duration": 10,
    "start_time": "2022-12-21T11:46:03.775Z"
   },
   {
    "duration": 24,
    "start_time": "2022-12-21T11:46:03.787Z"
   },
   {
    "duration": 20,
    "start_time": "2022-12-21T11:46:03.812Z"
   },
   {
    "duration": 178,
    "start_time": "2022-12-21T11:46:03.833Z"
   },
   {
    "duration": 6,
    "start_time": "2022-12-21T11:46:04.013Z"
   },
   {
    "duration": 20,
    "start_time": "2022-12-21T11:46:04.020Z"
   },
   {
    "duration": 17,
    "start_time": "2022-12-21T11:46:04.041Z"
   },
   {
    "duration": 11,
    "start_time": "2022-12-21T11:46:04.060Z"
   },
   {
    "duration": 19,
    "start_time": "2022-12-21T11:46:04.073Z"
   },
   {
    "duration": 17,
    "start_time": "2022-12-21T11:46:04.094Z"
   },
   {
    "duration": 18,
    "start_time": "2022-12-21T11:46:04.112Z"
   },
   {
    "duration": 81,
    "start_time": "2022-12-21T11:46:04.132Z"
   },
   {
    "duration": 0,
    "start_time": "2022-12-21T11:46:04.215Z"
   },
   {
    "duration": 0,
    "start_time": "2022-12-21T11:46:04.217Z"
   },
   {
    "duration": 0,
    "start_time": "2022-12-21T11:46:04.218Z"
   },
   {
    "duration": 7,
    "start_time": "2022-12-21T11:46:19.636Z"
   },
   {
    "duration": 5,
    "start_time": "2022-12-21T11:46:20.158Z"
   },
   {
    "duration": 24096,
    "start_time": "2022-12-21T11:46:20.825Z"
   },
   {
    "duration": 5,
    "start_time": "2022-12-21T11:48:34.289Z"
   },
   {
    "duration": 4,
    "start_time": "2022-12-21T11:48:34.966Z"
   },
   {
    "duration": 141,
    "start_time": "2022-12-21T11:48:35.778Z"
   },
   {
    "duration": 6,
    "start_time": "2022-12-21T11:48:42.584Z"
   },
   {
    "duration": 1887,
    "start_time": "2022-12-21T11:48:46.818Z"
   },
   {
    "duration": 29,
    "start_time": "2022-12-21T11:48:48.707Z"
   },
   {
    "duration": 13,
    "start_time": "2022-12-21T11:48:48.738Z"
   },
   {
    "duration": 11,
    "start_time": "2022-12-21T11:48:48.753Z"
   },
   {
    "duration": 21,
    "start_time": "2022-12-21T11:48:48.767Z"
   },
   {
    "duration": 8,
    "start_time": "2022-12-21T11:48:48.790Z"
   },
   {
    "duration": 18,
    "start_time": "2022-12-21T11:48:48.799Z"
   },
   {
    "duration": 7,
    "start_time": "2022-12-21T11:48:48.819Z"
   },
   {
    "duration": 26,
    "start_time": "2022-12-21T11:48:48.828Z"
   },
   {
    "duration": 921,
    "start_time": "2022-12-21T11:48:48.856Z"
   },
   {
    "duration": 6,
    "start_time": "2022-12-21T11:48:49.779Z"
   },
   {
    "duration": 19,
    "start_time": "2022-12-21T11:48:49.786Z"
   },
   {
    "duration": 18,
    "start_time": "2022-12-21T11:48:49.806Z"
   },
   {
    "duration": 9,
    "start_time": "2022-12-21T11:48:49.826Z"
   },
   {
    "duration": 7,
    "start_time": "2022-12-21T11:48:49.837Z"
   },
   {
    "duration": 8,
    "start_time": "2022-12-21T11:48:49.845Z"
   },
   {
    "duration": 5,
    "start_time": "2022-12-21T11:48:49.855Z"
   },
   {
    "duration": 157,
    "start_time": "2022-12-21T11:48:49.862Z"
   },
   {
    "duration": 8,
    "start_time": "2022-12-21T11:48:50.021Z"
   },
   {
    "duration": 12,
    "start_time": "2022-12-21T11:48:50.030Z"
   },
   {
    "duration": 19,
    "start_time": "2022-12-21T11:48:50.044Z"
   },
   {
    "duration": 6,
    "start_time": "2022-12-21T11:48:50.065Z"
   },
   {
    "duration": 17,
    "start_time": "2022-12-21T11:48:50.073Z"
   },
   {
    "duration": 16,
    "start_time": "2022-12-21T11:48:50.091Z"
   },
   {
    "duration": 5,
    "start_time": "2022-12-21T11:48:50.109Z"
   },
   {
    "duration": 11,
    "start_time": "2022-12-21T11:48:50.115Z"
   },
   {
    "duration": 14,
    "start_time": "2022-12-21T11:48:50.128Z"
   },
   {
    "duration": 173,
    "start_time": "2022-12-21T11:48:50.144Z"
   },
   {
    "duration": 0,
    "start_time": "2022-12-21T11:48:50.318Z"
   },
   {
    "duration": 6,
    "start_time": "2022-12-21T11:49:04.504Z"
   },
   {
    "duration": 4,
    "start_time": "2022-12-21T11:49:05.287Z"
   },
   {
    "duration": 24657,
    "start_time": "2022-12-21T11:49:05.858Z"
   },
   {
    "duration": 1855,
    "start_time": "2022-12-21T11:49:37.181Z"
   },
   {
    "duration": 30,
    "start_time": "2022-12-21T11:49:39.038Z"
   },
   {
    "duration": 14,
    "start_time": "2022-12-21T11:49:39.069Z"
   },
   {
    "duration": 11,
    "start_time": "2022-12-21T11:49:39.085Z"
   },
   {
    "duration": 10,
    "start_time": "2022-12-21T11:49:39.099Z"
   },
   {
    "duration": 20,
    "start_time": "2022-12-21T11:49:39.111Z"
   },
   {
    "duration": 27,
    "start_time": "2022-12-21T11:49:39.133Z"
   },
   {
    "duration": 25,
    "start_time": "2022-12-21T11:49:39.162Z"
   },
   {
    "duration": 37,
    "start_time": "2022-12-21T11:49:39.188Z"
   },
   {
    "duration": 874,
    "start_time": "2022-12-21T11:49:39.227Z"
   },
   {
    "duration": 6,
    "start_time": "2022-12-21T11:49:40.105Z"
   },
   {
    "duration": 33,
    "start_time": "2022-12-21T11:49:40.113Z"
   },
   {
    "duration": 22,
    "start_time": "2022-12-21T11:49:40.148Z"
   },
   {
    "duration": 14,
    "start_time": "2022-12-21T11:49:40.174Z"
   },
   {
    "duration": 20,
    "start_time": "2022-12-21T11:49:40.190Z"
   },
   {
    "duration": 21,
    "start_time": "2022-12-21T11:49:40.212Z"
   },
   {
    "duration": 18,
    "start_time": "2022-12-21T11:49:40.234Z"
   },
   {
    "duration": 153,
    "start_time": "2022-12-21T11:49:40.254Z"
   },
   {
    "duration": 6,
    "start_time": "2022-12-21T11:49:40.409Z"
   },
   {
    "duration": 12,
    "start_time": "2022-12-21T11:49:40.417Z"
   },
   {
    "duration": 21,
    "start_time": "2022-12-21T11:49:40.431Z"
   },
   {
    "duration": 15,
    "start_time": "2022-12-21T11:49:40.453Z"
   },
   {
    "duration": 23,
    "start_time": "2022-12-21T11:49:40.469Z"
   },
   {
    "duration": 24,
    "start_time": "2022-12-21T11:49:40.493Z"
   },
   {
    "duration": 7,
    "start_time": "2022-12-21T11:49:40.518Z"
   },
   {
    "duration": 19,
    "start_time": "2022-12-21T11:49:40.526Z"
   },
   {
    "duration": 18,
    "start_time": "2022-12-21T11:49:40.547Z"
   },
   {
    "duration": 24650,
    "start_time": "2022-12-21T11:49:40.566Z"
   },
   {
    "duration": 1761,
    "start_time": "2022-12-21T11:50:21.286Z"
   },
   {
    "duration": 30,
    "start_time": "2022-12-21T11:50:23.049Z"
   },
   {
    "duration": 13,
    "start_time": "2022-12-21T11:50:23.080Z"
   },
   {
    "duration": 12,
    "start_time": "2022-12-21T11:50:23.095Z"
   },
   {
    "duration": 8,
    "start_time": "2022-12-21T11:50:23.109Z"
   },
   {
    "duration": 5,
    "start_time": "2022-12-21T11:50:23.118Z"
   },
   {
    "duration": 13,
    "start_time": "2022-12-21T11:50:23.124Z"
   },
   {
    "duration": 3,
    "start_time": "2022-12-21T11:50:23.139Z"
   },
   {
    "duration": 21,
    "start_time": "2022-12-21T11:50:23.144Z"
   },
   {
    "duration": 909,
    "start_time": "2022-12-21T11:50:23.167Z"
   },
   {
    "duration": 6,
    "start_time": "2022-12-21T11:50:24.078Z"
   },
   {
    "duration": 19,
    "start_time": "2022-12-21T11:50:24.086Z"
   },
   {
    "duration": 4,
    "start_time": "2022-12-21T11:50:24.107Z"
   },
   {
    "duration": 10,
    "start_time": "2022-12-21T11:50:24.113Z"
   },
   {
    "duration": 18,
    "start_time": "2022-12-21T11:50:24.129Z"
   },
   {
    "duration": 9,
    "start_time": "2022-12-21T11:50:24.149Z"
   },
   {
    "duration": 5,
    "start_time": "2022-12-21T11:50:24.160Z"
   },
   {
    "duration": 191,
    "start_time": "2022-12-21T11:50:24.167Z"
   },
   {
    "duration": 7,
    "start_time": "2022-12-21T11:50:24.359Z"
   },
   {
    "duration": 7,
    "start_time": "2022-12-21T11:50:24.367Z"
   },
   {
    "duration": 7,
    "start_time": "2022-12-21T11:50:24.376Z"
   },
   {
    "duration": 20,
    "start_time": "2022-12-21T11:50:24.384Z"
   },
   {
    "duration": 14,
    "start_time": "2022-12-21T11:50:24.406Z"
   },
   {
    "duration": 5,
    "start_time": "2022-12-21T11:50:24.422Z"
   },
   {
    "duration": 5,
    "start_time": "2022-12-21T11:50:24.428Z"
   },
   {
    "duration": 7,
    "start_time": "2022-12-21T11:50:24.434Z"
   },
   {
    "duration": 15,
    "start_time": "2022-12-21T11:50:24.443Z"
   },
   {
    "duration": 24951,
    "start_time": "2022-12-21T11:50:24.460Z"
   },
   {
    "duration": 1804,
    "start_time": "2022-12-21T11:51:32.554Z"
   },
   {
    "duration": 31,
    "start_time": "2022-12-21T11:51:34.361Z"
   },
   {
    "duration": 20,
    "start_time": "2022-12-21T11:51:34.394Z"
   },
   {
    "duration": 12,
    "start_time": "2022-12-21T11:51:34.416Z"
   },
   {
    "duration": 18,
    "start_time": "2022-12-21T11:51:34.430Z"
   },
   {
    "duration": 8,
    "start_time": "2022-12-21T11:51:34.449Z"
   },
   {
    "duration": 28,
    "start_time": "2022-12-21T11:51:34.459Z"
   },
   {
    "duration": 15,
    "start_time": "2022-12-21T11:51:34.488Z"
   },
   {
    "duration": 59,
    "start_time": "2022-12-21T11:51:34.505Z"
   },
   {
    "duration": 996,
    "start_time": "2022-12-21T11:51:34.565Z"
   },
   {
    "duration": 6,
    "start_time": "2022-12-21T11:51:35.562Z"
   },
   {
    "duration": 25,
    "start_time": "2022-12-21T11:51:35.569Z"
   },
   {
    "duration": 27,
    "start_time": "2022-12-21T11:51:35.595Z"
   },
   {
    "duration": 24,
    "start_time": "2022-12-21T11:51:35.625Z"
   },
   {
    "duration": 36,
    "start_time": "2022-12-21T11:51:35.651Z"
   },
   {
    "duration": 38,
    "start_time": "2022-12-21T11:51:35.689Z"
   },
   {
    "duration": 41,
    "start_time": "2022-12-21T11:51:35.728Z"
   },
   {
    "duration": 231,
    "start_time": "2022-12-21T11:51:35.770Z"
   },
   {
    "duration": 7,
    "start_time": "2022-12-21T11:51:36.003Z"
   },
   {
    "duration": 29,
    "start_time": "2022-12-21T11:51:36.011Z"
   },
   {
    "duration": 24,
    "start_time": "2022-12-21T11:51:36.042Z"
   },
   {
    "duration": 26,
    "start_time": "2022-12-21T11:51:36.067Z"
   },
   {
    "duration": 32,
    "start_time": "2022-12-21T11:51:36.095Z"
   },
   {
    "duration": 7,
    "start_time": "2022-12-21T11:51:36.129Z"
   },
   {
    "duration": 34,
    "start_time": "2022-12-21T11:51:36.137Z"
   },
   {
    "duration": 17,
    "start_time": "2022-12-21T11:51:36.173Z"
   },
   {
    "duration": 26,
    "start_time": "2022-12-21T11:51:36.192Z"
   },
   {
    "duration": 9992,
    "start_time": "2022-12-21T11:51:36.219Z"
   },
   {
    "duration": 37101,
    "start_time": "2022-12-21T11:51:46.213Z"
   },
   {
    "duration": 3,
    "start_time": "2022-12-21T11:53:23.018Z"
   },
   {
    "duration": 1951,
    "start_time": "2022-12-21T11:53:27.511Z"
   },
   {
    "duration": 31,
    "start_time": "2022-12-21T11:53:29.464Z"
   },
   {
    "duration": 29,
    "start_time": "2022-12-21T11:53:29.497Z"
   },
   {
    "duration": 13,
    "start_time": "2022-12-21T11:53:29.528Z"
   },
   {
    "duration": 16,
    "start_time": "2022-12-21T11:53:29.544Z"
   },
   {
    "duration": 13,
    "start_time": "2022-12-21T11:53:29.562Z"
   },
   {
    "duration": 31,
    "start_time": "2022-12-21T11:53:29.576Z"
   },
   {
    "duration": 9,
    "start_time": "2022-12-21T11:53:29.609Z"
   },
   {
    "duration": 47,
    "start_time": "2022-12-21T11:53:29.619Z"
   },
   {
    "duration": 901,
    "start_time": "2022-12-21T11:53:29.668Z"
   },
   {
    "duration": 7,
    "start_time": "2022-12-21T11:53:30.571Z"
   },
   {
    "duration": 51,
    "start_time": "2022-12-21T11:53:30.580Z"
   },
   {
    "duration": 37,
    "start_time": "2022-12-21T11:53:30.632Z"
   },
   {
    "duration": 33,
    "start_time": "2022-12-21T11:53:30.672Z"
   },
   {
    "duration": 53,
    "start_time": "2022-12-21T11:53:30.707Z"
   },
   {
    "duration": 33,
    "start_time": "2022-12-21T11:53:30.761Z"
   },
   {
    "duration": 44,
    "start_time": "2022-12-21T11:53:30.795Z"
   },
   {
    "duration": 210,
    "start_time": "2022-12-21T11:53:30.841Z"
   },
   {
    "duration": 7,
    "start_time": "2022-12-21T11:53:31.053Z"
   },
   {
    "duration": 29,
    "start_time": "2022-12-21T11:53:31.061Z"
   },
   {
    "duration": 49,
    "start_time": "2022-12-21T11:53:31.092Z"
   },
   {
    "duration": 38,
    "start_time": "2022-12-21T11:53:31.143Z"
   },
   {
    "duration": 53,
    "start_time": "2022-12-21T11:53:31.183Z"
   },
   {
    "duration": 50,
    "start_time": "2022-12-21T11:53:31.239Z"
   },
   {
    "duration": 23,
    "start_time": "2022-12-21T11:53:31.291Z"
   },
   {
    "duration": 26,
    "start_time": "2022-12-21T11:53:31.316Z"
   },
   {
    "duration": 41,
    "start_time": "2022-12-21T11:53:31.343Z"
   },
   {
    "duration": 218,
    "start_time": "2022-12-21T11:53:31.386Z"
   },
   {
    "duration": 0,
    "start_time": "2022-12-21T11:53:31.605Z"
   },
   {
    "duration": 5,
    "start_time": "2022-12-21T11:53:41.770Z"
   },
   {
    "duration": 4,
    "start_time": "2022-12-21T11:53:42.270Z"
   },
   {
    "duration": 14955,
    "start_time": "2022-12-21T11:53:42.766Z"
   },
   {
    "duration": 3,
    "start_time": "2022-12-21T11:54:06.880Z"
   },
   {
    "duration": 6,
    "start_time": "2022-12-21T11:54:07.274Z"
   },
   {
    "duration": 4,
    "start_time": "2022-12-21T11:54:07.822Z"
   },
   {
    "duration": 16240,
    "start_time": "2022-12-21T11:54:08.386Z"
   },
   {
    "duration": 1805,
    "start_time": "2022-12-21T11:54:40.830Z"
   },
   {
    "duration": 28,
    "start_time": "2022-12-21T11:54:42.637Z"
   },
   {
    "duration": 12,
    "start_time": "2022-12-21T11:54:42.667Z"
   },
   {
    "duration": 10,
    "start_time": "2022-12-21T11:54:42.681Z"
   },
   {
    "duration": 6,
    "start_time": "2022-12-21T11:54:42.692Z"
   },
   {
    "duration": 15,
    "start_time": "2022-12-21T11:54:42.700Z"
   },
   {
    "duration": 14,
    "start_time": "2022-12-21T11:54:42.717Z"
   },
   {
    "duration": 5,
    "start_time": "2022-12-21T11:54:42.732Z"
   },
   {
    "duration": 24,
    "start_time": "2022-12-21T11:54:42.738Z"
   },
   {
    "duration": 865,
    "start_time": "2022-12-21T11:54:42.765Z"
   },
   {
    "duration": 6,
    "start_time": "2022-12-21T11:54:43.631Z"
   },
   {
    "duration": 17,
    "start_time": "2022-12-21T11:54:43.638Z"
   },
   {
    "duration": 15,
    "start_time": "2022-12-21T11:54:43.657Z"
   },
   {
    "duration": 25,
    "start_time": "2022-12-21T11:54:43.673Z"
   },
   {
    "duration": 20,
    "start_time": "2022-12-21T11:54:43.700Z"
   },
   {
    "duration": 20,
    "start_time": "2022-12-21T11:54:43.721Z"
   },
   {
    "duration": 19,
    "start_time": "2022-12-21T11:54:43.742Z"
   },
   {
    "duration": 159,
    "start_time": "2022-12-21T11:54:43.762Z"
   },
   {
    "duration": 6,
    "start_time": "2022-12-21T11:54:43.923Z"
   },
   {
    "duration": 16,
    "start_time": "2022-12-21T11:54:43.931Z"
   },
   {
    "duration": 12,
    "start_time": "2022-12-21T11:54:43.949Z"
   },
   {
    "duration": 16,
    "start_time": "2022-12-21T11:54:43.963Z"
   },
   {
    "duration": 17,
    "start_time": "2022-12-21T11:54:43.981Z"
   },
   {
    "duration": 9,
    "start_time": "2022-12-21T11:54:44.000Z"
   },
   {
    "duration": 8,
    "start_time": "2022-12-21T11:54:44.011Z"
   },
   {
    "duration": 12,
    "start_time": "2022-12-21T11:54:44.021Z"
   },
   {
    "duration": 14,
    "start_time": "2022-12-21T11:54:44.034Z"
   },
   {
    "duration": 16666,
    "start_time": "2022-12-21T11:54:44.051Z"
   },
   {
    "duration": 1827,
    "start_time": "2022-12-21T11:55:12.115Z"
   },
   {
    "duration": 29,
    "start_time": "2022-12-21T11:55:13.944Z"
   },
   {
    "duration": 14,
    "start_time": "2022-12-21T11:55:13.974Z"
   },
   {
    "duration": 23,
    "start_time": "2022-12-21T11:55:13.990Z"
   },
   {
    "duration": 29,
    "start_time": "2022-12-21T11:55:14.015Z"
   },
   {
    "duration": 26,
    "start_time": "2022-12-21T11:55:14.046Z"
   },
   {
    "duration": 29,
    "start_time": "2022-12-21T11:55:14.073Z"
   },
   {
    "duration": 11,
    "start_time": "2022-12-21T11:55:14.104Z"
   },
   {
    "duration": 37,
    "start_time": "2022-12-21T11:55:14.117Z"
   },
   {
    "duration": 861,
    "start_time": "2022-12-21T11:55:14.156Z"
   },
   {
    "duration": 6,
    "start_time": "2022-12-21T11:55:15.019Z"
   },
   {
    "duration": 19,
    "start_time": "2022-12-21T11:55:15.027Z"
   },
   {
    "duration": 13,
    "start_time": "2022-12-21T11:55:15.048Z"
   },
   {
    "duration": 14,
    "start_time": "2022-12-21T11:55:15.064Z"
   },
   {
    "duration": 14,
    "start_time": "2022-12-21T11:55:15.079Z"
   },
   {
    "duration": 17,
    "start_time": "2022-12-21T11:55:15.095Z"
   },
   {
    "duration": 7,
    "start_time": "2022-12-21T11:55:15.113Z"
   },
   {
    "duration": 153,
    "start_time": "2022-12-21T11:55:15.122Z"
   },
   {
    "duration": 7,
    "start_time": "2022-12-21T11:55:15.277Z"
   },
   {
    "duration": 19,
    "start_time": "2022-12-21T11:55:15.285Z"
   },
   {
    "duration": 5,
    "start_time": "2022-12-21T11:55:15.306Z"
   },
   {
    "duration": 5,
    "start_time": "2022-12-21T11:55:15.313Z"
   },
   {
    "duration": 12,
    "start_time": "2022-12-21T11:55:15.320Z"
   },
   {
    "duration": 10,
    "start_time": "2022-12-21T11:55:15.334Z"
   },
   {
    "duration": 5,
    "start_time": "2022-12-21T11:55:15.346Z"
   },
   {
    "duration": 7,
    "start_time": "2022-12-21T11:55:15.353Z"
   },
   {
    "duration": 10,
    "start_time": "2022-12-21T11:55:15.361Z"
   },
   {
    "duration": 28639,
    "start_time": "2022-12-21T11:55:15.373Z"
   },
   {
    "duration": 1841,
    "start_time": "2022-12-21T11:55:54.620Z"
   },
   {
    "duration": 29,
    "start_time": "2022-12-21T11:55:56.463Z"
   },
   {
    "duration": 13,
    "start_time": "2022-12-21T11:55:56.494Z"
   },
   {
    "duration": 11,
    "start_time": "2022-12-21T11:55:56.509Z"
   },
   {
    "duration": 14,
    "start_time": "2022-12-21T11:55:56.523Z"
   },
   {
    "duration": 14,
    "start_time": "2022-12-21T11:55:56.539Z"
   },
   {
    "duration": 14,
    "start_time": "2022-12-21T11:55:56.555Z"
   },
   {
    "duration": 7,
    "start_time": "2022-12-21T11:55:56.571Z"
   },
   {
    "duration": 26,
    "start_time": "2022-12-21T11:55:56.579Z"
   },
   {
    "duration": 925,
    "start_time": "2022-12-21T11:55:56.607Z"
   },
   {
    "duration": 8,
    "start_time": "2022-12-21T11:55:57.534Z"
   },
   {
    "duration": 15,
    "start_time": "2022-12-21T11:55:57.544Z"
   },
   {
    "duration": 11,
    "start_time": "2022-12-21T11:55:57.561Z"
   },
   {
    "duration": 29,
    "start_time": "2022-12-21T11:55:57.576Z"
   },
   {
    "duration": 45,
    "start_time": "2022-12-21T11:55:57.607Z"
   },
   {
    "duration": 34,
    "start_time": "2022-12-21T11:55:57.654Z"
   },
   {
    "duration": 29,
    "start_time": "2022-12-21T11:55:57.689Z"
   },
   {
    "duration": 187,
    "start_time": "2022-12-21T11:55:57.719Z"
   },
   {
    "duration": 6,
    "start_time": "2022-12-21T11:55:57.908Z"
   },
   {
    "duration": 12,
    "start_time": "2022-12-21T11:55:57.916Z"
   },
   {
    "duration": 11,
    "start_time": "2022-12-21T11:55:57.929Z"
   },
   {
    "duration": 13,
    "start_time": "2022-12-21T11:55:57.942Z"
   },
   {
    "duration": 18,
    "start_time": "2022-12-21T11:55:57.957Z"
   },
   {
    "duration": 21,
    "start_time": "2022-12-21T11:55:57.977Z"
   },
   {
    "duration": 16,
    "start_time": "2022-12-21T11:55:58.001Z"
   },
   {
    "duration": 10,
    "start_time": "2022-12-21T11:55:58.019Z"
   },
   {
    "duration": 28,
    "start_time": "2022-12-21T11:55:58.031Z"
   },
   {
    "duration": 30246,
    "start_time": "2022-12-21T11:55:58.061Z"
   },
   {
    "duration": 25227,
    "start_time": "2022-12-21T11:56:28.309Z"
   },
   {
    "duration": 6,
    "start_time": "2022-12-21T11:58:54.163Z"
   },
   {
    "duration": 4,
    "start_time": "2022-12-21T11:58:55.204Z"
   },
   {
    "duration": 30653,
    "start_time": "2022-12-21T11:58:55.866Z"
   },
   {
    "duration": 1835,
    "start_time": "2022-12-21T11:59:46.160Z"
   },
   {
    "duration": 29,
    "start_time": "2022-12-21T11:59:47.998Z"
   },
   {
    "duration": 14,
    "start_time": "2022-12-21T11:59:48.029Z"
   },
   {
    "duration": 11,
    "start_time": "2022-12-21T11:59:48.045Z"
   },
   {
    "duration": 6,
    "start_time": "2022-12-21T11:59:48.058Z"
   },
   {
    "duration": 7,
    "start_time": "2022-12-21T11:59:48.065Z"
   },
   {
    "duration": 18,
    "start_time": "2022-12-21T11:59:48.073Z"
   },
   {
    "duration": 5,
    "start_time": "2022-12-21T11:59:48.092Z"
   },
   {
    "duration": 25,
    "start_time": "2022-12-21T11:59:48.098Z"
   },
   {
    "duration": 911,
    "start_time": "2022-12-21T11:59:48.125Z"
   },
   {
    "duration": 5,
    "start_time": "2022-12-21T11:59:49.038Z"
   },
   {
    "duration": 6,
    "start_time": "2022-12-21T11:59:49.045Z"
   },
   {
    "duration": 5,
    "start_time": "2022-12-21T11:59:49.052Z"
   },
   {
    "duration": 16,
    "start_time": "2022-12-21T11:59:49.060Z"
   },
   {
    "duration": 14,
    "start_time": "2022-12-21T11:59:49.078Z"
   },
   {
    "duration": 13,
    "start_time": "2022-12-21T11:59:49.104Z"
   },
   {
    "duration": 6,
    "start_time": "2022-12-21T11:59:49.119Z"
   },
   {
    "duration": 173,
    "start_time": "2022-12-21T11:59:49.127Z"
   },
   {
    "duration": 7,
    "start_time": "2022-12-21T11:59:49.301Z"
   },
   {
    "duration": 11,
    "start_time": "2022-12-21T11:59:49.309Z"
   },
   {
    "duration": 11,
    "start_time": "2022-12-21T11:59:49.322Z"
   },
   {
    "duration": 5,
    "start_time": "2022-12-21T11:59:49.335Z"
   },
   {
    "duration": 17,
    "start_time": "2022-12-21T11:59:49.342Z"
   },
   {
    "duration": 7,
    "start_time": "2022-12-21T11:59:49.361Z"
   },
   {
    "duration": 7,
    "start_time": "2022-12-21T11:59:49.371Z"
   },
   {
    "duration": 23,
    "start_time": "2022-12-21T11:59:49.380Z"
   },
   {
    "duration": 9,
    "start_time": "2022-12-21T11:59:49.404Z"
   },
   {
    "duration": 30895,
    "start_time": "2022-12-21T11:59:49.415Z"
   },
   {
    "duration": 26879,
    "start_time": "2022-12-21T12:00:20.312Z"
   },
   {
    "duration": 1822,
    "start_time": "2022-12-21T12:00:58.529Z"
   },
   {
    "duration": 29,
    "start_time": "2022-12-21T12:01:00.353Z"
   },
   {
    "duration": 15,
    "start_time": "2022-12-21T12:01:00.385Z"
   },
   {
    "duration": 28,
    "start_time": "2022-12-21T12:01:00.401Z"
   },
   {
    "duration": 27,
    "start_time": "2022-12-21T12:01:00.431Z"
   },
   {
    "duration": 49,
    "start_time": "2022-12-21T12:01:00.460Z"
   },
   {
    "duration": 31,
    "start_time": "2022-12-21T12:01:00.511Z"
   },
   {
    "duration": 25,
    "start_time": "2022-12-21T12:01:00.544Z"
   },
   {
    "duration": 42,
    "start_time": "2022-12-21T12:01:00.571Z"
   },
   {
    "duration": 902,
    "start_time": "2022-12-21T12:01:00.615Z"
   },
   {
    "duration": 6,
    "start_time": "2022-12-21T12:01:01.518Z"
   },
   {
    "duration": 29,
    "start_time": "2022-12-21T12:01:01.525Z"
   },
   {
    "duration": 35,
    "start_time": "2022-12-21T12:01:01.556Z"
   },
   {
    "duration": 50,
    "start_time": "2022-12-21T12:01:01.594Z"
   },
   {
    "duration": 23,
    "start_time": "2022-12-21T12:01:01.645Z"
   },
   {
    "duration": 25,
    "start_time": "2022-12-21T12:01:01.670Z"
   },
   {
    "duration": 11,
    "start_time": "2022-12-21T12:01:01.697Z"
   },
   {
    "duration": 166,
    "start_time": "2022-12-21T12:01:01.709Z"
   },
   {
    "duration": 6,
    "start_time": "2022-12-21T12:01:01.877Z"
   },
   {
    "duration": 18,
    "start_time": "2022-12-21T12:01:01.884Z"
   },
   {
    "duration": 10,
    "start_time": "2022-12-21T12:01:01.904Z"
   },
   {
    "duration": 10,
    "start_time": "2022-12-21T12:01:01.916Z"
   },
   {
    "duration": 28,
    "start_time": "2022-12-21T12:01:01.928Z"
   },
   {
    "duration": 9,
    "start_time": "2022-12-21T12:01:01.957Z"
   },
   {
    "duration": 8,
    "start_time": "2022-12-21T12:01:01.967Z"
   },
   {
    "duration": 6,
    "start_time": "2022-12-21T12:01:01.976Z"
   },
   {
    "duration": 9,
    "start_time": "2022-12-21T12:01:01.983Z"
   },
   {
    "duration": 30931,
    "start_time": "2022-12-21T12:01:01.993Z"
   },
   {
    "duration": 1925,
    "start_time": "2022-12-21T12:01:57.780Z"
   },
   {
    "duration": 30,
    "start_time": "2022-12-21T12:01:59.707Z"
   },
   {
    "duration": 15,
    "start_time": "2022-12-21T12:01:59.738Z"
   },
   {
    "duration": 11,
    "start_time": "2022-12-21T12:01:59.755Z"
   },
   {
    "duration": 5,
    "start_time": "2022-12-21T12:01:59.768Z"
   },
   {
    "duration": 6,
    "start_time": "2022-12-21T12:01:59.774Z"
   },
   {
    "duration": 13,
    "start_time": "2022-12-21T12:01:59.781Z"
   },
   {
    "duration": 3,
    "start_time": "2022-12-21T12:01:59.804Z"
   },
   {
    "duration": 25,
    "start_time": "2022-12-21T12:01:59.808Z"
   },
   {
    "duration": 983,
    "start_time": "2022-12-21T12:01:59.835Z"
   },
   {
    "duration": 6,
    "start_time": "2022-12-21T12:02:00.820Z"
   },
   {
    "duration": 32,
    "start_time": "2022-12-21T12:02:00.828Z"
   },
   {
    "duration": 24,
    "start_time": "2022-12-21T12:02:00.861Z"
   },
   {
    "duration": 37,
    "start_time": "2022-12-21T12:02:00.888Z"
   },
   {
    "duration": 25,
    "start_time": "2022-12-21T12:02:00.927Z"
   },
   {
    "duration": 20,
    "start_time": "2022-12-21T12:02:00.954Z"
   },
   {
    "duration": 31,
    "start_time": "2022-12-21T12:02:00.975Z"
   },
   {
    "duration": 209,
    "start_time": "2022-12-21T12:02:01.008Z"
   },
   {
    "duration": 7,
    "start_time": "2022-12-21T12:02:01.219Z"
   },
   {
    "duration": 35,
    "start_time": "2022-12-21T12:02:01.227Z"
   },
   {
    "duration": 23,
    "start_time": "2022-12-21T12:02:01.264Z"
   },
   {
    "duration": 16,
    "start_time": "2022-12-21T12:02:01.288Z"
   },
   {
    "duration": 25,
    "start_time": "2022-12-21T12:02:01.306Z"
   },
   {
    "duration": 20,
    "start_time": "2022-12-21T12:02:01.332Z"
   },
   {
    "duration": 10,
    "start_time": "2022-12-21T12:02:01.353Z"
   },
   {
    "duration": 21,
    "start_time": "2022-12-21T12:02:01.365Z"
   },
   {
    "duration": 21,
    "start_time": "2022-12-21T12:02:01.388Z"
   },
   {
    "duration": 31406,
    "start_time": "2022-12-21T12:02:01.411Z"
   },
   {
    "duration": 1817,
    "start_time": "2022-12-21T12:02:51.122Z"
   },
   {
    "duration": 29,
    "start_time": "2022-12-21T12:02:52.941Z"
   },
   {
    "duration": 13,
    "start_time": "2022-12-21T12:02:52.972Z"
   },
   {
    "duration": 14,
    "start_time": "2022-12-21T12:02:52.987Z"
   },
   {
    "duration": 10,
    "start_time": "2022-12-21T12:02:53.003Z"
   },
   {
    "duration": 14,
    "start_time": "2022-12-21T12:02:53.015Z"
   },
   {
    "duration": 27,
    "start_time": "2022-12-21T12:02:53.031Z"
   },
   {
    "duration": 15,
    "start_time": "2022-12-21T12:02:53.059Z"
   },
   {
    "duration": 23,
    "start_time": "2022-12-21T12:02:53.075Z"
   },
   {
    "duration": 872,
    "start_time": "2022-12-21T12:02:53.100Z"
   },
   {
    "duration": 6,
    "start_time": "2022-12-21T12:02:53.974Z"
   },
   {
    "duration": 10,
    "start_time": "2022-12-21T12:02:53.981Z"
   },
   {
    "duration": 4,
    "start_time": "2022-12-21T12:02:54.005Z"
   },
   {
    "duration": 19,
    "start_time": "2022-12-21T12:02:54.013Z"
   },
   {
    "duration": 8,
    "start_time": "2022-12-21T12:02:54.034Z"
   },
   {
    "duration": 18,
    "start_time": "2022-12-21T12:02:54.043Z"
   },
   {
    "duration": 6,
    "start_time": "2022-12-21T12:02:54.063Z"
   },
   {
    "duration": 176,
    "start_time": "2022-12-21T12:02:54.070Z"
   },
   {
    "duration": 7,
    "start_time": "2022-12-21T12:02:54.247Z"
   },
   {
    "duration": 23,
    "start_time": "2022-12-21T12:02:54.255Z"
   },
   {
    "duration": 7,
    "start_time": "2022-12-21T12:02:54.280Z"
   },
   {
    "duration": 6,
    "start_time": "2022-12-21T12:02:54.289Z"
   },
   {
    "duration": 17,
    "start_time": "2022-12-21T12:02:54.297Z"
   },
   {
    "duration": 7,
    "start_time": "2022-12-21T12:02:54.315Z"
   },
   {
    "duration": 6,
    "start_time": "2022-12-21T12:02:54.323Z"
   },
   {
    "duration": 6,
    "start_time": "2022-12-21T12:02:54.330Z"
   },
   {
    "duration": 15,
    "start_time": "2022-12-21T12:02:54.338Z"
   },
   {
    "duration": 30172,
    "start_time": "2022-12-21T12:02:54.355Z"
   },
   {
    "duration": 26541,
    "start_time": "2022-12-21T12:03:24.529Z"
   },
   {
    "duration": 1872,
    "start_time": "2022-12-21T12:04:06.205Z"
   },
   {
    "duration": 30,
    "start_time": "2022-12-21T12:04:08.079Z"
   },
   {
    "duration": 13,
    "start_time": "2022-12-21T12:04:08.111Z"
   },
   {
    "duration": 11,
    "start_time": "2022-12-21T12:04:08.126Z"
   },
   {
    "duration": 10,
    "start_time": "2022-12-21T12:04:08.140Z"
   },
   {
    "duration": 5,
    "start_time": "2022-12-21T12:04:08.152Z"
   },
   {
    "duration": 22,
    "start_time": "2022-12-21T12:04:08.159Z"
   },
   {
    "duration": 11,
    "start_time": "2022-12-21T12:04:08.182Z"
   },
   {
    "duration": 23,
    "start_time": "2022-12-21T12:04:08.207Z"
   },
   {
    "duration": 952,
    "start_time": "2022-12-21T12:04:08.232Z"
   },
   {
    "duration": 6,
    "start_time": "2022-12-21T12:04:09.185Z"
   },
   {
    "duration": 12,
    "start_time": "2022-12-21T12:04:09.193Z"
   },
   {
    "duration": 4,
    "start_time": "2022-12-21T12:04:09.208Z"
   },
   {
    "duration": 11,
    "start_time": "2022-12-21T12:04:09.215Z"
   },
   {
    "duration": 7,
    "start_time": "2022-12-21T12:04:09.228Z"
   },
   {
    "duration": 10,
    "start_time": "2022-12-21T12:04:09.236Z"
   },
   {
    "duration": 7,
    "start_time": "2022-12-21T12:04:09.248Z"
   },
   {
    "duration": 187,
    "start_time": "2022-12-21T12:04:09.257Z"
   },
   {
    "duration": 6,
    "start_time": "2022-12-21T12:04:09.446Z"
   },
   {
    "duration": 7,
    "start_time": "2022-12-21T12:04:09.454Z"
   },
   {
    "duration": 15,
    "start_time": "2022-12-21T12:04:09.463Z"
   },
   {
    "duration": 9,
    "start_time": "2022-12-21T12:04:09.481Z"
   },
   {
    "duration": 22,
    "start_time": "2022-12-21T12:04:09.491Z"
   },
   {
    "duration": 7,
    "start_time": "2022-12-21T12:04:09.514Z"
   },
   {
    "duration": 5,
    "start_time": "2022-12-21T12:04:09.522Z"
   },
   {
    "duration": 6,
    "start_time": "2022-12-21T12:04:09.529Z"
   },
   {
    "duration": 7,
    "start_time": "2022-12-21T12:04:09.537Z"
   },
   {
    "duration": 37060,
    "start_time": "2022-12-21T12:04:09.546Z"
   },
   {
    "duration": 26443,
    "start_time": "2022-12-21T12:04:46.608Z"
   },
   {
    "duration": 1762,
    "start_time": "2022-12-21T12:05:47.776Z"
   },
   {
    "duration": 29,
    "start_time": "2022-12-21T12:05:49.540Z"
   },
   {
    "duration": 15,
    "start_time": "2022-12-21T12:05:49.570Z"
   },
   {
    "duration": 11,
    "start_time": "2022-12-21T12:05:49.587Z"
   },
   {
    "duration": 10,
    "start_time": "2022-12-21T12:05:49.599Z"
   },
   {
    "duration": 7,
    "start_time": "2022-12-21T12:05:49.611Z"
   },
   {
    "duration": 16,
    "start_time": "2022-12-21T12:05:49.619Z"
   },
   {
    "duration": 6,
    "start_time": "2022-12-21T12:05:49.637Z"
   },
   {
    "duration": 26,
    "start_time": "2022-12-21T12:05:49.644Z"
   },
   {
    "duration": 905,
    "start_time": "2022-12-21T12:05:49.682Z"
   },
   {
    "duration": 6,
    "start_time": "2022-12-21T12:05:50.589Z"
   },
   {
    "duration": 11,
    "start_time": "2022-12-21T12:05:50.596Z"
   },
   {
    "duration": 6,
    "start_time": "2022-12-21T12:05:50.609Z"
   },
   {
    "duration": 14,
    "start_time": "2022-12-21T12:05:50.619Z"
   },
   {
    "duration": 8,
    "start_time": "2022-12-21T12:05:50.634Z"
   },
   {
    "duration": 16,
    "start_time": "2022-12-21T12:05:50.644Z"
   },
   {
    "duration": 8,
    "start_time": "2022-12-21T12:05:50.662Z"
   },
   {
    "duration": 178,
    "start_time": "2022-12-21T12:05:50.672Z"
   },
   {
    "duration": 6,
    "start_time": "2022-12-21T12:05:50.851Z"
   },
   {
    "duration": 10,
    "start_time": "2022-12-21T12:05:50.859Z"
   },
   {
    "duration": 5,
    "start_time": "2022-12-21T12:05:50.871Z"
   },
   {
    "duration": 5,
    "start_time": "2022-12-21T12:05:50.878Z"
   },
   {
    "duration": 26,
    "start_time": "2022-12-21T12:05:50.885Z"
   },
   {
    "duration": 7,
    "start_time": "2022-12-21T12:05:50.912Z"
   },
   {
    "duration": 8,
    "start_time": "2022-12-21T12:05:50.920Z"
   },
   {
    "duration": 6,
    "start_time": "2022-12-21T12:05:50.929Z"
   },
   {
    "duration": 8,
    "start_time": "2022-12-21T12:05:50.937Z"
   },
   {
    "duration": 28678,
    "start_time": "2022-12-21T12:05:50.947Z"
   },
   {
    "duration": 20623,
    "start_time": "2022-12-21T12:06:19.626Z"
   },
   {
    "duration": 1812,
    "start_time": "2022-12-21T12:06:46.672Z"
   },
   {
    "duration": 29,
    "start_time": "2022-12-21T12:06:48.486Z"
   },
   {
    "duration": 15,
    "start_time": "2022-12-21T12:06:48.517Z"
   },
   {
    "duration": 27,
    "start_time": "2022-12-21T12:06:48.533Z"
   },
   {
    "duration": 15,
    "start_time": "2022-12-21T12:06:48.562Z"
   },
   {
    "duration": 37,
    "start_time": "2022-12-21T12:06:48.578Z"
   },
   {
    "duration": 29,
    "start_time": "2022-12-21T12:06:48.616Z"
   },
   {
    "duration": 17,
    "start_time": "2022-12-21T12:06:48.648Z"
   },
   {
    "duration": 37,
    "start_time": "2022-12-21T12:06:48.666Z"
   },
   {
    "duration": 937,
    "start_time": "2022-12-21T12:06:48.705Z"
   },
   {
    "duration": 7,
    "start_time": "2022-12-21T12:06:49.644Z"
   },
   {
    "duration": 25,
    "start_time": "2022-12-21T12:06:49.652Z"
   },
   {
    "duration": 12,
    "start_time": "2022-12-21T12:06:49.679Z"
   },
   {
    "duration": 18,
    "start_time": "2022-12-21T12:06:49.694Z"
   },
   {
    "duration": 22,
    "start_time": "2022-12-21T12:06:49.713Z"
   },
   {
    "duration": 20,
    "start_time": "2022-12-21T12:06:49.736Z"
   },
   {
    "duration": 20,
    "start_time": "2022-12-21T12:06:49.757Z"
   },
   {
    "duration": 175,
    "start_time": "2022-12-21T12:06:49.779Z"
   },
   {
    "duration": 7,
    "start_time": "2022-12-21T12:06:49.956Z"
   },
   {
    "duration": 27,
    "start_time": "2022-12-21T12:06:49.964Z"
   },
   {
    "duration": 16,
    "start_time": "2022-12-21T12:06:49.993Z"
   },
   {
    "duration": 16,
    "start_time": "2022-12-21T12:06:50.011Z"
   },
   {
    "duration": 26,
    "start_time": "2022-12-21T12:06:50.029Z"
   },
   {
    "duration": 11,
    "start_time": "2022-12-21T12:06:50.057Z"
   },
   {
    "duration": 22,
    "start_time": "2022-12-21T12:06:50.069Z"
   },
   {
    "duration": 17,
    "start_time": "2022-12-21T12:06:50.092Z"
   },
   {
    "duration": 25,
    "start_time": "2022-12-21T12:06:50.111Z"
   },
   {
    "duration": 28483,
    "start_time": "2022-12-21T12:06:50.138Z"
   },
   {
    "duration": 21477,
    "start_time": "2022-12-21T12:07:18.623Z"
   },
   {
    "duration": 5,
    "start_time": "2022-12-21T12:08:38.471Z"
   },
   {
    "duration": 1734,
    "start_time": "2022-12-21T12:08:42.300Z"
   },
   {
    "duration": 30,
    "start_time": "2022-12-21T12:08:44.036Z"
   },
   {
    "duration": 13,
    "start_time": "2022-12-21T12:08:44.067Z"
   },
   {
    "duration": 20,
    "start_time": "2022-12-21T12:08:44.081Z"
   },
   {
    "duration": 16,
    "start_time": "2022-12-21T12:08:44.103Z"
   },
   {
    "duration": 11,
    "start_time": "2022-12-21T12:08:44.121Z"
   },
   {
    "duration": 14,
    "start_time": "2022-12-21T12:08:44.134Z"
   },
   {
    "duration": 9,
    "start_time": "2022-12-21T12:08:44.150Z"
   },
   {
    "duration": 34,
    "start_time": "2022-12-21T12:08:44.161Z"
   },
   {
    "duration": 884,
    "start_time": "2022-12-21T12:08:44.197Z"
   },
   {
    "duration": 6,
    "start_time": "2022-12-21T12:08:45.082Z"
   },
   {
    "duration": 21,
    "start_time": "2022-12-21T12:08:45.089Z"
   },
   {
    "duration": 13,
    "start_time": "2022-12-21T12:08:45.111Z"
   },
   {
    "duration": 26,
    "start_time": "2022-12-21T12:08:45.126Z"
   },
   {
    "duration": 15,
    "start_time": "2022-12-21T12:08:45.153Z"
   },
   {
    "duration": 8,
    "start_time": "2022-12-21T12:08:45.169Z"
   },
   {
    "duration": 6,
    "start_time": "2022-12-21T12:08:45.179Z"
   },
   {
    "duration": 157,
    "start_time": "2022-12-21T12:08:45.187Z"
   },
   {
    "duration": 7,
    "start_time": "2022-12-21T12:08:45.345Z"
   },
   {
    "duration": 6,
    "start_time": "2022-12-21T12:08:45.354Z"
   },
   {
    "duration": 8,
    "start_time": "2022-12-21T12:08:45.362Z"
   },
   {
    "duration": 4,
    "start_time": "2022-12-21T12:08:45.372Z"
   },
   {
    "duration": 30,
    "start_time": "2022-12-21T12:08:45.378Z"
   },
   {
    "duration": 7,
    "start_time": "2022-12-21T12:08:45.410Z"
   },
   {
    "duration": 4,
    "start_time": "2022-12-21T12:08:45.419Z"
   },
   {
    "duration": 7,
    "start_time": "2022-12-21T12:08:45.425Z"
   },
   {
    "duration": 8,
    "start_time": "2022-12-21T12:08:45.433Z"
   },
   {
    "duration": 29280,
    "start_time": "2022-12-21T12:08:45.443Z"
   },
   {
    "duration": 25981,
    "start_time": "2022-12-21T12:09:14.725Z"
   },
   {
    "duration": 1848,
    "start_time": "2022-12-21T12:10:30.676Z"
   },
   {
    "duration": 41,
    "start_time": "2022-12-21T12:10:32.526Z"
   },
   {
    "duration": 39,
    "start_time": "2022-12-21T12:10:32.569Z"
   },
   {
    "duration": 35,
    "start_time": "2022-12-21T12:10:32.610Z"
   },
   {
    "duration": 30,
    "start_time": "2022-12-21T12:10:32.648Z"
   },
   {
    "duration": 25,
    "start_time": "2022-12-21T12:10:32.680Z"
   },
   {
    "duration": 29,
    "start_time": "2022-12-21T12:10:32.707Z"
   },
   {
    "duration": 30,
    "start_time": "2022-12-21T12:10:32.738Z"
   },
   {
    "duration": 42,
    "start_time": "2022-12-21T12:10:32.770Z"
   },
   {
    "duration": 903,
    "start_time": "2022-12-21T12:10:32.813Z"
   },
   {
    "duration": 6,
    "start_time": "2022-12-21T12:10:33.717Z"
   },
   {
    "duration": 6,
    "start_time": "2022-12-21T12:10:33.725Z"
   },
   {
    "duration": 10,
    "start_time": "2022-12-21T12:10:33.733Z"
   },
   {
    "duration": 17,
    "start_time": "2022-12-21T12:10:33.746Z"
   },
   {
    "duration": 16,
    "start_time": "2022-12-21T12:10:33.765Z"
   },
   {
    "duration": 11,
    "start_time": "2022-12-21T12:10:33.783Z"
   },
   {
    "duration": 4,
    "start_time": "2022-12-21T12:10:33.805Z"
   },
   {
    "duration": 170,
    "start_time": "2022-12-21T12:10:33.811Z"
   },
   {
    "duration": 6,
    "start_time": "2022-12-21T12:10:33.982Z"
   },
   {
    "duration": 48,
    "start_time": "2022-12-21T12:10:33.990Z"
   },
   {
    "duration": 8,
    "start_time": "2022-12-21T12:10:34.039Z"
   },
   {
    "duration": 10,
    "start_time": "2022-12-21T12:10:34.049Z"
   },
   {
    "duration": 27,
    "start_time": "2022-12-21T12:10:34.060Z"
   },
   {
    "duration": 9,
    "start_time": "2022-12-21T12:10:34.088Z"
   },
   {
    "duration": 4,
    "start_time": "2022-12-21T12:10:34.099Z"
   },
   {
    "duration": 7,
    "start_time": "2022-12-21T12:10:34.105Z"
   },
   {
    "duration": 9,
    "start_time": "2022-12-21T12:10:34.113Z"
   },
   {
    "duration": 30692,
    "start_time": "2022-12-21T12:10:34.123Z"
   },
   {
    "duration": 25665,
    "start_time": "2022-12-21T12:11:04.818Z"
   },
   {
    "duration": 4,
    "start_time": "2022-12-21T12:12:41.300Z"
   },
   {
    "duration": 9,
    "start_time": "2022-12-21T12:12:42.929Z"
   },
   {
    "duration": 5,
    "start_time": "2022-12-21T12:12:43.662Z"
   },
   {
    "duration": 25291,
    "start_time": "2022-12-21T12:12:44.419Z"
   },
   {
    "duration": 6,
    "start_time": "2022-12-21T12:14:21.212Z"
   },
   {
    "duration": 5,
    "start_time": "2022-12-21T12:14:21.819Z"
   },
   {
    "duration": 31388,
    "start_time": "2022-12-21T12:14:22.329Z"
   },
   {
    "duration": 1833,
    "start_time": "2022-12-21T12:16:07.715Z"
   },
   {
    "duration": 29,
    "start_time": "2022-12-21T12:16:09.550Z"
   },
   {
    "duration": 14,
    "start_time": "2022-12-21T12:16:09.581Z"
   },
   {
    "duration": 11,
    "start_time": "2022-12-21T12:16:09.596Z"
   },
   {
    "duration": 5,
    "start_time": "2022-12-21T12:16:09.609Z"
   },
   {
    "duration": 7,
    "start_time": "2022-12-21T12:16:09.615Z"
   },
   {
    "duration": 14,
    "start_time": "2022-12-21T12:16:09.624Z"
   },
   {
    "duration": 8,
    "start_time": "2022-12-21T12:16:09.639Z"
   },
   {
    "duration": 24,
    "start_time": "2022-12-21T12:16:09.649Z"
   },
   {
    "duration": 944,
    "start_time": "2022-12-21T12:16:09.674Z"
   },
   {
    "duration": 6,
    "start_time": "2022-12-21T12:16:10.620Z"
   },
   {
    "duration": 7,
    "start_time": "2022-12-21T12:16:10.628Z"
   },
   {
    "duration": 9,
    "start_time": "2022-12-21T12:16:10.636Z"
   },
   {
    "duration": 10,
    "start_time": "2022-12-21T12:16:10.647Z"
   },
   {
    "duration": 10,
    "start_time": "2022-12-21T12:16:10.659Z"
   },
   {
    "duration": 7,
    "start_time": "2022-12-21T12:16:10.671Z"
   },
   {
    "duration": 25,
    "start_time": "2022-12-21T12:16:10.680Z"
   },
   {
    "duration": 162,
    "start_time": "2022-12-21T12:16:10.706Z"
   },
   {
    "duration": 7,
    "start_time": "2022-12-21T12:16:10.870Z"
   },
   {
    "duration": 6,
    "start_time": "2022-12-21T12:16:10.879Z"
   },
   {
    "duration": 18,
    "start_time": "2022-12-21T12:16:10.887Z"
   },
   {
    "duration": 6,
    "start_time": "2022-12-21T12:16:10.907Z"
   },
   {
    "duration": 14,
    "start_time": "2022-12-21T12:16:10.914Z"
   },
   {
    "duration": 7,
    "start_time": "2022-12-21T12:16:10.929Z"
   },
   {
    "duration": 5,
    "start_time": "2022-12-21T12:16:10.938Z"
   },
   {
    "duration": 6,
    "start_time": "2022-12-21T12:16:10.944Z"
   },
   {
    "duration": 11,
    "start_time": "2022-12-21T12:16:10.952Z"
   },
   {
    "duration": 20353,
    "start_time": "2022-12-21T12:16:10.965Z"
   },
   {
    "duration": 1830,
    "start_time": "2022-12-21T12:16:47.524Z"
   },
   {
    "duration": 30,
    "start_time": "2022-12-21T12:16:49.356Z"
   },
   {
    "duration": 21,
    "start_time": "2022-12-21T12:16:49.388Z"
   },
   {
    "duration": 26,
    "start_time": "2022-12-21T12:16:49.411Z"
   },
   {
    "duration": 6,
    "start_time": "2022-12-21T12:16:49.439Z"
   },
   {
    "duration": 5,
    "start_time": "2022-12-21T12:16:49.446Z"
   },
   {
    "duration": 14,
    "start_time": "2022-12-21T12:16:49.452Z"
   },
   {
    "duration": 9,
    "start_time": "2022-12-21T12:16:49.467Z"
   },
   {
    "duration": 28,
    "start_time": "2022-12-21T12:16:49.477Z"
   },
   {
    "duration": 900,
    "start_time": "2022-12-21T12:16:49.507Z"
   },
   {
    "duration": 6,
    "start_time": "2022-12-21T12:16:50.409Z"
   },
   {
    "duration": 6,
    "start_time": "2022-12-21T12:16:50.417Z"
   },
   {
    "duration": 6,
    "start_time": "2022-12-21T12:16:50.424Z"
   },
   {
    "duration": 10,
    "start_time": "2022-12-21T12:16:50.432Z"
   },
   {
    "duration": 6,
    "start_time": "2022-12-21T12:16:50.444Z"
   },
   {
    "duration": 8,
    "start_time": "2022-12-21T12:16:50.451Z"
   },
   {
    "duration": 7,
    "start_time": "2022-12-21T12:16:50.460Z"
   },
   {
    "duration": 185,
    "start_time": "2022-12-21T12:16:50.469Z"
   },
   {
    "duration": 7,
    "start_time": "2022-12-21T12:16:50.655Z"
   },
   {
    "duration": 6,
    "start_time": "2022-12-21T12:16:50.664Z"
   },
   {
    "duration": 6,
    "start_time": "2022-12-21T12:16:50.672Z"
   },
   {
    "duration": 8,
    "start_time": "2022-12-21T12:16:50.679Z"
   },
   {
    "duration": 13,
    "start_time": "2022-12-21T12:16:50.705Z"
   },
   {
    "duration": 3,
    "start_time": "2022-12-21T12:16:50.720Z"
   },
   {
    "duration": 10,
    "start_time": "2022-12-21T12:16:50.725Z"
   },
   {
    "duration": 10,
    "start_time": "2022-12-21T12:16:50.736Z"
   },
   {
    "duration": 10,
    "start_time": "2022-12-21T12:16:50.747Z"
   },
   {
    "duration": 22758,
    "start_time": "2022-12-21T12:16:50.759Z"
   },
   {
    "duration": 25047,
    "start_time": "2022-12-21T12:17:13.518Z"
   },
   {
    "duration": 1944,
    "start_time": "2022-12-21T12:22:24.309Z"
   },
   {
    "duration": 29,
    "start_time": "2022-12-21T12:22:26.255Z"
   },
   {
    "duration": 13,
    "start_time": "2022-12-21T12:22:26.286Z"
   },
   {
    "duration": 13,
    "start_time": "2022-12-21T12:22:26.301Z"
   },
   {
    "duration": 5,
    "start_time": "2022-12-21T12:22:26.316Z"
   },
   {
    "duration": 5,
    "start_time": "2022-12-21T12:22:26.323Z"
   },
   {
    "duration": 14,
    "start_time": "2022-12-21T12:22:26.329Z"
   },
   {
    "duration": 6,
    "start_time": "2022-12-21T12:22:26.345Z"
   },
   {
    "duration": 24,
    "start_time": "2022-12-21T12:22:26.353Z"
   },
   {
    "duration": 919,
    "start_time": "2022-12-21T12:22:26.378Z"
   },
   {
    "duration": 10,
    "start_time": "2022-12-21T12:22:27.298Z"
   },
   {
    "duration": 30,
    "start_time": "2022-12-21T12:22:27.310Z"
   },
   {
    "duration": 9,
    "start_time": "2022-12-21T12:22:27.341Z"
   },
   {
    "duration": 9,
    "start_time": "2022-12-21T12:22:27.353Z"
   },
   {
    "duration": 10,
    "start_time": "2022-12-21T12:22:27.364Z"
   },
   {
    "duration": 11,
    "start_time": "2022-12-21T12:22:27.376Z"
   },
   {
    "duration": 9,
    "start_time": "2022-12-21T12:22:27.388Z"
   },
   {
    "duration": 170,
    "start_time": "2022-12-21T12:22:27.399Z"
   },
   {
    "duration": 7,
    "start_time": "2022-12-21T12:22:27.571Z"
   },
   {
    "duration": 6,
    "start_time": "2022-12-21T12:22:27.579Z"
   },
   {
    "duration": 20,
    "start_time": "2022-12-21T12:22:27.587Z"
   },
   {
    "duration": 9,
    "start_time": "2022-12-21T12:22:27.610Z"
   },
   {
    "duration": 16,
    "start_time": "2022-12-21T12:22:27.620Z"
   },
   {
    "duration": 13,
    "start_time": "2022-12-21T12:22:27.638Z"
   },
   {
    "duration": 3,
    "start_time": "2022-12-21T12:22:27.653Z"
   },
   {
    "duration": 7,
    "start_time": "2022-12-21T12:22:27.658Z"
   },
   {
    "duration": 9,
    "start_time": "2022-12-21T12:22:27.666Z"
   },
   {
    "duration": 24532,
    "start_time": "2022-12-21T12:22:27.677Z"
   },
   {
    "duration": 1824,
    "start_time": "2022-12-21T12:22:57.515Z"
   },
   {
    "duration": 29,
    "start_time": "2022-12-21T12:22:59.342Z"
   },
   {
    "duration": 13,
    "start_time": "2022-12-21T12:22:59.372Z"
   },
   {
    "duration": 24,
    "start_time": "2022-12-21T12:22:59.387Z"
   },
   {
    "duration": 18,
    "start_time": "2022-12-21T12:22:59.413Z"
   },
   {
    "duration": 14,
    "start_time": "2022-12-21T12:22:59.433Z"
   },
   {
    "duration": 29,
    "start_time": "2022-12-21T12:22:59.448Z"
   },
   {
    "duration": 18,
    "start_time": "2022-12-21T12:22:59.479Z"
   },
   {
    "duration": 33,
    "start_time": "2022-12-21T12:22:59.498Z"
   },
   {
    "duration": 928,
    "start_time": "2022-12-21T12:22:59.533Z"
   },
   {
    "duration": 6,
    "start_time": "2022-12-21T12:23:00.463Z"
   },
   {
    "duration": 28,
    "start_time": "2022-12-21T12:23:00.470Z"
   },
   {
    "duration": 30,
    "start_time": "2022-12-21T12:23:00.499Z"
   },
   {
    "duration": 24,
    "start_time": "2022-12-21T12:23:00.532Z"
   },
   {
    "duration": 28,
    "start_time": "2022-12-21T12:23:00.558Z"
   },
   {
    "duration": 45,
    "start_time": "2022-12-21T12:23:00.588Z"
   },
   {
    "duration": 19,
    "start_time": "2022-12-21T12:23:00.635Z"
   },
   {
    "duration": 193,
    "start_time": "2022-12-21T12:23:00.656Z"
   },
   {
    "duration": 6,
    "start_time": "2022-12-21T12:23:00.851Z"
   },
   {
    "duration": 52,
    "start_time": "2022-12-21T12:23:00.859Z"
   },
   {
    "duration": 24,
    "start_time": "2022-12-21T12:23:00.913Z"
   },
   {
    "duration": 57,
    "start_time": "2022-12-21T12:23:00.939Z"
   },
   {
    "duration": 113,
    "start_time": "2022-12-21T12:23:00.998Z"
   },
   {
    "duration": 50,
    "start_time": "2022-12-21T12:23:01.113Z"
   },
   {
    "duration": 25,
    "start_time": "2022-12-21T12:23:01.165Z"
   },
   {
    "duration": 23,
    "start_time": "2022-12-21T12:23:01.192Z"
   },
   {
    "duration": 26,
    "start_time": "2022-12-21T12:23:01.217Z"
   },
   {
    "duration": 24967,
    "start_time": "2022-12-21T12:23:01.245Z"
   },
   {
    "duration": 26063,
    "start_time": "2022-12-21T12:23:26.213Z"
   },
   {
    "duration": 1824,
    "start_time": "2022-12-21T12:24:40.252Z"
   },
   {
    "duration": 29,
    "start_time": "2022-12-21T12:24:42.078Z"
   },
   {
    "duration": 13,
    "start_time": "2022-12-21T12:24:42.109Z"
   },
   {
    "duration": 12,
    "start_time": "2022-12-21T12:24:42.124Z"
   },
   {
    "duration": 14,
    "start_time": "2022-12-21T12:24:42.137Z"
   },
   {
    "duration": 7,
    "start_time": "2022-12-21T12:24:42.152Z"
   },
   {
    "duration": 20,
    "start_time": "2022-12-21T12:24:42.161Z"
   },
   {
    "duration": 8,
    "start_time": "2022-12-21T12:24:42.183Z"
   },
   {
    "duration": 22,
    "start_time": "2022-12-21T12:24:42.204Z"
   },
   {
    "duration": 894,
    "start_time": "2022-12-21T12:24:42.230Z"
   },
   {
    "duration": 5,
    "start_time": "2022-12-21T12:24:43.126Z"
   },
   {
    "duration": 6,
    "start_time": "2022-12-21T12:24:43.133Z"
   },
   {
    "duration": 4,
    "start_time": "2022-12-21T12:24:43.141Z"
   },
   {
    "duration": 12,
    "start_time": "2022-12-21T12:24:43.147Z"
   },
   {
    "duration": 6,
    "start_time": "2022-12-21T12:24:43.160Z"
   },
   {
    "duration": 9,
    "start_time": "2022-12-21T12:24:43.168Z"
   },
   {
    "duration": 29,
    "start_time": "2022-12-21T12:24:43.178Z"
   },
   {
    "duration": 166,
    "start_time": "2022-12-21T12:24:43.209Z"
   },
   {
    "duration": 6,
    "start_time": "2022-12-21T12:24:43.377Z"
   },
   {
    "duration": 10,
    "start_time": "2022-12-21T12:24:43.384Z"
   },
   {
    "duration": 12,
    "start_time": "2022-12-21T12:24:43.395Z"
   },
   {
    "duration": 7,
    "start_time": "2022-12-21T12:24:43.408Z"
   },
   {
    "duration": 18,
    "start_time": "2022-12-21T12:24:43.416Z"
   },
   {
    "duration": 9,
    "start_time": "2022-12-21T12:24:43.435Z"
   },
   {
    "duration": 6,
    "start_time": "2022-12-21T12:24:43.446Z"
   },
   {
    "duration": 8,
    "start_time": "2022-12-21T12:24:43.453Z"
   },
   {
    "duration": 16,
    "start_time": "2022-12-21T12:24:43.462Z"
   },
   {
    "duration": 23242,
    "start_time": "2022-12-21T12:24:43.482Z"
   },
   {
    "duration": 25593,
    "start_time": "2022-12-21T12:25:06.726Z"
   },
   {
    "duration": 137,
    "start_time": "2022-12-21T12:27:28.467Z"
   },
   {
    "duration": 143,
    "start_time": "2022-12-21T12:28:00.641Z"
   },
   {
    "duration": 126,
    "start_time": "2022-12-21T12:28:43.308Z"
   },
   {
    "duration": 240,
    "start_time": "2022-12-21T12:29:04.580Z"
   },
   {
    "duration": 1779,
    "start_time": "2022-12-21T12:30:35.382Z"
   },
   {
    "duration": 29,
    "start_time": "2022-12-21T12:30:37.163Z"
   },
   {
    "duration": 14,
    "start_time": "2022-12-21T12:30:37.193Z"
   },
   {
    "duration": 13,
    "start_time": "2022-12-21T12:30:37.210Z"
   },
   {
    "duration": 6,
    "start_time": "2022-12-21T12:30:37.225Z"
   },
   {
    "duration": 6,
    "start_time": "2022-12-21T12:30:37.232Z"
   },
   {
    "duration": 12,
    "start_time": "2022-12-21T12:30:37.240Z"
   },
   {
    "duration": 4,
    "start_time": "2022-12-21T12:30:37.253Z"
   },
   {
    "duration": 26,
    "start_time": "2022-12-21T12:30:37.259Z"
   },
   {
    "duration": 1017,
    "start_time": "2022-12-21T12:30:37.306Z"
   },
   {
    "duration": 7,
    "start_time": "2022-12-21T12:30:38.325Z"
   },
   {
    "duration": 7,
    "start_time": "2022-12-21T12:30:38.333Z"
   },
   {
    "duration": 6,
    "start_time": "2022-12-21T12:30:38.342Z"
   },
   {
    "duration": 13,
    "start_time": "2022-12-21T12:30:38.349Z"
   },
   {
    "duration": 12,
    "start_time": "2022-12-21T12:30:38.364Z"
   },
   {
    "duration": 30,
    "start_time": "2022-12-21T12:30:38.378Z"
   },
   {
    "duration": 14,
    "start_time": "2022-12-21T12:30:38.410Z"
   },
   {
    "duration": 190,
    "start_time": "2022-12-21T12:30:38.425Z"
   },
   {
    "duration": 4,
    "start_time": "2022-12-21T12:30:38.618Z"
   },
   {
    "duration": 12,
    "start_time": "2022-12-21T12:30:38.623Z"
   },
   {
    "duration": 8,
    "start_time": "2022-12-21T12:30:38.636Z"
   },
   {
    "duration": 10,
    "start_time": "2022-12-21T12:30:38.645Z"
   },
   {
    "duration": 6,
    "start_time": "2022-12-21T12:30:38.656Z"
   },
   {
    "duration": 15,
    "start_time": "2022-12-21T12:30:38.664Z"
   },
   {
    "duration": 31,
    "start_time": "2022-12-21T12:30:38.681Z"
   },
   {
    "duration": 4,
    "start_time": "2022-12-21T12:30:38.715Z"
   },
   {
    "duration": 11,
    "start_time": "2022-12-21T12:30:38.721Z"
   },
   {
    "duration": 7,
    "start_time": "2022-12-21T12:30:38.735Z"
   },
   {
    "duration": 23386,
    "start_time": "2022-12-21T12:30:38.744Z"
   },
   {
    "duration": 224,
    "start_time": "2022-12-21T12:31:02.131Z"
   },
   {
    "duration": 1862,
    "start_time": "2022-12-21T12:31:18.003Z"
   },
   {
    "duration": 29,
    "start_time": "2022-12-21T12:31:19.868Z"
   },
   {
    "duration": 14,
    "start_time": "2022-12-21T12:31:19.899Z"
   },
   {
    "duration": 12,
    "start_time": "2022-12-21T12:31:19.914Z"
   },
   {
    "duration": 8,
    "start_time": "2022-12-21T12:31:19.929Z"
   },
   {
    "duration": 5,
    "start_time": "2022-12-21T12:31:19.939Z"
   },
   {
    "duration": 13,
    "start_time": "2022-12-21T12:31:19.946Z"
   },
   {
    "duration": 3,
    "start_time": "2022-12-21T12:31:19.961Z"
   },
   {
    "duration": 45,
    "start_time": "2022-12-21T12:31:19.965Z"
   },
   {
    "duration": 927,
    "start_time": "2022-12-21T12:31:20.011Z"
   },
   {
    "duration": 7,
    "start_time": "2022-12-21T12:31:20.939Z"
   },
   {
    "duration": 10,
    "start_time": "2022-12-21T12:31:20.947Z"
   },
   {
    "duration": 8,
    "start_time": "2022-12-21T12:31:20.959Z"
   },
   {
    "duration": 14,
    "start_time": "2022-12-21T12:31:20.971Z"
   },
   {
    "duration": 22,
    "start_time": "2022-12-21T12:31:20.987Z"
   },
   {
    "duration": 13,
    "start_time": "2022-12-21T12:31:21.011Z"
   },
   {
    "duration": 11,
    "start_time": "2022-12-21T12:31:21.026Z"
   },
   {
    "duration": 175,
    "start_time": "2022-12-21T12:31:21.039Z"
   },
   {
    "duration": 4,
    "start_time": "2022-12-21T12:31:21.216Z"
   },
   {
    "duration": 11,
    "start_time": "2022-12-21T12:31:21.221Z"
   },
   {
    "duration": 10,
    "start_time": "2022-12-21T12:31:21.234Z"
   },
   {
    "duration": 15,
    "start_time": "2022-12-21T12:31:21.246Z"
   },
   {
    "duration": 12,
    "start_time": "2022-12-21T12:31:21.263Z"
   },
   {
    "duration": 21,
    "start_time": "2022-12-21T12:31:21.277Z"
   },
   {
    "duration": 11,
    "start_time": "2022-12-21T12:31:21.306Z"
   },
   {
    "duration": 11,
    "start_time": "2022-12-21T12:31:21.319Z"
   },
   {
    "duration": 8,
    "start_time": "2022-12-21T12:31:21.332Z"
   },
   {
    "duration": 9,
    "start_time": "2022-12-21T12:31:21.342Z"
   },
   {
    "duration": 32874,
    "start_time": "2022-12-21T12:31:21.353Z"
   },
   {
    "duration": 210,
    "start_time": "2022-12-21T12:31:54.229Z"
   },
   {
    "duration": 36765,
    "start_time": "2022-12-21T12:31:54.441Z"
   },
   {
    "duration": 4,
    "start_time": "2022-12-21T12:35:58.670Z"
   },
   {
    "duration": 3,
    "start_time": "2022-12-21T12:39:37.124Z"
   },
   {
    "duration": 148,
    "start_time": "2022-12-21T12:43:27.601Z"
   },
   {
    "duration": 13,
    "start_time": "2022-12-21T12:44:00.601Z"
   },
   {
    "duration": 13,
    "start_time": "2022-12-21T12:44:30.526Z"
   },
   {
    "duration": 3,
    "start_time": "2022-12-21T12:44:41.299Z"
   },
   {
    "duration": 8,
    "start_time": "2022-12-21T12:44:51.264Z"
   },
   {
    "duration": 24,
    "start_time": "2022-12-21T12:45:13.521Z"
   },
   {
    "duration": 23,
    "start_time": "2022-12-21T12:45:19.491Z"
   },
   {
    "duration": 8,
    "start_time": "2022-12-21T12:45:26.350Z"
   },
   {
    "duration": 12,
    "start_time": "2022-12-21T12:46:21.798Z"
   },
   {
    "duration": 14,
    "start_time": "2022-12-21T12:46:49.089Z"
   },
   {
    "duration": 7,
    "start_time": "2022-12-21T12:47:12.242Z"
   },
   {
    "duration": 9,
    "start_time": "2022-12-21T12:48:20.056Z"
   },
   {
    "duration": 6,
    "start_time": "2022-12-21T12:49:35.058Z"
   },
   {
    "duration": 123,
    "start_time": "2022-12-21T12:50:04.137Z"
   },
   {
    "duration": 15,
    "start_time": "2022-12-21T12:50:15.216Z"
   },
   {
    "duration": 11,
    "start_time": "2022-12-21T12:50:28.596Z"
   },
   {
    "duration": 128,
    "start_time": "2022-12-21T12:50:52.195Z"
   },
   {
    "duration": 73,
    "start_time": "2022-12-21T12:52:42.362Z"
   },
   {
    "duration": 5,
    "start_time": "2022-12-21T12:52:52.363Z"
   },
   {
    "duration": 419,
    "start_time": "2022-12-21T12:52:56.251Z"
   },
   {
    "duration": 377,
    "start_time": "2022-12-21T12:54:04.476Z"
   },
   {
    "duration": 640,
    "start_time": "2022-12-21T12:55:30.900Z"
   },
   {
    "duration": 818,
    "start_time": "2022-12-21T12:55:53.671Z"
   },
   {
    "duration": 707,
    "start_time": "2022-12-21T12:56:48.880Z"
   },
   {
    "duration": 164,
    "start_time": "2022-12-21T12:59:40.901Z"
   },
   {
    "duration": 1122,
    "start_time": "2022-12-21T13:06:29.737Z"
   },
   {
    "duration": 782,
    "start_time": "2022-12-21T13:07:03.867Z"
   },
   {
    "duration": 447,
    "start_time": "2022-12-21T13:09:26.771Z"
   },
   {
    "duration": 14,
    "start_time": "2022-12-21T13:09:40.825Z"
   },
   {
    "duration": 4,
    "start_time": "2022-12-21T13:09:54.571Z"
   },
   {
    "duration": 926,
    "start_time": "2022-12-21T13:09:57.269Z"
   },
   {
    "duration": 5,
    "start_time": "2022-12-21T13:10:37.747Z"
   },
   {
    "duration": 498,
    "start_time": "2022-12-21T13:11:17.149Z"
   },
   {
    "duration": 965,
    "start_time": "2022-12-21T13:17:10.030Z"
   },
   {
    "duration": 766,
    "start_time": "2022-12-21T13:17:34.510Z"
   },
   {
    "duration": 1048,
    "start_time": "2022-12-21T13:17:50.152Z"
   },
   {
    "duration": 803,
    "start_time": "2022-12-21T13:19:05.618Z"
   },
   {
    "duration": 1003,
    "start_time": "2022-12-21T13:19:11.416Z"
   },
   {
    "duration": 796,
    "start_time": "2022-12-21T13:19:20.873Z"
   },
   {
    "duration": 459,
    "start_time": "2022-12-21T13:20:26.550Z"
   },
   {
    "duration": 994,
    "start_time": "2022-12-21T13:20:42.151Z"
   },
   {
    "duration": 829,
    "start_time": "2022-12-21T13:20:47.722Z"
   },
   {
    "duration": 966,
    "start_time": "2022-12-21T13:20:54.294Z"
   },
   {
    "duration": 801,
    "start_time": "2022-12-21T13:21:02.514Z"
   },
   {
    "duration": 1022,
    "start_time": "2022-12-21T13:21:16.568Z"
   },
   {
    "duration": 476,
    "start_time": "2022-12-21T13:21:34.559Z"
   },
   {
    "duration": 783,
    "start_time": "2022-12-21T13:21:41.879Z"
   },
   {
    "duration": 1060,
    "start_time": "2022-12-21T13:21:55.704Z"
   },
   {
    "duration": 817,
    "start_time": "2022-12-21T13:22:07.790Z"
   },
   {
    "duration": 1022,
    "start_time": "2022-12-21T13:22:16.494Z"
   },
   {
    "duration": 1823,
    "start_time": "2022-12-21T13:23:30.537Z"
   },
   {
    "duration": 35,
    "start_time": "2022-12-21T13:23:32.362Z"
   },
   {
    "duration": 14,
    "start_time": "2022-12-21T13:23:32.399Z"
   },
   {
    "duration": 11,
    "start_time": "2022-12-21T13:23:32.415Z"
   },
   {
    "duration": 12,
    "start_time": "2022-12-21T13:23:32.427Z"
   },
   {
    "duration": 7,
    "start_time": "2022-12-21T13:23:32.440Z"
   },
   {
    "duration": 23,
    "start_time": "2022-12-21T13:23:32.448Z"
   },
   {
    "duration": 6,
    "start_time": "2022-12-21T13:23:32.473Z"
   },
   {
    "duration": 34,
    "start_time": "2022-12-21T13:23:32.481Z"
   },
   {
    "duration": 915,
    "start_time": "2022-12-21T13:23:32.518Z"
   },
   {
    "duration": 6,
    "start_time": "2022-12-21T13:23:33.434Z"
   },
   {
    "duration": 8,
    "start_time": "2022-12-21T13:23:33.442Z"
   },
   {
    "duration": 8,
    "start_time": "2022-12-21T13:23:33.451Z"
   },
   {
    "duration": 11,
    "start_time": "2022-12-21T13:23:33.461Z"
   },
   {
    "duration": 6,
    "start_time": "2022-12-21T13:23:33.474Z"
   },
   {
    "duration": 29,
    "start_time": "2022-12-21T13:23:33.481Z"
   },
   {
    "duration": 5,
    "start_time": "2022-12-21T13:23:33.512Z"
   },
   {
    "duration": 165,
    "start_time": "2022-12-21T13:23:33.518Z"
   },
   {
    "duration": 4,
    "start_time": "2022-12-21T13:23:33.685Z"
   },
   {
    "duration": 18,
    "start_time": "2022-12-21T13:23:33.690Z"
   },
   {
    "duration": 6,
    "start_time": "2022-12-21T13:23:33.710Z"
   },
   {
    "duration": 7,
    "start_time": "2022-12-21T13:23:33.718Z"
   },
   {
    "duration": 6,
    "start_time": "2022-12-21T13:23:33.727Z"
   },
   {
    "duration": 16,
    "start_time": "2022-12-21T13:23:33.734Z"
   },
   {
    "duration": 8,
    "start_time": "2022-12-21T13:23:33.751Z"
   },
   {
    "duration": 7,
    "start_time": "2022-12-21T13:23:33.761Z"
   },
   {
    "duration": 8,
    "start_time": "2022-12-21T13:23:33.769Z"
   },
   {
    "duration": 5,
    "start_time": "2022-12-21T13:23:33.804Z"
   },
   {
    "duration": 33008,
    "start_time": "2022-12-21T13:23:33.811Z"
   },
   {
    "duration": 216,
    "start_time": "2022-12-21T13:24:06.821Z"
   },
   {
    "duration": 5,
    "start_time": "2022-12-21T13:24:07.039Z"
   },
   {
    "duration": 6,
    "start_time": "2022-12-21T13:24:07.046Z"
   },
   {
    "duration": 961,
    "start_time": "2022-12-21T13:24:07.054Z"
   },
   {
    "duration": 5,
    "start_time": "2022-12-21T13:24:08.016Z"
   },
   {
    "duration": 535,
    "start_time": "2022-12-21T13:24:08.023Z"
   },
   {
    "duration": 36996,
    "start_time": "2022-12-21T13:24:08.560Z"
   },
   {
    "duration": 172,
    "start_time": "2022-12-21T13:25:35.746Z"
   },
   {
    "duration": 1795,
    "start_time": "2022-12-21T13:34:13.451Z"
   },
   {
    "duration": 41,
    "start_time": "2022-12-21T13:34:15.248Z"
   },
   {
    "duration": 14,
    "start_time": "2022-12-21T13:34:15.290Z"
   },
   {
    "duration": 11,
    "start_time": "2022-12-21T13:34:15.306Z"
   },
   {
    "duration": 29,
    "start_time": "2022-12-21T13:34:15.318Z"
   },
   {
    "duration": 16,
    "start_time": "2022-12-21T13:34:15.348Z"
   },
   {
    "duration": 17,
    "start_time": "2022-12-21T13:34:15.366Z"
   },
   {
    "duration": 8,
    "start_time": "2022-12-21T13:34:15.385Z"
   },
   {
    "duration": 23,
    "start_time": "2022-12-21T13:34:15.395Z"
   },
   {
    "duration": 890,
    "start_time": "2022-12-21T13:34:15.421Z"
   },
   {
    "duration": 6,
    "start_time": "2022-12-21T13:34:16.313Z"
   },
   {
    "duration": 8,
    "start_time": "2022-12-21T13:34:16.321Z"
   },
   {
    "duration": 16,
    "start_time": "2022-12-21T13:34:16.331Z"
   },
   {
    "duration": 25,
    "start_time": "2022-12-21T13:34:16.348Z"
   },
   {
    "duration": 8,
    "start_time": "2022-12-21T13:34:16.375Z"
   },
   {
    "duration": 9,
    "start_time": "2022-12-21T13:34:16.385Z"
   },
   {
    "duration": 9,
    "start_time": "2022-12-21T13:34:16.395Z"
   },
   {
    "duration": 171,
    "start_time": "2022-12-21T13:34:16.406Z"
   },
   {
    "duration": 4,
    "start_time": "2022-12-21T13:34:16.579Z"
   },
   {
    "duration": 22,
    "start_time": "2022-12-21T13:34:16.585Z"
   },
   {
    "duration": 15,
    "start_time": "2022-12-21T13:34:16.609Z"
   },
   {
    "duration": 13,
    "start_time": "2022-12-21T13:34:16.626Z"
   },
   {
    "duration": 6,
    "start_time": "2022-12-21T13:34:16.641Z"
   },
   {
    "duration": 23,
    "start_time": "2022-12-21T13:34:16.649Z"
   },
   {
    "duration": 7,
    "start_time": "2022-12-21T13:34:16.674Z"
   },
   {
    "duration": 12,
    "start_time": "2022-12-21T13:34:16.682Z"
   },
   {
    "duration": 17,
    "start_time": "2022-12-21T13:34:16.696Z"
   },
   {
    "duration": 6,
    "start_time": "2022-12-21T13:34:16.717Z"
   },
   {
    "duration": 25333,
    "start_time": "2022-12-21T13:34:16.725Z"
   },
   {
    "duration": 0,
    "start_time": "2022-12-21T13:34:42.061Z"
   },
   {
    "duration": 0,
    "start_time": "2022-12-21T13:34:42.062Z"
   },
   {
    "duration": 0,
    "start_time": "2022-12-21T13:34:42.063Z"
   },
   {
    "duration": 0,
    "start_time": "2022-12-21T13:34:42.064Z"
   },
   {
    "duration": 0,
    "start_time": "2022-12-21T13:34:42.066Z"
   },
   {
    "duration": 0,
    "start_time": "2022-12-21T13:34:42.067Z"
   },
   {
    "duration": 1740,
    "start_time": "2022-12-21T13:34:45.883Z"
   },
   {
    "duration": 30,
    "start_time": "2022-12-21T13:34:47.624Z"
   },
   {
    "duration": 17,
    "start_time": "2022-12-21T13:34:47.657Z"
   },
   {
    "duration": 15,
    "start_time": "2022-12-21T13:34:47.676Z"
   },
   {
    "duration": 11,
    "start_time": "2022-12-21T13:34:47.694Z"
   },
   {
    "duration": 14,
    "start_time": "2022-12-21T13:34:47.707Z"
   },
   {
    "duration": 19,
    "start_time": "2022-12-21T13:34:47.723Z"
   },
   {
    "duration": 5,
    "start_time": "2022-12-21T13:34:47.745Z"
   },
   {
    "duration": 31,
    "start_time": "2022-12-21T13:34:47.753Z"
   },
   {
    "duration": 949,
    "start_time": "2022-12-21T13:34:47.787Z"
   },
   {
    "duration": 6,
    "start_time": "2022-12-21T13:34:48.737Z"
   },
   {
    "duration": 18,
    "start_time": "2022-12-21T13:34:48.744Z"
   },
   {
    "duration": 16,
    "start_time": "2022-12-21T13:34:48.763Z"
   },
   {
    "duration": 16,
    "start_time": "2022-12-21T13:34:48.781Z"
   },
   {
    "duration": 24,
    "start_time": "2022-12-21T13:34:48.798Z"
   },
   {
    "duration": 21,
    "start_time": "2022-12-21T13:34:48.824Z"
   },
   {
    "duration": 14,
    "start_time": "2022-12-21T13:34:48.847Z"
   },
   {
    "duration": 164,
    "start_time": "2022-12-21T13:34:48.863Z"
   },
   {
    "duration": 3,
    "start_time": "2022-12-21T13:34:49.029Z"
   },
   {
    "duration": 10,
    "start_time": "2022-12-21T13:34:49.034Z"
   },
   {
    "duration": 7,
    "start_time": "2022-12-21T13:34:49.046Z"
   },
   {
    "duration": 7,
    "start_time": "2022-12-21T13:34:49.055Z"
   },
   {
    "duration": 10,
    "start_time": "2022-12-21T13:34:49.063Z"
   },
   {
    "duration": 30,
    "start_time": "2022-12-21T13:34:49.075Z"
   },
   {
    "duration": 8,
    "start_time": "2022-12-21T13:34:49.107Z"
   },
   {
    "duration": 8,
    "start_time": "2022-12-21T13:34:49.116Z"
   },
   {
    "duration": 13,
    "start_time": "2022-12-21T13:34:49.125Z"
   },
   {
    "duration": 6,
    "start_time": "2022-12-21T13:34:49.139Z"
   },
   {
    "duration": 31663,
    "start_time": "2022-12-21T13:34:49.147Z"
   },
   {
    "duration": 211,
    "start_time": "2022-12-21T13:35:20.811Z"
   },
   {
    "duration": 5,
    "start_time": "2022-12-21T13:35:21.024Z"
   },
   {
    "duration": 894,
    "start_time": "2022-12-21T13:35:21.030Z"
   },
   {
    "duration": 5,
    "start_time": "2022-12-21T13:35:21.926Z"
   },
   {
    "duration": 534,
    "start_time": "2022-12-21T13:35:21.932Z"
   },
   {
    "duration": 36566,
    "start_time": "2022-12-21T13:35:22.468Z"
   },
   {
    "duration": 5,
    "start_time": "2022-12-21T13:42:39.001Z"
   },
   {
    "duration": 5,
    "start_time": "2022-12-21T13:43:09.469Z"
   },
   {
    "duration": 1816,
    "start_time": "2022-12-22T05:26:52.406Z"
   },
   {
    "duration": 30,
    "start_time": "2022-12-22T05:26:54.224Z"
   },
   {
    "duration": 13,
    "start_time": "2022-12-22T05:26:54.256Z"
   },
   {
    "duration": 14,
    "start_time": "2022-12-22T05:26:54.271Z"
   },
   {
    "duration": 8,
    "start_time": "2022-12-22T05:26:54.287Z"
   },
   {
    "duration": 13,
    "start_time": "2022-12-22T05:26:54.296Z"
   },
   {
    "duration": 15,
    "start_time": "2022-12-22T05:26:54.310Z"
   },
   {
    "duration": 6,
    "start_time": "2022-12-22T05:26:54.327Z"
   },
   {
    "duration": 25,
    "start_time": "2022-12-22T05:26:54.335Z"
   },
   {
    "duration": 845,
    "start_time": "2022-12-22T05:26:54.362Z"
   },
   {
    "duration": 5,
    "start_time": "2022-12-22T05:26:55.209Z"
   },
   {
    "duration": 6,
    "start_time": "2022-12-22T05:26:55.216Z"
   },
   {
    "duration": 5,
    "start_time": "2022-12-22T05:26:55.223Z"
   },
   {
    "duration": 10,
    "start_time": "2022-12-22T05:26:55.231Z"
   },
   {
    "duration": 7,
    "start_time": "2022-12-22T05:26:55.243Z"
   },
   {
    "duration": 7,
    "start_time": "2022-12-22T05:26:55.252Z"
   },
   {
    "duration": 5,
    "start_time": "2022-12-22T05:26:55.260Z"
   },
   {
    "duration": 182,
    "start_time": "2022-12-22T05:26:55.267Z"
   },
   {
    "duration": 4,
    "start_time": "2022-12-22T05:26:55.451Z"
   },
   {
    "duration": 67,
    "start_time": "2022-12-22T05:26:55.456Z"
   },
   {
    "duration": 50,
    "start_time": "2022-12-22T05:26:55.525Z"
   },
   {
    "duration": 45,
    "start_time": "2022-12-22T05:26:55.577Z"
   },
   {
    "duration": 30,
    "start_time": "2022-12-22T05:26:55.623Z"
   },
   {
    "duration": 23,
    "start_time": "2022-12-22T05:26:55.655Z"
   },
   {
    "duration": 26,
    "start_time": "2022-12-22T05:26:55.680Z"
   },
   {
    "duration": 21,
    "start_time": "2022-12-22T05:26:55.708Z"
   },
   {
    "duration": 24,
    "start_time": "2022-12-22T05:26:55.731Z"
   },
   {
    "duration": 37,
    "start_time": "2022-12-22T05:26:55.756Z"
   },
   {
    "duration": 31212,
    "start_time": "2022-12-22T05:26:55.795Z"
   },
   {
    "duration": 196,
    "start_time": "2022-12-22T05:27:27.010Z"
   },
   {
    "duration": 5,
    "start_time": "2022-12-22T05:27:27.209Z"
   },
   {
    "duration": 6,
    "start_time": "2022-12-22T05:27:27.215Z"
   },
   {
    "duration": 881,
    "start_time": "2022-12-22T05:27:27.223Z"
   },
   {
    "duration": 156,
    "start_time": "2022-12-22T05:27:28.106Z"
   },
   {
    "duration": 0,
    "start_time": "2022-12-22T05:27:28.264Z"
   },
   {
    "duration": 0,
    "start_time": "2022-12-22T05:27:28.266Z"
   },
   {
    "duration": 0,
    "start_time": "2022-12-22T05:27:28.267Z"
   },
   {
    "duration": 0,
    "start_time": "2022-12-22T05:27:28.269Z"
   },
   {
    "duration": 1773,
    "start_time": "2022-12-22T05:30:03.157Z"
   },
   {
    "duration": 30,
    "start_time": "2022-12-22T05:30:04.932Z"
   },
   {
    "duration": 13,
    "start_time": "2022-12-22T05:30:04.963Z"
   },
   {
    "duration": 13,
    "start_time": "2022-12-22T05:30:04.978Z"
   },
   {
    "duration": 4,
    "start_time": "2022-12-22T05:30:04.993Z"
   },
   {
    "duration": 6,
    "start_time": "2022-12-22T05:30:04.999Z"
   },
   {
    "duration": 19,
    "start_time": "2022-12-22T05:30:05.007Z"
   },
   {
    "duration": 9,
    "start_time": "2022-12-22T05:30:05.028Z"
   },
   {
    "duration": 26,
    "start_time": "2022-12-22T05:30:05.039Z"
   },
   {
    "duration": 856,
    "start_time": "2022-12-22T05:30:05.068Z"
   },
   {
    "duration": 7,
    "start_time": "2022-12-22T05:30:05.925Z"
   },
   {
    "duration": 10,
    "start_time": "2022-12-22T05:30:05.934Z"
   },
   {
    "duration": 9,
    "start_time": "2022-12-22T05:30:05.946Z"
   },
   {
    "duration": 13,
    "start_time": "2022-12-22T05:30:05.956Z"
   },
   {
    "duration": 9,
    "start_time": "2022-12-22T05:30:05.971Z"
   },
   {
    "duration": 25,
    "start_time": "2022-12-22T05:30:05.981Z"
   },
   {
    "duration": 8,
    "start_time": "2022-12-22T05:30:06.008Z"
   },
   {
    "duration": 163,
    "start_time": "2022-12-22T05:30:06.018Z"
   },
   {
    "duration": 3,
    "start_time": "2022-12-22T05:30:06.183Z"
   },
   {
    "duration": 18,
    "start_time": "2022-12-22T05:30:06.188Z"
   },
   {
    "duration": 7,
    "start_time": "2022-12-22T05:30:06.208Z"
   },
   {
    "duration": 6,
    "start_time": "2022-12-22T05:30:06.217Z"
   },
   {
    "duration": 6,
    "start_time": "2022-12-22T05:30:06.225Z"
   },
   {
    "duration": 14,
    "start_time": "2022-12-22T05:30:06.232Z"
   },
   {
    "duration": 6,
    "start_time": "2022-12-22T05:30:06.247Z"
   },
   {
    "duration": 4,
    "start_time": "2022-12-22T05:30:06.254Z"
   },
   {
    "duration": 9,
    "start_time": "2022-12-22T05:30:06.260Z"
   },
   {
    "duration": 6,
    "start_time": "2022-12-22T05:30:06.272Z"
   },
   {
    "duration": 32246,
    "start_time": "2022-12-22T05:30:06.279Z"
   },
   {
    "duration": 242,
    "start_time": "2022-12-22T05:30:38.526Z"
   },
   {
    "duration": 4,
    "start_time": "2022-12-22T05:30:38.770Z"
   },
   {
    "duration": 14,
    "start_time": "2022-12-22T05:30:38.776Z"
   },
   {
    "duration": 885,
    "start_time": "2022-12-22T05:30:38.791Z"
   },
   {
    "duration": 149,
    "start_time": "2022-12-22T05:30:39.678Z"
   },
   {
    "duration": 0,
    "start_time": "2022-12-22T05:30:39.828Z"
   },
   {
    "duration": 0,
    "start_time": "2022-12-22T05:30:39.830Z"
   },
   {
    "duration": 0,
    "start_time": "2022-12-22T05:30:39.831Z"
   },
   {
    "duration": 0,
    "start_time": "2022-12-22T05:30:39.832Z"
   },
   {
    "duration": 6,
    "start_time": "2022-12-22T05:31:49.229Z"
   },
   {
    "duration": 1799,
    "start_time": "2022-12-22T05:31:52.831Z"
   },
   {
    "duration": 30,
    "start_time": "2022-12-22T05:31:54.632Z"
   },
   {
    "duration": 15,
    "start_time": "2022-12-22T05:31:54.663Z"
   },
   {
    "duration": 12,
    "start_time": "2022-12-22T05:31:54.680Z"
   },
   {
    "duration": 4,
    "start_time": "2022-12-22T05:31:54.694Z"
   },
   {
    "duration": 10,
    "start_time": "2022-12-22T05:31:54.700Z"
   },
   {
    "duration": 12,
    "start_time": "2022-12-22T05:31:54.711Z"
   },
   {
    "duration": 4,
    "start_time": "2022-12-22T05:31:54.725Z"
   },
   {
    "duration": 32,
    "start_time": "2022-12-22T05:31:54.731Z"
   },
   {
    "duration": 893,
    "start_time": "2022-12-22T05:31:54.766Z"
   },
   {
    "duration": 5,
    "start_time": "2022-12-22T05:31:55.661Z"
   },
   {
    "duration": 7,
    "start_time": "2022-12-22T05:31:55.668Z"
   },
   {
    "duration": 8,
    "start_time": "2022-12-22T05:31:55.676Z"
   },
   {
    "duration": 26,
    "start_time": "2022-12-22T05:31:55.685Z"
   },
   {
    "duration": 14,
    "start_time": "2022-12-22T05:31:55.713Z"
   },
   {
    "duration": 8,
    "start_time": "2022-12-22T05:31:55.729Z"
   },
   {
    "duration": 4,
    "start_time": "2022-12-22T05:31:55.739Z"
   },
   {
    "duration": 169,
    "start_time": "2022-12-22T05:31:55.745Z"
   },
   {
    "duration": 4,
    "start_time": "2022-12-22T05:31:55.915Z"
   },
   {
    "duration": 11,
    "start_time": "2022-12-22T05:31:55.920Z"
   },
   {
    "duration": 14,
    "start_time": "2022-12-22T05:31:55.932Z"
   },
   {
    "duration": 12,
    "start_time": "2022-12-22T05:31:55.948Z"
   },
   {
    "duration": 12,
    "start_time": "2022-12-22T05:31:55.961Z"
   },
   {
    "duration": 15,
    "start_time": "2022-12-22T05:31:55.975Z"
   },
   {
    "duration": 11,
    "start_time": "2022-12-22T05:31:55.991Z"
   },
   {
    "duration": 14,
    "start_time": "2022-12-22T05:31:56.003Z"
   },
   {
    "duration": 7,
    "start_time": "2022-12-22T05:31:56.019Z"
   },
   {
    "duration": 10,
    "start_time": "2022-12-22T05:31:56.029Z"
   },
   {
    "duration": 31865,
    "start_time": "2022-12-22T05:31:56.041Z"
   },
   {
    "duration": 185,
    "start_time": "2022-12-22T05:32:27.907Z"
   },
   {
    "duration": 13,
    "start_time": "2022-12-22T05:32:28.093Z"
   },
   {
    "duration": 15,
    "start_time": "2022-12-22T05:32:28.108Z"
   },
   {
    "duration": 900,
    "start_time": "2022-12-22T05:32:28.125Z"
   },
   {
    "duration": 143,
    "start_time": "2022-12-22T05:32:29.026Z"
   },
   {
    "duration": 0,
    "start_time": "2022-12-22T05:32:29.170Z"
   },
   {
    "duration": 0,
    "start_time": "2022-12-22T05:32:29.172Z"
   },
   {
    "duration": 0,
    "start_time": "2022-12-22T05:32:29.173Z"
   },
   {
    "duration": 0,
    "start_time": "2022-12-22T05:32:29.174Z"
   },
   {
    "duration": 7,
    "start_time": "2022-12-22T05:33:50.677Z"
   },
   {
    "duration": 6,
    "start_time": "2022-12-22T05:33:57.587Z"
   },
   {
    "duration": 457,
    "start_time": "2022-12-22T05:33:58.796Z"
   },
   {
    "duration": 1827,
    "start_time": "2022-12-22T05:34:38.309Z"
   },
   {
    "duration": 30,
    "start_time": "2022-12-22T05:34:40.138Z"
   },
   {
    "duration": 14,
    "start_time": "2022-12-22T05:34:40.169Z"
   },
   {
    "duration": 13,
    "start_time": "2022-12-22T05:34:40.184Z"
   },
   {
    "duration": 6,
    "start_time": "2022-12-22T05:34:40.199Z"
   },
   {
    "duration": 5,
    "start_time": "2022-12-22T05:34:40.207Z"
   },
   {
    "duration": 13,
    "start_time": "2022-12-22T05:34:40.213Z"
   },
   {
    "duration": 5,
    "start_time": "2022-12-22T05:34:40.228Z"
   },
   {
    "duration": 36,
    "start_time": "2022-12-22T05:34:40.234Z"
   },
   {
    "duration": 858,
    "start_time": "2022-12-22T05:34:40.273Z"
   },
   {
    "duration": 6,
    "start_time": "2022-12-22T05:34:41.133Z"
   },
   {
    "duration": 21,
    "start_time": "2022-12-22T05:34:41.140Z"
   },
   {
    "duration": 9,
    "start_time": "2022-12-22T05:34:41.162Z"
   },
   {
    "duration": 14,
    "start_time": "2022-12-22T05:34:41.173Z"
   },
   {
    "duration": 13,
    "start_time": "2022-12-22T05:34:41.189Z"
   },
   {
    "duration": 10,
    "start_time": "2022-12-22T05:34:41.204Z"
   },
   {
    "duration": 9,
    "start_time": "2022-12-22T05:34:41.216Z"
   },
   {
    "duration": 154,
    "start_time": "2022-12-22T05:34:41.226Z"
   },
   {
    "duration": 4,
    "start_time": "2022-12-22T05:34:41.382Z"
   },
   {
    "duration": 19,
    "start_time": "2022-12-22T05:34:41.387Z"
   },
   {
    "duration": 4,
    "start_time": "2022-12-22T05:34:41.408Z"
   },
   {
    "duration": 11,
    "start_time": "2022-12-22T05:34:41.414Z"
   },
   {
    "duration": 6,
    "start_time": "2022-12-22T05:34:41.426Z"
   },
   {
    "duration": 12,
    "start_time": "2022-12-22T05:34:41.433Z"
   },
   {
    "duration": 9,
    "start_time": "2022-12-22T05:34:41.447Z"
   },
   {
    "duration": 5,
    "start_time": "2022-12-22T05:34:41.457Z"
   },
   {
    "duration": 5,
    "start_time": "2022-12-22T05:34:41.464Z"
   },
   {
    "duration": 9,
    "start_time": "2022-12-22T05:34:41.473Z"
   },
   {
    "duration": 31525,
    "start_time": "2022-12-22T05:34:41.483Z"
   },
   {
    "duration": 200,
    "start_time": "2022-12-22T05:35:13.010Z"
   },
   {
    "duration": 5,
    "start_time": "2022-12-22T05:35:13.211Z"
   },
   {
    "duration": 8,
    "start_time": "2022-12-22T05:35:13.217Z"
   },
   {
    "duration": 890,
    "start_time": "2022-12-22T05:35:13.227Z"
   },
   {
    "duration": 4,
    "start_time": "2022-12-22T05:35:14.118Z"
   },
   {
    "duration": 6,
    "start_time": "2022-12-22T05:35:14.124Z"
   },
   {
    "duration": 534,
    "start_time": "2022-12-22T05:35:14.131Z"
   },
   {
    "duration": 6,
    "start_time": "2022-12-22T05:35:14.666Z"
   },
   {
    "duration": 36185,
    "start_time": "2022-12-22T05:35:14.674Z"
   },
   {
    "duration": 1781,
    "start_time": "2022-12-22T05:36:25.589Z"
   },
   {
    "duration": 30,
    "start_time": "2022-12-22T05:36:27.372Z"
   },
   {
    "duration": 14,
    "start_time": "2022-12-22T05:36:27.404Z"
   },
   {
    "duration": 12,
    "start_time": "2022-12-22T05:36:27.419Z"
   },
   {
    "duration": 11,
    "start_time": "2022-12-22T05:36:27.433Z"
   },
   {
    "duration": 7,
    "start_time": "2022-12-22T05:36:27.446Z"
   },
   {
    "duration": 16,
    "start_time": "2022-12-22T05:36:27.454Z"
   },
   {
    "duration": 6,
    "start_time": "2022-12-22T05:36:27.471Z"
   },
   {
    "duration": 35,
    "start_time": "2022-12-22T05:36:27.479Z"
   },
   {
    "duration": 913,
    "start_time": "2022-12-22T05:36:27.515Z"
   },
   {
    "duration": 7,
    "start_time": "2022-12-22T05:36:28.430Z"
   },
   {
    "duration": 12,
    "start_time": "2022-12-22T05:36:28.439Z"
   },
   {
    "duration": 6,
    "start_time": "2022-12-22T05:36:28.454Z"
   },
   {
    "duration": 19,
    "start_time": "2022-12-22T05:36:28.464Z"
   },
   {
    "duration": 24,
    "start_time": "2022-12-22T05:36:28.485Z"
   },
   {
    "duration": 17,
    "start_time": "2022-12-22T05:36:28.510Z"
   },
   {
    "duration": 7,
    "start_time": "2022-12-22T05:36:28.529Z"
   },
   {
    "duration": 178,
    "start_time": "2022-12-22T05:36:28.538Z"
   },
   {
    "duration": 5,
    "start_time": "2022-12-22T05:36:28.717Z"
   },
   {
    "duration": 10,
    "start_time": "2022-12-22T05:36:28.724Z"
   },
   {
    "duration": 6,
    "start_time": "2022-12-22T05:36:28.736Z"
   },
   {
    "duration": 8,
    "start_time": "2022-12-22T05:36:28.744Z"
   },
   {
    "duration": 5,
    "start_time": "2022-12-22T05:36:28.753Z"
   },
   {
    "duration": 15,
    "start_time": "2022-12-22T05:36:28.759Z"
   },
   {
    "duration": 6,
    "start_time": "2022-12-22T05:36:28.776Z"
   },
   {
    "duration": 3,
    "start_time": "2022-12-22T05:36:28.805Z"
   },
   {
    "duration": 7,
    "start_time": "2022-12-22T05:36:28.809Z"
   },
   {
    "duration": 10,
    "start_time": "2022-12-22T05:36:28.817Z"
   },
   {
    "duration": 31590,
    "start_time": "2022-12-22T05:36:28.828Z"
   },
   {
    "duration": 225,
    "start_time": "2022-12-22T05:37:00.420Z"
   },
   {
    "duration": 5,
    "start_time": "2022-12-22T05:37:00.647Z"
   },
   {
    "duration": 36,
    "start_time": "2022-12-22T05:37:00.654Z"
   },
   {
    "duration": 929,
    "start_time": "2022-12-22T05:37:00.691Z"
   },
   {
    "duration": 5,
    "start_time": "2022-12-22T05:37:01.621Z"
   },
   {
    "duration": 6,
    "start_time": "2022-12-22T05:37:01.628Z"
   },
   {
    "duration": 502,
    "start_time": "2022-12-22T05:37:01.636Z"
   },
   {
    "duration": 8,
    "start_time": "2022-12-22T05:37:02.140Z"
   },
   {
    "duration": 146,
    "start_time": "2022-12-22T05:37:02.150Z"
   },
   {
    "duration": 0,
    "start_time": "2022-12-22T05:37:02.304Z"
   },
   {
    "duration": 3,
    "start_time": "2022-12-22T05:41:35.302Z"
   },
   {
    "duration": 6,
    "start_time": "2022-12-22T05:48:28.681Z"
   },
   {
    "duration": 4,
    "start_time": "2022-12-22T05:49:24.153Z"
   },
   {
    "duration": 1870,
    "start_time": "2022-12-22T05:56:17.981Z"
   },
   {
    "duration": 31,
    "start_time": "2022-12-22T05:56:19.854Z"
   },
   {
    "duration": 15,
    "start_time": "2022-12-22T05:56:19.886Z"
   },
   {
    "duration": 12,
    "start_time": "2022-12-22T05:56:19.903Z"
   },
   {
    "duration": 11,
    "start_time": "2022-12-22T05:56:19.917Z"
   },
   {
    "duration": 11,
    "start_time": "2022-12-22T05:56:19.929Z"
   },
   {
    "duration": 14,
    "start_time": "2022-12-22T05:56:19.942Z"
   },
   {
    "duration": 3,
    "start_time": "2022-12-22T05:56:19.958Z"
   },
   {
    "duration": 29,
    "start_time": "2022-12-22T05:56:19.962Z"
   },
   {
    "duration": 1020,
    "start_time": "2022-12-22T05:56:19.993Z"
   },
   {
    "duration": 8,
    "start_time": "2022-12-22T05:56:21.016Z"
   },
   {
    "duration": 12,
    "start_time": "2022-12-22T05:56:21.025Z"
   },
   {
    "duration": 6,
    "start_time": "2022-12-22T05:56:21.039Z"
   },
   {
    "duration": 18,
    "start_time": "2022-12-22T05:56:21.047Z"
   },
   {
    "duration": 9,
    "start_time": "2022-12-22T05:56:21.067Z"
   },
   {
    "duration": 9,
    "start_time": "2022-12-22T05:56:21.077Z"
   },
   {
    "duration": 17,
    "start_time": "2022-12-22T05:56:21.088Z"
   },
   {
    "duration": 208,
    "start_time": "2022-12-22T05:56:21.107Z"
   },
   {
    "duration": 4,
    "start_time": "2022-12-22T05:56:21.317Z"
   },
   {
    "duration": 10,
    "start_time": "2022-12-22T05:56:21.323Z"
   },
   {
    "duration": 8,
    "start_time": "2022-12-22T05:56:21.335Z"
   },
   {
    "duration": 12,
    "start_time": "2022-12-22T05:56:21.345Z"
   },
   {
    "duration": 8,
    "start_time": "2022-12-22T05:56:21.359Z"
   },
   {
    "duration": 15,
    "start_time": "2022-12-22T05:56:21.368Z"
   },
   {
    "duration": 23,
    "start_time": "2022-12-22T05:56:21.385Z"
   },
   {
    "duration": 7,
    "start_time": "2022-12-22T05:56:21.410Z"
   },
   {
    "duration": 6,
    "start_time": "2022-12-22T05:56:21.419Z"
   },
   {
    "duration": 8,
    "start_time": "2022-12-22T05:56:21.429Z"
   },
   {
    "duration": 37371,
    "start_time": "2022-12-22T05:56:21.438Z"
   },
   {
    "duration": 242,
    "start_time": "2022-12-22T05:56:58.811Z"
   },
   {
    "duration": 6,
    "start_time": "2022-12-22T05:56:59.056Z"
   },
   {
    "duration": 23,
    "start_time": "2022-12-22T05:56:59.063Z"
   },
   {
    "duration": 978,
    "start_time": "2022-12-22T05:56:59.088Z"
   },
   {
    "duration": 6,
    "start_time": "2022-12-22T05:57:00.068Z"
   },
   {
    "duration": 53,
    "start_time": "2022-12-22T05:57:00.076Z"
   },
   {
    "duration": 546,
    "start_time": "2022-12-22T05:57:00.131Z"
   },
   {
    "duration": 6,
    "start_time": "2022-12-22T05:57:00.680Z"
   },
   {
    "duration": 74,
    "start_time": "2022-12-22T05:57:00.688Z"
   },
   {
    "duration": 72,
    "start_time": "2022-12-22T05:57:00.764Z"
   },
   {
    "duration": 230,
    "start_time": "2022-12-22T05:57:00.838Z"
   },
   {
    "duration": 0,
    "start_time": "2022-12-22T05:57:01.071Z"
   },
   {
    "duration": 6,
    "start_time": "2022-12-22T05:57:54.171Z"
   },
   {
    "duration": 3,
    "start_time": "2022-12-22T05:57:54.908Z"
   },
   {
    "duration": 2,
    "start_time": "2022-12-22T05:57:56.886Z"
   },
   {
    "duration": 78871,
    "start_time": "2022-12-22T06:05:23.370Z"
   },
   {
    "duration": 456150,
    "start_time": "2022-12-22T06:07:26.489Z"
   },
   {
    "duration": 4,
    "start_time": "2022-12-22T06:15:38.379Z"
   },
   {
    "duration": 4,
    "start_time": "2022-12-22T06:15:50.539Z"
   },
   {
    "duration": 1762,
    "start_time": "2022-12-22T06:16:52.956Z"
   },
   {
    "duration": 31,
    "start_time": "2022-12-22T06:16:54.720Z"
   },
   {
    "duration": 14,
    "start_time": "2022-12-22T06:16:54.752Z"
   },
   {
    "duration": 12,
    "start_time": "2022-12-22T06:16:54.768Z"
   },
   {
    "duration": 4,
    "start_time": "2022-12-22T06:16:54.782Z"
   },
   {
    "duration": 8,
    "start_time": "2022-12-22T06:16:54.787Z"
   },
   {
    "duration": 20,
    "start_time": "2022-12-22T06:16:54.796Z"
   },
   {
    "duration": 30,
    "start_time": "2022-12-22T06:16:54.817Z"
   },
   {
    "duration": 106,
    "start_time": "2022-12-22T06:16:54.849Z"
   },
   {
    "duration": 877,
    "start_time": "2022-12-22T06:16:54.957Z"
   },
   {
    "duration": 6,
    "start_time": "2022-12-22T06:16:55.835Z"
   },
   {
    "duration": 11,
    "start_time": "2022-12-22T06:16:55.843Z"
   },
   {
    "duration": 7,
    "start_time": "2022-12-22T06:16:55.857Z"
   },
   {
    "duration": 17,
    "start_time": "2022-12-22T06:16:55.868Z"
   },
   {
    "duration": 25,
    "start_time": "2022-12-22T06:16:55.887Z"
   },
   {
    "duration": 8,
    "start_time": "2022-12-22T06:16:55.914Z"
   },
   {
    "duration": 5,
    "start_time": "2022-12-22T06:16:55.924Z"
   },
   {
    "duration": 181,
    "start_time": "2022-12-22T06:16:55.931Z"
   },
   {
    "duration": 4,
    "start_time": "2022-12-22T06:16:56.113Z"
   },
   {
    "duration": 9,
    "start_time": "2022-12-22T06:16:56.119Z"
   },
   {
    "duration": 6,
    "start_time": "2022-12-22T06:16:56.129Z"
   },
   {
    "duration": 18,
    "start_time": "2022-12-22T06:16:56.136Z"
   },
   {
    "duration": 11,
    "start_time": "2022-12-22T06:16:56.156Z"
   },
   {
    "duration": 149,
    "start_time": "2022-12-22T06:16:56.169Z"
   },
   {
    "duration": 0,
    "start_time": "2022-12-22T06:16:56.320Z"
   },
   {
    "duration": 0,
    "start_time": "2022-12-22T06:16:56.321Z"
   },
   {
    "duration": 0,
    "start_time": "2022-12-22T06:16:56.322Z"
   },
   {
    "duration": 0,
    "start_time": "2022-12-22T06:16:56.324Z"
   },
   {
    "duration": 0,
    "start_time": "2022-12-22T06:16:56.325Z"
   },
   {
    "duration": 0,
    "start_time": "2022-12-22T06:16:56.326Z"
   },
   {
    "duration": 0,
    "start_time": "2022-12-22T06:16:56.327Z"
   },
   {
    "duration": 0,
    "start_time": "2022-12-22T06:16:56.328Z"
   },
   {
    "duration": 0,
    "start_time": "2022-12-22T06:16:56.330Z"
   },
   {
    "duration": 0,
    "start_time": "2022-12-22T06:16:56.330Z"
   },
   {
    "duration": 0,
    "start_time": "2022-12-22T06:16:56.331Z"
   },
   {
    "duration": 0,
    "start_time": "2022-12-22T06:16:56.332Z"
   },
   {
    "duration": 0,
    "start_time": "2022-12-22T06:16:56.333Z"
   },
   {
    "duration": 0,
    "start_time": "2022-12-22T06:16:56.334Z"
   },
   {
    "duration": 0,
    "start_time": "2022-12-22T06:16:56.336Z"
   },
   {
    "duration": 0,
    "start_time": "2022-12-22T06:16:56.337Z"
   },
   {
    "duration": 0,
    "start_time": "2022-12-22T06:16:56.338Z"
   },
   {
    "duration": 0,
    "start_time": "2022-12-22T06:16:56.339Z"
   },
   {
    "duration": 1790,
    "start_time": "2022-12-22T06:17:37.866Z"
   },
   {
    "duration": 29,
    "start_time": "2022-12-22T06:17:39.658Z"
   },
   {
    "duration": 14,
    "start_time": "2022-12-22T06:17:39.689Z"
   },
   {
    "duration": 12,
    "start_time": "2022-12-22T06:17:39.704Z"
   },
   {
    "duration": 4,
    "start_time": "2022-12-22T06:17:39.718Z"
   },
   {
    "duration": 10,
    "start_time": "2022-12-22T06:17:39.723Z"
   },
   {
    "duration": 14,
    "start_time": "2022-12-22T06:17:39.735Z"
   },
   {
    "duration": 5,
    "start_time": "2022-12-22T06:17:39.751Z"
   },
   {
    "duration": 24,
    "start_time": "2022-12-22T06:17:39.757Z"
   },
   {
    "duration": 956,
    "start_time": "2022-12-22T06:17:39.782Z"
   },
   {
    "duration": 6,
    "start_time": "2022-12-22T06:17:40.740Z"
   },
   {
    "duration": 8,
    "start_time": "2022-12-22T06:17:40.747Z"
   },
   {
    "duration": 6,
    "start_time": "2022-12-22T06:17:40.756Z"
   },
   {
    "duration": 14,
    "start_time": "2022-12-22T06:17:40.765Z"
   },
   {
    "duration": 25,
    "start_time": "2022-12-22T06:17:40.781Z"
   },
   {
    "duration": 6,
    "start_time": "2022-12-22T06:17:40.807Z"
   },
   {
    "duration": 7,
    "start_time": "2022-12-22T06:17:40.815Z"
   },
   {
    "duration": 172,
    "start_time": "2022-12-22T06:17:40.823Z"
   },
   {
    "duration": 9,
    "start_time": "2022-12-22T06:17:40.997Z"
   },
   {
    "duration": 9,
    "start_time": "2022-12-22T06:17:41.008Z"
   },
   {
    "duration": 10,
    "start_time": "2022-12-22T06:17:41.019Z"
   },
   {
    "duration": 11,
    "start_time": "2022-12-22T06:17:41.030Z"
   },
   {
    "duration": 6,
    "start_time": "2022-12-22T06:17:41.042Z"
   },
   {
    "duration": 15,
    "start_time": "2022-12-22T06:17:41.049Z"
   },
   {
    "duration": 8,
    "start_time": "2022-12-22T06:17:41.065Z"
   },
   {
    "duration": 31,
    "start_time": "2022-12-22T06:17:41.074Z"
   },
   {
    "duration": 9,
    "start_time": "2022-12-22T06:17:41.107Z"
   },
   {
    "duration": 7,
    "start_time": "2022-12-22T06:17:41.118Z"
   },
   {
    "duration": 33086,
    "start_time": "2022-12-22T06:17:41.126Z"
   },
   {
    "duration": 233,
    "start_time": "2022-12-22T06:18:14.214Z"
   },
   {
    "duration": 7,
    "start_time": "2022-12-22T06:18:14.449Z"
   },
   {
    "duration": 6,
    "start_time": "2022-12-22T06:18:14.457Z"
   },
   {
    "duration": 916,
    "start_time": "2022-12-22T06:18:14.465Z"
   },
   {
    "duration": 5,
    "start_time": "2022-12-22T06:18:15.383Z"
   },
   {
    "duration": 21,
    "start_time": "2022-12-22T06:18:15.390Z"
   },
   {
    "duration": 520,
    "start_time": "2022-12-22T06:18:15.413Z"
   },
   {
    "duration": 6,
    "start_time": "2022-12-22T06:18:15.935Z"
   },
   {
    "duration": 8,
    "start_time": "2022-12-22T06:18:15.943Z"
   },
   {
    "duration": 5,
    "start_time": "2022-12-22T06:18:15.953Z"
   },
   {
    "duration": 41915,
    "start_time": "2022-12-22T06:18:15.959Z"
   },
   {
    "duration": 0,
    "start_time": "2022-12-22T06:18:57.876Z"
   },
   {
    "duration": 0,
    "start_time": "2022-12-22T06:18:57.877Z"
   },
   {
    "duration": 1777,
    "start_time": "2022-12-22T06:19:59.772Z"
   },
   {
    "duration": 31,
    "start_time": "2022-12-22T06:20:01.551Z"
   },
   {
    "duration": 15,
    "start_time": "2022-12-22T06:20:01.583Z"
   },
   {
    "duration": 11,
    "start_time": "2022-12-22T06:20:01.600Z"
   },
   {
    "duration": 14,
    "start_time": "2022-12-22T06:20:01.614Z"
   },
   {
    "duration": 7,
    "start_time": "2022-12-22T06:20:01.629Z"
   },
   {
    "duration": 13,
    "start_time": "2022-12-22T06:20:01.637Z"
   },
   {
    "duration": 15,
    "start_time": "2022-12-22T06:20:01.652Z"
   },
   {
    "duration": 30,
    "start_time": "2022-12-22T06:20:01.669Z"
   },
   {
    "duration": 934,
    "start_time": "2022-12-22T06:20:01.701Z"
   },
   {
    "duration": 6,
    "start_time": "2022-12-22T06:20:02.637Z"
   },
   {
    "duration": 13,
    "start_time": "2022-12-22T06:20:02.645Z"
   },
   {
    "duration": 6,
    "start_time": "2022-12-22T06:20:02.660Z"
   },
   {
    "duration": 11,
    "start_time": "2022-12-22T06:20:02.670Z"
   },
   {
    "duration": 22,
    "start_time": "2022-12-22T06:20:02.683Z"
   },
   {
    "duration": 7,
    "start_time": "2022-12-22T06:20:02.707Z"
   },
   {
    "duration": 10,
    "start_time": "2022-12-22T06:20:02.716Z"
   },
   {
    "duration": 170,
    "start_time": "2022-12-22T06:20:02.727Z"
   },
   {
    "duration": 2,
    "start_time": "2022-12-22T06:20:02.899Z"
   },
   {
    "duration": 22,
    "start_time": "2022-12-22T06:20:02.904Z"
   },
   {
    "duration": 14,
    "start_time": "2022-12-22T06:20:02.931Z"
   },
   {
    "duration": 11,
    "start_time": "2022-12-22T06:20:02.946Z"
   },
   {
    "duration": 17,
    "start_time": "2022-12-22T06:20:02.959Z"
   },
   {
    "duration": 22,
    "start_time": "2022-12-22T06:20:02.978Z"
   },
   {
    "duration": 11,
    "start_time": "2022-12-22T06:20:03.001Z"
   },
   {
    "duration": 16,
    "start_time": "2022-12-22T06:20:03.013Z"
   },
   {
    "duration": 23,
    "start_time": "2022-12-22T06:20:03.031Z"
   },
   {
    "duration": 15,
    "start_time": "2022-12-22T06:20:03.056Z"
   },
   {
    "duration": 31132,
    "start_time": "2022-12-22T06:20:03.073Z"
   },
   {
    "duration": 191,
    "start_time": "2022-12-22T06:20:34.206Z"
   },
   {
    "duration": 9,
    "start_time": "2022-12-22T06:20:34.398Z"
   },
   {
    "duration": 8,
    "start_time": "2022-12-22T06:20:34.408Z"
   },
   {
    "duration": 878,
    "start_time": "2022-12-22T06:20:34.417Z"
   },
   {
    "duration": 5,
    "start_time": "2022-12-22T06:20:35.304Z"
   },
   {
    "duration": 7,
    "start_time": "2022-12-22T06:20:35.310Z"
   },
   {
    "duration": 509,
    "start_time": "2022-12-22T06:20:35.319Z"
   },
   {
    "duration": 6,
    "start_time": "2022-12-22T06:20:35.830Z"
   },
   {
    "duration": 13,
    "start_time": "2022-12-22T06:20:35.837Z"
   },
   {
    "duration": 5,
    "start_time": "2022-12-22T06:20:35.852Z"
   },
   {
    "duration": 375315,
    "start_time": "2022-12-22T06:20:35.858Z"
   },
   {
    "duration": 42157,
    "start_time": "2022-12-22T06:26:51.182Z"
   },
   {
    "duration": 7,
    "start_time": "2022-12-22T06:27:33.346Z"
   },
   {
    "duration": 5,
    "start_time": "2022-12-22T06:27:42.670Z"
   },
   {
    "duration": 143,
    "start_time": "2022-12-22T06:27:49.528Z"
   },
   {
    "duration": 15303,
    "start_time": "2022-12-22T06:28:08.631Z"
   },
   {
    "duration": 123574,
    "start_time": "2022-12-22T06:28:30.663Z"
   },
   {
    "duration": 1871,
    "start_time": "2022-12-22T06:38:38.363Z"
   },
   {
    "duration": 31,
    "start_time": "2022-12-22T06:38:40.236Z"
   },
   {
    "duration": 13,
    "start_time": "2022-12-22T06:38:40.269Z"
   },
   {
    "duration": 11,
    "start_time": "2022-12-22T06:38:40.284Z"
   },
   {
    "duration": 7,
    "start_time": "2022-12-22T06:38:40.298Z"
   },
   {
    "duration": 6,
    "start_time": "2022-12-22T06:38:40.307Z"
   },
   {
    "duration": 15,
    "start_time": "2022-12-22T06:38:40.314Z"
   },
   {
    "duration": 13,
    "start_time": "2022-12-22T06:38:40.331Z"
   },
   {
    "duration": 24,
    "start_time": "2022-12-22T06:38:40.345Z"
   },
   {
    "duration": 911,
    "start_time": "2022-12-22T06:38:40.371Z"
   },
   {
    "duration": 7,
    "start_time": "2022-12-22T06:38:41.283Z"
   },
   {
    "duration": 15,
    "start_time": "2022-12-22T06:38:41.292Z"
   },
   {
    "duration": 6,
    "start_time": "2022-12-22T06:38:41.310Z"
   },
   {
    "duration": 15,
    "start_time": "2022-12-22T06:38:41.320Z"
   },
   {
    "duration": 11,
    "start_time": "2022-12-22T06:38:41.337Z"
   },
   {
    "duration": 6,
    "start_time": "2022-12-22T06:38:41.352Z"
   },
   {
    "duration": 5,
    "start_time": "2022-12-22T06:38:41.360Z"
   },
   {
    "duration": 203,
    "start_time": "2022-12-22T06:38:41.367Z"
   },
   {
    "duration": 4,
    "start_time": "2022-12-22T06:38:41.573Z"
   },
   {
    "duration": 11,
    "start_time": "2022-12-22T06:38:41.578Z"
   },
   {
    "duration": 5,
    "start_time": "2022-12-22T06:38:41.605Z"
   },
   {
    "duration": 9,
    "start_time": "2022-12-22T06:38:41.611Z"
   },
   {
    "duration": 10,
    "start_time": "2022-12-22T06:38:41.622Z"
   },
   {
    "duration": 17,
    "start_time": "2022-12-22T06:38:41.634Z"
   },
   {
    "duration": 10,
    "start_time": "2022-12-22T06:38:41.653Z"
   },
   {
    "duration": 5,
    "start_time": "2022-12-22T06:38:41.665Z"
   },
   {
    "duration": 17,
    "start_time": "2022-12-22T06:38:41.672Z"
   },
   {
    "duration": 16,
    "start_time": "2022-12-22T06:38:41.691Z"
   },
   {
    "duration": 35015,
    "start_time": "2022-12-22T06:38:41.709Z"
   },
   {
    "duration": 257,
    "start_time": "2022-12-22T06:39:16.726Z"
   },
   {
    "duration": 5,
    "start_time": "2022-12-22T06:39:16.985Z"
   },
   {
    "duration": 17,
    "start_time": "2022-12-22T06:39:16.992Z"
   },
   {
    "duration": 1036,
    "start_time": "2022-12-22T06:39:17.011Z"
   },
   {
    "duration": 10,
    "start_time": "2022-12-22T06:39:18.049Z"
   },
   {
    "duration": 27,
    "start_time": "2022-12-22T06:39:18.061Z"
   },
   {
    "duration": 591,
    "start_time": "2022-12-22T06:39:18.090Z"
   },
   {
    "duration": 5,
    "start_time": "2022-12-22T06:39:18.683Z"
   },
   {
    "duration": 16,
    "start_time": "2022-12-22T06:39:18.690Z"
   },
   {
    "duration": 6,
    "start_time": "2022-12-22T06:39:18.707Z"
   },
   {
    "duration": 17297,
    "start_time": "2022-12-22T06:39:18.714Z"
   },
   {
    "duration": 0,
    "start_time": "2022-12-22T06:39:36.013Z"
   },
   {
    "duration": 0,
    "start_time": "2022-12-22T06:39:36.014Z"
   },
   {
    "duration": 113572,
    "start_time": "2022-12-22T06:40:42.864Z"
   },
   {
    "duration": 2033,
    "start_time": "2022-12-22T06:42:47.054Z"
   },
   {
    "duration": 32,
    "start_time": "2022-12-22T06:42:49.089Z"
   },
   {
    "duration": 16,
    "start_time": "2022-12-22T06:42:49.123Z"
   },
   {
    "duration": 16,
    "start_time": "2022-12-22T06:42:49.141Z"
   },
   {
    "duration": 10,
    "start_time": "2022-12-22T06:42:49.160Z"
   },
   {
    "duration": 9,
    "start_time": "2022-12-22T06:42:49.172Z"
   },
   {
    "duration": 23,
    "start_time": "2022-12-22T06:42:49.183Z"
   },
   {
    "duration": 19,
    "start_time": "2022-12-22T06:42:49.208Z"
   },
   {
    "duration": 35,
    "start_time": "2022-12-22T06:42:49.230Z"
   },
   {
    "duration": 969,
    "start_time": "2022-12-22T06:42:49.267Z"
   },
   {
    "duration": 11,
    "start_time": "2022-12-22T06:42:50.238Z"
   },
   {
    "duration": 12,
    "start_time": "2022-12-22T06:42:50.251Z"
   },
   {
    "duration": 5,
    "start_time": "2022-12-22T06:42:50.264Z"
   },
   {
    "duration": 14,
    "start_time": "2022-12-22T06:42:50.272Z"
   },
   {
    "duration": 18,
    "start_time": "2022-12-22T06:42:50.287Z"
   },
   {
    "duration": 7,
    "start_time": "2022-12-22T06:42:50.307Z"
   },
   {
    "duration": 12,
    "start_time": "2022-12-22T06:42:50.317Z"
   },
   {
    "duration": 176,
    "start_time": "2022-12-22T06:42:50.331Z"
   },
   {
    "duration": 5,
    "start_time": "2022-12-22T06:42:50.508Z"
   },
   {
    "duration": 16,
    "start_time": "2022-12-22T06:42:50.515Z"
   },
   {
    "duration": 13,
    "start_time": "2022-12-22T06:42:50.534Z"
   },
   {
    "duration": 7,
    "start_time": "2022-12-22T06:42:50.548Z"
   },
   {
    "duration": 18,
    "start_time": "2022-12-22T06:42:50.557Z"
   },
   {
    "duration": 14,
    "start_time": "2022-12-22T06:42:50.577Z"
   },
   {
    "duration": 12,
    "start_time": "2022-12-22T06:42:50.593Z"
   },
   {
    "duration": 4,
    "start_time": "2022-12-22T06:42:50.606Z"
   },
   {
    "duration": 25,
    "start_time": "2022-12-22T06:42:50.612Z"
   },
   {
    "duration": 13,
    "start_time": "2022-12-22T06:42:50.638Z"
   },
   {
    "duration": 47668,
    "start_time": "2022-12-22T06:42:50.653Z"
   },
   {
    "duration": 260,
    "start_time": "2022-12-22T06:43:38.323Z"
   },
   {
    "duration": 5,
    "start_time": "2022-12-22T06:43:38.585Z"
   },
   {
    "duration": 26,
    "start_time": "2022-12-22T06:43:38.592Z"
   },
   {
    "duration": 1120,
    "start_time": "2022-12-22T06:43:38.620Z"
   },
   {
    "duration": 7,
    "start_time": "2022-12-22T06:43:39.742Z"
   },
   {
    "duration": 10,
    "start_time": "2022-12-22T06:43:39.751Z"
   },
   {
    "duration": 633,
    "start_time": "2022-12-22T06:43:39.763Z"
   },
   {
    "duration": 5,
    "start_time": "2022-12-22T06:43:40.405Z"
   },
   {
    "duration": 17,
    "start_time": "2022-12-22T06:43:40.412Z"
   },
   {
    "duration": 10,
    "start_time": "2022-12-22T06:43:40.431Z"
   },
   {
    "duration": 111818,
    "start_time": "2022-12-22T06:43:40.443Z"
   },
   {
    "duration": 0,
    "start_time": "2022-12-22T06:45:32.263Z"
   },
   {
    "duration": 0,
    "start_time": "2022-12-22T06:45:32.264Z"
   },
   {
    "duration": 2031,
    "start_time": "2022-12-22T06:45:39.404Z"
   },
   {
    "duration": 29,
    "start_time": "2022-12-22T06:45:41.437Z"
   },
   {
    "duration": 15,
    "start_time": "2022-12-22T06:45:41.468Z"
   },
   {
    "duration": 15,
    "start_time": "2022-12-22T06:45:41.485Z"
   },
   {
    "duration": 5,
    "start_time": "2022-12-22T06:45:41.504Z"
   },
   {
    "duration": 6,
    "start_time": "2022-12-22T06:45:41.512Z"
   },
   {
    "duration": 21,
    "start_time": "2022-12-22T06:45:41.521Z"
   },
   {
    "duration": 6,
    "start_time": "2022-12-22T06:45:41.544Z"
   },
   {
    "duration": 22,
    "start_time": "2022-12-22T06:45:41.552Z"
   },
   {
    "duration": 1057,
    "start_time": "2022-12-22T06:45:41.577Z"
   },
   {
    "duration": 7,
    "start_time": "2022-12-22T06:45:42.636Z"
   },
   {
    "duration": 10,
    "start_time": "2022-12-22T06:45:42.645Z"
   },
   {
    "duration": 6,
    "start_time": "2022-12-22T06:45:42.658Z"
   },
   {
    "duration": 18,
    "start_time": "2022-12-22T06:45:42.666Z"
   },
   {
    "duration": 22,
    "start_time": "2022-12-22T06:45:42.686Z"
   },
   {
    "duration": 9,
    "start_time": "2022-12-22T06:45:42.710Z"
   },
   {
    "duration": 8,
    "start_time": "2022-12-22T06:45:42.721Z"
   },
   {
    "duration": 186,
    "start_time": "2022-12-22T06:45:42.730Z"
   },
   {
    "duration": 4,
    "start_time": "2022-12-22T06:45:42.918Z"
   },
   {
    "duration": 31,
    "start_time": "2022-12-22T06:45:42.925Z"
   },
   {
    "duration": 10,
    "start_time": "2022-12-22T06:45:42.958Z"
   },
   {
    "duration": 8,
    "start_time": "2022-12-22T06:45:42.969Z"
   },
   {
    "duration": 8,
    "start_time": "2022-12-22T06:45:42.979Z"
   },
   {
    "duration": 26,
    "start_time": "2022-12-22T06:45:42.989Z"
   },
   {
    "duration": 6,
    "start_time": "2022-12-22T06:45:43.017Z"
   },
   {
    "duration": 5,
    "start_time": "2022-12-22T06:45:43.026Z"
   },
   {
    "duration": 8,
    "start_time": "2022-12-22T06:45:43.033Z"
   },
   {
    "duration": 5,
    "start_time": "2022-12-22T06:45:43.044Z"
   },
   {
    "duration": 39472,
    "start_time": "2022-12-22T06:45:43.051Z"
   },
   {
    "duration": 274,
    "start_time": "2022-12-22T06:46:22.525Z"
   },
   {
    "duration": 7,
    "start_time": "2022-12-22T06:46:22.805Z"
   },
   {
    "duration": 14,
    "start_time": "2022-12-22T06:46:22.814Z"
   },
   {
    "duration": 1033,
    "start_time": "2022-12-22T06:46:22.830Z"
   },
   {
    "duration": 5,
    "start_time": "2022-12-22T06:46:23.866Z"
   },
   {
    "duration": 18,
    "start_time": "2022-12-22T06:46:23.873Z"
   },
   {
    "duration": 600,
    "start_time": "2022-12-22T06:46:23.892Z"
   },
   {
    "duration": 15,
    "start_time": "2022-12-22T06:46:24.494Z"
   },
   {
    "duration": 14,
    "start_time": "2022-12-22T06:46:24.511Z"
   },
   {
    "duration": 4,
    "start_time": "2022-12-22T06:46:24.527Z"
   },
   {
    "duration": 419031,
    "start_time": "2022-12-22T06:46:24.533Z"
   },
   {
    "duration": 3,
    "start_time": "2022-12-22T06:53:23.566Z"
   },
   {
    "duration": 47,
    "start_time": "2022-12-22T06:53:23.571Z"
   },
   {
    "duration": 128,
    "start_time": "2022-12-22T06:54:06.279Z"
   },
   {
    "duration": 28,
    "start_time": "2022-12-22T06:54:11.591Z"
   },
   {
    "duration": 4,
    "start_time": "2022-12-22T06:54:18.191Z"
   },
   {
    "duration": 505,
    "start_time": "2022-12-22T06:54:32.416Z"
   },
   {
    "duration": 1888,
    "start_time": "2022-12-22T06:54:41.074Z"
   },
   {
    "duration": 28,
    "start_time": "2022-12-22T06:54:42.964Z"
   },
   {
    "duration": 17,
    "start_time": "2022-12-22T06:54:42.994Z"
   },
   {
    "duration": 40,
    "start_time": "2022-12-22T06:54:43.013Z"
   },
   {
    "duration": 18,
    "start_time": "2022-12-22T06:54:43.056Z"
   },
   {
    "duration": 14,
    "start_time": "2022-12-22T06:54:43.076Z"
   },
   {
    "duration": 32,
    "start_time": "2022-12-22T06:54:43.092Z"
   },
   {
    "duration": 11,
    "start_time": "2022-12-22T06:54:43.125Z"
   },
   {
    "duration": 33,
    "start_time": "2022-12-22T06:54:43.137Z"
   },
   {
    "duration": 936,
    "start_time": "2022-12-22T06:54:43.172Z"
   },
   {
    "duration": 6,
    "start_time": "2022-12-22T06:54:44.110Z"
   },
   {
    "duration": 19,
    "start_time": "2022-12-22T06:54:44.118Z"
   },
   {
    "duration": 14,
    "start_time": "2022-12-22T06:54:44.141Z"
   },
   {
    "duration": 16,
    "start_time": "2022-12-22T06:54:44.159Z"
   },
   {
    "duration": 16,
    "start_time": "2022-12-22T06:54:44.177Z"
   },
   {
    "duration": 14,
    "start_time": "2022-12-22T06:54:44.194Z"
   },
   {
    "duration": 12,
    "start_time": "2022-12-22T06:54:44.210Z"
   },
   {
    "duration": 156,
    "start_time": "2022-12-22T06:54:44.223Z"
   },
   {
    "duration": 4,
    "start_time": "2022-12-22T06:54:44.381Z"
   },
   {
    "duration": 28,
    "start_time": "2022-12-22T06:54:44.387Z"
   },
   {
    "duration": 14,
    "start_time": "2022-12-22T06:54:44.417Z"
   },
   {
    "duration": 16,
    "start_time": "2022-12-22T06:54:44.432Z"
   },
   {
    "duration": 20,
    "start_time": "2022-12-22T06:54:44.449Z"
   },
   {
    "duration": 33,
    "start_time": "2022-12-22T06:54:44.471Z"
   },
   {
    "duration": 19,
    "start_time": "2022-12-22T06:54:44.506Z"
   },
   {
    "duration": 8,
    "start_time": "2022-12-22T06:54:44.527Z"
   },
   {
    "duration": 14,
    "start_time": "2022-12-22T06:54:44.537Z"
   },
   {
    "duration": 13,
    "start_time": "2022-12-22T06:54:44.553Z"
   },
   {
    "duration": 43448,
    "start_time": "2022-12-22T06:54:44.567Z"
   },
   {
    "duration": 259,
    "start_time": "2022-12-22T06:55:28.017Z"
   },
   {
    "duration": 7,
    "start_time": "2022-12-22T06:55:28.277Z"
   },
   {
    "duration": 21,
    "start_time": "2022-12-22T06:55:28.286Z"
   },
   {
    "duration": 959,
    "start_time": "2022-12-22T06:55:28.309Z"
   },
   {
    "duration": 4,
    "start_time": "2022-12-22T06:55:29.270Z"
   },
   {
    "duration": 8,
    "start_time": "2022-12-22T06:55:29.276Z"
   },
   {
    "duration": 523,
    "start_time": "2022-12-22T06:55:29.286Z"
   },
   {
    "duration": 11,
    "start_time": "2022-12-22T06:55:29.812Z"
   },
   {
    "duration": 7,
    "start_time": "2022-12-22T06:55:29.824Z"
   },
   {
    "duration": 5,
    "start_time": "2022-12-22T06:55:29.832Z"
   },
   {
    "duration": 445250,
    "start_time": "2022-12-22T06:55:29.839Z"
   },
   {
    "duration": 159,
    "start_time": "2022-12-22T07:02:55.094Z"
   },
   {
    "duration": 0,
    "start_time": "2022-12-22T07:02:55.255Z"
   },
   {
    "duration": 0,
    "start_time": "2022-12-22T07:02:55.256Z"
   },
   {
    "duration": 0,
    "start_time": "2022-12-22T07:02:55.257Z"
   },
   {
    "duration": 4,
    "start_time": "2022-12-22T07:04:40.788Z"
   },
   {
    "duration": 414438,
    "start_time": "2022-12-22T07:05:52.569Z"
   },
   {
    "duration": 15,
    "start_time": "2022-12-22T07:14:36.989Z"
   },
   {
    "duration": 4,
    "start_time": "2022-12-22T07:14:46.208Z"
   },
   {
    "duration": 3,
    "start_time": "2022-12-22T07:15:07.769Z"
   },
   {
    "duration": 6,
    "start_time": "2022-12-22T07:15:48.474Z"
   },
   {
    "duration": 432102,
    "start_time": "2022-12-22T07:15:53.384Z"
   },
   {
    "duration": 5,
    "start_time": "2022-12-22T07:23:28.966Z"
   },
   {
    "duration": 3,
    "start_time": "2022-12-22T07:23:52.483Z"
   },
   {
    "duration": 250296,
    "start_time": "2022-12-22T07:24:33.325Z"
   },
   {
    "duration": 0,
    "start_time": "2022-12-22T07:28:43.623Z"
   },
   {
    "duration": 1785,
    "start_time": "2022-12-22T07:28:47.341Z"
   },
   {
    "duration": 30,
    "start_time": "2022-12-22T07:28:49.128Z"
   },
   {
    "duration": 15,
    "start_time": "2022-12-22T07:28:49.159Z"
   },
   {
    "duration": 11,
    "start_time": "2022-12-22T07:28:49.176Z"
   },
   {
    "duration": 6,
    "start_time": "2022-12-22T07:28:49.190Z"
   },
   {
    "duration": 6,
    "start_time": "2022-12-22T07:28:49.198Z"
   },
   {
    "duration": 15,
    "start_time": "2022-12-22T07:28:49.206Z"
   },
   {
    "duration": 5,
    "start_time": "2022-12-22T07:28:49.223Z"
   },
   {
    "duration": 21,
    "start_time": "2022-12-22T07:28:49.230Z"
   },
   {
    "duration": 908,
    "start_time": "2022-12-22T07:28:49.254Z"
   },
   {
    "duration": 6,
    "start_time": "2022-12-22T07:28:50.165Z"
   },
   {
    "duration": 18,
    "start_time": "2022-12-22T07:28:50.173Z"
   },
   {
    "duration": 22,
    "start_time": "2022-12-22T07:28:50.193Z"
   },
   {
    "duration": 32,
    "start_time": "2022-12-22T07:28:50.218Z"
   },
   {
    "duration": 41,
    "start_time": "2022-12-22T07:28:50.251Z"
   },
   {
    "duration": 17,
    "start_time": "2022-12-22T07:28:50.294Z"
   },
   {
    "duration": 22,
    "start_time": "2022-12-22T07:28:50.313Z"
   },
   {
    "duration": 179,
    "start_time": "2022-12-22T07:28:50.337Z"
   },
   {
    "duration": 4,
    "start_time": "2022-12-22T07:28:50.518Z"
   },
   {
    "duration": 31,
    "start_time": "2022-12-22T07:28:50.524Z"
   },
   {
    "duration": 39,
    "start_time": "2022-12-22T07:28:50.557Z"
   },
   {
    "duration": 46,
    "start_time": "2022-12-22T07:28:50.598Z"
   },
   {
    "duration": 42,
    "start_time": "2022-12-22T07:28:50.646Z"
   },
   {
    "duration": 14,
    "start_time": "2022-12-22T07:28:50.690Z"
   },
   {
    "duration": 6,
    "start_time": "2022-12-22T07:28:50.706Z"
   },
   {
    "duration": 13,
    "start_time": "2022-12-22T07:28:50.713Z"
   },
   {
    "duration": 7,
    "start_time": "2022-12-22T07:28:50.727Z"
   },
   {
    "duration": 16,
    "start_time": "2022-12-22T07:28:50.735Z"
   },
   {
    "duration": 31970,
    "start_time": "2022-12-22T07:28:50.753Z"
   },
   {
    "duration": 252,
    "start_time": "2022-12-22T07:29:22.725Z"
   },
   {
    "duration": 5,
    "start_time": "2022-12-22T07:29:22.978Z"
   },
   {
    "duration": 8,
    "start_time": "2022-12-22T07:29:22.984Z"
   },
   {
    "duration": 900,
    "start_time": "2022-12-22T07:29:22.994Z"
   },
   {
    "duration": 9,
    "start_time": "2022-12-22T07:29:23.895Z"
   },
   {
    "duration": 5,
    "start_time": "2022-12-22T07:29:23.906Z"
   },
   {
    "duration": 547,
    "start_time": "2022-12-22T07:29:23.912Z"
   },
   {
    "duration": 5,
    "start_time": "2022-12-22T07:29:24.461Z"
   },
   {
    "duration": 11,
    "start_time": "2022-12-22T07:29:24.468Z"
   },
   {
    "duration": 143,
    "start_time": "2022-12-22T07:29:24.481Z"
   },
   {
    "duration": 0,
    "start_time": "2022-12-22T07:29:24.626Z"
   },
   {
    "duration": 0,
    "start_time": "2022-12-22T07:29:24.627Z"
   },
   {
    "duration": 0,
    "start_time": "2022-12-22T07:29:24.628Z"
   },
   {
    "duration": 0,
    "start_time": "2022-12-22T07:29:24.629Z"
   },
   {
    "duration": 0,
    "start_time": "2022-12-22T07:29:24.631Z"
   },
   {
    "duration": 0,
    "start_time": "2022-12-22T07:29:24.632Z"
   },
   {
    "duration": 0,
    "start_time": "2022-12-22T07:29:24.634Z"
   },
   {
    "duration": 3,
    "start_time": "2022-12-22T07:32:56.718Z"
   },
   {
    "duration": 419913,
    "start_time": "2022-12-22T07:32:59.481Z"
   },
   {
    "duration": 13,
    "start_time": "2022-12-22T07:40:10.030Z"
   },
   {
    "duration": 3,
    "start_time": "2022-12-22T07:40:44.306Z"
   },
   {
    "duration": 4,
    "start_time": "2022-12-22T07:40:52.130Z"
   },
   {
    "duration": 11,
    "start_time": "2022-12-22T07:40:55.485Z"
   },
   {
    "duration": 12,
    "start_time": "2022-12-22T07:41:11.779Z"
   },
   {
    "duration": 3,
    "start_time": "2022-12-22T07:41:17.018Z"
   },
   {
    "duration": 6,
    "start_time": "2022-12-22T07:41:19.658Z"
   },
   {
    "duration": 516,
    "start_time": "2022-12-22T07:41:20.312Z"
   },
   {
    "duration": 1810,
    "start_time": "2022-12-22T07:41:42.417Z"
   },
   {
    "duration": 29,
    "start_time": "2022-12-22T07:41:44.229Z"
   },
   {
    "duration": 12,
    "start_time": "2022-12-22T07:41:44.260Z"
   },
   {
    "duration": 20,
    "start_time": "2022-12-22T07:41:44.274Z"
   },
   {
    "duration": 7,
    "start_time": "2022-12-22T07:41:44.296Z"
   },
   {
    "duration": 10,
    "start_time": "2022-12-22T07:41:44.305Z"
   },
   {
    "duration": 15,
    "start_time": "2022-12-22T07:41:44.317Z"
   },
   {
    "duration": 3,
    "start_time": "2022-12-22T07:41:44.334Z"
   },
   {
    "duration": 21,
    "start_time": "2022-12-22T07:41:44.339Z"
   },
   {
    "duration": 910,
    "start_time": "2022-12-22T07:41:44.362Z"
   },
   {
    "duration": 6,
    "start_time": "2022-12-22T07:41:45.274Z"
   },
   {
    "duration": 7,
    "start_time": "2022-12-22T07:41:45.281Z"
   },
   {
    "duration": 16,
    "start_time": "2022-12-22T07:41:45.289Z"
   },
   {
    "duration": 10,
    "start_time": "2022-12-22T07:41:45.307Z"
   },
   {
    "duration": 7,
    "start_time": "2022-12-22T07:41:45.319Z"
   },
   {
    "duration": 12,
    "start_time": "2022-12-22T07:41:45.328Z"
   },
   {
    "duration": 6,
    "start_time": "2022-12-22T07:41:45.341Z"
   },
   {
    "duration": 170,
    "start_time": "2022-12-22T07:41:45.348Z"
   },
   {
    "duration": 4,
    "start_time": "2022-12-22T07:41:45.520Z"
   },
   {
    "duration": 9,
    "start_time": "2022-12-22T07:41:45.525Z"
   },
   {
    "duration": 4,
    "start_time": "2022-12-22T07:41:45.536Z"
   },
   {
    "duration": 8,
    "start_time": "2022-12-22T07:41:45.542Z"
   },
   {
    "duration": 8,
    "start_time": "2022-12-22T07:41:45.551Z"
   },
   {
    "duration": 14,
    "start_time": "2022-12-22T07:41:45.560Z"
   },
   {
    "duration": 30,
    "start_time": "2022-12-22T07:41:45.576Z"
   },
   {
    "duration": 4,
    "start_time": "2022-12-22T07:41:45.607Z"
   },
   {
    "duration": 7,
    "start_time": "2022-12-22T07:41:45.612Z"
   },
   {
    "duration": 6,
    "start_time": "2022-12-22T07:41:45.620Z"
   },
   {
    "duration": 32186,
    "start_time": "2022-12-22T07:41:45.627Z"
   },
   {
    "duration": 209,
    "start_time": "2022-12-22T07:42:17.815Z"
   },
   {
    "duration": 5,
    "start_time": "2022-12-22T07:42:18.025Z"
   },
   {
    "duration": 19,
    "start_time": "2022-12-22T07:42:18.032Z"
   },
   {
    "duration": 901,
    "start_time": "2022-12-22T07:42:18.053Z"
   },
   {
    "duration": 5,
    "start_time": "2022-12-22T07:42:18.955Z"
   },
   {
    "duration": 12,
    "start_time": "2022-12-22T07:42:18.961Z"
   },
   {
    "duration": 532,
    "start_time": "2022-12-22T07:42:18.974Z"
   },
   {
    "duration": 5,
    "start_time": "2022-12-22T07:42:19.508Z"
   },
   {
    "duration": 10,
    "start_time": "2022-12-22T07:42:19.514Z"
   },
   {
    "duration": 8,
    "start_time": "2022-12-22T07:42:19.526Z"
   },
   {
    "duration": 58782,
    "start_time": "2022-12-22T07:42:19.536Z"
   },
   {
    "duration": 0,
    "start_time": "2022-12-22T07:43:18.320Z"
   },
   {
    "duration": 0,
    "start_time": "2022-12-22T07:43:18.322Z"
   },
   {
    "duration": 0,
    "start_time": "2022-12-22T07:43:18.323Z"
   },
   {
    "duration": 0,
    "start_time": "2022-12-22T07:43:18.324Z"
   },
   {
    "duration": 0,
    "start_time": "2022-12-22T07:43:18.325Z"
   },
   {
    "duration": 0,
    "start_time": "2022-12-22T07:43:18.326Z"
   },
   {
    "duration": 1748,
    "start_time": "2022-12-22T07:43:21.591Z"
   },
   {
    "duration": 29,
    "start_time": "2022-12-22T07:43:23.341Z"
   },
   {
    "duration": 13,
    "start_time": "2022-12-22T07:43:23.371Z"
   },
   {
    "duration": 10,
    "start_time": "2022-12-22T07:43:23.386Z"
   },
   {
    "duration": 6,
    "start_time": "2022-12-22T07:43:23.398Z"
   },
   {
    "duration": 6,
    "start_time": "2022-12-22T07:43:23.405Z"
   },
   {
    "duration": 12,
    "start_time": "2022-12-22T07:43:23.413Z"
   },
   {
    "duration": 5,
    "start_time": "2022-12-22T07:43:23.427Z"
   },
   {
    "duration": 23,
    "start_time": "2022-12-22T07:43:23.433Z"
   },
   {
    "duration": 942,
    "start_time": "2022-12-22T07:43:23.457Z"
   },
   {
    "duration": 8,
    "start_time": "2022-12-22T07:43:24.401Z"
   },
   {
    "duration": 6,
    "start_time": "2022-12-22T07:43:24.411Z"
   },
   {
    "duration": 7,
    "start_time": "2022-12-22T07:43:24.418Z"
   },
   {
    "duration": 11,
    "start_time": "2022-12-22T07:43:24.428Z"
   },
   {
    "duration": 9,
    "start_time": "2022-12-22T07:43:24.441Z"
   },
   {
    "duration": 7,
    "start_time": "2022-12-22T07:43:24.451Z"
   },
   {
    "duration": 11,
    "start_time": "2022-12-22T07:43:24.459Z"
   },
   {
    "duration": 196,
    "start_time": "2022-12-22T07:43:24.471Z"
   },
   {
    "duration": 4,
    "start_time": "2022-12-22T07:43:24.669Z"
   },
   {
    "duration": 9,
    "start_time": "2022-12-22T07:43:24.674Z"
   },
   {
    "duration": 6,
    "start_time": "2022-12-22T07:43:24.684Z"
   },
   {
    "duration": 15,
    "start_time": "2022-12-22T07:43:24.692Z"
   },
   {
    "duration": 7,
    "start_time": "2022-12-22T07:43:24.708Z"
   },
   {
    "duration": 13,
    "start_time": "2022-12-22T07:43:24.716Z"
   },
   {
    "duration": 8,
    "start_time": "2022-12-22T07:43:24.730Z"
   },
   {
    "duration": 5,
    "start_time": "2022-12-22T07:43:24.740Z"
   },
   {
    "duration": 7,
    "start_time": "2022-12-22T07:43:24.746Z"
   },
   {
    "duration": 5,
    "start_time": "2022-12-22T07:43:24.755Z"
   },
   {
    "duration": 32452,
    "start_time": "2022-12-22T07:43:24.762Z"
   },
   {
    "duration": 270,
    "start_time": "2022-12-22T07:43:57.216Z"
   },
   {
    "duration": 7,
    "start_time": "2022-12-22T07:43:57.487Z"
   },
   {
    "duration": 19,
    "start_time": "2022-12-22T07:43:57.497Z"
   },
   {
    "duration": 930,
    "start_time": "2022-12-22T07:43:57.518Z"
   },
   {
    "duration": 5,
    "start_time": "2022-12-22T07:43:58.450Z"
   },
   {
    "duration": 6,
    "start_time": "2022-12-22T07:43:58.457Z"
   },
   {
    "duration": 510,
    "start_time": "2022-12-22T07:43:58.465Z"
   },
   {
    "duration": 6,
    "start_time": "2022-12-22T07:43:58.977Z"
   },
   {
    "duration": 27,
    "start_time": "2022-12-22T07:43:58.985Z"
   },
   {
    "duration": 18,
    "start_time": "2022-12-22T07:43:59.014Z"
   },
   {
    "duration": 366418,
    "start_time": "2022-12-22T07:43:59.034Z"
   },
   {
    "duration": 13,
    "start_time": "2022-12-22T07:50:05.455Z"
   },
   {
    "duration": 5,
    "start_time": "2022-12-22T07:50:05.470Z"
   },
   {
    "duration": 8,
    "start_time": "2022-12-22T07:50:05.476Z"
   },
   {
    "duration": 515,
    "start_time": "2022-12-22T07:50:05.504Z"
   },
   {
    "duration": 4,
    "start_time": "2022-12-22T07:56:59.725Z"
   },
   {
    "duration": 1937,
    "start_time": "2022-12-22T08:06:25.599Z"
   },
   {
    "duration": 31,
    "start_time": "2022-12-22T08:06:27.538Z"
   },
   {
    "duration": 97,
    "start_time": "2022-12-22T08:06:27.570Z"
   },
   {
    "duration": 18,
    "start_time": "2022-12-22T08:06:27.669Z"
   },
   {
    "duration": 12,
    "start_time": "2022-12-22T08:06:27.689Z"
   },
   {
    "duration": 7,
    "start_time": "2022-12-22T08:06:27.703Z"
   },
   {
    "duration": 16,
    "start_time": "2022-12-22T08:06:27.712Z"
   },
   {
    "duration": 9,
    "start_time": "2022-12-22T08:06:27.730Z"
   },
   {
    "duration": 26,
    "start_time": "2022-12-22T08:06:27.740Z"
   },
   {
    "duration": 916,
    "start_time": "2022-12-22T08:06:27.767Z"
   },
   {
    "duration": 6,
    "start_time": "2022-12-22T08:06:28.684Z"
   },
   {
    "duration": 14,
    "start_time": "2022-12-22T08:06:28.691Z"
   },
   {
    "duration": 4,
    "start_time": "2022-12-22T08:06:28.707Z"
   },
   {
    "duration": 15,
    "start_time": "2022-12-22T08:06:28.713Z"
   },
   {
    "duration": 14,
    "start_time": "2022-12-22T08:06:28.730Z"
   },
   {
    "duration": 28,
    "start_time": "2022-12-22T08:06:28.746Z"
   },
   {
    "duration": 10,
    "start_time": "2022-12-22T08:06:28.776Z"
   },
   {
    "duration": 149,
    "start_time": "2022-12-22T08:06:28.787Z"
   },
   {
    "duration": 3,
    "start_time": "2022-12-22T08:06:28.938Z"
   },
   {
    "duration": 9,
    "start_time": "2022-12-22T08:06:28.943Z"
   },
   {
    "duration": 7,
    "start_time": "2022-12-22T08:06:28.954Z"
   },
   {
    "duration": 9,
    "start_time": "2022-12-22T08:06:28.962Z"
   },
   {
    "duration": 9,
    "start_time": "2022-12-22T08:06:28.973Z"
   },
   {
    "duration": 28,
    "start_time": "2022-12-22T08:06:28.984Z"
   },
   {
    "duration": 8,
    "start_time": "2022-12-22T08:06:29.014Z"
   },
   {
    "duration": 6,
    "start_time": "2022-12-22T08:06:29.023Z"
   },
   {
    "duration": 7,
    "start_time": "2022-12-22T08:06:29.031Z"
   },
   {
    "duration": 10,
    "start_time": "2022-12-22T08:06:29.039Z"
   },
   {
    "duration": 30769,
    "start_time": "2022-12-22T08:06:29.050Z"
   },
   {
    "duration": 243,
    "start_time": "2022-12-22T08:06:59.821Z"
   },
   {
    "duration": 5,
    "start_time": "2022-12-22T08:07:00.066Z"
   },
   {
    "duration": 30,
    "start_time": "2022-12-22T08:07:00.073Z"
   },
   {
    "duration": 943,
    "start_time": "2022-12-22T08:07:00.104Z"
   },
   {
    "duration": 5,
    "start_time": "2022-12-22T08:07:01.049Z"
   },
   {
    "duration": 23,
    "start_time": "2022-12-22T08:07:01.056Z"
   },
   {
    "duration": 513,
    "start_time": "2022-12-22T08:07:01.081Z"
   },
   {
    "duration": 9,
    "start_time": "2022-12-22T08:07:01.595Z"
   },
   {
    "duration": 18,
    "start_time": "2022-12-22T08:07:01.606Z"
   },
   {
    "duration": 13,
    "start_time": "2022-12-22T08:07:01.625Z"
   },
   {
    "duration": 365054,
    "start_time": "2022-12-22T08:07:01.639Z"
   },
   {
    "duration": 17,
    "start_time": "2022-12-22T08:13:06.696Z"
   },
   {
    "duration": 8,
    "start_time": "2022-12-22T08:13:06.714Z"
   },
   {
    "duration": 6,
    "start_time": "2022-12-22T08:13:06.724Z"
   },
   {
    "duration": 8,
    "start_time": "2022-12-22T08:13:06.732Z"
   },
   {
    "duration": 491,
    "start_time": "2022-12-22T08:13:06.741Z"
   },
   {
    "duration": 66,
    "start_time": "2022-12-22T08:13:07.234Z"
   },
   {
    "duration": 4,
    "start_time": "2022-12-22T08:35:36.945Z"
   },
   {
    "duration": 1827,
    "start_time": "2022-12-22T08:36:03.268Z"
   },
   {
    "duration": 30,
    "start_time": "2022-12-22T08:36:05.097Z"
   },
   {
    "duration": 47,
    "start_time": "2022-12-22T08:36:05.129Z"
   },
   {
    "duration": 12,
    "start_time": "2022-12-22T08:36:05.177Z"
   },
   {
    "duration": 8,
    "start_time": "2022-12-22T08:36:05.191Z"
   },
   {
    "duration": 8,
    "start_time": "2022-12-22T08:36:05.201Z"
   },
   {
    "duration": 9,
    "start_time": "2022-12-22T08:36:05.211Z"
   },
   {
    "duration": 5,
    "start_time": "2022-12-22T08:36:05.221Z"
   },
   {
    "duration": 26,
    "start_time": "2022-12-22T08:36:05.228Z"
   },
   {
    "duration": 951,
    "start_time": "2022-12-22T08:36:05.256Z"
   },
   {
    "duration": 7,
    "start_time": "2022-12-22T08:36:06.209Z"
   },
   {
    "duration": 12,
    "start_time": "2022-12-22T08:36:06.217Z"
   },
   {
    "duration": 15,
    "start_time": "2022-12-22T08:36:06.230Z"
   },
   {
    "duration": 25,
    "start_time": "2022-12-22T08:36:06.248Z"
   },
   {
    "duration": 17,
    "start_time": "2022-12-22T08:36:06.275Z"
   },
   {
    "duration": 18,
    "start_time": "2022-12-22T08:36:06.294Z"
   },
   {
    "duration": 8,
    "start_time": "2022-12-22T08:36:06.314Z"
   },
   {
    "duration": 185,
    "start_time": "2022-12-22T08:36:06.324Z"
   },
   {
    "duration": 4,
    "start_time": "2022-12-22T08:36:06.510Z"
   },
   {
    "duration": 10,
    "start_time": "2022-12-22T08:36:06.516Z"
   },
   {
    "duration": 9,
    "start_time": "2022-12-22T08:36:06.528Z"
   },
   {
    "duration": 18,
    "start_time": "2022-12-22T08:36:06.538Z"
   },
   {
    "duration": 15,
    "start_time": "2022-12-22T08:36:06.557Z"
   },
   {
    "duration": 21,
    "start_time": "2022-12-22T08:36:06.574Z"
   },
   {
    "duration": 15,
    "start_time": "2022-12-22T08:36:06.596Z"
   },
   {
    "duration": 9,
    "start_time": "2022-12-22T08:36:06.612Z"
   },
   {
    "duration": 11,
    "start_time": "2022-12-22T08:36:06.623Z"
   },
   {
    "duration": 11,
    "start_time": "2022-12-22T08:36:06.635Z"
   },
   {
    "duration": 35078,
    "start_time": "2022-12-22T08:36:06.647Z"
   },
   {
    "duration": 251,
    "start_time": "2022-12-22T08:36:41.727Z"
   },
   {
    "duration": 5,
    "start_time": "2022-12-22T08:36:41.979Z"
   },
   {
    "duration": 35,
    "start_time": "2022-12-22T08:36:41.985Z"
   },
   {
    "duration": 1003,
    "start_time": "2022-12-22T08:36:42.021Z"
   },
   {
    "duration": 5,
    "start_time": "2022-12-22T08:36:43.025Z"
   },
   {
    "duration": 36,
    "start_time": "2022-12-22T08:36:43.032Z"
   },
   {
    "duration": 523,
    "start_time": "2022-12-22T08:36:43.070Z"
   },
   {
    "duration": 10,
    "start_time": "2022-12-22T08:36:43.595Z"
   },
   {
    "duration": 24,
    "start_time": "2022-12-22T08:36:43.606Z"
   },
   {
    "duration": 15,
    "start_time": "2022-12-22T08:36:43.632Z"
   },
   {
    "duration": 389151,
    "start_time": "2022-12-22T08:36:43.649Z"
   },
   {
    "duration": 16,
    "start_time": "2022-12-22T08:43:12.807Z"
   },
   {
    "duration": 14,
    "start_time": "2022-12-22T08:43:12.825Z"
   },
   {
    "duration": 15,
    "start_time": "2022-12-22T08:43:12.840Z"
   },
   {
    "duration": 10,
    "start_time": "2022-12-22T08:43:12.857Z"
   },
   {
    "duration": 537,
    "start_time": "2022-12-22T08:43:12.869Z"
   },
   {
    "duration": 1977,
    "start_time": "2022-12-22T08:43:40.595Z"
   },
   {
    "duration": 34,
    "start_time": "2022-12-22T08:43:42.574Z"
   },
   {
    "duration": 18,
    "start_time": "2022-12-22T08:43:42.611Z"
   },
   {
    "duration": 16,
    "start_time": "2022-12-22T08:43:42.632Z"
   },
   {
    "duration": 81,
    "start_time": "2022-12-22T08:43:42.651Z"
   },
   {
    "duration": 13,
    "start_time": "2022-12-22T08:43:42.734Z"
   },
   {
    "duration": 14,
    "start_time": "2022-12-22T08:43:42.749Z"
   },
   {
    "duration": 6,
    "start_time": "2022-12-22T08:43:42.765Z"
   },
   {
    "duration": 23,
    "start_time": "2022-12-22T08:43:42.773Z"
   },
   {
    "duration": 965,
    "start_time": "2022-12-22T08:43:42.798Z"
   },
   {
    "duration": 7,
    "start_time": "2022-12-22T08:43:43.764Z"
   },
   {
    "duration": 7,
    "start_time": "2022-12-22T08:43:43.772Z"
   },
   {
    "duration": 24,
    "start_time": "2022-12-22T08:43:43.781Z"
   },
   {
    "duration": 29,
    "start_time": "2022-12-22T08:43:43.808Z"
   },
   {
    "duration": 11,
    "start_time": "2022-12-22T08:43:43.839Z"
   },
   {
    "duration": 8,
    "start_time": "2022-12-22T08:43:43.852Z"
   },
   {
    "duration": 10,
    "start_time": "2022-12-22T08:43:43.861Z"
   },
   {
    "duration": 167,
    "start_time": "2022-12-22T08:43:43.872Z"
   },
   {
    "duration": 4,
    "start_time": "2022-12-22T08:43:44.041Z"
   },
   {
    "duration": 11,
    "start_time": "2022-12-22T08:43:44.046Z"
   },
   {
    "duration": 10,
    "start_time": "2022-12-22T08:43:44.058Z"
   },
   {
    "duration": 8,
    "start_time": "2022-12-22T08:43:44.069Z"
   },
   {
    "duration": 36,
    "start_time": "2022-12-22T08:43:44.078Z"
   },
   {
    "duration": 18,
    "start_time": "2022-12-22T08:43:44.119Z"
   },
   {
    "duration": 4,
    "start_time": "2022-12-22T08:43:44.142Z"
   },
   {
    "duration": 6,
    "start_time": "2022-12-22T08:43:44.149Z"
   },
   {
    "duration": 13,
    "start_time": "2022-12-22T08:43:44.158Z"
   },
   {
    "duration": 10,
    "start_time": "2022-12-22T08:43:44.173Z"
   },
   {
    "duration": 64535,
    "start_time": "2022-12-22T08:43:44.184Z"
   },
   {
    "duration": 215,
    "start_time": "2022-12-22T08:44:48.727Z"
   },
   {
    "duration": 8,
    "start_time": "2022-12-22T08:44:48.944Z"
   },
   {
    "duration": 16,
    "start_time": "2022-12-22T08:44:48.953Z"
   },
   {
    "duration": 997,
    "start_time": "2022-12-22T08:44:48.971Z"
   },
   {
    "duration": 5,
    "start_time": "2022-12-22T08:44:49.970Z"
   },
   {
    "duration": 20,
    "start_time": "2022-12-22T08:44:49.977Z"
   },
   {
    "duration": 563,
    "start_time": "2022-12-22T08:44:49.999Z"
   },
   {
    "duration": 6,
    "start_time": "2022-12-22T08:44:50.563Z"
   },
   {
    "duration": 10,
    "start_time": "2022-12-22T08:44:50.571Z"
   },
   {
    "duration": 7,
    "start_time": "2022-12-22T08:44:50.582Z"
   },
   {
    "duration": 475163,
    "start_time": "2022-12-22T08:44:50.591Z"
   },
   {
    "duration": 13,
    "start_time": "2022-12-22T08:52:45.758Z"
   },
   {
    "duration": 19,
    "start_time": "2022-12-22T08:52:45.774Z"
   },
   {
    "duration": 32,
    "start_time": "2022-12-22T08:52:45.795Z"
   },
   {
    "duration": 28,
    "start_time": "2022-12-22T08:52:45.829Z"
   },
   {
    "duration": 584,
    "start_time": "2022-12-22T08:52:45.858Z"
   },
   {
    "duration": 1973,
    "start_time": "2022-12-22T09:02:24.427Z"
   },
   {
    "duration": 36,
    "start_time": "2022-12-22T09:02:26.402Z"
   },
   {
    "duration": 21,
    "start_time": "2022-12-22T09:02:26.440Z"
   },
   {
    "duration": 11,
    "start_time": "2022-12-22T09:02:26.463Z"
   },
   {
    "duration": 7,
    "start_time": "2022-12-22T09:02:26.476Z"
   },
   {
    "duration": 10,
    "start_time": "2022-12-22T09:02:26.485Z"
   },
   {
    "duration": 13,
    "start_time": "2022-12-22T09:02:26.497Z"
   },
   {
    "duration": 11,
    "start_time": "2022-12-22T09:02:26.513Z"
   },
   {
    "duration": 25,
    "start_time": "2022-12-22T09:02:26.526Z"
   },
   {
    "duration": 1020,
    "start_time": "2022-12-22T09:02:26.553Z"
   },
   {
    "duration": 10,
    "start_time": "2022-12-22T09:02:27.575Z"
   },
   {
    "duration": 24,
    "start_time": "2022-12-22T09:02:27.587Z"
   },
   {
    "duration": 41,
    "start_time": "2022-12-22T09:02:27.613Z"
   },
   {
    "duration": 16,
    "start_time": "2022-12-22T09:02:27.658Z"
   },
   {
    "duration": 10,
    "start_time": "2022-12-22T09:02:27.676Z"
   },
   {
    "duration": 10,
    "start_time": "2022-12-22T09:02:27.688Z"
   },
   {
    "duration": 7,
    "start_time": "2022-12-22T09:02:27.700Z"
   },
   {
    "duration": 227,
    "start_time": "2022-12-22T09:02:27.711Z"
   },
   {
    "duration": 4,
    "start_time": "2022-12-22T09:02:27.940Z"
   },
   {
    "duration": 10,
    "start_time": "2022-12-22T09:02:27.945Z"
   },
   {
    "duration": 7,
    "start_time": "2022-12-22T09:02:27.956Z"
   },
   {
    "duration": 16,
    "start_time": "2022-12-22T09:02:27.965Z"
   },
   {
    "duration": 4,
    "start_time": "2022-12-22T09:02:27.984Z"
   },
   {
    "duration": 45,
    "start_time": "2022-12-22T09:02:27.990Z"
   },
   {
    "duration": 17,
    "start_time": "2022-12-22T09:02:28.037Z"
   },
   {
    "duration": 8,
    "start_time": "2022-12-22T09:02:28.056Z"
   },
   {
    "duration": 9,
    "start_time": "2022-12-22T09:02:28.066Z"
   },
   {
    "duration": 10,
    "start_time": "2022-12-22T09:02:28.077Z"
   },
   {
    "duration": 44441,
    "start_time": "2022-12-22T09:02:28.089Z"
   },
   {
    "duration": 261,
    "start_time": "2022-12-22T09:03:12.532Z"
   },
   {
    "duration": 14,
    "start_time": "2022-12-22T09:03:12.797Z"
   },
   {
    "duration": 26,
    "start_time": "2022-12-22T09:03:12.812Z"
   },
   {
    "duration": 957,
    "start_time": "2022-12-22T09:03:12.840Z"
   },
   {
    "duration": 15,
    "start_time": "2022-12-22T09:03:13.805Z"
   },
   {
    "duration": 14,
    "start_time": "2022-12-22T09:03:13.822Z"
   },
   {
    "duration": 524,
    "start_time": "2022-12-22T09:03:13.838Z"
   },
   {
    "duration": 5,
    "start_time": "2022-12-22T09:03:14.363Z"
   },
   {
    "duration": 7,
    "start_time": "2022-12-22T09:03:14.370Z"
   },
   {
    "duration": 5,
    "start_time": "2022-12-22T09:03:14.378Z"
   },
   {
    "duration": 432467,
    "start_time": "2022-12-22T09:03:14.385Z"
   },
   {
    "duration": 13,
    "start_time": "2022-12-22T09:10:26.856Z"
   },
   {
    "duration": 11,
    "start_time": "2022-12-22T09:10:26.871Z"
   },
   {
    "duration": 5,
    "start_time": "2022-12-22T09:10:26.884Z"
   },
   {
    "duration": 10,
    "start_time": "2022-12-22T09:10:26.905Z"
   },
   {
    "duration": 582,
    "start_time": "2022-12-22T09:10:26.917Z"
   },
   {
    "duration": 1917,
    "start_time": "2022-12-22T09:17:54.259Z"
   },
   {
    "duration": 34,
    "start_time": "2022-12-22T09:17:56.178Z"
   },
   {
    "duration": 14,
    "start_time": "2022-12-22T09:17:56.214Z"
   },
   {
    "duration": 14,
    "start_time": "2022-12-22T09:17:56.231Z"
   },
   {
    "duration": 10,
    "start_time": "2022-12-22T09:17:56.247Z"
   },
   {
    "duration": 12,
    "start_time": "2022-12-22T09:17:56.259Z"
   },
   {
    "duration": 7,
    "start_time": "2022-12-22T09:17:56.273Z"
   },
   {
    "duration": 11,
    "start_time": "2022-12-22T09:17:56.282Z"
   },
   {
    "duration": 25,
    "start_time": "2022-12-22T09:17:56.295Z"
   },
   {
    "duration": 1009,
    "start_time": "2022-12-22T09:17:56.323Z"
   },
   {
    "duration": 8,
    "start_time": "2022-12-22T09:17:57.334Z"
   },
   {
    "duration": 25,
    "start_time": "2022-12-22T09:17:57.345Z"
   },
   {
    "duration": 15,
    "start_time": "2022-12-22T09:17:57.373Z"
   },
   {
    "duration": 24,
    "start_time": "2022-12-22T09:17:57.390Z"
   },
   {
    "duration": 22,
    "start_time": "2022-12-22T09:17:57.416Z"
   },
   {
    "duration": 15,
    "start_time": "2022-12-22T09:17:57.440Z"
   },
   {
    "duration": 10,
    "start_time": "2022-12-22T09:17:57.457Z"
   },
   {
    "duration": 237,
    "start_time": "2022-12-22T09:17:57.469Z"
   },
   {
    "duration": 7,
    "start_time": "2022-12-22T09:17:57.707Z"
   },
   {
    "duration": 18,
    "start_time": "2022-12-22T09:17:57.720Z"
   },
   {
    "duration": 11,
    "start_time": "2022-12-22T09:17:57.739Z"
   },
   {
    "duration": 8,
    "start_time": "2022-12-22T09:17:57.752Z"
   },
   {
    "duration": 13,
    "start_time": "2022-12-22T09:17:57.761Z"
   },
   {
    "duration": 22,
    "start_time": "2022-12-22T09:17:57.776Z"
   },
   {
    "duration": 21,
    "start_time": "2022-12-22T09:17:57.799Z"
   },
   {
    "duration": 6,
    "start_time": "2022-12-22T09:17:57.822Z"
   },
   {
    "duration": 8,
    "start_time": "2022-12-22T09:17:57.829Z"
   },
   {
    "duration": 7,
    "start_time": "2022-12-22T09:17:57.840Z"
   },
   {
    "duration": 46280,
    "start_time": "2022-12-22T09:17:57.849Z"
   },
   {
    "duration": 244,
    "start_time": "2022-12-22T09:18:44.131Z"
   },
   {
    "duration": 5,
    "start_time": "2022-12-22T09:18:44.377Z"
   },
   {
    "duration": 21,
    "start_time": "2022-12-22T09:18:44.384Z"
   },
   {
    "duration": 1033,
    "start_time": "2022-12-22T09:18:44.411Z"
   },
   {
    "duration": 6,
    "start_time": "2022-12-22T09:18:45.446Z"
   },
   {
    "duration": 12,
    "start_time": "2022-12-22T09:18:45.453Z"
   },
   {
    "duration": 575,
    "start_time": "2022-12-22T09:18:45.467Z"
   },
   {
    "duration": 5,
    "start_time": "2022-12-22T09:18:46.044Z"
   },
   {
    "duration": 9,
    "start_time": "2022-12-22T09:18:46.051Z"
   },
   {
    "duration": 12,
    "start_time": "2022-12-22T09:18:46.062Z"
   },
   {
    "duration": 417136,
    "start_time": "2022-12-22T09:18:46.076Z"
   },
   {
    "duration": 13,
    "start_time": "2022-12-22T09:25:43.217Z"
   },
   {
    "duration": 9,
    "start_time": "2022-12-22T09:25:43.231Z"
   },
   {
    "duration": 6,
    "start_time": "2022-12-22T09:25:43.242Z"
   },
   {
    "duration": 14,
    "start_time": "2022-12-22T09:25:43.250Z"
   },
   {
    "duration": 536,
    "start_time": "2022-12-22T09:25:43.266Z"
   },
   {
    "duration": 1875,
    "start_time": "2022-12-22T09:29:23.117Z"
   },
   {
    "duration": 30,
    "start_time": "2022-12-22T09:29:24.994Z"
   },
   {
    "duration": 16,
    "start_time": "2022-12-22T09:29:25.026Z"
   },
   {
    "duration": 18,
    "start_time": "2022-12-22T09:29:25.043Z"
   },
   {
    "duration": 9,
    "start_time": "2022-12-22T09:29:25.063Z"
   },
   {
    "duration": 17,
    "start_time": "2022-12-22T09:29:25.073Z"
   },
   {
    "duration": 7,
    "start_time": "2022-12-22T09:29:25.091Z"
   },
   {
    "duration": 6,
    "start_time": "2022-12-22T09:29:25.099Z"
   },
   {
    "duration": 41,
    "start_time": "2022-12-22T09:29:25.107Z"
   },
   {
    "duration": 987,
    "start_time": "2022-12-22T09:29:25.150Z"
   },
   {
    "duration": 8,
    "start_time": "2022-12-22T09:29:26.139Z"
   },
   {
    "duration": 17,
    "start_time": "2022-12-22T09:29:26.149Z"
   },
   {
    "duration": 20,
    "start_time": "2022-12-22T09:29:26.173Z"
   },
   {
    "duration": 19,
    "start_time": "2022-12-22T09:29:26.197Z"
   },
   {
    "duration": 8,
    "start_time": "2022-12-22T09:29:26.218Z"
   },
   {
    "duration": 10,
    "start_time": "2022-12-22T09:29:26.228Z"
   },
   {
    "duration": 7,
    "start_time": "2022-12-22T09:29:26.240Z"
   },
   {
    "duration": 189,
    "start_time": "2022-12-22T09:29:26.249Z"
   },
   {
    "duration": 4,
    "start_time": "2022-12-22T09:29:26.440Z"
   },
   {
    "duration": 11,
    "start_time": "2022-12-22T09:29:26.445Z"
   },
   {
    "duration": 7,
    "start_time": "2022-12-22T09:29:26.458Z"
   },
   {
    "duration": 11,
    "start_time": "2022-12-22T09:29:26.466Z"
   },
   {
    "duration": 7,
    "start_time": "2022-12-22T09:29:26.478Z"
   },
   {
    "duration": 13,
    "start_time": "2022-12-22T09:29:26.505Z"
   },
   {
    "duration": 9,
    "start_time": "2022-12-22T09:29:26.520Z"
   },
   {
    "duration": 7,
    "start_time": "2022-12-22T09:29:26.530Z"
   },
   {
    "duration": 18,
    "start_time": "2022-12-22T09:29:26.539Z"
   },
   {
    "duration": 16,
    "start_time": "2022-12-22T09:29:26.559Z"
   },
   {
    "duration": 34630,
    "start_time": "2022-12-22T09:29:26.576Z"
   },
   {
    "duration": 229,
    "start_time": "2022-12-22T09:30:01.208Z"
   },
   {
    "duration": 5,
    "start_time": "2022-12-22T09:30:01.439Z"
   },
   {
    "duration": 63,
    "start_time": "2022-12-22T09:30:01.445Z"
   },
   {
    "duration": 1008,
    "start_time": "2022-12-22T09:30:01.510Z"
   },
   {
    "duration": 5,
    "start_time": "2022-12-22T09:30:02.519Z"
   },
   {
    "duration": 22,
    "start_time": "2022-12-22T09:30:02.525Z"
   },
   {
    "duration": 518,
    "start_time": "2022-12-22T09:30:02.549Z"
   },
   {
    "duration": 6,
    "start_time": "2022-12-22T09:30:03.068Z"
   },
   {
    "duration": 21,
    "start_time": "2022-12-22T09:30:03.075Z"
   },
   {
    "duration": 7,
    "start_time": "2022-12-22T09:30:03.098Z"
   },
   {
    "duration": 392212,
    "start_time": "2022-12-22T09:30:03.106Z"
   },
   {
    "duration": 13,
    "start_time": "2022-12-22T09:36:35.322Z"
   },
   {
    "duration": 8,
    "start_time": "2022-12-22T09:36:35.336Z"
   },
   {
    "duration": 6,
    "start_time": "2022-12-22T09:36:35.345Z"
   },
   {
    "duration": 11,
    "start_time": "2022-12-22T09:36:35.352Z"
   },
   {
    "duration": 552,
    "start_time": "2022-12-22T09:36:35.365Z"
   },
   {
    "duration": 3346,
    "start_time": "2022-12-24T12:42:34.271Z"
   },
   {
    "duration": 55,
    "start_time": "2022-12-24T12:42:37.619Z"
   },
   {
    "duration": 19,
    "start_time": "2022-12-24T12:42:37.676Z"
   },
   {
    "duration": 17,
    "start_time": "2022-12-24T12:42:37.698Z"
   },
   {
    "duration": 5,
    "start_time": "2022-12-24T12:42:37.717Z"
   },
   {
    "duration": 10,
    "start_time": "2022-12-24T12:42:37.724Z"
   },
   {
    "duration": 7,
    "start_time": "2022-12-24T12:42:37.737Z"
   },
   {
    "duration": 5,
    "start_time": "2022-12-24T12:42:37.750Z"
   },
   {
    "duration": 25,
    "start_time": "2022-12-24T12:42:37.757Z"
   },
   {
    "duration": 981,
    "start_time": "2022-12-24T12:42:37.786Z"
   },
   {
    "duration": 6,
    "start_time": "2022-12-24T12:42:38.769Z"
   },
   {
    "duration": 28,
    "start_time": "2022-12-24T12:42:38.777Z"
   },
   {
    "duration": 30,
    "start_time": "2022-12-24T12:42:38.807Z"
   },
   {
    "duration": 33,
    "start_time": "2022-12-24T12:42:38.839Z"
   },
   {
    "duration": 34,
    "start_time": "2022-12-24T12:42:38.874Z"
   },
   {
    "duration": 39,
    "start_time": "2022-12-24T12:42:38.910Z"
   },
   {
    "duration": 17,
    "start_time": "2022-12-24T12:42:38.951Z"
   },
   {
    "duration": 192,
    "start_time": "2022-12-24T12:42:38.970Z"
   },
   {
    "duration": 6,
    "start_time": "2022-12-24T12:42:39.164Z"
   },
   {
    "duration": 25,
    "start_time": "2022-12-24T12:42:39.172Z"
   },
   {
    "duration": 21,
    "start_time": "2022-12-24T12:42:39.199Z"
   },
   {
    "duration": 42,
    "start_time": "2022-12-24T12:42:39.222Z"
   },
   {
    "duration": 31,
    "start_time": "2022-12-24T12:42:39.266Z"
   },
   {
    "duration": 45,
    "start_time": "2022-12-24T12:42:39.300Z"
   },
   {
    "duration": 27,
    "start_time": "2022-12-24T12:42:39.348Z"
   },
   {
    "duration": 19,
    "start_time": "2022-12-24T12:42:39.378Z"
   },
   {
    "duration": 30,
    "start_time": "2022-12-24T12:42:39.400Z"
   },
   {
    "duration": 29,
    "start_time": "2022-12-24T12:42:39.435Z"
   },
   {
    "duration": 38895,
    "start_time": "2022-12-24T12:42:39.467Z"
   },
   {
    "duration": 252,
    "start_time": "2022-12-24T12:43:18.364Z"
   },
   {
    "duration": 7,
    "start_time": "2022-12-24T12:43:18.618Z"
   },
   {
    "duration": 28,
    "start_time": "2022-12-24T12:43:18.626Z"
   },
   {
    "duration": 1071,
    "start_time": "2022-12-24T12:43:18.655Z"
   },
   {
    "duration": 6,
    "start_time": "2022-12-24T12:43:19.728Z"
   },
   {
    "duration": 48,
    "start_time": "2022-12-24T12:43:19.736Z"
   },
   {
    "duration": 618,
    "start_time": "2022-12-24T12:43:19.786Z"
   },
   {
    "duration": 7,
    "start_time": "2022-12-24T12:43:20.406Z"
   },
   {
    "duration": 29,
    "start_time": "2022-12-24T12:43:20.415Z"
   },
   {
    "duration": 23,
    "start_time": "2022-12-24T12:43:20.446Z"
   },
   {
    "duration": 416431,
    "start_time": "2022-12-24T12:43:20.471Z"
   },
   {
    "duration": 13,
    "start_time": "2022-12-24T12:50:16.904Z"
   },
   {
    "duration": 9,
    "start_time": "2022-12-24T12:50:16.919Z"
   },
   {
    "duration": 6,
    "start_time": "2022-12-24T12:50:16.929Z"
   },
   {
    "duration": 5,
    "start_time": "2022-12-24T12:50:16.951Z"
   },
   {
    "duration": 548,
    "start_time": "2022-12-24T12:50:16.958Z"
   },
   {
    "duration": 68,
    "start_time": "2022-12-24T13:48:14.458Z"
   },
   {
    "duration": 3921,
    "start_time": "2022-12-24T13:48:17.841Z"
   },
   {
    "duration": 89,
    "start_time": "2022-12-24T13:48:21.765Z"
   },
   {
    "duration": 17,
    "start_time": "2022-12-24T13:48:21.858Z"
   },
   {
    "duration": 79,
    "start_time": "2022-12-24T13:48:21.878Z"
   },
   {
    "duration": 35,
    "start_time": "2022-12-24T13:48:21.959Z"
   },
   {
    "duration": 42,
    "start_time": "2022-12-24T13:48:21.997Z"
   },
   {
    "duration": 29,
    "start_time": "2022-12-24T13:48:22.042Z"
   },
   {
    "duration": 16,
    "start_time": "2022-12-24T13:48:22.073Z"
   },
   {
    "duration": 82,
    "start_time": "2022-12-24T13:48:22.092Z"
   },
   {
    "duration": 1126,
    "start_time": "2022-12-24T13:48:22.177Z"
   },
   {
    "duration": 14,
    "start_time": "2022-12-24T13:48:23.305Z"
   },
   {
    "duration": 54,
    "start_time": "2022-12-24T13:48:23.327Z"
   },
   {
    "duration": 70,
    "start_time": "2022-12-24T13:48:23.384Z"
   },
   {
    "duration": 62,
    "start_time": "2022-12-24T13:48:23.456Z"
   },
   {
    "duration": 79,
    "start_time": "2022-12-24T13:48:23.521Z"
   },
   {
    "duration": 67,
    "start_time": "2022-12-24T13:48:23.602Z"
   },
   {
    "duration": 56,
    "start_time": "2022-12-24T13:48:23.672Z"
   },
   {
    "duration": 257,
    "start_time": "2022-12-24T13:48:23.730Z"
   },
   {
    "duration": 5,
    "start_time": "2022-12-24T13:48:23.989Z"
   },
   {
    "duration": 103,
    "start_time": "2022-12-24T13:48:23.996Z"
   },
   {
    "duration": 48,
    "start_time": "2022-12-24T13:48:24.102Z"
   },
   {
    "duration": 52,
    "start_time": "2022-12-24T13:48:24.153Z"
   },
   {
    "duration": 43,
    "start_time": "2022-12-24T13:48:24.207Z"
   },
   {
    "duration": 29,
    "start_time": "2022-12-24T13:48:24.252Z"
   },
   {
    "duration": 13,
    "start_time": "2022-12-24T13:48:24.283Z"
   },
   {
    "duration": 20,
    "start_time": "2022-12-24T13:48:24.298Z"
   },
   {
    "duration": 31,
    "start_time": "2022-12-24T13:48:24.320Z"
   },
   {
    "duration": 17,
    "start_time": "2022-12-24T13:48:24.357Z"
   },
   {
    "duration": 88679,
    "start_time": "2022-12-24T13:48:24.376Z"
   },
   {
    "duration": 269,
    "start_time": "2022-12-24T13:49:53.057Z"
   },
   {
    "duration": 8,
    "start_time": "2022-12-24T13:49:53.328Z"
   },
   {
    "duration": 21,
    "start_time": "2022-12-24T13:49:53.339Z"
   },
   {
    "duration": 1072,
    "start_time": "2022-12-24T13:49:53.362Z"
   },
   {
    "duration": 6,
    "start_time": "2022-12-24T13:49:54.438Z"
   },
   {
    "duration": 19,
    "start_time": "2022-12-24T13:49:54.445Z"
   },
   {
    "duration": 622,
    "start_time": "2022-12-24T13:49:54.467Z"
   },
   {
    "duration": 7,
    "start_time": "2022-12-24T13:49:55.091Z"
   },
   {
    "duration": 48,
    "start_time": "2022-12-24T13:49:55.100Z"
   },
   {
    "duration": 24,
    "start_time": "2022-12-24T13:49:55.150Z"
   },
   {
    "duration": 3049,
    "start_time": "2022-12-24T14:00:25.677Z"
   },
   {
    "duration": 41,
    "start_time": "2022-12-24T14:00:28.728Z"
   },
   {
    "duration": 19,
    "start_time": "2022-12-24T14:00:28.772Z"
   },
   {
    "duration": 20,
    "start_time": "2022-12-24T14:00:28.794Z"
   },
   {
    "duration": 52,
    "start_time": "2022-12-24T14:00:28.820Z"
   },
   {
    "duration": 7,
    "start_time": "2022-12-24T14:00:28.874Z"
   },
   {
    "duration": 8,
    "start_time": "2022-12-24T14:00:28.883Z"
   },
   {
    "duration": 4,
    "start_time": "2022-12-24T14:00:28.893Z"
   },
   {
    "duration": 49,
    "start_time": "2022-12-24T14:00:28.899Z"
   },
   {
    "duration": 1315,
    "start_time": "2022-12-24T14:00:28.952Z"
   },
   {
    "duration": 7,
    "start_time": "2022-12-24T14:00:30.269Z"
   },
   {
    "duration": 19,
    "start_time": "2022-12-24T14:00:30.278Z"
   },
   {
    "duration": 9,
    "start_time": "2022-12-24T14:00:30.298Z"
   },
   {
    "duration": 54,
    "start_time": "2022-12-24T14:00:30.318Z"
   },
   {
    "duration": 26,
    "start_time": "2022-12-24T14:00:30.374Z"
   },
   {
    "duration": 58,
    "start_time": "2022-12-24T14:00:30.402Z"
   },
   {
    "duration": 17,
    "start_time": "2022-12-24T14:00:30.462Z"
   },
   {
    "duration": 261,
    "start_time": "2022-12-24T14:00:30.481Z"
   },
   {
    "duration": 5,
    "start_time": "2022-12-24T14:00:30.744Z"
   },
   {
    "duration": 35,
    "start_time": "2022-12-24T14:00:30.751Z"
   },
   {
    "duration": 19,
    "start_time": "2022-12-24T14:00:30.789Z"
   },
   {
    "duration": 160,
    "start_time": "2022-12-24T14:00:30.810Z"
   },
   {
    "duration": 97,
    "start_time": "2022-12-24T14:00:30.972Z"
   },
   {
    "duration": 87,
    "start_time": "2022-12-24T14:00:31.071Z"
   },
   {
    "duration": 15,
    "start_time": "2022-12-24T14:00:31.161Z"
   },
   {
    "duration": 18,
    "start_time": "2022-12-24T14:00:31.178Z"
   },
   {
    "duration": 21,
    "start_time": "2022-12-24T14:00:31.198Z"
   },
   {
    "duration": 69,
    "start_time": "2022-12-24T14:00:31.224Z"
   },
   {
    "duration": 100924,
    "start_time": "2022-12-24T14:00:31.295Z"
   },
   {
    "duration": 224,
    "start_time": "2022-12-24T14:02:12.231Z"
   },
   {
    "duration": 8,
    "start_time": "2022-12-24T14:02:12.457Z"
   },
   {
    "duration": 20,
    "start_time": "2022-12-24T14:02:12.467Z"
   },
   {
    "duration": 1119,
    "start_time": "2022-12-24T14:02:12.489Z"
   },
   {
    "duration": 11,
    "start_time": "2022-12-24T14:02:13.610Z"
   },
   {
    "duration": 48,
    "start_time": "2022-12-24T14:02:13.623Z"
   },
   {
    "duration": 763,
    "start_time": "2022-12-24T14:02:13.673Z"
   },
   {
    "duration": 10,
    "start_time": "2022-12-24T14:02:14.448Z"
   },
   {
    "duration": 5,
    "start_time": "2022-12-24T14:02:14.463Z"
   },
   {
    "duration": 91,
    "start_time": "2022-12-24T14:02:14.472Z"
   },
   {
    "duration": 677483,
    "start_time": "2022-12-24T14:02:14.565Z"
   },
   {
    "duration": 20,
    "start_time": "2022-12-24T14:13:32.050Z"
   },
   {
    "duration": 9,
    "start_time": "2022-12-24T14:13:32.072Z"
   },
   {
    "duration": 7,
    "start_time": "2022-12-24T14:13:32.083Z"
   },
   {
    "duration": 27,
    "start_time": "2022-12-24T14:13:32.092Z"
   },
   {
    "duration": 621,
    "start_time": "2022-12-24T14:13:32.122Z"
   },
   {
    "duration": 6,
    "start_time": "2022-12-24T14:13:32.746Z"
   },
   {
    "duration": 4276,
    "start_time": "2022-12-25T11:10:16.628Z"
   },
   {
    "duration": 72,
    "start_time": "2022-12-25T11:10:20.907Z"
   },
   {
    "duration": 97,
    "start_time": "2022-12-25T11:10:20.981Z"
   },
   {
    "duration": 2654,
    "start_time": "2023-01-23T11:03:15.599Z"
   },
   {
    "duration": 86,
    "start_time": "2023-01-23T11:03:18.255Z"
   },
   {
    "duration": 14,
    "start_time": "2023-01-23T11:03:18.343Z"
   },
   {
    "duration": 15,
    "start_time": "2023-01-23T11:03:18.359Z"
   },
   {
    "duration": 10,
    "start_time": "2023-01-23T11:03:18.375Z"
   },
   {
    "duration": 13,
    "start_time": "2023-01-23T11:03:18.386Z"
   },
   {
    "duration": 7,
    "start_time": "2023-01-23T11:03:18.401Z"
   },
   {
    "duration": 5,
    "start_time": "2023-01-23T11:03:18.409Z"
   },
   {
    "duration": 31,
    "start_time": "2023-01-23T11:03:18.416Z"
   },
   {
    "duration": 962,
    "start_time": "2023-01-23T11:03:18.450Z"
   },
   {
    "duration": 5,
    "start_time": "2023-01-23T11:03:19.414Z"
   },
   {
    "duration": 14,
    "start_time": "2023-01-23T11:03:19.421Z"
   },
   {
    "duration": 10,
    "start_time": "2023-01-23T11:03:19.436Z"
   },
   {
    "duration": 11,
    "start_time": "2023-01-23T11:03:19.448Z"
   },
   {
    "duration": 6,
    "start_time": "2023-01-23T11:03:19.460Z"
   },
   {
    "duration": 14,
    "start_time": "2023-01-23T11:03:19.468Z"
   },
   {
    "duration": 5,
    "start_time": "2023-01-23T11:03:19.483Z"
   },
   {
    "duration": 174,
    "start_time": "2023-01-23T11:03:19.489Z"
   },
   {
    "duration": 4,
    "start_time": "2023-01-23T11:03:19.665Z"
   },
   {
    "duration": 8,
    "start_time": "2023-01-23T11:03:19.681Z"
   },
   {
    "duration": 13,
    "start_time": "2023-01-23T11:03:19.690Z"
   },
   {
    "duration": 17,
    "start_time": "2023-01-23T11:03:19.705Z"
   },
   {
    "duration": 7,
    "start_time": "2023-01-23T11:03:19.723Z"
   },
   {
    "duration": 18,
    "start_time": "2023-01-23T11:03:19.731Z"
   },
   {
    "duration": 6,
    "start_time": "2023-01-23T11:03:19.751Z"
   },
   {
    "duration": 8,
    "start_time": "2023-01-23T11:03:19.758Z"
   },
   {
    "duration": 13,
    "start_time": "2023-01-23T11:03:19.768Z"
   },
   {
    "duration": 8,
    "start_time": "2023-01-23T11:03:19.785Z"
   },
   {
    "duration": 35903,
    "start_time": "2023-01-23T11:03:19.795Z"
   },
   {
    "duration": 268,
    "start_time": "2023-01-23T11:03:55.700Z"
   },
   {
    "duration": 12,
    "start_time": "2023-01-23T11:03:55.970Z"
   },
   {
    "duration": 5,
    "start_time": "2023-01-23T11:03:55.984Z"
   },
   {
    "duration": 990,
    "start_time": "2023-01-23T11:03:55.991Z"
   },
   {
    "duration": 4,
    "start_time": "2023-01-23T11:03:56.984Z"
   },
   {
    "duration": 11,
    "start_time": "2023-01-23T11:03:56.990Z"
   },
   {
    "duration": 501,
    "start_time": "2023-01-23T11:03:57.006Z"
   },
   {
    "duration": 5,
    "start_time": "2023-01-23T11:03:57.509Z"
   },
   {
    "duration": 8,
    "start_time": "2023-01-23T11:03:57.515Z"
   },
   {
    "duration": 6,
    "start_time": "2023-01-23T11:03:57.524Z"
   },
   {
    "duration": 273918,
    "start_time": "2023-01-23T11:03:57.531Z"
   },
   {
    "duration": 0,
    "start_time": "2023-01-23T11:08:31.451Z"
   },
   {
    "duration": 0,
    "start_time": "2023-01-23T11:08:31.452Z"
   },
   {
    "duration": 0,
    "start_time": "2023-01-23T11:08:31.453Z"
   },
   {
    "duration": 0,
    "start_time": "2023-01-23T11:08:31.454Z"
   },
   {
    "duration": 0,
    "start_time": "2023-01-23T11:08:31.455Z"
   },
   {
    "duration": 0,
    "start_time": "2023-01-23T11:08:31.456Z"
   },
   {
    "duration": 1971,
    "start_time": "2023-01-23T11:08:35.853Z"
   },
   {
    "duration": 29,
    "start_time": "2023-01-23T11:08:37.826Z"
   },
   {
    "duration": 14,
    "start_time": "2023-01-23T11:08:37.857Z"
   },
   {
    "duration": 11,
    "start_time": "2023-01-23T11:08:37.873Z"
   },
   {
    "duration": 10,
    "start_time": "2023-01-23T11:08:37.887Z"
   },
   {
    "duration": 7,
    "start_time": "2023-01-23T11:08:37.899Z"
   },
   {
    "duration": 7,
    "start_time": "2023-01-23T11:08:37.907Z"
   },
   {
    "duration": 6,
    "start_time": "2023-01-23T11:08:37.915Z"
   },
   {
    "duration": 25,
    "start_time": "2023-01-23T11:08:37.922Z"
   },
   {
    "duration": 945,
    "start_time": "2023-01-23T11:08:37.949Z"
   },
   {
    "duration": 6,
    "start_time": "2023-01-23T11:08:38.896Z"
   },
   {
    "duration": 9,
    "start_time": "2023-01-23T11:08:38.903Z"
   },
   {
    "duration": 7,
    "start_time": "2023-01-23T11:08:38.913Z"
   },
   {
    "duration": 17,
    "start_time": "2023-01-23T11:08:38.923Z"
   },
   {
    "duration": 9,
    "start_time": "2023-01-23T11:08:38.941Z"
   },
   {
    "duration": 31,
    "start_time": "2023-01-23T11:08:38.952Z"
   },
   {
    "duration": 13,
    "start_time": "2023-01-23T11:08:38.985Z"
   },
   {
    "duration": 175,
    "start_time": "2023-01-23T11:08:39.000Z"
   },
   {
    "duration": 5,
    "start_time": "2023-01-23T11:08:39.176Z"
   },
   {
    "duration": 10,
    "start_time": "2023-01-23T11:08:39.183Z"
   },
   {
    "duration": 6,
    "start_time": "2023-01-23T11:08:39.194Z"
   },
   {
    "duration": 12,
    "start_time": "2023-01-23T11:08:39.202Z"
   },
   {
    "duration": 6,
    "start_time": "2023-01-23T11:08:39.216Z"
   },
   {
    "duration": 17,
    "start_time": "2023-01-23T11:08:39.224Z"
   },
   {
    "duration": 7,
    "start_time": "2023-01-23T11:08:39.243Z"
   },
   {
    "duration": 5,
    "start_time": "2023-01-23T11:08:39.251Z"
   },
   {
    "duration": 26,
    "start_time": "2023-01-23T11:08:39.257Z"
   },
   {
    "duration": 8,
    "start_time": "2023-01-23T11:08:39.285Z"
   },
   {
    "duration": 36586,
    "start_time": "2023-01-23T11:08:39.295Z"
   },
   {
    "duration": 188,
    "start_time": "2023-01-23T11:09:15.883Z"
   },
   {
    "duration": 10,
    "start_time": "2023-01-23T11:09:16.073Z"
   },
   {
    "duration": 11,
    "start_time": "2023-01-23T11:09:16.084Z"
   },
   {
    "duration": 1059,
    "start_time": "2023-01-23T11:09:16.096Z"
   },
   {
    "duration": 5,
    "start_time": "2023-01-23T11:09:17.157Z"
   },
   {
    "duration": 18,
    "start_time": "2023-01-23T11:09:17.163Z"
   },
   {
    "duration": 556,
    "start_time": "2023-01-23T11:09:17.182Z"
   },
   {
    "duration": 6,
    "start_time": "2023-01-23T11:09:17.739Z"
   },
   {
    "duration": 7,
    "start_time": "2023-01-23T11:09:17.747Z"
   },
   {
    "duration": 5,
    "start_time": "2023-01-23T11:09:17.756Z"
   },
   {
    "duration": 402770,
    "start_time": "2023-01-23T11:09:17.763Z"
   },
   {
    "duration": 13,
    "start_time": "2023-01-23T11:16:00.537Z"
   },
   {
    "duration": 24,
    "start_time": "2023-01-23T11:16:00.551Z"
   },
   {
    "duration": 14,
    "start_time": "2023-01-23T11:16:00.577Z"
   },
   {
    "duration": 21,
    "start_time": "2023-01-23T11:16:00.593Z"
   },
   {
    "duration": 505,
    "start_time": "2023-01-23T11:16:00.616Z"
   },
   {
    "duration": 5,
    "start_time": "2023-01-23T11:16:01.123Z"
   },
   {
    "duration": 1789,
    "start_time": "2023-01-23T11:16:50.017Z"
   },
   {
    "duration": 29,
    "start_time": "2023-01-23T11:16:51.808Z"
   },
   {
    "duration": 15,
    "start_time": "2023-01-23T11:16:51.839Z"
   },
   {
    "duration": 12,
    "start_time": "2023-01-23T11:16:51.855Z"
   },
   {
    "duration": 8,
    "start_time": "2023-01-23T11:16:51.869Z"
   },
   {
    "duration": 10,
    "start_time": "2023-01-23T11:16:51.879Z"
   },
   {
    "duration": 9,
    "start_time": "2023-01-23T11:16:51.891Z"
   },
   {
    "duration": 7,
    "start_time": "2023-01-23T11:16:51.902Z"
   },
   {
    "duration": 25,
    "start_time": "2023-01-23T11:16:51.910Z"
   },
   {
    "duration": 847,
    "start_time": "2023-01-23T11:16:51.937Z"
   },
   {
    "duration": 6,
    "start_time": "2023-01-23T11:16:52.786Z"
   },
   {
    "duration": 6,
    "start_time": "2023-01-23T11:16:52.794Z"
   },
   {
    "duration": 9,
    "start_time": "2023-01-23T11:16:52.802Z"
   },
   {
    "duration": 11,
    "start_time": "2023-01-23T11:16:52.814Z"
   },
   {
    "duration": 7,
    "start_time": "2023-01-23T11:16:52.826Z"
   },
   {
    "duration": 8,
    "start_time": "2023-01-23T11:16:52.834Z"
   },
   {
    "duration": 6,
    "start_time": "2023-01-23T11:16:52.844Z"
   },
   {
    "duration": 181,
    "start_time": "2023-01-23T11:16:52.852Z"
   },
   {
    "duration": 4,
    "start_time": "2023-01-23T11:16:53.035Z"
   },
   {
    "duration": 10,
    "start_time": "2023-01-23T11:16:53.040Z"
   },
   {
    "duration": 6,
    "start_time": "2023-01-23T11:16:53.051Z"
   },
   {
    "duration": 22,
    "start_time": "2023-01-23T11:16:53.059Z"
   },
   {
    "duration": 6,
    "start_time": "2023-01-23T11:16:53.083Z"
   },
   {
    "duration": 13,
    "start_time": "2023-01-23T11:16:53.091Z"
   },
   {
    "duration": 9,
    "start_time": "2023-01-23T11:16:53.106Z"
   },
   {
    "duration": 4,
    "start_time": "2023-01-23T11:16:53.117Z"
   },
   {
    "duration": 7,
    "start_time": "2023-01-23T11:16:53.122Z"
   },
   {
    "duration": 11,
    "start_time": "2023-01-23T11:16:53.130Z"
   },
   {
    "duration": 36858,
    "start_time": "2023-01-23T11:16:53.142Z"
   },
   {
    "duration": 261,
    "start_time": "2023-01-23T11:17:30.002Z"
   },
   {
    "duration": 5,
    "start_time": "2023-01-23T11:17:30.265Z"
   },
   {
    "duration": 9,
    "start_time": "2023-01-23T11:17:30.281Z"
   },
   {
    "duration": 957,
    "start_time": "2023-01-23T11:17:30.292Z"
   },
   {
    "duration": 4,
    "start_time": "2023-01-23T11:17:31.251Z"
   },
   {
    "duration": 21,
    "start_time": "2023-01-23T11:17:31.257Z"
   },
   {
    "duration": 539,
    "start_time": "2023-01-23T11:17:31.279Z"
   },
   {
    "duration": 6,
    "start_time": "2023-01-23T11:17:31.820Z"
   },
   {
    "duration": 53,
    "start_time": "2023-01-23T11:17:31.827Z"
   },
   {
    "duration": 33,
    "start_time": "2023-01-23T11:17:31.882Z"
   },
   {
    "duration": 1842,
    "start_time": "2023-01-23T11:18:08.376Z"
   },
   {
    "duration": 29,
    "start_time": "2023-01-23T11:18:10.221Z"
   },
   {
    "duration": 16,
    "start_time": "2023-01-23T11:18:10.252Z"
   },
   {
    "duration": 37,
    "start_time": "2023-01-23T11:18:10.270Z"
   },
   {
    "duration": 15,
    "start_time": "2023-01-23T11:18:10.310Z"
   },
   {
    "duration": 27,
    "start_time": "2023-01-23T11:18:10.326Z"
   },
   {
    "duration": 25,
    "start_time": "2023-01-23T11:18:10.355Z"
   },
   {
    "duration": 34,
    "start_time": "2023-01-23T11:18:10.382Z"
   },
   {
    "duration": 55,
    "start_time": "2023-01-23T11:18:10.418Z"
   },
   {
    "duration": 934,
    "start_time": "2023-01-23T11:18:10.475Z"
   },
   {
    "duration": 8,
    "start_time": "2023-01-23T11:18:11.410Z"
   },
   {
    "duration": 28,
    "start_time": "2023-01-23T11:18:11.419Z"
   },
   {
    "duration": 38,
    "start_time": "2023-01-23T11:18:11.449Z"
   },
   {
    "duration": 30,
    "start_time": "2023-01-23T11:18:11.491Z"
   },
   {
    "duration": 21,
    "start_time": "2023-01-23T11:18:11.523Z"
   },
   {
    "duration": 40,
    "start_time": "2023-01-23T11:18:11.546Z"
   },
   {
    "duration": 29,
    "start_time": "2023-01-23T11:18:11.588Z"
   },
   {
    "duration": 176,
    "start_time": "2023-01-23T11:18:11.619Z"
   },
   {
    "duration": 4,
    "start_time": "2023-01-23T11:18:11.796Z"
   },
   {
    "duration": 33,
    "start_time": "2023-01-23T11:18:11.802Z"
   },
   {
    "duration": 32,
    "start_time": "2023-01-23T11:18:11.837Z"
   },
   {
    "duration": 38,
    "start_time": "2023-01-23T11:18:11.870Z"
   },
   {
    "duration": 32,
    "start_time": "2023-01-23T11:18:11.910Z"
   },
   {
    "duration": 34,
    "start_time": "2023-01-23T11:18:11.944Z"
   },
   {
    "duration": 31,
    "start_time": "2023-01-23T11:18:11.979Z"
   },
   {
    "duration": 33,
    "start_time": "2023-01-23T11:18:12.012Z"
   },
   {
    "duration": 29,
    "start_time": "2023-01-23T11:18:12.047Z"
   },
   {
    "duration": 35,
    "start_time": "2023-01-23T11:18:12.078Z"
   },
   {
    "duration": 37884,
    "start_time": "2023-01-23T11:18:12.115Z"
   },
   {
    "duration": 305,
    "start_time": "2023-01-23T11:18:50.082Z"
   },
   {
    "duration": 4,
    "start_time": "2023-01-23T11:18:50.389Z"
   },
   {
    "duration": 9,
    "start_time": "2023-01-23T11:18:50.395Z"
   },
   {
    "duration": 936,
    "start_time": "2023-01-23T11:18:50.406Z"
   },
   {
    "duration": 5,
    "start_time": "2023-01-23T11:18:51.344Z"
   },
   {
    "duration": 9,
    "start_time": "2023-01-23T11:18:51.350Z"
   },
   {
    "duration": 514,
    "start_time": "2023-01-23T11:18:51.360Z"
   },
   {
    "duration": 7,
    "start_time": "2023-01-23T11:18:51.876Z"
   },
   {
    "duration": 12,
    "start_time": "2023-01-23T11:18:51.884Z"
   },
   {
    "duration": 11,
    "start_time": "2023-01-23T11:18:51.898Z"
   },
   {
    "duration": 1933,
    "start_time": "2023-01-23T11:19:29.999Z"
   },
   {
    "duration": 30,
    "start_time": "2023-01-23T11:19:31.934Z"
   },
   {
    "duration": 13,
    "start_time": "2023-01-23T11:19:31.966Z"
   },
   {
    "duration": 31,
    "start_time": "2023-01-23T11:19:31.981Z"
   },
   {
    "duration": 9,
    "start_time": "2023-01-23T11:19:32.014Z"
   },
   {
    "duration": 33,
    "start_time": "2023-01-23T11:19:32.024Z"
   },
   {
    "duration": 7,
    "start_time": "2023-01-23T11:19:32.058Z"
   },
   {
    "duration": 8,
    "start_time": "2023-01-23T11:19:32.066Z"
   },
   {
    "duration": 26,
    "start_time": "2023-01-23T11:19:32.075Z"
   },
   {
    "duration": 908,
    "start_time": "2023-01-23T11:19:32.103Z"
   },
   {
    "duration": 5,
    "start_time": "2023-01-23T11:19:33.013Z"
   },
   {
    "duration": 13,
    "start_time": "2023-01-23T11:19:33.020Z"
   },
   {
    "duration": 5,
    "start_time": "2023-01-23T11:19:33.035Z"
   },
   {
    "duration": 15,
    "start_time": "2023-01-23T11:19:33.043Z"
   },
   {
    "duration": 9,
    "start_time": "2023-01-23T11:19:33.060Z"
   },
   {
    "duration": 18,
    "start_time": "2023-01-23T11:19:33.071Z"
   },
   {
    "duration": 18,
    "start_time": "2023-01-23T11:19:33.091Z"
   },
   {
    "duration": 170,
    "start_time": "2023-01-23T11:19:33.111Z"
   },
   {
    "duration": 4,
    "start_time": "2023-01-23T11:19:33.282Z"
   },
   {
    "duration": 12,
    "start_time": "2023-01-23T11:19:33.287Z"
   },
   {
    "duration": 24,
    "start_time": "2023-01-23T11:19:33.301Z"
   },
   {
    "duration": 16,
    "start_time": "2023-01-23T11:19:33.327Z"
   },
   {
    "duration": 8,
    "start_time": "2023-01-23T11:19:33.344Z"
   },
   {
    "duration": 16,
    "start_time": "2023-01-23T11:19:33.354Z"
   },
   {
    "duration": 22,
    "start_time": "2023-01-23T11:19:33.371Z"
   },
   {
    "duration": 12,
    "start_time": "2023-01-23T11:19:33.395Z"
   },
   {
    "duration": 7,
    "start_time": "2023-01-23T11:19:33.408Z"
   },
   {
    "duration": 15,
    "start_time": "2023-01-23T11:19:33.416Z"
   },
   {
    "duration": 36361,
    "start_time": "2023-01-23T11:19:33.433Z"
   },
   {
    "duration": 245,
    "start_time": "2023-01-23T11:20:09.796Z"
   },
   {
    "duration": 9,
    "start_time": "2023-01-23T11:20:10.043Z"
   },
   {
    "duration": 24,
    "start_time": "2023-01-23T11:20:10.054Z"
   },
   {
    "duration": 934,
    "start_time": "2023-01-23T11:20:10.080Z"
   },
   {
    "duration": 6,
    "start_time": "2023-01-23T11:20:11.015Z"
   },
   {
    "duration": 9,
    "start_time": "2023-01-23T11:20:11.022Z"
   },
   {
    "duration": 530,
    "start_time": "2023-01-23T11:20:11.033Z"
   },
   {
    "duration": 7,
    "start_time": "2023-01-23T11:20:11.564Z"
   },
   {
    "duration": 7,
    "start_time": "2023-01-23T11:20:11.581Z"
   },
   {
    "duration": 6,
    "start_time": "2023-01-23T11:20:11.590Z"
   },
   {
    "duration": 440447,
    "start_time": "2023-01-23T11:20:11.598Z"
   },
   {
    "duration": 14,
    "start_time": "2023-01-23T11:27:32.049Z"
   },
   {
    "duration": 24,
    "start_time": "2023-01-23T11:27:32.064Z"
   },
   {
    "duration": 27,
    "start_time": "2023-01-23T11:27:32.089Z"
   },
   {
    "duration": 45,
    "start_time": "2023-01-23T11:27:32.118Z"
   },
   {
    "duration": 552,
    "start_time": "2023-01-23T11:27:32.165Z"
   },
   {
    "duration": 6,
    "start_time": "2023-01-23T11:27:32.719Z"
   }
  ],
  "kernelspec": {
   "display_name": "Python 3 (ipykernel)",
   "language": "python",
   "name": "python3"
  },
  "language_info": {
   "codemirror_mode": {
    "name": "ipython",
    "version": 3
   },
   "file_extension": ".py",
   "mimetype": "text/x-python",
   "name": "python",
   "nbconvert_exporter": "python",
   "pygments_lexer": "ipython3",
   "version": "3.9.5"
  },
  "toc": {
   "base_numbering": 1,
   "nav_menu": {},
   "number_sections": true,
   "sideBar": true,
   "skip_h1_title": true,
   "title_cell": "Содержание",
   "title_sidebar": "Contents",
   "toc_cell": true,
   "toc_position": {
    "height": "calc(100% - 180px)",
    "left": "10px",
    "top": "150px",
    "width": "165px"
   },
   "toc_section_display": true,
   "toc_window_display": true
  },
  "varInspector": {
   "cols": {
    "lenName": 16,
    "lenType": 16,
    "lenVar": 40
   },
   "kernels_config": {
    "python": {
     "delete_cmd_postfix": "",
     "delete_cmd_prefix": "del ",
     "library": "var_list.py",
     "varRefreshCmd": "print(var_dic_list())"
    },
    "r": {
     "delete_cmd_postfix": ") ",
     "delete_cmd_prefix": "rm(",
     "library": "var_list.r",
     "varRefreshCmd": "cat(var_dic_list()) "
    }
   },
   "types_to_exclude": [
    "module",
    "function",
    "builtin_function_or_method",
    "instance",
    "_Feature"
   ],
   "window_display": false
  }
 },
 "nbformat": 4,
 "nbformat_minor": 5
}
