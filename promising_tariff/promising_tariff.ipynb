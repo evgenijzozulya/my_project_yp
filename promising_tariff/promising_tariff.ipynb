{
 "cells": [
  {
   "cell_type": "markdown",
   "id": "5924aef5",
   "metadata": {
    "toc": true
   },
   "source": [
    "<h1>Содержание<span class=\"tocSkip\"></span></h1>\n",
    "<div class=\"toc\"><ul class=\"toc-item\"><li><span><a href=\"#Описание-проекта\" data-toc-modified-id=\"Описание-проекта-1\"><span class=\"toc-item-num\">1&nbsp;&nbsp;</span>Описание проекта</a></span></li><li><span><a href=\"#Обзор-данных\" data-toc-modified-id=\"Обзор-данных-2\"><span class=\"toc-item-num\">2&nbsp;&nbsp;</span>Обзор данных</a></span></li><li><span><a href=\"#Подготовка-данных\" data-toc-modified-id=\"Подготовка-данных-3\"><span class=\"toc-item-num\">3&nbsp;&nbsp;</span>Подготовка данных</a></span><ul class=\"toc-item\"><li><span><a href=\"#Замена-типов-данных\" data-toc-modified-id=\"Замена-типов-данных-3.1\"><span class=\"toc-item-num\">3.1&nbsp;&nbsp;</span>Замена типов данных</a></span></li><li><span><a href=\"#Поиск-и-справление-ошибок\" data-toc-modified-id=\"Поиск-и-справление-ошибок-3.2\"><span class=\"toc-item-num\">3.2&nbsp;&nbsp;</span>Поиск и справление ошибок</a></span></li><li><span><a href=\"#Расчет-данных\" data-toc-modified-id=\"Расчет-данных-3.3\"><span class=\"toc-item-num\">3.3&nbsp;&nbsp;</span>Расчет данных</a></span></li></ul></li><li><span><a href=\"#Анализ-данных\" data-toc-modified-id=\"Анализ-данных-4\"><span class=\"toc-item-num\">4&nbsp;&nbsp;</span>Анализ данных</a></span></li><li><span><a href=\"#Проверка-гипотиз\" data-toc-modified-id=\"Проверка-гипотиз-5\"><span class=\"toc-item-num\">5&nbsp;&nbsp;</span>Проверка гипотиз</a></span></li><li><span><a href=\"#Выводы\" data-toc-modified-id=\"Выводы-6\"><span class=\"toc-item-num\">6&nbsp;&nbsp;</span>Выводы</a></span></li></ul></div>"
   ]
  },
  {
   "cell_type": "markdown",
   "id": "8010f9c8",
   "metadata": {},
   "source": [
    "# Определение перспективного тарифа для телеком-компании"
   ]
  },
  {
   "cell_type": "markdown",
   "id": "16240b15",
   "metadata": {},
   "source": [
    "## Описание проекта"
   ]
  },
  {
   "cell_type": "markdown",
   "id": "8e640b05",
   "metadata": {},
   "source": [
    "**Заказчик исследования** \n",
    "\n",
    "Компании «Мегалайн» — федерального оператора сотовой связи. \n",
    "\n",
    "**Задача**\n",
    "\n",
    "Клиентам предлагают два тарифных плана: «Смарт» и «Ультра». Чтобы скорректировать рекламный бюджет, коммерческий департамент хочет понять, какой тариф приносит больше денег.\n",
    "\n",
    "**Данные**\n",
    "\n",
    "Данные о 500 пользователей «Мегалайна»: кто они, откуда, каким тарифом пользуются, сколько звонков и сообщений каждый отправил за 2018 год."
   ]
  },
  {
   "cell_type": "markdown",
   "id": "28000556",
   "metadata": {},
   "source": [
    "## Обзор данных"
   ]
  },
  {
   "cell_type": "code",
   "execution_count": 1,
   "id": "a9098c7f",
   "metadata": {},
   "outputs": [],
   "source": [
    "# импорт библиотек\n",
    "import pandas as pd \n",
    "import matplotlib.pyplot as plt \n",
    "import matplotlib.ticker as ticker\n",
    "import seaborn as sns\n",
    "import numpy as np\n",
    "from scipy import stats as st"
   ]
  },
  {
   "cell_type": "code",
   "execution_count": 2,
   "id": "9f9bbeef",
   "metadata": {},
   "outputs": [],
   "source": [
    "#сохраняем путь к файлу на сервере Практикума\n",
    "server_path_calls = '/datasets/calls.csv' \n",
    "server_path_internet = '/datasets/internet.csv'\n",
    "server_path_messages = '/datasets/messages.csv'\n",
    "server_path_tariffs = '/datasets/tariffs.csv'\n",
    "server_path_users = '/datasets/users.csv'\n",
    "\n",
    "#сохраняем путь к файлу на компьютере\n",
    "local_path_mkrf_movies = 'datasets/mkrf_movies.csv'   \n",
    "local_path_calls = 'datasets/calls.csv' \n",
    "local_path_internet = 'datasets/internet.csv'\n",
    "local_path_messages = 'datasets/messages.csv'\n",
    "local_path_tariffs = 'datasets/tariffs.csv'\n",
    "local_path_users = 'datasets/users.csv'\n",
    "\n",
    "\n",
    "try:                                                   #пробуем найти данные по сетевому адресу\n",
    "    calls = pd.read_csv(server_path_calls) \n",
    "    internet = pd.read_csv(server_path_internet)\n",
    "    messages = pd.read_csv(server_path_messages)\n",
    "    tariffs = pd.read_csv(server_path_tariffs)\n",
    "    users = pd.read_csv(server_path_users)\n",
    "except:                                                #если не находим по сетевому, ищем по локальному\n",
    "    calls = pd.read_csv(local_path_calls) \n",
    "    internet = pd.read_csv(local_path_internet)\n",
    "    messages = pd.read_csv(local_path_messages)\n",
    "    tariffs = pd.read_csv(local_path_tariffs)\n",
    "    users = pd.read_csv(local_path_users)   "
   ]
  },
  {
   "cell_type": "code",
   "execution_count": 3,
   "id": "25fc528e",
   "metadata": {},
   "outputs": [],
   "source": [
    "datesets = {              #словарь датасетов\n",
    "    'Пользователи': [users, 'churn_date', 'reg_date'],\n",
    "    'Звонки': [calls, 'call_date'],\n",
    "    'Трафик': [internet, 'session_date'],   \n",
    "    'Сообщения': [messages, 'message_date'], \n",
    "    'Тарифы': [tariffs]\n",
    "}"
   ]
  },
  {
   "cell_type": "code",
   "execution_count": 4,
   "id": "38ce773b",
   "metadata": {
    "scrolled": false
   },
   "outputs": [
    {
     "name": "stdout",
     "output_type": "stream",
     "text": [
      "Датасет: Пользователи\n"
     ]
    },
    {
     "data": {
      "text/html": [
       "<div>\n",
       "<style scoped>\n",
       "    .dataframe tbody tr th:only-of-type {\n",
       "        vertical-align: middle;\n",
       "    }\n",
       "\n",
       "    .dataframe tbody tr th {\n",
       "        vertical-align: top;\n",
       "    }\n",
       "\n",
       "    .dataframe thead th {\n",
       "        text-align: right;\n",
       "    }\n",
       "</style>\n",
       "<table border=\"1\" class=\"dataframe\">\n",
       "  <thead>\n",
       "    <tr style=\"text-align: right;\">\n",
       "      <th></th>\n",
       "      <th>user_id</th>\n",
       "      <th>age</th>\n",
       "      <th>churn_date</th>\n",
       "      <th>city</th>\n",
       "      <th>first_name</th>\n",
       "      <th>last_name</th>\n",
       "      <th>reg_date</th>\n",
       "      <th>tariff</th>\n",
       "    </tr>\n",
       "  </thead>\n",
       "  <tbody>\n",
       "    <tr>\n",
       "      <th>0</th>\n",
       "      <td>1000</td>\n",
       "      <td>52</td>\n",
       "      <td>NaN</td>\n",
       "      <td>Краснодар</td>\n",
       "      <td>Рафаил</td>\n",
       "      <td>Верещагин</td>\n",
       "      <td>2018-05-25</td>\n",
       "      <td>ultra</td>\n",
       "    </tr>\n",
       "    <tr>\n",
       "      <th>1</th>\n",
       "      <td>1001</td>\n",
       "      <td>41</td>\n",
       "      <td>NaN</td>\n",
       "      <td>Москва</td>\n",
       "      <td>Иван</td>\n",
       "      <td>Ежов</td>\n",
       "      <td>2018-11-01</td>\n",
       "      <td>smart</td>\n",
       "    </tr>\n",
       "    <tr>\n",
       "      <th>2</th>\n",
       "      <td>1002</td>\n",
       "      <td>59</td>\n",
       "      <td>NaN</td>\n",
       "      <td>Стерлитамак</td>\n",
       "      <td>Евгений</td>\n",
       "      <td>Абрамович</td>\n",
       "      <td>2018-06-17</td>\n",
       "      <td>smart</td>\n",
       "    </tr>\n",
       "    <tr>\n",
       "      <th>3</th>\n",
       "      <td>1003</td>\n",
       "      <td>23</td>\n",
       "      <td>NaN</td>\n",
       "      <td>Москва</td>\n",
       "      <td>Белла</td>\n",
       "      <td>Белякова</td>\n",
       "      <td>2018-08-17</td>\n",
       "      <td>ultra</td>\n",
       "    </tr>\n",
       "    <tr>\n",
       "      <th>4</th>\n",
       "      <td>1004</td>\n",
       "      <td>68</td>\n",
       "      <td>NaN</td>\n",
       "      <td>Новокузнецк</td>\n",
       "      <td>Татьяна</td>\n",
       "      <td>Авдеенко</td>\n",
       "      <td>2018-05-14</td>\n",
       "      <td>ultra</td>\n",
       "    </tr>\n",
       "  </tbody>\n",
       "</table>\n",
       "</div>"
      ],
      "text/plain": [
       "   user_id  age churn_date         city first_name  last_name    reg_date  \\\n",
       "0     1000   52        NaN    Краснодар     Рафаил  Верещагин  2018-05-25   \n",
       "1     1001   41        NaN       Москва       Иван       Ежов  2018-11-01   \n",
       "2     1002   59        NaN  Стерлитамак    Евгений  Абрамович  2018-06-17   \n",
       "3     1003   23        NaN       Москва      Белла   Белякова  2018-08-17   \n",
       "4     1004   68        NaN  Новокузнецк    Татьяна   Авдеенко  2018-05-14   \n",
       "\n",
       "  tariff  \n",
       "0  ultra  \n",
       "1  smart  \n",
       "2  smart  \n",
       "3  ultra  \n",
       "4  ultra  "
      ]
     },
     "metadata": {},
     "output_type": "display_data"
    },
    {
     "name": "stdout",
     "output_type": "stream",
     "text": [
      "<class 'pandas.core.frame.DataFrame'>\n",
      "RangeIndex: 500 entries, 0 to 499\n",
      "Data columns (total 8 columns):\n",
      " #   Column      Non-Null Count  Dtype \n",
      "---  ------      --------------  ----- \n",
      " 0   user_id     500 non-null    int64 \n",
      " 1   age         500 non-null    int64 \n",
      " 2   churn_date  38 non-null     object\n",
      " 3   city        500 non-null    object\n",
      " 4   first_name  500 non-null    object\n",
      " 5   last_name   500 non-null    object\n",
      " 6   reg_date    500 non-null    object\n",
      " 7   tariff      500 non-null    object\n",
      "dtypes: int64(2), object(6)\n",
      "memory usage: 31.4+ KB\n",
      "\n",
      "Датасет: Звонки\n"
     ]
    },
    {
     "data": {
      "text/html": [
       "<div>\n",
       "<style scoped>\n",
       "    .dataframe tbody tr th:only-of-type {\n",
       "        vertical-align: middle;\n",
       "    }\n",
       "\n",
       "    .dataframe tbody tr th {\n",
       "        vertical-align: top;\n",
       "    }\n",
       "\n",
       "    .dataframe thead th {\n",
       "        text-align: right;\n",
       "    }\n",
       "</style>\n",
       "<table border=\"1\" class=\"dataframe\">\n",
       "  <thead>\n",
       "    <tr style=\"text-align: right;\">\n",
       "      <th></th>\n",
       "      <th>id</th>\n",
       "      <th>call_date</th>\n",
       "      <th>duration</th>\n",
       "      <th>user_id</th>\n",
       "    </tr>\n",
       "  </thead>\n",
       "  <tbody>\n",
       "    <tr>\n",
       "      <th>0</th>\n",
       "      <td>1000_0</td>\n",
       "      <td>2018-07-25</td>\n",
       "      <td>0.00</td>\n",
       "      <td>1000</td>\n",
       "    </tr>\n",
       "    <tr>\n",
       "      <th>1</th>\n",
       "      <td>1000_1</td>\n",
       "      <td>2018-08-17</td>\n",
       "      <td>0.00</td>\n",
       "      <td>1000</td>\n",
       "    </tr>\n",
       "    <tr>\n",
       "      <th>2</th>\n",
       "      <td>1000_2</td>\n",
       "      <td>2018-06-11</td>\n",
       "      <td>2.85</td>\n",
       "      <td>1000</td>\n",
       "    </tr>\n",
       "    <tr>\n",
       "      <th>3</th>\n",
       "      <td>1000_3</td>\n",
       "      <td>2018-09-21</td>\n",
       "      <td>13.80</td>\n",
       "      <td>1000</td>\n",
       "    </tr>\n",
       "    <tr>\n",
       "      <th>4</th>\n",
       "      <td>1000_4</td>\n",
       "      <td>2018-12-15</td>\n",
       "      <td>5.18</td>\n",
       "      <td>1000</td>\n",
       "    </tr>\n",
       "  </tbody>\n",
       "</table>\n",
       "</div>"
      ],
      "text/plain": [
       "       id   call_date  duration  user_id\n",
       "0  1000_0  2018-07-25      0.00     1000\n",
       "1  1000_1  2018-08-17      0.00     1000\n",
       "2  1000_2  2018-06-11      2.85     1000\n",
       "3  1000_3  2018-09-21     13.80     1000\n",
       "4  1000_4  2018-12-15      5.18     1000"
      ]
     },
     "metadata": {},
     "output_type": "display_data"
    },
    {
     "name": "stdout",
     "output_type": "stream",
     "text": [
      "<class 'pandas.core.frame.DataFrame'>\n",
      "RangeIndex: 202607 entries, 0 to 202606\n",
      "Data columns (total 4 columns):\n",
      " #   Column     Non-Null Count   Dtype  \n",
      "---  ------     --------------   -----  \n",
      " 0   id         202607 non-null  object \n",
      " 1   call_date  202607 non-null  object \n",
      " 2   duration   202607 non-null  float64\n",
      " 3   user_id    202607 non-null  int64  \n",
      "dtypes: float64(1), int64(1), object(2)\n",
      "memory usage: 6.2+ MB\n",
      "\n",
      "Датасет: Трафик\n"
     ]
    },
    {
     "data": {
      "text/html": [
       "<div>\n",
       "<style scoped>\n",
       "    .dataframe tbody tr th:only-of-type {\n",
       "        vertical-align: middle;\n",
       "    }\n",
       "\n",
       "    .dataframe tbody tr th {\n",
       "        vertical-align: top;\n",
       "    }\n",
       "\n",
       "    .dataframe thead th {\n",
       "        text-align: right;\n",
       "    }\n",
       "</style>\n",
       "<table border=\"1\" class=\"dataframe\">\n",
       "  <thead>\n",
       "    <tr style=\"text-align: right;\">\n",
       "      <th></th>\n",
       "      <th>Unnamed: 0</th>\n",
       "      <th>id</th>\n",
       "      <th>mb_used</th>\n",
       "      <th>session_date</th>\n",
       "      <th>user_id</th>\n",
       "    </tr>\n",
       "  </thead>\n",
       "  <tbody>\n",
       "    <tr>\n",
       "      <th>0</th>\n",
       "      <td>0</td>\n",
       "      <td>1000_0</td>\n",
       "      <td>112.95</td>\n",
       "      <td>2018-11-25</td>\n",
       "      <td>1000</td>\n",
       "    </tr>\n",
       "    <tr>\n",
       "      <th>1</th>\n",
       "      <td>1</td>\n",
       "      <td>1000_1</td>\n",
       "      <td>1052.81</td>\n",
       "      <td>2018-09-07</td>\n",
       "      <td>1000</td>\n",
       "    </tr>\n",
       "    <tr>\n",
       "      <th>2</th>\n",
       "      <td>2</td>\n",
       "      <td>1000_2</td>\n",
       "      <td>1197.26</td>\n",
       "      <td>2018-06-25</td>\n",
       "      <td>1000</td>\n",
       "    </tr>\n",
       "    <tr>\n",
       "      <th>3</th>\n",
       "      <td>3</td>\n",
       "      <td>1000_3</td>\n",
       "      <td>550.27</td>\n",
       "      <td>2018-08-22</td>\n",
       "      <td>1000</td>\n",
       "    </tr>\n",
       "    <tr>\n",
       "      <th>4</th>\n",
       "      <td>4</td>\n",
       "      <td>1000_4</td>\n",
       "      <td>302.56</td>\n",
       "      <td>2018-09-24</td>\n",
       "      <td>1000</td>\n",
       "    </tr>\n",
       "  </tbody>\n",
       "</table>\n",
       "</div>"
      ],
      "text/plain": [
       "   Unnamed: 0      id  mb_used session_date  user_id\n",
       "0           0  1000_0   112.95   2018-11-25     1000\n",
       "1           1  1000_1  1052.81   2018-09-07     1000\n",
       "2           2  1000_2  1197.26   2018-06-25     1000\n",
       "3           3  1000_3   550.27   2018-08-22     1000\n",
       "4           4  1000_4   302.56   2018-09-24     1000"
      ]
     },
     "metadata": {},
     "output_type": "display_data"
    },
    {
     "name": "stdout",
     "output_type": "stream",
     "text": [
      "<class 'pandas.core.frame.DataFrame'>\n",
      "RangeIndex: 149396 entries, 0 to 149395\n",
      "Data columns (total 5 columns):\n",
      " #   Column        Non-Null Count   Dtype  \n",
      "---  ------        --------------   -----  \n",
      " 0   Unnamed: 0    149396 non-null  int64  \n",
      " 1   id            149396 non-null  object \n",
      " 2   mb_used       149396 non-null  float64\n",
      " 3   session_date  149396 non-null  object \n",
      " 4   user_id       149396 non-null  int64  \n",
      "dtypes: float64(1), int64(2), object(2)\n",
      "memory usage: 5.7+ MB\n",
      "\n",
      "Датасет: Сообщения\n"
     ]
    },
    {
     "data": {
      "text/html": [
       "<div>\n",
       "<style scoped>\n",
       "    .dataframe tbody tr th:only-of-type {\n",
       "        vertical-align: middle;\n",
       "    }\n",
       "\n",
       "    .dataframe tbody tr th {\n",
       "        vertical-align: top;\n",
       "    }\n",
       "\n",
       "    .dataframe thead th {\n",
       "        text-align: right;\n",
       "    }\n",
       "</style>\n",
       "<table border=\"1\" class=\"dataframe\">\n",
       "  <thead>\n",
       "    <tr style=\"text-align: right;\">\n",
       "      <th></th>\n",
       "      <th>id</th>\n",
       "      <th>message_date</th>\n",
       "      <th>user_id</th>\n",
       "    </tr>\n",
       "  </thead>\n",
       "  <tbody>\n",
       "    <tr>\n",
       "      <th>0</th>\n",
       "      <td>1000_0</td>\n",
       "      <td>2018-06-27</td>\n",
       "      <td>1000</td>\n",
       "    </tr>\n",
       "    <tr>\n",
       "      <th>1</th>\n",
       "      <td>1000_1</td>\n",
       "      <td>2018-10-08</td>\n",
       "      <td>1000</td>\n",
       "    </tr>\n",
       "    <tr>\n",
       "      <th>2</th>\n",
       "      <td>1000_2</td>\n",
       "      <td>2018-08-04</td>\n",
       "      <td>1000</td>\n",
       "    </tr>\n",
       "    <tr>\n",
       "      <th>3</th>\n",
       "      <td>1000_3</td>\n",
       "      <td>2018-06-16</td>\n",
       "      <td>1000</td>\n",
       "    </tr>\n",
       "    <tr>\n",
       "      <th>4</th>\n",
       "      <td>1000_4</td>\n",
       "      <td>2018-12-05</td>\n",
       "      <td>1000</td>\n",
       "    </tr>\n",
       "  </tbody>\n",
       "</table>\n",
       "</div>"
      ],
      "text/plain": [
       "       id message_date  user_id\n",
       "0  1000_0   2018-06-27     1000\n",
       "1  1000_1   2018-10-08     1000\n",
       "2  1000_2   2018-08-04     1000\n",
       "3  1000_3   2018-06-16     1000\n",
       "4  1000_4   2018-12-05     1000"
      ]
     },
     "metadata": {},
     "output_type": "display_data"
    },
    {
     "name": "stdout",
     "output_type": "stream",
     "text": [
      "<class 'pandas.core.frame.DataFrame'>\n",
      "RangeIndex: 123036 entries, 0 to 123035\n",
      "Data columns (total 3 columns):\n",
      " #   Column        Non-Null Count   Dtype \n",
      "---  ------        --------------   ----- \n",
      " 0   id            123036 non-null  object\n",
      " 1   message_date  123036 non-null  object\n",
      " 2   user_id       123036 non-null  int64 \n",
      "dtypes: int64(1), object(2)\n",
      "memory usage: 2.8+ MB\n",
      "\n",
      "Датасет: Тарифы\n"
     ]
    },
    {
     "data": {
      "text/html": [
       "<div>\n",
       "<style scoped>\n",
       "    .dataframe tbody tr th:only-of-type {\n",
       "        vertical-align: middle;\n",
       "    }\n",
       "\n",
       "    .dataframe tbody tr th {\n",
       "        vertical-align: top;\n",
       "    }\n",
       "\n",
       "    .dataframe thead th {\n",
       "        text-align: right;\n",
       "    }\n",
       "</style>\n",
       "<table border=\"1\" class=\"dataframe\">\n",
       "  <thead>\n",
       "    <tr style=\"text-align: right;\">\n",
       "      <th></th>\n",
       "      <th>messages_included</th>\n",
       "      <th>mb_per_month_included</th>\n",
       "      <th>minutes_included</th>\n",
       "      <th>rub_monthly_fee</th>\n",
       "      <th>rub_per_gb</th>\n",
       "      <th>rub_per_message</th>\n",
       "      <th>rub_per_minute</th>\n",
       "      <th>tariff_name</th>\n",
       "    </tr>\n",
       "  </thead>\n",
       "  <tbody>\n",
       "    <tr>\n",
       "      <th>0</th>\n",
       "      <td>50</td>\n",
       "      <td>15360</td>\n",
       "      <td>500</td>\n",
       "      <td>550</td>\n",
       "      <td>200</td>\n",
       "      <td>3</td>\n",
       "      <td>3</td>\n",
       "      <td>smart</td>\n",
       "    </tr>\n",
       "    <tr>\n",
       "      <th>1</th>\n",
       "      <td>1000</td>\n",
       "      <td>30720</td>\n",
       "      <td>3000</td>\n",
       "      <td>1950</td>\n",
       "      <td>150</td>\n",
       "      <td>1</td>\n",
       "      <td>1</td>\n",
       "      <td>ultra</td>\n",
       "    </tr>\n",
       "  </tbody>\n",
       "</table>\n",
       "</div>"
      ],
      "text/plain": [
       "   messages_included  mb_per_month_included  minutes_included  \\\n",
       "0                 50                  15360               500   \n",
       "1               1000                  30720              3000   \n",
       "\n",
       "   rub_monthly_fee  rub_per_gb  rub_per_message  rub_per_minute tariff_name  \n",
       "0              550         200                3               3       smart  \n",
       "1             1950         150                1               1       ultra  "
      ]
     },
     "metadata": {},
     "output_type": "display_data"
    },
    {
     "name": "stdout",
     "output_type": "stream",
     "text": [
      "<class 'pandas.core.frame.DataFrame'>\n",
      "RangeIndex: 2 entries, 0 to 1\n",
      "Data columns (total 8 columns):\n",
      " #   Column                 Non-Null Count  Dtype \n",
      "---  ------                 --------------  ----- \n",
      " 0   messages_included      2 non-null      int64 \n",
      " 1   mb_per_month_included  2 non-null      int64 \n",
      " 2   minutes_included       2 non-null      int64 \n",
      " 3   rub_monthly_fee        2 non-null      int64 \n",
      " 4   rub_per_gb             2 non-null      int64 \n",
      " 5   rub_per_message        2 non-null      int64 \n",
      " 6   rub_per_minute         2 non-null      int64 \n",
      " 7   tariff_name            2 non-null      object\n",
      "dtypes: int64(7), object(1)\n",
      "memory usage: 256.0+ bytes\n",
      "\n"
     ]
    }
   ],
   "source": [
    "for key, val in datesets.items(): #отображение всех датасетов\n",
    "    print(f'Датасет: {key}')\n",
    "    display(val[0].head())\n",
    "    val[0].info()\n",
    "    print()  "
   ]
  },
  {
   "cell_type": "markdown",
   "id": "fd236457",
   "metadata": {},
   "source": [
    "## Подготовка данных"
   ]
  },
  {
   "cell_type": "markdown",
   "id": "cd15a967",
   "metadata": {},
   "source": [
    "### Замена типов данных"
   ]
  },
  {
   "cell_type": "markdown",
   "id": "712ec406",
   "metadata": {},
   "source": [
    "В датасетах:\n",
    "- Пользователи,\n",
    "- Звонки,\n",
    "- Трафик,\n",
    "- Сообщения,\n",
    "\n",
    "изменим тип данных колонок содержащих дату на тип `datetime` "
   ]
  },
  {
   "cell_type": "code",
   "execution_count": 5,
   "id": "b26e8d3c",
   "metadata": {},
   "outputs": [
    {
     "name": "stdout",
     "output_type": "stream",
     "text": [
      "Датасет: Пользователи\n",
      "<class 'pandas.core.frame.DataFrame'>\n",
      "RangeIndex: 500 entries, 0 to 499\n",
      "Data columns (total 8 columns):\n",
      " #   Column      Non-Null Count  Dtype         \n",
      "---  ------      --------------  -----         \n",
      " 0   user_id     500 non-null    int64         \n",
      " 1   age         500 non-null    int64         \n",
      " 2   churn_date  38 non-null     datetime64[ns]\n",
      " 3   city        500 non-null    object        \n",
      " 4   first_name  500 non-null    object        \n",
      " 5   last_name   500 non-null    object        \n",
      " 6   reg_date    500 non-null    datetime64[ns]\n",
      " 7   tariff      500 non-null    object        \n",
      "dtypes: datetime64[ns](2), int64(2), object(4)\n",
      "memory usage: 31.4+ KB\n",
      "\n",
      "Датасет: Звонки\n",
      "<class 'pandas.core.frame.DataFrame'>\n",
      "RangeIndex: 202607 entries, 0 to 202606\n",
      "Data columns (total 4 columns):\n",
      " #   Column     Non-Null Count   Dtype         \n",
      "---  ------     --------------   -----         \n",
      " 0   id         202607 non-null  object        \n",
      " 1   call_date  202607 non-null  datetime64[ns]\n",
      " 2   duration   202607 non-null  float64       \n",
      " 3   user_id    202607 non-null  int64         \n",
      "dtypes: datetime64[ns](1), float64(1), int64(1), object(1)\n",
      "memory usage: 6.2+ MB\n",
      "\n",
      "Датасет: Трафик\n",
      "<class 'pandas.core.frame.DataFrame'>\n",
      "RangeIndex: 149396 entries, 0 to 149395\n",
      "Data columns (total 5 columns):\n",
      " #   Column        Non-Null Count   Dtype         \n",
      "---  ------        --------------   -----         \n",
      " 0   Unnamed: 0    149396 non-null  int64         \n",
      " 1   id            149396 non-null  object        \n",
      " 2   mb_used       149396 non-null  float64       \n",
      " 3   session_date  149396 non-null  datetime64[ns]\n",
      " 4   user_id       149396 non-null  int64         \n",
      "dtypes: datetime64[ns](1), float64(1), int64(2), object(1)\n",
      "memory usage: 5.7+ MB\n",
      "\n",
      "Датасет: Сообщения\n",
      "<class 'pandas.core.frame.DataFrame'>\n",
      "RangeIndex: 123036 entries, 0 to 123035\n",
      "Data columns (total 3 columns):\n",
      " #   Column        Non-Null Count   Dtype         \n",
      "---  ------        --------------   -----         \n",
      " 0   id            123036 non-null  object        \n",
      " 1   message_date  123036 non-null  datetime64[ns]\n",
      " 2   user_id       123036 non-null  int64         \n",
      "dtypes: datetime64[ns](1), int64(1), object(1)\n",
      "memory usage: 2.8+ MB\n",
      "\n"
     ]
    }
   ],
   "source": [
    "for key, val in datesets.items(): #цикл для изменения типов данных на datetime всех датасетов\n",
    "    if len(val) > 1: #проверка наличия датасете колонки для изменения\n",
    "        for i in range(1, len(val)):\n",
    "            val[0][val[i]] = pd.to_datetime(val[0][val[i]], format='%Y-%m-%d')\n",
    "        print(f'Датасет: {key}')    \n",
    "        val[0].info()\n",
    "        print()"
   ]
  },
  {
   "cell_type": "markdown",
   "id": "4eb44a1c",
   "metadata": {},
   "source": [
    "### Поиск и справление ошибок"
   ]
  },
  {
   "cell_type": "code",
   "execution_count": 6,
   "id": "e65dcc79",
   "metadata": {
    "scrolled": true
   },
   "outputs": [
    {
     "data": {
      "text/plain": [
       "count    202607.000000\n",
       "mean          6.755887\n",
       "std           5.843365\n",
       "min           0.000000\n",
       "25%           1.300000\n",
       "50%           6.000000\n",
       "75%          10.700000\n",
       "max          38.000000\n",
       "Name: duration, dtype: float64"
      ]
     },
     "execution_count": 6,
     "metadata": {},
     "output_type": "execute_result"
    }
   ],
   "source": [
    "calls['duration'].describe()"
   ]
  },
  {
   "cell_type": "code",
   "execution_count": 7,
   "id": "8aecbb2f",
   "metadata": {},
   "outputs": [
    {
     "data": {
      "text/plain": [
       "count    149396.000000\n",
       "mean        370.192426\n",
       "std         278.300951\n",
       "min           0.000000\n",
       "25%         138.187500\n",
       "50%         348.015000\n",
       "75%         559.552500\n",
       "max        1724.830000\n",
       "Name: mb_used, dtype: float64"
      ]
     },
     "execution_count": 7,
     "metadata": {},
     "output_type": "execute_result"
    }
   ],
   "source": [
    "internet['mb_used'].describe()"
   ]
  },
  {
   "cell_type": "code",
   "execution_count": 8,
   "id": "c552636b",
   "metadata": {},
   "outputs": [
    {
     "data": {
      "text/plain": [
       "Unnamed: 0      19598\n",
       "id              19598\n",
       "mb_used         19598\n",
       "session_date    19598\n",
       "user_id         19598\n",
       "dtype: int64"
      ]
     },
     "execution_count": 8,
     "metadata": {},
     "output_type": "execute_result"
    }
   ],
   "source": [
    "internet[internet['mb_used'] == 0].count()"
   ]
  },
  {
   "cell_type": "markdown",
   "id": "1ad49b82",
   "metadata": {},
   "source": [
    "Проверил \n",
    "1. Датасет `users`:\n",
    "- user_id - дубликатов нет все в проядки,\n",
    "- age - от 18 до 75, аномалий нет,\n",
    "- churn_date - значения Nat в рамках логики данных,\n",
    "- city - проверил на уникальные значения все хорошо,\n",
    "- first_name, last_name - значения для исследования не важны,\n",
    "- reg_date - все хорошо,\n",
    "- tariff - два уникальных значения 'ultra', 'smart'.\n",
    "2. Датасет `calls`\n",
    "- duration - есть нулевые значения, описание которых есть это пропущенные звонки, длительность тоже не сильно смущает максимальное значение 38, медиана и среднее близки что говорит об отсутсвии выбросов и аномалий.\n",
    "3. Датасет `internet`\n",
    "- Unnamed: 0 - не описанная колонка, значение это чать id записи после `_`, смысловая нагрузка не ясна, можно удалить,\n",
    "- mb_used - для 19598 записей (14% от всего датасета) установлены нулевые значения, что это не описано, может быть это не тарифицированные данные например приложение мобильного оператора или другие сервисы, сказать невозможно, заполнять средними или медианами опасно. Медианное и среднее значение относительно близки среднее чуть больше данные скошаны в право (большое количество 0 значений)  \n",
    "\n",
    "Лишние строчки кода убрал"
   ]
  },
  {
   "cell_type": "code",
   "execution_count": 9,
   "id": "c55d63d4",
   "metadata": {},
   "outputs": [],
   "source": [
    "internet = internet.drop(columns='Unnamed: 0')"
   ]
  },
  {
   "cell_type": "code",
   "execution_count": 10,
   "id": "c9a1008b",
   "metadata": {},
   "outputs": [
    {
     "data": {
      "text/html": [
       "<div>\n",
       "<style scoped>\n",
       "    .dataframe tbody tr th:only-of-type {\n",
       "        vertical-align: middle;\n",
       "    }\n",
       "\n",
       "    .dataframe tbody tr th {\n",
       "        vertical-align: top;\n",
       "    }\n",
       "\n",
       "    .dataframe thead th {\n",
       "        text-align: right;\n",
       "    }\n",
       "</style>\n",
       "<table border=\"1\" class=\"dataframe\">\n",
       "  <thead>\n",
       "    <tr style=\"text-align: right;\">\n",
       "      <th></th>\n",
       "      <th>id</th>\n",
       "      <th>mb_used</th>\n",
       "      <th>session_date</th>\n",
       "      <th>user_id</th>\n",
       "    </tr>\n",
       "  </thead>\n",
       "  <tbody>\n",
       "    <tr>\n",
       "      <th>0</th>\n",
       "      <td>1000_0</td>\n",
       "      <td>112.95</td>\n",
       "      <td>2018-11-25</td>\n",
       "      <td>1000</td>\n",
       "    </tr>\n",
       "    <tr>\n",
       "      <th>1</th>\n",
       "      <td>1000_1</td>\n",
       "      <td>1052.81</td>\n",
       "      <td>2018-09-07</td>\n",
       "      <td>1000</td>\n",
       "    </tr>\n",
       "    <tr>\n",
       "      <th>2</th>\n",
       "      <td>1000_2</td>\n",
       "      <td>1197.26</td>\n",
       "      <td>2018-06-25</td>\n",
       "      <td>1000</td>\n",
       "    </tr>\n",
       "    <tr>\n",
       "      <th>3</th>\n",
       "      <td>1000_3</td>\n",
       "      <td>550.27</td>\n",
       "      <td>2018-08-22</td>\n",
       "      <td>1000</td>\n",
       "    </tr>\n",
       "    <tr>\n",
       "      <th>4</th>\n",
       "      <td>1000_4</td>\n",
       "      <td>302.56</td>\n",
       "      <td>2018-09-24</td>\n",
       "      <td>1000</td>\n",
       "    </tr>\n",
       "  </tbody>\n",
       "</table>\n",
       "</div>"
      ],
      "text/plain": [
       "       id  mb_used session_date  user_id\n",
       "0  1000_0   112.95   2018-11-25     1000\n",
       "1  1000_1  1052.81   2018-09-07     1000\n",
       "2  1000_2  1197.26   2018-06-25     1000\n",
       "3  1000_3   550.27   2018-08-22     1000\n",
       "4  1000_4   302.56   2018-09-24     1000"
      ]
     },
     "execution_count": 10,
     "metadata": {},
     "output_type": "execute_result"
    }
   ],
   "source": [
    "internet.head()"
   ]
  },
  {
   "cell_type": "markdown",
   "id": "d616ba31",
   "metadata": {},
   "source": [
    "### Расчет данных "
   ]
  },
  {
   "cell_type": "markdown",
   "id": "96c0380d",
   "metadata": {},
   "source": [
    "Для каждого пользователя:\n",
    "- количество сделанных звонков и израсходованных минут разговора по месяцам;\n",
    "- количество отправленных сообщений по месяцам;\n",
    "- объем израсходованного интернет-трафика по месяцам;\n",
    "- помесячную выручку с каждого пользователя "
   ]
  },
  {
   "cell_type": "code",
   "execution_count": 11,
   "id": "772b33eb",
   "metadata": {},
   "outputs": [],
   "source": [
    "user_calls = calls.assign( # количество сделанных звонков и израсходованных минут разговора по месяцам\n",
    "    month=lambda x: x.call_date.dt.month\n",
    ").assign(\n",
    "    duration_ceil=lambda x: np.ceil(x.duration)\n",
    ").pivot_table(\n",
    "    index=['user_id', 'month'],\n",
    "    values='duration_ceil',\n",
    "    aggfunc=['count', 'sum']\n",
    ")\n",
    "user_calls.columns = ['call_count', 'call_sum'] # преименование для ухода от двойного наименования"
   ]
  },
  {
   "cell_type": "code",
   "execution_count": 12,
   "id": "13339124",
   "metadata": {},
   "outputs": [
    {
     "name": "stdout",
     "output_type": "stream",
     "text": [
      "<class 'pandas.core.frame.DataFrame'>\n",
      "MultiIndex: 3174 entries, (1000, 5) to (1499, 12)\n",
      "Data columns (total 2 columns):\n",
      " #   Column      Non-Null Count  Dtype  \n",
      "---  ------      --------------  -----  \n",
      " 0   call_count  3174 non-null   int64  \n",
      " 1   call_sum    3174 non-null   float64\n",
      "dtypes: float64(1), int64(1)\n",
      "memory usage: 62.9 KB\n"
     ]
    }
   ],
   "source": [
    "user_calls.info()"
   ]
  },
  {
   "cell_type": "code",
   "execution_count": 13,
   "id": "91321bf6",
   "metadata": {},
   "outputs": [],
   "source": [
    "user_messages = messages.assign( # количество отправленных сообщений по месяцам\n",
    "    month=lambda x: x.message_date.dt.month\n",
    ").pivot_table(\n",
    "    index=['user_id', 'month'],\n",
    "     values='id',\n",
    "    aggfunc='count'\n",
    ")\n",
    "user_messages.columns = ['messages_count'] # замена на более понятное название"
   ]
  },
  {
   "cell_type": "code",
   "execution_count": 14,
   "id": "64720cc6",
   "metadata": {},
   "outputs": [
    {
     "name": "stdout",
     "output_type": "stream",
     "text": [
      "<class 'pandas.core.frame.DataFrame'>\n",
      "MultiIndex: 2717 entries, (1000, 5) to (1499, 12)\n",
      "Data columns (total 1 columns):\n",
      " #   Column          Non-Null Count  Dtype\n",
      "---  ------          --------------  -----\n",
      " 0   messages_count  2717 non-null   int64\n",
      "dtypes: int64(1)\n",
      "memory usage: 32.7 KB\n"
     ]
    }
   ],
   "source": [
    "user_messages.info()"
   ]
  },
  {
   "cell_type": "code",
   "execution_count": 15,
   "id": "9195b6df",
   "metadata": {},
   "outputs": [
    {
     "name": "stdout",
     "output_type": "stream",
     "text": [
      "<class 'pandas.core.frame.DataFrame'>\n",
      "MultiIndex: 3203 entries, (1000, 5) to (1499, 12)\n",
      "Data columns (total 2 columns):\n",
      " #   Column   Non-Null Count  Dtype  \n",
      "---  ------   --------------  -----  \n",
      " 0   mb_used  3203 non-null   float64\n",
      " 1   gb_used  3203 non-null   float64\n",
      "dtypes: float64(2)\n",
      "memory usage: 63.5 KB\n"
     ]
    }
   ],
   "source": [
    "user_internet = internet.assign( # количество сделанных звонков и израсходованных минут разговора по месяцам\n",
    "    month=lambda x: x.session_date.dt.month\n",
    ").pivot_table(\n",
    "    index=['user_id', 'month'],\n",
    "    values='mb_used',\n",
    "    aggfunc='sum'\n",
    ").assign(\n",
    "    gb_used=lambda x: np.ceil(x.mb_used / 1024)\n",
    ")\n",
    "user_internet.info()"
   ]
  },
  {
   "cell_type": "code",
   "execution_count": 16,
   "id": "a8311e48",
   "metadata": {},
   "outputs": [],
   "source": [
    "user_all = user_messages.merge( # объединение всех посчитанных данных\n",
    "    user_internet,\n",
    "    how='outer',\n",
    "    on=['user_id', 'month']\n",
    ").merge(\n",
    "    user_calls,\n",
    "    how='outer',\n",
    "    on=['user_id', 'month']\n",
    ").merge( \n",
    "    users[['user_id', 'city', 'tariff']],\n",
    "    how='inner',\n",
    "    on='user_id'\n",
    ").fillna(0) # заполним нулями пропуски от объединения"
   ]
  },
  {
   "cell_type": "code",
   "execution_count": 17,
   "id": "b116c2bf",
   "metadata": {},
   "outputs": [
    {
     "name": "stdout",
     "output_type": "stream",
     "text": [
      "<class 'pandas.core.frame.DataFrame'>\n",
      "Int64Index: 3214 entries, 0 to 3213\n",
      "Data columns (total 8 columns):\n",
      " #   Column          Non-Null Count  Dtype  \n",
      "---  ------          --------------  -----  \n",
      " 0   user_id         3214 non-null   int64  \n",
      " 1   messages_count  3214 non-null   int64  \n",
      " 2   mb_used         3214 non-null   float64\n",
      " 3   gb_used         3214 non-null   int64  \n",
      " 4   call_count      3214 non-null   int64  \n",
      " 5   call_sum        3214 non-null   int64  \n",
      " 6   city            3214 non-null   object \n",
      " 7   tariff          3214 non-null   object \n",
      "dtypes: float64(1), int64(5), object(2)\n",
      "memory usage: 226.0+ KB\n"
     ]
    }
   ],
   "source": [
    "for column in [['call_sum', 'call_count','messages_count','gb_used']]: # изменим числовой тип на int\n",
    "    user_all[column] = user_all[column].astype('int64')\n",
    "user_all.info()"
   ]
  },
  {
   "cell_type": "code",
   "execution_count": 18,
   "id": "1662feec",
   "metadata": {},
   "outputs": [],
   "source": [
    "for tariff in user_all['tariff'].unique(): # считаем затраты на связь для каждого тарифа\n",
    "    \n",
    "    # из таблицы tariffs вычисляем (стоимость тарифа, сколько включено в тариф сообщений минут и gb, и цену превышения)\n",
    "    rub_monthly_fee = int(tariffs.loc[tariffs['tariff_name'] == tariff, 'rub_monthly_fee']) \n",
    "    messages_included = int(tariffs.loc[tariffs['tariff_name'] == tariff, 'messages_included'])\n",
    "    gb_included = int(tariffs.loc[tariffs['tariff_name'] == tariff, 'mb_per_month_included']) / 1024\n",
    "    minutes_included = int(tariffs.loc[tariffs['tariff_name'] == tariff, 'minutes_included'])\n",
    "    rub_per_gb = int(tariffs.loc[tariffs['tariff_name'] == tariff, 'rub_per_gb'])\n",
    "    rub_per_message = int(tariffs.loc[tariffs['tariff_name'] == tariff, 'rub_per_message'])\n",
    "    rub_per_minute = int(tariffs.loc[tariffs['tariff_name'] == tariff, 'rub_per_minute'])\n",
    "   \n",
    "    # вычисляем новый столбец\n",
    "    user_all.loc[user_all['tariff'] == tariff, 'expenses'] = rub_monthly_fee + user_all['gb_used'].apply(\n",
    "        lambda x: 0 if x <= gb_included else x - gb_included\n",
    "    ) * rub_per_gb + user_all['messages_count'].apply(\n",
    "        lambda x: 0 if x <= messages_included else x - messages_included\n",
    "    ) * rub_per_message + user_all['call_sum'].apply(\n",
    "        lambda x: 0 if x <= minutes_included else x - minutes_included\n",
    "    ) * rub_per_minute"
   ]
  },
  {
   "cell_type": "code",
   "execution_count": 19,
   "id": "a064671d",
   "metadata": {},
   "outputs": [
    {
     "data": {
      "text/html": [
       "<div>\n",
       "<style scoped>\n",
       "    .dataframe tbody tr th:only-of-type {\n",
       "        vertical-align: middle;\n",
       "    }\n",
       "\n",
       "    .dataframe tbody tr th {\n",
       "        vertical-align: top;\n",
       "    }\n",
       "\n",
       "    .dataframe thead th {\n",
       "        text-align: right;\n",
       "    }\n",
       "</style>\n",
       "<table border=\"1\" class=\"dataframe\">\n",
       "  <thead>\n",
       "    <tr style=\"text-align: right;\">\n",
       "      <th></th>\n",
       "      <th>user_id</th>\n",
       "      <th>messages_count</th>\n",
       "      <th>mb_used</th>\n",
       "      <th>gb_used</th>\n",
       "      <th>call_count</th>\n",
       "      <th>call_sum</th>\n",
       "      <th>city</th>\n",
       "      <th>tariff</th>\n",
       "      <th>expenses</th>\n",
       "    </tr>\n",
       "  </thead>\n",
       "  <tbody>\n",
       "    <tr>\n",
       "      <th>54</th>\n",
       "      <td>1009</td>\n",
       "      <td>14</td>\n",
       "      <td>24725.84</td>\n",
       "      <td>25</td>\n",
       "      <td>22</td>\n",
       "      <td>183</td>\n",
       "      <td>Пермь</td>\n",
       "      <td>smart</td>\n",
       "      <td>2550.0</td>\n",
       "    </tr>\n",
       "    <tr>\n",
       "      <th>55</th>\n",
       "      <td>1009</td>\n",
       "      <td>9</td>\n",
       "      <td>23708.41</td>\n",
       "      <td>24</td>\n",
       "      <td>33</td>\n",
       "      <td>249</td>\n",
       "      <td>Пермь</td>\n",
       "      <td>smart</td>\n",
       "      <td>2350.0</td>\n",
       "    </tr>\n",
       "    <tr>\n",
       "      <th>68</th>\n",
       "      <td>1011</td>\n",
       "      <td>12</td>\n",
       "      <td>25300.98</td>\n",
       "      <td>25</td>\n",
       "      <td>65</td>\n",
       "      <td>501</td>\n",
       "      <td>Самара</td>\n",
       "      <td>smart</td>\n",
       "      <td>2553.0</td>\n",
       "    </tr>\n",
       "    <tr>\n",
       "      <th>69</th>\n",
       "      <td>1011</td>\n",
       "      <td>6</td>\n",
       "      <td>22870.72</td>\n",
       "      <td>23</td>\n",
       "      <td>58</td>\n",
       "      <td>361</td>\n",
       "      <td>Самара</td>\n",
       "      <td>smart</td>\n",
       "      <td>2150.0</td>\n",
       "    </tr>\n",
       "    <tr>\n",
       "      <th>72</th>\n",
       "      <td>1012</td>\n",
       "      <td>10</td>\n",
       "      <td>26607.35</td>\n",
       "      <td>26</td>\n",
       "      <td>43</td>\n",
       "      <td>316</td>\n",
       "      <td>Санкт-Петербург</td>\n",
       "      <td>smart</td>\n",
       "      <td>2750.0</td>\n",
       "    </tr>\n",
       "    <tr>\n",
       "      <th>73</th>\n",
       "      <td>1012</td>\n",
       "      <td>15</td>\n",
       "      <td>24741.16</td>\n",
       "      <td>25</td>\n",
       "      <td>29</td>\n",
       "      <td>219</td>\n",
       "      <td>Санкт-Петербург</td>\n",
       "      <td>smart</td>\n",
       "      <td>2550.0</td>\n",
       "    </tr>\n",
       "    <tr>\n",
       "      <th>74</th>\n",
       "      <td>1012</td>\n",
       "      <td>12</td>\n",
       "      <td>23090.75</td>\n",
       "      <td>23</td>\n",
       "      <td>43</td>\n",
       "      <td>223</td>\n",
       "      <td>Санкт-Петербург</td>\n",
       "      <td>smart</td>\n",
       "      <td>2150.0</td>\n",
       "    </tr>\n",
       "    <tr>\n",
       "      <th>77</th>\n",
       "      <td>1012</td>\n",
       "      <td>13</td>\n",
       "      <td>29071.87</td>\n",
       "      <td>29</td>\n",
       "      <td>48</td>\n",
       "      <td>451</td>\n",
       "      <td>Санкт-Петербург</td>\n",
       "      <td>smart</td>\n",
       "      <td>3350.0</td>\n",
       "    </tr>\n",
       "    <tr>\n",
       "      <th>83</th>\n",
       "      <td>1014</td>\n",
       "      <td>48</td>\n",
       "      <td>25040.50</td>\n",
       "      <td>25</td>\n",
       "      <td>31</td>\n",
       "      <td>180</td>\n",
       "      <td>Чебоксары</td>\n",
       "      <td>smart</td>\n",
       "      <td>2550.0</td>\n",
       "    </tr>\n",
       "    <tr>\n",
       "      <th>84</th>\n",
       "      <td>1014</td>\n",
       "      <td>39</td>\n",
       "      <td>27823.59</td>\n",
       "      <td>28</td>\n",
       "      <td>40</td>\n",
       "      <td>300</td>\n",
       "      <td>Чебоксары</td>\n",
       "      <td>smart</td>\n",
       "      <td>3150.0</td>\n",
       "    </tr>\n",
       "    <tr>\n",
       "      <th>85</th>\n",
       "      <td>1014</td>\n",
       "      <td>43</td>\n",
       "      <td>26025.44</td>\n",
       "      <td>26</td>\n",
       "      <td>34</td>\n",
       "      <td>241</td>\n",
       "      <td>Чебоксары</td>\n",
       "      <td>smart</td>\n",
       "      <td>2750.0</td>\n",
       "    </tr>\n",
       "    <tr>\n",
       "      <th>86</th>\n",
       "      <td>1014</td>\n",
       "      <td>48</td>\n",
       "      <td>25740.52</td>\n",
       "      <td>26</td>\n",
       "      <td>33</td>\n",
       "      <td>250</td>\n",
       "      <td>Чебоксары</td>\n",
       "      <td>smart</td>\n",
       "      <td>2750.0</td>\n",
       "    </tr>\n",
       "    <tr>\n",
       "      <th>87</th>\n",
       "      <td>1014</td>\n",
       "      <td>51</td>\n",
       "      <td>22539.37</td>\n",
       "      <td>23</td>\n",
       "      <td>49</td>\n",
       "      <td>332</td>\n",
       "      <td>Чебоксары</td>\n",
       "      <td>smart</td>\n",
       "      <td>2153.0</td>\n",
       "    </tr>\n",
       "    <tr>\n",
       "      <th>88</th>\n",
       "      <td>1014</td>\n",
       "      <td>36</td>\n",
       "      <td>25107.02</td>\n",
       "      <td>25</td>\n",
       "      <td>35</td>\n",
       "      <td>237</td>\n",
       "      <td>Чебоксары</td>\n",
       "      <td>smart</td>\n",
       "      <td>2550.0</td>\n",
       "    </tr>\n",
       "    <tr>\n",
       "      <th>89</th>\n",
       "      <td>1014</td>\n",
       "      <td>53</td>\n",
       "      <td>25420.71</td>\n",
       "      <td>25</td>\n",
       "      <td>32</td>\n",
       "      <td>175</td>\n",
       "      <td>Чебоксары</td>\n",
       "      <td>smart</td>\n",
       "      <td>2559.0</td>\n",
       "    </tr>\n",
       "    <tr>\n",
       "      <th>92</th>\n",
       "      <td>1015</td>\n",
       "      <td>80</td>\n",
       "      <td>26894.26</td>\n",
       "      <td>27</td>\n",
       "      <td>55</td>\n",
       "      <td>430</td>\n",
       "      <td>Челябинск</td>\n",
       "      <td>smart</td>\n",
       "      <td>3040.0</td>\n",
       "    </tr>\n",
       "    <tr>\n",
       "      <th>94</th>\n",
       "      <td>1015</td>\n",
       "      <td>68</td>\n",
       "      <td>27401.42</td>\n",
       "      <td>27</td>\n",
       "      <td>54</td>\n",
       "      <td>394</td>\n",
       "      <td>Челябинск</td>\n",
       "      <td>smart</td>\n",
       "      <td>3004.0</td>\n",
       "    </tr>\n",
       "    <tr>\n",
       "      <th>97</th>\n",
       "      <td>1015</td>\n",
       "      <td>61</td>\n",
       "      <td>21523.45</td>\n",
       "      <td>22</td>\n",
       "      <td>51</td>\n",
       "      <td>454</td>\n",
       "      <td>Челябинск</td>\n",
       "      <td>smart</td>\n",
       "      <td>1983.0</td>\n",
       "    </tr>\n",
       "    <tr>\n",
       "      <th>131</th>\n",
       "      <td>1023</td>\n",
       "      <td>49</td>\n",
       "      <td>28380.99</td>\n",
       "      <td>28</td>\n",
       "      <td>84</td>\n",
       "      <td>557</td>\n",
       "      <td>Томск</td>\n",
       "      <td>smart</td>\n",
       "      <td>3321.0</td>\n",
       "    </tr>\n",
       "    <tr>\n",
       "      <th>146</th>\n",
       "      <td>1027</td>\n",
       "      <td>22</td>\n",
       "      <td>24874.91</td>\n",
       "      <td>25</td>\n",
       "      <td>84</td>\n",
       "      <td>623</td>\n",
       "      <td>Петрозаводск</td>\n",
       "      <td>smart</td>\n",
       "      <td>2919.0</td>\n",
       "    </tr>\n",
       "  </tbody>\n",
       "</table>\n",
       "</div>"
      ],
      "text/plain": [
       "     user_id  messages_count   mb_used  gb_used  call_count  call_sum  \\\n",
       "54      1009              14  24725.84       25          22       183   \n",
       "55      1009               9  23708.41       24          33       249   \n",
       "68      1011              12  25300.98       25          65       501   \n",
       "69      1011               6  22870.72       23          58       361   \n",
       "72      1012              10  26607.35       26          43       316   \n",
       "73      1012              15  24741.16       25          29       219   \n",
       "74      1012              12  23090.75       23          43       223   \n",
       "77      1012              13  29071.87       29          48       451   \n",
       "83      1014              48  25040.50       25          31       180   \n",
       "84      1014              39  27823.59       28          40       300   \n",
       "85      1014              43  26025.44       26          34       241   \n",
       "86      1014              48  25740.52       26          33       250   \n",
       "87      1014              51  22539.37       23          49       332   \n",
       "88      1014              36  25107.02       25          35       237   \n",
       "89      1014              53  25420.71       25          32       175   \n",
       "92      1015              80  26894.26       27          55       430   \n",
       "94      1015              68  27401.42       27          54       394   \n",
       "97      1015              61  21523.45       22          51       454   \n",
       "131     1023              49  28380.99       28          84       557   \n",
       "146     1027              22  24874.91       25          84       623   \n",
       "\n",
       "                city tariff  expenses  \n",
       "54             Пермь  smart    2550.0  \n",
       "55             Пермь  smart    2350.0  \n",
       "68            Самара  smart    2553.0  \n",
       "69            Самара  smart    2150.0  \n",
       "72   Санкт-Петербург  smart    2750.0  \n",
       "73   Санкт-Петербург  smart    2550.0  \n",
       "74   Санкт-Петербург  smart    2150.0  \n",
       "77   Санкт-Петербург  smart    3350.0  \n",
       "83         Чебоксары  smart    2550.0  \n",
       "84         Чебоксары  smart    3150.0  \n",
       "85         Чебоксары  smart    2750.0  \n",
       "86         Чебоксары  smart    2750.0  \n",
       "87         Чебоксары  smart    2153.0  \n",
       "88         Чебоксары  smart    2550.0  \n",
       "89         Чебоксары  smart    2559.0  \n",
       "92         Челябинск  smart    3040.0  \n",
       "94         Челябинск  smart    3004.0  \n",
       "97         Челябинск  smart    1983.0  \n",
       "131            Томск  smart    3321.0  \n",
       "146     Петрозаводск  smart    2919.0  "
      ]
     },
     "execution_count": 19,
     "metadata": {},
     "output_type": "execute_result"
    }
   ],
   "source": [
    "user_all.query('expenses > 1950').head(20) # проверка что считает правильно"
   ]
  },
  {
   "cell_type": "markdown",
   "id": "f2c9e2d6",
   "metadata": {},
   "source": [
    "## Анализ данных"
   ]
  },
  {
   "cell_type": "markdown",
   "id": "2fd9f65a",
   "metadata": {},
   "source": [
    "1. Вычисления среднего количества, дисперсии и стандартного отклонения по минутам разговора, количеству сообщений и объему интернет-трафика.\n",
    "2. Построение гистограмм.\n",
    "3. определение распределения."
   ]
  },
  {
   "cell_type": "code",
   "execution_count": 20,
   "id": "6433b00a",
   "metadata": {
    "scrolled": false
   },
   "outputs": [
    {
     "data": {
      "image/png": "[encoded data removed]",
      "text/plain": [
       "<Figure size 648x648 with 1 Axes>"
      ]
     },
     "metadata": {
      "needs_background": "light"
     },
     "output_type": "display_data"
    },
    {
     "data": {
      "image/png": "[encoded data removed]",
      "text/plain": [
       "<Figure size 648x648 with 1 Axes>"
      ]
     },
     "metadata": {
      "needs_background": "light"
     },
     "output_type": "display_data"
    },
    {
     "data": {
      "image/png": "[encoded data removed]",
      "text/plain": [
       "<Figure size 648x648 with 1 Axes>"
      ]
     },
     "metadata": {
      "needs_background": "light"
     },
     "output_type": "display_data"
    },
    {
     "data": {
      "image/png": "[encoded data removed]",
      "text/plain": [
       "<Figure size 648x648 with 1 Axes>"
      ]
     },
     "metadata": {
      "needs_background": "light"
     },
     "output_type": "display_data"
    },
    {
     "data": {
      "image/png": "[encoded data removed]",
      "text/plain": [
       "<Figure size 648x648 with 1 Axes>"
      ]
     },
     "metadata": {
      "needs_background": "light"
     },
     "output_type": "display_data"
    },
    {
     "data": {
      "image/png": "[encoded data removed]",
      "text/plain": [
       "<Figure size 648x648 with 1 Axes>"
      ]
     },
     "metadata": {
      "needs_background": "light"
     },
     "output_type": "display_data"
    }
   ],
   "source": [
    "pd.options.display.float_format = '{:.2f}'.format # формат вывода целочисленных данных\n",
    "\n",
    "col = [\n",
    "    'tariff',\n",
    "    'call_mean',\n",
    "    'call_var',\n",
    "    'call_std',\n",
    "    'messages_mean',\n",
    "    'messages_var',\n",
    "    'messages_std',\n",
    "    'traffic_mean',\n",
    "    'traffic_var',\n",
    "    'traffic_std'\n",
    "]\n",
    "\n",
    "data = []\n",
    "data_tariff = []\n",
    "\n",
    "for tariff in user_all['tariff'].unique(): # цикл по тарифам\n",
    "    user_tariff = user_all.loc[user_all['tariff'] == tariff]\n",
    "    data_tariff = []\n",
    "    data_tariff.append(tariff) \n",
    "    for column in ['call_sum', 'messages_count','gb_used']: # цикл по колонкам\n",
    "        data_tariff.append(\n",
    "            np.mean(user_tariff[column])\n",
    "        )\n",
    "        data_tariff.append(\n",
    "            np.var(user_tariff[column], ddof=1)\n",
    "        )\n",
    "        data_tariff.append(\n",
    "            np.std(user_tariff[column], ddof=1)\n",
    "        )\n",
    "        plt.subplots(figsize=(9, 9))\n",
    "        plt.title(f'{tariff}: {column}', fontsize=16)\n",
    "        sns.histplot(      # гистограммы плотности\n",
    "            user_tariff[column], \n",
    "            kde=True,\n",
    "            stat=\"density\", \n",
    "            linewidth=1)\n",
    "        plt.grid(True)\n",
    "        plt.show()\n",
    "    data.append(data_tariff)        "
   ]
  },
  {
   "cell_type": "code",
   "execution_count": 21,
   "id": "536bceb6",
   "metadata": {},
   "outputs": [
    {
     "data": {
      "text/html": [
       "<div>\n",
       "<style scoped>\n",
       "    .dataframe tbody tr th:only-of-type {\n",
       "        vertical-align: middle;\n",
       "    }\n",
       "\n",
       "    .dataframe tbody tr th {\n",
       "        vertical-align: top;\n",
       "    }\n",
       "\n",
       "    .dataframe thead th {\n",
       "        text-align: right;\n",
       "    }\n",
       "</style>\n",
       "<table border=\"1\" class=\"dataframe\">\n",
       "  <thead>\n",
       "    <tr style=\"text-align: right;\">\n",
       "      <th></th>\n",
       "      <th>tariff</th>\n",
       "      <th>call_mean</th>\n",
       "      <th>call_var</th>\n",
       "      <th>call_std</th>\n",
       "      <th>messages_mean</th>\n",
       "      <th>messages_var</th>\n",
       "      <th>messages_std</th>\n",
       "      <th>traffic_mean</th>\n",
       "      <th>traffic_var</th>\n",
       "      <th>traffic_std</th>\n",
       "    </tr>\n",
       "  </thead>\n",
       "  <tbody>\n",
       "    <tr>\n",
       "      <th>0</th>\n",
       "      <td>ultra</td>\n",
       "      <td>526.62</td>\n",
       "      <td>100873.63</td>\n",
       "      <td>317.61</td>\n",
       "      <td>49.36</td>\n",
       "      <td>2285.27</td>\n",
       "      <td>47.80</td>\n",
       "      <td>19.49</td>\n",
       "      <td>97.09</td>\n",
       "      <td>9.85</td>\n",
       "    </tr>\n",
       "    <tr>\n",
       "      <th>1</th>\n",
       "      <td>smart</td>\n",
       "      <td>417.93</td>\n",
       "      <td>36219.32</td>\n",
       "      <td>190.31</td>\n",
       "      <td>33.38</td>\n",
       "      <td>796.81</td>\n",
       "      <td>28.23</td>\n",
       "      <td>16.33</td>\n",
       "      <td>33.03</td>\n",
       "      <td>5.75</td>\n",
       "    </tr>\n",
       "  </tbody>\n",
       "</table>\n",
       "</div>"
      ],
      "text/plain": [
       "  tariff  call_mean  call_var  call_std  messages_mean  messages_var  \\\n",
       "0  ultra     526.62 100873.63    317.61          49.36       2285.27   \n",
       "1  smart     417.93  36219.32    190.31          33.38        796.81   \n",
       "\n",
       "   messages_std  traffic_mean  traffic_var  traffic_std  \n",
       "0         47.80         19.49        97.09         9.85  \n",
       "1         28.23         16.33        33.03         5.75  "
      ]
     },
     "execution_count": 21,
     "metadata": {},
     "output_type": "execute_result"
    }
   ],
   "source": [
    "pd.DataFrame(data=data, columns=col) #вывод характеристик"
   ]
  },
  {
   "cell_type": "markdown",
   "id": "85813dfe",
   "metadata": {},
   "source": [
    "Выводы:\n",
    "1. Распределения по отправленным сообщениям сильно скошено в право, это посути пуасоновское распределение, много значений близких к 0 (0, 1, 2) для обоих тарифных планов, эта услуга не пользуется особой популярностью. \n",
    "2. Звонки:\n",
    " - Тариф \"Ультра\" - скошена распределение в право, среднее 526 и как видно единицы не используют даже половину лимита, в этом компоненте, он не оптимален.\n",
    " - Тариф \"Смарт\" - скошена распределение в право, средне 417, многим этого не хватает лимита.\n",
    "3. Интернет - Очень близкие к нормальным распределения:\n",
    "  - Тариф \"Ультра\" - этот тариф выбирается именно из-за наличия дополнительного интернета, и многом этого не хватает (13%) \n",
    "  - Тариф \"Смарт\" - среднее больше лимита, пользователи предпочитают переплатить за израсходованный трафик чем переплачивать за ненужные смс и минуты.\n",
    "\n",
    "Поведение пользователей не так уж и отличается, по описанию тарифов их запросы должны были отличаться силнее:\n",
    "- пользователям обоих тарифов не хватает интернет-трафика,\n",
    "- почти не пользуются смс,\n",
    "- звонкам есть разница, но не в разы. "
   ]
  },
  {
   "cell_type": "markdown",
   "id": "0238043a",
   "metadata": {},
   "source": [
    "## Проверка гипотиз"
   ]
  },
  {
   "cell_type": "markdown",
   "id": "471e70c3",
   "metadata": {},
   "source": [
    "H0: Среднее значение выручки по герельной совокупности №1 =  Среднее значение выручки по герельной совокупности №2\n",
    "\n",
    "H1:  Среднее значение выручки по герельной совокупности №1 ≠  Среднее значение выручки по герельной совокупности №2\n",
    "\n",
    "герельной совокупности №1 - все пользователи тарифа \"Ултра\"\n",
    "\n",
    "герельной совокупности №2 - все пользователи тарифа \"Смарт\"\n",
    "\n",
    "Зависимости двух генеральных совокупностей нет."
   ]
  },
  {
   "cell_type": "code",
   "execution_count": 22,
   "id": "a0a6740d",
   "metadata": {},
   "outputs": [
    {
     "name": "stdout",
     "output_type": "stream",
     "text": [
      "Отвергаем нулевую гипотезу\n",
      "4.2606313931076085e-250\n",
      "Среднее значение выручки по выборке для ultra: 2070.15\n",
      "Среднее значение выручки по выборке для smart: 1289.97\n"
     ]
    }
   ],
   "source": [
    "alpha = 0.05\n",
    "\n",
    "results = st.ttest_ind(\n",
    "    user_all.loc[user_all['tariff'] == 'ultra']['expenses'],\n",
    "    user_all.loc[user_all['tariff'] == 'smart']['expenses'],\n",
    "    equal_var = False\n",
    ")\n",
    "\n",
    "if results.pvalue < alpha:\n",
    "    print(\"Отвергаем нулевую гипотезу\")\n",
    "else:\n",
    "    print(\"Не получилось отвергнуть нулевую гипотезу\")\n",
    "    \n",
    "print(results.pvalue)\n",
    "\n",
    "for tariff in user_all['tariff'].unique():\n",
    "    mean = np.mean(user_all.loc[user_all['tariff'] == tariff]['expenses'])\n",
    "    print(f'Среднее значение выручки по выборке для {tariff}: {mean:.2f}')"
   ]
  },
  {
   "cell_type": "markdown",
   "id": "19d588dd",
   "metadata": {},
   "source": [
    "Статистически значимые различия обнаружены "
   ]
  },
  {
   "cell_type": "markdown",
   "id": "f41c75cf",
   "metadata": {},
   "source": [
    "H0: Среднее значение выручки по герельной совокупности №1 =  Среднее значение выручки по герельной совокупности №2\n",
    "\n",
    "H1:  Среднее значение выручки по герельной совокупности №1 ≠  Среднее значение выручки по герельной совокупности №2\n",
    "\n",
    "герельной совокупности №1 - все пользователи обоих тарифов из Москвы\n",
    "\n",
    "герельной совокупности №2 - все пользователи обоих тарифов не из Москвы\n",
    "\n",
    "Зависимости двух генеральных совокупностей нет."
   ]
  },
  {
   "cell_type": "code",
   "execution_count": 23,
   "id": "d1f82a9e",
   "metadata": {},
   "outputs": [
    {
     "name": "stdout",
     "output_type": "stream",
     "text": [
      "Не получилось отвергнуть нулевую гипотезу\n",
      "Среднее значение выручки по выборке для Москвы: 1546.71\n",
      "Среднее значение выручки по выборке для других регионов: 1524.94\n"
     ]
    }
   ],
   "source": [
    "alpha = 0.05\n",
    "\n",
    "results = st.ttest_ind(\n",
    "    user_all.loc[user_all['city'] == 'Москва']['expenses'],\n",
    "    user_all.loc[user_all['city'] != 'Москва']['expenses']\n",
    ")\n",
    "\n",
    "if results.pvalue < alpha:\n",
    "    print(\"Отвергаем нулевую гипотезу\")\n",
    "else:\n",
    "    print(\"Не получилось отвергнуть нулевую гипотезу\")\n",
    "\n",
    "\n",
    "msw_mean = np.mean(user_all.loc[user_all['city'] == 'Москва']['expenses'])\n",
    "rus_mean = np.mean(user_all.loc[user_all['city'] != 'Москва']['expenses'])\n",
    "print(f'Среднее значение выручки по выборке для Москвы: {msw_mean:.2f}')\n",
    "print(f'Среднее значение выручки по выборке для других регионов: {rus_mean:.2f}')"
   ]
  },
  {
   "cell_type": "markdown",
   "id": "79f17c5f",
   "metadata": {},
   "source": [
    "Статистически значимые различия не обнаружены "
   ]
  },
  {
   "cell_type": "markdown",
   "id": "8851e7d4",
   "metadata": {},
   "source": [
    "## Выводы"
   ]
  },
  {
   "cell_type": "markdown",
   "id": "62629d9b",
   "metadata": {},
   "source": [
    "1. Пользователи тарифа \"Смарт\" переплачивают за перерасход интернет-трафика, в также за звонки и очень редко за смс,  что увеличивает оплаты за месяц значение среднего по выборки, более чем в два раза.\n",
    "2. Пользователи тарифа \"Ултра\" тоже переплачивают за перерасход интернет-трафика, но не так существенно, но они вообще не приплачивают за смс и минуты.\n",
    "3. Пользователи как в Москве, так и в других регионах не отличаются тратами на связь, оснований для отвержения H0 нет.\n",
    "4. Какой тариф - лучше интересный вопрос, смотря для кого:\n",
    " - Для компании \"Мегалайн\" тарифа \"Смарт\" - лучший, его выбирают большинство клиентов, т.к. они не хотя переплачивать за ненужные смс и минуты, но попадают в ловушку и перепалывают за интернет, хотя их потребление не сильно отличается от тарифа \"Ультра\"\n",
    " - \"Ультра\" - лучше для потребителя они могут проще контролировать свои расходы на связь, но почти не пользуются 2/3 предложенных услуг в полной объеме.\n",
    "\n",
    "Может стоит ввести 3 тариф\n",
    "С лимитом:\n",
    "по трафику в - 20 Гб,\n",
    "по сообщениям – 100, \n",
    "по минутам – 600,\n",
    "\n",
    "Стоимостью - 1250 рублей"
   ]
  }
 ],
 "metadata": {
  "ExecuteTimeLog": [
   {
    "duration": 1119,
    "start_time": "2022-04-24T10:02:58.392Z"
   },
   {
    "duration": 360,
    "start_time": "2022-04-24T10:02:59.513Z"
   },
   {
    "duration": 3,
    "start_time": "2022-04-24T10:02:59.875Z"
   },
   {
    "duration": 157,
    "start_time": "2022-04-24T10:02:59.880Z"
   },
   {
    "duration": 220,
    "start_time": "2022-04-24T10:03:00.039Z"
   },
   {
    "duration": 14,
    "start_time": "2022-04-24T10:03:00.261Z"
   },
   {
    "duration": 14,
    "start_time": "2022-04-24T10:03:00.277Z"
   },
   {
    "duration": 12,
    "start_time": "2022-04-24T10:03:00.293Z"
   },
   {
    "duration": 10,
    "start_time": "2022-04-24T10:03:00.327Z"
   },
   {
    "duration": 32,
    "start_time": "2022-04-24T10:03:00.340Z"
   },
   {
    "duration": 83,
    "start_time": "2022-04-24T10:03:00.374Z"
   },
   {
    "duration": 9,
    "start_time": "2022-04-24T10:03:00.459Z"
   },
   {
    "duration": 46,
    "start_time": "2022-04-24T10:03:00.469Z"
   },
   {
    "duration": 21,
    "start_time": "2022-04-24T10:03:00.516Z"
   },
   {
    "duration": 68,
    "start_time": "2022-04-24T10:03:00.539Z"
   },
   {
    "duration": 19,
    "start_time": "2022-04-24T10:03:00.609Z"
   },
   {
    "duration": 39,
    "start_time": "2022-04-24T10:03:00.630Z"
   },
   {
    "duration": 21,
    "start_time": "2022-04-24T10:03:00.671Z"
   },
   {
    "duration": 40,
    "start_time": "2022-04-24T10:03:00.693Z"
   },
   {
    "duration": 1190,
    "start_time": "2022-04-24T10:03:00.734Z"
   },
   {
    "duration": 13,
    "start_time": "2022-04-24T10:03:01.926Z"
   },
   {
    "duration": 39,
    "start_time": "2022-04-24T10:03:01.940Z"
   },
   {
    "duration": 13,
    "start_time": "2022-04-24T10:03:01.980Z"
   },
   {
    "duration": 1191,
    "start_time": "2023-01-23T08:26:21.908Z"
   },
   {
    "duration": 932,
    "start_time": "2023-01-23T08:26:23.101Z"
   },
   {
    "duration": 3,
    "start_time": "2023-01-23T08:26:24.035Z"
   },
   {
    "duration": 204,
    "start_time": "2023-01-23T08:26:24.040Z"
   },
   {
    "duration": 140,
    "start_time": "2023-01-23T08:26:24.247Z"
   },
   {
    "duration": 16,
    "start_time": "2023-01-23T08:26:24.388Z"
   },
   {
    "duration": 32,
    "start_time": "2023-01-23T08:26:24.405Z"
   },
   {
    "duration": 25,
    "start_time": "2023-01-23T08:26:24.439Z"
   },
   {
    "duration": 19,
    "start_time": "2023-01-23T08:26:24.466Z"
   },
   {
    "duration": 27,
    "start_time": "2023-01-23T08:26:24.487Z"
   },
   {
    "duration": 106,
    "start_time": "2023-01-23T08:26:24.516Z"
   },
   {
    "duration": 11,
    "start_time": "2023-01-23T08:26:24.624Z"
   },
   {
    "duration": 78,
    "start_time": "2023-01-23T08:26:24.637Z"
   },
   {
    "duration": 10,
    "start_time": "2023-01-23T08:26:24.717Z"
   },
   {
    "duration": 64,
    "start_time": "2023-01-23T08:26:24.728Z"
   },
   {
    "duration": 19,
    "start_time": "2023-01-23T08:26:24.794Z"
   },
   {
    "duration": 21,
    "start_time": "2023-01-23T08:26:24.815Z"
   },
   {
    "duration": 21,
    "start_time": "2023-01-23T08:26:24.838Z"
   },
   {
    "duration": 31,
    "start_time": "2023-01-23T08:26:24.861Z"
   },
   {
    "duration": 1248,
    "start_time": "2023-01-23T08:26:24.894Z"
   },
   {
    "duration": 11,
    "start_time": "2023-01-23T08:26:26.144Z"
   },
   {
    "duration": 36,
    "start_time": "2023-01-23T08:26:26.157Z"
   },
   {
    "duration": 32,
    "start_time": "2023-01-23T08:26:26.195Z"
   }
  ],
  "kernelspec": {
   "display_name": "Python 3 (ipykernel)",
   "language": "python",
   "name": "python3"
  },
  "language_info": {
   "codemirror_mode": {
    "name": "ipython",
    "version": 3
   },
   "file_extension": ".py",
   "mimetype": "text/x-python",
   "name": "python",
   "nbconvert_exporter": "python",
   "pygments_lexer": "ipython3",
   "version": "3.9.5"
  },
  "toc": {
   "base_numbering": 1,
   "nav_menu": {},
   "number_sections": true,
   "sideBar": true,
   "skip_h1_title": true,
   "title_cell": "Содержание",
   "title_sidebar": "Contents",
   "toc_cell": true,
   "toc_position": {},
   "toc_section_display": true,
   "toc_window_display": true
  }
 },
 "nbformat": 4,
 "nbformat_minor": 5
}
