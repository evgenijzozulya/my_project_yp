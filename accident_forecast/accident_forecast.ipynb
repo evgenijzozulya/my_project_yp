{
 "cells": [
  {
   "cell_type": "markdown",
   "id": "ac7a38eb",
   "metadata": {
    "toc": true
   },
   "source": [
    "<h1>Содержание<span class=\"tocSkip\"></span></h1>\n",
    "<div class=\"toc\"><ul class=\"toc-item\"><li><span><a href=\"#Описание-проекта\" data-toc-modified-id=\"Описание-проекта-1\"><span class=\"toc-item-num\">1&nbsp;&nbsp;</span>Описание проекта</a></span></li><li><span><a href=\"#Подключитесь-к-базе.-Загрузите-таблицы-sql\" data-toc-modified-id=\"Подключитесь-к-базе.-Загрузите-таблицы-sql-2\"><span class=\"toc-item-num\">2&nbsp;&nbsp;</span>Подключитесь к базе. Загрузите таблицы sql</a></span></li><li><span><a href=\"#Проведите-первичное-исследование-таблиц\" data-toc-modified-id=\"Проведите-первичное-исследование-таблиц-3\"><span class=\"toc-item-num\">3&nbsp;&nbsp;</span>Проведите первичное исследование таблиц</a></span><ul class=\"toc-item\"><li><span><a href=\"#Выводы\" data-toc-modified-id=\"Выводы-3.1\"><span class=\"toc-item-num\">3.1&nbsp;&nbsp;</span>Выводы</a></span></li></ul></li><li><span><a href=\"#Проведите-статистический-анализ-факторов-ДТП\" data-toc-modified-id=\"Проведите-статистический-анализ-факторов-ДТП-4\"><span class=\"toc-item-num\">4&nbsp;&nbsp;</span>Проведите статистический анализ факторов ДТП</a></span><ul class=\"toc-item\"><li><span><a href=\"#Количество-аварий-по-месяцам\" data-toc-modified-id=\"Количество-аварий-по-месяцам-4.1\"><span class=\"toc-item-num\">4.1&nbsp;&nbsp;</span>Количество аварий по месяцам</a></span></li><li><span><a href=\"#Аналитические-задачи-для-колег\" data-toc-modified-id=\"Аналитические-задачи-для-колег-4.2\"><span class=\"toc-item-num\">4.2&nbsp;&nbsp;</span>Аналитические задачи для колег</a></span></li></ul></li><li><span><a href=\"#Создайте-модель-для-оценки-водительского-риска\" data-toc-modified-id=\"Создайте-модель-для-оценки-водительского-риска-5\"><span class=\"toc-item-num\">5&nbsp;&nbsp;</span>Создайте модель для оценки водительского риска</a></span><ul class=\"toc-item\"><li><span><a href=\"#Подготовьте-набор-данных-на-основе-первичного-предположения-заказчика\" data-toc-modified-id=\"Подготовьте-набор-данных-на-основе-первичного-предположения-заказчика-5.1\"><span class=\"toc-item-num\">5.1&nbsp;&nbsp;</span>Подготовьте набор данных на основе первичного предположения заказчика</a></span></li><li><span><a href=\"#Первичный-отбор-факторов,-необходимых-для-модели\" data-toc-modified-id=\"Первичный-отбор-факторов,-необходимых-для-модели-5.2\"><span class=\"toc-item-num\">5.2&nbsp;&nbsp;</span>Первичный отбор факторов, необходимых для модели</a></span></li><li><span><a href=\"#Cтатистическое-исследование-отобранных-факторов\" data-toc-modified-id=\"Cтатистическое-исследование-отобранных-факторов-5.3\"><span class=\"toc-item-num\">5.3&nbsp;&nbsp;</span>Cтатистическое исследование отобранных факторов</a></span></li><li><span><a href=\"#Подготовка-данных-для-ML\" data-toc-modified-id=\"Подготовка-данных-для-ML-5.4\"><span class=\"toc-item-num\">5.4&nbsp;&nbsp;</span>Подготовка данных для ML</a></span></li></ul></li><li><span><a href=\"#Машинное-обучение\" data-toc-modified-id=\"Машинное-обучение-6\"><span class=\"toc-item-num\">6&nbsp;&nbsp;</span>Машинное обучение</a></span><ul class=\"toc-item\"><li><span><a href=\"#Дерево-решений\" data-toc-modified-id=\"Дерево-решений-6.1\"><span class=\"toc-item-num\">6.1&nbsp;&nbsp;</span>Дерево решений</a></span></li><li><span><a href=\"#Сучайный-лес\" data-toc-modified-id=\"Сучайный-лес-6.2\"><span class=\"toc-item-num\">6.2&nbsp;&nbsp;</span>Сучайный лес</a></span></li><li><span><a href=\"#CatBoostRegressor\" data-toc-modified-id=\"CatBoostRegressor-6.3\"><span class=\"toc-item-num\">6.3&nbsp;&nbsp;</span>CatBoostRegressor</a></span></li><li><span><a href=\"#Выводы\" data-toc-modified-id=\"Выводы-6.4\"><span class=\"toc-item-num\">6.4&nbsp;&nbsp;</span>Выводы</a></span></li></ul></li><li><span><a href=\"#Проверьте-лучшую-модель-в-работе\" data-toc-modified-id=\"Проверьте-лучшую-модель-в-работе-7\"><span class=\"toc-item-num\">7&nbsp;&nbsp;</span>Проверьте лучшую модель в работе</a></span><ul class=\"toc-item\"><li><span><a href=\"#Графический-анализ-«Матрицы-ошибок».\" data-toc-modified-id=\"Графический-анализ-«Матрицы-ошибок».-7.1\"><span class=\"toc-item-num\">7.1&nbsp;&nbsp;</span>Графический анализ «Матрицы ошибок».</a></span></li><li><span><a href=\"#Важность-основных-факторов\" data-toc-modified-id=\"Важность-основных-факторов-7.2\"><span class=\"toc-item-num\">7.2&nbsp;&nbsp;</span>Важность основных факторов</a></span></li><li><span><a href=\"#Дополнительное-исследование\" data-toc-modified-id=\"Дополнительное-исследование-7.3\"><span class=\"toc-item-num\">7.3&nbsp;&nbsp;</span>Дополнительное исследование</a></span></li><li><span><a href=\"#Выводы\" data-toc-modified-id=\"Выводы-7.4\"><span class=\"toc-item-num\">7.4&nbsp;&nbsp;</span>Выводы</a></span></li></ul></li><li><span><a href=\"#Общий-вывод\" data-toc-modified-id=\"Общий-вывод-8\"><span class=\"toc-item-num\">8&nbsp;&nbsp;</span>Общий вывод</a></span></li></ul></div>"
   ]
  },
  {
   "cell_type": "markdown",
   "id": "cdf55c50",
   "metadata": {},
   "source": [
    "# Разработка системы предупреждения аварий на каршеринге"
   ]
  },
  {
   "cell_type": "markdown",
   "id": "3a74d0a5",
   "metadata": {},
   "source": [
    "## Описание проекта"
   ]
  },
  {
   "cell_type": "markdown",
   "id": "34939b9c",
   "metadata": {},
   "source": [
    "**Заказчик**\n",
    "\n",
    "Каршеринговая компания\n",
    "\n",
    "**Задача**\n",
    "\n",
    "Cоздать систему, которая могла бы оценить риск ДТП по выбранному маршруту движения. Под риском понимается вероятность ДТП с любым повреждением транспортного средства. Как только водитель забронировал автомобиль, сел за руль и выбрал маршрут, система должна оценить уровень риска. Если уровень риска высок, водитель увидит предупреждение и рекомендации по маршруту.\n",
    "Текущая задача — понять, возможно ли предсказывать ДТП\n",
    "\n",
    "**Данные**\n",
    "Исторические данные по авариям одного из регионов."
   ]
  },
  {
   "cell_type": "markdown",
   "id": "0e322c5f",
   "metadata": {
    "ExecuteTime": {
     "end_time": "2022-05-05T04:58:05.692448Z",
     "start_time": "2022-05-05T04:58:05.688565Z"
    }
   },
   "source": [
    "## Подключитесь к базе. Загрузите таблицы sql"
   ]
  },
  {
   "cell_type": "code",
   "execution_count": 1,
   "id": "f10096ac",
   "metadata": {},
   "outputs": [],
   "source": [
    "# Загружаем библиотеки\n",
    "import pandas as pd\n",
    "import numpy as np\n",
    "import matplotlib.pyplot as plt\n",
    "from sqlalchemy import create_engine \n",
    "import seaborn as sns\n",
    "from sklearn.metrics import f1_score, precision_score, recall_score, roc_auc_score, confusion_matrix, precision_recall_curve\n",
    "from sklearn.preprocessing import StandardScaler, OrdinalEncoder, OneHotEncoder\n",
    "from sklearn.ensemble import RandomForestClassifier\n",
    "from sklearn.model_selection import GridSearchCV\n",
    "from sklearn.model_selection import train_test_split\n",
    "from sklearn.tree import DecisionTreeClassifier\n",
    "from catboost import CatBoostClassifier\n",
    "from sklearn.compose import make_column_transformer"
   ]
  },
  {
   "cell_type": "code",
   "execution_count": 2,
   "id": "2b10a9b3",
   "metadata": {},
   "outputs": [],
   "source": [
    "# Конфиг для подключения к БД.\n",
    "db_config = {\n",
    "'user': 'praktikum_student', # имя пользователя,\n",
    "'pwd': 'Sdf4$2;d-d30pp', # пароль,\n",
    "'host': 'rc1b-wcoijxj3yxfsf3fs.mdb.yandexcloud.net',\n",
    "'port': 6432, # порт подключения,\n",
    "'db': 'data-science-vehicle-db' # название базы данных,\n",
    "}"
   ]
  },
  {
   "cell_type": "code",
   "execution_count": 3,
   "id": "5760d69a",
   "metadata": {},
   "outputs": [],
   "source": [
    "connection_string = 'postgresql://{}:{}@{}:{}/{}'.format(\n",
    "    db_config['user'],\n",
    "    db_config['pwd'],\n",
    "    db_config['host'],\n",
    "    db_config['port'],\n",
    "    db_config['db'],\n",
    ")"
   ]
  },
  {
   "cell_type": "code",
   "execution_count": 4,
   "id": "d38fe847",
   "metadata": {},
   "outputs": [],
   "source": [
    "# Подключаемся к БД.\n",
    "engine = create_engine(connection_string) "
   ]
  },
  {
   "cell_type": "markdown",
   "id": "e59305b6",
   "metadata": {},
   "source": [
    "## Проведите первичное исследование таблиц"
   ]
  },
  {
   "cell_type": "code",
   "execution_count": 5,
   "id": "12ad7619",
   "metadata": {},
   "outputs": [
    {
     "data": {
      "text/html": [
       "<div>\n",
       "<style scoped>\n",
       "    .dataframe tbody tr th:only-of-type {\n",
       "        vertical-align: middle;\n",
       "    }\n",
       "\n",
       "    .dataframe tbody tr th {\n",
       "        vertical-align: top;\n",
       "    }\n",
       "\n",
       "    .dataframe thead th {\n",
       "        text-align: right;\n",
       "    }\n",
       "</style>\n",
       "<table border=\"1\" class=\"dataframe\">\n",
       "  <thead>\n",
       "    <tr style=\"text-align: right;\">\n",
       "      <th></th>\n",
       "      <th>case_id</th>\n",
       "      <th>county_city_location</th>\n",
       "      <th>county_location</th>\n",
       "      <th>distance</th>\n",
       "      <th>direction</th>\n",
       "      <th>intersection</th>\n",
       "      <th>weather_1</th>\n",
       "      <th>location_type</th>\n",
       "      <th>collision_damage</th>\n",
       "      <th>party_count</th>\n",
       "      <th>primary_collision_factor</th>\n",
       "      <th>pcf_violation_category</th>\n",
       "      <th>type_of_collision</th>\n",
       "      <th>motor_vehicle_involved_with</th>\n",
       "      <th>road_surface</th>\n",
       "      <th>road_condition_1</th>\n",
       "      <th>lighting</th>\n",
       "      <th>control_device</th>\n",
       "      <th>collision_date</th>\n",
       "      <th>collision_time</th>\n",
       "    </tr>\n",
       "  </thead>\n",
       "  <tbody>\n",
       "    <tr>\n",
       "      <th>0</th>\n",
       "      <td>4083072</td>\n",
       "      <td>1942</td>\n",
       "      <td>los angeles</td>\n",
       "      <td>528.0</td>\n",
       "      <td>north</td>\n",
       "      <td>0</td>\n",
       "      <td>cloudy</td>\n",
       "      <td>highway</td>\n",
       "      <td>small damage</td>\n",
       "      <td>2</td>\n",
       "      <td>vehicle code violation</td>\n",
       "      <td>unsafe lane change</td>\n",
       "      <td>sideswipe</td>\n",
       "      <td>other motor vehicle</td>\n",
       "      <td>wet</td>\n",
       "      <td>normal</td>\n",
       "      <td>daylight</td>\n",
       "      <td>none</td>\n",
       "      <td>2009-01-22</td>\n",
       "      <td>07:25:00</td>\n",
       "    </tr>\n",
       "    <tr>\n",
       "      <th>1</th>\n",
       "      <td>4083075</td>\n",
       "      <td>4313</td>\n",
       "      <td>santa clara</td>\n",
       "      <td>0.0</td>\n",
       "      <td>None</td>\n",
       "      <td>1</td>\n",
       "      <td>clear</td>\n",
       "      <td>None</td>\n",
       "      <td>small damage</td>\n",
       "      <td>1</td>\n",
       "      <td>vehicle code violation</td>\n",
       "      <td>improper passing</td>\n",
       "      <td>hit object</td>\n",
       "      <td>fixed object</td>\n",
       "      <td>dry</td>\n",
       "      <td>normal</td>\n",
       "      <td>dark with street lights</td>\n",
       "      <td>functioning</td>\n",
       "      <td>2009-01-03</td>\n",
       "      <td>02:26:00</td>\n",
       "    </tr>\n",
       "    <tr>\n",
       "      <th>2</th>\n",
       "      <td>4083073</td>\n",
       "      <td>0109</td>\n",
       "      <td>alameda</td>\n",
       "      <td>0.0</td>\n",
       "      <td>None</td>\n",
       "      <td>1</td>\n",
       "      <td>clear</td>\n",
       "      <td>None</td>\n",
       "      <td>scratch</td>\n",
       "      <td>2</td>\n",
       "      <td>vehicle code violation</td>\n",
       "      <td>improper turning</td>\n",
       "      <td>broadside</td>\n",
       "      <td>other motor vehicle</td>\n",
       "      <td>dry</td>\n",
       "      <td>normal</td>\n",
       "      <td>dark with street lights</td>\n",
       "      <td>functioning</td>\n",
       "      <td>2009-01-11</td>\n",
       "      <td>03:32:00</td>\n",
       "    </tr>\n",
       "    <tr>\n",
       "      <th>3</th>\n",
       "      <td>4083077</td>\n",
       "      <td>0109</td>\n",
       "      <td>alameda</td>\n",
       "      <td>0.0</td>\n",
       "      <td>None</td>\n",
       "      <td>1</td>\n",
       "      <td>clear</td>\n",
       "      <td>None</td>\n",
       "      <td>scratch</td>\n",
       "      <td>2</td>\n",
       "      <td>vehicle code violation</td>\n",
       "      <td>automobile right of way</td>\n",
       "      <td>broadside</td>\n",
       "      <td>other motor vehicle</td>\n",
       "      <td>dry</td>\n",
       "      <td>normal</td>\n",
       "      <td>daylight</td>\n",
       "      <td>functioning</td>\n",
       "      <td>2009-01-11</td>\n",
       "      <td>10:35:00</td>\n",
       "    </tr>\n",
       "    <tr>\n",
       "      <th>4</th>\n",
       "      <td>4083087</td>\n",
       "      <td>4313</td>\n",
       "      <td>santa clara</td>\n",
       "      <td>0.0</td>\n",
       "      <td>None</td>\n",
       "      <td>1</td>\n",
       "      <td>clear</td>\n",
       "      <td>None</td>\n",
       "      <td>scratch</td>\n",
       "      <td>2</td>\n",
       "      <td>vehicle code violation</td>\n",
       "      <td>speeding</td>\n",
       "      <td>rear end</td>\n",
       "      <td>other motor vehicle</td>\n",
       "      <td>dry</td>\n",
       "      <td>None</td>\n",
       "      <td>dark with street lights</td>\n",
       "      <td>functioning</td>\n",
       "      <td>2009-01-02</td>\n",
       "      <td>22:43:00</td>\n",
       "    </tr>\n",
       "    <tr>\n",
       "      <th>5</th>\n",
       "      <td>4083097</td>\n",
       "      <td>0109</td>\n",
       "      <td>alameda</td>\n",
       "      <td>0.0</td>\n",
       "      <td>None</td>\n",
       "      <td>1</td>\n",
       "      <td>clear</td>\n",
       "      <td>ramp</td>\n",
       "      <td>small damage</td>\n",
       "      <td>2</td>\n",
       "      <td>vehicle code violation</td>\n",
       "      <td>speeding</td>\n",
       "      <td>rear end</td>\n",
       "      <td>other motor vehicle</td>\n",
       "      <td>dry</td>\n",
       "      <td>normal</td>\n",
       "      <td>dark with street lights</td>\n",
       "      <td>functioning</td>\n",
       "      <td>2009-01-18</td>\n",
       "      <td>02:18:00</td>\n",
       "    </tr>\n",
       "    <tr>\n",
       "      <th>6</th>\n",
       "      <td>4083092</td>\n",
       "      <td>1942</td>\n",
       "      <td>los angeles</td>\n",
       "      <td>1320.0</td>\n",
       "      <td>south</td>\n",
       "      <td>0</td>\n",
       "      <td>clear</td>\n",
       "      <td>highway</td>\n",
       "      <td>scratch</td>\n",
       "      <td>2</td>\n",
       "      <td>vehicle code violation</td>\n",
       "      <td>unsafe lane change</td>\n",
       "      <td>rear end</td>\n",
       "      <td>other motor vehicle</td>\n",
       "      <td>dry</td>\n",
       "      <td>normal</td>\n",
       "      <td>daylight</td>\n",
       "      <td>none</td>\n",
       "      <td>2009-01-21</td>\n",
       "      <td>10:30:00</td>\n",
       "    </tr>\n",
       "    <tr>\n",
       "      <th>7</th>\n",
       "      <td>4083096</td>\n",
       "      <td>1942</td>\n",
       "      <td>los angeles</td>\n",
       "      <td>200.0</td>\n",
       "      <td>south</td>\n",
       "      <td>0</td>\n",
       "      <td>clear</td>\n",
       "      <td>highway</td>\n",
       "      <td>scratch</td>\n",
       "      <td>3</td>\n",
       "      <td>vehicle code violation</td>\n",
       "      <td>speeding</td>\n",
       "      <td>rear end</td>\n",
       "      <td>other motor vehicle</td>\n",
       "      <td>dry</td>\n",
       "      <td>normal</td>\n",
       "      <td>daylight</td>\n",
       "      <td>none</td>\n",
       "      <td>2009-01-21</td>\n",
       "      <td>08:55:00</td>\n",
       "    </tr>\n",
       "    <tr>\n",
       "      <th>8</th>\n",
       "      <td>4083100</td>\n",
       "      <td>1942</td>\n",
       "      <td>los angeles</td>\n",
       "      <td>2112.0</td>\n",
       "      <td>north</td>\n",
       "      <td>0</td>\n",
       "      <td>cloudy</td>\n",
       "      <td>highway</td>\n",
       "      <td>scratch</td>\n",
       "      <td>2</td>\n",
       "      <td>vehicle code violation</td>\n",
       "      <td>speeding</td>\n",
       "      <td>rear end</td>\n",
       "      <td>other motor vehicle</td>\n",
       "      <td>dry</td>\n",
       "      <td>normal</td>\n",
       "      <td>daylight</td>\n",
       "      <td>none</td>\n",
       "      <td>2009-01-21</td>\n",
       "      <td>16:20:00</td>\n",
       "    </tr>\n",
       "    <tr>\n",
       "      <th>9</th>\n",
       "      <td>4083103</td>\n",
       "      <td>4313</td>\n",
       "      <td>santa clara</td>\n",
       "      <td>0.0</td>\n",
       "      <td>None</td>\n",
       "      <td>1</td>\n",
       "      <td>cloudy</td>\n",
       "      <td>None</td>\n",
       "      <td>scratch</td>\n",
       "      <td>2</td>\n",
       "      <td>vehicle code violation</td>\n",
       "      <td>None</td>\n",
       "      <td>broadside</td>\n",
       "      <td>other motor vehicle</td>\n",
       "      <td>wet</td>\n",
       "      <td>normal</td>\n",
       "      <td>dusk or dawn</td>\n",
       "      <td>functioning</td>\n",
       "      <td>2009-01-02</td>\n",
       "      <td>15:55:00</td>\n",
       "    </tr>\n",
       "  </tbody>\n",
       "</table>\n",
       "</div>"
      ],
      "text/plain": [
       "   case_id county_city_location county_location  distance direction  \\\n",
       "0  4083072                 1942     los angeles     528.0     north   \n",
       "1  4083075                 4313     santa clara       0.0      None   \n",
       "2  4083073                 0109         alameda       0.0      None   \n",
       "3  4083077                 0109         alameda       0.0      None   \n",
       "4  4083087                 4313     santa clara       0.0      None   \n",
       "5  4083097                 0109         alameda       0.0      None   \n",
       "6  4083092                 1942     los angeles    1320.0     south   \n",
       "7  4083096                 1942     los angeles     200.0     south   \n",
       "8  4083100                 1942     los angeles    2112.0     north   \n",
       "9  4083103                 4313     santa clara       0.0      None   \n",
       "\n",
       "   intersection weather_1 location_type collision_damage  party_count  \\\n",
       "0             0    cloudy       highway     small damage            2   \n",
       "1             1     clear          None     small damage            1   \n",
       "2             1     clear          None          scratch            2   \n",
       "3             1     clear          None          scratch            2   \n",
       "4             1     clear          None          scratch            2   \n",
       "5             1     clear          ramp     small damage            2   \n",
       "6             0     clear       highway          scratch            2   \n",
       "7             0     clear       highway          scratch            3   \n",
       "8             0    cloudy       highway          scratch            2   \n",
       "9             1    cloudy          None          scratch            2   \n",
       "\n",
       "  primary_collision_factor   pcf_violation_category type_of_collision  \\\n",
       "0   vehicle code violation       unsafe lane change         sideswipe   \n",
       "1   vehicle code violation         improper passing        hit object   \n",
       "2   vehicle code violation         improper turning         broadside   \n",
       "3   vehicle code violation  automobile right of way         broadside   \n",
       "4   vehicle code violation                 speeding          rear end   \n",
       "5   vehicle code violation                 speeding          rear end   \n",
       "6   vehicle code violation       unsafe lane change          rear end   \n",
       "7   vehicle code violation                 speeding          rear end   \n",
       "8   vehicle code violation                 speeding          rear end   \n",
       "9   vehicle code violation                     None         broadside   \n",
       "\n",
       "  motor_vehicle_involved_with road_surface road_condition_1  \\\n",
       "0         other motor vehicle          wet           normal   \n",
       "1                fixed object          dry           normal   \n",
       "2         other motor vehicle          dry           normal   \n",
       "3         other motor vehicle          dry           normal   \n",
       "4         other motor vehicle          dry             None   \n",
       "5         other motor vehicle          dry           normal   \n",
       "6         other motor vehicle          dry           normal   \n",
       "7         other motor vehicle          dry           normal   \n",
       "8         other motor vehicle          dry           normal   \n",
       "9         other motor vehicle          wet           normal   \n",
       "\n",
       "                  lighting control_device collision_date collision_time  \n",
       "0                 daylight           none     2009-01-22       07:25:00  \n",
       "1  dark with street lights    functioning     2009-01-03       02:26:00  \n",
       "2  dark with street lights    functioning     2009-01-11       03:32:00  \n",
       "3                 daylight    functioning     2009-01-11       10:35:00  \n",
       "4  dark with street lights    functioning     2009-01-02       22:43:00  \n",
       "5  dark with street lights    functioning     2009-01-18       02:18:00  \n",
       "6                 daylight           none     2009-01-21       10:30:00  \n",
       "7                 daylight           none     2009-01-21       08:55:00  \n",
       "8                 daylight           none     2009-01-21       16:20:00  \n",
       "9             dusk or dawn    functioning     2009-01-02       15:55:00  "
      ]
     },
     "metadata": {},
     "output_type": "display_data"
    },
    {
     "data": {
      "text/html": [
       "<div>\n",
       "<style scoped>\n",
       "    .dataframe tbody tr th:only-of-type {\n",
       "        vertical-align: middle;\n",
       "    }\n",
       "\n",
       "    .dataframe tbody tr th {\n",
       "        vertical-align: top;\n",
       "    }\n",
       "\n",
       "    .dataframe thead th {\n",
       "        text-align: right;\n",
       "    }\n",
       "</style>\n",
       "<table border=\"1\" class=\"dataframe\">\n",
       "  <thead>\n",
       "    <tr style=\"text-align: right;\">\n",
       "      <th></th>\n",
       "      <th>id</th>\n",
       "      <th>case_id</th>\n",
       "      <th>party_number</th>\n",
       "      <th>party_type</th>\n",
       "      <th>at_fault</th>\n",
       "      <th>insurance_premium</th>\n",
       "      <th>party_sobriety</th>\n",
       "      <th>party_drug_physical</th>\n",
       "      <th>cellphone_in_use</th>\n",
       "    </tr>\n",
       "  </thead>\n",
       "  <tbody>\n",
       "    <tr>\n",
       "      <th>0</th>\n",
       "      <td>22</td>\n",
       "      <td>3899454</td>\n",
       "      <td>1</td>\n",
       "      <td>road signs</td>\n",
       "      <td>1</td>\n",
       "      <td>29.0</td>\n",
       "      <td>had not been drinking</td>\n",
       "      <td>None</td>\n",
       "      <td>0.0</td>\n",
       "    </tr>\n",
       "    <tr>\n",
       "      <th>1</th>\n",
       "      <td>23</td>\n",
       "      <td>3899454</td>\n",
       "      <td>2</td>\n",
       "      <td>road signs</td>\n",
       "      <td>0</td>\n",
       "      <td>7.0</td>\n",
       "      <td>had not been drinking</td>\n",
       "      <td>None</td>\n",
       "      <td>0.0</td>\n",
       "    </tr>\n",
       "    <tr>\n",
       "      <th>2</th>\n",
       "      <td>29</td>\n",
       "      <td>3899462</td>\n",
       "      <td>2</td>\n",
       "      <td>car</td>\n",
       "      <td>0</td>\n",
       "      <td>21.0</td>\n",
       "      <td>had not been drinking</td>\n",
       "      <td>None</td>\n",
       "      <td>0.0</td>\n",
       "    </tr>\n",
       "    <tr>\n",
       "      <th>3</th>\n",
       "      <td>31</td>\n",
       "      <td>3899465</td>\n",
       "      <td>2</td>\n",
       "      <td>road signs</td>\n",
       "      <td>0</td>\n",
       "      <td>24.0</td>\n",
       "      <td>had not been drinking</td>\n",
       "      <td>None</td>\n",
       "      <td>0.0</td>\n",
       "    </tr>\n",
       "    <tr>\n",
       "      <th>4</th>\n",
       "      <td>41</td>\n",
       "      <td>3899478</td>\n",
       "      <td>2</td>\n",
       "      <td>road bumper</td>\n",
       "      <td>0</td>\n",
       "      <td>NaN</td>\n",
       "      <td>not applicable</td>\n",
       "      <td>not applicable</td>\n",
       "      <td>0.0</td>\n",
       "    </tr>\n",
       "    <tr>\n",
       "      <th>5</th>\n",
       "      <td>43</td>\n",
       "      <td>3899481</td>\n",
       "      <td>2</td>\n",
       "      <td>road bumper</td>\n",
       "      <td>0</td>\n",
       "      <td>NaN</td>\n",
       "      <td>not applicable</td>\n",
       "      <td>not applicable</td>\n",
       "      <td>0.0</td>\n",
       "    </tr>\n",
       "    <tr>\n",
       "      <th>6</th>\n",
       "      <td>72</td>\n",
       "      <td>3899505</td>\n",
       "      <td>2</td>\n",
       "      <td>road bumper</td>\n",
       "      <td>0</td>\n",
       "      <td>NaN</td>\n",
       "      <td>not applicable</td>\n",
       "      <td>not applicable</td>\n",
       "      <td>0.0</td>\n",
       "    </tr>\n",
       "    <tr>\n",
       "      <th>7</th>\n",
       "      <td>73</td>\n",
       "      <td>3899505</td>\n",
       "      <td>3</td>\n",
       "      <td>road bumper</td>\n",
       "      <td>0</td>\n",
       "      <td>NaN</td>\n",
       "      <td>not applicable</td>\n",
       "      <td>not applicable</td>\n",
       "      <td>0.0</td>\n",
       "    </tr>\n",
       "    <tr>\n",
       "      <th>8</th>\n",
       "      <td>76</td>\n",
       "      <td>3899509</td>\n",
       "      <td>1</td>\n",
       "      <td>road bumper</td>\n",
       "      <td>0</td>\n",
       "      <td>NaN</td>\n",
       "      <td>had not been drinking</td>\n",
       "      <td>None</td>\n",
       "      <td>0.0</td>\n",
       "    </tr>\n",
       "    <tr>\n",
       "      <th>9</th>\n",
       "      <td>93</td>\n",
       "      <td>3981292</td>\n",
       "      <td>2</td>\n",
       "      <td>road bumper</td>\n",
       "      <td>0</td>\n",
       "      <td>NaN</td>\n",
       "      <td>had not been drinking</td>\n",
       "      <td>None</td>\n",
       "      <td>NaN</td>\n",
       "    </tr>\n",
       "  </tbody>\n",
       "</table>\n",
       "</div>"
      ],
      "text/plain": [
       "   id  case_id  party_number   party_type  at_fault  insurance_premium  \\\n",
       "0  22  3899454             1   road signs         1               29.0   \n",
       "1  23  3899454             2   road signs         0                7.0   \n",
       "2  29  3899462             2          car         0               21.0   \n",
       "3  31  3899465             2   road signs         0               24.0   \n",
       "4  41  3899478             2  road bumper         0                NaN   \n",
       "5  43  3899481             2  road bumper         0                NaN   \n",
       "6  72  3899505             2  road bumper         0                NaN   \n",
       "7  73  3899505             3  road bumper         0                NaN   \n",
       "8  76  3899509             1  road bumper         0                NaN   \n",
       "9  93  3981292             2  road bumper         0                NaN   \n",
       "\n",
       "          party_sobriety party_drug_physical  cellphone_in_use  \n",
       "0  had not been drinking                None               0.0  \n",
       "1  had not been drinking                None               0.0  \n",
       "2  had not been drinking                None               0.0  \n",
       "3  had not been drinking                None               0.0  \n",
       "4         not applicable      not applicable               0.0  \n",
       "5         not applicable      not applicable               0.0  \n",
       "6         not applicable      not applicable               0.0  \n",
       "7         not applicable      not applicable               0.0  \n",
       "8  had not been drinking                None               0.0  \n",
       "9  had not been drinking                None               NaN  "
      ]
     },
     "metadata": {},
     "output_type": "display_data"
    },
    {
     "data": {
      "text/html": [
       "<div>\n",
       "<style scoped>\n",
       "    .dataframe tbody tr th:only-of-type {\n",
       "        vertical-align: middle;\n",
       "    }\n",
       "\n",
       "    .dataframe tbody tr th {\n",
       "        vertical-align: top;\n",
       "    }\n",
       "\n",
       "    .dataframe thead th {\n",
       "        text-align: right;\n",
       "    }\n",
       "</style>\n",
       "<table border=\"1\" class=\"dataframe\">\n",
       "  <thead>\n",
       "    <tr style=\"text-align: right;\">\n",
       "      <th></th>\n",
       "      <th>id</th>\n",
       "      <th>case_id</th>\n",
       "      <th>party_number</th>\n",
       "      <th>vehicle_type</th>\n",
       "      <th>vehicle_transmission</th>\n",
       "      <th>vehicle_age</th>\n",
       "    </tr>\n",
       "  </thead>\n",
       "  <tbody>\n",
       "    <tr>\n",
       "      <th>0</th>\n",
       "      <td>1175713</td>\n",
       "      <td>5305032</td>\n",
       "      <td>2</td>\n",
       "      <td>sedan</td>\n",
       "      <td>manual</td>\n",
       "      <td>3</td>\n",
       "    </tr>\n",
       "    <tr>\n",
       "      <th>1</th>\n",
       "      <td>1</td>\n",
       "      <td>3858022</td>\n",
       "      <td>1</td>\n",
       "      <td>sedan</td>\n",
       "      <td>auto</td>\n",
       "      <td>3</td>\n",
       "    </tr>\n",
       "    <tr>\n",
       "      <th>2</th>\n",
       "      <td>1175712</td>\n",
       "      <td>5305030</td>\n",
       "      <td>1</td>\n",
       "      <td>sedan</td>\n",
       "      <td>auto</td>\n",
       "      <td>3</td>\n",
       "    </tr>\n",
       "    <tr>\n",
       "      <th>3</th>\n",
       "      <td>1175717</td>\n",
       "      <td>5305033</td>\n",
       "      <td>3</td>\n",
       "      <td>sedan</td>\n",
       "      <td>auto</td>\n",
       "      <td>5</td>\n",
       "    </tr>\n",
       "    <tr>\n",
       "      <th>4</th>\n",
       "      <td>1175722</td>\n",
       "      <td>5305034</td>\n",
       "      <td>2</td>\n",
       "      <td>sedan</td>\n",
       "      <td>auto</td>\n",
       "      <td>5</td>\n",
       "    </tr>\n",
       "    <tr>\n",
       "      <th>5</th>\n",
       "      <td>1175737</td>\n",
       "      <td>5305046</td>\n",
       "      <td>2</td>\n",
       "      <td>sedan</td>\n",
       "      <td>auto</td>\n",
       "      <td>5</td>\n",
       "    </tr>\n",
       "    <tr>\n",
       "      <th>6</th>\n",
       "      <td>1175750</td>\n",
       "      <td>5305053</td>\n",
       "      <td>3</td>\n",
       "      <td>sedan</td>\n",
       "      <td>auto</td>\n",
       "      <td>9</td>\n",
       "    </tr>\n",
       "    <tr>\n",
       "      <th>7</th>\n",
       "      <td>1175715</td>\n",
       "      <td>5305033</td>\n",
       "      <td>1</td>\n",
       "      <td>sedan</td>\n",
       "      <td>manual</td>\n",
       "      <td>10</td>\n",
       "    </tr>\n",
       "    <tr>\n",
       "      <th>8</th>\n",
       "      <td>1175716</td>\n",
       "      <td>5305033</td>\n",
       "      <td>2</td>\n",
       "      <td>sedan</td>\n",
       "      <td>manual</td>\n",
       "      <td>4</td>\n",
       "    </tr>\n",
       "    <tr>\n",
       "      <th>9</th>\n",
       "      <td>1175758</td>\n",
       "      <td>5305060</td>\n",
       "      <td>2</td>\n",
       "      <td>sedan</td>\n",
       "      <td>auto</td>\n",
       "      <td>11</td>\n",
       "    </tr>\n",
       "  </tbody>\n",
       "</table>\n",
       "</div>"
      ],
      "text/plain": [
       "        id  case_id  party_number vehicle_type vehicle_transmission  \\\n",
       "0  1175713  5305032             2        sedan               manual   \n",
       "1        1  3858022             1        sedan                 auto   \n",
       "2  1175712  5305030             1        sedan                 auto   \n",
       "3  1175717  5305033             3        sedan                 auto   \n",
       "4  1175722  5305034             2        sedan                 auto   \n",
       "5  1175737  5305046             2        sedan                 auto   \n",
       "6  1175750  5305053             3        sedan                 auto   \n",
       "7  1175715  5305033             1        sedan               manual   \n",
       "8  1175716  5305033             2        sedan               manual   \n",
       "9  1175758  5305060             2        sedan                 auto   \n",
       "\n",
       "   vehicle_age  \n",
       "0            3  \n",
       "1            3  \n",
       "2            3  \n",
       "3            5  \n",
       "4            5  \n",
       "5            5  \n",
       "6            9  \n",
       "7           10  \n",
       "8            4  \n",
       "9           11  "
      ]
     },
     "metadata": {},
     "output_type": "display_data"
    }
   ],
   "source": [
    "tables = ['collisions', 'Parties', 'Vehicles'] # Список таблиц.\n",
    "\n",
    "for table in tables:\n",
    "\n",
    "    query = '''\n",
    "    SELECT *\n",
    "    FROM ''' + table +  ''' \n",
    "    LIMIT 10;\n",
    "    '''\n",
    "\n",
    "    display(pd.read_sql_query(query, con=engine)) "
   ]
  },
  {
   "cell_type": "markdown",
   "id": "79d1f089",
   "metadata": {},
   "source": [
    "### Выводы"
   ]
  },
  {
   "cell_type": "markdown",
   "id": "995b42e2",
   "metadata": {},
   "source": [
    "- Все три таблицы есть в БД;\n",
    "- Все три таблицы содержат заданное количество столбцов;\n",
    "- Общие ключи на месте.\n",
    "\n",
    "Данные на месте, можно работать. \n",
    "\n",
    "**Примечание:**\n",
    "\n",
    "ER не соотвествует описанию БД в тексте, проверял по ER."
   ]
  },
  {
   "cell_type": "markdown",
   "id": "55c937c3",
   "metadata": {},
   "source": [
    "##  Проведите статистический анализ факторов ДТП"
   ]
  },
  {
   "cell_type": "markdown",
   "id": "26cd73fe",
   "metadata": {},
   "source": [
    "### Количество аварий по месяцам"
   ]
  },
  {
   "cell_type": "code",
   "execution_count": 6,
   "id": "a0d9397c",
   "metadata": {
    "scrolled": false
   },
   "outputs": [
    {
     "data": {
      "image/png": "[encoded data removed]",
      "text/plain": [
       "<Figure size 1440x720 with 1 Axes>"
      ]
     },
     "metadata": {
      "needs_background": "light"
     },
     "output_type": "display_data"
    }
   ],
   "source": [
    "# В какие месяцы происходит наибольшее количество аварий. \n",
    "query = '''\n",
    "SELECT DATE_TRUNC('month', collision_date)::date as month,\n",
    "        count(*) as count\n",
    "FROM collisions\n",
    "WHERE  collision_date < '2012-07-01'\n",
    "GROUP BY month\n",
    "ORDER BY month\n",
    "'''\n",
    "\n",
    "month_collisions= pd.read_sql_query(query, con=engine)\n",
    "\n",
    "plt.figure(figsize=(20, 10))\n",
    "plt.title('Месяц - количество аварий' )\n",
    "sns.barplot(x=month_collisions['month'], y = month_collisions['count'])\n",
    "plt.xlabel('Месяц')\n",
    "plt.ylabel('Количество аварий')\n",
    "plt.grid(True)\n",
    "plt.xticks(rotation=45)\n",
    "\n",
    "plt.show() "
   ]
  },
  {
   "cell_type": "markdown",
   "id": "11f482c6",
   "metadata": {},
   "source": [
    "**Примечание:** \n",
    "Задача сформулирована, не однозначно. Т.к. данные в таблице не за полные года, только 2009, 2010, и 2011, решил не суммировать по месяцам, также все же решил ограничить 01.06.2012, т.к далее данные по авариям сильно падают и уменьшают наглядность."
   ]
  },
  {
   "cell_type": "markdown",
   "id": "8ca9d63f",
   "metadata": {},
   "source": [
    "**Вывод:**\n",
    "- Самый аварийный месяц, если судить по трем полным годам это октябрь;\n",
    "- Мене аварийные месяцы это январь, ферваль."
   ]
  },
  {
   "cell_type": "markdown",
   "id": "e36e2352",
   "metadata": {},
   "source": [
    "### Аналитические задачи для колег"
   ]
  },
  {
   "cell_type": "markdown",
   "id": "9a29e7d6",
   "metadata": {},
   "source": [
    "**Задача 1:**\n",
    "\n",
    "Сделать анализ связи возраста автомобиля и среднего значения страховой премии (таблицы Parties и Vehicles):\n",
    "\n",
    "Порядок решения:\n",
    "- Создайте sql-запрос;\n",
    "- Построить столбчатую диаграмму, с распределением по годам, высота столбика определяется средним значением страховой премии;\n",
    "- Проанализировать полученный результат, описать закономерности  при их наличии."
   ]
  },
  {
   "cell_type": "markdown",
   "id": "bffa8da1",
   "metadata": {},
   "source": [
    "**Задача 2:**\n",
    "\n",
    "Сделать анализ связи тип КПП и Трезвость участника (таблицы Parties и Vehicles), вывести процент нетрезвых водителей (значения Had Been Drinking, Under Influence, Had Been Drinking, Not Under Influence, Had Been Drinking, Impairment Unknown) от общему числу виновников по типу, для отбора использовать только виновников и тип участника происшествия (CAR):\n",
    "\n",
    "Порядок решения:\n",
    "\n",
    "- Создайте sql-запрос;\n",
    "- Построить столбчатую диаграмму;\n",
    "- Проанализировать полученный результат, сделайте предположения о причинах."
   ]
  },
  {
   "cell_type": "markdown",
   "id": "2ed16f3a",
   "metadata": {},
   "source": [
    "**Задача 3:**\n",
    "\n",
    "Проанализировать в какое время суток происходить больше всего серьезных аварий (COLLISION_DAMAGE - FATAL ТС и SEVERE DAMAGE) , сутки разбить на 8 интервалов по 3 часа начиная с 00.00, данные взять только за 2011."
   ]
  },
  {
   "cell_type": "markdown",
   "id": "206a1224",
   "metadata": {},
   "source": [
    "**Задача 4:**\n",
    "\n",
    "Найдите самые частые типы аварий при плохой освещённости (все кроме Дневной свет)."
   ]
  },
  {
   "cell_type": "markdown",
   "id": "d1533ea8",
   "metadata": {},
   "source": [
    "**Задача 5:**\n",
    "\n",
    "Проанализировать, где чаще происходят ДТП на перекрёстке или вне его. "
   ]
  },
  {
   "cell_type": "markdown",
   "id": "2d546c87",
   "metadata": {},
   "source": [
    "**Задача 6:**\n",
    "\n",
    "Проанализировать какие тип виновника ДТП кроме car, является причиной несерьезных повреждений (SMALL DAMAGE и SCRATCH). "
   ]
  },
  {
   "cell_type": "markdown",
   "id": "7f679b86",
   "metadata": {},
   "source": [
    "## Создайте модель для оценки водительского риска"
   ]
  },
  {
   "cell_type": "markdown",
   "id": "8ca2ae6b",
   "metadata": {},
   "source": [
    "### Подготовьте набор данных на основе первичного предположения заказчика"
   ]
  },
  {
   "cell_type": "code",
   "execution_count": 7,
   "id": "eee39c0c",
   "metadata": {},
   "outputs": [
    {
     "data": {
      "text/plain": [
       "case_id    3640\n",
       "dtype: int64"
      ]
     },
     "execution_count": 7,
     "metadata": {},
     "output_type": "execute_result"
    }
   ],
   "source": [
    "# Т.к нужно убрать те проишествия, в которых виновники не машины, проверим такие записи\n",
    "query = '''\n",
    "SELECT DISTINCT case_id\n",
    "FROM collisions\n",
    "    INNER JOIN parties USING (case_id)\n",
    "WHERE  party_type <> 'car' \n",
    "    AND EXTRACT(year from collision_date) = 2012\n",
    "    AND collision_damage <> 'scratch'\n",
    "    AND at_fault = 1\n",
    "   \n",
    "'''\n",
    "pd.read_sql_query(query, con=engine).count() "
   ]
  },
  {
   "cell_type": "code",
   "execution_count": 8,
   "id": "383a8f30",
   "metadata": {},
   "outputs": [],
   "source": [
    "# Отбираем нужные данные.\n",
    "query = '''\n",
    "SELECT *\n",
    "FROM collisions\n",
    "    INNER JOIN parties USING (case_id)\n",
    "    INNER JOIN vehicles USING (case_id, party_number)\n",
    "WHERE  party_type = 'car' \n",
    "    AND EXTRACT(year from collision_date) = 2012\n",
    "    AND collision_damage <> 'scratch'\n",
    "    AND case_id not in (\n",
    "        SELECT DISTINCT case_id\n",
    "        FROM collisions\n",
    "            INNER JOIN parties USING (case_id)\n",
    "        WHERE  party_type <> 'car' \n",
    "            AND EXTRACT(year from collision_date) = 2012\n",
    "            AND collision_damage <> 'scratch'\n",
    "            AND at_fault = 1            \n",
    "   )\n",
    "'''\n",
    "\n",
    "df = pd.read_sql_query(query, con=engine)"
   ]
  },
  {
   "cell_type": "code",
   "execution_count": 9,
   "id": "dfcb2bed",
   "metadata": {},
   "outputs": [
    {
     "data": {
      "text/html": [
       "<div>\n",
       "<style scoped>\n",
       "    .dataframe tbody tr th:only-of-type {\n",
       "        vertical-align: middle;\n",
       "    }\n",
       "\n",
       "    .dataframe tbody tr th {\n",
       "        vertical-align: top;\n",
       "    }\n",
       "\n",
       "    .dataframe thead th {\n",
       "        text-align: right;\n",
       "    }\n",
       "</style>\n",
       "<table border=\"1\" class=\"dataframe\">\n",
       "  <thead>\n",
       "    <tr style=\"text-align: right;\">\n",
       "      <th></th>\n",
       "      <th>case_id</th>\n",
       "      <th>party_number</th>\n",
       "      <th>county_city_location</th>\n",
       "      <th>county_location</th>\n",
       "      <th>distance</th>\n",
       "      <th>direction</th>\n",
       "      <th>intersection</th>\n",
       "      <th>weather_1</th>\n",
       "      <th>location_type</th>\n",
       "      <th>collision_damage</th>\n",
       "      <th>...</th>\n",
       "      <th>party_type</th>\n",
       "      <th>at_fault</th>\n",
       "      <th>insurance_premium</th>\n",
       "      <th>party_sobriety</th>\n",
       "      <th>party_drug_physical</th>\n",
       "      <th>cellphone_in_use</th>\n",
       "      <th>id</th>\n",
       "      <th>vehicle_type</th>\n",
       "      <th>vehicle_transmission</th>\n",
       "      <th>vehicle_age</th>\n",
       "    </tr>\n",
       "  </thead>\n",
       "  <tbody>\n",
       "    <tr>\n",
       "      <th>0</th>\n",
       "      <td>5449062</td>\n",
       "      <td>2</td>\n",
       "      <td>0708</td>\n",
       "      <td>contra costa</td>\n",
       "      <td>21.0</td>\n",
       "      <td>east</td>\n",
       "      <td>0.0</td>\n",
       "      <td>clear</td>\n",
       "      <td>None</td>\n",
       "      <td>small damage</td>\n",
       "      <td>...</td>\n",
       "      <td>car</td>\n",
       "      <td>0</td>\n",
       "      <td>54.0</td>\n",
       "      <td>had not been drinking</td>\n",
       "      <td>None</td>\n",
       "      <td>0.0</td>\n",
       "      <td>1320506</td>\n",
       "      <td>sedan</td>\n",
       "      <td>manual</td>\n",
       "      <td>10.0</td>\n",
       "    </tr>\n",
       "    <tr>\n",
       "      <th>1</th>\n",
       "      <td>5600850</td>\n",
       "      <td>2</td>\n",
       "      <td>5604</td>\n",
       "      <td>ventura</td>\n",
       "      <td>150.0</td>\n",
       "      <td>north</td>\n",
       "      <td>0.0</td>\n",
       "      <td>clear</td>\n",
       "      <td>highway</td>\n",
       "      <td>small damage</td>\n",
       "      <td>...</td>\n",
       "      <td>car</td>\n",
       "      <td>0</td>\n",
       "      <td>NaN</td>\n",
       "      <td>impairment unknown</td>\n",
       "      <td>G</td>\n",
       "      <td>0.0</td>\n",
       "      <td>1465119</td>\n",
       "      <td>sedan</td>\n",
       "      <td>auto</td>\n",
       "      <td>NaN</td>\n",
       "    </tr>\n",
       "    <tr>\n",
       "      <th>2</th>\n",
       "      <td>5600893</td>\n",
       "      <td>1</td>\n",
       "      <td>2908</td>\n",
       "      <td>nevada</td>\n",
       "      <td>190.0</td>\n",
       "      <td>east</td>\n",
       "      <td>0.0</td>\n",
       "      <td>clear</td>\n",
       "      <td>None</td>\n",
       "      <td>small damage</td>\n",
       "      <td>...</td>\n",
       "      <td>car</td>\n",
       "      <td>1</td>\n",
       "      <td>38.0</td>\n",
       "      <td>had been drinking, under influence</td>\n",
       "      <td>None</td>\n",
       "      <td>0.0</td>\n",
       "      <td>1465137</td>\n",
       "      <td>sedan</td>\n",
       "      <td>auto</td>\n",
       "      <td>6.0</td>\n",
       "    </tr>\n",
       "    <tr>\n",
       "      <th>3</th>\n",
       "      <td>5603123</td>\n",
       "      <td>1</td>\n",
       "      <td>1600</td>\n",
       "      <td>kings</td>\n",
       "      <td>2640.0</td>\n",
       "      <td>east</td>\n",
       "      <td>0.0</td>\n",
       "      <td>cloudy</td>\n",
       "      <td>highway</td>\n",
       "      <td>small damage</td>\n",
       "      <td>...</td>\n",
       "      <td>car</td>\n",
       "      <td>1</td>\n",
       "      <td>20.0</td>\n",
       "      <td>had not been drinking</td>\n",
       "      <td>None</td>\n",
       "      <td>0.0</td>\n",
       "      <td>1466829</td>\n",
       "      <td>sedan</td>\n",
       "      <td>auto</td>\n",
       "      <td>11.0</td>\n",
       "    </tr>\n",
       "    <tr>\n",
       "      <th>4</th>\n",
       "      <td>5455644</td>\n",
       "      <td>3</td>\n",
       "      <td>4806</td>\n",
       "      <td>solano</td>\n",
       "      <td>350.0</td>\n",
       "      <td>south</td>\n",
       "      <td>0.0</td>\n",
       "      <td>cloudy</td>\n",
       "      <td>ramp</td>\n",
       "      <td>small damage</td>\n",
       "      <td>...</td>\n",
       "      <td>car</td>\n",
       "      <td>1</td>\n",
       "      <td>22.0</td>\n",
       "      <td>had not been drinking</td>\n",
       "      <td>None</td>\n",
       "      <td>0.0</td>\n",
       "      <td>1327255</td>\n",
       "      <td>sedan</td>\n",
       "      <td>manual</td>\n",
       "      <td>3.0</td>\n",
       "    </tr>\n",
       "    <tr>\n",
       "      <th>5</th>\n",
       "      <td>5455680</td>\n",
       "      <td>3</td>\n",
       "      <td>3001</td>\n",
       "      <td>orange</td>\n",
       "      <td>0.0</td>\n",
       "      <td>None</td>\n",
       "      <td>1.0</td>\n",
       "      <td>clear</td>\n",
       "      <td>None</td>\n",
       "      <td>small damage</td>\n",
       "      <td>...</td>\n",
       "      <td>car</td>\n",
       "      <td>0</td>\n",
       "      <td>59.0</td>\n",
       "      <td>had not been drinking</td>\n",
       "      <td>None</td>\n",
       "      <td>0.0</td>\n",
       "      <td>1327290</td>\n",
       "      <td>sedan</td>\n",
       "      <td>manual</td>\n",
       "      <td>NaN</td>\n",
       "    </tr>\n",
       "    <tr>\n",
       "      <th>6</th>\n",
       "      <td>5455686</td>\n",
       "      <td>1</td>\n",
       "      <td>3906</td>\n",
       "      <td>san joaquin</td>\n",
       "      <td>400.0</td>\n",
       "      <td>west</td>\n",
       "      <td>0.0</td>\n",
       "      <td>fog</td>\n",
       "      <td>highway</td>\n",
       "      <td>small damage</td>\n",
       "      <td>...</td>\n",
       "      <td>car</td>\n",
       "      <td>1</td>\n",
       "      <td>30.0</td>\n",
       "      <td>had not been drinking</td>\n",
       "      <td>None</td>\n",
       "      <td>0.0</td>\n",
       "      <td>1327306</td>\n",
       "      <td>sedan</td>\n",
       "      <td>manual</td>\n",
       "      <td>3.0</td>\n",
       "    </tr>\n",
       "    <tr>\n",
       "      <th>7</th>\n",
       "      <td>5455744</td>\n",
       "      <td>1</td>\n",
       "      <td>1908</td>\n",
       "      <td>los angeles</td>\n",
       "      <td>500.0</td>\n",
       "      <td>east</td>\n",
       "      <td>0.0</td>\n",
       "      <td>clear</td>\n",
       "      <td>highway</td>\n",
       "      <td>small damage</td>\n",
       "      <td>...</td>\n",
       "      <td>car</td>\n",
       "      <td>1</td>\n",
       "      <td>20.0</td>\n",
       "      <td>had not been drinking</td>\n",
       "      <td>None</td>\n",
       "      <td>0.0</td>\n",
       "      <td>1327383</td>\n",
       "      <td>sedan</td>\n",
       "      <td>manual</td>\n",
       "      <td>3.0</td>\n",
       "    </tr>\n",
       "    <tr>\n",
       "      <th>8</th>\n",
       "      <td>5606248</td>\n",
       "      <td>2</td>\n",
       "      <td>3394</td>\n",
       "      <td>riverside</td>\n",
       "      <td>904.0</td>\n",
       "      <td>west</td>\n",
       "      <td>0.0</td>\n",
       "      <td>clear</td>\n",
       "      <td>None</td>\n",
       "      <td>small damage</td>\n",
       "      <td>...</td>\n",
       "      <td>car</td>\n",
       "      <td>0</td>\n",
       "      <td>46.0</td>\n",
       "      <td>had not been drinking</td>\n",
       "      <td>None</td>\n",
       "      <td>0.0</td>\n",
       "      <td>1469301</td>\n",
       "      <td>sedan</td>\n",
       "      <td>auto</td>\n",
       "      <td>NaN</td>\n",
       "    </tr>\n",
       "    <tr>\n",
       "      <th>9</th>\n",
       "      <td>5606260</td>\n",
       "      <td>2</td>\n",
       "      <td>3902</td>\n",
       "      <td>san joaquin</td>\n",
       "      <td>378.0</td>\n",
       "      <td>south</td>\n",
       "      <td>0.0</td>\n",
       "      <td>cloudy</td>\n",
       "      <td>None</td>\n",
       "      <td>small damage</td>\n",
       "      <td>...</td>\n",
       "      <td>car</td>\n",
       "      <td>0</td>\n",
       "      <td>41.0</td>\n",
       "      <td>had not been drinking</td>\n",
       "      <td>None</td>\n",
       "      <td>0.0</td>\n",
       "      <td>1469310</td>\n",
       "      <td>sedan</td>\n",
       "      <td>auto</td>\n",
       "      <td>2.0</td>\n",
       "    </tr>\n",
       "  </tbody>\n",
       "</table>\n",
       "<p>10 rows × 32 columns</p>\n",
       "</div>"
      ],
      "text/plain": [
       "   case_id  party_number county_city_location county_location  distance  \\\n",
       "0  5449062             2                 0708    contra costa      21.0   \n",
       "1  5600850             2                 5604         ventura     150.0   \n",
       "2  5600893             1                 2908          nevada     190.0   \n",
       "3  5603123             1                 1600           kings    2640.0   \n",
       "4  5455644             3                 4806          solano     350.0   \n",
       "5  5455680             3                 3001          orange       0.0   \n",
       "6  5455686             1                 3906     san joaquin     400.0   \n",
       "7  5455744             1                 1908     los angeles     500.0   \n",
       "8  5606248             2                 3394       riverside     904.0   \n",
       "9  5606260             2                 3902     san joaquin     378.0   \n",
       "\n",
       "  direction  intersection weather_1 location_type collision_damage  ...  \\\n",
       "0      east           0.0     clear          None     small damage  ...   \n",
       "1     north           0.0     clear       highway     small damage  ...   \n",
       "2      east           0.0     clear          None     small damage  ...   \n",
       "3      east           0.0    cloudy       highway     small damage  ...   \n",
       "4     south           0.0    cloudy          ramp     small damage  ...   \n",
       "5      None           1.0     clear          None     small damage  ...   \n",
       "6      west           0.0       fog       highway     small damage  ...   \n",
       "7      east           0.0     clear       highway     small damage  ...   \n",
       "8      west           0.0     clear          None     small damage  ...   \n",
       "9     south           0.0    cloudy          None     small damage  ...   \n",
       "\n",
       "   party_type at_fault insurance_premium                      party_sobriety  \\\n",
       "0         car        0              54.0               had not been drinking   \n",
       "1         car        0               NaN                  impairment unknown   \n",
       "2         car        1              38.0  had been drinking, under influence   \n",
       "3         car        1              20.0               had not been drinking   \n",
       "4         car        1              22.0               had not been drinking   \n",
       "5         car        0              59.0               had not been drinking   \n",
       "6         car        1              30.0               had not been drinking   \n",
       "7         car        1              20.0               had not been drinking   \n",
       "8         car        0              46.0               had not been drinking   \n",
       "9         car        0              41.0               had not been drinking   \n",
       "\n",
       "  party_drug_physical cellphone_in_use       id vehicle_type  \\\n",
       "0                None              0.0  1320506        sedan   \n",
       "1                   G              0.0  1465119        sedan   \n",
       "2                None              0.0  1465137        sedan   \n",
       "3                None              0.0  1466829        sedan   \n",
       "4                None              0.0  1327255        sedan   \n",
       "5                None              0.0  1327290        sedan   \n",
       "6                None              0.0  1327306        sedan   \n",
       "7                None              0.0  1327383        sedan   \n",
       "8                None              0.0  1469301        sedan   \n",
       "9                None              0.0  1469310        sedan   \n",
       "\n",
       "  vehicle_transmission vehicle_age  \n",
       "0               manual        10.0  \n",
       "1                 auto         NaN  \n",
       "2                 auto         6.0  \n",
       "3                 auto        11.0  \n",
       "4               manual         3.0  \n",
       "5               manual         NaN  \n",
       "6               manual         3.0  \n",
       "7               manual         3.0  \n",
       "8                 auto         NaN  \n",
       "9                 auto         2.0  \n",
       "\n",
       "[10 rows x 32 columns]"
      ]
     },
     "execution_count": 9,
     "metadata": {},
     "output_type": "execute_result"
    }
   ],
   "source": [
    "#  Смотрим, что получилось.\n",
    "df.head(10)"
   ]
  },
  {
   "cell_type": "code",
   "execution_count": 10,
   "id": "d9bfb5b7",
   "metadata": {},
   "outputs": [
    {
     "data": {
      "text/plain": [
       "0"
      ]
     },
     "execution_count": 10,
     "metadata": {},
     "output_type": "execute_result"
    }
   ],
   "source": [
    "# Проверим на дубликаты.\n",
    "df.duplicated().sum()"
   ]
  },
  {
   "cell_type": "code",
   "execution_count": 11,
   "id": "2350ac3e",
   "metadata": {},
   "outputs": [
    {
     "name": "stdout",
     "output_type": "stream",
     "text": [
      "<class 'pandas.core.frame.DataFrame'>\n",
      "RangeIndex: 55614 entries, 0 to 55613\n",
      "Data columns (total 32 columns):\n",
      " #   Column                       Non-Null Count  Dtype  \n",
      "---  ------                       --------------  -----  \n",
      " 0   case_id                      55614 non-null  object \n",
      " 1   party_number                 55614 non-null  int64  \n",
      " 2   county_city_location         55614 non-null  object \n",
      " 3   county_location              55614 non-null  object \n",
      " 4   distance                     55614 non-null  float64\n",
      " 5   direction                    42773 non-null  object \n",
      " 6   intersection                 55443 non-null  float64\n",
      " 7   weather_1                    55447 non-null  object \n",
      " 8   location_type                25830 non-null  object \n",
      " 9   collision_damage             55614 non-null  object \n",
      " 10  party_count                  55614 non-null  int64  \n",
      " 11  primary_collision_factor     55503 non-null  object \n",
      " 12  pcf_violation_category       54875 non-null  object \n",
      " 13  type_of_collision            55314 non-null  object \n",
      " 14  motor_vehicle_involved_with  55456 non-null  object \n",
      " 15  road_surface                 55269 non-null  object \n",
      " 16  road_condition_1             55370 non-null  object \n",
      " 17  lighting                     55463 non-null  object \n",
      " 18  control_device               55403 non-null  object \n",
      " 19  collision_date               55614 non-null  object \n",
      " 20  collision_time               55526 non-null  object \n",
      " 21  id                           55614 non-null  int64  \n",
      " 22  party_type                   55614 non-null  object \n",
      " 23  at_fault                     55614 non-null  int64  \n",
      " 24  insurance_premium            55069 non-null  float64\n",
      " 25  party_sobriety               54744 non-null  object \n",
      " 26  party_drug_physical          2842 non-null   object \n",
      " 27  cellphone_in_use             51208 non-null  float64\n",
      " 28  id                           55614 non-null  int64  \n",
      " 29  vehicle_type                 55614 non-null  object \n",
      " 30  vehicle_transmission         54769 non-null  object \n",
      " 31  vehicle_age                  53956 non-null  float64\n",
      "dtypes: float64(5), int64(5), object(22)\n",
      "memory usage: 13.6+ MB\n"
     ]
    }
   ],
   "source": [
    "df.info()"
   ]
  },
  {
   "cell_type": "markdown",
   "id": "34bc6f5e",
   "metadata": {},
   "source": [
    "**Выводы по данным:**\n",
    "\n",
    "- case_id – для анализа не требуется, это просто id (0).                          \n",
    "- party_number - для анализа не требуется, использовалось для объединения таблиц (0).                  \n",
    "- county_city_location - для анализа не требуется, очень сужает применение модели(0).                \n",
    "- county_location - для анализа не требуется, очень сужает применение модели (0).                    \n",
    "- distance -  для анализа не требуется, этот параметр невозможно задать до аварии, да и вовремя движения может манятся несколько раз (0).                       \n",
    "- direction - для анализа не требуется, этот параметр невозможно задать до аварии, да и вовремя движения направления манятся несколько раз (0).                         \n",
    "- intersection – можно использовать для анализа, т.к. маршрут вычислен, и посмотреть опасные места, большое количество аварий происходят на перекрёстках (1).                 \n",
    "- weather_1 - можно использовать для анализа, прогноз погоды получить просто (1).                     \n",
    "- location_type – можно использовать для анализа, но большое количество null значений (0) попробуем анализ через intersection.\n",
    "- collision_damage - для анализа не требуется, этот параметр невозможно задать до аварии (0).                     \n",
    "- party_count - для анализа не требуется, этот параметр невозможно задать до аварии (0).                      \n",
    "- primary_collision_factor – для анализа не требуется, этот параметр невозможно задать до аварии (0).        \n",
    "- pcf_violation_category - для анализа не требуется, этот параметр невозможно задать до аварии (0).               \n",
    "- type_of_collision - для анализа не требуется, этот параметр невозможно задать до аварии (0).              \n",
    "- motor_vehicle_involved_with - для анализа не требуется, этот параметр невозможно задать до аварии (0).         \n",
    "- road_surface – коррелируется с погодой, по погоде проще получить данные, чем по состоянию конкретного участка дороги (0).      - road_condition_1 - можно использовать для анализа, т.к. маршрут вычислен, но вопрос ест ли такие данные (1).            \n",
    "- lighting - можно использовать для анализа, т.к. маршрут вычислен (1).\n",
    "- control_device - для анализа не требуется, этот параметр невозможно задать до аварии (0).                  \n",
    "- collision_date – есть зависимость от аварийности от месяца, но за 2012 не полные данные, для анализа применять не будем (0).\n",
    "- collision_time – цикличные данные лучше использовать, lighting (0).                  \n",
    "- id – для анализа не требуется, это просто id (0).                            \n",
    "- insurance_premium – попробуем использовать для анализа, может есть зависимость(1).            \n",
    "- party_sobriety – можно использовать, при условии установки алкотестера(1).                   \n",
    "- party_drug_physical – сложно оценить до начала поездки или аварии, плюс почти все данные null (0).                \n",
    "- cellphone_in_use – можно использовать, может есть зависимость (1).             \n",
    "- id - для анализа не требуется, это просто id (0).                           \n",
    "- vehicle_type - можно использовать, может и есть зависимость (1).                    \n",
    "- vehicle_transmission - можно использовать, может и есть зависимость (1).            \n",
    "- vehicle_age – необходимо использовать (1).                 \n",
    "- at_fault – целевой параметр.  "
   ]
  },
  {
   "cell_type": "markdown",
   "id": "fa1f473d",
   "metadata": {},
   "source": [
    "### Первичный отбор факторов, необходимых для модели"
   ]
  },
  {
   "cell_type": "code",
   "execution_count": 12,
   "id": "a9730855",
   "metadata": {},
   "outputs": [],
   "source": [
    "# Отберем параметры для анализа\n",
    "columms = [ 'weather_1',\n",
    "           'intersection',\n",
    "           'road_condition_1',\n",
    "           'lighting',\n",
    "           'party_sobriety',\n",
    "           'cellphone_in_use',\n",
    "           'vehicle_type',\n",
    "           'vehicle_transmission',\n",
    "           'vehicle_age', \n",
    "           'insurance_premium',\n",
    "           'at_fault'\n",
    "]"
   ]
  },
  {
   "cell_type": "code",
   "execution_count": 13,
   "id": "b127b258",
   "metadata": {},
   "outputs": [],
   "source": [
    "df_ml = df[columms]"
   ]
  },
  {
   "cell_type": "code",
   "execution_count": 14,
   "id": "9e3aad79",
   "metadata": {},
   "outputs": [
    {
     "data": {
      "text/html": [
       "<div>\n",
       "<style scoped>\n",
       "    .dataframe tbody tr th:only-of-type {\n",
       "        vertical-align: middle;\n",
       "    }\n",
       "\n",
       "    .dataframe tbody tr th {\n",
       "        vertical-align: top;\n",
       "    }\n",
       "\n",
       "    .dataframe thead th {\n",
       "        text-align: right;\n",
       "    }\n",
       "</style>\n",
       "<table border=\"1\" class=\"dataframe\">\n",
       "  <thead>\n",
       "    <tr style=\"text-align: right;\">\n",
       "      <th></th>\n",
       "      <th>weather_1</th>\n",
       "      <th>intersection</th>\n",
       "      <th>road_condition_1</th>\n",
       "      <th>lighting</th>\n",
       "      <th>party_sobriety</th>\n",
       "      <th>cellphone_in_use</th>\n",
       "      <th>vehicle_type</th>\n",
       "      <th>vehicle_transmission</th>\n",
       "      <th>vehicle_age</th>\n",
       "      <th>insurance_premium</th>\n",
       "      <th>at_fault</th>\n",
       "    </tr>\n",
       "  </thead>\n",
       "  <tbody>\n",
       "    <tr>\n",
       "      <th>0</th>\n",
       "      <td>clear</td>\n",
       "      <td>0.0</td>\n",
       "      <td>normal</td>\n",
       "      <td>dark with street lights</td>\n",
       "      <td>had not been drinking</td>\n",
       "      <td>0.0</td>\n",
       "      <td>sedan</td>\n",
       "      <td>manual</td>\n",
       "      <td>10.0</td>\n",
       "      <td>54.0</td>\n",
       "      <td>0</td>\n",
       "    </tr>\n",
       "    <tr>\n",
       "      <th>1</th>\n",
       "      <td>clear</td>\n",
       "      <td>0.0</td>\n",
       "      <td>normal</td>\n",
       "      <td>daylight</td>\n",
       "      <td>impairment unknown</td>\n",
       "      <td>0.0</td>\n",
       "      <td>sedan</td>\n",
       "      <td>auto</td>\n",
       "      <td>NaN</td>\n",
       "      <td>NaN</td>\n",
       "      <td>0</td>\n",
       "    </tr>\n",
       "    <tr>\n",
       "      <th>2</th>\n",
       "      <td>clear</td>\n",
       "      <td>0.0</td>\n",
       "      <td>normal</td>\n",
       "      <td>dark with no street lights</td>\n",
       "      <td>had been drinking, under influence</td>\n",
       "      <td>0.0</td>\n",
       "      <td>sedan</td>\n",
       "      <td>auto</td>\n",
       "      <td>6.0</td>\n",
       "      <td>38.0</td>\n",
       "      <td>1</td>\n",
       "    </tr>\n",
       "    <tr>\n",
       "      <th>3</th>\n",
       "      <td>cloudy</td>\n",
       "      <td>0.0</td>\n",
       "      <td>normal</td>\n",
       "      <td>daylight</td>\n",
       "      <td>had not been drinking</td>\n",
       "      <td>0.0</td>\n",
       "      <td>sedan</td>\n",
       "      <td>auto</td>\n",
       "      <td>11.0</td>\n",
       "      <td>20.0</td>\n",
       "      <td>1</td>\n",
       "    </tr>\n",
       "    <tr>\n",
       "      <th>4</th>\n",
       "      <td>cloudy</td>\n",
       "      <td>0.0</td>\n",
       "      <td>normal</td>\n",
       "      <td>daylight</td>\n",
       "      <td>had not been drinking</td>\n",
       "      <td>0.0</td>\n",
       "      <td>sedan</td>\n",
       "      <td>manual</td>\n",
       "      <td>3.0</td>\n",
       "      <td>22.0</td>\n",
       "      <td>1</td>\n",
       "    </tr>\n",
       "    <tr>\n",
       "      <th>...</th>\n",
       "      <td>...</td>\n",
       "      <td>...</td>\n",
       "      <td>...</td>\n",
       "      <td>...</td>\n",
       "      <td>...</td>\n",
       "      <td>...</td>\n",
       "      <td>...</td>\n",
       "      <td>...</td>\n",
       "      <td>...</td>\n",
       "      <td>...</td>\n",
       "      <td>...</td>\n",
       "    </tr>\n",
       "    <tr>\n",
       "      <th>55609</th>\n",
       "      <td>clear</td>\n",
       "      <td>0.0</td>\n",
       "      <td>normal</td>\n",
       "      <td>daylight</td>\n",
       "      <td>had not been drinking</td>\n",
       "      <td>0.0</td>\n",
       "      <td>coupe</td>\n",
       "      <td>auto</td>\n",
       "      <td>3.0</td>\n",
       "      <td>19.0</td>\n",
       "      <td>1</td>\n",
       "    </tr>\n",
       "    <tr>\n",
       "      <th>55610</th>\n",
       "      <td>clear</td>\n",
       "      <td>0.0</td>\n",
       "      <td>normal</td>\n",
       "      <td>daylight</td>\n",
       "      <td>had been drinking, under influence</td>\n",
       "      <td>0.0</td>\n",
       "      <td>coupe</td>\n",
       "      <td>auto</td>\n",
       "      <td>10.0</td>\n",
       "      <td>62.0</td>\n",
       "      <td>1</td>\n",
       "    </tr>\n",
       "    <tr>\n",
       "      <th>55611</th>\n",
       "      <td>clear</td>\n",
       "      <td>1.0</td>\n",
       "      <td>normal</td>\n",
       "      <td>daylight</td>\n",
       "      <td>had not been drinking</td>\n",
       "      <td>0.0</td>\n",
       "      <td>coupe</td>\n",
       "      <td>manual</td>\n",
       "      <td>5.0</td>\n",
       "      <td>34.0</td>\n",
       "      <td>0</td>\n",
       "    </tr>\n",
       "    <tr>\n",
       "      <th>55612</th>\n",
       "      <td>clear</td>\n",
       "      <td>1.0</td>\n",
       "      <td>normal</td>\n",
       "      <td>daylight</td>\n",
       "      <td>had not been drinking</td>\n",
       "      <td>0.0</td>\n",
       "      <td>coupe</td>\n",
       "      <td>manual</td>\n",
       "      <td>9.0</td>\n",
       "      <td>61.0</td>\n",
       "      <td>1</td>\n",
       "    </tr>\n",
       "    <tr>\n",
       "      <th>55613</th>\n",
       "      <td>clear</td>\n",
       "      <td>0.0</td>\n",
       "      <td>normal</td>\n",
       "      <td>daylight</td>\n",
       "      <td>had not been drinking</td>\n",
       "      <td>0.0</td>\n",
       "      <td>coupe</td>\n",
       "      <td>auto</td>\n",
       "      <td>3.0</td>\n",
       "      <td>20.0</td>\n",
       "      <td>0</td>\n",
       "    </tr>\n",
       "  </tbody>\n",
       "</table>\n",
       "<p>55614 rows × 11 columns</p>\n",
       "</div>"
      ],
      "text/plain": [
       "      weather_1  intersection road_condition_1                    lighting  \\\n",
       "0         clear           0.0           normal     dark with street lights   \n",
       "1         clear           0.0           normal                    daylight   \n",
       "2         clear           0.0           normal  dark with no street lights   \n",
       "3        cloudy           0.0           normal                    daylight   \n",
       "4        cloudy           0.0           normal                    daylight   \n",
       "...         ...           ...              ...                         ...   \n",
       "55609     clear           0.0           normal                    daylight   \n",
       "55610     clear           0.0           normal                    daylight   \n",
       "55611     clear           1.0           normal                    daylight   \n",
       "55612     clear           1.0           normal                    daylight   \n",
       "55613     clear           0.0           normal                    daylight   \n",
       "\n",
       "                           party_sobriety  cellphone_in_use vehicle_type  \\\n",
       "0                   had not been drinking               0.0        sedan   \n",
       "1                      impairment unknown               0.0        sedan   \n",
       "2      had been drinking, under influence               0.0        sedan   \n",
       "3                   had not been drinking               0.0        sedan   \n",
       "4                   had not been drinking               0.0        sedan   \n",
       "...                                   ...               ...          ...   \n",
       "55609               had not been drinking               0.0        coupe   \n",
       "55610  had been drinking, under influence               0.0        coupe   \n",
       "55611               had not been drinking               0.0        coupe   \n",
       "55612               had not been drinking               0.0        coupe   \n",
       "55613               had not been drinking               0.0        coupe   \n",
       "\n",
       "      vehicle_transmission  vehicle_age  insurance_premium  at_fault  \n",
       "0                   manual         10.0               54.0         0  \n",
       "1                     auto          NaN                NaN         0  \n",
       "2                     auto          6.0               38.0         1  \n",
       "3                     auto         11.0               20.0         1  \n",
       "4                   manual          3.0               22.0         1  \n",
       "...                    ...          ...                ...       ...  \n",
       "55609                 auto          3.0               19.0         1  \n",
       "55610                 auto         10.0               62.0         1  \n",
       "55611               manual          5.0               34.0         0  \n",
       "55612               manual          9.0               61.0         1  \n",
       "55613                 auto          3.0               20.0         0  \n",
       "\n",
       "[55614 rows x 11 columns]"
      ]
     },
     "execution_count": 14,
     "metadata": {},
     "output_type": "execute_result"
    }
   ],
   "source": [
    "df_ml"
   ]
  },
  {
   "cell_type": "code",
   "execution_count": 15,
   "id": "451f88a4",
   "metadata": {},
   "outputs": [
    {
     "data": {
      "text/plain": [
       "30255"
      ]
     },
     "execution_count": 15,
     "metadata": {},
     "output_type": "execute_result"
    }
   ],
   "source": [
    "# Проверим на дубликаты.\n",
    "df_ml.duplicated().sum()"
   ]
  },
  {
   "cell_type": "code",
   "execution_count": 16,
   "id": "abe4db74",
   "metadata": {},
   "outputs": [],
   "source": [
    "# Убирем дубликаты они нам будут только мешать.\n",
    "df_ml = df_ml.drop_duplicates().reset_index(drop=True)"
   ]
  },
  {
   "cell_type": "code",
   "execution_count": 17,
   "id": "a4933c80",
   "metadata": {},
   "outputs": [
    {
     "name": "stdout",
     "output_type": "stream",
     "text": [
      "<class 'pandas.core.frame.DataFrame'>\n",
      "RangeIndex: 25359 entries, 0 to 25358\n",
      "Data columns (total 11 columns):\n",
      " #   Column                Non-Null Count  Dtype  \n",
      "---  ------                --------------  -----  \n",
      " 0   weather_1             25194 non-null  object \n",
      " 1   intersection          25191 non-null  float64\n",
      " 2   road_condition_1      25116 non-null  object \n",
      " 3   lighting              25208 non-null  object \n",
      " 4   party_sobriety        24593 non-null  object \n",
      " 5   cellphone_in_use      21707 non-null  float64\n",
      " 6   vehicle_type          25359 non-null  object \n",
      " 7   vehicle_transmission  24576 non-null  object \n",
      " 8   vehicle_age           24085 non-null  float64\n",
      " 9   insurance_premium     24960 non-null  float64\n",
      " 10  at_fault              25359 non-null  int64  \n",
      "dtypes: float64(4), int64(1), object(6)\n",
      "memory usage: 2.1+ MB\n"
     ]
    }
   ],
   "source": [
    "df_ml.info()"
   ]
  },
  {
   "cell_type": "markdown",
   "id": "059bff38",
   "metadata": {},
   "source": [
    "**Вывод:**\n",
    "\n",
    "- После того как, мы отобрали необходимые данные, видим, что появилось много дубликатов, причем если убрать insurance_premium дубликатов станет еще больше, это говорит об малой вариативности данных. "
   ]
  },
  {
   "cell_type": "markdown",
   "id": "d601adc2",
   "metadata": {},
   "source": [
    "### Cтатистическое исследование отобранных факторов"
   ]
  },
  {
   "cell_type": "code",
   "execution_count": 18,
   "id": "2c8174e7",
   "metadata": {},
   "outputs": [],
   "source": [
    "# Категориальные данные.\n",
    "cat_column = [ 'weather_1',\n",
    "           'intersection',\n",
    "           'road_condition_1',\n",
    "           'lighting',\n",
    "           'party_sobriety',\n",
    "           'cellphone_in_use',\n",
    "           'vehicle_type',\n",
    "           'vehicle_transmission'\n",
    "]"
   ]
  },
  {
   "cell_type": "code",
   "execution_count": 19,
   "id": "33cb4aaf",
   "metadata": {
    "scrolled": false
   },
   "outputs": [
    {
     "name": "stdout",
     "output_type": "stream",
     "text": [
      "weather_1\n",
      "clear      0.702350\n",
      "cloudy     0.210844\n",
      "raining    0.071843\n",
      "fog        0.007025\n",
      "snowing    0.006192\n",
      "other      0.001310\n",
      "wind       0.000437\n",
      "Name: weather_1, dtype: float64\n",
      "intersection\n",
      "0.0    0.716486\n",
      "1.0    0.283514\n",
      "Name: intersection, dtype: float64\n",
      "road_condition_1\n",
      "normal            0.927815\n",
      "construction      0.036073\n",
      "obstruction       0.009715\n",
      "other             0.008998\n",
      "holes             0.008520\n",
      "loose material    0.004857\n",
      "reduced width     0.002747\n",
      "flooded           0.001274\n",
      "Name: road_condition_1, dtype: float64\n",
      "lighting\n",
      "daylight                                   0.565693\n",
      "dark with street lights                    0.249405\n",
      "dark with no street lights                 0.121588\n",
      "dusk or dawn                               0.058235\n",
      "dark with street lights not functioning    0.005078\n",
      "Name: lighting, dtype: float64\n",
      "party_sobriety\n",
      "had not been drinking                     0.822307\n",
      "had been drinking, under influence        0.095678\n",
      "impairment unknown                        0.041394\n",
      "had been drinking, not under influence    0.020738\n",
      "not applicable                            0.009962\n",
      "had been drinking, impairment unknown     0.009922\n",
      "Name: party_sobriety, dtype: float64\n",
      "cellphone_in_use\n",
      "0.0    0.955867\n",
      "1.0    0.044133\n",
      "Name: cellphone_in_use, dtype: float64\n",
      "vehicle_type\n",
      "sedan    0.713869\n",
      "coupe    0.285973\n",
      "other    0.000158\n",
      "Name: vehicle_type, dtype: float64\n",
      "vehicle_transmission\n",
      "manual    0.518677\n",
      "auto      0.481323\n",
      "Name: vehicle_transmission, dtype: float64\n"
     ]
    }
   ],
   "source": [
    "# Выводим значение категориальных данных \n",
    "for column in cat_column:\n",
    "    print(column)\n",
    "    print(df_ml[column].value_counts(normalize=True))"
   ]
  },
  {
   "cell_type": "code",
   "execution_count": 20,
   "id": "ed40205f",
   "metadata": {},
   "outputs": [
    {
     "data": {
      "image/png": "[encoded data removed]",
      "text/plain": [
       "<Figure size 648x648 with 1 Axes>"
      ]
     },
     "metadata": {
      "needs_background": "light"
     },
     "output_type": "display_data"
    }
   ],
   "source": [
    "# Строим гистаграмму по возрасту машины.\n",
    "plt.subplots(figsize=(9, 9))\n",
    "plt.title('Возраст машины', fontsize=16)\n",
    "sns.histplot(      # гистограммы плотности\n",
    "            df_ml.loc[df_ml['vehicle_age'] < 20 , 'vehicle_age'],\n",
    "            kde=True,\n",
    "            stat=\"density\", \n",
    "            linewidth=1)       \n",
    "plt.grid(True)\n",
    "plt.show()"
   ]
  },
  {
   "cell_type": "code",
   "execution_count": 21,
   "id": "4e0e093a",
   "metadata": {},
   "outputs": [
    {
     "data": {
      "image/png": "[encoded data removed]",
      "text/plain": [
       "<Figure size 648x648 with 1 Axes>"
      ]
     },
     "metadata": {
      "needs_background": "light"
     },
     "output_type": "display_data"
    }
   ],
   "source": [
    "# Строим гистаграмму по cтраховой премии.\n",
    "plt.subplots(figsize=(9, 9))\n",
    "plt.title('Страховая премия', fontsize=16)\n",
    "sns.histplot(      # гистограммы плотности\n",
    "            df_ml['insurance_premium'],\n",
    "            kde=True,\n",
    "            stat=\"density\", \n",
    "            linewidth=1)       \n",
    "plt.grid(True)\n",
    "plt.show()"
   ]
  },
  {
   "cell_type": "code",
   "execution_count": 22,
   "id": "0b151922",
   "metadata": {},
   "outputs": [
    {
     "data": {
      "text/plain": [
       "1    0.526559\n",
       "0    0.473441\n",
       "Name: at_fault, dtype: float64"
      ]
     },
     "execution_count": 22,
     "metadata": {},
     "output_type": "execute_result"
    }
   ],
   "source": [
    "# Проверим баланс.\n",
    "df_ml['at_fault'].value_counts(normalize=True)"
   ]
  },
  {
   "cell_type": "markdown",
   "id": "c36ff0c9",
   "metadata": {},
   "source": [
    "**План по обработке:**\n",
    "\n",
    "- weather_1 – укрупним данные, отнесем все малые явление к other, что будет означать какие-то помехи с погодой. Null значения заполним other, сильно на выборке не скажется.\n",
    "- intersection  –  все хорошо, Null значения заполним 0.\n",
    "- road_condition_1 – reduced width и flooded укрупним в other, Null значения заполним other, сильно на выборке не скажется.\n",
    "- lighting – значение dark with street lights not functioning отнесем к dark with no street lights. Null значения заполним other.\n",
    "-  cellphone_in_use – Null значения заполним 0.  \n",
    "- party_sobriety – сделаем 3 значения had not been drinking, had been drinking, unknown. Null значения заполним unknown. Т.к, вря ли алкортестер может определить, те градации которые есть.\n",
    "- vehicle_transmission – Null значения заполним manual.\n",
    "- vehicle_type – other слишком мало уберём строки.     \n",
    "- vehicle_age –  все что старше 15 присвоим 16, Null заполним средним, были выбросы в 161 год. \n",
    "- insurance_premium – Null значения заполним 0."
   ]
  },
  {
   "cell_type": "code",
   "execution_count": 23,
   "id": "19896eeb",
   "metadata": {},
   "outputs": [],
   "source": [
    "# Обработка данных.\n",
    "df_ml['weather_1'] = df_ml['weather_1'].fillna('other')\n",
    "df_ml.loc[df['weather_1'] == 'wind', 'weather_1'] = 'other'"
   ]
  },
  {
   "cell_type": "code",
   "execution_count": 24,
   "id": "629567d6",
   "metadata": {},
   "outputs": [],
   "source": [
    "# Обработка данных.\n",
    "df_ml['intersection'] = df_ml['intersection'].fillna(0)"
   ]
  },
  {
   "cell_type": "code",
   "execution_count": 25,
   "id": "0dc2fbf4",
   "metadata": {},
   "outputs": [],
   "source": [
    "# Обработка данных.\n",
    "df_ml['road_condition_1'] = df_ml['road_condition_1'].fillna('other')\n",
    "df_ml.loc[df['road_condition_1'].isin(['reduced width', 'flooded']), 'road_condition_1'] = 'other'"
   ]
  },
  {
   "cell_type": "code",
   "execution_count": 26,
   "id": "9ebceea4",
   "metadata": {},
   "outputs": [],
   "source": [
    "# Обработка данных.\n",
    "df_ml['cellphone_in_use'] = df_ml['cellphone_in_use'].fillna(0)"
   ]
  },
  {
   "cell_type": "code",
   "execution_count": 27,
   "id": "37517606",
   "metadata": {},
   "outputs": [],
   "source": [
    "# Обработка данных.\n",
    "df_ml['lighting'] = df_ml['lighting'].fillna('other')"
   ]
  },
  {
   "cell_type": "code",
   "execution_count": 28,
   "id": "3455e8bd",
   "metadata": {},
   "outputs": [],
   "source": [
    "# Обработка данных.\n",
    "df_ml['party_sobriety'] = df_ml['party_sobriety'].fillna('unknown')\n",
    "df_ml.loc[df['party_sobriety'].isin(['impairment unknown', 'not applicable']), 'party_sobriety'] = 'unknown'\n",
    "df_ml.loc[~df_ml['party_sobriety'].isin(['unknown', 'had not been drinking']), 'party_sobriety'] = 'had been drinking'"
   ]
  },
  {
   "cell_type": "code",
   "execution_count": 29,
   "id": "888e318b",
   "metadata": {},
   "outputs": [],
   "source": [
    "# Обработка данных.\n",
    "df_ml['vehicle_transmission'] = df_ml['vehicle_transmission'].fillna('manual')"
   ]
  },
  {
   "cell_type": "code",
   "execution_count": 30,
   "id": "c461709e",
   "metadata": {},
   "outputs": [],
   "source": [
    "# Обработка данных.\n",
    "df_ml['insurance_premium'] = df_ml['insurance_premium'].fillna(0)"
   ]
  },
  {
   "cell_type": "code",
   "execution_count": 31,
   "id": "b55bd6c2",
   "metadata": {},
   "outputs": [],
   "source": [
    "# Обработка данных.\n",
    "df_ml.loc[df['vehicle_age'] > 15, 'vehicle_age'] = 16\n",
    "mean = round(df['vehicle_age'].mean(), 0)\n",
    "df_ml['vehicle_age'] = df_ml['vehicle_age'].fillna(mean)"
   ]
  },
  {
   "cell_type": "code",
   "execution_count": 32,
   "id": "f643cf12",
   "metadata": {},
   "outputs": [
    {
     "data": {
      "text/plain": [
       "3553"
      ]
     },
     "execution_count": 32,
     "metadata": {},
     "output_type": "execute_result"
    }
   ],
   "source": [
    "# Еще раз дубликаты.\n",
    "df_ml.duplicated().sum()"
   ]
  },
  {
   "cell_type": "code",
   "execution_count": 33,
   "id": "a1e55481",
   "metadata": {},
   "outputs": [],
   "source": [
    "df_ml = df_ml.drop_duplicates().reset_index(drop=True)"
   ]
  },
  {
   "cell_type": "code",
   "execution_count": 34,
   "id": "f8fafc7b",
   "metadata": {},
   "outputs": [
    {
     "name": "stdout",
     "output_type": "stream",
     "text": [
      "<class 'pandas.core.frame.DataFrame'>\n",
      "RangeIndex: 21806 entries, 0 to 21805\n",
      "Data columns (total 11 columns):\n",
      " #   Column                Non-Null Count  Dtype  \n",
      "---  ------                --------------  -----  \n",
      " 0   weather_1             21806 non-null  object \n",
      " 1   intersection          21806 non-null  float64\n",
      " 2   road_condition_1      21806 non-null  object \n",
      " 3   lighting              21806 non-null  object \n",
      " 4   party_sobriety        21806 non-null  object \n",
      " 5   cellphone_in_use      21806 non-null  float64\n",
      " 6   vehicle_type          21806 non-null  object \n",
      " 7   vehicle_transmission  21806 non-null  object \n",
      " 8   vehicle_age           21806 non-null  float64\n",
      " 9   insurance_premium     21806 non-null  float64\n",
      " 10  at_fault              21806 non-null  int64  \n",
      "dtypes: float64(4), int64(1), object(6)\n",
      "memory usage: 1.8+ MB\n"
     ]
    }
   ],
   "source": [
    "# Проверим результат.\n",
    "df_ml.info()"
   ]
  },
  {
   "cell_type": "markdown",
   "id": "b5f947e5",
   "metadata": {},
   "source": [
    "**Вывод:**\n",
    "\n",
    "- Предположение подтвердилось, доминирует одно, два значения по каждой категории. \n",
    "- Числовых значений не имеют явных отклонений, распределение Гаусса с небольшими правыми хвостами.\n",
    "- Ключовая метрика в балансе. "
   ]
  },
  {
   "cell_type": "markdown",
   "id": "887d9f1b",
   "metadata": {},
   "source": [
    "### Подготовка данных для ML"
   ]
  },
  {
   "cell_type": "markdown",
   "id": "48a2927b",
   "metadata": {},
   "source": [
    "**План**\n",
    "- Т.к. будем применять \"деревянные модели\" сделаем OrdinalEncoder для категориальных признаков.\n",
    "- Для CatBoost воспользуемся встроенным методом.\n",
    "- Смасштабируем количественные показатели. "
   ]
  },
  {
   "cell_type": "code",
   "execution_count": 35,
   "id": "08b5524d",
   "metadata": {},
   "outputs": [],
   "source": [
    "# Разделим на features и target для CatBoost.\n",
    "features = df_ml.drop(['at_fault'] , axis=1)\n",
    "target = df_ml['at_fault']"
   ]
  },
  {
   "cell_type": "code",
   "execution_count": 36,
   "id": "62014373",
   "metadata": {},
   "outputs": [],
   "source": [
    "# Разделим на  train и test для CatBoost.\n",
    "features_train, features_test, target_train, target_test = train_test_split(\n",
    "    features,\n",
    "    target, \n",
    "    test_size=0.3, \n",
    "    random_state=12345,\n",
    "    shuffle=True,\n",
    "    stratify=target\n",
    ")"
   ]
  },
  {
   "cell_type": "code",
   "execution_count": 37,
   "id": "0c978e2c",
   "metadata": {},
   "outputs": [],
   "source": [
    "encoder = OrdinalEncoder(handle_unknown='ignore')"
   ]
  },
  {
   "cell_type": "code",
   "execution_count": 38,
   "id": "26cd67ae",
   "metadata": {},
   "outputs": [],
   "source": [
    "category_columns = [ 'weather_1',\n",
    "           'road_condition_1',\n",
    "           'lighting',\n",
    "           'party_sobriety',\n",
    "           'vehicle_type',\n",
    "           'vehicle_transmission'\n",
    "]"
   ]
  },
  {
   "cell_type": "code",
   "execution_count": 39,
   "id": "a0b142e2",
   "metadata": {},
   "outputs": [],
   "source": [
    "features_oe_train = features_train.copy()\n",
    "features_oe_test = features_test.copy()\n",
    "\n",
    "features_oe_train[category_columns] = encoder.fit_transform(features_train[category_columns])\n",
    "features_oe_test[category_columns] = encoder.transform(features_test[category_columns])"
   ]
  },
  {
   "cell_type": "code",
   "execution_count": 40,
   "id": "ff461bd2",
   "metadata": {},
   "outputs": [],
   "source": [
    "# Проведем масштабирование\n",
    "pd.options.mode.chained_assignment = None\n",
    "\n",
    "numeric = ['insurance_premium',\n",
    "           'vehicle_age']\n",
    "\n",
    "scaler = StandardScaler()\n",
    "scaler.fit(features_train[numeric])\n",
    "features_train[numeric] = scaler.transform(features_train[numeric])\n",
    "features_test[numeric] = scaler.transform(features_test[numeric])\n",
    "features_oe_train[numeric] = scaler.transform(features_oe_train[numeric])\n",
    "features_oe_test[numeric] = scaler.transform(features_oe_test[numeric])"
   ]
  },
  {
   "cell_type": "code",
   "execution_count": 41,
   "id": "8ea8ea17",
   "metadata": {},
   "outputs": [
    {
     "name": "stdout",
     "output_type": "stream",
     "text": [
      "(15264, 10)\n",
      "(15264,)\n",
      "(6542, 10)\n",
      "(6542,)\n",
      "(15264, 10)\n",
      "(6542, 10)\n"
     ]
    }
   ],
   "source": [
    "# Проверим результат.\n",
    "print(features_train.shape)\n",
    "print(target_train.shape)\n",
    "print(features_test.shape)\n",
    "print(target_test.shape)\n",
    "print(features_oe_train.shape)\n",
    "print(features_oe_test.shape)"
   ]
  },
  {
   "cell_type": "markdown",
   "id": "def65659",
   "metadata": {},
   "source": [
    "## Машинное обучение"
   ]
  },
  {
   "cell_type": "code",
   "execution_count": 42,
   "id": "0e8b7de9",
   "metadata": {},
   "outputs": [],
   "source": [
    "# Функция для вывода значений Precision, Recall, F1-мера, AUC-ROC по обученной модели\n",
    "# со следующими параметрами:\n",
    "#    - значения признаков;\n",
    "#    - значения целевого признака;\n",
    "#    - обученная модель. \n",
    "\n",
    "def print_metrics(features, target, model): \n",
    "    \n",
    "    predicted = model.predict(features)\n",
    "    probabilities_one = model.predict_proba(features)[:, 1] \n",
    "\n",
    "    print(f'Precision: {precision_score(target, predicted):.3f}')\n",
    "    print(f'Recall: {recall_score(target, predicted):.3f}')\n",
    "    print(f'F1-мера: {f1_score(target, predicted):.3f}')\n",
    "    print(f'AUC-ROC: {roc_auc_score(target, probabilities_one): .3f}')"
   ]
  },
  {
   "cell_type": "code",
   "execution_count": 43,
   "id": "3699d06c",
   "metadata": {},
   "outputs": [],
   "source": [
    "# Функция threshold_predict для подбора порога, для тренировочных данных и вывода значений Precision, Recall, F1-мера,  \n",
    "# вывода значений Precision, Recall, F1-мера, для тестовых со следующими параметрами:\n",
    "#    - обученная модель\n",
    "#    - значения признаков тренировочных данных;\n",
    "#    - значения целевого признака тренировочных данных;\n",
    "#    - значения признаков тестовых данных;\n",
    "#    - значения целевого признака тестовых данных. \n",
    "\n",
    "def threshold_predict(model, features_train, target_train, features_test, target_test):\n",
    "    probabilities_one_train = model.best_estimator_.predict_proba(features_train)[:, 1] \n",
    "\n",
    "    f1_best = 0\n",
    "    threshold_best = -1\n",
    "\n",
    "    for threshold in np.arange(0, 1.01, 0.01): # цикл со смещением порога\n",
    "        predicted_train = probabilities_one_train >= threshold  # \n",
    "        f1 = f1_score(target_train, predicted_train)\n",
    "        if f1 > f1_best:\n",
    "            f1_best = f1\n",
    "            threshold_best = threshold\n",
    "            \n",
    "    probabilities_one_test = model.best_estimator_.predict_proba(features_test)[:, 1] \n",
    "    precision = precision_score(target_test, probabilities_one_test > threshold_best) \n",
    "    recall = recall_score(target_test, probabilities_one_test > threshold_best)\n",
    "    f1 = f1_score(target_test, probabilities_one_test > threshold_best)  \n",
    "    \n",
    "    print(f'Лучшая f1-мера на тренировочных данных {f1_best:.3f}')\n",
    "    print('С подбором порога')   \n",
    "    print(f'Precision на тестовых: {precision:.3f}')\n",
    "    print(f'Recall на тестовых: {recall:.3f}')\n",
    "    print(f'F1-мера на тестовых: {f1:.3f}')\n",
    "    print(f'Порог: {threshold_best}')\n",
    "    return [precision, recall, f1, threshold_best]"
   ]
  },
  {
   "cell_type": "markdown",
   "id": "19e6337d",
   "metadata": {},
   "source": [
    "### Дерево решений"
   ]
  },
  {
   "cell_type": "code",
   "execution_count": 44,
   "id": "e6c59e00",
   "metadata": {},
   "outputs": [
    {
     "data": {
      "text/plain": [
       "1    0.516784\n",
       "0    0.483216\n",
       "Name: at_fault, dtype: float64"
      ]
     },
     "execution_count": 44,
     "metadata": {},
     "output_type": "execute_result"
    }
   ],
   "source": [
    "# Проверим баланс после всех преобразований\n",
    "df_ml['at_fault'].value_counts(normalize=True)"
   ]
  },
  {
   "cell_type": "code",
   "execution_count": 45,
   "id": "4e0a4500",
   "metadata": {},
   "outputs": [],
   "source": [
    "parameters = { # Список параметров.\n",
    "    'max_depth': [8, 12 , 16],\n",
    "    'max_features': [3, 4]\n",
    "}"
   ]
  },
  {
   "cell_type": "code",
   "execution_count": 46,
   "id": "ea933409",
   "metadata": {},
   "outputs": [],
   "source": [
    "rf = DecisionTreeClassifier(random_state=12345)"
   ]
  },
  {
   "cell_type": "code",
   "execution_count": 47,
   "id": "48162241",
   "metadata": {},
   "outputs": [],
   "source": [
    "# Сетка гиперпараметров и параметры кросс-валидация.\n",
    "dtc_model = GridSearchCV(rf, parameters, scoring='roc_auc', cv=6, n_jobs=-1) "
   ]
  },
  {
   "cell_type": "code",
   "execution_count": 48,
   "id": "3cab7d60",
   "metadata": {},
   "outputs": [
    {
     "name": "stdout",
     "output_type": "stream",
     "text": [
      "CPU times: user 604 ms, sys: 0 ns, total: 604 ms\n",
      "Wall time: 604 ms\n"
     ]
    },
    {
     "data": {
      "text/plain": [
       "GridSearchCV(cv=6, estimator=DecisionTreeClassifier(random_state=12345),\n",
       "             n_jobs=-1,\n",
       "             param_grid={'max_depth': [8, 12, 16], 'max_features': [3, 4]},\n",
       "             scoring='roc_auc')"
      ]
     },
     "execution_count": 48,
     "metadata": {},
     "output_type": "execute_result"
    }
   ],
   "source": [
    "%%time\n",
    "dtc_model.fit(features_oe_train, target_train) # Обучение дерева решений."
   ]
  },
  {
   "cell_type": "code",
   "execution_count": 49,
   "id": "1dcf1059",
   "metadata": {},
   "outputs": [
    {
     "data": {
      "text/plain": [
       "{'max_depth': 8, 'max_features': 4}"
      ]
     },
     "execution_count": 49,
     "metadata": {},
     "output_type": "execute_result"
    }
   ],
   "source": [
    "# Лучшие гиперпараметры. \n",
    "dtc_model.best_params_"
   ]
  },
  {
   "cell_type": "code",
   "execution_count": 50,
   "id": "5b3d6500",
   "metadata": {},
   "outputs": [
    {
     "name": "stdout",
     "output_type": "stream",
     "text": [
      "Precision: 0.680\n",
      "Recall: 0.497\n",
      "F1-мера: 0.575\n",
      "AUC-ROC:  0.669\n"
     ]
    }
   ],
   "source": [
    "# Метрики на train.\n",
    "print_metrics(features_oe_train, target_train, dtc_model.best_estimator_)"
   ]
  },
  {
   "cell_type": "code",
   "execution_count": 51,
   "id": "3e817e16",
   "metadata": {},
   "outputs": [
    {
     "name": "stdout",
     "output_type": "stream",
     "text": [
      "Precision: 0.650\n",
      "Recall: 0.473\n",
      "F1-мера: 0.548\n",
      "AUC-ROC:  0.632\n"
     ]
    }
   ],
   "source": [
    "# Метрики на test.\n",
    "print_metrics(features_oe_test, target_test, dtc_model.best_estimator_)"
   ]
  },
  {
   "cell_type": "code",
   "execution_count": 52,
   "id": "09311131",
   "metadata": {},
   "outputs": [
    {
     "name": "stdout",
     "output_type": "stream",
     "text": [
      "Лучшая f1-мера на тренировочных данных 0.686\n",
      "С подбором порога\n",
      "Precision на тестовых: 0.532\n",
      "Recall на тестовых: 0.933\n",
      "F1-мера на тестовых: 0.678\n",
      "Порог: 0.34\n"
     ]
    }
   ],
   "source": [
    "# Подберем порог улучшим F1 (и Recall).\n",
    "dtc_list = ['DecisionTree']\n",
    "dtc_list.extend(threshold_predict(dtc_model, features_oe_train, target_train, features_oe_test, target_test))"
   ]
  },
  {
   "cell_type": "markdown",
   "id": "4c60f874",
   "metadata": {},
   "source": [
    "### Сучайный лес"
   ]
  },
  {
   "cell_type": "code",
   "execution_count": 53,
   "id": "c22a9d8e",
   "metadata": {},
   "outputs": [],
   "source": [
    "parameters = { # Список параметров.\n",
    "    'n_estimators': [100, 500, 1000],\n",
    "    'max_depth': [8, 16],\n",
    "    'max_features': [4]\n",
    "}"
   ]
  },
  {
   "cell_type": "code",
   "execution_count": 54,
   "id": "6c87a118",
   "metadata": {},
   "outputs": [],
   "source": [
    "rf = RandomForestClassifier(random_state=12345, class_weight='balanced') # Постоянный гиперпараметры модели."
   ]
  },
  {
   "cell_type": "code",
   "execution_count": 55,
   "id": "f67b0bb3",
   "metadata": {},
   "outputs": [],
   "source": [
    "rfc_model = GridSearchCV(rf, parameters, scoring='roc_auc', cv=6, n_jobs=-1) "
   ]
  },
  {
   "cell_type": "code",
   "execution_count": 56,
   "id": "59f32f42",
   "metadata": {},
   "outputs": [
    {
     "name": "stdout",
     "output_type": "stream",
     "text": [
      "CPU times: user 2min 41s, sys: 1.04 s, total: 2min 42s\n",
      "Wall time: 2min 42s\n"
     ]
    },
    {
     "data": {
      "text/plain": [
       "GridSearchCV(cv=6,\n",
       "             estimator=RandomForestClassifier(class_weight='balanced',\n",
       "                                              random_state=12345),\n",
       "             n_jobs=-1,\n",
       "             param_grid={'max_depth': [8, 16], 'max_features': [4],\n",
       "                         'n_estimators': [100, 500, 1000]},\n",
       "             scoring='roc_auc')"
      ]
     },
     "execution_count": 56,
     "metadata": {},
     "output_type": "execute_result"
    }
   ],
   "source": [
    "%%time\n",
    "rfc_model.fit(features_oe_train, target_train) # Обучение случайного леса."
   ]
  },
  {
   "cell_type": "code",
   "execution_count": 57,
   "id": "f311d82d",
   "metadata": {},
   "outputs": [
    {
     "data": {
      "text/plain": [
       "{'max_depth': 8, 'max_features': 4, 'n_estimators': 500}"
      ]
     },
     "execution_count": 57,
     "metadata": {},
     "output_type": "execute_result"
    }
   ],
   "source": [
    "# Лучшие гиперпараметры. \n",
    "rfc_model.best_params_"
   ]
  },
  {
   "cell_type": "code",
   "execution_count": 58,
   "id": "666a95ea",
   "metadata": {},
   "outputs": [
    {
     "name": "stdout",
     "output_type": "stream",
     "text": [
      "Precision: 0.711\n",
      "Recall: 0.504\n",
      "F1-мера: 0.590\n",
      "AUC-ROC:  0.701\n"
     ]
    }
   ],
   "source": [
    "# Метрики на train.\n",
    "print_metrics(features_oe_train, target_train, rfc_model.best_estimator_)"
   ]
  },
  {
   "cell_type": "code",
   "execution_count": 59,
   "id": "ddb43864",
   "metadata": {},
   "outputs": [
    {
     "name": "stdout",
     "output_type": "stream",
     "text": [
      "Precision: 0.669\n",
      "Recall: 0.477\n",
      "F1-мера: 0.557\n",
      "AUC-ROC:  0.649\n"
     ]
    }
   ],
   "source": [
    "# Метрики на test.\n",
    "print_metrics(features_oe_test, target_test, rfc_model.best_estimator_)"
   ]
  },
  {
   "cell_type": "code",
   "execution_count": 60,
   "id": "6bc3d523",
   "metadata": {},
   "outputs": [
    {
     "name": "stdout",
     "output_type": "stream",
     "text": [
      "Лучшая f1-мера на тренировочных данных 0.696\n",
      "С подбором порога\n",
      "Precision на тестовых: 0.546\n",
      "Recall на тестовых: 0.881\n",
      "F1-мера на тестовых: 0.675\n",
      "Порог: 0.39\n"
     ]
    }
   ],
   "source": [
    "# Подберем порог улучшим F1 (и Recall).\n",
    "rfc_list = ['RandomForest']\n",
    "rfc_list.extend(threshold_predict(rfc_model, features_oe_train, target_train, features_oe_test, target_test))"
   ]
  },
  {
   "cell_type": "markdown",
   "id": "aee42cbd",
   "metadata": {},
   "source": [
    "### CatBoostRegressor"
   ]
  },
  {
   "cell_type": "code",
   "execution_count": 61,
   "id": "9bbc874b",
   "metadata": {},
   "outputs": [],
   "source": [
    " # Список параметров.\n",
    "parameters = {'learning_rate': [0.1, 0.2],\n",
    "             'depth':[8, 12]} "
   ]
  },
  {
   "cell_type": "code",
   "execution_count": 62,
   "id": "88708cce",
   "metadata": {},
   "outputs": [],
   "source": [
    "cbc = CatBoostClassifier(loss_function=\"Logloss\", iterations=150) # Постоянный гиперпараметры модели."
   ]
  },
  {
   "cell_type": "code",
   "execution_count": 63,
   "id": "1ba8857c",
   "metadata": {},
   "outputs": [],
   "source": [
    "cbc_model = GridSearchCV(cbc, parameters, scoring='neg_log_loss', cv=5, n_jobs=-1) "
   ]
  },
  {
   "cell_type": "code",
   "execution_count": 64,
   "id": "c567fb46",
   "metadata": {},
   "outputs": [
    {
     "name": "stdout",
     "output_type": "stream",
     "text": [
      "0:\tlearn: 0.6866097\ttotal: 76.9ms\tremaining: 11.5s\n",
      "75:\tlearn: 0.6352166\ttotal: 701ms\tremaining: 682ms\n",
      "149:\tlearn: 0.6260378\ttotal: 1.35s\tremaining: 0us\n",
      "0:\tlearn: 0.6863356\ttotal: 10.2ms\tremaining: 1.53s\n",
      "75:\tlearn: 0.6312645\ttotal: 618ms\tremaining: 602ms\n",
      "149:\tlearn: 0.6216955\ttotal: 1.25s\tremaining: 0us\n",
      "0:\tlearn: 0.6864220\ttotal: 7.7ms\tremaining: 1.15s\n",
      "75:\tlearn: 0.6305907\ttotal: 727ms\tremaining: 707ms\n",
      "149:\tlearn: 0.6214336\ttotal: 1.43s\tremaining: 0us\n",
      "0:\tlearn: 0.6865514\ttotal: 10.2ms\tremaining: 1.52s\n",
      "75:\tlearn: 0.6316221\ttotal: 618ms\tremaining: 602ms\n",
      "149:\tlearn: 0.6227022\ttotal: 1.32s\tremaining: 0us\n",
      "0:\tlearn: 0.6865878\ttotal: 10.4ms\tremaining: 1.55s\n",
      "75:\tlearn: 0.6327459\ttotal: 579ms\tremaining: 564ms\n",
      "149:\tlearn: 0.6231846\ttotal: 1.24s\tremaining: 0us\n",
      "0:\tlearn: 0.6807238\ttotal: 15.5ms\tremaining: 2.32s\n",
      "75:\tlearn: 0.6257305\ttotal: 734ms\tremaining: 714ms\n",
      "149:\tlearn: 0.6102943\ttotal: 1.44s\tremaining: 0us\n",
      "0:\tlearn: 0.6802062\ttotal: 9.85ms\tremaining: 1.47s\n",
      "75:\tlearn: 0.6215959\ttotal: 642ms\tremaining: 625ms\n",
      "149:\tlearn: 0.6060668\ttotal: 1.4s\tremaining: 0us\n",
      "0:\tlearn: 0.6803848\ttotal: 7.33ms\tremaining: 1.09s\n",
      "75:\tlearn: 0.6194958\ttotal: 613ms\tremaining: 597ms\n",
      "149:\tlearn: 0.6062740\ttotal: 1.38s\tremaining: 0us\n",
      "0:\tlearn: 0.6806139\ttotal: 10.5ms\tremaining: 1.56s\n",
      "75:\tlearn: 0.6230272\ttotal: 649ms\tremaining: 632ms\n",
      "149:\tlearn: 0.6102907\ttotal: 1.34s\tremaining: 0us\n",
      "0:\tlearn: 0.6806824\ttotal: 10.6ms\tremaining: 1.57s\n",
      "75:\tlearn: 0.6207134\ttotal: 633ms\tremaining: 617ms\n",
      "149:\tlearn: 0.6086505\ttotal: 1.29s\tremaining: 0us\n",
      "0:\tlearn: 0.6866097\ttotal: 10.3ms\tremaining: 1.53s\n",
      "75:\tlearn: 0.6216636\ttotal: 1.92s\tremaining: 1.86s\n",
      "149:\tlearn: 0.5978765\ttotal: 4.54s\tremaining: 0us\n",
      "0:\tlearn: 0.6863356\ttotal: 15ms\tremaining: 2.23s\n",
      "75:\tlearn: 0.6076662\ttotal: 2.39s\tremaining: 2.32s\n",
      "149:\tlearn: 0.5843130\ttotal: 5.21s\tremaining: 0us\n",
      "0:\tlearn: 0.6864220\ttotal: 7.43ms\tremaining: 1.11s\n",
      "75:\tlearn: 0.6086840\ttotal: 2.25s\tremaining: 2.19s\n",
      "149:\tlearn: 0.5824768\ttotal: 5.06s\tremaining: 0us\n",
      "0:\tlearn: 0.6865514\ttotal: 10.1ms\tremaining: 1.5s\n",
      "75:\tlearn: 0.6187038\ttotal: 1.95s\tremaining: 1.9s\n",
      "149:\tlearn: 0.5952486\ttotal: 4.59s\tremaining: 0us\n",
      "0:\tlearn: 0.6861221\ttotal: 32.3ms\tremaining: 4.81s\n",
      "75:\tlearn: 0.6152820\ttotal: 1.95s\tremaining: 1.9s\n",
      "149:\tlearn: 0.5897018\ttotal: 4.95s\tremaining: 0us\n",
      "0:\tlearn: 0.6807238\ttotal: 9.48ms\tremaining: 1.41s\n",
      "75:\tlearn: 0.6020982\ttotal: 2.36s\tremaining: 2.3s\n",
      "149:\tlearn: 0.5650965\ttotal: 5.27s\tremaining: 0us\n",
      "0:\tlearn: 0.6802062\ttotal: 9.48ms\tremaining: 1.41s\n",
      "75:\tlearn: 0.5870073\ttotal: 2.38s\tremaining: 2.32s\n",
      "149:\tlearn: 0.5491287\ttotal: 5.35s\tremaining: 0us\n",
      "0:\tlearn: 0.6803848\ttotal: 11.7ms\tremaining: 1.75s\n",
      "75:\tlearn: 0.5814707\ttotal: 2.53s\tremaining: 2.47s\n",
      "149:\tlearn: 0.5422035\ttotal: 5.57s\tremaining: 0us\n",
      "0:\tlearn: 0.6806139\ttotal: 15.3ms\tremaining: 2.28s\n",
      "75:\tlearn: 0.5916372\ttotal: 2.44s\tremaining: 2.38s\n",
      "149:\tlearn: 0.5587625\ttotal: 5.44s\tremaining: 0us\n",
      "0:\tlearn: 0.6797592\ttotal: 21.6ms\tremaining: 3.22s\n",
      "75:\tlearn: 0.5912814\ttotal: 2.36s\tremaining: 2.3s\n",
      "149:\tlearn: 0.5536111\ttotal: 5.42s\tremaining: 0us\n",
      "0:\tlearn: 0.6865645\ttotal: 14ms\tremaining: 2.08s\n",
      "75:\tlearn: 0.6343385\ttotal: 725ms\tremaining: 706ms\n",
      "149:\tlearn: 0.6263504\ttotal: 1.53s\tremaining: 0us\n",
      "CPU times: user 1min 7s, sys: 943 ms, total: 1min 8s\n",
      "Wall time: 1min 19s\n"
     ]
    },
    {
     "data": {
      "text/plain": [
       "GridSearchCV(cv=5,\n",
       "             estimator=<catboost.core.CatBoostClassifier object at 0x7f2cd8e07b80>,\n",
       "             n_jobs=-1,\n",
       "             param_grid={'depth': [8, 12], 'learning_rate': [0.1, 0.2]},\n",
       "             scoring='neg_log_loss')"
      ]
     },
     "execution_count": 64,
     "metadata": {},
     "output_type": "execute_result"
    }
   ],
   "source": [
    "%%time\n",
    "cbc_model.fit(features_train, target_train, cat_features=category_columns, verbose=75) # Обучение CatBoost."
   ]
  },
  {
   "cell_type": "code",
   "execution_count": 65,
   "id": "c4c339ba",
   "metadata": {},
   "outputs": [
    {
     "data": {
      "text/plain": [
       "{'depth': 8, 'learning_rate': 0.1}"
      ]
     },
     "execution_count": 65,
     "metadata": {},
     "output_type": "execute_result"
    }
   ],
   "source": [
    "# Лучшие гиперпараметры. \n",
    "cbc_model.best_params_"
   ]
  },
  {
   "cell_type": "code",
   "execution_count": 66,
   "id": "49116e34",
   "metadata": {},
   "outputs": [
    {
     "name": "stdout",
     "output_type": "stream",
     "text": [
      "Precision: 0.677\n",
      "Recall: 0.543\n",
      "F1-мера: 0.603\n",
      "AUC-ROC:  0.688\n"
     ]
    }
   ],
   "source": [
    "# Метрики на train.\n",
    "print_metrics(features_train, target_train, cbc_model.best_estimator_)"
   ]
  },
  {
   "cell_type": "code",
   "execution_count": 67,
   "id": "5069d2ff",
   "metadata": {},
   "outputs": [
    {
     "name": "stdout",
     "output_type": "stream",
     "text": [
      "Precision: 0.650\n",
      "Recall: 0.521\n",
      "F1-мера: 0.578\n",
      "AUC-ROC:  0.652\n"
     ]
    }
   ],
   "source": [
    "# Метрики на test.\n",
    "print_metrics(features_test, target_test, cbc_model.best_estimator_)"
   ]
  },
  {
   "cell_type": "code",
   "execution_count": 68,
   "id": "0edb3a1a",
   "metadata": {},
   "outputs": [
    {
     "name": "stdout",
     "output_type": "stream",
     "text": [
      "Лучшая f1-мера на тренировочных данных 0.691\n",
      "С подбором порога\n",
      "Precision на тестовых: 0.540\n",
      "Recall на тестовых: 0.912\n",
      "F1-мера на тестовых: 0.679\n",
      "Порог: 0.37\n"
     ]
    }
   ],
   "source": [
    "# Подберем порог улучшим F1 (и Recall).\n",
    "cbc_list = ['CatBoost']\n",
    "cbc_list.extend(threshold_predict(cbc_model, features_train, target_train, features_test, target_test))"
   ]
  },
  {
   "cell_type": "markdown",
   "id": "a658ca89",
   "metadata": {},
   "source": [
    "### Выводы"
   ]
  },
  {
   "cell_type": "code",
   "execution_count": 69,
   "id": "62fde50e",
   "metadata": {},
   "outputs": [
    {
     "data": {
      "text/html": [
       "<div>\n",
       "<style scoped>\n",
       "    .dataframe tbody tr th:only-of-type {\n",
       "        vertical-align: middle;\n",
       "    }\n",
       "\n",
       "    .dataframe tbody tr th {\n",
       "        vertical-align: top;\n",
       "    }\n",
       "\n",
       "    .dataframe thead th {\n",
       "        text-align: right;\n",
       "    }\n",
       "</style>\n",
       "<table border=\"1\" class=\"dataframe\">\n",
       "  <thead>\n",
       "    <tr style=\"text-align: right;\">\n",
       "      <th></th>\n",
       "      <th>model</th>\n",
       "      <th>Precision</th>\n",
       "      <th>Recall</th>\n",
       "      <th>F1-мера</th>\n",
       "      <th>Порог</th>\n",
       "    </tr>\n",
       "  </thead>\n",
       "  <tbody>\n",
       "    <tr>\n",
       "      <th>0</th>\n",
       "      <td>CatBoost</td>\n",
       "      <td>0.540200</td>\n",
       "      <td>0.912156</td>\n",
       "      <td>0.678548</td>\n",
       "      <td>0.37</td>\n",
       "    </tr>\n",
       "    <tr>\n",
       "      <th>1</th>\n",
       "      <td>DecisionTree</td>\n",
       "      <td>0.532299</td>\n",
       "      <td>0.933452</td>\n",
       "      <td>0.677981</td>\n",
       "      <td>0.34</td>\n",
       "    </tr>\n",
       "    <tr>\n",
       "      <th>2</th>\n",
       "      <td>RandomForest</td>\n",
       "      <td>0.546405</td>\n",
       "      <td>0.881100</td>\n",
       "      <td>0.674516</td>\n",
       "      <td>0.39</td>\n",
       "    </tr>\n",
       "  </tbody>\n",
       "</table>\n",
       "</div>"
      ],
      "text/plain": [
       "          model  Precision    Recall   F1-мера  Порог\n",
       "0      CatBoost   0.540200  0.912156  0.678548   0.37\n",
       "1  DecisionTree   0.532299  0.933452  0.677981   0.34\n",
       "2  RandomForest   0.546405  0.881100  0.674516   0.39"
      ]
     },
     "execution_count": 69,
     "metadata": {},
     "output_type": "execute_result"
    }
   ],
   "source": [
    "columns = [\n",
    "    'model',\n",
    "    'Precision',\n",
    "    'Recall',\n",
    "    'F1-мера',\n",
    "    'Порог'\n",
    "]\n",
    "data = []\n",
    "\n",
    "\n",
    "data.append(cbc_list)\n",
    "data.append(dtc_list)\n",
    "data.append(rfc_list)\n",
    "pd.DataFrame(data=data, columns=columns)"
   ]
  },
  {
   "cell_type": "markdown",
   "id": "c8f619c0",
   "metadata": {},
   "source": [
    "- Метрика для оценки модели **Recall**, т.к. в нашем случаи лучше выдать предупреждение об опасности чем нет.\n",
    "- После подбора порога лучшей моделью стала DecisionTree.\n",
    "- В следящем разделе я буду размаривать DecisionTree и CatBoost, очень близки по результату но есть нюанс который хотелось бы проиллюстрировать."
   ]
  },
  {
   "cell_type": "markdown",
   "id": "15772b41",
   "metadata": {},
   "source": [
    "## Проверьте лучшую модель в работе"
   ]
  },
  {
   "cell_type": "markdown",
   "id": "66b6d303",
   "metadata": {},
   "source": [
    "### Графический анализ «Матрицы ошибок»."
   ]
  },
  {
   "cell_type": "code",
   "execution_count": 70,
   "id": "b6f07a7b",
   "metadata": {},
   "outputs": [
    {
     "data": {
      "text/plain": [
       "array([0.08193213, 0.40125344, 0.04539896, 0.47141547])"
      ]
     },
     "execution_count": 70,
     "metadata": {},
     "output_type": "execute_result"
    }
   ],
   "source": [
    "# Матрица ошибок CatBoost.\n",
    "probabilities_one_test = cbc_model.best_estimator_.predict_proba(features_test)[:, 1] \n",
    "confusion_matrix(target_test, probabilities_one_test > cbc_list[4], normalize='all').ravel()\n",
    "#(tn, fp, fn, tp)"
   ]
  },
  {
   "cell_type": "code",
   "execution_count": 71,
   "id": "ecaf4627",
   "metadata": {},
   "outputs": [
    {
     "data": {
      "text/plain": [
       "array([0.05930908, 0.42387649, 0.03439315, 0.48242128])"
      ]
     },
     "execution_count": 71,
     "metadata": {},
     "output_type": "execute_result"
    }
   ],
   "source": [
    "# Матрица ошибок DecisionTree.\n",
    "probabilities_one_test = dtc_model.best_estimator_.predict_proba(features_oe_test)[:, 1] \n",
    "confusion_matrix(target_test, probabilities_one_test > dtc_list[4], normalize='all').ravel()\n",
    "#(tn, fp, fn, tp)"
   ]
  },
  {
   "cell_type": "code",
   "execution_count": 72,
   "id": "454261d9",
   "metadata": {},
   "outputs": [
    {
     "data": {
      "image/png": "[encoded data removed]",
      "text/plain": [
       "<Figure size 432x432 with 1 Axes>"
      ]
     },
     "metadata": {
      "needs_background": "light"
     },
     "output_type": "display_data"
    }
   ],
   "source": [
    "# построение кривой ROC\n",
    "\n",
    "probabilities_test = cbc_model.best_estimator_.predict_proba(features_test)\n",
    "precision, recall, thresholds = precision_recall_curve(target_test, probabilities_test[:, 1])\n",
    "\n",
    "plt.figure(figsize=(6, 6))\n",
    "plt.step(recall, precision, where='post')\n",
    "plt.xlabel('Recall')\n",
    "plt.ylabel('Precision')\n",
    "plt.ylim([0.0, 1.05])\n",
    "plt.xlim([0.0, 1.0])\n",
    "plt.title('Кривая Precision-Recall')\n",
    "plt.grid(True)\n",
    "plt.show() "
   ]
  },
  {
   "cell_type": "markdown",
   "id": "75a6355b",
   "metadata": {},
   "source": [
    "### Важность основных факторов"
   ]
  },
  {
   "cell_type": "code",
   "execution_count": 73,
   "id": "788e057c",
   "metadata": {},
   "outputs": [
    {
     "data": {
      "text/html": [
       "<div>\n",
       "<style scoped>\n",
       "    .dataframe tbody tr th:only-of-type {\n",
       "        vertical-align: middle;\n",
       "    }\n",
       "\n",
       "    .dataframe tbody tr th {\n",
       "        vertical-align: top;\n",
       "    }\n",
       "\n",
       "    .dataframe thead th {\n",
       "        text-align: right;\n",
       "    }\n",
       "</style>\n",
       "<table border=\"1\" class=\"dataframe\">\n",
       "  <thead>\n",
       "    <tr style=\"text-align: right;\">\n",
       "      <th></th>\n",
       "      <th>0</th>\n",
       "      <th>1</th>\n",
       "    </tr>\n",
       "  </thead>\n",
       "  <tbody>\n",
       "    <tr>\n",
       "      <th>4</th>\n",
       "      <td>party_sobriety</td>\n",
       "      <td>22.16327</td>\n",
       "    </tr>\n",
       "    <tr>\n",
       "      <th>9</th>\n",
       "      <td>insurance_premium</td>\n",
       "      <td>20.322218</td>\n",
       "    </tr>\n",
       "    <tr>\n",
       "      <th>3</th>\n",
       "      <td>lighting</td>\n",
       "      <td>13.671212</td>\n",
       "    </tr>\n",
       "    <tr>\n",
       "      <th>6</th>\n",
       "      <td>vehicle_type</td>\n",
       "      <td>13.540387</td>\n",
       "    </tr>\n",
       "    <tr>\n",
       "      <th>8</th>\n",
       "      <td>vehicle_age</td>\n",
       "      <td>8.120659</td>\n",
       "    </tr>\n",
       "    <tr>\n",
       "      <th>0</th>\n",
       "      <td>weather_1</td>\n",
       "      <td>7.586044</td>\n",
       "    </tr>\n",
       "    <tr>\n",
       "      <th>1</th>\n",
       "      <td>intersection</td>\n",
       "      <td>4.837219</td>\n",
       "    </tr>\n",
       "    <tr>\n",
       "      <th>7</th>\n",
       "      <td>vehicle_transmission</td>\n",
       "      <td>4.350912</td>\n",
       "    </tr>\n",
       "    <tr>\n",
       "      <th>2</th>\n",
       "      <td>road_condition_1</td>\n",
       "      <td>3.829818</td>\n",
       "    </tr>\n",
       "    <tr>\n",
       "      <th>5</th>\n",
       "      <td>cellphone_in_use</td>\n",
       "      <td>1.578262</td>\n",
       "    </tr>\n",
       "  </tbody>\n",
       "</table>\n",
       "</div>"
      ],
      "text/plain": [
       "                      0          1\n",
       "4        party_sobriety   22.16327\n",
       "9     insurance_premium  20.322218\n",
       "3              lighting  13.671212\n",
       "6          vehicle_type  13.540387\n",
       "8           vehicle_age   8.120659\n",
       "0             weather_1   7.586044\n",
       "1          intersection   4.837219\n",
       "7  vehicle_transmission   4.350912\n",
       "2      road_condition_1   3.829818\n",
       "5      cellphone_in_use   1.578262"
      ]
     },
     "execution_count": 73,
     "metadata": {},
     "output_type": "execute_result"
    }
   ],
   "source": [
    "data = []\n",
    "data.append(cbc_model.best_estimator_.feature_names_)\n",
    "data.append(cbc_model.best_estimator_.feature_importances_)\n",
    "pd.DataFrame(data=data).transpose().sort_values(by=1, ascending=False)"
   ]
  },
  {
   "cell_type": "code",
   "execution_count": 74,
   "id": "51046513",
   "metadata": {},
   "outputs": [
    {
     "data": {
      "text/html": [
       "<div>\n",
       "<style scoped>\n",
       "    .dataframe tbody tr th:only-of-type {\n",
       "        vertical-align: middle;\n",
       "    }\n",
       "\n",
       "    .dataframe tbody tr th {\n",
       "        vertical-align: top;\n",
       "    }\n",
       "\n",
       "    .dataframe thead th {\n",
       "        text-align: right;\n",
       "    }\n",
       "</style>\n",
       "<table border=\"1\" class=\"dataframe\">\n",
       "  <thead>\n",
       "    <tr style=\"text-align: right;\">\n",
       "      <th></th>\n",
       "      <th>0</th>\n",
       "      <th>1</th>\n",
       "    </tr>\n",
       "  </thead>\n",
       "  <tbody>\n",
       "    <tr>\n",
       "      <th>4</th>\n",
       "      <td>party_sobriety</td>\n",
       "      <td>0.505125</td>\n",
       "    </tr>\n",
       "    <tr>\n",
       "      <th>9</th>\n",
       "      <td>insurance_premium</td>\n",
       "      <td>0.221153</td>\n",
       "    </tr>\n",
       "    <tr>\n",
       "      <th>6</th>\n",
       "      <td>vehicle_type</td>\n",
       "      <td>0.060881</td>\n",
       "    </tr>\n",
       "    <tr>\n",
       "      <th>3</th>\n",
       "      <td>lighting</td>\n",
       "      <td>0.04714</td>\n",
       "    </tr>\n",
       "    <tr>\n",
       "      <th>0</th>\n",
       "      <td>weather_1</td>\n",
       "      <td>0.046692</td>\n",
       "    </tr>\n",
       "    <tr>\n",
       "      <th>8</th>\n",
       "      <td>vehicle_age</td>\n",
       "      <td>0.046159</td>\n",
       "    </tr>\n",
       "    <tr>\n",
       "      <th>2</th>\n",
       "      <td>road_condition_1</td>\n",
       "      <td>0.024022</td>\n",
       "    </tr>\n",
       "    <tr>\n",
       "      <th>7</th>\n",
       "      <td>vehicle_transmission</td>\n",
       "      <td>0.019118</td>\n",
       "    </tr>\n",
       "    <tr>\n",
       "      <th>1</th>\n",
       "      <td>intersection</td>\n",
       "      <td>0.016456</td>\n",
       "    </tr>\n",
       "    <tr>\n",
       "      <th>5</th>\n",
       "      <td>cellphone_in_use</td>\n",
       "      <td>0.013256</td>\n",
       "    </tr>\n",
       "  </tbody>\n",
       "</table>\n",
       "</div>"
      ],
      "text/plain": [
       "                      0         1\n",
       "4        party_sobriety  0.505125\n",
       "9     insurance_premium  0.221153\n",
       "6          vehicle_type  0.060881\n",
       "3              lighting   0.04714\n",
       "0             weather_1  0.046692\n",
       "8           vehicle_age  0.046159\n",
       "2      road_condition_1  0.024022\n",
       "7  vehicle_transmission  0.019118\n",
       "1          intersection  0.016456\n",
       "5      cellphone_in_use  0.013256"
      ]
     },
     "execution_count": 74,
     "metadata": {},
     "output_type": "execute_result"
    }
   ],
   "source": [
    "data = []\n",
    "data.append(features_oe_train.columns)\n",
    "data.append(dtc_model.best_estimator_.feature_importances_)\n",
    "pd.DataFrame(data=data).transpose().sort_values(by=1, ascending=False)"
   ]
  },
  {
   "cell_type": "markdown",
   "id": "c52da9df",
   "metadata": {},
   "source": [
    "### Дополнительное исследование"
   ]
  },
  {
   "cell_type": "code",
   "execution_count": 75,
   "id": "bec4d910",
   "metadata": {},
   "outputs": [],
   "source": [
    "ip_1 = df[df['at_fault'] == 1].pivot_table( # создание сводной таблицы для нарушителей\n",
    "                index='insurance_premium',\n",
    "                values='at_fault',\n",
    "                aggfunc='count')"
   ]
  },
  {
   "cell_type": "code",
   "execution_count": 76,
   "id": "fadb8211",
   "metadata": {},
   "outputs": [],
   "source": [
    "ip_0 = df[df['at_fault'] == 0].pivot_table( # создание сводной таблицы для жертв\n",
    "                index='insurance_premium',\n",
    "                values='at_fault',\n",
    "                aggfunc='count')"
   ]
  },
  {
   "cell_type": "code",
   "execution_count": 77,
   "id": "be1cd342",
   "metadata": {},
   "outputs": [
    {
     "data": {
      "image/png": "[encoded data removed]",
      "text/plain": [
       "<Figure size 864x864 with 1 Axes>"
      ]
     },
     "metadata": {
      "needs_background": "light"
     },
     "output_type": "display_data"
    }
   ],
   "source": [
    "fig, ax = plt.subplots(figsize=(12, 12)) # размер поля \n",
    "plt.title('Зависимость нарушений от уровня страховки', fontsize=20)\n",
    "ax.plot(ip_1) # вовод графиков \n",
    "ax.plot(ip_0)\n",
    "plt.legend(['Нарушители', 'Жертвы'])\n",
    "plt.xlabel('Страховая премия',  fontsize=12)\n",
    "plt.ylabel('Количество случаев',  fontsize=12)\n",
    "plt.grid(True)\n",
    "plt.show()"
   ]
  },
  {
   "cell_type": "markdown",
   "id": "cb832324",
   "metadata": {},
   "source": [
    "**Примечание:** \n",
    "Сделал на полных даных, на df_ml картина идентичная."
   ]
  },
  {
   "cell_type": "markdown",
   "id": "a2323646",
   "metadata": {},
   "source": [
    "### Выводы\n",
    "\n",
    "- Матрица ошибок наглядно демонстрирует полученный результат, модели 90% (DecisionTree) и 87% (CatBoost) просто выдают предупреждение напомним отношение почти 50/50, почему так происходит все очень просто, и это вытекает из следящего важности основных факторов.\n",
    "- Важности основных факторов, как видно у нас всего два важных фактора, это party_sobriety и insurance_premium, а дальше в случаи «деревянной» модели резкое падение, CatBoost еще пытается как-то использовать, но у него и результат хуже.\n",
    "- Причина такого поведения проста, она кроется в структуре данных, как мы видим из распределения at_fault 51 на 49. 51% виновников, 49% жертв и есть 2 % когда кто-то на машине въехал в объект не машина. И что получается у нас есть пара Виновник и Жертва - так вот все условия для них такие как погода, состояния дороги, положение, освещённость одинаковые. Что виновник что жертва попали в ДТП при абсолютно равных этих условиях. Те данные что у нас есть не дают нам ответ, нам нужны другие данные, которых тут нет, а именно сколько дтп случается при тех или иных условиях из всего потока. Модель просто не понимает, что ей выбрать вот она и предупреждает всех, а то мало ли кто въедет. Плюс еще мала вариативность. \n",
    "- Показатель at_fault дает нам ответ на вопрос как выглядит опасный водитель, а для личностных качеств необходимы такие данные как стаж и навыки вождения, склонность к риску и нарушениям, пристрастие к алкоголю и прием лекарств, пол, возраст и может даже образование и т.д. \n",
    "- Если про party_sobriety все уже и так понятно, то вот insurance_premium, интересный фактор, действительно по этим параметрам люди различаются и тут можно выделить следящее, люди с 0 страховкой чаще попадают в дтп, это определенные слои людей с низкой статусом (может среди них много пьющих за рулем), но очень интересен, пласт людей от 17 до 35 т. видим что они чувствуют себя более уверено и чаще нарушают, люди же от 40 до 60 более сознательные. Уровень страховки можно указывать в приложении, думаю это и так делается."
   ]
  },
  {
   "cell_type": "markdown",
   "id": "7ba315d1",
   "metadata": {},
   "source": [
    "## Общий вывод"
   ]
  },
  {
   "cell_type": "markdown",
   "id": "200d3ad7",
   "metadata": {},
   "source": [
    "- Лучшая модель DecisionTree, т.к она отбросила все лишнее, и решал на самом деле другую задачу. \n",
    "- Как уже было сказана выше, задача должна быть или переформулирована или должны быть другие данные. На имеющихся данных мы решили задачу нахождения облика плохого водителя, но у нас оказалось мало характеристик, если мы хотим развивать модель в таком направлении то нам необходимы личные данные водителя (я приводил, выше не буду повторять), тогда модели на основе CatBoost думаю будут справляться лучше.\n",
    "- Если же мы хотим привязаться к условием внешней среды, то нужно собрать данные просто о частоте аварий при тех или иных условиях, то есть ключевая метрика другая. Но такие данные сложно собрать, т.к очень сложно получить данные, когда авария не произошла, сколько аварий мы можем подсчитать (что было и сделано), а сколько не произошло уже трудно, условно на прокраске n в солнечный день днем произошло одна авария хорошо, а сколько не произошло, там будет огромная дисбаланс классов.\n",
    "- Можно упростить задачу и просто считать статистически, где чаще происходят аварии и когда и помечать эти участки и погодные условия, но это и так делается при помощи знаков дорожного движения и зачастую банальное соблюдения правил ПДД, даст больший чем предупреждение."
   ]
  }
 ],
 "metadata": {
  "ExecuteTimeLog": [
   {
    "duration": 1780,
    "start_time": "2023-01-16T08:00:22.617Z"
   },
   {
    "duration": 3,
    "start_time": "2023-01-16T08:02:29.009Z"
   },
   {
    "duration": 3,
    "start_time": "2023-01-16T08:02:51.922Z"
   },
   {
    "duration": 7837,
    "start_time": "2023-01-16T08:03:07.873Z"
   },
   {
    "duration": 142,
    "start_time": "2023-01-16T08:06:51.228Z"
   },
   {
    "duration": 82,
    "start_time": "2023-01-16T08:08:57.911Z"
   },
   {
    "duration": 114,
    "start_time": "2023-01-16T08:09:39.514Z"
   },
   {
    "duration": 25,
    "start_time": "2023-01-16T08:09:50.794Z"
   },
   {
    "duration": 32,
    "start_time": "2023-01-16T08:10:14.141Z"
   },
   {
    "duration": 72,
    "start_time": "2023-01-16T08:12:48.518Z"
   },
   {
    "duration": 14,
    "start_time": "2023-01-16T08:12:59.147Z"
   },
   {
    "duration": 26,
    "start_time": "2023-01-16T08:13:09.220Z"
   },
   {
    "duration": 63,
    "start_time": "2023-01-16T09:22:04.642Z"
   },
   {
    "duration": 2,
    "start_time": "2023-01-16T10:15:38.262Z"
   },
   {
    "duration": 134,
    "start_time": "2023-01-16T10:21:07.186Z"
   },
   {
    "duration": 223,
    "start_time": "2023-01-16T10:21:16.186Z"
   },
   {
    "duration": 112,
    "start_time": "2023-01-16T10:23:10.973Z"
   },
   {
    "duration": 290,
    "start_time": "2023-01-16T10:23:26.777Z"
   },
   {
    "duration": 291,
    "start_time": "2023-01-16T10:24:30.177Z"
   },
   {
    "duration": 295,
    "start_time": "2023-01-16T10:25:04.061Z"
   },
   {
    "duration": 213,
    "start_time": "2023-01-16T10:27:12.337Z"
   },
   {
    "duration": 298,
    "start_time": "2023-01-16T10:28:09.101Z"
   },
   {
    "duration": 339,
    "start_time": "2023-01-16T10:32:34.221Z"
   },
   {
    "duration": 808,
    "start_time": "2023-01-16T10:35:27.185Z"
   },
   {
    "duration": 814,
    "start_time": "2023-01-16T10:36:43.134Z"
   },
   {
    "duration": 822,
    "start_time": "2023-01-16T10:37:00.328Z"
   },
   {
    "duration": 619,
    "start_time": "2023-01-16T10:38:22.305Z"
   },
   {
    "duration": 646,
    "start_time": "2023-01-16T10:38:34.654Z"
   },
   {
    "duration": 1305,
    "start_time": "2023-01-16T10:39:03.817Z"
   },
   {
    "duration": 1152,
    "start_time": "2023-01-16T10:39:48.960Z"
   },
   {
    "duration": 1509,
    "start_time": "2023-01-16T10:41:57.789Z"
   },
   {
    "duration": 1035,
    "start_time": "2023-01-16T10:42:11.607Z"
   },
   {
    "duration": 962,
    "start_time": "2023-01-16T10:44:20.536Z"
   },
   {
    "duration": 1118,
    "start_time": "2023-01-16T10:53:27.694Z"
   },
   {
    "duration": 1034,
    "start_time": "2023-01-16T10:53:51.896Z"
   },
   {
    "duration": 933,
    "start_time": "2023-01-16T10:54:30.386Z"
   },
   {
    "duration": 964,
    "start_time": "2023-01-16T10:55:54.423Z"
   },
   {
    "duration": 14076,
    "start_time": "2023-01-16T11:36:13.304Z"
   },
   {
    "duration": 29,
    "start_time": "2023-01-16T11:36:40.096Z"
   },
   {
    "duration": 188,
    "start_time": "2023-01-16T11:40:57.385Z"
   },
   {
    "duration": 92,
    "start_time": "2023-01-16T11:46:12.121Z"
   },
   {
    "duration": 10,
    "start_time": "2023-01-16T11:46:16.642Z"
   },
   {
    "duration": 3,
    "start_time": "2023-01-16T11:51:37.459Z"
   },
   {
    "duration": 3,
    "start_time": "2023-01-16T11:51:53.828Z"
   },
   {
    "duration": 98,
    "start_time": "2023-01-16T11:52:02.196Z"
   },
   {
    "duration": 112,
    "start_time": "2023-01-16T11:52:32.108Z"
   },
   {
    "duration": 331,
    "start_time": "2023-01-16T11:53:09.192Z"
   },
   {
    "duration": 368,
    "start_time": "2023-01-16T11:53:14.475Z"
   },
   {
    "duration": 307,
    "start_time": "2023-01-16T11:55:31.710Z"
   },
   {
    "duration": 298,
    "start_time": "2023-01-16T11:55:48.768Z"
   },
   {
    "duration": 7386,
    "start_time": "2023-01-16T11:57:58.846Z"
   },
   {
    "duration": 30,
    "start_time": "2023-01-16T11:58:06.234Z"
   },
   {
    "duration": 168,
    "start_time": "2023-01-16T11:58:35.498Z"
   },
   {
    "duration": 290,
    "start_time": "2023-01-16T11:59:06.949Z"
   },
   {
    "duration": 8,
    "start_time": "2023-01-16T12:00:47.966Z"
   },
   {
    "duration": 3,
    "start_time": "2023-01-16T13:15:19.499Z"
   },
   {
    "duration": 16,
    "start_time": "2023-01-16T13:15:38.201Z"
   },
   {
    "duration": 3,
    "start_time": "2023-01-16T13:15:53.743Z"
   },
   {
    "duration": 78,
    "start_time": "2023-01-16T13:15:55.151Z"
   },
   {
    "duration": 25,
    "start_time": "2023-01-16T13:17:14.036Z"
   },
   {
    "duration": 8,
    "start_time": "2023-01-16T13:17:51.876Z"
   },
   {
    "duration": 4,
    "start_time": "2023-01-16T13:22:42.469Z"
   },
   {
    "duration": 14,
    "start_time": "2023-01-16T13:22:51.696Z"
   },
   {
    "duration": 21,
    "start_time": "2023-01-16T13:22:58.627Z"
   },
   {
    "duration": 135,
    "start_time": "2023-01-16T13:25:02.288Z"
   },
   {
    "duration": 58,
    "start_time": "2023-01-16T13:34:27.822Z"
   },
   {
    "duration": 87,
    "start_time": "2023-01-16T13:53:17.499Z"
   },
   {
    "duration": 115,
    "start_time": "2023-01-16T13:53:24.753Z"
   },
   {
    "duration": 1784,
    "start_time": "2023-01-16T13:54:29.697Z"
   },
   {
    "duration": 75,
    "start_time": "2023-01-16T13:55:40.707Z"
   },
   {
    "duration": 653,
    "start_time": "2023-01-16T13:55:46.472Z"
   },
   {
    "duration": 132,
    "start_time": "2023-01-16T13:56:10.020Z"
   },
   {
    "duration": 717,
    "start_time": "2023-01-16T13:56:16.387Z"
   },
   {
    "duration": 1571,
    "start_time": "2023-01-16T14:46:55.269Z"
   },
   {
    "duration": 3,
    "start_time": "2023-01-16T14:46:56.842Z"
   },
   {
    "duration": 7,
    "start_time": "2023-01-16T14:46:56.848Z"
   },
   {
    "duration": 8457,
    "start_time": "2023-01-16T14:46:56.857Z"
   },
   {
    "duration": 180,
    "start_time": "2023-01-16T14:47:05.315Z"
   },
   {
    "duration": 1021,
    "start_time": "2023-01-16T14:47:05.497Z"
   },
   {
    "duration": 293,
    "start_time": "2023-01-16T14:47:06.528Z"
   },
   {
    "duration": 9253,
    "start_time": "2023-01-16T14:47:06.831Z"
   },
   {
    "duration": 52,
    "start_time": "2023-01-16T14:47:16.087Z"
   },
   {
    "duration": 181,
    "start_time": "2023-01-16T14:47:16.142Z"
   },
   {
    "duration": 14,
    "start_time": "2023-01-16T14:47:16.329Z"
   },
   {
    "duration": 3,
    "start_time": "2023-01-16T14:47:16.344Z"
   },
   {
    "duration": 19,
    "start_time": "2023-01-16T14:47:16.349Z"
   },
   {
    "duration": 22,
    "start_time": "2023-01-16T14:47:16.369Z"
   },
   {
    "duration": 88,
    "start_time": "2023-01-16T14:47:16.393Z"
   },
   {
    "duration": 147,
    "start_time": "2023-01-16T14:47:16.484Z"
   },
   {
    "duration": 669,
    "start_time": "2023-01-16T14:47:16.638Z"
   },
   {
    "duration": 233,
    "start_time": "2023-01-16T14:48:52.523Z"
   },
   {
    "duration": 12922,
    "start_time": "2023-01-16T14:50:45.318Z"
   },
   {
    "duration": 31,
    "start_time": "2023-01-16T16:30:17.600Z"
   },
   {
    "duration": 69,
    "start_time": "2023-01-16T16:30:42.259Z"
   },
   {
    "duration": 27,
    "start_time": "2023-01-16T16:31:30.719Z"
   },
   {
    "duration": 31,
    "start_time": "2023-01-16T16:32:07.748Z"
   },
   {
    "duration": 32,
    "start_time": "2023-01-16T16:32:14.099Z"
   },
   {
    "duration": 35,
    "start_time": "2023-01-16T16:34:05.451Z"
   },
   {
    "duration": 32,
    "start_time": "2023-01-16T16:34:16.896Z"
   },
   {
    "duration": 48,
    "start_time": "2023-01-16T16:34:43.945Z"
   },
   {
    "duration": 4,
    "start_time": "2023-01-16T16:35:26.363Z"
   },
   {
    "duration": 29,
    "start_time": "2023-01-16T16:38:42.497Z"
   },
   {
    "duration": 50,
    "start_time": "2023-01-16T16:39:11.077Z"
   },
   {
    "duration": 42,
    "start_time": "2023-01-16T16:39:16.951Z"
   },
   {
    "duration": 42,
    "start_time": "2023-01-16T16:42:23.197Z"
   },
   {
    "duration": 14,
    "start_time": "2023-01-16T16:43:34.782Z"
   },
   {
    "duration": 36,
    "start_time": "2023-01-16T16:46:20.207Z"
   },
   {
    "duration": 27,
    "start_time": "2023-01-16T16:50:19.009Z"
   },
   {
    "duration": 21,
    "start_time": "2023-01-16T16:50:25.395Z"
   },
   {
    "duration": 139,
    "start_time": "2023-01-16T16:52:24.915Z"
   },
   {
    "duration": 91,
    "start_time": "2023-01-16T16:53:38.004Z"
   },
   {
    "duration": 1631,
    "start_time": "2023-01-16T16:53:45.688Z"
   },
   {
    "duration": 3,
    "start_time": "2023-01-16T16:53:47.321Z"
   },
   {
    "duration": 36,
    "start_time": "2023-01-16T16:53:47.329Z"
   },
   {
    "duration": 7977,
    "start_time": "2023-01-16T16:53:47.368Z"
   },
   {
    "duration": 172,
    "start_time": "2023-01-16T16:53:55.347Z"
   },
   {
    "duration": 944,
    "start_time": "2023-01-16T16:53:55.521Z"
   },
   {
    "duration": 290,
    "start_time": "2023-01-16T16:53:56.467Z"
   },
   {
    "duration": 9760,
    "start_time": "2023-01-16T16:53:56.759Z"
   },
   {
    "duration": 29,
    "start_time": "2023-01-16T16:54:06.522Z"
   },
   {
    "duration": 397,
    "start_time": "2023-01-16T16:54:06.552Z"
   },
   {
    "duration": 180,
    "start_time": "2023-01-16T16:54:06.951Z"
   },
   {
    "duration": 3,
    "start_time": "2023-01-16T16:54:07.133Z"
   },
   {
    "duration": 18,
    "start_time": "2023-01-16T16:54:07.137Z"
   },
   {
    "duration": 21,
    "start_time": "2023-01-16T16:54:07.157Z"
   },
   {
    "duration": 131,
    "start_time": "2023-01-16T16:54:07.180Z"
   },
   {
    "duration": 60,
    "start_time": "2023-01-16T16:54:07.322Z"
   },
   {
    "duration": 153,
    "start_time": "2023-01-16T16:54:07.384Z"
   },
   {
    "duration": 729,
    "start_time": "2023-01-16T16:54:07.539Z"
   },
   {
    "duration": 8,
    "start_time": "2023-01-16T16:54:08.270Z"
   },
   {
    "duration": 75,
    "start_time": "2023-01-16T16:54:08.281Z"
   },
   {
    "duration": 5,
    "start_time": "2023-01-16T16:54:08.358Z"
   },
   {
    "duration": 67,
    "start_time": "2023-01-16T16:54:08.365Z"
   },
   {
    "duration": 62,
    "start_time": "2023-01-16T16:54:08.434Z"
   },
   {
    "duration": 67,
    "start_time": "2023-01-16T16:54:08.498Z"
   },
   {
    "duration": 28,
    "start_time": "2023-01-16T16:54:08.567Z"
   },
   {
    "duration": 139,
    "start_time": "2023-01-16T16:54:08.597Z"
   },
   {
    "duration": 27,
    "start_time": "2023-01-16T17:02:53.781Z"
   },
   {
    "duration": 4,
    "start_time": "2023-01-16T17:07:23.227Z"
   },
   {
    "duration": 1564,
    "start_time": "2023-01-16T17:07:31.240Z"
   },
   {
    "duration": 4,
    "start_time": "2023-01-16T17:07:32.806Z"
   },
   {
    "duration": 22,
    "start_time": "2023-01-16T17:07:32.812Z"
   },
   {
    "duration": 8462,
    "start_time": "2023-01-16T17:07:32.840Z"
   },
   {
    "duration": 182,
    "start_time": "2023-01-16T17:07:41.304Z"
   },
   {
    "duration": 990,
    "start_time": "2023-01-16T17:07:41.488Z"
   },
   {
    "duration": 296,
    "start_time": "2023-01-16T17:07:42.479Z"
   },
   {
    "duration": 17379,
    "start_time": "2023-01-16T17:07:42.776Z"
   },
   {
    "duration": 29,
    "start_time": "2023-01-16T17:08:00.157Z"
   },
   {
    "duration": 151,
    "start_time": "2023-01-16T17:08:00.188Z"
   },
   {
    "duration": 0,
    "start_time": "2023-01-16T17:08:00.340Z"
   },
   {
    "duration": 0,
    "start_time": "2023-01-16T17:08:00.341Z"
   },
   {
    "duration": 0,
    "start_time": "2023-01-16T17:08:00.342Z"
   },
   {
    "duration": 0,
    "start_time": "2023-01-16T17:08:00.344Z"
   },
   {
    "duration": 0,
    "start_time": "2023-01-16T17:08:00.345Z"
   },
   {
    "duration": 0,
    "start_time": "2023-01-16T17:08:00.346Z"
   },
   {
    "duration": 0,
    "start_time": "2023-01-16T17:08:00.347Z"
   },
   {
    "duration": 0,
    "start_time": "2023-01-16T17:08:00.349Z"
   },
   {
    "duration": 0,
    "start_time": "2023-01-16T17:08:00.350Z"
   },
   {
    "duration": 0,
    "start_time": "2023-01-16T17:08:00.351Z"
   },
   {
    "duration": 0,
    "start_time": "2023-01-16T17:08:00.352Z"
   },
   {
    "duration": 0,
    "start_time": "2023-01-16T17:08:00.354Z"
   },
   {
    "duration": 0,
    "start_time": "2023-01-16T17:08:00.355Z"
   },
   {
    "duration": 0,
    "start_time": "2023-01-16T17:08:00.356Z"
   },
   {
    "duration": 0,
    "start_time": "2023-01-16T17:08:00.357Z"
   },
   {
    "duration": 0,
    "start_time": "2023-01-16T17:08:00.358Z"
   },
   {
    "duration": 369,
    "start_time": "2023-01-16T17:08:11.073Z"
   },
   {
    "duration": 3,
    "start_time": "2023-01-16T17:09:08.009Z"
   },
   {
    "duration": 14,
    "start_time": "2023-01-16T17:09:08.456Z"
   },
   {
    "duration": 25,
    "start_time": "2023-01-16T17:09:08.855Z"
   },
   {
    "duration": 138,
    "start_time": "2023-01-16T17:09:14.239Z"
   },
   {
    "duration": 59,
    "start_time": "2023-01-16T17:09:15.652Z"
   },
   {
    "duration": 134,
    "start_time": "2023-01-16T17:11:00.109Z"
   },
   {
    "duration": 741,
    "start_time": "2023-01-16T17:11:00.472Z"
   },
   {
    "duration": 9,
    "start_time": "2023-01-16T17:11:01.222Z"
   },
   {
    "duration": 60,
    "start_time": "2023-01-16T17:11:01.475Z"
   },
   {
    "duration": 1591,
    "start_time": "2023-01-16T17:11:36.371Z"
   },
   {
    "duration": 3,
    "start_time": "2023-01-16T17:11:37.964Z"
   },
   {
    "duration": 15,
    "start_time": "2023-01-16T17:11:37.968Z"
   },
   {
    "duration": 8456,
    "start_time": "2023-01-16T17:11:37.985Z"
   },
   {
    "duration": 158,
    "start_time": "2023-01-16T17:11:46.443Z"
   },
   {
    "duration": 963,
    "start_time": "2023-01-16T17:11:46.603Z"
   },
   {
    "duration": 286,
    "start_time": "2023-01-16T17:11:47.568Z"
   },
   {
    "duration": 9777,
    "start_time": "2023-01-16T17:11:47.856Z"
   },
   {
    "duration": 29,
    "start_time": "2023-01-16T17:11:57.635Z"
   },
   {
    "duration": 355,
    "start_time": "2023-01-16T17:11:57.667Z"
   },
   {
    "duration": 148,
    "start_time": "2023-01-16T17:11:58.029Z"
   },
   {
    "duration": 2,
    "start_time": "2023-01-16T17:11:58.179Z"
   },
   {
    "duration": 45,
    "start_time": "2023-01-16T17:11:58.183Z"
   },
   {
    "duration": 63,
    "start_time": "2023-01-16T17:11:58.230Z"
   },
   {
    "duration": 136,
    "start_time": "2023-01-16T17:11:58.295Z"
   },
   {
    "duration": 59,
    "start_time": "2023-01-16T17:11:58.435Z"
   },
   {
    "duration": 143,
    "start_time": "2023-01-16T17:11:58.496Z"
   },
   {
    "duration": 669,
    "start_time": "2023-01-16T17:11:58.641Z"
   },
   {
    "duration": 26,
    "start_time": "2023-01-16T17:11:59.311Z"
   },
   {
    "duration": 48,
    "start_time": "2023-01-16T17:11:59.340Z"
   },
   {
    "duration": 3,
    "start_time": "2023-01-16T17:11:59.390Z"
   },
   {
    "duration": 66,
    "start_time": "2023-01-16T17:11:59.395Z"
   },
   {
    "duration": 48,
    "start_time": "2023-01-16T17:11:59.462Z"
   },
   {
    "duration": 46,
    "start_time": "2023-01-16T17:11:59.526Z"
   },
   {
    "duration": 24,
    "start_time": "2023-01-16T17:11:59.574Z"
   },
   {
    "duration": 45,
    "start_time": "2023-01-16T17:11:59.600Z"
   },
   {
    "duration": 19,
    "start_time": "2023-01-16T17:17:31.337Z"
   },
   {
    "duration": 1699,
    "start_time": "2023-01-16T17:18:55.905Z"
   },
   {
    "duration": 3,
    "start_time": "2023-01-16T17:18:57.607Z"
   },
   {
    "duration": 6,
    "start_time": "2023-01-16T17:18:57.611Z"
   },
   {
    "duration": 9978,
    "start_time": "2023-01-16T17:18:57.625Z"
   },
   {
    "duration": 181,
    "start_time": "2023-01-16T17:19:07.604Z"
   },
   {
    "duration": 1071,
    "start_time": "2023-01-16T17:19:07.788Z"
   },
   {
    "duration": 295,
    "start_time": "2023-01-16T17:19:08.861Z"
   },
   {
    "duration": 9306,
    "start_time": "2023-01-16T17:19:09.157Z"
   },
   {
    "duration": 28,
    "start_time": "2023-01-16T17:19:18.464Z"
   },
   {
    "duration": 393,
    "start_time": "2023-01-16T17:19:18.495Z"
   },
   {
    "duration": 178,
    "start_time": "2023-01-16T17:19:18.890Z"
   },
   {
    "duration": 22,
    "start_time": "2023-01-16T17:19:19.070Z"
   },
   {
    "duration": 38,
    "start_time": "2023-01-16T17:19:19.094Z"
   },
   {
    "duration": 50,
    "start_time": "2023-01-16T17:19:19.143Z"
   },
   {
    "duration": 114,
    "start_time": "2023-01-16T17:19:19.194Z"
   },
   {
    "duration": 104,
    "start_time": "2023-01-16T17:19:19.309Z"
   },
   {
    "duration": 29,
    "start_time": "2023-01-16T17:19:19.415Z"
   },
   {
    "duration": 45,
    "start_time": "2023-01-16T17:19:19.449Z"
   },
   {
    "duration": 299,
    "start_time": "2023-01-16T17:19:19.496Z"
   },
   {
    "duration": 7,
    "start_time": "2023-01-16T17:19:19.797Z"
   },
   {
    "duration": 63,
    "start_time": "2023-01-16T17:19:19.805Z"
   },
   {
    "duration": 8,
    "start_time": "2023-01-16T17:19:19.871Z"
   },
   {
    "duration": 22,
    "start_time": "2023-01-16T17:19:19.881Z"
   },
   {
    "duration": 59,
    "start_time": "2023-01-16T17:19:19.905Z"
   },
   {
    "duration": 25,
    "start_time": "2023-01-16T17:19:19.966Z"
   },
   {
    "duration": 31,
    "start_time": "2023-01-16T17:19:19.994Z"
   },
   {
    "duration": 28,
    "start_time": "2023-01-16T17:19:20.028Z"
   },
   {
    "duration": 6,
    "start_time": "2023-01-16T17:19:20.059Z"
   },
   {
    "duration": 88,
    "start_time": "2023-01-16T17:27:59.817Z"
   },
   {
    "duration": 6,
    "start_time": "2023-01-16T17:28:05.594Z"
   },
   {
    "duration": 4,
    "start_time": "2023-01-16T17:29:32.540Z"
   },
   {
    "duration": 27,
    "start_time": "2023-01-16T17:29:44.445Z"
   },
   {
    "duration": 18,
    "start_time": "2023-01-16T17:30:13.795Z"
   },
   {
    "duration": 1757,
    "start_time": "2023-01-16T17:30:51.312Z"
   },
   {
    "duration": 4,
    "start_time": "2023-01-16T17:30:53.071Z"
   },
   {
    "duration": 33,
    "start_time": "2023-01-16T17:30:53.077Z"
   },
   {
    "duration": 8776,
    "start_time": "2023-01-16T17:30:53.112Z"
   },
   {
    "duration": 224,
    "start_time": "2023-01-16T17:31:01.892Z"
   },
   {
    "duration": 1023,
    "start_time": "2023-01-16T17:31:02.118Z"
   },
   {
    "duration": 295,
    "start_time": "2023-01-16T17:31:03.143Z"
   },
   {
    "duration": 10119,
    "start_time": "2023-01-16T17:31:03.440Z"
   },
   {
    "duration": 35,
    "start_time": "2023-01-16T17:31:13.561Z"
   },
   {
    "duration": 355,
    "start_time": "2023-01-16T17:31:13.599Z"
   },
   {
    "duration": 200,
    "start_time": "2023-01-16T17:31:13.956Z"
   },
   {
    "duration": 43,
    "start_time": "2023-01-16T17:31:14.158Z"
   },
   {
    "duration": 61,
    "start_time": "2023-01-16T17:31:14.203Z"
   },
   {
    "duration": 30,
    "start_time": "2023-01-16T17:31:14.268Z"
   },
   {
    "duration": 168,
    "start_time": "2023-01-16T17:31:14.300Z"
   },
   {
    "duration": 117,
    "start_time": "2023-01-16T17:31:14.470Z"
   },
   {
    "duration": 16,
    "start_time": "2023-01-16T17:31:14.589Z"
   },
   {
    "duration": 46,
    "start_time": "2023-01-16T17:31:14.627Z"
   },
   {
    "duration": 271,
    "start_time": "2023-01-16T17:31:14.676Z"
   },
   {
    "duration": 9,
    "start_time": "2023-01-16T17:31:14.949Z"
   },
   {
    "duration": 39,
    "start_time": "2023-01-16T17:31:14.959Z"
   },
   {
    "duration": 37,
    "start_time": "2023-01-16T17:31:15.000Z"
   },
   {
    "duration": 36,
    "start_time": "2023-01-16T17:31:15.041Z"
   },
   {
    "duration": 26,
    "start_time": "2023-01-16T17:31:15.080Z"
   },
   {
    "duration": 58,
    "start_time": "2023-01-16T17:31:15.108Z"
   },
   {
    "duration": 34,
    "start_time": "2023-01-16T17:31:15.168Z"
   },
   {
    "duration": 29,
    "start_time": "2023-01-16T17:31:15.204Z"
   },
   {
    "duration": 26,
    "start_time": "2023-01-16T17:31:15.237Z"
   },
   {
    "duration": 45,
    "start_time": "2023-01-16T17:31:15.264Z"
   },
   {
    "duration": 47,
    "start_time": "2023-01-16T17:31:15.311Z"
   },
   {
    "duration": 42,
    "start_time": "2023-01-16T17:31:15.360Z"
   },
   {
    "duration": 23,
    "start_time": "2023-01-16T17:40:46.977Z"
   },
   {
    "duration": 1643,
    "start_time": "2023-01-16T17:41:20.103Z"
   },
   {
    "duration": 4,
    "start_time": "2023-01-16T17:41:21.748Z"
   },
   {
    "duration": 24,
    "start_time": "2023-01-16T17:41:21.754Z"
   },
   {
    "duration": 8294,
    "start_time": "2023-01-16T17:41:21.781Z"
   },
   {
    "duration": 171,
    "start_time": "2023-01-16T17:41:30.077Z"
   },
   {
    "duration": 984,
    "start_time": "2023-01-16T17:41:30.250Z"
   },
   {
    "duration": 300,
    "start_time": "2023-01-16T17:41:31.235Z"
   },
   {
    "duration": 9270,
    "start_time": "2023-01-16T17:41:31.537Z"
   },
   {
    "duration": 40,
    "start_time": "2023-01-16T17:41:40.809Z"
   },
   {
    "duration": 364,
    "start_time": "2023-01-16T17:41:40.852Z"
   },
   {
    "duration": 173,
    "start_time": "2023-01-16T17:41:41.217Z"
   },
   {
    "duration": 3,
    "start_time": "2023-01-16T17:41:41.392Z"
   },
   {
    "duration": 40,
    "start_time": "2023-01-16T17:41:41.397Z"
   },
   {
    "duration": 29,
    "start_time": "2023-01-16T17:41:41.439Z"
   },
   {
    "duration": 104,
    "start_time": "2023-01-16T17:41:41.470Z"
   },
   {
    "duration": 152,
    "start_time": "2023-01-16T17:41:41.576Z"
   },
   {
    "duration": 24,
    "start_time": "2023-01-16T17:41:41.734Z"
   },
   {
    "duration": 40,
    "start_time": "2023-01-16T17:41:41.760Z"
   },
   {
    "duration": 314,
    "start_time": "2023-01-16T17:41:41.802Z"
   },
   {
    "duration": 19,
    "start_time": "2023-01-16T17:41:42.118Z"
   },
   {
    "duration": 68,
    "start_time": "2023-01-16T17:41:42.141Z"
   },
   {
    "duration": 0,
    "start_time": "2023-01-16T17:41:42.212Z"
   },
   {
    "duration": 0,
    "start_time": "2023-01-16T17:41:42.213Z"
   },
   {
    "duration": 0,
    "start_time": "2023-01-16T17:41:42.215Z"
   },
   {
    "duration": 0,
    "start_time": "2023-01-16T17:41:42.216Z"
   },
   {
    "duration": 1,
    "start_time": "2023-01-16T17:41:42.217Z"
   },
   {
    "duration": 0,
    "start_time": "2023-01-16T17:41:42.219Z"
   },
   {
    "duration": 0,
    "start_time": "2023-01-16T17:41:42.220Z"
   },
   {
    "duration": 0,
    "start_time": "2023-01-16T17:41:42.221Z"
   },
   {
    "duration": 0,
    "start_time": "2023-01-16T17:41:42.222Z"
   },
   {
    "duration": 0,
    "start_time": "2023-01-16T17:41:42.227Z"
   },
   {
    "duration": 16,
    "start_time": "2023-01-16T17:41:59.538Z"
   },
   {
    "duration": 4,
    "start_time": "2023-01-16T17:42:03.900Z"
   },
   {
    "duration": 27,
    "start_time": "2023-01-16T17:42:04.622Z"
   },
   {
    "duration": 4,
    "start_time": "2023-01-16T17:42:08.409Z"
   },
   {
    "duration": 16,
    "start_time": "2023-01-16T17:42:09.177Z"
   },
   {
    "duration": 15,
    "start_time": "2023-01-16T17:42:28.282Z"
   },
   {
    "duration": 15,
    "start_time": "2023-01-16T17:42:30.558Z"
   },
   {
    "duration": 14,
    "start_time": "2023-01-16T17:42:32.681Z"
   },
   {
    "duration": 7,
    "start_time": "2023-01-16T17:42:33.555Z"
   },
   {
    "duration": 12,
    "start_time": "2023-01-16T17:42:36.193Z"
   },
   {
    "duration": 31,
    "start_time": "2023-01-16T17:42:36.962Z"
   },
   {
    "duration": 31,
    "start_time": "2023-01-16T17:42:38.103Z"
   },
   {
    "duration": 1558,
    "start_time": "2023-01-16T17:42:46.683Z"
   },
   {
    "duration": 3,
    "start_time": "2023-01-16T17:42:48.244Z"
   },
   {
    "duration": 6,
    "start_time": "2023-01-16T17:42:48.249Z"
   },
   {
    "duration": 8650,
    "start_time": "2023-01-16T17:42:48.257Z"
   },
   {
    "duration": 176,
    "start_time": "2023-01-16T17:42:56.908Z"
   },
   {
    "duration": 1014,
    "start_time": "2023-01-16T17:42:57.085Z"
   },
   {
    "duration": 281,
    "start_time": "2023-01-16T17:42:58.101Z"
   },
   {
    "duration": 8679,
    "start_time": "2023-01-16T17:42:58.383Z"
   },
   {
    "duration": 27,
    "start_time": "2023-01-16T17:43:07.063Z"
   },
   {
    "duration": 344,
    "start_time": "2023-01-16T17:43:07.093Z"
   },
   {
    "duration": 143,
    "start_time": "2023-01-16T17:43:07.439Z"
   },
   {
    "duration": 4,
    "start_time": "2023-01-16T17:43:07.584Z"
   },
   {
    "duration": 39,
    "start_time": "2023-01-16T17:43:07.590Z"
   },
   {
    "duration": 26,
    "start_time": "2023-01-16T17:43:07.631Z"
   },
   {
    "duration": 103,
    "start_time": "2023-01-16T17:43:07.658Z"
   },
   {
    "duration": 99,
    "start_time": "2023-01-16T17:43:07.762Z"
   },
   {
    "duration": 16,
    "start_time": "2023-01-16T17:43:07.863Z"
   },
   {
    "duration": 58,
    "start_time": "2023-01-16T17:43:07.882Z"
   },
   {
    "duration": 272,
    "start_time": "2023-01-16T17:43:07.942Z"
   },
   {
    "duration": 12,
    "start_time": "2023-01-16T17:43:08.222Z"
   },
   {
    "duration": 24,
    "start_time": "2023-01-16T17:43:08.235Z"
   },
   {
    "duration": 8,
    "start_time": "2023-01-16T17:43:08.261Z"
   },
   {
    "duration": 25,
    "start_time": "2023-01-16T17:43:08.270Z"
   },
   {
    "duration": 4,
    "start_time": "2023-01-16T17:43:08.297Z"
   },
   {
    "duration": 36,
    "start_time": "2023-01-16T17:43:08.303Z"
   },
   {
    "duration": 18,
    "start_time": "2023-01-16T17:43:08.341Z"
   },
   {
    "duration": 15,
    "start_time": "2023-01-16T17:43:08.360Z"
   },
   {
    "duration": 6,
    "start_time": "2023-01-16T17:43:08.379Z"
   },
   {
    "duration": 45,
    "start_time": "2023-01-16T17:43:08.387Z"
   },
   {
    "duration": 21,
    "start_time": "2023-01-16T17:43:08.439Z"
   },
   {
    "duration": 18,
    "start_time": "2023-01-16T17:43:08.461Z"
   },
   {
    "duration": 11,
    "start_time": "2023-01-16T17:43:56.338Z"
   },
   {
    "duration": 23,
    "start_time": "2023-01-16T17:44:04.026Z"
   },
   {
    "duration": 6,
    "start_time": "2023-01-16T17:44:21.463Z"
   },
   {
    "duration": 1593,
    "start_time": "2023-01-16T17:44:29.111Z"
   },
   {
    "duration": 4,
    "start_time": "2023-01-16T17:44:30.706Z"
   },
   {
    "duration": 7,
    "start_time": "2023-01-16T17:44:30.722Z"
   },
   {
    "duration": 8578,
    "start_time": "2023-01-16T17:44:30.731Z"
   },
   {
    "duration": 186,
    "start_time": "2023-01-16T17:44:39.311Z"
   },
   {
    "duration": 988,
    "start_time": "2023-01-16T17:44:39.499Z"
   },
   {
    "duration": 281,
    "start_time": "2023-01-16T17:44:40.490Z"
   },
   {
    "duration": 9683,
    "start_time": "2023-01-16T17:44:40.773Z"
   },
   {
    "duration": 72,
    "start_time": "2023-01-16T17:44:50.457Z"
   },
   {
    "duration": 377,
    "start_time": "2023-01-16T17:44:50.541Z"
   },
   {
    "duration": 190,
    "start_time": "2023-01-16T17:44:50.922Z"
   },
   {
    "duration": 4,
    "start_time": "2023-01-16T17:44:51.113Z"
   },
   {
    "duration": 43,
    "start_time": "2023-01-16T17:44:51.119Z"
   },
   {
    "duration": 31,
    "start_time": "2023-01-16T17:44:51.164Z"
   },
   {
    "duration": 118,
    "start_time": "2023-01-16T17:44:51.197Z"
   },
   {
    "duration": 109,
    "start_time": "2023-01-16T17:44:51.317Z"
   },
   {
    "duration": 20,
    "start_time": "2023-01-16T17:44:51.438Z"
   },
   {
    "duration": 38,
    "start_time": "2023-01-16T17:44:51.459Z"
   },
   {
    "duration": 297,
    "start_time": "2023-01-16T17:44:51.500Z"
   },
   {
    "duration": 26,
    "start_time": "2023-01-16T17:44:51.799Z"
   },
   {
    "duration": 25,
    "start_time": "2023-01-16T17:44:51.828Z"
   },
   {
    "duration": 17,
    "start_time": "2023-01-16T17:44:51.856Z"
   },
   {
    "duration": 59,
    "start_time": "2023-01-16T17:44:51.876Z"
   },
   {
    "duration": 24,
    "start_time": "2023-01-16T17:44:51.940Z"
   },
   {
    "duration": 28,
    "start_time": "2023-01-16T17:44:51.967Z"
   },
   {
    "duration": 18,
    "start_time": "2023-01-16T17:44:51.997Z"
   },
   {
    "duration": 50,
    "start_time": "2023-01-16T17:44:52.018Z"
   },
   {
    "duration": 13,
    "start_time": "2023-01-16T17:44:52.072Z"
   },
   {
    "duration": 23,
    "start_time": "2023-01-16T17:44:52.087Z"
   },
   {
    "duration": 33,
    "start_time": "2023-01-16T17:44:52.112Z"
   },
   {
    "duration": 19,
    "start_time": "2023-01-16T17:44:52.147Z"
   },
   {
    "duration": 30,
    "start_time": "2023-01-16T17:46:17.025Z"
   },
   {
    "duration": 18,
    "start_time": "2023-01-16T17:46:30.390Z"
   },
   {
    "duration": 1613,
    "start_time": "2023-01-16T17:53:10.600Z"
   },
   {
    "duration": 3,
    "start_time": "2023-01-16T17:53:12.215Z"
   },
   {
    "duration": 40,
    "start_time": "2023-01-16T17:53:12.220Z"
   },
   {
    "duration": 9699,
    "start_time": "2023-01-16T17:53:12.262Z"
   },
   {
    "duration": 219,
    "start_time": "2023-01-16T17:53:21.969Z"
   },
   {
    "duration": 1046,
    "start_time": "2023-01-16T17:53:22.190Z"
   },
   {
    "duration": 318,
    "start_time": "2023-01-16T17:53:23.238Z"
   },
   {
    "duration": 21204,
    "start_time": "2023-01-16T17:53:23.558Z"
   },
   {
    "duration": 29,
    "start_time": "2023-01-16T17:53:44.764Z"
   },
   {
    "duration": 916,
    "start_time": "2023-01-16T17:53:44.796Z"
   },
   {
    "duration": 425,
    "start_time": "2023-01-16T17:53:45.713Z"
   },
   {
    "duration": 18,
    "start_time": "2023-01-16T17:53:46.145Z"
   },
   {
    "duration": 33,
    "start_time": "2023-01-16T17:53:46.165Z"
   },
   {
    "duration": 22,
    "start_time": "2023-01-16T17:53:46.199Z"
   },
   {
    "duration": 264,
    "start_time": "2023-01-16T17:53:46.225Z"
   },
   {
    "duration": 242,
    "start_time": "2023-01-16T17:53:46.491Z"
   },
   {
    "duration": 27,
    "start_time": "2023-01-16T17:53:46.737Z"
   },
   {
    "duration": 71,
    "start_time": "2023-01-16T17:53:46.766Z"
   },
   {
    "duration": 422,
    "start_time": "2023-01-16T17:53:46.838Z"
   },
   {
    "duration": 6,
    "start_time": "2023-01-16T17:53:47.261Z"
   },
   {
    "duration": 50,
    "start_time": "2023-01-16T17:53:47.269Z"
   },
   {
    "duration": 47,
    "start_time": "2023-01-16T17:53:47.320Z"
   },
   {
    "duration": 67,
    "start_time": "2023-01-16T17:53:47.369Z"
   },
   {
    "duration": 42,
    "start_time": "2023-01-16T17:53:47.437Z"
   },
   {
    "duration": 69,
    "start_time": "2023-01-16T17:53:47.480Z"
   },
   {
    "duration": 36,
    "start_time": "2023-01-16T17:53:47.554Z"
   },
   {
    "duration": 48,
    "start_time": "2023-01-16T17:53:47.592Z"
   },
   {
    "duration": 19,
    "start_time": "2023-01-16T17:53:47.647Z"
   },
   {
    "duration": 133,
    "start_time": "2023-01-16T17:53:47.668Z"
   },
   {
    "duration": 0,
    "start_time": "2023-01-16T17:53:47.803Z"
   },
   {
    "duration": 0,
    "start_time": "2023-01-16T17:53:47.804Z"
   },
   {
    "duration": 0,
    "start_time": "2023-01-16T17:53:47.806Z"
   },
   {
    "duration": 21,
    "start_time": "2023-01-16T17:54:07.433Z"
   },
   {
    "duration": 29,
    "start_time": "2023-01-16T17:54:08.552Z"
   },
   {
    "duration": 39,
    "start_time": "2023-01-16T17:54:09.356Z"
   },
   {
    "duration": 29,
    "start_time": "2023-01-16T17:54:10.020Z"
   },
   {
    "duration": 1655,
    "start_time": "2023-01-16T17:55:35.157Z"
   },
   {
    "duration": 14,
    "start_time": "2023-01-16T17:55:36.814Z"
   },
   {
    "duration": 48,
    "start_time": "2023-01-16T17:55:36.834Z"
   },
   {
    "duration": 9820,
    "start_time": "2023-01-16T17:55:36.884Z"
   },
   {
    "duration": 202,
    "start_time": "2023-01-16T17:55:46.706Z"
   },
   {
    "duration": 973,
    "start_time": "2023-01-16T17:55:46.910Z"
   },
   {
    "duration": 296,
    "start_time": "2023-01-16T17:55:47.885Z"
   },
   {
    "duration": 7505,
    "start_time": "2023-01-16T17:55:48.183Z"
   },
   {
    "duration": 49,
    "start_time": "2023-01-16T17:55:55.689Z"
   },
   {
    "duration": 409,
    "start_time": "2023-01-16T17:55:55.744Z"
   },
   {
    "duration": 176,
    "start_time": "2023-01-16T17:55:56.155Z"
   },
   {
    "duration": 14,
    "start_time": "2023-01-16T17:55:56.341Z"
   },
   {
    "duration": 28,
    "start_time": "2023-01-16T17:55:56.356Z"
   },
   {
    "duration": 25,
    "start_time": "2023-01-16T17:55:56.386Z"
   },
   {
    "duration": 106,
    "start_time": "2023-01-16T17:55:56.413Z"
   },
   {
    "duration": 113,
    "start_time": "2023-01-16T17:55:56.521Z"
   },
   {
    "duration": 20,
    "start_time": "2023-01-16T17:55:56.636Z"
   },
   {
    "duration": 52,
    "start_time": "2023-01-16T17:55:56.658Z"
   },
   {
    "duration": 329,
    "start_time": "2023-01-16T17:55:56.725Z"
   },
   {
    "duration": 8,
    "start_time": "2023-01-16T17:55:57.056Z"
   },
   {
    "duration": 20,
    "start_time": "2023-01-16T17:55:57.065Z"
   },
   {
    "duration": 4,
    "start_time": "2023-01-16T17:55:57.087Z"
   },
   {
    "duration": 68,
    "start_time": "2023-01-16T17:55:57.093Z"
   },
   {
    "duration": 12,
    "start_time": "2023-01-16T17:55:57.164Z"
   },
   {
    "duration": 22,
    "start_time": "2023-01-16T17:55:57.178Z"
   },
   {
    "duration": 35,
    "start_time": "2023-01-16T17:55:57.203Z"
   },
   {
    "duration": 42,
    "start_time": "2023-01-16T17:55:57.245Z"
   },
   {
    "duration": 7,
    "start_time": "2023-01-16T17:55:57.292Z"
   },
   {
    "duration": 13,
    "start_time": "2023-01-16T17:55:57.301Z"
   },
   {
    "duration": 38,
    "start_time": "2023-01-16T17:55:57.316Z"
   },
   {
    "duration": 37,
    "start_time": "2023-01-16T17:55:57.356Z"
   },
   {
    "duration": 29,
    "start_time": "2023-01-16T17:55:57.396Z"
   },
   {
    "duration": 6,
    "start_time": "2023-01-16T17:57:20.752Z"
   },
   {
    "duration": 17,
    "start_time": "2023-01-16T17:57:21.284Z"
   },
   {
    "duration": 1574,
    "start_time": "2023-01-16T17:57:25.895Z"
   },
   {
    "duration": 3,
    "start_time": "2023-01-16T17:57:27.471Z"
   },
   {
    "duration": 6,
    "start_time": "2023-01-16T17:57:27.476Z"
   },
   {
    "duration": 9571,
    "start_time": "2023-01-16T17:57:27.484Z"
   },
   {
    "duration": 154,
    "start_time": "2023-01-16T17:57:37.057Z"
   },
   {
    "duration": 1033,
    "start_time": "2023-01-16T17:57:37.213Z"
   },
   {
    "duration": 301,
    "start_time": "2023-01-16T17:57:38.256Z"
   },
   {
    "duration": 7454,
    "start_time": "2023-01-16T17:57:38.559Z"
   },
   {
    "duration": 39,
    "start_time": "2023-01-16T17:57:46.015Z"
   },
   {
    "duration": 377,
    "start_time": "2023-01-16T17:57:46.057Z"
   },
   {
    "duration": 165,
    "start_time": "2023-01-16T17:57:46.443Z"
   },
   {
    "duration": 3,
    "start_time": "2023-01-16T17:57:46.610Z"
   },
   {
    "duration": 47,
    "start_time": "2023-01-16T17:57:46.622Z"
   },
   {
    "duration": 26,
    "start_time": "2023-01-16T17:57:46.672Z"
   },
   {
    "duration": 137,
    "start_time": "2023-01-16T17:57:46.699Z"
   },
   {
    "duration": 101,
    "start_time": "2023-01-16T17:57:46.837Z"
   },
   {
    "duration": 19,
    "start_time": "2023-01-16T17:57:46.941Z"
   },
   {
    "duration": 34,
    "start_time": "2023-01-16T17:57:46.961Z"
   },
   {
    "duration": 284,
    "start_time": "2023-01-16T17:57:46.996Z"
   },
   {
    "duration": 7,
    "start_time": "2023-01-16T17:57:47.282Z"
   },
   {
    "duration": 40,
    "start_time": "2023-01-16T17:57:47.291Z"
   },
   {
    "duration": 22,
    "start_time": "2023-01-16T17:57:47.337Z"
   },
   {
    "duration": 27,
    "start_time": "2023-01-16T17:57:47.361Z"
   },
   {
    "duration": 9,
    "start_time": "2023-01-16T17:57:47.389Z"
   },
   {
    "duration": 33,
    "start_time": "2023-01-16T17:57:47.400Z"
   },
   {
    "duration": 27,
    "start_time": "2023-01-16T17:57:47.445Z"
   },
   {
    "duration": 14,
    "start_time": "2023-01-16T17:57:47.474Z"
   },
   {
    "duration": 9,
    "start_time": "2023-01-16T17:57:47.490Z"
   },
   {
    "duration": 15,
    "start_time": "2023-01-16T17:57:47.501Z"
   },
   {
    "duration": 37,
    "start_time": "2023-01-16T17:57:47.517Z"
   },
   {
    "duration": 26,
    "start_time": "2023-01-16T17:57:47.556Z"
   },
   {
    "duration": 17,
    "start_time": "2023-01-16T17:57:47.584Z"
   },
   {
    "duration": 1570,
    "start_time": "2023-01-17T05:30:33.101Z"
   },
   {
    "duration": 3,
    "start_time": "2023-01-17T05:30:34.673Z"
   },
   {
    "duration": 5,
    "start_time": "2023-01-17T05:30:34.677Z"
   },
   {
    "duration": 8526,
    "start_time": "2023-01-17T05:30:34.684Z"
   },
   {
    "duration": 186,
    "start_time": "2023-01-17T05:30:43.212Z"
   },
   {
    "duration": 958,
    "start_time": "2023-01-17T05:30:43.399Z"
   },
   {
    "duration": 294,
    "start_time": "2023-01-17T05:30:44.359Z"
   },
   {
    "duration": 8856,
    "start_time": "2023-01-17T05:30:44.655Z"
   },
   {
    "duration": 33,
    "start_time": "2023-01-17T05:30:53.513Z"
   },
   {
    "duration": 361,
    "start_time": "2023-01-17T05:30:53.548Z"
   },
   {
    "duration": 166,
    "start_time": "2023-01-17T05:30:53.910Z"
   },
   {
    "duration": 3,
    "start_time": "2023-01-17T05:30:54.078Z"
   },
   {
    "duration": 29,
    "start_time": "2023-01-17T05:30:54.083Z"
   },
   {
    "duration": 34,
    "start_time": "2023-01-17T05:30:54.123Z"
   },
   {
    "duration": 127,
    "start_time": "2023-01-17T05:30:54.159Z"
   },
   {
    "duration": 150,
    "start_time": "2023-01-17T05:30:54.287Z"
   },
   {
    "duration": 63,
    "start_time": "2023-01-17T05:30:54.438Z"
   },
   {
    "duration": 151,
    "start_time": "2023-01-17T05:30:54.503Z"
   },
   {
    "duration": 637,
    "start_time": "2023-01-17T05:30:54.656Z"
   },
   {
    "duration": 695,
    "start_time": "2023-01-17T05:30:55.295Z"
   },
   {
    "duration": 7,
    "start_time": "2023-01-17T05:30:55.991Z"
   },
   {
    "duration": 64,
    "start_time": "2023-01-17T05:30:55.999Z"
   },
   {
    "duration": 4,
    "start_time": "2023-01-17T05:30:56.064Z"
   },
   {
    "duration": 109,
    "start_time": "2023-01-17T05:30:56.069Z"
   },
   {
    "duration": 6,
    "start_time": "2023-01-17T05:30:56.179Z"
   },
   {
    "duration": 73,
    "start_time": "2023-01-17T05:30:56.187Z"
   },
   {
    "duration": 49,
    "start_time": "2023-01-17T05:30:56.261Z"
   },
   {
    "duration": 23,
    "start_time": "2023-01-17T05:30:56.311Z"
   },
   {
    "duration": 16,
    "start_time": "2023-01-17T05:30:56.336Z"
   },
   {
    "duration": 133,
    "start_time": "2023-01-17T05:30:56.354Z"
   },
   {
    "duration": 193,
    "start_time": "2023-01-17T05:30:56.488Z"
   },
   {
    "duration": 68,
    "start_time": "2023-01-17T05:30:56.682Z"
   },
   {
    "duration": 2,
    "start_time": "2023-01-17T05:34:08.989Z"
   },
   {
    "duration": 25,
    "start_time": "2023-01-17T05:34:09.476Z"
   },
   {
    "duration": 21,
    "start_time": "2023-01-17T05:34:10.805Z"
   },
   {
    "duration": 102,
    "start_time": "2023-01-17T05:34:13.381Z"
   },
   {
    "duration": 129,
    "start_time": "2023-01-17T05:34:14.472Z"
   },
   {
    "duration": 54,
    "start_time": "2023-01-17T05:34:15.222Z"
   },
   {
    "duration": 119,
    "start_time": "2023-01-17T05:34:30.085Z"
   },
   {
    "duration": 3,
    "start_time": "2023-01-17T05:35:01.531Z"
   },
   {
    "duration": 20,
    "start_time": "2023-01-17T05:35:01.973Z"
   },
   {
    "duration": 19,
    "start_time": "2023-01-17T05:35:02.685Z"
   },
   {
    "duration": 85,
    "start_time": "2023-01-17T05:35:06.173Z"
   },
   {
    "duration": 103,
    "start_time": "2023-01-17T05:35:07.892Z"
   },
   {
    "duration": 34,
    "start_time": "2023-01-17T05:35:08.573Z"
   },
   {
    "duration": 3,
    "start_time": "2023-01-17T05:35:53.996Z"
   },
   {
    "duration": 20,
    "start_time": "2023-01-17T05:35:55.804Z"
   },
   {
    "duration": 22,
    "start_time": "2023-01-17T05:35:56.381Z"
   },
   {
    "duration": 102,
    "start_time": "2023-01-17T05:35:59.883Z"
   },
   {
    "duration": 125,
    "start_time": "2023-01-17T05:36:00.828Z"
   },
   {
    "duration": 41,
    "start_time": "2023-01-17T05:36:03.905Z"
   },
   {
    "duration": 1298,
    "start_time": "2023-01-17T05:36:21.045Z"
   },
   {
    "duration": 0,
    "start_time": "2023-01-17T05:36:22.345Z"
   },
   {
    "duration": 0,
    "start_time": "2023-01-17T05:36:22.346Z"
   },
   {
    "duration": 6,
    "start_time": "2023-01-17T05:36:23.114Z"
   },
   {
    "duration": 34,
    "start_time": "2023-01-17T05:36:23.901Z"
   },
   {
    "duration": 4,
    "start_time": "2023-01-17T05:36:24.777Z"
   },
   {
    "duration": 62,
    "start_time": "2023-01-17T05:36:25.489Z"
   },
   {
    "duration": 5,
    "start_time": "2023-01-17T05:36:27.773Z"
   },
   {
    "duration": 13,
    "start_time": "2023-01-17T05:36:28.243Z"
   },
   {
    "duration": 31,
    "start_time": "2023-01-17T05:36:28.877Z"
   },
   {
    "duration": 14,
    "start_time": "2023-01-17T05:36:30.746Z"
   },
   {
    "duration": 11,
    "start_time": "2023-01-17T05:36:31.284Z"
   },
   {
    "duration": 64,
    "start_time": "2023-01-17T05:36:31.994Z"
   },
   {
    "duration": 128,
    "start_time": "2023-01-17T05:36:34.116Z"
   },
   {
    "duration": 41,
    "start_time": "2023-01-17T05:36:35.198Z"
   },
   {
    "duration": 3,
    "start_time": "2023-01-17T05:36:58.785Z"
   },
   {
    "duration": 18,
    "start_time": "2023-01-17T05:36:59.177Z"
   },
   {
    "duration": 20,
    "start_time": "2023-01-17T05:36:59.679Z"
   },
   {
    "duration": 97,
    "start_time": "2023-01-17T05:37:00.265Z"
   },
   {
    "duration": 107,
    "start_time": "2023-01-17T05:37:00.986Z"
   },
   {
    "duration": 38,
    "start_time": "2023-01-17T05:37:01.637Z"
   },
   {
    "duration": 65,
    "start_time": "2023-01-17T05:37:04.820Z"
   },
   {
    "duration": 518,
    "start_time": "2023-01-17T05:37:07.028Z"
   },
   {
    "duration": 462,
    "start_time": "2023-01-17T05:37:07.893Z"
   },
   {
    "duration": 6,
    "start_time": "2023-01-17T05:37:10.673Z"
   },
   {
    "duration": 32,
    "start_time": "2023-01-17T05:37:11.502Z"
   },
   {
    "duration": 4,
    "start_time": "2023-01-17T05:37:13.373Z"
   },
   {
    "duration": 51,
    "start_time": "2023-01-17T05:37:13.885Z"
   },
   {
    "duration": 5,
    "start_time": "2023-01-17T05:37:15.585Z"
   },
   {
    "duration": 11,
    "start_time": "2023-01-17T05:37:16.108Z"
   },
   {
    "duration": 29,
    "start_time": "2023-01-17T05:37:16.677Z"
   },
   {
    "duration": 11,
    "start_time": "2023-01-17T05:37:18.436Z"
   },
   {
    "duration": 8,
    "start_time": "2023-01-17T05:37:18.899Z"
   },
   {
    "duration": 50,
    "start_time": "2023-01-17T05:37:19.530Z"
   },
   {
    "duration": 82,
    "start_time": "2023-01-17T05:37:22.997Z"
   },
   {
    "duration": 34,
    "start_time": "2023-01-17T05:37:23.524Z"
   },
   {
    "duration": 1422,
    "start_time": "2023-01-17T05:40:59.677Z"
   },
   {
    "duration": 3,
    "start_time": "2023-01-17T05:41:01.101Z"
   },
   {
    "duration": 8,
    "start_time": "2023-01-17T05:41:01.105Z"
   },
   {
    "duration": 7756,
    "start_time": "2023-01-17T05:41:01.115Z"
   },
   {
    "duration": 144,
    "start_time": "2023-01-17T05:41:08.873Z"
   },
   {
    "duration": 890,
    "start_time": "2023-01-17T05:41:09.018Z"
   },
   {
    "duration": 280,
    "start_time": "2023-01-17T05:41:09.910Z"
   },
   {
    "duration": 9157,
    "start_time": "2023-01-17T05:41:10.191Z"
   },
   {
    "duration": 29,
    "start_time": "2023-01-17T05:41:19.350Z"
   },
   {
    "duration": 315,
    "start_time": "2023-01-17T05:41:19.380Z"
   },
   {
    "duration": 155,
    "start_time": "2023-01-17T05:41:19.697Z"
   },
   {
    "duration": 8,
    "start_time": "2023-01-17T05:41:19.854Z"
   },
   {
    "duration": 31,
    "start_time": "2023-01-17T05:41:19.864Z"
   },
   {
    "duration": 33,
    "start_time": "2023-01-17T05:41:19.897Z"
   },
   {
    "duration": 111,
    "start_time": "2023-01-17T05:41:19.931Z"
   },
   {
    "duration": 106,
    "start_time": "2023-01-17T05:41:20.044Z"
   },
   {
    "duration": 29,
    "start_time": "2023-01-17T05:41:20.152Z"
   },
   {
    "duration": 71,
    "start_time": "2023-01-17T05:41:20.182Z"
   },
   {
    "duration": 493,
    "start_time": "2023-01-17T05:41:20.255Z"
   },
   {
    "duration": 510,
    "start_time": "2023-01-17T05:41:20.749Z"
   },
   {
    "duration": 6,
    "start_time": "2023-01-17T05:41:21.261Z"
   },
   {
    "duration": 34,
    "start_time": "2023-01-17T05:41:21.268Z"
   },
   {
    "duration": 3,
    "start_time": "2023-01-17T05:41:21.303Z"
   },
   {
    "duration": 49,
    "start_time": "2023-01-17T05:41:21.322Z"
   },
   {
    "duration": 5,
    "start_time": "2023-01-17T05:41:21.372Z"
   },
   {
    "duration": 12,
    "start_time": "2023-01-17T05:41:21.379Z"
   },
   {
    "duration": 43,
    "start_time": "2023-01-17T05:41:21.392Z"
   },
   {
    "duration": 5,
    "start_time": "2023-01-17T05:41:21.437Z"
   },
   {
    "duration": 16,
    "start_time": "2023-01-17T05:41:21.443Z"
   },
   {
    "duration": 11,
    "start_time": "2023-01-17T05:41:21.460Z"
   },
   {
    "duration": 61,
    "start_time": "2023-01-17T05:41:21.472Z"
   },
   {
    "duration": 77,
    "start_time": "2023-01-17T05:41:21.535Z"
   },
   {
    "duration": 34,
    "start_time": "2023-01-17T05:41:21.621Z"
   },
   {
    "duration": 2,
    "start_time": "2023-01-17T05:46:12.866Z"
   },
   {
    "duration": 135,
    "start_time": "2023-01-17T05:49:49.579Z"
   },
   {
    "duration": 10,
    "start_time": "2023-01-17T05:55:07.059Z"
   },
   {
    "duration": 315,
    "start_time": "2023-01-17T05:55:23.107Z"
   },
   {
    "duration": 1468,
    "start_time": "2023-01-17T05:56:46.494Z"
   },
   {
    "duration": 3,
    "start_time": "2023-01-17T05:56:47.964Z"
   },
   {
    "duration": 7,
    "start_time": "2023-01-17T05:56:47.968Z"
   },
   {
    "duration": 7721,
    "start_time": "2023-01-17T05:56:47.976Z"
   },
   {
    "duration": 160,
    "start_time": "2023-01-17T05:56:55.699Z"
   },
   {
    "duration": 894,
    "start_time": "2023-01-17T05:56:55.860Z"
   },
   {
    "duration": 279,
    "start_time": "2023-01-17T05:56:56.756Z"
   },
   {
    "duration": 8793,
    "start_time": "2023-01-17T05:56:57.037Z"
   },
   {
    "duration": 36,
    "start_time": "2023-01-17T05:57:05.832Z"
   },
   {
    "duration": 358,
    "start_time": "2023-01-17T05:57:05.870Z"
   },
   {
    "duration": 163,
    "start_time": "2023-01-17T05:57:06.230Z"
   },
   {
    "duration": 19,
    "start_time": "2023-01-17T05:57:06.395Z"
   },
   {
    "duration": 55,
    "start_time": "2023-01-17T05:57:06.416Z"
   },
   {
    "duration": 27,
    "start_time": "2023-01-17T05:57:06.475Z"
   },
   {
    "duration": 127,
    "start_time": "2023-01-17T05:57:06.504Z"
   },
   {
    "duration": 106,
    "start_time": "2023-01-17T05:57:06.633Z"
   },
   {
    "duration": 34,
    "start_time": "2023-01-17T05:57:06.741Z"
   },
   {
    "duration": 24,
    "start_time": "2023-01-17T05:57:06.776Z"
   },
   {
    "duration": 80,
    "start_time": "2023-01-17T05:57:06.801Z"
   },
   {
    "duration": 480,
    "start_time": "2023-01-17T05:57:06.883Z"
   },
   {
    "duration": 515,
    "start_time": "2023-01-17T05:57:07.364Z"
   },
   {
    "duration": 8,
    "start_time": "2023-01-17T05:57:07.880Z"
   },
   {
    "duration": 55,
    "start_time": "2023-01-17T05:57:07.889Z"
   },
   {
    "duration": 9,
    "start_time": "2023-01-17T05:57:07.945Z"
   },
   {
    "duration": 76,
    "start_time": "2023-01-17T05:57:07.956Z"
   },
   {
    "duration": 6,
    "start_time": "2023-01-17T05:57:08.033Z"
   },
   {
    "duration": 30,
    "start_time": "2023-01-17T05:57:08.040Z"
   },
   {
    "duration": 55,
    "start_time": "2023-01-17T05:57:08.072Z"
   },
   {
    "duration": 38,
    "start_time": "2023-01-17T05:57:08.129Z"
   },
   {
    "duration": 33,
    "start_time": "2023-01-17T05:57:08.169Z"
   },
   {
    "duration": 31,
    "start_time": "2023-01-17T05:57:08.204Z"
   },
   {
    "duration": 71,
    "start_time": "2023-01-17T05:57:08.238Z"
   },
   {
    "duration": 81,
    "start_time": "2023-01-17T05:57:08.310Z"
   },
   {
    "duration": 33,
    "start_time": "2023-01-17T05:57:08.393Z"
   },
   {
    "duration": 436,
    "start_time": "2023-01-17T05:57:08.427Z"
   },
   {
    "duration": 0,
    "start_time": "2023-01-17T05:57:08.865Z"
   },
   {
    "duration": 0,
    "start_time": "2023-01-17T05:57:08.866Z"
   },
   {
    "duration": 1495,
    "start_time": "2023-01-17T05:57:51.042Z"
   },
   {
    "duration": 3,
    "start_time": "2023-01-17T05:57:52.539Z"
   },
   {
    "duration": 11,
    "start_time": "2023-01-17T05:57:52.543Z"
   },
   {
    "duration": 7716,
    "start_time": "2023-01-17T05:57:52.556Z"
   },
   {
    "duration": 157,
    "start_time": "2023-01-17T05:58:00.274Z"
   },
   {
    "duration": 928,
    "start_time": "2023-01-17T05:58:00.433Z"
   },
   {
    "duration": 291,
    "start_time": "2023-01-17T05:58:01.363Z"
   },
   {
    "duration": 9311,
    "start_time": "2023-01-17T05:58:01.656Z"
   },
   {
    "duration": 27,
    "start_time": "2023-01-17T05:58:10.968Z"
   },
   {
    "duration": 332,
    "start_time": "2023-01-17T05:58:10.998Z"
   },
   {
    "duration": 169,
    "start_time": "2023-01-17T05:58:11.331Z"
   },
   {
    "duration": 3,
    "start_time": "2023-01-17T05:58:11.502Z"
   },
   {
    "duration": 25,
    "start_time": "2023-01-17T05:58:11.507Z"
   },
   {
    "duration": 23,
    "start_time": "2023-01-17T05:58:11.535Z"
   },
   {
    "duration": 116,
    "start_time": "2023-01-17T05:58:11.559Z"
   },
   {
    "duration": 112,
    "start_time": "2023-01-17T05:58:11.677Z"
   },
   {
    "duration": 34,
    "start_time": "2023-01-17T05:58:11.791Z"
   },
   {
    "duration": 3,
    "start_time": "2023-01-17T05:58:11.827Z"
   },
   {
    "duration": 72,
    "start_time": "2023-01-17T05:58:11.831Z"
   },
   {
    "duration": 445,
    "start_time": "2023-01-17T05:58:11.905Z"
   },
   {
    "duration": 467,
    "start_time": "2023-01-17T05:58:12.352Z"
   },
   {
    "duration": 6,
    "start_time": "2023-01-17T05:58:12.821Z"
   },
   {
    "duration": 37,
    "start_time": "2023-01-17T05:58:12.829Z"
   },
   {
    "duration": 3,
    "start_time": "2023-01-17T05:58:12.868Z"
   },
   {
    "duration": 33,
    "start_time": "2023-01-17T05:58:12.872Z"
   },
   {
    "duration": 3,
    "start_time": "2023-01-17T05:58:12.923Z"
   },
   {
    "duration": 17,
    "start_time": "2023-01-17T05:58:12.927Z"
   },
   {
    "duration": 29,
    "start_time": "2023-01-17T05:58:12.947Z"
   },
   {
    "duration": 3,
    "start_time": "2023-01-17T05:58:12.978Z"
   },
   {
    "duration": 10,
    "start_time": "2023-01-17T05:58:12.983Z"
   },
   {
    "duration": 34,
    "start_time": "2023-01-17T05:58:12.995Z"
   },
   {
    "duration": 45,
    "start_time": "2023-01-17T05:58:13.031Z"
   },
   {
    "duration": 68,
    "start_time": "2023-01-17T05:58:13.077Z"
   },
   {
    "duration": 27,
    "start_time": "2023-01-17T05:58:13.147Z"
   },
   {
    "duration": 5,
    "start_time": "2023-01-17T05:58:13.175Z"
   },
   {
    "duration": 6,
    "start_time": "2023-01-17T05:58:13.181Z"
   },
   {
    "duration": 139,
    "start_time": "2023-01-17T05:58:13.188Z"
   },
   {
    "duration": 20,
    "start_time": "2023-01-17T05:58:58.782Z"
   },
   {
    "duration": 5,
    "start_time": "2023-01-17T06:05:27.047Z"
   },
   {
    "duration": 11,
    "start_time": "2023-01-17T06:06:18.414Z"
   },
   {
    "duration": 9,
    "start_time": "2023-01-17T06:06:45.392Z"
   },
   {
    "duration": 18,
    "start_time": "2023-01-17T06:07:07.760Z"
   },
   {
    "duration": 8,
    "start_time": "2023-01-17T06:08:13.110Z"
   },
   {
    "duration": 21,
    "start_time": "2023-01-17T06:09:24.360Z"
   },
   {
    "duration": 25,
    "start_time": "2023-01-17T06:09:38.947Z"
   },
   {
    "duration": 1430,
    "start_time": "2023-01-17T06:10:08.053Z"
   },
   {
    "duration": 3,
    "start_time": "2023-01-17T06:10:09.485Z"
   },
   {
    "duration": 9,
    "start_time": "2023-01-17T06:10:09.489Z"
   },
   {
    "duration": 8066,
    "start_time": "2023-01-17T06:10:09.499Z"
   },
   {
    "duration": 142,
    "start_time": "2023-01-17T06:10:17.567Z"
   },
   {
    "duration": 878,
    "start_time": "2023-01-17T06:10:17.711Z"
   },
   {
    "duration": 296,
    "start_time": "2023-01-17T06:10:18.590Z"
   },
   {
    "duration": 9189,
    "start_time": "2023-01-17T06:10:18.888Z"
   },
   {
    "duration": 27,
    "start_time": "2023-01-17T06:10:28.078Z"
   },
   {
    "duration": 313,
    "start_time": "2023-01-17T06:10:28.106Z"
   },
   {
    "duration": 162,
    "start_time": "2023-01-17T06:10:28.421Z"
   },
   {
    "duration": 3,
    "start_time": "2023-01-17T06:10:28.584Z"
   },
   {
    "duration": 16,
    "start_time": "2023-01-17T06:10:28.589Z"
   },
   {
    "duration": 32,
    "start_time": "2023-01-17T06:10:28.608Z"
   },
   {
    "duration": 98,
    "start_time": "2023-01-17T06:10:28.641Z"
   },
   {
    "duration": 103,
    "start_time": "2023-01-17T06:10:28.741Z"
   },
   {
    "duration": 31,
    "start_time": "2023-01-17T06:10:28.846Z"
   },
   {
    "duration": 3,
    "start_time": "2023-01-17T06:10:28.878Z"
   },
   {
    "duration": 79,
    "start_time": "2023-01-17T06:10:28.882Z"
   },
   {
    "duration": 486,
    "start_time": "2023-01-17T06:10:28.962Z"
   },
   {
    "duration": 526,
    "start_time": "2023-01-17T06:10:29.449Z"
   },
   {
    "duration": 6,
    "start_time": "2023-01-17T06:10:29.977Z"
   },
   {
    "duration": 47,
    "start_time": "2023-01-17T06:10:29.984Z"
   },
   {
    "duration": 4,
    "start_time": "2023-01-17T06:10:30.032Z"
   },
   {
    "duration": 42,
    "start_time": "2023-01-17T06:10:30.038Z"
   },
   {
    "duration": 4,
    "start_time": "2023-01-17T06:10:30.082Z"
   },
   {
    "duration": 13,
    "start_time": "2023-01-17T06:10:30.088Z"
   },
   {
    "duration": 39,
    "start_time": "2023-01-17T06:10:30.102Z"
   },
   {
    "duration": 4,
    "start_time": "2023-01-17T06:10:30.143Z"
   },
   {
    "duration": 12,
    "start_time": "2023-01-17T06:10:30.148Z"
   },
   {
    "duration": 13,
    "start_time": "2023-01-17T06:10:30.162Z"
   },
   {
    "duration": 148,
    "start_time": "2023-01-17T06:10:30.177Z"
   },
   {
    "duration": 58,
    "start_time": "2023-01-17T06:10:30.327Z"
   },
   {
    "duration": 49,
    "start_time": "2023-01-17T06:10:30.387Z"
   },
   {
    "duration": 10,
    "start_time": "2023-01-17T06:10:30.438Z"
   },
   {
    "duration": 149,
    "start_time": "2023-01-17T06:10:30.450Z"
   },
   {
    "duration": 5,
    "start_time": "2023-01-17T06:10:30.600Z"
   },
   {
    "duration": 26,
    "start_time": "2023-01-17T06:10:30.607Z"
   },
   {
    "duration": 8,
    "start_time": "2023-01-17T06:10:30.635Z"
   },
   {
    "duration": 26,
    "start_time": "2023-01-17T06:10:30.644Z"
   },
   {
    "duration": 23,
    "start_time": "2023-01-17T06:10:30.673Z"
   },
   {
    "duration": 6,
    "start_time": "2023-01-17T06:15:17.568Z"
   },
   {
    "duration": 3,
    "start_time": "2023-01-17T06:16:55.123Z"
   },
   {
    "duration": 110,
    "start_time": "2023-01-17T06:17:12.544Z"
   },
   {
    "duration": 4,
    "start_time": "2023-01-17T06:18:01.897Z"
   },
   {
    "duration": 3,
    "start_time": "2023-01-17T06:18:09.325Z"
   },
   {
    "duration": 3,
    "start_time": "2023-01-17T06:18:27.508Z"
   },
   {
    "duration": 784,
    "start_time": "2023-01-17T06:18:45.161Z"
   },
   {
    "duration": 536,
    "start_time": "2023-01-17T06:19:27.626Z"
   },
   {
    "duration": 3,
    "start_time": "2023-01-17T06:19:53.546Z"
   },
   {
    "duration": 3,
    "start_time": "2023-01-17T06:20:20.982Z"
   },
   {
    "duration": 38,
    "start_time": "2023-01-17T06:21:05.712Z"
   },
   {
    "duration": 22,
    "start_time": "2023-01-17T06:22:35.636Z"
   },
   {
    "duration": 10,
    "start_time": "2023-01-17T06:23:03.931Z"
   },
   {
    "duration": 6,
    "start_time": "2023-01-17T06:23:13.748Z"
   },
   {
    "duration": 17,
    "start_time": "2023-01-17T06:23:16.459Z"
   },
   {
    "duration": 3,
    "start_time": "2023-01-17T06:23:45.356Z"
   },
   {
    "duration": 4,
    "start_time": "2023-01-17T06:23:54.188Z"
   },
   {
    "duration": 657,
    "start_time": "2023-01-17T06:23:57.076Z"
   },
   {
    "duration": 3,
    "start_time": "2023-01-17T06:27:25.280Z"
   },
   {
    "duration": 3,
    "start_time": "2023-01-17T06:27:39.109Z"
   },
   {
    "duration": 3,
    "start_time": "2023-01-17T06:27:54.274Z"
   },
   {
    "duration": 141861,
    "start_time": "2023-01-17T06:28:19.293Z"
   },
   {
    "duration": 4,
    "start_time": "2023-01-17T06:30:49.664Z"
   },
   {
    "duration": 34,
    "start_time": "2023-01-17T06:31:19.842Z"
   },
   {
    "duration": 1342,
    "start_time": "2023-01-17T06:31:30.823Z"
   },
   {
    "duration": 686,
    "start_time": "2023-01-17T06:32:14.290Z"
   },
   {
    "duration": 1628,
    "start_time": "2023-01-17T06:33:02.365Z"
   },
   {
    "duration": 2,
    "start_time": "2023-01-17T06:34:39.472Z"
   },
   {
    "duration": 2,
    "start_time": "2023-01-17T06:39:28.731Z"
   },
   {
    "duration": 3,
    "start_time": "2023-01-17T06:40:29.746Z"
   },
   {
    "duration": 7215,
    "start_time": "2023-01-17T06:41:44.487Z"
   },
   {
    "duration": 4,
    "start_time": "2023-01-17T06:46:32.511Z"
   },
   {
    "duration": 75074,
    "start_time": "2023-01-17T06:47:07.413Z"
   },
   {
    "duration": 4,
    "start_time": "2023-01-17T06:49:55.909Z"
   },
   {
    "duration": 9,
    "start_time": "2023-01-17T06:50:24.340Z"
   },
   {
    "duration": 101,
    "start_time": "2023-01-17T06:51:26.931Z"
   },
   {
    "duration": 51,
    "start_time": "2023-01-17T06:51:58.176Z"
   },
   {
    "duration": 1650,
    "start_time": "2023-01-17T06:53:00.324Z"
   },
   {
    "duration": 494,
    "start_time": "2023-01-17T06:53:12.913Z"
   },
   {
    "duration": 5,
    "start_time": "2023-01-17T06:55:38.257Z"
   },
   {
    "duration": 9,
    "start_time": "2023-01-17T06:57:25.107Z"
   },
   {
    "duration": 10,
    "start_time": "2023-01-17T06:58:47.615Z"
   },
   {
    "duration": 17,
    "start_time": "2023-01-17T06:59:52.975Z"
   },
   {
    "duration": 14,
    "start_time": "2023-01-17T07:00:07.453Z"
   },
   {
    "duration": 10,
    "start_time": "2023-01-17T07:01:23.447Z"
   },
   {
    "duration": 47,
    "start_time": "2023-01-17T07:01:28.876Z"
   },
   {
    "duration": 10,
    "start_time": "2023-01-17T07:01:44.966Z"
   },
   {
    "duration": 10,
    "start_time": "2023-01-17T07:02:20.056Z"
   },
   {
    "duration": 46,
    "start_time": "2023-01-17T07:02:47.977Z"
   },
   {
    "duration": 1706,
    "start_time": "2023-01-17T07:04:43.704Z"
   },
   {
    "duration": 4,
    "start_time": "2023-01-17T07:05:01.708Z"
   },
   {
    "duration": 11,
    "start_time": "2023-01-17T07:05:19.316Z"
   },
   {
    "duration": 529,
    "start_time": "2023-01-17T07:06:59.766Z"
   },
   {
    "duration": 694,
    "start_time": "2023-01-17T07:07:32.869Z"
   },
   {
    "duration": 1723,
    "start_time": "2023-01-17T07:12:53.921Z"
   },
   {
    "duration": 3,
    "start_time": "2023-01-17T07:13:02.132Z"
   },
   {
    "duration": 690,
    "start_time": "2023-01-17T07:14:52.102Z"
   },
   {
    "duration": 542,
    "start_time": "2023-01-17T07:15:50.519Z"
   },
   {
    "duration": 10,
    "start_time": "2023-01-17T07:18:57.645Z"
   },
   {
    "duration": 11,
    "start_time": "2023-01-17T07:19:21.347Z"
   },
   {
    "duration": 1547,
    "start_time": "2023-01-17T07:20:09.649Z"
   },
   {
    "duration": 3,
    "start_time": "2023-01-17T07:20:11.198Z"
   },
   {
    "duration": 6,
    "start_time": "2023-01-17T07:20:11.202Z"
   },
   {
    "duration": 8146,
    "start_time": "2023-01-17T07:20:11.210Z"
   },
   {
    "duration": 173,
    "start_time": "2023-01-17T07:20:19.358Z"
   },
   {
    "duration": 952,
    "start_time": "2023-01-17T07:20:19.533Z"
   },
   {
    "duration": 304,
    "start_time": "2023-01-17T07:20:20.487Z"
   },
   {
    "duration": 9336,
    "start_time": "2023-01-17T07:20:20.793Z"
   },
   {
    "duration": 28,
    "start_time": "2023-01-17T07:20:30.130Z"
   },
   {
    "duration": 382,
    "start_time": "2023-01-17T07:20:30.162Z"
   },
   {
    "duration": 181,
    "start_time": "2023-01-17T07:20:30.546Z"
   },
   {
    "duration": 10,
    "start_time": "2023-01-17T07:20:30.729Z"
   },
   {
    "duration": 27,
    "start_time": "2023-01-17T07:20:30.741Z"
   },
   {
    "duration": 33,
    "start_time": "2023-01-17T07:20:30.770Z"
   },
   {
    "duration": 117,
    "start_time": "2023-01-17T07:20:30.804Z"
   },
   {
    "duration": 117,
    "start_time": "2023-01-17T07:20:30.923Z"
   },
   {
    "duration": 36,
    "start_time": "2023-01-17T07:20:31.042Z"
   },
   {
    "duration": 21,
    "start_time": "2023-01-17T07:20:31.079Z"
   },
   {
    "duration": 89,
    "start_time": "2023-01-17T07:20:31.102Z"
   },
   {
    "duration": 495,
    "start_time": "2023-01-17T07:20:31.194Z"
   },
   {
    "duration": 519,
    "start_time": "2023-01-17T07:20:31.691Z"
   },
   {
    "duration": 11,
    "start_time": "2023-01-17T07:20:32.212Z"
   },
   {
    "duration": 57,
    "start_time": "2023-01-17T07:20:32.224Z"
   },
   {
    "duration": 4,
    "start_time": "2023-01-17T07:20:32.283Z"
   },
   {
    "duration": 45,
    "start_time": "2023-01-17T07:20:32.289Z"
   },
   {
    "duration": 4,
    "start_time": "2023-01-17T07:20:32.336Z"
   },
   {
    "duration": 26,
    "start_time": "2023-01-17T07:20:32.341Z"
   },
   {
    "duration": 51,
    "start_time": "2023-01-17T07:20:32.371Z"
   },
   {
    "duration": 4,
    "start_time": "2023-01-17T07:20:32.424Z"
   },
   {
    "duration": 29,
    "start_time": "2023-01-17T07:20:32.429Z"
   },
   {
    "duration": 19,
    "start_time": "2023-01-17T07:20:32.460Z"
   },
   {
    "duration": 64,
    "start_time": "2023-01-17T07:20:32.481Z"
   },
   {
    "duration": 60,
    "start_time": "2023-01-17T07:20:32.547Z"
   },
   {
    "duration": 39,
    "start_time": "2023-01-17T07:20:32.608Z"
   },
   {
    "duration": 27,
    "start_time": "2023-01-17T07:20:32.649Z"
   },
   {
    "duration": 149,
    "start_time": "2023-01-17T07:20:32.678Z"
   },
   {
    "duration": 6,
    "start_time": "2023-01-17T07:20:32.829Z"
   },
   {
    "duration": 30,
    "start_time": "2023-01-17T07:20:32.836Z"
   },
   {
    "duration": 13,
    "start_time": "2023-01-17T07:20:32.868Z"
   },
   {
    "duration": 38,
    "start_time": "2023-01-17T07:20:32.883Z"
   },
   {
    "duration": 41,
    "start_time": "2023-01-17T07:20:32.924Z"
   },
   {
    "duration": 4,
    "start_time": "2023-01-17T07:20:32.967Z"
   },
   {
    "duration": 10,
    "start_time": "2023-01-17T07:20:32.973Z"
   },
   {
    "duration": 10,
    "start_time": "2023-01-17T07:20:32.984Z"
   },
   {
    "duration": 10,
    "start_time": "2023-01-17T07:20:32.996Z"
   },
   {
    "duration": 3,
    "start_time": "2023-01-17T07:20:33.022Z"
   },
   {
    "duration": 10,
    "start_time": "2023-01-17T07:20:33.026Z"
   },
   {
    "duration": 646,
    "start_time": "2023-01-17T07:20:33.037Z"
   },
   {
    "duration": 4,
    "start_time": "2023-01-17T07:20:33.685Z"
   },
   {
    "duration": 62,
    "start_time": "2023-01-17T07:20:33.691Z"
   },
   {
    "duration": 26,
    "start_time": "2023-01-17T07:20:33.754Z"
   },
   {
    "duration": 773,
    "start_time": "2023-01-17T07:20:33.782Z"
   },
   {
    "duration": 3,
    "start_time": "2023-01-17T07:20:34.557Z"
   },
   {
    "duration": 7,
    "start_time": "2023-01-17T07:20:34.561Z"
   },
   {
    "duration": 4,
    "start_time": "2023-01-17T07:20:34.571Z"
   },
   {
    "duration": 148117,
    "start_time": "2023-01-17T07:20:34.577Z"
   },
   {
    "duration": 3,
    "start_time": "2023-01-17T07:23:02.696Z"
   },
   {
    "duration": 1399,
    "start_time": "2023-01-17T07:23:02.700Z"
   },
   {
    "duration": 729,
    "start_time": "2023-01-17T07:23:04.102Z"
   },
   {
    "duration": 1744,
    "start_time": "2023-01-17T07:23:04.833Z"
   },
   {
    "duration": 59,
    "start_time": "2023-01-17T07:23:06.580Z"
   },
   {
    "duration": 3,
    "start_time": "2023-01-17T07:23:06.641Z"
   },
   {
    "duration": 6,
    "start_time": "2023-01-17T07:23:06.646Z"
   },
   {
    "duration": 7,
    "start_time": "2023-01-17T07:23:06.654Z"
   },
   {
    "duration": 7,
    "start_time": "2023-01-17T07:23:06.663Z"
   },
   {
    "duration": 76768,
    "start_time": "2023-01-17T07:23:06.672Z"
   },
   {
    "duration": 3,
    "start_time": "2023-01-17T07:24:23.442Z"
   },
   {
    "duration": 105,
    "start_time": "2023-01-17T07:24:23.446Z"
   },
   {
    "duration": 52,
    "start_time": "2023-01-17T07:24:23.552Z"
   },
   {
    "duration": 555,
    "start_time": "2023-01-17T07:24:23.606Z"
   },
   {
    "duration": 12,
    "start_time": "2023-01-17T07:24:24.164Z"
   },
   {
    "duration": 125,
    "start_time": "2023-01-17T07:24:24.178Z"
   },
   {
    "duration": 9,
    "start_time": "2023-01-17T07:26:27.003Z"
   },
   {
    "duration": 14,
    "start_time": "2023-01-17T07:27:11.300Z"
   },
   {
    "duration": 6,
    "start_time": "2023-01-17T07:29:24.603Z"
   },
   {
    "duration": 9,
    "start_time": "2023-01-17T07:32:41.268Z"
   },
   {
    "duration": 21,
    "start_time": "2023-01-17T07:33:21.380Z"
   },
   {
    "duration": 9,
    "start_time": "2023-01-17T07:34:22.341Z"
   },
   {
    "duration": 8,
    "start_time": "2023-01-17T07:35:13.029Z"
   },
   {
    "duration": 12,
    "start_time": "2023-01-17T07:39:06.055Z"
   },
   {
    "duration": 9,
    "start_time": "2023-01-17T07:39:43.414Z"
   },
   {
    "duration": 1506,
    "start_time": "2023-01-17T07:45:27.195Z"
   },
   {
    "duration": 3,
    "start_time": "2023-01-17T07:45:28.703Z"
   },
   {
    "duration": 7,
    "start_time": "2023-01-17T07:45:28.708Z"
   },
   {
    "duration": 8257,
    "start_time": "2023-01-17T07:45:28.717Z"
   },
   {
    "duration": 161,
    "start_time": "2023-01-17T07:45:36.976Z"
   },
   {
    "duration": 914,
    "start_time": "2023-01-17T07:45:37.139Z"
   },
   {
    "duration": 294,
    "start_time": "2023-01-17T07:45:38.054Z"
   },
   {
    "duration": 9389,
    "start_time": "2023-01-17T07:45:38.350Z"
   },
   {
    "duration": 28,
    "start_time": "2023-01-17T07:45:47.741Z"
   },
   {
    "duration": 377,
    "start_time": "2023-01-17T07:45:47.770Z"
   },
   {
    "duration": 181,
    "start_time": "2023-01-17T07:45:48.149Z"
   },
   {
    "duration": 21,
    "start_time": "2023-01-17T07:45:48.332Z"
   },
   {
    "duration": 38,
    "start_time": "2023-01-17T07:45:48.354Z"
   },
   {
    "duration": 33,
    "start_time": "2023-01-17T07:45:48.395Z"
   },
   {
    "duration": 121,
    "start_time": "2023-01-17T07:45:48.430Z"
   },
   {
    "duration": 120,
    "start_time": "2023-01-17T07:45:48.552Z"
   },
   {
    "duration": 35,
    "start_time": "2023-01-17T07:45:48.673Z"
   },
   {
    "duration": 14,
    "start_time": "2023-01-17T07:45:48.709Z"
   },
   {
    "duration": 105,
    "start_time": "2023-01-17T07:45:48.725Z"
   },
   {
    "duration": 436,
    "start_time": "2023-01-17T07:45:48.832Z"
   },
   {
    "duration": 503,
    "start_time": "2023-01-17T07:45:49.269Z"
   },
   {
    "duration": 7,
    "start_time": "2023-01-17T07:45:49.773Z"
   },
   {
    "duration": 50,
    "start_time": "2023-01-17T07:45:49.782Z"
   },
   {
    "duration": 3,
    "start_time": "2023-01-17T07:45:49.834Z"
   },
   {
    "duration": 29,
    "start_time": "2023-01-17T07:45:49.839Z"
   },
   {
    "duration": 3,
    "start_time": "2023-01-17T07:45:49.870Z"
   },
   {
    "duration": 13,
    "start_time": "2023-01-17T07:45:49.875Z"
   },
   {
    "duration": 58,
    "start_time": "2023-01-17T07:45:49.890Z"
   },
   {
    "duration": 3,
    "start_time": "2023-01-17T07:45:49.949Z"
   },
   {
    "duration": 12,
    "start_time": "2023-01-17T07:45:49.954Z"
   },
   {
    "duration": 12,
    "start_time": "2023-01-17T07:45:49.968Z"
   },
   {
    "duration": 98,
    "start_time": "2023-01-17T07:45:49.982Z"
   },
   {
    "duration": 58,
    "start_time": "2023-01-17T07:45:50.082Z"
   },
   {
    "duration": 29,
    "start_time": "2023-01-17T07:45:50.141Z"
   },
   {
    "duration": 2,
    "start_time": "2023-01-17T07:45:50.172Z"
   },
   {
    "duration": 138,
    "start_time": "2023-01-17T07:45:50.176Z"
   },
   {
    "duration": 7,
    "start_time": "2023-01-17T07:45:50.316Z"
   },
   {
    "duration": 14,
    "start_time": "2023-01-17T07:45:50.325Z"
   },
   {
    "duration": 8,
    "start_time": "2023-01-17T07:45:50.341Z"
   },
   {
    "duration": 23,
    "start_time": "2023-01-17T07:45:50.351Z"
   },
   {
    "duration": 25,
    "start_time": "2023-01-17T07:45:50.378Z"
   },
   {
    "duration": 18,
    "start_time": "2023-01-17T07:45:50.405Z"
   },
   {
    "duration": 14,
    "start_time": "2023-01-17T07:45:50.425Z"
   },
   {
    "duration": 26,
    "start_time": "2023-01-17T07:45:50.441Z"
   },
   {
    "duration": 6,
    "start_time": "2023-01-17T07:45:50.469Z"
   },
   {
    "duration": 11,
    "start_time": "2023-01-17T07:45:50.477Z"
   },
   {
    "duration": 24,
    "start_time": "2023-01-17T07:45:50.490Z"
   },
   {
    "duration": 566,
    "start_time": "2023-01-17T07:45:50.516Z"
   },
   {
    "duration": 5,
    "start_time": "2023-01-17T07:45:51.084Z"
   },
   {
    "duration": 65,
    "start_time": "2023-01-17T07:45:51.091Z"
   },
   {
    "duration": 23,
    "start_time": "2023-01-17T07:45:51.158Z"
   },
   {
    "duration": 724,
    "start_time": "2023-01-17T07:45:51.183Z"
   },
   {
    "duration": 14,
    "start_time": "2023-01-17T07:45:51.909Z"
   },
   {
    "duration": 6,
    "start_time": "2023-01-17T07:45:51.925Z"
   },
   {
    "duration": 6,
    "start_time": "2023-01-17T07:45:51.933Z"
   },
   {
    "duration": 6,
    "start_time": "2023-01-17T07:45:51.940Z"
   },
   {
    "duration": 145999,
    "start_time": "2023-01-17T07:45:51.947Z"
   },
   {
    "duration": 4,
    "start_time": "2023-01-17T07:48:17.948Z"
   },
   {
    "duration": 1355,
    "start_time": "2023-01-17T07:48:17.954Z"
   },
   {
    "duration": 738,
    "start_time": "2023-01-17T07:48:19.311Z"
   },
   {
    "duration": 1772,
    "start_time": "2023-01-17T07:48:20.051Z"
   },
   {
    "duration": 54,
    "start_time": "2023-01-17T07:48:21.826Z"
   },
   {
    "duration": 4,
    "start_time": "2023-01-17T07:48:21.882Z"
   },
   {
    "duration": 6,
    "start_time": "2023-01-17T07:48:21.888Z"
   },
   {
    "duration": 28,
    "start_time": "2023-01-17T07:48:21.896Z"
   },
   {
    "duration": 6,
    "start_time": "2023-01-17T07:48:21.927Z"
   },
   {
    "duration": 79712,
    "start_time": "2023-01-17T07:48:21.935Z"
   },
   {
    "duration": 4,
    "start_time": "2023-01-17T07:49:41.648Z"
   },
   {
    "duration": 105,
    "start_time": "2023-01-17T07:49:41.654Z"
   },
   {
    "duration": 47,
    "start_time": "2023-01-17T07:49:41.761Z"
   },
   {
    "duration": 537,
    "start_time": "2023-01-17T07:49:41.821Z"
   },
   {
    "duration": 11,
    "start_time": "2023-01-17T07:49:42.360Z"
   },
   {
    "duration": 56,
    "start_time": "2023-01-17T07:49:42.372Z"
   },
   {
    "duration": 108,
    "start_time": "2023-01-17T07:49:42.429Z"
   },
   {
    "duration": 0,
    "start_time": "2023-01-17T07:49:42.538Z"
   },
   {
    "duration": 39,
    "start_time": "2023-01-17T07:50:13.153Z"
   },
   {
    "duration": 33,
    "start_time": "2023-01-17T07:51:07.721Z"
   },
   {
    "duration": 4,
    "start_time": "2023-01-17T07:55:39.436Z"
   },
   {
    "duration": 15,
    "start_time": "2023-01-17T07:56:35.873Z"
   },
   {
    "duration": 173,
    "start_time": "2023-01-17T07:56:45.693Z"
   },
   {
    "duration": 176,
    "start_time": "2023-01-17T08:01:55.911Z"
   },
   {
    "duration": 137,
    "start_time": "2023-01-17T08:06:53.104Z"
   },
   {
    "duration": 508,
    "start_time": "2023-01-17T08:07:49.417Z"
   },
   {
    "duration": 6,
    "start_time": "2023-01-17T08:10:10.180Z"
   },
   {
    "duration": 282,
    "start_time": "2023-01-17T08:10:48.980Z"
   },
   {
    "duration": 10,
    "start_time": "2023-01-17T08:12:17.310Z"
   },
   {
    "duration": 84,
    "start_time": "2023-01-17T08:21:14.160Z"
   },
   {
    "duration": 24,
    "start_time": "2023-01-17T08:21:19.774Z"
   },
   {
    "duration": 23,
    "start_time": "2023-01-17T08:21:49.951Z"
   },
   {
    "duration": 22,
    "start_time": "2023-01-17T08:22:17.319Z"
   },
   {
    "duration": 23,
    "start_time": "2023-01-17T08:22:55.729Z"
   },
   {
    "duration": 27,
    "start_time": "2023-01-17T08:23:11.012Z"
   },
   {
    "duration": 18,
    "start_time": "2023-01-17T08:23:58.859Z"
   },
   {
    "duration": 21,
    "start_time": "2023-01-17T08:23:59.416Z"
   },
   {
    "duration": 13,
    "start_time": "2023-01-17T08:24:24.920Z"
   },
   {
    "duration": 12,
    "start_time": "2023-01-17T08:24:46.225Z"
   },
   {
    "duration": 167,
    "start_time": "2023-01-17T08:26:12.385Z"
   },
   {
    "duration": 182,
    "start_time": "2023-01-17T08:26:23.607Z"
   },
   {
    "duration": 185,
    "start_time": "2023-01-17T08:26:36.794Z"
   },
   {
    "duration": 185,
    "start_time": "2023-01-17T08:26:43.231Z"
   },
   {
    "duration": 180,
    "start_time": "2023-01-17T08:26:55.370Z"
   },
   {
    "duration": 209,
    "start_time": "2023-01-17T08:33:00.429Z"
   },
   {
    "duration": 218,
    "start_time": "2023-01-17T08:35:42.618Z"
   },
   {
    "duration": 11,
    "start_time": "2023-01-17T08:37:05.079Z"
   },
   {
    "duration": 3,
    "start_time": "2023-01-17T08:38:40.888Z"
   },
   {
    "duration": 1627,
    "start_time": "2023-01-17T08:42:27.607Z"
   },
   {
    "duration": 4,
    "start_time": "2023-01-17T08:42:29.236Z"
   },
   {
    "duration": 28,
    "start_time": "2023-01-17T08:42:29.241Z"
   },
   {
    "duration": 7780,
    "start_time": "2023-01-17T08:42:29.271Z"
   },
   {
    "duration": 153,
    "start_time": "2023-01-17T08:42:37.053Z"
   },
   {
    "duration": 958,
    "start_time": "2023-01-17T08:42:37.208Z"
   },
   {
    "duration": 291,
    "start_time": "2023-01-17T08:42:38.168Z"
   },
   {
    "duration": 8305,
    "start_time": "2023-01-17T08:42:38.460Z"
   },
   {
    "duration": 34,
    "start_time": "2023-01-17T08:42:46.767Z"
   },
   {
    "duration": 411,
    "start_time": "2023-01-17T08:42:46.803Z"
   },
   {
    "duration": 181,
    "start_time": "2023-01-17T08:42:47.216Z"
   },
   {
    "duration": 3,
    "start_time": "2023-01-17T08:42:47.399Z"
   },
   {
    "duration": 28,
    "start_time": "2023-01-17T08:42:47.404Z"
   },
   {
    "duration": 21,
    "start_time": "2023-01-17T08:42:47.435Z"
   },
   {
    "duration": 114,
    "start_time": "2023-01-17T08:42:47.458Z"
   },
   {
    "duration": 120,
    "start_time": "2023-01-17T08:42:47.574Z"
   },
   {
    "duration": 41,
    "start_time": "2023-01-17T08:42:47.696Z"
   },
   {
    "duration": 38,
    "start_time": "2023-01-17T08:42:47.740Z"
   },
   {
    "duration": 118,
    "start_time": "2023-01-17T08:42:47.780Z"
   },
   {
    "duration": 572,
    "start_time": "2023-01-17T08:42:47.900Z"
   },
   {
    "duration": 528,
    "start_time": "2023-01-17T08:42:48.473Z"
   },
   {
    "duration": 7,
    "start_time": "2023-01-17T08:42:49.003Z"
   },
   {
    "duration": 62,
    "start_time": "2023-01-17T08:42:49.012Z"
   },
   {
    "duration": 4,
    "start_time": "2023-01-17T08:42:49.076Z"
   },
   {
    "duration": 48,
    "start_time": "2023-01-17T08:42:49.082Z"
   },
   {
    "duration": 5,
    "start_time": "2023-01-17T08:42:49.131Z"
   },
   {
    "duration": 17,
    "start_time": "2023-01-17T08:42:49.138Z"
   },
   {
    "duration": 41,
    "start_time": "2023-01-17T08:42:49.157Z"
   },
   {
    "duration": 4,
    "start_time": "2023-01-17T08:42:49.200Z"
   },
   {
    "duration": 10,
    "start_time": "2023-01-17T08:42:49.222Z"
   },
   {
    "duration": 12,
    "start_time": "2023-01-17T08:42:49.234Z"
   },
   {
    "duration": 166,
    "start_time": "2023-01-17T08:42:49.247Z"
   },
   {
    "duration": 66,
    "start_time": "2023-01-17T08:42:49.415Z"
   },
   {
    "duration": 46,
    "start_time": "2023-01-17T08:42:49.483Z"
   },
   {
    "duration": 3,
    "start_time": "2023-01-17T08:42:49.531Z"
   },
   {
    "duration": 157,
    "start_time": "2023-01-17T08:42:49.535Z"
   },
   {
    "duration": 4,
    "start_time": "2023-01-17T08:42:49.694Z"
   },
   {
    "duration": 35,
    "start_time": "2023-01-17T08:42:49.699Z"
   },
   {
    "duration": 9,
    "start_time": "2023-01-17T08:42:49.736Z"
   },
   {
    "duration": 25,
    "start_time": "2023-01-17T08:42:49.747Z"
   },
   {
    "duration": 26,
    "start_time": "2023-01-17T08:42:49.777Z"
   },
   {
    "duration": 19,
    "start_time": "2023-01-17T08:42:49.805Z"
   },
   {
    "duration": 9,
    "start_time": "2023-01-17T08:42:49.826Z"
   },
   {
    "duration": 7,
    "start_time": "2023-01-17T08:42:49.837Z"
   },
   {
    "duration": 28,
    "start_time": "2023-01-17T08:42:49.846Z"
   },
   {
    "duration": 33,
    "start_time": "2023-01-17T08:42:49.875Z"
   },
   {
    "duration": 9,
    "start_time": "2023-01-17T08:42:49.910Z"
   },
   {
    "duration": 7,
    "start_time": "2023-01-17T08:42:49.921Z"
   },
   {
    "duration": 580,
    "start_time": "2023-01-17T08:42:49.930Z"
   },
   {
    "duration": 12,
    "start_time": "2023-01-17T08:42:50.511Z"
   },
   {
    "duration": 46,
    "start_time": "2023-01-17T08:42:50.525Z"
   },
   {
    "duration": 25,
    "start_time": "2023-01-17T08:42:50.573Z"
   },
   {
    "duration": 745,
    "start_time": "2023-01-17T08:42:50.600Z"
   },
   {
    "duration": 11,
    "start_time": "2023-01-17T08:42:51.346Z"
   },
   {
    "duration": 9,
    "start_time": "2023-01-17T08:42:51.359Z"
   },
   {
    "duration": 7,
    "start_time": "2023-01-17T08:42:51.369Z"
   },
   {
    "duration": 8,
    "start_time": "2023-01-17T08:42:51.377Z"
   },
   {
    "duration": 154881,
    "start_time": "2023-01-17T08:42:51.387Z"
   },
   {
    "duration": 4,
    "start_time": "2023-01-17T08:45:26.269Z"
   },
   {
    "duration": 1452,
    "start_time": "2023-01-17T08:45:26.275Z"
   },
   {
    "duration": 762,
    "start_time": "2023-01-17T08:45:27.729Z"
   },
   {
    "duration": 1765,
    "start_time": "2023-01-17T08:45:28.493Z"
   },
   {
    "duration": 45,
    "start_time": "2023-01-17T08:45:30.260Z"
   },
   {
    "duration": 16,
    "start_time": "2023-01-17T08:45:30.306Z"
   },
   {
    "duration": 23,
    "start_time": "2023-01-17T08:45:30.324Z"
   },
   {
    "duration": 21,
    "start_time": "2023-01-17T08:45:30.348Z"
   },
   {
    "duration": 26,
    "start_time": "2023-01-17T08:45:30.371Z"
   },
   {
    "duration": 77439,
    "start_time": "2023-01-17T08:45:30.399Z"
   },
   {
    "duration": 5,
    "start_time": "2023-01-17T08:46:47.840Z"
   },
   {
    "duration": 116,
    "start_time": "2023-01-17T08:46:47.847Z"
   },
   {
    "duration": 66,
    "start_time": "2023-01-17T08:46:47.964Z"
   },
   {
    "duration": 531,
    "start_time": "2023-01-17T08:46:48.032Z"
   },
   {
    "duration": 10,
    "start_time": "2023-01-17T08:46:48.565Z"
   },
   {
    "duration": 49,
    "start_time": "2023-01-17T08:46:48.576Z"
   },
   {
    "duration": 152,
    "start_time": "2023-01-17T08:46:48.627Z"
   },
   {
    "duration": 10,
    "start_time": "2023-01-17T08:46:48.781Z"
   },
   {
    "duration": 18,
    "start_time": "2023-01-17T08:46:48.792Z"
   },
   {
    "duration": 24,
    "start_time": "2023-01-17T08:46:48.812Z"
   },
   {
    "duration": 27,
    "start_time": "2023-01-17T08:46:48.838Z"
   },
   {
    "duration": 218,
    "start_time": "2023-01-17T08:46:48.867Z"
   },
   {
    "duration": 2206,
    "start_time": "2023-01-17T10:57:04.651Z"
   },
   {
    "duration": 23,
    "start_time": "2023-01-17T10:57:55.127Z"
   },
   {
    "duration": 1650,
    "start_time": "2023-01-17T12:09:29.462Z"
   },
   {
    "duration": 7,
    "start_time": "2023-01-17T12:09:31.116Z"
   },
   {
    "duration": 27,
    "start_time": "2023-01-17T12:09:31.125Z"
   },
   {
    "duration": 8219,
    "start_time": "2023-01-17T12:09:31.154Z"
   },
   {
    "duration": 182,
    "start_time": "2023-01-17T12:09:39.376Z"
   },
   {
    "duration": 1005,
    "start_time": "2023-01-17T12:09:39.560Z"
   },
   {
    "duration": 305,
    "start_time": "2023-01-17T12:09:40.567Z"
   },
   {
    "duration": 7955,
    "start_time": "2023-01-17T12:09:40.874Z"
   },
   {
    "duration": 29,
    "start_time": "2023-01-17T12:09:48.830Z"
   },
   {
    "duration": 424,
    "start_time": "2023-01-17T12:09:48.862Z"
   },
   {
    "duration": 194,
    "start_time": "2023-01-17T12:09:49.288Z"
   },
   {
    "duration": 4,
    "start_time": "2023-01-17T12:09:49.484Z"
   },
   {
    "duration": 18,
    "start_time": "2023-01-17T12:09:49.490Z"
   },
   {
    "duration": 25,
    "start_time": "2023-01-17T12:09:49.523Z"
   },
   {
    "duration": 112,
    "start_time": "2023-01-17T12:09:49.550Z"
   },
   {
    "duration": 121,
    "start_time": "2023-01-17T12:09:49.663Z"
   },
   {
    "duration": 42,
    "start_time": "2023-01-17T12:09:49.786Z"
   },
   {
    "duration": 3,
    "start_time": "2023-01-17T12:09:49.829Z"
   },
   {
    "duration": 95,
    "start_time": "2023-01-17T12:09:49.834Z"
   },
   {
    "duration": 556,
    "start_time": "2023-01-17T12:09:49.931Z"
   },
   {
    "duration": 524,
    "start_time": "2023-01-17T12:09:50.489Z"
   },
   {
    "duration": 11,
    "start_time": "2023-01-17T12:09:51.015Z"
   },
   {
    "duration": 37,
    "start_time": "2023-01-17T12:09:51.028Z"
   },
   {
    "duration": 3,
    "start_time": "2023-01-17T12:09:51.067Z"
   },
   {
    "duration": 26,
    "start_time": "2023-01-17T12:09:51.072Z"
   },
   {
    "duration": 17,
    "start_time": "2023-01-17T12:09:51.100Z"
   },
   {
    "duration": 22,
    "start_time": "2023-01-17T12:09:51.119Z"
   },
   {
    "duration": 38,
    "start_time": "2023-01-17T12:09:51.145Z"
   },
   {
    "duration": 20,
    "start_time": "2023-01-17T12:09:51.185Z"
   },
   {
    "duration": 12,
    "start_time": "2023-01-17T12:09:51.207Z"
   },
   {
    "duration": 25,
    "start_time": "2023-01-17T12:09:51.221Z"
   },
   {
    "duration": 83,
    "start_time": "2023-01-17T12:09:51.247Z"
   },
   {
    "duration": 58,
    "start_time": "2023-01-17T12:09:51.331Z"
   },
   {
    "duration": 39,
    "start_time": "2023-01-17T12:09:51.391Z"
   },
   {
    "duration": 3,
    "start_time": "2023-01-17T12:09:51.432Z"
   },
   {
    "duration": 155,
    "start_time": "2023-01-17T12:09:51.436Z"
   },
   {
    "duration": 4,
    "start_time": "2023-01-17T12:09:51.593Z"
   },
   {
    "duration": 24,
    "start_time": "2023-01-17T12:09:51.599Z"
   },
   {
    "duration": 9,
    "start_time": "2023-01-17T12:09:51.625Z"
   },
   {
    "duration": 29,
    "start_time": "2023-01-17T12:09:51.637Z"
   },
   {
    "duration": 30,
    "start_time": "2023-01-17T12:09:51.669Z"
   },
   {
    "duration": 22,
    "start_time": "2023-01-17T12:09:51.700Z"
   },
   {
    "duration": 15,
    "start_time": "2023-01-17T12:09:51.724Z"
   },
   {
    "duration": 13,
    "start_time": "2023-01-17T12:09:51.741Z"
   },
   {
    "duration": 13,
    "start_time": "2023-01-17T12:09:51.756Z"
   },
   {
    "duration": 9,
    "start_time": "2023-01-17T12:09:51.771Z"
   },
   {
    "duration": 14,
    "start_time": "2023-01-17T12:09:51.781Z"
   },
   {
    "duration": 14,
    "start_time": "2023-01-17T12:09:51.797Z"
   },
   {
    "duration": 609,
    "start_time": "2023-01-17T12:09:51.813Z"
   },
   {
    "duration": 5,
    "start_time": "2023-01-17T12:09:52.424Z"
   },
   {
    "duration": 63,
    "start_time": "2023-01-17T12:09:52.431Z"
   },
   {
    "duration": 27,
    "start_time": "2023-01-17T12:09:52.496Z"
   },
   {
    "duration": 763,
    "start_time": "2023-01-17T12:09:52.524Z"
   },
   {
    "duration": 3,
    "start_time": "2023-01-17T12:09:53.289Z"
   },
   {
    "duration": 8,
    "start_time": "2023-01-17T12:09:53.293Z"
   },
   {
    "duration": 6,
    "start_time": "2023-01-17T12:09:53.303Z"
   },
   {
    "duration": 160818,
    "start_time": "2023-01-17T12:09:53.323Z"
   },
   {
    "duration": 5,
    "start_time": "2023-01-17T12:12:34.143Z"
   },
   {
    "duration": 1516,
    "start_time": "2023-01-17T12:12:34.149Z"
   },
   {
    "duration": 778,
    "start_time": "2023-01-17T12:12:35.666Z"
   },
   {
    "duration": 1814,
    "start_time": "2023-01-17T12:12:36.446Z"
   },
   {
    "duration": 3,
    "start_time": "2023-01-17T12:12:38.261Z"
   },
   {
    "duration": 7,
    "start_time": "2023-01-17T12:12:38.265Z"
   },
   {
    "duration": 6,
    "start_time": "2023-01-17T12:12:38.273Z"
   },
   {
    "duration": 7,
    "start_time": "2023-01-17T12:12:38.280Z"
   },
   {
    "duration": 80767,
    "start_time": "2023-01-17T12:12:38.289Z"
   },
   {
    "duration": 4,
    "start_time": "2023-01-17T12:13:59.057Z"
   },
   {
    "duration": 107,
    "start_time": "2023-01-17T12:13:59.062Z"
   },
   {
    "duration": 59,
    "start_time": "2023-01-17T12:13:59.171Z"
   },
   {
    "duration": 534,
    "start_time": "2023-01-17T12:13:59.232Z"
   },
   {
    "duration": 11,
    "start_time": "2023-01-17T12:13:59.768Z"
   },
   {
    "duration": 53,
    "start_time": "2023-01-17T12:13:59.780Z"
   },
   {
    "duration": 39,
    "start_time": "2023-01-17T12:13:59.835Z"
   },
   {
    "duration": 164,
    "start_time": "2023-01-17T12:13:59.876Z"
   },
   {
    "duration": 11,
    "start_time": "2023-01-17T12:14:00.041Z"
   },
   {
    "duration": 24,
    "start_time": "2023-01-17T12:14:00.054Z"
   },
   {
    "duration": 19,
    "start_time": "2023-01-17T12:14:00.080Z"
   },
   {
    "duration": 33,
    "start_time": "2023-01-17T12:14:00.101Z"
   },
   {
    "duration": 228,
    "start_time": "2023-01-17T12:14:00.136Z"
   },
   {
    "duration": 1621,
    "start_time": "2023-01-18T05:27:09.990Z"
   },
   {
    "duration": 3,
    "start_time": "2023-01-18T05:27:11.613Z"
   },
   {
    "duration": 6,
    "start_time": "2023-01-18T05:27:11.617Z"
   },
   {
    "duration": 4816,
    "start_time": "2023-01-18T05:27:11.625Z"
   },
   {
    "duration": 414,
    "start_time": "2023-01-18T05:27:16.443Z"
   },
   {
    "duration": 1015,
    "start_time": "2023-01-18T05:27:16.859Z"
   },
   {
    "duration": 430,
    "start_time": "2023-01-18T05:27:17.876Z"
   },
   {
    "duration": 9291,
    "start_time": "2023-01-18T05:27:18.308Z"
   },
   {
    "duration": 25,
    "start_time": "2023-01-18T05:27:27.600Z"
   },
   {
    "duration": 244,
    "start_time": "2023-01-18T05:27:27.627Z"
   },
   {
    "duration": 118,
    "start_time": "2023-01-18T05:27:27.872Z"
   },
   {
    "duration": 3,
    "start_time": "2023-01-18T05:27:27.991Z"
   },
   {
    "duration": 15,
    "start_time": "2023-01-18T05:27:27.996Z"
   },
   {
    "duration": 40,
    "start_time": "2023-01-18T05:27:28.014Z"
   },
   {
    "duration": 64,
    "start_time": "2023-01-18T05:27:28.056Z"
   },
   {
    "duration": 85,
    "start_time": "2023-01-18T05:27:28.121Z"
   },
   {
    "duration": 23,
    "start_time": "2023-01-18T05:27:28.208Z"
   },
   {
    "duration": 18,
    "start_time": "2023-01-18T05:27:28.232Z"
   },
   {
    "duration": 56,
    "start_time": "2023-01-18T05:27:28.251Z"
   },
   {
    "duration": 488,
    "start_time": "2023-01-18T05:27:28.308Z"
   },
   {
    "duration": 485,
    "start_time": "2023-01-18T05:27:28.798Z"
   },
   {
    "duration": 6,
    "start_time": "2023-01-18T05:27:29.284Z"
   },
   {
    "duration": 22,
    "start_time": "2023-01-18T05:27:29.291Z"
   },
   {
    "duration": 3,
    "start_time": "2023-01-18T05:27:29.314Z"
   },
   {
    "duration": 32,
    "start_time": "2023-01-18T05:27:29.318Z"
   },
   {
    "duration": 4,
    "start_time": "2023-01-18T05:27:29.351Z"
   },
   {
    "duration": 9,
    "start_time": "2023-01-18T05:27:29.357Z"
   },
   {
    "duration": 19,
    "start_time": "2023-01-18T05:27:29.368Z"
   },
   {
    "duration": 9,
    "start_time": "2023-01-18T05:27:29.388Z"
   },
   {
    "duration": 6,
    "start_time": "2023-01-18T05:27:29.398Z"
   },
   {
    "duration": 10,
    "start_time": "2023-01-18T05:27:29.405Z"
   },
   {
    "duration": 61,
    "start_time": "2023-01-18T05:27:29.417Z"
   },
   {
    "duration": 41,
    "start_time": "2023-01-18T05:27:29.480Z"
   },
   {
    "duration": 31,
    "start_time": "2023-01-18T05:27:29.523Z"
   },
   {
    "duration": 3,
    "start_time": "2023-01-18T05:27:29.555Z"
   },
   {
    "duration": 100,
    "start_time": "2023-01-18T05:27:29.559Z"
   },
   {
    "duration": 4,
    "start_time": "2023-01-18T05:27:29.661Z"
   },
   {
    "duration": 14,
    "start_time": "2023-01-18T05:27:29.667Z"
   },
   {
    "duration": 7,
    "start_time": "2023-01-18T05:27:29.683Z"
   },
   {
    "duration": 18,
    "start_time": "2023-01-18T05:27:29.692Z"
   },
   {
    "duration": 42,
    "start_time": "2023-01-18T05:27:29.715Z"
   },
   {
    "duration": 5,
    "start_time": "2023-01-18T05:27:29.758Z"
   },
   {
    "duration": 6,
    "start_time": "2023-01-18T05:27:29.765Z"
   },
   {
    "duration": 8,
    "start_time": "2023-01-18T05:27:29.772Z"
   },
   {
    "duration": 11,
    "start_time": "2023-01-18T05:27:29.781Z"
   },
   {
    "duration": 9,
    "start_time": "2023-01-18T05:27:29.794Z"
   },
   {
    "duration": 5,
    "start_time": "2023-01-18T05:27:29.805Z"
   },
   {
    "duration": 5,
    "start_time": "2023-01-18T05:27:29.811Z"
   },
   {
    "duration": 544,
    "start_time": "2023-01-18T05:27:29.818Z"
   },
   {
    "duration": 4,
    "start_time": "2023-01-18T05:27:30.363Z"
   },
   {
    "duration": 47,
    "start_time": "2023-01-18T05:27:30.368Z"
   },
   {
    "duration": 35,
    "start_time": "2023-01-18T05:27:30.417Z"
   },
   {
    "duration": 669,
    "start_time": "2023-01-18T05:27:30.454Z"
   },
   {
    "duration": 3,
    "start_time": "2023-01-18T05:27:31.124Z"
   },
   {
    "duration": 16,
    "start_time": "2023-01-18T05:27:31.129Z"
   },
   {
    "duration": 13,
    "start_time": "2023-01-18T05:27:31.147Z"
   },
   {
    "duration": 141390,
    "start_time": "2023-01-18T05:27:31.161Z"
   },
   {
    "duration": 4,
    "start_time": "2023-01-18T05:29:52.553Z"
   },
   {
    "duration": 1364,
    "start_time": "2023-01-18T05:29:52.558Z"
   },
   {
    "duration": 694,
    "start_time": "2023-01-18T05:29:53.925Z"
   },
   {
    "duration": 1716,
    "start_time": "2023-01-18T05:29:54.621Z"
   },
   {
    "duration": 3,
    "start_time": "2023-01-18T05:29:56.338Z"
   },
   {
    "duration": 5,
    "start_time": "2023-01-18T05:29:56.347Z"
   },
   {
    "duration": 10,
    "start_time": "2023-01-18T05:29:56.354Z"
   },
   {
    "duration": 7,
    "start_time": "2023-01-18T05:29:56.366Z"
   },
   {
    "duration": 68183,
    "start_time": "2023-01-18T05:29:56.375Z"
   },
   {
    "duration": 3,
    "start_time": "2023-01-18T05:31:04.560Z"
   },
   {
    "duration": 124,
    "start_time": "2023-01-18T05:31:04.566Z"
   },
   {
    "duration": 62,
    "start_time": "2023-01-18T05:31:04.692Z"
   },
   {
    "duration": 553,
    "start_time": "2023-01-18T05:31:04.756Z"
   },
   {
    "duration": 12,
    "start_time": "2023-01-18T05:31:05.311Z"
   },
   {
    "duration": 59,
    "start_time": "2023-01-18T05:31:05.325Z"
   },
   {
    "duration": 25,
    "start_time": "2023-01-18T05:31:05.386Z"
   },
   {
    "duration": 150,
    "start_time": "2023-01-18T05:31:05.414Z"
   },
   {
    "duration": 11,
    "start_time": "2023-01-18T05:31:05.566Z"
   },
   {
    "duration": 14,
    "start_time": "2023-01-18T05:31:05.578Z"
   },
   {
    "duration": 145,
    "start_time": "2023-01-18T05:31:05.593Z"
   },
   {
    "duration": 0,
    "start_time": "2023-01-18T05:31:05.741Z"
   },
   {
    "duration": 0,
    "start_time": "2023-01-18T05:31:05.742Z"
   },
   {
    "duration": 50,
    "start_time": "2023-01-18T05:32:29.019Z"
   },
   {
    "duration": 50,
    "start_time": "2023-01-18T05:32:30.122Z"
   },
   {
    "duration": 210,
    "start_time": "2023-01-18T05:32:30.591Z"
   },
   {
    "duration": 1472,
    "start_time": "2023-01-18T06:41:15.407Z"
   },
   {
    "duration": 4,
    "start_time": "2023-01-18T06:41:16.881Z"
   },
   {
    "duration": 17,
    "start_time": "2023-01-18T06:41:16.886Z"
   },
   {
    "duration": 4777,
    "start_time": "2023-01-18T06:41:16.904Z"
   },
   {
    "duration": 394,
    "start_time": "2023-01-18T06:41:21.682Z"
   },
   {
    "duration": 986,
    "start_time": "2023-01-18T06:41:22.078Z"
   },
   {
    "duration": 331,
    "start_time": "2023-01-18T06:41:23.066Z"
   },
   {
    "duration": 8740,
    "start_time": "2023-01-18T06:41:23.399Z"
   },
   {
    "duration": 30,
    "start_time": "2023-01-18T06:41:32.141Z"
   },
   {
    "duration": 294,
    "start_time": "2023-01-18T06:41:32.174Z"
   },
   {
    "duration": 154,
    "start_time": "2023-01-18T06:41:32.470Z"
   },
   {
    "duration": 4,
    "start_time": "2023-01-18T06:41:32.626Z"
   },
   {
    "duration": 25,
    "start_time": "2023-01-18T06:41:32.632Z"
   },
   {
    "duration": 22,
    "start_time": "2023-01-18T06:41:32.659Z"
   },
   {
    "duration": 98,
    "start_time": "2023-01-18T06:41:32.683Z"
   },
   {
    "duration": 112,
    "start_time": "2023-01-18T06:41:32.782Z"
   },
   {
    "duration": 32,
    "start_time": "2023-01-18T06:41:32.896Z"
   },
   {
    "duration": 5,
    "start_time": "2023-01-18T06:41:32.930Z"
   },
   {
    "duration": 69,
    "start_time": "2023-01-18T06:41:32.937Z"
   },
   {
    "duration": 530,
    "start_time": "2023-01-18T06:41:33.008Z"
   },
   {
    "duration": 492,
    "start_time": "2023-01-18T06:41:33.541Z"
   },
   {
    "duration": 14,
    "start_time": "2023-01-18T06:41:34.035Z"
   },
   {
    "duration": 21,
    "start_time": "2023-01-18T06:41:34.050Z"
   },
   {
    "duration": 6,
    "start_time": "2023-01-18T06:41:34.072Z"
   },
   {
    "duration": 22,
    "start_time": "2023-01-18T06:41:34.079Z"
   },
   {
    "duration": 4,
    "start_time": "2023-01-18T06:41:34.103Z"
   },
   {
    "duration": 39,
    "start_time": "2023-01-18T06:41:34.109Z"
   },
   {
    "duration": 35,
    "start_time": "2023-01-18T06:41:34.155Z"
   },
   {
    "duration": 10,
    "start_time": "2023-01-18T06:41:34.192Z"
   },
   {
    "duration": 6,
    "start_time": "2023-01-18T06:41:34.204Z"
   },
   {
    "duration": 15,
    "start_time": "2023-01-18T06:41:34.213Z"
   },
   {
    "duration": 41,
    "start_time": "2023-01-18T06:41:34.230Z"
   },
   {
    "duration": 53,
    "start_time": "2023-01-18T06:41:34.273Z"
   },
   {
    "duration": 46,
    "start_time": "2023-01-18T06:41:34.328Z"
   },
   {
    "duration": 3,
    "start_time": "2023-01-18T06:41:34.376Z"
   },
   {
    "duration": 113,
    "start_time": "2023-01-18T06:41:34.381Z"
   },
   {
    "duration": 4,
    "start_time": "2023-01-18T06:41:34.496Z"
   },
   {
    "duration": 20,
    "start_time": "2023-01-18T06:41:34.502Z"
   },
   {
    "duration": 8,
    "start_time": "2023-01-18T06:41:34.523Z"
   },
   {
    "duration": 31,
    "start_time": "2023-01-18T06:41:34.533Z"
   },
   {
    "duration": 26,
    "start_time": "2023-01-18T06:41:34.566Z"
   },
   {
    "duration": 4,
    "start_time": "2023-01-18T06:41:34.594Z"
   },
   {
    "duration": 9,
    "start_time": "2023-01-18T06:41:34.600Z"
   },
   {
    "duration": 14,
    "start_time": "2023-01-18T06:41:34.611Z"
   },
   {
    "duration": 22,
    "start_time": "2023-01-18T06:41:34.627Z"
   },
   {
    "duration": 4,
    "start_time": "2023-01-18T06:41:34.651Z"
   },
   {
    "duration": 5,
    "start_time": "2023-01-18T06:41:34.657Z"
   },
   {
    "duration": 6,
    "start_time": "2023-01-18T06:41:34.663Z"
   },
   {
    "duration": 634,
    "start_time": "2023-01-18T06:41:34.671Z"
   },
   {
    "duration": 4,
    "start_time": "2023-01-18T06:41:35.308Z"
   },
   {
    "duration": 64,
    "start_time": "2023-01-18T06:41:35.314Z"
   },
   {
    "duration": 32,
    "start_time": "2023-01-18T06:41:35.380Z"
   },
   {
    "duration": 735,
    "start_time": "2023-01-18T06:41:35.414Z"
   },
   {
    "duration": 3,
    "start_time": "2023-01-18T06:41:36.151Z"
   },
   {
    "duration": 6,
    "start_time": "2023-01-18T06:41:36.155Z"
   },
   {
    "duration": 5,
    "start_time": "2023-01-18T06:41:36.163Z"
   },
   {
    "duration": 151724,
    "start_time": "2023-01-18T06:41:36.170Z"
   },
   {
    "duration": 5,
    "start_time": "2023-01-18T06:44:07.896Z"
   },
   {
    "duration": 1461,
    "start_time": "2023-01-18T06:44:07.903Z"
   },
   {
    "duration": 744,
    "start_time": "2023-01-18T06:44:09.366Z"
   },
   {
    "duration": 1750,
    "start_time": "2023-01-18T06:44:10.112Z"
   },
   {
    "duration": 3,
    "start_time": "2023-01-18T06:44:11.863Z"
   },
   {
    "duration": 6,
    "start_time": "2023-01-18T06:44:11.868Z"
   },
   {
    "duration": 6,
    "start_time": "2023-01-18T06:44:11.876Z"
   },
   {
    "duration": 18,
    "start_time": "2023-01-18T06:44:11.886Z"
   },
   {
    "duration": 75598,
    "start_time": "2023-01-18T06:44:11.906Z"
   },
   {
    "duration": 4,
    "start_time": "2023-01-18T06:45:27.506Z"
   },
   {
    "duration": 111,
    "start_time": "2023-01-18T06:45:27.512Z"
   },
   {
    "duration": 50,
    "start_time": "2023-01-18T06:45:27.625Z"
   },
   {
    "duration": 642,
    "start_time": "2023-01-18T06:45:27.676Z"
   },
   {
    "duration": 12,
    "start_time": "2023-01-18T06:45:28.320Z"
   },
   {
    "duration": 43,
    "start_time": "2023-01-18T06:45:28.334Z"
   },
   {
    "duration": 22,
    "start_time": "2023-01-18T06:45:28.378Z"
   },
   {
    "duration": 157,
    "start_time": "2023-01-18T06:45:28.402Z"
   },
   {
    "duration": 10,
    "start_time": "2023-01-18T06:45:28.560Z"
   },
   {
    "duration": 16,
    "start_time": "2023-01-18T06:45:28.572Z"
   },
   {
    "duration": 43,
    "start_time": "2023-01-18T06:45:28.590Z"
   },
   {
    "duration": 53,
    "start_time": "2023-01-18T06:45:28.648Z"
   },
   {
    "duration": 254,
    "start_time": "2023-01-18T06:45:28.703Z"
   },
   {
    "duration": 1816,
    "start_time": "2023-01-20T05:35:30.545Z"
   },
   {
    "duration": 3,
    "start_time": "2023-01-20T05:35:32.363Z"
   },
   {
    "duration": 10,
    "start_time": "2023-01-20T05:35:32.369Z"
   },
   {
    "duration": 5083,
    "start_time": "2023-01-20T05:35:32.381Z"
   },
   {
    "duration": 447,
    "start_time": "2023-01-20T05:35:37.466Z"
   },
   {
    "duration": 1033,
    "start_time": "2023-01-20T05:35:37.915Z"
   },
   {
    "duration": 348,
    "start_time": "2023-01-20T05:35:38.950Z"
   },
   {
    "duration": 8164,
    "start_time": "2023-01-20T05:35:39.300Z"
   },
   {
    "duration": 30,
    "start_time": "2023-01-20T05:35:47.466Z"
   },
   {
    "duration": 308,
    "start_time": "2023-01-20T05:35:47.499Z"
   },
   {
    "duration": 153,
    "start_time": "2023-01-20T05:35:47.809Z"
   },
   {
    "duration": 5,
    "start_time": "2023-01-20T05:35:47.964Z"
   },
   {
    "duration": 27,
    "start_time": "2023-01-20T05:35:47.971Z"
   },
   {
    "duration": 24,
    "start_time": "2023-01-20T05:35:48.000Z"
   },
   {
    "duration": 103,
    "start_time": "2023-01-20T05:35:48.026Z"
   },
   {
    "duration": 108,
    "start_time": "2023-01-20T05:35:48.131Z"
   },
   {
    "duration": 31,
    "start_time": "2023-01-20T05:35:48.240Z"
   },
   {
    "duration": 3,
    "start_time": "2023-01-20T05:35:48.273Z"
   },
   {
    "duration": 90,
    "start_time": "2023-01-20T05:35:48.278Z"
   },
   {
    "duration": 542,
    "start_time": "2023-01-20T05:35:48.371Z"
   },
   {
    "duration": 523,
    "start_time": "2023-01-20T05:35:48.915Z"
   },
   {
    "duration": 7,
    "start_time": "2023-01-20T05:35:49.440Z"
   },
   {
    "duration": 39,
    "start_time": "2023-01-20T05:35:49.449Z"
   },
   {
    "duration": 5,
    "start_time": "2023-01-20T05:35:49.490Z"
   },
   {
    "duration": 32,
    "start_time": "2023-01-20T05:35:49.497Z"
   },
   {
    "duration": 4,
    "start_time": "2023-01-20T05:35:49.537Z"
   },
   {
    "duration": 17,
    "start_time": "2023-01-20T05:35:49.543Z"
   },
   {
    "duration": 36,
    "start_time": "2023-01-20T05:35:49.564Z"
   },
   {
    "duration": 11,
    "start_time": "2023-01-20T05:35:49.602Z"
   },
   {
    "duration": 10,
    "start_time": "2023-01-20T05:35:49.615Z"
   },
   {
    "duration": 14,
    "start_time": "2023-01-20T05:35:49.638Z"
   },
   {
    "duration": 44,
    "start_time": "2023-01-20T05:35:49.654Z"
   },
   {
    "duration": 71,
    "start_time": "2023-01-20T05:35:49.700Z"
   },
   {
    "duration": 30,
    "start_time": "2023-01-20T05:35:49.773Z"
   },
   {
    "duration": 9,
    "start_time": "2023-01-20T05:35:49.805Z"
   },
   {
    "duration": 43,
    "start_time": "2023-01-20T05:35:49.815Z"
   },
   {
    "duration": 3,
    "start_time": "2023-01-20T05:35:49.860Z"
   },
   {
    "duration": 10,
    "start_time": "2023-01-20T05:35:49.865Z"
   },
   {
    "duration": 169,
    "start_time": "2023-01-20T05:35:49.876Z"
   },
   {
    "duration": 27,
    "start_time": "2023-01-20T05:35:50.047Z"
   },
   {
    "duration": 6,
    "start_time": "2023-01-20T05:35:50.076Z"
   },
   {
    "duration": 15,
    "start_time": "2023-01-20T05:35:50.084Z"
   },
   {
    "duration": 11,
    "start_time": "2023-01-20T05:35:50.101Z"
   },
   {
    "duration": 25,
    "start_time": "2023-01-20T05:35:50.114Z"
   },
   {
    "duration": 18,
    "start_time": "2023-01-20T05:35:50.140Z"
   },
   {
    "duration": 17,
    "start_time": "2023-01-20T05:35:50.159Z"
   },
   {
    "duration": 9,
    "start_time": "2023-01-20T05:35:50.177Z"
   },
   {
    "duration": 616,
    "start_time": "2023-01-20T05:35:50.188Z"
   },
   {
    "duration": 4,
    "start_time": "2023-01-20T05:35:50.806Z"
   },
   {
    "duration": 50,
    "start_time": "2023-01-20T05:35:50.811Z"
   },
   {
    "duration": 19,
    "start_time": "2023-01-20T05:35:50.863Z"
   },
   {
    "duration": 568,
    "start_time": "2023-01-20T05:35:50.884Z"
   },
   {
    "duration": 5,
    "start_time": "2023-01-20T05:35:51.454Z"
   },
   {
    "duration": 13,
    "start_time": "2023-01-20T05:35:51.461Z"
   },
   {
    "duration": 11,
    "start_time": "2023-01-20T05:35:51.476Z"
   },
   {
    "duration": 162585,
    "start_time": "2023-01-20T05:35:51.489Z"
   },
   {
    "duration": 4,
    "start_time": "2023-01-20T05:38:34.076Z"
   },
   {
    "duration": 1505,
    "start_time": "2023-01-20T05:38:34.082Z"
   },
   {
    "duration": 782,
    "start_time": "2023-01-20T05:38:35.589Z"
   },
   {
    "duration": 1707,
    "start_time": "2023-01-20T05:38:36.373Z"
   },
   {
    "duration": 3,
    "start_time": "2023-01-20T05:38:38.083Z"
   },
   {
    "duration": 16,
    "start_time": "2023-01-20T05:38:38.088Z"
   },
   {
    "duration": 9,
    "start_time": "2023-01-20T05:38:38.106Z"
   },
   {
    "duration": 79153,
    "start_time": "2023-01-20T05:38:38.117Z"
   },
   {
    "duration": 4,
    "start_time": "2023-01-20T05:39:57.272Z"
   },
   {
    "duration": 111,
    "start_time": "2023-01-20T05:39:57.277Z"
   },
   {
    "duration": 68,
    "start_time": "2023-01-20T05:39:57.390Z"
   },
   {
    "duration": 600,
    "start_time": "2023-01-20T05:39:57.461Z"
   },
   {
    "duration": 12,
    "start_time": "2023-01-20T05:39:58.063Z"
   },
   {
    "duration": 81,
    "start_time": "2023-01-20T05:39:58.078Z"
   },
   {
    "duration": 26,
    "start_time": "2023-01-20T05:39:58.161Z"
   },
   {
    "duration": 168,
    "start_time": "2023-01-20T05:39:58.189Z"
   },
   {
    "duration": 13,
    "start_time": "2023-01-20T05:39:58.359Z"
   },
   {
    "duration": 14,
    "start_time": "2023-01-20T05:39:58.374Z"
   },
   {
    "duration": 64,
    "start_time": "2023-01-20T05:39:58.390Z"
   },
   {
    "duration": 43,
    "start_time": "2023-01-20T05:39:58.457Z"
   },
   {
    "duration": 244,
    "start_time": "2023-01-20T05:39:58.502Z"
   }
  ],
  "kernelspec": {
   "display_name": "Python 3 (ipykernel)",
   "language": "python",
   "name": "python3"
  },
  "language_info": {
   "codemirror_mode": {
    "name": "ipython",
    "version": 3
   },
   "file_extension": ".py",
   "mimetype": "text/x-python",
   "name": "python",
   "nbconvert_exporter": "python",
   "pygments_lexer": "ipython3",
   "version": "3.9.5"
  },
  "toc": {
   "base_numbering": 1,
   "nav_menu": {},
   "number_sections": true,
   "sideBar": true,
   "skip_h1_title": true,
   "title_cell": "Содержание",
   "title_sidebar": "Contents",
   "toc_cell": true,
   "toc_position": {},
   "toc_section_display": true,
   "toc_window_display": true
  },
  "varInspector": {
   "cols": {
    "lenName": 16,
    "lenType": 16,
    "lenVar": 40
   },
   "kernels_config": {
    "python": {
     "delete_cmd_postfix": "",
     "delete_cmd_prefix": "del ",
     "library": "var_list.py",
     "varRefreshCmd": "print(var_dic_list())"
    },
    "r": {
     "delete_cmd_postfix": ") ",
     "delete_cmd_prefix": "rm(",
     "library": "var_list.r",
     "varRefreshCmd": "cat(var_dic_list()) "
    }
   },
   "types_to_exclude": [
    "module",
    "function",
    "builtin_function_or_method",
    "instance",
    "_Feature"
   ],
   "window_display": false
  }
 },
 "nbformat": 4,
 "nbformat_minor": 5
}
