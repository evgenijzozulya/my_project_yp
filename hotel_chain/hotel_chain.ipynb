{
 "cells": [
  {
   "cell_type": "markdown",
   "metadata": {
    "toc": true
   },
   "source": [
    "<h1>Содержание<span class=\"tocSkip\"></span></h1>\n",
    "<div class=\"toc\"><ul class=\"toc-item\"><li><span><a href=\"#Описание-проекта\" data-toc-modified-id=\"Описание-проекта-1\"><span class=\"toc-item-num\">1&nbsp;&nbsp;</span>Описание проекта</a></span></li><li><span><a href=\"#Откройте-файлы-с-данными\" data-toc-modified-id=\"Откройте-файлы-с-данными-2\"><span class=\"toc-item-num\">2&nbsp;&nbsp;</span>Откройте файлы с данными</a></span></li><li><span><a href=\"#Предобработка-и-исследовательский-анализ-данных\" data-toc-modified-id=\"Предобработка-и-исследовательский-анализ-данных-3\"><span class=\"toc-item-num\">3&nbsp;&nbsp;</span>Предобработка и исследовательский анализ данных</a></span><ul class=\"toc-item\"><li><span><a href=\"#Категориальные-данные\" data-toc-modified-id=\"Категориальные-данные-3.1\"><span class=\"toc-item-num\">3.1&nbsp;&nbsp;</span>Категориальные данные</a></span></li><li><span><a href=\"#Количественные-данные\" data-toc-modified-id=\"Количественные-данные-3.2\"><span class=\"toc-item-num\">3.2&nbsp;&nbsp;</span>Количественные данные</a></span></li><li><span><a href=\"#Общий-комментарий-по-анализу\" data-toc-modified-id=\"Общий-комментарий-по-анализу-3.3\"><span class=\"toc-item-num\">3.3&nbsp;&nbsp;</span>Общий комментарий по анализу</a></span></li></ul></li><li><span><a href=\"#Формулировка-ML-задачи-на-основе-бизнес-задачи\" data-toc-modified-id=\"Формулировка-ML-задачи-на-основе-бизнес-задачи-4\"><span class=\"toc-item-num\">4&nbsp;&nbsp;</span>Формулировка ML-задачи на основе бизнес-задачи</a></span></li><li><span><a href=\"#Разработка-модели-ML\" data-toc-modified-id=\"Разработка-модели-ML-5\"><span class=\"toc-item-num\">5&nbsp;&nbsp;</span>Разработка модели ML</a></span><ul class=\"toc-item\"><li><span><a href=\"#Подготовка-данных-для-ML\" data-toc-modified-id=\"Подготовка-данных-для-ML-5.1\"><span class=\"toc-item-num\">5.1&nbsp;&nbsp;</span>Подготовка данных для ML</a></span></li><li><span><a href=\"#Логистическая-регрессия\" data-toc-modified-id=\"Логистическая-регрессия-5.2\"><span class=\"toc-item-num\">5.2&nbsp;&nbsp;</span>Логистическая регрессия</a></span></li><li><span><a href=\"#Дерево-решений\" data-toc-modified-id=\"Дерево-решений-5.3\"><span class=\"toc-item-num\">5.3&nbsp;&nbsp;</span>Дерево решений</a></span></li><li><span><a href=\"#Сучайный-лес\" data-toc-modified-id=\"Сучайный-лес-5.4\"><span class=\"toc-item-num\">5.4&nbsp;&nbsp;</span>Сучайный лес</a></span></li><li><span><a href=\"#Оценка-прибыли\" data-toc-modified-id=\"Оценка-прибыли-5.5\"><span class=\"toc-item-num\">5.5&nbsp;&nbsp;</span>Оценка прибыли</a></span></li><li><span><a href=\"#Выводы-по-результатам-моделирования\" data-toc-modified-id=\"Выводы-по-результатам-моделирования-5.6\"><span class=\"toc-item-num\">5.6&nbsp;&nbsp;</span>Выводы по результатам моделирования</a></span></li></ul></li><li><span><a href=\"#Портрет-«ненадёжного»-клиента\" data-toc-modified-id=\"Портрет-«ненадёжного»-клиента-6\"><span class=\"toc-item-num\">6&nbsp;&nbsp;</span>Портрет «ненадёжного» клиента</a></span></li><li><span><a href=\"#Общий-вывод\" data-toc-modified-id=\"Общий-вывод-7\"><span class=\"toc-item-num\">7&nbsp;&nbsp;</span>Общий вывод</a></span></li></ul></div>"
   ]
  },
  {
   "cell_type": "markdown",
   "metadata": {},
   "source": [
    "# Прогнозирование оттока клиентов в сети отелей"
   ]
  },
  {
   "cell_type": "markdown",
   "metadata": {},
   "source": [
    "### Описание проекта"
   ]
  },
  {
   "cell_type": "markdown",
   "metadata": {},
   "source": [
    "**Заказчик**\n",
    "\n",
    "Сеть отелей «Как в гостях»\n",
    "\n",
    "**Задача**\n",
    "\n",
    "Нужно разработать систему, которая предсказывает отказ от брони.\n",
    "Чтобы привлечь клиентов, эта сеть отелей добавила на свой сайт возможность забронировать номер без предоплаты. Однако если клиент отменял бронирование, то компания терпела убытки. \n",
    "Если модель покажет, что бронь будет отменена, то клиенту предлагается внести депозит. Размер депозита — 80% от стоимости номера за одни сутки и затрат на разовую уборку. Деньги будут списаны со счёта клиента, если он всё же отменит бронь."
   ]
  },
  {
   "cell_type": "markdown",
   "metadata": {},
   "source": [
    "Прибыль отеля — это разница между стоимостью номера за все ночи и затраты на обслуживание: как при подготовке номера, так и при проживании постояльца.\n",
    "\n",
    "Стоимость номеров отеля:\n",
    "\n",
    "**категория A:** за ночь — 1 000, разовое обслуживание — 400;\n",
    "\n",
    "**категория B:** за ночь — 800, разовое обслуживание — 350;\n",
    "\n",
    "**категория C:** за ночь — 600, разовое обслуживание — 350;\n",
    "\n",
    "**категория D:** за ночь — 550, разовое обслуживание — 150;\n",
    "\n",
    "**категория E:** за ночь — 500, разовое обслуживание — 150;\n",
    "\n",
    "**категория F:** за ночь — 450, разовое обслуживание — 150;\n",
    "\n",
    "**категория G:** за ночь — 350, разовое обслуживание — 150.\n",
    "\n",
    "Если клиент снял номер надолго, то убираются каждые два дня.\n",
    "\n",
    "В ценовой политике отеля используются сезонные коэффициенты: весной и осенью цены повышаются на 20%, летом — на 40%.\n",
    "На разработку системы прогнозирования заложен бюджет — 400 000"
   ]
  },
  {
   "cell_type": "markdown",
   "metadata": {},
   "source": [
    "###  Откройте файлы с данными"
   ]
  },
  {
   "cell_type": "code",
   "execution_count": 1,
   "metadata": {},
   "outputs": [],
   "source": [
    "# Загружаем библиотеки.\n",
    "import pandas as pd\n",
    "import numpy as np\n",
    "import seaborn as sns\n",
    "import matplotlib.pyplot as plt\n",
    "import matplotlib.ticker as ticker\n",
    "from sklearn.metrics import f1_score, precision_score, recall_score, roc_auc_score\n",
    "from sklearn.preprocessing import StandardScaler\n",
    "from sklearn.ensemble import RandomForestClassifier\n",
    "from sklearn.tree import DecisionTreeClassifier\n",
    "from sklearn.model_selection import GridSearchCV\n",
    "from sklearn.linear_model import LogisticRegression"
   ]
  },
  {
   "cell_type": "code",
   "execution_count": 2,
   "metadata": {},
   "outputs": [],
   "source": [
    "#Сохраняем путь к файлу на сервере Практикума.\n",
    "server_path_train = '/datasets/hotel_train.csv' \n",
    "server_path_test = '/datasets/hotel_test.csv'\n",
    "\n",
    "#Сохраняем путь к файлу на компьютере.\n",
    "local_path_train = 'datasets/hotel_train.csv'  \n",
    "local_path_test = 'datasets/hotel_test.csv' \n",
    "\n",
    "try:                                                   #Пробуем найти данные по сетевому адресу,\n",
    "    hotel_train = pd.read_csv(server_path_train) \n",
    "    hotel_test = pd.read_csv(server_path_test)\n",
    "except:                                                #если не находим по сетевому, ищем по локальному.\n",
    "    hotel_train = pd.read_csv(local_path_train) \n",
    "    hotel_test = pd.read_csv(local_path_test)"
   ]
  },
  {
   "cell_type": "code",
   "execution_count": 3,
   "metadata": {},
   "outputs": [],
   "source": [
    "hotel = {              # Словарь датасетов.\n",
    "    'train': hotel_train,\n",
    "    'test': hotel_test\n",
    "}"
   ]
  },
  {
   "cell_type": "code",
   "execution_count": 4,
   "metadata": {
    "scrolled": false
   },
   "outputs": [
    {
     "name": "stdout",
     "output_type": "stream",
     "text": [
      "Датасет: train\n"
     ]
    },
    {
     "data": {
      "text/html": [
       "<div>\n",
       "<style scoped>\n",
       "    .dataframe tbody tr th:only-of-type {\n",
       "        vertical-align: middle;\n",
       "    }\n",
       "\n",
       "    .dataframe tbody tr th {\n",
       "        vertical-align: top;\n",
       "    }\n",
       "\n",
       "    .dataframe thead th {\n",
       "        text-align: right;\n",
       "    }\n",
       "</style>\n",
       "<table border=\"1\" class=\"dataframe\">\n",
       "  <thead>\n",
       "    <tr style=\"text-align: right;\">\n",
       "      <th></th>\n",
       "      <th>id</th>\n",
       "      <th>is_canceled</th>\n",
       "      <th>lead_time</th>\n",
       "      <th>arrival_date_year</th>\n",
       "      <th>arrival_date_month</th>\n",
       "      <th>arrival_date_week_number</th>\n",
       "      <th>arrival_date_day_of_month</th>\n",
       "      <th>stays_in_weekend_nights</th>\n",
       "      <th>stays_in_week_nights</th>\n",
       "      <th>adults</th>\n",
       "      <th>...</th>\n",
       "      <th>is_repeated_guest</th>\n",
       "      <th>previous_cancellations</th>\n",
       "      <th>previous_bookings_not_canceled</th>\n",
       "      <th>reserved_room_type</th>\n",
       "      <th>booking_changes</th>\n",
       "      <th>days_in_waiting_list</th>\n",
       "      <th>customer_type</th>\n",
       "      <th>required_car_parking_spaces</th>\n",
       "      <th>total_of_special_requests</th>\n",
       "      <th>total_nights</th>\n",
       "    </tr>\n",
       "  </thead>\n",
       "  <tbody>\n",
       "    <tr>\n",
       "      <th>0</th>\n",
       "      <td>0</td>\n",
       "      <td>0</td>\n",
       "      <td>7.0</td>\n",
       "      <td>2015</td>\n",
       "      <td>July</td>\n",
       "      <td>27</td>\n",
       "      <td>1</td>\n",
       "      <td>0</td>\n",
       "      <td>1</td>\n",
       "      <td>1.0</td>\n",
       "      <td>...</td>\n",
       "      <td>0</td>\n",
       "      <td>0</td>\n",
       "      <td>0</td>\n",
       "      <td>A</td>\n",
       "      <td>0</td>\n",
       "      <td>0</td>\n",
       "      <td>Transient</td>\n",
       "      <td>0</td>\n",
       "      <td>0</td>\n",
       "      <td>1</td>\n",
       "    </tr>\n",
       "    <tr>\n",
       "      <th>1</th>\n",
       "      <td>1</td>\n",
       "      <td>0</td>\n",
       "      <td>14.0</td>\n",
       "      <td>2015</td>\n",
       "      <td>July</td>\n",
       "      <td>27</td>\n",
       "      <td>1</td>\n",
       "      <td>0</td>\n",
       "      <td>2</td>\n",
       "      <td>2.0</td>\n",
       "      <td>...</td>\n",
       "      <td>0</td>\n",
       "      <td>0</td>\n",
       "      <td>0</td>\n",
       "      <td>A</td>\n",
       "      <td>0</td>\n",
       "      <td>0</td>\n",
       "      <td>Transient</td>\n",
       "      <td>0</td>\n",
       "      <td>1</td>\n",
       "      <td>2</td>\n",
       "    </tr>\n",
       "    <tr>\n",
       "      <th>2</th>\n",
       "      <td>2</td>\n",
       "      <td>0</td>\n",
       "      <td>0.0</td>\n",
       "      <td>2015</td>\n",
       "      <td>July</td>\n",
       "      <td>27</td>\n",
       "      <td>1</td>\n",
       "      <td>0</td>\n",
       "      <td>2</td>\n",
       "      <td>2.0</td>\n",
       "      <td>...</td>\n",
       "      <td>0</td>\n",
       "      <td>0</td>\n",
       "      <td>0</td>\n",
       "      <td>C</td>\n",
       "      <td>0</td>\n",
       "      <td>0</td>\n",
       "      <td>Transient</td>\n",
       "      <td>0</td>\n",
       "      <td>0</td>\n",
       "      <td>2</td>\n",
       "    </tr>\n",
       "    <tr>\n",
       "      <th>3</th>\n",
       "      <td>3</td>\n",
       "      <td>0</td>\n",
       "      <td>9.0</td>\n",
       "      <td>2015</td>\n",
       "      <td>July</td>\n",
       "      <td>27</td>\n",
       "      <td>1</td>\n",
       "      <td>0</td>\n",
       "      <td>2</td>\n",
       "      <td>2.0</td>\n",
       "      <td>...</td>\n",
       "      <td>0</td>\n",
       "      <td>0</td>\n",
       "      <td>0</td>\n",
       "      <td>C</td>\n",
       "      <td>0</td>\n",
       "      <td>0</td>\n",
       "      <td>Transient</td>\n",
       "      <td>0</td>\n",
       "      <td>1</td>\n",
       "      <td>2</td>\n",
       "    </tr>\n",
       "    <tr>\n",
       "      <th>4</th>\n",
       "      <td>4</td>\n",
       "      <td>1</td>\n",
       "      <td>85.0</td>\n",
       "      <td>2015</td>\n",
       "      <td>July</td>\n",
       "      <td>27</td>\n",
       "      <td>1</td>\n",
       "      <td>0</td>\n",
       "      <td>3</td>\n",
       "      <td>2.0</td>\n",
       "      <td>...</td>\n",
       "      <td>0</td>\n",
       "      <td>0</td>\n",
       "      <td>0</td>\n",
       "      <td>A</td>\n",
       "      <td>0</td>\n",
       "      <td>0</td>\n",
       "      <td>Transient</td>\n",
       "      <td>0</td>\n",
       "      <td>1</td>\n",
       "      <td>3</td>\n",
       "    </tr>\n",
       "  </tbody>\n",
       "</table>\n",
       "<p>5 rows × 25 columns</p>\n",
       "</div>"
      ],
      "text/plain": [
       "   id  is_canceled  lead_time  arrival_date_year arrival_date_month  \\\n",
       "0   0            0        7.0               2015               July   \n",
       "1   1            0       14.0               2015               July   \n",
       "2   2            0        0.0               2015               July   \n",
       "3   3            0        9.0               2015               July   \n",
       "4   4            1       85.0               2015               July   \n",
       "\n",
       "   arrival_date_week_number  arrival_date_day_of_month  \\\n",
       "0                        27                          1   \n",
       "1                        27                          1   \n",
       "2                        27                          1   \n",
       "3                        27                          1   \n",
       "4                        27                          1   \n",
       "\n",
       "   stays_in_weekend_nights  stays_in_week_nights  adults  ...  \\\n",
       "0                        0                     1     1.0  ...   \n",
       "1                        0                     2     2.0  ...   \n",
       "2                        0                     2     2.0  ...   \n",
       "3                        0                     2     2.0  ...   \n",
       "4                        0                     3     2.0  ...   \n",
       "\n",
       "   is_repeated_guest  previous_cancellations previous_bookings_not_canceled  \\\n",
       "0                  0                       0                              0   \n",
       "1                  0                       0                              0   \n",
       "2                  0                       0                              0   \n",
       "3                  0                       0                              0   \n",
       "4                  0                       0                              0   \n",
       "\n",
       "  reserved_room_type booking_changes  days_in_waiting_list  customer_type  \\\n",
       "0   A                              0                     0      Transient   \n",
       "1   A                              0                     0      Transient   \n",
       "2   C                              0                     0      Transient   \n",
       "3   C                              0                     0      Transient   \n",
       "4   A                              0                     0      Transient   \n",
       "\n",
       "   required_car_parking_spaces total_of_special_requests  total_nights  \n",
       "0                            0                         0             1  \n",
       "1                            0                         1             2  \n",
       "2                            0                         0             2  \n",
       "3                            0                         1             2  \n",
       "4                            0                         1             3  \n",
       "\n",
       "[5 rows x 25 columns]"
      ]
     },
     "metadata": {},
     "output_type": "display_data"
    },
    {
     "name": "stdout",
     "output_type": "stream",
     "text": [
      "<class 'pandas.core.frame.DataFrame'>\n",
      "RangeIndex: 65229 entries, 0 to 65228\n",
      "Data columns (total 25 columns):\n",
      " #   Column                          Non-Null Count  Dtype  \n",
      "---  ------                          --------------  -----  \n",
      " 0   id                              65229 non-null  int64  \n",
      " 1   is_canceled                     65229 non-null  int64  \n",
      " 2   lead_time                       65229 non-null  float64\n",
      " 3   arrival_date_year               65229 non-null  int64  \n",
      " 4   arrival_date_month              65229 non-null  object \n",
      " 5   arrival_date_week_number        65229 non-null  int64  \n",
      " 6   arrival_date_day_of_month       65229 non-null  int64  \n",
      " 7   stays_in_weekend_nights         65229 non-null  int64  \n",
      " 8   stays_in_week_nights            65229 non-null  int64  \n",
      " 9   adults                          65229 non-null  float64\n",
      " 10  children                        65229 non-null  float64\n",
      " 11  babies                          65229 non-null  float64\n",
      " 12  meal                            65229 non-null  object \n",
      " 13  country                         65229 non-null  object \n",
      " 14  distribution_channel            65229 non-null  object \n",
      " 15  is_repeated_guest               65229 non-null  int64  \n",
      " 16  previous_cancellations          65229 non-null  int64  \n",
      " 17  previous_bookings_not_canceled  65229 non-null  int64  \n",
      " 18  reserved_room_type              65229 non-null  object \n",
      " 19  booking_changes                 65229 non-null  int64  \n",
      " 20  days_in_waiting_list            65229 non-null  int64  \n",
      " 21  customer_type                   65229 non-null  object \n",
      " 22  required_car_parking_spaces     65229 non-null  int64  \n",
      " 23  total_of_special_requests       65229 non-null  int64  \n",
      " 24  total_nights                    65229 non-null  int64  \n",
      "dtypes: float64(4), int64(15), object(6)\n",
      "memory usage: 12.4+ MB\n",
      "\n",
      "Датасет: test\n"
     ]
    },
    {
     "data": {
      "text/html": [
       "<div>\n",
       "<style scoped>\n",
       "    .dataframe tbody tr th:only-of-type {\n",
       "        vertical-align: middle;\n",
       "    }\n",
       "\n",
       "    .dataframe tbody tr th {\n",
       "        vertical-align: top;\n",
       "    }\n",
       "\n",
       "    .dataframe thead th {\n",
       "        text-align: right;\n",
       "    }\n",
       "</style>\n",
       "<table border=\"1\" class=\"dataframe\">\n",
       "  <thead>\n",
       "    <tr style=\"text-align: right;\">\n",
       "      <th></th>\n",
       "      <th>id</th>\n",
       "      <th>is_canceled</th>\n",
       "      <th>lead_time</th>\n",
       "      <th>arrival_date_year</th>\n",
       "      <th>arrival_date_month</th>\n",
       "      <th>arrival_date_week_number</th>\n",
       "      <th>arrival_date_day_of_month</th>\n",
       "      <th>stays_in_weekend_nights</th>\n",
       "      <th>stays_in_week_nights</th>\n",
       "      <th>adults</th>\n",
       "      <th>...</th>\n",
       "      <th>is_repeated_guest</th>\n",
       "      <th>previous_cancellations</th>\n",
       "      <th>previous_bookings_not_canceled</th>\n",
       "      <th>reserved_room_type</th>\n",
       "      <th>booking_changes</th>\n",
       "      <th>days_in_waiting_list</th>\n",
       "      <th>customer_type</th>\n",
       "      <th>required_car_parking_spaces</th>\n",
       "      <th>total_of_special_requests</th>\n",
       "      <th>total_nights</th>\n",
       "    </tr>\n",
       "  </thead>\n",
       "  <tbody>\n",
       "    <tr>\n",
       "      <th>0</th>\n",
       "      <td>6086</td>\n",
       "      <td>1</td>\n",
       "      <td>74.0</td>\n",
       "      <td>2017</td>\n",
       "      <td>January</td>\n",
       "      <td>1</td>\n",
       "      <td>1</td>\n",
       "      <td>1</td>\n",
       "      <td>0</td>\n",
       "      <td>2.0</td>\n",
       "      <td>...</td>\n",
       "      <td>0</td>\n",
       "      <td>0</td>\n",
       "      <td>0</td>\n",
       "      <td>A</td>\n",
       "      <td>0</td>\n",
       "      <td>0</td>\n",
       "      <td>Transient</td>\n",
       "      <td>0</td>\n",
       "      <td>0</td>\n",
       "      <td>1</td>\n",
       "    </tr>\n",
       "    <tr>\n",
       "      <th>1</th>\n",
       "      <td>6087</td>\n",
       "      <td>1</td>\n",
       "      <td>62.0</td>\n",
       "      <td>2017</td>\n",
       "      <td>January</td>\n",
       "      <td>1</td>\n",
       "      <td>1</td>\n",
       "      <td>2</td>\n",
       "      <td>2</td>\n",
       "      <td>2.0</td>\n",
       "      <td>...</td>\n",
       "      <td>0</td>\n",
       "      <td>0</td>\n",
       "      <td>0</td>\n",
       "      <td>A</td>\n",
       "      <td>0</td>\n",
       "      <td>0</td>\n",
       "      <td>Transient</td>\n",
       "      <td>0</td>\n",
       "      <td>1</td>\n",
       "      <td>4</td>\n",
       "    </tr>\n",
       "    <tr>\n",
       "      <th>2</th>\n",
       "      <td>6088</td>\n",
       "      <td>1</td>\n",
       "      <td>62.0</td>\n",
       "      <td>2017</td>\n",
       "      <td>January</td>\n",
       "      <td>1</td>\n",
       "      <td>1</td>\n",
       "      <td>2</td>\n",
       "      <td>2</td>\n",
       "      <td>2.0</td>\n",
       "      <td>...</td>\n",
       "      <td>0</td>\n",
       "      <td>0</td>\n",
       "      <td>0</td>\n",
       "      <td>A</td>\n",
       "      <td>0</td>\n",
       "      <td>0</td>\n",
       "      <td>Transient</td>\n",
       "      <td>0</td>\n",
       "      <td>1</td>\n",
       "      <td>4</td>\n",
       "    </tr>\n",
       "    <tr>\n",
       "      <th>3</th>\n",
       "      <td>6089</td>\n",
       "      <td>1</td>\n",
       "      <td>71.0</td>\n",
       "      <td>2017</td>\n",
       "      <td>January</td>\n",
       "      <td>1</td>\n",
       "      <td>1</td>\n",
       "      <td>2</td>\n",
       "      <td>2</td>\n",
       "      <td>1.0</td>\n",
       "      <td>...</td>\n",
       "      <td>0</td>\n",
       "      <td>0</td>\n",
       "      <td>0</td>\n",
       "      <td>A</td>\n",
       "      <td>0</td>\n",
       "      <td>0</td>\n",
       "      <td>Transient</td>\n",
       "      <td>0</td>\n",
       "      <td>1</td>\n",
       "      <td>4</td>\n",
       "    </tr>\n",
       "    <tr>\n",
       "      <th>4</th>\n",
       "      <td>6090</td>\n",
       "      <td>1</td>\n",
       "      <td>172.0</td>\n",
       "      <td>2017</td>\n",
       "      <td>January</td>\n",
       "      <td>1</td>\n",
       "      <td>1</td>\n",
       "      <td>2</td>\n",
       "      <td>5</td>\n",
       "      <td>2.0</td>\n",
       "      <td>...</td>\n",
       "      <td>0</td>\n",
       "      <td>0</td>\n",
       "      <td>0</td>\n",
       "      <td>A</td>\n",
       "      <td>0</td>\n",
       "      <td>0</td>\n",
       "      <td>Transient</td>\n",
       "      <td>0</td>\n",
       "      <td>0</td>\n",
       "      <td>7</td>\n",
       "    </tr>\n",
       "  </tbody>\n",
       "</table>\n",
       "<p>5 rows × 25 columns</p>\n",
       "</div>"
      ],
      "text/plain": [
       "     id  is_canceled  lead_time  arrival_date_year arrival_date_month  \\\n",
       "0  6086            1       74.0               2017            January   \n",
       "1  6087            1       62.0               2017            January   \n",
       "2  6088            1       62.0               2017            January   \n",
       "3  6089            1       71.0               2017            January   \n",
       "4  6090            1      172.0               2017            January   \n",
       "\n",
       "   arrival_date_week_number  arrival_date_day_of_month  \\\n",
       "0                         1                          1   \n",
       "1                         1                          1   \n",
       "2                         1                          1   \n",
       "3                         1                          1   \n",
       "4                         1                          1   \n",
       "\n",
       "   stays_in_weekend_nights  stays_in_week_nights  adults  ...  \\\n",
       "0                        1                     0     2.0  ...   \n",
       "1                        2                     2     2.0  ...   \n",
       "2                        2                     2     2.0  ...   \n",
       "3                        2                     2     1.0  ...   \n",
       "4                        2                     5     2.0  ...   \n",
       "\n",
       "   is_repeated_guest  previous_cancellations previous_bookings_not_canceled  \\\n",
       "0                  0                       0                              0   \n",
       "1                  0                       0                              0   \n",
       "2                  0                       0                              0   \n",
       "3                  0                       0                              0   \n",
       "4                  0                       0                              0   \n",
       "\n",
       "  reserved_room_type booking_changes  days_in_waiting_list  customer_type  \\\n",
       "0   A                              0                     0      Transient   \n",
       "1   A                              0                     0      Transient   \n",
       "2   A                              0                     0      Transient   \n",
       "3   A                              0                     0      Transient   \n",
       "4   A                              0                     0      Transient   \n",
       "\n",
       "   required_car_parking_spaces total_of_special_requests  total_nights  \n",
       "0                            0                         0             1  \n",
       "1                            0                         1             4  \n",
       "2                            0                         1             4  \n",
       "3                            0                         1             4  \n",
       "4                            0                         0             7  \n",
       "\n",
       "[5 rows x 25 columns]"
      ]
     },
     "metadata": {},
     "output_type": "display_data"
    },
    {
     "name": "stdout",
     "output_type": "stream",
     "text": [
      "<class 'pandas.core.frame.DataFrame'>\n",
      "RangeIndex: 32412 entries, 0 to 32411\n",
      "Data columns (total 25 columns):\n",
      " #   Column                          Non-Null Count  Dtype  \n",
      "---  ------                          --------------  -----  \n",
      " 0   id                              32412 non-null  int64  \n",
      " 1   is_canceled                     32412 non-null  int64  \n",
      " 2   lead_time                       32412 non-null  float64\n",
      " 3   arrival_date_year               32412 non-null  int64  \n",
      " 4   arrival_date_month              32412 non-null  object \n",
      " 5   arrival_date_week_number        32412 non-null  int64  \n",
      " 6   arrival_date_day_of_month       32412 non-null  int64  \n",
      " 7   stays_in_weekend_nights         32412 non-null  int64  \n",
      " 8   stays_in_week_nights            32412 non-null  int64  \n",
      " 9   adults                          32412 non-null  float64\n",
      " 10  children                        32412 non-null  float64\n",
      " 11  babies                          32412 non-null  float64\n",
      " 12  meal                            32412 non-null  object \n",
      " 13  country                         32412 non-null  object \n",
      " 14  distribution_channel            32412 non-null  object \n",
      " 15  is_repeated_guest               32412 non-null  int64  \n",
      " 16  previous_cancellations          32412 non-null  int64  \n",
      " 17  previous_bookings_not_canceled  32412 non-null  int64  \n",
      " 18  reserved_room_type              32412 non-null  object \n",
      " 19  booking_changes                 32412 non-null  int64  \n",
      " 20  days_in_waiting_list            32412 non-null  int64  \n",
      " 21  customer_type                   32412 non-null  object \n",
      " 22  required_car_parking_spaces     32412 non-null  int64  \n",
      " 23  total_of_special_requests       32412 non-null  int64  \n",
      " 24  total_nights                    32412 non-null  int64  \n",
      "dtypes: float64(4), int64(15), object(6)\n",
      "memory usage: 6.2+ MB\n",
      "\n"
     ]
    }
   ],
   "source": [
    "for key, val in hotel.items(): # Отображаем информацию и датасеты\n",
    "    print(f'Датасет: {key}')\n",
    "    display(val.head())\n",
    "    val.info()\n",
    "    print()  "
   ]
  },
  {
   "cell_type": "markdown",
   "metadata": {},
   "source": [
    "### Предобработка и исследовательский анализ данных"
   ]
  },
  {
   "cell_type": "markdown",
   "metadata": {},
   "source": [
    "#### Категориальные данные "
   ]
  },
  {
   "cell_type": "code",
   "execution_count": 5,
   "metadata": {},
   "outputs": [
    {
     "name": "stdout",
     "output_type": "stream",
     "text": [
      "Датасет: train\n",
      "arrival_date_year\n",
      "[2015 2016]\n",
      "arrival_date_month\n",
      "['July' 'August' 'September' 'October' 'November' 'December' 'January'\n",
      " 'February' 'March' 'April' 'May' 'June']\n",
      "meal\n",
      "['BB       ' 'FB       ' 'HB       ' 'SC       ' 'SC']\n",
      "country\n",
      "['GBR' 'PRT' 'ESP' 'IRL' 'FRA' 'ROU' 'NOR' 'USA' 'DEU' 'BEL' 'CHE' 'CN'\n",
      " 'GRC' 'NLD' 'ARG' 'RUS' 'SWE' 'POL' 'EST' 'CZE' 'ITA' 'FIN' 'DNK' 'MOZ'\n",
      " 'BWA' 'LUX' 'BRA' 'SVN' 'ALB' 'CHN' 'MEX' 'MAR' 'SMR' 'LVA' 'CHL' 'AUT'\n",
      " 'LTU' 'TUR' 'ISR' 'IND' 'CYM' 'AUS' 'CPV' 'ZWE' 'DZA' 'KOR' 'CRI' 'HUN'\n",
      " 'TUN' 'ARE' 'HRV' 'HKG' 'IRN' 'GIB' 'JEY' 'URY' 'ZAF' 'COL' 'GGY' 'KWT'\n",
      " 'CYP' 'KAZ' 'THA' 'DOM' 'NGA' 'BLR' 'VEN' 'UKR' 'ARM' 'JPN' 'LKA' 'MYS'\n",
      " 'BIH' 'MUS' 'OMN' 'SUR' 'JAM' 'BGR' 'CIV' 'SRB' 'JOR' 'SYR' 'PHL' 'PRI'\n",
      " 'SGP' 'BDI' 'LBN' 'AGO' 'VNM' 'AZE' 'PLW' 'NZL' 'EGY' 'MDV' 'CMR' 'MLT'\n",
      " 'SVK' 'MWI' 'STP' 'TWN' 'IDN' 'SEN' 'PER' 'SAU' 'KNA' 'ETH' 'ECU' 'IRQ'\n",
      " 'AND' 'HND' 'PAK' 'GEO' 'ZMB' 'QAT' 'KHM' 'MCO' 'BGD' 'ISL' 'UZB' 'IMN'\n",
      " 'TJK' 'NIC' 'BEN' 'MAC' 'VGB' 'TZA' 'GAB' 'MKD' 'TMP' 'GLP' 'KEN' 'LIE'\n",
      " 'MMR' 'PAN' 'BFA' 'LBY' 'GNB' 'MLI' 'BHR' 'NAM' 'BOL' 'SYC' 'PRY' 'BRB'\n",
      " 'ABW' 'SLV' 'DMA' 'CUB' 'PYF' 'UGA' 'GUY' 'LCA' 'ATA' 'RWA' 'MNE']\n",
      "distribution_channel\n",
      "['Direct' 'TA/TO' 'Corporate' 'GDS']\n",
      "reserved_room_type\n",
      "['A               ' 'C               ' 'D               '\n",
      " 'E               ' 'G               ' 'F               '\n",
      " 'B               ']\n",
      "customer_type\n",
      "['Transient' 'Contract' 'Transient-Party' 'Group']\n",
      "\n",
      "Датасет: test\n",
      "arrival_date_year\n",
      "[2017]\n",
      "arrival_date_month\n",
      "['January' 'February' 'March' 'April' 'May' 'June' 'July' 'August']\n",
      "meal\n",
      "['BB       ' 'HB       ' 'SC' 'FB       ' 'SC       ']\n",
      "country\n",
      "['PRT' 'AUT' 'BEL' 'DEU' 'BRA' 'GBR' 'ESP' 'FRA' 'ITA' 'LUX' 'CHE' 'EST'\n",
      " 'NGA' 'IRL' 'CN' 'POL' 'AUS' 'NLD' 'KOR' 'ROU' 'USA' 'CHL' 'DNK' 'FIN'\n",
      " 'RUS' 'SWE' 'HUN' 'HRV' 'MDV' 'ZAF' 'ISR' 'NOR' 'CHN' 'ARE' 'MAR' 'COL'\n",
      " 'FJI' 'LVA' 'LBN' 'PHL' 'HKG' 'SYC' 'GIB' 'AGO' 'MYS' 'MDG' 'IDN' 'LTU'\n",
      " 'ISL' 'TUR' 'ARG' 'JPN' 'SVN' 'SVK' 'BGR' 'CAF' 'JAM' 'UZB' 'UKR' 'IND'\n",
      " 'CZE' 'URY' 'NZL' 'NPL' 'SRB' 'CPV' 'IRN' 'KAZ' 'BHS' 'SUR' 'CUB' 'PAK'\n",
      " 'MAC' 'CYP' 'JOR' 'GRC' 'KWT' 'TWN' 'VNM' 'SGP' 'DOM' 'VEN' 'SEN' 'BLR'\n",
      " 'TZA' 'LIE' 'GNB' 'SAU' 'DZA' 'PER' 'AZE' 'EGY' 'ETH' 'KEN' 'THA' 'MLT'\n",
      " 'ECU' 'AND' 'IMN' 'BHR' 'TUN' 'MNE' 'MEX' 'BEN' 'MOZ' 'UMI' 'JEY' 'MYT'\n",
      " 'QAT' 'BGD' 'GAB' 'CIV' 'ZWE' 'GTM' 'ALB' 'GHA' 'ATA' 'ASM' 'PAN' 'CRI'\n",
      " 'MCO' 'MUS' 'SYR' 'TGO' 'IRQ' 'LKA' 'BIH' 'PRY' 'MRT' 'ABW' 'NCL' 'STP'\n",
      " 'KIR' 'SDN' 'PRI' 'ATF' 'CMR' 'TJK' 'LBY' 'SLE' 'SLV' 'LAO' 'FRO']\n",
      "distribution_channel\n",
      "['TA/TO' 'Direct' 'Corporate' 'GDS']\n",
      "reserved_room_type\n",
      "['A               ' 'E               ' 'G               '\n",
      " 'D               ' 'F               ' 'C               '\n",
      " 'B               ']\n",
      "customer_type\n",
      "['Transient' 'Transient-Party' 'Contract' 'Group']\n",
      "\n"
     ]
    }
   ],
   "source": [
    "#Смотрим уникальные значения для двух датасетов каждой категориальной колонки.  \n",
    "for key, val in hotel.items(): \n",
    "    print(f'Датасет: {key}')\n",
    "    for column in [\n",
    "        'arrival_date_year',\n",
    "        'arrival_date_month',\n",
    "        'meal',\n",
    "        'country',\n",
    "        'distribution_channel',\n",
    "        'reserved_room_type',\n",
    "        'customer_type'\n",
    "    ]:\n",
    "        print(column)\n",
    "        print(val[column].unique())\n",
    "    print() "
   ]
  },
  {
   "cell_type": "code",
   "execution_count": 6,
   "metadata": {},
   "outputs": [
    {
     "name": "stdout",
     "output_type": "stream",
     "text": [
      "['BB' 'FB' 'HB' 'SC']\n",
      "['A' 'C' 'D' 'E' 'G' 'F' 'B']\n",
      "\n",
      "['BB' 'HB' 'SC' 'FB']\n",
      "['A' 'E' 'G' 'D' 'F' 'C' 'B']\n",
      "\n"
     ]
    }
   ],
   "source": [
    "#Убираем лишние пробелы.\n",
    "for key, val in hotel.items(): \n",
    "    \n",
    "    for column in ['meal', 'reserved_room_type']:\n",
    "        val[column] = val[column].str.strip()\n",
    "        print(val[column].unique())\n",
    "    print() "
   ]
  },
  {
   "cell_type": "code",
   "execution_count": 7,
   "metadata": {},
   "outputs": [
    {
     "data": {
      "text/plain": [
       "September    4443\n",
       "October      4284\n",
       "August       3116\n",
       "December     2370\n",
       "July         2185\n",
       "November     1930\n",
       "Name: arrival_date_month, dtype: int64"
      ]
     },
     "execution_count": 7,
     "metadata": {},
     "output_type": "execute_result"
    }
   ],
   "source": [
    "# Считаем количество записей по месяцам для 2015 г.\n",
    "hotel_train[hotel_train['arrival_date_year'] == 2015]['arrival_date_month'].value_counts()"
   ]
  },
  {
   "cell_type": "code",
   "execution_count": 8,
   "metadata": {},
   "outputs": [
    {
     "data": {
      "text/plain": [
       "October      4971\n",
       "April        4804\n",
       "May          4677\n",
       "June         4659\n",
       "September    4339\n",
       "March        4148\n",
       "November     3831\n",
       "August       3562\n",
       "July         3533\n",
       "February     3358\n",
       "December     3127\n",
       "January      1892\n",
       "Name: arrival_date_month, dtype: int64"
      ]
     },
     "execution_count": 8,
     "metadata": {},
     "output_type": "execute_result"
    }
   ],
   "source": [
    "# Считаем количество записей по месяцам для 2016 г.\n",
    "hotel_train[hotel_train['arrival_date_year'] == 2016]['arrival_date_month'].value_counts()"
   ]
  },
  {
   "cell_type": "code",
   "execution_count": 9,
   "metadata": {},
   "outputs": [
    {
     "data": {
      "text/plain": [
       "46901"
      ]
     },
     "execution_count": 9,
     "metadata": {},
     "output_type": "execute_result"
    }
   ],
   "source": [
    "# Считаем общее количество записей для 2016 г.\n",
    "hotel_train[hotel_train['arrival_date_year'] == 2016].shape[0]"
   ]
  },
  {
   "cell_type": "code",
   "execution_count": 10,
   "metadata": {},
   "outputs": [
    {
     "data": {
      "text/plain": [
       "May         5262\n",
       "April       4878\n",
       "June        4580\n",
       "March       4277\n",
       "July        3626\n",
       "February    3543\n",
       "January     3150\n",
       "August      3096\n",
       "Name: arrival_date_month, dtype: int64"
      ]
     },
     "execution_count": 10,
     "metadata": {},
     "output_type": "execute_result"
    }
   ],
   "source": [
    "# Считаем количество записей по месяцам для 2017 г. (test).\n",
    "hotel_test['arrival_date_month'].value_counts()"
   ]
  },
  {
   "cell_type": "markdown",
   "metadata": {},
   "source": [
    "#### Количественные данные"
   ]
  },
  {
   "cell_type": "code",
   "execution_count": 11,
   "metadata": {},
   "outputs": [
    {
     "data": {
      "text/html": [
       "<div>\n",
       "<style scoped>\n",
       "    .dataframe tbody tr th:only-of-type {\n",
       "        vertical-align: middle;\n",
       "    }\n",
       "\n",
       "    .dataframe tbody tr th {\n",
       "        vertical-align: top;\n",
       "    }\n",
       "\n",
       "    .dataframe thead th {\n",
       "        text-align: right;\n",
       "    }\n",
       "</style>\n",
       "<table border=\"1\" class=\"dataframe\">\n",
       "  <thead>\n",
       "    <tr style=\"text-align: right;\">\n",
       "      <th></th>\n",
       "      <th>lead_time</th>\n",
       "      <th>stays_in_weekend_nights</th>\n",
       "      <th>stays_in_week_nights</th>\n",
       "      <th>adults</th>\n",
       "      <th>children</th>\n",
       "      <th>babies</th>\n",
       "      <th>is_repeated_guest</th>\n",
       "      <th>previous_cancellations</th>\n",
       "      <th>previous_bookings_not_canceled</th>\n",
       "      <th>booking_changes</th>\n",
       "      <th>days_in_waiting_list</th>\n",
       "      <th>required_car_parking_spaces</th>\n",
       "      <th>total_of_special_requests</th>\n",
       "      <th>total_nights</th>\n",
       "    </tr>\n",
       "  </thead>\n",
       "  <tbody>\n",
       "    <tr>\n",
       "      <th>count</th>\n",
       "      <td>65229.000000</td>\n",
       "      <td>65229.000000</td>\n",
       "      <td>65229.000000</td>\n",
       "      <td>65229.000000</td>\n",
       "      <td>65229.000000</td>\n",
       "      <td>65229.000000</td>\n",
       "      <td>65229.000000</td>\n",
       "      <td>65229.000000</td>\n",
       "      <td>65229.000000</td>\n",
       "      <td>65229.000000</td>\n",
       "      <td>65229.000000</td>\n",
       "      <td>65229.000000</td>\n",
       "      <td>65229.000000</td>\n",
       "      <td>65229.000000</td>\n",
       "    </tr>\n",
       "    <tr>\n",
       "      <th>mean</th>\n",
       "      <td>96.337917</td>\n",
       "      <td>0.825185</td>\n",
       "      <td>2.224793</td>\n",
       "      <td>1.836576</td>\n",
       "      <td>0.074890</td>\n",
       "      <td>0.007236</td>\n",
       "      <td>0.027151</td>\n",
       "      <td>0.128915</td>\n",
       "      <td>0.107713</td>\n",
       "      <td>0.194269</td>\n",
       "      <td>3.334422</td>\n",
       "      <td>0.056647</td>\n",
       "      <td>0.512763</td>\n",
       "      <td>3.049978</td>\n",
       "    </tr>\n",
       "    <tr>\n",
       "      <th>std</th>\n",
       "      <td>96.127545</td>\n",
       "      <td>0.853477</td>\n",
       "      <td>1.354992</td>\n",
       "      <td>0.480245</td>\n",
       "      <td>0.334243</td>\n",
       "      <td>0.098790</td>\n",
       "      <td>0.162523</td>\n",
       "      <td>0.965326</td>\n",
       "      <td>1.326638</td>\n",
       "      <td>0.593838</td>\n",
       "      <td>18.239606</td>\n",
       "      <td>0.232094</td>\n",
       "      <td>0.752590</td>\n",
       "      <td>1.738108</td>\n",
       "    </tr>\n",
       "    <tr>\n",
       "      <th>min</th>\n",
       "      <td>0.000000</td>\n",
       "      <td>0.000000</td>\n",
       "      <td>0.000000</td>\n",
       "      <td>0.000000</td>\n",
       "      <td>0.000000</td>\n",
       "      <td>0.000000</td>\n",
       "      <td>0.000000</td>\n",
       "      <td>0.000000</td>\n",
       "      <td>0.000000</td>\n",
       "      <td>0.000000</td>\n",
       "      <td>0.000000</td>\n",
       "      <td>0.000000</td>\n",
       "      <td>0.000000</td>\n",
       "      <td>1.000000</td>\n",
       "    </tr>\n",
       "    <tr>\n",
       "      <th>25%</th>\n",
       "      <td>17.000000</td>\n",
       "      <td>0.000000</td>\n",
       "      <td>1.000000</td>\n",
       "      <td>2.000000</td>\n",
       "      <td>0.000000</td>\n",
       "      <td>0.000000</td>\n",
       "      <td>0.000000</td>\n",
       "      <td>0.000000</td>\n",
       "      <td>0.000000</td>\n",
       "      <td>0.000000</td>\n",
       "      <td>0.000000</td>\n",
       "      <td>0.000000</td>\n",
       "      <td>0.000000</td>\n",
       "      <td>2.000000</td>\n",
       "    </tr>\n",
       "    <tr>\n",
       "      <th>50%</th>\n",
       "      <td>64.000000</td>\n",
       "      <td>1.000000</td>\n",
       "      <td>2.000000</td>\n",
       "      <td>2.000000</td>\n",
       "      <td>0.000000</td>\n",
       "      <td>0.000000</td>\n",
       "      <td>0.000000</td>\n",
       "      <td>0.000000</td>\n",
       "      <td>0.000000</td>\n",
       "      <td>0.000000</td>\n",
       "      <td>0.000000</td>\n",
       "      <td>0.000000</td>\n",
       "      <td>0.000000</td>\n",
       "      <td>3.000000</td>\n",
       "    </tr>\n",
       "    <tr>\n",
       "      <th>75%</th>\n",
       "      <td>151.000000</td>\n",
       "      <td>2.000000</td>\n",
       "      <td>3.000000</td>\n",
       "      <td>2.000000</td>\n",
       "      <td>0.000000</td>\n",
       "      <td>0.000000</td>\n",
       "      <td>0.000000</td>\n",
       "      <td>0.000000</td>\n",
       "      <td>0.000000</td>\n",
       "      <td>0.000000</td>\n",
       "      <td>0.000000</td>\n",
       "      <td>0.000000</td>\n",
       "      <td>1.000000</td>\n",
       "      <td>4.000000</td>\n",
       "    </tr>\n",
       "    <tr>\n",
       "      <th>max</th>\n",
       "      <td>374.000000</td>\n",
       "      <td>4.000000</td>\n",
       "      <td>6.000000</td>\n",
       "      <td>4.000000</td>\n",
       "      <td>3.000000</td>\n",
       "      <td>10.000000</td>\n",
       "      <td>1.000000</td>\n",
       "      <td>26.000000</td>\n",
       "      <td>58.000000</td>\n",
       "      <td>17.000000</td>\n",
       "      <td>259.000000</td>\n",
       "      <td>3.000000</td>\n",
       "      <td>5.000000</td>\n",
       "      <td>10.000000</td>\n",
       "    </tr>\n",
       "  </tbody>\n",
       "</table>\n",
       "</div>"
      ],
      "text/plain": [
       "          lead_time  stays_in_weekend_nights  stays_in_week_nights  \\\n",
       "count  65229.000000             65229.000000          65229.000000   \n",
       "mean      96.337917                 0.825185              2.224793   \n",
       "std       96.127545                 0.853477              1.354992   \n",
       "min        0.000000                 0.000000              0.000000   \n",
       "25%       17.000000                 0.000000              1.000000   \n",
       "50%       64.000000                 1.000000              2.000000   \n",
       "75%      151.000000                 2.000000              3.000000   \n",
       "max      374.000000                 4.000000              6.000000   \n",
       "\n",
       "             adults      children        babies  is_repeated_guest  \\\n",
       "count  65229.000000  65229.000000  65229.000000       65229.000000   \n",
       "mean       1.836576      0.074890      0.007236           0.027151   \n",
       "std        0.480245      0.334243      0.098790           0.162523   \n",
       "min        0.000000      0.000000      0.000000           0.000000   \n",
       "25%        2.000000      0.000000      0.000000           0.000000   \n",
       "50%        2.000000      0.000000      0.000000           0.000000   \n",
       "75%        2.000000      0.000000      0.000000           0.000000   \n",
       "max        4.000000      3.000000     10.000000           1.000000   \n",
       "\n",
       "       previous_cancellations  previous_bookings_not_canceled  \\\n",
       "count            65229.000000                    65229.000000   \n",
       "mean                 0.128915                        0.107713   \n",
       "std                  0.965326                        1.326638   \n",
       "min                  0.000000                        0.000000   \n",
       "25%                  0.000000                        0.000000   \n",
       "50%                  0.000000                        0.000000   \n",
       "75%                  0.000000                        0.000000   \n",
       "max                 26.000000                       58.000000   \n",
       "\n",
       "       booking_changes  days_in_waiting_list  required_car_parking_spaces  \\\n",
       "count     65229.000000          65229.000000                 65229.000000   \n",
       "mean          0.194269              3.334422                     0.056647   \n",
       "std           0.593838             18.239606                     0.232094   \n",
       "min           0.000000              0.000000                     0.000000   \n",
       "25%           0.000000              0.000000                     0.000000   \n",
       "50%           0.000000              0.000000                     0.000000   \n",
       "75%           0.000000              0.000000                     0.000000   \n",
       "max          17.000000            259.000000                     3.000000   \n",
       "\n",
       "       total_of_special_requests  total_nights  \n",
       "count               65229.000000  65229.000000  \n",
       "mean                    0.512763      3.049978  \n",
       "std                     0.752590      1.738108  \n",
       "min                     0.000000      1.000000  \n",
       "25%                     0.000000      2.000000  \n",
       "50%                     0.000000      3.000000  \n",
       "75%                     1.000000      4.000000  \n",
       "max                     5.000000     10.000000  "
      ]
     },
     "metadata": {},
     "output_type": "display_data"
    },
    {
     "name": "stdout",
     "output_type": "stream",
     "text": [
      "\n"
     ]
    },
    {
     "data": {
      "text/html": [
       "<div>\n",
       "<style scoped>\n",
       "    .dataframe tbody tr th:only-of-type {\n",
       "        vertical-align: middle;\n",
       "    }\n",
       "\n",
       "    .dataframe tbody tr th {\n",
       "        vertical-align: top;\n",
       "    }\n",
       "\n",
       "    .dataframe thead th {\n",
       "        text-align: right;\n",
       "    }\n",
       "</style>\n",
       "<table border=\"1\" class=\"dataframe\">\n",
       "  <thead>\n",
       "    <tr style=\"text-align: right;\">\n",
       "      <th></th>\n",
       "      <th>lead_time</th>\n",
       "      <th>stays_in_weekend_nights</th>\n",
       "      <th>stays_in_week_nights</th>\n",
       "      <th>adults</th>\n",
       "      <th>children</th>\n",
       "      <th>babies</th>\n",
       "      <th>is_repeated_guest</th>\n",
       "      <th>previous_cancellations</th>\n",
       "      <th>previous_bookings_not_canceled</th>\n",
       "      <th>booking_changes</th>\n",
       "      <th>days_in_waiting_list</th>\n",
       "      <th>required_car_parking_spaces</th>\n",
       "      <th>total_of_special_requests</th>\n",
       "      <th>total_nights</th>\n",
       "    </tr>\n",
       "  </thead>\n",
       "  <tbody>\n",
       "    <tr>\n",
       "      <th>count</th>\n",
       "      <td>32412.000000</td>\n",
       "      <td>32412.000000</td>\n",
       "      <td>32412.00000</td>\n",
       "      <td>32412.000000</td>\n",
       "      <td>32412.000000</td>\n",
       "      <td>32412.000000</td>\n",
       "      <td>32412.000000</td>\n",
       "      <td>32412.000000</td>\n",
       "      <td>32412.000000</td>\n",
       "      <td>32412.000000</td>\n",
       "      <td>32412.000000</td>\n",
       "      <td>32412.000000</td>\n",
       "      <td>32412.000000</td>\n",
       "      <td>32412.000000</td>\n",
       "    </tr>\n",
       "    <tr>\n",
       "      <th>mean</th>\n",
       "      <td>97.587869</td>\n",
       "      <td>0.867888</td>\n",
       "      <td>2.34009</td>\n",
       "      <td>1.858602</td>\n",
       "      <td>0.083765</td>\n",
       "      <td>0.005523</td>\n",
       "      <td>0.031377</td>\n",
       "      <td>0.011601</td>\n",
       "      <td>0.171418</td>\n",
       "      <td>0.216741</td>\n",
       "      <td>0.262341</td>\n",
       "      <td>0.046248</td>\n",
       "      <td>0.657781</td>\n",
       "      <td>3.207979</td>\n",
       "    </tr>\n",
       "    <tr>\n",
       "      <th>std</th>\n",
       "      <td>86.507146</td>\n",
       "      <td>0.853394</td>\n",
       "      <td>1.37517</td>\n",
       "      <td>0.489341</td>\n",
       "      <td>0.343470</td>\n",
       "      <td>0.075757</td>\n",
       "      <td>0.174338</td>\n",
       "      <td>0.180473</td>\n",
       "      <td>1.875170</td>\n",
       "      <td>0.640551</td>\n",
       "      <td>4.733027</td>\n",
       "      <td>0.219367</td>\n",
       "      <td>0.834341</td>\n",
       "      <td>1.738683</td>\n",
       "    </tr>\n",
       "    <tr>\n",
       "      <th>min</th>\n",
       "      <td>0.000000</td>\n",
       "      <td>0.000000</td>\n",
       "      <td>0.00000</td>\n",
       "      <td>0.000000</td>\n",
       "      <td>0.000000</td>\n",
       "      <td>0.000000</td>\n",
       "      <td>0.000000</td>\n",
       "      <td>0.000000</td>\n",
       "      <td>0.000000</td>\n",
       "      <td>0.000000</td>\n",
       "      <td>0.000000</td>\n",
       "      <td>0.000000</td>\n",
       "      <td>0.000000</td>\n",
       "      <td>1.000000</td>\n",
       "    </tr>\n",
       "    <tr>\n",
       "      <th>25%</th>\n",
       "      <td>23.000000</td>\n",
       "      <td>0.000000</td>\n",
       "      <td>1.00000</td>\n",
       "      <td>2.000000</td>\n",
       "      <td>0.000000</td>\n",
       "      <td>0.000000</td>\n",
       "      <td>0.000000</td>\n",
       "      <td>0.000000</td>\n",
       "      <td>0.000000</td>\n",
       "      <td>0.000000</td>\n",
       "      <td>0.000000</td>\n",
       "      <td>0.000000</td>\n",
       "      <td>0.000000</td>\n",
       "      <td>2.000000</td>\n",
       "    </tr>\n",
       "    <tr>\n",
       "      <th>50%</th>\n",
       "      <td>76.000000</td>\n",
       "      <td>1.000000</td>\n",
       "      <td>2.00000</td>\n",
       "      <td>2.000000</td>\n",
       "      <td>0.000000</td>\n",
       "      <td>0.000000</td>\n",
       "      <td>0.000000</td>\n",
       "      <td>0.000000</td>\n",
       "      <td>0.000000</td>\n",
       "      <td>0.000000</td>\n",
       "      <td>0.000000</td>\n",
       "      <td>0.000000</td>\n",
       "      <td>0.000000</td>\n",
       "      <td>3.000000</td>\n",
       "    </tr>\n",
       "    <tr>\n",
       "      <th>75%</th>\n",
       "      <td>155.000000</td>\n",
       "      <td>2.000000</td>\n",
       "      <td>3.00000</td>\n",
       "      <td>2.000000</td>\n",
       "      <td>0.000000</td>\n",
       "      <td>0.000000</td>\n",
       "      <td>0.000000</td>\n",
       "      <td>0.000000</td>\n",
       "      <td>0.000000</td>\n",
       "      <td>0.000000</td>\n",
       "      <td>0.000000</td>\n",
       "      <td>0.000000</td>\n",
       "      <td>1.000000</td>\n",
       "      <td>4.000000</td>\n",
       "    </tr>\n",
       "    <tr>\n",
       "      <th>max</th>\n",
       "      <td>373.000000</td>\n",
       "      <td>4.000000</td>\n",
       "      <td>6.00000</td>\n",
       "      <td>4.000000</td>\n",
       "      <td>3.000000</td>\n",
       "      <td>2.000000</td>\n",
       "      <td>1.000000</td>\n",
       "      <td>6.000000</td>\n",
       "      <td>72.000000</td>\n",
       "      <td>18.000000</td>\n",
       "      <td>223.000000</td>\n",
       "      <td>8.000000</td>\n",
       "      <td>5.000000</td>\n",
       "      <td>10.000000</td>\n",
       "    </tr>\n",
       "  </tbody>\n",
       "</table>\n",
       "</div>"
      ],
      "text/plain": [
       "          lead_time  stays_in_weekend_nights  stays_in_week_nights  \\\n",
       "count  32412.000000             32412.000000           32412.00000   \n",
       "mean      97.587869                 0.867888               2.34009   \n",
       "std       86.507146                 0.853394               1.37517   \n",
       "min        0.000000                 0.000000               0.00000   \n",
       "25%       23.000000                 0.000000               1.00000   \n",
       "50%       76.000000                 1.000000               2.00000   \n",
       "75%      155.000000                 2.000000               3.00000   \n",
       "max      373.000000                 4.000000               6.00000   \n",
       "\n",
       "             adults      children        babies  is_repeated_guest  \\\n",
       "count  32412.000000  32412.000000  32412.000000       32412.000000   \n",
       "mean       1.858602      0.083765      0.005523           0.031377   \n",
       "std        0.489341      0.343470      0.075757           0.174338   \n",
       "min        0.000000      0.000000      0.000000           0.000000   \n",
       "25%        2.000000      0.000000      0.000000           0.000000   \n",
       "50%        2.000000      0.000000      0.000000           0.000000   \n",
       "75%        2.000000      0.000000      0.000000           0.000000   \n",
       "max        4.000000      3.000000      2.000000           1.000000   \n",
       "\n",
       "       previous_cancellations  previous_bookings_not_canceled  \\\n",
       "count            32412.000000                    32412.000000   \n",
       "mean                 0.011601                        0.171418   \n",
       "std                  0.180473                        1.875170   \n",
       "min                  0.000000                        0.000000   \n",
       "25%                  0.000000                        0.000000   \n",
       "50%                  0.000000                        0.000000   \n",
       "75%                  0.000000                        0.000000   \n",
       "max                  6.000000                       72.000000   \n",
       "\n",
       "       booking_changes  days_in_waiting_list  required_car_parking_spaces  \\\n",
       "count     32412.000000          32412.000000                 32412.000000   \n",
       "mean          0.216741              0.262341                     0.046248   \n",
       "std           0.640551              4.733027                     0.219367   \n",
       "min           0.000000              0.000000                     0.000000   \n",
       "25%           0.000000              0.000000                     0.000000   \n",
       "50%           0.000000              0.000000                     0.000000   \n",
       "75%           0.000000              0.000000                     0.000000   \n",
       "max          18.000000            223.000000                     8.000000   \n",
       "\n",
       "       total_of_special_requests  total_nights  \n",
       "count               32412.000000  32412.000000  \n",
       "mean                    0.657781      3.207979  \n",
       "std                     0.834341      1.738683  \n",
       "min                     0.000000      1.000000  \n",
       "25%                     0.000000      2.000000  \n",
       "50%                     0.000000      3.000000  \n",
       "75%                     1.000000      4.000000  \n",
       "max                     5.000000     10.000000  "
      ]
     },
     "metadata": {},
     "output_type": "display_data"
    },
    {
     "name": "stdout",
     "output_type": "stream",
     "text": [
      "\n"
     ]
    }
   ],
   "source": [
    "# Список количественных данных\n",
    "numeric_columns = [\n",
    "    'lead_time',\n",
    "    'stays_in_weekend_nights',\n",
    "    'stays_in_week_nights',\n",
    "    'adults',\n",
    "    'children',\n",
    "    'babies',\n",
    "    'is_repeated_guest',\n",
    "    'previous_cancellations',\n",
    "    'previous_bookings_not_canceled',\n",
    "    'booking_changes',\n",
    "    'days_in_waiting_list',\n",
    "    'required_car_parking_spaces',\n",
    "    'total_of_special_requests',\n",
    "    'total_nights'\n",
    "]\n",
    "\n",
    "# Отображаем основные характеристики количественных данных для всех датасетов.\n",
    "for key, val in hotel.items(): \n",
    "    display(val[numeric_columns].describe())\n",
    "    print() "
   ]
  },
  {
   "cell_type": "code",
   "execution_count": 12,
   "metadata": {
    "scrolled": false
   },
   "outputs": [
    {
     "data": {
      "image/png": "[encoded data removed]",
      "text/plain": [
       "<Figure size 576x576 with 1 Axes>"
      ]
     },
     "metadata": {
      "needs_background": "light"
     },
     "output_type": "display_data"
    },
    {
     "data": {
      "image/png": "[encoded data removed]",
      "text/plain": [
       "<Figure size 576x576 with 1 Axes>"
      ]
     },
     "metadata": {
      "needs_background": "light"
     },
     "output_type": "display_data"
    },
    {
     "data": {
      "image/png": "[encoded data removed]",
      "text/plain": [
       "<Figure size 576x576 with 1 Axes>"
      ]
     },
     "metadata": {
      "needs_background": "light"
     },
     "output_type": "display_data"
    },
    {
     "data": {
      "image/png": "[encoded data removed]",
      "text/plain": [
       "<Figure size 576x576 with 1 Axes>"
      ]
     },
     "metadata": {
      "needs_background": "light"
     },
     "output_type": "display_data"
    },
    {
     "data": {
      "image/png": "[encoded data removed]",
      "text/plain": [
       "<Figure size 576x576 with 1 Axes>"
      ]
     },
     "metadata": {
      "needs_background": "light"
     },
     "output_type": "display_data"
    },
    {
     "data": {
      "image/png": "[encoded data removed]",
      "text/plain": [
       "<Figure size 576x576 with 1 Axes>"
      ]
     },
     "metadata": {
      "needs_background": "light"
     },
     "output_type": "display_data"
    },
    {
     "data": {
      "image/png": "[encoded data removed]",
      "text/plain": [
       "<Figure size 576x576 with 1 Axes>"
      ]
     },
     "metadata": {
      "needs_background": "light"
     },
     "output_type": "display_data"
    },
    {
     "data": {
      "image/png": "[encoded data removed]",
      "text/plain": [
       "<Figure size 576x576 with 1 Axes>"
      ]
     },
     "metadata": {
      "needs_background": "light"
     },
     "output_type": "display_data"
    },
    {
     "data": {
      "image/png": "[encoded data removed]",
      "text/plain": [
       "<Figure size 576x576 with 1 Axes>"
      ]
     },
     "metadata": {
      "needs_background": "light"
     },
     "output_type": "display_data"
    },
    {
     "data": {
      "image/png": "[encoded data removed]",
      "text/plain": [
       "<Figure size 576x576 with 1 Axes>"
      ]
     },
     "metadata": {
      "needs_background": "light"
     },
     "output_type": "display_data"
    },
    {
     "data": {
      "image/png": "[encoded data removed]",
      "text/plain": [
       "<Figure size 576x576 with 1 Axes>"
      ]
     },
     "metadata": {
      "needs_background": "light"
     },
     "output_type": "display_data"
    },
    {
     "data": {
      "image/png": "[encoded data removed]",
      "text/plain": [
       "<Figure size 576x576 with 1 Axes>"
      ]
     },
     "metadata": {
      "needs_background": "light"
     },
     "output_type": "display_data"
    },
    {
     "data": {
      "image/png": "[encoded data removed]",
      "text/plain": [
       "<Figure size 576x576 with 1 Axes>"
      ]
     },
     "metadata": {
      "needs_background": "light"
     },
     "output_type": "display_data"
    },
    {
     "data": {
      "image/png": "[encoded data removed]",
      "text/plain": [
       "<Figure size 576x576 with 1 Axes>"
      ]
     },
     "metadata": {
      "needs_background": "light"
     },
     "output_type": "display_data"
    }
   ],
   "source": [
    "# Строим гистограммы по колонкам. \n",
    "for column in numeric_columns: \n",
    "        hotel_train.plot(\n",
    "            y=column, \n",
    "            title=column, \n",
    "            kind='hist', \n",
    "            figsize=(8, 8),\n",
    "            grid=True\n",
    "        )\n",
    "        plt.xlabel(key)\n",
    "        plt.show()"
   ]
  },
  {
   "cell_type": "code",
   "execution_count": 13,
   "metadata": {},
   "outputs": [],
   "source": [
    "# Считаем 0.95 и .099 квантиль.\n",
    "\n",
    "data = []\n",
    "quantile_95 = ['0.95-квантиль']\n",
    "quantile_99 = ['0.99-квантиль']\n",
    "\n",
    "for column in numeric_columns: \n",
    "    quantile_95.append(hotel_train[column].quantile(0.95))\n",
    "    quantile_99.append(hotel_train[column].quantile(0.99))\n",
    "\n",
    "data.append(quantile_95)\n",
    "data.append(quantile_99)"
   ]
  },
  {
   "cell_type": "code",
   "execution_count": 14,
   "metadata": {},
   "outputs": [
    {
     "data": {
      "text/html": [
       "<div>\n",
       "<style scoped>\n",
       "    .dataframe tbody tr th:only-of-type {\n",
       "        vertical-align: middle;\n",
       "    }\n",
       "\n",
       "    .dataframe tbody tr th {\n",
       "        vertical-align: top;\n",
       "    }\n",
       "\n",
       "    .dataframe thead th {\n",
       "        text-align: right;\n",
       "    }\n",
       "</style>\n",
       "<table border=\"1\" class=\"dataframe\">\n",
       "  <thead>\n",
       "    <tr style=\"text-align: right;\">\n",
       "      <th></th>\n",
       "      <th>quantile</th>\n",
       "      <th>lead_time</th>\n",
       "      <th>stays_in_weekend_nights</th>\n",
       "      <th>stays_in_week_nights</th>\n",
       "      <th>adults</th>\n",
       "      <th>children</th>\n",
       "      <th>babies</th>\n",
       "      <th>is_repeated_guest</th>\n",
       "      <th>previous_cancellations</th>\n",
       "      <th>previous_bookings_not_canceled</th>\n",
       "      <th>booking_changes</th>\n",
       "      <th>days_in_waiting_list</th>\n",
       "      <th>required_car_parking_spaces</th>\n",
       "      <th>total_of_special_requests</th>\n",
       "      <th>total_nights</th>\n",
       "    </tr>\n",
       "  </thead>\n",
       "  <tbody>\n",
       "    <tr>\n",
       "      <th>0</th>\n",
       "      <td>0.95-квантиль</td>\n",
       "      <td>301.0</td>\n",
       "      <td>2.0</td>\n",
       "      <td>5.0</td>\n",
       "      <td>2.0</td>\n",
       "      <td>1.0</td>\n",
       "      <td>0.0</td>\n",
       "      <td>0.0</td>\n",
       "      <td>1.0</td>\n",
       "      <td>0.0</td>\n",
       "      <td>1.0</td>\n",
       "      <td>0.0</td>\n",
       "      <td>1.0</td>\n",
       "      <td>2.0</td>\n",
       "      <td>7.0</td>\n",
       "    </tr>\n",
       "    <tr>\n",
       "      <th>1</th>\n",
       "      <td>0.99-квантиль</td>\n",
       "      <td>349.0</td>\n",
       "      <td>2.0</td>\n",
       "      <td>5.0</td>\n",
       "      <td>3.0</td>\n",
       "      <td>2.0</td>\n",
       "      <td>0.0</td>\n",
       "      <td>1.0</td>\n",
       "      <td>1.0</td>\n",
       "      <td>2.0</td>\n",
       "      <td>3.0</td>\n",
       "      <td>96.0</td>\n",
       "      <td>1.0</td>\n",
       "      <td>3.0</td>\n",
       "      <td>8.0</td>\n",
       "    </tr>\n",
       "  </tbody>\n",
       "</table>\n",
       "</div>"
      ],
      "text/plain": [
       "        quantile  lead_time  stays_in_weekend_nights  stays_in_week_nights  \\\n",
       "0  0.95-квантиль      301.0                      2.0                   5.0   \n",
       "1  0.99-квантиль      349.0                      2.0                   5.0   \n",
       "\n",
       "   adults  children  babies  is_repeated_guest  previous_cancellations  \\\n",
       "0     2.0       1.0     0.0                0.0                     1.0   \n",
       "1     3.0       2.0     0.0                1.0                     1.0   \n",
       "\n",
       "   previous_bookings_not_canceled  booking_changes  days_in_waiting_list  \\\n",
       "0                             0.0              1.0                   0.0   \n",
       "1                             2.0              3.0                  96.0   \n",
       "\n",
       "   required_car_parking_spaces  total_of_special_requests  total_nights  \n",
       "0                          1.0                        2.0           7.0  \n",
       "1                          1.0                        3.0           8.0  "
      ]
     },
     "execution_count": 14,
     "metadata": {},
     "output_type": "execute_result"
    }
   ],
   "source": [
    "columns = [\n",
    "    'quantile',\n",
    "    'lead_time',\n",
    "    'stays_in_weekend_nights',\n",
    "    'stays_in_week_nights',\n",
    "    'adults',\n",
    "    'children',\n",
    "    'babies',\n",
    "    'is_repeated_guest',\n",
    "    'previous_cancellations',\n",
    "    'previous_bookings_not_canceled',\n",
    "    'booking_changes',\n",
    "    'days_in_waiting_list',\n",
    "    'required_car_parking_spaces',\n",
    "    'total_of_special_requests',\n",
    "    'total_nights'\n",
    "]\n",
    "# Отображаем квантили.\n",
    "pd.DataFrame(data=data, columns=columns)"
   ]
  },
  {
   "cell_type": "code",
   "execution_count": 15,
   "metadata": {},
   "outputs": [],
   "source": [
    "# Убираем выбросы.\n",
    "for key, val in hotel.items():\n",
    "    val.loc[val['adults'] == 0, 'adults'] = val['adults'].median()\n",
    "    val.loc[val['required_car_parking_spaces'] > 1, 'required_car_parking_spaces'] = 1"
   ]
  },
  {
   "cell_type": "markdown",
   "metadata": {},
   "source": [
    "#### Общий комментарий по анализу"
   ]
  },
  {
   "cell_type": "markdown",
   "metadata": {},
   "source": [
    "- id – номер записи, для ML и исследовательского анализа не нужен.  \n",
    "- adults – значения от 0 до 4, 0 постояльцев быть не может, заменил на\n",
    "медианное значение, 2 самое преобладающее значение.\n",
    "- arrival_date_year – два значения для train (2015, 2016) и в test одно\n",
    "– 2017, для ML думаю нецелесообразно.\n",
    "- arrival_date_month  – полный набор месяцев есть только для 2016 года,\n",
    "для 2017 тоже нет полного года, для анализа окупаемости придется генерировать\n",
    "данные.\n",
    "- arrival_date_week_number – полностью коррелируются с\n",
    "arrival_date_month, для ML думаю нецелесообразно. \n",
    "- arrival_date_day_of_month – для ML думаю нецелесообразно.  \n",
    "- babies – есть выброс максимальное значение 10, но .99 квантиль\n",
    "показывает 0, для ML думаю нецелесообразно, очень мало записей мене 1% имеют\n",
    "значения выше 0.\n",
    "- booking_changes – изменения обычно или вообще нет или одно, есть явный\n",
    "выброс в максимальном значении, предлагаю заменить их на 3, для ML не\n",
    "применима, т.к. этот параметр может менять до окончательного заселения или\n",
    "отмены брони.\n",
    "- children – обычно или их нет реже значительно реже 1 максимальное\n",
    "значение 3.\n",
    "- country – очень много значений, для ML думаю нецелесообразно, можно\n",
    "конечно поделить на регионы Азия, Европа и т.д.\n",
    "- customer_type – все хорошо не явных дубликатов нет.\n",
    "- days_in_waiting_list – обычно ожидание составляет 0 дней 0.95,\n",
    "квантиль, для ML не применима, т.к. этот параметр не зависит от клиента, а\n",
    "депозит надо запрашивать при заполнении.\n",
    "- distribution_channel – все хорошо, неявных дубликатов нет.\n",
    "- is_canceled – ключевой параметр значения 0 и 1, 63% на 37% не сильный\n",
    "дисбаланс.\n",
    "- is_repeated_guest – 0.95 квантиль 0. Для ML думаю нецелесообразно. В\n",
    "данных для теста 0 и для 0.99 квантиля.    \n",
    "- lead_time – отель довольно часто бронируют заранее.\n",
    "- meal – есть дубликаты из-за лишних пробелов, исправил.\n",
    "- previous_bookings_not_canceled – В отель, в основном, приезжают новые\n",
    "гости, 0.95 квантиль 0 а 0.99 всего 2, для ML думаю нецелесообразно, т.к.\n",
    "задача найти, кто отменит запись.  \n",
    "- previous_cancellations – на первый взгляд очень важный параметр, кто\n",
    "уже обменял, может отменить еще раз, но записей слишком мало с этим\n",
    "параметром.\n",
    "- required_car_parking_spaces – есть выбросы (8 мест), но такого\n",
    "количества не может быть, требуется не боле одного места это коррелируется с\n",
    "количеством взрослых 2 человека, присвоил всем значениям выше одного 1. \n",
    "- reserved_room_type – убрал лишние пробелы. \n",
    "- stays_in_weekend_nights – в пределах нормы, данные коррелируются с\n",
    "общим количеством дней. Нулевые значения возможны.\n",
    "- stays_in_week_nights – в пределах нормы, данные коррелируются с общим\n",
    "количеством дней. Нулевые значения возможны.\n",
    "- total_nights – максимальное значение 10 дней.\n",
    "- total_of_special_requests – ничего подозрительного не нашел."
   ]
  },
  {
   "cell_type": "code",
   "execution_count": 17,
   "metadata": {},
   "outputs": [
    {
     "data": {
      "text/plain": [
       "0    65229\n",
       "dtype: int64"
      ]
     },
     "execution_count": 17,
     "metadata": {},
     "output_type": "execute_result"
    }
   ],
   "source": [
    "checking_days = pd.Series(\n",
    "    data=hotel_train['total_nights'] - hotel_train['stays_in_weekend_nights'] - hotel_train['stays_in_week_nights'],\n",
    ")\n",
    "\n",
    "checking_days.value_counts()"
   ]
  },
  {
   "cell_type": "markdown",
   "metadata": {},
   "source": [
    "### Формулировка ML-задачи на основе бизнес-задачи"
   ]
  },
  {
   "cell_type": "code",
   "execution_count": 18,
   "metadata": {},
   "outputs": [],
   "source": [
    "# Объявляем функции seasonal_coefficient с параметром month,\n",
    "# которая возвращает следующие сезонный коэффициент.\n",
    "\n",
    "def seasonal_coefficient(month):\n",
    "    try:                                    \n",
    "        if month in ['December', 'January', 'February']:\n",
    "            return 1\n",
    "        elif month in ['September', 'October', 'November', 'March', 'April', 'May']:\n",
    "            return 1.2\n",
    "        elif month in ['July', 'August', 'June']:\n",
    "            return 1.4\n",
    "        else:\n",
    "            return 1\n",
    "    except:\n",
    "        return 1"
   ]
  },
  {
   "cell_type": "code",
   "execution_count": 19,
   "metadata": {},
   "outputs": [],
   "source": [
    "# Применяем функцию для вычисления сезонного коэффициента.\n",
    "hotel_train['seasonal_coefficient'] = hotel_train['arrival_date_month'].apply(seasonal_coefficient)"
   ]
  },
  {
   "cell_type": "code",
   "execution_count": 20,
   "metadata": {},
   "outputs": [],
   "source": [
    "# Объявляем функции profit_without_deposit с параметром data, per_night, serviceh,\n",
    "# которая вычисляет прибыль(убыток) для каждой записи.\n",
    "\n",
    "def profit_without_deposit(data, per_night, service):\n",
    "    \n",
    "    data['profit'] = data['seasonal_coefficient'] * (\n",
    "        (1 - data['is_canceled']) * \n",
    "        (data['total_nights'] * data['reserved_room_type'].apply(per_night.get) \n",
    "                                 - ((data['total_nights'] + 1) // 2) * data['reserved_room_type'].apply(service.get)) - \n",
    "        (data['is_canceled']) * (data['reserved_room_type'].apply(per_night.get) + data['reserved_room_type'].apply(service.get)) \n",
    "    )"
   ]
  },
  {
   "cell_type": "code",
   "execution_count": 21,
   "metadata": {},
   "outputs": [],
   "source": [
    "# Словарь тип номера-стоимость. \n",
    "per_night = {              \n",
    "    'A': 1000,\n",
    "    'B': 800,\n",
    "    'C': 600, \n",
    "    'D': 550, \n",
    "    'E': 500, \n",
    "    'F': 450, \n",
    "    'G': 350\n",
    "}"
   ]
  },
  {
   "cell_type": "code",
   "execution_count": 22,
   "metadata": {},
   "outputs": [],
   "source": [
    "# Словарь тип номера-обслуживание/ \n",
    "service = {              \n",
    "    'A': 400,\n",
    "    'B': 350,\n",
    "    'C': 350, \n",
    "    'D': 150, \n",
    "    'E': 150, \n",
    "    'F': 150, \n",
    "    'G': 150\n",
    "}"
   ]
  },
  {
   "cell_type": "code",
   "execution_count": 23,
   "metadata": {},
   "outputs": [],
   "source": [
    "# Применяем функцию для вычисления прибыли(убытки).\n",
    "profit_without_deposit(hotel_train, per_night, service)"
   ]
  },
  {
   "cell_type": "code",
   "execution_count": 24,
   "metadata": {},
   "outputs": [
    {
     "data": {
      "text/html": [
       "<div>\n",
       "<style scoped>\n",
       "    .dataframe tbody tr th:only-of-type {\n",
       "        vertical-align: middle;\n",
       "    }\n",
       "\n",
       "    .dataframe tbody tr th {\n",
       "        vertical-align: top;\n",
       "    }\n",
       "\n",
       "    .dataframe thead th {\n",
       "        text-align: right;\n",
       "    }\n",
       "</style>\n",
       "<table border=\"1\" class=\"dataframe\">\n",
       "  <thead>\n",
       "    <tr style=\"text-align: right;\">\n",
       "      <th></th>\n",
       "      <th>arrival_date_month</th>\n",
       "      <th>reserved_room_type</th>\n",
       "      <th>total_nights</th>\n",
       "      <th>profit</th>\n",
       "    </tr>\n",
       "  </thead>\n",
       "  <tbody>\n",
       "    <tr>\n",
       "      <th>0</th>\n",
       "      <td>July</td>\n",
       "      <td>A</td>\n",
       "      <td>1</td>\n",
       "      <td>840.0</td>\n",
       "    </tr>\n",
       "    <tr>\n",
       "      <th>1</th>\n",
       "      <td>July</td>\n",
       "      <td>A</td>\n",
       "      <td>2</td>\n",
       "      <td>2240.0</td>\n",
       "    </tr>\n",
       "    <tr>\n",
       "      <th>2</th>\n",
       "      <td>July</td>\n",
       "      <td>C</td>\n",
       "      <td>2</td>\n",
       "      <td>1190.0</td>\n",
       "    </tr>\n",
       "    <tr>\n",
       "      <th>3</th>\n",
       "      <td>July</td>\n",
       "      <td>C</td>\n",
       "      <td>2</td>\n",
       "      <td>1190.0</td>\n",
       "    </tr>\n",
       "    <tr>\n",
       "      <th>4</th>\n",
       "      <td>July</td>\n",
       "      <td>A</td>\n",
       "      <td>3</td>\n",
       "      <td>-1960.0</td>\n",
       "    </tr>\n",
       "    <tr>\n",
       "      <th>...</th>\n",
       "      <td>...</td>\n",
       "      <td>...</td>\n",
       "      <td>...</td>\n",
       "      <td>...</td>\n",
       "    </tr>\n",
       "    <tr>\n",
       "      <th>65224</th>\n",
       "      <td>December</td>\n",
       "      <td>D</td>\n",
       "      <td>6</td>\n",
       "      <td>2850.0</td>\n",
       "    </tr>\n",
       "    <tr>\n",
       "      <th>65225</th>\n",
       "      <td>December</td>\n",
       "      <td>D</td>\n",
       "      <td>5</td>\n",
       "      <td>2300.0</td>\n",
       "    </tr>\n",
       "    <tr>\n",
       "      <th>65226</th>\n",
       "      <td>December</td>\n",
       "      <td>D</td>\n",
       "      <td>6</td>\n",
       "      <td>2850.0</td>\n",
       "    </tr>\n",
       "    <tr>\n",
       "      <th>65227</th>\n",
       "      <td>December</td>\n",
       "      <td>A</td>\n",
       "      <td>7</td>\n",
       "      <td>5400.0</td>\n",
       "    </tr>\n",
       "    <tr>\n",
       "      <th>65228</th>\n",
       "      <td>December</td>\n",
       "      <td>A</td>\n",
       "      <td>7</td>\n",
       "      <td>5400.0</td>\n",
       "    </tr>\n",
       "  </tbody>\n",
       "</table>\n",
       "<p>65229 rows × 4 columns</p>\n",
       "</div>"
      ],
      "text/plain": [
       "      arrival_date_month reserved_room_type  total_nights  profit\n",
       "0                   July                  A             1   840.0\n",
       "1                   July                  A             2  2240.0\n",
       "2                   July                  C             2  1190.0\n",
       "3                   July                  C             2  1190.0\n",
       "4                   July                  A             3 -1960.0\n",
       "...                  ...                ...           ...     ...\n",
       "65224           December                  D             6  2850.0\n",
       "65225           December                  D             5  2300.0\n",
       "65226           December                  D             6  2850.0\n",
       "65227           December                  A             7  5400.0\n",
       "65228           December                  A             7  5400.0\n",
       "\n",
       "[65229 rows x 4 columns]"
      ]
     },
     "execution_count": 24,
     "metadata": {},
     "output_type": "execute_result"
    }
   ],
   "source": [
    "# Проверка работы функции\n",
    "hotel_train[['arrival_date_month',  'reserved_room_type', 'total_nights', 'profit']]"
   ]
  },
  {
   "cell_type": "code",
   "execution_count": 25,
   "metadata": {},
   "outputs": [
    {
     "data": {
      "text/plain": [
       "47684530.0"
      ]
     },
     "execution_count": 25,
     "metadata": {},
     "output_type": "execute_result"
    }
   ],
   "source": [
    "# Вычисляем прибыль для 2016 года \n",
    "hotel_train.loc[hotel_train['arrival_date_year'] == 2016, 'profit'].sum()"
   ]
  },
  {
   "cell_type": "code",
   "execution_count": 26,
   "metadata": {},
   "outputs": [
    {
     "data": {
      "text/plain": [
       "-25474070.0"
      ]
     },
     "execution_count": 26,
     "metadata": {},
     "output_type": "execute_result"
    }
   ],
   "source": [
    "# Вычисляем убыток от отмены брони для 2016 год.\n",
    "hotel_train.loc[(hotel_train['arrival_date_year'] == 2016) & (hotel_train['profit'] < 0), 'profit'].sum()"
   ]
  },
  {
   "cell_type": "code",
   "execution_count": 27,
   "metadata": {},
   "outputs": [],
   "source": [
    "# Делаем bootstrap.\n",
    "state = np.random.RandomState(12345)\n",
    "values = []\n",
    "for i in range(1000): \n",
    "    subsample = hotel_train.sample(\n",
    "            47000, \n",
    "            replace=True, \n",
    "            random_state=state\n",
    "        )\n",
    "    values.append(subsample['profit'].sum())\n",
    "values = pd.Series(values)"
   ]
  },
  {
   "cell_type": "code",
   "execution_count": 28,
   "metadata": {},
   "outputs": [
    {
     "name": "stdout",
     "output_type": "stream",
     "text": [
      "Среднее по 1000 выборкам 46575723.74\n"
     ]
    }
   ],
   "source": [
    "print(f'Среднее по 1000 выборкам {values.mean()}')"
   ]
  },
  {
   "cell_type": "code",
   "execution_count": 29,
   "metadata": {
    "scrolled": true
   },
   "outputs": [
    {
     "name": "stdout",
     "output_type": "stream",
     "text": [
      "0.05-квантиль по 1000 выборкам 45754858.0\n"
     ]
    }
   ],
   "source": [
    "print(f'0.05-квантиль по 1000 выборкам {values.quantile(0.05)}')"
   ]
  },
  {
   "cell_type": "code",
   "execution_count": 30,
   "metadata": {},
   "outputs": [
    {
     "name": "stdout",
     "output_type": "stream",
     "text": [
      "0.95-квантиль по 1000 выборкам 45901329.05\n"
     ]
    }
   ],
   "source": [
    "print(f'0.95-квантиль по 1000 выборкам {values.quantile(0.095)}')"
   ]
  },
  {
   "cell_type": "code",
   "execution_count": 31,
   "metadata": {},
   "outputs": [
    {
     "data": {
      "image/png": "[encoded data removed]",
      "text/plain": [
       "<Figure size 648x648 with 1 Axes>"
      ]
     },
     "metadata": {
      "needs_background": "light"
     },
     "output_type": "display_data"
    }
   ],
   "source": [
    "# Строим график распределения\n",
    "plt.subplots(figsize=(9, 9))\n",
    "plt.title('Оценка прибыли', fontsize=16)\n",
    "sns.histplot(      # гистограммы плотности\n",
    "            values, \n",
    "            kde=True,\n",
    "            stat=\"density\", \n",
    "            linewidth=1)       \n",
    "plt.grid(True)\n",
    "plt.show()"
   ]
  },
  {
   "cell_type": "markdown",
   "metadata": {},
   "source": [
    "**Вывод** \n",
    "Сеть отелей теряет существенные чать прибыли (34% недополученой прибыли) из-за отказов. "
   ]
  },
  {
   "cell_type": "markdown",
   "metadata": {},
   "source": [
    "### Разработка модели ML"
   ]
  },
  {
   "cell_type": "markdown",
   "metadata": {},
   "source": [
    "#### Подготовка данных для ML"
   ]
  },
  {
   "cell_type": "code",
   "execution_count": 32,
   "metadata": {},
   "outputs": [
    {
     "data": {
      "text/plain": [
       "0    0.631391\n",
       "1    0.368609\n",
       "Name: is_canceled, dtype: float64"
      ]
     },
     "execution_count": 32,
     "metadata": {},
     "output_type": "execute_result"
    }
   ],
   "source": [
    "# Вычисляем баланс классов \n",
    "hotel_train['is_canceled'].value_counts(normalize=True)"
   ]
  },
  {
   "cell_type": "code",
   "execution_count": 33,
   "metadata": {},
   "outputs": [],
   "source": [
    "features_columns = [ # Список признаков\n",
    "    'lead_time',                       \n",
    "    'adults',                          \n",
    "    'children',                        \n",
    "    'meal',                            \n",
    "    'distribution_channel',            \n",
    "    'previous_cancellations',          \n",
    "    'reserved_room_type',              \n",
    "    'customer_type',                   \n",
    "    'required_car_parking_spaces',     \n",
    "    'total_of_special_requests',       \n",
    "    'total_nights'                    \n",
    "]\n",
    "\n",
    "features_train = hotel_train[features_columns]  \n",
    "\n",
    "features_train = pd.get_dummies( # OHE признаков на тренировочных данных\n",
    "    features_train,\n",
    "    drop_first=True,\n",
    "    columns=['meal', 'distribution_channel', 'customer_type', 'reserved_room_type']\n",
    ")"
   ]
  },
  {
   "cell_type": "code",
   "execution_count": 34,
   "metadata": {},
   "outputs": [
    {
     "name": "stdout",
     "output_type": "stream",
     "text": [
      "<class 'pandas.core.frame.DataFrame'>\n",
      "RangeIndex: 65229 entries, 0 to 65228\n",
      "Data columns (total 22 columns):\n",
      " #   Column                         Non-Null Count  Dtype  \n",
      "---  ------                         --------------  -----  \n",
      " 0   lead_time                      65229 non-null  float64\n",
      " 1   adults                         65229 non-null  float64\n",
      " 2   children                       65229 non-null  float64\n",
      " 3   previous_cancellations         65229 non-null  int64  \n",
      " 4   required_car_parking_spaces    65229 non-null  int64  \n",
      " 5   total_of_special_requests      65229 non-null  int64  \n",
      " 6   total_nights                   65229 non-null  int64  \n",
      " 7   meal_FB                        65229 non-null  uint8  \n",
      " 8   meal_HB                        65229 non-null  uint8  \n",
      " 9   meal_SC                        65229 non-null  uint8  \n",
      " 10  distribution_channel_Direct    65229 non-null  uint8  \n",
      " 11  distribution_channel_GDS       65229 non-null  uint8  \n",
      " 12  distribution_channel_TA/TO     65229 non-null  uint8  \n",
      " 13  customer_type_Group            65229 non-null  uint8  \n",
      " 14  customer_type_Transient        65229 non-null  uint8  \n",
      " 15  customer_type_Transient-Party  65229 non-null  uint8  \n",
      " 16  reserved_room_type_B           65229 non-null  uint8  \n",
      " 17  reserved_room_type_C           65229 non-null  uint8  \n",
      " 18  reserved_room_type_D           65229 non-null  uint8  \n",
      " 19  reserved_room_type_E           65229 non-null  uint8  \n",
      " 20  reserved_room_type_F           65229 non-null  uint8  \n",
      " 21  reserved_room_type_G           65229 non-null  uint8  \n",
      "dtypes: float64(3), int64(4), uint8(15)\n",
      "memory usage: 4.4 MB\n"
     ]
    }
   ],
   "source": [
    "features_train.info()"
   ]
  },
  {
   "cell_type": "code",
   "execution_count": 35,
   "metadata": {},
   "outputs": [],
   "source": [
    "target_train = hotel_train['is_canceled'] # Целевой признак тренеровочный"
   ]
  },
  {
   "cell_type": "code",
   "execution_count": 36,
   "metadata": {},
   "outputs": [],
   "source": [
    "features_test = hotel_test[features_columns] \n",
    "\n",
    "features_test = pd.get_dummies( # OHE признаков на тестовых данных\n",
    "    features_test,\n",
    "    drop_first=True,\n",
    "    columns=['meal', 'distribution_channel', 'customer_type', 'reserved_room_type']\n",
    ")"
   ]
  },
  {
   "cell_type": "code",
   "execution_count": 37,
   "metadata": {},
   "outputs": [],
   "source": [
    "target_test = hotel_test['is_canceled'] # Целевой признак тестовый"
   ]
  },
  {
   "cell_type": "code",
   "execution_count": 38,
   "metadata": {},
   "outputs": [],
   "source": [
    "# Функция для вывода значений Precision, Recall, F1-мера, AUC-ROC по обученной модели\n",
    "# со следующими параметрами:\n",
    "#    - значения признаков;\n",
    "#    - значения целевого признака;\n",
    "#    - обученная модель. \n",
    "\n",
    "def print_metrics(features, target, model): \n",
    "    \n",
    "    predicted = model.predict(features)\n",
    "    probabilities_one = model.predict_proba(features)[:, 1] \n",
    "\n",
    "    print(f'Precision: {precision_score(target, predicted):.3f}')\n",
    "    print(f'Recall: {recall_score(target, predicted):.3f}')\n",
    "    print(f'F1-мера: {f1_score(target, predicted):.3f}')\n",
    "    print(f'AUC-ROC: {roc_auc_score(target, probabilities_one): .3f}')"
   ]
  },
  {
   "cell_type": "markdown",
   "metadata": {},
   "source": [
    "#### Логистическая регрессия"
   ]
  },
  {
   "cell_type": "code",
   "execution_count": 39,
   "metadata": {},
   "outputs": [],
   "source": [
    "parameters = {'max_iter': [1000]} # Список параметров."
   ]
  },
  {
   "cell_type": "code",
   "execution_count": 40,
   "metadata": {},
   "outputs": [],
   "source": [
    "rf = LogisticRegression(random_state=12345, solver='liblinear', class_weight='balanced') # Постоянный гиперпараметры модели."
   ]
  },
  {
   "cell_type": "code",
   "execution_count": 41,
   "metadata": {},
   "outputs": [],
   "source": [
    "# Сетка гиперпараметров и параметры кросс-валидация.\n",
    "lr_model = GridSearchCV(rf, parameters, scoring='roc_auc', cv=6, n_jobs=-1)  "
   ]
  },
  {
   "cell_type": "code",
   "execution_count": 42,
   "metadata": {},
   "outputs": [
    {
     "name": "stdout",
     "output_type": "stream",
     "text": [
      "CPU times: user 2.13 s, sys: 502 ms, total: 2.63 s\n",
      "Wall time: 4.78 s\n"
     ]
    },
    {
     "data": {
      "text/plain": [
       "GridSearchCV(cv=6,\n",
       "             estimator=LogisticRegression(class_weight='balanced',\n",
       "                                          random_state=12345,\n",
       "                                          solver='liblinear'),\n",
       "             n_jobs=-1, param_grid={'max_iter': [1000]}, scoring='roc_auc')"
      ]
     },
     "execution_count": 42,
     "metadata": {},
     "output_type": "execute_result"
    }
   ],
   "source": [
    "%%time\n",
    "lr_model.fit(features_train, target_train) # Обучение логистической регрессии."
   ]
  },
  {
   "cell_type": "code",
   "execution_count": 43,
   "metadata": {},
   "outputs": [
    {
     "name": "stdout",
     "output_type": "stream",
     "text": [
      "Precision: 0.623\n",
      "Recall: 0.727\n",
      "F1-мера: 0.671\n",
      "AUC-ROC:  0.817\n"
     ]
    }
   ],
   "source": [
    "print_metrics(features_train, target_train, lr_model.best_estimator_) # Вычисляем метрики на тренеровочных данных."
   ]
  },
  {
   "cell_type": "code",
   "execution_count": 44,
   "metadata": {},
   "outputs": [
    {
     "name": "stdout",
     "output_type": "stream",
     "text": [
      "Precision: 0.589\n",
      "Recall: 0.697\n",
      "F1-мера: 0.638\n",
      "AUC-ROC:  0.768\n"
     ]
    }
   ],
   "source": [
    "print_metrics(features_test, target_test, lr_model.best_estimator_) # Вычисляем метрики на тестовых данных."
   ]
  },
  {
   "cell_type": "code",
   "execution_count": 45,
   "metadata": {},
   "outputs": [],
   "source": [
    "# Функция threshold_predict для подбора порога, для тренировочных данных и вывода значений Precision, Recall, F1-мера,  \n",
    "# вывода значений Precision, Recall, F1-мера, для тестовых со следующими параметрами:\n",
    "#    - обученная модель\n",
    "#    - значения признаков тренировочных данных;\n",
    "#    - значения целевого признака тренировочных данных;\n",
    "#    - значения признаков тестовых данных;\n",
    "#    - значения целевого признака тестовых данных. \n",
    "\n",
    "def threshold_predict(model, features_train, target_train, features_test, target_test):\n",
    "    probabilities_one_train = model.best_estimator_.predict_proba(features_train)[:, 1] \n",
    "\n",
    "    f1_best = 0\n",
    "    threshold_best = -1\n",
    "\n",
    "    for threshold in np.arange(0, 1.01, 0.01): # цикл со смещением порога\n",
    "        predicted_train = probabilities_one_train >= threshold  # \n",
    "        f1 = f1_score(target_train, predicted_train)\n",
    "        if f1 > f1_best:\n",
    "            f1_best = f1\n",
    "            threshold_best = threshold\n",
    "            \n",
    "    probabilities_one_test = model.best_estimator_.predict_proba(features_test)[:, 1] \n",
    "    precision = precision_score(target_test, probabilities_one_test > threshold_best) \n",
    "    recall = recall_score(target_test, probabilities_one_test > threshold_best)\n",
    "    f1 = f1_score(target_test, probabilities_one_test > threshold_best)  \n",
    "    \n",
    "    print(f'Лучшая f1-мера на тренировочных данных {f1_best:.3f}')\n",
    "    print('С подбором порога')   \n",
    "    print(f'Precision на тестовых: {precision:.3f}')\n",
    "    print(f'Recall на тестовых: {recall:.3f}')\n",
    "    print(f'F1-мера на тестовых: {f1:.3f}')"
   ]
  },
  {
   "cell_type": "code",
   "execution_count": 46,
   "metadata": {},
   "outputs": [
    {
     "name": "stdout",
     "output_type": "stream",
     "text": [
      "Лучшая f1-мера на тренировочных данных 0.685\n",
      "С подбором порога\n",
      "Precision на тестовых: 0.656\n",
      "Recall на тестовых: 0.624\n",
      "F1-мера на тестовых: 0.640\n"
     ]
    }
   ],
   "source": [
    "# Вычисление метрики с учетом подбора порога.\n",
    "threshold_predict(lr_model, features_train, target_train, features_test, target_test) "
   ]
  },
  {
   "cell_type": "code",
   "execution_count": null,
   "metadata": {},
   "outputs": [],
   "source": [
    "lr_model.best_estimator_."
   ]
  },
  {
   "cell_type": "markdown",
   "metadata": {},
   "source": [
    "#### Дерево решений"
   ]
  },
  {
   "cell_type": "code",
   "execution_count": 47,
   "metadata": {},
   "outputs": [],
   "source": [
    "parameters = { # Список параметров.\n",
    "    'max_depth': [4, 6, 8 , 10, 12, 14, 16],\n",
    "    'max_features': [4]\n",
    "}"
   ]
  },
  {
   "cell_type": "code",
   "execution_count": 48,
   "metadata": {},
   "outputs": [],
   "source": [
    "rf = DecisionTreeClassifier(random_state=12345, class_weight='balanced') # Постоянный гиперпараметры модели."
   ]
  },
  {
   "cell_type": "code",
   "execution_count": 49,
   "metadata": {},
   "outputs": [],
   "source": [
    "# Сетка гиперпараметров и параметры кросс-валидация.\n",
    "dtc_model = GridSearchCV(rf, parameters, scoring='roc_auc', cv=6, n_jobs=-1) "
   ]
  },
  {
   "cell_type": "code",
   "execution_count": 50,
   "metadata": {},
   "outputs": [
    {
     "name": "stdout",
     "output_type": "stream",
     "text": [
      "CPU times: user 2.51 s, sys: 6.43 ms, total: 2.52 s\n",
      "Wall time: 5.08 s\n"
     ]
    },
    {
     "data": {
      "text/plain": [
       "GridSearchCV(cv=6,\n",
       "             estimator=DecisionTreeClassifier(class_weight='balanced',\n",
       "                                              random_state=12345),\n",
       "             n_jobs=-1,\n",
       "             param_grid={'max_depth': [4, 6, 8, 10, 12, 14, 16],\n",
       "                         'max_features': [4]},\n",
       "             scoring='roc_auc')"
      ]
     },
     "execution_count": 50,
     "metadata": {},
     "output_type": "execute_result"
    }
   ],
   "source": [
    "%%time\n",
    "dtc_model.fit(features_train, target_train) # Обучение дерева решений."
   ]
  },
  {
   "cell_type": "code",
   "execution_count": 51,
   "metadata": {},
   "outputs": [
    {
     "data": {
      "text/plain": [
       "{'max_depth': 8, 'max_features': 4}"
      ]
     },
     "execution_count": 51,
     "metadata": {},
     "output_type": "execute_result"
    }
   ],
   "source": [
    "dtc_model.best_params_ # Лучшие гиперпараметры."
   ]
  },
  {
   "cell_type": "code",
   "execution_count": 52,
   "metadata": {},
   "outputs": [
    {
     "name": "stdout",
     "output_type": "stream",
     "text": [
      "Precision: 0.717\n",
      "Recall: 0.595\n",
      "F1-мера: 0.650\n",
      "AUC-ROC:  0.810\n"
     ]
    }
   ],
   "source": [
    "print_metrics(features_train, target_train, dtc_model.best_estimator_) # Вычисляем метрики на тренеровочных данных."
   ]
  },
  {
   "cell_type": "code",
   "execution_count": 53,
   "metadata": {},
   "outputs": [
    {
     "name": "stdout",
     "output_type": "stream",
     "text": [
      "Precision: 0.638\n",
      "Recall: 0.526\n",
      "F1-мера: 0.576\n",
      "AUC-ROC:  0.744\n"
     ]
    }
   ],
   "source": [
    "print_metrics(features_test, target_test, dtc_model.best_estimator_) # Вычисляем метрики на тестовых данных."
   ]
  },
  {
   "cell_type": "code",
   "execution_count": 54,
   "metadata": {},
   "outputs": [
    {
     "name": "stdout",
     "output_type": "stream",
     "text": [
      "Лучшая f1-мера на тренировочных данных 0.651\n",
      "С подбором порога\n",
      "Precision на тестовых: 0.604\n",
      "Recall на тестовых: 0.564\n",
      "F1-мера на тестовых: 0.583\n"
     ]
    }
   ],
   "source": [
    "# Вычисление метрики с учетом подбора порога.\n",
    "threshold_predict(dtc_model, features_train, target_train, features_test, target_test)"
   ]
  },
  {
   "cell_type": "markdown",
   "metadata": {},
   "source": [
    "#### Сучайный лес"
   ]
  },
  {
   "cell_type": "code",
   "execution_count": 55,
   "metadata": {},
   "outputs": [],
   "source": [
    "parameters = { # Список параметров.\n",
    "    'n_estimators': [100, 500, 1000],\n",
    "    'max_depth': [8, 16],\n",
    "    'max_features': [4]\n",
    "}"
   ]
  },
  {
   "cell_type": "code",
   "execution_count": 56,
   "metadata": {},
   "outputs": [],
   "source": [
    "rf = RandomForestClassifier(random_state=12345, class_weight='balanced') # Постоянный гиперпараметры модели."
   ]
  },
  {
   "cell_type": "code",
   "execution_count": 57,
   "metadata": {},
   "outputs": [],
   "source": [
    "rfc_model = GridSearchCV(rf, parameters, scoring='roc_auc', cv=6, n_jobs=-1) "
   ]
  },
  {
   "cell_type": "code",
   "execution_count": 58,
   "metadata": {},
   "outputs": [
    {
     "name": "stdout",
     "output_type": "stream",
     "text": [
      "CPU times: user 7min 47s, sys: 1.55 s, total: 7min 49s\n",
      "Wall time: 11min 4s\n"
     ]
    },
    {
     "data": {
      "text/plain": [
       "GridSearchCV(cv=6,\n",
       "             estimator=RandomForestClassifier(class_weight='balanced',\n",
       "                                              random_state=12345),\n",
       "             n_jobs=-1,\n",
       "             param_grid={'max_depth': [8, 16], 'max_features': [4],\n",
       "                         'n_estimators': [100, 500, 1000]},\n",
       "             scoring='roc_auc')"
      ]
     },
     "execution_count": 58,
     "metadata": {},
     "output_type": "execute_result"
    }
   ],
   "source": [
    "%%time\n",
    "rfc_model.fit(features_train, target_train) # Обучение случайного леса."
   ]
  },
  {
   "cell_type": "code",
   "execution_count": 59,
   "metadata": {},
   "outputs": [
    {
     "data": {
      "text/plain": [
       "{'max_depth': 8, 'max_features': 4, 'n_estimators': 1000}"
      ]
     },
     "execution_count": 59,
     "metadata": {},
     "output_type": "execute_result"
    }
   ],
   "source": [
    "rfc_model.best_params_ # Лучшие гиперпараметры."
   ]
  },
  {
   "cell_type": "code",
   "execution_count": 60,
   "metadata": {},
   "outputs": [
    {
     "name": "stdout",
     "output_type": "stream",
     "text": [
      "Precision: 0.760\n",
      "Recall: 0.661\n",
      "F1-мера: 0.707\n",
      "AUC-ROC:  0.863\n"
     ]
    }
   ],
   "source": [
    "print_metrics(features_train, target_train, rfc_model.best_estimator_) # Вычисляем метрики на тренеровочных данных."
   ]
  },
  {
   "cell_type": "code",
   "execution_count": 61,
   "metadata": {},
   "outputs": [
    {
     "name": "stdout",
     "output_type": "stream",
     "text": [
      "Precision: 0.691\n",
      "Recall: 0.563\n",
      "F1-мера: 0.621\n",
      "AUC-ROC:  0.794\n"
     ]
    }
   ],
   "source": [
    "print_metrics(features_test, target_test, rfc_model.best_estimator_) # Вычисляем метрики на тестовых данных."
   ]
  },
  {
   "cell_type": "code",
   "execution_count": 62,
   "metadata": {
    "scrolled": true
   },
   "outputs": [
    {
     "name": "stdout",
     "output_type": "stream",
     "text": [
      "Лучшая f1-мера на тренировочных данных 0.719\n",
      "С подбором порога\n",
      "Precision на тестовых: 0.652\n",
      "Recall на тестовых: 0.642\n",
      "F1-мера на тестовых: 0.647\n"
     ]
    }
   ],
   "source": [
    "# Вычисление метрики с учетом подбора порога.\n",
    "threshold_predict(rfc_model, features_train, target_train, features_test, target_test)"
   ]
  },
  {
   "cell_type": "markdown",
   "metadata": {},
   "source": [
    "#### Оценка прибыли"
   ]
  },
  {
   "cell_type": "code",
   "execution_count": 63,
   "metadata": {},
   "outputs": [],
   "source": [
    "DEPOSIT = .8 # Коэффициент депозита \n",
    "MODEL_COSTS = 4e5 # Затраты на модель"
   ]
  },
  {
   "cell_type": "code",
   "execution_count": 64,
   "metadata": {},
   "outputs": [],
   "source": [
    "# Применяем функцию для вычисления сезонного коэффициента.\n",
    "hotel_test['seasonal_coefficient'] = hotel_test['arrival_date_month'].apply(seasonal_coefficient)"
   ]
  },
  {
   "cell_type": "code",
   "execution_count": 65,
   "metadata": {},
   "outputs": [],
   "source": [
    "# Применяем функцию для вычисления прибыли(убытки).\n",
    "profit_without_deposit(hotel_test, per_night, service)"
   ]
  },
  {
   "cell_type": "code",
   "execution_count": 66,
   "metadata": {},
   "outputs": [],
   "source": [
    "# Делаем прогноз.\n",
    "predicted_test = lr_model.best_estimator_.predict(features_test)\n",
    "predicted_test = pd.Series(predicted_test, index=target_test.index)"
   ]
  },
  {
   "cell_type": "code",
   "execution_count": 67,
   "metadata": {},
   "outputs": [],
   "source": [
    "hotel_test['predicted'] = predicted_test"
   ]
  },
  {
   "cell_type": "code",
   "execution_count": 68,
   "metadata": {},
   "outputs": [],
   "source": [
    "# Коректируем прибыль с учетом прогноза.\n",
    "hotel_test.loc[hotel_test['is_canceled'] + hotel_test['predicted'] == 2 ,'profit'] = hotel_test['profit'] * (1-DEPOSIT)"
   ]
  },
  {
   "cell_type": "code",
   "execution_count": 69,
   "metadata": {},
   "outputs": [],
   "source": [
    "# Делаем bootstrap.\n",
    "state = np.random.RandomState(12345)\n",
    "values = []\n",
    "for i in range(1000): # запускаем bootstrap\n",
    "    subsample = hotel_test.sample(\n",
    "            47000, \n",
    "            replace=True, \n",
    "            random_state=state\n",
    "        )\n",
    "    values.append(subsample['profit'].sum() - MODEL_COSTS)\n",
    "values = pd.Series(values)"
   ]
  },
  {
   "cell_type": "code",
   "execution_count": 70,
   "metadata": {},
   "outputs": [
    {
     "data": {
      "image/png": "[encoded data removed]",
      "text/plain": [
       "<Figure size 648x648 with 1 Axes>"
      ]
     },
     "metadata": {
      "needs_background": "light"
     },
     "output_type": "display_data"
    }
   ],
   "source": [
    "# Строим график распределения\n",
    "plt.subplots(figsize=(9, 9))\n",
    "plt.title('Оценка прибыли c учетом затрат на модель', fontsize=16)\n",
    "sns.histplot(      # гистограммы плотности\n",
    "            values, \n",
    "            kde=True,\n",
    "            stat=\"density\", \n",
    "            linewidth=1)       \n",
    "plt.grid(True)\n",
    "plt.show()"
   ]
  },
  {
   "cell_type": "code",
   "execution_count": 71,
   "metadata": {
    "scrolled": true
   },
   "outputs": [
    {
     "name": "stdout",
     "output_type": "stream",
     "text": [
      "Среднее по 1000 выборкам 61060811.434\n"
     ]
    }
   ],
   "source": [
    "print(f'Среднее по 1000 выборкам {values.mean()}')"
   ]
  },
  {
   "cell_type": "code",
   "execution_count": 72,
   "metadata": {},
   "outputs": [],
   "source": [
    "state = np.random.RandomState(12345)\n",
    "values = []\n",
    "for i in range(1000): # запускаем bootstrap\n",
    "    subsample = hotel_test.sample(\n",
    "            47000, \n",
    "            replace=True, \n",
    "            random_state=state\n",
    "        )\n",
    "    subsample_del = subsample[subsample['predicted'] == 1].sample(\n",
    "            hotel_test[hotel_test['predicted'] == 1].shape[0] // 2, \n",
    "            random_state=state\n",
    "        )\n",
    "    subsample = subsample.drop(index=subsample_del.index)\n",
    "    values.append(subsample['profit'].sum() - MODEL_COSTS)\n",
    "values = pd.Series(values)"
   ]
  },
  {
   "cell_type": "code",
   "execution_count": 73,
   "metadata": {
    "scrolled": false
   },
   "outputs": [
    {
     "data": {
      "image/png": "[encoded data removed]",
      "text/plain": [
       "<Figure size 648x648 with 1 Axes>"
      ]
     },
     "metadata": {
      "needs_background": "light"
     },
     "output_type": "display_data"
    }
   ],
   "source": [
    "# Строим график распределения\n",
    "plt.subplots(figsize=(9, 9))\n",
    "plt.title('Оценка прибыли c учетом затрат на модель в плохом случаи', fontsize=16)\n",
    "sns.histplot(      # гистограммы плотности\n",
    "            values, \n",
    "            kde=True,\n",
    "            stat=\"density\", \n",
    "            linewidth=1)       \n",
    "plt.grid(True)\n",
    "plt.show()"
   ]
  },
  {
   "cell_type": "code",
   "execution_count": 74,
   "metadata": {},
   "outputs": [
    {
     "name": "stdout",
     "output_type": "stream",
     "text": [
      "Среднее по 1000 выборкам 47781333.836\n"
     ]
    }
   ],
   "source": [
    "print(f'Среднее по 1000 выборкам {values.mean()}')"
   ]
  },
  {
   "cell_type": "markdown",
   "metadata": {},
   "source": [
    "#### Выводы по результатам моделирования "
   ]
  },
  {
   "cell_type": "markdown",
   "metadata": {},
   "source": [
    "1. На тренировочных данных наблюдается дисбаланс классов;\n",
    "2. Для поиска лучших гиперпараметров был использована метрика ROC-AUC;\n",
    "3. Дальше уже в рамках обученных моделей провели улучшения метрики F1, путем подбора порога на тренировочных данных;\n",
    "4. Подобранные пороги использовали для вычисления у же на тестовых;\n",
    "5. Самая высокое значении F1 получились для модели случайный лес, но в рамках поставленной задачи нас больше интересует метрика Recall т.к. каждый выявленный потенциальный отказчик это прибыль.\n",
    "6. Для оценки прибыли выбрали самую лучшую модель по показателю Recall – логистическую регрессию без подбора порога (порог 0.5).\n",
    "7. Прибыль с учетом затрат на модель возросла на 30%. \n",
    "8.  Конечно можно было  подобрать такие параметры порогов которые дали бы Recall на уровне близким к 100%, но в этом случаи это просто  запрос депозита у всех клиентов, что противоречит изначальной стратегии сети по уходу от депозитов."
   ]
  },
  {
   "cell_type": "markdown",
   "metadata": {},
   "source": [
    "### Портрет «ненадёжного» клиента"
   ]
  },
  {
   "cell_type": "code",
   "execution_count": 75,
   "metadata": {},
   "outputs": [],
   "source": [
    "columns = [       # Колонки для анализа              \n",
    "    'adults',                          \n",
    "    'children',\n",
    "    'meal',                            \n",
    "    'distribution_channel',                     \n",
    "    'reserved_room_type',              \n",
    "    'customer_type',                   \n",
    "    'required_car_parking_spaces',     \n",
    "    'total_of_special_requests',       \n",
    "    'stays_in_weekend_nights',\n",
    "    'stays_in_week_nights',\n",
    "    'total_nights'\n",
    "]"
   ]
  },
  {
   "cell_type": "code",
   "execution_count": 76,
   "metadata": {},
   "outputs": [
    {
     "data": {
      "text/plain": [
       "BB    51697\n",
       "HB     7292\n",
       "SC     5789\n",
       "FB      451\n",
       "Name: meal, dtype: int64"
      ]
     },
     "execution_count": 76,
     "metadata": {},
     "output_type": "execute_result"
    }
   ],
   "source": [
    "hotel_train['meal'].value_counts()"
   ]
  },
  {
   "cell_type": "code",
   "execution_count": 77,
   "metadata": {
    "scrolled": false
   },
   "outputs": [
    {
     "data": {
      "image/png": "[encoded data removed]",
      "text/plain": [
       "<Figure size 432x432 with 1 Axes>"
      ]
     },
     "metadata": {
      "needs_background": "light"
     },
     "output_type": "display_data"
    },
    {
     "name": "stdout",
     "output_type": "stream",
     "text": [
      "2.0    49146\n",
      "1.0    13212\n",
      "3.0     2858\n",
      "4.0       13\n",
      "Name: adults, dtype: int64\n"
     ]
    },
    {
     "data": {
      "image/png": "[encoded data removed]",
      "text/plain": [
       "<Figure size 432x432 with 1 Axes>"
      ]
     },
     "metadata": {
      "needs_background": "light"
     },
     "output_type": "display_data"
    },
    {
     "name": "stdout",
     "output_type": "stream",
     "text": [
      "0.0    61712\n",
      "1.0     2165\n",
      "2.0     1336\n",
      "3.0       16\n",
      "Name: children, dtype: int64\n"
     ]
    },
    {
     "data": {
      "image/png": "[encoded data removed]",
      "text/plain": [
       "<Figure size 432x432 with 1 Axes>"
      ]
     },
     "metadata": {
      "needs_background": "light"
     },
     "output_type": "display_data"
    },
    {
     "name": "stdout",
     "output_type": "stream",
     "text": [
      "BB    51697\n",
      "HB     7292\n",
      "SC     5789\n",
      "FB      451\n",
      "Name: meal, dtype: int64\n"
     ]
    },
    {
     "data": {
      "image/png": "[encoded data removed]",
      "text/plain": [
       "<Figure size 432x432 with 1 Axes>"
      ]
     },
     "metadata": {
      "needs_background": "light"
     },
     "output_type": "display_data"
    },
    {
     "name": "stdout",
     "output_type": "stream",
     "text": [
      "TA/TO        54454\n",
      "Direct        6853\n",
      "Corporate     3823\n",
      "GDS             99\n",
      "Name: distribution_channel, dtype: int64\n"
     ]
    },
    {
     "data": {
      "image/png": "[encoded data removed]",
      "text/plain": [
       "<Figure size 432x432 with 1 Axes>"
      ]
     },
     "metadata": {
      "needs_background": "light"
     },
     "output_type": "display_data"
    },
    {
     "name": "stdout",
     "output_type": "stream",
     "text": [
      "A    50501\n",
      "D     9387\n",
      "E     2448\n",
      "F     1213\n",
      "B      860\n",
      "G      592\n",
      "C      228\n",
      "Name: reserved_room_type, dtype: int64\n"
     ]
    },
    {
     "data": {
      "image/png": "[encoded data removed]",
      "text/plain": [
       "<Figure size 432x432 with 1 Axes>"
      ]
     },
     "metadata": {
      "needs_background": "light"
     },
     "output_type": "display_data"
    },
    {
     "name": "stdout",
     "output_type": "stream",
     "text": [
      "Transient          45493\n",
      "Transient-Party    16703\n",
      "Contract            2746\n",
      "Group                287\n",
      "Name: customer_type, dtype: int64\n"
     ]
    },
    {
     "data": {
      "image/png": "[encoded data removed]",
      "text/plain": [
       "<Figure size 432x432 with 1 Axes>"
      ]
     },
     "metadata": {
      "needs_background": "light"
     },
     "output_type": "display_data"
    },
    {
     "name": "stdout",
     "output_type": "stream",
     "text": [
      "0    61547\n",
      "1     3682\n",
      "Name: required_car_parking_spaces, dtype: int64\n"
     ]
    },
    {
     "data": {
      "image/png": "[encoded data removed]",
      "text/plain": [
       "<Figure size 432x432 with 1 Axes>"
      ]
     },
     "metadata": {
      "needs_background": "light"
     },
     "output_type": "display_data"
    },
    {
     "name": "stdout",
     "output_type": "stream",
     "text": [
      "0    40671\n",
      "1    16958\n",
      "2     6444\n",
      "3     1036\n",
      "4      107\n",
      "5       13\n",
      "Name: total_of_special_requests, dtype: int64\n"
     ]
    },
    {
     "data": {
      "image/png": "[encoded data removed]",
      "text/plain": [
       "<Figure size 432x432 with 1 Axes>"
      ]
     },
     "metadata": {
      "needs_background": "light"
     },
     "output_type": "display_data"
    },
    {
     "name": "stdout",
     "output_type": "stream",
     "text": [
      "0    29738\n",
      "1    17721\n",
      "2    17357\n",
      "3      261\n",
      "4      152\n",
      "Name: stays_in_weekend_nights, dtype: int64\n"
     ]
    },
    {
     "data": {
      "image/png": "[encoded data removed]",
      "text/plain": [
       "<Figure size 432x432 with 1 Axes>"
      ]
     },
     "metadata": {
      "needs_background": "light"
     },
     "output_type": "display_data"
    },
    {
     "name": "stdout",
     "output_type": "stream",
     "text": [
      "2    20137\n",
      "1    17850\n",
      "3    12341\n",
      "4     5131\n",
      "5     5128\n",
      "0     4007\n",
      "6      635\n",
      "Name: stays_in_week_nights, dtype: int64\n"
     ]
    },
    {
     "data": {
      "image/png": "[encoded data removed]",
      "text/plain": [
       "<Figure size 432x432 with 1 Axes>"
      ]
     },
     "metadata": {
      "needs_background": "light"
     },
     "output_type": "display_data"
    },
    {
     "name": "stdout",
     "output_type": "stream",
     "text": [
      "2     16795\n",
      "3     15652\n",
      "1     12122\n",
      "4      9629\n",
      "5      4288\n",
      "7      3853\n",
      "6      2078\n",
      "8       542\n",
      "9       152\n",
      "10      118\n",
      "Name: total_nights, dtype: int64\n"
     ]
    }
   ],
   "source": [
    "# Цикл построения столбчатых диаграмм, по колонкам и их значениям.\n",
    "# диаграммы отображают долю отказов по тому или иному значению (категории). \n",
    "\n",
    "for column in columns:\n",
    "    column_values = hotel_train[column].sort_values().unique()\n",
    "    \n",
    "    cancelled_shape = []\n",
    "    for val in column_values:\n",
    "        count_all = hotel_train[hotel_train[column] == val].shape[0]\n",
    "        count_cancelled = hotel_train[hotel_train[column] == val]['is_canceled'].sum()\n",
    "        cancelled_shape.append(count_cancelled / count_all) \n",
    "    \n",
    "    pd.Series(cancelled_shape, index=column_values).plot(                                                       \n",
    "    kind='bar',\n",
    "    figsize=(6, 6),\n",
    "    grid=True,\n",
    "    title = column\n",
    "    )\n",
    "    \n",
    "    plt.xlabel(column)\n",
    "    plt.ylabel('Доля')\n",
    "    plt.show()\n",
    "    print(hotel_train[column].value_counts())"
   ]
  },
  {
   "cell_type": "markdown",
   "metadata": {},
   "source": [
    "**Описание «ненадежного» клиента**\n",
    "\n",
    "- Клиенты, которые бронируют самые дорогие (категория А) номера от них чаще всего и отказываются это происходит почти в 40% случаев от общего числа их бронирования. Это очень невыгодно отелю.\n",
    "- Клиенты, которые берут полный пансион (FB) также ненадежны. \n",
    "- Канал TA/TO для дистрибьюции каналов также является очень не надежным.\n",
    "- Юридические лица и несвязанные с договором и групповым заездом тоже не очень надежны. Групповые заезды самые надежные.\n",
    "- Люди без машин мнее надежны, хотя по запросу на места для авто, очень мало данных и тут сложно судить.\n",
    "- Люди, не оставляющие специальных пометок тоже должны вызывать подозрения, скорее всего они плохо продумали свою поездку.\n",
    "- На 2 будних дня останавливаются те, кто чаще всего обменяют бронь. \n",
    "\n",
    "Видно, что за редким исключение – под это описание подходят большинство потенциальных клиентов.  "
   ]
  },
  {
   "cell_type": "markdown",
   "metadata": {},
   "source": [
    "### Общий вывод"
   ]
  },
  {
   "cell_type": "markdown",
   "metadata": {},
   "source": [
    "Если ориентироваться на имеющиеся условия, то модель, которая обеспечивает максимальный параметр recall принесет сети наибольшую прибыль. Но тем самым мы решаем задачу на максимизацию без ограничений и получается, что верное решение — это вернуть всем депозиты recall = 1.\n",
    "Необходимо рассматривать эту задачу в совокупности с ограничениями, которые могут возникнуть с оттоком клиентов и недозагруженностью отеля. Необходимо понимать ценность параметра Precision. И какой убыток несет каждое не верная оценка только уже в другую сторону.\n",
    "\n",
    "Как можно понять т.к данные не сбалансированы, важным аспектом является подбор порога, т.к. мы не знаем какое-будет соотношение этого порога в общей совокупности, этот параметр необходимо пересматривать с учетом накопления данных, что обеспечить, лучшее прогнозирование. \n",
    "\n",
    "Рекомендации:\n",
    "- Оказаться от услуги полного пансиона (она получается очень рискованной, а также еще и не востребована).\n",
    "- Пересмотре каналы дистрибьюции.\n",
    "- Расширить парковку, клиенты с автомобилями более надежны.\n",
    "- Пересмотреть политику цен, а то получается, что сеть отелей состоит в основном из категории А, что очень странно 80% это высшая категория."
   ]
  }
 ],
 "metadata": {
  "ExecuteTimeLog": [
   {
    "duration": 1451,
    "start_time": "2022-07-04T15:39:22.612Z"
   },
   {
    "duration": 858,
    "start_time": "2022-07-04T15:42:47.408Z"
   },
   {
    "duration": 3,
    "start_time": "2022-07-04T15:44:08.823Z"
   },
   {
    "duration": 3,
    "start_time": "2022-07-04T15:46:05.829Z"
   },
   {
    "duration": 97,
    "start_time": "2022-07-04T15:46:46.197Z"
   },
   {
    "duration": 63,
    "start_time": "2022-07-04T15:47:04.818Z"
   },
   {
    "duration": 82,
    "start_time": "2022-07-04T15:55:43.886Z"
   },
   {
    "duration": 29,
    "start_time": "2022-07-04T15:55:57.717Z"
   },
   {
    "duration": 30,
    "start_time": "2022-07-04T15:56:12.530Z"
   },
   {
    "duration": 58,
    "start_time": "2022-07-04T16:12:41.579Z"
   },
   {
    "duration": 45,
    "start_time": "2022-07-04T16:14:33.255Z"
   },
   {
    "duration": 29,
    "start_time": "2022-07-04T16:14:40.272Z"
   },
   {
    "duration": 9,
    "start_time": "2022-07-04T16:16:25.830Z"
   },
   {
    "duration": 12,
    "start_time": "2022-07-04T16:16:59.979Z"
   },
   {
    "duration": 11,
    "start_time": "2022-07-04T16:17:11.448Z"
   },
   {
    "duration": 11,
    "start_time": "2022-07-04T16:17:23.676Z"
   },
   {
    "duration": 9,
    "start_time": "2022-07-04T16:17:29.741Z"
   },
   {
    "duration": 16,
    "start_time": "2022-07-04T16:18:02.399Z"
   },
   {
    "duration": 13,
    "start_time": "2022-07-04T16:19:27.064Z"
   },
   {
    "duration": 9,
    "start_time": "2022-07-04T16:24:46.012Z"
   },
   {
    "duration": 101,
    "start_time": "2022-07-04T16:26:37.197Z"
   },
   {
    "duration": 0,
    "start_time": "2022-07-04T16:26:37.300Z"
   },
   {
    "duration": 0,
    "start_time": "2022-07-04T16:26:37.301Z"
   },
   {
    "duration": 0,
    "start_time": "2022-07-04T16:26:37.302Z"
   },
   {
    "duration": 0,
    "start_time": "2022-07-04T16:26:37.303Z"
   },
   {
    "duration": 0,
    "start_time": "2022-07-04T16:26:37.304Z"
   },
   {
    "duration": 0,
    "start_time": "2022-07-04T16:26:37.305Z"
   },
   {
    "duration": 0,
    "start_time": "2022-07-04T16:26:37.306Z"
   },
   {
    "duration": 0,
    "start_time": "2022-07-04T16:26:37.307Z"
   },
   {
    "duration": 0,
    "start_time": "2022-07-04T16:26:37.308Z"
   },
   {
    "duration": 1225,
    "start_time": "2022-07-04T16:26:58.074Z"
   },
   {
    "duration": 186,
    "start_time": "2022-07-04T16:26:59.301Z"
   },
   {
    "duration": 3,
    "start_time": "2022-07-04T16:26:59.488Z"
   },
   {
    "duration": 62,
    "start_time": "2022-07-04T16:26:59.492Z"
   },
   {
    "duration": 41,
    "start_time": "2022-07-04T16:26:59.555Z"
   },
   {
    "duration": 55,
    "start_time": "2022-07-04T16:26:59.598Z"
   },
   {
    "duration": 9,
    "start_time": "2022-07-04T16:26:59.655Z"
   },
   {
    "duration": 33,
    "start_time": "2022-07-04T16:26:59.665Z"
   },
   {
    "duration": 10,
    "start_time": "2022-07-04T16:26:59.699Z"
   },
   {
    "duration": 14,
    "start_time": "2022-07-04T16:26:59.711Z"
   },
   {
    "duration": 6,
    "start_time": "2022-07-04T16:29:38.259Z"
   },
   {
    "duration": 32,
    "start_time": "2022-07-04T16:31:22.032Z"
   },
   {
    "duration": 31,
    "start_time": "2022-07-04T16:34:58.262Z"
   },
   {
    "duration": 1526,
    "start_time": "2022-07-04T16:39:00.212Z"
   },
   {
    "duration": 112,
    "start_time": "2022-07-04T16:41:37.333Z"
   },
   {
    "duration": 113,
    "start_time": "2022-07-04T16:53:37.492Z"
   },
   {
    "duration": 2301,
    "start_time": "2022-07-04T16:55:35.472Z"
   },
   {
    "duration": 101,
    "start_time": "2022-07-04T17:01:11.366Z"
   },
   {
    "duration": 2328,
    "start_time": "2022-07-04T17:01:23.386Z"
   },
   {
    "duration": 2268,
    "start_time": "2022-07-04T17:06:38.816Z"
   },
   {
    "duration": 2276,
    "start_time": "2022-07-04T17:09:21.958Z"
   },
   {
    "duration": 36,
    "start_time": "2022-07-04T17:15:41.514Z"
   },
   {
    "duration": 36,
    "start_time": "2022-07-04T17:22:43.208Z"
   },
   {
    "duration": 36,
    "start_time": "2022-07-04T17:22:57.259Z"
   },
   {
    "duration": 36,
    "start_time": "2022-07-04T17:23:04.713Z"
   },
   {
    "duration": 31,
    "start_time": "2022-07-04T17:27:09.858Z"
   },
   {
    "duration": 8,
    "start_time": "2022-07-04T17:37:25.493Z"
   },
   {
    "duration": 40,
    "start_time": "2022-07-04T17:42:40.490Z"
   },
   {
    "duration": 36,
    "start_time": "2022-07-04T17:42:48.319Z"
   },
   {
    "duration": 36,
    "start_time": "2022-07-04T17:43:02.969Z"
   },
   {
    "duration": 36,
    "start_time": "2022-07-04T17:43:22.658Z"
   },
   {
    "duration": 4,
    "start_time": "2022-07-04T17:44:18.482Z"
   },
   {
    "duration": 14,
    "start_time": "2022-07-04T17:44:30.697Z"
   },
   {
    "duration": 124,
    "start_time": "2022-07-04T17:46:53.078Z"
   },
   {
    "duration": 16,
    "start_time": "2022-07-04T17:46:59.724Z"
   },
   {
    "duration": 1242,
    "start_time": "2022-07-04T17:53:53.061Z"
   },
   {
    "duration": 190,
    "start_time": "2022-07-04T17:53:54.304Z"
   },
   {
    "duration": 2,
    "start_time": "2022-07-04T17:53:54.496Z"
   },
   {
    "duration": 68,
    "start_time": "2022-07-04T17:53:54.500Z"
   },
   {
    "duration": 46,
    "start_time": "2022-07-04T17:53:54.569Z"
   },
   {
    "duration": 57,
    "start_time": "2022-07-04T17:53:54.616Z"
   },
   {
    "duration": 24,
    "start_time": "2022-07-04T17:53:54.674Z"
   },
   {
    "duration": 13,
    "start_time": "2022-07-04T17:53:54.700Z"
   },
   {
    "duration": 8,
    "start_time": "2022-07-04T17:53:54.715Z"
   },
   {
    "duration": 6,
    "start_time": "2022-07-04T17:53:54.725Z"
   },
   {
    "duration": 138,
    "start_time": "2022-07-04T17:53:54.732Z"
   },
   {
    "duration": 2418,
    "start_time": "2022-07-04T17:53:54.871Z"
   },
   {
    "duration": 2273,
    "start_time": "2022-07-04T17:53:57.292Z"
   },
   {
    "duration": 46,
    "start_time": "2022-07-04T17:53:59.566Z"
   },
   {
    "duration": 31,
    "start_time": "2022-07-04T17:53:59.614Z"
   },
   {
    "duration": 16,
    "start_time": "2022-07-04T17:53:59.646Z"
   },
   {
    "duration": 29,
    "start_time": "2022-07-04T17:53:59.664Z"
   },
   {
    "duration": 1652,
    "start_time": "2022-07-05T15:25:22.073Z"
   },
   {
    "duration": 596,
    "start_time": "2022-07-05T15:25:23.727Z"
   },
   {
    "duration": 3,
    "start_time": "2022-07-05T15:25:24.324Z"
   },
   {
    "duration": 90,
    "start_time": "2022-07-05T15:25:24.330Z"
   },
   {
    "duration": 49,
    "start_time": "2022-07-05T15:25:24.421Z"
   },
   {
    "duration": 70,
    "start_time": "2022-07-05T15:25:24.472Z"
   },
   {
    "duration": 28,
    "start_time": "2022-07-05T15:25:24.544Z"
   },
   {
    "duration": 21,
    "start_time": "2022-07-05T15:25:24.573Z"
   },
   {
    "duration": 14,
    "start_time": "2022-07-05T15:25:24.596Z"
   },
   {
    "duration": 13,
    "start_time": "2022-07-05T15:25:24.612Z"
   },
   {
    "duration": 175,
    "start_time": "2022-07-05T15:25:24.627Z"
   },
   {
    "duration": 2661,
    "start_time": "2022-07-05T15:25:24.803Z"
   },
   {
    "duration": 37,
    "start_time": "2022-07-05T15:25:27.466Z"
   },
   {
    "duration": 64,
    "start_time": "2022-07-05T15:25:27.505Z"
   },
   {
    "duration": 18,
    "start_time": "2022-07-05T15:25:27.571Z"
   },
   {
    "duration": 6,
    "start_time": "2022-07-05T15:25:27.591Z"
   },
   {
    "duration": 113,
    "start_time": "2022-07-05T15:25:41.416Z"
   },
   {
    "duration": 38,
    "start_time": "2022-07-05T15:26:28.237Z"
   },
   {
    "duration": 17,
    "start_time": "2022-07-05T15:26:30.744Z"
   },
   {
    "duration": 49,
    "start_time": "2022-07-05T15:40:29.880Z"
   },
   {
    "duration": 4,
    "start_time": "2022-07-05T15:40:35.607Z"
   },
   {
    "duration": 4,
    "start_time": "2022-07-05T15:40:52.317Z"
   },
   {
    "duration": 4,
    "start_time": "2022-07-05T15:41:03.495Z"
   },
   {
    "duration": 4,
    "start_time": "2022-07-05T15:41:13.144Z"
   },
   {
    "duration": 4,
    "start_time": "2022-07-05T15:59:38.068Z"
   },
   {
    "duration": 3,
    "start_time": "2022-07-05T15:59:41.277Z"
   },
   {
    "duration": 39,
    "start_time": "2022-07-05T16:00:14.183Z"
   },
   {
    "duration": 5,
    "start_time": "2022-07-05T16:01:09.097Z"
   },
   {
    "duration": 50,
    "start_time": "2022-07-05T16:01:11.065Z"
   },
   {
    "duration": 23,
    "start_time": "2022-07-05T16:02:59.644Z"
   },
   {
    "duration": 7,
    "start_time": "2022-07-05T16:03:23.902Z"
   },
   {
    "duration": 11,
    "start_time": "2022-07-05T16:05:12.339Z"
   },
   {
    "duration": 15,
    "start_time": "2022-07-05T16:05:58.751Z"
   },
   {
    "duration": 4,
    "start_time": "2022-07-05T16:06:38.286Z"
   },
   {
    "duration": 6,
    "start_time": "2022-07-05T16:07:39.177Z"
   },
   {
    "duration": 11,
    "start_time": "2022-07-05T16:08:50.607Z"
   },
   {
    "duration": 30,
    "start_time": "2022-07-05T16:09:02.385Z"
   },
   {
    "duration": 16,
    "start_time": "2022-07-05T16:10:16.611Z"
   },
   {
    "duration": 69,
    "start_time": "2022-07-05T16:10:37.415Z"
   },
   {
    "duration": 10,
    "start_time": "2022-07-05T16:11:05.631Z"
   },
   {
    "duration": 13,
    "start_time": "2022-07-05T16:11:19.103Z"
   },
   {
    "duration": 12,
    "start_time": "2022-07-05T16:11:28.539Z"
   },
   {
    "duration": 10,
    "start_time": "2022-07-05T16:16:06.597Z"
   },
   {
    "duration": 12,
    "start_time": "2022-07-05T16:16:40.637Z"
   },
   {
    "duration": 12,
    "start_time": "2022-07-05T16:17:09.095Z"
   },
   {
    "duration": 9,
    "start_time": "2022-07-05T16:19:34.794Z"
   },
   {
    "duration": 17,
    "start_time": "2022-07-05T16:19:45.990Z"
   },
   {
    "duration": 10,
    "start_time": "2022-07-05T16:20:11.170Z"
   },
   {
    "duration": 12,
    "start_time": "2022-07-05T16:20:21.781Z"
   },
   {
    "duration": 6,
    "start_time": "2022-07-05T16:20:28.353Z"
   },
   {
    "duration": 10,
    "start_time": "2022-07-05T16:20:59.426Z"
   },
   {
    "duration": 9,
    "start_time": "2022-07-05T16:21:08.449Z"
   },
   {
    "duration": 8,
    "start_time": "2022-07-05T16:21:08.856Z"
   },
   {
    "duration": 17,
    "start_time": "2022-07-05T16:21:16.634Z"
   },
   {
    "duration": 8,
    "start_time": "2022-07-05T16:21:48.301Z"
   },
   {
    "duration": 7,
    "start_time": "2022-07-05T16:22:05.496Z"
   },
   {
    "duration": 3,
    "start_time": "2022-07-05T16:23:37.325Z"
   },
   {
    "duration": 61,
    "start_time": "2022-07-05T16:24:05.311Z"
   },
   {
    "duration": 12,
    "start_time": "2022-07-05T16:24:21.712Z"
   },
   {
    "duration": 15,
    "start_time": "2022-07-05T16:24:52.729Z"
   },
   {
    "duration": 15,
    "start_time": "2022-07-05T16:25:06.662Z"
   },
   {
    "duration": 3,
    "start_time": "2022-07-05T16:26:57.941Z"
   },
   {
    "duration": 8,
    "start_time": "2022-07-05T16:27:02.439Z"
   },
   {
    "duration": 6,
    "start_time": "2022-07-05T16:27:07.317Z"
   },
   {
    "duration": 17,
    "start_time": "2022-07-05T16:27:20.076Z"
   },
   {
    "duration": 5,
    "start_time": "2022-07-05T16:27:20.795Z"
   },
   {
    "duration": 4,
    "start_time": "2022-07-05T16:28:22.745Z"
   },
   {
    "duration": 4,
    "start_time": "2022-07-05T16:30:57.705Z"
   },
   {
    "duration": 57,
    "start_time": "2022-07-05T16:31:23.505Z"
   },
   {
    "duration": 7,
    "start_time": "2022-07-05T16:32:08.303Z"
   },
   {
    "duration": 71,
    "start_time": "2022-07-05T16:32:15.779Z"
   },
   {
    "duration": 27,
    "start_time": "2022-07-05T16:34:00.276Z"
   },
   {
    "duration": 1393,
    "start_time": "2022-07-05T16:37:59.529Z"
   },
   {
    "duration": 239,
    "start_time": "2022-07-05T16:38:00.924Z"
   },
   {
    "duration": 3,
    "start_time": "2022-07-05T16:38:01.165Z"
   },
   {
    "duration": 124,
    "start_time": "2022-07-05T16:38:01.170Z"
   },
   {
    "duration": 37,
    "start_time": "2022-07-05T16:38:01.296Z"
   },
   {
    "duration": 131,
    "start_time": "2022-07-05T16:38:01.335Z"
   },
   {
    "duration": 13,
    "start_time": "2022-07-05T16:38:01.468Z"
   },
   {
    "duration": 25,
    "start_time": "2022-07-05T16:38:01.483Z"
   },
   {
    "duration": 17,
    "start_time": "2022-07-05T16:38:01.510Z"
   },
   {
    "duration": 37,
    "start_time": "2022-07-05T16:38:01.530Z"
   },
   {
    "duration": 164,
    "start_time": "2022-07-05T16:38:01.569Z"
   },
   {
    "duration": 3020,
    "start_time": "2022-07-05T16:38:01.735Z"
   },
   {
    "duration": 40,
    "start_time": "2022-07-05T16:38:04.757Z"
   },
   {
    "duration": 28,
    "start_time": "2022-07-05T16:38:04.799Z"
   },
   {
    "duration": 38,
    "start_time": "2022-07-05T16:38:04.829Z"
   },
   {
    "duration": 4,
    "start_time": "2022-07-05T16:38:04.869Z"
   },
   {
    "duration": 9,
    "start_time": "2022-07-05T16:38:04.875Z"
   },
   {
    "duration": 4,
    "start_time": "2022-07-05T16:38:04.886Z"
   },
   {
    "duration": 5,
    "start_time": "2022-07-05T16:38:04.892Z"
   },
   {
    "duration": 115,
    "start_time": "2022-07-05T16:38:04.899Z"
   },
   {
    "duration": 18,
    "start_time": "2022-07-05T16:38:05.016Z"
   },
   {
    "duration": 29,
    "start_time": "2022-07-05T16:38:05.036Z"
   },
   {
    "duration": 77,
    "start_time": "2022-07-05T16:39:18.568Z"
   },
   {
    "duration": 116,
    "start_time": "2022-07-05T16:40:06.870Z"
   },
   {
    "duration": 60,
    "start_time": "2022-07-05T16:40:23.627Z"
   },
   {
    "duration": 75,
    "start_time": "2022-07-05T16:40:30.094Z"
   },
   {
    "duration": 65,
    "start_time": "2022-07-05T16:41:20.132Z"
   },
   {
    "duration": 71,
    "start_time": "2022-07-05T16:41:39.476Z"
   },
   {
    "duration": 80,
    "start_time": "2022-07-05T16:41:42.708Z"
   },
   {
    "duration": 5,
    "start_time": "2022-07-05T16:42:30.548Z"
   },
   {
    "duration": 83,
    "start_time": "2022-07-05T16:42:33.580Z"
   },
   {
    "duration": 4,
    "start_time": "2022-07-05T16:42:54.655Z"
   },
   {
    "duration": 112,
    "start_time": "2022-07-05T16:42:57.038Z"
   },
   {
    "duration": 114,
    "start_time": "2022-07-05T16:43:46.193Z"
   },
   {
    "duration": 164,
    "start_time": "2022-07-05T16:44:00.278Z"
   },
   {
    "duration": 126,
    "start_time": "2022-07-05T16:44:21.006Z"
   },
   {
    "duration": 123,
    "start_time": "2022-07-05T16:44:50.295Z"
   },
   {
    "duration": 123,
    "start_time": "2022-07-05T16:46:54.990Z"
   },
   {
    "duration": 5,
    "start_time": "2022-07-05T16:47:35.587Z"
   },
   {
    "duration": 3,
    "start_time": "2022-07-05T16:47:36.341Z"
   },
   {
    "duration": 4,
    "start_time": "2022-07-05T16:47:36.842Z"
   },
   {
    "duration": 188,
    "start_time": "2022-07-05T16:47:37.912Z"
   },
   {
    "duration": 180,
    "start_time": "2022-07-05T16:48:00.496Z"
   },
   {
    "duration": 5,
    "start_time": "2022-07-05T16:48:27.499Z"
   },
   {
    "duration": 51,
    "start_time": "2022-07-05T16:48:31.447Z"
   },
   {
    "duration": 4,
    "start_time": "2022-07-05T16:48:53.050Z"
   },
   {
    "duration": 118,
    "start_time": "2022-07-05T16:48:55.731Z"
   },
   {
    "duration": 78,
    "start_time": "2022-07-05T16:49:12.746Z"
   },
   {
    "duration": 5,
    "start_time": "2022-07-05T16:49:35.506Z"
   },
   {
    "duration": 140,
    "start_time": "2022-07-05T16:49:39.333Z"
   },
   {
    "duration": 97,
    "start_time": "2022-07-05T16:49:40.336Z"
   },
   {
    "duration": 47,
    "start_time": "2022-07-05T16:51:49.383Z"
   },
   {
    "duration": 5,
    "start_time": "2022-07-05T16:51:55.760Z"
   },
   {
    "duration": 121,
    "start_time": "2022-07-05T16:51:58.028Z"
   },
   {
    "duration": 41,
    "start_time": "2022-07-05T16:52:13.524Z"
   },
   {
    "duration": 50,
    "start_time": "2022-07-05T16:52:13.904Z"
   },
   {
    "duration": 32,
    "start_time": "2022-07-05T16:54:26.989Z"
   },
   {
    "duration": 4,
    "start_time": "2022-07-05T16:55:24.569Z"
   },
   {
    "duration": 42,
    "start_time": "2022-07-05T16:55:27.579Z"
   },
   {
    "duration": 68,
    "start_time": "2022-07-05T16:55:51.240Z"
   },
   {
    "duration": 5,
    "start_time": "2022-07-05T16:56:13.505Z"
   },
   {
    "duration": 51,
    "start_time": "2022-07-05T16:56:16.327Z"
   },
   {
    "duration": 49,
    "start_time": "2022-07-05T16:56:18.801Z"
   },
   {
    "duration": 4,
    "start_time": "2022-07-05T16:56:32.242Z"
   },
   {
    "duration": 73,
    "start_time": "2022-07-05T16:56:35.478Z"
   },
   {
    "duration": 47,
    "start_time": "2022-07-05T16:56:43.067Z"
   },
   {
    "duration": 76,
    "start_time": "2022-07-05T17:03:07.184Z"
   },
   {
    "duration": 31,
    "start_time": "2022-07-05T17:03:28.397Z"
   },
   {
    "duration": 84860,
    "start_time": "2022-07-05T17:04:36.076Z"
   },
   {
    "duration": 33,
    "start_time": "2022-07-05T17:08:12.095Z"
   },
   {
    "duration": 4,
    "start_time": "2022-07-05T17:08:52.435Z"
   },
   {
    "duration": 27,
    "start_time": "2022-07-05T17:09:07.915Z"
   },
   {
    "duration": 76,
    "start_time": "2022-07-05T17:09:22.299Z"
   },
   {
    "duration": 6,
    "start_time": "2022-07-05T17:10:31.781Z"
   },
   {
    "duration": 8,
    "start_time": "2022-07-05T17:12:00.728Z"
   },
   {
    "duration": 18495,
    "start_time": "2022-07-05T17:13:02.941Z"
   },
   {
    "duration": 5,
    "start_time": "2022-07-05T17:13:53.896Z"
   },
   {
    "duration": 8,
    "start_time": "2022-07-05T17:14:09.925Z"
   },
   {
    "duration": 21997,
    "start_time": "2022-07-05T17:17:24.859Z"
   },
   {
    "duration": 6,
    "start_time": "2022-07-05T17:17:46.858Z"
   },
   {
    "duration": 33,
    "start_time": "2022-07-05T17:17:46.867Z"
   },
   {
    "duration": 22252,
    "start_time": "2022-07-05T17:17:57.005Z"
   },
   {
    "duration": 9,
    "start_time": "2022-07-05T17:18:19.259Z"
   },
   {
    "duration": 40,
    "start_time": "2022-07-05T17:18:19.270Z"
   },
   {
    "duration": 14,
    "start_time": "2022-07-05T17:22:07.994Z"
   },
   {
    "duration": 72,
    "start_time": "2022-07-05T17:22:39.253Z"
   },
   {
    "duration": 334,
    "start_time": "2022-07-05T17:22:44.199Z"
   },
   {
    "duration": 323,
    "start_time": "2022-07-05T17:24:47.145Z"
   },
   {
    "duration": 5,
    "start_time": "2022-07-05T17:25:30.472Z"
   },
   {
    "duration": 9,
    "start_time": "2022-07-05T17:40:48.848Z"
   },
   {
    "duration": 85,
    "start_time": "2022-07-05T17:44:20.235Z"
   },
   {
    "duration": 16,
    "start_time": "2022-07-05T17:44:35.716Z"
   },
   {
    "duration": 21,
    "start_time": "2022-07-05T17:46:11.895Z"
   },
   {
    "duration": 53,
    "start_time": "2022-07-05T17:46:17.975Z"
   },
   {
    "duration": 1669,
    "start_time": "2022-07-05T17:46:45.462Z"
   },
   {
    "duration": 401,
    "start_time": "2022-07-05T17:46:47.134Z"
   },
   {
    "duration": 4,
    "start_time": "2022-07-05T17:46:47.538Z"
   },
   {
    "duration": 148,
    "start_time": "2022-07-05T17:46:47.545Z"
   },
   {
    "duration": 72,
    "start_time": "2022-07-05T17:46:47.699Z"
   },
   {
    "duration": 112,
    "start_time": "2022-07-05T17:46:47.773Z"
   },
   {
    "duration": 22,
    "start_time": "2022-07-05T17:46:47.895Z"
   },
   {
    "duration": 30,
    "start_time": "2022-07-05T17:46:47.919Z"
   },
   {
    "duration": 26,
    "start_time": "2022-07-05T17:46:47.951Z"
   },
   {
    "duration": 20,
    "start_time": "2022-07-05T17:46:47.981Z"
   },
   {
    "duration": 161,
    "start_time": "2022-07-05T17:46:48.003Z"
   },
   {
    "duration": 3127,
    "start_time": "2022-07-05T17:46:48.166Z"
   },
   {
    "duration": 43,
    "start_time": "2022-07-05T17:46:51.295Z"
   },
   {
    "duration": 39,
    "start_time": "2022-07-05T17:46:51.341Z"
   },
   {
    "duration": 48,
    "start_time": "2022-07-05T17:46:51.386Z"
   },
   {
    "duration": 6,
    "start_time": "2022-07-05T17:46:51.435Z"
   },
   {
    "duration": 52,
    "start_time": "2022-07-05T17:46:51.443Z"
   },
   {
    "duration": 16,
    "start_time": "2022-07-05T17:46:51.497Z"
   },
   {
    "duration": 16,
    "start_time": "2022-07-05T17:46:51.516Z"
   },
   {
    "duration": 7,
    "start_time": "2022-07-05T17:46:51.533Z"
   },
   {
    "duration": 95,
    "start_time": "2022-07-05T17:46:51.542Z"
   },
   {
    "duration": 16,
    "start_time": "2022-07-05T17:46:51.639Z"
   },
   {
    "duration": 8,
    "start_time": "2022-07-05T17:46:51.666Z"
   },
   {
    "duration": 15555,
    "start_time": "2022-07-05T17:46:51.675Z"
   },
   {
    "duration": 8,
    "start_time": "2022-07-05T17:47:07.233Z"
   },
   {
    "duration": 41,
    "start_time": "2022-07-05T17:47:07.244Z"
   },
   {
    "duration": 39,
    "start_time": "2022-07-05T17:47:07.301Z"
   },
   {
    "duration": 455,
    "start_time": "2022-07-05T17:47:07.342Z"
   },
   {
    "duration": 15,
    "start_time": "2022-07-05T17:47:07.799Z"
   },
   {
    "duration": 90,
    "start_time": "2022-07-05T17:47:07.815Z"
   },
   {
    "duration": 32,
    "start_time": "2022-07-05T17:47:07.907Z"
   },
   {
    "duration": 16,
    "start_time": "2022-07-05T17:47:33.346Z"
   },
   {
    "duration": 43,
    "start_time": "2022-07-05T17:47:41.747Z"
   },
   {
    "duration": 16,
    "start_time": "2022-07-05T17:47:43.201Z"
   },
   {
    "duration": 8,
    "start_time": "2022-07-05T17:48:59.394Z"
   },
   {
    "duration": 8,
    "start_time": "2022-07-05T17:51:07.285Z"
   },
   {
    "duration": 3,
    "start_time": "2022-07-05T17:51:25.114Z"
   },
   {
    "duration": 134,
    "start_time": "2022-07-05T17:52:17.323Z"
   },
   {
    "duration": 12,
    "start_time": "2022-07-05T17:59:08.240Z"
   },
   {
    "duration": 10,
    "start_time": "2022-07-05T17:59:17.438Z"
   },
   {
    "duration": 4,
    "start_time": "2022-07-05T18:00:06.107Z"
   },
   {
    "duration": 313026,
    "start_time": "2022-07-05T18:00:30.639Z"
   },
   {
    "duration": 5,
    "start_time": "2022-07-05T18:05:54.926Z"
   },
   {
    "duration": 25,
    "start_time": "2022-07-05T18:06:17.866Z"
   },
   {
    "duration": 268,
    "start_time": "2022-07-05T18:06:32.884Z"
   },
   {
    "duration": 54,
    "start_time": "2022-07-05T18:08:08.197Z"
   },
   {
    "duration": 353,
    "start_time": "2022-07-05T18:08:15.857Z"
   },
   {
    "duration": 7,
    "start_time": "2022-07-05T18:08:40.123Z"
   },
   {
    "duration": 4,
    "start_time": "2022-07-05T18:11:38.584Z"
   },
   {
    "duration": 21,
    "start_time": "2022-07-05T18:12:21.697Z"
   },
   {
    "duration": 204,
    "start_time": "2022-07-05T18:12:38.982Z"
   },
   {
    "duration": 1209,
    "start_time": "2022-07-05T18:13:02.447Z"
   },
   {
    "duration": 15,
    "start_time": "2022-07-05T18:14:01.906Z"
   },
   {
    "duration": 16,
    "start_time": "2022-07-05T18:14:32.713Z"
   },
   {
    "duration": 13,
    "start_time": "2022-07-05T18:14:51.121Z"
   },
   {
    "duration": 42,
    "start_time": "2022-07-05T18:15:42.151Z"
   },
   {
    "duration": 16,
    "start_time": "2022-07-05T18:18:04.493Z"
   },
   {
    "duration": 411,
    "start_time": "2022-07-05T18:18:20.493Z"
   },
   {
    "duration": 2186,
    "start_time": "2022-07-05T18:19:11.299Z"
   },
   {
    "duration": 11,
    "start_time": "2022-07-05T18:25:15.850Z"
   },
   {
    "duration": 14,
    "start_time": "2022-07-05T18:25:18.906Z"
   },
   {
    "duration": 15,
    "start_time": "2022-07-05T18:25:21.850Z"
   },
   {
    "duration": 253,
    "start_time": "2022-07-05T18:26:18.064Z"
   },
   {
    "duration": 20,
    "start_time": "2022-07-05T18:27:37.459Z"
   },
   {
    "duration": 7,
    "start_time": "2022-07-05T18:31:53.391Z"
   },
   {
    "duration": 5,
    "start_time": "2022-07-05T18:31:53.881Z"
   },
   {
    "duration": 321526,
    "start_time": "2022-07-05T18:32:07.756Z"
   },
   {
    "duration": 306,
    "start_time": "2022-07-05T18:38:04.564Z"
   },
   {
    "duration": 207,
    "start_time": "2022-07-05T18:38:29.111Z"
   },
   {
    "duration": 1629,
    "start_time": "2022-07-05T18:40:24.306Z"
   },
   {
    "duration": 292,
    "start_time": "2022-07-05T18:40:25.938Z"
   },
   {
    "duration": 4,
    "start_time": "2022-07-05T18:40:26.232Z"
   },
   {
    "duration": 174,
    "start_time": "2022-07-05T18:40:26.239Z"
   },
   {
    "duration": 38,
    "start_time": "2022-07-05T18:40:26.422Z"
   },
   {
    "duration": 114,
    "start_time": "2022-07-05T18:40:26.462Z"
   },
   {
    "duration": 15,
    "start_time": "2022-07-05T18:40:26.589Z"
   },
   {
    "duration": 33,
    "start_time": "2022-07-05T18:40:26.606Z"
   },
   {
    "duration": 13,
    "start_time": "2022-07-05T18:40:26.640Z"
   },
   {
    "duration": 9,
    "start_time": "2022-07-05T18:40:26.655Z"
   },
   {
    "duration": 220,
    "start_time": "2022-07-05T18:40:26.666Z"
   },
   {
    "duration": 3310,
    "start_time": "2022-07-05T18:40:26.888Z"
   },
   {
    "duration": 42,
    "start_time": "2022-07-05T18:40:30.200Z"
   },
   {
    "duration": 51,
    "start_time": "2022-07-05T18:40:30.245Z"
   },
   {
    "duration": 27,
    "start_time": "2022-07-05T18:40:30.305Z"
   },
   {
    "duration": 4,
    "start_time": "2022-07-05T18:40:30.334Z"
   },
   {
    "duration": 62,
    "start_time": "2022-07-05T18:40:30.339Z"
   },
   {
    "duration": 15,
    "start_time": "2022-07-05T18:40:30.412Z"
   },
   {
    "duration": 10,
    "start_time": "2022-07-05T18:40:30.429Z"
   },
   {
    "duration": 19,
    "start_time": "2022-07-05T18:40:30.441Z"
   },
   {
    "duration": 133,
    "start_time": "2022-07-05T18:40:30.461Z"
   },
   {
    "duration": 25,
    "start_time": "2022-07-05T18:40:30.603Z"
   },
   {
    "duration": 15,
    "start_time": "2022-07-05T18:40:30.630Z"
   },
   {
    "duration": 60,
    "start_time": "2022-07-05T18:40:30.647Z"
   },
   {
    "duration": 15021,
    "start_time": "2022-07-05T18:40:30.709Z"
   },
   {
    "duration": 5,
    "start_time": "2022-07-05T18:40:45.733Z"
   },
   {
    "duration": 9,
    "start_time": "2022-07-05T18:40:45.739Z"
   },
   {
    "duration": 12,
    "start_time": "2022-07-05T18:40:45.770Z"
   },
   {
    "duration": 336,
    "start_time": "2022-07-05T18:40:45.783Z"
   },
   {
    "duration": 7,
    "start_time": "2022-07-05T18:40:46.121Z"
   },
   {
    "duration": 67,
    "start_time": "2022-07-05T18:40:46.129Z"
   },
   {
    "duration": 20,
    "start_time": "2022-07-05T18:40:46.200Z"
   },
   {
    "duration": 3,
    "start_time": "2022-07-05T18:40:46.222Z"
   },
   {
    "duration": 162,
    "start_time": "2022-07-05T18:40:46.226Z"
   },
   {
    "duration": 12,
    "start_time": "2022-07-05T18:40:46.394Z"
   },
   {
    "duration": 8,
    "start_time": "2022-07-05T18:40:46.414Z"
   },
   {
    "duration": 123,
    "start_time": "2022-07-05T18:40:46.424Z"
   },
   {
    "duration": 0,
    "start_time": "2022-07-05T18:40:46.549Z"
   },
   {
    "duration": 7,
    "start_time": "2022-07-05T18:42:28.548Z"
   },
   {
    "duration": 4,
    "start_time": "2022-07-05T18:46:49.183Z"
   },
   {
    "duration": 1629,
    "start_time": "2022-07-05T18:47:22.308Z"
   },
   {
    "duration": 281,
    "start_time": "2022-07-05T18:47:23.939Z"
   },
   {
    "duration": 3,
    "start_time": "2022-07-05T18:47:24.222Z"
   },
   {
    "duration": 147,
    "start_time": "2022-07-05T18:47:24.228Z"
   },
   {
    "duration": 56,
    "start_time": "2022-07-05T18:47:24.388Z"
   },
   {
    "duration": 103,
    "start_time": "2022-07-05T18:47:24.446Z"
   },
   {
    "duration": 45,
    "start_time": "2022-07-05T18:47:24.551Z"
   },
   {
    "duration": 37,
    "start_time": "2022-07-05T18:47:24.600Z"
   },
   {
    "duration": 16,
    "start_time": "2022-07-05T18:47:24.639Z"
   },
   {
    "duration": 32,
    "start_time": "2022-07-05T18:47:24.657Z"
   },
   {
    "duration": 157,
    "start_time": "2022-07-05T18:47:24.694Z"
   },
   {
    "duration": 3000,
    "start_time": "2022-07-05T18:47:24.852Z"
   },
   {
    "duration": 51,
    "start_time": "2022-07-05T18:47:27.854Z"
   },
   {
    "duration": 27,
    "start_time": "2022-07-05T18:47:27.909Z"
   },
   {
    "duration": 22,
    "start_time": "2022-07-05T18:47:27.938Z"
   },
   {
    "duration": 15,
    "start_time": "2022-07-05T18:47:27.967Z"
   },
   {
    "duration": 46,
    "start_time": "2022-07-05T18:47:27.984Z"
   },
   {
    "duration": 4,
    "start_time": "2022-07-05T18:47:28.032Z"
   },
   {
    "duration": 7,
    "start_time": "2022-07-05T18:47:28.038Z"
   },
   {
    "duration": 10,
    "start_time": "2022-07-05T18:47:28.046Z"
   },
   {
    "duration": 86,
    "start_time": "2022-07-05T18:47:28.057Z"
   },
   {
    "duration": 30,
    "start_time": "2022-07-05T18:47:28.145Z"
   },
   {
    "duration": 11,
    "start_time": "2022-07-05T18:47:28.177Z"
   },
   {
    "duration": 31,
    "start_time": "2022-07-05T18:47:28.189Z"
   },
   {
    "duration": 15432,
    "start_time": "2022-07-05T18:47:28.221Z"
   },
   {
    "duration": 14,
    "start_time": "2022-07-05T18:47:43.655Z"
   },
   {
    "duration": 45,
    "start_time": "2022-07-05T18:47:43.670Z"
   },
   {
    "duration": 6,
    "start_time": "2022-07-05T18:47:43.716Z"
   },
   {
    "duration": 333,
    "start_time": "2022-07-05T18:47:43.724Z"
   },
   {
    "duration": 9,
    "start_time": "2022-07-05T18:47:44.063Z"
   },
   {
    "duration": 71,
    "start_time": "2022-07-05T18:47:44.074Z"
   },
   {
    "duration": 13,
    "start_time": "2022-07-05T18:47:44.147Z"
   },
   {
    "duration": 13,
    "start_time": "2022-07-05T18:47:44.161Z"
   },
   {
    "duration": 48,
    "start_time": "2022-07-05T18:47:44.183Z"
   },
   {
    "duration": 3,
    "start_time": "2022-07-05T18:47:44.233Z"
   },
   {
    "duration": 10,
    "start_time": "2022-07-05T18:47:44.237Z"
   },
   {
    "duration": 8,
    "start_time": "2022-07-05T18:47:44.248Z"
   },
   {
    "duration": 84,
    "start_time": "2022-07-05T18:47:44.257Z"
   },
   {
    "duration": 0,
    "start_time": "2022-07-05T18:47:44.343Z"
   },
   {
    "duration": 0,
    "start_time": "2022-07-05T18:47:44.344Z"
   },
   {
    "duration": 0,
    "start_time": "2022-07-05T18:47:44.345Z"
   },
   {
    "duration": 10,
    "start_time": "2022-07-05T18:48:08.385Z"
   },
   {
    "duration": 1661,
    "start_time": "2022-07-05T18:48:41.231Z"
   },
   {
    "duration": 316,
    "start_time": "2022-07-05T18:48:42.896Z"
   },
   {
    "duration": 3,
    "start_time": "2022-07-05T18:48:43.214Z"
   },
   {
    "duration": 106,
    "start_time": "2022-07-05T18:48:43.219Z"
   },
   {
    "duration": 77,
    "start_time": "2022-07-05T18:48:43.327Z"
   },
   {
    "duration": 134,
    "start_time": "2022-07-05T18:48:43.412Z"
   },
   {
    "duration": 25,
    "start_time": "2022-07-05T18:48:43.547Z"
   },
   {
    "duration": 27,
    "start_time": "2022-07-05T18:48:43.574Z"
   },
   {
    "duration": 15,
    "start_time": "2022-07-05T18:48:43.603Z"
   },
   {
    "duration": 10,
    "start_time": "2022-07-05T18:48:43.620Z"
   },
   {
    "duration": 188,
    "start_time": "2022-07-05T18:48:43.632Z"
   },
   {
    "duration": 3000,
    "start_time": "2022-07-05T18:48:43.822Z"
   },
   {
    "duration": 60,
    "start_time": "2022-07-05T18:48:46.825Z"
   },
   {
    "duration": 24,
    "start_time": "2022-07-05T18:48:46.886Z"
   },
   {
    "duration": 9,
    "start_time": "2022-07-05T18:48:46.912Z"
   },
   {
    "duration": 4,
    "start_time": "2022-07-05T18:48:46.923Z"
   },
   {
    "duration": 44,
    "start_time": "2022-07-05T18:48:46.929Z"
   },
   {
    "duration": 20,
    "start_time": "2022-07-05T18:48:46.981Z"
   },
   {
    "duration": 9,
    "start_time": "2022-07-05T18:48:47.003Z"
   },
   {
    "duration": 9,
    "start_time": "2022-07-05T18:48:47.014Z"
   },
   {
    "duration": 83,
    "start_time": "2022-07-05T18:48:47.025Z"
   },
   {
    "duration": 14,
    "start_time": "2022-07-05T18:48:47.110Z"
   },
   {
    "duration": 6,
    "start_time": "2022-07-05T18:48:47.126Z"
   },
   {
    "duration": 34,
    "start_time": "2022-07-05T18:48:47.134Z"
   },
   {
    "duration": 14227,
    "start_time": "2022-07-05T18:48:47.176Z"
   },
   {
    "duration": 5,
    "start_time": "2022-07-05T18:49:01.405Z"
   },
   {
    "duration": 46,
    "start_time": "2022-07-05T18:49:01.412Z"
   },
   {
    "duration": 67,
    "start_time": "2022-07-05T18:49:01.462Z"
   },
   {
    "duration": 268,
    "start_time": "2022-07-05T18:49:01.531Z"
   },
   {
    "duration": 6,
    "start_time": "2022-07-05T18:49:01.801Z"
   },
   {
    "duration": 68,
    "start_time": "2022-07-05T18:49:01.809Z"
   },
   {
    "duration": 21,
    "start_time": "2022-07-05T18:49:01.879Z"
   },
   {
    "duration": 32,
    "start_time": "2022-07-05T18:49:01.901Z"
   },
   {
    "duration": 151,
    "start_time": "2022-07-05T18:49:01.935Z"
   },
   {
    "duration": 4,
    "start_time": "2022-07-05T18:49:02.089Z"
   },
   {
    "duration": 6,
    "start_time": "2022-07-05T18:49:02.094Z"
   },
   {
    "duration": 27,
    "start_time": "2022-07-05T18:49:02.102Z"
   },
   {
    "duration": 30,
    "start_time": "2022-07-05T18:49:02.131Z"
   },
   {
    "duration": 2764,
    "start_time": "2022-07-05T18:49:02.163Z"
   },
   {
    "duration": 385,
    "start_time": "2022-07-05T18:49:04.929Z"
   },
   {
    "duration": 209,
    "start_time": "2022-07-05T18:49:05.315Z"
   },
   {
    "duration": 154,
    "start_time": "2022-07-05T18:51:31.723Z"
   },
   {
    "duration": 30,
    "start_time": "2022-07-05T18:51:43.127Z"
   },
   {
    "duration": 6,
    "start_time": "2022-07-05T18:53:53.840Z"
   },
   {
    "duration": 14,
    "start_time": "2022-07-05T18:54:07.099Z"
   },
   {
    "duration": 3,
    "start_time": "2022-07-05T18:58:59.540Z"
   },
   {
    "duration": 7,
    "start_time": "2022-07-05T18:59:05.863Z"
   },
   {
    "duration": 4,
    "start_time": "2022-07-05T18:59:22.141Z"
   },
   {
    "duration": 7,
    "start_time": "2022-07-05T19:00:00.207Z"
   },
   {
    "duration": 15,
    "start_time": "2022-07-05T19:00:52.969Z"
   },
   {
    "duration": 51,
    "start_time": "2022-07-06T15:25:00.857Z"
   },
   {
    "duration": 1787,
    "start_time": "2022-07-06T15:26:16.231Z"
   },
   {
    "duration": 1197,
    "start_time": "2022-07-06T15:26:18.020Z"
   },
   {
    "duration": 2,
    "start_time": "2022-07-06T15:26:19.219Z"
   },
   {
    "duration": 87,
    "start_time": "2022-07-06T15:26:19.223Z"
   },
   {
    "duration": 37,
    "start_time": "2022-07-06T15:26:19.311Z"
   },
   {
    "duration": 86,
    "start_time": "2022-07-06T15:26:19.350Z"
   },
   {
    "duration": 11,
    "start_time": "2022-07-06T15:26:19.438Z"
   },
   {
    "duration": 17,
    "start_time": "2022-07-06T15:26:19.451Z"
   },
   {
    "duration": 34,
    "start_time": "2022-07-06T15:26:19.470Z"
   },
   {
    "duration": 11,
    "start_time": "2022-07-06T15:26:19.508Z"
   },
   {
    "duration": 158,
    "start_time": "2022-07-06T15:26:19.521Z"
   },
   {
    "duration": 2963,
    "start_time": "2022-07-06T15:26:19.681Z"
   },
   {
    "duration": 39,
    "start_time": "2022-07-06T15:26:22.646Z"
   },
   {
    "duration": 35,
    "start_time": "2022-07-06T15:26:22.688Z"
   },
   {
    "duration": 18,
    "start_time": "2022-07-06T15:26:22.725Z"
   },
   {
    "duration": 4,
    "start_time": "2022-07-06T15:26:22.745Z"
   },
   {
    "duration": 22,
    "start_time": "2022-07-06T15:26:22.751Z"
   },
   {
    "duration": 23,
    "start_time": "2022-07-06T15:26:22.775Z"
   },
   {
    "duration": 6,
    "start_time": "2022-07-06T15:26:22.800Z"
   },
   {
    "duration": 6,
    "start_time": "2022-07-06T15:26:22.808Z"
   },
   {
    "duration": 82,
    "start_time": "2022-07-06T15:26:22.816Z"
   },
   {
    "duration": 17,
    "start_time": "2022-07-06T15:26:22.900Z"
   },
   {
    "duration": 7,
    "start_time": "2022-07-06T15:26:22.919Z"
   },
   {
    "duration": 12,
    "start_time": "2022-07-06T15:26:22.928Z"
   },
   {
    "duration": 13435,
    "start_time": "2022-07-06T15:26:22.942Z"
   },
   {
    "duration": 4,
    "start_time": "2022-07-06T15:26:36.379Z"
   },
   {
    "duration": 19,
    "start_time": "2022-07-06T15:26:36.384Z"
   },
   {
    "duration": 7,
    "start_time": "2022-07-06T15:26:36.406Z"
   },
   {
    "duration": 243,
    "start_time": "2022-07-06T15:26:36.415Z"
   },
   {
    "duration": 7,
    "start_time": "2022-07-06T15:26:36.660Z"
   },
   {
    "duration": 54,
    "start_time": "2022-07-06T15:26:36.669Z"
   },
   {
    "duration": 16,
    "start_time": "2022-07-06T15:26:36.724Z"
   },
   {
    "duration": 3,
    "start_time": "2022-07-06T15:26:36.743Z"
   },
   {
    "duration": 162,
    "start_time": "2022-07-06T15:26:36.748Z"
   },
   {
    "duration": 4,
    "start_time": "2022-07-06T15:26:36.913Z"
   },
   {
    "duration": 20,
    "start_time": "2022-07-06T15:26:36.919Z"
   },
   {
    "duration": 13,
    "start_time": "2022-07-06T15:26:36.942Z"
   },
   {
    "duration": 12,
    "start_time": "2022-07-06T15:26:36.959Z"
   },
   {
    "duration": 16,
    "start_time": "2022-07-06T15:26:36.973Z"
   },
   {
    "duration": 2680,
    "start_time": "2022-07-06T15:26:36.991Z"
   },
   {
    "duration": 282,
    "start_time": "2022-07-06T15:26:39.672Z"
   },
   {
    "duration": 167,
    "start_time": "2022-07-06T15:26:39.956Z"
   },
   {
    "duration": 3,
    "start_time": "2022-07-06T15:32:09.043Z"
   },
   {
    "duration": 4,
    "start_time": "2022-07-06T15:32:49.713Z"
   },
   {
    "duration": 4,
    "start_time": "2022-07-06T15:33:15.633Z"
   },
   {
    "duration": 2068,
    "start_time": "2022-07-06T15:33:33.128Z"
   },
   {
    "duration": 87,
    "start_time": "2022-07-06T15:33:52.726Z"
   },
   {
    "duration": 47,
    "start_time": "2022-07-06T15:34:16.668Z"
   },
   {
    "duration": 4,
    "start_time": "2022-07-06T15:35:34.366Z"
   },
   {
    "duration": 5,
    "start_time": "2022-07-06T15:37:19.207Z"
   },
   {
    "duration": 4,
    "start_time": "2022-07-06T15:37:25.779Z"
   },
   {
    "duration": 3,
    "start_time": "2022-07-06T15:37:51.017Z"
   },
   {
    "duration": 4,
    "start_time": "2022-07-06T15:38:07.295Z"
   },
   {
    "duration": 3,
    "start_time": "2022-07-06T15:38:21.815Z"
   },
   {
    "duration": 1267873,
    "start_time": "2022-07-06T15:38:39.218Z"
   },
   {
    "duration": 4,
    "start_time": "2022-07-06T16:02:20.688Z"
   },
   {
    "duration": 9339,
    "start_time": "2022-07-06T16:02:48.213Z"
   },
   {
    "duration": 4814,
    "start_time": "2022-07-06T16:03:03.832Z"
   },
   {
    "duration": 4,
    "start_time": "2022-07-06T16:05:11.790Z"
   },
   {
    "duration": 4,
    "start_time": "2022-07-06T16:06:05.979Z"
   },
   {
    "duration": 3,
    "start_time": "2022-07-06T16:06:10.747Z"
   },
   {
    "duration": 679299,
    "start_time": "2022-07-06T16:06:12.076Z"
   },
   {
    "duration": 7,
    "start_time": "2022-07-06T16:17:37.165Z"
   },
   {
    "duration": 9474,
    "start_time": "2022-07-06T16:17:39.914Z"
   },
   {
    "duration": 4851,
    "start_time": "2022-07-06T16:17:49.390Z"
   },
   {
    "duration": 3,
    "start_time": "2022-07-06T16:19:40.462Z"
   },
   {
    "duration": 3,
    "start_time": "2022-07-06T16:19:44.472Z"
   },
   {
    "duration": 4,
    "start_time": "2022-07-06T16:19:59.941Z"
   },
   {
    "duration": 461119,
    "start_time": "2022-07-06T16:20:00.673Z"
   },
   {
    "duration": 1948,
    "start_time": "2022-07-06T16:27:49.545Z"
   },
   {
    "duration": 121,
    "start_time": "2022-07-06T16:27:56.968Z"
   },
   {
    "duration": 16,
    "start_time": "2022-07-06T16:28:06.578Z"
   },
   {
    "duration": 21,
    "start_time": "2022-07-06T16:28:09.562Z"
   },
   {
    "duration": 5,
    "start_time": "2022-07-06T16:28:31.272Z"
   },
   {
    "duration": 9382,
    "start_time": "2022-07-06T16:28:31.789Z"
   },
   {
    "duration": 5000,
    "start_time": "2022-07-06T16:28:41.173Z"
   },
   {
    "duration": 12,
    "start_time": "2022-07-06T16:29:33.146Z"
   },
   {
    "duration": 15,
    "start_time": "2022-07-06T16:29:40.029Z"
   },
   {
    "duration": 6252,
    "start_time": "2022-07-06T16:30:39.524Z"
   },
   {
    "duration": 26,
    "start_time": "2022-07-06T16:31:36.390Z"
   },
   {
    "duration": 13,
    "start_time": "2022-07-06T16:32:35.854Z"
   },
   {
    "duration": 25,
    "start_time": "2022-07-06T16:36:46.988Z"
   },
   {
    "duration": 11,
    "start_time": "2022-07-06T16:37:30.460Z"
   },
   {
    "duration": 13,
    "start_time": "2022-07-06T16:37:55.935Z"
   },
   {
    "duration": 5,
    "start_time": "2022-07-06T16:38:01.064Z"
   },
   {
    "duration": 84,
    "start_time": "2022-07-06T16:46:11.938Z"
   },
   {
    "duration": 100,
    "start_time": "2022-07-06T16:47:03.004Z"
   },
   {
    "duration": 80,
    "start_time": "2022-07-06T16:47:41.930Z"
   },
   {
    "duration": 8,
    "start_time": "2022-07-06T16:47:57.486Z"
   },
   {
    "duration": 2052,
    "start_time": "2022-07-06T16:48:27.356Z"
   },
   {
    "duration": 1968,
    "start_time": "2022-07-06T16:52:31.043Z"
   },
   {
    "duration": 2,
    "start_time": "2022-07-06T16:52:57.644Z"
   },
   {
    "duration": 3,
    "start_time": "2022-07-06T16:53:12.966Z"
   },
   {
    "duration": 4,
    "start_time": "2022-07-06T16:53:23.387Z"
   },
   {
    "duration": 5,
    "start_time": "2022-07-06T16:53:26.581Z"
   },
   {
    "duration": 1951,
    "start_time": "2022-07-06T16:53:27.956Z"
   },
   {
    "duration": 3,
    "start_time": "2022-07-06T16:53:31.923Z"
   },
   {
    "duration": 6,
    "start_time": "2022-07-06T16:53:56.950Z"
   },
   {
    "duration": 2124,
    "start_time": "2022-07-06T16:53:59.782Z"
   },
   {
    "duration": 3,
    "start_time": "2022-07-06T16:54:02.887Z"
   },
   {
    "duration": 9,
    "start_time": "2022-07-06T16:54:27.955Z"
   },
   {
    "duration": 2121,
    "start_time": "2022-07-06T16:54:28.898Z"
   },
   {
    "duration": 5,
    "start_time": "2022-07-06T16:54:31.021Z"
   },
   {
    "duration": 6,
    "start_time": "2022-07-06T16:55:29.275Z"
   },
   {
    "duration": 2043,
    "start_time": "2022-07-06T16:56:26.325Z"
   },
   {
    "duration": 9175,
    "start_time": "2022-07-06T16:57:25.842Z"
   },
   {
    "duration": 3,
    "start_time": "2022-07-06T17:02:20.364Z"
   },
   {
    "duration": 12,
    "start_time": "2022-07-06T17:02:23.042Z"
   },
   {
    "duration": 27,
    "start_time": "2022-07-06T17:05:44.079Z"
   },
   {
    "duration": 50,
    "start_time": "2022-07-06T17:06:36.799Z"
   },
   {
    "duration": 3,
    "start_time": "2022-07-06T17:06:39.545Z"
   },
   {
    "duration": 13,
    "start_time": "2022-07-06T17:06:39.869Z"
   },
   {
    "duration": 32,
    "start_time": "2022-07-06T17:06:40.244Z"
   },
   {
    "duration": 47,
    "start_time": "2022-07-06T17:06:40.652Z"
   },
   {
    "duration": 6,
    "start_time": "2022-07-06T17:08:44.435Z"
   },
   {
    "duration": 11,
    "start_time": "2022-07-06T17:09:34.146Z"
   },
   {
    "duration": 4,
    "start_time": "2022-07-06T17:09:40.478Z"
   },
   {
    "duration": 4,
    "start_time": "2022-07-06T17:09:47.479Z"
   },
   {
    "duration": 6,
    "start_time": "2022-07-06T17:09:59.904Z"
   },
   {
    "duration": 8,
    "start_time": "2022-07-06T17:13:42.989Z"
   },
   {
    "duration": 9,
    "start_time": "2022-07-06T17:15:36.687Z"
   },
   {
    "duration": 10,
    "start_time": "2022-07-06T17:15:54.638Z"
   },
   {
    "duration": 6,
    "start_time": "2022-07-06T17:16:11.466Z"
   },
   {
    "duration": 9,
    "start_time": "2022-07-06T17:16:12.144Z"
   },
   {
    "duration": 6,
    "start_time": "2022-07-06T17:16:19.844Z"
   },
   {
    "duration": 7,
    "start_time": "2022-07-06T17:16:20.324Z"
   },
   {
    "duration": 1611,
    "start_time": "2022-07-06T17:16:25.206Z"
   },
   {
    "duration": 303,
    "start_time": "2022-07-06T17:16:26.820Z"
   },
   {
    "duration": 3,
    "start_time": "2022-07-06T17:16:27.125Z"
   },
   {
    "duration": 97,
    "start_time": "2022-07-06T17:16:27.131Z"
   },
   {
    "duration": 38,
    "start_time": "2022-07-06T17:16:27.230Z"
   },
   {
    "duration": 100,
    "start_time": "2022-07-06T17:16:27.270Z"
   },
   {
    "duration": 27,
    "start_time": "2022-07-06T17:16:27.372Z"
   },
   {
    "duration": 18,
    "start_time": "2022-07-06T17:16:27.401Z"
   },
   {
    "duration": 12,
    "start_time": "2022-07-06T17:16:27.420Z"
   },
   {
    "duration": 7,
    "start_time": "2022-07-06T17:16:27.436Z"
   },
   {
    "duration": 163,
    "start_time": "2022-07-06T17:16:27.445Z"
   },
   {
    "duration": 2980,
    "start_time": "2022-07-06T17:16:27.610Z"
   },
   {
    "duration": 45,
    "start_time": "2022-07-06T17:16:30.597Z"
   },
   {
    "duration": 19,
    "start_time": "2022-07-06T17:16:30.644Z"
   },
   {
    "duration": 21,
    "start_time": "2022-07-06T17:16:30.665Z"
   },
   {
    "duration": 5,
    "start_time": "2022-07-06T17:16:30.697Z"
   },
   {
    "duration": 39,
    "start_time": "2022-07-06T17:16:30.705Z"
   },
   {
    "duration": 4,
    "start_time": "2022-07-06T17:16:30.746Z"
   },
   {
    "duration": 19,
    "start_time": "2022-07-06T17:16:30.752Z"
   },
   {
    "duration": 19,
    "start_time": "2022-07-06T17:16:30.773Z"
   },
   {
    "duration": 64,
    "start_time": "2022-07-06T17:16:30.794Z"
   },
   {
    "duration": 21,
    "start_time": "2022-07-06T17:16:30.860Z"
   },
   {
    "duration": 15,
    "start_time": "2022-07-06T17:16:30.884Z"
   },
   {
    "duration": 7,
    "start_time": "2022-07-06T17:16:30.902Z"
   },
   {
    "duration": 13647,
    "start_time": "2022-07-06T17:16:30.913Z"
   },
   {
    "duration": 4,
    "start_time": "2022-07-06T17:16:44.562Z"
   },
   {
    "duration": 12,
    "start_time": "2022-07-06T17:16:44.568Z"
   },
   {
    "duration": 15,
    "start_time": "2022-07-06T17:16:44.584Z"
   },
   {
    "duration": 351,
    "start_time": "2022-07-06T17:16:44.601Z"
   },
   {
    "duration": 6,
    "start_time": "2022-07-06T17:16:44.954Z"
   },
   {
    "duration": 48,
    "start_time": "2022-07-06T17:16:44.962Z"
   },
   {
    "duration": 15,
    "start_time": "2022-07-06T17:16:45.012Z"
   },
   {
    "duration": 4,
    "start_time": "2022-07-06T17:16:45.029Z"
   },
   {
    "duration": 25,
    "start_time": "2022-07-06T17:16:45.035Z"
   },
   {
    "duration": 5,
    "start_time": "2022-07-06T17:16:45.064Z"
   },
   {
    "duration": 30,
    "start_time": "2022-07-06T17:16:45.071Z"
   },
   {
    "duration": 12,
    "start_time": "2022-07-06T17:16:45.102Z"
   },
   {
    "duration": 7,
    "start_time": "2022-07-06T17:16:45.116Z"
   },
   {
    "duration": 9,
    "start_time": "2022-07-06T17:16:45.125Z"
   },
   {
    "duration": 2803,
    "start_time": "2022-07-06T17:16:45.135Z"
   },
   {
    "duration": 286,
    "start_time": "2022-07-06T17:16:47.940Z"
   },
   {
    "duration": 293,
    "start_time": "2022-07-06T17:16:48.227Z"
   },
   {
    "duration": 6,
    "start_time": "2022-07-06T17:16:48.523Z"
   },
   {
    "duration": 2069,
    "start_time": "2022-07-06T17:16:48.531Z"
   },
   {
    "duration": 4,
    "start_time": "2022-07-06T17:16:50.601Z"
   },
   {
    "duration": 14,
    "start_time": "2022-07-06T17:16:50.606Z"
   },
   {
    "duration": 11,
    "start_time": "2022-07-06T17:16:50.622Z"
   },
   {
    "duration": 2012,
    "start_time": "2022-07-06T17:16:50.635Z"
   },
   {
    "duration": 4,
    "start_time": "2022-07-06T17:16:52.649Z"
   },
   {
    "duration": 112,
    "start_time": "2022-07-06T17:16:52.655Z"
   },
   {
    "duration": 54,
    "start_time": "2022-07-06T17:16:52.769Z"
   },
   {
    "duration": 1757,
    "start_time": "2022-07-06T17:16:52.825Z"
   },
   {
    "duration": 4,
    "start_time": "2022-07-06T17:16:54.583Z"
   },
   {
    "duration": 12,
    "start_time": "2022-07-06T17:16:54.588Z"
   },
   {
    "duration": 10,
    "start_time": "2022-07-06T17:16:54.601Z"
   },
   {
    "duration": 455906,
    "start_time": "2022-07-06T17:16:54.613Z"
   },
   {
    "duration": 5,
    "start_time": "2022-07-06T17:24:30.521Z"
   },
   {
    "duration": 10654,
    "start_time": "2022-07-06T17:24:30.528Z"
   },
   {
    "duration": 4969,
    "start_time": "2022-07-06T17:24:41.184Z"
   },
   {
    "duration": 9592,
    "start_time": "2022-07-06T17:24:46.155Z"
   },
   {
    "duration": 3,
    "start_time": "2022-07-06T17:24:55.749Z"
   },
   {
    "duration": 20,
    "start_time": "2022-07-06T17:24:55.753Z"
   },
   {
    "duration": 57,
    "start_time": "2022-07-06T17:24:55.775Z"
   },
   {
    "duration": 8,
    "start_time": "2022-07-06T17:24:55.833Z"
   },
   {
    "duration": 70,
    "start_time": "2022-07-06T17:24:55.843Z"
   },
   {
    "duration": 5,
    "start_time": "2022-07-06T17:24:55.914Z"
   },
   {
    "duration": 110,
    "start_time": "2022-07-06T17:24:55.920Z"
   },
   {
    "duration": 8,
    "start_time": "2022-07-06T17:24:56.032Z"
   },
   {
    "duration": 3,
    "start_time": "2022-07-06T17:24:56.042Z"
   },
   {
    "duration": 9274,
    "start_time": "2022-07-06T17:25:08.054Z"
   },
   {
    "duration": 245,
    "start_time": "2022-07-06T17:25:18.482Z"
   },
   {
    "duration": 4,
    "start_time": "2022-07-06T17:26:02.773Z"
   },
   {
    "duration": 550,
    "start_time": "2022-07-06T17:33:02.717Z"
   },
   {
    "duration": 186,
    "start_time": "2022-07-06T17:35:50.278Z"
   },
   {
    "duration": 39,
    "start_time": "2022-07-06T17:36:53.348Z"
   },
   {
    "duration": 220,
    "start_time": "2022-07-06T17:38:08.899Z"
   },
   {
    "duration": 971,
    "start_time": "2022-07-06T17:38:48.211Z"
   },
   {
    "duration": 958,
    "start_time": "2022-07-06T17:39:12.142Z"
   },
   {
    "duration": 690,
    "start_time": "2022-07-06T17:39:43.847Z"
   },
   {
    "duration": 623,
    "start_time": "2022-07-06T17:40:31.547Z"
   },
   {
    "duration": 562,
    "start_time": "2022-07-06T17:42:59.012Z"
   },
   {
    "duration": 2687,
    "start_time": "2022-07-06T17:43:37.157Z"
   },
   {
    "duration": 2696,
    "start_time": "2022-07-06T17:45:00.216Z"
   },
   {
    "duration": 2568,
    "start_time": "2022-07-06T17:45:07.068Z"
   },
   {
    "duration": 2600,
    "start_time": "2022-07-06T17:45:29.537Z"
   },
   {
    "duration": 2587,
    "start_time": "2022-07-06T17:45:52.821Z"
   },
   {
    "duration": 4,
    "start_time": "2022-07-06T17:54:34.230Z"
   },
   {
    "duration": 1575,
    "start_time": "2022-07-06T18:11:02.786Z"
   },
   {
    "duration": 262,
    "start_time": "2022-07-06T18:11:04.363Z"
   },
   {
    "duration": 3,
    "start_time": "2022-07-06T18:11:04.627Z"
   },
   {
    "duration": 104,
    "start_time": "2022-07-06T18:11:04.632Z"
   },
   {
    "duration": 37,
    "start_time": "2022-07-06T18:11:04.738Z"
   },
   {
    "duration": 74,
    "start_time": "2022-07-06T18:11:04.798Z"
   },
   {
    "duration": 30,
    "start_time": "2022-07-06T18:11:04.873Z"
   },
   {
    "duration": 18,
    "start_time": "2022-07-06T18:11:04.904Z"
   },
   {
    "duration": 12,
    "start_time": "2022-07-06T18:11:04.924Z"
   },
   {
    "duration": 7,
    "start_time": "2022-07-06T18:11:04.939Z"
   },
   {
    "duration": 168,
    "start_time": "2022-07-06T18:11:04.948Z"
   },
   {
    "duration": 3011,
    "start_time": "2022-07-06T18:11:05.118Z"
   },
   {
    "duration": 37,
    "start_time": "2022-07-06T18:11:08.131Z"
   },
   {
    "duration": 34,
    "start_time": "2022-07-06T18:11:08.170Z"
   },
   {
    "duration": 14,
    "start_time": "2022-07-06T18:11:08.206Z"
   },
   {
    "duration": 4,
    "start_time": "2022-07-06T18:11:08.222Z"
   },
   {
    "duration": 26,
    "start_time": "2022-07-06T18:11:08.228Z"
   },
   {
    "duration": 8,
    "start_time": "2022-07-06T18:11:08.255Z"
   },
   {
    "duration": 7,
    "start_time": "2022-07-06T18:11:08.264Z"
   },
   {
    "duration": 34,
    "start_time": "2022-07-06T18:11:08.273Z"
   },
   {
    "duration": 65,
    "start_time": "2022-07-06T18:11:08.309Z"
   },
   {
    "duration": 15,
    "start_time": "2022-07-06T18:11:08.376Z"
   },
   {
    "duration": 8,
    "start_time": "2022-07-06T18:11:08.393Z"
   },
   {
    "duration": 10,
    "start_time": "2022-07-06T18:11:08.403Z"
   },
   {
    "duration": 13917,
    "start_time": "2022-07-06T18:11:08.415Z"
   },
   {
    "duration": 4,
    "start_time": "2022-07-06T18:11:22.333Z"
   },
   {
    "duration": 7,
    "start_time": "2022-07-06T18:11:22.339Z"
   },
   {
    "duration": 6,
    "start_time": "2022-07-06T18:11:22.350Z"
   },
   {
    "duration": 372,
    "start_time": "2022-07-06T18:11:22.358Z"
   },
   {
    "duration": 7,
    "start_time": "2022-07-06T18:11:22.732Z"
   },
   {
    "duration": 39,
    "start_time": "2022-07-06T18:11:22.741Z"
   },
   {
    "duration": 29,
    "start_time": "2022-07-06T18:11:22.782Z"
   },
   {
    "duration": 2,
    "start_time": "2022-07-06T18:11:22.813Z"
   },
   {
    "duration": 28,
    "start_time": "2022-07-06T18:11:22.817Z"
   },
   {
    "duration": 3,
    "start_time": "2022-07-06T18:11:22.847Z"
   },
   {
    "duration": 6,
    "start_time": "2022-07-06T18:11:22.851Z"
   },
   {
    "duration": 7,
    "start_time": "2022-07-06T18:11:22.859Z"
   },
   {
    "duration": 33,
    "start_time": "2022-07-06T18:11:22.868Z"
   },
   {
    "duration": 5,
    "start_time": "2022-07-06T18:11:22.903Z"
   },
   {
    "duration": 2656,
    "start_time": "2022-07-06T18:11:22.910Z"
   },
   {
    "duration": 279,
    "start_time": "2022-07-06T18:11:25.568Z"
   },
   {
    "duration": 185,
    "start_time": "2022-07-06T18:11:25.849Z"
   },
   {
    "duration": 6,
    "start_time": "2022-07-06T18:11:26.036Z"
   },
   {
    "duration": 2155,
    "start_time": "2022-07-06T18:11:26.044Z"
   },
   {
    "duration": 3,
    "start_time": "2022-07-06T18:11:28.201Z"
   },
   {
    "duration": 9,
    "start_time": "2022-07-06T18:11:28.206Z"
   },
   {
    "duration": 6,
    "start_time": "2022-07-06T18:11:28.217Z"
   },
   {
    "duration": 2074,
    "start_time": "2022-07-06T18:11:28.225Z"
   },
   {
    "duration": 4,
    "start_time": "2022-07-06T18:11:30.301Z"
   },
   {
    "duration": 105,
    "start_time": "2022-07-06T18:11:30.307Z"
   },
   {
    "duration": 51,
    "start_time": "2022-07-06T18:11:30.414Z"
   },
   {
    "duration": 1739,
    "start_time": "2022-07-06T18:11:30.467Z"
   },
   {
    "duration": 2,
    "start_time": "2022-07-06T18:11:32.208Z"
   },
   {
    "duration": 24,
    "start_time": "2022-07-06T18:11:32.212Z"
   },
   {
    "duration": 13,
    "start_time": "2022-07-06T18:11:32.237Z"
   },
   {
    "duration": 474416,
    "start_time": "2022-07-06T18:11:32.252Z"
   },
   {
    "duration": 5,
    "start_time": "2022-07-06T18:19:26.671Z"
   },
   {
    "duration": 10704,
    "start_time": "2022-07-06T18:19:26.679Z"
   },
   {
    "duration": 4971,
    "start_time": "2022-07-06T18:19:37.386Z"
   },
   {
    "duration": 9835,
    "start_time": "2022-07-06T18:19:42.359Z"
   },
   {
    "duration": 5,
    "start_time": "2022-07-06T18:19:52.198Z"
   },
   {
    "duration": 23,
    "start_time": "2022-07-06T18:19:52.208Z"
   },
   {
    "duration": 38,
    "start_time": "2022-07-06T18:19:52.233Z"
   },
   {
    "duration": 49,
    "start_time": "2022-07-06T18:19:52.273Z"
   },
   {
    "duration": 25,
    "start_time": "2022-07-06T18:19:52.398Z"
   },
   {
    "duration": 13,
    "start_time": "2022-07-06T18:19:52.426Z"
   },
   {
    "duration": 10232,
    "start_time": "2022-07-06T18:19:52.443Z"
   },
   {
    "duration": 253,
    "start_time": "2022-07-06T18:20:02.677Z"
   },
   {
    "duration": 4,
    "start_time": "2022-07-06T18:20:02.932Z"
   },
   {
    "duration": 9,
    "start_time": "2022-07-06T18:20:02.938Z"
   },
   {
    "duration": 2157,
    "start_time": "2022-07-06T18:20:02.949Z"
   },
   {
    "duration": 1526,
    "start_time": "2022-07-07T16:29:07.090Z"
   },
   {
    "duration": 568,
    "start_time": "2022-07-07T16:29:08.619Z"
   },
   {
    "duration": 3,
    "start_time": "2022-07-07T16:29:09.188Z"
   },
   {
    "duration": 89,
    "start_time": "2022-07-07T16:29:09.193Z"
   },
   {
    "duration": 33,
    "start_time": "2022-07-07T16:29:09.285Z"
   },
   {
    "duration": 93,
    "start_time": "2022-07-07T16:29:09.320Z"
   },
   {
    "duration": 10,
    "start_time": "2022-07-07T16:29:09.415Z"
   },
   {
    "duration": 17,
    "start_time": "2022-07-07T16:29:09.426Z"
   },
   {
    "duration": 12,
    "start_time": "2022-07-07T16:29:09.464Z"
   },
   {
    "duration": 8,
    "start_time": "2022-07-07T16:29:09.477Z"
   },
   {
    "duration": 133,
    "start_time": "2022-07-07T16:29:09.486Z"
   },
   {
    "duration": 2480,
    "start_time": "2022-07-07T16:29:09.620Z"
   },
   {
    "duration": 34,
    "start_time": "2022-07-07T16:29:12.101Z"
   },
   {
    "duration": 27,
    "start_time": "2022-07-07T16:29:12.138Z"
   },
   {
    "duration": 12,
    "start_time": "2022-07-07T16:29:12.166Z"
   },
   {
    "duration": 4,
    "start_time": "2022-07-07T16:29:12.179Z"
   },
   {
    "duration": 24,
    "start_time": "2022-07-07T16:29:12.184Z"
   },
   {
    "duration": 4,
    "start_time": "2022-07-07T16:29:12.209Z"
   },
   {
    "duration": 6,
    "start_time": "2022-07-07T16:29:12.215Z"
   },
   {
    "duration": 7,
    "start_time": "2022-07-07T16:29:12.223Z"
   },
   {
    "duration": 74,
    "start_time": "2022-07-07T16:29:12.232Z"
   },
   {
    "duration": 16,
    "start_time": "2022-07-07T16:29:12.307Z"
   },
   {
    "duration": 5,
    "start_time": "2022-07-07T16:29:12.324Z"
   },
   {
    "duration": 11,
    "start_time": "2022-07-07T16:29:12.331Z"
   },
   {
    "duration": 10943,
    "start_time": "2022-07-07T16:29:12.343Z"
   },
   {
    "duration": 3,
    "start_time": "2022-07-07T16:29:23.288Z"
   },
   {
    "duration": 9,
    "start_time": "2022-07-07T16:29:23.292Z"
   },
   {
    "duration": 6,
    "start_time": "2022-07-07T16:29:23.303Z"
   },
   {
    "duration": 309,
    "start_time": "2022-07-07T16:29:23.311Z"
   },
   {
    "duration": 6,
    "start_time": "2022-07-07T16:29:23.622Z"
   },
   {
    "duration": 46,
    "start_time": "2022-07-07T16:29:23.629Z"
   },
   {
    "duration": 13,
    "start_time": "2022-07-07T16:29:23.677Z"
   },
   {
    "duration": 3,
    "start_time": "2022-07-07T16:29:23.692Z"
   },
   {
    "duration": 31,
    "start_time": "2022-07-07T16:29:23.696Z"
   },
   {
    "duration": 8,
    "start_time": "2022-07-07T16:29:23.729Z"
   },
   {
    "duration": 7,
    "start_time": "2022-07-07T16:29:23.738Z"
   },
   {
    "duration": 18,
    "start_time": "2022-07-07T16:29:23.746Z"
   },
   {
    "duration": 3,
    "start_time": "2022-07-07T16:29:23.765Z"
   },
   {
    "duration": 5,
    "start_time": "2022-07-07T16:29:23.770Z"
   },
   {
    "duration": 2511,
    "start_time": "2022-07-07T16:29:23.776Z"
   },
   {
    "duration": 309,
    "start_time": "2022-07-07T16:29:26.291Z"
   },
   {
    "duration": 180,
    "start_time": "2022-07-07T16:29:26.601Z"
   },
   {
    "duration": 6,
    "start_time": "2022-07-07T16:29:26.782Z"
   },
   {
    "duration": 1892,
    "start_time": "2022-07-07T16:29:26.790Z"
   },
   {
    "duration": 3,
    "start_time": "2022-07-07T16:29:28.683Z"
   },
   {
    "duration": 6,
    "start_time": "2022-07-07T16:29:28.688Z"
   },
   {
    "duration": 6,
    "start_time": "2022-07-07T16:29:28.695Z"
   },
   {
    "duration": 1824,
    "start_time": "2022-07-07T16:29:28.702Z"
   },
   {
    "duration": 4,
    "start_time": "2022-07-07T16:29:30.528Z"
   },
   {
    "duration": 123,
    "start_time": "2022-07-07T16:29:30.533Z"
   },
   {
    "duration": 54,
    "start_time": "2022-07-07T16:29:30.658Z"
   },
   {
    "duration": 1621,
    "start_time": "2022-07-07T16:29:30.714Z"
   },
   {
    "duration": 3,
    "start_time": "2022-07-07T16:29:32.336Z"
   },
   {
    "duration": 6,
    "start_time": "2022-07-07T16:29:32.340Z"
   },
   {
    "duration": 6,
    "start_time": "2022-07-07T16:29:32.348Z"
   },
   {
    "duration": 380987,
    "start_time": "2022-07-07T16:29:32.363Z"
   },
   {
    "duration": 4,
    "start_time": "2022-07-07T16:35:53.351Z"
   },
   {
    "duration": 8351,
    "start_time": "2022-07-07T16:35:53.364Z"
   },
   {
    "duration": 4345,
    "start_time": "2022-07-07T16:36:01.717Z"
   },
   {
    "duration": 7991,
    "start_time": "2022-07-07T16:36:06.064Z"
   },
   {
    "duration": 3,
    "start_time": "2022-07-07T16:36:14.056Z"
   },
   {
    "duration": 16,
    "start_time": "2022-07-07T16:36:14.060Z"
   },
   {
    "duration": 29,
    "start_time": "2022-07-07T16:36:14.078Z"
   },
   {
    "duration": 7,
    "start_time": "2022-07-07T16:36:14.108Z"
   },
   {
    "duration": 100,
    "start_time": "2022-07-07T16:36:14.164Z"
   },
   {
    "duration": 6,
    "start_time": "2022-07-07T16:36:14.266Z"
   },
   {
    "duration": 7012,
    "start_time": "2022-07-07T16:36:14.273Z"
   },
   {
    "duration": 200,
    "start_time": "2022-07-07T16:36:21.287Z"
   },
   {
    "duration": 4,
    "start_time": "2022-07-07T16:36:21.488Z"
   },
   {
    "duration": 14,
    "start_time": "2022-07-07T16:36:21.493Z"
   },
   {
    "duration": 114,
    "start_time": "2022-07-07T16:36:21.509Z"
   },
   {
    "duration": 53,
    "start_time": "2022-07-07T16:38:36.821Z"
   },
   {
    "duration": 1920,
    "start_time": "2022-07-07T16:38:48.496Z"
   },
   {
    "duration": 13,
    "start_time": "2022-07-07T17:06:42.857Z"
   },
   {
    "duration": 13,
    "start_time": "2022-07-07T17:06:58.814Z"
   },
   {
    "duration": 2152,
    "start_time": "2022-07-07T17:07:31.004Z"
   },
   {
    "duration": 2119,
    "start_time": "2022-07-07T17:07:59.886Z"
   },
   {
    "duration": 2208,
    "start_time": "2022-07-07T17:08:18.460Z"
   },
   {
    "duration": 2030,
    "start_time": "2022-07-07T17:08:35.928Z"
   },
   {
    "duration": 2055,
    "start_time": "2022-07-07T17:08:44.917Z"
   },
   {
    "duration": 1426,
    "start_time": "2022-07-07T17:20:06.740Z"
   },
   {
    "duration": 224,
    "start_time": "2022-07-07T17:20:08.168Z"
   },
   {
    "duration": 3,
    "start_time": "2022-07-07T17:20:08.394Z"
   },
   {
    "duration": 85,
    "start_time": "2022-07-07T17:20:08.399Z"
   },
   {
    "duration": 34,
    "start_time": "2022-07-07T17:20:08.485Z"
   },
   {
    "duration": 90,
    "start_time": "2022-07-07T17:20:08.521Z"
   },
   {
    "duration": 11,
    "start_time": "2022-07-07T17:20:08.613Z"
   },
   {
    "duration": 21,
    "start_time": "2022-07-07T17:20:08.625Z"
   },
   {
    "duration": 26,
    "start_time": "2022-07-07T17:20:08.647Z"
   },
   {
    "duration": 8,
    "start_time": "2022-07-07T17:20:08.676Z"
   },
   {
    "duration": 147,
    "start_time": "2022-07-07T17:20:08.686Z"
   },
   {
    "duration": 2613,
    "start_time": "2022-07-07T17:20:08.835Z"
   },
   {
    "duration": 38,
    "start_time": "2022-07-07T17:20:11.450Z"
   },
   {
    "duration": 15,
    "start_time": "2022-07-07T17:20:11.489Z"
   },
   {
    "duration": 24,
    "start_time": "2022-07-07T17:20:11.506Z"
   },
   {
    "duration": 3,
    "start_time": "2022-07-07T17:20:11.532Z"
   },
   {
    "duration": 33,
    "start_time": "2022-07-07T17:20:11.537Z"
   },
   {
    "duration": 16,
    "start_time": "2022-07-07T17:20:11.571Z"
   },
   {
    "duration": 11,
    "start_time": "2022-07-07T17:20:11.588Z"
   },
   {
    "duration": 19,
    "start_time": "2022-07-07T17:20:11.601Z"
   },
   {
    "duration": 88,
    "start_time": "2022-07-07T17:20:11.621Z"
   },
   {
    "duration": 16,
    "start_time": "2022-07-07T17:20:11.712Z"
   },
   {
    "duration": 17,
    "start_time": "2022-07-07T17:20:11.730Z"
   },
   {
    "duration": 11,
    "start_time": "2022-07-07T17:20:11.748Z"
   },
   {
    "duration": 11161,
    "start_time": "2022-07-07T17:20:11.760Z"
   },
   {
    "duration": 3,
    "start_time": "2022-07-07T17:20:22.923Z"
   },
   {
    "duration": 10,
    "start_time": "2022-07-07T17:20:22.927Z"
   },
   {
    "duration": 5,
    "start_time": "2022-07-07T17:20:22.941Z"
   },
   {
    "duration": 325,
    "start_time": "2022-07-07T17:20:22.948Z"
   },
   {
    "duration": 6,
    "start_time": "2022-07-07T17:20:23.275Z"
   },
   {
    "duration": 34,
    "start_time": "2022-07-07T17:20:23.282Z"
   },
   {
    "duration": 13,
    "start_time": "2022-07-07T17:20:23.318Z"
   },
   {
    "duration": 3,
    "start_time": "2022-07-07T17:20:23.332Z"
   },
   {
    "duration": 47,
    "start_time": "2022-07-07T17:20:23.337Z"
   },
   {
    "duration": 3,
    "start_time": "2022-07-07T17:20:23.386Z"
   },
   {
    "duration": 10,
    "start_time": "2022-07-07T17:20:23.391Z"
   },
   {
    "duration": 9,
    "start_time": "2022-07-07T17:20:23.402Z"
   },
   {
    "duration": 5,
    "start_time": "2022-07-07T17:20:23.413Z"
   },
   {
    "duration": 5,
    "start_time": "2022-07-07T17:20:23.420Z"
   },
   {
    "duration": 2565,
    "start_time": "2022-07-07T17:20:23.427Z"
   },
   {
    "duration": 313,
    "start_time": "2022-07-07T17:20:25.994Z"
   },
   {
    "duration": 267,
    "start_time": "2022-07-07T17:20:26.309Z"
   },
   {
    "duration": 5,
    "start_time": "2022-07-07T17:20:26.578Z"
   },
   {
    "duration": 1896,
    "start_time": "2022-07-07T17:20:26.584Z"
   },
   {
    "duration": 3,
    "start_time": "2022-07-07T17:20:28.482Z"
   },
   {
    "duration": 7,
    "start_time": "2022-07-07T17:20:28.486Z"
   },
   {
    "duration": 6,
    "start_time": "2022-07-07T17:20:28.494Z"
   },
   {
    "duration": 1761,
    "start_time": "2022-07-07T17:20:28.501Z"
   },
   {
    "duration": 4,
    "start_time": "2022-07-07T17:20:30.264Z"
   },
   {
    "duration": 105,
    "start_time": "2022-07-07T17:20:30.269Z"
   },
   {
    "duration": 47,
    "start_time": "2022-07-07T17:20:30.376Z"
   },
   {
    "duration": 1621,
    "start_time": "2022-07-07T17:20:30.425Z"
   },
   {
    "duration": 2,
    "start_time": "2022-07-07T17:20:32.048Z"
   },
   {
    "duration": 7,
    "start_time": "2022-07-07T17:20:32.051Z"
   },
   {
    "duration": 3,
    "start_time": "2022-07-07T17:20:32.064Z"
   },
   {
    "duration": 383974,
    "start_time": "2022-07-07T17:20:32.068Z"
   },
   {
    "duration": 4,
    "start_time": "2022-07-07T17:26:56.044Z"
   },
   {
    "duration": 8355,
    "start_time": "2022-07-07T17:26:56.049Z"
   },
   {
    "duration": 4324,
    "start_time": "2022-07-07T17:27:04.406Z"
   },
   {
    "duration": 7875,
    "start_time": "2022-07-07T17:27:08.732Z"
   },
   {
    "duration": 3,
    "start_time": "2022-07-07T17:27:16.608Z"
   },
   {
    "duration": 18,
    "start_time": "2022-07-07T17:27:16.612Z"
   },
   {
    "duration": 35,
    "start_time": "2022-07-07T17:27:16.632Z"
   },
   {
    "duration": 15,
    "start_time": "2022-07-07T17:27:16.669Z"
   },
   {
    "duration": 5,
    "start_time": "2022-07-07T17:27:16.765Z"
   },
   {
    "duration": 106,
    "start_time": "2022-07-07T17:27:16.772Z"
   },
   {
    "duration": 7070,
    "start_time": "2022-07-07T17:27:16.880Z"
   },
   {
    "duration": 204,
    "start_time": "2022-07-07T17:27:23.952Z"
   },
   {
    "duration": 6,
    "start_time": "2022-07-07T17:27:24.158Z"
   },
   {
    "duration": 12,
    "start_time": "2022-07-07T17:27:24.165Z"
   },
   {
    "duration": 18,
    "start_time": "2022-07-07T17:27:24.178Z"
   },
   {
    "duration": 1984,
    "start_time": "2022-07-07T17:27:24.198Z"
   },
   {
    "duration": 1462,
    "start_time": "2022-07-08T07:38:21.942Z"
   },
   {
    "duration": 865,
    "start_time": "2022-07-08T07:38:23.406Z"
   },
   {
    "duration": 3,
    "start_time": "2022-07-08T07:38:24.277Z"
   },
   {
    "duration": 87,
    "start_time": "2022-07-08T07:38:24.282Z"
   },
   {
    "duration": 47,
    "start_time": "2022-07-08T07:38:24.371Z"
   },
   {
    "duration": 63,
    "start_time": "2022-07-08T07:38:24.420Z"
   },
   {
    "duration": 22,
    "start_time": "2022-07-08T07:38:24.485Z"
   },
   {
    "duration": 16,
    "start_time": "2022-07-08T07:38:24.509Z"
   },
   {
    "duration": 10,
    "start_time": "2022-07-08T07:38:24.528Z"
   },
   {
    "duration": 7,
    "start_time": "2022-07-08T07:38:24.539Z"
   },
   {
    "duration": 144,
    "start_time": "2022-07-08T07:38:24.547Z"
   },
   {
    "duration": 2593,
    "start_time": "2022-07-08T07:38:24.703Z"
   },
   {
    "duration": 36,
    "start_time": "2022-07-08T07:38:27.298Z"
   },
   {
    "duration": 17,
    "start_time": "2022-07-08T07:38:27.335Z"
   },
   {
    "duration": 15,
    "start_time": "2022-07-08T07:38:27.353Z"
   },
   {
    "duration": 4,
    "start_time": "2022-07-08T07:38:27.370Z"
   },
   {
    "duration": 44,
    "start_time": "2022-07-08T07:38:27.375Z"
   },
   {
    "duration": 6,
    "start_time": "2022-07-08T07:38:27.421Z"
   },
   {
    "duration": 8,
    "start_time": "2022-07-08T07:38:27.429Z"
   },
   {
    "duration": 5,
    "start_time": "2022-07-08T07:38:27.439Z"
   },
   {
    "duration": 66,
    "start_time": "2022-07-08T07:38:27.446Z"
   },
   {
    "duration": 13,
    "start_time": "2022-07-08T07:38:27.513Z"
   },
   {
    "duration": 5,
    "start_time": "2022-07-08T07:38:27.528Z"
   },
   {
    "duration": 10,
    "start_time": "2022-07-08T07:38:27.534Z"
   },
   {
    "duration": 11345,
    "start_time": "2022-07-08T07:38:27.545Z"
   },
   {
    "duration": 4,
    "start_time": "2022-07-08T07:38:38.892Z"
   },
   {
    "duration": 5,
    "start_time": "2022-07-08T07:38:38.907Z"
   },
   {
    "duration": 10,
    "start_time": "2022-07-08T07:38:38.915Z"
   },
   {
    "duration": 298,
    "start_time": "2022-07-08T07:38:38.926Z"
   },
   {
    "duration": 6,
    "start_time": "2022-07-08T07:38:39.225Z"
   },
   {
    "duration": 31,
    "start_time": "2022-07-08T07:38:39.232Z"
   },
   {
    "duration": 12,
    "start_time": "2022-07-08T07:38:39.265Z"
   },
   {
    "duration": 3,
    "start_time": "2022-07-08T07:38:39.278Z"
   },
   {
    "duration": 18,
    "start_time": "2022-07-08T07:38:39.303Z"
   },
   {
    "duration": 3,
    "start_time": "2022-07-08T07:38:39.322Z"
   },
   {
    "duration": 8,
    "start_time": "2022-07-08T07:38:39.327Z"
   },
   {
    "duration": 8,
    "start_time": "2022-07-08T07:38:39.336Z"
   },
   {
    "duration": 7,
    "start_time": "2022-07-08T07:38:39.345Z"
   },
   {
    "duration": 7,
    "start_time": "2022-07-08T07:38:39.353Z"
   },
   {
    "duration": 2312,
    "start_time": "2022-07-08T07:38:39.361Z"
   },
   {
    "duration": 275,
    "start_time": "2022-07-08T07:38:41.674Z"
   },
   {
    "duration": 178,
    "start_time": "2022-07-08T07:38:41.950Z"
   },
   {
    "duration": 5,
    "start_time": "2022-07-08T07:38:42.130Z"
   },
   {
    "duration": 1871,
    "start_time": "2022-07-08T07:38:42.137Z"
   },
   {
    "duration": 3,
    "start_time": "2022-07-08T07:38:44.010Z"
   },
   {
    "duration": 6,
    "start_time": "2022-07-08T07:38:44.014Z"
   },
   {
    "duration": 5,
    "start_time": "2022-07-08T07:38:44.022Z"
   },
   {
    "duration": 1886,
    "start_time": "2022-07-08T07:38:44.028Z"
   },
   {
    "duration": 4,
    "start_time": "2022-07-08T07:38:45.915Z"
   },
   {
    "duration": 105,
    "start_time": "2022-07-08T07:38:45.921Z"
   },
   {
    "duration": 44,
    "start_time": "2022-07-08T07:38:46.028Z"
   },
   {
    "duration": 1642,
    "start_time": "2022-07-08T07:38:46.074Z"
   },
   {
    "duration": 3,
    "start_time": "2022-07-08T07:38:47.718Z"
   },
   {
    "duration": 6,
    "start_time": "2022-07-08T07:38:47.722Z"
   },
   {
    "duration": 5,
    "start_time": "2022-07-08T07:38:47.729Z"
   },
   {
    "duration": 407607,
    "start_time": "2022-07-08T07:38:47.735Z"
   },
   {
    "duration": 4,
    "start_time": "2022-07-08T07:45:35.344Z"
   },
   {
    "duration": 8841,
    "start_time": "2022-07-08T07:45:35.349Z"
   },
   {
    "duration": 4591,
    "start_time": "2022-07-08T07:45:44.192Z"
   },
   {
    "duration": 7983,
    "start_time": "2022-07-08T07:45:48.785Z"
   },
   {
    "duration": 3,
    "start_time": "2022-07-08T07:45:56.770Z"
   },
   {
    "duration": 17,
    "start_time": "2022-07-08T07:45:56.774Z"
   },
   {
    "duration": 39,
    "start_time": "2022-07-08T07:45:56.793Z"
   },
   {
    "duration": 71,
    "start_time": "2022-07-08T07:45:56.833Z"
   },
   {
    "duration": 6,
    "start_time": "2022-07-08T07:45:56.906Z"
   },
   {
    "duration": 100,
    "start_time": "2022-07-08T07:45:56.914Z"
   },
   {
    "duration": 7589,
    "start_time": "2022-07-08T07:45:57.015Z"
   },
   {
    "duration": 213,
    "start_time": "2022-07-08T07:46:04.606Z"
   },
   {
    "duration": 3,
    "start_time": "2022-07-08T07:46:04.821Z"
   },
   {
    "duration": 7,
    "start_time": "2022-07-08T07:46:04.825Z"
   },
   {
    "duration": 12,
    "start_time": "2022-07-08T07:46:04.834Z"
   },
   {
    "duration": 2001,
    "start_time": "2022-07-08T07:46:04.848Z"
   },
   {
    "duration": 1613,
    "start_time": "2022-07-08T14:45:22.110Z"
   },
   {
    "duration": 411,
    "start_time": "2022-07-08T14:45:23.725Z"
   },
   {
    "duration": 3,
    "start_time": "2022-07-08T14:45:24.137Z"
   },
   {
    "duration": 86,
    "start_time": "2022-07-08T14:45:24.142Z"
   },
   {
    "duration": 52,
    "start_time": "2022-07-08T14:45:24.230Z"
   },
   {
    "duration": 89,
    "start_time": "2022-07-08T14:45:24.284Z"
   },
   {
    "duration": 11,
    "start_time": "2022-07-08T14:45:24.375Z"
   },
   {
    "duration": 16,
    "start_time": "2022-07-08T14:45:24.388Z"
   },
   {
    "duration": 11,
    "start_time": "2022-07-08T14:45:24.405Z"
   },
   {
    "duration": 7,
    "start_time": "2022-07-08T14:45:24.418Z"
   },
   {
    "duration": 158,
    "start_time": "2022-07-08T14:45:24.427Z"
   },
   {
    "duration": 2554,
    "start_time": "2022-07-08T14:45:24.586Z"
   },
   {
    "duration": 44,
    "start_time": "2022-07-08T14:45:27.142Z"
   },
   {
    "duration": 17,
    "start_time": "2022-07-08T14:45:27.187Z"
   },
   {
    "duration": 10,
    "start_time": "2022-07-08T14:45:27.206Z"
   },
   {
    "duration": 6,
    "start_time": "2022-07-08T14:45:27.218Z"
   },
   {
    "duration": 26,
    "start_time": "2022-07-08T14:45:27.225Z"
   },
   {
    "duration": 4,
    "start_time": "2022-07-08T14:45:27.263Z"
   },
   {
    "duration": 6,
    "start_time": "2022-07-08T14:45:27.268Z"
   },
   {
    "duration": 6,
    "start_time": "2022-07-08T14:45:27.275Z"
   },
   {
    "duration": 57,
    "start_time": "2022-07-08T14:45:27.282Z"
   },
   {
    "duration": 26,
    "start_time": "2022-07-08T14:45:27.341Z"
   },
   {
    "duration": 4,
    "start_time": "2022-07-08T14:45:27.369Z"
   },
   {
    "duration": 9,
    "start_time": "2022-07-08T14:45:27.375Z"
   },
   {
    "duration": 12334,
    "start_time": "2022-07-08T14:45:27.386Z"
   },
   {
    "duration": 4,
    "start_time": "2022-07-08T14:45:39.722Z"
   },
   {
    "duration": 7,
    "start_time": "2022-07-08T14:45:39.727Z"
   },
   {
    "duration": 4,
    "start_time": "2022-07-08T14:45:39.738Z"
   },
   {
    "duration": 316,
    "start_time": "2022-07-08T14:45:39.743Z"
   },
   {
    "duration": 8,
    "start_time": "2022-07-08T14:45:40.063Z"
   },
   {
    "duration": 40,
    "start_time": "2022-07-08T14:45:40.072Z"
   },
   {
    "duration": 14,
    "start_time": "2022-07-08T14:45:40.113Z"
   },
   {
    "duration": 3,
    "start_time": "2022-07-08T14:45:40.128Z"
   },
   {
    "duration": 44,
    "start_time": "2022-07-08T14:45:40.133Z"
   },
   {
    "duration": 2,
    "start_time": "2022-07-08T14:45:40.179Z"
   },
   {
    "duration": 6,
    "start_time": "2022-07-08T14:45:40.182Z"
   },
   {
    "duration": 7,
    "start_time": "2022-07-08T14:45:40.190Z"
   },
   {
    "duration": 7,
    "start_time": "2022-07-08T14:45:40.199Z"
   },
   {
    "duration": 5,
    "start_time": "2022-07-08T14:45:40.207Z"
   },
   {
    "duration": 2577,
    "start_time": "2022-07-08T14:45:40.214Z"
   },
   {
    "duration": 316,
    "start_time": "2022-07-08T14:45:42.793Z"
   },
   {
    "duration": 278,
    "start_time": "2022-07-08T14:45:43.111Z"
   },
   {
    "duration": 6,
    "start_time": "2022-07-08T14:45:43.391Z"
   },
   {
    "duration": 1872,
    "start_time": "2022-07-08T14:45:43.399Z"
   },
   {
    "duration": 3,
    "start_time": "2022-07-08T14:45:45.272Z"
   },
   {
    "duration": 20,
    "start_time": "2022-07-08T14:45:45.277Z"
   },
   {
    "duration": 22,
    "start_time": "2022-07-08T14:45:45.299Z"
   },
   {
    "duration": 1782,
    "start_time": "2022-07-08T14:45:45.323Z"
   },
   {
    "duration": 4,
    "start_time": "2022-07-08T14:45:47.107Z"
   },
   {
    "duration": 94,
    "start_time": "2022-07-08T14:45:47.112Z"
   },
   {
    "duration": 45,
    "start_time": "2022-07-08T14:45:47.208Z"
   },
   {
    "duration": 1591,
    "start_time": "2022-07-08T14:45:47.264Z"
   },
   {
    "duration": 3,
    "start_time": "2022-07-08T14:45:48.856Z"
   },
   {
    "duration": 11,
    "start_time": "2022-07-08T14:45:48.863Z"
   },
   {
    "duration": 9,
    "start_time": "2022-07-08T14:45:48.876Z"
   },
   {
    "duration": 1312,
    "start_time": "2022-07-08T14:50:46.219Z"
   },
   {
    "duration": 220,
    "start_time": "2022-07-08T14:50:47.533Z"
   },
   {
    "duration": 3,
    "start_time": "2022-07-08T14:50:47.754Z"
   },
   {
    "duration": 86,
    "start_time": "2022-07-08T14:50:47.759Z"
   },
   {
    "duration": 34,
    "start_time": "2022-07-08T14:50:47.864Z"
   },
   {
    "duration": 88,
    "start_time": "2022-07-08T14:50:47.900Z"
   },
   {
    "duration": 11,
    "start_time": "2022-07-08T14:50:47.989Z"
   },
   {
    "duration": 17,
    "start_time": "2022-07-08T14:50:48.002Z"
   },
   {
    "duration": 45,
    "start_time": "2022-07-08T14:50:48.021Z"
   },
   {
    "duration": 8,
    "start_time": "2022-07-08T14:50:48.068Z"
   },
   {
    "duration": 134,
    "start_time": "2022-07-08T14:50:48.078Z"
   },
   {
    "duration": 2562,
    "start_time": "2022-07-08T14:50:48.214Z"
   },
   {
    "duration": 33,
    "start_time": "2022-07-08T14:50:50.778Z"
   },
   {
    "duration": 16,
    "start_time": "2022-07-08T14:50:50.814Z"
   },
   {
    "duration": 31,
    "start_time": "2022-07-08T14:50:50.832Z"
   },
   {
    "duration": 4,
    "start_time": "2022-07-08T14:50:50.865Z"
   },
   {
    "duration": 23,
    "start_time": "2022-07-08T14:50:50.871Z"
   },
   {
    "duration": 5,
    "start_time": "2022-07-08T14:50:50.896Z"
   },
   {
    "duration": 7,
    "start_time": "2022-07-08T14:50:50.902Z"
   },
   {
    "duration": 6,
    "start_time": "2022-07-08T14:50:50.911Z"
   },
   {
    "duration": 74,
    "start_time": "2022-07-08T14:50:50.919Z"
   },
   {
    "duration": 15,
    "start_time": "2022-07-08T14:50:50.995Z"
   },
   {
    "duration": 6,
    "start_time": "2022-07-08T14:50:51.012Z"
   },
   {
    "duration": 8,
    "start_time": "2022-07-08T14:50:51.020Z"
   },
   {
    "duration": 11776,
    "start_time": "2022-07-08T14:50:51.030Z"
   },
   {
    "duration": 5,
    "start_time": "2022-07-08T14:51:02.808Z"
   },
   {
    "duration": 18,
    "start_time": "2022-07-08T14:51:02.815Z"
   },
   {
    "duration": 6,
    "start_time": "2022-07-08T14:51:02.835Z"
   },
   {
    "duration": 310,
    "start_time": "2022-07-08T14:51:02.843Z"
   },
   {
    "duration": 13,
    "start_time": "2022-07-08T14:51:03.154Z"
   },
   {
    "duration": 38,
    "start_time": "2022-07-08T14:51:03.168Z"
   },
   {
    "duration": 14,
    "start_time": "2022-07-08T14:51:03.208Z"
   },
   {
    "duration": 4,
    "start_time": "2022-07-08T14:51:03.224Z"
   },
   {
    "duration": 46,
    "start_time": "2022-07-08T14:51:03.229Z"
   },
   {
    "duration": 3,
    "start_time": "2022-07-08T14:51:03.276Z"
   },
   {
    "duration": 10,
    "start_time": "2022-07-08T14:51:03.281Z"
   },
   {
    "duration": 6,
    "start_time": "2022-07-08T14:51:03.292Z"
   },
   {
    "duration": 9,
    "start_time": "2022-07-08T14:51:03.300Z"
   },
   {
    "duration": 9,
    "start_time": "2022-07-08T14:51:03.311Z"
   },
   {
    "duration": 2575,
    "start_time": "2022-07-08T14:51:03.322Z"
   },
   {
    "duration": 304,
    "start_time": "2022-07-08T14:51:05.900Z"
   },
   {
    "duration": 185,
    "start_time": "2022-07-08T14:51:06.206Z"
   },
   {
    "duration": 6,
    "start_time": "2022-07-08T14:51:06.463Z"
   },
   {
    "duration": 1914,
    "start_time": "2022-07-08T14:51:06.470Z"
   },
   {
    "duration": 3,
    "start_time": "2022-07-08T14:51:08.386Z"
   },
   {
    "duration": 9,
    "start_time": "2022-07-08T14:51:08.391Z"
   },
   {
    "duration": 24,
    "start_time": "2022-07-08T14:51:08.402Z"
   },
   {
    "duration": 1861,
    "start_time": "2022-07-08T14:51:08.428Z"
   },
   {
    "duration": 4,
    "start_time": "2022-07-08T14:51:10.291Z"
   },
   {
    "duration": 108,
    "start_time": "2022-07-08T14:51:10.296Z"
   },
   {
    "duration": 59,
    "start_time": "2022-07-08T14:51:10.405Z"
   },
   {
    "duration": 1623,
    "start_time": "2022-07-08T14:51:10.466Z"
   },
   {
    "duration": 3,
    "start_time": "2022-07-08T14:51:12.091Z"
   },
   {
    "duration": 7,
    "start_time": "2022-07-08T14:51:12.096Z"
   },
   {
    "duration": 7,
    "start_time": "2022-07-08T14:51:12.105Z"
   },
   {
    "duration": 391023,
    "start_time": "2022-07-08T14:51:12.113Z"
   },
   {
    "duration": 4,
    "start_time": "2022-07-08T14:57:43.138Z"
   },
   {
    "duration": 7941,
    "start_time": "2022-07-08T14:57:43.144Z"
   },
   {
    "duration": 4398,
    "start_time": "2022-07-08T14:57:51.087Z"
   },
   {
    "duration": 7885,
    "start_time": "2022-07-08T14:57:55.487Z"
   },
   {
    "duration": 3,
    "start_time": "2022-07-08T14:58:03.374Z"
   },
   {
    "duration": 20,
    "start_time": "2022-07-08T14:58:03.379Z"
   },
   {
    "duration": 45,
    "start_time": "2022-07-08T14:58:03.401Z"
   },
   {
    "duration": 20,
    "start_time": "2022-07-08T14:58:03.447Z"
   },
   {
    "duration": 4,
    "start_time": "2022-07-08T14:58:03.470Z"
   },
   {
    "duration": 195,
    "start_time": "2022-07-08T14:58:03.476Z"
   },
   {
    "duration": 7178,
    "start_time": "2022-07-08T14:58:03.672Z"
   },
   {
    "duration": 201,
    "start_time": "2022-07-08T14:58:10.852Z"
   },
   {
    "duration": 9,
    "start_time": "2022-07-08T14:58:11.055Z"
   },
   {
    "duration": 4,
    "start_time": "2022-07-08T14:58:11.065Z"
   },
   {
    "duration": 15,
    "start_time": "2022-07-08T14:58:11.071Z"
   },
   {
    "duration": 2052,
    "start_time": "2022-07-08T14:58:11.088Z"
   },
   {
    "duration": 51,
    "start_time": "2022-07-08T14:59:59.120Z"
   },
   {
    "duration": 108,
    "start_time": "2022-07-08T15:00:16.459Z"
   },
   {
    "duration": 19,
    "start_time": "2022-07-08T15:05:23.836Z"
   },
   {
    "duration": 13,
    "start_time": "2022-07-08T15:05:43.380Z"
   },
   {
    "duration": 8,
    "start_time": "2022-07-08T15:05:52.742Z"
   },
   {
    "duration": 1322,
    "start_time": "2022-07-08T15:21:24.810Z"
   },
   {
    "duration": 215,
    "start_time": "2022-07-08T15:21:26.134Z"
   },
   {
    "duration": 3,
    "start_time": "2022-07-08T15:21:26.350Z"
   },
   {
    "duration": 78,
    "start_time": "2022-07-08T15:21:26.355Z"
   },
   {
    "duration": 53,
    "start_time": "2022-07-08T15:21:26.434Z"
   },
   {
    "duration": 79,
    "start_time": "2022-07-08T15:21:26.490Z"
   },
   {
    "duration": 10,
    "start_time": "2022-07-08T15:21:26.571Z"
   },
   {
    "duration": 16,
    "start_time": "2022-07-08T15:21:26.583Z"
   },
   {
    "duration": 11,
    "start_time": "2022-07-08T15:21:26.601Z"
   },
   {
    "duration": 7,
    "start_time": "2022-07-08T15:21:26.614Z"
   },
   {
    "duration": 161,
    "start_time": "2022-07-08T15:21:26.623Z"
   },
   {
    "duration": 2552,
    "start_time": "2022-07-08T15:21:26.786Z"
   },
   {
    "duration": 43,
    "start_time": "2022-07-08T15:21:29.339Z"
   },
   {
    "duration": 17,
    "start_time": "2022-07-08T15:21:29.384Z"
   },
   {
    "duration": 13,
    "start_time": "2022-07-08T15:21:29.403Z"
   },
   {
    "duration": 79,
    "start_time": "2022-07-08T15:21:29.418Z"
   },
   {
    "duration": 8,
    "start_time": "2022-07-08T15:21:29.499Z"
   },
   {
    "duration": 5,
    "start_time": "2022-07-08T15:21:29.509Z"
   },
   {
    "duration": 22,
    "start_time": "2022-07-08T15:21:29.515Z"
   },
   {
    "duration": 5,
    "start_time": "2022-07-08T15:21:29.564Z"
   },
   {
    "duration": 7,
    "start_time": "2022-07-08T15:21:29.570Z"
   },
   {
    "duration": 5,
    "start_time": "2022-07-08T15:21:29.579Z"
   },
   {
    "duration": 55,
    "start_time": "2022-07-08T15:21:29.585Z"
   },
   {
    "duration": 30,
    "start_time": "2022-07-08T15:21:29.642Z"
   },
   {
    "duration": 6,
    "start_time": "2022-07-08T15:21:29.673Z"
   },
   {
    "duration": 9,
    "start_time": "2022-07-08T15:21:29.680Z"
   },
   {
    "duration": 12016,
    "start_time": "2022-07-08T15:21:29.691Z"
   },
   {
    "duration": 3,
    "start_time": "2022-07-08T15:21:41.711Z"
   },
   {
    "duration": 12,
    "start_time": "2022-07-08T15:21:41.716Z"
   },
   {
    "duration": 6,
    "start_time": "2022-07-08T15:21:41.729Z"
   },
   {
    "duration": 312,
    "start_time": "2022-07-08T15:21:41.737Z"
   },
   {
    "duration": 16,
    "start_time": "2022-07-08T15:21:42.051Z"
   },
   {
    "duration": 32,
    "start_time": "2022-07-08T15:21:42.069Z"
   },
   {
    "duration": 14,
    "start_time": "2022-07-08T15:21:42.102Z"
   },
   {
    "duration": 2,
    "start_time": "2022-07-08T15:21:42.118Z"
   },
   {
    "duration": 51,
    "start_time": "2022-07-08T15:21:42.121Z"
   },
   {
    "duration": 3,
    "start_time": "2022-07-08T15:21:42.174Z"
   },
   {
    "duration": 7,
    "start_time": "2022-07-08T15:21:42.178Z"
   },
   {
    "duration": 9,
    "start_time": "2022-07-08T15:21:42.186Z"
   },
   {
    "duration": 5,
    "start_time": "2022-07-08T15:21:42.196Z"
   },
   {
    "duration": 6,
    "start_time": "2022-07-08T15:21:42.203Z"
   },
   {
    "duration": 2584,
    "start_time": "2022-07-08T15:21:42.211Z"
   },
   {
    "duration": 316,
    "start_time": "2022-07-08T15:21:44.797Z"
   },
   {
    "duration": 274,
    "start_time": "2022-07-08T15:21:45.115Z"
   },
   {
    "duration": 7,
    "start_time": "2022-07-08T15:21:45.391Z"
   },
   {
    "duration": 1880,
    "start_time": "2022-07-08T15:21:45.399Z"
   },
   {
    "duration": 3,
    "start_time": "2022-07-08T15:21:47.281Z"
   },
   {
    "duration": 10,
    "start_time": "2022-07-08T15:21:47.286Z"
   },
   {
    "duration": 10,
    "start_time": "2022-07-08T15:21:47.297Z"
   },
   {
    "duration": 1793,
    "start_time": "2022-07-08T15:21:47.309Z"
   },
   {
    "duration": 4,
    "start_time": "2022-07-08T15:21:49.104Z"
   },
   {
    "duration": 95,
    "start_time": "2022-07-08T15:21:49.109Z"
   },
   {
    "duration": 42,
    "start_time": "2022-07-08T15:21:49.206Z"
   },
   {
    "duration": 1648,
    "start_time": "2022-07-08T15:21:49.250Z"
   },
   {
    "duration": 3,
    "start_time": "2022-07-08T15:21:50.900Z"
   },
   {
    "duration": 12,
    "start_time": "2022-07-08T15:21:50.905Z"
   },
   {
    "duration": 8,
    "start_time": "2022-07-08T15:21:50.919Z"
   },
   {
    "duration": 385883,
    "start_time": "2022-07-08T15:21:50.928Z"
   },
   {
    "duration": 4,
    "start_time": "2022-07-08T15:28:16.812Z"
   },
   {
    "duration": 8284,
    "start_time": "2022-07-08T15:28:16.818Z"
   },
   {
    "duration": 4490,
    "start_time": "2022-07-08T15:28:25.104Z"
   },
   {
    "duration": 8121,
    "start_time": "2022-07-08T15:28:29.595Z"
   },
   {
    "duration": 3,
    "start_time": "2022-07-08T15:28:37.717Z"
   },
   {
    "duration": 17,
    "start_time": "2022-07-08T15:28:37.721Z"
   },
   {
    "duration": 43,
    "start_time": "2022-07-08T15:28:37.739Z"
   },
   {
    "duration": 8,
    "start_time": "2022-07-08T15:28:37.783Z"
   },
   {
    "duration": 171,
    "start_time": "2022-07-08T15:28:37.793Z"
   },
   {
    "duration": 8,
    "start_time": "2022-07-08T15:28:37.966Z"
   },
   {
    "duration": 7112,
    "start_time": "2022-07-08T15:28:37.975Z"
   },
   {
    "duration": 194,
    "start_time": "2022-07-08T15:28:45.089Z"
   },
   {
    "duration": 4,
    "start_time": "2022-07-08T15:28:45.285Z"
   },
   {
    "duration": 11,
    "start_time": "2022-07-08T15:28:45.290Z"
   },
   {
    "duration": 25,
    "start_time": "2022-07-08T15:28:45.302Z"
   },
   {
    "duration": 1955,
    "start_time": "2022-07-08T15:28:45.329Z"
   },
   {
    "duration": 245,
    "start_time": "2022-07-08T15:31:49.022Z"
   },
   {
    "duration": 39820,
    "start_time": "2022-07-08T15:32:34.639Z"
   },
   {
    "duration": 181,
    "start_time": "2022-07-08T15:33:26.122Z"
   },
   {
    "duration": 4,
    "start_time": "2022-07-08T15:33:44.522Z"
   },
   {
    "duration": 72,
    "start_time": "2022-07-08T15:36:39.793Z"
   },
   {
    "duration": 185,
    "start_time": "2022-07-08T15:37:13.446Z"
   },
   {
    "duration": 1619,
    "start_time": "2022-07-08T15:38:11.616Z"
   },
   {
    "duration": 214,
    "start_time": "2022-07-08T15:38:13.237Z"
   },
   {
    "duration": 3,
    "start_time": "2022-07-08T15:38:13.453Z"
   },
   {
    "duration": 107,
    "start_time": "2022-07-08T15:38:13.458Z"
   },
   {
    "duration": 36,
    "start_time": "2022-07-08T15:38:13.567Z"
   },
   {
    "duration": 90,
    "start_time": "2022-07-08T15:38:13.605Z"
   },
   {
    "duration": 12,
    "start_time": "2022-07-08T15:38:13.697Z"
   },
   {
    "duration": 16,
    "start_time": "2022-07-08T15:38:13.710Z"
   },
   {
    "duration": 48,
    "start_time": "2022-07-08T15:38:13.727Z"
   },
   {
    "duration": 8,
    "start_time": "2022-07-08T15:38:13.778Z"
   },
   {
    "duration": 130,
    "start_time": "2022-07-08T15:38:13.787Z"
   },
   {
    "duration": 2536,
    "start_time": "2022-07-08T15:38:13.919Z"
   },
   {
    "duration": 40,
    "start_time": "2022-07-08T15:38:16.457Z"
   },
   {
    "duration": 17,
    "start_time": "2022-07-08T15:38:16.499Z"
   },
   {
    "duration": 22,
    "start_time": "2022-07-08T15:38:16.517Z"
   },
   {
    "duration": 72,
    "start_time": "2022-07-08T15:38:16.540Z"
   },
   {
    "duration": 6,
    "start_time": "2022-07-08T15:38:16.614Z"
   },
   {
    "duration": 19,
    "start_time": "2022-07-08T15:38:16.622Z"
   },
   {
    "duration": 33,
    "start_time": "2022-07-08T15:38:16.643Z"
   },
   {
    "duration": 4,
    "start_time": "2022-07-08T15:38:16.678Z"
   },
   {
    "duration": 13,
    "start_time": "2022-07-08T15:38:16.684Z"
   },
   {
    "duration": 19,
    "start_time": "2022-07-08T15:38:16.699Z"
   },
   {
    "duration": 70,
    "start_time": "2022-07-08T15:38:16.719Z"
   },
   {
    "duration": 15,
    "start_time": "2022-07-08T15:38:16.791Z"
   },
   {
    "duration": 8,
    "start_time": "2022-07-08T15:38:16.808Z"
   },
   {
    "duration": 8,
    "start_time": "2022-07-08T15:38:16.818Z"
   },
   {
    "duration": 11382,
    "start_time": "2022-07-08T15:38:16.828Z"
   },
   {
    "duration": 4,
    "start_time": "2022-07-08T15:38:28.214Z"
   },
   {
    "duration": 7,
    "start_time": "2022-07-08T15:38:28.220Z"
   },
   {
    "duration": 6,
    "start_time": "2022-07-08T15:38:28.228Z"
   },
   {
    "duration": 330,
    "start_time": "2022-07-08T15:38:28.235Z"
   },
   {
    "duration": 6,
    "start_time": "2022-07-08T15:38:28.567Z"
   },
   {
    "duration": 42,
    "start_time": "2022-07-08T15:38:28.574Z"
   },
   {
    "duration": 14,
    "start_time": "2022-07-08T15:38:28.617Z"
   },
   {
    "duration": 3,
    "start_time": "2022-07-08T15:38:28.632Z"
   },
   {
    "duration": 44,
    "start_time": "2022-07-08T15:38:28.636Z"
   },
   {
    "duration": 3,
    "start_time": "2022-07-08T15:38:28.682Z"
   },
   {
    "duration": 6,
    "start_time": "2022-07-08T15:38:28.686Z"
   },
   {
    "duration": 5,
    "start_time": "2022-07-08T15:38:28.693Z"
   },
   {
    "duration": 7,
    "start_time": "2022-07-08T15:38:28.700Z"
   },
   {
    "duration": 6,
    "start_time": "2022-07-08T15:38:28.709Z"
   },
   {
    "duration": 2681,
    "start_time": "2022-07-08T15:38:28.717Z"
   },
   {
    "duration": 310,
    "start_time": "2022-07-08T15:38:31.399Z"
   },
   {
    "duration": 177,
    "start_time": "2022-07-08T15:38:31.711Z"
   },
   {
    "duration": 79,
    "start_time": "2022-07-08T15:38:31.890Z"
   },
   {
    "duration": 2007,
    "start_time": "2022-07-08T15:38:31.971Z"
   },
   {
    "duration": 3,
    "start_time": "2022-07-08T15:38:33.980Z"
   },
   {
    "duration": 9,
    "start_time": "2022-07-08T15:38:33.984Z"
   },
   {
    "duration": 5,
    "start_time": "2022-07-08T15:38:33.995Z"
   },
   {
    "duration": 1817,
    "start_time": "2022-07-08T15:38:34.001Z"
   },
   {
    "duration": 4,
    "start_time": "2022-07-08T15:38:35.820Z"
   },
   {
    "duration": 94,
    "start_time": "2022-07-08T15:38:35.825Z"
   },
   {
    "duration": 55,
    "start_time": "2022-07-08T15:38:35.920Z"
   },
   {
    "duration": 1604,
    "start_time": "2022-07-08T15:38:35.977Z"
   },
   {
    "duration": 2,
    "start_time": "2022-07-08T15:38:37.583Z"
   },
   {
    "duration": 8,
    "start_time": "2022-07-08T15:38:37.587Z"
   },
   {
    "duration": 5,
    "start_time": "2022-07-08T15:38:37.597Z"
   },
   {
    "duration": 390348,
    "start_time": "2022-07-08T15:38:37.604Z"
   },
   {
    "duration": 9,
    "start_time": "2022-07-08T15:45:07.955Z"
   },
   {
    "duration": 8596,
    "start_time": "2022-07-08T15:45:07.966Z"
   },
   {
    "duration": 4566,
    "start_time": "2022-07-08T15:45:16.564Z"
   },
   {
    "duration": 8289,
    "start_time": "2022-07-08T15:45:21.131Z"
   },
   {
    "duration": 3,
    "start_time": "2022-07-08T15:45:29.422Z"
   },
   {
    "duration": 15,
    "start_time": "2022-07-08T15:45:29.426Z"
   },
   {
    "duration": 57,
    "start_time": "2022-07-08T15:45:29.442Z"
   },
   {
    "duration": 9,
    "start_time": "2022-07-08T15:45:29.501Z"
   },
   {
    "duration": 78,
    "start_time": "2022-07-08T15:45:29.512Z"
   },
   {
    "duration": 72,
    "start_time": "2022-07-08T15:45:29.592Z"
   },
   {
    "duration": 8645,
    "start_time": "2022-07-08T15:45:29.666Z"
   },
   {
    "duration": 216,
    "start_time": "2022-07-08T15:45:38.313Z"
   },
   {
    "duration": 4,
    "start_time": "2022-07-08T15:45:38.531Z"
   },
   {
    "duration": 46639,
    "start_time": "2022-07-08T15:45:38.537Z"
   },
   {
    "duration": 225,
    "start_time": "2022-07-08T15:46:25.178Z"
   },
   {
    "duration": 3,
    "start_time": "2022-07-08T15:46:25.405Z"
   },
   {
    "duration": 6,
    "start_time": "2022-07-08T15:46:25.410Z"
   },
   {
    "duration": 15,
    "start_time": "2022-07-08T15:46:25.418Z"
   },
   {
    "duration": 2327,
    "start_time": "2022-07-08T15:46:25.434Z"
   },
   {
    "duration": 2907,
    "start_time": "2023-01-16T09:43:01.951Z"
   },
   {
    "duration": 1205,
    "start_time": "2023-01-16T09:43:04.860Z"
   },
   {
    "duration": 2,
    "start_time": "2023-01-16T09:43:06.067Z"
   },
   {
    "duration": 253,
    "start_time": "2023-01-16T09:43:06.071Z"
   },
   {
    "duration": 99,
    "start_time": "2023-01-16T09:43:06.336Z"
   },
   {
    "duration": 208,
    "start_time": "2023-01-16T09:43:06.437Z"
   },
   {
    "duration": 14,
    "start_time": "2023-01-16T09:43:06.649Z"
   },
   {
    "duration": 89,
    "start_time": "2023-01-16T09:43:06.665Z"
   },
   {
    "duration": 20,
    "start_time": "2023-01-16T09:43:06.756Z"
   },
   {
    "duration": 66,
    "start_time": "2023-01-16T09:43:06.778Z"
   },
   {
    "duration": 305,
    "start_time": "2023-01-16T09:43:06.848Z"
   },
   {
    "duration": 6706,
    "start_time": "2023-01-16T09:43:07.155Z"
   },
   {
    "duration": 94,
    "start_time": "2023-01-16T09:43:13.863Z"
   },
   {
    "duration": 85,
    "start_time": "2023-01-16T09:43:13.960Z"
   },
   {
    "duration": 29,
    "start_time": "2023-01-16T09:43:14.047Z"
   },
   {
    "duration": 121,
    "start_time": "2023-01-16T09:43:14.125Z"
   },
   {
    "duration": 12,
    "start_time": "2023-01-16T09:43:14.248Z"
   },
   {
    "duration": 75,
    "start_time": "2023-01-16T09:43:14.262Z"
   },
   {
    "duration": 85,
    "start_time": "2023-01-16T09:43:14.345Z"
   },
   {
    "duration": 6,
    "start_time": "2023-01-16T09:43:14.439Z"
   },
   {
    "duration": 28,
    "start_time": "2023-01-16T09:43:14.448Z"
   },
   {
    "duration": 49,
    "start_time": "2023-01-16T09:43:14.478Z"
   },
   {
    "duration": 195,
    "start_time": "2023-01-16T09:43:14.529Z"
   },
   {
    "duration": 21,
    "start_time": "2023-01-16T09:43:14.729Z"
   },
   {
    "duration": 7,
    "start_time": "2023-01-16T09:43:14.755Z"
   },
   {
    "duration": 83,
    "start_time": "2023-01-16T09:43:14.763Z"
   },
   {
    "duration": 33880,
    "start_time": "2023-01-16T09:43:14.848Z"
   },
   {
    "duration": 6,
    "start_time": "2023-01-16T09:43:48.730Z"
   },
   {
    "duration": 26,
    "start_time": "2023-01-16T09:43:48.738Z"
   },
   {
    "duration": 7,
    "start_time": "2023-01-16T09:43:48.766Z"
   },
   {
    "duration": 901,
    "start_time": "2023-01-16T09:43:48.825Z"
   },
   {
    "duration": 10,
    "start_time": "2023-01-16T09:43:49.728Z"
   },
   {
    "duration": 108,
    "start_time": "2023-01-16T09:43:49.746Z"
   },
   {
    "duration": 17,
    "start_time": "2023-01-16T09:43:49.856Z"
   },
   {
    "duration": 6,
    "start_time": "2023-01-16T09:43:49.923Z"
   },
   {
    "duration": 37,
    "start_time": "2023-01-16T09:43:49.940Z"
   },
   {
    "duration": 5,
    "start_time": "2023-01-16T09:43:50.023Z"
   },
   {
    "duration": 42,
    "start_time": "2023-01-16T09:43:50.030Z"
   },
   {
    "duration": 9,
    "start_time": "2023-01-16T09:43:50.074Z"
   },
   {
    "duration": 47,
    "start_time": "2023-01-16T09:43:50.085Z"
   },
   {
    "duration": 25,
    "start_time": "2023-01-16T09:43:50.146Z"
   },
   {
    "duration": 4849,
    "start_time": "2023-01-16T09:43:50.173Z"
   },
   {
    "duration": 398,
    "start_time": "2023-01-16T09:43:55.028Z"
   },
   {
    "duration": 228,
    "start_time": "2023-01-16T09:43:55.428Z"
   },
   {
    "duration": 8,
    "start_time": "2023-01-16T09:43:55.657Z"
   },
   {
    "duration": 5171,
    "start_time": "2023-01-16T09:43:55.666Z"
   },
   {
    "duration": 15,
    "start_time": "2023-01-16T09:44:00.842Z"
   },
   {
    "duration": 13,
    "start_time": "2023-01-16T09:44:00.859Z"
   },
   {
    "duration": 52,
    "start_time": "2023-01-16T09:44:00.874Z"
   },
   {
    "duration": 5129,
    "start_time": "2023-01-16T09:44:00.928Z"
   },
   {
    "duration": 67,
    "start_time": "2023-01-16T09:44:06.059Z"
   },
   {
    "duration": 212,
    "start_time": "2023-01-16T09:44:06.132Z"
   },
   {
    "duration": 119,
    "start_time": "2023-01-16T09:44:06.346Z"
   },
   {
    "duration": 4390,
    "start_time": "2023-01-16T09:44:06.467Z"
   },
   {
    "duration": 4,
    "start_time": "2023-01-16T09:44:10.859Z"
   },
   {
    "duration": 66,
    "start_time": "2023-01-16T09:44:10.864Z"
   },
   {
    "duration": 27,
    "start_time": "2023-01-16T09:44:10.932Z"
   },
   {
    "duration": 664903,
    "start_time": "2023-01-16T09:44:10.961Z"
   },
   {
    "duration": 4,
    "start_time": "2023-01-16T09:55:15.866Z"
   },
   {
    "duration": 9320,
    "start_time": "2023-01-16T09:55:15.872Z"
   },
   {
    "duration": 4582,
    "start_time": "2023-01-16T09:55:25.194Z"
   },
   {
    "duration": 8817,
    "start_time": "2023-01-16T09:55:29.778Z"
   },
   {
    "duration": 2,
    "start_time": "2023-01-16T09:55:38.597Z"
   },
   {
    "duration": 26,
    "start_time": "2023-01-16T09:55:38.601Z"
   },
   {
    "duration": 56,
    "start_time": "2023-01-16T09:55:38.629Z"
   },
   {
    "duration": 10,
    "start_time": "2023-01-16T09:55:38.687Z"
   },
   {
    "duration": 106,
    "start_time": "2023-01-16T09:55:38.728Z"
   },
   {
    "duration": 30,
    "start_time": "2023-01-16T09:55:38.836Z"
   },
   {
    "duration": 8748,
    "start_time": "2023-01-16T09:55:38.868Z"
   },
   {
    "duration": 236,
    "start_time": "2023-01-16T09:55:47.618Z"
   },
   {
    "duration": 4,
    "start_time": "2023-01-16T09:55:47.856Z"
   },
   {
    "duration": 44634,
    "start_time": "2023-01-16T09:55:47.861Z"
   },
   {
    "duration": 229,
    "start_time": "2023-01-16T09:56:32.496Z"
   },
   {
    "duration": 4,
    "start_time": "2023-01-16T09:56:32.728Z"
   },
   {
    "duration": 11,
    "start_time": "2023-01-16T09:56:32.734Z"
   },
   {
    "duration": 19,
    "start_time": "2023-01-16T09:56:32.747Z"
   },
   {
    "duration": 2346,
    "start_time": "2023-01-16T09:56:32.768Z"
   }
  ],
  "kernelspec": {
   "display_name": "Python 3 (ipykernel)",
   "language": "python",
   "name": "python3"
  },
  "language_info": {
   "codemirror_mode": {
    "name": "ipython",
    "version": 3
   },
   "file_extension": ".py",
   "mimetype": "text/x-python",
   "name": "python",
   "nbconvert_exporter": "python",
   "pygments_lexer": "ipython3",
   "version": "3.9.5"
  },
  "toc": {
   "base_numbering": 1,
   "nav_menu": {},
   "number_sections": true,
   "sideBar": true,
   "skip_h1_title": true,
   "title_cell": "Содержание",
   "title_sidebar": "Contents",
   "toc_cell": true,
   "toc_position": {
    "height": "calc(100% - 180px)",
    "left": "10px",
    "top": "150px",
    "width": "409.091px"
   },
   "toc_section_display": true,
   "toc_window_display": true
  }
 },
 "nbformat": 4,
 "nbformat_minor": 2
}
